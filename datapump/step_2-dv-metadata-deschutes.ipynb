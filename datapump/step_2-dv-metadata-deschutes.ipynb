{
 "cells": [
  {
   "cell_type": "markdown",
   "metadata": {},
   "source": [
    "Step 2: Augment database with asset data view and supporting metadata\n",
    "\n",
    "#### For all elements/assets with PIPoints, create a default Data View having as columns all those PIPoints\n",
    "\n",
    "Data View column names are the attribute names in AF, so elements sharing a template have identical Data Views modulo missing streams\n",
    "\n",
    "This notebook also creates specialized Data Views:\n",
    "\n",
    "* Some are subsets of the default Data View, per asset\n",
    "* Others are multi-assets version of the above  \n",
    "\n",
    "#### After running this notebook, the graph has all the necessary information for Step 2: projection of tags/metadata on streams and Data View creation "
   ]
  },
  {
   "cell_type": "code",
   "execution_count": null,
   "metadata": {},
   "outputs": [],
   "source": [
    "from gql import gql, Client\n",
    "from gql.transport.requests import RequestsHTTPTransport\n",
    "import json\n",
    "import urllib3\n",
    "urllib3.disable_warnings(urllib3.exceptions.InsecureRequestWarning)\n",
    "import yaml\n",
    "import pprint\n",
    "from collections import OrderedDict"
   ]
  },
  {
   "cell_type": "markdown",
   "metadata": {},
   "source": [
    "## Input Parameters"
   ]
  },
  {
   "cell_type": "code",
   "execution_count": null,
   "metadata": {
    "tags": [
     "parameters"
    ]
   },
   "outputs": [],
   "source": [
    "config_file = \"config-windfarm.yaml\"  # \n",
    "# config_file = \"config-acad-prod-desc-v2.yaml\""
   ]
  },
  {
   "cell_type": "code",
   "execution_count": null,
   "metadata": {},
   "outputs": [],
   "source": [
    "with open(config_file) as f:\n",
    "    config = yaml.safe_load(f)\n",
    "# config"
   ]
  },
  {
   "cell_type": "code",
   "execution_count": null,
   "metadata": {},
   "outputs": [],
   "source": [
    "# Input parameters\n",
    "\n",
    "database_name = config[\"db\"][\"database_name\"]\n",
    "root_element = config[\"db\"][\"root_element\"]\n",
    "dv_id_prefix = config[\"ocs\"][\"configuration\"][\"asset_db\"]\n",
    "\n",
    "# Each assets in a Hub dataset is endowed with default Data View (DV) \"All_Columns\" having all the asset streams\n",
    "# The next line of code defines a dictionary to build all default (DV)\n",
    "# If <column list> is empty list [], include all streams in Data View\n",
    "dv_defs = {\"Default\": (\"all_columns\", [], lambda id: True)}\n",
    "has_no_dv = lambda id: False\n",
    "\n",
    "\n",
    "# YAML config file may embed additional code to define additional custom dataviews\n",
    "try:\n",
    "    exec(config[\"custom_dvs\"])\n",
    "except:\n",
    "    pass\n",
    "\n",
    "dv_defs"
   ]
  },
  {
   "cell_type": "code",
   "execution_count": null,
   "metadata": {},
   "outputs": [],
   "source": [
    "sample_transport = RequestsHTTPTransport(\n",
    "    url=config[\"neo4j\"][\"graphql\"], verify=False, retries=3\n",
    ")\n",
    "client = Client(transport=sample_transport, fetch_schema_from_transport=True)"
   ]
  },
  {
   "cell_type": "code",
   "execution_count": null,
   "metadata": {},
   "outputs": [],
   "source": [
    "db_query = gql(\n",
    "    \"\"\"\n",
    "query DatabaseId($database: String) {\n",
    "    Database(name: $database) {\n",
    "        name\n",
    "        id\n",
    "        asset_db\n",
    "    }\n",
    "}\n",
    "\"\"\"\n",
    ")\n",
    "print(f\"database_name={database_name}\")\n",
    "db = client.execute(db_query, variable_values={\"database\": database_name})\n",
    "print(json.dumps(db, indent=4))"
   ]
  },
  {
   "cell_type": "code",
   "execution_count": null,
   "metadata": {},
   "outputs": [],
   "source": [
    "db_id = db[\"Database\"][0][\"id\"]\n",
    "asset_db = db[\"Database\"][0][\"asset_db\"]\n",
    "asset_db, db_id"
   ]
  },
  {
   "cell_type": "code",
   "execution_count": null,
   "metadata": {
    "scrolled": true
   },
   "outputs": [],
   "source": [
    "root_query = gql(\n",
    "    \"\"\"\n",
    "query RootElementTree($root : String) {\n",
    "    Element(name: $root) {\n",
    "        name\n",
    "        id\n",
    "        has_element {\n",
    "            name\n",
    "            id\n",
    "            has_dynamic {\n",
    "                  name\n",
    "                  stream_name\n",
    "                  id\n",
    "                  pointsource\n",
    "            }\n",
    "        }\n",
    "    }\n",
    "}\n",
    "\"\"\"\n",
    ")\n",
    "j = client.execute(root_query, variable_values={\"root\": root_element})\n",
    "print(json.dumps(j, indent=4))"
   ]
  },
  {
   "cell_type": "code",
   "execution_count": null,
   "metadata": {
    "scrolled": true
   },
   "outputs": [],
   "source": [
    "elements = j[\"Element\"][0][\"has_element\"] \n",
    "len(elements), elements"
   ]
  },
  {
   "cell_type": "code",
   "execution_count": null,
   "metadata": {
    "scrolled": true
   },
   "outputs": [],
   "source": [
    "all_elements = elements\n",
    "for element in elements:\n",
    "    j = client.execute(root_query, variable_values={\"root\": element[\"name\"]})\n",
    "    all_elements += j[\"Element\"][0][\"has_element\"] \n",
    "all_elements"
   ]
  },
  {
   "cell_type": "code",
   "execution_count": null,
   "metadata": {
    "scrolled": true
   },
   "outputs": [],
   "source": [
    "len(all_elements), all_elements"
   ]
  },
  {
   "cell_type": "code",
   "execution_count": null,
   "metadata": {
    "scrolled": true
   },
   "outputs": [],
   "source": [
    "elements = all_elements\n",
    "len(elements), elements"
   ]
  },
  {
   "cell_type": "code",
   "execution_count": null,
   "metadata": {
    "scrolled": true
   },
   "outputs": [],
   "source": [
    "len(set([i[\"name\"] for i in elements]))"
   ]
  },
  {
   "cell_type": "code",
   "execution_count": null,
   "metadata": {
    "scrolled": true
   },
   "outputs": [],
   "source": [
    "d = {}\n",
    "for e in elements:\n",
    "    d[e[\"name\"]] = e\n",
    "d.keys()"
   ]
  },
  {
   "cell_type": "code",
   "execution_count": null,
   "metadata": {
    "scrolled": true
   },
   "outputs": [],
   "source": [
    "elements = [d[i] for i in sorted([i for i in d])]\n",
    "elements"
   ]
  },
  {
   "cell_type": "code",
   "execution_count": null,
   "metadata": {
    "scrolled": true
   },
   "outputs": [],
   "source": [
    "elements_info = [\n",
    "    (\n",
    "        elements[i][\"name\"],\n",
    "        elements[i][\"id\"],\n",
    "        [\n",
    "            j for j in elements[i][\"has_dynamic\"] if j[\"pointsource\"] != \"AZURE\"\n",
    "        ],  # remove future tag\n",
    "    )\n",
    "    for i in range(len(elements))\n",
    "    if len(elements[i][\"has_dynamic\"]) > 0\n",
    "]\n",
    "elements_info"
   ]
  },
  {
   "cell_type": "code",
   "execution_count": null,
   "metadata": {
    "scrolled": true
   },
   "outputs": [],
   "source": [
    "for element, element_id, _ in elements_info:\n",
    "    mutation = gql(\n",
    "        \"\"\"\n",
    "mutation AssetWithDataView($from: _DatabaseInput!, $to: _ElementInput!) {\n",
    "    MergeDatabaseAsset_with_dv(\n",
    "        from: $from,\n",
    "        to: $to\n",
    "    ) {\n",
    "        from {\n",
    "            name\n",
    "        }\n",
    "        to {\n",
    "            name\n",
    "        }\n",
    "    }\n",
    "}\n",
    "\"\"\"\n",
    "    )\n",
    "    # pprint.pprint(mutation)\n",
    "    reply = client.execute(\n",
    "        mutation, variable_values={\"from\": {\"id\": db_id}, \"to\": {\"id\": element_id}}\n",
    "    )\n",
    "    print(json.dumps(reply, indent=4))"
   ]
  },
  {
   "cell_type": "code",
   "execution_count": null,
   "metadata": {
    "scrolled": true
   },
   "outputs": [],
   "source": [
    "def dataview_streams_transaction(dv_id, dv_streams):\n",
    "    if len(dv_streams) == 0:\n",
    "        print(f\"@@ dv_id={dv_id}\")\n",
    "        return \n",
    "    mutations = []\n",
    "    for i, stream in enumerate(dv_streams):\n",
    "        stream_mutation = \"\"\"\n",
    "stream{0}: \n",
    "    AddDataViewHas_stream(\n",
    "        from: {{id: \"{1}\" }}\n",
    "        to: {{id: \"{2}\" }}\n",
    "    ) {{\n",
    "        from {{\n",
    "            name\n",
    "        }}\n",
    "        to {{\n",
    "            name\n",
    "        }}\n",
    "    }}   \n",
    "    \"\"\".format(\n",
    "            i, dv_id, stream[\"id\"]\n",
    "        )\n",
    "        # print(\"mutation\", i, stream_mutation)\n",
    "        mutations.append(stream_mutation)\n",
    "\n",
    "    dv_stream_mutation = gql(\n",
    "        \"mutation dataview_streams {\\n\" + \"\".join(mutations) + \"\\n}\"\n",
    "    )\n",
    "\n",
    "    reply = client.execute(dv_stream_mutation)\n",
    "    print(f\"[add-dv-streams: {dv_id} ({len(json.dumps(reply, indent=4))})]\", end=\"\")"
   ]
  },
  {
   "cell_type": "code",
   "execution_count": null,
   "metadata": {},
   "outputs": [],
   "source": [
    "mutation_dv_node = gql(\n",
    "    \"\"\"\n",
    "mutation AssetDataView($asset_db: String!, $asset_id: [String]!, $columns: String!, $description: String, $id: ID!, $name: String!, $ocs_tag: String!) {\n",
    "    MergeDataView(\n",
    "        asset_db: $asset_db\n",
    "        asset_id: $asset_id\n",
    "        id: $id\n",
    "        columns: $columns \n",
    "        description: $description\n",
    "        name: $name\n",
    "        ocs_sync: false\n",
    "        ocs_tag: $ocs_tag\n",
    "    ) {\n",
    "        name\n",
    "        id \n",
    "    }\n",
    "}\n",
    "    \"\"\"\n",
    ")\n",
    "\n",
    "\n",
    "mutation_dv_rel = gql(\n",
    "    \"\"\"\n",
    "mutation ElementDataView($from: _ElementInput!, $to: _DataViewInput!) {\n",
    "    AddElementHas_dataview(\n",
    "        from: $from\n",
    "        to: $to\n",
    "    ) {\n",
    "        from {\n",
    "            name\n",
    "        }\n",
    "        to {\n",
    "            name\n",
    "            id\n",
    "        }\n",
    "    }\n",
    "}\n",
    "    \"\"\"\n",
    ")\n",
    "\n",
    "def dataview_id(asset_ids, ocs_tag, multiple=None):\n",
    "    dv_asset = (\n",
    "        multiple\n",
    "        if len(asset_ids) > 1\n",
    "        else asset_ids[0].lower().replace(\" \", \".\").replace(\"/\", \"__\")\n",
    "    )\n",
    "    dv_id = f\"{dv_id_prefix}-{dv_asset}\"\n",
    "    if ocs_tag != \"all_columns\":\n",
    "        dv_id = f\"{dv_id}-{ocs_tag}\"\n",
    "    return dv_id \n",
    "\n",
    "def create_asset_dataview(\n",
    "    dv_name, asset_ids, elem_ids, all_streams, ocs_tag, columns, multiple=None\n",
    "):\n",
    "    dv_id = dataview_id(asset_ids, ocs_tag, multiple)\n",
    "    asset_desc = (\n",
    "        f\"Asset {asset_ids[0]}\" if len(asset_ids) == 1 else f\"Assets {multiple.upper()}\"\n",
    "    )\n",
    "    reply_node = client.execute(\n",
    "        mutation_dv_node,\n",
    "        variable_values={\n",
    "            \"asset_db\": asset_db,\n",
    "            \"asset_id\": asset_ids,\n",
    "            \"columns\": str(sorted(columns))\n",
    "            if len(columns) > 0\n",
    "            else str(sorted(set([s[\"name\"] for s in all_streams]))),\n",
    "            \"description\": f\"Hub DV for {asset_desc} - {dv_name}\",\n",
    "            \"id\": dv_id,\n",
    "            \"name\": dv_name,\n",
    "            \"ocs_tag\": ocs_tag,\n",
    "        },\n",
    "    )\n",
    "\n",
    "    for elem_id in elem_ids:\n",
    "        reply_rel = client.execute(\n",
    "            mutation_dv_rel,\n",
    "            variable_values={\"from\": {\"id\": elem_id}, \"to\": {\"id\": dv_id}},\n",
    "        )\n",
    "        # print(json.dumps(reply_rel, indent=4))\n",
    "\n",
    "    if len(columns) == 0:\n",
    "        dv_streams = all_streams\n",
    "    else:\n",
    "        dv_streams = [s for s in all_streams if s[\"name\"] in columns]\n",
    "\n",
    "    dataview_streams_transaction(dv_id, dv_streams)\n",
    "\n",
    "element_ids = {}\n",
    "\n",
    "for dv_name in dv_defs.keys():\n",
    "    print(f\"dv_name={dv_name}\")\n",
    "    ocs_tag, columns, has_custom_dv = dv_defs[dv_name]\n",
    "    for asset_id, elem_id, all_streams in elements_info:\n",
    "        if has_no_dv(asset_id):\n",
    "            continue\n",
    "        element_ids[asset_id] = elem_id\n",
    "        # no specialized data view except for fermenter vessels\n",
    "        if len(columns) > 0 and not has_custom_dv(asset_id):\n",
    "            continue\n",
    "    # print(dv_name, [asset_id], all_streams, ocs_tag, columns)\n",
    "        create_asset_dataview(\n",
    "            dv_name, [asset_id], [elem_id], all_streams, ocs_tag, columns\n",
    "        )"
   ]
  },
  {
   "cell_type": "code",
   "execution_count": null,
   "metadata": {},
   "outputs": [],
   "source": [
    "def extract_columns(asset_ids, ocs_tag):\n",
    "    query = gql(\n",
    "        \"\"\"\n",
    "    query DataView($id: ID!) {\n",
    "        DataView(id: $id) {\n",
    "            columns\n",
    "      }  \n",
    "    }\n",
    "    \"\"\"\n",
    "    )\n",
    "    reply = client.execute(\n",
    "        query, variable_values={\"id\": dataview_id([asset_ids[0]], ocs_tag)}\n",
    "    )\n",
    "    # print(dataview_id([asset_ids[0]], ocs_tag), reply[\"DataView\"][0][\"columns\"])\n",
    "    return sorted(\n",
    "        [\n",
    "            i.strip()\n",
    "            for i in reply[\"DataView\"][0][\"columns\"][1:-1].replace(\"'\", \"\").split(\",\")\n",
    "        ]\n",
    "    )\n",
    "\n",
    "\n",
    "multi_asset_dvs = []\n",
    "try:\n",
    "    exec(config[\"multi_asset_dvs\"])\n",
    "except:\n",
    "    pass\n",
    "print(config[\"multi_asset_dvs\"])\n",
    "\n",
    "for asset_ids, dv_suffix in multi_asset_dvs:\n",
    "    for dv_name in dv_defs.keys():\n",
    "        ocs_tag, columns, has_custom_dv = dv_defs[dv_name]\n",
    "        if len(columns) == 0:\n",
    "            columns = extract_columns(asset_ids, ocs_tag)\n",
    "        elem_ids = [element_ids[i] for i in asset_ids]\n",
    "        create_asset_dataview(\n",
    "            dv_name + \"+\", asset_ids, elem_ids, [], ocs_tag, columns, multiple=dv_suffix\n",
    "        )"
   ]
  },
  {
   "cell_type": "markdown",
   "metadata": {},
   "source": [
    "### Asset metadata gathering and update, plus geo-data if applicable"
   ]
  },
  {
   "cell_type": "code",
   "execution_count": null,
   "metadata": {},
   "outputs": [],
   "source": [
    "meta_query = gql(\n",
    "    \"\"\"\n",
    "{\n",
    "  Database(name: \"WindFarm\") {\n",
    "    asset_with_dv(orderBy: name_asc) {\n",
    "      name\n",
    "      id\n",
    "      has_attribute(orderBy: name_asc) {\n",
    "        name\n",
    "        value\n",
    "        type\n",
    "      }\n",
    "    }\n",
    "  }\n",
    "}\n",
    "\"\"\"\n",
    ")\n",
    "result = client.execute(meta_query)\n",
    "\n"
   ]
  },
  {
   "cell_type": "code",
   "execution_count": null,
   "metadata": {},
   "outputs": [],
   "source": [
    "def convert2value(s, vtype):\n",
    "    if vtype == \"Double\":\n",
    "        return float(s)\n",
    "    else:\n",
    "        return str(s)\n",
    "\n",
    "\n",
    "def extract_meta(js, sub=False):\n",
    "    j = js[\"has_attribute\"]\n",
    "    prefix = \"\" if not sub else (js[\"name\"].lower() + \".\")\n",
    "    return {f\"{prefix}{k['name']}\": convert2value(k[\"value\"], k[\"type\"]) for k in j}"
   ]
  },
  {
   "cell_type": "code",
   "execution_count": null,
   "metadata": {},
   "outputs": [],
   "source": [
    "# test\n",
    "d = extract_meta(result[\"Database\"][0][\"asset_with_dv\"][0])\n",
    "d"
   ]
  },
  {
   "cell_type": "code",
   "execution_count": null,
   "metadata": {},
   "outputs": [],
   "source": [
    "meta_mutation = gql(\n",
    "    \"\"\"\n",
    "mutation UpdateMeta($id: ID!, $meta: String) {\n",
    "  MergeElement(id: $id, asset_metadata: $meta) {\n",
    "    id\n",
    "    name\n",
    "    asset_metadata\n",
    "  }\n",
    "}\n",
    "\"\"\"\n",
    ")\n",
    "\n",
    "geo_mutation = gql(\n",
    "    \"\"\"\n",
    "mutation UpdateGeo($id: ID!, $lat: Float, $long: Float)  {\n",
    "    MergeElement(id: $id, latitude: $lat, longitude: $long, location: {latitude: $lat, longitude: $long}) {\n",
    "        name\n",
    "        id\n",
    "        latitude\n",
    "        longitude\n",
    "        location {\n",
    "            latitude\n",
    "            longitude\n",
    "        }\n",
    "    }\n",
    "}    \n",
    "\"\"\"\n",
    ")\n",
    "\n",
    "\n",
    "def update_meta(wid, meta):\n",
    "    result = client.execute(\n",
    "        meta_mutation, variable_values={\"id\": wid, \"meta\": str(meta)}\n",
    "    )\n",
    "    return result\n",
    "\n",
    "\n",
    "def update_geo(wid, lat, long):\n",
    "    result = client.execute(\n",
    "        geo_mutation, variable_values={\"id\": wid, \"lat\": lat, \"long\": long}\n",
    "    )\n",
    "    return result"
   ]
  },
  {
   "cell_type": "code",
   "execution_count": null,
   "metadata": {},
   "outputs": [],
   "source": [
    "nb = len(result[\"Database\"][0][\"asset_with_dv\"])\n",
    "for i in range(nb):\n",
    "    dai = result[\"Database\"][0][\"asset_with_dv\"][i]\n",
    "    d = extract_meta(dai)\n",
    "    for j in range(len(dai.get(\"has_element\", []))):\n",
    "        d.update(extract_meta(dai[\"has_element\"][j], True))\n",
    "    print(dai[\"name\"], dai[\"id\"], d)\n",
    "    update_meta(dai[\"id\"], d)\n",
    "    if config[\"neo4j\"].get(\"has_geodata\", False):\n",
    "        update_geo(dai[\"id\"], d.get(\"Latitude\", 0.0), d.get(\"Longitude\", 0.0))"
   ]
  },
  {
   "cell_type": "code",
   "execution_count": null,
   "metadata": {},
   "outputs": [],
   "source": [
    "\n",
    "    "
   ]
  }
 ],
 "metadata": {
  "kernelspec": {
   "display_name": "Python 3",
   "language": "python",
   "name": "python3"
  },
  "language_info": {
   "codemirror_mode": {
    "name": "ipython",
    "version": 3
   },
   "file_extension": ".py",
   "mimetype": "text/x-python",
   "name": "python",
   "nbconvert_exporter": "python",
   "pygments_lexer": "ipython3",
   "version": "3.7.6"
  }
 },
 "nbformat": 4,
 "nbformat_minor": 4
}
