{
 "cells": [
  {
   "cell_type": "markdown",
   "metadata": {},
   "source": [
    "# Step 3: gather asset metadata - UC Davis Campus Energy\n",
    "\n",
    "**GraphQL -> python module**"
   ]
  },
  {
   "cell_type": "code",
   "execution_count": null,
   "metadata": {},
   "outputs": [],
   "source": [
    "from gql import gql, Client\n",
    "from gql.transport.requests import RequestsHTTPTransport\n",
    "import urllib3\n",
    "\n",
    "# Neo4J graph database\n",
    "import py2neo \n",
    "from py2neo import Graph\n",
    "from py2neo import Node, Relationship\n",
    "\n",
    "import yaml\n",
    "\n",
    "urllib3.disable_warnings(urllib3.exceptions.InsecureRequestWarning)"
   ]
  },
  {
   "cell_type": "code",
   "execution_count": null,
   "metadata": {
    "tags": [
     "parameters"
    ]
   },
   "outputs": [],
   "source": [
    "# config_file = \"config-windfarm.yaml\"  # \"config-acad-prod-desc-v2.yaml\"\n",
    "config_file = \"config-prod-ucd-v2.yaml\""
   ]
  },
  {
   "cell_type": "code",
   "execution_count": null,
   "metadata": {},
   "outputs": [],
   "source": [
    "with open(config_file) as f:\n",
    "    config = yaml.safe_load(f)\n",
    "config"
   ]
  },
  {
   "cell_type": "code",
   "execution_count": null,
   "metadata": {
    "scrolled": true
   },
   "outputs": [],
   "source": [
    "# dv = build_dv(\"FV31\", \"all_columns\", \"Default\")\n",
    "# print(json.dumps(dv, indent=2))"
   ]
  },
  {
   "cell_type": "code",
   "execution_count": null,
   "metadata": {},
   "outputs": [],
   "source": [
    "graph = Graph(\n",
    "    config[\"neo4j\"][\"host\"],\n",
    "    auth=(config[\"neo4j\"][\"user\"], config[\"neo4j\"][\"password\"]),\n",
    "    name=config[\"neo4j\"][\"database\"],\n",
    ")"
   ]
  },
  {
   "cell_type": "code",
   "execution_count": null,
   "metadata": {
    "scrolled": true
   },
   "outputs": [],
   "source": [
    "sample_transport = RequestsHTTPTransport(\n",
    "    url=\"https://data.academic.osisoft.com/hubgraphql\", verify=False, retries=3\n",
    ")\n",
    "client = Client(transport=sample_transport, fetch_schema_from_transport=True)"
   ]
  },
  {
   "cell_type": "raw",
   "metadata": {},
   "source": [
    "wid_query = gql(\n",
    "\"\"\"\n",
    "{\n",
    "  Database(name: \"Campus_Facility\") {\n",
    "    asset_with_dv(orderBy: name_asc) {\n",
    "      name\n",
    "      id\n",
    "    }\n",
    "  }\n",
    "}\n",
    "\"\"\"\n",
    ")\n",
    "\n",
    "r = client.execute(wid_query)\n",
    "r"
   ]
  },
  {
   "cell_type": "raw",
   "metadata": {},
   "source": [
    "for j, i in enumerate(r[\"Database\"][0][\"asset_with_dv\"]):\n",
    "    if j == 0:\n",
    "        continue\n",
    "    name = i[\"name\"]\n",
    "    s = graph.run(\n",
    "        f\"match (e:Element) where e.name = '{name}' set e.id = '{i['id']}' return e.name, e.id\"\n",
    "    ).data()\n",
    "    print(s)"
   ]
  },
  {
   "cell_type": "code",
   "execution_count": null,
   "metadata": {
    "scrolled": true
   },
   "outputs": [],
   "source": [
    "meta_query = gql(\n",
    "    \"\"\"\n",
    "{\n",
    "  Database(name: \"Campus_Energy\") {\n",
    "    asset_with_dv(orderBy: name_asc) {\n",
    "      name\n",
    "      id\n",
    "      has_attribute(filter: { hub_meta: true }, orderBy: name_asc) {\n",
    "        name\n",
    "        value\n",
    "      }\n",
    "      has_element(\n",
    "        orderBy: name_asc\n",
    "        filter: {\n",
    "          OR: [\n",
    "            { name: \"Electricity\" }\n",
    "            { name: \"ChilledWater\" }\n",
    "            { name: \"Steam\" }\n",
    "          ]\n",
    "        }\n",
    "      ) {\n",
    "        name\n",
    "        has_attribute(filter: { hub_meta: true }, orderBy: name_asc) {\n",
    "          name\n",
    "          value\n",
    "        }\n",
    "      }\n",
    "    }\n",
    "  }\n",
    "}\n",
    "\"\"\"\n",
    ")\n",
    "result = client.execute(meta_query)"
   ]
  },
  {
   "cell_type": "code",
   "execution_count": null,
   "metadata": {
    "scrolled": true
   },
   "outputs": [],
   "source": [
    "result"
   ]
  },
  {
   "cell_type": "code",
   "execution_count": null,
   "metadata": {},
   "outputs": [],
   "source": [
    "result[\"Database\"][0][\"asset_with_dv\"][0]"
   ]
  },
  {
   "cell_type": "code",
   "execution_count": null,
   "metadata": {},
   "outputs": [],
   "source": [
    "def convert2value(s):\n",
    "    if \".\" in s:\n",
    "        try:\n",
    "            return(float(s))\n",
    "        except:\n",
    "            pass\n",
    "    try:\n",
    "        return(int(s))\n",
    "    except:\n",
    "        return s"
   ]
  },
  {
   "cell_type": "code",
   "execution_count": null,
   "metadata": {},
   "outputs": [],
   "source": [
    "convert2value(\"    1.\")"
   ]
  },
  {
   "cell_type": "code",
   "execution_count": null,
   "metadata": {},
   "outputs": [],
   "source": [
    "def extract_meta(js, sub=False):\n",
    "    j = js[\"has_attribute\"]\n",
    "    prefix = \"\" if not sub else (js[\"name\"].lower() + \".\")\n",
    "    return {f\"{prefix}{k['name']}\": convert2value(k[\"value\"]) for k in j}"
   ]
  },
  {
   "cell_type": "code",
   "execution_count": null,
   "metadata": {},
   "outputs": [],
   "source": [
    "d = extract_meta(result[\"Database\"][0][\"asset_with_dv\"][0])\n",
    "d"
   ]
  },
  {
   "cell_type": "code",
   "execution_count": null,
   "metadata": {},
   "outputs": [],
   "source": [
    "d.update(extract_meta(result[\"Database\"][0][\"asset_with_dv\"][0]['has_element'][0], True))"
   ]
  },
  {
   "cell_type": "code",
   "execution_count": null,
   "metadata": {},
   "outputs": [],
   "source": [
    "len(result[\"Database\"][0][\"asset_with_dv\"])"
   ]
  },
  {
   "cell_type": "code",
   "execution_count": null,
   "metadata": {},
   "outputs": [],
   "source": [
    "meta_mutation = gql(\n",
    "    \"\"\"\n",
    "mutation UpdateMeta($id: ID!, $meta: String) {\n",
    "  MergeElement(id: $id, hub_metadata: $meta) {\n",
    "    id\n",
    "    name\n",
    "    hub_metadata\n",
    "  }\n",
    "}\n",
    "\"\"\"\n",
    ")\n",
    "\n",
    "element_query = gql(\n",
    "    \"\"\"\n",
    "query ElementById($id: ID!) { \n",
    "  Element(id: $id) {\n",
    "    id\n",
    "    af_template\n",
    "    asset_db\n",
    "    name\n",
    "  }\n",
    "}\n",
    "\"\"\"\n",
    ")\n",
    "\n",
    "\n",
    "def update_meta(wid, meta):\n",
    "    result = client.execute(\n",
    "        meta_mutation, variable_values={\"id\": wid, \"meta\": str(meta)}\n",
    "    )\n",
    "    return result\n",
    "\n",
    "\n",
    "def element_by_id(wid):\n",
    "    result = client.execute(element_query, variable_values={\"id\": wid})\n",
    "    return result"
   ]
  },
  {
   "cell_type": "code",
   "execution_count": null,
   "metadata": {},
   "outputs": [],
   "source": [
    "element_by_id(\"F1EmzO41BZK4DE21ZU4Yk9YqRQHcG0pq6i5xGpRwANOjB-OwVU5JLVBJQUYtVk0wXFVDIERBVklTXFVDIERBVklTXEJVSUxESU5HU1xBUkMgUEFWSUxJT04\")"
   ]
  },
  {
   "cell_type": "code",
   "execution_count": null,
   "metadata": {
    "scrolled": true
   },
   "outputs": [],
   "source": [
    "nb = len(result[\"Database\"][0][\"asset_with_dv\"])\n",
    "for i in range(nb):\n",
    "    dai = result[\"Database\"][0][\"asset_with_dv\"][i]\n",
    "    d = extract_meta(dai)\n",
    "    for j in range(len(dai[\"has_element\"])):\n",
    "        d.update(extract_meta(dai[\"has_element\"][j], True))\n",
    "    r = element_by_id(dai[\"id\"])\n",
    "    print(dai[\"name\"], dai[\"id\"], d)\n",
    "    # update_meta(dai[\"id\"], d, r[\"Element\"][0])\n",
    "    gr = graph.run(\n",
    "        f\"match (e:Element) where e.id='{dai['id']}' set e.hub_metadata=\\\"{str(d)}\\\" return e\"\n",
    "    ).data()"
   ]
  },
  {
   "cell_type": "code",
   "execution_count": null,
   "metadata": {},
   "outputs": [],
   "source": []
  }
 ],
 "metadata": {
  "kernelspec": {
   "display_name": "Python 3",
   "language": "python",
   "name": "python3"
  },
  "language_info": {
   "codemirror_mode": {
    "name": "ipython",
    "version": 3
   },
   "file_extension": ".py",
   "mimetype": "text/x-python",
   "name": "python",
   "nbconvert_exporter": "python",
   "pygments_lexer": "ipython3",
   "version": "3.7.6"
  }
 },
 "nbformat": 4,
 "nbformat_minor": 4
}
