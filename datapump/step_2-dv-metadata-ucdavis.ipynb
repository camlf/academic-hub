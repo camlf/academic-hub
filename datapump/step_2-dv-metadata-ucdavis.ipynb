{
 "cells": [
  {
   "cell_type": "markdown",
   "metadata": {},
   "source": [
    "## Step 2: Augment database with asset data view and supporting metadata\n",
    "\n",
    "#### NOTE: at this stage, only GraphQL is used to query and modify graph data\n",
    "\n",
    "#### For all elements/assets with PIPoints, create a default Data View having as columns all those PIPoints\n",
    "\n",
    "Data View column names are the attribute names in AF, so elements sharing a template have identical Data Views\n",
    "\n",
    "This notebook also creates specialized Data Views:\n",
    "\n",
    "* Some are subsets of the default Data View, per asset\n",
    "* Others are multi-asset versions of the above  \n",
    "\n",
    "#### After running this notebook, the graph has all the necessary information for Step 2: projection of tags/metadata on streams and Data View creation "
   ]
  },
  {
   "cell_type": "code",
   "execution_count": null,
   "metadata": {},
   "outputs": [],
   "source": [
    "from gql import gql, Client\n",
    "from gql.transport.requests import RequestsHTTPTransport\n",
    "import json\n",
    "import urllib3\n",
    "urllib3.disable_warnings(urllib3.exceptions.InsecureRequestWarning)\n",
    "import yaml\n",
    "import pprint\n",
    "from collections import OrderedDict\n",
    "import re"
   ]
  },
  {
   "cell_type": "markdown",
   "metadata": {},
   "source": [
    "## Input Parameters"
   ]
  },
  {
   "cell_type": "code",
   "execution_count": null,
   "metadata": {
    "tags": [
     "parameters"
    ]
   },
   "outputs": [],
   "source": [
    "config_file = \"config-prod-ucd-v2.yaml\"\n",
    "# config_file = \"config-windfarm.yaml\"  #\n",
    "# config_file = \"config-acad-prod-desc-v2.yaml\""
   ]
  },
  {
   "cell_type": "code",
   "execution_count": null,
   "metadata": {},
   "outputs": [],
   "source": [
    "with open(config_file) as f:\n",
    "    config = yaml.safe_load(f)\n",
    "config"
   ]
  },
  {
   "cell_type": "code",
   "execution_count": null,
   "metadata": {},
   "outputs": [],
   "source": [
    "# Input parameters\n",
    "\n",
    "database_name = config[\"db\"][\"database_name\"]\n",
    "root_element = config[\"db\"][\"root_element\"]\n",
    "dv_id_prefix = config[\"ocs\"][\"configuration\"][\"asset_db\"]\n",
    "\n",
    "# Each assets in a Hub dataset is endowed with default Data View (DV) \"All_Columns\" having all the asset streams\n",
    "# The next line of code defines a dictionary to build all default (DV)\n",
    "# If <column list> is empty list [], include all streams in Data View\n",
    "dv_defs = {\"Default\": (\"all_columns\", [], lambda id: True)}\n",
    "has_no_dv = lambda id: False\n",
    "\n",
    "\n",
    "# YAML config file may embed additional code to define additional custom dataviews\n",
    "try:\n",
    "    exec(config[\"custom_dvs\"])\n",
    "except:\n",
    "    pass\n",
    "\n",
    "dv_elements = list(dv_defs.keys())\n",
    "\n",
    "dv_elements, dv_defs"
   ]
  },
  {
   "cell_type": "code",
   "execution_count": null,
   "metadata": {},
   "outputs": [],
   "source": [
    "sample_transport = RequestsHTTPTransport(\n",
    "    url=config[\"neo4j\"][\"graphql\"], verify=False, retries=3\n",
    ")\n",
    "client = Client(transport=sample_transport, fetch_schema_from_transport=True)"
   ]
  },
  {
   "cell_type": "code",
   "execution_count": null,
   "metadata": {},
   "outputs": [],
   "source": [
    "def convert(camel_input):\n",
    "    words = re.findall(r\"[A-Z]?[a-z]+|[A-Z]{2,}(?=[A-Z][a-z]|\\d|\\W|$)|\\d+\", camel_input)\n",
    "    return \"_\".join(map(str.lower, words))"
   ]
  },
  {
   "cell_type": "code",
   "execution_count": null,
   "metadata": {},
   "outputs": [],
   "source": [
    "db_query = gql(\n",
    "    \"\"\"\n",
    "query DatabaseId($database: String) {\n",
    "    Database(name: $database) {\n",
    "        name\n",
    "        id\n",
    "        asset_db\n",
    "    }\n",
    "}\n",
    "\"\"\"\n",
    ")\n",
    "print(f\"database_name={database_name}\")\n",
    "db = client.execute(db_query, variable_values={\"database\": database_name})\n",
    "print(json.dumps(db, indent=4))"
   ]
  },
  {
   "cell_type": "code",
   "execution_count": null,
   "metadata": {},
   "outputs": [],
   "source": [
    "db_id = db[\"Database\"][0][\"id\"]\n",
    "asset_db = db[\"Database\"][0][\"asset_db\"]\n",
    "asset_db, db_id"
   ]
  },
  {
   "cell_type": "code",
   "execution_count": null,
   "metadata": {
    "scrolled": true
   },
   "outputs": [],
   "source": [
    "elements = []\n",
    "\n",
    "root_query = gql(\n",
    "    \"\"\"\n",
    "query RootElementTree($root : String) {\n",
    "    Element(name: $root) {\n",
    "        name\n",
    "        id\n",
    "        has_parent {\n",
    "            name\n",
    "            id\n",
    "        }\n",
    "        has_dynamic {\n",
    "            name\n",
    "            stream_name\n",
    "            id\n",
    "            pointsource\n",
    "        }\n",
    "    }\n",
    "}\n",
    "\"\"\"\n",
    ")\n",
    "for elem in dv_elements:\n",
    "    j = client.execute(root_query, variable_values={\"root\": elem})\n",
    "    # print(json.dumps(j, indent=4))\n",
    "    elements.extend(j[\"Element\"])\n",
    "\n",
    "len(elements), elements"
   ]
  },
  {
   "cell_type": "code",
   "execution_count": null,
   "metadata": {
    "scrolled": true
   },
   "outputs": [],
   "source": [
    "elements_info = [\n",
    "    (\n",
    "        elements[i][\"has_parent\"][0][\"name\"],\n",
    "        elements[i][\"has_parent\"][0][\"id\"],\n",
    "        [\n",
    "            j for j in elements[i][\"has_dynamic\"] if j[\"pointsource\"] != \"AZURE\"\n",
    "        ],  # remove future tag\n",
    "        elements[i][\"name\"],\n",
    "    )\n",
    "    for i in range(len(elements))\n",
    "    if len(elements[i][\"has_dynamic\"]) > 0\n",
    "]\n",
    "len(elements_info), elements_info"
   ]
  },
  {
   "cell_type": "code",
   "execution_count": null,
   "metadata": {
    "scrolled": true
   },
   "outputs": [],
   "source": [
    "for _, element_id, _, _ in elements_info:\n",
    "    mutation = gql(\n",
    "        \"\"\"\n",
    "mutation AssetWithDataView($from: _DatabaseInput!, $to: _ElementInput!) {\n",
    "    MergeDatabaseAsset_with_dv(\n",
    "        from: $from,\n",
    "        to: $to\n",
    "    ) {\n",
    "        from {\n",
    "            name\n",
    "        }\n",
    "        to {\n",
    "            name\n",
    "        }\n",
    "    }\n",
    "}\n",
    "\"\"\"\n",
    "    )\n",
    "    # pprint.pprint(mutation)\n",
    "    reply = client.execute(\n",
    "        mutation, variable_values={\"from\": {\"id\": db_id}, \"to\": {\"id\": element_id}}\n",
    "    )\n",
    "    print(json.dumps(reply, indent=4))"
   ]
  },
  {
   "cell_type": "code",
   "execution_count": null,
   "metadata": {
    "scrolled": true
   },
   "outputs": [],
   "source": [
    "def dataview_streams_transaction(dv_id, dv_streams):\n",
    "    if len(dv_streams) == 0:\n",
    "        print(f\"@@ dv_id={dv_id}\")\n",
    "        return \n",
    "    mutations = []\n",
    "    for i, stream in enumerate(dv_streams):\n",
    "        stream_mutation = \"\"\"\n",
    "stream{0}: \n",
    "    AddDataViewHas_stream(\n",
    "        from: {{id: \"{1}\" }}\n",
    "        to: {{id: \"{2}\" }}\n",
    "    ) {{\n",
    "        from {{\n",
    "            name\n",
    "        }}\n",
    "        to {{\n",
    "            name\n",
    "        }}\n",
    "    }}   \n",
    "    \"\"\".format(\n",
    "            i, dv_id, stream[\"id\"]\n",
    "        )\n",
    "        # print(\"mutation\", i, stream_mutation)\n",
    "        mutations.append(stream_mutation)\n",
    "\n",
    "    dv_stream_mutation = gql(\n",
    "        \"mutation dataview_streams {\\n\" + \"\".join(mutations) + \"\\n}\"\n",
    "    )\n",
    "\n",
    "    reply = client.execute(dv_stream_mutation)\n",
    "    print(f\"[add-dv-streams: {dv_id} ({len(json.dumps(reply, indent=4))})]\")"
   ]
  },
  {
   "cell_type": "code",
   "execution_count": null,
   "metadata": {},
   "outputs": [],
   "source": [
    "mutation_dv_node = gql(\n",
    "    \"\"\"\n",
    "mutation AssetDataView($asset_db: String!, $asset_id: [String]!, $columns: String!, $description: String, $id: ID!, $name: String!, $ocs_tag: String!) {\n",
    "    MergeDataView(\n",
    "        asset_db: $asset_db\n",
    "        asset_id: $asset_id\n",
    "        id: $id\n",
    "        columns: $columns \n",
    "        description: $description\n",
    "        name: $name\n",
    "        ocs_sync: false\n",
    "        ocs_tag: $ocs_tag\n",
    "    ) {\n",
    "        name\n",
    "        id \n",
    "    }\n",
    "}\n",
    "    \"\"\"\n",
    ")\n",
    "\n",
    "\n",
    "mutation_dv_rel = gql(\n",
    "    \"\"\"\n",
    "mutation ElementDataView($from: _ElementInput!, $to: _DataViewInput!) {\n",
    "    AddElementHas_dataview(\n",
    "        from: $from\n",
    "        to: $to\n",
    "    ) {\n",
    "        from {\n",
    "            name\n",
    "        }\n",
    "        to {\n",
    "            name\n",
    "            id\n",
    "        }\n",
    "    }\n",
    "}\n",
    "    \"\"\"\n",
    ")\n",
    "\n",
    "\n",
    "def dataview_id(asset_ids, ocs_tag, multiple=None):\n",
    "    dv_asset = (\n",
    "        multiple\n",
    "        if len(asset_ids) > 1\n",
    "        else asset_ids[0].lower().replace(\" \", \".\").replace(\"/\", \"__\")\n",
    "    )\n",
    "    dv_id = f\"{dv_id_prefix}-{convert(dv_asset)}\"\n",
    "    if ocs_tag != \"all_columns\":\n",
    "        dv_id = f\"{dv_id}-{ocs_tag}\"\n",
    "    return dv_id\n",
    "\n",
    "\n",
    "def create_asset_dataview(\n",
    "    dv_name, asset_ids, elem_ids, all_streams, ocs_tag, columns, multiple=None\n",
    "):\n",
    "    dv_id = dataview_id(asset_ids, ocs_tag, multiple)\n",
    "    asset_desc = (\n",
    "        f\"Asset {asset_ids[0]}\" if len(asset_ids) == 1 else f\"Assets {multiple.upper()}\"\n",
    "    )\n",
    "    reply_node = client.execute(\n",
    "        mutation_dv_node,\n",
    "        variable_values={\n",
    "            \"asset_db\": asset_db,\n",
    "            \"asset_id\": asset_ids,\n",
    "            \"columns\": str(sorted(columns))\n",
    "            if len(columns) > 0\n",
    "            else str(sorted(set([s[\"name\"] for s in all_streams]))),\n",
    "            \"description\": f\"Hub DV for {asset_desc} - {dv_name}\",\n",
    "            \"id\": dv_id,\n",
    "            \"name\": dv_name,\n",
    "            \"ocs_tag\": ocs_tag,\n",
    "        },\n",
    "    )\n",
    "\n",
    "    for elem_id in elem_ids:\n",
    "        reply_rel = client.execute(\n",
    "            mutation_dv_rel,\n",
    "            variable_values={\"from\": {\"id\": elem_id}, \"to\": {\"id\": dv_id}},\n",
    "        )\n",
    "        # print(json.dumps(reply_rel, indent=4))\n",
    "\n",
    "    if len(columns) == 0:\n",
    "        dv_streams = all_streams\n",
    "    else:\n",
    "        dv_streams = [s for s in all_streams if s[\"name\"] in columns]\n",
    "\n",
    "    dataview_streams_transaction(dv_id, dv_streams)\n",
    "\n",
    "\n",
    "element_ids = {}\n",
    "\n",
    "for dv_name in dv_defs.keys():\n",
    "    print(f\"dv_name={dv_name}\")\n",
    "    ocs_tag, columns, has_custom_dv = dv_defs[dv_name]\n",
    "    for asset_id, elem_id, all_streams, dv_type in elements_info:\n",
    "        if has_no_dv(dv_type):\n",
    "            continue\n",
    "        element_ids[asset_id] = elem_id\n",
    "        # no specialized data view except for fermenter vessels\n",
    "        if len(columns) >= 0 and not has_custom_dv(dv_type):\n",
    "            continue\n",
    "        # print(dv_name, [asset_id], all_streams, ocs_tag, columns)\n",
    "        create_asset_dataview(\n",
    "            dv_name, [asset_id], [elem_id], all_streams, ocs_tag, columns\n",
    "        )\n",
    "        if dv_name == \"Electricity\":  # also the Default one\n",
    "            create_asset_dataview(\n",
    "                \"Default\", [asset_id], [elem_id], all_streams, \"all_columns\", columns\n",
    "            )"
   ]
  },
  {
   "cell_type": "code",
   "execution_count": null,
   "metadata": {},
   "outputs": [],
   "source": [
    "def extract_columns(asset_ids, ocs_tag):\n",
    "    query = gql(\n",
    "        \"\"\"\n",
    "    query DataView($id: ID!) {\n",
    "        DataView(id: $id) {\n",
    "            columns\n",
    "      }  \n",
    "    }\n",
    "    \"\"\"\n",
    "    )\n",
    "    reply = client.execute(\n",
    "        query, variable_values={\"id\": dataview_id([asset_ids[0]], ocs_tag)}\n",
    "    )\n",
    "    # print(dataview_id([asset_ids[0]], ocs_tag), reply[\"DataView\"][0][\"columns\"])\n",
    "    return sorted(\n",
    "        [\n",
    "            i.strip()\n",
    "            for i in reply[\"DataView\"][0][\"columns\"][1:-1].replace(\"'\", \"\").split(\",\")\n",
    "        ]\n",
    "    )\n",
    "\n",
    "\n",
    "multi_asset_dvs = []\n",
    "try:\n",
    "    exec(config[\"multi_asset_dvs\"])\n",
    "except:\n",
    "    pass\n",
    "print(config[\"multi_asset_dvs\"])\n",
    "\n",
    "for asset_ids, dv_suffix in multi_asset_dvs:\n",
    "    for dv_name in dv_defs.keys():\n",
    "        ocs_tag, columns, has_custom_dv = dv_defs[dv_name]\n",
    "        if len(columns) == 0:\n",
    "            columns = extract_columns(asset_ids, ocs_tag)\n",
    "        elem_ids = [element_ids[i] for i in asset_ids]\n",
    "        create_asset_dataview(\n",
    "            dv_name + \"+\", asset_ids, elem_ids, [], ocs_tag, columns, multiple=dv_suffix\n",
    "        )"
   ]
  },
  {
   "cell_type": "code",
   "execution_count": null,
   "metadata": {},
   "outputs": [],
   "source": [
    "convert(\"kWh Rate\")"
   ]
  },
  {
   "cell_type": "code",
   "execution_count": null,
   "metadata": {},
   "outputs": [],
   "source": [
    "convert(\"Primary Usage (Type)\")"
   ]
  },
  {
   "cell_type": "code",
   "execution_count": null,
   "metadata": {},
   "outputs": [],
   "source": [
    "convert(\"Total Maintained Gross Sq. Ft.\")"
   ]
  },
  {
   "cell_type": "code",
   "execution_count": null,
   "metadata": {},
   "outputs": [],
   "source": []
  }
 ],
 "metadata": {
  "kernelspec": {
   "display_name": "Python 3",
   "language": "python",
   "name": "python3"
  },
  "language_info": {
   "codemirror_mode": {
    "name": "ipython",
    "version": 3
   },
   "file_extension": ".py",
   "mimetype": "text/x-python",
   "name": "python",
   "nbconvert_exporter": "python",
   "pygments_lexer": "ipython3",
   "version": "3.7.6"
  }
 },
 "nbformat": 4,
 "nbformat_minor": 4
}
