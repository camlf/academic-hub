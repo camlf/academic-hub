{
 "cells": [
  {
   "cell_type": "code",
   "execution_count": 1,
   "metadata": {},
   "outputs": [],
   "source": [
    "import json\n",
    "import os"
   ]
  },
  {
   "cell_type": "code",
   "execution_count": 2,
   "metadata": {},
   "outputs": [],
   "source": [
    "filepath = 'C:\\\\Users\\\\zcheng\\\\Desktop\\\\Original\\\\'"
   ]
  },
  {
   "cell_type": "markdown",
   "metadata": {},
   "source": [
    "# File access"
   ]
  },
  {
   "cell_type": "code",
   "execution_count": null,
   "metadata": {},
   "outputs": [],
   "source": [
    "DataSource_file = open(filepath + 'OpcUa1DataSource.json', \"r\")\n",
    "DataSelection_file = open(filepath + 'OpcUa1_DataSelection.json', \"r\")\n",
    "DataSelection_file_new = filepath + 'OpcUa1_DataSelection_new.json'\n",
    "if os.path.exists(DataSelection_file_new):\n",
    "    append_write = 'a'\n",
    "else:\n",
    "    append_write = 'w' "
   ]
  },
  {
   "cell_type": "markdown",
   "metadata": {},
   "source": [
    "# asset_id"
   ]
  },
  {
   "cell_type": "code",
   "execution_count": 3,
   "metadata": {},
   "outputs": [],
   "source": [
    "json_DataSource = json.load(DataSource_file)\n",
    "DataSource_file.close()\n",
    "asset_id = json_DataSource.get('StreamIdPrefix')\n",
    "print(asset_id)"
   ]
  },
  {
   "cell_type": "markdown",
   "metadata": {},
   "source": [
    "# tag_id"
   ]
  },
  {
   "cell_type": "code",
   "execution_count": 4,
   "metadata": {},
   "outputs": [],
   "source": [
    "json_DataSelection = json.load(DataSelection_file)\n",
    "DataSelection_file.close()\n",
    "\n",
    "NodeId_example = json_DataSelection[1].get('NodeId')\n",
    "print(NodeId_example[7:])"
   ]
  },
  {
   "cell_type": "code",
   "execution_count": 5,
   "metadata": {},
   "outputs": [],
   "source": [
    "index = 0\n",
    "while index < len(json_DataSelection):\n",
    "    NodeId= json_DataSelection[index].get('NodeId')\n",
    "    asset_tag = asset_id + NodeId[7:]\n",
    "    \n",
    "    json_DataSelection[index]['Name'] = asset_tag\n",
    "    json_DataSelection[index]['StreamId'] = asset_tag\n",
    "    \n",
    "    index +=1\n",
    "\n",
    "print(json.dumps(json_DataSelection, indent=4, sort_keys=True))\n",
    "with open(DataSelection_file_new, append_write) as json_file:\n",
    "    json.dump(json_DataSelection, json_file, indent=4, sort_keys=True)"
   ]
  },
  {
   "cell_type": "code",
   "execution_count": null,
   "metadata": {},
   "outputs": [],
   "source": []
  }
 ],
 "metadata": {
  "kernelspec": {
   "display_name": "Python 3",
   "language": "python",
   "name": "python3"
  },
  "language_info": {
   "codemirror_mode": {
    "name": "ipython",
    "version": 3
   },
   "file_extension": ".py",
   "mimetype": "text/x-python",
   "name": "python",
   "nbconvert_exporter": "python",
   "pygments_lexer": "ipython3",
   "version": "3.8.5"
  }
 },
 "nbformat": 4,
 "nbformat_minor": 4
}
