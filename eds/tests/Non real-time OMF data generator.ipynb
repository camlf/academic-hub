{
 "cells": [
  {
   "cell_type": "code",
   "execution_count": 1,
   "metadata": {},
   "outputs": [],
   "source": [
    "#!pip install ocs-academic-hub\n",
    "#!pip uninstall -y ocs_academic_hub\n",
    "#!pip list"
   ]
  },
  {
   "cell_type": "code",
   "execution_count": 2,
   "metadata": {},
   "outputs": [],
   "source": [
    "#!git clone https://github.com/cfoisy-osisoft/academic-hub.git"
   ]
  },
  {
   "cell_type": "code",
   "execution_count": 1,
   "metadata": {},
   "outputs": [
    {
     "name": "stderr",
     "output_type": "stream",
     "text": [
      "C:\\Users\\zcheng\\Anaconda3\\lib\\site-packages\\typeguard\\__init__.py:906: UserWarning: no type annotations present -- not typechecking ocs_academic_hub.omf_client.OMFClient.__init__\n",
      "  warn('no type annotations present -- not typechecking {}'.format(function_name(func)))\n"
     ]
    }
   ],
   "source": [
    "from ocs_academic_hub import OMFClient\n",
    "import pandas as pd\n",
    "import numpy as np\n",
    "from datetime import datetime, timedelta\n",
    "from dateutil.parser import parse"
   ]
  },
  {
   "cell_type": "markdown",
   "metadata": {},
   "source": [
    "Data frame generation"
   ]
  },
  {
   "cell_type": "code",
   "execution_count": 11,
   "metadata": {},
   "outputs": [],
   "source": [
    "start = pd.to_datetime('2021-03-12 10:00:00')\n",
    "end = pd.to_datetime('2021-03-12 10:00:10')\n",
    "freq = 200 #Hz\n",
    "column = 4"
   ]
  },
  {
   "cell_type": "code",
   "execution_count": 12,
   "metadata": {},
   "outputs": [
    {
     "name": "stdout",
     "output_type": "stream",
     "text": [
      "                   Timestamp       col1       col2       col3       col4\n",
      "0    2021-03-12 10:00:00.000  10.459371  92.575366  35.013769  31.737217\n",
      "1    2021-03-12 10:00:00.005   1.198974  24.323878  24.541380  73.855671\n",
      "2    2021-03-12 10:00:00.010  50.051340  78.658110  13.524125  61.058283\n",
      "3    2021-03-12 10:00:00.015  47.145977  24.476080  44.080759  25.123480\n",
      "4    2021-03-12 10:00:00.020  39.000151  84.000975  65.863288  15.696221\n",
      "...                      ...        ...        ...        ...        ...\n",
      "1996 2021-03-12 10:00:09.980   2.582419  42.155397  32.691029  62.777120\n",
      "1997 2021-03-12 10:00:09.985  27.481789  75.298096  68.974073  79.281556\n",
      "1998 2021-03-12 10:00:09.990  92.605954  77.232795  54.570029  14.281336\n",
      "1999 2021-03-12 10:00:09.995  15.429644  58.016403  49.078309   3.636887\n",
      "2000 2021-03-12 10:00:10.000  72.574367   6.815081  36.500406  11.046630\n",
      "\n",
      "[2001 rows x 5 columns]\n"
     ]
    }
   ],
   "source": [
    "time_range = pd.date_range(start, end, freq=f'{1/freq*1000000000}ns')\n",
    "\n",
    "np.random.seed(seed=1111)\n",
    "data = np.random.uniform(1, high=100, size=(len(time_range), column))\n",
    "\n",
    "df = pd.DataFrame({'Timestamp': time_range}) \n",
    "#df = df.set_index('Timestamp')\n",
    "i = 0\n",
    "while i < column:\n",
    "    df[f'col{i + 1}'] = data[:,i]\n",
    "    i += 1\n",
    "print(df)"
   ]
  },
  {
   "cell_type": "markdown",
   "metadata": {},
   "source": [
    "Send OMF Message to EDS"
   ]
  },
  {
   "cell_type": "code",
   "execution_count": 13,
   "metadata": {},
   "outputs": [
    {
     "name": "stdout",
     "output_type": "stream",
     "text": [
      ">> new tag(s): ['x.test.col1', 'x.test.col2', 'x.test.col3', 'x.test.col4']\n",
      ">> from 2021-03-12 10:00:00 to 2021-03-12 10:00:10\n",
      ">> [column definitions OK]\n",
      ">> processing row: [50][100][150][200][250][300][350][400][450][500][550][600][650][700][750][800][850][900][950][1000][1050][1100][1150][1200][1250][1300][1350][1400][1450][1500][1550][1600][1650][1700][1750][1800][1850][1900][1950][2000][last rows 4]\n",
      "\n",
      "Loading-Extract-Transfer to Hub done, status OK, #rows = 2001\n",
      "\n"
     ]
    }
   ],
   "source": [
    "asset = 'test'\n",
    "\n",
    "omf_client = OMFClient()\n",
    "omf_client.update_tags(df, asset)"
   ]
  },
  {
   "cell_type": "code",
   "execution_count": null,
   "metadata": {},
   "outputs": [],
   "source": []
  }
 ],
 "metadata": {
  "kernelspec": {
   "display_name": "Python 3",
   "language": "python",
   "name": "python3"
  },
  "language_info": {
   "codemirror_mode": {
    "name": "ipython",
    "version": 3
   },
   "file_extension": ".py",
   "mimetype": "text/x-python",
   "name": "python",
   "nbconvert_exporter": "python",
   "pygments_lexer": "ipython3",
   "version": "3.8.5"
  }
 },
 "nbformat": 4,
 "nbformat_minor": 4
}
