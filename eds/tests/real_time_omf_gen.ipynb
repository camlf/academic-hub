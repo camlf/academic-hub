{
 "cells": [
  {
   "cell_type": "code",
   "execution_count": 1,
   "metadata": {},
   "outputs": [],
   "source": [
    "#!pip install ocs-academic-hub\n",
    "#!pip uninstall -y ocs_academic_hub\n",
    "#!pip list"
   ]
  },
  {
   "cell_type": "markdown",
   "metadata": {},
   "source": [
    "## Note this notebook requires `omf_client.py` found at https://github.com/cfoisy-osisoft/academic-hub/tree/master/eds/tests"
   ]
  },
  {
   "cell_type": "code",
   "execution_count": 11,
   "metadata": {},
   "outputs": [],
   "source": [
    "from ocs_academic_hub import OMFClient\n",
    "import pandas as pd\n",
    "import numpy as np\n",
    "from datetime import datetime, timedelta\n",
    "from dateutil.parser import parse\n",
    "import time \n",
    "from time import sleep\n",
    "from omf_client import OMFClient"
   ]
  },
  {
   "cell_type": "markdown",
   "metadata": {},
   "source": [
    "# Data frame generation"
   ]
  },
  {
   "cell_type": "code",
   "execution_count": 12,
   "metadata": {},
   "outputs": [],
   "source": [
    "start = pd.to_datetime(\"2021-04-01 15:00:00\")\n",
    "end = pd.to_datetime(\"2021-04-01 15:02:00\")  # data frame worth 2 minutes of data\n",
    "freq = 10  #  Hz\n",
    "column = 4\n",
    "# batch_size = 50 ==> replaced by batch_period, see \"Parameters\""
   ]
  },
  {
   "cell_type": "code",
   "execution_count": 13,
   "metadata": {},
   "outputs": [
    {
     "name": "stdout",
     "output_type": "stream",
     "text": [
      "                   Timestamp       col1       col2       col3       col4\n",
      "0    2021-04-01 15:00:00.000  10.459371  92.575366  35.013769  31.737217\n",
      "1    2021-04-01 15:00:00.100   1.198974  24.323878  24.541380  73.855671\n",
      "2    2021-04-01 15:00:00.200  50.051340  78.658110  13.524125  61.058283\n",
      "3    2021-04-01 15:00:00.300  47.145977  24.476080  44.080759  25.123480\n",
      "4    2021-04-01 15:00:00.400  39.000151  84.000975  65.863288  15.696221\n",
      "...                      ...        ...        ...        ...        ...\n",
      "1196 2021-04-01 15:01:59.600  15.595843  35.654702  64.807483  85.553442\n",
      "1197 2021-04-01 15:01:59.700  10.539654   9.850069  10.691247  47.797944\n",
      "1198 2021-04-01 15:01:59.800  17.147957  32.205425  76.982448   6.853298\n",
      "1199 2021-04-01 15:01:59.900  75.652143  55.745506   3.989452  52.394992\n",
      "1200 2021-04-01 15:02:00.000  28.305467  21.287744  32.430184  77.999849\n",
      "\n",
      "[1201 rows x 5 columns]\n"
     ]
    }
   ],
   "source": [
    "time_range = pd.date_range(start, end, freq=f\"{1/freq*1000000000}ns\")\n",
    "\n",
    "np.random.seed(seed=1111)\n",
    "data = np.random.uniform(1, high=100, size=(len(time_range), column))\n",
    "\n",
    "df = pd.DataFrame({\"Timestamp\": time_range})\n",
    "# df = df.set_index('Timestamp')\n",
    "i = 0\n",
    "while i < column:\n",
    "    df[f\"col{i + 1}\"] = data[:, i]\n",
    "    i += 1\n",
    "print(df)"
   ]
  },
  {
   "cell_type": "code",
   "execution_count": 14,
   "metadata": {},
   "outputs": [
    {
     "data": {
      "text/plain": [
       "Timestamp    2021-04-01 15:00:00\n",
       "col1                     10.4594\n",
       "col2                     92.5754\n",
       "col3                     35.0138\n",
       "col4                     31.7372\n",
       "Name: 0, dtype: object"
      ]
     },
     "execution_count": 14,
     "metadata": {},
     "output_type": "execute_result"
    }
   ],
   "source": [
    "# first row \n",
    "df.loc[0]"
   ]
  },
  {
   "cell_type": "markdown",
   "metadata": {},
   "source": [
    "## return a new dataframe where all timestamp are shifted with first row set to \"now\""
   ]
  },
  {
   "cell_type": "code",
   "execution_count": 15,
   "metadata": {},
   "outputs": [],
   "source": [
    "def shift_df_to_now(df):\n",
    "    now = datetime.now()\n",
    "    time_delta = now - df.loc[0][\"Timestamp\"]\n",
    "    print(\">> time delta=\", time_delta)\n",
    "    df[\"Timestamp\"] = df[\"Timestamp\"].apply(lambda t: t + time_delta)\n",
    "    return df"
   ]
  },
  {
   "cell_type": "code",
   "execution_count": 16,
   "metadata": {},
   "outputs": [
    {
     "name": "stdout",
     "output_type": "stream",
     "text": [
      ">> time delta= 19 days 22:01:29.815798\n"
     ]
    },
    {
     "data": {
      "text/plain": [
       "1200"
      ]
     },
     "execution_count": 16,
     "metadata": {},
     "output_type": "execute_result"
    }
   ],
   "source": [
    "tdf = shift_df_to_now(df)\n",
    "tdf.index[-1]"
   ]
  },
  {
   "cell_type": "markdown",
   "metadata": {},
   "source": [
    "## To keep track of last row index sent from dataframe "
   ]
  },
  {
   "cell_type": "code",
   "execution_count": 17,
   "metadata": {},
   "outputs": [],
   "source": [
    "class Cursor:\n",
    "    def __init__(self, interval=2):\n",
    "        self._last_slice_index = -1\n",
    "        self._interval = interval\n",
    "\n",
    "    def last_index(self):\n",
    "        return self._last_slice_index\n",
    "\n",
    "    def set_last_index(self, index):\n",
    "        self._last_slice_index = index\n",
    "\n",
    "    def period(self):\n",
    "        return self._interval\n",
    "\n",
    "    def reset(self):\n",
    "        self._last_slice_index = -1"
   ]
  },
  {
   "cell_type": "markdown",
   "metadata": {},
   "source": [
    "## Extract next slice of data frame to transmit"
   ]
  },
  {
   "cell_type": "code",
   "execution_count": 18,
   "metadata": {},
   "outputs": [],
   "source": [
    "def next_slice(df, cursor):\n",
    "    now = datetime.now()\n",
    "    slice_df = df[(df.index > cursor.last_index()) & (df[\"Timestamp\"] <= now)]\n",
    "    # print(f\"row={len(slice_df)}\")\n",
    "    # print(slice_df)\n",
    "    if len(slice_df) == 0:\n",
    "        raise StopIteration\n",
    "    cursor.set_last_index(slice_df.index[-1] + 1)\n",
    "    return slice_df"
   ]
  },
  {
   "cell_type": "markdown",
   "metadata": {},
   "source": [
    "## Parameters"
   ]
  },
  {
   "cell_type": "code",
   "execution_count": 19,
   "metadata": {},
   "outputs": [],
   "source": [
    "batch_period = 2 # in seconds\n",
    "asset_name = \"test-asset1\"\n",
    "debug = True  # when active, OMF messages are only displayed  "
   ]
  },
  {
   "cell_type": "markdown",
   "metadata": {},
   "source": [
    "## Main loop\n",
    "\n",
    "The next cell can be restarted anytime because `shift_df_to_now` will make the dataframe \"current\""
   ]
  },
  {
   "cell_type": "code",
   "execution_count": 20,
   "metadata": {},
   "outputs": [
    {
     "name": "stdout",
     "output_type": "stream",
     "text": [
      ">> time delta= 0 days 00:00:03.686619\n",
      "len=1201\n",
      "\n",
      "DBG>>> http://localhost:5590/ap... {'producertoken': 'CSM_Test.EDS1', 'messagetype': 'type', 'messageformat': 'json', 'omfversion': '1.0', 'Ocp-Apim-Subscription-Key': '-no-key-'} [{'id': 'LabVIEW.Double', 'description': 'Timestamp and real-time value', 'type': 'object', 'classification': 'dynamic', 'properties': {'Timestamp': {'type': 'string', 'format': 'date-time', 'isindex': True}, 'value': {'type': 'Double'}}}]\n",
      ">> [OMF type definition OK]\n",
      "\n",
      ">> new tag(s): ['CSM_Test.EDS1.test-asset1.col1', 'CSM_Test.EDS1.test-asset1.col2', 'CSM_Test.EDS1.test-asset1.col3', 'CSM_Test.EDS1.test-asset1.col4']\n",
      ">> from 2021-04-21 13:01:33.502417 to 2021-04-21 13:03:33.502417\n",
      "\n",
      "DBG>>> http://localhost:5590/ap... {'producertoken': 'CSM_Test.EDS1', 'messagetype': 'container', 'messageformat': 'json', 'omfversion': '1.0', 'Ocp-Apim-Subscription-Key': '-no-key-'} [{'id': 'test-asset1.col1', 'typeid': 'LabVIEW.Double'}, {'id': 'test-asset1.col2', 'typeid': 'LabVIEW.Double'}, {'id': 'test-asset1.col3', 'typeid': 'LabVIEW.Double'}, {'id': 'test-asset1.col4', 'typeid': 'LabVIEW.Double'}]\n",
      ">> [column definitions OK]\n",
      ">> processing row: [last rows 84]\n",
      "\n",
      "DBG>>> http://localhost:5590/ap... {'producertoken': 'CSM_Test.EDS1', 'messagetype': 'data', 'messageformat': 'json', 'omfversion': '1.0', 'Ocp-Apim-Subscription-Key': '-no-key-'} [{'containerid': 'test-asset1.col1', 'values': [{'Timestamp': '2021-04-21T13:01:33.502417+00:00', 'value': 10.4593707216...\n",
      ">> processing row: [last rows 76]\n",
      "\n",
      "DBG>>> http://localhost:5590/ap... {'producertoken': 'CSM_Test.EDS1', 'messagetype': 'data', 'messageformat': 'json', 'omfversion': '1.0', 'Ocp-Apim-Subscription-Key': '-no-key-'} [{'containerid': 'test-asset1.col1', 'values': [{'Timestamp': '2021-04-21T13:01:35.702417+00:00', 'value': 17.2239641188...\n",
      ">> processing row: [last rows 76]\n",
      "\n",
      "DBG>>> http://localhost:5590/ap... {'producertoken': 'CSM_Test.EDS1', 'messagetype': 'data', 'messageformat': 'json', 'omfversion': '1.0', 'Ocp-Apim-Subscription-Key': '-no-key-'} [{'containerid': 'test-asset1.col1', 'values': [{'Timestamp': '2021-04-21T13:01:37.702417+00:00', 'value': 40.7447718951...\n",
      ">> processing row: [last rows 76]\n",
      "\n",
      "DBG>>> http://localhost:5590/ap... {'producertoken': 'CSM_Test.EDS1', 'messagetype': 'data', 'messageformat': 'json', 'omfversion': '1.0', 'Ocp-Apim-Subscription-Key': '-no-key-'} [{'containerid': 'test-asset1.col1', 'values': [{'Timestamp': '2021-04-21T13:01:39.702417+00:00', 'value': 69.8384515233...\n",
      ">> processing row: [last rows 76]\n",
      "\n",
      "DBG>>> http://localhost:5590/ap... {'producertoken': 'CSM_Test.EDS1', 'messagetype': 'data', 'messageformat': 'json', 'omfversion': '1.0', 'Ocp-Apim-Subscription-Key': '-no-key-'} [{'containerid': 'test-asset1.col1', 'values': [{'Timestamp': '2021-04-21T13:01:41.702417+00:00', 'value': 12.7449115494...\n",
      ">> processing row: [last rows 76]\n",
      "\n",
      "DBG>>> http://localhost:5590/ap... {'producertoken': 'CSM_Test.EDS1', 'messagetype': 'data', 'messageformat': 'json', 'omfversion': '1.0', 'Ocp-Apim-Subscription-Key': '-no-key-'} [{'containerid': 'test-asset1.col1', 'values': [{'Timestamp': '2021-04-21T13:01:43.702417+00:00', 'value': 87.1923694540...\n",
      ">> processing row: [last rows 76]\n",
      "\n",
      "DBG>>> http://localhost:5590/ap... {'producertoken': 'CSM_Test.EDS1', 'messagetype': 'data', 'messageformat': 'json', 'omfversion': '1.0', 'Ocp-Apim-Subscription-Key': '-no-key-'} [{'containerid': 'test-asset1.col1', 'values': [{'Timestamp': '2021-04-21T13:01:45.702417+00:00', 'value': 15.0596119742...\n",
      ">> processing row: [last rows 80]\n",
      "\n",
      "DBG>>> http://localhost:5590/ap... {'producertoken': 'CSM_Test.EDS1', 'messagetype': 'data', 'messageformat': 'json', 'omfversion': '1.0', 'Ocp-Apim-Subscription-Key': '-no-key-'} [{'containerid': 'test-asset1.col1', 'values': [{'Timestamp': '2021-04-21T13:01:47.702417+00:00', 'value': 54.6811278607...\n",
      ">> processing row: [last rows 76]\n",
      "\n",
      "DBG>>> http://localhost:5590/ap... {'producertoken': 'CSM_Test.EDS1', 'messagetype': 'data', 'messageformat': 'json', 'omfversion': '1.0', 'Ocp-Apim-Subscription-Key': '-no-key-'} [{'containerid': 'test-asset1.col1', 'values': [{'Timestamp': '2021-04-21T13:01:49.802417+00:00', 'value': 1.59438622888...\n",
      ">> processing row: [last rows 76]\n",
      "\n",
      "DBG>>> http://localhost:5590/ap... {'producertoken': 'CSM_Test.EDS1', 'messagetype': 'data', 'messageformat': 'json', 'omfversion': '1.0', 'Ocp-Apim-Subscription-Key': '-no-key-'} [{'containerid': 'test-asset1.col1', 'values': [{'Timestamp': '2021-04-21T13:01:51.802417+00:00', 'value': 68.8837183932...\n",
      ">> processing row: [last rows 76]\n",
      "\n",
      "DBG>>> http://localhost:5590/ap... {'producertoken': 'CSM_Test.EDS1', 'messagetype': 'data', 'messageformat': 'json', 'omfversion': '1.0', 'Ocp-Apim-Subscription-Key': '-no-key-'} [{'containerid': 'test-asset1.col1', 'values': [{'Timestamp': '2021-04-21T13:01:53.802417+00:00', 'value': 99.2737539583...\n",
      ">> processing row: [last rows 76]\n",
      "\n",
      "DBG>>> http://localhost:5590/ap... {'producertoken': 'CSM_Test.EDS1', 'messagetype': 'data', 'messageformat': 'json', 'omfversion': '1.0', 'Ocp-Apim-Subscription-Key': '-no-key-'} [{'containerid': 'test-asset1.col1', 'values': [{'Timestamp': '2021-04-21T13:01:55.802417+00:00', 'value': 16.9373646782...\n",
      ">> processing row: [last rows 76]\n",
      "\n",
      "DBG>>> http://localhost:5590/ap... {'producertoken': 'CSM_Test.EDS1', 'messagetype': 'data', 'messageformat': 'json', 'omfversion': '1.0', 'Ocp-Apim-Subscription-Key': '-no-key-'} [{'containerid': 'test-asset1.col1', 'values': [{'Timestamp': '2021-04-21T13:01:57.802417+00:00', 'value': 80.4817140669...\n",
      ">> processing row: [last rows 80]\n",
      "\n",
      "DBG>>> http://localhost:5590/ap... {'producertoken': 'CSM_Test.EDS1', 'messagetype': 'data', 'messageformat': 'json', 'omfversion': '1.0', 'Ocp-Apim-Subscription-Key': '-no-key-'} [{'containerid': 'test-asset1.col1', 'values': [{'Timestamp': '2021-04-21T13:01:59.802417+00:00', 'value': 77.7940447956...\n",
      ">> processing row: [last rows 76]\n",
      "\n",
      "DBG>>> http://localhost:5590/ap... {'producertoken': 'CSM_Test.EDS1', 'messagetype': 'data', 'messageformat': 'json', 'omfversion': '1.0', 'Ocp-Apim-Subscription-Key': '-no-key-'} [{'containerid': 'test-asset1.col1', 'values': [{'Timestamp': '2021-04-21T13:02:01.902417+00:00', 'value': 3.07727332183...\n",
      ">> processing row: [last rows 76]\n",
      "\n",
      "DBG>>> http://localhost:5590/ap... {'producertoken': 'CSM_Test.EDS1', 'messagetype': 'data', 'messageformat': 'json', 'omfversion': '1.0', 'Ocp-Apim-Subscription-Key': '-no-key-'} [{'containerid': 'test-asset1.col1', 'values': [{'Timestamp': '2021-04-21T13:02:03.902417+00:00', 'value': 89.2431062085...\n",
      ">> processing row: [last rows 76]\n",
      "\n",
      "DBG>>> http://localhost:5590/ap... {'producertoken': 'CSM_Test.EDS1', 'messagetype': 'data', 'messageformat': 'json', 'omfversion': '1.0', 'Ocp-Apim-Subscription-Key': '-no-key-'} [{'containerid': 'test-asset1.col1', 'values': [{'Timestamp': '2021-04-21T13:02:05.902417+00:00', 'value': 29.2188405881...\n",
      ">> processing row: [last rows 76]\n",
      "\n",
      "DBG>>> http://localhost:5590/ap... {'producertoken': 'CSM_Test.EDS1', 'messagetype': 'data', 'messageformat': 'json', 'omfversion': '1.0', 'Ocp-Apim-Subscription-Key': '-no-key-'} [{'containerid': 'test-asset1.col1', 'values': [{'Timestamp': '2021-04-21T13:02:07.902417+00:00', 'value': 48.1321525789...\n",
      ">> processing row: [last rows 76]\n",
      "\n",
      "DBG>>> http://localhost:5590/ap... {'producertoken': 'CSM_Test.EDS1', 'messagetype': 'data', 'messageformat': 'json', 'omfversion': '1.0', 'Ocp-Apim-Subscription-Key': '-no-key-'} [{'containerid': 'test-asset1.col1', 'values': [{'Timestamp': '2021-04-21T13:02:09.902417+00:00', 'value': 81.0305950556...\n",
      ">> processing row: [last rows 80]\n",
      "\n",
      "DBG>>> http://localhost:5590/ap... {'producertoken': 'CSM_Test.EDS1', 'messagetype': 'data', 'messageformat': 'json', 'omfversion': '1.0', 'Ocp-Apim-Subscription-Key': '-no-key-'} [{'containerid': 'test-asset1.col1', 'values': [{'Timestamp': '2021-04-21T13:02:11.902417+00:00', 'value': 8.69777087875...\n",
      ">> processing row: [last rows 76]\n",
      "\n",
      "DBG>>> http://localhost:5590/ap... {'producertoken': 'CSM_Test.EDS1', 'messagetype': 'data', 'messageformat': 'json', 'omfversion': '1.0', 'Ocp-Apim-Subscription-Key': '-no-key-'} [{'containerid': 'test-asset1.col1', 'values': [{'Timestamp': '2021-04-21T13:02:14.002417+00:00', 'value': 34.9223015999...\n",
      ">> processing row: [last rows 76]\n",
      "\n",
      "DBG>>> http://localhost:5590/ap... {'producertoken': 'CSM_Test.EDS1', 'messagetype': 'data', 'messageformat': 'json', 'omfversion': '1.0', 'Ocp-Apim-Subscription-Key': '-no-key-'} [{'containerid': 'test-asset1.col1', 'values': [{'Timestamp': '2021-04-21T13:02:16.002417+00:00', 'value': 93.5438347932...\n",
      ">> processing row: [last rows 76]\n",
      "\n",
      "DBG>>> http://localhost:5590/ap... {'producertoken': 'CSM_Test.EDS1', 'messagetype': 'data', 'messageformat': 'json', 'omfversion': '1.0', 'Ocp-Apim-Subscription-Key': '-no-key-'} [{'containerid': 'test-asset1.col1', 'values': [{'Timestamp': '2021-04-21T13:02:18.002417+00:00', 'value': 98.2363750796...\n",
      ">> processing row: [last rows 76]\n",
      "\n",
      "DBG>>> http://localhost:5590/ap... {'producertoken': 'CSM_Test.EDS1', 'messagetype': 'data', 'messageformat': 'json', 'omfversion': '1.0', 'Ocp-Apim-Subscription-Key': '-no-key-'} [{'containerid': 'test-asset1.col1', 'values': [{'Timestamp': '2021-04-21T13:02:20.002417+00:00', 'value': 96.1108617526...\n",
      ">> processing row: [last rows 76]\n",
      "\n",
      "DBG>>> http://localhost:5590/ap... {'producertoken': 'CSM_Test.EDS1', 'messagetype': 'data', 'messageformat': 'json', 'omfversion': '1.0', 'Ocp-Apim-Subscription-Key': '-no-key-'} [{'containerid': 'test-asset1.col1', 'values': [{'Timestamp': '2021-04-21T13:02:22.002417+00:00', 'value': 83.7460343020...\n",
      ">> processing row: [last rows 76]\n",
      "\n",
      "DBG>>> http://localhost:5590/ap... {'producertoken': 'CSM_Test.EDS1', 'messagetype': 'data', 'messageformat': 'json', 'omfversion': '1.0', 'Ocp-Apim-Subscription-Key': '-no-key-'} [{'containerid': 'test-asset1.col1', 'values': [{'Timestamp': '2021-04-21T13:02:24.002417+00:00', 'value': 51.9611592928...\n",
      ">> processing row: [last rows 80]\n",
      "\n",
      "DBG>>> http://localhost:5590/ap... {'producertoken': 'CSM_Test.EDS1', 'messagetype': 'data', 'messageformat': 'json', 'omfversion': '1.0', 'Ocp-Apim-Subscription-Key': '-no-key-'} [{'containerid': 'test-asset1.col1', 'values': [{'Timestamp': '2021-04-21T13:02:26.002417+00:00', 'value': 27.3336836655...\n",
      ">> processing row: [last rows 76]\n",
      "\n",
      "DBG>>> http://localhost:5590/ap... {'producertoken': 'CSM_Test.EDS1', 'messagetype': 'data', 'messageformat': 'json', 'omfversion': '1.0', 'Ocp-Apim-Subscription-Key': '-no-key-'} [{'containerid': 'test-asset1.col1', 'values': [{'Timestamp': '2021-04-21T13:02:28.102417+00:00', 'value': 37.1753522853...\n",
      ">> processing row: [last rows 76]\n",
      "\n",
      "DBG>>> http://localhost:5590/ap... {'producertoken': 'CSM_Test.EDS1', 'messagetype': 'data', 'messageformat': 'json', 'omfversion': '1.0', 'Ocp-Apim-Subscription-Key': '-no-key-'} [{'containerid': 'test-asset1.col1', 'values': [{'Timestamp': '2021-04-21T13:02:30.102417+00:00', 'value': 39.6482531278...\n",
      ">> processing row: [last rows 76]\n",
      "\n",
      "DBG>>> http://localhost:5590/ap... {'producertoken': 'CSM_Test.EDS1', 'messagetype': 'data', 'messageformat': 'json', 'omfversion': '1.0', 'Ocp-Apim-Subscription-Key': '-no-key-'} [{'containerid': 'test-asset1.col1', 'values': [{'Timestamp': '2021-04-21T13:02:32.102417+00:00', 'value': 12.3879327138...\n",
      ">> processing row: [last rows 76]\n",
      "\n",
      "DBG>>> http://localhost:5590/ap... {'producertoken': 'CSM_Test.EDS1', 'messagetype': 'data', 'messageformat': 'json', 'omfversion': '1.0', 'Ocp-Apim-Subscription-Key': '-no-key-'} [{'containerid': 'test-asset1.col1', 'values': [{'Timestamp': '2021-04-21T13:02:34.102417+00:00', 'value': 7.40544852604...\n",
      ">> processing row: [last rows 80]\n",
      "\n",
      "DBG>>> http://localhost:5590/ap... {'producertoken': 'CSM_Test.EDS1', 'messagetype': 'data', 'messageformat': 'json', 'omfversion': '1.0', 'Ocp-Apim-Subscription-Key': '-no-key-'} [{'containerid': 'test-asset1.col1', 'values': [{'Timestamp': '2021-04-21T13:02:36.102417+00:00', 'value': 10.1060839547...\n",
      ">> processing row: [last rows 76]\n",
      "\n",
      "DBG>>> http://localhost:5590/ap... {'producertoken': 'CSM_Test.EDS1', 'messagetype': 'data', 'messageformat': 'json', 'omfversion': '1.0', 'Ocp-Apim-Subscription-Key': '-no-key-'} [{'containerid': 'test-asset1.col1', 'values': [{'Timestamp': '2021-04-21T13:02:38.202417+00:00', 'value': 99.7969341083...\n",
      ">> processing row: [last rows 76]\n",
      "\n",
      "DBG>>> http://localhost:5590/ap... {'producertoken': 'CSM_Test.EDS1', 'messagetype': 'data', 'messageformat': 'json', 'omfversion': '1.0', 'Ocp-Apim-Subscription-Key': '-no-key-'} [{'containerid': 'test-asset1.col1', 'values': [{'Timestamp': '2021-04-21T13:02:40.202417+00:00', 'value': 43.5769953330...\n",
      ">> processing row: [last rows 76]\n",
      "\n",
      "DBG>>> http://localhost:5590/ap... {'producertoken': 'CSM_Test.EDS1', 'messagetype': 'data', 'messageformat': 'json', 'omfversion': '1.0', 'Ocp-Apim-Subscription-Key': '-no-key-'} [{'containerid': 'test-asset1.col1', 'values': [{'Timestamp': '2021-04-21T13:02:42.202417+00:00', 'value': 91.8757341108...\n",
      ">> processing row: [last rows 76]\n",
      "\n",
      "DBG>>> http://localhost:5590/ap... {'producertoken': 'CSM_Test.EDS1', 'messagetype': 'data', 'messageformat': 'json', 'omfversion': '1.0', 'Ocp-Apim-Subscription-Key': '-no-key-'} [{'containerid': 'test-asset1.col1', 'values': [{'Timestamp': '2021-04-21T13:02:44.202417+00:00', 'value': 31.2834893129...\n",
      ">> processing row: [last rows 76]\n",
      "\n",
      "DBG>>> http://localhost:5590/ap... {'producertoken': 'CSM_Test.EDS1', 'messagetype': 'data', 'messageformat': 'json', 'omfversion': '1.0', 'Ocp-Apim-Subscription-Key': '-no-key-'} [{'containerid': 'test-asset1.col1', 'values': [{'Timestamp': '2021-04-21T13:02:46.202417+00:00', 'value': 74.9391818081...\n",
      ">> processing row: [last rows 80]\n",
      "\n",
      "DBG>>> http://localhost:5590/ap... {'producertoken': 'CSM_Test.EDS1', 'messagetype': 'data', 'messageformat': 'json', 'omfversion': '1.0', 'Ocp-Apim-Subscription-Key': '-no-key-'} [{'containerid': 'test-asset1.col1', 'values': [{'Timestamp': '2021-04-21T13:02:48.202417+00:00', 'value': 49.6813931546...\n",
      ">> processing row: [last rows 76]\n",
      "\n",
      "DBG>>> http://localhost:5590/ap... {'producertoken': 'CSM_Test.EDS1', 'messagetype': 'data', 'messageformat': 'json', 'omfversion': '1.0', 'Ocp-Apim-Subscription-Key': '-no-key-'} [{'containerid': 'test-asset1.col1', 'values': [{'Timestamp': '2021-04-21T13:02:50.302417+00:00', 'value': 70.8080344455...\n",
      ">> processing row: [last rows 76]\n",
      "\n",
      "DBG>>> http://localhost:5590/ap... {'producertoken': 'CSM_Test.EDS1', 'messagetype': 'data', 'messageformat': 'json', 'omfversion': '1.0', 'Ocp-Apim-Subscription-Key': '-no-key-'} [{'containerid': 'test-asset1.col1', 'values': [{'Timestamp': '2021-04-21T13:02:52.302417+00:00', 'value': 63.1326839625...\n",
      ">> processing row: [last rows 76]\n",
      "\n",
      "DBG>>> http://localhost:5590/ap... {'producertoken': 'CSM_Test.EDS1', 'messagetype': 'data', 'messageformat': 'json', 'omfversion': '1.0', 'Ocp-Apim-Subscription-Key': '-no-key-'} [{'containerid': 'test-asset1.col1', 'values': [{'Timestamp': '2021-04-21T13:02:54.302417+00:00', 'value': 58.5592533561...\n",
      ">> processing row: [last rows 76]\n",
      "\n",
      "DBG>>> http://localhost:5590/ap... {'producertoken': 'CSM_Test.EDS1', 'messagetype': 'data', 'messageformat': 'json', 'omfversion': '1.0', 'Ocp-Apim-Subscription-Key': '-no-key-'} [{'containerid': 'test-asset1.col1', 'values': [{'Timestamp': '2021-04-21T13:02:56.302417+00:00', 'value': 78.4362477139...\n",
      ">> processing row: [last rows 76]\n",
      "\n",
      "DBG>>> http://localhost:5590/ap... {'producertoken': 'CSM_Test.EDS1', 'messagetype': 'data', 'messageformat': 'json', 'omfversion': '1.0', 'Ocp-Apim-Subscription-Key': '-no-key-'} [{'containerid': 'test-asset1.col1', 'values': [{'Timestamp': '2021-04-21T13:02:58.302417+00:00', 'value': 58.6711225481...\n",
      ">> processing row: [last rows 76]\n",
      "\n",
      "DBG>>> http://localhost:5590/ap... {'producertoken': 'CSM_Test.EDS1', 'messagetype': 'data', 'messageformat': 'json', 'omfversion': '1.0', 'Ocp-Apim-Subscription-Key': '-no-key-'} [{'containerid': 'test-asset1.col1', 'values': [{'Timestamp': '2021-04-21T13:03:00.302417+00:00', 'value': 33.2170006046...\n",
      ">> processing row: [last rows 80]\n",
      "\n",
      "DBG>>> http://localhost:5590/ap... {'producertoken': 'CSM_Test.EDS1', 'messagetype': 'data', 'messageformat': 'json', 'omfversion': '1.0', 'Ocp-Apim-Subscription-Key': '-no-key-'} [{'containerid': 'test-asset1.col1', 'values': [{'Timestamp': '2021-04-21T13:03:02.302417+00:00', 'value': 51.7931713084...\n",
      ">> processing row: [last rows 76]\n",
      "\n",
      "DBG>>> http://localhost:5590/ap... {'producertoken': 'CSM_Test.EDS1', 'messagetype': 'data', 'messageformat': 'json', 'omfversion': '1.0', 'Ocp-Apim-Subscription-Key': '-no-key-'} [{'containerid': 'test-asset1.col1', 'values': [{'Timestamp': '2021-04-21T13:03:04.402417+00:00', 'value': 75.6269261023...\n",
      ">> processing row: [last rows 76]\n",
      "\n",
      "DBG>>> http://localhost:5590/ap... {'producertoken': 'CSM_Test.EDS1', 'messagetype': 'data', 'messageformat': 'json', 'omfversion': '1.0', 'Ocp-Apim-Subscription-Key': '-no-key-'} [{'containerid': 'test-asset1.col1', 'values': [{'Timestamp': '2021-04-21T13:03:06.402417+00:00', 'value': 15.6753349303...\n",
      ">> processing row: [last rows 76]\n",
      "\n",
      "DBG>>> http://localhost:5590/ap... {'producertoken': 'CSM_Test.EDS1', 'messagetype': 'data', 'messageformat': 'json', 'omfversion': '1.0', 'Ocp-Apim-Subscription-Key': '-no-key-'} [{'containerid': 'test-asset1.col1', 'values': [{'Timestamp': '2021-04-21T13:03:08.402417+00:00', 'value': 63.7037576226...\n",
      ">> processing row: [last rows 80]\n",
      "\n",
      "DBG>>> http://localhost:5590/ap... {'producertoken': 'CSM_Test.EDS1', 'messagetype': 'data', 'messageformat': 'json', 'omfversion': '1.0', 'Ocp-Apim-Subscription-Key': '-no-key-'} [{'containerid': 'test-asset1.col1', 'values': [{'Timestamp': '2021-04-21T13:03:10.402417+00:00', 'value': 83.5753597715...\n",
      ">> processing row: [last rows 76]\n",
      "\n",
      "DBG>>> http://localhost:5590/ap... {'producertoken': 'CSM_Test.EDS1', 'messagetype': 'data', 'messageformat': 'json', 'omfversion': '1.0', 'Ocp-Apim-Subscription-Key': '-no-key-'} [{'containerid': 'test-asset1.col1', 'values': [{'Timestamp': '2021-04-21T13:03:12.502417+00:00', 'value': 71.4989118022...\n",
      ">> processing row: [last rows 76]\n",
      "\n",
      "DBG>>> http://localhost:5590/ap... {'producertoken': 'CSM_Test.EDS1', 'messagetype': 'data', 'messageformat': 'json', 'omfversion': '1.0', 'Ocp-Apim-Subscription-Key': '-no-key-'} [{'containerid': 'test-asset1.col1', 'values': [{'Timestamp': '2021-04-21T13:03:14.502417+00:00', 'value': 88.2790384140...\n",
      ">> processing row: [last rows 76]\n",
      "\n",
      "DBG>>> http://localhost:5590/ap... {'producertoken': 'CSM_Test.EDS1', 'messagetype': 'data', 'messageformat': 'json', 'omfversion': '1.0', 'Ocp-Apim-Subscription-Key': '-no-key-'} [{'containerid': 'test-asset1.col1', 'values': [{'Timestamp': '2021-04-21T13:03:16.502417+00:00', 'value': 11.3169467851...\n",
      ">> processing row: [last rows 76]\n",
      "\n",
      "DBG>>> http://localhost:5590/ap... {'producertoken': 'CSM_Test.EDS1', 'messagetype': 'data', 'messageformat': 'json', 'omfversion': '1.0', 'Ocp-Apim-Subscription-Key': '-no-key-'} [{'containerid': 'test-asset1.col1', 'values': [{'Timestamp': '2021-04-21T13:03:18.502417+00:00', 'value': 11.2816980845...\n",
      ">> processing row: [last rows 76]\n",
      "\n",
      "DBG>>> http://localhost:5590/ap... {'producertoken': 'CSM_Test.EDS1', 'messagetype': 'data', 'messageformat': 'json', 'omfversion': '1.0', 'Ocp-Apim-Subscription-Key': '-no-key-'} [{'containerid': 'test-asset1.col1', 'values': [{'Timestamp': '2021-04-21T13:03:20.502417+00:00', 'value': 32.3366930584...\n",
      ">> processing row: [last rows 80]\n",
      "\n",
      "DBG>>> http://localhost:5590/ap... {'producertoken': 'CSM_Test.EDS1', 'messagetype': 'data', 'messageformat': 'json', 'omfversion': '1.0', 'Ocp-Apim-Subscription-Key': '-no-key-'} [{'containerid': 'test-asset1.col1', 'values': [{'Timestamp': '2021-04-21T13:03:22.502417+00:00', 'value': 69.8291834966...\n",
      ">> processing row: [last rows 76]\n",
      "\n",
      "DBG>>> http://localhost:5590/ap... {'producertoken': 'CSM_Test.EDS1', 'messagetype': 'data', 'messageformat': 'json', 'omfversion': '1.0', 'Ocp-Apim-Subscription-Key': '-no-key-'} [{'containerid': 'test-asset1.col1', 'values': [{'Timestamp': '2021-04-21T13:03:24.602417+00:00', 'value': 46.7498574112...\n",
      ">> processing row: [last rows 76]\n",
      "\n",
      "DBG>>> http://localhost:5590/ap... {'producertoken': 'CSM_Test.EDS1', 'messagetype': 'data', 'messageformat': 'json', 'omfversion': '1.0', 'Ocp-Apim-Subscription-Key': '-no-key-'} [{'containerid': 'test-asset1.col1', 'values': [{'Timestamp': '2021-04-21T13:03:26.602417+00:00', 'value': 45.7004073167...\n",
      ">> processing row: [last rows 76]\n",
      "\n",
      "DBG>>> http://localhost:5590/ap... {'producertoken': 'CSM_Test.EDS1', 'messagetype': 'data', 'messageformat': 'json', 'omfversion': '1.0', 'Ocp-Apim-Subscription-Key': '-no-key-'} [{'containerid': 'test-asset1.col1', 'values': [{'Timestamp': '2021-04-21T13:03:28.602417+00:00', 'value': 49.5724820785...\n",
      ">> processing row: [last rows 76]\n",
      "\n",
      "DBG>>> http://localhost:5590/ap... {'producertoken': 'CSM_Test.EDS1', 'messagetype': 'data', 'messageformat': 'json', 'omfversion': '1.0', 'Ocp-Apim-Subscription-Key': '-no-key-'} [{'containerid': 'test-asset1.col1', 'values': [{'Timestamp': '2021-04-21T13:03:30.602417+00:00', 'value': 43.1217993349...\n",
      ">> processing row: [last rows 40]\n",
      "\n",
      "DBG>>> http://localhost:5590/ap... {'producertoken': 'CSM_Test.EDS1', 'messagetype': 'data', 'messageformat': 'json', 'omfversion': '1.0', 'Ocp-Apim-Subscription-Key': '-no-key-'} [{'containerid': 'test-asset1.col1', 'values': [{'Timestamp': '2021-04-21T13:03:32.602417+00:00', 'value': 81.1843408762...\n",
      "--- done ---\n"
     ]
    }
   ],
   "source": [
    "cursor = Cursor(batch_period)\n",
    "tdf = shift_df_to_now(df)\n",
    "\n",
    "print(f\"len={len(tdf)}\")\n",
    "\n",
    "omf = OMFClient(\"-no-key-\", debug=debug)\n",
    "\n",
    "omf.create_streams(tdf, asset_name, debug=debug)\n",
    "\n",
    "try: \n",
    "    while True:\n",
    "        time.sleep(batch_period)\n",
    "        slice = next_slice(tdf, cursor)\n",
    "        # print(\n",
    "        #     \"---\\n\",\n",
    "        #    slice.iloc[0][\"Timestamp\"],\n",
    "        #    \"\\n\",\n",
    "        #    slice.iloc[len(slice) - 1][\"Timestamp\"],\n",
    "        #    len(slice),\n",
    "        # )\n",
    "        omf.update_streams(slice, debug=debug)\n",
    "except StopIteration:\n",
    "    print(\"--- done ---\")"
   ]
  },
  {
   "cell_type": "code",
   "execution_count": null,
   "metadata": {},
   "outputs": [],
   "source": []
  }
 ],
 "metadata": {
  "kernelspec": {
   "display_name": "Python 3",
   "language": "python",
   "name": "python3"
  },
  "language_info": {
   "codemirror_mode": {
    "name": "ipython",
    "version": 3
   },
   "file_extension": ".py",
   "mimetype": "text/x-python",
   "name": "python",
   "nbconvert_exporter": "python",
   "pygments_lexer": "ipython3",
   "version": "3.7.6"
  }
 },
 "nbformat": 4,
 "nbformat_minor": 4
}
