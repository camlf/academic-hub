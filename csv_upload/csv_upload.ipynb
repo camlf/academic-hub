{
 "cells": [
  {
   "cell_type": "code",
   "execution_count": 1,
   "metadata": {},
   "outputs": [],
   "source": [
    "%gui asyncio"
   ]
  },
  {
   "cell_type": "code",
   "execution_count": 2,
   "metadata": {},
   "outputs": [],
   "source": [
    "import ocs_academic_hub\n",
    "from ocs_academic_hub import OMFClient\n",
    "from ipywidgets import IntSlider, Output\n",
    "import ipywidgets as widgets\n",
    "import pandas as pd\n",
    "import requests\n",
    "import asyncio\n",
    "import io\n",
    "import json\n",
    "import os\n",
    "from dateutil import parser\n",
    "from dateutil.tz import *\n",
    "import datetime\n",
    "import chardet"
   ]
  },
  {
   "cell_type": "code",
   "execution_count": 3,
   "metadata": {},
   "outputs": [],
   "source": [
    "# ocs_academic_hub.version()  # version >= 0.67.0 \n",
    "\n",
    "# OMF Client to upload Pandas datafrome (df) with time-series data\n",
    "#\n",
    "# api_key is distribute by OSIsoft, acts both as an API key (Azure API Mgmt) and for data routing\n",
    "#\n",
    "# Code:\n",
    "#    omf_client = OMFClient(api_key, asset_name)\n",
    "#    omf_client.update_tags(df)\n",
    "# \n",
    "# where each named column in df becomes a tag with the following format:\n",
    "#\n",
    "#    <university>.<asset_name>.<column_name>"
   ]
  },
  {
   "cell_type": "markdown",
   "metadata": {},
   "source": [
    "<img src=\"https://academichub.blob.core.windows.net/images/logo_rgb.png\" align=\"left\" alt=\"drawing\" width=\"55\"/>\n",
    "\n",
    "## &nbsp;&nbsp; OSIsoft Academic Hub \n",
    "\n",
    "###  **CSV Load/Extract/Transfer version 2.9.2**\n",
    "---\n",
    "### 1) Select timestamp format\n",
    "* **ISO8601: standard format for hub data request** (e.g. 2020-02-25T15:24:32.43, for more [info](https://academic.osisoft.com/time-help))\n",
    "* **Unix: for column is a Unix timestamp (supports decimal digits)***\n",
    "* **H00: first two columns are Date and Time**\n",
    "\n",
    "\n",
    "### 2) Enter API key provided by OSIsoft\n",
    "### 3) Enter experiment or asset name for data\n",
    "### 4) Click `Upload` button, then select CSV file to transfer \n",
    "\n",
    "If CSV is in a valid format, progress information will show up until completion. \n",
    "\n",
    "**Note: this web application can transfer one CSV at a time. Reload this web page to restart and upload a new CSV or after an error**"
   ]
  },
  {
   "cell_type": "code",
   "execution_count": 4,
   "metadata": {},
   "outputs": [],
   "source": [
    "def wait_for_change(widget, value):\n",
    "    future = asyncio.Future()\n",
    "\n",
    "    def getvalue(change):\n",
    "        # make the new value available\n",
    "        future.set_result(change.new)\n",
    "        widget.unobserve(getvalue, value)\n",
    "\n",
    "    widget.observe(getvalue, value)\n",
    "    return future"
   ]
  },
  {
   "cell_type": "code",
   "execution_count": 5,
   "metadata": {},
   "outputs": [
    {
     "data": {
      "application/vnd.jupyter.widget-view+json": {
       "model_id": "aec1e50821e243faba927a9a13fa340f",
       "version_major": 2,
       "version_minor": 0
      },
      "text/plain": [
       "RadioButtons(description='Timestamp:', options=('ISO8601', 'Unix', 'H00'), value='ISO8601')"
      ]
     },
     "metadata": {},
     "output_type": "display_data"
    },
    {
     "data": {
      "application/vnd.jupyter.widget-view+json": {
       "model_id": "0575c0f9732741c3bd8ac0f9d61586d4",
       "version_major": 2,
       "version_minor": 0
      },
      "text/plain": [
       "Text(value='', description='API key:', placeholder='Type provided API key')"
      ]
     },
     "metadata": {},
     "output_type": "display_data"
    },
    {
     "data": {
      "application/vnd.jupyter.widget-view+json": {
       "model_id": "26593287d99740a5bdbadef1df5ecac9",
       "version_major": 2,
       "version_minor": 0
      },
      "text/plain": [
       "Text(value='', description='Experiment:', placeholder='Name of experiment or asset')"
      ]
     },
     "metadata": {},
     "output_type": "display_data"
    },
    {
     "data": {
      "application/vnd.jupyter.widget-view+json": {
       "model_id": "8d194d2838884c539ab91b3527004c71",
       "version_major": 2,
       "version_minor": 0
      },
      "text/plain": [
       "FileUpload(value={}, description='Upload')"
      ]
     },
     "metadata": {},
     "output_type": "display_data"
    },
    {
     "data": {
      "application/vnd.jupyter.widget-view+json": {
       "model_id": "5ed1a445e8b6452d9ca42b56e62b0cb7",
       "version_major": 2,
       "version_minor": 0
      },
      "text/plain": [
       "Output()"
      ]
     },
     "metadata": {},
     "output_type": "display_data"
    }
   ],
   "source": [
    "upload = widgets.FileUpload()\n",
    "timestamp_format = widgets.RadioButtons(\n",
    "    options=[\"ISO8601\", \"Unix\", \"H00\"], description=\"Timestamp:\", disabled=False\n",
    ")\n",
    "api_key = widgets.Text(\n",
    "    value=\"\",\n",
    "    placeholder=\"Type provided API key\",\n",
    "    description=\"API key:\",\n",
    "    disabled=False,\n",
    ")\n",
    "experiment = widgets.Text(\n",
    "    value=\"\",\n",
    "    placeholder=\"Name of experiment or asset\",\n",
    "    description=\"Experiment:\",\n",
    "    disabled=False,\n",
    ")\n",
    "out = Output()\n",
    "\n",
    "\n",
    "def my_append_stdout(message, end=\"\\n\"):\n",
    "    out.append_stdout(message + end)\n",
    "\n",
    "\n",
    "def load_extract_transfer(value, api_key, timestamp_format, timezone=\"-07:00\"):\n",
    "    asset = experiment.value\n",
    "    if len(asset) == 0:\n",
    "        out.append_stdout(\"@@ experiment/asset name should not be empty\\n\")\n",
    "        return \"FAILED\"\n",
    "\n",
    "    omf_client = OMFClient(api_key, my_append_stdout)\n",
    "    if not omf_client.is_ok():\n",
    "        out.append_stdout(\n",
    "            \"\\n@@ please correct reported issue (code 400 = bad API key)\\n\"\n",
    "        )\n",
    "        return \"FAILED\"\n",
    "\n",
    "    try:\n",
    "        file_key = list(value.keys())[0]\n",
    "        detected = chardet.detect(value[file_key][\"content\"])\n",
    "        out.append_stdout(f\">> Filename: {file_key} + ({detected})\\n\")\n",
    "        data = value[file_key][\"content\"].decode(detected[\"encoding\"])\n",
    "        df = pd.read_csv(io.StringIO(data))\n",
    "        out.append_stdout(\"[df.read_csv ok]\\n\")\n",
    "\n",
    "        if timestamp_format == \"H00\" or timestamp_format == \"Unix\":\n",
    "            if timestamp_format == \"H00\":\n",
    "                if list(df.columns[:2]) != [\"Date\", \"Time\"]:\n",
    "                    out.append_stdout(\n",
    "                        f\"@@@ first two columns must be Date and Time for H00 format\"\n",
    "                    )\n",
    "                    return \"FAILED\"\n",
    "            elif list(df.columns[:1]) != [\"Time\"]:\n",
    "                out.append_stdout(\n",
    "                    f\"@@@ first column must be called Time and contains Unix timestamps\"\n",
    "                )\n",
    "                return \"FAILED\"\n",
    "\n",
    "            if df.isnull().values.any():\n",
    "                my_append_stdout(\n",
    "                    f\"@@@ some values are missing, please correct and resubmit\"\n",
    "                )\n",
    "                return \"FAILED\"\n",
    "\n",
    "            message = (\n",
    "                \"Date+Time columns\" if timestamp_format == \"H00\" else \"Time column\"\n",
    "            )\n",
    "            out.append_stdout(f\"[transforming {message} into ISO8601 timestamp]\\n\")\n",
    "            df[\"Timestamp\"] = parser.parse(\"2020-01-01T00:00Z\")\n",
    "            timestamp_column_index = len(df.columns) - 1\n",
    "            if timestamp_format == \"H00\":\n",
    "                for i, r in enumerate(df.itertuples()):\n",
    "                    row_dict = r._asdict()\n",
    "                    #\n",
    "                    # Time format is HH:MM:SS:ss, needs to be HH:MM:SS.ss\n",
    "                    #\n",
    "                    last_colon = r.Time.rfind(\":\")\n",
    "                    new_time = r.Time[:last_colon] + \".\" + r.Time[last_colon + 1 :]\n",
    "                    df.iloc[i, timestamp_column_index] = parser.parse(\n",
    "                        r.Date + \" \" + new_time + \" \" + timezone\n",
    "                    )\n",
    "                    if (i + 1) % 20 == 0:\n",
    "                        out.append_stdout(\".\")\n",
    "                        if (i + 1) % (80 * 20) == 0:\n",
    "                            out.append_stdout(f\" [row {i+1}]\\n\")\n",
    "            else:\n",
    "                # Unix timestamp\n",
    "                df[\"Timestamp\"] = df[\"Time\"].apply(\n",
    "                    lambda ts: datetime.datetime.fromtimestamp(ts)\n",
    "                )\n",
    "\n",
    "            new_columns = [\"Timestamp\"] + list(df.columns)[\n",
    "                2 if timestamp_format == \"H00\" else 1 : -1\n",
    "            ]\n",
    "            out.append_stdout(f\"\\n[transformation done]\\n\")\n",
    "            df = df[new_columns]\n",
    "        else:\n",
    "            if df.columns[0] != \"Timestamp\":\n",
    "                out.append_stdout(\n",
    "                    f\"@@@ First column should be Timestamp (found {df.columns[0]})\\n\"\n",
    "                )\n",
    "                return \"FAILED\"\n",
    "\n",
    "        omf_client.update_tags(\n",
    "            df,\n",
    "            asset,\n",
    "            printg=my_append_stdout,\n",
    "            info_only=True if asset == \"debug\" else False,\n",
    "            debug=False,\n",
    "        )\n",
    "\n",
    "    except Exception as e:\n",
    "        out.append_stdout(\n",
    "            f\"\\n\\n!!!! Error processing CSV, exception={e}, contact hubsupport@osisoft.com\\n\"\n",
    "        )\n",
    "        return f\"@@Error {file_key}\\n\\n\"\n",
    "\n",
    "    return f\"OK {file_key}\"\n",
    "\n",
    "\n",
    "async def f():\n",
    "    out.append_stdout(\"Click *Upload* button to select CSV file for transfer to Hub \\n\")\n",
    "    x = await wait_for_change(upload, \"value\")\n",
    "    out.append_stdout(\n",
    "        \"working on load, extract and tranfer... \"\n",
    "        + str(list(upload.value.keys())[0])\n",
    "        + \"\\n\"\n",
    "    )\n",
    "    status = load_extract_transfer(\n",
    "        upload.value, api_key=api_key.value, timestamp_format=timestamp_format.value\n",
    "    )\n",
    "    out.append_stdout(f\"Upload status {status}\\n\")\n",
    "\n",
    "\n",
    "asyncio.ensure_future(f())\n",
    "\n",
    "display(timestamp_format)\n",
    "display(api_key)\n",
    "display(experiment)\n",
    "display(upload)\n",
    "display(out)"
   ]
  },
  {
   "cell_type": "code",
   "execution_count": null,
   "metadata": {},
   "outputs": [],
   "source": []
  }
 ],
 "metadata": {
  "kernelspec": {
   "display_name": "Python 3",
   "language": "python",
   "name": "python3"
  },
  "language_info": {
   "codemirror_mode": {
    "name": "ipython",
    "version": 3
   },
   "file_extension": ".py",
   "mimetype": "text/x-python",
   "name": "python",
   "nbconvert_exporter": "python",
   "pygments_lexer": "ipython3",
   "version": "3.7.3"
  }
 },
 "nbformat": 4,
 "nbformat_minor": 4
}
