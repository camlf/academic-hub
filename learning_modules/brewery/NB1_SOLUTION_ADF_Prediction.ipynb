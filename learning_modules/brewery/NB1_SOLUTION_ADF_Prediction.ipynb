{
 "cells": [
  {
   "cell_type": "markdown",
   "source": "<h1>Table of Contents<span class=\"tocSkip\"></span></h1>\n<div class=\"toc\"><ul class=\"toc-item\"><li><span><a href=\"#Introduction-to-Time-Series-Analysis:-Predicting-the-Apparent-Degree-of-Fermentation-(ADF)\" data-toc-modified-id=\"Introduction-to-Time-Series-Analysis:-Predicting-the-Apparent-Degree-of-Fermentation-(ADF)-1\">Introduction to Time-Series Analysis: Predicting the Apparent Degree of Fermentation (ADF)</a></span><ul class=\"toc-item\"><li><span><a href=\"#The-Goal\" data-toc-modified-id=\"The-Goal-1.1\">The Goal</a></span></li><li><span><a href=\"#This-Notebook\" data-toc-modified-id=\"This-Notebook-1.2\">This Notebook</a></span><ul class=\"toc-item\"><li><span><a href=\"#Part-1.-Define-system-parameters\" data-toc-modified-id=\"Part-1.-Define-system-parameters-1.2.1\">Part 1. Define system parameters</a></span></li><li><span><a href=\"#Part-2.-Acquire-brewery-data\" data-toc-modified-id=\"Part-2.-Acquire-brewery-data-1.2.2\">Part 2. Acquire brewery data</a></span></li><li><span><a href=\"#Part-3.-Create-utility-functions-for-visualizing-data\" data-toc-modified-id=\"Part-3.-Create-utility-functions-for-visualizing-data-1.2.3\">Part 3. Create utility functions for visualizing data</a></span></li><li><span><a href=\"#Part-4.-Pre-process-brewery-data\" data-toc-modified-id=\"Part-4.-Pre-process-brewery-data-1.2.4\">Part 4. Pre-process brewery data</a></span></li><li><span><a href=\"#Part-5.-Fitting-and-analysis\" data-toc-modified-id=\"Part-5.-Fitting-and-analysis-1.2.5\">Part 5. Fitting and analysis</a></span></li></ul></li><li><span><a href=\"#Your-task\" data-toc-modified-id=\"Your-task-1.3\">Your task</a></span></li><li><span><a href=\"#Part-1.-Define-system-parameters\" data-toc-modified-id=\"Part-1.-Define-system-parameters-1.4\">Part 1. Define system parameters</a></span></li><li><span><a href=\"#Part-2.-Acquire-data-from-Deschutes-Brewery\" data-toc-modified-id=\"Part-2.-Acquire-data-from-Deschutes-Brewery-1.5\">Part 2. Acquire data from Deschutes Brewery</a></span><ul class=\"toc-item\"><li><span><a href=\"#Part-2b.-Download-data-with-data-views\" data-toc-modified-id=\"Part-2b.-Download-data-with-data-views-1.5.1\">Part 2b. Download data with data views</a></span><ul class=\"toc-item\"><li><span><a href=\"#Find-assets-and-their-predefined-Data-Views\" data-toc-modified-id=\"Find-assets-and-their-predefined-Data-Views-1.5.1.1\">Find assets and their predefined Data Views</a></span></li><li><span><a href=\"#data-view-Structure-for-Fermenter-Vessels\" data-toc-modified-id=\"data-view-Structure-for-Fermenter-Vessels-1.5.1.2\">data view Structure for Fermenter Vessels</a></span></li><li><span><a href=\"#Get-Interpolated-Data-from-Data-View\" data-toc-modified-id=\"Get-Interpolated-Data-from-Data-View-1.5.1.3\">Get Interpolated Data from Data View</a></span></li><li><span><a href=\"#Verify-Data-Ordering-of-Results\" data-toc-modified-id=\"Verify-Data-Ordering-of-Results-1.5.1.4\">Verify Data Ordering of Results</a></span></li></ul></li></ul></li><li><span><a href=\"#Part-3.-Create-utility-functions-for-visualizing-data\" data-toc-modified-id=\"Part-3.-Create-utility-functions-for-visualizing-data-1.6\">Part 3. Create utility functions for visualizing data</a></span><ul class=\"toc-item\"><li><span><a href=\"#Part-3a.-Function-for-previewing-data\" data-toc-modified-id=\"Part-3a.-Function-for-previewing-data-1.6.1\">Part 3a. Function for previewing data</a></span></li><li><span><a href=\"#Part-3b.-Function-for-plotting-fit-and-normality\" data-toc-modified-id=\"Part-3b.-Function-for-plotting-fit-and-normality-1.6.2\">Part 3b. Function for plotting fit and normality</a></span></li></ul></li><li><span><a href=\"#Part-4.-Pre-process-brewery-data\" data-toc-modified-id=\"Part-4.-Pre-process-brewery-data-1.7\">Part 4. Pre-process brewery data</a></span><ul class=\"toc-item\"><li><span><a href=\"#Part-4a.-Filter-out-data-with-known-bad-values\" data-toc-modified-id=\"Part-4a.-Filter-out-data-with-known-bad-values-1.7.1\">Part 4a. Filter out data with known bad values</a></span></li><li><span><a href=\"#Part-4b.-Preview-raw-ADF-profile\" data-toc-modified-id=\"Part-4b.-Preview-raw-ADF-profile-1.7.2\">Part 4b. Preview raw ADF profile</a></span></li><li><span><a href=\"#Part-4c.-Create-smoothed-ADF-profile\" data-toc-modified-id=\"Part-4c.-Create-smoothed-ADF-profile-1.7.3\">Part 4c. Create smoothed ADF profile</a></span></li><li><span><a href=\"#Part-4d.-Preview-smooth-ADF-profile\" data-toc-modified-id=\"Part-4d.-Preview-smooth-ADF-profile-1.7.4\">Part 4d. Preview smooth ADF profile</a></span></li></ul></li><li><span><a href=\"#Part-5.-Fitting-and-analysis\" data-toc-modified-id=\"Part-5.-Fitting-and-analysis-1.8\">Part 5. Fitting and analysis</a></span><ul class=\"toc-item\"><li><span><a href=\"#Part-5a.-Fitting-to-a-linear-model\" data-toc-modified-id=\"Part-5a.-Fitting-to-a-linear-model-1.8.1\">Part 5a. Fitting to a linear model</a></span></li><li><span><a href=\"#Part-5b.-Fitting-to-a-piecewise-linear-model\" data-toc-modified-id=\"Part-5b.-Fitting-to-a-piecewise-linear-model-1.8.2\">Part 5b. Fitting to a piecewise linear model</a></span></li></ul></li></ul></li></ul></div>",
   "metadata": {
    "papermill": {
     "duration": 0.022603,
     "end_time": "2020-08-14T19:29:49.535741",
     "exception": false,
     "start_time": "2020-08-14T19:29:49.513138",
     "status": "completed"
    },
    "tags": [],
    "toc": true,
    "cell_id": "00000-30da5dc0-5699-44a4-8f32-34f330601aef",
    "deepnote_cell_type": "markdown"
   }
  },
  {
   "cell_type": "markdown",
   "source": "---\n---\n**Professor/TA Section Only**\n\nThe present notebook is a SOLUTION notebook with identified code blocks students should fill in. All student code blocks have the following format:\n\n    # we are only interested in events in status=\"Fermentation\"\n    # TODO: complete the filter expression to keep only data corresponding to the fermentation stages\n    # =========== STUDENT BEGIN ==========\n    # brand_df = brand_df[@@@ Your code here @@@]\n    # =========== STUDENT END ==========\n    brand_df = brand_df[brand_df[\"Status\"] == \"Fermentation\"]\n    # =========== STUDENT SOLUTION ===========\n      \n* A sequence of STUDENT BEGIN / STUDENT END / STUDENT SOLUTION keyword lines\n* All lines between BEGIN / END are commented out with missing pieces clearly identified\n* The SOLUTION part should not be commented out\n\nIf you follow the rules above, executing the cell below produces a fresh exercise notebook using `generate_exercise_notebook` where the exercise notebook has the following changes:\n\n* This cell and the next one are removed\n* The notebook filename is the same as this one except \"SOLUTION\" => \"EXERCISE\"\n* Solution lines are stripped out and lines of code between BEGIN / END have the comment character # removed\n\nThe EXERCISE notebook is executable up to the point of the first student code block where a syntax error will be reported. \n\n**Uncomment line `generate_exercise_notebook` to write/update the exercise notebook.** ",
   "metadata": {
    "papermill": {
     "duration": 0.022769,
     "end_time": "2020-08-14T19:29:49.582215",
     "exception": false,
     "start_time": "2020-08-14T19:29:49.559446",
     "status": "completed"
    },
    "tags": [],
    "toc-hr-collapsed": false,
    "cell_id": "00001-0e6fec5c-7d9b-42f4-8ae4-f2b22f897836",
    "deepnote_cell_type": "markdown"
   }
  },
  {
   "cell_type": "code",
   "metadata": {
    "execution": {
     "iopub.execute_input": "2020-08-14T19:29:49.634245Z",
     "iopub.status.busy": "2020-08-14T19:29:49.633379Z",
     "iopub.status.idle": "2020-08-14T19:29:55.497609Z",
     "shell.execute_reply": "2020-08-14T19:29:55.496748Z"
    },
    "papermill": {
     "duration": 5.891614,
     "end_time": "2020-08-14T19:29:55.497783",
     "exception": false,
     "start_time": "2020-08-14T19:29:49.606169",
     "status": "completed"
    },
    "tags": [],
    "toc-hr-collapsed": false,
    "cell_id": "00002-d25a05ac-2306-442b-acf8-a5c91fc0d822",
    "deepnote_to_be_reexecuted": false,
    "source_hash": "9f98ca6f",
    "execution_start": 1642202948822,
    "execution_millis": 582,
    "output_cleared": false,
    "deepnote_cell_type": "code"
   },
   "source": "#!pip uninstall -y ocs-academic-hub ocs-sample-library-preview\n\nimport os\ntry:\n    import ocs_academic_hub\nexcept ModuleNotFoundError:\n    !pip install ocs-academic-hub==0.99.38\n\nfrom ocs_academic_hub.learning import generate_exercise_notebook\n\ngenerate_exercise_notebook(os.environ.get(\"NB_SOURCE\", \"NB1_SOLUTION_ADF_Prediction.ipynb\"))",
   "outputs": [
    {
     "name": "stdout",
     "text": "\n==== HUB EXERCISE NOTEBOOK GENERATION BEGIN =====\nSource NB: NB1_SOLUTION_ADF_Prediction.ipynb\n>> No exercise filename specified, replace \"SOLUTION\" with \"EXERCISE\" in NB1_SOLUTION_ADF_Prediction.ipynb: NB1_EXERCISE_ADF_Prediction.ipynb\nStudent code block(s) in cell 37\n[block processed ok][block processed ok]\nStudent code block(s) in cell 39\n[block processed ok]\nStudent code block(s) in cell 49\n[block processed ok]\nProfessor cells removed: [1, 2]\nExercise NB: NB1_EXERCISE_ADF_Prediction.ipynb\n==== HUB EXERCISE NOTEBOOK GENERATION END =====\n",
     "output_type": "stream"
    }
   ],
   "execution_count": null
  },
  {
   "cell_type": "markdown",
   "source": "---\n# Introduction to Time-Series Analysis: Predicting the Apparent Degree of Fermentation (ADF)\n---\nThe Apparent Degree of Fermentation (ADF) is one of the critical parameters monitored during the beer manufacturing processes. Deschutes Brewery previously obtained the ADF values based on the manual sampling of the specific gravity. The specific gravity is the relative density of the solution to the water density. Given the specific gravity, ADF is calculated as follows:\n\n$$\\text{Apparent Degree of Fermentaion} = \\frac{\\text{Starting Specific  Gravity - Current Specific Gravity}} {\\text{Starting Specific Gravity - 1}}$$\n \nThe ADF is a crucial index when determining the transition point from the \"Fermentation\" phase to the \"Free Rise\" phase. The brewery should have the capability to detect the transition point to maintain consistent beer quality and release the product on time.\n\nThe ADF can be measured either manually or with an automated ADF sensor. Using an automated ADF sensor requires a high capital investment. The manual sampling of ADF on the other hand is affordable but laborious. \n\nHowever, the brewery can enhance manual measurements of ADF by using them to create a predictive model. By creating such  predictive models, Deschutes Brewery saved $750k in capital investments by opting out of automated ADF sensors and reducing the operation time by being able to predict transition points.\n\nIn this notebook, students will use real process data from Deschutes Brewery to create and evalutate models for predicting the ADF.\n\nFirst, make sure that all required libraries are installed.",
   "metadata": {
    "papermill": {
     "duration": 0.030333,
     "end_time": "2020-08-14T19:29:55.558713",
     "exception": false,
     "start_time": "2020-08-14T19:29:55.528380",
     "status": "completed"
    },
    "tags": [],
    "toc-hr-collapsed": false,
    "cell_id": "00003-75851853-2693-4c08-ad33-da60c2e9c0dc",
    "deepnote_cell_type": "markdown"
   }
  },
  {
   "cell_type": "code",
   "metadata": {
    "execution": {
     "iopub.execute_input": "2020-08-14T19:29:55.669940Z",
     "iopub.status.busy": "2020-08-14T19:29:55.669109Z",
     "iopub.status.idle": "2020-08-14T19:30:01.197214Z",
     "shell.execute_reply": "2020-08-14T19:30:01.196272Z"
    },
    "papermill": {
     "duration": 5.587341,
     "end_time": "2020-08-14T19:30:01.197364",
     "exception": false,
     "start_time": "2020-08-14T19:29:55.610023",
     "status": "completed"
    },
    "tags": [],
    "cell_id": "00004-d65620c2-6743-405d-985f-1995e499da53",
    "deepnote_to_be_reexecuted": false,
    "source_hash": "b8da7d23",
    "execution_start": 1642202949407,
    "execution_millis": 3161,
    "output_cleared": false,
    "deepnote_cell_type": "code"
   },
   "source": "try:\n    import ocs_academic_hub\nexcept ModuleNotFoundError:\n    !pip install ocs-academic-hub==0.99.38\n    import ocs_academic_hub\n    \n# install piecewise linear functions for fitting        \n!pip install plotly_express pwlf sklearn",
   "outputs": [
    {
     "name": "stdout",
     "text": "Requirement already satisfied: plotly_express in /root/venv/lib/python3.7/site-packages (0.4.1)\nRequirement already satisfied: pwlf in /root/venv/lib/python3.7/site-packages (2.0.5)\nRequirement already satisfied: sklearn in /root/venv/lib/python3.7/site-packages (0.0)\nRequirement already satisfied: plotly>=4.1.0 in /shared-libs/python3.7/py/lib/python3.7/site-packages (from plotly_express) (5.4.0)\nRequirement already satisfied: scipy>=0.18 in /shared-libs/python3.7/py/lib/python3.7/site-packages (from plotly_express) (1.7.3)\nRequirement already satisfied: statsmodels>=0.9.0 in /root/venv/lib/python3.7/site-packages (from plotly_express) (0.13.1)\nRequirement already satisfied: numpy>=1.11 in /shared-libs/python3.7/py/lib/python3.7/site-packages (from plotly_express) (1.19.5)\nRequirement already satisfied: pandas>=0.20.0 in /shared-libs/python3.7/py/lib/python3.7/site-packages (from plotly_express) (1.2.5)\nRequirement already satisfied: patsy>=0.5 in /root/venv/lib/python3.7/site-packages (from plotly_express) (0.5.2)\nRequirement already satisfied: pyDOE>=0.3.8 in /root/venv/lib/python3.7/site-packages (from pwlf) (0.3.8)\nRequirement already satisfied: scikit-learn in /shared-libs/python3.7/py/lib/python3.7/site-packages (from sklearn) (1.0.1)\nRequirement already satisfied: tenacity>=6.2.0 in /shared-libs/python3.7/py/lib/python3.7/site-packages (from plotly>=4.1.0->plotly_express) (8.0.1)\nRequirement already satisfied: six in /shared-libs/python3.7/py-core/lib/python3.7/site-packages (from plotly>=4.1.0->plotly_express) (1.16.0)\nRequirement already satisfied: pytz>=2017.3 in /shared-libs/python3.7/py/lib/python3.7/site-packages (from pandas>=0.20.0->plotly_express) (2021.3)\nRequirement already satisfied: python-dateutil>=2.7.3 in /shared-libs/python3.7/py-core/lib/python3.7/site-packages (from pandas>=0.20.0->plotly_express) (2.8.2)\nRequirement already satisfied: threadpoolctl>=2.0.0 in /shared-libs/python3.7/py/lib/python3.7/site-packages (from scikit-learn->sklearn) (3.0.0)\nRequirement already satisfied: joblib>=0.11 in /shared-libs/python3.7/py/lib/python3.7/site-packages (from scikit-learn->sklearn) (1.1.0)\n\u001b[33mWARNING: You are using pip version 20.1.1; however, version 21.3.1 is available.\nYou should consider upgrading via the '/root/venv/bin/python -m pip install --upgrade pip' command.\u001b[0m\n",
     "output_type": "stream"
    }
   ],
   "execution_count": null
  },
  {
   "cell_type": "markdown",
   "source": "Then import all the required libraries and packages.",
   "metadata": {
    "papermill": {
     "duration": 0.028122,
     "end_time": "2020-08-14T19:30:01.252802",
     "exception": false,
     "start_time": "2020-08-14T19:30:01.224680",
     "status": "completed"
    },
    "tags": [],
    "cell_id": "00005-87bb7224-52ba-4856-9d1c-2c984894acda",
    "deepnote_cell_type": "markdown"
   }
  },
  {
   "cell_type": "code",
   "metadata": {
    "execution": {
     "iopub.execute_input": "2020-08-14T19:30:01.310761Z",
     "iopub.status.busy": "2020-08-14T19:30:01.309906Z",
     "iopub.status.idle": "2020-08-14T19:30:01.864617Z",
     "shell.execute_reply": "2020-08-14T19:30:01.865235Z"
    },
    "papermill": {
     "duration": 0.584912,
     "end_time": "2020-08-14T19:30:01.865410",
     "exception": false,
     "start_time": "2020-08-14T19:30:01.280498",
     "status": "completed"
    },
    "tags": [],
    "cell_id": "00006-0953098f-71dc-43e0-a8bc-8e4e684042cf",
    "deepnote_to_be_reexecuted": false,
    "source_hash": "748c5e67",
    "execution_start": 1642202952577,
    "execution_millis": 832,
    "output_cleared": false,
    "deepnote_cell_type": "code"
   },
   "source": "# Academic Hub module\nfrom ocs_academic_hub.datahub import hub_login\n\n# For OCS configuration and data manipulation\nimport configparser\nfrom dateutil import parser\nimport datetime as dt\nfrom datetime import datetime, timedelta\n\n# packages for plotting\nfrom plotly.subplots import make_subplots\nimport plotly.graph_objs as go\n\n# analysis packages\nimport pandas as pd\nfrom scipy import stats\nfrom sklearn import linear_model\nimport numpy as np\nimport pwlf \n\nprint(\"Required libraries and packages imported.\") ",
   "outputs": [
    {
     "name": "stdout",
     "text": "Required libraries and packages imported.\n",
     "output_type": "stream"
    }
   ],
   "execution_count": null
  },
  {
   "cell_type": "markdown",
   "source": "---\n## The Goal\nThe Apparent Degree of Fermentation or ADF is an important indicator of the status of the fermentation. It indicates how much sugar has been converted into alcohol and could be used to predict transitions from the \"Fermentation\" phase to the \"Free Rise\" phase.\n\nThe ADF is computed from the specific gravity. However, the specific gravity is measured manually through a laborious process which is also performed intermittently.\n\n**In this notebook, we'll use real process data from Deschutes Brewery to create and evaluate predictive models for ADF.**\n\nSuch models could be used to reduce operation time by predicting transitions in the brewery process, thus augmenting the value of manual ADF measurements and reducing the need for making costly capital investments like automated sensors.",
   "metadata": {
    "papermill": {
     "duration": 0.0528,
     "end_time": "2020-08-14T19:30:02.037641",
     "exception": false,
     "start_time": "2020-08-14T19:30:01.984841",
     "status": "completed"
    },
    "tags": [],
    "cell_id": "00007-a6cad780-97ef-4fc4-8c15-3b1482b6a64e",
    "deepnote_cell_type": "markdown"
   }
  },
  {
   "cell_type": "markdown",
   "source": "---\n## This Notebook\n\n### Part 1. Define system parameters\nUser specifies time period, time granularity, fermentor vessels, brand of interest, and other parameters.\n\n### Part 2. Acquire brewery data\nUse OSIsoft Cloud Services (OCS) to obtain real process data from Deschutes Brewery ([2a](#section_2a)) and store it into a dataframe ([2b](#section_2b)).\n\n### Part 3. Create utility functions for visualizing data\nCreate functions for previewing the ADF profile ([3a](#section_3a)); and plotting the ADF prediction model, residuals, and normality tests ([3b](#section_3b)).\n\n### Part 4. Pre-process brewery data\nPre-process the brewery data before fitting and analysis. Remove obviously bad data points and unnecessary attributes ([4a](#section_4a)); identify fermentation batches and compute the duration of fermentation ([4c](#section_4c)); manually remove emergent outliers ([4e](#section_4e)).\n\n### Part 5. Fitting and analysis\nFit the cleaned up data frame to a linear model ([5a](#section_5a)) and then to a piecewise linear model ([5b](#section_5b)). Evaluate and compare the model fits.",
   "metadata": {
    "papermill": {
     "duration": 0.044587,
     "end_time": "2020-08-14T19:30:02.144342",
     "exception": false,
     "start_time": "2020-08-14T19:30:02.099755",
     "status": "completed"
    },
    "tags": [],
    "cell_id": "00008-5283c825-2af4-4436-81ac-ac9e54fd12e6",
    "deepnote_cell_type": "markdown"
   }
  },
  {
   "cell_type": "markdown",
   "source": "---\n## Your task\nSome cells in [Part 4](#section_4) have missing code and contain `TODO` items in comments. \n\nFill in all the missing code to obtain a working notebook. If the notebook runs as intended, one should obtain the following plot for the analysis of the linear model in [Part 5a](#section_5a) and an analogous plot for the piecewise linear fit in [Part 5b](#section_5b):\n\n![](https://academichub.blob.core.windows.net/images/nb1_linear_reg_v1.png)",
   "metadata": {
    "papermill": {
     "duration": 0.04984,
     "end_time": "2020-08-14T19:30:02.256535",
     "exception": false,
     "start_time": "2020-08-14T19:30:02.206695",
     "status": "completed"
    },
    "tags": [],
    "cell_id": "00009-4c2206a0-030b-4e73-bfaf-62bce6c6b683",
    "deepnote_cell_type": "markdown"
   }
  },
  {
   "cell_type": "markdown",
   "source": "---\n## Part 1. Define system parameters\n<a id='section_1'></a>\nUser specifies time period, time granularity, fermentor vessels and brand of interest.",
   "metadata": {
    "papermill": {
     "duration": 0.14052,
     "end_time": "2020-08-14T19:30:02.456581",
     "exception": false,
     "start_time": "2020-08-14T19:30:02.316061",
     "status": "completed"
    },
    "tags": [],
    "cell_id": "00010-bb6d219b-2c02-4fea-a637-001a46fe51a4",
    "deepnote_cell_type": "markdown"
   }
  },
  {
   "cell_type": "code",
   "metadata": {
    "execution": {
     "iopub.execute_input": "2020-08-14T19:30:02.716854Z",
     "iopub.status.busy": "2020-08-14T19:30:02.710674Z",
     "iopub.status.idle": "2020-08-14T19:30:02.719344Z",
     "shell.execute_reply": "2020-08-14T19:30:02.717642Z"
    },
    "papermill": {
     "duration": 0.135365,
     "end_time": "2020-08-14T19:30:02.719509",
     "exception": false,
     "start_time": "2020-08-14T19:30:02.584144",
     "status": "completed"
    },
    "tags": [],
    "cell_id": "00011-81e86964-d499-43db-bd65-179756f9e802",
    "deepnote_to_be_reexecuted": false,
    "source_hash": "2924b568",
    "execution_start": 1642202953381,
    "execution_millis": 28,
    "output_cleared": false,
    "deepnote_cell_type": "code"
   },
   "source": "# relevant days over which to analyze fermentors\nTRAINING_DAYS = 365\n\n# time period in which to analyze fermentation data\nSTART_INDEX = \"2017-01-11T00:00\"\nEND_INDEX = (parser.parse(START_INDEX) + dt.timedelta(days=TRAINING_DAYS)).isoformat()\nprint(f\"# Date range: from {START_INDEX} to {END_INDEX}\")\n\n# define time granularity for data. in this case, get events at 10 minute intervals\nINDEX_INTERVAL = \"00:10:00\"\n\n# brand of interest\nBRAND_OF_INTEREST = \"Realtime Hops\"  # \"Kerberos\"  \n\n\n# (Optional) List of known bad Fermentation IDs to remove from data\nBAD_FERM_IDS = []  # e.g. [\"FV31_20170209\"]",
   "outputs": [
    {
     "name": "stdout",
     "text": "# Date range: from 2017-01-11T00:00 to 2018-01-11T00:00:00\n",
     "output_type": "stream"
    }
   ],
   "execution_count": null
  },
  {
   "cell_type": "markdown",
   "source": "---\n## Part 2. Acquire data from Deschutes Brewery\n<a id='section_2'></a>\n\n---\n**Execute the cell below and follow the indicated steps to log in (an AVEVA banner would show up)** ",
   "metadata": {
    "papermill": {
     "duration": 0.036198,
     "end_time": "2020-08-14T19:30:02.811132",
     "exception": false,
     "start_time": "2020-08-14T19:30:02.774934",
     "status": "completed"
    },
    "tags": [],
    "toc-hr-collapsed": false,
    "cell_id": "00012-2946fa3b-d77d-4283-9ac3-551e53a84cf6",
    "deepnote_cell_type": "markdown"
   }
  },
  {
   "cell_type": "code",
   "source": "widget, hub_client = hub_login()\nwidget",
   "metadata": {
    "cell_id": "93fd22d0-b0c8-433e-a7df-b3308bbb8732",
    "tags": [],
    "deepnote_to_be_reexecuted": false,
    "source_hash": "4fb18ac1",
    "execution_start": 1642202953382,
    "execution_millis": 1901,
    "deepnote_output_heights": [
     1.984375
    ],
    "output_cleared": false,
    "deepnote_cell_type": "code"
   },
   "outputs": [
    {
     "data": {
      "text/plain": "<IPython.core.display.Javascript object>",
      "application/javascript": "\n    let t = JSON.stringify(localStorage.getItem(\"hub_jwt\") || '{\"access_token\": \"none\"}', null, 4);\n    const options = {\n        method: 'POST',\n        body: JSON.stringify(t),\n        headers: {\n            'Content-Type': 'application/json',\n            'Authorization': 'Custom b860d859-be6a-413d-9dc0-af5cea36a801'\n        },\n        // mode: 'no-cors'\n    }; \n    fetch('https://data.academic.osisoft.com/auth/previous_token', options) \n    .then(function (response) {\n        return response.text();\n    })\n    .catch(function (error) {\n        console.log(\"Error: \" + error);\n    });\n    "
     },
     "metadata": {},
     "output_type": "display_data"
    },
    {
     "data": {
      "text/plain": "VBox(children=(HTML(value='<p><img alt=\"AVEVA banner\" src=\"https://academichub.blob.core.windows.net/images/av…",
      "application/vnd.jupyter.widget-view+json": {
       "version_major": 2,
       "version_minor": 0,
       "model_id": "2cadb204ab6b4378ad69adcbd2a733a0"
      }
     },
     "metadata": {},
     "output_type": "display_data"
    }
   ],
   "execution_count": null
  },
  {
   "cell_type": "markdown",
   "source": "Variable `namespace_id` is initialized with the OCS namespace hosting the Deschutes dataset. ",
   "metadata": {
    "cell_id": "fd9e41ab-6a3d-4553-847b-ca3b282dbc4a",
    "tags": [],
    "deepnote_cell_type": "markdown"
   }
  },
  {
   "cell_type": "code",
   "metadata": {
    "execution": {
     "iopub.execute_input": "2020-08-14T19:30:02.932938Z",
     "iopub.status.busy": "2020-08-14T19:30:02.931878Z",
     "iopub.status.idle": "2020-08-14T19:30:03.116519Z",
     "shell.execute_reply": "2020-08-14T19:30:03.120587Z"
    },
    "papermill": {
     "duration": 0.257867,
     "end_time": "2020-08-14T19:30:03.120851",
     "exception": false,
     "start_time": "2020-08-14T19:30:02.862984",
     "status": "completed"
    },
    "tags": [],
    "cell_id": "00013-152843b5-6a8a-444e-939c-687d423cf1b6",
    "deepnote_to_be_reexecuted": false,
    "source_hash": "3af7670e",
    "execution_start": 1642202955300,
    "execution_millis": 650845,
    "output_cleared": false,
    "deepnote_cell_type": "code"
   },
   "source": "dataset = hub_client.current_dataset()\nnamespace_id = hub_client.namespace_of(dataset)\nprint(f\"Current dataset is {dataset} in namespace_id: {namespace_id}\")",
   "outputs": [
    {
     "name": "stdout",
     "text": "Current dataset is Brewery in namespace_id: academic_hub_01\n",
     "output_type": "stream"
    }
   ],
   "execution_count": null
  },
  {
   "cell_type": "markdown",
   "source": "### Part 2b. Download data with data views \n<a id='section_2b'></a>\n\nThe Deschutes dataset is equipped with a set of pre-defined data views to easily extract data related to one asset or more. In this notebook the data of interest is coming from fermenter vessels. The convention for fermenter vessels in this dataset is to have an Asset ID of the format `FV<num>` where `<num>` is a 2 digit number. \nfermenter vessel or more. Each data view is identified by a unique identifier (ID) to be provided when making a requests to get actual data from it. ",
   "metadata": {
    "papermill": {
     "duration": 0.047439,
     "end_time": "2020-08-14T19:30:03.217180",
     "exception": false,
     "start_time": "2020-08-14T19:30:03.169741",
     "status": "completed"
    },
    "tags": [],
    "cell_id": "00014-44179d90-be66-4974-b472-ef88660ad51a",
    "deepnote_cell_type": "markdown"
   }
  },
  {
   "cell_type": "markdown",
   "source": "#### Find assets and their predefined Data Views \n\nFirst to get a list of assets based on a filter, here for fermentation vessel with ID 3x: ",
   "metadata": {
    "papermill": {
     "duration": 0.026625,
     "end_time": "2020-08-14T19:30:03.271967",
     "exception": false,
     "start_time": "2020-08-14T19:30:03.245342",
     "status": "completed"
    },
    "tags": [],
    "cell_id": "00015-041dc604-27f4-4185-b569-cdce4f634eca",
    "deepnote_cell_type": "markdown"
   }
  },
  {
   "cell_type": "code",
   "metadata": {
    "execution": {
     "iopub.execute_input": "2020-08-14T19:30:03.367407Z",
     "iopub.status.busy": "2020-08-14T19:30:03.366415Z",
     "iopub.status.idle": "2020-08-14T19:30:03.375649Z",
     "shell.execute_reply": "2020-08-14T19:30:03.375127Z"
    },
    "papermill": {
     "duration": 0.078515,
     "end_time": "2020-08-14T19:30:03.375760",
     "exception": false,
     "start_time": "2020-08-14T19:30:03.297245",
     "status": "completed"
    },
    "tags": [],
    "cell_id": "00016-88bffefd-a144-48c1-aebe-02854ec2e2cd",
    "deepnote_output_heights": [
     293
    ],
    "deepnote_to_be_reexecuted": false,
    "source_hash": "b382f9e4",
    "execution_start": 1642202955349,
    "execution_millis": 75,
    "output_cleared": false,
    "deepnote_cell_type": "code"
   },
   "source": "hub_client.assets(filter=\"FV3\")",
   "outputs": [
    {
     "output_type": "execute_result",
     "execution_count": 7,
     "data": {
      "application/vnd.deepnote.dataframe.v3+json": {
       "column_count": 2,
       "row_count": 9,
       "columns": [
        {
         "name": "Asset_Id",
         "dtype": "object",
         "stats": {
          "unique_count": 9,
          "nan_count": 0,
          "categories": [
           {
            "name": "FV31",
            "count": 1
           },
           {
            "name": "FV32",
            "count": 1
           },
           {
            "name": "7 others",
            "count": 7
           }
          ]
         }
        },
        {
         "name": "Description",
         "dtype": "object",
         "stats": {
          "unique_count": 1,
          "nan_count": 0,
          "categories": [
           {
            "name": "Fermenter Vessel",
            "count": 9
           }
          ]
         }
        },
        {
         "name": "_deepnote_index_column",
         "dtype": "int64"
        }
       ],
       "rows": [
        {
         "Asset_Id": "FV31",
         "Description": "Fermenter Vessel",
         "_deepnote_index_column": 0
        },
        {
         "Asset_Id": "FV32",
         "Description": "Fermenter Vessel",
         "_deepnote_index_column": 1
        },
        {
         "Asset_Id": "FV33",
         "Description": "Fermenter Vessel",
         "_deepnote_index_column": 2
        },
        {
         "Asset_Id": "FV34",
         "Description": "Fermenter Vessel",
         "_deepnote_index_column": 3
        },
        {
         "Asset_Id": "FV35",
         "Description": "Fermenter Vessel",
         "_deepnote_index_column": 4
        },
        {
         "Asset_Id": "FV36",
         "Description": "Fermenter Vessel",
         "_deepnote_index_column": 5
        },
        {
         "Asset_Id": "FV37",
         "Description": "Fermenter Vessel",
         "_deepnote_index_column": 6
        },
        {
         "Asset_Id": "FV38",
         "Description": "Fermenter Vessel",
         "_deepnote_index_column": 7
        },
        {
         "Asset_Id": "FV39",
         "Description": "Fermenter Vessel",
         "_deepnote_index_column": 8
        }
       ]
      },
      "text/plain": "  Asset_Id       Description\n0     FV31  Fermenter Vessel\n1     FV32  Fermenter Vessel\n2     FV33  Fermenter Vessel\n3     FV34  Fermenter Vessel\n4     FV35  Fermenter Vessel\n5     FV36  Fermenter Vessel\n6     FV37  Fermenter Vessel\n7     FV38  Fermenter Vessel\n8     FV39  Fermenter Vessel",
      "text/html": "<div>\n<style scoped>\n    .dataframe tbody tr th:only-of-type {\n        vertical-align: middle;\n    }\n\n    .dataframe tbody tr th {\n        vertical-align: top;\n    }\n\n    .dataframe thead th {\n        text-align: right;\n    }\n</style>\n<table border=\"1\" class=\"dataframe\">\n  <thead>\n    <tr style=\"text-align: right;\">\n      <th></th>\n      <th>Asset_Id</th>\n      <th>Description</th>\n    </tr>\n  </thead>\n  <tbody>\n    <tr>\n      <th>0</th>\n      <td>FV31</td>\n      <td>Fermenter Vessel</td>\n    </tr>\n    <tr>\n      <th>1</th>\n      <td>FV32</td>\n      <td>Fermenter Vessel</td>\n    </tr>\n    <tr>\n      <th>2</th>\n      <td>FV33</td>\n      <td>Fermenter Vessel</td>\n    </tr>\n    <tr>\n      <th>3</th>\n      <td>FV34</td>\n      <td>Fermenter Vessel</td>\n    </tr>\n    <tr>\n      <th>4</th>\n      <td>FV35</td>\n      <td>Fermenter Vessel</td>\n    </tr>\n    <tr>\n      <th>5</th>\n      <td>FV36</td>\n      <td>Fermenter Vessel</td>\n    </tr>\n    <tr>\n      <th>6</th>\n      <td>FV37</td>\n      <td>Fermenter Vessel</td>\n    </tr>\n    <tr>\n      <th>7</th>\n      <td>FV38</td>\n      <td>Fermenter Vessel</td>\n    </tr>\n    <tr>\n      <th>8</th>\n      <td>FV39</td>\n      <td>Fermenter Vessel</td>\n    </tr>\n  </tbody>\n</table>\n</div>"
     },
     "metadata": {}
    }
   ],
   "execution_count": null
  },
  {
   "cell_type": "markdown",
   "source": "To get the list of pre-defined multi-asset (with `multiple_asset=True`) data views for \"ADF\" analysis. We'll see below the actual definition of this data view. ",
   "metadata": {
    "papermill": {
     "duration": 0.031937,
     "end_time": "2020-08-14T19:30:03.437149",
     "exception": false,
     "start_time": "2020-08-14T19:30:03.405212",
     "status": "completed"
    },
    "tags": [],
    "cell_id": "00017-b872e9c4-e228-4d4e-a13a-d303fb12ff0e",
    "deepnote_cell_type": "markdown"
   }
  },
  {
   "cell_type": "code",
   "metadata": {
    "execution": {
     "iopub.execute_input": "2020-08-14T19:30:03.517034Z",
     "iopub.status.busy": "2020-08-14T19:30:03.516387Z",
     "iopub.status.idle": "2020-08-14T19:30:03.522605Z",
     "shell.execute_reply": "2020-08-14T19:30:03.522107Z"
    },
    "papermill": {
     "duration": 0.052241,
     "end_time": "2020-08-14T19:30:03.522731",
     "exception": false,
     "start_time": "2020-08-14T19:30:03.470490",
     "status": "completed"
    },
    "tags": [],
    "cell_id": "00018-65b41dc8-3fa5-4170-a728-1df6a326c590",
    "deepnote_output_heights": [
     21.1875
    ],
    "deepnote_to_be_reexecuted": false,
    "source_hash": "12afaf60",
    "execution_start": 1642202955393,
    "execution_millis": 35,
    "output_cleared": false,
    "deepnote_cell_type": "code"
   },
   "source": "# Get the list of data view IDs\ndv_ids = hub_client.asset_dataviews(asset=\"FV31\", filter=\"adf\", multiple_asset=True)\ndv_ids",
   "outputs": [
    {
     "output_type": "execute_result",
     "execution_count": 8,
     "data": {
      "text/plain": "['brewery-fv31--36-adf_prediction']"
     },
     "metadata": {}
    }
   ],
   "execution_count": null
  },
  {
   "cell_type": "markdown",
   "source": "---\n#### data view Structure for Fermenter Vessels\n\nEach data view has a set of columns which can be one of the follwowing types: \n\n* Float for numerical data\n* Timestamp for date/time data \n* Integer \n* String \n* Category (digital states)  \n\nThe method `dataview_definition` returns a dataframe with a data view structure represented by the following columns:\n\n* `Asset_Id`: asset identification attached to the row\n* `Column_Name`: name of the column in the result dataframe\n* `Stream_Type`: data type of the values in the column\n* `Stream_UOM`: declared unit of measure for the column\n* `OCS_Stream_Name`: actual OCS stream providing data for this column",
   "metadata": {
    "papermill": {
     "duration": 0.02916,
     "end_time": "2020-08-14T19:30:03.583291",
     "exception": false,
     "start_time": "2020-08-14T19:30:03.554131",
     "status": "completed"
    },
    "tags": [],
    "cell_id": "00019-c4e4962e-fa5e-4252-9808-81cecebda393",
    "deepnote_cell_type": "markdown"
   }
  },
  {
   "cell_type": "code",
   "metadata": {
    "execution": {
     "iopub.execute_input": "2020-08-14T19:30:03.675045Z",
     "iopub.status.busy": "2020-08-14T19:30:03.674272Z",
     "iopub.status.idle": "2020-08-14T19:30:04.172863Z",
     "shell.execute_reply": "2020-08-14T19:30:04.172173Z"
    },
    "papermill": {
     "duration": 0.546317,
     "end_time": "2020-08-14T19:30:04.173028",
     "exception": false,
     "start_time": "2020-08-14T19:30:03.626711",
     "status": "completed"
    },
    "tags": [],
    "cell_id": "00020-14474d77-7502-488c-b639-9ebe84f10752",
    "deepnote_to_be_reexecuted": false,
    "source_hash": "58636a98",
    "execution_start": 1642202955394,
    "execution_millis": 642,
    "output_cleared": false,
    "deepnote_cell_type": "code"
   },
   "source": "# The data view here is a multi-asset one\nprint(hub_client.dataview_definition(namespace_id, dv_ids[0]).to_string(index=False))",
   "outputs": [
    {
     "name": "stdout",
     "text": "Asset_Id             Column_Name Stream_Type Stream_UOM                       OCS_Stream_Name\n    FV31                     ADF       Float                                B2_CL_C2_FV31/ADF\n    FV32                     ADF       Float                                B2_CL_C2_FV32/ADF\n    FV33                     ADF       Float                                B2_CL_C2_FV33/ADF\n    FV34                     ADF       Float                                B2_CL_C2_FV34/ADF\n    FV35                     ADF       Float                                B2_CL_C2_FV35/ADF\n    FV36                     ADF       Float                                B2_CL_C2_FV36/ADF\n    FV31                   Brand    Category                           B2_CL_C2_FV31/BRAND.CV\n    FV32                   Brand    Category                           B2_CL_C2_FV32/BRAND.CV\n    FV33                   Brand    Category                           B2_CL_C2_FV33/BRAND.CV\n    FV34                   Brand    Category                           B2_CL_C2_FV34/BRAND.CV\n    FV35                   Brand    Category                           B2_CL_C2_FV35/BRAND.CV\n    FV36                   Brand    Category                           B2_CL_C2_FV36/BRAND.CV\n    FV31           FV Full Plato       Float      Plato         B2_CL_C2_FV31/DcrsFvFullPlato\n    FV32           FV Full Plato       Float      Plato         B2_CL_C2_FV32/DcrsFvFullPlato\n    FV33           FV Full Plato       Float      Plato         B2_CL_C2_FV33/DcrsFvFullPlato\n    FV34           FV Full Plato       Float      Plato         B2_CL_C2_FV34/DcrsFvFullPlato\n    FV35           FV Full Plato       Float      Plato         B2_CL_C2_FV35/DcrsFvFullPlato\n    FV36           FV Full Plato       Float      Plato         B2_CL_C2_FV36/DcrsFvFullPlato\n    FV31 Fermentation Start Time   Timestamp            B2_CL_C2_FV31/Fermentation_Start_Time\n    FV32 Fermentation Start Time   Timestamp            B2_CL_C2_FV32/Fermentation_Start_Time\n    FV33 Fermentation Start Time   Timestamp            B2_CL_C2_FV33/Fermentation_Start_Time\n    FV34 Fermentation Start Time   Timestamp            B2_CL_C2_FV34/Fermentation_Start_Time\n    FV35 Fermentation Start Time   Timestamp            B2_CL_C2_FV35/Fermentation_Start_Time\n    FV36 Fermentation Start Time   Timestamp            B2_CL_C2_FV36/Fermentation_Start_Time\n    FV31                   Plato       Float      Plato                   B2_CL_C2_FV31/Plato\n    FV32                   Plato       Float      Plato                   B2_CL_C2_FV32/Plato\n    FV33                   Plato       Float      Plato                   B2_CL_C2_FV33/Plato\n    FV34                   Plato       Float      Plato                   B2_CL_C2_FV34/Plato\n    FV35                   Plato       Float      Plato                   B2_CL_C2_FV35/Plato\n    FV36                   Plato       Float      Plato                   B2_CL_C2_FV36/Plato\n    FV31                  Status    Category                          B2_CL_C2_FV31/STATUS.CV\n    FV32                  Status    Category                          B2_CL_C2_FV32/STATUS.CV\n    FV33                  Status    Category                          B2_CL_C2_FV33/STATUS.CV\n    FV34                  Status    Category                          B2_CL_C2_FV34/STATUS.CV\n    FV35                  Status    Category                          B2_CL_C2_FV35/STATUS.CV\n    FV36                  Status    Category                          B2_CL_C2_FV36/STATUS.CV\n",
     "output_type": "stream"
    }
   ],
   "execution_count": null
  },
  {
   "cell_type": "markdown",
   "source": "---\n#### Get Interpolated Data from Data View\n\nTo use a data view one needs:\n\n* namespace hosting the data view\n* its ID\n* start time (also called index since OCS supports non-time indexes)\n* end time\n* interval (of interpolation)\n\nData views return data into CSV (Comma Separated Values) format. The Academic Hub module provides utility functions like `dataviews_interpolated_pd` that returns a ready-to-use Panda dataframe built from those CSVs. Each row starts with a timestamp, followed by the Asset ID of the asset to which the remaining data view result row belong to. \n\n**Note: it may take up to 30 seconds to complete depending on the speed of your connection and computer** ",
   "metadata": {
    "papermill": {
     "duration": 0.035404,
     "end_time": "2020-08-14T19:30:04.244057",
     "exception": false,
     "start_time": "2020-08-14T19:30:04.208653",
     "status": "completed"
    },
    "tags": [],
    "cell_id": "00021-fd8b4f75-e14e-4a16-9b9a-a7d8f4e282a3",
    "deepnote_cell_type": "markdown"
   }
  },
  {
   "cell_type": "code",
   "metadata": {
    "execution": {
     "iopub.execute_input": "2020-08-14T19:30:04.324323Z",
     "iopub.status.busy": "2020-08-14T19:30:04.322932Z",
     "iopub.status.idle": "2020-08-14T19:30:16.930406Z",
     "shell.execute_reply": "2020-08-14T19:30:16.930864Z"
    },
    "papermill": {
     "duration": 12.658391,
     "end_time": "2020-08-14T19:30:16.931008",
     "exception": false,
     "start_time": "2020-08-14T19:30:04.272617",
     "status": "completed"
    },
    "tags": [],
    "cell_id": "00022-83448dbd-5167-4969-b59b-d6ee8fa30ea0",
    "deepnote_to_be_reexecuted": false,
    "source_hash": "b37503f3",
    "execution_start": 1642202956042,
    "execution_millis": 20459,
    "output_cleared": false,
    "deepnote_cell_type": "code"
   },
   "source": "all_brands_df = hub_client.dataview_interpolated_pd(\n    namespace_id, dv_ids[0], START_INDEX, END_INDEX, INDEX_INTERVAL\n)",
   "outputs": [
    {
     "name": "stdout",
     "text": "+++++++++++++++++++++++++++++++\n  ==> Finished 'dataview_interpolated_pd' in       20.2517 secs [ 15.57K rows/sec ]\n",
     "output_type": "stream"
    }
   ],
   "execution_count": null
  },
  {
   "cell_type": "code",
   "metadata": {
    "execution": {
     "iopub.execute_input": "2020-08-14T19:30:17.017627Z",
     "iopub.status.busy": "2020-08-14T19:30:17.016974Z",
     "iopub.status.idle": "2020-08-14T19:30:17.075951Z",
     "shell.execute_reply": "2020-08-14T19:30:17.076793Z"
    },
    "papermill": {
     "duration": 0.110035,
     "end_time": "2020-08-14T19:30:17.077110",
     "exception": false,
     "start_time": "2020-08-14T19:30:16.967075",
     "status": "completed"
    },
    "tags": [],
    "cell_id": "00023-6f10f230-6ec0-45fb-b910-8ff1fc6780e1",
    "deepnote_to_be_reexecuted": false,
    "source_hash": "c3b98540",
    "execution_start": 1642202976292,
    "execution_millis": 226,
    "output_cleared": false,
    "deepnote_cell_type": "code"
   },
   "source": "# summary information about the dataframe\nall_brands_df.info()",
   "outputs": [
    {
     "name": "stdout",
     "text": "<class 'pandas.core.frame.DataFrame'>\nRangeIndex: 315366 entries, 0 to 315365\nData columns (total 8 columns):\n #   Column                   Non-Null Count   Dtype         \n---  ------                   --------------   -----         \n 0   Timestamp                315366 non-null  datetime64[ns]\n 1   Asset_Id                 315366 non-null  object        \n 2   ADF                      165982 non-null  float64       \n 3   Plato                    186164 non-null  float64       \n 4   FV Full Plato            216943 non-null  float64       \n 5   Fermentation Start Time  252332 non-null  object        \n 6   Brand                    315366 non-null  object        \n 7   Status                   315366 non-null  object        \ndtypes: datetime64[ns](1), float64(3), object(4)\nmemory usage: 19.2+ MB\n",
     "output_type": "stream"
    }
   ],
   "execution_count": null
  },
  {
   "cell_type": "code",
   "metadata": {
    "execution": {
     "iopub.execute_input": "2020-08-14T19:30:17.170355Z",
     "iopub.status.busy": "2020-08-14T19:30:17.169514Z",
     "iopub.status.idle": "2020-08-14T19:30:17.179483Z",
     "shell.execute_reply": "2020-08-14T19:30:17.179993Z"
    },
    "papermill": {
     "duration": 0.05682,
     "end_time": "2020-08-14T19:30:17.180122",
     "exception": false,
     "start_time": "2020-08-14T19:30:17.123302",
     "status": "completed"
    },
    "tags": [],
    "cell_id": "00024-be97366f-28ac-4fc0-9487-a54133e2a67f",
    "deepnote_output_heights": [
     177
    ],
    "deepnote_to_be_reexecuted": false,
    "source_hash": "7d698cdc",
    "execution_start": 1642202976411,
    "execution_millis": 111,
    "output_cleared": false,
    "deepnote_cell_type": "code"
   },
   "source": "# check the first five rows \nall_brands_df.head()",
   "outputs": [
    {
     "output_type": "execute_result",
     "execution_count": 12,
     "data": {
      "application/vnd.deepnote.dataframe.v3+json": {
       "column_count": 8,
       "row_count": 5,
       "columns": [
        {
         "name": "Timestamp",
         "dtype": "datetime64[ns]",
         "stats": {
          "unique_count": 5,
          "nan_count": 0,
          "min": "2017-01-11 00:00:00",
          "max": "2017-01-11 00:40:00",
          "histogram": [
           {
            "bin_start": 1484092800000000000,
            "bin_end": 1484093040000000000,
            "count": 1
           },
           {
            "bin_start": 1484093040000000000,
            "bin_end": 1484093280000000000,
            "count": 0
           },
           {
            "bin_start": 1484093280000000000,
            "bin_end": 1484093520000000000,
            "count": 1
           },
           {
            "bin_start": 1484093520000000000,
            "bin_end": 1484093760000000000,
            "count": 0
           },
           {
            "bin_start": 1484093760000000000,
            "bin_end": 1484094000000000000,
            "count": 0
           },
           {
            "bin_start": 1484094000000000000,
            "bin_end": 1484094240000000000,
            "count": 1
           },
           {
            "bin_start": 1484094240000000000,
            "bin_end": 1484094480000000000,
            "count": 0
           },
           {
            "bin_start": 1484094480000000000,
            "bin_end": 1484094720000000000,
            "count": 1
           },
           {
            "bin_start": 1484094720000000000,
            "bin_end": 1484094960000000000,
            "count": 0
           },
           {
            "bin_start": 1484094960000000000,
            "bin_end": 1484095200000000000,
            "count": 1
           }
          ]
         }
        },
        {
         "name": "Asset_Id",
         "dtype": "object",
         "stats": {
          "unique_count": 1,
          "nan_count": 0,
          "categories": [
           {
            "name": "FV31",
            "count": 5
           }
          ]
         }
        },
        {
         "name": "ADF",
         "dtype": "float64",
         "stats": {
          "unique_count": 1,
          "nan_count": 0,
          "min": "0.1234814165026986",
          "max": "0.1234814165026986",
          "histogram": [
           {
            "bin_start": -0.3765185834973014,
            "bin_end": -0.2765185834973014,
            "count": 0
           },
           {
            "bin_start": -0.2765185834973014,
            "bin_end": -0.17651858349730137,
            "count": 0
           },
           {
            "bin_start": -0.17651858349730137,
            "bin_end": -0.07651858349730134,
            "count": 0
           },
           {
            "bin_start": -0.07651858349730134,
            "bin_end": 0.023481416502698638,
            "count": 0
           },
           {
            "bin_start": 0.023481416502698638,
            "bin_end": 0.12348141650269862,
            "count": 5
           },
           {
            "bin_start": 0.12348141650269862,
            "bin_end": 0.2234814165026987,
            "count": 0
           },
           {
            "bin_start": 0.2234814165026987,
            "bin_end": 0.3234814165026987,
            "count": 0
           },
           {
            "bin_start": 0.3234814165026987,
            "bin_end": 0.42348141650269866,
            "count": 0
           },
           {
            "bin_start": 0.42348141650269866,
            "bin_end": 0.5234814165026986,
            "count": 0
           },
           {
            "bin_start": 0.5234814165026986,
            "bin_end": 0.6234814165026986,
            "count": 0
           }
          ]
         }
        },
        {
         "name": "Plato",
         "dtype": "float64",
         "stats": {
          "unique_count": 1,
          "nan_count": 0,
          "min": "13.5",
          "max": "13.5",
          "histogram": [
           {
            "bin_start": 13,
            "bin_end": 13.1,
            "count": 0
           },
           {
            "bin_start": 13.1,
            "bin_end": 13.2,
            "count": 0
           },
           {
            "bin_start": 13.2,
            "bin_end": 13.3,
            "count": 0
           },
           {
            "bin_start": 13.3,
            "bin_end": 13.4,
            "count": 0
           },
           {
            "bin_start": 13.4,
            "bin_end": 13.5,
            "count": 0
           },
           {
            "bin_start": 13.5,
            "bin_end": 13.6,
            "count": 5
           },
           {
            "bin_start": 13.6,
            "bin_end": 13.7,
            "count": 0
           },
           {
            "bin_start": 13.7,
            "bin_end": 13.8,
            "count": 0
           },
           {
            "bin_start": 13.8,
            "bin_end": 13.9,
            "count": 0
           },
           {
            "bin_start": 13.9,
            "bin_end": 14,
            "count": 0
           }
          ]
         }
        },
        {
         "name": "FV Full Plato",
         "dtype": "float64",
         "stats": {
          "unique_count": 1,
          "nan_count": 0,
          "min": "15.401841",
          "max": "15.401841",
          "histogram": [
           {
            "bin_start": 14.901841,
            "bin_end": 15.001840999999999,
            "count": 0
           },
           {
            "bin_start": 15.001840999999999,
            "bin_end": 15.101840999999999,
            "count": 0
           },
           {
            "bin_start": 15.101840999999999,
            "bin_end": 15.201841,
            "count": 0
           },
           {
            "bin_start": 15.201841,
            "bin_end": 15.301841,
            "count": 0
           },
           {
            "bin_start": 15.301841,
            "bin_end": 15.401841,
            "count": 0
           },
           {
            "bin_start": 15.401841,
            "bin_end": 15.501840999999999,
            "count": 5
           },
           {
            "bin_start": 15.501840999999999,
            "bin_end": 15.601840999999999,
            "count": 0
           },
           {
            "bin_start": 15.601840999999999,
            "bin_end": 15.701841,
            "count": 0
           },
           {
            "bin_start": 15.701841,
            "bin_end": 15.801841,
            "count": 0
           },
           {
            "bin_start": 15.801841,
            "bin_end": 15.901841,
            "count": 0
           }
          ]
         }
        },
        {
         "name": "Fermentation Start Time",
         "dtype": "object",
         "stats": {
          "unique_count": 1,
          "nan_count": 0,
          "categories": [
           {
            "name": "2017-01-10T07:54:11.0530090Z",
            "count": 5
           }
          ]
         }
        },
        {
         "name": "Brand",
         "dtype": "object",
         "stats": {
          "unique_count": 1,
          "nan_count": 0,
          "categories": [
           {
            "name": "Red Wonder",
            "count": 5
           }
          ]
         }
        },
        {
         "name": "Status",
         "dtype": "object",
         "stats": {
          "unique_count": 1,
          "nan_count": 0,
          "categories": [
           {
            "name": "Fermentation",
            "count": 5
           }
          ]
         }
        },
        {
         "name": "_deepnote_index_column",
         "dtype": "int64"
        }
       ],
       "rows": [
        {
         "Timestamp": "2017-01-11T00:00:00.000000",
         "Asset_Id": "FV31",
         "ADF": 0.1234814165026986,
         "Plato": 13.5,
         "FV Full Plato": 15.401841,
         "Fermentation Start Time": "2017-01-10T07:54:11.0530090Z",
         "Brand": "Red Wonder",
         "Status": "Fermentation",
         "_deepnote_index_column": 0
        },
        {
         "Timestamp": "2017-01-11T00:10:00.000000",
         "Asset_Id": "FV31",
         "ADF": 0.1234814165026986,
         "Plato": 13.5,
         "FV Full Plato": 15.401841,
         "Fermentation Start Time": "2017-01-10T07:54:11.0530090Z",
         "Brand": "Red Wonder",
         "Status": "Fermentation",
         "_deepnote_index_column": 1
        },
        {
         "Timestamp": "2017-01-11T00:20:00.000000",
         "Asset_Id": "FV31",
         "ADF": 0.1234814165026986,
         "Plato": 13.5,
         "FV Full Plato": 15.401841,
         "Fermentation Start Time": "2017-01-10T07:54:11.0530090Z",
         "Brand": "Red Wonder",
         "Status": "Fermentation",
         "_deepnote_index_column": 2
        },
        {
         "Timestamp": "2017-01-11T00:30:00.000000",
         "Asset_Id": "FV31",
         "ADF": 0.1234814165026986,
         "Plato": 13.5,
         "FV Full Plato": 15.401841,
         "Fermentation Start Time": "2017-01-10T07:54:11.0530090Z",
         "Brand": "Red Wonder",
         "Status": "Fermentation",
         "_deepnote_index_column": 3
        },
        {
         "Timestamp": "2017-01-11T00:40:00.000000",
         "Asset_Id": "FV31",
         "ADF": 0.1234814165026986,
         "Plato": 13.5,
         "FV Full Plato": 15.401841,
         "Fermentation Start Time": "2017-01-10T07:54:11.0530090Z",
         "Brand": "Red Wonder",
         "Status": "Fermentation",
         "_deepnote_index_column": 4
        }
       ]
      },
      "text/plain": "            Timestamp Asset_Id       ADF  Plato  FV Full Plato  \\\n0 2017-01-11 00:00:00     FV31  0.123481   13.5      15.401841   \n1 2017-01-11 00:10:00     FV31  0.123481   13.5      15.401841   \n2 2017-01-11 00:20:00     FV31  0.123481   13.5      15.401841   \n3 2017-01-11 00:30:00     FV31  0.123481   13.5      15.401841   \n4 2017-01-11 00:40:00     FV31  0.123481   13.5      15.401841   \n\n        Fermentation Start Time       Brand        Status  \n0  2017-01-10T07:54:11.0530090Z  Red Wonder  Fermentation  \n1  2017-01-10T07:54:11.0530090Z  Red Wonder  Fermentation  \n2  2017-01-10T07:54:11.0530090Z  Red Wonder  Fermentation  \n3  2017-01-10T07:54:11.0530090Z  Red Wonder  Fermentation  \n4  2017-01-10T07:54:11.0530090Z  Red Wonder  Fermentation  ",
      "text/html": "<div>\n<style scoped>\n    .dataframe tbody tr th:only-of-type {\n        vertical-align: middle;\n    }\n\n    .dataframe tbody tr th {\n        vertical-align: top;\n    }\n\n    .dataframe thead th {\n        text-align: right;\n    }\n</style>\n<table border=\"1\" class=\"dataframe\">\n  <thead>\n    <tr style=\"text-align: right;\">\n      <th></th>\n      <th>Timestamp</th>\n      <th>Asset_Id</th>\n      <th>ADF</th>\n      <th>Plato</th>\n      <th>FV Full Plato</th>\n      <th>Fermentation Start Time</th>\n      <th>Brand</th>\n      <th>Status</th>\n    </tr>\n  </thead>\n  <tbody>\n    <tr>\n      <th>0</th>\n      <td>2017-01-11 00:00:00</td>\n      <td>FV31</td>\n      <td>0.123481</td>\n      <td>13.5</td>\n      <td>15.401841</td>\n      <td>2017-01-10T07:54:11.0530090Z</td>\n      <td>Red Wonder</td>\n      <td>Fermentation</td>\n    </tr>\n    <tr>\n      <th>1</th>\n      <td>2017-01-11 00:10:00</td>\n      <td>FV31</td>\n      <td>0.123481</td>\n      <td>13.5</td>\n      <td>15.401841</td>\n      <td>2017-01-10T07:54:11.0530090Z</td>\n      <td>Red Wonder</td>\n      <td>Fermentation</td>\n    </tr>\n    <tr>\n      <th>2</th>\n      <td>2017-01-11 00:20:00</td>\n      <td>FV31</td>\n      <td>0.123481</td>\n      <td>13.5</td>\n      <td>15.401841</td>\n      <td>2017-01-10T07:54:11.0530090Z</td>\n      <td>Red Wonder</td>\n      <td>Fermentation</td>\n    </tr>\n    <tr>\n      <th>3</th>\n      <td>2017-01-11 00:30:00</td>\n      <td>FV31</td>\n      <td>0.123481</td>\n      <td>13.5</td>\n      <td>15.401841</td>\n      <td>2017-01-10T07:54:11.0530090Z</td>\n      <td>Red Wonder</td>\n      <td>Fermentation</td>\n    </tr>\n    <tr>\n      <th>4</th>\n      <td>2017-01-11 00:40:00</td>\n      <td>FV31</td>\n      <td>0.123481</td>\n      <td>13.5</td>\n      <td>15.401841</td>\n      <td>2017-01-10T07:54:11.0530090Z</td>\n      <td>Red Wonder</td>\n      <td>Fermentation</td>\n    </tr>\n  </tbody>\n</table>\n</div>"
     },
     "metadata": {}
    }
   ],
   "execution_count": null
  },
  {
   "cell_type": "code",
   "metadata": {
    "execution": {
     "iopub.execute_input": "2020-08-14T19:30:17.282633Z",
     "iopub.status.busy": "2020-08-14T19:30:17.281707Z",
     "iopub.status.idle": "2020-08-14T19:30:17.293378Z",
     "shell.execute_reply": "2020-08-14T19:30:17.293749Z"
    },
    "papermill": {
     "duration": 0.069554,
     "end_time": "2020-08-14T19:30:17.293878",
     "exception": false,
     "start_time": "2020-08-14T19:30:17.224324",
     "status": "completed"
    },
    "tags": [],
    "cell_id": "00025-8f2affc6-1464-4c47-bb07-2cbedb778efd",
    "deepnote_output_heights": [
     270.71875
    ],
    "deepnote_to_be_reexecuted": false,
    "source_hash": "1a3ff5bc",
    "execution_start": 1642202976509,
    "execution_millis": 93,
    "output_cleared": false,
    "deepnote_cell_type": "code"
   },
   "source": "all_brands_df[all_brands_df[\"Status\"] == \"Fermentation\"][\"Brand\"].value_counts()",
   "outputs": [
    {
     "output_type": "execute_result",
     "execution_count": 13,
     "data": {
      "text/plain": "Realtime Hops    7622\nKerberos         6641\nGrey Horse       4789\nLIT              4698\nAdele            3355\nCoorsight        2592\nSFO              2403\nTall Man         2300\nKennedy           681\nAFeizen           628\nIPAnanas          279\nRed Wonder        153\nNone                3\nName: Brand, dtype: int64"
     },
     "metadata": {}
    }
   ],
   "execution_count": null
  },
  {
   "cell_type": "markdown",
   "source": "---\n#### Verify Data Ordering of Results\n\nThe result rows of a multi-asset data view are sorted first on `Asset_Id`, then on `Timestamp`. The Pandas line below shows the first 3 rows of each asset and their index in the dataframe (left hand side integer in bold). Since the request was for 395 days at 10 minutes interval, we expect 365 * 24 * 60 / 10 + 1 = 52561 rows per fermenter vessel",
   "metadata": {
    "papermill": {
     "duration": 0.039003,
     "end_time": "2020-08-14T19:30:17.366684",
     "exception": false,
     "start_time": "2020-08-14T19:30:17.327681",
     "status": "completed"
    },
    "tags": [],
    "cell_id": "00026-7dee29a5-9f17-4242-ac28-6a7534c2b96e",
    "deepnote_cell_type": "markdown"
   }
  },
  {
   "cell_type": "code",
   "metadata": {
    "execution": {
     "iopub.execute_input": "2020-08-14T19:30:17.439385Z",
     "iopub.status.busy": "2020-08-14T19:30:17.438696Z",
     "iopub.status.idle": "2020-08-14T19:30:17.472230Z",
     "shell.execute_reply": "2020-08-14T19:30:17.471709Z"
    },
    "papermill": {
     "duration": 0.07129,
     "end_time": "2020-08-14T19:30:17.472334",
     "exception": false,
     "start_time": "2020-08-14T19:30:17.401044",
     "status": "completed"
    },
    "tags": [],
    "cell_id": "00027-b95d32a8-a8b1-48af-9466-8a075fb5d59a",
    "deepnote_output_heights": [
     554
    ],
    "deepnote_to_be_reexecuted": false,
    "source_hash": "54991129",
    "execution_start": 1642202976594,
    "execution_millis": 167,
    "output_cleared": false,
    "deepnote_cell_type": "code"
   },
   "source": "all_brands_df[all_brands_df[\"Asset_Id\"].shift(3) != all_brands_df[\"Asset_Id\"]]",
   "outputs": [
    {
     "output_type": "execute_result",
     "execution_count": 14,
     "data": {
      "application/vnd.deepnote.dataframe.v3+json": {
       "column_count": 8,
       "row_count": 18,
       "columns": [
        {
         "name": "Timestamp",
         "dtype": "datetime64[ns]",
         "stats": {
          "unique_count": 3,
          "nan_count": 0,
          "min": "2017-01-11 00:00:00",
          "max": "2017-01-11 00:20:00",
          "histogram": [
           {
            "bin_start": 1484092800000000000,
            "bin_end": 1484092920000000000,
            "count": 6
           },
           {
            "bin_start": 1484092920000000000,
            "bin_end": 1484093040000000000,
            "count": 0
           },
           {
            "bin_start": 1484093040000000000,
            "bin_end": 1484093160000000000,
            "count": 0
           },
           {
            "bin_start": 1484093160000000000,
            "bin_end": 1484093280000000000,
            "count": 0
           },
           {
            "bin_start": 1484093280000000000,
            "bin_end": 1484093400000000000,
            "count": 0
           },
           {
            "bin_start": 1484093400000000000,
            "bin_end": 1484093520000000000,
            "count": 6
           },
           {
            "bin_start": 1484093520000000000,
            "bin_end": 1484093640000000000,
            "count": 0
           },
           {
            "bin_start": 1484093640000000000,
            "bin_end": 1484093760000000000,
            "count": 0
           },
           {
            "bin_start": 1484093760000000000,
            "bin_end": 1484093880000000000,
            "count": 0
           },
           {
            "bin_start": 1484093880000000000,
            "bin_end": 1484094000000000000,
            "count": 6
           }
          ]
         }
        },
        {
         "name": "Asset_Id",
         "dtype": "object",
         "stats": {
          "unique_count": 6,
          "nan_count": 0,
          "categories": [
           {
            "name": "FV31",
            "count": 3
           },
           {
            "name": "FV32",
            "count": 3
           },
           {
            "name": "4 others",
            "count": 12
           }
          ]
         }
        },
        {
         "name": "ADF",
         "dtype": "float64",
         "stats": {
          "unique_count": 2,
          "nan_count": 12,
          "min": "0.1234814165026986",
          "max": "0.5887456651796955",
          "histogram": [
           {
            "bin_start": 0.1234814165026986,
            "bin_end": 0.1700078413703983,
            "count": 3
           },
           {
            "bin_start": 0.1700078413703983,
            "bin_end": 0.21653426623809796,
            "count": 0
           },
           {
            "bin_start": 0.21653426623809796,
            "bin_end": 0.26306069110579766,
            "count": 0
           },
           {
            "bin_start": 0.26306069110579766,
            "bin_end": 0.30958711597349736,
            "count": 0
           },
           {
            "bin_start": 0.30958711597349736,
            "bin_end": 0.35611354084119706,
            "count": 0
           },
           {
            "bin_start": 0.35611354084119706,
            "bin_end": 0.4026399657088967,
            "count": 0
           },
           {
            "bin_start": 0.4026399657088967,
            "bin_end": 0.4491663905765964,
            "count": 0
           },
           {
            "bin_start": 0.4491663905765964,
            "bin_end": 0.4956928154442961,
            "count": 0
           },
           {
            "bin_start": 0.4956928154442961,
            "bin_end": 0.5422192403119958,
            "count": 0
           },
           {
            "bin_start": 0.5422192403119958,
            "bin_end": 0.5887456651796955,
            "count": 3
           }
          ]
         }
        },
        {
         "name": "Plato",
         "dtype": "float64",
         "stats": {
          "unique_count": 3,
          "nan_count": 9,
          "min": "5.2",
          "max": "13.5",
          "histogram": [
           {
            "bin_start": 5.2,
            "bin_end": 6.03,
            "count": 3
           },
           {
            "bin_start": 6.03,
            "bin_end": 6.86,
            "count": 0
           },
           {
            "bin_start": 6.86,
            "bin_end": 7.69,
            "count": 3
           },
           {
            "bin_start": 7.69,
            "bin_end": 8.52,
            "count": 0
           },
           {
            "bin_start": 8.52,
            "bin_end": 9.350000000000001,
            "count": 0
           },
           {
            "bin_start": 9.350000000000001,
            "bin_end": 10.18,
            "count": 0
           },
           {
            "bin_start": 10.18,
            "bin_end": 11.010000000000002,
            "count": 0
           },
           {
            "bin_start": 11.010000000000002,
            "bin_end": 11.84,
            "count": 0
           },
           {
            "bin_start": 11.84,
            "bin_end": 12.670000000000002,
            "count": 0
           },
           {
            "bin_start": 12.670000000000002,
            "bin_end": 13.5,
            "count": 3
           }
          ]
         }
        },
        {
         "name": "FV Full Plato",
         "dtype": "float64",
         "stats": {
          "unique_count": 3,
          "nan_count": 9,
          "min": "14.73",
          "max": "17.021097",
          "histogram": [
           {
            "bin_start": 14.73,
            "bin_end": 14.9591097,
            "count": 3
           },
           {
            "bin_start": 14.9591097,
            "bin_end": 15.188219400000001,
            "count": 0
           },
           {
            "bin_start": 15.188219400000001,
            "bin_end": 15.4173291,
            "count": 3
           },
           {
            "bin_start": 15.4173291,
            "bin_end": 15.6464388,
            "count": 0
           },
           {
            "bin_start": 15.6464388,
            "bin_end": 15.8755485,
            "count": 0
           },
           {
            "bin_start": 15.8755485,
            "bin_end": 16.1046582,
            "count": 0
           },
           {
            "bin_start": 16.1046582,
            "bin_end": 16.3337679,
            "count": 0
           },
           {
            "bin_start": 16.3337679,
            "bin_end": 16.5628776,
            "count": 0
           },
           {
            "bin_start": 16.5628776,
            "bin_end": 16.791987300000002,
            "count": 0
           },
           {
            "bin_start": 16.791987300000002,
            "bin_end": 17.021097,
            "count": 3
           }
          ]
         }
        },
        {
         "name": "Fermentation Start Time",
         "dtype": "object",
         "stats": {
          "unique_count": 2,
          "nan_count": 12,
          "categories": [
           {
            "name": "2017-01-10T07:54:11.0530090Z",
            "count": 3
           },
           {
            "name": "2017-01-08T18:43:57.6140134Z",
            "count": 3
           },
           {
            "name": "Missing",
            "count": 12
           }
          ]
         }
        },
        {
         "name": "Brand",
         "dtype": "object",
         "stats": {
          "unique_count": 5,
          "nan_count": 0,
          "categories": [
           {
            "name": "Kerberos",
            "count": 6
           },
           {
            "name": "Red Wonder",
            "count": 3
           },
           {
            "name": "3 others",
            "count": 9
           }
          ]
         }
        },
        {
         "name": "Status",
         "dtype": "object",
         "stats": {
          "unique_count": 6,
          "nan_count": 0,
          "categories": [
           {
            "name": "Fermentation",
            "count": 3
           },
           {
            "name": "Clean",
            "count": 3
           },
           {
            "name": "4 others",
            "count": 12
           }
          ]
         }
        },
        {
         "name": "_deepnote_index_column",
         "dtype": "int64"
        }
       ],
       "rows": [
        {
         "Timestamp": "2017-01-11T00:00:00.000000",
         "Asset_Id": "FV31",
         "ADF": 0.1234814165026986,
         "Plato": 13.5,
         "FV Full Plato": 15.401841,
         "Fermentation Start Time": "2017-01-10T07:54:11.0530090Z",
         "Brand": "Red Wonder",
         "Status": "Fermentation",
         "_deepnote_index_column": 0
        },
        {
         "Timestamp": "2017-01-11T00:10:00.000000",
         "Asset_Id": "FV31",
         "ADF": 0.1234814165026986,
         "Plato": 13.5,
         "FV Full Plato": 15.401841,
         "Fermentation Start Time": "2017-01-10T07:54:11.0530090Z",
         "Brand": "Red Wonder",
         "Status": "Fermentation",
         "_deepnote_index_column": 1
        },
        {
         "Timestamp": "2017-01-11T00:20:00.000000",
         "Asset_Id": "FV31",
         "ADF": 0.1234814165026986,
         "Plato": 13.5,
         "FV Full Plato": 15.401841,
         "Fermentation Start Time": "2017-01-10T07:54:11.0530090Z",
         "Brand": "Red Wonder",
         "Status": "Fermentation",
         "_deepnote_index_column": 2
        },
        {
         "Timestamp": "2017-01-11T00:00:00.000000",
         "Asset_Id": "FV32",
         "ADF": "nan",
         "Plato": "nan",
         "FV Full Plato": "nan",
         "Fermentation Start Time": "nan",
         "Brand": "None",
         "Status": "Clean",
         "_deepnote_index_column": 52561
        },
        {
         "Timestamp": "2017-01-11T00:10:00.000000",
         "Asset_Id": "FV32",
         "ADF": "nan",
         "Plato": "nan",
         "FV Full Plato": "nan",
         "Fermentation Start Time": "nan",
         "Brand": "None",
         "Status": "Clean",
         "_deepnote_index_column": 52562
        },
        {
         "Timestamp": "2017-01-11T00:20:00.000000",
         "Asset_Id": "FV32",
         "ADF": "nan",
         "Plato": "nan",
         "FV Full Plato": "nan",
         "Fermentation Start Time": "nan",
         "Brand": "None",
         "Status": "Clean",
         "_deepnote_index_column": 52563
        },
        {
         "Timestamp": "2017-01-11T00:00:00.000000",
         "Asset_Id": "FV33",
         "ADF": 0.5887456651796955,
         "Plato": 7,
         "FV Full Plato": 17.021097,
         "Fermentation Start Time": "2017-01-08T18:43:57.6140134Z",
         "Brand": "Grey Horse",
         "Status": "Free Rise",
         "_deepnote_index_column": 105122
        },
        {
         "Timestamp": "2017-01-11T00:10:00.000000",
         "Asset_Id": "FV33",
         "ADF": 0.5887456651796955,
         "Plato": 7,
         "FV Full Plato": 17.021097,
         "Fermentation Start Time": "2017-01-08T18:43:57.6140134Z",
         "Brand": "Grey Horse",
         "Status": "Free Rise",
         "_deepnote_index_column": 105123
        },
        {
         "Timestamp": "2017-01-11T00:20:00.000000",
         "Asset_Id": "FV33",
         "ADF": 0.5887456651796955,
         "Plato": 7,
         "FV Full Plato": 17.021097,
         "Fermentation Start Time": "2017-01-08T18:43:57.6140134Z",
         "Brand": "Grey Horse",
         "Status": "Free Rise",
         "_deepnote_index_column": 105124
        },
        {
         "Timestamp": "2017-01-11T00:00:00.000000",
         "Asset_Id": "FV34",
         "ADF": "nan",
         "Plato": "nan",
         "FV Full Plato": 14.73,
         "Fermentation Start Time": "nan",
         "Brand": "Kerberos",
         "Status": "Filling",
         "_deepnote_index_column": 157683
        }
       ]
      },
      "text/plain": "                 Timestamp Asset_Id       ADF  Plato  FV Full Plato  \\\n0      2017-01-11 00:00:00     FV31  0.123481   13.5      15.401841   \n1      2017-01-11 00:10:00     FV31  0.123481   13.5      15.401841   \n2      2017-01-11 00:20:00     FV31  0.123481   13.5      15.401841   \n52561  2017-01-11 00:00:00     FV32       NaN    NaN            NaN   \n52562  2017-01-11 00:10:00     FV32       NaN    NaN            NaN   \n52563  2017-01-11 00:20:00     FV32       NaN    NaN            NaN   \n105122 2017-01-11 00:00:00     FV33  0.588746    7.0      17.021097   \n105123 2017-01-11 00:10:00     FV33  0.588746    7.0      17.021097   \n105124 2017-01-11 00:20:00     FV33  0.588746    7.0      17.021097   \n157683 2017-01-11 00:00:00     FV34       NaN    NaN      14.730000   \n157684 2017-01-11 00:10:00     FV34       NaN    NaN      14.730000   \n157685 2017-01-11 00:20:00     FV34       NaN    NaN      14.730000   \n210244 2017-01-11 00:00:00     FV35       NaN    5.2            NaN   \n210245 2017-01-11 00:10:00     FV35       NaN    5.2            NaN   \n210246 2017-01-11 00:20:00     FV35       NaN    5.2            NaN   \n262805 2017-01-11 00:00:00     FV36       NaN    NaN            NaN   \n262806 2017-01-11 00:10:00     FV36       NaN    NaN            NaN   \n262807 2017-01-11 00:20:00     FV36       NaN    NaN            NaN   \n\n             Fermentation Start Time       Brand             Status  \n0       2017-01-10T07:54:11.0530090Z  Red Wonder       Fermentation  \n1       2017-01-10T07:54:11.0530090Z  Red Wonder       Fermentation  \n2       2017-01-10T07:54:11.0530090Z  Red Wonder       Fermentation  \n52561                            NaN        None              Clean  \n52562                            NaN        None              Clean  \n52563                            NaN        None              Clean  \n105122  2017-01-08T18:43:57.6140134Z  Grey Horse          Free Rise  \n105123  2017-01-08T18:43:57.6140134Z  Grey Horse          Free Rise  \n105124  2017-01-08T18:43:57.6140134Z  Grey Horse          Free Rise  \n157683                           NaN    Kerberos            Filling  \n157684                           NaN    Kerberos            Filling  \n157685                           NaN    Kerberos            Filling  \n210244                           NaN    Kerberos      Diacetyl Rest  \n210245                           NaN    Kerberos      Diacetyl Rest  \n210246                           NaN    Kerberos      Diacetyl Rest  \n262805                           NaN         LIT  Ready to Transfer  \n262806                           NaN         LIT  Ready to Transfer  \n262807                           NaN         LIT  Ready to Transfer  ",
      "text/html": "<div>\n<style scoped>\n    .dataframe tbody tr th:only-of-type {\n        vertical-align: middle;\n    }\n\n    .dataframe tbody tr th {\n        vertical-align: top;\n    }\n\n    .dataframe thead th {\n        text-align: right;\n    }\n</style>\n<table border=\"1\" class=\"dataframe\">\n  <thead>\n    <tr style=\"text-align: right;\">\n      <th></th>\n      <th>Timestamp</th>\n      <th>Asset_Id</th>\n      <th>ADF</th>\n      <th>Plato</th>\n      <th>FV Full Plato</th>\n      <th>Fermentation Start Time</th>\n      <th>Brand</th>\n      <th>Status</th>\n    </tr>\n  </thead>\n  <tbody>\n    <tr>\n      <th>0</th>\n      <td>2017-01-11 00:00:00</td>\n      <td>FV31</td>\n      <td>0.123481</td>\n      <td>13.5</td>\n      <td>15.401841</td>\n      <td>2017-01-10T07:54:11.0530090Z</td>\n      <td>Red Wonder</td>\n      <td>Fermentation</td>\n    </tr>\n    <tr>\n      <th>1</th>\n      <td>2017-01-11 00:10:00</td>\n      <td>FV31</td>\n      <td>0.123481</td>\n      <td>13.5</td>\n      <td>15.401841</td>\n      <td>2017-01-10T07:54:11.0530090Z</td>\n      <td>Red Wonder</td>\n      <td>Fermentation</td>\n    </tr>\n    <tr>\n      <th>2</th>\n      <td>2017-01-11 00:20:00</td>\n      <td>FV31</td>\n      <td>0.123481</td>\n      <td>13.5</td>\n      <td>15.401841</td>\n      <td>2017-01-10T07:54:11.0530090Z</td>\n      <td>Red Wonder</td>\n      <td>Fermentation</td>\n    </tr>\n    <tr>\n      <th>52561</th>\n      <td>2017-01-11 00:00:00</td>\n      <td>FV32</td>\n      <td>NaN</td>\n      <td>NaN</td>\n      <td>NaN</td>\n      <td>NaN</td>\n      <td>None</td>\n      <td>Clean</td>\n    </tr>\n    <tr>\n      <th>52562</th>\n      <td>2017-01-11 00:10:00</td>\n      <td>FV32</td>\n      <td>NaN</td>\n      <td>NaN</td>\n      <td>NaN</td>\n      <td>NaN</td>\n      <td>None</td>\n      <td>Clean</td>\n    </tr>\n    <tr>\n      <th>52563</th>\n      <td>2017-01-11 00:20:00</td>\n      <td>FV32</td>\n      <td>NaN</td>\n      <td>NaN</td>\n      <td>NaN</td>\n      <td>NaN</td>\n      <td>None</td>\n      <td>Clean</td>\n    </tr>\n    <tr>\n      <th>105122</th>\n      <td>2017-01-11 00:00:00</td>\n      <td>FV33</td>\n      <td>0.588746</td>\n      <td>7.0</td>\n      <td>17.021097</td>\n      <td>2017-01-08T18:43:57.6140134Z</td>\n      <td>Grey Horse</td>\n      <td>Free Rise</td>\n    </tr>\n    <tr>\n      <th>105123</th>\n      <td>2017-01-11 00:10:00</td>\n      <td>FV33</td>\n      <td>0.588746</td>\n      <td>7.0</td>\n      <td>17.021097</td>\n      <td>2017-01-08T18:43:57.6140134Z</td>\n      <td>Grey Horse</td>\n      <td>Free Rise</td>\n    </tr>\n    <tr>\n      <th>105124</th>\n      <td>2017-01-11 00:20:00</td>\n      <td>FV33</td>\n      <td>0.588746</td>\n      <td>7.0</td>\n      <td>17.021097</td>\n      <td>2017-01-08T18:43:57.6140134Z</td>\n      <td>Grey Horse</td>\n      <td>Free Rise</td>\n    </tr>\n    <tr>\n      <th>157683</th>\n      <td>2017-01-11 00:00:00</td>\n      <td>FV34</td>\n      <td>NaN</td>\n      <td>NaN</td>\n      <td>14.730000</td>\n      <td>NaN</td>\n      <td>Kerberos</td>\n      <td>Filling</td>\n    </tr>\n    <tr>\n      <th>157684</th>\n      <td>2017-01-11 00:10:00</td>\n      <td>FV34</td>\n      <td>NaN</td>\n      <td>NaN</td>\n      <td>14.730000</td>\n      <td>NaN</td>\n      <td>Kerberos</td>\n      <td>Filling</td>\n    </tr>\n    <tr>\n      <th>157685</th>\n      <td>2017-01-11 00:20:00</td>\n      <td>FV34</td>\n      <td>NaN</td>\n      <td>NaN</td>\n      <td>14.730000</td>\n      <td>NaN</td>\n      <td>Kerberos</td>\n      <td>Filling</td>\n    </tr>\n    <tr>\n      <th>210244</th>\n      <td>2017-01-11 00:00:00</td>\n      <td>FV35</td>\n      <td>NaN</td>\n      <td>5.2</td>\n      <td>NaN</td>\n      <td>NaN</td>\n      <td>Kerberos</td>\n      <td>Diacetyl Rest</td>\n    </tr>\n    <tr>\n      <th>210245</th>\n      <td>2017-01-11 00:10:00</td>\n      <td>FV35</td>\n      <td>NaN</td>\n      <td>5.2</td>\n      <td>NaN</td>\n      <td>NaN</td>\n      <td>Kerberos</td>\n      <td>Diacetyl Rest</td>\n    </tr>\n    <tr>\n      <th>210246</th>\n      <td>2017-01-11 00:20:00</td>\n      <td>FV35</td>\n      <td>NaN</td>\n      <td>5.2</td>\n      <td>NaN</td>\n      <td>NaN</td>\n      <td>Kerberos</td>\n      <td>Diacetyl Rest</td>\n    </tr>\n    <tr>\n      <th>262805</th>\n      <td>2017-01-11 00:00:00</td>\n      <td>FV36</td>\n      <td>NaN</td>\n      <td>NaN</td>\n      <td>NaN</td>\n      <td>NaN</td>\n      <td>LIT</td>\n      <td>Ready to Transfer</td>\n    </tr>\n    <tr>\n      <th>262806</th>\n      <td>2017-01-11 00:10:00</td>\n      <td>FV36</td>\n      <td>NaN</td>\n      <td>NaN</td>\n      <td>NaN</td>\n      <td>NaN</td>\n      <td>LIT</td>\n      <td>Ready to Transfer</td>\n    </tr>\n    <tr>\n      <th>262807</th>\n      <td>2017-01-11 00:20:00</td>\n      <td>FV36</td>\n      <td>NaN</td>\n      <td>NaN</td>\n      <td>NaN</td>\n      <td>NaN</td>\n      <td>LIT</td>\n      <td>Ready to Transfer</td>\n    </tr>\n  </tbody>\n</table>\n</div>"
     },
     "metadata": {}
    }
   ],
   "execution_count": null
  },
  {
   "cell_type": "markdown",
   "source": "---\n## Part 3. Create utility functions for visualizing data\n<a id='section_3'></a>",
   "metadata": {
    "papermill": {
     "duration": 0.045043,
     "end_time": "2020-08-14T19:30:17.559527",
     "exception": false,
     "start_time": "2020-08-14T19:30:17.514484",
     "status": "completed"
    },
    "tags": [],
    "cell_id": "00028-1a43031d-e7b7-4c52-9c2c-28f2dad25956",
    "deepnote_cell_type": "markdown"
   }
  },
  {
   "cell_type": "markdown",
   "source": "### Part 3a. Function for previewing data\n<a id='section_3a'></a>\n\nThe *known* bad values have been eliminated from our dataset. However, there may still exist bad values which are *unknown*.\n\nA simple way to identify possible bad values is to visualize the data by plotting them. So we create the function `plot_preview_data` to accomplish this. \n\nNOTE: We want `plot_preview_data` to be such that it can be re-used to visualize data at any point in the mutiple data cleansing steps that will be performed.",
   "metadata": {
    "papermill": {
     "duration": 0.035202,
     "end_time": "2020-08-14T19:30:17.629269",
     "exception": false,
     "start_time": "2020-08-14T19:30:17.594067",
     "status": "completed"
    },
    "tags": [],
    "cell_id": "00029-2dd4d253-5485-4e7f-95fe-039e686581d7",
    "deepnote_cell_type": "markdown"
   }
  },
  {
   "cell_type": "code",
   "metadata": {
    "execution": {
     "iopub.execute_input": "2020-08-14T19:30:17.716578Z",
     "iopub.status.busy": "2020-08-14T19:30:17.714897Z",
     "iopub.status.idle": "2020-08-14T19:30:17.724883Z",
     "shell.execute_reply": "2020-08-14T19:30:17.723477Z"
    },
    "papermill": {
     "duration": 0.061886,
     "end_time": "2020-08-14T19:30:17.725130",
     "exception": false,
     "start_time": "2020-08-14T19:30:17.663244",
     "status": "completed"
    },
    "tags": [],
    "cell_id": "00030-4e3c9bf1-67e3-484b-92d8-d25e94a1afd9",
    "deepnote_to_be_reexecuted": false,
    "source_hash": "9b02aeaa",
    "execution_start": 1642202976757,
    "execution_millis": 10,
    "output_cleared": true,
    "deepnote_cell_type": "code"
   },
   "source": "def plot_preview_data(\n    df, X_attribute, Y_attribute, all_group_ids, layout, mode=\"lines+markers\"\n):\n\n    # create list for plotly objects\n    plot_objects = []\n\n    # go through each fermentor vessel\n    for group_id in all_group_ids:\n\n        # create boolean for extracting data for time and vessels of interest\n        group_boolean = df[\"Fermentation ID\"] == group_id\n\n        # labels for plotting\n        name = group_id\n\n        # create plotly object\n        plot_object = go.Scatter(\n            x=df.loc[group_boolean, X_attribute],\n            y=df.loc[group_boolean, Y_attribute],\n            mode=mode,\n            name=name,\n            hoverlabel={\"namelength\": -1},\n        )\n\n        # store plotly objects into list\n        plot_objects.append(plot_object)\n\n    # create and show plot\n    fig = go.Figure(data=plot_objects, layout=layout)\n    fig.show()",
   "execution_count": null,
   "outputs": []
  },
  {
   "cell_type": "markdown",
   "source": "### Part 3b. Function for plotting fit and normality\n<a id='section_3b'></a>\nCreate a function `model_analysis_plot` which  (1) plots the observed data and the model fit, (2) computes and plots residuals, and (3) computes and plots the normal scores for evaluating the quality of the model.\n\n`model_analysis_plot` should be re-useable, to easily plot and evaluate any model fit.",
   "metadata": {
    "papermill": {
     "duration": 0.038793,
     "end_time": "2020-08-14T19:30:17.826061",
     "exception": false,
     "start_time": "2020-08-14T19:30:17.787268",
     "status": "completed"
    },
    "tags": [],
    "cell_id": "00031-4530a8c5-f877-48fa-bd9a-04e42f4665d8",
    "deepnote_cell_type": "markdown"
   }
  },
  {
   "cell_type": "code",
   "metadata": {
    "execution": {
     "iopub.execute_input": "2020-08-14T19:30:17.959123Z",
     "iopub.status.busy": "2020-08-14T19:30:17.958398Z",
     "iopub.status.idle": "2020-08-14T19:30:17.969877Z",
     "shell.execute_reply": "2020-08-14T19:30:17.969231Z"
    },
    "papermill": {
     "duration": 0.084551,
     "end_time": "2020-08-14T19:30:17.970034",
     "exception": false,
     "start_time": "2020-08-14T19:30:17.885483",
     "status": "completed"
    },
    "tags": [],
    "cell_id": "00032-a25c717a-69c5-45cb-947f-e95d8bea91ec",
    "deepnote_to_be_reexecuted": false,
    "source_hash": "91759d1b",
    "execution_start": 1642202976771,
    "execution_millis": 25,
    "output_cleared": true,
    "deepnote_cell_type": "code"
   },
   "source": "def model_analysis_plot(X, Y_observed, Y_model, model_name):\n\n    # compute residuals\n    residuals = Y_observed - Y_model\n\n    # normal probabilities\n    qq = stats.probplot(residuals)\n    normal_line = np.array([qq[0][0][0], qq[0][0][-1]])\n\n    # initialize subplots\n    fig = make_subplots(\n        rows=2,\n        cols=2,\n        specs=[[{\"colspan\": 2}, None], [{}, {}]],\n        vertical_spacing=0.10,\n        horizontal_spacing=0.03,\n        shared_yaxes=True,\n    )\n\n    # create plot object for observed data\n    obj_observed = go.Scatter(\n        x=X, y=Y_observed, mode=\"markers\", marker=dict(color=\"black\"), name=\"observed\"\n    )\n\n    # create plot object for model data\n    obj_model = go.Scatter(\n        x=X, y=Y_model, mode=\"lines\", line=dict(color=\"red\"), name=f\"{model_name} model\"\n    )\n\n    # create plot object for residuals data\n    obj_residuals = go.Scatter(\n        x=Y_model,\n        y=residuals,\n        mode=\"markers\",\n        marker=dict(color=\"grey\"),\n        showlegend=False,\n    )\n\n    # create plot normal scores of model residuals\n    obj_residual_scores = go.Scatter(\n        x=qq[0][0],\n        y=qq[0][1],\n        mode=\"markers\",\n        marker=dict(color=\"grey\"),\n        showlegend=False,\n    )\n\n    # create plot for normal scores of normally distributed data\n    obj_normal = go.Scatter(\n        x=normal_line,\n        y=qq[1][1] + qq[1][0] * normal_line,\n        mode=\"lines\",\n        line=dict(color=\"black\"),\n        showlegend=False,\n    )\n\n    # add plot objects to figure\n    fig.append_trace(obj_observed, row=1, col=1)\n    fig.append_trace(obj_model, row=1, col=1)\n    fig.append_trace(obj_residuals, row=2, col=1)\n    fig.append_trace(obj_residual_scores, row=2, col=2)\n    fig.append_trace(obj_normal, row=2, col=2)\n\n    # update x axis properties\n    fig.layout.xaxis1.update(title=\"Fermentation time (hour)\")\n    fig.layout.xaxis2.update(title=\"Predicted Values\")\n    fig.layout.xaxis3.update(title=\"Normal Scores\")\n\n    # update y axis properties\n    fig.layout.yaxis1.update(title=\"ADF\")\n    fig.layout.yaxis2.update(title=\"Residuals\")\n\n    # update plot layout\n    fig.layout.update(height=820)\n    fig.layout.update(width=900)\n\n    # show plot\n    fig.show()",
   "execution_count": null,
   "outputs": []
  },
  {
   "cell_type": "markdown",
   "source": "---\n## Part 4. Pre-process brewery data\n<a id='section_4'></a>\nTo create the ADF prediction curve, we need ADF vs time data for the `BRAND_OF_INTEREST`. The ADF profile for a brand (assuming none are bad batches) should look almost identical regardless of when it was fermented and at which vessel it was fermented.\n\nThus in order to create a model that best predicts the ADF profile for some given brand, outliers and bad batches have to be removed from the training set. And that is the goal for this section.\n\nSome of the bad batches and bad data points are known beforehand, but some have to be identified graphically and manually removed.",
   "metadata": {
    "papermill": {
     "duration": 0.085924,
     "end_time": "2020-08-14T19:30:18.131162",
     "exception": false,
     "start_time": "2020-08-14T19:30:18.045238",
     "status": "completed"
    },
    "tags": [],
    "toc-hr-collapsed": false,
    "cell_id": "00033-0acb56f7-ae52-4fb3-ac4c-1b1f02f3e30e",
    "deepnote_cell_type": "markdown"
   }
  },
  {
   "cell_type": "markdown",
   "source": "### Part 4a. Filter out data with known bad values\n<a id='section_4a'></a>\nSome of the bad batches (`BAD_FERM_IDS`) in this time period is known beforehand. When sensors fail no value will be recorded at one or more timestamps. The reason for missing sensor values are multiple: network error, automation system glitch, hardware failure, etc. A digital code describing the error is recorded at the same timestamp of the missing value, but they are not exposed by the predefined fermenter vessel data views because there is nothing you can knowing this code. What we want to filter out the rows with missing values. \n\nAdditionally, we want to filter out all unwanted values (e.g. data during non-fermentation stages will not add any useful information to the ADF profile). We also do not want to keep any attributes that will not help in creating a model for the ADF profile.",
   "metadata": {
    "papermill": {
     "duration": 0.067802,
     "end_time": "2020-08-14T19:30:18.267971",
     "exception": false,
     "start_time": "2020-08-14T19:30:18.200169",
     "status": "completed"
    },
    "tags": [],
    "cell_id": "00034-cbd9eec9-7034-4cfb-8ce3-fcdb34456c70",
    "deepnote_cell_type": "markdown"
   }
  },
  {
   "cell_type": "code",
   "metadata": {
    "execution": {
     "iopub.execute_input": "2020-08-14T19:30:18.422665Z",
     "iopub.status.busy": "2020-08-14T19:30:18.421939Z",
     "iopub.status.idle": "2020-08-14T19:30:28.721865Z",
     "shell.execute_reply": "2020-08-14T19:30:28.722775Z"
    },
    "papermill": {
     "duration": 10.381858,
     "end_time": "2020-08-14T19:30:28.723050",
     "exception": false,
     "start_time": "2020-08-14T19:30:18.341192",
     "status": "completed"
    },
    "tags": [],
    "cell_id": "00035-4ffe0bfa-a2f6-407a-b411-e7f8e010f145",
    "deepnote_output_heights": [
     177
    ],
    "deepnote_to_be_reexecuted": false,
    "source_hash": "2fd72ca6",
    "execution_start": 1642202976801,
    "execution_millis": 11989,
    "output_cleared": false,
    "deepnote_cell_type": "code"
   },
   "source": "all_brands_df = all_brands_df.astype({\"Fermentation Start Time\": \"datetime64\"})\n\n\ndef fermentation_id(fv_id, t0):\n    tt = str(t0).split(\" \")\n    return f\"{fv_id}_{tt[0].replace('-','')}\"\n\n\nall_brands_df[\"Fermentation ID\"] = all_brands_df.apply(\n    lambda row: fermentation_id(row[\"Asset_Id\"], row[\"Fermentation Start Time\"]), axis=1\n)\n\n# keep only data for the brand of interest\nbrand_df = all_brands_df[all_brands_df[\"Brand\"] == BRAND_OF_INTEREST]\n\n# we are only interested in events where status is \"Fermentation\"\n# TODO: complete the filter expression to keep only data corresponding to the fermentation stages\n# =========== STUDENT BEGIN ==========\n# brand_df = brand_df[@@@ Your code here @@@]\n# =========== STUDENT END ==========\nbrand_df = brand_df[brand_df[\"Status\"] == \"Fermentation\"]\n# =========== STUDENT SOLUTION ==========\n\n\n# Replace missing ADF value at beginning of fermentation by value 0.0\nbrand_df.loc[np.isnan(brand_df[\"ADF\"]), \"ADF\"] = 0.0\n\n# No need for those two columns from which ADF is derived\nbrand_df = brand_df.drop(columns=[\"FV Full Plato\", \"Plato\"])\n\n# remove all rows with missing values\n# TODO: complete expression, hint check PandasGuide.ipynb section \"Selection\"\n# bonus hint: your line of code will end with an empty set of parentheses ()\n# =========== STUDENT BEGIN ==========\n# brand_df = @@@ Your code here @@@\n# =========== STUDENT END ==========\nbrand_df = brand_df.dropna()\n# =========== STUDENT SOLUTION ==========\n\n\n# remove all known bad fermentations\n# brand_df = brand_df[~brand_df[\"Fermentation ID\"].isin(BAD_FERM_IDS)]\n\n# preview first few lines of dataframe\nbrand_df.head()",
   "outputs": [
    {
     "output_type": "execute_result",
     "execution_count": 17,
     "data": {
      "application/vnd.deepnote.dataframe.v3+json": {
       "column_count": 7,
       "row_count": 5,
       "columns": [
        {
         "name": "Timestamp",
         "dtype": "datetime64[ns]",
         "stats": {
          "unique_count": 5,
          "nan_count": 0,
          "min": "2017-02-09 06:50:00",
          "max": "2017-02-09 07:30:00",
          "histogram": [
           {
            "bin_start": 1486623000000000000,
            "bin_end": 1486623240000000000,
            "count": 1
           },
           {
            "bin_start": 1486623240000000000,
            "bin_end": 1486623480000000000,
            "count": 0
           },
           {
            "bin_start": 1486623480000000000,
            "bin_end": 1486623720000000000,
            "count": 1
           },
           {
            "bin_start": 1486623720000000000,
            "bin_end": 1486623960000000000,
            "count": 0
           },
           {
            "bin_start": 1486623960000000000,
            "bin_end": 1486624200000000000,
            "count": 0
           },
           {
            "bin_start": 1486624200000000000,
            "bin_end": 1486624440000000000,
            "count": 1
           },
           {
            "bin_start": 1486624440000000000,
            "bin_end": 1486624680000000000,
            "count": 0
           },
           {
            "bin_start": 1486624680000000000,
            "bin_end": 1486624920000000000,
            "count": 1
           },
           {
            "bin_start": 1486624920000000000,
            "bin_end": 1486625160000000000,
            "count": 0
           },
           {
            "bin_start": 1486625160000000000,
            "bin_end": 1486625400000000000,
            "count": 1
           }
          ]
         }
        },
        {
         "name": "Asset_Id",
         "dtype": "object",
         "stats": {
          "unique_count": 1,
          "nan_count": 0,
          "categories": [
           {
            "name": "FV31",
            "count": 5
           }
          ]
         }
        },
        {
         "name": "ADF",
         "dtype": "float64",
         "stats": {
          "unique_count": 1,
          "nan_count": 0,
          "min": "0.0",
          "max": "0.0",
          "histogram": [
           {
            "bin_start": -0.5,
            "bin_end": -0.4,
            "count": 0
           },
           {
            "bin_start": -0.4,
            "bin_end": -0.3,
            "count": 0
           },
           {
            "bin_start": -0.3,
            "bin_end": -0.19999999999999996,
            "count": 0
           },
           {
            "bin_start": -0.19999999999999996,
            "bin_end": -0.09999999999999998,
            "count": 0
           },
           {
            "bin_start": -0.09999999999999998,
            "bin_end": 0,
            "count": 0
           },
           {
            "bin_start": 0,
            "bin_end": 0.10000000000000009,
            "count": 5
           },
           {
            "bin_start": 0.10000000000000009,
            "bin_end": 0.20000000000000007,
            "count": 0
           },
           {
            "bin_start": 0.20000000000000007,
            "bin_end": 0.30000000000000004,
            "count": 0
           },
           {
            "bin_start": 0.30000000000000004,
            "bin_end": 0.4,
            "count": 0
           },
           {
            "bin_start": 0.4,
            "bin_end": 0.5,
            "count": 0
           }
          ]
         }
        },
        {
         "name": "Fermentation Start Time",
         "dtype": "datetime64[ns]",
         "stats": {
          "unique_count": 1,
          "nan_count": 0,
          "min": "2017-02-09 06:45:49.748000800",
          "max": "2017-02-09 06:45:49.748000800",
          "histogram": null
         }
        },
        {
         "name": "Brand",
         "dtype": "object",
         "stats": {
          "unique_count": 1,
          "nan_count": 0,
          "categories": [
           {
            "name": "Realtime Hops",
            "count": 5
           }
          ]
         }
        },
        {
         "name": "Status",
         "dtype": "object",
         "stats": {
          "unique_count": 1,
          "nan_count": 0,
          "categories": [
           {
            "name": "Fermentation",
            "count": 5
           }
          ]
         }
        },
        {
         "name": "Fermentation ID",
         "dtype": "object",
         "stats": {
          "unique_count": 1,
          "nan_count": 0,
          "categories": [
           {
            "name": "FV31_20170209",
            "count": 5
           }
          ]
         }
        },
        {
         "name": "_deepnote_index_column",
         "dtype": "int64"
        }
       ],
       "rows": [
        {
         "Timestamp": "2017-02-09T06:50:00.000000",
         "Asset_Id": "FV31",
         "ADF": 0,
         "Fermentation Start Time": "2017-02-09T06:45:49.748000",
         "Brand": "Realtime Hops",
         "Status": "Fermentation",
         "Fermentation ID": "FV31_20170209",
         "_deepnote_index_column": 4217
        },
        {
         "Timestamp": "2017-02-09T07:00:00.000000",
         "Asset_Id": "FV31",
         "ADF": 0,
         "Fermentation Start Time": "2017-02-09T06:45:49.748000",
         "Brand": "Realtime Hops",
         "Status": "Fermentation",
         "Fermentation ID": "FV31_20170209",
         "_deepnote_index_column": 4218
        },
        {
         "Timestamp": "2017-02-09T07:10:00.000000",
         "Asset_Id": "FV31",
         "ADF": 0,
         "Fermentation Start Time": "2017-02-09T06:45:49.748000",
         "Brand": "Realtime Hops",
         "Status": "Fermentation",
         "Fermentation ID": "FV31_20170209",
         "_deepnote_index_column": 4219
        },
        {
         "Timestamp": "2017-02-09T07:20:00.000000",
         "Asset_Id": "FV31",
         "ADF": 0,
         "Fermentation Start Time": "2017-02-09T06:45:49.748000",
         "Brand": "Realtime Hops",
         "Status": "Fermentation",
         "Fermentation ID": "FV31_20170209",
         "_deepnote_index_column": 4220
        },
        {
         "Timestamp": "2017-02-09T07:30:00.000000",
         "Asset_Id": "FV31",
         "ADF": 0,
         "Fermentation Start Time": "2017-02-09T06:45:49.748000",
         "Brand": "Realtime Hops",
         "Status": "Fermentation",
         "Fermentation ID": "FV31_20170209",
         "_deepnote_index_column": 4221
        }
       ]
      },
      "text/plain": "               Timestamp Asset_Id  ADF       Fermentation Start Time  \\\n4217 2017-02-09 06:50:00     FV31  0.0 2017-02-09 06:45:49.748000800   \n4218 2017-02-09 07:00:00     FV31  0.0 2017-02-09 06:45:49.748000800   \n4219 2017-02-09 07:10:00     FV31  0.0 2017-02-09 06:45:49.748000800   \n4220 2017-02-09 07:20:00     FV31  0.0 2017-02-09 06:45:49.748000800   \n4221 2017-02-09 07:30:00     FV31  0.0 2017-02-09 06:45:49.748000800   \n\n              Brand        Status Fermentation ID  \n4217  Realtime Hops  Fermentation   FV31_20170209  \n4218  Realtime Hops  Fermentation   FV31_20170209  \n4219  Realtime Hops  Fermentation   FV31_20170209  \n4220  Realtime Hops  Fermentation   FV31_20170209  \n4221  Realtime Hops  Fermentation   FV31_20170209  ",
      "text/html": "<div>\n<style scoped>\n    .dataframe tbody tr th:only-of-type {\n        vertical-align: middle;\n    }\n\n    .dataframe tbody tr th {\n        vertical-align: top;\n    }\n\n    .dataframe thead th {\n        text-align: right;\n    }\n</style>\n<table border=\"1\" class=\"dataframe\">\n  <thead>\n    <tr style=\"text-align: right;\">\n      <th></th>\n      <th>Timestamp</th>\n      <th>Asset_Id</th>\n      <th>ADF</th>\n      <th>Fermentation Start Time</th>\n      <th>Brand</th>\n      <th>Status</th>\n      <th>Fermentation ID</th>\n    </tr>\n  </thead>\n  <tbody>\n    <tr>\n      <th>4217</th>\n      <td>2017-02-09 06:50:00</td>\n      <td>FV31</td>\n      <td>0.0</td>\n      <td>2017-02-09 06:45:49.748000800</td>\n      <td>Realtime Hops</td>\n      <td>Fermentation</td>\n      <td>FV31_20170209</td>\n    </tr>\n    <tr>\n      <th>4218</th>\n      <td>2017-02-09 07:00:00</td>\n      <td>FV31</td>\n      <td>0.0</td>\n      <td>2017-02-09 06:45:49.748000800</td>\n      <td>Realtime Hops</td>\n      <td>Fermentation</td>\n      <td>FV31_20170209</td>\n    </tr>\n    <tr>\n      <th>4219</th>\n      <td>2017-02-09 07:10:00</td>\n      <td>FV31</td>\n      <td>0.0</td>\n      <td>2017-02-09 06:45:49.748000800</td>\n      <td>Realtime Hops</td>\n      <td>Fermentation</td>\n      <td>FV31_20170209</td>\n    </tr>\n    <tr>\n      <th>4220</th>\n      <td>2017-02-09 07:20:00</td>\n      <td>FV31</td>\n      <td>0.0</td>\n      <td>2017-02-09 06:45:49.748000800</td>\n      <td>Realtime Hops</td>\n      <td>Fermentation</td>\n      <td>FV31_20170209</td>\n    </tr>\n    <tr>\n      <th>4221</th>\n      <td>2017-02-09 07:30:00</td>\n      <td>FV31</td>\n      <td>0.0</td>\n      <td>2017-02-09 06:45:49.748000800</td>\n      <td>Realtime Hops</td>\n      <td>Fermentation</td>\n      <td>FV31_20170209</td>\n    </tr>\n  </tbody>\n</table>\n</div>"
     },
     "metadata": {}
    }
   ],
   "execution_count": null
  },
  {
   "cell_type": "markdown",
   "source": "### Part 4b. Preview raw ADF profile\n<a id='section_4b'></a>\nPreview what the data looks like for the first `N_days`. Plot ADF vs the dates. You will observe that the ADF profile for a batch is discontinous. This is because the ADF has been measured manually and therefore intermittently.\n\nWe ultimately want a more continuous ADF profile for fitting.\n",
   "metadata": {
    "papermill": {
     "duration": 0.041592,
     "end_time": "2020-08-14T19:30:28.828197",
     "exception": false,
     "start_time": "2020-08-14T19:30:28.786605",
     "status": "completed"
    },
    "tags": [],
    "cell_id": "00036-cfb21607-3420-4f0a-8528-00748963507b",
    "deepnote_cell_type": "markdown"
   }
  },
  {
   "cell_type": "code",
   "metadata": {
    "execution": {
     "iopub.execute_input": "2020-08-14T19:30:28.933265Z",
     "iopub.status.busy": "2020-08-14T19:30:28.932323Z",
     "iopub.status.idle": "2020-08-14T19:30:29.436824Z",
     "shell.execute_reply": "2020-08-14T19:30:29.437411Z"
    },
    "papermill": {
     "duration": 0.562909,
     "end_time": "2020-08-14T19:30:29.437557",
     "exception": false,
     "start_time": "2020-08-14T19:30:28.874648",
     "status": "completed"
    },
    "tags": [],
    "cell_id": "00037-bfbbd625-17e6-43f6-b9a1-f98d7c3acebf",
    "deepnote_output_heights": [
     527
    ],
    "deepnote_to_be_reexecuted": false,
    "source_hash": "fb82fb4f",
    "execution_start": 1642202988825,
    "execution_millis": 589,
    "output_cleared": false,
    "deepnote_cell_type": "code"
   },
   "source": "# define time period of interest for preview\nN_days = TRAINING_DAYS\n\n# time after Ndays\nend_time = (parser.parse(START_INDEX) + dt.timedelta(days=N_days)).isoformat()\n\n# get all fermentation IDs (corresponds to different batches)\n# TODO: extract all unique Fermentation ID, hint: section \"Selection\" in PandasGuide.ipynb\n# =========== STUDENT BEGIN ==========\n# all_ferm_ids = sorted(@@@ You code here @@@)\n# =========== STUDENT END ==========\nall_ferm_ids = sorted(brand_df[\"Fermentation ID\"].unique())\n# =========== STUDENT SOLUTION ==========\n\n\n# define layout of plot\nlayout = go.Layout(\n    xaxis=dict(title=\"Timestamp (days)\"),\n    yaxis=dict(title=\"ADF\"),\n    width=1000,\n    title=f\"Preview of ADF during fermentation stage, first {N_days} days starting on {START_INDEX}<br>\"\n    f\"(total of {len(all_ferm_ids)} fermentation in {TRAINING_DAYS} days)\",\n)\n\n# plot preview of data\nplot_preview_data(\n    brand_df[brand_df[\"Timestamp\"] <= end_time],\n    \"Timestamp\",\n    \"ADF\",\n    all_ferm_ids,\n    layout,\n)",
   "outputs": [
    {
     "data": {
      "text/html": "<html>\n<head><meta charset=\"utf-8\" /></head>\n<body>\n    <div>            <script src=\"https://cdnjs.cloudflare.com/ajax/libs/mathjax/2.7.5/MathJax.js?config=TeX-AMS-MML_SVG\"></script><script type=\"text/javascript\">if (window.MathJax) {MathJax.Hub.Config({SVG: {font: \"STIX-Web\"}});}</script>                <script type=\"text/javascript\">window.PlotlyConfig = {MathJaxConfig: 'local'};</script>\n        <script src=\"https://cdn.plot.ly/plotly-2.6.3.min.js\"></script>                <div id=\"e5dfdf22-fabe-40e5-b67c-7a917ba9f120\" class=\"plotly-graph-div\" style=\"height:525px; width:1000px;\"></div>            <script type=\"text/javascript\">                                    window.PLOTLYENV=window.PLOTLYENV || {};                                    if (document.getElementById(\"e5dfdf22-fabe-40e5-b67c-7a917ba9f120\")) {                    Plotly.newPlot(                        \"e5dfdf22-fabe-40e5-b67c-7a917ba9f120\",                        [{\"hoverlabel\":{\"namelength\":-1},\"mode\":\"lines+markers\",\"name\":\"FV31_20170209\",\"x\":[\"2017-02-09T06:50:00\",\"2017-02-09T07:00:00\",\"2017-02-09T07:10:00\",\"2017-02-09T07:20:00\",\"2017-02-09T07:30:00\",\"2017-02-09T07:40:00\",\"2017-02-09T07:50:00\",\"2017-02-09T08:00:00\",\"2017-02-09T08:10:00\",\"2017-02-09T08:20:00\",\"2017-02-09T08:30:00\",\"2017-02-09T08:40:00\",\"2017-02-09T08:50:00\",\"2017-02-09T09:00:00\",\"2017-02-09T09:10:00\",\"2017-02-09T09:20:00\",\"2017-02-09T09:30:00\",\"2017-02-09T09:40:00\",\"2017-02-09T09:50:00\",\"2017-02-09T10:00:00\",\"2017-02-09T10:10:00\",\"2017-02-09T10:20:00\",\"2017-02-09T10:30:00\",\"2017-02-09T10:40:00\",\"2017-02-09T10:50:00\",\"2017-02-09T11:00:00\",\"2017-02-09T11:10:00\",\"2017-02-09T11:20:00\",\"2017-02-09T11:30:00\",\"2017-02-09T11:40:00\",\"2017-02-09T11:50:00\",\"2017-02-09T12:00:00\",\"2017-02-09T12:10:00\",\"2017-02-09T12:20:00\",\"2017-02-09T12:30:00\",\"2017-02-09T12:40:00\",\"2017-02-09T12:50:00\",\"2017-02-09T13:00:00\",\"2017-02-09T13:10:00\",\"2017-02-09T13:20:00\",\"2017-02-09T13:30:00\",\"2017-02-09T13:40:00\",\"2017-02-09T13:50:00\",\"2017-02-09T14:00:00\",\"2017-02-09T14:10:00\",\"2017-02-09T14:20:00\",\"2017-02-09T14:30:00\",\"2017-02-09T14:40:00\",\"2017-02-09T14:50:00\",\"2017-02-09T15:00:00\",\"2017-02-09T15:10:00\",\"2017-02-09T15:20:00\",\"2017-02-09T15:30:00\",\"2017-02-09T15:40:00\",\"2017-02-09T15:50:00\",\"2017-02-09T16:00:00\",\"2017-02-09T16:10:00\",\"2017-02-09T16:20:00\",\"2017-02-09T16:30:00\",\"2017-02-09T16:40:00\",\"2017-02-09T16:50:00\",\"2017-02-09T17:00:00\",\"2017-02-09T17:10:00\",\"2017-02-09T17:20:00\",\"2017-02-09T17:30:00\",\"2017-02-09T17:40:00\",\"2017-02-09T17:50:00\",\"2017-02-09T18:00:00\",\"2017-02-09T18:10:00\",\"2017-02-09T18:20:00\",\"2017-02-09T18:30:00\",\"2017-02-09T18:40:00\",\"2017-02-09T18:50:00\",\"2017-02-09T19:00:00\",\"2017-02-09T19:10:00\",\"2017-02-09T19:20:00\",\"2017-02-09T19:30:00\",\"2017-02-09T19:40:00\",\"2017-02-09T19:50:00\",\"2017-02-09T20:00:00\",\"2017-02-09T20:10:00\",\"2017-02-09T20:20:00\",\"2017-02-09T20:30:00\",\"2017-02-09T20:40:00\",\"2017-02-09T20:50:00\",\"2017-02-09T21:00:00\",\"2017-02-09T21:10:00\",\"2017-02-09T21:20:00\",\"2017-02-09T21:30:00\",\"2017-02-09T21:40:00\",\"2017-02-09T21:50:00\",\"2017-02-09T22:00:00\",\"2017-02-09T22:10:00\",\"2017-02-09T22:20:00\",\"2017-02-09T22:30:00\",\"2017-02-09T22:40:00\",\"2017-02-09T22:50:00\",\"2017-02-09T23:00:00\",\"2017-02-09T23:10:00\",\"2017-02-09T23:20:00\",\"2017-02-09T23:30:00\",\"2017-02-09T23:40:00\",\"2017-02-09T23:50:00\",\"2017-02-10T00:00:00\",\"2017-02-10T00:10:00\",\"2017-02-10T00:20:00\",\"2017-02-10T00:30:00\",\"2017-02-10T00:40:00\",\"2017-02-10T00:50:00\",\"2017-02-10T01:00:00\",\"2017-02-10T01:10:00\",\"2017-02-10T01:20:00\",\"2017-02-10T01:30:00\",\"2017-02-10T01:40:00\",\"2017-02-10T01:50:00\",\"2017-02-10T02:00:00\",\"2017-02-10T02:10:00\",\"2017-02-10T02:20:00\",\"2017-02-10T02:30:00\",\"2017-02-10T02:40:00\",\"2017-02-10T02:50:00\",\"2017-02-10T03:00:00\",\"2017-02-10T03:10:00\",\"2017-02-10T03:20:00\",\"2017-02-10T03:30:00\",\"2017-02-10T03:40:00\",\"2017-02-10T03:50:00\",\"2017-02-10T04:00:00\",\"2017-02-10T04:10:00\",\"2017-02-10T04:20:00\",\"2017-02-10T04:30:00\",\"2017-02-10T04:40:00\",\"2017-02-10T04:50:00\",\"2017-02-10T05:00:00\",\"2017-02-10T05:10:00\",\"2017-02-10T05:20:00\",\"2017-02-10T05:30:00\",\"2017-02-10T05:40:00\",\"2017-02-10T05:50:00\",\"2017-02-10T06:00:00\",\"2017-02-10T06:10:00\",\"2017-02-10T06:20:00\",\"2017-02-10T06:30:00\",\"2017-02-10T06:40:00\",\"2017-02-10T06:50:00\",\"2017-02-10T07:00:00\",\"2017-02-10T07:10:00\",\"2017-02-10T07:20:00\",\"2017-02-10T07:30:00\",\"2017-02-10T07:40:00\",\"2017-02-10T07:50:00\",\"2017-02-10T08:00:00\",\"2017-02-10T08:10:00\",\"2017-02-10T08:20:00\",\"2017-02-10T08:30:00\",\"2017-02-10T08:40:00\",\"2017-02-10T08:50:00\",\"2017-02-10T09:00:00\",\"2017-02-10T09:10:00\",\"2017-02-10T09:20:00\",\"2017-02-10T09:30:00\",\"2017-02-10T09:40:00\",\"2017-02-10T09:50:00\",\"2017-02-10T10:00:00\",\"2017-02-10T10:10:00\",\"2017-02-10T10:20:00\",\"2017-02-10T10:30:00\",\"2017-02-10T10:40:00\",\"2017-02-10T10:50:00\",\"2017-02-10T11:00:00\",\"2017-02-10T11:10:00\",\"2017-02-10T11:20:00\",\"2017-02-10T11:30:00\",\"2017-02-10T11:40:00\",\"2017-02-10T11:50:00\",\"2017-02-10T12:00:00\",\"2017-02-10T12:10:00\",\"2017-02-10T12:20:00\",\"2017-02-10T12:30:00\",\"2017-02-10T12:40:00\",\"2017-02-10T12:50:00\",\"2017-02-10T13:00:00\",\"2017-02-10T13:10:00\",\"2017-02-10T13:20:00\",\"2017-02-10T13:30:00\",\"2017-02-10T13:40:00\",\"2017-02-10T13:50:00\",\"2017-02-10T14:00:00\",\"2017-02-10T14:10:00\",\"2017-02-10T14:20:00\",\"2017-02-10T14:30:00\",\"2017-02-10T14:40:00\",\"2017-02-10T14:50:00\",\"2017-02-10T15:00:00\",\"2017-02-10T15:10:00\",\"2017-02-10T15:20:00\",\"2017-02-10T15:30:00\",\"2017-02-10T15:40:00\",\"2017-02-10T15:50:00\",\"2017-02-10T16:00:00\",\"2017-02-10T16:10:00\",\"2017-02-10T16:20:00\",\"2017-02-10T16:30:00\",\"2017-02-10T16:40:00\",\"2017-02-10T16:50:00\",\"2017-02-10T17:00:00\",\"2017-02-10T17:10:00\",\"2017-02-10T17:20:00\",\"2017-02-10T17:30:00\",\"2017-02-10T17:40:00\",\"2017-02-10T17:50:00\",\"2017-02-10T18:00:00\",\"2017-02-10T18:10:00\",\"2017-02-10T18:20:00\",\"2017-02-10T18:30:00\",\"2017-02-10T18:40:00\",\"2017-02-10T18:50:00\",\"2017-02-10T19:00:00\",\"2017-02-10T19:10:00\",\"2017-02-10T19:20:00\",\"2017-02-10T19:30:00\",\"2017-02-10T19:40:00\",\"2017-02-10T19:50:00\",\"2017-02-10T20:00:00\",\"2017-02-10T20:10:00\",\"2017-02-10T20:20:00\",\"2017-02-10T20:30:00\",\"2017-02-10T20:40:00\",\"2017-02-10T20:50:00\",\"2017-02-10T21:00:00\",\"2017-02-10T21:10:00\",\"2017-02-10T21:20:00\",\"2017-02-10T21:30:00\",\"2017-02-10T21:40:00\",\"2017-02-10T21:50:00\",\"2017-02-10T22:00:00\",\"2017-02-10T22:10:00\",\"2017-02-10T22:20:00\",\"2017-02-10T22:30:00\",\"2017-02-10T22:40:00\",\"2017-02-10T22:50:00\",\"2017-02-10T23:00:00\",\"2017-02-10T23:10:00\",\"2017-02-10T23:20:00\",\"2017-02-10T23:30:00\",\"2017-02-10T23:40:00\",\"2017-02-10T23:50:00\",\"2017-02-11T00:00:00\",\"2017-02-11T00:10:00\",\"2017-02-11T00:20:00\",\"2017-02-11T00:30:00\",\"2017-02-11T00:40:00\",\"2017-02-11T00:50:00\",\"2017-02-11T01:00:00\",\"2017-02-11T01:10:00\",\"2017-02-11T01:20:00\",\"2017-02-11T01:30:00\",\"2017-02-11T01:40:00\",\"2017-02-11T01:50:00\",\"2017-02-11T02:00:00\",\"2017-02-11T02:10:00\",\"2017-02-11T02:20:00\",\"2017-02-11T02:30:00\",\"2017-02-11T02:40:00\",\"2017-02-11T02:50:00\",\"2017-02-11T03:00:00\",\"2017-02-11T03:10:00\",\"2017-02-11T03:20:00\",\"2017-02-11T03:30:00\",\"2017-02-11T03:40:00\",\"2017-02-11T03:50:00\",\"2017-02-11T04:00:00\",\"2017-02-11T04:10:00\",\"2017-02-11T04:20:00\",\"2017-02-11T04:30:00\",\"2017-02-11T04:40:00\",\"2017-02-11T04:50:00\",\"2017-02-11T05:00:00\",\"2017-02-11T05:10:00\",\"2017-02-11T05:20:00\",\"2017-02-11T05:30:00\",\"2017-02-11T05:40:00\",\"2017-02-11T05:50:00\",\"2017-02-11T06:00:00\",\"2017-02-11T06:10:00\"],\"y\":[0.0,0.0,0.0,0.0,0.0,0.0,0.0,0.0,0.0,0.0,0.0,0.0,0.0,0.0,0.0,0.0,0.0,0.0,0.0,0.0,0.0,0.0,0.0,0.0,0.0,0.0,0.0,0.0,0.0,0.0,0.0,0.0,0.0,0.0,0.0,0.0,0.0,0.0,0.0,0.0,0.0,0.0,0.0,0.0,0.0,0.0,0.0,0.0,0.0,0.0,0.0,0.0,0.0,0.0,0.0,0.0,0.0,0.0,0.0,0.0,0.0,0.0,0.0,0.0,0.0,0.0,0.0,0.0,0.0,0.0,0.0,0.0,0.0,0.0,0.0,0.0,0.0,0.0,0.0,0.0,0.0,0.0,0.0,0.0,0.0,0.0,0.0,0.0,0.0,0.0,0.0,0.0,0.0,0.0,0.0,0.0,0.0,0.0,0.0,0.0,0.0,0.0,0.0,0.0,0.0,0.0,0.0,0.0,0.0,0.0,0.0,0.0,0.0,0.0,0.0,0.0,0.0,0.0,0.0,0.0,0.0,0.0,0.0,0.0,0.0,0.0,0.0,0.0,0.0,0.0,0.0,0.0,0.0,0.0,0.0,0.0,0.0,0.0,0.0,0.0,0.0,0.3336291001188457,0.3336291001188457,0.3336291001188457,0.3336291001188457,0.3336291001188457,0.3336291001188457,0.3336291001188457,0.3336291001188457,0.3336291001188457,0.3336291001188457,0.3336291001188457,0.3336291001188457,0.3336291001188457,0.3336291001188457,0.3336291001188457,0.3336291001188457,0.3336291001188457,0.3336291001188457,0.3336291001188457,0.3336291001188457,0.3336291001188457,0.3336291001188457,0.3336291001188457,0.3336291001188457,0.3336291001188457,0.3336291001188457,0.3336291001188457,0.3336291001188457,0.3336291001188457,0.3336291001188457,0.3336291001188457,0.3336291001188457,0.3336291001188457,0.3336291001188457,0.3336291001188457,0.3336291001188457,0.3336291001188457,0.3336291001188457,0.3336291001188457,0.3336291001188457,0.3336291001188457,0.3336291001188457,0.3336291001188457,0.3336291001188457,0.3336291001188457,0.3336291001188457,0.3336291001188457,0.3336291001188457,0.3336291001188457,0.3336291001188457,0.3336291001188457,0.3336291001188457,0.3336291001188457,0.3336291001188457,0.3336291001188457,0.4965197504119987,0.4965197504119987,0.4965197504119987,0.4965197504119987,0.4965197504119987,0.4965197504119987,0.4965197504119987,0.4965197504119987,0.4965197504119987,0.4965197504119987,0.4965197504119987,0.4965197504119987,0.4965197504119987,0.4965197504119987,0.4965197504119987,0.4965197504119987,0.4965197504119987,0.4965197504119987,0.4965197504119987,0.4965197504119987,0.4965197504119987,0.4965197504119987,0.4965197504119987,0.4965197504119987,0.4965197504119987,0.4965197504119987,0.4965197504119987,0.4965197504119987,0.4965197504119987,0.4965197504119987,0.4965197504119987,0.4965197504119987,0.4965197504119987,0.4965197504119987,0.4965197504119987,0.4965197504119987,0.4965197504119987,0.4965197504119987,0.4965197504119987,0.4965197504119987,0.4965197504119987,0.4965197504119987,0.4965197504119987,0.4965197504119987,0.4965197504119987,0.4965197504119987,0.4965197504119987,0.4965197504119987,0.4965197504119987,0.4965197504119987,0.4965197504119987,0.4965197504119987,0.4965197504119987,0.4965197504119987,0.4965197504119987,0.4965197504119987,0.4965197504119987,0.4965197504119987,0.4965197504119987,0.4965197504119987,0.4965197504119987,0.4965197504119987,0.4965197504119987,0.4965197504119987,0.4965197504119987,0.4965197504119987,0.4965197504119987,0.4965197504119987,0.4965197504119987,0.4965197504119987,0.4965197504119987,0.4965197504119987,0.4965197504119987,0.4965197504119987,0.4965197504119987,0.4965197504119987,0.4965197504119987,0.4965197504119987,0.4965197504119987,0.4965197504119987,0.4965197504119987,0.4965197504119987,0.4965197504119987,0.4965197504119987,0.4965197504119987,0.4965197504119987,0.4965197504119987,0.6964310415597054,0.6964310415597054],\"type\":\"scatter\"},{\"hoverlabel\":{\"namelength\":-1},\"mode\":\"lines+markers\",\"name\":\"FV31_20170413\",\"x\":[\"2017-04-13T01:20:00\",\"2017-04-13T01:30:00\",\"2017-04-13T01:40:00\",\"2017-04-13T01:50:00\",\"2017-04-13T02:00:00\",\"2017-04-13T02:10:00\",\"2017-04-13T02:20:00\",\"2017-04-13T02:30:00\",\"2017-04-13T02:40:00\",\"2017-04-13T02:50:00\",\"2017-04-13T03:00:00\",\"2017-04-13T03:10:00\",\"2017-04-13T03:20:00\",\"2017-04-13T03:30:00\",\"2017-04-13T03:40:00\",\"2017-04-13T03:50:00\",\"2017-04-13T04:00:00\",\"2017-04-13T04:10:00\",\"2017-04-13T04:20:00\",\"2017-04-13T04:30:00\",\"2017-04-13T04:40:00\",\"2017-04-13T04:50:00\",\"2017-04-13T05:00:00\",\"2017-04-13T05:10:00\",\"2017-04-13T05:20:00\",\"2017-04-13T05:30:00\",\"2017-04-13T05:40:00\",\"2017-04-13T05:50:00\",\"2017-04-13T06:00:00\",\"2017-04-13T06:10:00\",\"2017-04-13T06:20:00\",\"2017-04-13T06:30:00\",\"2017-04-13T06:40:00\",\"2017-04-13T06:50:00\",\"2017-04-13T07:00:00\",\"2017-04-13T07:10:00\",\"2017-04-13T07:20:00\",\"2017-04-13T07:30:00\",\"2017-04-13T07:40:00\",\"2017-04-13T07:50:00\",\"2017-04-13T08:00:00\",\"2017-04-13T08:10:00\",\"2017-04-13T08:20:00\",\"2017-04-13T08:30:00\",\"2017-04-13T08:40:00\",\"2017-04-13T08:50:00\",\"2017-04-13T09:00:00\",\"2017-04-13T09:10:00\",\"2017-04-13T09:20:00\",\"2017-04-13T09:30:00\",\"2017-04-13T09:40:00\",\"2017-04-13T09:50:00\",\"2017-04-13T10:00:00\",\"2017-04-13T10:10:00\",\"2017-04-13T10:20:00\",\"2017-04-13T10:30:00\",\"2017-04-13T10:40:00\",\"2017-04-13T10:50:00\",\"2017-04-13T11:00:00\",\"2017-04-13T11:10:00\",\"2017-04-13T11:20:00\",\"2017-04-13T11:30:00\",\"2017-04-13T11:40:00\",\"2017-04-13T11:50:00\",\"2017-04-13T12:00:00\",\"2017-04-13T12:10:00\",\"2017-04-13T12:20:00\",\"2017-04-13T12:30:00\",\"2017-04-13T12:40:00\",\"2017-04-13T12:50:00\",\"2017-04-13T13:00:00\",\"2017-04-13T13:10:00\",\"2017-04-13T13:20:00\",\"2017-04-13T13:30:00\",\"2017-04-13T13:40:00\",\"2017-04-13T13:50:00\",\"2017-04-13T14:00:00\",\"2017-04-13T14:10:00\",\"2017-04-13T14:20:00\",\"2017-04-13T14:30:00\",\"2017-04-13T14:40:00\",\"2017-04-13T14:50:00\",\"2017-04-13T15:00:00\",\"2017-04-13T15:10:00\",\"2017-04-13T15:20:00\",\"2017-04-13T15:30:00\",\"2017-04-13T15:40:00\",\"2017-04-13T15:50:00\",\"2017-04-13T16:00:00\",\"2017-04-13T16:10:00\",\"2017-04-13T16:20:00\",\"2017-04-13T16:30:00\",\"2017-04-13T16:40:00\",\"2017-04-13T16:50:00\",\"2017-04-13T17:00:00\",\"2017-04-13T17:10:00\",\"2017-04-13T17:20:00\",\"2017-04-13T17:30:00\",\"2017-04-13T17:40:00\",\"2017-04-13T17:50:00\",\"2017-04-13T18:00:00\",\"2017-04-13T18:10:00\",\"2017-04-13T18:20:00\",\"2017-04-13T18:30:00\",\"2017-04-13T18:40:00\",\"2017-04-13T18:50:00\",\"2017-04-13T19:00:00\",\"2017-04-13T19:10:00\",\"2017-04-13T19:20:00\",\"2017-04-13T19:30:00\",\"2017-04-13T19:40:00\",\"2017-04-13T19:50:00\",\"2017-04-13T20:00:00\",\"2017-04-13T20:10:00\",\"2017-04-13T20:20:00\",\"2017-04-13T20:30:00\",\"2017-04-13T20:40:00\",\"2017-04-13T20:50:00\",\"2017-04-13T21:00:00\",\"2017-04-13T21:10:00\",\"2017-04-13T21:20:00\",\"2017-04-13T21:30:00\",\"2017-04-13T21:40:00\",\"2017-04-13T21:50:00\",\"2017-04-13T22:00:00\",\"2017-04-13T22:10:00\",\"2017-04-13T22:20:00\",\"2017-04-13T22:30:00\",\"2017-04-13T22:40:00\",\"2017-04-13T22:50:00\",\"2017-04-13T23:00:00\",\"2017-04-13T23:10:00\",\"2017-04-13T23:20:00\",\"2017-04-13T23:30:00\",\"2017-04-13T23:40:00\",\"2017-04-13T23:50:00\",\"2017-04-14T00:00:00\",\"2017-04-14T00:10:00\",\"2017-04-14T00:20:00\",\"2017-04-14T00:30:00\",\"2017-04-14T00:40:00\",\"2017-04-14T00:50:00\",\"2017-04-14T01:00:00\",\"2017-04-14T01:10:00\",\"2017-04-14T01:20:00\",\"2017-04-14T01:30:00\",\"2017-04-14T01:40:00\",\"2017-04-14T01:50:00\",\"2017-04-14T02:00:00\",\"2017-04-14T02:10:00\",\"2017-04-14T02:20:00\",\"2017-04-14T02:30:00\",\"2017-04-14T02:40:00\",\"2017-04-14T02:50:00\",\"2017-04-14T03:00:00\",\"2017-04-14T03:10:00\",\"2017-04-14T03:20:00\",\"2017-04-14T03:30:00\",\"2017-04-14T03:40:00\",\"2017-04-14T03:50:00\",\"2017-04-14T04:00:00\",\"2017-04-14T04:10:00\",\"2017-04-14T04:20:00\",\"2017-04-14T04:30:00\",\"2017-04-14T04:40:00\",\"2017-04-14T04:50:00\",\"2017-04-14T05:00:00\",\"2017-04-14T05:10:00\",\"2017-04-14T05:20:00\",\"2017-04-14T05:30:00\",\"2017-04-14T05:40:00\",\"2017-04-14T05:50:00\",\"2017-04-14T06:00:00\",\"2017-04-14T06:10:00\",\"2017-04-14T06:20:00\",\"2017-04-14T06:30:00\",\"2017-04-14T06:40:00\",\"2017-04-14T06:50:00\",\"2017-04-14T07:00:00\",\"2017-04-14T07:10:00\",\"2017-04-14T07:20:00\",\"2017-04-14T07:30:00\",\"2017-04-14T07:40:00\",\"2017-04-14T07:50:00\",\"2017-04-14T08:00:00\",\"2017-04-14T08:10:00\",\"2017-04-14T08:20:00\",\"2017-04-14T08:30:00\",\"2017-04-14T08:40:00\",\"2017-04-14T08:50:00\",\"2017-04-14T09:00:00\",\"2017-04-14T09:10:00\",\"2017-04-14T09:20:00\",\"2017-04-14T09:30:00\",\"2017-04-14T09:40:00\",\"2017-04-14T09:50:00\",\"2017-04-14T10:00:00\",\"2017-04-14T10:10:00\",\"2017-04-14T10:20:00\",\"2017-04-14T10:30:00\",\"2017-04-14T10:40:00\",\"2017-04-14T10:50:00\",\"2017-04-14T11:00:00\",\"2017-04-14T11:10:00\",\"2017-04-14T11:20:00\",\"2017-04-14T11:30:00\",\"2017-04-14T11:40:00\",\"2017-04-14T11:50:00\",\"2017-04-14T12:00:00\",\"2017-04-14T12:10:00\",\"2017-04-14T12:20:00\",\"2017-04-14T12:30:00\",\"2017-04-14T12:40:00\",\"2017-04-14T12:50:00\",\"2017-04-14T13:00:00\",\"2017-04-14T13:10:00\",\"2017-04-14T13:20:00\",\"2017-04-14T13:30:00\",\"2017-04-14T13:40:00\",\"2017-04-14T13:50:00\",\"2017-04-14T14:00:00\",\"2017-04-14T14:10:00\",\"2017-04-14T14:20:00\",\"2017-04-14T14:30:00\",\"2017-04-14T14:40:00\",\"2017-04-14T14:50:00\",\"2017-04-14T15:00:00\",\"2017-04-14T15:10:00\",\"2017-04-14T15:20:00\",\"2017-04-14T15:30:00\",\"2017-04-14T15:40:00\",\"2017-04-14T15:50:00\",\"2017-04-14T16:00:00\",\"2017-04-14T16:10:00\",\"2017-04-14T16:20:00\",\"2017-04-14T16:30:00\",\"2017-04-14T16:40:00\",\"2017-04-14T16:50:00\",\"2017-04-14T17:00:00\",\"2017-04-14T17:10:00\",\"2017-04-14T17:20:00\",\"2017-04-14T17:30:00\",\"2017-04-14T17:40:00\",\"2017-04-14T17:50:00\",\"2017-04-14T18:00:00\",\"2017-04-14T18:10:00\",\"2017-04-14T18:20:00\",\"2017-04-14T18:30:00\",\"2017-04-14T18:40:00\",\"2017-04-14T18:50:00\",\"2017-04-14T19:00:00\",\"2017-04-14T19:10:00\",\"2017-04-14T19:20:00\",\"2017-04-14T19:30:00\",\"2017-04-14T19:40:00\",\"2017-04-14T19:50:00\",\"2017-04-14T20:00:00\",\"2017-04-14T20:10:00\",\"2017-04-14T20:20:00\",\"2017-04-14T20:30:00\",\"2017-04-14T20:40:00\",\"2017-04-14T20:50:00\",\"2017-04-14T21:00:00\",\"2017-04-14T21:10:00\",\"2017-04-14T21:20:00\",\"2017-04-14T21:30:00\",\"2017-04-14T21:40:00\",\"2017-04-14T21:50:00\",\"2017-04-14T22:00:00\",\"2017-04-14T22:10:00\",\"2017-04-14T22:20:00\",\"2017-04-14T22:30:00\",\"2017-04-14T22:40:00\",\"2017-04-14T22:50:00\",\"2017-04-14T23:00:00\",\"2017-04-14T23:10:00\",\"2017-04-14T23:20:00\",\"2017-04-14T23:30:00\",\"2017-04-14T23:40:00\",\"2017-04-14T23:50:00\",\"2017-04-15T00:00:00\",\"2017-04-15T00:10:00\",\"2017-04-15T00:20:00\",\"2017-04-15T00:30:00\",\"2017-04-15T00:40:00\",\"2017-04-15T00:50:00\",\"2017-04-15T01:00:00\",\"2017-04-15T01:10:00\",\"2017-04-15T01:20:00\",\"2017-04-15T01:30:00\",\"2017-04-15T01:40:00\",\"2017-04-15T01:50:00\",\"2017-04-15T02:00:00\",\"2017-04-15T02:10:00\",\"2017-04-15T02:20:00\",\"2017-04-15T02:30:00\",\"2017-04-15T02:40:00\",\"2017-04-15T02:50:00\",\"2017-04-15T03:00:00\",\"2017-04-15T03:10:00\",\"2017-04-15T03:20:00\",\"2017-04-15T03:30:00\",\"2017-04-15T03:40:00\"],\"y\":[0.0,0.0,0.0,0.0,0.0,0.0,0.0,0.0,0.0223582215953176,0.0223582215953176,0.0223582215953176,0.0223582215953176,0.0223582215953176,0.0223582215953176,0.0223582215953176,0.0223582215953176,0.0223582215953176,0.0223582215953176,0.0223582215953176,0.0223582215953176,0.0223582215953176,0.0223582215953176,0.0223582215953176,0.0223582215953176,0.0223582215953176,0.0223582215953176,0.0223582215953176,0.0223582215953176,0.0223582215953176,0.0223582215953176,0.0223582215953176,0.0223582215953176,0.0223582215953176,0.0223582215953176,0.0223582215953176,0.0223582215953176,0.0223582215953176,0.0223582215953176,0.0223582215953176,0.0223582215953176,0.0223582215953176,0.0223582215953176,0.0223582215953176,0.0223582215953176,0.0223582215953176,0.0223582215953176,0.0223582215953176,0.0223582215953176,0.0223582215953176,0.0223582215953176,0.0223582215953176,0.0223582215953176,0.0223582215953176,0.0223582215953176,0.0223582215953176,0.0223582215953176,0.0223582215953176,0.0223582215953176,0.0223582215953176,0.0223582215953176,0.0223582215953176,0.0223582215953176,0.0223582215953176,0.0223582215953176,0.0223582215953176,0.0223582215953176,0.0223582215953176,0.0223582215953176,0.0223582215953176,0.0223582215953176,0.0223582215953176,0.0223582215953176,0.0223582215953176,0.0223582215953176,0.0223582215953176,0.0223582215953176,0.1408602146740176,0.1408602146740176,0.1408602146740176,0.1408602146740176,0.1408602146740176,0.1408602146740176,0.1408602146740176,0.1408602146740176,0.1408602146740176,0.1408602146740176,0.1408602146740176,0.1408602146740176,0.1408602146740176,0.1408602146740176,0.1408602146740176,0.1408602146740176,0.1408602146740176,0.1408602146740176,0.1408602146740176,0.1408602146740176,0.1408602146740176,0.1408602146740176,0.1408602146740176,0.1408602146740176,0.1408602146740176,0.1408602146740176,0.1408602146740176,0.1408602146740176,0.1408602146740176,0.1408602146740176,0.1408602146740176,0.1408602146740176,0.1408602146740176,0.1408602146740176,0.1408602146740176,0.1408602146740176,0.1408602146740176,0.1408602146740176,0.1408602146740176,0.1408602146740176,0.1408602146740176,0.1408602146740176,0.1408602146740176,0.1408602146740176,0.1408602146740176,0.1408602146740176,0.1408602146740176,0.1408602146740176,0.1408602146740176,0.1408602146740176,0.1408602146740176,0.1408602146740176,0.1408602146740176,0.1408602146740176,0.1408602146740176,0.1408602146740176,0.1408602146740176,0.1408602146740176,0.1408602146740176,0.1408602146740176,0.1408602146740176,0.1408602146740176,0.1408602146740176,0.1408602146740176,0.1408602146740176,0.1408602146740176,0.1408602146740176,0.1408602146740176,0.1408602146740176,0.1408602146740176,0.1408602146740176,0.1408602146740176,0.1408602146740176,0.1408602146740176,0.1408602146740176,0.1408602146740176,0.1408602146740176,0.1408602146740176,0.1408602146740176,0.3852706769333676,0.3852706769333676,0.3852706769333676,0.3852706769333676,0.3852706769333676,0.3852706769333676,0.3852706769333676,0.3852706769333676,0.3852706769333676,0.3852706769333676,0.3852706769333676,0.3852706769333676,0.3852706769333676,0.3852706769333676,0.3852706769333676,0.3852706769333676,0.3852706769333676,0.3852706769333676,0.3852706769333676,0.3852706769333676,0.3852706769333676,0.3852706769333676,0.3852706769333676,0.3852706769333676,0.3852706769333676,0.3852706769333676,0.3852706769333676,0.3852706769333676,0.3852706769333676,0.3852706769333676,0.3852706769333676,0.3852706769333676,0.3852706769333676,0.3852706769333676,0.3852706769333676,0.3852706769333676,0.3852706769333676,0.3852706769333676,0.3852706769333676,0.3852706769333676,0.3852706769333676,0.3852706769333676,0.3852706769333676,0.3852706769333676,0.3852706769333676,0.3852706769333676,0.3852706769333676,0.3852706769333676,0.3852706769333676,0.3852706769333676,0.3852706769333676,0.3852706769333676,0.3852706769333676,0.3852706769333676,0.3852706769333676,0.3852706769333676,0.3852706769333676,0.3852706769333676,0.3852706769333676,0.3852706769333676,0.3852706769333676,0.3852706769333676,0.3852706769333676,0.3852706769333676,0.3852706769333676,0.555617367031261,0.555617367031261,0.555617367031261,0.555617367031261,0.555617367031261,0.555617367031261,0.555617367031261,0.555617367031261,0.555617367031261,0.555617367031261,0.555617367031261,0.555617367031261,0.555617367031261,0.555617367031261,0.555617367031261,0.555617367031261,0.555617367031261,0.555617367031261,0.555617367031261,0.555617367031261,0.555617367031261,0.555617367031261,0.555617367031261,0.555617367031261,0.555617367031261,0.555617367031261,0.555617367031261,0.555617367031261,0.555617367031261,0.555617367031261,0.555617367031261,0.555617367031261,0.555617367031261,0.555617367031261,0.555617367031261,0.555617367031261,0.555617367031261,0.555617367031261,0.555617367031261,0.555617367031261,0.555617367031261,0.555617367031261,0.555617367031261,0.555617367031261,0.555617367031261,0.555617367031261,0.555617367031261,0.555617367031261,0.555617367031261,0.555617367031261,0.555617367031261,0.555617367031261,0.555617367031261,0.555617367031261,0.555617367031261,0.555617367031261,0.555617367031261,0.555617367031261,0.555617367031261,0.555617367031261,0.555617367031261,0.555617367031261,0.555617367031261,0.555617367031261,0.555617367031261,0.555617367031261,0.555617367031261,0.555617367031261,0.555617367031261,0.555617367031261,0.555617367031261,0.555617367031261,0.555617367031261,0.555617367031261,0.555617367031261,0.555617367031261,0.555617367031261,0.555617367031261,0.555617367031261,0.555617367031261,0.555617367031261,0.555617367031261,0.7185576693181012],\"type\":\"scatter\"},{\"hoverlabel\":{\"namelength\":-1},\"mode\":\"lines+markers\",\"name\":\"FV31_20170524\",\"x\":[\"2017-05-24T05:30:00\",\"2017-05-24T05:40:00\",\"2017-05-24T05:50:00\",\"2017-05-24T06:00:00\",\"2017-05-24T06:10:00\",\"2017-05-24T06:20:00\",\"2017-05-24T06:30:00\",\"2017-05-24T06:40:00\",\"2017-05-24T06:50:00\",\"2017-05-24T07:00:00\",\"2017-05-24T07:10:00\",\"2017-05-24T07:20:00\",\"2017-05-24T07:30:00\",\"2017-05-24T07:40:00\",\"2017-05-24T07:50:00\",\"2017-05-24T08:00:00\",\"2017-05-24T08:10:00\",\"2017-05-24T08:20:00\",\"2017-05-24T08:30:00\",\"2017-05-24T08:40:00\",\"2017-05-24T08:50:00\",\"2017-05-24T09:00:00\",\"2017-05-24T09:10:00\",\"2017-05-24T09:20:00\",\"2017-05-24T09:30:00\",\"2017-05-24T09:40:00\",\"2017-05-24T09:50:00\",\"2017-05-24T10:00:00\",\"2017-05-24T10:10:00\",\"2017-05-24T10:20:00\",\"2017-05-24T10:30:00\",\"2017-05-24T10:40:00\",\"2017-05-24T10:50:00\",\"2017-05-24T11:00:00\",\"2017-05-24T11:10:00\",\"2017-05-24T11:20:00\",\"2017-05-24T11:30:00\",\"2017-05-24T11:40:00\",\"2017-05-24T11:50:00\",\"2017-05-24T12:00:00\",\"2017-05-24T12:10:00\",\"2017-05-24T12:20:00\",\"2017-05-24T12:30:00\",\"2017-05-24T12:40:00\",\"2017-05-24T12:50:00\",\"2017-05-24T13:00:00\",\"2017-05-24T13:10:00\",\"2017-05-24T13:20:00\",\"2017-05-24T13:30:00\",\"2017-05-24T13:40:00\",\"2017-05-24T13:50:00\",\"2017-05-24T14:00:00\",\"2017-05-24T14:10:00\",\"2017-05-24T14:20:00\",\"2017-05-24T14:30:00\",\"2017-05-24T14:40:00\",\"2017-05-24T14:50:00\",\"2017-05-24T15:00:00\",\"2017-05-24T15:10:00\",\"2017-05-24T15:20:00\",\"2017-05-24T15:30:00\",\"2017-05-24T15:40:00\",\"2017-05-24T15:50:00\",\"2017-05-24T16:00:00\",\"2017-05-24T16:10:00\",\"2017-05-24T16:20:00\",\"2017-05-24T16:30:00\",\"2017-05-24T16:40:00\",\"2017-05-24T16:50:00\",\"2017-05-24T17:00:00\",\"2017-05-24T17:10:00\",\"2017-05-24T17:20:00\",\"2017-05-24T17:30:00\",\"2017-05-24T17:40:00\",\"2017-05-24T17:50:00\",\"2017-05-24T18:00:00\",\"2017-05-24T18:10:00\",\"2017-05-24T18:20:00\",\"2017-05-24T18:30:00\",\"2017-05-24T18:40:00\",\"2017-05-24T18:50:00\",\"2017-05-24T19:00:00\",\"2017-05-24T19:10:00\",\"2017-05-24T19:20:00\",\"2017-05-24T19:30:00\",\"2017-05-24T19:40:00\",\"2017-05-24T19:50:00\",\"2017-05-24T20:00:00\",\"2017-05-24T20:10:00\",\"2017-05-24T20:20:00\",\"2017-05-24T20:30:00\",\"2017-05-24T20:40:00\",\"2017-05-24T20:50:00\",\"2017-05-24T21:00:00\",\"2017-05-24T21:10:00\",\"2017-05-24T21:20:00\",\"2017-05-24T21:30:00\",\"2017-05-24T21:40:00\",\"2017-05-24T21:50:00\",\"2017-05-24T22:00:00\",\"2017-05-24T22:10:00\",\"2017-05-24T22:20:00\",\"2017-05-24T22:30:00\",\"2017-05-24T22:40:00\",\"2017-05-24T22:50:00\",\"2017-05-24T23:00:00\",\"2017-05-24T23:10:00\",\"2017-05-24T23:20:00\",\"2017-05-24T23:30:00\",\"2017-05-24T23:40:00\",\"2017-05-24T23:50:00\",\"2017-05-25T00:00:00\",\"2017-05-25T00:10:00\",\"2017-05-25T00:20:00\",\"2017-05-25T00:30:00\",\"2017-05-25T00:40:00\",\"2017-05-25T00:50:00\",\"2017-05-25T01:00:00\",\"2017-05-25T01:10:00\",\"2017-05-25T01:20:00\",\"2017-05-25T01:30:00\",\"2017-05-25T01:40:00\",\"2017-05-25T01:50:00\",\"2017-05-25T02:00:00\",\"2017-05-25T02:10:00\",\"2017-05-25T02:20:00\",\"2017-05-25T02:30:00\",\"2017-05-25T02:40:00\",\"2017-05-25T02:50:00\",\"2017-05-25T03:00:00\",\"2017-05-25T03:10:00\",\"2017-05-25T03:20:00\",\"2017-05-25T03:30:00\",\"2017-05-25T03:40:00\",\"2017-05-25T03:50:00\",\"2017-05-25T04:00:00\",\"2017-05-25T04:10:00\",\"2017-05-25T04:20:00\",\"2017-05-25T04:30:00\",\"2017-05-25T04:40:00\",\"2017-05-25T04:50:00\",\"2017-05-25T05:00:00\",\"2017-05-25T05:10:00\",\"2017-05-25T05:20:00\",\"2017-05-25T05:30:00\",\"2017-05-25T05:40:00\",\"2017-05-25T05:50:00\",\"2017-05-25T06:00:00\",\"2017-05-25T06:10:00\",\"2017-05-25T06:20:00\",\"2017-05-25T06:30:00\",\"2017-05-25T06:40:00\",\"2017-05-25T06:50:00\",\"2017-05-25T07:00:00\",\"2017-05-25T07:10:00\",\"2017-05-25T07:20:00\",\"2017-05-25T07:30:00\",\"2017-05-25T07:40:00\",\"2017-05-25T07:50:00\",\"2017-05-25T08:00:00\",\"2017-05-25T08:10:00\",\"2017-05-25T08:20:00\",\"2017-05-25T08:30:00\",\"2017-05-25T08:40:00\",\"2017-05-25T08:50:00\",\"2017-05-25T09:00:00\",\"2017-05-25T09:10:00\",\"2017-05-25T09:20:00\",\"2017-05-25T09:30:00\",\"2017-05-25T09:40:00\",\"2017-05-25T09:50:00\",\"2017-05-25T10:00:00\",\"2017-05-25T10:10:00\",\"2017-05-25T10:20:00\",\"2017-05-25T10:30:00\",\"2017-05-25T10:40:00\",\"2017-05-25T10:50:00\",\"2017-05-25T11:00:00\",\"2017-05-25T11:10:00\",\"2017-05-25T11:20:00\",\"2017-05-25T11:30:00\",\"2017-05-25T11:40:00\",\"2017-05-25T11:50:00\",\"2017-05-25T12:00:00\",\"2017-05-25T12:10:00\",\"2017-05-25T12:20:00\",\"2017-05-25T12:30:00\",\"2017-05-25T12:40:00\",\"2017-05-25T12:50:00\",\"2017-05-25T13:00:00\",\"2017-05-25T13:10:00\",\"2017-05-25T13:20:00\",\"2017-05-25T13:30:00\",\"2017-05-25T13:40:00\",\"2017-05-25T13:50:00\",\"2017-05-25T14:00:00\",\"2017-05-25T14:10:00\",\"2017-05-25T14:20:00\",\"2017-05-25T14:30:00\",\"2017-05-25T14:40:00\",\"2017-05-25T14:50:00\",\"2017-05-25T15:00:00\",\"2017-05-25T15:10:00\",\"2017-05-25T15:20:00\",\"2017-05-25T15:30:00\",\"2017-05-25T15:40:00\",\"2017-05-25T15:50:00\",\"2017-05-25T16:00:00\",\"2017-05-25T16:10:00\",\"2017-05-25T16:20:00\",\"2017-05-25T16:30:00\",\"2017-05-25T16:40:00\",\"2017-05-25T16:50:00\",\"2017-05-25T17:00:00\",\"2017-05-25T17:10:00\",\"2017-05-25T17:20:00\",\"2017-05-25T17:30:00\",\"2017-05-25T17:40:00\",\"2017-05-25T17:50:00\",\"2017-05-25T18:00:00\",\"2017-05-25T18:10:00\",\"2017-05-25T18:20:00\",\"2017-05-25T18:30:00\",\"2017-05-25T18:40:00\",\"2017-05-25T18:50:00\",\"2017-05-25T19:00:00\",\"2017-05-25T19:10:00\",\"2017-05-25T19:20:00\",\"2017-05-25T19:30:00\",\"2017-05-25T19:40:00\",\"2017-05-25T19:50:00\",\"2017-05-25T20:00:00\",\"2017-05-25T20:10:00\",\"2017-05-25T20:20:00\",\"2017-05-25T20:30:00\",\"2017-05-25T20:40:00\",\"2017-05-25T20:50:00\",\"2017-05-25T21:00:00\",\"2017-05-25T21:10:00\",\"2017-05-25T21:20:00\",\"2017-05-25T21:30:00\",\"2017-05-25T21:40:00\",\"2017-05-25T21:50:00\",\"2017-05-25T22:00:00\",\"2017-05-25T22:10:00\",\"2017-05-25T22:20:00\",\"2017-05-25T22:30:00\",\"2017-05-25T22:40:00\",\"2017-05-25T22:50:00\",\"2017-05-25T23:00:00\",\"2017-05-25T23:10:00\",\"2017-05-25T23:20:00\",\"2017-05-25T23:30:00\",\"2017-05-25T23:40:00\",\"2017-05-25T23:50:00\",\"2017-05-26T00:00:00\",\"2017-05-26T00:10:00\",\"2017-05-26T00:20:00\",\"2017-05-26T00:30:00\",\"2017-05-26T00:40:00\",\"2017-05-26T00:50:00\",\"2017-05-26T01:00:00\",\"2017-05-26T01:10:00\",\"2017-05-26T01:20:00\",\"2017-05-26T01:30:00\",\"2017-05-26T01:40:00\",\"2017-05-26T01:50:00\",\"2017-05-26T02:00:00\",\"2017-05-26T02:10:00\",\"2017-05-26T02:20:00\",\"2017-05-26T02:30:00\",\"2017-05-26T02:40:00\",\"2017-05-26T02:50:00\",\"2017-05-26T03:00:00\",\"2017-05-26T03:10:00\",\"2017-05-26T03:20:00\",\"2017-05-26T03:30:00\",\"2017-05-26T03:40:00\",\"2017-05-26T03:50:00\",\"2017-05-26T04:00:00\",\"2017-05-26T04:10:00\",\"2017-05-26T04:20:00\",\"2017-05-26T04:30:00\",\"2017-05-26T04:40:00\",\"2017-05-26T04:50:00\",\"2017-05-26T05:00:00\",\"2017-05-26T05:10:00\",\"2017-05-26T05:20:00\"],\"y\":[0.0,0.0,0.0,0.0,0.0,0.0,0.0,0.0,0.0,0.0,0.0,0.0,0.0,0.0,0.0,0.0,0.0,0.0,0.0,0.0,0.0,0.0,0.0,0.0,0.0,0.0,0.0,0.0,0.0,0.0,0.0,0.0,0.0,0.0,0.0,0.0,0.0,0.0,0.0,0.0,0.0,0.0,0.0,0.0,0.0,0.0,0.0,0.0,0.0,0.0,0.0,0.0,0.0,0.0,0.0,0.0,0.0,0.1261833201906278,0.1261833201906278,0.1261833201906278,0.1261833201906278,0.1261833201906278,0.1261833201906278,0.1261833201906278,0.1261833201906278,0.1261833201906278,0.1261833201906278,0.1261833201906278,0.1261833201906278,0.1261833201906278,0.1261833201906278,0.1261833201906278,0.1261833201906278,0.1261833201906278,0.1261833201906278,0.1261833201906278,0.1261833201906278,0.1261833201906278,0.1261833201906278,0.1261833201906278,0.1261833201906278,0.1261833201906278,0.1261833201906278,0.1261833201906278,0.1261833201906278,0.1261833201906278,0.1261833201906278,0.1261833201906278,0.1261833201906278,0.1261833201906278,0.1261833201906278,0.1261833201906278,0.1261833201906278,0.1261833201906278,0.1261833201906278,0.1261833201906278,0.1261833201906278,0.1261833201906278,0.1261833201906278,0.1261833201906278,0.1261833201906278,0.1261833201906278,0.1261833201906278,0.1261833201906278,0.1261833201906278,0.1261833201906278,0.1261833201906278,0.1261833201906278,0.1261833201906278,0.1261833201906278,0.1261833201906278,0.1261833201906278,0.1261833201906278,0.1261833201906278,0.1261833201906278,0.1261833201906278,0.1261833201906278,0.1261833201906278,0.1261833201906278,0.1261833201906278,0.1261833201906278,0.1261833201906278,0.1261833201906278,0.1261833201906278,0.1261833201906278,0.1261833201906278,0.1261833201906278,0.1261833201906278,0.1261833201906278,0.1261833201906278,0.1261833201906278,0.1261833201906278,0.1261833201906278,0.1261833201906278,0.1261833201906278,0.1261833201906278,0.1261833201906278,0.1261833201906278,0.1261833201906278,0.1261833201906278,0.1261833201906278,0.1261833201906278,0.3483400996020747,0.3483400996020747,0.3483400996020747,0.3483400996020747,0.3483400996020747,0.3483400996020747,0.3483400996020747,0.3483400996020747,0.3483400996020747,0.3483400996020747,0.3483400996020747,0.3483400996020747,0.3483400996020747,0.3483400996020747,0.3483400996020747,0.3483400996020747,0.3483400996020747,0.3483400996020747,0.3483400996020747,0.3483400996020747,0.3483400996020747,0.3483400996020747,0.3483400996020747,0.3483400996020747,0.3483400996020747,0.3483400996020747,0.3483400996020747,0.3483400996020747,0.3483400996020747,0.3483400996020747,0.3483400996020747,0.3483400996020747,0.3483400996020747,0.3483400996020747,0.3483400996020747,0.3483400996020747,0.3483400996020747,0.3483400996020747,0.3483400996020747,0.3483400996020747,0.3483400996020747,0.3483400996020747,0.3483400996020747,0.3483400996020747,0.3483400996020747,0.3483400996020747,0.3483400996020747,0.3483400996020747,0.3483400996020747,0.3483400996020747,0.3483400996020747,0.3483400996020747,0.3483400996020747,0.5186603112751984,0.5186603112751984,0.5186603112751984,0.5186603112751984,0.5186603112751984,0.5186603112751984,0.5186603112751984,0.5186603112751984,0.5186603112751984,0.5186603112751984,0.5186603112751984,0.5186603112751984,0.5186603112751984,0.5186603112751984,0.5186603112751984,0.5186603112751984,0.5186603112751984,0.5186603112751984,0.5186603112751984,0.5186603112751984,0.5186603112751984,0.5186603112751984,0.5186603112751984,0.5186603112751984,0.5186603112751984,0.5186603112751984,0.5186603112751984,0.5186603112751984,0.5186603112751984,0.5186603112751984,0.5186603112751984,0.5186603112751984,0.5186603112751984,0.5186603112751984,0.5186603112751984,0.5186603112751984,0.5186603112751984,0.5186603112751984,0.5186603112751984,0.5186603112751984,0.5186603112751984,0.5186603112751984,0.5186603112751984,0.5186603112751984,0.5186603112751984,0.5186603112751984,0.5186603112751984,0.5186603112751984,0.5186603112751984,0.5186603112751984,0.5186603112751984,0.5186603112751984,0.5186603112751984,0.5186603112751984,0.5186603112751984,0.5186603112751984,0.5186603112751984,0.5186603112751984,0.5186603112751984,0.5186603112751984,0.5186603112751984,0.5186603112751984,0.5186603112751984,0.5186603112751984,0.5186603112751984,0.5186603112751984,0.5186603112751984,0.5186603112751984,0.5186603112751984,0.5186603112751984,0.5186603112751984,0.5186603112751984,0.5186603112751984,0.5186603112751984,0.5186603112751984,0.5186603112751984,0.5186603112751984,0.5186603112751984,0.5186603112751984,0.5186603112751984,0.5186603112751984,0.5186603112751984,0.5186603112751984,0.5186603112751984,0.5186603112751984,0.5186603112751984,0.5186603112751984,0.5186603112751984,0.5186603112751984,0.5186603112751984,0.5186603112751984,0.5186603112751984,0.7111961797029452],\"type\":\"scatter\"},{\"hoverlabel\":{\"namelength\":-1},\"mode\":\"lines+markers\",\"name\":\"FV31_20170831\",\"x\":[\"2017-08-31T01:40:00\",\"2017-08-31T01:50:00\",\"2017-08-31T02:00:00\",\"2017-08-31T02:10:00\",\"2017-08-31T02:20:00\",\"2017-08-31T02:30:00\",\"2017-08-31T02:40:00\",\"2017-08-31T02:50:00\",\"2017-08-31T03:00:00\",\"2017-08-31T03:10:00\",\"2017-08-31T03:20:00\",\"2017-08-31T03:30:00\",\"2017-08-31T03:40:00\",\"2017-08-31T03:50:00\",\"2017-08-31T04:00:00\",\"2017-08-31T04:10:00\",\"2017-08-31T04:20:00\",\"2017-08-31T04:30:00\",\"2017-08-31T04:40:00\",\"2017-08-31T04:50:00\",\"2017-08-31T05:00:00\",\"2017-08-31T05:10:00\",\"2017-08-31T05:20:00\",\"2017-08-31T05:30:00\",\"2017-08-31T05:40:00\",\"2017-08-31T05:50:00\",\"2017-08-31T06:00:00\",\"2017-08-31T06:10:00\",\"2017-08-31T06:20:00\",\"2017-08-31T06:30:00\",\"2017-08-31T06:40:00\",\"2017-08-31T06:50:00\",\"2017-08-31T07:00:00\",\"2017-08-31T07:10:00\",\"2017-08-31T07:20:00\",\"2017-08-31T07:30:00\",\"2017-08-31T07:40:00\",\"2017-08-31T07:50:00\",\"2017-08-31T08:00:00\",\"2017-08-31T08:10:00\",\"2017-08-31T08:20:00\",\"2017-08-31T08:30:00\",\"2017-08-31T08:40:00\",\"2017-08-31T08:50:00\",\"2017-08-31T09:00:00\",\"2017-08-31T09:10:00\",\"2017-08-31T09:20:00\",\"2017-08-31T09:30:00\",\"2017-08-31T09:40:00\",\"2017-08-31T09:50:00\",\"2017-08-31T10:00:00\",\"2017-08-31T10:10:00\",\"2017-08-31T10:20:00\",\"2017-08-31T10:30:00\",\"2017-08-31T10:40:00\",\"2017-08-31T10:50:00\",\"2017-08-31T11:00:00\",\"2017-08-31T11:10:00\",\"2017-08-31T11:20:00\",\"2017-08-31T11:30:00\",\"2017-08-31T11:40:00\",\"2017-08-31T11:50:00\",\"2017-08-31T12:00:00\",\"2017-08-31T12:10:00\",\"2017-08-31T12:20:00\",\"2017-08-31T12:30:00\",\"2017-08-31T12:40:00\",\"2017-08-31T12:50:00\",\"2017-08-31T13:00:00\",\"2017-08-31T13:10:00\",\"2017-08-31T13:20:00\",\"2017-08-31T13:30:00\",\"2017-08-31T13:40:00\",\"2017-08-31T13:50:00\",\"2017-08-31T14:00:00\",\"2017-08-31T14:10:00\",\"2017-08-31T14:20:00\",\"2017-08-31T14:30:00\",\"2017-08-31T14:40:00\",\"2017-08-31T14:50:00\",\"2017-08-31T15:00:00\",\"2017-08-31T15:10:00\",\"2017-08-31T15:20:00\",\"2017-08-31T15:30:00\",\"2017-08-31T15:40:00\",\"2017-08-31T15:50:00\",\"2017-08-31T16:00:00\",\"2017-08-31T16:10:00\",\"2017-08-31T16:20:00\",\"2017-08-31T16:30:00\",\"2017-08-31T16:40:00\",\"2017-08-31T16:50:00\",\"2017-08-31T17:00:00\",\"2017-08-31T17:10:00\",\"2017-08-31T17:20:00\",\"2017-08-31T17:30:00\",\"2017-08-31T17:40:00\",\"2017-08-31T17:50:00\",\"2017-08-31T18:00:00\",\"2017-08-31T18:10:00\",\"2017-08-31T18:20:00\",\"2017-08-31T18:30:00\",\"2017-08-31T18:40:00\",\"2017-08-31T18:50:00\",\"2017-08-31T19:00:00\",\"2017-08-31T19:10:00\",\"2017-08-31T19:20:00\",\"2017-08-31T19:30:00\",\"2017-08-31T19:40:00\",\"2017-08-31T19:50:00\",\"2017-08-31T20:00:00\",\"2017-08-31T20:10:00\",\"2017-08-31T20:20:00\",\"2017-08-31T20:30:00\",\"2017-08-31T20:40:00\",\"2017-08-31T20:50:00\",\"2017-08-31T21:00:00\",\"2017-08-31T21:10:00\",\"2017-08-31T21:20:00\",\"2017-08-31T21:30:00\",\"2017-08-31T21:40:00\",\"2017-08-31T21:50:00\",\"2017-08-31T22:00:00\",\"2017-08-31T22:10:00\",\"2017-08-31T22:20:00\",\"2017-08-31T22:30:00\",\"2017-08-31T22:40:00\",\"2017-08-31T22:50:00\",\"2017-08-31T23:00:00\",\"2017-08-31T23:10:00\",\"2017-08-31T23:20:00\",\"2017-08-31T23:30:00\",\"2017-08-31T23:40:00\",\"2017-08-31T23:50:00\",\"2017-09-01T00:00:00\",\"2017-09-01T00:10:00\",\"2017-09-01T00:20:00\",\"2017-09-01T00:30:00\",\"2017-09-01T00:40:00\",\"2017-09-01T00:50:00\",\"2017-09-01T01:00:00\",\"2017-09-01T01:10:00\",\"2017-09-01T01:20:00\",\"2017-09-01T01:30:00\",\"2017-09-01T01:40:00\",\"2017-09-01T01:50:00\",\"2017-09-01T02:00:00\",\"2017-09-01T02:10:00\",\"2017-09-01T02:20:00\",\"2017-09-01T02:30:00\",\"2017-09-01T02:40:00\",\"2017-09-01T02:50:00\",\"2017-09-01T03:00:00\",\"2017-09-01T03:10:00\",\"2017-09-01T03:20:00\",\"2017-09-01T03:30:00\",\"2017-09-01T03:40:00\",\"2017-09-01T03:50:00\",\"2017-09-01T04:00:00\",\"2017-09-01T04:10:00\",\"2017-09-01T04:20:00\",\"2017-09-01T04:30:00\",\"2017-09-01T04:40:00\",\"2017-09-01T04:50:00\",\"2017-09-01T05:00:00\",\"2017-09-01T05:10:00\",\"2017-09-01T05:20:00\",\"2017-09-01T05:30:00\",\"2017-09-01T05:40:00\",\"2017-09-01T05:50:00\",\"2017-09-01T06:00:00\",\"2017-09-01T06:10:00\",\"2017-09-01T06:20:00\",\"2017-09-01T06:30:00\",\"2017-09-01T06:40:00\",\"2017-09-01T06:50:00\",\"2017-09-01T07:00:00\",\"2017-09-01T07:10:00\",\"2017-09-01T07:20:00\",\"2017-09-01T07:30:00\",\"2017-09-01T07:40:00\",\"2017-09-01T07:50:00\",\"2017-09-01T08:00:00\",\"2017-09-01T08:10:00\",\"2017-09-01T08:20:00\",\"2017-09-01T08:30:00\",\"2017-09-01T08:40:00\",\"2017-09-01T08:50:00\",\"2017-09-01T09:00:00\",\"2017-09-01T09:10:00\",\"2017-09-01T09:20:00\",\"2017-09-01T09:30:00\",\"2017-09-01T09:40:00\",\"2017-09-01T09:50:00\",\"2017-09-01T10:00:00\",\"2017-09-01T10:10:00\",\"2017-09-01T10:20:00\",\"2017-09-01T10:30:00\",\"2017-09-01T10:40:00\",\"2017-09-01T10:50:00\",\"2017-09-01T11:00:00\",\"2017-09-01T11:10:00\",\"2017-09-01T11:20:00\",\"2017-09-01T11:30:00\",\"2017-09-01T11:40:00\",\"2017-09-01T11:50:00\",\"2017-09-01T12:00:00\",\"2017-09-01T12:10:00\",\"2017-09-01T12:20:00\",\"2017-09-01T12:30:00\",\"2017-09-01T12:40:00\",\"2017-09-01T12:50:00\",\"2017-09-01T13:00:00\",\"2017-09-01T13:10:00\",\"2017-09-01T13:20:00\",\"2017-09-01T13:30:00\",\"2017-09-01T13:40:00\",\"2017-09-01T13:50:00\",\"2017-09-01T14:00:00\",\"2017-09-01T14:10:00\",\"2017-09-01T14:20:00\",\"2017-09-01T14:30:00\",\"2017-09-01T14:40:00\",\"2017-09-01T14:50:00\",\"2017-09-01T15:00:00\",\"2017-09-01T15:10:00\",\"2017-09-01T15:20:00\",\"2017-09-01T15:30:00\",\"2017-09-01T15:40:00\",\"2017-09-01T15:50:00\",\"2017-09-01T16:00:00\",\"2017-09-01T16:10:00\",\"2017-09-01T16:20:00\",\"2017-09-01T16:30:00\",\"2017-09-01T16:40:00\",\"2017-09-01T16:50:00\",\"2017-09-01T17:00:00\",\"2017-09-01T17:10:00\",\"2017-09-01T17:20:00\",\"2017-09-01T17:30:00\",\"2017-09-01T17:40:00\",\"2017-09-01T17:50:00\",\"2017-09-01T18:00:00\",\"2017-09-01T18:10:00\",\"2017-09-01T18:20:00\",\"2017-09-01T18:30:00\",\"2017-09-01T18:40:00\",\"2017-09-01T18:50:00\",\"2017-09-01T19:00:00\",\"2017-09-01T19:10:00\",\"2017-09-01T19:20:00\",\"2017-09-01T19:30:00\",\"2017-09-01T19:40:00\",\"2017-09-01T19:50:00\",\"2017-09-01T20:00:00\",\"2017-09-01T20:10:00\",\"2017-09-01T20:20:00\",\"2017-09-01T20:30:00\",\"2017-09-01T20:40:00\",\"2017-09-01T20:50:00\",\"2017-09-01T21:00:00\",\"2017-09-01T21:10:00\",\"2017-09-01T21:20:00\",\"2017-09-01T21:30:00\"],\"y\":[0.0,0.0,0.0,0.0,0.0,0.0,0.0,0.0,0.0,0.0,0.0,0.0,0.0,0.0,0.0,0.0,0.0,0.0459978844510821,0.0459978844510821,0.0459978844510821,0.0459978844510821,0.0459978844510821,0.0459978844510821,0.0459978844510821,0.0459978844510821,0.0459978844510821,0.0459978844510821,0.0459978844510821,0.0459978844510821,0.0459978844510821,0.0459978844510821,0.0459978844510821,0.0459978844510821,0.0459978844510821,0.0459978844510821,0.0459978844510821,0.0459978844510821,0.0459978844510821,0.0459978844510821,0.0459978844510821,0.0459978844510821,0.0459978844510821,0.0459978844510821,0.0459978844510821,0.0459978844510821,0.0459978844510821,0.0459978844510821,0.0459978844510821,0.0459978844510821,0.0459978844510821,0.0459978844510821,0.0459978844510821,0.0459978844510821,0.0459978844510821,0.0459978844510821,0.0459978844510821,0.0459978844510821,0.0459978844510821,0.0459978844510821,0.0459978844510821,0.0459978844510821,0.0459978844510821,0.0459978844510821,0.0459978844510821,0.0459978844510821,0.0459978844510821,0.0459978844510821,0.0459978844510821,0.0459978844510821,0.0459978844510821,0.0459978844510821,0.0459978844510821,0.0459978844510821,0.0459978844510821,0.0459978844510821,0.1421375789504716,0.1421375789504716,0.1421375789504716,0.1421375789504716,0.1421375789504716,0.1421375789504716,0.1421375789504716,0.1421375789504716,0.1421375789504716,0.1421375789504716,0.1421375789504716,0.1421375789504716,0.1421375789504716,0.1421375789504716,0.1421375789504716,0.1421375789504716,0.1421375789504716,0.1421375789504716,0.1421375789504716,0.1421375789504716,0.1421375789504716,0.1421375789504716,0.1421375789504716,0.1421375789504716,0.1421375789504716,0.1421375789504716,0.1421375789504716,0.1421375789504716,0.1421375789504716,0.1421375789504716,0.1421375789504716,0.1421375789504716,0.1421375789504716,0.1421375789504716,0.1421375789504716,0.1421375789504716,0.1421375789504716,0.1421375789504716,0.1421375789504716,0.1421375789504716,0.1421375789504716,0.1421375789504716,0.1421375789504716,0.1421375789504716,0.1421375789504716,0.1421375789504716,0.1421375789504716,0.1421375789504716,0.1421375789504716,0.1421375789504716,0.1421375789504716,0.1421375789504716,0.1421375789504716,0.1421375789504716,0.1421375789504716,0.1421375789504716,0.1421375789504716,0.1421375789504716,0.1421375789504716,0.1421375789504716,0.1421375789504716,0.1421375789504716,0.1421375789504716,0.1421375789504716,0.1421375789504716,0.1421375789504716,0.1421375789504716,0.1421375789504716,0.1421375789504716,0.1421375789504716,0.1421375789504716,0.1421375789504716,0.1421375789504716,0.1421375789504716,0.1421375789504716,0.1421375789504716,0.1421375789504716,0.1421375789504716,0.1421375789504716,0.1421375789504716,0.1421375789504716,0.1421375789504716,0.1421375789504716,0.1421375789504716,0.1421375789504716,0.1421375789504716,0.4231614803651586,0.4231614803651586,0.4231614803651586,0.4231614803651586,0.4231614803651586,0.4231614803651586,0.4231614803651586,0.4231614803651586,0.4231614803651586,0.4231614803651586,0.4231614803651586,0.4231614803651586,0.4231614803651586,0.4231614803651586,0.4231614803651586,0.4231614803651586,0.4231614803651586,0.4231614803651586,0.4231614803651586,0.4231614803651586,0.4231614803651586,0.4231614803651586,0.4231614803651586,0.4231614803651586,0.4231614803651586,0.4231614803651586,0.4231614803651586,0.4231614803651586,0.4231614803651586,0.4231614803651586,0.4231614803651586,0.4231614803651586,0.4231614803651586,0.4231614803651586,0.4231614803651586,0.4231614803651586,0.4231614803651586,0.4231614803651586,0.4231614803651586,0.4231614803651586,0.4231614803651586,0.4231614803651586,0.4231614803651586,0.4231614803651586,0.4231614803651586,0.4231614803651586,0.4231614803651586,0.4231614803651586,0.4231614803651586,0.4231614803651586,0.4231614803651586,0.4231614803651586,0.4231614803651586,0.4231614803651586,0.4231614803651586,0.4231614803651586,0.4231614803651586,0.4231614803651586,0.4231614803651586,0.4231614803651586,0.4231614803651586,0.4231614803651586,0.4231614803651586,0.4231614803651586,0.4231614803651586,0.4231614803651586,0.4231614803651586,0.4231614803651586,0.4231614803651586,0.4231614803651586,0.4231614803651586,0.4231614803651586,0.4231614803651586,0.4231614803651586,0.4231614803651586,0.4231614803651586,0.5932548999472876,0.5932548999472876,0.5932548999472876,0.5932548999472876,0.5932548999472876,0.5932548999472876,0.5932548999472876,0.5932548999472876,0.5932548999472876,0.5932548999472876,0.5932548999472876,0.5932548999472876,0.5932548999472876,0.5932548999472876,0.5932548999472876,0.5932548999472876,0.5932548999472876,0.5932548999472876,0.5932548999472876,0.5932548999472876,0.5932548999472876,0.5932548999472876,0.5932548999472876,0.5932548999472876,0.5932548999472876,0.5932548999472876,0.5932548999472876],\"type\":\"scatter\"},{\"hoverlabel\":{\"namelength\":-1},\"mode\":\"lines+markers\",\"name\":\"FV32_20170118\",\"x\":[\"2017-01-18T06:00:00\",\"2017-01-18T06:10:00\",\"2017-01-18T06:20:00\",\"2017-01-18T06:30:00\",\"2017-01-18T06:40:00\",\"2017-01-18T06:50:00\",\"2017-01-18T07:00:00\",\"2017-01-18T07:10:00\",\"2017-01-18T07:20:00\",\"2017-01-18T07:30:00\",\"2017-01-18T07:40:00\",\"2017-01-18T07:50:00\",\"2017-01-18T08:00:00\",\"2017-01-18T08:10:00\",\"2017-01-18T08:20:00\",\"2017-01-18T08:30:00\",\"2017-01-18T08:40:00\",\"2017-01-18T08:50:00\",\"2017-01-18T09:00:00\",\"2017-01-18T09:10:00\",\"2017-01-18T09:20:00\",\"2017-01-18T09:30:00\",\"2017-01-18T09:40:00\",\"2017-01-18T09:50:00\",\"2017-01-18T10:00:00\",\"2017-01-18T10:10:00\",\"2017-01-18T10:20:00\",\"2017-01-18T10:30:00\",\"2017-01-18T10:40:00\",\"2017-01-18T10:50:00\",\"2017-01-18T11:00:00\",\"2017-01-18T11:10:00\",\"2017-01-18T11:20:00\",\"2017-01-18T11:30:00\",\"2017-01-18T11:40:00\",\"2017-01-18T11:50:00\",\"2017-01-18T12:00:00\",\"2017-01-18T12:10:00\",\"2017-01-18T12:20:00\",\"2017-01-18T12:30:00\",\"2017-01-18T12:40:00\",\"2017-01-18T12:50:00\",\"2017-01-18T13:00:00\",\"2017-01-18T13:10:00\",\"2017-01-18T13:20:00\",\"2017-01-18T13:30:00\",\"2017-01-18T13:40:00\",\"2017-01-18T13:50:00\",\"2017-01-18T14:00:00\",\"2017-01-18T14:10:00\",\"2017-01-18T14:20:00\",\"2017-01-18T14:30:00\",\"2017-01-18T14:40:00\",\"2017-01-18T14:50:00\",\"2017-01-18T15:00:00\",\"2017-01-18T15:10:00\",\"2017-01-18T15:20:00\",\"2017-01-18T15:30:00\",\"2017-01-18T15:40:00\",\"2017-01-18T15:50:00\",\"2017-01-18T16:00:00\",\"2017-01-18T16:10:00\",\"2017-01-18T16:20:00\",\"2017-01-18T16:30:00\",\"2017-01-18T16:40:00\",\"2017-01-18T16:50:00\",\"2017-01-18T17:00:00\",\"2017-01-18T17:10:00\",\"2017-01-18T17:20:00\",\"2017-01-18T17:30:00\",\"2017-01-18T17:40:00\",\"2017-01-18T17:50:00\",\"2017-01-18T18:00:00\",\"2017-01-18T18:10:00\",\"2017-01-18T18:20:00\",\"2017-01-18T18:30:00\",\"2017-01-18T18:40:00\",\"2017-01-18T18:50:00\",\"2017-01-18T19:00:00\",\"2017-01-18T19:10:00\",\"2017-01-18T19:20:00\",\"2017-01-18T19:30:00\",\"2017-01-18T19:40:00\",\"2017-01-18T19:50:00\",\"2017-01-18T20:00:00\",\"2017-01-18T20:10:00\",\"2017-01-18T20:20:00\",\"2017-01-18T20:30:00\",\"2017-01-18T20:40:00\",\"2017-01-18T20:50:00\",\"2017-01-18T21:00:00\",\"2017-01-18T21:10:00\",\"2017-01-18T21:20:00\",\"2017-01-18T21:30:00\",\"2017-01-18T21:40:00\",\"2017-01-18T21:50:00\",\"2017-01-18T22:00:00\",\"2017-01-18T22:10:00\",\"2017-01-18T22:20:00\",\"2017-01-18T22:30:00\",\"2017-01-18T22:40:00\",\"2017-01-18T22:50:00\",\"2017-01-18T23:00:00\",\"2017-01-18T23:10:00\",\"2017-01-18T23:20:00\",\"2017-01-18T23:30:00\",\"2017-01-18T23:40:00\",\"2017-01-18T23:50:00\",\"2017-01-19T00:00:00\",\"2017-01-19T00:10:00\",\"2017-01-19T00:20:00\",\"2017-01-19T00:30:00\",\"2017-01-19T00:40:00\",\"2017-01-19T00:50:00\",\"2017-01-19T01:00:00\",\"2017-01-19T01:10:00\",\"2017-01-19T01:20:00\",\"2017-01-19T01:30:00\",\"2017-01-19T01:40:00\",\"2017-01-19T01:50:00\",\"2017-01-19T02:00:00\",\"2017-01-19T02:10:00\",\"2017-01-19T02:20:00\",\"2017-01-19T02:30:00\",\"2017-01-19T02:40:00\",\"2017-01-19T02:50:00\",\"2017-01-19T03:00:00\",\"2017-01-19T03:10:00\",\"2017-01-19T03:20:00\",\"2017-01-19T03:30:00\",\"2017-01-19T03:40:00\",\"2017-01-19T03:50:00\",\"2017-01-19T04:00:00\",\"2017-01-19T04:10:00\",\"2017-01-19T04:20:00\",\"2017-01-19T04:30:00\",\"2017-01-19T04:40:00\",\"2017-01-19T04:50:00\",\"2017-01-19T05:00:00\",\"2017-01-19T05:10:00\",\"2017-01-19T05:20:00\",\"2017-01-19T05:30:00\",\"2017-01-19T05:40:00\",\"2017-01-19T05:50:00\",\"2017-01-19T06:00:00\",\"2017-01-19T06:10:00\",\"2017-01-19T06:20:00\",\"2017-01-19T06:30:00\",\"2017-01-19T06:40:00\",\"2017-01-19T06:50:00\",\"2017-01-19T07:00:00\",\"2017-01-19T07:10:00\",\"2017-01-19T07:20:00\",\"2017-01-19T07:30:00\",\"2017-01-19T07:40:00\",\"2017-01-19T07:50:00\",\"2017-01-19T08:00:00\",\"2017-01-19T08:10:00\",\"2017-01-19T08:20:00\",\"2017-01-19T08:30:00\",\"2017-01-19T08:40:00\",\"2017-01-19T08:50:00\",\"2017-01-19T09:00:00\",\"2017-01-19T09:10:00\",\"2017-01-19T09:20:00\",\"2017-01-19T09:30:00\",\"2017-01-19T09:40:00\",\"2017-01-19T09:50:00\",\"2017-01-19T10:00:00\",\"2017-01-19T10:10:00\",\"2017-01-19T10:20:00\",\"2017-01-19T10:30:00\",\"2017-01-19T10:40:00\",\"2017-01-19T10:50:00\",\"2017-01-19T11:00:00\",\"2017-01-19T11:10:00\",\"2017-01-19T11:20:00\",\"2017-01-19T11:30:00\",\"2017-01-19T11:40:00\",\"2017-01-19T11:50:00\",\"2017-01-19T12:00:00\",\"2017-01-19T12:10:00\",\"2017-01-19T12:20:00\",\"2017-01-19T12:30:00\",\"2017-01-19T12:40:00\",\"2017-01-19T12:50:00\",\"2017-01-19T13:00:00\",\"2017-01-19T13:10:00\",\"2017-01-19T13:20:00\",\"2017-01-19T13:30:00\",\"2017-01-19T13:40:00\",\"2017-01-19T13:50:00\",\"2017-01-19T14:00:00\",\"2017-01-19T14:10:00\",\"2017-01-19T14:20:00\",\"2017-01-19T14:30:00\",\"2017-01-19T14:40:00\",\"2017-01-19T14:50:00\",\"2017-01-19T15:00:00\",\"2017-01-19T15:10:00\",\"2017-01-19T15:20:00\",\"2017-01-19T15:30:00\",\"2017-01-19T15:40:00\",\"2017-01-19T15:50:00\",\"2017-01-19T16:00:00\",\"2017-01-19T16:10:00\",\"2017-01-19T16:20:00\",\"2017-01-19T16:30:00\",\"2017-01-19T16:40:00\",\"2017-01-19T16:50:00\",\"2017-01-19T17:00:00\",\"2017-01-19T17:10:00\",\"2017-01-19T17:20:00\",\"2017-01-19T17:30:00\",\"2017-01-19T17:40:00\",\"2017-01-19T17:50:00\",\"2017-01-19T18:00:00\",\"2017-01-19T18:10:00\",\"2017-01-19T18:20:00\",\"2017-01-19T18:30:00\",\"2017-01-19T18:40:00\",\"2017-01-19T18:50:00\",\"2017-01-19T19:00:00\",\"2017-01-19T19:10:00\",\"2017-01-19T19:20:00\",\"2017-01-19T19:30:00\",\"2017-01-19T19:40:00\",\"2017-01-19T19:50:00\",\"2017-01-19T20:00:00\",\"2017-01-19T20:10:00\",\"2017-01-19T20:20:00\",\"2017-01-19T20:30:00\",\"2017-01-19T20:40:00\",\"2017-01-19T20:50:00\",\"2017-01-19T21:00:00\",\"2017-01-19T21:10:00\",\"2017-01-19T21:20:00\",\"2017-01-19T21:30:00\",\"2017-01-19T21:40:00\",\"2017-01-19T21:50:00\",\"2017-01-19T22:00:00\",\"2017-01-19T22:10:00\",\"2017-01-19T22:20:00\",\"2017-01-19T22:30:00\",\"2017-01-19T22:40:00\",\"2017-01-19T22:50:00\",\"2017-01-19T23:00:00\",\"2017-01-19T23:10:00\",\"2017-01-19T23:20:00\",\"2017-01-19T23:30:00\",\"2017-01-19T23:40:00\",\"2017-01-19T23:50:00\",\"2017-01-20T00:00:00\",\"2017-01-20T00:10:00\",\"2017-01-20T00:20:00\",\"2017-01-20T00:30:00\",\"2017-01-20T00:40:00\",\"2017-01-20T00:50:00\",\"2017-01-20T01:00:00\",\"2017-01-20T01:10:00\",\"2017-01-20T01:20:00\",\"2017-01-20T01:30:00\",\"2017-01-20T01:40:00\",\"2017-01-20T01:50:00\",\"2017-01-20T02:00:00\",\"2017-01-20T02:10:00\",\"2017-01-20T02:20:00\",\"2017-01-20T02:30:00\",\"2017-01-20T02:40:00\",\"2017-01-20T02:50:00\",\"2017-01-20T03:00:00\",\"2017-01-20T03:10:00\",\"2017-01-20T03:20:00\",\"2017-01-20T03:30:00\",\"2017-01-20T03:40:00\",\"2017-01-20T03:50:00\",\"2017-01-20T04:00:00\",\"2017-01-20T04:10:00\",\"2017-01-20T04:20:00\",\"2017-01-20T04:30:00\",\"2017-01-20T04:40:00\",\"2017-01-20T04:50:00\",\"2017-01-20T05:00:00\",\"2017-01-20T05:10:00\",\"2017-01-20T05:20:00\",\"2017-01-20T05:30:00\",\"2017-01-20T05:40:00\",\"2017-01-20T05:50:00\",\"2017-01-20T06:00:00\",\"2017-01-20T06:10:00\",\"2017-01-20T06:20:00\",\"2017-01-20T06:30:00\",\"2017-01-20T06:40:00\",\"2017-01-20T06:50:00\",\"2017-01-20T07:00:00\",\"2017-01-20T07:10:00\",\"2017-01-20T07:20:00\",\"2017-01-20T07:30:00\",\"2017-01-20T07:40:00\",\"2017-01-20T07:50:00\",\"2017-01-20T08:00:00\",\"2017-01-20T08:10:00\",\"2017-01-20T08:20:00\",\"2017-01-20T08:30:00\",\"2017-01-20T08:40:00\",\"2017-01-20T08:50:00\",\"2017-01-20T09:00:00\",\"2017-01-20T09:10:00\",\"2017-01-20T09:20:00\",\"2017-01-20T09:30:00\",\"2017-01-20T09:40:00\",\"2017-01-20T09:50:00\",\"2017-01-20T10:00:00\",\"2017-01-20T10:10:00\",\"2017-01-20T10:20:00\",\"2017-01-20T10:30:00\",\"2017-01-20T10:40:00\",\"2017-01-20T10:50:00\",\"2017-01-20T11:00:00\",\"2017-01-20T11:10:00\",\"2017-01-20T11:20:00\",\"2017-01-20T11:30:00\",\"2017-01-20T11:40:00\",\"2017-01-20T11:50:00\",\"2017-01-20T12:00:00\",\"2017-01-20T12:10:00\",\"2017-01-20T12:20:00\",\"2017-01-20T12:30:00\",\"2017-01-20T12:40:00\",\"2017-01-20T12:50:00\",\"2017-01-20T13:00:00\",\"2017-01-20T13:10:00\",\"2017-01-20T13:20:00\",\"2017-01-20T13:30:00\",\"2017-01-20T13:40:00\",\"2017-01-20T13:50:00\",\"2017-01-20T14:00:00\",\"2017-01-20T14:10:00\",\"2017-01-20T14:20:00\",\"2017-01-20T14:30:00\",\"2017-01-20T14:40:00\",\"2017-01-20T14:50:00\",\"2017-01-20T15:00:00\",\"2017-01-20T15:10:00\",\"2017-01-20T15:20:00\",\"2017-01-20T15:30:00\"],\"y\":[0.0,0.0,0.0,0.0,0.0,0.0,0.0,0.0,0.0,0.0,0.0,0.0,0.0,0.0,0.0,0.0,0.0,0.0,0.0,0.0,0.0,0.0,0.0,0.0,0.0,0.0,0.0,0.0,0.0,0.0,0.0,0.0,0.0,0.0,0.0,0.0,0.0,0.0,0.0,0.0,0.0,0.0,0.0,0.0,0.0,0.0,0.0,0.0,0.0,0.0,0.0,0.0,0.0,0.0,0.0,0.0,0.0,0.0,0.0,0.0,0.0,0.0,0.1041079597722495,0.1041079597722495,0.1041079597722495,0.1041079597722495,0.1041079597722495,0.1041079597722495,0.1041079597722495,0.1041079597722495,0.1041079597722495,0.1041079597722495,0.1041079597722495,0.1041079597722495,0.1041079597722495,0.1041079597722495,0.1041079597722495,0.1041079597722495,0.1041079597722495,0.1041079597722495,0.1041079597722495,0.1041079597722495,0.1041079597722495,0.1041079597722495,0.1041079597722495,0.1041079597722495,0.1041079597722495,0.1041079597722495,0.1041079597722495,0.1041079597722495,0.1041079597722495,0.1041079597722495,0.1041079597722495,0.1041079597722495,0.1041079597722495,0.1041079597722495,0.1041079597722495,0.1041079597722495,0.1041079597722495,0.1041079597722495,0.1041079597722495,0.1041079597722495,0.1041079597722495,0.1041079597722495,0.1041079597722495,0.1041079597722495,0.1041079597722495,0.1041079597722495,0.1041079597722495,0.1041079597722495,0.1041079597722495,0.1041079597722495,0.1041079597722495,0.1041079597722495,0.1041079597722495,0.1041079597722495,0.1041079597722495,0.1041079597722495,0.1041079597722495,0.1041079597722495,0.1041079597722495,0.1041079597722495,0.1041079597722495,0.1041079597722495,0.1041079597722495,0.1041079597722495,0.1041079597722495,0.1041079597722495,0.1041079597722495,0.1041079597722495,0.1041079597722495,0.1041079597722495,0.1041079597722495,0.1041079597722495,0.1041079597722495,0.1041079597722495,0.1041079597722495,0.1041079597722495,0.1041079597722495,0.1041079597722495,0.1041079597722495,0.1041079597722495,0.1041079597722495,0.2966137095997476,0.2966137095997476,0.2966137095997476,0.2966137095997476,0.2966137095997476,0.2966137095997476,0.2966137095997476,0.2966137095997476,0.2966137095997476,0.2966137095997476,0.2966137095997476,0.2966137095997476,0.2966137095997476,0.2966137095997476,0.2966137095997476,0.2966137095997476,0.2966137095997476,0.2966137095997476,0.2966137095997476,0.2966137095997476,0.2966137095997476,0.2966137095997476,0.2966137095997476,0.2966137095997476,0.2966137095997476,0.2966137095997476,0.2966137095997476,0.2966137095997476,0.2966137095997476,0.2966137095997476,0.2966137095997476,0.2966137095997476,0.2966137095997476,0.2966137095997476,0.2966137095997476,0.2966137095997476,0.2966137095997476,0.2966137095997476,0.2966137095997476,0.2966137095997476,0.2966137095997476,0.2966137095997476,0.2966137095997476,0.2966137095997476,0.2966137095997476,0.2966137095997476,0.2966137095997476,0.2966137095997476,0.2966137095997476,0.2966137095997476,0.2966137095997476,0.2966137095997476,0.2966137095997476,0.2966137095997476,0.2966137095997476,0.2966137095997476,0.2966137095997476,0.2966137095997476,0.2966137095997476,0.2966137095997476,0.2966137095997476,0.2966137095997476,0.2966137095997476,0.4743113058145634,0.4743113058145634,0.4743113058145634,0.4743113058145634,0.4743113058145634,0.4743113058145634,0.4743113058145634,0.4743113058145634,0.4743113058145634,0.4743113058145634,0.4743113058145634,0.4743113058145634,0.4743113058145634,0.4743113058145634,0.4743113058145634,0.4743113058145634,0.4743113058145634,0.4743113058145634,0.4743113058145634,0.4743113058145634,0.4743113058145634,0.4743113058145634,0.4743113058145634,0.4743113058145634,0.4743113058145634,0.4743113058145634,0.4743113058145634,0.4743113058145634,0.4743113058145634,0.4743113058145634,0.4743113058145634,0.4743113058145634,0.4743113058145634,0.4743113058145634,0.4743113058145634,0.4743113058145634,0.4743113058145634,0.4743113058145634,0.4743113058145634,0.4743113058145634,0.4743113058145634,0.4743113058145634,0.4743113058145634,0.4743113058145634,0.4743113058145634,0.4743113058145634,0.4743113058145634,0.4743113058145634,0.4743113058145634,0.4743113058145634,0.4743113058145634,0.4743113058145634,0.4743113058145634,0.4743113058145634,0.4743113058145634,0.4743113058145634,0.4743113058145634,0.4743113058145634,0.4743113058145634,0.4743113058145634,0.4743113058145634,0.4743113058145634,0.4743113058145634,0.4743113058145634,0.4743113058145634,0.4743113058145634,0.4743113058145634,0.4743113058145634,0.4743113058145634,0.4743113058145634,0.4743113058145634,0.4743113058145634,0.4743113058145634,0.4743113058145634,0.4743113058145634,0.4743113058145634,0.4743113058145634,0.4743113058145634,0.4743113058145634,0.4743113058145634,0.4743113058145634,0.4743113058145634,0.4743113058145634,0.4743113058145634,0.6520089020293791,0.6520089020293791,0.6520089020293791,0.6520089020293791,0.6520089020293791,0.6520089020293791,0.6520089020293791,0.6520089020293791,0.6520089020293791,0.6520089020293791,0.6520089020293791,0.6520089020293791,0.6520089020293791,0.6520089020293791,0.6520089020293791,0.6520089020293791,0.6520089020293791,0.6520089020293791,0.6520089020293791,0.6520089020293791,0.6520089020293791,0.6520089020293791,0.6520089020293791,0.6520089020293791,0.6520089020293791,0.6520089020293791,0.6520089020293791,0.6520089020293791,0.6520089020293791,0.6520089020293791,0.6520089020293791,0.6520089020293791,0.6520089020293791,0.6520089020293791,0.6520089020293791,0.6520089020293791,0.6520089020293791,0.6520089020293791,0.6520089020293791,0.6520089020293791,0.6520089020293791,0.6520089020293791,0.6520089020293791,0.6520089020293791,0.6520089020293791,0.6520089020293791,0.6520089020293791,0.6520089020293791,0.6520089020293791,0.6520089020293791,0.6520089020293791,0.6520089020293791,0.6520089020293791,0.6520089020293791,0.6520089020293791,0.6964332922567483],\"type\":\"scatter\"},{\"hoverlabel\":{\"namelength\":-1},\"mode\":\"lines+markers\",\"name\":\"FV32_20170331\",\"x\":[\"2017-03-31T19:20:00\",\"2017-03-31T19:30:00\",\"2017-03-31T19:40:00\",\"2017-03-31T19:50:00\",\"2017-03-31T20:00:00\",\"2017-03-31T20:10:00\",\"2017-03-31T20:20:00\",\"2017-03-31T20:30:00\",\"2017-03-31T20:40:00\",\"2017-03-31T20:50:00\",\"2017-03-31T21:00:00\",\"2017-03-31T21:10:00\",\"2017-03-31T21:20:00\",\"2017-03-31T21:30:00\",\"2017-03-31T21:40:00\",\"2017-03-31T21:50:00\",\"2017-03-31T22:00:00\",\"2017-03-31T22:10:00\",\"2017-03-31T22:20:00\",\"2017-03-31T22:30:00\",\"2017-03-31T22:40:00\",\"2017-03-31T22:50:00\",\"2017-03-31T23:00:00\",\"2017-03-31T23:10:00\",\"2017-03-31T23:20:00\",\"2017-03-31T23:30:00\",\"2017-03-31T23:40:00\",\"2017-03-31T23:50:00\",\"2017-04-01T00:00:00\",\"2017-04-01T00:10:00\",\"2017-04-01T00:20:00\",\"2017-04-01T00:30:00\",\"2017-04-01T00:40:00\",\"2017-04-01T00:50:00\",\"2017-04-01T01:00:00\",\"2017-04-01T01:10:00\",\"2017-04-01T01:20:00\",\"2017-04-01T01:30:00\",\"2017-04-01T01:40:00\",\"2017-04-01T01:50:00\",\"2017-04-01T02:00:00\",\"2017-04-01T02:10:00\",\"2017-04-01T02:20:00\",\"2017-04-01T02:30:00\",\"2017-04-01T02:40:00\",\"2017-04-01T02:50:00\",\"2017-04-01T03:00:00\",\"2017-04-01T03:10:00\",\"2017-04-01T03:20:00\",\"2017-04-01T03:30:00\",\"2017-04-01T03:40:00\",\"2017-04-01T03:50:00\",\"2017-04-01T04:00:00\",\"2017-04-01T04:10:00\",\"2017-04-01T04:20:00\",\"2017-04-01T04:30:00\",\"2017-04-01T04:40:00\",\"2017-04-01T04:50:00\",\"2017-04-01T05:00:00\",\"2017-04-01T05:10:00\",\"2017-04-01T05:20:00\",\"2017-04-01T05:30:00\",\"2017-04-01T05:40:00\",\"2017-04-01T05:50:00\",\"2017-04-01T06:00:00\",\"2017-04-01T06:10:00\",\"2017-04-01T06:20:00\",\"2017-04-01T06:30:00\",\"2017-04-01T06:40:00\",\"2017-04-01T06:50:00\",\"2017-04-01T07:00:00\",\"2017-04-01T07:10:00\",\"2017-04-01T07:20:00\",\"2017-04-01T07:30:00\",\"2017-04-01T07:40:00\",\"2017-04-01T07:50:00\",\"2017-04-01T08:00:00\",\"2017-04-01T08:10:00\",\"2017-04-01T08:20:00\",\"2017-04-01T08:30:00\",\"2017-04-01T08:40:00\",\"2017-04-01T08:50:00\",\"2017-04-01T09:00:00\",\"2017-04-01T09:10:00\",\"2017-04-01T09:20:00\",\"2017-04-01T09:30:00\",\"2017-04-01T09:40:00\",\"2017-04-01T09:50:00\",\"2017-04-01T10:00:00\",\"2017-04-01T10:10:00\",\"2017-04-01T10:20:00\",\"2017-04-01T10:30:00\",\"2017-04-01T10:40:00\",\"2017-04-01T10:50:00\",\"2017-04-01T11:00:00\",\"2017-04-01T11:10:00\",\"2017-04-01T11:20:00\",\"2017-04-01T11:30:00\",\"2017-04-01T11:40:00\",\"2017-04-01T11:50:00\",\"2017-04-01T12:00:00\",\"2017-04-01T12:10:00\",\"2017-04-01T12:20:00\",\"2017-04-01T12:30:00\",\"2017-04-01T12:40:00\",\"2017-04-01T12:50:00\",\"2017-04-01T13:00:00\",\"2017-04-01T13:10:00\",\"2017-04-01T13:20:00\",\"2017-04-01T13:30:00\",\"2017-04-01T13:40:00\",\"2017-04-01T13:50:00\",\"2017-04-01T14:00:00\",\"2017-04-01T14:10:00\",\"2017-04-01T14:20:00\",\"2017-04-01T14:30:00\",\"2017-04-01T14:40:00\",\"2017-04-01T14:50:00\",\"2017-04-01T15:00:00\",\"2017-04-01T15:10:00\",\"2017-04-01T15:20:00\",\"2017-04-01T15:30:00\",\"2017-04-01T15:40:00\",\"2017-04-01T15:50:00\",\"2017-04-01T16:00:00\",\"2017-04-01T16:10:00\",\"2017-04-01T16:20:00\",\"2017-04-01T16:30:00\",\"2017-04-01T16:40:00\",\"2017-04-01T16:50:00\",\"2017-04-01T17:00:00\",\"2017-04-01T17:10:00\",\"2017-04-01T17:20:00\",\"2017-04-01T17:30:00\",\"2017-04-01T17:40:00\",\"2017-04-01T17:50:00\",\"2017-04-01T18:00:00\",\"2017-04-01T18:10:00\",\"2017-04-01T18:20:00\",\"2017-04-01T18:30:00\",\"2017-04-01T18:40:00\",\"2017-04-01T18:50:00\",\"2017-04-01T19:00:00\",\"2017-04-01T19:10:00\",\"2017-04-01T19:20:00\",\"2017-04-01T19:30:00\",\"2017-04-01T19:40:00\",\"2017-04-01T19:50:00\",\"2017-04-01T20:00:00\",\"2017-04-01T20:10:00\",\"2017-04-01T20:20:00\",\"2017-04-01T20:30:00\",\"2017-04-01T20:40:00\",\"2017-04-01T20:50:00\",\"2017-04-01T21:00:00\",\"2017-04-01T21:10:00\",\"2017-04-01T21:20:00\",\"2017-04-01T21:30:00\",\"2017-04-01T21:40:00\",\"2017-04-01T21:50:00\",\"2017-04-01T22:00:00\",\"2017-04-01T22:10:00\",\"2017-04-01T22:20:00\",\"2017-04-01T22:30:00\",\"2017-04-01T22:40:00\",\"2017-04-01T22:50:00\",\"2017-04-01T23:00:00\",\"2017-04-01T23:10:00\",\"2017-04-01T23:20:00\",\"2017-04-01T23:30:00\",\"2017-04-01T23:40:00\",\"2017-04-01T23:50:00\",\"2017-04-02T00:00:00\",\"2017-04-02T00:10:00\",\"2017-04-02T00:20:00\",\"2017-04-02T00:30:00\",\"2017-04-02T00:40:00\",\"2017-04-02T00:50:00\",\"2017-04-02T01:00:00\",\"2017-04-02T01:10:00\",\"2017-04-02T01:20:00\",\"2017-04-02T01:30:00\",\"2017-04-02T01:40:00\",\"2017-04-02T01:50:00\",\"2017-04-02T02:00:00\",\"2017-04-02T02:10:00\",\"2017-04-02T02:20:00\",\"2017-04-02T02:30:00\",\"2017-04-02T02:40:00\",\"2017-04-02T02:50:00\",\"2017-04-02T03:00:00\",\"2017-04-02T03:10:00\",\"2017-04-02T03:20:00\",\"2017-04-02T03:30:00\",\"2017-04-02T03:40:00\",\"2017-04-02T03:50:00\",\"2017-04-02T04:00:00\",\"2017-04-02T04:10:00\",\"2017-04-02T04:20:00\",\"2017-04-02T04:30:00\",\"2017-04-02T04:40:00\",\"2017-04-02T04:50:00\",\"2017-04-02T05:00:00\",\"2017-04-02T05:10:00\",\"2017-04-02T05:20:00\",\"2017-04-02T05:30:00\",\"2017-04-02T05:40:00\",\"2017-04-02T05:50:00\",\"2017-04-02T06:00:00\",\"2017-04-02T06:10:00\",\"2017-04-02T06:20:00\",\"2017-04-02T06:30:00\",\"2017-04-02T06:40:00\",\"2017-04-02T06:50:00\",\"2017-04-02T07:00:00\",\"2017-04-02T07:10:00\",\"2017-04-02T07:20:00\",\"2017-04-02T07:30:00\",\"2017-04-02T07:40:00\",\"2017-04-02T07:50:00\",\"2017-04-02T08:00:00\",\"2017-04-02T08:10:00\",\"2017-04-02T08:20:00\",\"2017-04-02T08:30:00\",\"2017-04-02T08:40:00\",\"2017-04-02T08:50:00\",\"2017-04-02T09:00:00\",\"2017-04-02T09:10:00\",\"2017-04-02T09:20:00\",\"2017-04-02T09:30:00\",\"2017-04-02T09:40:00\",\"2017-04-02T09:50:00\",\"2017-04-02T10:00:00\",\"2017-04-02T10:10:00\",\"2017-04-02T10:20:00\",\"2017-04-02T10:30:00\",\"2017-04-02T10:40:00\",\"2017-04-02T10:50:00\",\"2017-04-02T11:00:00\",\"2017-04-02T11:10:00\",\"2017-04-02T11:20:00\",\"2017-04-02T11:30:00\",\"2017-04-02T11:40:00\",\"2017-04-02T11:50:00\",\"2017-04-02T12:00:00\",\"2017-04-02T12:10:00\",\"2017-04-02T12:20:00\",\"2017-04-02T12:30:00\",\"2017-04-02T12:40:00\",\"2017-04-02T12:50:00\",\"2017-04-02T13:00:00\",\"2017-04-02T13:10:00\",\"2017-04-02T13:20:00\",\"2017-04-02T13:30:00\",\"2017-04-02T13:40:00\",\"2017-04-02T13:50:00\",\"2017-04-02T14:00:00\",\"2017-04-02T14:10:00\",\"2017-04-02T14:20:00\",\"2017-04-02T14:30:00\",\"2017-04-02T14:40:00\",\"2017-04-02T14:50:00\",\"2017-04-02T15:00:00\",\"2017-04-02T15:10:00\",\"2017-04-02T15:20:00\",\"2017-04-02T15:30:00\",\"2017-04-02T15:40:00\",\"2017-04-02T15:50:00\",\"2017-04-02T16:00:00\",\"2017-04-02T16:10:00\",\"2017-04-02T16:20:00\",\"2017-04-02T16:30:00\",\"2017-04-02T16:40:00\",\"2017-04-02T16:50:00\",\"2017-04-02T17:00:00\",\"2017-04-02T17:10:00\",\"2017-04-02T17:20:00\",\"2017-04-02T17:30:00\",\"2017-04-02T17:40:00\",\"2017-04-02T17:50:00\",\"2017-04-02T18:00:00\",\"2017-04-02T18:10:00\",\"2017-04-02T18:20:00\",\"2017-04-02T18:30:00\",\"2017-04-02T18:40:00\",\"2017-04-02T18:50:00\",\"2017-04-02T19:00:00\",\"2017-04-02T19:10:00\",\"2017-04-02T19:20:00\",\"2017-04-02T19:30:00\",\"2017-04-02T19:40:00\",\"2017-04-02T19:50:00\",\"2017-04-02T20:00:00\",\"2017-04-02T20:10:00\",\"2017-04-02T20:20:00\",\"2017-04-02T20:30:00\",\"2017-04-02T20:40:00\",\"2017-04-02T20:50:00\",\"2017-04-02T21:00:00\",\"2017-04-02T21:10:00\",\"2017-04-02T21:20:00\",\"2017-04-02T21:30:00\",\"2017-04-02T21:40:00\",\"2017-04-02T21:50:00\",\"2017-04-02T22:00:00\",\"2017-04-02T22:10:00\",\"2017-04-02T22:20:00\",\"2017-04-02T22:30:00\",\"2017-04-02T22:40:00\",\"2017-04-02T22:50:00\",\"2017-04-02T23:00:00\",\"2017-04-02T23:10:00\",\"2017-04-02T23:20:00\",\"2017-04-02T23:30:00\",\"2017-04-02T23:40:00\",\"2017-04-02T23:50:00\",\"2017-04-03T00:00:00\",\"2017-04-03T00:10:00\",\"2017-04-03T00:20:00\",\"2017-04-03T00:30:00\",\"2017-04-03T00:40:00\",\"2017-04-03T00:50:00\",\"2017-04-03T01:00:00\",\"2017-04-03T01:10:00\",\"2017-04-03T01:20:00\",\"2017-04-03T01:30:00\",\"2017-04-03T01:40:00\",\"2017-04-03T01:50:00\",\"2017-04-03T02:00:00\",\"2017-04-03T02:10:00\",\"2017-04-03T02:20:00\",\"2017-04-03T02:30:00\"],\"y\":[0.0,0.0,0.0,0.0,0.0,0.0,0.0,0.0,0.0,0.0,0.0,0.0,0.0,0.0,0.0,0.0,0.0,0.0,0.0,0.0,0.0,0.0,0.0,0.0,0.0,0.0,0.0,0.0,0.0,0.0,0.0,0.0,0.0,0.0,0.0,0.0,0.0,0.0,0.0,0.0,0.0,0.0,0.0,0.0,0.0,0.0,0.0,0.0,0.0,0.0,0.0,0.0,0.0,0.0,0.0,0.0,0.0,0.1425661846206085,0.1425661846206085,0.1425661846206085,0.1425661846206085,0.1425661846206085,0.1425661846206085,0.1425661846206085,0.1425661846206085,0.1425661846206085,0.1425661846206085,0.1425661846206085,0.1425661846206085,0.1425661846206085,0.1425661846206085,0.1425661846206085,0.1425661846206085,0.1425661846206085,0.1425661846206085,0.1425661846206085,0.1425661846206085,0.1425661846206085,0.1425661846206085,0.1425661846206085,0.1425661846206085,0.1425661846206085,0.1425661846206085,0.1425661846206085,0.1425661846206085,0.1425661846206085,0.1425661846206085,0.1425661846206085,0.1425661846206085,0.1425661846206085,0.1425661846206085,0.1425661846206085,0.1425661846206085,0.1425661846206085,0.1425661846206085,0.1425661846206085,0.1425661846206085,0.1425661846206085,0.1425661846206085,0.1425661846206085,0.1425661846206085,0.1425661846206085,0.1425661846206085,0.1425661846206085,0.1425661846206085,0.1425661846206085,0.1425661846206085,0.1425661846206085,0.1425661846206085,0.1425661846206085,0.1425661846206085,0.1425661846206085,0.2761009344243407,0.2761009344243407,0.2761009344243407,0.2761009344243407,0.2761009344243407,0.2761009344243407,0.2761009344243407,0.2761009344243407,0.2761009344243407,0.2761009344243407,0.2761009344243407,0.2761009344243407,0.2761009344243407,0.2761009344243407,0.2761009344243407,0.2761009344243407,0.2761009344243407,0.2761009344243407,0.2761009344243407,0.2761009344243407,0.2761009344243407,0.2761009344243407,0.2761009344243407,0.2761009344243407,0.2761009344243407,0.2761009344243407,0.2761009344243407,0.2761009344243407,0.2761009344243407,0.2761009344243407,0.2761009344243407,0.2761009344243407,0.2761009344243407,0.2761009344243407,0.2761009344243407,0.2761009344243407,0.2761009344243407,0.2761009344243407,0.2761009344243407,0.2761009344243407,0.2761009344243407,0.2761009344243407,0.2761009344243407,0.2761009344243407,0.2761009344243407,0.2761009344243407,0.2761009344243407,0.2761009344243407,0.2761009344243407,0.2761009344243407,0.2761009344243407,0.2761009344243407,0.2761009344243407,0.2761009344243407,0.2761009344243407,0.2761009344243407,0.2761009344243407,0.2761009344243407,0.2761009344243407,0.2761009344243407,0.2761009344243407,0.2761009344243407,0.2761009344243407,0.2761009344243407,0.2761009344243407,0.2761009344243407,0.2761009344243407,0.2761009344243407,0.2761009344243407,0.2761009344243407,0.2761009344243407,0.2761009344243407,0.2761009344243407,0.2761009344243407,0.2761009344243407,0.2761009344243407,0.2761009344243407,0.2761009344243407,0.2761009344243407,0.2761009344243407,0.2761009344243407,0.2761009344243407,0.2761009344243407,0.2761009344243407,0.2761009344243407,0.2761009344243407,0.2761009344243407,0.2761009344243407,0.2761009344243407,0.2761009344243407,0.2761009344243407,0.2761009344243407,0.5291142221873987,0.5291142221873987,0.5291142221873987,0.5291142221873987,0.5291142221873987,0.5291142221873987,0.5291142221873987,0.5291142221873987,0.5291142221873987,0.5291142221873987,0.5291142221873987,0.5291142221873987,0.5291142221873987,0.5291142221873987,0.5291142221873987,0.5291142221873987,0.5291142221873987,0.5291142221873987,0.5291142221873987,0.5291142221873987,0.5291142221873987,0.5291142221873987,0.5291142221873987,0.5291142221873987,0.5291142221873987,0.5291142221873987,0.5291142221873987,0.5291142221873987,0.5291142221873987,0.5291142221873987,0.5291142221873987,0.5291142221873987,0.5291142221873987,0.5291142221873987,0.5291142221873987,0.5291142221873987,0.5291142221873987,0.5291142221873987,0.5291142221873987,0.5291142221873987,0.5291142221873987,0.5291142221873987,0.5291142221873987,0.5291142221873987,0.5291142221873987,0.5291142221873987,0.5291142221873987,0.5291142221873987,0.5291142221873987,0.5291142221873987,0.5291142221873987,0.5291142221873987,0.5291142221873987,0.6767052843739743,0.6767052843739743,0.6767052843739743,0.6767052843739743,0.6767052843739743,0.6767052843739743,0.6767052843739743,0.6767052843739743,0.6767052843739743,0.6767052843739743,0.6767052843739743,0.6767052843739743,0.6767052843739743,0.6767052843739743,0.6767052843739743,0.6767052843739743,0.6767052843739743,0.6767052843739743,0.6767052843739743,0.6767052843739743,0.6767052843739743,0.6767052843739743,0.6767052843739743,0.6767052843739743,0.6767052843739743,0.6767052843739743,0.6767052843739743,0.6767052843739743,0.6767052843739743,0.6767052843739743,0.6767052843739743,0.6767052843739743,0.6767052843739743,0.6767052843739743,0.6767052843739743,0.6767052843739743,0.6767052843739743,0.6767052843739743,0.6767052843739743,0.6767052843739743,0.6767052843739743,0.6767052843739743,0.6767052843739743,0.6767052843739743,0.6767052843739743,0.6767052843739743,0.6767052843739743,0.6767052843739743,0.6767052843739743,0.6767052843739743,0.6767052843739743,0.6767052843739743,0.6767052843739743,0.6767052843739743,0.6767052843739743,0.6767052843739743,0.6767052843739743,0.6767052843739743,0.6767052843739743,0.6767052843739743,0.6767052843739743,0.6767052843739743,0.6767052843739743,0.6767052843739743,0.6767052843739743,0.6767052843739743,0.6767052843739743,0.6767052843739743,0.6767052843739743,0.6767052843739743,0.6767052843739743,0.6767052843739743,0.6767052843739743,0.6767052843739743,0.6767052843739743],\"type\":\"scatter\"},{\"hoverlabel\":{\"namelength\":-1},\"mode\":\"lines+markers\",\"name\":\"FV32_20170414\",\"x\":[\"2017-04-14T15:10:00\",\"2017-04-14T15:20:00\",\"2017-04-14T15:30:00\",\"2017-04-14T15:40:00\",\"2017-04-14T15:50:00\",\"2017-04-14T16:00:00\",\"2017-04-14T16:10:00\",\"2017-04-14T16:20:00\",\"2017-04-14T16:30:00\",\"2017-04-14T16:40:00\",\"2017-04-14T16:50:00\",\"2017-04-14T17:00:00\",\"2017-04-14T17:10:00\",\"2017-04-14T17:20:00\",\"2017-04-14T17:30:00\",\"2017-04-14T17:40:00\",\"2017-04-14T17:50:00\",\"2017-04-14T18:00:00\",\"2017-04-14T18:10:00\",\"2017-04-14T18:20:00\",\"2017-04-14T18:30:00\",\"2017-04-14T18:40:00\",\"2017-04-14T18:50:00\",\"2017-04-14T19:00:00\",\"2017-04-14T19:10:00\",\"2017-04-14T19:20:00\",\"2017-04-14T19:30:00\",\"2017-04-14T19:40:00\",\"2017-04-14T19:50:00\",\"2017-04-14T20:00:00\",\"2017-04-14T20:10:00\",\"2017-04-14T20:20:00\",\"2017-04-14T20:30:00\",\"2017-04-14T20:40:00\",\"2017-04-14T20:50:00\",\"2017-04-14T21:00:00\",\"2017-04-14T21:10:00\",\"2017-04-14T21:20:00\",\"2017-04-14T21:30:00\",\"2017-04-14T21:40:00\",\"2017-04-14T21:50:00\",\"2017-04-14T22:00:00\",\"2017-04-14T22:10:00\",\"2017-04-14T22:20:00\",\"2017-04-14T22:30:00\",\"2017-04-14T22:40:00\",\"2017-04-14T22:50:00\",\"2017-04-14T23:00:00\",\"2017-04-14T23:10:00\",\"2017-04-14T23:20:00\",\"2017-04-14T23:30:00\",\"2017-04-14T23:40:00\",\"2017-04-14T23:50:00\",\"2017-04-15T00:00:00\",\"2017-04-15T00:10:00\",\"2017-04-15T00:20:00\",\"2017-04-15T00:30:00\",\"2017-04-15T00:40:00\",\"2017-04-15T00:50:00\",\"2017-04-15T01:00:00\",\"2017-04-15T01:10:00\",\"2017-04-15T01:20:00\",\"2017-04-15T01:30:00\",\"2017-04-15T01:40:00\",\"2017-04-15T01:50:00\",\"2017-04-15T02:00:00\",\"2017-04-15T02:10:00\",\"2017-04-15T02:20:00\",\"2017-04-15T02:30:00\",\"2017-04-15T02:40:00\",\"2017-04-15T02:50:00\",\"2017-04-15T03:00:00\",\"2017-04-15T03:10:00\",\"2017-04-15T03:20:00\",\"2017-04-15T03:30:00\",\"2017-04-15T03:40:00\",\"2017-04-15T03:50:00\",\"2017-04-15T04:00:00\",\"2017-04-15T04:10:00\",\"2017-04-15T04:20:00\",\"2017-04-15T04:30:00\",\"2017-04-15T04:40:00\",\"2017-04-15T04:50:00\",\"2017-04-15T05:00:00\",\"2017-04-15T05:10:00\",\"2017-04-15T05:20:00\",\"2017-04-15T05:30:00\",\"2017-04-15T05:40:00\",\"2017-04-15T05:50:00\",\"2017-04-15T06:00:00\",\"2017-04-15T06:10:00\",\"2017-04-15T06:20:00\",\"2017-04-15T06:30:00\",\"2017-04-15T06:40:00\",\"2017-04-15T06:50:00\",\"2017-04-15T07:00:00\",\"2017-04-15T07:10:00\",\"2017-04-15T07:20:00\",\"2017-04-15T07:30:00\",\"2017-04-15T07:40:00\",\"2017-04-15T07:50:00\",\"2017-04-15T08:00:00\",\"2017-04-15T08:10:00\",\"2017-04-15T08:20:00\",\"2017-04-15T08:30:00\",\"2017-04-15T08:40:00\",\"2017-04-15T08:50:00\",\"2017-04-15T09:00:00\",\"2017-04-15T09:10:00\",\"2017-04-15T09:20:00\",\"2017-04-15T09:30:00\",\"2017-04-15T09:40:00\",\"2017-04-15T09:50:00\",\"2017-04-15T10:00:00\",\"2017-04-15T10:10:00\",\"2017-04-15T10:20:00\",\"2017-04-15T10:30:00\",\"2017-04-15T10:40:00\",\"2017-04-15T10:50:00\",\"2017-04-15T11:00:00\",\"2017-04-15T11:10:00\",\"2017-04-15T11:20:00\",\"2017-04-15T11:30:00\",\"2017-04-15T11:40:00\",\"2017-04-15T11:50:00\",\"2017-04-15T12:00:00\",\"2017-04-15T12:10:00\",\"2017-04-15T12:20:00\",\"2017-04-15T12:30:00\",\"2017-04-15T12:40:00\",\"2017-04-15T12:50:00\",\"2017-04-15T13:00:00\",\"2017-04-15T13:10:00\",\"2017-04-15T13:20:00\",\"2017-04-15T13:30:00\",\"2017-04-15T13:40:00\",\"2017-04-15T13:50:00\",\"2017-04-15T14:00:00\",\"2017-04-15T14:10:00\",\"2017-04-15T14:20:00\",\"2017-04-15T14:30:00\",\"2017-04-15T14:40:00\",\"2017-04-15T14:50:00\",\"2017-04-15T15:00:00\",\"2017-04-15T15:10:00\",\"2017-04-15T15:20:00\",\"2017-04-15T15:30:00\",\"2017-04-15T15:40:00\",\"2017-04-15T15:50:00\",\"2017-04-15T16:00:00\",\"2017-04-15T16:10:00\",\"2017-04-15T16:20:00\",\"2017-04-15T16:30:00\",\"2017-04-15T16:40:00\",\"2017-04-15T16:50:00\",\"2017-04-15T17:00:00\",\"2017-04-15T17:10:00\",\"2017-04-15T17:20:00\",\"2017-04-15T17:30:00\",\"2017-04-15T17:40:00\",\"2017-04-15T17:50:00\",\"2017-04-15T18:00:00\",\"2017-04-15T18:10:00\",\"2017-04-15T18:20:00\",\"2017-04-15T18:30:00\",\"2017-04-15T18:40:00\",\"2017-04-15T18:50:00\",\"2017-04-15T19:00:00\",\"2017-04-15T19:10:00\",\"2017-04-15T19:20:00\",\"2017-04-15T19:30:00\",\"2017-04-15T19:40:00\",\"2017-04-15T19:50:00\",\"2017-04-15T20:00:00\",\"2017-04-15T20:10:00\",\"2017-04-15T20:20:00\",\"2017-04-15T20:30:00\",\"2017-04-15T20:40:00\",\"2017-04-15T20:50:00\",\"2017-04-15T21:00:00\",\"2017-04-15T21:10:00\",\"2017-04-15T21:20:00\",\"2017-04-15T21:30:00\",\"2017-04-15T21:40:00\",\"2017-04-15T21:50:00\",\"2017-04-15T22:00:00\",\"2017-04-15T22:10:00\",\"2017-04-15T22:20:00\",\"2017-04-15T22:30:00\",\"2017-04-15T22:40:00\",\"2017-04-15T22:50:00\",\"2017-04-15T23:00:00\",\"2017-04-15T23:10:00\",\"2017-04-15T23:20:00\",\"2017-04-15T23:30:00\",\"2017-04-15T23:40:00\",\"2017-04-15T23:50:00\",\"2017-04-16T00:00:00\",\"2017-04-16T00:10:00\",\"2017-04-16T00:20:00\",\"2017-04-16T00:30:00\",\"2017-04-16T00:40:00\",\"2017-04-16T00:50:00\",\"2017-04-16T01:00:00\",\"2017-04-16T01:10:00\",\"2017-04-16T01:20:00\",\"2017-04-16T01:30:00\",\"2017-04-16T01:40:00\",\"2017-04-16T01:50:00\",\"2017-04-16T02:00:00\",\"2017-04-16T02:10:00\",\"2017-04-16T02:20:00\",\"2017-04-16T02:30:00\",\"2017-04-16T02:40:00\",\"2017-04-16T02:50:00\",\"2017-04-16T03:00:00\",\"2017-04-16T03:10:00\",\"2017-04-16T03:20:00\",\"2017-04-16T03:30:00\",\"2017-04-16T03:40:00\",\"2017-04-16T03:50:00\",\"2017-04-16T04:00:00\",\"2017-04-16T04:10:00\",\"2017-04-16T04:20:00\",\"2017-04-16T04:30:00\",\"2017-04-16T04:40:00\",\"2017-04-16T04:50:00\",\"2017-04-16T05:00:00\",\"2017-04-16T05:10:00\",\"2017-04-16T05:20:00\",\"2017-04-16T05:30:00\",\"2017-04-16T05:40:00\",\"2017-04-16T05:50:00\",\"2017-04-16T06:00:00\",\"2017-04-16T06:10:00\",\"2017-04-16T06:20:00\",\"2017-04-16T06:30:00\",\"2017-04-16T06:40:00\",\"2017-04-16T06:50:00\",\"2017-04-16T07:00:00\",\"2017-04-16T07:10:00\",\"2017-04-16T07:20:00\",\"2017-04-16T07:30:00\",\"2017-04-16T07:40:00\",\"2017-04-16T07:50:00\",\"2017-04-16T08:00:00\",\"2017-04-16T08:10:00\",\"2017-04-16T08:20:00\",\"2017-04-16T08:30:00\",\"2017-04-16T08:40:00\",\"2017-04-16T08:50:00\",\"2017-04-16T09:00:00\",\"2017-04-16T09:10:00\",\"2017-04-16T09:20:00\",\"2017-04-16T09:30:00\",\"2017-04-16T09:40:00\",\"2017-04-16T09:50:00\",\"2017-04-16T10:00:00\",\"2017-04-16T10:10:00\",\"2017-04-16T10:20:00\",\"2017-04-16T10:30:00\",\"2017-04-16T10:40:00\",\"2017-04-16T10:50:00\",\"2017-04-16T11:00:00\",\"2017-04-16T11:10:00\",\"2017-04-16T11:20:00\",\"2017-04-16T11:30:00\",\"2017-04-16T11:40:00\",\"2017-04-16T11:50:00\",\"2017-04-16T12:00:00\",\"2017-04-16T12:10:00\",\"2017-04-16T12:20:00\",\"2017-04-16T12:30:00\",\"2017-04-16T12:40:00\",\"2017-04-16T12:50:00\",\"2017-04-16T13:00:00\",\"2017-04-16T13:10:00\",\"2017-04-16T13:20:00\",\"2017-04-16T13:30:00\",\"2017-04-16T13:40:00\",\"2017-04-16T13:50:00\",\"2017-04-16T14:00:00\",\"2017-04-16T14:10:00\",\"2017-04-16T14:20:00\",\"2017-04-16T14:30:00\"],\"y\":[0.0,0.0,0.0,0.0,0.0,0.0,0.0,0.0,0.0,0.0,0.0,0.0,0.0,0.0,0.0,0.0,0.0,0.0,0.0,0.0,0.0,0.0,0.0,0.0,0.0,0.0,0.0,0.0,0.0,0.0,0.0,0.0,0.0,0.0,0.0,0.0,0.0,0.0,0.0,0.0,0.0,0.0,0.0,0.0,0.0,0.0,0.0,0.0,0.0,0.0,0.0,0.0,0.0,0.0,0.0,0.0,0.0,0.0,0.0,0.0,0.0,0.0,0.0,0.0,0.0,0.0,0.0,0.0,0.0,0.0,0.0,0.0,0.0,0.0,0.0,0.142118943601863,0.142118943601863,0.142118943601863,0.142118943601863,0.142118943601863,0.142118943601863,0.142118943601863,0.142118943601863,0.142118943601863,0.142118943601863,0.142118943601863,0.142118943601863,0.142118943601863,0.142118943601863,0.142118943601863,0.142118943601863,0.142118943601863,0.142118943601863,0.142118943601863,0.142118943601863,0.142118943601863,0.142118943601863,0.142118943601863,0.142118943601863,0.142118943601863,0.142118943601863,0.142118943601863,0.142118943601863,0.142118943601863,0.142118943601863,0.142118943601863,0.142118943601863,0.142118943601863,0.142118943601863,0.142118943601863,0.142118943601863,0.142118943601863,0.142118943601863,0.142118943601863,0.142118943601863,0.142118943601863,0.142118943601863,0.142118943601863,0.142118943601863,0.142118943601863,0.142118943601863,0.142118943601863,0.142118943601863,0.142118943601863,0.142118943601863,0.142118943601863,0.142118943601863,0.142118943601863,0.142118943601863,0.142118943601863,0.142118943601863,0.142118943601863,0.142118943601863,0.142118943601863,0.142118943601863,0.142118943601863,0.142118943601863,0.142118943601863,0.3122160581239873,0.3122160581239873,0.3122160581239873,0.3122160581239873,0.3122160581239873,0.3122160581239873,0.3122160581239873,0.3122160581239873,0.3122160581239873,0.3122160581239873,0.3122160581239873,0.3122160581239873,0.3122160581239873,0.3122160581239873,0.3122160581239873,0.3122160581239873,0.3122160581239873,0.3122160581239873,0.3122160581239873,0.3122160581239873,0.3122160581239873,0.3122160581239873,0.3122160581239873,0.3122160581239873,0.3122160581239873,0.3122160581239873,0.3122160581239873,0.3122160581239873,0.3122160581239873,0.3122160581239873,0.3122160581239873,0.3122160581239873,0.3122160581239873,0.3122160581239873,0.3122160581239873,0.3122160581239873,0.3122160581239873,0.3122160581239873,0.3122160581239873,0.3122160581239873,0.3122160581239873,0.3122160581239873,0.3122160581239873,0.3122160581239873,0.3122160581239873,0.3122160581239873,0.3122160581239873,0.3122160581239873,0.3122160581239873,0.3122160581239873,0.3122160581239873,0.3122160581239873,0.3122160581239873,0.3122160581239873,0.3122160581239873,0.3122160581239873,0.3122160581239873,0.3122160581239873,0.3122160581239873,0.3122160581239873,0.3122160581239873,0.3122160581239873,0.3122160581239873,0.3122160581239873,0.3122160581239873,0.3122160581239873,0.3122160581239873,0.3122160581239873,0.3122160581239873,0.3122160581239873,0.3122160581239873,0.3122160581239873,0.3122160581239873,0.3122160581239873,0.3122160581239873,0.3122160581239873,0.3122160581239873,0.3122160581239873,0.3122160581239873,0.3122160581239873,0.3122160581239873,0.3122160581239873,0.3122160581239873,0.3122160581239873,0.5636639527487993,0.5636639527487993,0.5636639527487993,0.5636639527487993,0.5636639527487993,0.5636639527487993,0.5636639527487993,0.5636639527487993,0.5636639527487993,0.5636639527487993,0.5636639527487993,0.5636639527487993,0.5636639527487993,0.5636639527487993,0.5636639527487993,0.5636639527487993,0.5636639527487993,0.5636639527487993,0.5636639527487993,0.5636639527487993,0.5636639527487993,0.5636639527487993,0.5636639527487993,0.5636639527487993,0.5636639527487993,0.5636639527487993,0.5636639527487993,0.5636639527487993,0.5636639527487993,0.5636639527487993,0.5636639527487993,0.5636639527487993,0.5636639527487993,0.5636639527487993,0.5636639527487993,0.5636639527487993,0.5636639527487993,0.5636639527487993,0.5636639527487993,0.5636639527487993,0.5636639527487993,0.5636639527487993,0.5636639527487993,0.5636639527487993,0.5636639527487993,0.5636639527487993,0.5636639527487993,0.5636639527487993,0.5636639527487993,0.5636639527487993,0.5636639527487993,0.5636639527487993,0.5636639527487993,0.5636639527487993,0.5636639527487993,0.5636639527487993,0.5636639527487993,0.5636639527487993,0.5636639527487993,0.5636639527487993,0.5636639527487993,0.5636639527487993,0.6893879176935135],\"type\":\"scatter\"},{\"hoverlabel\":{\"namelength\":-1},\"mode\":\"lines+markers\",\"name\":\"FV32_20170429\",\"x\":[\"2017-04-29T15:10:00\",\"2017-04-29T15:20:00\",\"2017-04-29T15:30:00\",\"2017-04-29T15:40:00\",\"2017-04-29T15:50:00\",\"2017-04-29T16:00:00\",\"2017-04-29T16:10:00\",\"2017-04-29T16:20:00\",\"2017-04-29T16:30:00\",\"2017-04-29T16:40:00\",\"2017-04-29T16:50:00\",\"2017-04-29T17:00:00\",\"2017-04-29T17:10:00\",\"2017-04-29T17:20:00\",\"2017-04-29T17:30:00\",\"2017-04-29T17:40:00\",\"2017-04-29T17:50:00\",\"2017-04-29T18:00:00\",\"2017-04-29T18:10:00\",\"2017-04-29T18:20:00\",\"2017-04-29T18:30:00\",\"2017-04-29T18:40:00\",\"2017-04-29T18:50:00\",\"2017-04-29T19:00:00\",\"2017-04-29T19:10:00\",\"2017-04-29T19:20:00\",\"2017-04-29T19:30:00\",\"2017-04-29T19:40:00\",\"2017-04-29T19:50:00\",\"2017-04-29T20:00:00\",\"2017-04-29T20:10:00\",\"2017-04-29T20:20:00\",\"2017-04-29T20:30:00\",\"2017-04-29T20:40:00\",\"2017-04-29T20:50:00\",\"2017-04-29T21:00:00\",\"2017-04-29T21:10:00\",\"2017-04-29T21:20:00\",\"2017-04-29T21:30:00\",\"2017-04-29T21:40:00\",\"2017-04-29T21:50:00\",\"2017-04-29T22:00:00\",\"2017-04-29T22:10:00\",\"2017-04-29T22:20:00\",\"2017-04-29T22:30:00\",\"2017-04-29T22:40:00\",\"2017-04-29T22:50:00\",\"2017-04-29T23:00:00\",\"2017-04-29T23:10:00\",\"2017-04-29T23:20:00\",\"2017-04-29T23:30:00\",\"2017-04-29T23:40:00\",\"2017-04-29T23:50:00\",\"2017-04-30T00:00:00\",\"2017-04-30T00:10:00\",\"2017-04-30T00:20:00\",\"2017-04-30T00:30:00\",\"2017-04-30T00:40:00\",\"2017-04-30T00:50:00\",\"2017-04-30T01:00:00\",\"2017-04-30T01:10:00\",\"2017-04-30T01:20:00\",\"2017-04-30T01:30:00\",\"2017-04-30T01:40:00\",\"2017-04-30T01:50:00\",\"2017-04-30T02:00:00\",\"2017-04-30T02:10:00\",\"2017-04-30T02:20:00\",\"2017-04-30T02:30:00\",\"2017-04-30T02:40:00\",\"2017-04-30T02:50:00\",\"2017-04-30T03:00:00\",\"2017-04-30T03:10:00\",\"2017-04-30T03:20:00\",\"2017-04-30T03:30:00\",\"2017-04-30T03:40:00\",\"2017-04-30T03:50:00\",\"2017-04-30T04:00:00\",\"2017-04-30T04:10:00\",\"2017-04-30T04:20:00\",\"2017-04-30T04:30:00\",\"2017-04-30T04:40:00\",\"2017-04-30T04:50:00\",\"2017-04-30T05:00:00\",\"2017-04-30T05:10:00\",\"2017-04-30T05:20:00\",\"2017-04-30T05:30:00\",\"2017-04-30T05:40:00\",\"2017-04-30T05:50:00\",\"2017-04-30T06:00:00\",\"2017-04-30T06:10:00\",\"2017-04-30T06:20:00\",\"2017-04-30T06:30:00\",\"2017-04-30T06:40:00\",\"2017-04-30T06:50:00\",\"2017-04-30T07:00:00\",\"2017-04-30T07:10:00\",\"2017-04-30T07:20:00\",\"2017-04-30T07:30:00\",\"2017-04-30T07:40:00\",\"2017-04-30T07:50:00\",\"2017-04-30T08:00:00\",\"2017-04-30T08:10:00\",\"2017-04-30T08:20:00\",\"2017-04-30T08:30:00\",\"2017-04-30T08:40:00\",\"2017-04-30T08:50:00\",\"2017-04-30T09:00:00\",\"2017-04-30T09:10:00\",\"2017-04-30T09:20:00\",\"2017-04-30T09:30:00\",\"2017-04-30T09:40:00\",\"2017-04-30T09:50:00\",\"2017-04-30T10:00:00\",\"2017-04-30T10:10:00\",\"2017-04-30T10:20:00\",\"2017-04-30T10:30:00\",\"2017-04-30T10:40:00\",\"2017-04-30T10:50:00\",\"2017-04-30T11:00:00\",\"2017-04-30T11:10:00\",\"2017-04-30T11:20:00\",\"2017-04-30T11:30:00\",\"2017-04-30T11:40:00\",\"2017-04-30T11:50:00\",\"2017-04-30T12:00:00\",\"2017-04-30T12:10:00\",\"2017-04-30T12:20:00\",\"2017-04-30T12:30:00\",\"2017-04-30T12:40:00\",\"2017-04-30T12:50:00\",\"2017-04-30T13:00:00\",\"2017-04-30T13:10:00\",\"2017-04-30T13:20:00\",\"2017-04-30T13:30:00\",\"2017-04-30T13:40:00\",\"2017-04-30T13:50:00\",\"2017-04-30T14:00:00\",\"2017-04-30T14:10:00\",\"2017-04-30T14:20:00\",\"2017-04-30T14:30:00\",\"2017-04-30T14:40:00\",\"2017-04-30T14:50:00\",\"2017-04-30T15:00:00\",\"2017-04-30T15:10:00\",\"2017-04-30T15:20:00\",\"2017-04-30T15:30:00\",\"2017-04-30T15:40:00\",\"2017-04-30T15:50:00\",\"2017-04-30T16:00:00\",\"2017-04-30T16:10:00\",\"2017-04-30T16:20:00\",\"2017-04-30T16:30:00\",\"2017-04-30T16:40:00\",\"2017-04-30T16:50:00\",\"2017-04-30T17:00:00\",\"2017-04-30T17:10:00\",\"2017-04-30T17:20:00\",\"2017-04-30T17:30:00\",\"2017-04-30T17:40:00\",\"2017-04-30T17:50:00\",\"2017-04-30T18:00:00\",\"2017-04-30T18:10:00\",\"2017-04-30T18:20:00\",\"2017-04-30T18:30:00\",\"2017-04-30T18:40:00\",\"2017-04-30T18:50:00\",\"2017-04-30T19:00:00\",\"2017-04-30T19:10:00\",\"2017-04-30T19:20:00\",\"2017-04-30T19:30:00\",\"2017-04-30T19:40:00\",\"2017-04-30T19:50:00\",\"2017-04-30T20:00:00\",\"2017-04-30T20:10:00\",\"2017-04-30T20:20:00\",\"2017-04-30T20:30:00\",\"2017-04-30T20:40:00\",\"2017-04-30T20:50:00\",\"2017-04-30T21:00:00\",\"2017-04-30T21:10:00\",\"2017-04-30T21:20:00\",\"2017-04-30T21:30:00\",\"2017-04-30T21:40:00\",\"2017-04-30T21:50:00\",\"2017-04-30T22:00:00\",\"2017-04-30T22:10:00\",\"2017-04-30T22:20:00\",\"2017-04-30T22:30:00\",\"2017-04-30T22:40:00\",\"2017-04-30T22:50:00\",\"2017-04-30T23:00:00\",\"2017-04-30T23:10:00\",\"2017-04-30T23:20:00\",\"2017-04-30T23:30:00\",\"2017-04-30T23:40:00\",\"2017-04-30T23:50:00\",\"2017-05-01T00:00:00\",\"2017-05-01T00:10:00\",\"2017-05-01T00:20:00\",\"2017-05-01T00:30:00\",\"2017-05-01T00:40:00\",\"2017-05-01T00:50:00\",\"2017-05-01T01:00:00\",\"2017-05-01T01:10:00\",\"2017-05-01T01:20:00\",\"2017-05-01T01:30:00\",\"2017-05-01T01:40:00\",\"2017-05-01T01:50:00\",\"2017-05-01T02:00:00\",\"2017-05-01T02:10:00\",\"2017-05-01T02:20:00\",\"2017-05-01T02:30:00\",\"2017-05-01T02:40:00\",\"2017-05-01T02:50:00\",\"2017-05-01T03:00:00\",\"2017-05-01T03:10:00\",\"2017-05-01T03:20:00\",\"2017-05-01T03:30:00\",\"2017-05-01T03:40:00\",\"2017-05-01T03:50:00\",\"2017-05-01T04:00:00\",\"2017-05-01T04:10:00\",\"2017-05-01T04:20:00\",\"2017-05-01T04:30:00\",\"2017-05-01T04:40:00\",\"2017-05-01T04:50:00\",\"2017-05-01T05:00:00\",\"2017-05-01T05:10:00\",\"2017-05-01T05:20:00\",\"2017-05-01T05:30:00\",\"2017-05-01T05:40:00\",\"2017-05-01T05:50:00\",\"2017-05-01T06:00:00\",\"2017-05-01T06:10:00\",\"2017-05-01T06:20:00\",\"2017-05-01T06:30:00\",\"2017-05-01T06:40:00\",\"2017-05-01T06:50:00\",\"2017-05-01T07:00:00\",\"2017-05-01T07:10:00\",\"2017-05-01T07:20:00\",\"2017-05-01T07:30:00\",\"2017-05-01T07:40:00\",\"2017-05-01T07:50:00\",\"2017-05-01T08:00:00\",\"2017-05-01T08:10:00\",\"2017-05-01T08:20:00\",\"2017-05-01T08:30:00\",\"2017-05-01T08:40:00\",\"2017-05-01T08:50:00\",\"2017-05-01T09:00:00\",\"2017-05-01T09:10:00\",\"2017-05-01T09:20:00\",\"2017-05-01T09:30:00\",\"2017-05-01T09:40:00\",\"2017-05-01T09:50:00\",\"2017-05-01T10:00:00\",\"2017-05-01T10:10:00\",\"2017-05-01T10:20:00\",\"2017-05-01T10:30:00\",\"2017-05-01T10:40:00\",\"2017-05-01T10:50:00\",\"2017-05-01T11:00:00\",\"2017-05-01T11:10:00\",\"2017-05-01T11:20:00\",\"2017-05-01T11:30:00\",\"2017-05-01T11:40:00\",\"2017-05-01T11:50:00\",\"2017-05-01T12:00:00\",\"2017-05-01T12:10:00\",\"2017-05-01T12:20:00\",\"2017-05-01T12:30:00\",\"2017-05-01T12:40:00\",\"2017-05-01T12:50:00\",\"2017-05-01T13:00:00\",\"2017-05-01T13:10:00\",\"2017-05-01T13:20:00\",\"2017-05-01T13:30:00\",\"2017-05-01T13:40:00\",\"2017-05-01T13:50:00\",\"2017-05-01T14:00:00\",\"2017-05-01T14:10:00\",\"2017-05-01T14:20:00\",\"2017-05-01T14:30:00\"],\"y\":[0.0,0.0,0.0,0.0,0.0,0.0,0.0,0.0,0.0,0.0,0.0,0.0,0.0,0.0,0.0,0.0,0.0,0.0,0.0,0.0,0.0,0.0,0.0,0.0,0.0,0.0,0.0,0.0,0.0,0.0,0.0,0.0,0.0,0.0,0.0,0.0,0.0,0.0,0.0,0.0,0.0,0.0,0.0,0.0,0.0,0.0,0.0,0.0,0.0,0.0,0.0,0.0,0.0,0.0,0.0,0.0,0.0,0.0,0.0,0.0,0.0,0.0,0.0,0.0,0.0,0.0,0.0,0.0,0.0,0.0,0.0,0.0,0.0,0.0,0.0,0.0,0.0,0.0,0.0,0.0,0.0,0.0,0.0,0.0,0.0,0.1860230381090879,0.1860230381090879,0.1860230381090879,0.1860230381090879,0.1860230381090879,0.1860230381090879,0.1860230381090879,0.1860230381090879,0.1860230381090879,0.1860230381090879,0.1860230381090879,0.1860230381090879,0.1860230381090879,0.1860230381090879,0.1860230381090879,0.1860230381090879,0.1860230381090879,0.1860230381090879,0.1860230381090879,0.1860230381090879,0.1860230381090879,0.1860230381090879,0.1860230381090879,0.1860230381090879,0.1860230381090879,0.1860230381090879,0.1860230381090879,0.1860230381090879,0.1860230381090879,0.1860230381090879,0.1860230381090879,0.1860230381090879,0.1860230381090879,0.1860230381090879,0.1860230381090879,0.1860230381090879,0.1860230381090879,0.1860230381090879,0.1860230381090879,0.1860230381090879,0.1860230381090879,0.1860230381090879,0.1860230381090879,0.1860230381090879,0.1860230381090879,0.1860230381090879,0.1860230381090879,0.1860230381090879,0.1860230381090879,0.1860230381090879,0.1860230381090879,0.1860230381090879,0.1860230381090879,0.334018849361981,0.334018849361981,0.334018849361981,0.334018849361981,0.334018849361981,0.334018849361981,0.334018849361981,0.334018849361981,0.334018849361981,0.334018849361981,0.334018849361981,0.334018849361981,0.334018849361981,0.334018849361981,0.334018849361981,0.334018849361981,0.334018849361981,0.334018849361981,0.334018849361981,0.334018849361981,0.334018849361981,0.334018849361981,0.334018849361981,0.334018849361981,0.334018849361981,0.334018849361981,0.334018849361981,0.334018849361981,0.334018849361981,0.334018849361981,0.334018849361981,0.334018849361981,0.334018849361981,0.334018849361981,0.334018849361981,0.334018849361981,0.334018849361981,0.334018849361981,0.334018849361981,0.334018849361981,0.334018849361981,0.334018849361981,0.334018849361981,0.334018849361981,0.334018849361981,0.334018849361981,0.334018849361981,0.334018849361981,0.334018849361981,0.334018849361981,0.334018849361981,0.334018849361981,0.334018849361981,0.334018849361981,0.334018849361981,0.334018849361981,0.334018849361981,0.334018849361981,0.334018849361981,0.334018849361981,0.334018849361981,0.334018849361981,0.334018849361981,0.334018849361981,0.334018849361981,0.334018849361981,0.334018849361981,0.334018849361981,0.334018849361981,0.334018849361981,0.334018849361981,0.334018849361981,0.334018849361981,0.334018849361981,0.334018849361981,0.334018849361981,0.334018849361981,0.334018849361981,0.334018849361981,0.334018849361981,0.334018849361981,0.5708121332526296,0.5708121332526296,0.5708121332526296,0.5708121332526296,0.5708121332526296,0.5708121332526296,0.5708121332526296,0.5708121332526296,0.5708121332526296,0.5708121332526296,0.5708121332526296,0.5708121332526296,0.5708121332526296,0.5708121332526296,0.5708121332526296,0.5708121332526296,0.5708121332526296,0.5708121332526296,0.5708121332526296,0.5708121332526296,0.5708121332526296,0.5708121332526296,0.5708121332526296,0.5708121332526296,0.5708121332526296,0.5708121332526296,0.5708121332526296,0.5708121332526296,0.5708121332526296,0.5708121332526296,0.5708121332526296,0.5708121332526296,0.5708121332526296,0.5708121332526296,0.5708121332526296,0.5708121332526296,0.5708121332526296,0.5708121332526296,0.5708121332526296,0.5708121332526296,0.5708121332526296,0.5708121332526296,0.5708121332526296,0.5708121332526296,0.5708121332526296,0.5708121332526296,0.5708121332526296,0.5708121332526296,0.659609641175336,0.659609641175336,0.659609641175336,0.659609641175336,0.659609641175336,0.659609641175336,0.659609641175336,0.659609641175336,0.659609641175336,0.659609641175336,0.659609641175336,0.659609641175336,0.659609641175336,0.659609641175336,0.659609641175336,0.659609641175336,0.659609641175336,0.7188079621479982],\"type\":\"scatter\"},{\"hoverlabel\":{\"namelength\":-1},\"mode\":\"lines+markers\",\"name\":\"FV32_20170531\",\"x\":[\"2017-05-31T16:30:00\",\"2017-05-31T16:40:00\",\"2017-05-31T16:50:00\",\"2017-05-31T17:00:00\",\"2017-05-31T17:10:00\",\"2017-05-31T17:20:00\",\"2017-05-31T17:30:00\",\"2017-05-31T17:40:00\",\"2017-05-31T17:50:00\",\"2017-05-31T18:00:00\",\"2017-05-31T18:10:00\",\"2017-05-31T18:20:00\",\"2017-05-31T18:30:00\",\"2017-05-31T18:40:00\",\"2017-05-31T18:50:00\",\"2017-05-31T19:00:00\",\"2017-05-31T19:10:00\",\"2017-05-31T19:20:00\",\"2017-05-31T19:30:00\",\"2017-05-31T19:40:00\",\"2017-05-31T19:50:00\",\"2017-05-31T20:00:00\",\"2017-05-31T20:10:00\",\"2017-05-31T20:20:00\",\"2017-05-31T20:30:00\",\"2017-05-31T20:40:00\",\"2017-05-31T20:50:00\",\"2017-05-31T21:00:00\",\"2017-05-31T21:10:00\",\"2017-05-31T21:20:00\",\"2017-05-31T21:30:00\",\"2017-05-31T21:40:00\",\"2017-05-31T21:50:00\",\"2017-05-31T22:00:00\",\"2017-05-31T22:10:00\",\"2017-05-31T22:20:00\",\"2017-05-31T22:30:00\",\"2017-05-31T22:40:00\",\"2017-05-31T22:50:00\",\"2017-05-31T23:00:00\",\"2017-05-31T23:10:00\",\"2017-05-31T23:20:00\",\"2017-05-31T23:30:00\",\"2017-05-31T23:40:00\",\"2017-05-31T23:50:00\",\"2017-06-01T00:00:00\",\"2017-06-01T00:10:00\",\"2017-06-01T00:20:00\",\"2017-06-01T00:30:00\",\"2017-06-01T00:40:00\",\"2017-06-01T00:50:00\",\"2017-06-01T01:00:00\",\"2017-06-01T01:10:00\",\"2017-06-01T01:20:00\",\"2017-06-01T01:30:00\",\"2017-06-01T01:40:00\",\"2017-06-01T01:50:00\",\"2017-06-01T02:00:00\",\"2017-06-01T02:10:00\",\"2017-06-01T02:20:00\",\"2017-06-01T02:30:00\",\"2017-06-01T02:40:00\",\"2017-06-01T02:50:00\",\"2017-06-01T03:00:00\",\"2017-06-01T03:10:00\",\"2017-06-01T03:20:00\",\"2017-06-01T03:30:00\",\"2017-06-01T03:40:00\",\"2017-06-01T03:50:00\",\"2017-06-01T04:00:00\",\"2017-06-01T04:10:00\",\"2017-06-01T04:20:00\",\"2017-06-01T04:30:00\",\"2017-06-01T04:40:00\",\"2017-06-01T04:50:00\",\"2017-06-01T05:00:00\",\"2017-06-01T05:10:00\",\"2017-06-01T05:20:00\",\"2017-06-01T05:30:00\",\"2017-06-01T05:40:00\",\"2017-06-01T05:50:00\",\"2017-06-01T06:00:00\",\"2017-06-01T06:10:00\",\"2017-06-01T06:20:00\",\"2017-06-01T06:30:00\",\"2017-06-01T06:40:00\",\"2017-06-01T06:50:00\",\"2017-06-01T07:00:00\",\"2017-06-01T07:10:00\",\"2017-06-01T07:20:00\",\"2017-06-01T07:30:00\",\"2017-06-01T07:40:00\",\"2017-06-01T07:50:00\",\"2017-06-01T08:00:00\",\"2017-06-01T08:10:00\",\"2017-06-01T08:20:00\",\"2017-06-01T08:30:00\",\"2017-06-01T08:40:00\",\"2017-06-01T08:50:00\",\"2017-06-01T09:00:00\",\"2017-06-01T09:10:00\",\"2017-06-01T09:20:00\",\"2017-06-01T09:30:00\",\"2017-06-01T09:40:00\",\"2017-06-01T09:50:00\",\"2017-06-01T10:00:00\",\"2017-06-01T10:10:00\",\"2017-06-01T10:20:00\",\"2017-06-01T10:30:00\",\"2017-06-01T10:40:00\",\"2017-06-01T10:50:00\",\"2017-06-01T11:00:00\",\"2017-06-01T11:10:00\",\"2017-06-01T11:20:00\",\"2017-06-01T11:30:00\",\"2017-06-01T11:40:00\",\"2017-06-01T11:50:00\",\"2017-06-01T12:00:00\",\"2017-06-01T12:10:00\",\"2017-06-01T12:20:00\",\"2017-06-01T12:30:00\",\"2017-06-01T12:40:00\",\"2017-06-01T12:50:00\",\"2017-06-01T13:00:00\",\"2017-06-01T13:10:00\",\"2017-06-01T13:20:00\",\"2017-06-01T13:30:00\",\"2017-06-01T13:40:00\",\"2017-06-01T13:50:00\",\"2017-06-01T14:00:00\",\"2017-06-01T14:10:00\",\"2017-06-01T14:20:00\",\"2017-06-01T14:30:00\",\"2017-06-01T14:40:00\",\"2017-06-01T14:50:00\",\"2017-06-01T15:00:00\",\"2017-06-01T15:10:00\",\"2017-06-01T15:20:00\",\"2017-06-01T15:30:00\",\"2017-06-01T15:40:00\",\"2017-06-01T15:50:00\",\"2017-06-01T16:00:00\",\"2017-06-01T16:10:00\",\"2017-06-01T16:20:00\",\"2017-06-01T16:30:00\",\"2017-06-01T16:40:00\",\"2017-06-01T16:50:00\",\"2017-06-01T17:00:00\",\"2017-06-01T17:10:00\",\"2017-06-01T17:20:00\",\"2017-06-01T17:30:00\",\"2017-06-01T17:40:00\",\"2017-06-01T17:50:00\",\"2017-06-01T18:00:00\",\"2017-06-01T18:10:00\",\"2017-06-01T18:20:00\",\"2017-06-01T18:30:00\",\"2017-06-01T18:40:00\",\"2017-06-01T18:50:00\",\"2017-06-01T19:00:00\",\"2017-06-01T19:10:00\",\"2017-06-01T19:20:00\",\"2017-06-01T19:30:00\",\"2017-06-01T19:40:00\",\"2017-06-01T19:50:00\",\"2017-06-01T20:00:00\",\"2017-06-01T20:10:00\",\"2017-06-01T20:20:00\",\"2017-06-01T20:30:00\",\"2017-06-01T20:40:00\",\"2017-06-01T20:50:00\",\"2017-06-01T21:00:00\",\"2017-06-01T21:10:00\",\"2017-06-01T21:20:00\",\"2017-06-01T21:30:00\",\"2017-06-01T21:40:00\",\"2017-06-01T21:50:00\",\"2017-06-01T22:00:00\",\"2017-06-01T22:10:00\",\"2017-06-01T22:20:00\",\"2017-06-01T22:30:00\",\"2017-06-01T22:40:00\",\"2017-06-01T22:50:00\",\"2017-06-01T23:00:00\",\"2017-06-01T23:10:00\",\"2017-06-01T23:20:00\",\"2017-06-01T23:30:00\",\"2017-06-01T23:40:00\",\"2017-06-01T23:50:00\",\"2017-06-02T00:00:00\",\"2017-06-02T00:10:00\",\"2017-06-02T00:20:00\",\"2017-06-02T00:30:00\",\"2017-06-02T00:40:00\",\"2017-06-02T00:50:00\",\"2017-06-02T01:00:00\",\"2017-06-02T01:10:00\",\"2017-06-02T01:20:00\",\"2017-06-02T01:30:00\",\"2017-06-02T01:40:00\",\"2017-06-02T01:50:00\",\"2017-06-02T02:00:00\",\"2017-06-02T02:10:00\",\"2017-06-02T02:20:00\",\"2017-06-02T02:30:00\",\"2017-06-02T02:40:00\",\"2017-06-02T02:50:00\",\"2017-06-02T03:00:00\",\"2017-06-02T03:10:00\",\"2017-06-02T03:20:00\",\"2017-06-02T03:30:00\",\"2017-06-02T03:40:00\",\"2017-06-02T03:50:00\",\"2017-06-02T04:00:00\",\"2017-06-02T04:10:00\",\"2017-06-02T04:20:00\",\"2017-06-02T04:30:00\",\"2017-06-02T04:40:00\",\"2017-06-02T04:50:00\",\"2017-06-02T05:00:00\",\"2017-06-02T05:10:00\",\"2017-06-02T05:20:00\",\"2017-06-02T05:30:00\",\"2017-06-02T05:40:00\",\"2017-06-02T05:50:00\",\"2017-06-02T06:00:00\",\"2017-06-02T06:10:00\",\"2017-06-02T06:20:00\",\"2017-06-02T06:30:00\",\"2017-06-02T06:40:00\",\"2017-06-02T06:50:00\",\"2017-06-02T07:00:00\",\"2017-06-02T07:10:00\",\"2017-06-02T07:20:00\",\"2017-06-02T07:30:00\",\"2017-06-02T07:40:00\",\"2017-06-02T07:50:00\",\"2017-06-02T08:00:00\",\"2017-06-02T08:10:00\",\"2017-06-02T08:20:00\",\"2017-06-02T08:30:00\",\"2017-06-02T08:40:00\",\"2017-06-02T08:50:00\",\"2017-06-02T09:00:00\",\"2017-06-02T09:10:00\",\"2017-06-02T09:20:00\",\"2017-06-02T09:30:00\",\"2017-06-02T09:40:00\",\"2017-06-02T09:50:00\",\"2017-06-02T10:00:00\",\"2017-06-02T10:10:00\",\"2017-06-02T10:20:00\",\"2017-06-02T10:30:00\",\"2017-06-02T10:40:00\",\"2017-06-02T10:50:00\",\"2017-06-02T11:00:00\",\"2017-06-02T11:10:00\",\"2017-06-02T11:20:00\",\"2017-06-02T11:30:00\",\"2017-06-02T11:40:00\",\"2017-06-02T11:50:00\",\"2017-06-02T12:00:00\",\"2017-06-02T12:10:00\",\"2017-06-02T12:20:00\",\"2017-06-02T12:30:00\",\"2017-06-02T12:40:00\",\"2017-06-02T12:50:00\",\"2017-06-02T13:00:00\",\"2017-06-02T13:10:00\",\"2017-06-02T13:20:00\",\"2017-06-02T13:30:00\",\"2017-06-02T13:40:00\",\"2017-06-02T13:50:00\",\"2017-06-02T14:00:00\",\"2017-06-02T14:10:00\"],\"y\":[0.0,0.0,0.0,0.0,0.0,0.0,0.0,0.0,0.0,0.0,0.0,0.0,0.0,0.0,0.0,0.0,0.0,0.0,0.0,0.0,0.0,0.0,0.0,0.0,0.0,0.0,0.0,0.0,0.0,0.0,0.0,0.0,0.0,0.0,0.0,0.0,0.0,0.0,0.0,0.0,0.0,0.0,0.0,0.0,0.0,0.0,0.0,0.0,0.0,0.0,0.0,0.0,0.0,0.0,0.0,0.0,0.0,0.0,0.0,0.0,0.0,0.0,0.0,0.0,0.0,0.0,0.0,0.0,0.0,0.0,0.0,0.0,0.0,0.1408764168302725,0.1408764168302725,0.1408764168302725,0.1408764168302725,0.1408764168302725,0.1408764168302725,0.1408764168302725,0.1408764168302725,0.1408764168302725,0.1408764168302725,0.1408764168302725,0.1408764168302725,0.1408764168302725,0.1408764168302725,0.1408764168302725,0.1408764168302725,0.1408764168302725,0.1408764168302725,0.1408764168302725,0.1408764168302725,0.1408764168302725,0.1408764168302725,0.1408764168302725,0.1408764168302725,0.1408764168302725,0.1408764168302725,0.1408764168302725,0.1408764168302725,0.1408764168302725,0.1408764168302725,0.1408764168302725,0.1408764168302725,0.1408764168302725,0.1408764168302725,0.1408764168302725,0.1408764168302725,0.1408764168302725,0.1408764168302725,0.1408764168302725,0.1408764168302725,0.1408764168302725,0.1408764168302725,0.1408764168302725,0.1408764168302725,0.1408764168302725,0.1408764168302725,0.1408764168302725,0.1408764168302725,0.1408764168302725,0.1408764168302725,0.1408764168302725,0.1408764168302725,0.1408764168302725,0.1408764168302725,0.1408764168302725,0.1408764168302725,0.1408764168302725,0.1408764168302725,0.3112198944315063,0.3112198944315063,0.3112198944315063,0.3112198944315063,0.3112198944315063,0.3112198944315063,0.3112198944315063,0.3112198944315063,0.3112198944315063,0.3112198944315063,0.3112198944315063,0.3112198944315063,0.3112198944315063,0.3112198944315063,0.3112198944315063,0.3112198944315063,0.3112198944315063,0.3112198944315063,0.3112198944315063,0.3112198944315063,0.3112198944315063,0.3112198944315063,0.3112198944315063,0.3112198944315063,0.3112198944315063,0.3112198944315063,0.3112198944315063,0.3112198944315063,0.3112198944315063,0.3112198944315063,0.3112198944315063,0.3112198944315063,0.3112198944315063,0.3112198944315063,0.3112198944315063,0.3112198944315063,0.3112198944315063,0.3112198944315063,0.3112198944315063,0.3112198944315063,0.3112198944315063,0.3112198944315063,0.3112198944315063,0.3112198944315063,0.3112198944315063,0.3112198944315063,0.3112198944315063,0.3112198944315063,0.3112198944315063,0.3112198944315063,0.3112198944315063,0.3112198944315063,0.3112198944315063,0.3112198944315063,0.3112198944315063,0.3112198944315063,0.3112198944315063,0.3112198944315063,0.3112198944315063,0.3112198944315063,0.3112198944315063,0.3112198944315063,0.3112198944315063,0.3112198944315063,0.3112198944315063,0.3112198944315063,0.3112198944315063,0.3112198944315063,0.3112198944315063,0.3112198944315063,0.3112198944315063,0.3112198944315063,0.3112198944315063,0.3112198944315063,0.3112198944315063,0.3112198944315063,0.3112198944315063,0.3112198944315063,0.3112198944315063,0.3112198944315063,0.3112198944315063,0.3112198944315063,0.3112198944315063,0.3112198944315063,0.3112198944315063,0.3112198944315063,0.5704382084151363,0.5704382084151363,0.5704382084151363,0.5704382084151363,0.5704382084151363,0.5704382084151363,0.5704382084151363,0.5704382084151363,0.5704382084151363,0.5704382084151363,0.5704382084151363,0.5704382084151363,0.5704382084151363,0.5704382084151363,0.5704382084151363,0.5704382084151363,0.5704382084151363,0.5704382084151363,0.5704382084151363,0.5704382084151363,0.5704382084151363,0.5704382084151363,0.5704382084151363,0.5704382084151363,0.5704382084151363,0.5704382084151363,0.5704382084151363,0.5704382084151363,0.5704382084151363,0.5704382084151363,0.5704382084151363,0.5704382084151363,0.5704382084151363,0.5704382084151363,0.5704382084151363,0.5704382084151363,0.5704382084151363,0.5704382084151363,0.5704382084151363,0.5704382084151363,0.5704382084151363,0.5704382084151363,0.5704382084151363,0.5704382084151363,0.5704382084151363,0.5704382084151363,0.5704382084151363,0.5704382084151363,0.5704382084151363,0.5704382084151363,0.5704382084151363,0.5704382084151363,0.5704382084151363,0.5704382084151363,0.5704382084151363,0.5704382084151363,0.7037504983044229,0.7037504983044229],\"type\":\"scatter\"},{\"hoverlabel\":{\"namelength\":-1},\"mode\":\"lines+markers\",\"name\":\"FV32_20170613\",\"x\":[\"2017-06-13T09:20:00\",\"2017-06-13T09:30:00\",\"2017-06-13T09:40:00\",\"2017-06-13T09:50:00\",\"2017-06-13T10:00:00\",\"2017-06-13T10:10:00\",\"2017-06-13T10:20:00\",\"2017-06-13T10:30:00\",\"2017-06-13T10:40:00\",\"2017-06-13T10:50:00\",\"2017-06-13T11:00:00\",\"2017-06-13T11:10:00\",\"2017-06-13T11:20:00\",\"2017-06-13T11:30:00\",\"2017-06-13T11:40:00\",\"2017-06-13T11:50:00\",\"2017-06-13T12:00:00\",\"2017-06-13T12:10:00\",\"2017-06-13T12:20:00\",\"2017-06-13T12:30:00\",\"2017-06-13T12:40:00\",\"2017-06-13T12:50:00\",\"2017-06-13T13:00:00\",\"2017-06-13T13:10:00\",\"2017-06-13T13:20:00\",\"2017-06-13T13:30:00\",\"2017-06-13T13:40:00\",\"2017-06-13T13:50:00\",\"2017-06-13T14:00:00\",\"2017-06-13T14:10:00\",\"2017-06-13T14:20:00\",\"2017-06-13T14:30:00\",\"2017-06-13T14:40:00\",\"2017-06-13T14:50:00\",\"2017-06-13T15:00:00\",\"2017-06-13T15:10:00\",\"2017-06-13T15:20:00\",\"2017-06-13T15:30:00\",\"2017-06-13T15:40:00\",\"2017-06-13T15:50:00\",\"2017-06-13T16:00:00\",\"2017-06-13T16:10:00\",\"2017-06-13T16:20:00\",\"2017-06-13T16:30:00\",\"2017-06-13T16:40:00\",\"2017-06-13T16:50:00\",\"2017-06-13T17:00:00\",\"2017-06-13T17:10:00\",\"2017-06-13T17:20:00\",\"2017-06-13T17:30:00\",\"2017-06-13T17:40:00\",\"2017-06-13T17:50:00\",\"2017-06-13T18:00:00\",\"2017-06-13T18:10:00\",\"2017-06-13T18:20:00\",\"2017-06-13T18:30:00\",\"2017-06-13T18:40:00\",\"2017-06-13T18:50:00\",\"2017-06-13T19:00:00\",\"2017-06-13T19:10:00\",\"2017-06-13T19:20:00\",\"2017-06-13T19:30:00\",\"2017-06-13T19:40:00\",\"2017-06-13T19:50:00\",\"2017-06-13T20:00:00\",\"2017-06-13T20:10:00\",\"2017-06-13T20:20:00\",\"2017-06-13T20:30:00\",\"2017-06-13T20:40:00\",\"2017-06-13T20:50:00\",\"2017-06-13T21:00:00\",\"2017-06-13T21:10:00\",\"2017-06-13T21:20:00\",\"2017-06-13T21:30:00\",\"2017-06-13T21:40:00\",\"2017-06-13T21:50:00\",\"2017-06-13T22:00:00\",\"2017-06-13T22:10:00\",\"2017-06-13T22:20:00\",\"2017-06-13T22:30:00\",\"2017-06-13T22:40:00\",\"2017-06-13T22:50:00\",\"2017-06-13T23:00:00\",\"2017-06-13T23:10:00\",\"2017-06-13T23:20:00\",\"2017-06-13T23:30:00\",\"2017-06-13T23:40:00\",\"2017-06-13T23:50:00\",\"2017-06-14T00:00:00\",\"2017-06-14T00:10:00\",\"2017-06-14T00:20:00\",\"2017-06-14T00:30:00\",\"2017-06-14T00:40:00\",\"2017-06-14T00:50:00\",\"2017-06-14T01:00:00\",\"2017-06-14T01:10:00\",\"2017-06-14T01:20:00\",\"2017-06-14T01:30:00\",\"2017-06-14T01:40:00\",\"2017-06-14T01:50:00\",\"2017-06-14T02:00:00\",\"2017-06-14T02:10:00\",\"2017-06-14T02:20:00\",\"2017-06-14T02:30:00\",\"2017-06-14T02:40:00\",\"2017-06-14T02:50:00\",\"2017-06-14T03:00:00\",\"2017-06-14T03:10:00\",\"2017-06-14T03:20:00\",\"2017-06-14T03:30:00\",\"2017-06-14T03:40:00\",\"2017-06-14T03:50:00\",\"2017-06-14T04:00:00\",\"2017-06-14T04:10:00\",\"2017-06-14T04:20:00\",\"2017-06-14T04:30:00\",\"2017-06-14T04:40:00\",\"2017-06-14T04:50:00\",\"2017-06-14T05:00:00\",\"2017-06-14T05:10:00\",\"2017-06-14T05:20:00\",\"2017-06-14T05:30:00\",\"2017-06-14T05:40:00\",\"2017-06-14T05:50:00\",\"2017-06-14T06:00:00\",\"2017-06-14T06:10:00\",\"2017-06-14T06:20:00\",\"2017-06-14T06:30:00\",\"2017-06-14T06:40:00\",\"2017-06-14T06:50:00\",\"2017-06-14T07:00:00\",\"2017-06-14T07:10:00\",\"2017-06-14T07:20:00\",\"2017-06-14T07:30:00\",\"2017-06-14T07:40:00\",\"2017-06-14T07:50:00\",\"2017-06-14T08:00:00\",\"2017-06-14T08:10:00\",\"2017-06-14T08:20:00\",\"2017-06-14T08:30:00\",\"2017-06-14T08:40:00\",\"2017-06-14T08:50:00\",\"2017-06-14T09:00:00\",\"2017-06-14T09:10:00\",\"2017-06-14T09:20:00\",\"2017-06-14T09:30:00\",\"2017-06-14T09:40:00\",\"2017-06-14T09:50:00\",\"2017-06-14T10:00:00\",\"2017-06-14T10:10:00\",\"2017-06-14T10:20:00\",\"2017-06-14T10:30:00\",\"2017-06-14T10:40:00\",\"2017-06-14T10:50:00\",\"2017-06-14T11:00:00\",\"2017-06-14T11:10:00\",\"2017-06-14T11:20:00\",\"2017-06-14T11:30:00\",\"2017-06-14T11:40:00\",\"2017-06-14T11:50:00\",\"2017-06-14T12:00:00\",\"2017-06-14T12:10:00\",\"2017-06-14T12:20:00\",\"2017-06-14T12:30:00\",\"2017-06-14T12:40:00\",\"2017-06-14T12:50:00\",\"2017-06-14T13:00:00\",\"2017-06-14T13:10:00\",\"2017-06-14T13:20:00\",\"2017-06-14T13:30:00\",\"2017-06-14T13:40:00\",\"2017-06-14T13:50:00\",\"2017-06-14T14:00:00\",\"2017-06-14T14:10:00\",\"2017-06-14T14:20:00\",\"2017-06-14T14:30:00\",\"2017-06-14T14:40:00\",\"2017-06-14T14:50:00\",\"2017-06-14T15:00:00\",\"2017-06-14T15:10:00\",\"2017-06-14T15:20:00\",\"2017-06-14T15:30:00\",\"2017-06-14T15:40:00\",\"2017-06-14T15:50:00\",\"2017-06-14T16:00:00\",\"2017-06-14T16:10:00\",\"2017-06-14T16:20:00\",\"2017-06-14T16:30:00\",\"2017-06-14T16:40:00\",\"2017-06-14T16:50:00\",\"2017-06-14T17:00:00\",\"2017-06-14T17:10:00\",\"2017-06-14T17:20:00\",\"2017-06-14T17:30:00\",\"2017-06-14T17:40:00\",\"2017-06-14T17:50:00\",\"2017-06-14T18:00:00\",\"2017-06-14T18:10:00\",\"2017-06-14T18:20:00\",\"2017-06-14T18:30:00\",\"2017-06-14T18:40:00\",\"2017-06-14T18:50:00\",\"2017-06-14T19:00:00\",\"2017-06-14T19:10:00\",\"2017-06-14T19:20:00\",\"2017-06-14T19:30:00\",\"2017-06-14T19:40:00\",\"2017-06-14T19:50:00\",\"2017-06-14T20:00:00\",\"2017-06-14T20:10:00\",\"2017-06-14T20:20:00\",\"2017-06-14T20:30:00\",\"2017-06-14T20:40:00\",\"2017-06-14T20:50:00\",\"2017-06-14T21:00:00\",\"2017-06-14T21:10:00\",\"2017-06-14T21:20:00\",\"2017-06-14T21:30:00\",\"2017-06-14T21:40:00\",\"2017-06-14T21:50:00\",\"2017-06-14T22:00:00\",\"2017-06-14T22:10:00\",\"2017-06-14T22:20:00\",\"2017-06-14T22:30:00\",\"2017-06-14T22:40:00\",\"2017-06-14T22:50:00\",\"2017-06-14T23:00:00\",\"2017-06-14T23:10:00\",\"2017-06-14T23:20:00\",\"2017-06-14T23:30:00\",\"2017-06-14T23:40:00\",\"2017-06-14T23:50:00\",\"2017-06-15T00:00:00\",\"2017-06-15T00:10:00\",\"2017-06-15T00:20:00\",\"2017-06-15T00:30:00\",\"2017-06-15T00:40:00\",\"2017-06-15T00:50:00\",\"2017-06-15T01:00:00\",\"2017-06-15T01:10:00\",\"2017-06-15T01:20:00\",\"2017-06-15T01:30:00\",\"2017-06-15T01:40:00\",\"2017-06-15T01:50:00\",\"2017-06-15T02:00:00\",\"2017-06-15T02:10:00\",\"2017-06-15T02:20:00\",\"2017-06-15T02:30:00\",\"2017-06-15T02:40:00\",\"2017-06-15T02:50:00\",\"2017-06-15T03:00:00\",\"2017-06-15T03:10:00\",\"2017-06-15T03:20:00\",\"2017-06-15T03:30:00\",\"2017-06-15T03:40:00\",\"2017-06-15T03:50:00\",\"2017-06-15T04:00:00\",\"2017-06-15T04:10:00\",\"2017-06-15T04:20:00\",\"2017-06-15T04:30:00\",\"2017-06-15T04:40:00\",\"2017-06-15T04:50:00\",\"2017-06-15T05:00:00\",\"2017-06-15T05:10:00\",\"2017-06-15T05:20:00\",\"2017-06-15T05:30:00\",\"2017-06-15T05:40:00\",\"2017-06-15T05:50:00\",\"2017-06-15T06:00:00\"],\"y\":[0.0,0.0,0.0,0.0,0.0,0.0,0.0,0.0,0.0,0.0,0.0,0.0,0.0,0.0,0.0,0.0,0.0,0.0,0.0,0.0,0.0,0.0,0.0,0.0,0.0,0.0,0.0,0.0,0.0,0.0596779611242106,0.0596779611242106,0.0596779611242106,0.0596779611242106,0.0596779611242106,0.0596779611242106,0.0596779611242106,0.0596779611242106,0.0596779611242106,0.0596779611242106,0.0596779611242106,0.0596779611242106,0.0596779611242106,0.0596779611242106,0.0596779611242106,0.0596779611242106,0.0596779611242106,0.0596779611242106,0.0596779611242106,0.0596779611242106,0.0596779611242106,0.0596779611242106,0.0596779611242106,0.0596779611242106,0.0596779611242106,0.0596779611242106,0.0596779611242106,0.0596779611242106,0.0596779611242106,0.0596779611242106,0.0596779611242106,0.0596779611242106,0.0596779611242106,0.0596779611242106,0.0596779611242106,0.0596779611242106,0.0596779611242106,0.0596779611242106,0.0596779611242106,0.0596779611242106,0.0596779611242106,0.0596779611242106,0.0596779611242106,0.0596779611242106,0.0596779611242106,0.0596779611242106,0.0596779611242106,0.0596779611242106,0.0596779611242106,0.0596779611242106,0.0596779611242106,0.0596779611242106,0.0596779611242106,0.0596779611242106,0.0596779611242106,0.0596779611242106,0.0596779611242106,0.0596779611242106,0.0596779611242106,0.0596779611242106,0.0596779611242106,0.0596779611242106,0.0596779611242106,0.0596779611242106,0.0596779611242106,0.0596779611242106,0.0596779611242106,0.0596779611242106,0.0596779611242106,0.0596779611242106,0.0596779611242106,0.0596779611242106,0.0596779611242106,0.0596779611242106,0.0596779611242106,0.0596779611242106,0.0596779611242106,0.0596779611242106,0.0596779611242106,0.0596779611242106,0.0596779611242106,0.0596779611242106,0.0596779611242106,0.0596779611242106,0.0596779611242106,0.0596779611242106,0.0596779611242106,0.0596779611242106,0.0596779611242106,0.0596779611242106,0.2743971418320714,0.2743971418320714,0.2743971418320714,0.2743971418320714,0.2743971418320714,0.2743971418320714,0.2743971418320714,0.2743971418320714,0.2743971418320714,0.2743971418320714,0.2743971418320714,0.2743971418320714,0.2743971418320714,0.2743971418320714,0.2743971418320714,0.2743971418320714,0.2743971418320714,0.2743971418320714,0.2743971418320714,0.2743971418320714,0.2743971418320714,0.2743971418320714,0.2743971418320714,0.2743971418320714,0.2743971418320714,0.2743971418320714,0.2743971418320714,0.2743971418320714,0.2743971418320714,0.2743971418320714,0.2743971418320714,0.2743971418320714,0.2743971418320714,0.2743971418320714,0.2743971418320714,0.2743971418320714,0.2743971418320714,0.2743971418320714,0.2743971418320714,0.2743971418320714,0.2743971418320714,0.2743971418320714,0.2743971418320714,0.2743971418320714,0.2743971418320714,0.2743971418320714,0.2743971418320714,0.2743971418320714,0.2743971418320714,0.2743971418320714,0.2743971418320714,0.2743971418320714,0.4298834938005924,0.4298834938005924,0.4298834938005924,0.4298834938005924,0.4298834938005924,0.4298834938005924,0.4298834938005924,0.4298834938005924,0.4298834938005924,0.4298834938005924,0.4298834938005924,0.4298834938005924,0.4298834938005924,0.4298834938005924,0.4298834938005924,0.4298834938005924,0.4298834938005924,0.4298834938005924,0.4298834938005924,0.4298834938005924,0.4298834938005924,0.4298834938005924,0.4298834938005924,0.4298834938005924,0.4298834938005924,0.4298834938005924,0.4298834938005924,0.4298834938005924,0.4298834938005924,0.4298834938005924,0.4298834938005924,0.4298834938005924,0.4298834938005924,0.4298834938005924,0.4298834938005924,0.4298834938005924,0.4298834938005924,0.4298834938005924,0.4298834938005924,0.4298834938005924,0.4298834938005924,0.4298834938005924,0.4298834938005924,0.4298834938005924,0.4298834938005924,0.4298834938005924,0.4298834938005924,0.4298834938005924,0.4298834938005924,0.4298834938005924,0.4298834938005924,0.4298834938005924,0.4298834938005924,0.4298834938005924,0.4298834938005924,0.4298834938005924,0.4298834938005924,0.4298834938005924,0.4298834938005924,0.4298834938005924,0.4298834938005924,0.4298834938005924,0.4298834938005924,0.4298834938005924,0.4298834938005924,0.4298834938005924,0.4298834938005924,0.4298834938005924,0.4298834938005924,0.4298834938005924,0.4298834938005924,0.4298834938005924,0.4298834938005924,0.4298834938005924,0.4298834938005924,0.4298834938005924,0.4298834938005924,0.4298834938005924,0.4298834938005924,0.4298834938005924,0.4298834938005924,0.4298834938005924,0.4298834938005924,0.4298834938005924,0.4298834938005924,0.4298834938005924,0.4298834938005924,0.4298834938005924,0.4298834938005924,0.4298834938005924,0.4298834938005924,0.4298834938005924,0.4298834938005924,0.4298834938005924,0.4298834938005924,0.4298834938005924,0.4298834938005924,0.7038355738588946],\"type\":\"scatter\"},{\"hoverlabel\":{\"namelength\":-1},\"mode\":\"lines+markers\",\"name\":\"FV32_20170920\",\"x\":[\"2017-09-20T23:00:00\",\"2017-09-20T23:10:00\",\"2017-09-20T23:20:00\",\"2017-09-20T23:30:00\",\"2017-09-20T23:40:00\",\"2017-09-20T23:50:00\",\"2017-09-21T00:00:00\",\"2017-09-21T00:10:00\",\"2017-09-21T00:20:00\",\"2017-09-21T00:30:00\",\"2017-09-21T00:40:00\",\"2017-09-21T00:50:00\",\"2017-09-21T01:00:00\",\"2017-09-21T01:10:00\",\"2017-09-21T01:20:00\",\"2017-09-21T01:30:00\",\"2017-09-21T01:40:00\",\"2017-09-21T01:50:00\",\"2017-09-21T02:00:00\",\"2017-09-21T02:10:00\",\"2017-09-21T02:20:00\",\"2017-09-21T02:30:00\",\"2017-09-21T02:40:00\",\"2017-09-21T02:50:00\",\"2017-09-21T03:00:00\",\"2017-09-21T03:10:00\",\"2017-09-21T03:20:00\",\"2017-09-21T03:30:00\",\"2017-09-21T03:40:00\",\"2017-09-21T03:50:00\",\"2017-09-21T04:00:00\",\"2017-09-21T04:10:00\",\"2017-09-21T04:20:00\",\"2017-09-21T04:30:00\",\"2017-09-21T04:40:00\",\"2017-09-21T04:50:00\",\"2017-09-21T05:00:00\",\"2017-09-21T05:10:00\",\"2017-09-21T05:20:00\",\"2017-09-21T05:30:00\",\"2017-09-21T05:40:00\",\"2017-09-21T05:50:00\",\"2017-09-21T06:00:00\",\"2017-09-21T06:10:00\",\"2017-09-21T06:20:00\",\"2017-09-21T06:30:00\",\"2017-09-21T06:40:00\",\"2017-09-21T06:50:00\",\"2017-09-21T07:00:00\",\"2017-09-21T07:10:00\",\"2017-09-21T07:20:00\",\"2017-09-21T07:30:00\",\"2017-09-21T07:40:00\",\"2017-09-21T07:50:00\",\"2017-09-21T08:00:00\",\"2017-09-21T08:10:00\",\"2017-09-21T08:20:00\",\"2017-09-21T08:30:00\",\"2017-09-21T08:40:00\",\"2017-09-21T08:50:00\",\"2017-09-21T09:00:00\",\"2017-09-21T09:10:00\",\"2017-09-21T09:20:00\",\"2017-09-21T09:30:00\",\"2017-09-21T09:40:00\",\"2017-09-21T09:50:00\",\"2017-09-21T10:00:00\",\"2017-09-21T10:10:00\",\"2017-09-21T10:20:00\",\"2017-09-21T10:30:00\",\"2017-09-21T10:40:00\",\"2017-09-21T10:50:00\",\"2017-09-21T11:00:00\",\"2017-09-21T11:10:00\",\"2017-09-21T11:20:00\",\"2017-09-21T11:30:00\",\"2017-09-21T11:40:00\",\"2017-09-21T11:50:00\",\"2017-09-21T12:00:00\",\"2017-09-21T12:10:00\",\"2017-09-21T12:20:00\",\"2017-09-21T12:30:00\",\"2017-09-21T12:40:00\",\"2017-09-21T12:50:00\",\"2017-09-21T13:00:00\",\"2017-09-21T13:10:00\",\"2017-09-21T13:20:00\",\"2017-09-21T13:30:00\",\"2017-09-21T13:40:00\",\"2017-09-21T13:50:00\",\"2017-09-21T14:00:00\",\"2017-09-21T14:10:00\",\"2017-09-21T14:20:00\",\"2017-09-21T14:30:00\",\"2017-09-21T14:40:00\",\"2017-09-21T14:50:00\",\"2017-09-21T15:00:00\",\"2017-09-21T15:10:00\",\"2017-09-21T15:20:00\",\"2017-09-21T15:30:00\",\"2017-09-21T15:40:00\",\"2017-09-21T15:50:00\",\"2017-09-21T16:00:00\",\"2017-09-21T16:10:00\",\"2017-09-21T16:20:00\",\"2017-09-21T16:30:00\",\"2017-09-21T16:40:00\",\"2017-09-21T16:50:00\",\"2017-09-21T17:00:00\",\"2017-09-21T17:10:00\",\"2017-09-21T17:20:00\",\"2017-09-21T17:30:00\",\"2017-09-21T17:40:00\",\"2017-09-21T17:50:00\",\"2017-09-21T18:00:00\",\"2017-09-21T18:10:00\",\"2017-09-21T18:20:00\",\"2017-09-21T18:30:00\",\"2017-09-21T18:40:00\",\"2017-09-21T18:50:00\",\"2017-09-21T19:00:00\",\"2017-09-21T19:10:00\",\"2017-09-21T19:20:00\",\"2017-09-21T19:30:00\",\"2017-09-21T19:40:00\",\"2017-09-21T19:50:00\",\"2017-09-21T20:00:00\",\"2017-09-21T20:10:00\",\"2017-09-21T20:20:00\",\"2017-09-21T20:30:00\",\"2017-09-21T20:40:00\",\"2017-09-21T20:50:00\",\"2017-09-21T21:00:00\",\"2017-09-21T21:10:00\",\"2017-09-21T21:20:00\",\"2017-09-21T21:30:00\",\"2017-09-21T21:40:00\",\"2017-09-21T21:50:00\",\"2017-09-21T22:00:00\",\"2017-09-21T22:10:00\",\"2017-09-21T22:20:00\",\"2017-09-21T22:30:00\",\"2017-09-21T22:40:00\",\"2017-09-21T22:50:00\",\"2017-09-21T23:00:00\",\"2017-09-21T23:10:00\",\"2017-09-21T23:20:00\",\"2017-09-21T23:30:00\",\"2017-09-21T23:40:00\",\"2017-09-21T23:50:00\",\"2017-09-22T00:00:00\",\"2017-09-22T00:10:00\",\"2017-09-22T00:20:00\",\"2017-09-22T00:30:00\",\"2017-09-22T00:40:00\",\"2017-09-22T00:50:00\",\"2017-09-22T01:00:00\",\"2017-09-22T01:10:00\",\"2017-09-22T01:20:00\",\"2017-09-22T01:30:00\",\"2017-09-22T01:40:00\",\"2017-09-22T01:50:00\",\"2017-09-22T02:00:00\",\"2017-09-22T02:10:00\",\"2017-09-22T02:20:00\",\"2017-09-22T02:30:00\",\"2017-09-22T02:40:00\",\"2017-09-22T02:50:00\",\"2017-09-22T03:00:00\",\"2017-09-22T03:10:00\",\"2017-09-22T03:20:00\",\"2017-09-22T03:30:00\",\"2017-09-22T03:40:00\",\"2017-09-22T03:50:00\",\"2017-09-22T04:00:00\",\"2017-09-22T04:10:00\",\"2017-09-22T04:20:00\",\"2017-09-22T04:30:00\",\"2017-09-22T04:40:00\",\"2017-09-22T04:50:00\",\"2017-09-22T05:00:00\",\"2017-09-22T05:10:00\",\"2017-09-22T05:20:00\",\"2017-09-22T05:30:00\",\"2017-09-22T05:40:00\",\"2017-09-22T05:50:00\",\"2017-09-22T06:00:00\",\"2017-09-22T06:10:00\",\"2017-09-22T06:20:00\",\"2017-09-22T06:30:00\",\"2017-09-22T06:40:00\",\"2017-09-22T06:50:00\",\"2017-09-22T07:00:00\",\"2017-09-22T07:10:00\",\"2017-09-22T07:20:00\",\"2017-09-22T07:30:00\",\"2017-09-22T07:40:00\",\"2017-09-22T07:50:00\",\"2017-09-22T08:00:00\",\"2017-09-22T08:10:00\",\"2017-09-22T08:20:00\",\"2017-09-22T08:30:00\",\"2017-09-22T08:40:00\",\"2017-09-22T08:50:00\",\"2017-09-22T09:00:00\",\"2017-09-22T09:10:00\",\"2017-09-22T09:20:00\",\"2017-09-22T09:30:00\",\"2017-09-22T09:40:00\",\"2017-09-22T09:50:00\",\"2017-09-22T10:00:00\",\"2017-09-22T10:10:00\",\"2017-09-22T10:20:00\",\"2017-09-22T10:30:00\",\"2017-09-22T10:40:00\",\"2017-09-22T10:50:00\",\"2017-09-22T11:00:00\",\"2017-09-22T11:10:00\",\"2017-09-22T11:20:00\",\"2017-09-22T11:30:00\",\"2017-09-22T11:40:00\",\"2017-09-22T11:50:00\",\"2017-09-22T12:00:00\",\"2017-09-22T12:10:00\",\"2017-09-22T12:20:00\",\"2017-09-22T12:30:00\",\"2017-09-22T12:40:00\",\"2017-09-22T12:50:00\",\"2017-09-22T13:00:00\",\"2017-09-22T13:10:00\",\"2017-09-22T13:20:00\",\"2017-09-22T13:30:00\",\"2017-09-22T13:40:00\",\"2017-09-22T13:50:00\",\"2017-09-22T14:00:00\",\"2017-09-22T14:10:00\",\"2017-09-22T14:20:00\",\"2017-09-22T14:30:00\",\"2017-09-22T14:40:00\",\"2017-09-22T14:50:00\",\"2017-09-22T15:00:00\",\"2017-09-22T15:10:00\",\"2017-09-22T15:20:00\",\"2017-09-22T15:30:00\",\"2017-09-22T15:40:00\",\"2017-09-22T15:50:00\",\"2017-09-22T16:00:00\",\"2017-09-22T16:10:00\",\"2017-09-22T16:20:00\",\"2017-09-22T16:30:00\",\"2017-09-22T16:40:00\",\"2017-09-22T16:50:00\",\"2017-09-22T17:00:00\",\"2017-09-22T17:10:00\",\"2017-09-22T17:20:00\",\"2017-09-22T17:30:00\",\"2017-09-22T17:40:00\",\"2017-09-22T17:50:00\",\"2017-09-22T18:00:00\",\"2017-09-22T18:10:00\",\"2017-09-22T18:20:00\",\"2017-09-22T18:30:00\",\"2017-09-22T18:40:00\",\"2017-09-22T18:50:00\"],\"y\":[0.0,0.0,0.0,0.0,0.0,0.0,0.0,0.0,0.0,0.0,0.0,0.0,0.0,0.0,0.0,0.0,0.0,0.0,0.0,0.0,0.0,0.0,0.0,0.0,0.0,0.0,0.0,0.0,0.0,0.0,0.0,0.0,0.0,0.0,0.0672140888178861,0.0672140888178861,0.0672140888178861,0.0672140888178861,0.0672140888178861,0.0672140888178861,0.0672140888178861,0.0672140888178861,0.0672140888178861,0.0672140888178861,0.0672140888178861,0.0672140888178861,0.0672140888178861,0.0672140888178861,0.0672140888178861,0.0672140888178861,0.0672140888178861,0.0672140888178861,0.0672140888178861,0.0672140888178861,0.0672140888178861,0.0672140888178861,0.0672140888178861,0.0672140888178861,0.0672140888178861,0.0672140888178861,0.0672140888178861,0.0672140888178861,0.0672140888178861,0.0672140888178861,0.0672140888178861,0.0672140888178861,0.0672140888178861,0.0672140888178861,0.0672140888178861,0.0672140888178861,0.0672140888178861,0.0672140888178861,0.0672140888178861,0.0672140888178861,0.0672140888178861,0.0672140888178861,0.0672140888178861,0.0672140888178861,0.0672140888178861,0.0672140888178861,0.0672140888178861,0.0672140888178861,0.0672140888178861,0.0672140888178861,0.0672140888178861,0.0672140888178861,0.0672140888178861,0.0672140888178861,0.0672140888178861,0.0672140888178861,0.0672140888178861,0.2078723198761035,0.2078723198761035,0.2078723198761035,0.2078723198761035,0.2078723198761035,0.2078723198761035,0.2078723198761035,0.2078723198761035,0.2078723198761035,0.2078723198761035,0.2078723198761035,0.2078723198761035,0.2078723198761035,0.2078723198761035,0.2078723198761035,0.2078723198761035,0.2078723198761035,0.2078723198761035,0.2078723198761035,0.2078723198761035,0.2078723198761035,0.2078723198761035,0.2078723198761035,0.2078723198761035,0.2078723198761035,0.2078723198761035,0.2078723198761035,0.2078723198761035,0.2078723198761035,0.2078723198761035,0.2078723198761035,0.2078723198761035,0.2078723198761035,0.2078723198761035,0.2078723198761035,0.2078723198761035,0.2078723198761035,0.2078723198761035,0.2078723198761035,0.2078723198761035,0.2078723198761035,0.2078723198761035,0.2078723198761035,0.2078723198761035,0.2078723198761035,0.2078723198761035,0.2078723198761035,0.2078723198761035,0.2078723198761035,0.2078723198761035,0.2078723198761035,0.2078723198761035,0.2078723198761035,0.2078723198761035,0.2078723198761035,0.2078723198761035,0.2078723198761035,0.2078723198761035,0.2078723198761035,0.2078723198761035,0.2078723198761035,0.2078723198761035,0.2078723198761035,0.2078723198761035,0.2078723198761035,0.2078723198761035,0.2078723198761035,0.2078723198761035,0.2078723198761035,0.2078723198761035,0.2078723198761035,0.2078723198761035,0.2078723198761035,0.2078723198761035,0.422561105963506,0.422561105963506,0.422561105963506,0.422561105963506,0.422561105963506,0.422561105963506,0.422561105963506,0.422561105963506,0.422561105963506,0.422561105963506,0.422561105963506,0.422561105963506,0.422561105963506,0.422561105963506,0.422561105963506,0.422561105963506,0.422561105963506,0.422561105963506,0.422561105963506,0.422561105963506,0.422561105963506,0.422561105963506,0.422561105963506,0.422561105963506,0.422561105963506,0.422561105963506,0.422561105963506,0.422561105963506,0.422561105963506,0.422561105963506,0.422561105963506,0.422561105963506,0.422561105963506,0.422561105963506,0.422561105963506,0.422561105963506,0.422561105963506,0.422561105963506,0.422561105963506,0.422561105963506,0.422561105963506,0.422561105963506,0.422561105963506,0.422561105963506,0.422561105963506,0.422561105963506,0.422561105963506,0.422561105963506,0.422561105963506,0.422561105963506,0.422561105963506,0.422561105963506,0.422561105963506,0.422561105963506,0.422561105963506,0.422561105963506,0.422561105963506,0.422561105963506,0.422561105963506,0.422561105963506,0.422561105963506,0.422561105963506,0.422561105963506,0.422561105963506,0.422561105963506,0.422561105963506,0.422561105963506,0.422561105963506,0.422561105963506,0.422561105963506,0.422561105963506,0.422561105963506,0.422561105963506,0.422561105963506,0.422561105963506,0.422561105963506,0.422561105963506,0.422561105963506,0.422561105963506,0.422561105963506,0.422561105963506,0.422561105963506,0.6076376700392344,0.6076376700392344,0.6076376700392344,0.6076376700392344,0.6076376700392344,0.6076376700392344,0.6076376700392344,0.6076376700392344,0.6076376700392344,0.6076376700392344,0.6076376700392344,0.6076376700392344,0.6076376700392344,0.6076376700392344,0.6076376700392344,0.6076376700392344,0.6076376700392344],\"type\":\"scatter\"},{\"hoverlabel\":{\"namelength\":-1},\"mode\":\"lines+markers\",\"name\":\"FV32_20171029\",\"x\":[\"2017-10-29T20:00:00\",\"2017-10-29T20:10:00\",\"2017-10-29T20:20:00\",\"2017-10-29T20:30:00\",\"2017-10-29T20:40:00\",\"2017-10-29T20:50:00\",\"2017-10-29T21:00:00\",\"2017-10-29T21:10:00\",\"2017-10-29T21:20:00\",\"2017-10-29T21:30:00\",\"2017-10-29T21:40:00\",\"2017-10-29T21:50:00\",\"2017-10-29T22:00:00\",\"2017-10-29T22:10:00\",\"2017-10-29T22:20:00\",\"2017-10-29T22:30:00\",\"2017-10-29T22:40:00\",\"2017-10-29T22:50:00\",\"2017-10-29T23:00:00\",\"2017-10-29T23:10:00\",\"2017-10-29T23:20:00\",\"2017-10-29T23:30:00\",\"2017-10-29T23:40:00\",\"2017-10-29T23:50:00\",\"2017-10-30T00:00:00\",\"2017-10-30T00:10:00\",\"2017-10-30T00:20:00\",\"2017-10-30T00:30:00\",\"2017-10-30T00:40:00\",\"2017-10-30T00:50:00\",\"2017-10-30T01:00:00\",\"2017-10-30T01:10:00\",\"2017-10-30T01:20:00\",\"2017-10-30T01:30:00\",\"2017-10-30T01:40:00\",\"2017-10-30T01:50:00\",\"2017-10-30T02:00:00\",\"2017-10-30T02:10:00\",\"2017-10-30T02:20:00\",\"2017-10-30T02:30:00\",\"2017-10-30T02:40:00\",\"2017-10-30T02:50:00\",\"2017-10-30T03:00:00\",\"2017-10-30T03:10:00\",\"2017-10-30T03:20:00\",\"2017-10-30T03:30:00\",\"2017-10-30T03:40:00\",\"2017-10-30T03:50:00\",\"2017-10-30T04:00:00\",\"2017-10-30T04:10:00\",\"2017-10-30T04:20:00\",\"2017-10-30T04:30:00\",\"2017-10-30T04:40:00\",\"2017-10-30T04:50:00\",\"2017-10-30T05:00:00\",\"2017-10-30T05:10:00\",\"2017-10-30T05:20:00\",\"2017-10-30T05:30:00\",\"2017-10-30T05:40:00\",\"2017-10-30T05:50:00\",\"2017-10-30T06:00:00\",\"2017-10-30T06:10:00\",\"2017-10-30T06:20:00\",\"2017-10-30T06:30:00\",\"2017-10-30T06:40:00\",\"2017-10-30T06:50:00\",\"2017-10-30T07:00:00\",\"2017-10-30T07:10:00\",\"2017-10-30T07:20:00\",\"2017-10-30T07:30:00\",\"2017-10-30T07:40:00\",\"2017-10-30T07:50:00\",\"2017-10-30T08:00:00\",\"2017-10-30T08:10:00\",\"2017-10-30T08:20:00\",\"2017-10-30T08:30:00\",\"2017-10-30T08:40:00\",\"2017-10-30T08:50:00\",\"2017-10-30T09:00:00\",\"2017-10-30T09:10:00\",\"2017-10-30T09:20:00\",\"2017-10-30T09:30:00\",\"2017-10-30T09:40:00\",\"2017-10-30T09:50:00\",\"2017-10-30T10:00:00\",\"2017-10-30T10:10:00\",\"2017-10-30T10:20:00\",\"2017-10-30T10:30:00\",\"2017-10-30T10:40:00\",\"2017-10-30T10:50:00\",\"2017-10-30T11:00:00\",\"2017-10-30T11:10:00\",\"2017-10-30T11:20:00\",\"2017-10-30T11:30:00\",\"2017-10-30T11:40:00\",\"2017-10-30T11:50:00\",\"2017-10-30T12:00:00\",\"2017-10-30T12:10:00\",\"2017-10-30T12:20:00\",\"2017-10-30T12:30:00\",\"2017-10-30T12:40:00\",\"2017-10-30T12:50:00\",\"2017-10-30T13:00:00\",\"2017-10-30T13:10:00\",\"2017-10-30T13:20:00\",\"2017-10-30T13:30:00\",\"2017-10-30T13:40:00\",\"2017-10-30T13:50:00\",\"2017-10-30T14:00:00\",\"2017-10-30T14:10:00\",\"2017-10-30T14:20:00\",\"2017-10-30T14:30:00\",\"2017-10-30T14:40:00\",\"2017-10-30T14:50:00\",\"2017-10-30T15:00:00\",\"2017-10-30T15:10:00\",\"2017-10-30T15:20:00\",\"2017-10-30T15:30:00\",\"2017-10-30T15:40:00\",\"2017-10-30T15:50:00\",\"2017-10-30T16:00:00\",\"2017-10-30T16:10:00\",\"2017-10-30T16:20:00\",\"2017-10-30T16:30:00\",\"2017-10-30T16:40:00\",\"2017-10-30T16:50:00\",\"2017-10-30T17:00:00\",\"2017-10-30T17:10:00\",\"2017-10-30T17:20:00\",\"2017-10-30T17:30:00\",\"2017-10-30T17:40:00\",\"2017-10-30T17:50:00\",\"2017-10-30T18:00:00\",\"2017-10-30T18:10:00\",\"2017-10-30T18:20:00\",\"2017-10-30T18:30:00\",\"2017-10-30T18:40:00\",\"2017-10-30T18:50:00\",\"2017-10-30T19:00:00\",\"2017-10-30T19:10:00\",\"2017-10-30T19:20:00\",\"2017-10-30T19:30:00\",\"2017-10-30T19:40:00\",\"2017-10-30T19:50:00\",\"2017-10-30T20:00:00\",\"2017-10-30T20:10:00\",\"2017-10-30T20:20:00\",\"2017-10-30T20:30:00\",\"2017-10-30T20:40:00\",\"2017-10-30T20:50:00\",\"2017-10-30T21:00:00\",\"2017-10-30T21:10:00\",\"2017-10-30T21:20:00\",\"2017-10-30T21:30:00\",\"2017-10-30T21:40:00\",\"2017-10-30T21:50:00\",\"2017-10-30T22:00:00\",\"2017-10-30T22:10:00\",\"2017-10-30T22:20:00\",\"2017-10-30T22:30:00\",\"2017-10-30T22:40:00\",\"2017-10-30T22:50:00\",\"2017-10-30T23:00:00\",\"2017-10-30T23:10:00\",\"2017-10-30T23:20:00\",\"2017-10-30T23:30:00\",\"2017-10-30T23:40:00\",\"2017-10-30T23:50:00\",\"2017-10-31T00:00:00\",\"2017-10-31T00:10:00\",\"2017-10-31T00:20:00\",\"2017-10-31T00:30:00\",\"2017-10-31T00:40:00\",\"2017-10-31T00:50:00\",\"2017-10-31T01:00:00\",\"2017-10-31T01:10:00\",\"2017-10-31T01:20:00\",\"2017-10-31T01:30:00\",\"2017-10-31T01:40:00\",\"2017-10-31T01:50:00\",\"2017-10-31T02:00:00\",\"2017-10-31T02:10:00\",\"2017-10-31T02:20:00\",\"2017-10-31T02:30:00\",\"2017-10-31T02:40:00\",\"2017-10-31T02:50:00\",\"2017-10-31T03:00:00\",\"2017-10-31T03:10:00\",\"2017-10-31T03:20:00\",\"2017-10-31T03:30:00\",\"2017-10-31T03:40:00\",\"2017-10-31T03:50:00\",\"2017-10-31T04:00:00\",\"2017-10-31T04:10:00\",\"2017-10-31T04:20:00\",\"2017-10-31T04:30:00\",\"2017-10-31T04:40:00\",\"2017-10-31T04:50:00\",\"2017-10-31T05:00:00\",\"2017-10-31T05:10:00\",\"2017-10-31T05:20:00\",\"2017-10-31T05:30:00\",\"2017-10-31T05:40:00\",\"2017-10-31T05:50:00\",\"2017-10-31T06:00:00\",\"2017-10-31T06:10:00\",\"2017-10-31T06:20:00\",\"2017-10-31T06:30:00\",\"2017-10-31T06:40:00\",\"2017-10-31T06:50:00\",\"2017-10-31T07:00:00\",\"2017-10-31T07:10:00\",\"2017-10-31T07:20:00\",\"2017-10-31T07:30:00\",\"2017-10-31T07:40:00\",\"2017-10-31T07:50:00\",\"2017-10-31T08:00:00\",\"2017-10-31T08:10:00\",\"2017-10-31T08:20:00\",\"2017-10-31T08:30:00\",\"2017-10-31T08:40:00\",\"2017-10-31T08:50:00\",\"2017-10-31T09:00:00\",\"2017-10-31T09:10:00\",\"2017-10-31T09:20:00\",\"2017-10-31T09:30:00\",\"2017-10-31T09:40:00\",\"2017-10-31T09:50:00\",\"2017-10-31T10:00:00\",\"2017-10-31T10:10:00\",\"2017-10-31T10:20:00\",\"2017-10-31T10:30:00\",\"2017-10-31T10:40:00\",\"2017-10-31T10:50:00\",\"2017-10-31T11:00:00\",\"2017-10-31T11:10:00\",\"2017-10-31T11:20:00\",\"2017-10-31T11:30:00\",\"2017-10-31T11:40:00\",\"2017-10-31T11:50:00\",\"2017-10-31T12:00:00\",\"2017-10-31T12:10:00\",\"2017-10-31T12:20:00\",\"2017-10-31T12:30:00\",\"2017-10-31T12:40:00\",\"2017-10-31T12:50:00\",\"2017-10-31T13:00:00\",\"2017-10-31T13:10:00\",\"2017-10-31T13:20:00\",\"2017-10-31T13:30:00\",\"2017-10-31T13:40:00\",\"2017-10-31T13:50:00\",\"2017-10-31T14:00:00\",\"2017-10-31T14:10:00\",\"2017-10-31T14:20:00\",\"2017-10-31T14:30:00\",\"2017-10-31T14:40:00\",\"2017-10-31T14:50:00\",\"2017-10-31T15:00:00\",\"2017-10-31T15:10:00\",\"2017-10-31T15:20:00\",\"2017-10-31T15:30:00\",\"2017-10-31T15:40:00\",\"2017-10-31T15:50:00\"],\"y\":[0.0,0.0,0.0,0.0,0.0,0.0,0.0,0.0,0.0,0.0,0.0,0.0,0.0,0.0,0.0,0.0,0.0,0.0,0.0,0.0,0.0,0.0,0.0,0.0,0.0,0.0,0.0,0.0,0.0,0.0,0.0,0.0,0.0,0.0,0.0,0.0,0.0,0.0,0.0,0.0,0.0,0.0,0.0,0.0,0.0,0.0,0.0,0.0,0.0,0.0,0.0,0.0,0.0,0.0,0.0,0.0,0.0,0.0,0.0,0.0,0.0,0.0,0.0,0.0,0.0,0.0,0.0,0.0,0.0,0.0,0.0,0.0,0.0,0.0,0.0,0.0,0.0,0.0,0.0,0.0,0.0,0.0,0.0,0.0,0.0,0.0,0.0,0.0,0.0,0.0,0.0,0.0,0.0,0.0,0.0,0.0,0.0,0.0,0.0,0.0,0.0,0.0,0.0,0.0,0.0,0.0,0.0,0.0,0.0,0.0,0.0,0.0,0.0,0.0,0.0,0.0,0.0,0.0,0.0,0.0,0.0,0.0,0.0,0.0,0.0,0.0,0.0,0.0,0.0,0.0,0.0,0.0,0.0,0.0,0.0,0.0,0.0,0.0,0.0,0.0,0.0,0.0,0.0,0.0,0.0,0.0,0.0,0.0,0.0,0.0,0.0,0.0,0.0,0.0,0.0,0.0,0.0,0.0,0.0,0.0,0.0,0.0,0.0,0.0,0.0,0.0,0.0,0.0,0.0,0.0,0.0,0.0,0.0,0.0,0.0,0.0,0.0,0.0,0.0,0.0,0.0,0.0,0.0,0.0,0.0,0.0,0.0,0.0,0.0,0.0,0.0,0.0,0.0,0.0,0.0,0.0,0.0,0.0,0.0,0.0,0.0,0.0,0.0,0.0,0.0,0.0,0.0,0.0,0.0,0.0,0.0,0.0,0.0,0.0,0.0,0.0,0.0,0.0,0.0,0.0,0.0,0.0,0.0,0.0,0.0,0.0,0.0,0.0,0.0,0.0,0.0,0.0,0.0,0.0,0.0,0.0,0.0,0.0,0.0,0.0,0.0,0.0,0.0,0.0,0.0,0.0,0.0,0.0,0.0,0.0,0.0,0.0,0.0,0.0,0.0,0.0,0.0,0.0,0.0,0.0,0.0,0.0,0.0,0.0],\"type\":\"scatter\"},{\"hoverlabel\":{\"namelength\":-1},\"mode\":\"lines+markers\",\"name\":\"FV32_20180106\",\"x\":[\"2018-01-06T10:30:00\",\"2018-01-06T10:40:00\",\"2018-01-06T10:50:00\",\"2018-01-06T11:00:00\",\"2018-01-06T11:10:00\",\"2018-01-06T11:20:00\",\"2018-01-06T11:30:00\",\"2018-01-06T11:40:00\",\"2018-01-06T11:50:00\",\"2018-01-06T12:00:00\",\"2018-01-06T12:10:00\",\"2018-01-06T12:20:00\",\"2018-01-06T12:30:00\",\"2018-01-06T12:40:00\",\"2018-01-06T12:50:00\",\"2018-01-06T13:00:00\",\"2018-01-06T13:10:00\",\"2018-01-06T13:20:00\",\"2018-01-06T13:30:00\",\"2018-01-06T13:40:00\",\"2018-01-06T13:50:00\",\"2018-01-06T14:00:00\",\"2018-01-06T14:10:00\",\"2018-01-06T14:20:00\",\"2018-01-06T14:30:00\",\"2018-01-06T14:40:00\",\"2018-01-06T14:50:00\",\"2018-01-06T15:00:00\",\"2018-01-06T15:10:00\",\"2018-01-06T15:20:00\",\"2018-01-06T15:30:00\",\"2018-01-06T15:40:00\",\"2018-01-06T15:50:00\",\"2018-01-06T16:00:00\",\"2018-01-06T16:10:00\",\"2018-01-06T16:20:00\",\"2018-01-06T16:30:00\",\"2018-01-06T16:40:00\",\"2018-01-06T16:50:00\",\"2018-01-06T17:00:00\",\"2018-01-06T17:10:00\",\"2018-01-06T17:20:00\",\"2018-01-06T17:30:00\",\"2018-01-06T17:40:00\",\"2018-01-06T17:50:00\",\"2018-01-06T18:00:00\",\"2018-01-06T18:10:00\",\"2018-01-06T18:20:00\",\"2018-01-06T18:30:00\",\"2018-01-06T18:40:00\",\"2018-01-06T18:50:00\",\"2018-01-06T19:00:00\",\"2018-01-06T19:10:00\",\"2018-01-06T19:20:00\",\"2018-01-06T19:30:00\",\"2018-01-06T19:40:00\",\"2018-01-06T19:50:00\",\"2018-01-06T20:00:00\",\"2018-01-06T20:10:00\",\"2018-01-06T20:20:00\",\"2018-01-06T20:30:00\",\"2018-01-06T20:40:00\",\"2018-01-06T20:50:00\",\"2018-01-06T21:00:00\",\"2018-01-06T21:10:00\",\"2018-01-06T21:20:00\",\"2018-01-06T21:30:00\",\"2018-01-06T21:40:00\",\"2018-01-06T21:50:00\",\"2018-01-06T22:00:00\",\"2018-01-06T22:10:00\",\"2018-01-06T22:20:00\",\"2018-01-06T22:30:00\",\"2018-01-06T22:40:00\",\"2018-01-06T22:50:00\",\"2018-01-06T23:00:00\",\"2018-01-06T23:10:00\",\"2018-01-06T23:20:00\",\"2018-01-06T23:30:00\",\"2018-01-06T23:40:00\",\"2018-01-06T23:50:00\",\"2018-01-07T00:00:00\",\"2018-01-07T00:10:00\",\"2018-01-07T00:20:00\",\"2018-01-07T00:30:00\",\"2018-01-07T00:40:00\",\"2018-01-07T00:50:00\",\"2018-01-07T01:00:00\",\"2018-01-07T01:10:00\",\"2018-01-07T01:20:00\",\"2018-01-07T01:30:00\",\"2018-01-07T01:40:00\",\"2018-01-07T01:50:00\",\"2018-01-07T02:00:00\",\"2018-01-07T02:10:00\",\"2018-01-07T02:20:00\",\"2018-01-07T02:30:00\",\"2018-01-07T02:40:00\",\"2018-01-07T02:50:00\",\"2018-01-07T03:00:00\",\"2018-01-07T03:10:00\",\"2018-01-07T03:20:00\",\"2018-01-07T03:30:00\",\"2018-01-07T03:40:00\",\"2018-01-07T03:50:00\",\"2018-01-07T04:00:00\",\"2018-01-07T04:10:00\",\"2018-01-07T04:20:00\",\"2018-01-07T04:30:00\",\"2018-01-07T04:40:00\",\"2018-01-07T04:50:00\",\"2018-01-07T05:00:00\",\"2018-01-07T05:10:00\",\"2018-01-07T05:20:00\",\"2018-01-07T05:30:00\",\"2018-01-07T05:40:00\",\"2018-01-07T05:50:00\",\"2018-01-07T06:00:00\",\"2018-01-07T06:10:00\",\"2018-01-07T06:20:00\",\"2018-01-07T06:30:00\",\"2018-01-07T06:40:00\",\"2018-01-07T06:50:00\",\"2018-01-07T07:00:00\",\"2018-01-07T07:10:00\",\"2018-01-07T07:20:00\",\"2018-01-07T07:30:00\",\"2018-01-07T07:40:00\",\"2018-01-07T07:50:00\",\"2018-01-07T08:00:00\",\"2018-01-07T08:10:00\",\"2018-01-07T08:20:00\",\"2018-01-07T08:30:00\",\"2018-01-07T08:40:00\",\"2018-01-07T08:50:00\",\"2018-01-07T09:00:00\",\"2018-01-07T09:10:00\",\"2018-01-07T09:20:00\",\"2018-01-07T09:30:00\",\"2018-01-07T09:40:00\",\"2018-01-07T09:50:00\",\"2018-01-07T10:00:00\",\"2018-01-07T10:10:00\",\"2018-01-07T10:20:00\",\"2018-01-07T10:30:00\",\"2018-01-07T10:40:00\",\"2018-01-07T10:50:00\",\"2018-01-07T11:00:00\",\"2018-01-07T11:10:00\",\"2018-01-07T11:20:00\",\"2018-01-07T11:30:00\",\"2018-01-07T11:40:00\",\"2018-01-07T11:50:00\",\"2018-01-07T12:00:00\",\"2018-01-07T12:10:00\",\"2018-01-07T12:20:00\",\"2018-01-07T12:30:00\",\"2018-01-07T12:40:00\",\"2018-01-07T12:50:00\",\"2018-01-07T13:00:00\",\"2018-01-07T13:10:00\",\"2018-01-07T13:20:00\",\"2018-01-07T13:30:00\",\"2018-01-07T13:40:00\",\"2018-01-07T13:50:00\",\"2018-01-07T14:00:00\",\"2018-01-07T14:10:00\",\"2018-01-07T14:20:00\",\"2018-01-07T14:30:00\",\"2018-01-07T14:40:00\",\"2018-01-07T14:50:00\",\"2018-01-07T15:00:00\",\"2018-01-07T15:10:00\",\"2018-01-07T15:20:00\",\"2018-01-07T15:30:00\",\"2018-01-07T15:40:00\",\"2018-01-07T15:50:00\",\"2018-01-07T16:00:00\",\"2018-01-07T16:10:00\",\"2018-01-07T16:20:00\",\"2018-01-07T16:30:00\",\"2018-01-07T16:40:00\",\"2018-01-07T16:50:00\",\"2018-01-07T17:00:00\",\"2018-01-07T17:10:00\",\"2018-01-07T17:20:00\",\"2018-01-07T17:30:00\",\"2018-01-07T17:40:00\",\"2018-01-07T17:50:00\",\"2018-01-07T18:00:00\",\"2018-01-07T18:10:00\",\"2018-01-07T18:20:00\",\"2018-01-07T18:30:00\",\"2018-01-07T18:40:00\",\"2018-01-07T18:50:00\",\"2018-01-07T19:00:00\",\"2018-01-07T19:10:00\",\"2018-01-07T19:20:00\",\"2018-01-07T19:30:00\",\"2018-01-07T19:40:00\",\"2018-01-07T19:50:00\",\"2018-01-07T20:00:00\",\"2018-01-07T20:10:00\",\"2018-01-07T20:20:00\",\"2018-01-07T20:30:00\",\"2018-01-07T20:40:00\",\"2018-01-07T20:50:00\",\"2018-01-07T21:00:00\",\"2018-01-07T21:10:00\",\"2018-01-07T21:20:00\",\"2018-01-07T21:30:00\",\"2018-01-07T21:40:00\",\"2018-01-07T21:50:00\",\"2018-01-07T22:00:00\",\"2018-01-07T22:10:00\",\"2018-01-07T22:20:00\",\"2018-01-07T22:30:00\",\"2018-01-07T22:40:00\",\"2018-01-07T22:50:00\",\"2018-01-07T23:00:00\",\"2018-01-07T23:10:00\",\"2018-01-07T23:20:00\",\"2018-01-07T23:30:00\",\"2018-01-07T23:40:00\",\"2018-01-07T23:50:00\",\"2018-01-08T00:00:00\",\"2018-01-08T00:10:00\",\"2018-01-08T00:20:00\",\"2018-01-08T00:30:00\",\"2018-01-08T00:40:00\",\"2018-01-08T00:50:00\",\"2018-01-08T01:00:00\",\"2018-01-08T01:10:00\",\"2018-01-08T01:20:00\",\"2018-01-08T01:30:00\",\"2018-01-08T01:40:00\",\"2018-01-08T01:50:00\",\"2018-01-08T02:00:00\",\"2018-01-08T02:10:00\",\"2018-01-08T02:20:00\",\"2018-01-08T02:30:00\",\"2018-01-08T02:40:00\",\"2018-01-08T02:50:00\",\"2018-01-08T03:00:00\",\"2018-01-08T03:10:00\",\"2018-01-08T03:20:00\",\"2018-01-08T03:30:00\",\"2018-01-08T03:40:00\",\"2018-01-08T03:50:00\",\"2018-01-08T04:00:00\",\"2018-01-08T04:10:00\",\"2018-01-08T04:20:00\",\"2018-01-08T04:30:00\",\"2018-01-08T04:40:00\",\"2018-01-08T04:50:00\",\"2018-01-08T05:00:00\",\"2018-01-08T05:10:00\",\"2018-01-08T05:20:00\",\"2018-01-08T05:30:00\",\"2018-01-08T05:40:00\",\"2018-01-08T05:50:00\",\"2018-01-08T06:00:00\",\"2018-01-08T06:10:00\",\"2018-01-08T06:20:00\"],\"y\":[0.0,0.0,0.0,0.0,0.0,0.0,0.0,0.0,0.0,0.0,0.0,0.0,0.0,0.0,0.0,0.0,0.0,0.0,0.0,0.0,0.0,0.0,0.0,0.0,0.0,0.0,0.0,0.0,0.0,0.0,0.0,0.0,0.0,0.0,0.0,0.0450067780462889,0.0450067780462889,0.0450067780462889,0.0450067780462889,0.0450067780462889,0.0450067780462889,0.0450067780462889,0.0450067780462889,0.0450067780462889,0.0450067780462889,0.0450067780462889,0.0450067780462889,0.0450067780462889,0.0450067780462889,0.0450067780462889,0.0450067780462889,0.0450067780462889,0.0450067780462889,0.0450067780462889,0.0450067780462889,0.0450067780462889,0.0450067780462889,0.0450067780462889,0.0450067780462889,0.0450067780462889,0.0450067780462889,0.0450067780462889,0.0450067780462889,0.0450067780462889,0.0450067780462889,0.0450067780462889,0.0450067780462889,0.0450067780462889,0.0450067780462889,0.0450067780462889,0.0450067780462889,0.0450067780462889,0.0450067780462889,0.0450067780462889,0.0450067780462889,0.0450067780462889,0.0450067780462889,0.0450067780462889,0.0450067780462889,0.0450067780462889,0.0450067780462889,0.0450067780462889,0.0450067780462889,0.0450067780462889,0.0450067780462889,0.0450067780462889,0.0450067780462889,0.0450067780462889,0.0450067780462889,0.0450067780462889,0.0450067780462889,0.0450067780462889,0.0450067780462889,0.0450067780462889,0.0450067780462889,0.0450067780462889,0.0450067780462889,0.0450067780462889,0.0450067780462889,0.0450067780462889,0.0450067780462889,0.0450067780462889,0.0450067780462889,0.0450067780462889,0.0450067780462889,0.0450067780462889,0.0450067780462889,0.0450067780462889,0.1856646703771242,0.1856646703771242,0.1856646703771242,0.1856646703771242,0.1856646703771242,0.1856646703771242,0.1856646703771242,0.1856646703771242,0.1856646703771242,0.1856646703771242,0.1856646703771242,0.1856646703771242,0.1856646703771242,0.1856646703771242,0.1856646703771242,0.1856646703771242,0.1856646703771242,0.1856646703771242,0.1856646703771242,0.1856646703771242,0.1856646703771242,0.1856646703771242,0.1856646703771242,0.1856646703771242,0.1856646703771242,0.1856646703771242,0.1856646703771242,0.1856646703771242,0.1856646703771242,0.1856646703771242,0.1856646703771242,0.1856646703771242,0.1856646703771242,0.1856646703771242,0.1856646703771242,0.1856646703771242,0.1856646703771242,0.1856646703771242,0.1856646703771242,0.1856646703771242,0.1856646703771242,0.1856646703771242,0.1856646703771242,0.1856646703771242,0.1856646703771242,0.1856646703771242,0.1856646703771242,0.1856646703771242,0.1856646703771242,0.1856646703771242,0.1856646703771242,0.1856646703771242,0.1856646703771242,0.1856646703771242,0.1856646703771242,0.1856646703771242,0.1856646703771242,0.1856646703771242,0.1856646703771242,0.1856646703771242,0.1856646703771242,0.1856646703771242,0.1856646703771242,0.1856646703771242,0.1856646703771242,0.1856646703771242,0.1856646703771242,0.1856646703771242,0.1856646703771242,0.1856646703771242,0.1856646703771242,0.1856646703771242,0.1856646703771242,0.1856646703771242,0.1856646703771242,0.1856646703771242,0.4225622066926756,0.4225622066926756,0.4225622066926756,0.4225622066926756,0.4225622066926756,0.4225622066926756,0.4225622066926756,0.4225622066926756,0.4225622066926756,0.4225622066926756,0.4225622066926756,0.4225622066926756,0.4225622066926756,0.4225622066926756,0.4225622066926756,0.4225622066926756,0.4225622066926756,0.4225622066926756,0.4225622066926756,0.4225622066926756,0.4225622066926756,0.4225622066926756,0.4225622066926756,0.4225622066926756,0.4225622066926756,0.4225622066926756,0.4225622066926756,0.4225622066926756,0.4225622066926756,0.4225622066926756,0.4225622066926756,0.4225622066926756,0.4225622066926756,0.4225622066926756,0.4225622066926756,0.4225622066926756,0.4225622066926756,0.4225622066926756,0.4225622066926756,0.4225622066926756,0.4225622066926756,0.4225622066926756,0.4225622066926756,0.4225622066926756,0.4225622066926756,0.4225622066926756,0.4225622066926756,0.4225622066926756,0.4225622066926756,0.4225622066926756,0.4225622066926756,0.4225622066926756,0.4225622066926756,0.4225622066926756,0.4225622066926756,0.4225622066926756,0.4225622066926756,0.4225622066926756,0.4225622066926756,0.4225622066926756,0.4225622066926756,0.4225622066926756,0.4225622066926756,0.4225622066926756,0.4225622066926756,0.4225622066926756,0.4225622066926756,0.6150414946621077,0.6150414946621077,0.6150414946621077,0.6150414946621077,0.6150414946621077,0.6150414946621077,0.6150414946621077,0.6150414946621077,0.6150414946621077,0.6150414946621077,0.6150414946621077,0.6150414946621077,0.6150414946621077],\"type\":\"scatter\"},{\"hoverlabel\":{\"namelength\":-1},\"mode\":\"lines+markers\",\"name\":\"FV33_20170121\",\"x\":[\"2017-01-21T12:40:00\",\"2017-01-21T12:50:00\",\"2017-01-21T13:00:00\",\"2017-01-21T13:10:00\",\"2017-01-21T13:20:00\",\"2017-01-21T13:30:00\",\"2017-01-21T13:40:00\",\"2017-01-21T13:50:00\",\"2017-01-21T14:00:00\",\"2017-01-21T14:10:00\",\"2017-01-21T14:20:00\",\"2017-01-21T14:30:00\",\"2017-01-21T14:40:00\",\"2017-01-21T14:50:00\",\"2017-01-21T15:00:00\",\"2017-01-21T15:10:00\",\"2017-01-21T15:20:00\",\"2017-01-21T15:30:00\",\"2017-01-21T15:40:00\",\"2017-01-21T15:50:00\",\"2017-01-21T16:00:00\",\"2017-01-21T16:10:00\",\"2017-01-21T16:20:00\",\"2017-01-21T16:30:00\",\"2017-01-21T16:40:00\",\"2017-01-21T16:50:00\",\"2017-01-21T17:00:00\",\"2017-01-21T17:10:00\",\"2017-01-21T17:20:00\",\"2017-01-21T17:30:00\",\"2017-01-21T17:40:00\",\"2017-01-21T17:50:00\",\"2017-01-21T18:00:00\",\"2017-01-21T18:10:00\",\"2017-01-21T18:20:00\",\"2017-01-21T18:30:00\",\"2017-01-21T18:40:00\",\"2017-01-21T18:50:00\",\"2017-01-21T19:00:00\",\"2017-01-21T19:10:00\",\"2017-01-21T19:20:00\",\"2017-01-21T19:30:00\",\"2017-01-21T19:40:00\",\"2017-01-21T19:50:00\",\"2017-01-21T20:00:00\",\"2017-01-21T20:10:00\",\"2017-01-21T20:20:00\",\"2017-01-21T20:30:00\",\"2017-01-21T20:40:00\",\"2017-01-21T20:50:00\",\"2017-01-21T21:00:00\",\"2017-01-21T21:10:00\",\"2017-01-21T21:20:00\",\"2017-01-21T21:30:00\",\"2017-01-21T21:40:00\",\"2017-01-21T21:50:00\",\"2017-01-21T22:00:00\",\"2017-01-21T22:10:00\",\"2017-01-21T22:20:00\",\"2017-01-21T22:30:00\",\"2017-01-21T22:40:00\",\"2017-01-21T22:50:00\",\"2017-01-21T23:00:00\",\"2017-01-21T23:10:00\",\"2017-01-21T23:20:00\",\"2017-01-21T23:30:00\",\"2017-01-21T23:40:00\",\"2017-01-21T23:50:00\",\"2017-01-22T00:00:00\",\"2017-01-22T00:10:00\",\"2017-01-22T00:20:00\",\"2017-01-22T00:30:00\",\"2017-01-22T00:40:00\",\"2017-01-22T00:50:00\",\"2017-01-22T01:00:00\",\"2017-01-22T01:10:00\",\"2017-01-22T01:20:00\",\"2017-01-22T01:30:00\",\"2017-01-22T01:40:00\",\"2017-01-22T01:50:00\",\"2017-01-22T02:00:00\",\"2017-01-22T02:10:00\",\"2017-01-22T02:20:00\",\"2017-01-22T02:30:00\",\"2017-01-22T02:40:00\",\"2017-01-22T02:50:00\",\"2017-01-22T03:00:00\",\"2017-01-22T03:10:00\",\"2017-01-22T03:20:00\",\"2017-01-22T03:30:00\",\"2017-01-22T03:40:00\",\"2017-01-22T03:50:00\",\"2017-01-22T04:00:00\",\"2017-01-22T04:10:00\",\"2017-01-22T04:20:00\",\"2017-01-22T04:30:00\",\"2017-01-22T04:40:00\",\"2017-01-22T04:50:00\",\"2017-01-22T05:00:00\",\"2017-01-22T05:10:00\",\"2017-01-22T05:20:00\",\"2017-01-22T05:30:00\",\"2017-01-22T05:40:00\",\"2017-01-22T05:50:00\",\"2017-01-22T06:00:00\",\"2017-01-22T06:10:00\",\"2017-01-22T06:20:00\",\"2017-01-22T06:30:00\",\"2017-01-22T06:40:00\",\"2017-01-22T06:50:00\",\"2017-01-22T07:00:00\",\"2017-01-22T07:10:00\",\"2017-01-22T07:20:00\",\"2017-01-22T07:30:00\",\"2017-01-22T07:40:00\",\"2017-01-22T07:50:00\",\"2017-01-22T08:00:00\",\"2017-01-22T08:10:00\",\"2017-01-22T08:20:00\",\"2017-01-22T08:30:00\",\"2017-01-22T08:40:00\",\"2017-01-22T08:50:00\",\"2017-01-22T09:00:00\",\"2017-01-22T09:10:00\",\"2017-01-22T09:20:00\",\"2017-01-22T09:30:00\",\"2017-01-22T09:40:00\",\"2017-01-22T09:50:00\",\"2017-01-22T10:00:00\",\"2017-01-22T10:10:00\",\"2017-01-22T10:20:00\",\"2017-01-22T10:30:00\",\"2017-01-22T10:40:00\",\"2017-01-22T10:50:00\",\"2017-01-22T11:00:00\",\"2017-01-22T11:10:00\",\"2017-01-22T11:20:00\",\"2017-01-22T11:30:00\",\"2017-01-22T11:40:00\",\"2017-01-22T11:50:00\",\"2017-01-22T12:00:00\",\"2017-01-22T12:10:00\",\"2017-01-22T12:20:00\",\"2017-01-22T12:30:00\",\"2017-01-22T12:40:00\",\"2017-01-22T12:50:00\",\"2017-01-22T13:00:00\",\"2017-01-22T13:10:00\",\"2017-01-22T13:20:00\",\"2017-01-22T13:30:00\",\"2017-01-22T13:40:00\",\"2017-01-22T13:50:00\",\"2017-01-22T14:00:00\",\"2017-01-22T14:10:00\",\"2017-01-22T14:20:00\",\"2017-01-22T14:30:00\",\"2017-01-22T14:40:00\",\"2017-01-22T14:50:00\",\"2017-01-22T15:00:00\",\"2017-01-22T15:10:00\",\"2017-01-22T15:20:00\",\"2017-01-22T15:30:00\",\"2017-01-22T15:40:00\",\"2017-01-22T15:50:00\",\"2017-01-22T16:00:00\",\"2017-01-22T16:10:00\",\"2017-01-22T16:20:00\",\"2017-01-22T16:30:00\",\"2017-01-22T16:40:00\",\"2017-01-22T16:50:00\",\"2017-01-22T17:00:00\",\"2017-01-22T17:10:00\",\"2017-01-22T17:20:00\",\"2017-01-22T17:30:00\",\"2017-01-22T17:40:00\",\"2017-01-22T17:50:00\",\"2017-01-22T18:00:00\",\"2017-01-22T18:10:00\",\"2017-01-22T18:20:00\",\"2017-01-22T18:30:00\",\"2017-01-22T18:40:00\",\"2017-01-22T18:50:00\",\"2017-01-22T19:00:00\",\"2017-01-22T19:10:00\",\"2017-01-22T19:20:00\",\"2017-01-22T19:30:00\",\"2017-01-22T19:40:00\",\"2017-01-22T19:50:00\",\"2017-01-22T20:00:00\",\"2017-01-22T20:10:00\",\"2017-01-22T20:20:00\",\"2017-01-22T20:30:00\",\"2017-01-22T20:40:00\",\"2017-01-22T20:50:00\",\"2017-01-22T21:00:00\",\"2017-01-22T21:10:00\",\"2017-01-22T21:20:00\",\"2017-01-22T21:30:00\",\"2017-01-22T21:40:00\",\"2017-01-22T21:50:00\",\"2017-01-22T22:00:00\",\"2017-01-22T22:10:00\",\"2017-01-22T22:20:00\",\"2017-01-22T22:30:00\",\"2017-01-22T22:40:00\",\"2017-01-22T22:50:00\",\"2017-01-22T23:00:00\",\"2017-01-22T23:10:00\",\"2017-01-22T23:20:00\",\"2017-01-22T23:30:00\",\"2017-01-22T23:40:00\",\"2017-01-22T23:50:00\",\"2017-01-23T00:00:00\",\"2017-01-23T00:10:00\",\"2017-01-23T00:20:00\",\"2017-01-23T00:30:00\",\"2017-01-23T00:40:00\",\"2017-01-23T00:50:00\",\"2017-01-23T01:00:00\",\"2017-01-23T01:10:00\",\"2017-01-23T01:20:00\",\"2017-01-23T01:30:00\",\"2017-01-23T01:40:00\",\"2017-01-23T01:50:00\",\"2017-01-23T02:00:00\",\"2017-01-23T02:10:00\",\"2017-01-23T02:20:00\",\"2017-01-23T02:30:00\",\"2017-01-23T02:40:00\",\"2017-01-23T02:50:00\",\"2017-01-23T03:00:00\",\"2017-01-23T03:10:00\",\"2017-01-23T03:20:00\",\"2017-01-23T03:30:00\",\"2017-01-23T03:40:00\",\"2017-01-23T03:50:00\",\"2017-01-23T04:00:00\",\"2017-01-23T04:10:00\",\"2017-01-23T04:20:00\",\"2017-01-23T04:30:00\",\"2017-01-23T04:40:00\",\"2017-01-23T04:50:00\",\"2017-01-23T05:00:00\",\"2017-01-23T05:10:00\",\"2017-01-23T05:20:00\",\"2017-01-23T05:30:00\",\"2017-01-23T05:40:00\",\"2017-01-23T05:50:00\",\"2017-01-23T06:00:00\",\"2017-01-23T06:10:00\",\"2017-01-23T06:20:00\",\"2017-01-23T06:30:00\",\"2017-01-23T06:40:00\",\"2017-01-23T06:50:00\",\"2017-01-23T07:00:00\",\"2017-01-23T07:10:00\",\"2017-01-23T07:20:00\",\"2017-01-23T07:30:00\",\"2017-01-23T07:40:00\",\"2017-01-23T07:50:00\",\"2017-01-23T08:00:00\",\"2017-01-23T08:10:00\",\"2017-01-23T08:20:00\",\"2017-01-23T08:30:00\",\"2017-01-23T08:40:00\",\"2017-01-23T08:50:00\",\"2017-01-23T09:00:00\",\"2017-01-23T09:10:00\",\"2017-01-23T09:20:00\",\"2017-01-23T09:30:00\",\"2017-01-23T09:40:00\",\"2017-01-23T09:50:00\",\"2017-01-23T10:00:00\",\"2017-01-23T10:10:00\",\"2017-01-23T10:20:00\",\"2017-01-23T10:30:00\",\"2017-01-23T10:40:00\",\"2017-01-23T10:50:00\",\"2017-01-23T11:00:00\",\"2017-01-23T11:10:00\",\"2017-01-23T11:20:00\",\"2017-01-23T11:30:00\",\"2017-01-23T11:40:00\",\"2017-01-23T11:50:00\",\"2017-01-23T12:00:00\",\"2017-01-23T12:10:00\",\"2017-01-23T12:20:00\",\"2017-01-23T12:30:00\",\"2017-01-23T12:40:00\",\"2017-01-23T12:50:00\",\"2017-01-23T13:00:00\",\"2017-01-23T13:10:00\",\"2017-01-23T13:20:00\",\"2017-01-23T13:30:00\",\"2017-01-23T13:40:00\",\"2017-01-23T13:50:00\",\"2017-01-23T14:00:00\",\"2017-01-23T14:10:00\",\"2017-01-23T14:20:00\",\"2017-01-23T14:30:00\",\"2017-01-23T14:40:00\",\"2017-01-23T14:50:00\",\"2017-01-23T15:00:00\",\"2017-01-23T15:10:00\",\"2017-01-23T15:20:00\",\"2017-01-23T15:30:00\",\"2017-01-23T15:40:00\",\"2017-01-23T15:50:00\",\"2017-01-23T16:00:00\",\"2017-01-23T16:10:00\",\"2017-01-23T16:20:00\",\"2017-01-23T16:30:00\",\"2017-01-23T16:40:00\",\"2017-01-23T16:50:00\",\"2017-01-23T17:00:00\",\"2017-01-23T17:10:00\",\"2017-01-23T17:20:00\",\"2017-01-23T17:30:00\"],\"y\":[0.0,0.0,0.0,0.0,0.0,0.0,0.0,0.0,0.0,0.0,0.0,0.0,0.0,0.0,0.0,0.0,0.0,0.0,0.0,0.0,0.0,0.0,0.0,0.0,0.0,0.0,0.0,0.0604566857325729,0.0604566857325729,0.0604566857325729,0.0604566857325729,0.0604566857325729,0.0604566857325729,0.0604566857325729,0.0604566857325729,0.0604566857325729,0.0604566857325729,0.0604566857325729,0.0604566857325729,0.0604566857325729,0.0604566857325729,0.0604566857325729,0.0604566857325729,0.0604566857325729,0.0604566857325729,0.0604566857325729,0.0604566857325729,0.0604566857325729,0.0604566857325729,0.0604566857325729,0.0604566857325729,0.0604566857325729,0.0604566857325729,0.0604566857325729,0.0604566857325729,0.0604566857325729,0.0604566857325729,0.0604566857325729,0.0604566857325729,0.0604566857325729,0.0604566857325729,0.0604566857325729,0.0604566857325729,0.0604566857325729,0.0604566857325729,0.0604566857325729,0.0604566857325729,0.0604566857325729,0.0604566857325729,0.1344364753686321,0.1344364753686321,0.1344364753686321,0.1344364753686321,0.1344364753686321,0.1344364753686321,0.1344364753686321,0.1344364753686321,0.1344364753686321,0.1344364753686321,0.1344364753686321,0.1344364753686321,0.1344364753686321,0.1344364753686321,0.1344364753686321,0.1344364753686321,0.1344364753686321,0.1344364753686321,0.1344364753686321,0.1344364753686321,0.1344364753686321,0.1344364753686321,0.1344364753686321,0.1344364753686321,0.1344364753686321,0.1344364753686321,0.1344364753686321,0.1344364753686321,0.1344364753686321,0.1344364753686321,0.1344364753686321,0.1344364753686321,0.1344364753686321,0.1344364753686321,0.1344364753686321,0.1344364753686321,0.2306102160060342,0.2306102160060342,0.2306102160060342,0.2306102160060342,0.2306102160060342,0.2306102160060342,0.2306102160060342,0.2306102160060342,0.2306102160060342,0.2306102160060342,0.2306102160060342,0.2306102160060342,0.2306102160060342,0.2306102160060342,0.2306102160060342,0.2306102160060342,0.2306102160060342,0.2306102160060342,0.2306102160060342,0.2306102160060342,0.2306102160060342,0.2306102160060342,0.2306102160060342,0.2306102160060342,0.2306102160060342,0.2306102160060342,0.2306102160060342,0.2306102160060342,0.2306102160060342,0.2306102160060342,0.2306102160060342,0.2306102160060342,0.2306102160060342,0.2306102160060342,0.2306102160060342,0.2306102160060342,0.2306102160060342,0.2306102160060342,0.2306102160060342,0.2306102160060342,0.2306102160060342,0.2306102160060342,0.2306102160060342,0.2306102160060342,0.2306102160060342,0.2306102160060342,0.2306102160060342,0.2306102160060342,0.2306102160060342,0.2306102160060342,0.2306102160060342,0.2306102160060342,0.2306102160060342,0.2306102160060342,0.2306102160060342,0.2306102160060342,0.2306102160060342,0.2306102160060342,0.2306102160060342,0.2306102160060342,0.2306102160060342,0.422957626728213,0.422957626728213,0.422957626728213,0.422957626728213,0.422957626728213,0.422957626728213,0.422957626728213,0.422957626728213,0.422957626728213,0.422957626728213,0.422957626728213,0.422957626728213,0.422957626728213,0.422957626728213,0.422957626728213,0.422957626728213,0.422957626728213,0.422957626728213,0.422957626728213,0.422957626728213,0.422957626728213,0.422957626728213,0.422957626728213,0.422957626728213,0.422957626728213,0.422957626728213,0.422957626728213,0.422957626728213,0.422957626728213,0.422957626728213,0.422957626728213,0.422957626728213,0.422957626728213,0.422957626728213,0.422957626728213,0.422957626728213,0.422957626728213,0.422957626728213,0.422957626728213,0.422957626728213,0.422957626728213,0.422957626728213,0.422957626728213,0.422957626728213,0.422957626728213,0.422957626728213,0.422957626728213,0.422957626728213,0.422957626728213,0.422957626728213,0.422957626728213,0.422957626728213,0.422957626728213,0.422957626728213,0.422957626728213,0.422957626728213,0.422957626728213,0.422957626728213,0.422957626728213,0.422957626728213,0.422957626728213,0.422957626728213,0.422957626728213,0.422957626728213,0.422957626728213,0.422957626728213,0.422957626728213,0.422957626728213,0.422957626728213,0.422957626728213,0.6079071008183611,0.6079071008183611,0.6079071008183611,0.6079071008183611,0.6079071008183611,0.6079071008183611,0.6079071008183611,0.6079071008183611,0.6079071008183611,0.6079071008183611,0.6079071008183611,0.6079071008183611,0.6079071008183611,0.6079071008183611,0.6079071008183611,0.6079071008183611,0.6079071008183611,0.6079071008183611,0.6079071008183611,0.6079071008183611,0.6079071008183611,0.6079071008183611,0.6079071008183611,0.6079071008183611,0.6079071008183611,0.6079071008183611,0.6079071008183611,0.6079071008183611,0.6079071008183611,0.6079071008183611,0.6079071008183611,0.6079071008183611,0.6079071008183611,0.6079071008183611,0.6079071008183611,0.6079071008183611,0.6079071008183611,0.6079071008183611,0.6079071008183611,0.6079071008183611,0.6079071008183611,0.6079071008183611,0.6079071008183611,0.6079071008183611,0.6079071008183611,0.6079071008183611,0.6079071008183611,0.6079071008183611,0.6079071008183611,0.6079071008183611,0.6079071008183611,0.6079071008183611,0.6079071008183611,0.6079071008183611,0.6079071008183611,0.6079071008183611,0.6079071008183611,0.6079071008183611,0.6079071008183611,0.6079071008183611,0.6079071008183611,0.6079071008183611,0.6079071008183611,0.6079071008183611,0.6079071008183611,0.6079071008183611,0.6079071008183611,0.6079071008183611,0.6079071008183611,0.6079071008183611,0.6079071008183611,0.6079071008183611,0.6079071008183611,0.6079071008183611,0.6079071008183611,0.6079071008183611,0.6079071008183611,0.6079071008183611,0.6079071008183611,0.7336727643654494,0.7336727643654494,0.7336727643654494],\"type\":\"scatter\"},{\"hoverlabel\":{\"namelength\":-1},\"mode\":\"lines+markers\",\"name\":\"FV33_20170223\",\"x\":[\"2017-02-23T12:30:00\",\"2017-02-23T12:40:00\",\"2017-02-23T12:50:00\",\"2017-02-23T13:00:00\",\"2017-02-23T13:10:00\",\"2017-02-23T13:20:00\",\"2017-02-23T13:30:00\",\"2017-02-23T13:40:00\",\"2017-02-23T13:50:00\",\"2017-02-23T14:00:00\",\"2017-02-23T14:10:00\",\"2017-02-23T14:20:00\",\"2017-02-23T14:30:00\",\"2017-02-23T14:40:00\",\"2017-02-23T14:50:00\",\"2017-02-23T15:00:00\",\"2017-02-23T15:10:00\",\"2017-02-23T15:20:00\",\"2017-02-23T15:30:00\",\"2017-02-23T15:40:00\",\"2017-02-23T15:50:00\",\"2017-02-23T16:00:00\",\"2017-02-23T16:10:00\",\"2017-02-23T16:20:00\",\"2017-02-23T16:30:00\",\"2017-02-23T16:40:00\",\"2017-02-23T16:50:00\",\"2017-02-23T17:00:00\",\"2017-02-23T17:10:00\",\"2017-02-23T17:20:00\",\"2017-02-23T17:30:00\",\"2017-02-23T17:40:00\",\"2017-02-23T17:50:00\",\"2017-02-23T18:00:00\",\"2017-02-23T18:10:00\",\"2017-02-23T18:20:00\",\"2017-02-23T18:30:00\",\"2017-02-23T18:40:00\",\"2017-02-23T18:50:00\",\"2017-02-23T19:00:00\",\"2017-02-23T19:10:00\",\"2017-02-23T19:20:00\",\"2017-02-23T19:30:00\",\"2017-02-23T19:40:00\",\"2017-02-23T19:50:00\",\"2017-02-23T20:00:00\",\"2017-02-23T20:10:00\",\"2017-02-23T20:20:00\",\"2017-02-23T20:30:00\",\"2017-02-23T20:40:00\",\"2017-02-23T20:50:00\",\"2017-02-23T21:00:00\",\"2017-02-23T21:10:00\",\"2017-02-23T21:20:00\",\"2017-02-23T21:30:00\",\"2017-02-23T21:40:00\",\"2017-02-23T21:50:00\",\"2017-02-23T22:00:00\",\"2017-02-23T22:10:00\",\"2017-02-23T22:20:00\",\"2017-02-23T22:30:00\",\"2017-02-23T22:40:00\",\"2017-02-23T22:50:00\",\"2017-02-23T23:00:00\",\"2017-02-23T23:10:00\",\"2017-02-23T23:20:00\",\"2017-02-23T23:30:00\",\"2017-02-23T23:40:00\",\"2017-02-23T23:50:00\",\"2017-02-24T00:00:00\",\"2017-02-24T00:10:00\",\"2017-02-24T00:20:00\",\"2017-02-24T00:30:00\",\"2017-02-24T00:40:00\",\"2017-02-24T00:50:00\",\"2017-02-24T01:00:00\",\"2017-02-24T01:10:00\",\"2017-02-24T01:20:00\",\"2017-02-24T01:30:00\",\"2017-02-24T01:40:00\",\"2017-02-24T01:50:00\",\"2017-02-24T02:00:00\",\"2017-02-24T02:10:00\",\"2017-02-24T02:20:00\",\"2017-02-24T02:30:00\",\"2017-02-24T02:40:00\",\"2017-02-24T02:50:00\",\"2017-02-24T03:00:00\",\"2017-02-24T03:10:00\",\"2017-02-24T03:20:00\",\"2017-02-24T03:30:00\",\"2017-02-24T03:40:00\",\"2017-02-24T03:50:00\",\"2017-02-24T04:00:00\",\"2017-02-24T04:10:00\",\"2017-02-24T04:20:00\",\"2017-02-24T04:30:00\",\"2017-02-24T04:40:00\",\"2017-02-24T04:50:00\",\"2017-02-24T05:00:00\",\"2017-02-24T05:10:00\",\"2017-02-24T05:20:00\",\"2017-02-24T05:30:00\",\"2017-02-24T05:40:00\",\"2017-02-24T05:50:00\",\"2017-02-24T06:00:00\",\"2017-02-24T06:10:00\",\"2017-02-24T06:20:00\",\"2017-02-24T06:30:00\",\"2017-02-24T06:40:00\",\"2017-02-24T06:50:00\",\"2017-02-24T07:00:00\",\"2017-02-24T07:10:00\",\"2017-02-24T07:20:00\",\"2017-02-24T07:30:00\",\"2017-02-24T07:40:00\",\"2017-02-24T07:50:00\",\"2017-02-24T08:00:00\",\"2017-02-24T08:10:00\",\"2017-02-24T08:20:00\",\"2017-02-24T08:30:00\",\"2017-02-24T08:40:00\",\"2017-02-24T08:50:00\",\"2017-02-24T09:00:00\",\"2017-02-24T09:10:00\",\"2017-02-24T09:20:00\",\"2017-02-24T09:30:00\",\"2017-02-24T09:40:00\",\"2017-02-24T09:50:00\",\"2017-02-24T10:00:00\",\"2017-02-24T10:10:00\",\"2017-02-24T10:20:00\",\"2017-02-24T10:30:00\",\"2017-02-24T10:40:00\",\"2017-02-24T10:50:00\",\"2017-02-24T11:00:00\",\"2017-02-24T11:10:00\",\"2017-02-24T11:20:00\",\"2017-02-24T11:30:00\",\"2017-02-24T11:40:00\",\"2017-02-24T11:50:00\",\"2017-02-24T12:00:00\",\"2017-02-24T12:10:00\",\"2017-02-24T12:20:00\",\"2017-02-24T12:30:00\",\"2017-02-24T12:40:00\",\"2017-02-24T12:50:00\",\"2017-02-24T13:00:00\",\"2017-02-24T13:10:00\",\"2017-02-24T13:20:00\",\"2017-02-24T13:30:00\",\"2017-02-24T13:40:00\",\"2017-02-24T13:50:00\",\"2017-02-24T14:00:00\",\"2017-02-24T14:10:00\",\"2017-02-24T14:20:00\",\"2017-02-24T14:30:00\",\"2017-02-24T14:40:00\",\"2017-02-24T14:50:00\",\"2017-02-24T15:00:00\",\"2017-02-24T15:10:00\",\"2017-02-24T15:20:00\",\"2017-02-24T15:30:00\",\"2017-02-24T15:40:00\",\"2017-02-24T15:50:00\",\"2017-02-24T16:00:00\",\"2017-02-24T16:10:00\",\"2017-02-24T16:20:00\",\"2017-02-24T16:30:00\",\"2017-02-24T16:40:00\",\"2017-02-24T16:50:00\",\"2017-02-24T17:00:00\",\"2017-02-24T17:10:00\",\"2017-02-24T17:20:00\",\"2017-02-24T17:30:00\",\"2017-02-24T17:40:00\",\"2017-02-24T17:50:00\",\"2017-02-24T18:00:00\",\"2017-02-24T18:10:00\",\"2017-02-24T18:20:00\",\"2017-02-24T18:30:00\",\"2017-02-24T18:40:00\",\"2017-02-24T18:50:00\",\"2017-02-24T19:00:00\",\"2017-02-24T19:10:00\",\"2017-02-24T19:20:00\",\"2017-02-24T19:30:00\",\"2017-02-24T19:40:00\",\"2017-02-24T19:50:00\",\"2017-02-24T20:00:00\",\"2017-02-24T20:10:00\",\"2017-02-24T20:20:00\",\"2017-02-24T20:30:00\",\"2017-02-24T20:40:00\",\"2017-02-24T20:50:00\",\"2017-02-24T21:00:00\",\"2017-02-24T21:10:00\",\"2017-02-24T21:20:00\",\"2017-02-24T21:30:00\",\"2017-02-24T21:40:00\",\"2017-02-24T21:50:00\",\"2017-02-24T22:00:00\",\"2017-02-24T22:10:00\",\"2017-02-24T22:20:00\",\"2017-02-24T22:30:00\",\"2017-02-24T22:40:00\",\"2017-02-24T22:50:00\",\"2017-02-24T23:00:00\",\"2017-02-24T23:10:00\",\"2017-02-24T23:20:00\",\"2017-02-24T23:30:00\",\"2017-02-24T23:40:00\",\"2017-02-24T23:50:00\",\"2017-02-25T00:00:00\",\"2017-02-25T00:10:00\",\"2017-02-25T00:20:00\",\"2017-02-25T00:30:00\",\"2017-02-25T00:40:00\",\"2017-02-25T00:50:00\",\"2017-02-25T01:00:00\",\"2017-02-25T01:10:00\",\"2017-02-25T01:20:00\",\"2017-02-25T01:30:00\",\"2017-02-25T01:40:00\",\"2017-02-25T01:50:00\",\"2017-02-25T02:00:00\",\"2017-02-25T02:10:00\",\"2017-02-25T02:20:00\",\"2017-02-25T02:30:00\",\"2017-02-25T02:40:00\",\"2017-02-25T02:50:00\",\"2017-02-25T03:00:00\",\"2017-02-25T03:10:00\",\"2017-02-25T03:20:00\",\"2017-02-25T03:30:00\",\"2017-02-25T03:40:00\",\"2017-02-25T03:50:00\",\"2017-02-25T04:00:00\",\"2017-02-25T04:10:00\",\"2017-02-25T04:20:00\",\"2017-02-25T04:30:00\",\"2017-02-25T04:40:00\",\"2017-02-25T04:50:00\",\"2017-02-25T05:00:00\",\"2017-02-25T05:10:00\",\"2017-02-25T05:20:00\",\"2017-02-25T05:30:00\",\"2017-02-25T05:40:00\",\"2017-02-25T05:50:00\",\"2017-02-25T06:00:00\",\"2017-02-25T06:10:00\",\"2017-02-25T06:20:00\",\"2017-02-25T06:30:00\",\"2017-02-25T06:40:00\",\"2017-02-25T06:50:00\",\"2017-02-25T07:00:00\",\"2017-02-25T07:10:00\",\"2017-02-25T07:20:00\",\"2017-02-25T07:30:00\",\"2017-02-25T07:40:00\",\"2017-02-25T07:50:00\",\"2017-02-25T08:00:00\",\"2017-02-25T08:10:00\",\"2017-02-25T08:20:00\",\"2017-02-25T08:30:00\",\"2017-02-25T08:40:00\",\"2017-02-25T08:50:00\",\"2017-02-25T09:00:00\",\"2017-02-25T09:10:00\",\"2017-02-25T09:20:00\",\"2017-02-25T09:30:00\",\"2017-02-25T09:40:00\",\"2017-02-25T09:50:00\",\"2017-02-25T10:00:00\",\"2017-02-25T10:10:00\",\"2017-02-25T10:20:00\",\"2017-02-25T10:30:00\",\"2017-02-25T10:40:00\",\"2017-02-25T10:50:00\",\"2017-02-25T11:00:00\",\"2017-02-25T11:10:00\",\"2017-02-25T11:20:00\",\"2017-02-25T11:30:00\",\"2017-02-25T11:40:00\",\"2017-02-25T11:50:00\",\"2017-02-25T12:00:00\",\"2017-02-25T12:10:00\",\"2017-02-25T12:20:00\",\"2017-02-25T12:30:00\",\"2017-02-25T12:40:00\",\"2017-02-25T12:50:00\",\"2017-02-25T13:00:00\",\"2017-02-25T13:10:00\",\"2017-02-25T13:20:00\",\"2017-02-25T13:30:00\",\"2017-02-25T13:40:00\",\"2017-02-25T13:50:00\",\"2017-02-25T14:00:00\",\"2017-02-25T14:10:00\",\"2017-02-25T14:20:00\",\"2017-02-25T14:30:00\",\"2017-02-25T14:40:00\",\"2017-02-25T14:50:00\",\"2017-02-25T15:00:00\",\"2017-02-25T15:10:00\",\"2017-02-25T15:20:00\",\"2017-02-25T15:30:00\",\"2017-02-25T15:40:00\",\"2017-02-25T15:50:00\",\"2017-02-25T16:00:00\",\"2017-02-25T16:10:00\",\"2017-02-25T16:20:00\",\"2017-02-25T16:30:00\",\"2017-02-25T16:40:00\",\"2017-02-25T16:50:00\",\"2017-02-25T17:00:00\",\"2017-02-25T17:10:00\"],\"y\":[0.0,0.0,0.0,0.0,0.0,0.0,0.0,0.0,0.0,0.0,0.0,0.0,0.0,0.0,0.0,0.0,0.0307731647210882,0.0307731647210882,0.0307731647210882,0.0307731647210882,0.0307731647210882,0.0307731647210882,0.0307731647210882,0.0307731647210882,0.0307731647210882,0.0307731647210882,0.0307731647210882,0.0307731647210882,0.0307731647210882,0.0307731647210882,0.0307731647210882,0.0307731647210882,0.0307731647210882,0.0307731647210882,0.0307731647210882,0.0307731647210882,0.0307731647210882,0.0307731647210882,0.0307731647210882,0.0307731647210882,0.0307731647210882,0.0307731647210882,0.0307731647210882,0.0307731647210882,0.0307731647210882,0.0307731647210882,0.0307731647210882,0.0307731647210882,0.0307731647210882,0.0307731647210882,0.0307731647210882,0.0307731647210882,0.0307731647210882,0.0307731647210882,0.0307731647210882,0.0307731647210882,0.0307731647210882,0.0307731647210882,0.0307731647210882,0.0307731647210882,0.0307731647210882,0.0307731647210882,0.0307731647210882,0.0307731647210882,0.0307731647210882,0.0307731647210882,0.0307731647210882,0.0307731647210882,0.0307731647210882,0.0307731647210882,0.0307731647210882,0.0307731647210882,0.0307731647210882,0.0307731647210882,0.0307731647210882,0.0307731647210882,0.0307731647210882,0.0307731647210882,0.0307731647210882,0.0307731647210882,0.0307731647210882,0.0307731647210882,0.0307731647210882,0.0307731647210882,0.0307731647210882,0.0307731647210882,0.0307731647210882,0.0307731647210882,0.0307731647210882,0.0307731647210882,0.0307731647210882,0.0307731647210882,0.0307731647210882,0.0307731647210882,0.0307731647210882,0.0307731647210882,0.0307731647210882,0.0307731647210882,0.0307731647210882,0.0307731647210882,0.0307731647210882,0.2009427709113395,0.2009427709113395,0.2009427709113395,0.2009427709113395,0.2009427709113395,0.2009427709113395,0.2009427709113395,0.2009427709113395,0.2009427709113395,0.2009427709113395,0.2009427709113395,0.2009427709113395,0.2009427709113395,0.2009427709113395,0.2009427709113395,0.2009427709113395,0.2009427709113395,0.2009427709113395,0.2009427709113395,0.2009427709113395,0.2009427709113395,0.2009427709113395,0.2009427709113395,0.2009427709113395,0.2009427709113395,0.2009427709113395,0.2009427709113395,0.2009427709113395,0.2009427709113395,0.2009427709113395,0.2009427709113395,0.2009427709113395,0.2009427709113395,0.2009427709113395,0.2009427709113395,0.2009427709113395,0.2009427709113395,0.2009427709113395,0.2009427709113395,0.2009427709113395,0.2009427709113395,0.2009427709113395,0.2009427709113395,0.2009427709113395,0.2009427709113395,0.2009427709113395,0.2009427709113395,0.2009427709113395,0.2009427709113395,0.2009427709113395,0.2009427709113395,0.2009427709113395,0.2009427709113395,0.2009427709113395,0.2009427709113395,0.2009427709113395,0.2009427709113395,0.2009427709113395,0.3785110832417591,0.3785110832417591,0.3785110832417591,0.3785110832417591,0.3785110832417591,0.3785110832417591,0.3785110832417591,0.3785110832417591,0.3785110832417591,0.3785110832417591,0.3785110832417591,0.3785110832417591,0.3785110832417591,0.3785110832417591,0.3785110832417591,0.3785110832417591,0.3785110832417591,0.3785110832417591,0.3785110832417591,0.3785110832417591,0.3785110832417591,0.3785110832417591,0.3785110832417591,0.3785110832417591,0.3785110832417591,0.3785110832417591,0.3785110832417591,0.3785110832417591,0.3785110832417591,0.3785110832417591,0.3785110832417591,0.3785110832417591,0.3785110832417591,0.3785110832417591,0.3785110832417591,0.3785110832417591,0.3785110832417591,0.3785110832417591,0.3785110832417591,0.3785110832417591,0.3785110832417591,0.3785110832417591,0.3785110832417591,0.3785110832417591,0.3785110832417591,0.3785110832417591,0.3785110832417591,0.3785110832417591,0.3785110832417591,0.3785110832417591,0.3785110832417591,0.3785110832417591,0.3785110832417591,0.3785110832417591,0.3785110832417591,0.3785110832417591,0.3785110832417591,0.3785110832417591,0.3785110832417591,0.3785110832417591,0.3785110832417591,0.3785110832417591,0.3785110832417591,0.3785110832417591,0.3785110832417591,0.3785110832417591,0.3785110832417591,0.3785110832417591,0.3785110832417591,0.3785110832417591,0.3785110832417591,0.3785110832417591,0.3785110832417591,0.3785110832417591,0.3785110832417591,0.3785110832417591,0.3785110832417591,0.3785110832417591,0.3785110832417591,0.3785110832417591,0.3785110832417591,0.3785110832417591,0.3785110832417591,0.3785110832417591,0.3785110832417591,0.3785110832417591,0.3785110832417591,0.3785110832417591,0.3785110832417591,0.3785110832417591,0.6226674333168836,0.6226674333168836,0.6226674333168836,0.6226674333168836,0.6226674333168836,0.6226674333168836,0.6226674333168836,0.6226674333168836,0.6226674333168836,0.6226674333168836,0.6226674333168836,0.6226674333168836,0.6226674333168836,0.6226674333168836,0.6226674333168836,0.6226674333168836,0.6226674333168836,0.6226674333168836,0.6226674333168836,0.6226674333168836,0.6226674333168836,0.6226674333168836,0.6226674333168836,0.6226674333168836,0.6226674333168836,0.6226674333168836,0.6226674333168836,0.6226674333168836,0.6226674333168836,0.6226674333168836,0.6226674333168836,0.6226674333168836,0.6226674333168836,0.6226674333168836,0.6226674333168836,0.6226674333168836,0.6226674333168836,0.6226674333168836,0.6226674333168836,0.6226674333168836,0.6226674333168836,0.6226674333168836,0.6226674333168836,0.6226674333168836,0.6226674333168836,0.6226674333168836,0.6226674333168836,0.6226674333168836,0.6226674333168836,0.6226674333168836,0.6226674333168836,0.6226674333168836,0.6226674333168836,0.6226674333168836,0.6226674333168836,0.6226674333168836,0.6226674333168836,0.6226674333168836,0.6226674333168836,0.6226674333168836,0.6226674333168836,0.7040528833419251,0.7040528833419251,0.7040528833419251,0.7040528833419251,0.7040528833419251,0.7040528833419251,0.7040528833419251],\"type\":\"scatter\"},{\"hoverlabel\":{\"namelength\":-1},\"mode\":\"lines+markers\",\"name\":\"FV33_20170502\",\"x\":[\"2017-05-02T20:20:00\",\"2017-05-02T20:30:00\",\"2017-05-02T20:40:00\",\"2017-05-02T20:50:00\",\"2017-05-02T21:00:00\",\"2017-05-02T21:10:00\",\"2017-05-02T21:20:00\",\"2017-05-02T21:30:00\",\"2017-05-02T21:40:00\",\"2017-05-02T21:50:00\",\"2017-05-02T22:00:00\",\"2017-05-02T22:10:00\",\"2017-05-02T22:20:00\",\"2017-05-02T22:30:00\",\"2017-05-02T22:40:00\",\"2017-05-02T22:50:00\",\"2017-05-02T23:00:00\",\"2017-05-02T23:10:00\",\"2017-05-02T23:20:00\",\"2017-05-02T23:30:00\",\"2017-05-02T23:40:00\",\"2017-05-02T23:50:00\",\"2017-05-03T00:00:00\",\"2017-05-03T00:10:00\",\"2017-05-03T00:20:00\",\"2017-05-03T00:30:00\",\"2017-05-03T00:40:00\",\"2017-05-03T00:50:00\",\"2017-05-03T01:00:00\",\"2017-05-03T01:10:00\",\"2017-05-03T01:20:00\",\"2017-05-03T01:30:00\",\"2017-05-03T01:40:00\",\"2017-05-03T01:50:00\",\"2017-05-03T02:00:00\",\"2017-05-03T02:10:00\",\"2017-05-03T02:20:00\",\"2017-05-03T02:30:00\",\"2017-05-03T02:40:00\",\"2017-05-03T02:50:00\",\"2017-05-03T03:00:00\",\"2017-05-03T03:10:00\",\"2017-05-03T03:20:00\",\"2017-05-03T03:30:00\",\"2017-05-03T03:40:00\",\"2017-05-03T03:50:00\",\"2017-05-03T04:00:00\",\"2017-05-03T04:10:00\",\"2017-05-03T04:20:00\",\"2017-05-03T04:30:00\",\"2017-05-03T04:40:00\",\"2017-05-03T04:50:00\",\"2017-05-03T05:00:00\",\"2017-05-03T05:10:00\",\"2017-05-03T05:20:00\",\"2017-05-03T05:30:00\",\"2017-05-03T05:40:00\",\"2017-05-03T05:50:00\",\"2017-05-03T06:00:00\",\"2017-05-03T06:10:00\",\"2017-05-03T06:20:00\",\"2017-05-03T06:30:00\",\"2017-05-03T06:40:00\",\"2017-05-03T06:50:00\",\"2017-05-03T07:00:00\",\"2017-05-03T07:10:00\",\"2017-05-03T07:20:00\",\"2017-05-03T07:30:00\",\"2017-05-03T07:40:00\",\"2017-05-03T07:50:00\",\"2017-05-03T08:00:00\",\"2017-05-03T08:10:00\",\"2017-05-03T08:20:00\",\"2017-05-03T08:30:00\",\"2017-05-03T08:40:00\",\"2017-05-03T08:50:00\",\"2017-05-03T09:00:00\",\"2017-05-03T09:10:00\",\"2017-05-03T09:20:00\",\"2017-05-03T09:30:00\",\"2017-05-03T09:40:00\",\"2017-05-03T09:50:00\",\"2017-05-03T10:00:00\",\"2017-05-03T10:10:00\",\"2017-05-03T10:20:00\",\"2017-05-03T10:30:00\",\"2017-05-03T10:40:00\",\"2017-05-03T10:50:00\",\"2017-05-03T11:00:00\",\"2017-05-03T11:10:00\",\"2017-05-03T11:20:00\",\"2017-05-03T11:30:00\",\"2017-05-03T11:40:00\",\"2017-05-03T11:50:00\",\"2017-05-03T12:00:00\",\"2017-05-03T12:10:00\",\"2017-05-03T12:20:00\",\"2017-05-03T12:30:00\",\"2017-05-03T12:40:00\",\"2017-05-03T12:50:00\",\"2017-05-03T13:00:00\",\"2017-05-03T13:10:00\",\"2017-05-03T13:20:00\",\"2017-05-03T13:30:00\",\"2017-05-03T13:40:00\",\"2017-05-03T13:50:00\",\"2017-05-03T14:00:00\",\"2017-05-03T14:10:00\",\"2017-05-03T14:20:00\",\"2017-05-03T14:30:00\",\"2017-05-03T14:40:00\",\"2017-05-03T14:50:00\",\"2017-05-03T15:00:00\",\"2017-05-03T15:10:00\",\"2017-05-03T15:20:00\",\"2017-05-03T15:30:00\",\"2017-05-03T15:40:00\",\"2017-05-03T15:50:00\",\"2017-05-03T16:00:00\",\"2017-05-03T16:10:00\",\"2017-05-03T16:20:00\",\"2017-05-03T16:30:00\",\"2017-05-03T16:40:00\",\"2017-05-03T16:50:00\",\"2017-05-03T17:00:00\",\"2017-05-03T17:10:00\",\"2017-05-03T17:20:00\",\"2017-05-03T17:30:00\",\"2017-05-03T17:40:00\",\"2017-05-03T17:50:00\",\"2017-05-03T18:00:00\",\"2017-05-03T18:10:00\",\"2017-05-03T18:20:00\",\"2017-05-03T18:30:00\",\"2017-05-03T18:40:00\",\"2017-05-03T18:50:00\",\"2017-05-03T19:00:00\",\"2017-05-03T19:10:00\",\"2017-05-03T19:20:00\",\"2017-05-03T19:30:00\",\"2017-05-03T19:40:00\",\"2017-05-03T19:50:00\",\"2017-05-03T20:00:00\",\"2017-05-03T20:10:00\",\"2017-05-03T20:20:00\",\"2017-05-03T20:30:00\",\"2017-05-03T20:40:00\",\"2017-05-03T20:50:00\",\"2017-05-03T21:00:00\",\"2017-05-03T21:10:00\",\"2017-05-03T21:20:00\",\"2017-05-03T21:30:00\",\"2017-05-03T21:40:00\",\"2017-05-03T21:50:00\",\"2017-05-03T22:00:00\",\"2017-05-03T22:10:00\",\"2017-05-03T22:20:00\",\"2017-05-03T22:30:00\",\"2017-05-03T22:40:00\",\"2017-05-03T22:50:00\",\"2017-05-03T23:00:00\",\"2017-05-03T23:10:00\",\"2017-05-03T23:20:00\",\"2017-05-03T23:30:00\",\"2017-05-03T23:40:00\",\"2017-05-03T23:50:00\",\"2017-05-04T00:00:00\",\"2017-05-04T00:10:00\",\"2017-05-04T00:20:00\",\"2017-05-04T00:30:00\",\"2017-05-04T00:40:00\",\"2017-05-04T00:50:00\",\"2017-05-04T01:00:00\",\"2017-05-04T01:10:00\",\"2017-05-04T01:20:00\",\"2017-05-04T01:30:00\",\"2017-05-04T01:40:00\",\"2017-05-04T01:50:00\",\"2017-05-04T02:00:00\",\"2017-05-04T02:10:00\",\"2017-05-04T02:20:00\",\"2017-05-04T02:30:00\",\"2017-05-04T02:40:00\",\"2017-05-04T02:50:00\",\"2017-05-04T03:00:00\",\"2017-05-04T03:10:00\",\"2017-05-04T03:20:00\",\"2017-05-04T03:30:00\",\"2017-05-04T03:40:00\",\"2017-05-04T03:50:00\",\"2017-05-04T04:00:00\",\"2017-05-04T04:10:00\",\"2017-05-04T04:20:00\",\"2017-05-04T04:30:00\",\"2017-05-04T04:40:00\",\"2017-05-04T04:50:00\",\"2017-05-04T05:00:00\",\"2017-05-04T05:10:00\",\"2017-05-04T05:20:00\",\"2017-05-04T05:30:00\",\"2017-05-04T05:40:00\",\"2017-05-04T05:50:00\",\"2017-05-04T06:00:00\",\"2017-05-04T06:10:00\",\"2017-05-04T06:20:00\",\"2017-05-04T06:30:00\",\"2017-05-04T06:40:00\",\"2017-05-04T06:50:00\",\"2017-05-04T07:00:00\",\"2017-05-04T07:10:00\",\"2017-05-04T07:20:00\",\"2017-05-04T07:30:00\",\"2017-05-04T07:40:00\",\"2017-05-04T07:50:00\",\"2017-05-04T08:00:00\",\"2017-05-04T08:10:00\",\"2017-05-04T08:20:00\",\"2017-05-04T08:30:00\",\"2017-05-04T08:40:00\",\"2017-05-04T08:50:00\",\"2017-05-04T09:00:00\",\"2017-05-04T09:10:00\",\"2017-05-04T09:20:00\",\"2017-05-04T09:30:00\",\"2017-05-04T09:40:00\",\"2017-05-04T09:50:00\",\"2017-05-04T10:00:00\",\"2017-05-04T10:10:00\",\"2017-05-04T10:20:00\",\"2017-05-04T10:30:00\",\"2017-05-04T10:40:00\",\"2017-05-04T10:50:00\",\"2017-05-04T11:00:00\",\"2017-05-04T11:10:00\",\"2017-05-04T11:20:00\",\"2017-05-04T11:30:00\",\"2017-05-04T11:40:00\",\"2017-05-04T11:50:00\",\"2017-05-04T12:00:00\",\"2017-05-04T12:10:00\",\"2017-05-04T12:20:00\",\"2017-05-04T12:30:00\",\"2017-05-04T12:40:00\",\"2017-05-04T12:50:00\",\"2017-05-04T13:00:00\",\"2017-05-04T13:10:00\",\"2017-05-04T13:20:00\",\"2017-05-04T13:30:00\",\"2017-05-04T13:40:00\",\"2017-05-04T13:50:00\",\"2017-05-04T14:00:00\",\"2017-05-04T14:10:00\",\"2017-05-04T14:20:00\",\"2017-05-04T14:30:00\",\"2017-05-04T14:40:00\",\"2017-05-04T14:50:00\",\"2017-05-04T15:00:00\",\"2017-05-04T15:10:00\",\"2017-05-04T15:20:00\",\"2017-05-04T15:30:00\",\"2017-05-04T15:40:00\",\"2017-05-04T15:50:00\",\"2017-05-04T16:00:00\",\"2017-05-04T16:10:00\",\"2017-05-04T16:20:00\",\"2017-05-04T16:30:00\",\"2017-05-04T16:40:00\",\"2017-05-04T16:50:00\",\"2017-05-04T17:00:00\",\"2017-05-04T17:10:00\",\"2017-05-04T17:20:00\",\"2017-05-04T17:30:00\",\"2017-05-04T17:40:00\",\"2017-05-04T17:50:00\",\"2017-05-04T18:00:00\",\"2017-05-04T18:10:00\",\"2017-05-04T18:20:00\",\"2017-05-04T18:30:00\",\"2017-05-04T18:40:00\",\"2017-05-04T18:50:00\",\"2017-05-04T19:00:00\",\"2017-05-04T19:10:00\",\"2017-05-04T19:20:00\",\"2017-05-04T19:30:00\",\"2017-05-04T19:40:00\",\"2017-05-04T19:50:00\",\"2017-05-04T20:00:00\",\"2017-05-04T20:10:00\",\"2017-05-04T20:20:00\",\"2017-05-04T20:30:00\",\"2017-05-04T20:40:00\",\"2017-05-04T20:50:00\",\"2017-05-04T21:00:00\",\"2017-05-04T21:10:00\",\"2017-05-04T21:20:00\",\"2017-05-04T21:30:00\",\"2017-05-04T21:40:00\",\"2017-05-04T21:50:00\",\"2017-05-04T22:00:00\",\"2017-05-04T22:10:00\",\"2017-05-04T22:20:00\",\"2017-05-04T22:30:00\",\"2017-05-04T22:40:00\",\"2017-05-04T22:50:00\",\"2017-05-04T23:00:00\",\"2017-05-04T23:10:00\",\"2017-05-04T23:20:00\",\"2017-05-04T23:30:00\",\"2017-05-04T23:40:00\",\"2017-05-04T23:50:00\",\"2017-05-05T00:00:00\",\"2017-05-05T00:10:00\",\"2017-05-05T00:20:00\",\"2017-05-05T00:30:00\",\"2017-05-05T00:40:00\",\"2017-05-05T00:50:00\",\"2017-05-05T01:00:00\",\"2017-05-05T01:10:00\",\"2017-05-05T01:20:00\",\"2017-05-05T01:30:00\",\"2017-05-05T01:40:00\",\"2017-05-05T01:50:00\",\"2017-05-05T02:00:00\",\"2017-05-05T02:10:00\",\"2017-05-05T02:20:00\",\"2017-05-05T02:30:00\",\"2017-05-05T02:40:00\",\"2017-05-05T02:50:00\",\"2017-05-05T03:00:00\",\"2017-05-05T03:10:00\",\"2017-05-05T03:20:00\",\"2017-05-05T03:30:00\",\"2017-05-05T03:40:00\",\"2017-05-05T03:50:00\",\"2017-05-05T04:00:00\",\"2017-05-05T04:10:00\",\"2017-05-05T04:20:00\",\"2017-05-05T04:30:00\",\"2017-05-05T04:40:00\",\"2017-05-05T04:50:00\",\"2017-05-05T05:00:00\"],\"y\":[0.0,0.0,0.0,0.0,0.0,0.0,0.0,0.0,0.0,0.0,0.0,0.0,0.0,0.0,0.0,0.0,0.0,0.0,0.0,0.0,0.0,0.0,0.0,0.0,0.0,0.0,0.0,0.0,0.0,0.0,0.0,0.0,0.0,0.0,0.0,0.0,0.0,0.0,0.0,0.0,0.0,0.0,0.0,0.0,0.0,0.0,0.0,0.0,0.0,0.0,0.0,0.0971003605069372,0.0971003605069372,0.0971003605069372,0.0971003605069372,0.0971003605069372,0.0971003605069372,0.0971003605069372,0.0971003605069372,0.0971003605069372,0.0971003605069372,0.0971003605069372,0.0971003605069372,0.0971003605069372,0.0971003605069372,0.0971003605069372,0.0971003605069372,0.0971003605069372,0.0971003605069372,0.0971003605069372,0.0971003605069372,0.0971003605069372,0.0971003605069372,0.0971003605069372,0.0971003605069372,0.0971003605069372,0.0971003605069372,0.0971003605069372,0.0971003605069372,0.0971003605069372,0.0971003605069372,0.0971003605069372,0.0971003605069372,0.0971003605069372,0.0971003605069372,0.0971003605069372,0.0971003605069372,0.0971003605069372,0.0971003605069372,0.0971003605069372,0.0971003605069372,0.0971003605069372,0.0971003605069372,0.0971003605069372,0.0971003605069372,0.0971003605069372,0.0971003605069372,0.0971003605069372,0.0971003605069372,0.0971003605069372,0.0971003605069372,0.0971003605069372,0.0971003605069372,0.0971003605069372,0.0971003605069372,0.0971003605069372,0.0971003605069372,0.0971003605069372,0.0971003605069372,0.0971003605069372,0.237715852099414,0.237715852099414,0.237715852099414,0.237715852099414,0.237715852099414,0.237715852099414,0.237715852099414,0.237715852099414,0.237715852099414,0.237715852099414,0.237715852099414,0.237715852099414,0.237715852099414,0.237715852099414,0.237715852099414,0.237715852099414,0.237715852099414,0.237715852099414,0.237715852099414,0.237715852099414,0.237715852099414,0.237715852099414,0.237715852099414,0.237715852099414,0.237715852099414,0.237715852099414,0.237715852099414,0.237715852099414,0.237715852099414,0.237715852099414,0.237715852099414,0.237715852099414,0.237715852099414,0.237715852099414,0.237715852099414,0.237715852099414,0.237715852099414,0.237715852099414,0.237715852099414,0.237715852099414,0.237715852099414,0.237715852099414,0.237715852099414,0.237715852099414,0.237715852099414,0.237715852099414,0.237715852099414,0.237715852099414,0.237715852099414,0.237715852099414,0.237715852099414,0.237715852099414,0.237715852099414,0.237715852099414,0.237715852099414,0.237715852099414,0.237715852099414,0.237715852099414,0.237715852099414,0.237715852099414,0.237715852099414,0.237715852099414,0.237715852099414,0.237715852099414,0.237715852099414,0.237715852099414,0.237715852099414,0.237715852099414,0.237715852099414,0.237715852099414,0.237715852099414,0.237715852099414,0.237715852099414,0.237715852099414,0.237715852099414,0.237715852099414,0.237715852099414,0.237715852099414,0.237715852099414,0.237715852099414,0.237715852099414,0.4967444412495371,0.4967444412495371,0.4967444412495371,0.4967444412495371,0.4967444412495371,0.4967444412495371,0.4967444412495371,0.4967444412495371,0.4967444412495371,0.4967444412495371,0.4967444412495371,0.4967444412495371,0.4967444412495371,0.4967444412495371,0.4967444412495371,0.4967444412495371,0.4967444412495371,0.4967444412495371,0.4967444412495371,0.4967444412495371,0.4967444412495371,0.4967444412495371,0.4967444412495371,0.4967444412495371,0.4967444412495371,0.4967444412495371,0.4967444412495371,0.4967444412495371,0.4967444412495371,0.4967444412495371,0.4967444412495371,0.4967444412495371,0.4967444412495371,0.4967444412495371,0.4967444412495371,0.4967444412495371,0.4967444412495371,0.4967444412495371,0.4967444412495371,0.4967444412495371,0.4967444412495371,0.4967444412495371,0.4967444412495371,0.4967444412495371,0.4967444412495371,0.4967444412495371,0.4967444412495371,0.4967444412495371,0.4967444412495371,0.4967444412495371,0.4967444412495371,0.4967444412495371,0.4967444412495371,0.4967444412495371,0.4967444412495371,0.4967444412495371,0.4967444412495371,0.4967444412495371,0.4967444412495371,0.4967444412495371,0.4967444412495371,0.4967444412495371,0.4967444412495371,0.4967444412495371,0.4967444412495371,0.4967444412495371,0.6521616229714868,0.6521616229714868,0.6521616229714868,0.6521616229714868,0.6521616229714868,0.6521616229714868,0.6521616229714868,0.6521616229714868,0.6521616229714868,0.6521616229714868,0.6521616229714868,0.6521616229714868,0.6521616229714868,0.6521616229714868,0.6521616229714868,0.6521616229714868,0.6521616229714868,0.6521616229714868,0.6521616229714868,0.6521616229714868,0.6521616229714868,0.6521616229714868,0.6521616229714868,0.6521616229714868,0.6521616229714868,0.6521616229714868,0.6521616229714868,0.6521616229714868,0.6521616229714868,0.6521616229714868,0.6521616229714868,0.6521616229714868,0.6521616229714868,0.6521616229714868,0.6521616229714868,0.6521616229714868,0.6521616229714868,0.6521616229714868,0.6521616229714868,0.6521616229714868,0.6521616229714868,0.6521616229714868,0.6521616229714868,0.6521616229714868,0.6521616229714868,0.6521616229714868,0.6521616229714868,0.6521616229714868,0.6521616229714868,0.6521616229714868,0.6521616229714868,0.6521616229714868,0.6521616229714868,0.6521616229714868,0.6521616229714868,0.6521616229714868,0.6521616229714868,0.6521616229714868,0.6521616229714868,0.6521616229714868,0.6521616229714868,0.6521616229714868,0.6521616229714868,0.6521616229714868,0.6521616229714868,0.6521616229714868,0.6521616229714868,0.6521616229714868,0.6521616229714868,0.6521616229714868,0.6521616229714868,0.6521616229714868,0.6521616229714868,0.6521616229714868,0.6521616229714868,0.6521616229714868,0.6521616229714868,0.6521616229714868,0.6521616229714868,0.6521616229714868,0.6521616229714868,0.6521616229714868,0.6521616229714868,0.7187689638802793],\"type\":\"scatter\"},{\"hoverlabel\":{\"namelength\":-1},\"mode\":\"lines+markers\",\"name\":\"FV33_20170811\",\"x\":[\"2017-08-11T20:10:00\",\"2017-08-11T20:20:00\",\"2017-08-11T20:30:00\",\"2017-08-11T20:40:00\",\"2017-08-11T20:50:00\",\"2017-08-11T21:00:00\",\"2017-08-11T21:10:00\",\"2017-08-11T21:20:00\",\"2017-08-11T21:30:00\",\"2017-08-11T21:40:00\",\"2017-08-11T21:50:00\",\"2017-08-11T22:00:00\",\"2017-08-11T22:10:00\",\"2017-08-11T22:20:00\",\"2017-08-11T22:30:00\",\"2017-08-11T22:40:00\",\"2017-08-11T22:50:00\",\"2017-08-11T23:00:00\",\"2017-08-11T23:10:00\",\"2017-08-11T23:20:00\",\"2017-08-11T23:30:00\",\"2017-08-11T23:40:00\",\"2017-08-11T23:50:00\",\"2017-08-12T00:00:00\",\"2017-08-12T00:10:00\",\"2017-08-12T00:20:00\",\"2017-08-12T00:30:00\",\"2017-08-12T00:40:00\",\"2017-08-12T00:50:00\",\"2017-08-12T01:00:00\",\"2017-08-12T01:10:00\",\"2017-08-12T01:20:00\",\"2017-08-12T01:30:00\",\"2017-08-12T01:40:00\",\"2017-08-12T01:50:00\",\"2017-08-12T02:00:00\",\"2017-08-12T02:10:00\",\"2017-08-12T02:20:00\",\"2017-08-12T02:30:00\",\"2017-08-12T02:40:00\",\"2017-08-12T02:50:00\",\"2017-08-12T03:00:00\",\"2017-08-12T03:10:00\",\"2017-08-12T03:20:00\",\"2017-08-12T03:30:00\",\"2017-08-12T03:40:00\",\"2017-08-12T03:50:00\",\"2017-08-12T04:00:00\",\"2017-08-12T04:10:00\",\"2017-08-12T04:20:00\",\"2017-08-12T04:30:00\",\"2017-08-12T04:40:00\",\"2017-08-12T04:50:00\",\"2017-08-12T05:00:00\",\"2017-08-12T05:10:00\",\"2017-08-12T05:20:00\",\"2017-08-12T05:30:00\",\"2017-08-12T05:40:00\",\"2017-08-12T05:50:00\",\"2017-08-12T06:00:00\",\"2017-08-12T06:10:00\",\"2017-08-12T06:20:00\",\"2017-08-12T06:30:00\",\"2017-08-12T06:40:00\",\"2017-08-12T06:50:00\",\"2017-08-12T07:00:00\",\"2017-08-12T07:10:00\",\"2017-08-12T07:20:00\",\"2017-08-12T07:30:00\",\"2017-08-12T07:40:00\",\"2017-08-12T07:50:00\",\"2017-08-12T08:00:00\",\"2017-08-12T08:10:00\",\"2017-08-12T08:20:00\",\"2017-08-12T08:30:00\",\"2017-08-12T08:40:00\",\"2017-08-12T08:50:00\",\"2017-08-12T09:00:00\",\"2017-08-12T09:10:00\",\"2017-08-12T09:20:00\",\"2017-08-12T09:30:00\",\"2017-08-12T09:40:00\",\"2017-08-12T09:50:00\",\"2017-08-12T10:00:00\",\"2017-08-12T10:10:00\",\"2017-08-12T10:20:00\",\"2017-08-12T10:30:00\",\"2017-08-12T10:40:00\",\"2017-08-12T10:50:00\",\"2017-08-12T11:00:00\",\"2017-08-12T11:10:00\",\"2017-08-12T11:20:00\",\"2017-08-12T11:30:00\",\"2017-08-12T11:40:00\",\"2017-08-12T11:50:00\",\"2017-08-12T12:00:00\",\"2017-08-12T12:10:00\",\"2017-08-12T12:20:00\",\"2017-08-12T12:30:00\",\"2017-08-12T12:40:00\",\"2017-08-12T12:50:00\",\"2017-08-12T13:00:00\",\"2017-08-12T13:10:00\",\"2017-08-12T13:20:00\",\"2017-08-12T13:30:00\",\"2017-08-12T13:40:00\",\"2017-08-12T13:50:00\",\"2017-08-12T14:00:00\",\"2017-08-12T14:10:00\",\"2017-08-12T14:20:00\",\"2017-08-12T14:30:00\",\"2017-08-12T14:40:00\",\"2017-08-12T14:50:00\",\"2017-08-12T15:00:00\",\"2017-08-12T15:10:00\",\"2017-08-12T15:20:00\",\"2017-08-12T15:30:00\",\"2017-08-12T15:40:00\",\"2017-08-12T15:50:00\",\"2017-08-12T16:00:00\",\"2017-08-12T16:10:00\",\"2017-08-12T16:20:00\",\"2017-08-12T16:30:00\",\"2017-08-12T16:40:00\",\"2017-08-12T16:50:00\",\"2017-08-12T17:00:00\",\"2017-08-12T17:10:00\",\"2017-08-12T17:20:00\",\"2017-08-12T17:30:00\",\"2017-08-12T17:40:00\",\"2017-08-12T17:50:00\",\"2017-08-12T18:00:00\",\"2017-08-12T18:10:00\",\"2017-08-12T18:20:00\",\"2017-08-12T18:30:00\",\"2017-08-12T18:40:00\",\"2017-08-12T18:50:00\",\"2017-08-12T19:00:00\",\"2017-08-12T19:10:00\",\"2017-08-12T19:20:00\",\"2017-08-12T19:30:00\",\"2017-08-12T19:40:00\",\"2017-08-12T19:50:00\",\"2017-08-12T20:00:00\",\"2017-08-12T20:10:00\",\"2017-08-12T20:20:00\",\"2017-08-12T20:30:00\",\"2017-08-12T20:40:00\",\"2017-08-12T20:50:00\",\"2017-08-12T21:00:00\",\"2017-08-12T21:10:00\",\"2017-08-12T21:20:00\",\"2017-08-12T21:30:00\",\"2017-08-12T21:40:00\",\"2017-08-12T21:50:00\",\"2017-08-12T22:00:00\",\"2017-08-12T22:10:00\",\"2017-08-12T22:20:00\",\"2017-08-12T22:30:00\",\"2017-08-12T22:40:00\",\"2017-08-12T22:50:00\",\"2017-08-12T23:00:00\",\"2017-08-12T23:10:00\",\"2017-08-12T23:20:00\",\"2017-08-12T23:30:00\",\"2017-08-12T23:40:00\",\"2017-08-12T23:50:00\",\"2017-08-13T00:00:00\",\"2017-08-13T00:10:00\",\"2017-08-13T00:20:00\",\"2017-08-13T00:30:00\",\"2017-08-13T00:40:00\",\"2017-08-13T00:50:00\",\"2017-08-13T01:00:00\",\"2017-08-13T01:10:00\",\"2017-08-13T01:20:00\",\"2017-08-13T01:30:00\",\"2017-08-13T01:40:00\",\"2017-08-13T01:50:00\",\"2017-08-13T02:00:00\",\"2017-08-13T02:10:00\",\"2017-08-13T02:20:00\",\"2017-08-13T02:30:00\",\"2017-08-13T02:40:00\",\"2017-08-13T02:50:00\",\"2017-08-13T03:00:00\",\"2017-08-13T03:10:00\",\"2017-08-13T03:20:00\",\"2017-08-13T03:30:00\",\"2017-08-13T03:40:00\",\"2017-08-13T03:50:00\",\"2017-08-13T04:00:00\",\"2017-08-13T04:10:00\",\"2017-08-13T04:20:00\",\"2017-08-13T04:30:00\",\"2017-08-13T04:40:00\",\"2017-08-13T04:50:00\",\"2017-08-13T05:00:00\",\"2017-08-13T05:10:00\",\"2017-08-13T05:20:00\",\"2017-08-13T05:30:00\",\"2017-08-13T05:40:00\",\"2017-08-13T05:50:00\",\"2017-08-13T06:00:00\",\"2017-08-13T06:10:00\",\"2017-08-13T06:20:00\",\"2017-08-13T06:30:00\",\"2017-08-13T06:40:00\",\"2017-08-13T06:50:00\",\"2017-08-13T07:00:00\",\"2017-08-13T07:10:00\",\"2017-08-13T07:20:00\",\"2017-08-13T07:30:00\",\"2017-08-13T07:40:00\",\"2017-08-13T07:50:00\",\"2017-08-13T08:00:00\",\"2017-08-13T08:10:00\",\"2017-08-13T08:20:00\",\"2017-08-13T08:30:00\",\"2017-08-13T08:40:00\",\"2017-08-13T08:50:00\",\"2017-08-13T09:00:00\",\"2017-08-13T09:10:00\",\"2017-08-13T09:20:00\",\"2017-08-13T09:30:00\",\"2017-08-13T09:40:00\",\"2017-08-13T09:50:00\",\"2017-08-13T10:00:00\",\"2017-08-13T10:10:00\",\"2017-08-13T10:20:00\",\"2017-08-13T10:30:00\",\"2017-08-13T10:40:00\",\"2017-08-13T10:50:00\",\"2017-08-13T11:00:00\",\"2017-08-13T11:10:00\",\"2017-08-13T11:20:00\",\"2017-08-13T11:30:00\",\"2017-08-13T11:40:00\",\"2017-08-13T11:50:00\",\"2017-08-13T12:00:00\",\"2017-08-13T12:10:00\",\"2017-08-13T12:20:00\",\"2017-08-13T12:30:00\",\"2017-08-13T12:40:00\",\"2017-08-13T12:50:00\",\"2017-08-13T13:00:00\",\"2017-08-13T13:10:00\",\"2017-08-13T13:20:00\",\"2017-08-13T13:30:00\",\"2017-08-13T13:40:00\",\"2017-08-13T13:50:00\",\"2017-08-13T14:00:00\",\"2017-08-13T14:10:00\",\"2017-08-13T14:20:00\",\"2017-08-13T14:30:00\",\"2017-08-13T14:40:00\",\"2017-08-13T14:50:00\",\"2017-08-13T15:00:00\",\"2017-08-13T15:10:00\",\"2017-08-13T15:20:00\",\"2017-08-13T15:30:00\",\"2017-08-13T15:40:00\",\"2017-08-13T15:50:00\",\"2017-08-13T16:00:00\"],\"y\":[0.0,0.0,0.0,0.0,0.0,0.0,0.0,0.0,0.0,0.0,0.0,0.0,0.0,0.0,0.0,0.0,0.0,0.0,0.0,0.0,0.0,0.0,0.0,0.0,0.0,0.0,0.0,0.0,0.0,0.0,0.0,0.0,0.0,0.0,0.0,0.0,0.0,0.0,0.0,0.0,0.0,0.0,0.0,0.0,0.0,0.0,0.0,0.0,0.0,0.0,0.0,0.0,0.0,0.0894288836247458,0.0894288836247458,0.0894288836247458,0.0894288836247458,0.0894288836247458,0.0894288836247458,0.0894288836247458,0.0894288836247458,0.0894288836247458,0.0894288836247458,0.0894288836247458,0.0894288836247458,0.0894288836247458,0.0894288836247458,0.0894288836247458,0.0894288836247458,0.0894288836247458,0.0894288836247458,0.0894288836247458,0.0894288836247458,0.0894288836247458,0.0894288836247458,0.0894288836247458,0.0894288836247458,0.0894288836247458,0.0894288836247458,0.0894288836247458,0.0894288836247458,0.0894288836247458,0.0894288836247458,0.0894288836247458,0.0894288836247458,0.0894288836247458,0.0894288836247458,0.0894288836247458,0.0894288836247458,0.0894288836247458,0.0894288836247458,0.0894288836247458,0.0894288836247458,0.0894288836247458,0.0894288836247458,0.0894288836247458,0.0894288836247458,0.0894288836247458,0.0894288836247458,0.0894288836247458,0.0894288836247458,0.0894288836247458,0.0894288836247458,0.0894288836247458,0.0894288836247458,0.0894288836247458,0.0894288836247458,0.0894288836247458,0.0894288836247458,0.0894288836247458,0.2374892254548466,0.2374892254548466,0.2374892254548466,0.2374892254548466,0.2374892254548466,0.2374892254548466,0.2374892254548466,0.2374892254548466,0.2374892254548466,0.2374892254548466,0.2374892254548466,0.2374892254548466,0.2374892254548466,0.2374892254548466,0.2374892254548466,0.2374892254548466,0.2374892254548466,0.2374892254548466,0.2374892254548466,0.2374892254548466,0.2374892254548466,0.2374892254548466,0.2374892254548466,0.2374892254548466,0.2374892254548466,0.2374892254548466,0.2374892254548466,0.2374892254548466,0.2374892254548466,0.2374892254548466,0.2374892254548466,0.2374892254548466,0.2374892254548466,0.2374892254548466,0.2374892254548466,0.2374892254548466,0.2374892254548466,0.2374892254548466,0.2374892254548466,0.2374892254548466,0.2374892254548466,0.2374892254548466,0.2374892254548466,0.2374892254548466,0.2374892254548466,0.2374892254548466,0.2374892254548466,0.2374892254548466,0.2374892254548466,0.2374892254548466,0.2374892254548466,0.2374892254548466,0.2374892254548466,0.2374892254548466,0.2374892254548466,0.2374892254548466,0.2374892254548466,0.2374892254548466,0.2374892254548466,0.2374892254548466,0.2374892254548466,0.2374892254548466,0.2374892254548466,0.2374892254548466,0.2374892254548466,0.2374892254548466,0.2374892254548466,0.2374892254548466,0.2374892254548466,0.2374892254548466,0.2374892254548466,0.2374892254548466,0.2374892254548466,0.2374892254548466,0.2374892254548466,0.2374892254548466,0.2374892254548466,0.4669827835317718,0.4669827835317718,0.4669827835317718,0.4669827835317718,0.4669827835317718,0.4669827835317718,0.4669827835317718,0.4669827835317718,0.4669827835317718,0.4669827835317718,0.4669827835317718,0.4669827835317718,0.4669827835317718,0.4669827835317718,0.4669827835317718,0.4669827835317718,0.4669827835317718,0.4669827835317718,0.4669827835317718,0.4669827835317718,0.4669827835317718,0.4669827835317718,0.4669827835317718,0.4669827835317718,0.4669827835317718,0.4669827835317718,0.4669827835317718,0.4669827835317718,0.4669827835317718,0.4669827835317718,0.4669827835317718,0.4669827835317718,0.4669827835317718,0.4669827835317718,0.4669827835317718,0.4669827835317718,0.4669827835317718,0.4669827835317718,0.4669827835317718,0.4669827835317718,0.4669827835317718,0.4669827835317718,0.4669827835317718,0.4669827835317718,0.4669827835317718,0.4669827835317718,0.4669827835317718,0.4669827835317718,0.4669827835317718,0.4669827835317718,0.4669827835317718,0.4669827835317718,0.4669827835317718,0.4669827835317718,0.4669827835317718,0.4669827835317718,0.4669827835317718,0.4669827835317718,0.4669827835317718,0.4669827835317718,0.4669827835317718,0.4669827835317718,0.4669827835317718,0.6076400800300985,0.6076400800300985,0.6076400800300985,0.6076400800300985,0.6076400800300985,0.6076400800300985,0.6076400800300985,0.6076400800300985,0.6076400800300985,0.6076400800300985,0.6076400800300985,0.6076400800300985,0.6076400800300985,0.6076400800300985],\"type\":\"scatter\"},{\"hoverlabel\":{\"namelength\":-1},\"mode\":\"lines+markers\",\"name\":\"FV34_20170310\",\"x\":[\"2017-03-10T18:40:00\",\"2017-03-10T18:50:00\",\"2017-03-10T19:00:00\",\"2017-03-10T19:10:00\",\"2017-03-10T19:20:00\",\"2017-03-10T19:30:00\",\"2017-03-10T19:40:00\",\"2017-03-10T19:50:00\",\"2017-03-10T20:00:00\",\"2017-03-10T20:10:00\",\"2017-03-10T20:20:00\",\"2017-03-10T20:30:00\",\"2017-03-10T20:40:00\",\"2017-03-10T20:50:00\",\"2017-03-10T21:00:00\",\"2017-03-10T21:10:00\",\"2017-03-10T21:20:00\",\"2017-03-10T21:30:00\",\"2017-03-10T21:40:00\",\"2017-03-10T23:10:00\",\"2017-03-10T23:20:00\",\"2017-03-10T23:30:00\",\"2017-03-10T23:40:00\",\"2017-03-10T23:50:00\",\"2017-03-11T00:00:00\",\"2017-03-11T00:10:00\",\"2017-03-11T00:20:00\",\"2017-03-11T00:30:00\",\"2017-03-11T00:40:00\",\"2017-03-11T00:50:00\",\"2017-03-11T01:00:00\",\"2017-03-11T01:10:00\",\"2017-03-11T01:20:00\",\"2017-03-11T01:30:00\",\"2017-03-11T01:40:00\",\"2017-03-11T01:50:00\",\"2017-03-11T02:00:00\",\"2017-03-11T02:10:00\",\"2017-03-11T02:20:00\",\"2017-03-11T02:30:00\",\"2017-03-11T02:40:00\",\"2017-03-11T02:50:00\",\"2017-03-11T03:00:00\",\"2017-03-11T03:10:00\",\"2017-03-11T03:20:00\",\"2017-03-11T03:30:00\",\"2017-03-11T03:40:00\",\"2017-03-11T03:50:00\",\"2017-03-11T04:00:00\",\"2017-03-11T04:10:00\",\"2017-03-11T04:20:00\",\"2017-03-11T04:30:00\",\"2017-03-11T04:40:00\",\"2017-03-11T04:50:00\",\"2017-03-11T05:00:00\",\"2017-03-11T05:10:00\",\"2017-03-11T05:20:00\",\"2017-03-11T05:30:00\",\"2017-03-11T05:40:00\",\"2017-03-11T05:50:00\",\"2017-03-11T06:00:00\",\"2017-03-11T06:10:00\",\"2017-03-11T06:20:00\",\"2017-03-11T06:30:00\",\"2017-03-11T06:40:00\",\"2017-03-11T06:50:00\",\"2017-03-11T07:00:00\",\"2017-03-11T07:10:00\",\"2017-03-11T07:20:00\",\"2017-03-11T07:30:00\",\"2017-03-11T07:40:00\",\"2017-03-11T07:50:00\",\"2017-03-11T08:00:00\",\"2017-03-11T08:10:00\",\"2017-03-11T08:20:00\",\"2017-03-11T08:30:00\",\"2017-03-11T08:40:00\",\"2017-03-11T08:50:00\",\"2017-03-11T09:00:00\",\"2017-03-11T09:10:00\",\"2017-03-11T09:20:00\",\"2017-03-11T09:30:00\",\"2017-03-11T09:40:00\",\"2017-03-11T09:50:00\",\"2017-03-11T10:00:00\",\"2017-03-11T10:10:00\",\"2017-03-11T10:20:00\",\"2017-03-11T10:30:00\",\"2017-03-11T10:40:00\",\"2017-03-11T10:50:00\",\"2017-03-11T11:00:00\",\"2017-03-11T11:10:00\",\"2017-03-11T11:20:00\",\"2017-03-11T11:30:00\",\"2017-03-11T11:40:00\",\"2017-03-11T11:50:00\",\"2017-03-11T12:00:00\",\"2017-03-11T12:10:00\",\"2017-03-11T12:20:00\",\"2017-03-11T12:30:00\",\"2017-03-11T12:40:00\",\"2017-03-11T12:50:00\",\"2017-03-11T13:00:00\",\"2017-03-11T13:10:00\",\"2017-03-11T13:20:00\",\"2017-03-11T13:30:00\",\"2017-03-11T13:40:00\",\"2017-03-11T13:50:00\",\"2017-03-11T14:00:00\",\"2017-03-11T14:10:00\",\"2017-03-11T14:20:00\",\"2017-03-11T14:30:00\",\"2017-03-11T14:40:00\",\"2017-03-11T14:50:00\",\"2017-03-11T15:00:00\",\"2017-03-11T15:10:00\",\"2017-03-11T15:20:00\",\"2017-03-11T15:30:00\",\"2017-03-11T15:40:00\",\"2017-03-11T15:50:00\",\"2017-03-11T16:00:00\",\"2017-03-11T16:10:00\",\"2017-03-11T16:20:00\",\"2017-03-11T16:30:00\",\"2017-03-11T16:40:00\",\"2017-03-11T16:50:00\",\"2017-03-11T17:00:00\",\"2017-03-11T17:10:00\",\"2017-03-11T17:20:00\",\"2017-03-11T17:30:00\",\"2017-03-11T17:40:00\",\"2017-03-11T17:50:00\",\"2017-03-11T18:00:00\",\"2017-03-11T18:10:00\",\"2017-03-11T18:20:00\",\"2017-03-11T18:30:00\",\"2017-03-11T18:40:00\",\"2017-03-11T18:50:00\",\"2017-03-11T19:00:00\",\"2017-03-11T19:10:00\",\"2017-03-11T19:20:00\",\"2017-03-11T19:30:00\",\"2017-03-11T19:40:00\",\"2017-03-11T19:50:00\",\"2017-03-11T20:00:00\",\"2017-03-11T20:10:00\",\"2017-03-11T20:20:00\",\"2017-03-11T20:30:00\",\"2017-03-11T20:40:00\",\"2017-03-11T20:50:00\",\"2017-03-11T21:00:00\",\"2017-03-11T21:10:00\",\"2017-03-11T21:20:00\",\"2017-03-11T21:30:00\",\"2017-03-11T21:40:00\",\"2017-03-11T21:50:00\",\"2017-03-11T22:00:00\",\"2017-03-11T22:10:00\",\"2017-03-11T22:20:00\",\"2017-03-11T22:30:00\",\"2017-03-11T22:40:00\",\"2017-03-11T22:50:00\",\"2017-03-11T23:00:00\",\"2017-03-11T23:10:00\",\"2017-03-11T23:20:00\",\"2017-03-11T23:30:00\",\"2017-03-11T23:40:00\",\"2017-03-11T23:50:00\",\"2017-03-12T00:00:00\",\"2017-03-12T00:10:00\",\"2017-03-12T00:20:00\",\"2017-03-12T00:30:00\",\"2017-03-12T00:40:00\",\"2017-03-12T00:50:00\",\"2017-03-12T01:00:00\",\"2017-03-12T01:10:00\",\"2017-03-12T01:20:00\",\"2017-03-12T01:30:00\",\"2017-03-12T01:40:00\",\"2017-03-12T01:50:00\",\"2017-03-12T02:00:00\",\"2017-03-12T02:10:00\",\"2017-03-12T02:20:00\",\"2017-03-12T02:30:00\",\"2017-03-12T02:40:00\",\"2017-03-12T02:50:00\",\"2017-03-12T03:00:00\",\"2017-03-12T03:10:00\",\"2017-03-12T03:20:00\",\"2017-03-12T03:30:00\",\"2017-03-12T03:40:00\",\"2017-03-12T03:50:00\",\"2017-03-12T04:00:00\",\"2017-03-12T04:10:00\",\"2017-03-12T04:20:00\",\"2017-03-12T04:30:00\",\"2017-03-12T04:40:00\",\"2017-03-12T04:50:00\",\"2017-03-12T05:00:00\",\"2017-03-12T05:10:00\",\"2017-03-12T05:20:00\",\"2017-03-12T05:30:00\",\"2017-03-12T05:40:00\",\"2017-03-12T05:50:00\",\"2017-03-12T06:00:00\",\"2017-03-12T06:10:00\",\"2017-03-12T06:20:00\",\"2017-03-12T06:30:00\",\"2017-03-12T06:40:00\",\"2017-03-12T06:50:00\",\"2017-03-12T07:00:00\",\"2017-03-12T07:10:00\",\"2017-03-12T07:20:00\",\"2017-03-12T07:30:00\",\"2017-03-12T07:40:00\",\"2017-03-12T07:50:00\",\"2017-03-12T08:00:00\",\"2017-03-12T08:10:00\",\"2017-03-12T08:20:00\",\"2017-03-12T08:30:00\",\"2017-03-12T08:40:00\",\"2017-03-12T08:50:00\",\"2017-03-12T09:00:00\",\"2017-03-12T09:10:00\",\"2017-03-12T09:20:00\",\"2017-03-12T09:30:00\",\"2017-03-12T09:40:00\",\"2017-03-12T09:50:00\",\"2017-03-12T10:00:00\",\"2017-03-12T10:10:00\",\"2017-03-12T10:20:00\",\"2017-03-12T10:30:00\",\"2017-03-12T10:40:00\",\"2017-03-12T10:50:00\",\"2017-03-12T11:00:00\",\"2017-03-12T11:10:00\",\"2017-03-12T11:20:00\",\"2017-03-12T11:30:00\",\"2017-03-12T11:40:00\",\"2017-03-12T11:50:00\",\"2017-03-12T12:00:00\",\"2017-03-12T12:10:00\",\"2017-03-12T12:20:00\",\"2017-03-12T12:30:00\",\"2017-03-12T12:40:00\",\"2017-03-12T12:50:00\",\"2017-03-12T13:00:00\",\"2017-03-12T13:10:00\",\"2017-03-12T13:20:00\",\"2017-03-12T13:30:00\",\"2017-03-12T13:40:00\",\"2017-03-12T13:50:00\",\"2017-03-12T14:00:00\",\"2017-03-12T14:10:00\",\"2017-03-12T14:20:00\",\"2017-03-12T14:30:00\",\"2017-03-12T14:40:00\",\"2017-03-12T14:50:00\",\"2017-03-12T15:00:00\",\"2017-03-12T15:10:00\",\"2017-03-12T15:20:00\",\"2017-03-12T15:30:00\"],\"y\":[0.0,0.0,0.0,0.0,0.0,0.0,0.0,0.0,0.0,0.0,0.0,0.0,0.0,0.0,0.0,0.0,0.0,0.0,0.0,0.0,0.0,0.0,0.0,0.0,0.0,0.0,0.0,0.0,0.0,0.0,0.0,0.0,0.0,0.0,0.0,0.0,0.0,0.0,0.0,0.0,0.0,0.0,0.0,0.0,0.0,0.0,0.0,0.0,0.0,0.0,0.0,0.0,0.0,0.0,0.0,0.0,0.0,0.0,0.0,0.1487716665331323,0.1487716665331323,0.1487716665331323,0.1487716665331323,0.1487716665331323,0.1487716665331323,0.1487716665331323,0.1487716665331323,0.1487716665331323,0.1487716665331323,0.1487716665331323,0.1487716665331323,0.1487716665331323,0.1487716665331323,0.1487716665331323,0.1487716665331323,0.1487716665331323,0.1487716665331323,0.1487716665331323,0.1487716665331323,0.1487716665331323,0.1487716665331323,0.1487716665331323,0.1487716665331323,0.1487716665331323,0.1487716665331323,0.1487716665331323,0.1487716665331323,0.1487716665331323,0.1487716665331323,0.1487716665331323,0.1487716665331323,0.1487716665331323,0.1487716665331323,0.1487716665331323,0.1487716665331323,0.1487716665331323,0.1487716665331323,0.1487716665331323,0.1487716665331323,0.1487716665331323,0.1487716665331323,0.1487716665331323,0.1487716665331323,0.1487716665331323,0.1487716665331323,0.1487716665331323,0.1487716665331323,0.1487716665331323,0.1487716665331323,0.1487716665331323,0.1487716665331323,0.1487716665331323,0.1487716665331323,0.1487716665331323,0.1487716665331323,0.1487716665331323,0.1487716665331323,0.1487716665331323,0.1487716665331323,0.1487716665331323,0.1487716665331323,0.3412233179880624,0.3412233179880624,0.3412233179880624,0.3412233179880624,0.3412233179880624,0.3412233179880624,0.3412233179880624,0.3412233179880624,0.3412233179880624,0.3412233179880624,0.3412233179880624,0.3412233179880624,0.3412233179880624,0.3412233179880624,0.3412233179880624,0.3412233179880624,0.3412233179880624,0.3412233179880624,0.3412233179880624,0.3412233179880624,0.3412233179880624,0.3412233179880624,0.3412233179880624,0.3412233179880624,0.3412233179880624,0.3412233179880624,0.3412233179880624,0.3412233179880624,0.3412233179880624,0.3412233179880624,0.3412233179880624,0.3412233179880624,0.3412233179880624,0.3412233179880624,0.3412233179880624,0.3412233179880624,0.3412233179880624,0.3412233179880624,0.3412233179880624,0.3412233179880624,0.3412233179880624,0.3412233179880624,0.3412233179880624,0.3412233179880624,0.3412233179880624,0.3412233179880624,0.3412233179880624,0.3412233179880624,0.3412233179880624,0.3412233179880624,0.3412233179880624,0.3412233179880624,0.3412233179880624,0.3412233179880624,0.3412233179880624,0.3412233179880624,0.3412233179880624,0.3412233179880624,0.3412233179880624,0.3412233179880624,0.3412233179880624,0.3412233179880624,0.3412233179880624,0.3412233179880624,0.3412233179880624,0.3412233179880624,0.3412233179880624,0.3412233179880624,0.3412233179880624,0.3412233179880624,0.3412233179880624,0.3412233179880624,0.3412233179880624,0.3412233179880624,0.3412233179880624,0.3412233179880624,0.3412233179880624,0.5706848263941955,0.5706848263941955,0.5706848263941955,0.5706848263941955,0.5706848263941955,0.5706848263941955,0.5706848263941955,0.5706848263941955,0.5706848263941955,0.5706848263941955,0.5706848263941955,0.5706848263941955,0.5706848263941955,0.5706848263941955,0.5706848263941955,0.5706848263941955,0.5706848263941955,0.5706848263941955,0.5706848263941955,0.5706848263941955,0.5706848263941955,0.5706848263941955,0.5706848263941955,0.5706848263941955,0.5706848263941955,0.5706848263941955,0.5706848263941955,0.5706848263941955,0.5706848263941955,0.5706848263941955,0.5706848263941955,0.5706848263941955,0.5706848263941955,0.5706848263941955,0.5706848263941955,0.5706848263941955,0.5706848263941955,0.5706848263941955,0.5706848263941955,0.5706848263941955,0.5706848263941955,0.5706848263941955,0.5706848263941955,0.5706848263941955,0.5706848263941955,0.5706848263941955,0.5706848263941955,0.5706848263941955,0.5706848263941955,0.5706848263941955,0.5706848263941955,0.5706848263941955,0.5706848263941955,0.5706848263941955,0.5706848263941955,0.5706848263941955,0.5706848263941955,0.5706848263941955,0.5706848263941955,0.7113225581130223,0.7113225581130223,0.7113225581130223,0.7113225581130223,0.7113225581130223],\"type\":\"scatter\"},{\"hoverlabel\":{\"namelength\":-1},\"mode\":\"lines+markers\",\"name\":\"FV34_20170424\",\"x\":[\"2017-04-24T06:30:00\",\"2017-04-24T06:40:00\",\"2017-04-24T06:50:00\",\"2017-04-24T07:00:00\",\"2017-04-24T07:10:00\",\"2017-04-24T07:20:00\",\"2017-04-24T07:30:00\",\"2017-04-24T07:40:00\",\"2017-04-24T07:50:00\",\"2017-04-24T08:00:00\",\"2017-04-24T08:10:00\",\"2017-04-24T08:20:00\",\"2017-04-24T08:30:00\",\"2017-04-24T08:40:00\",\"2017-04-24T08:50:00\",\"2017-04-24T09:00:00\",\"2017-04-24T09:10:00\",\"2017-04-24T09:20:00\",\"2017-04-24T09:30:00\",\"2017-04-24T09:40:00\",\"2017-04-24T09:50:00\",\"2017-04-24T10:00:00\",\"2017-04-24T10:10:00\",\"2017-04-24T10:20:00\",\"2017-04-24T10:30:00\",\"2017-04-24T10:40:00\",\"2017-04-24T10:50:00\",\"2017-04-24T11:00:00\",\"2017-04-24T11:10:00\",\"2017-04-24T11:20:00\",\"2017-04-24T11:30:00\",\"2017-04-24T11:40:00\",\"2017-04-24T11:50:00\",\"2017-04-24T12:00:00\",\"2017-04-24T12:10:00\",\"2017-04-24T12:20:00\",\"2017-04-24T12:30:00\",\"2017-04-24T12:40:00\",\"2017-04-24T12:50:00\",\"2017-04-24T13:00:00\",\"2017-04-24T13:10:00\",\"2017-04-24T13:20:00\",\"2017-04-24T13:30:00\",\"2017-04-24T13:40:00\",\"2017-04-24T13:50:00\",\"2017-04-24T14:00:00\",\"2017-04-24T14:10:00\",\"2017-04-24T14:20:00\",\"2017-04-24T14:30:00\",\"2017-04-24T14:40:00\",\"2017-04-24T14:50:00\",\"2017-04-24T15:00:00\",\"2017-04-24T15:10:00\",\"2017-04-24T15:20:00\",\"2017-04-24T15:30:00\",\"2017-04-24T15:40:00\",\"2017-04-24T15:50:00\",\"2017-04-24T16:00:00\",\"2017-04-24T16:10:00\",\"2017-04-24T16:20:00\",\"2017-04-24T16:30:00\",\"2017-04-24T16:40:00\",\"2017-04-24T16:50:00\",\"2017-04-24T17:00:00\",\"2017-04-24T17:10:00\",\"2017-04-24T17:20:00\",\"2017-04-24T17:30:00\",\"2017-04-24T17:40:00\",\"2017-04-24T17:50:00\",\"2017-04-24T18:00:00\",\"2017-04-24T18:10:00\",\"2017-04-24T18:20:00\",\"2017-04-24T18:30:00\",\"2017-04-24T18:40:00\",\"2017-04-24T18:50:00\",\"2017-04-24T19:00:00\",\"2017-04-24T19:10:00\",\"2017-04-24T19:20:00\",\"2017-04-24T19:30:00\",\"2017-04-24T19:40:00\",\"2017-04-24T19:50:00\",\"2017-04-24T20:00:00\",\"2017-04-24T20:10:00\",\"2017-04-24T20:20:00\",\"2017-04-24T20:30:00\",\"2017-04-24T20:40:00\",\"2017-04-24T20:50:00\",\"2017-04-24T21:00:00\",\"2017-04-24T21:10:00\",\"2017-04-24T21:20:00\",\"2017-04-24T21:30:00\",\"2017-04-24T21:40:00\",\"2017-04-24T21:50:00\",\"2017-04-24T22:00:00\",\"2017-04-24T22:10:00\",\"2017-04-24T22:20:00\",\"2017-04-24T22:30:00\",\"2017-04-24T22:40:00\",\"2017-04-24T22:50:00\",\"2017-04-24T23:00:00\",\"2017-04-24T23:10:00\",\"2017-04-24T23:20:00\",\"2017-04-24T23:30:00\",\"2017-04-24T23:40:00\",\"2017-04-24T23:50:00\",\"2017-04-25T00:00:00\",\"2017-04-25T00:10:00\",\"2017-04-25T00:20:00\",\"2017-04-25T00:30:00\",\"2017-04-25T00:40:00\",\"2017-04-25T00:50:00\",\"2017-04-25T01:00:00\",\"2017-04-25T01:10:00\",\"2017-04-25T01:20:00\",\"2017-04-25T01:30:00\",\"2017-04-25T01:40:00\",\"2017-04-25T01:50:00\",\"2017-04-25T02:00:00\",\"2017-04-25T02:10:00\",\"2017-04-25T02:20:00\",\"2017-04-25T02:30:00\",\"2017-04-25T02:40:00\",\"2017-04-25T02:50:00\",\"2017-04-25T03:00:00\",\"2017-04-25T03:10:00\",\"2017-04-25T03:20:00\",\"2017-04-25T03:30:00\",\"2017-04-25T03:40:00\",\"2017-04-25T03:50:00\",\"2017-04-25T04:00:00\",\"2017-04-25T04:10:00\",\"2017-04-25T04:20:00\",\"2017-04-25T04:30:00\",\"2017-04-25T04:40:00\",\"2017-04-25T04:50:00\",\"2017-04-25T05:00:00\",\"2017-04-25T05:10:00\",\"2017-04-25T05:20:00\",\"2017-04-25T05:30:00\",\"2017-04-25T05:40:00\",\"2017-04-25T05:50:00\",\"2017-04-25T06:00:00\",\"2017-04-25T06:10:00\",\"2017-04-25T06:20:00\",\"2017-04-25T06:30:00\",\"2017-04-25T06:40:00\",\"2017-04-25T06:50:00\",\"2017-04-25T07:00:00\",\"2017-04-25T07:10:00\",\"2017-04-25T07:20:00\",\"2017-04-25T07:30:00\",\"2017-04-25T07:40:00\",\"2017-04-25T07:50:00\",\"2017-04-25T08:00:00\",\"2017-04-25T08:10:00\",\"2017-04-25T08:20:00\",\"2017-04-25T08:30:00\",\"2017-04-25T08:40:00\",\"2017-04-25T08:50:00\",\"2017-04-25T09:00:00\",\"2017-04-25T09:10:00\",\"2017-04-25T09:20:00\",\"2017-04-25T09:30:00\",\"2017-04-25T09:40:00\",\"2017-04-25T09:50:00\",\"2017-04-25T10:00:00\",\"2017-04-25T10:10:00\",\"2017-04-25T10:20:00\",\"2017-04-25T10:30:00\",\"2017-04-25T10:40:00\",\"2017-04-25T10:50:00\",\"2017-04-25T11:00:00\",\"2017-04-25T11:10:00\",\"2017-04-25T11:20:00\",\"2017-04-25T11:30:00\",\"2017-04-25T11:40:00\",\"2017-04-25T11:50:00\",\"2017-04-25T12:00:00\",\"2017-04-25T12:10:00\",\"2017-04-25T12:20:00\",\"2017-04-25T12:30:00\",\"2017-04-25T12:40:00\",\"2017-04-25T12:50:00\",\"2017-04-25T13:00:00\",\"2017-04-25T13:10:00\",\"2017-04-25T13:20:00\",\"2017-04-25T13:30:00\",\"2017-04-25T13:40:00\",\"2017-04-25T13:50:00\",\"2017-04-25T14:00:00\",\"2017-04-25T14:10:00\",\"2017-04-25T14:20:00\",\"2017-04-25T14:30:00\",\"2017-04-25T14:40:00\",\"2017-04-25T14:50:00\",\"2017-04-25T15:00:00\",\"2017-04-25T15:10:00\",\"2017-04-25T15:20:00\",\"2017-04-25T15:30:00\",\"2017-04-25T15:40:00\",\"2017-04-25T15:50:00\",\"2017-04-25T16:00:00\",\"2017-04-25T16:10:00\",\"2017-04-25T16:20:00\",\"2017-04-25T16:30:00\",\"2017-04-25T16:40:00\",\"2017-04-25T16:50:00\",\"2017-04-25T17:00:00\",\"2017-04-25T17:10:00\",\"2017-04-25T17:20:00\",\"2017-04-25T17:30:00\",\"2017-04-25T17:40:00\",\"2017-04-25T17:50:00\",\"2017-04-25T18:00:00\",\"2017-04-25T18:10:00\",\"2017-04-25T18:20:00\",\"2017-04-25T18:30:00\",\"2017-04-25T18:40:00\",\"2017-04-25T18:50:00\",\"2017-04-25T19:00:00\",\"2017-04-25T19:10:00\",\"2017-04-25T19:20:00\",\"2017-04-25T19:30:00\",\"2017-04-25T19:40:00\",\"2017-04-25T19:50:00\",\"2017-04-25T20:00:00\",\"2017-04-25T20:10:00\",\"2017-04-25T20:20:00\",\"2017-04-25T20:30:00\",\"2017-04-25T20:40:00\",\"2017-04-25T20:50:00\",\"2017-04-25T21:00:00\",\"2017-04-25T21:10:00\",\"2017-04-25T21:20:00\",\"2017-04-25T21:30:00\",\"2017-04-25T21:40:00\",\"2017-04-25T21:50:00\",\"2017-04-25T22:00:00\",\"2017-04-25T22:10:00\",\"2017-04-25T22:20:00\",\"2017-04-25T22:30:00\",\"2017-04-25T22:40:00\",\"2017-04-25T22:50:00\",\"2017-04-25T23:00:00\",\"2017-04-25T23:10:00\",\"2017-04-25T23:20:00\",\"2017-04-25T23:30:00\",\"2017-04-25T23:40:00\",\"2017-04-25T23:50:00\",\"2017-04-26T00:00:00\",\"2017-04-26T00:10:00\",\"2017-04-26T00:20:00\",\"2017-04-26T00:30:00\",\"2017-04-26T00:40:00\",\"2017-04-26T00:50:00\",\"2017-04-26T01:00:00\",\"2017-04-26T01:10:00\",\"2017-04-26T01:20:00\",\"2017-04-26T01:30:00\",\"2017-04-26T01:40:00\",\"2017-04-26T01:50:00\",\"2017-04-26T02:00:00\",\"2017-04-26T02:10:00\",\"2017-04-26T02:20:00\",\"2017-04-26T02:30:00\",\"2017-04-26T02:40:00\",\"2017-04-26T02:50:00\",\"2017-04-26T03:00:00\",\"2017-04-26T03:10:00\",\"2017-04-26T03:20:00\",\"2017-04-26T03:30:00\",\"2017-04-26T03:40:00\",\"2017-04-26T03:50:00\",\"2017-04-26T04:00:00\",\"2017-04-26T04:10:00\"],\"y\":[0.0,0.0,0.0,0.0,0.0,0.0,0.0,0.0,0.0,0.0,0.0,0.0,0.0,0.0,0.0,0.0,0.0,0.0,0.0,0.0,0.0,0.0,0.0,0.0,0.0,0.0,0.0,0.0,0.0,0.0,0.0,0.0,0.0,0.0,0.0667077128865893,0.0667077128865893,0.0667077128865893,0.0667077128865893,0.0667077128865893,0.0667077128865893,0.0667077128865893,0.0667077128865893,0.0667077128865893,0.0741148225618676,0.0741148225618676,0.0741148225618676,0.0741148225618676,0.0741148225618676,0.0741148225618676,0.0741148225618676,0.0741148225618676,0.0741148225618676,0.0741148225618676,0.0741148225618676,0.0741148225618676,0.0741148225618676,0.0741148225618676,0.0741148225618676,0.0741148225618676,0.0741148225618676,0.0741148225618676,0.0741148225618676,0.0741148225618676,0.0741148225618676,0.0741148225618676,0.0741148225618676,0.0741148225618676,0.0741148225618676,0.0741148225618676,0.0741148225618676,0.0741148225618676,0.0741148225618676,0.0741148225618676,0.0741148225618676,0.0741148225618676,0.0741148225618676,0.0741148225618676,0.0741148225618676,0.0741148225618676,0.0741148225618676,0.1629997854680417,0.1629997854680417,0.1629997854680417,0.1629997854680417,0.1629997854680417,0.1629997854680417,0.1629997854680417,0.1629997854680417,0.1629997854680417,0.1629997854680417,0.1629997854680417,0.1629997854680417,0.1629997854680417,0.1629997854680417,0.1629997854680417,0.1629997854680417,0.1629997854680417,0.1629997854680417,0.1629997854680417,0.1629997854680417,0.1629997854680417,0.1629997854680417,0.2148493412766905,0.2148493412766905,0.2148493412766905,0.2148493412766905,0.2148493412766905,0.2148493412766905,0.2148493412766905,0.2148493412766905,0.2148493412766905,0.2148493412766905,0.2148493412766905,0.2148493412766905,0.2148493412766905,0.2148493412766905,0.2148493412766905,0.2148493412766905,0.2741060067606176,0.2741060067606176,0.2741060067606176,0.2741060067606176,0.2741060067606176,0.2741060067606176,0.2741060067606176,0.2741060067606176,0.2741060067606176,0.2741060067606176,0.2741060067606176,0.2741060067606176,0.2741060067606176,0.2741060067606176,0.2741060067606176,0.2741060067606176,0.2741060067606176,0.2741060067606176,0.2741060067606176,0.2741060067606176,0.2741060067606176,0.2741060067606176,0.2741060067606176,0.2741060067606176,0.2741060067606176,0.2741060067606176,0.2741060067606176,0.2741060067606176,0.2741060067606176,0.2741060067606176,0.2741060067606176,0.2741060067606176,0.2741060067606176,0.2741060067606176,0.2741060067606176,0.2741060067606176,0.2741060067606176,0.2741060067606176,0.2741060067606176,0.2741060067606176,0.2741060067606176,0.2741060067606176,0.2741060067606176,0.2741060067606176,0.2741060067606176,0.2741060067606176,0.2741060067606176,0.2741060067606176,0.2741060067606176,0.2741060067606176,0.2741060067606176,0.2741060067606176,0.2741060067606176,0.2741060067606176,0.2741060067606176,0.2741060067606176,0.2741060067606176,0.2741060067606176,0.2741060067606176,0.2741060067606176,0.2741060067606176,0.2741060067606176,0.2741060067606176,0.2741060067606176,0.2741060067606176,0.2741060067606176,0.2741060067606176,0.2741060067606176,0.2741060067606176,0.2741060067606176,0.2741060067606176,0.4963184493457693,0.4963184493457693,0.4963184493457693,0.4963184493457693,0.4963184493457693,0.4963184493457693,0.4963184493457693,0.4963184493457693,0.4963184493457693,0.4963184493457693,0.4963184493457693,0.4963184493457693,0.4963184493457693,0.4963184493457693,0.4963184493457693,0.4963184493457693,0.4963184493457693,0.4963184493457693,0.4963184493457693,0.4963184493457693,0.4963184493457693,0.4963184493457693,0.4963184493457693,0.4963184493457693,0.4963184493457693,0.4963184493457693,0.4963184493457693,0.4963184493457693,0.4963184493457693,0.4963184493457693,0.4963184493457693,0.4963184493457693,0.4963184493457693,0.4963184493457693,0.4963184493457693,0.4963184493457693,0.4963184493457693,0.4963184493457693,0.4963184493457693,0.4963184493457693,0.4963184493457693,0.4963184493457693,0.4963184493457693,0.4963184493457693,0.4963184493457693,0.4963184493457693,0.4963184493457693,0.4963184493457693,0.4963184493457693,0.4963184493457693,0.4963184493457693,0.4963184493457693,0.4963184493457693,0.4963184493457693,0.4963184493457693,0.4963184493457693,0.4963184493457693,0.4963184493457693,0.4963184493457693,0.4963184493457693,0.4963184493457693,0.4963184493457693,0.4963184493457693,0.4963184493457693,0.4963184493457693,0.4963184493457693,0.4963184493457693,0.4963184493457693,0.4963184493457693,0.4963184493457693,0.4963184493457693,0.4963184493457693,0.4963184493457693,0.4963184493457693,0.4963184493457693,0.4963184493457693,0.4963184493457693,0.4963184493457693,0.4963184493457693,0.4963184493457693,0.4963184493457693,0.4963184493457693,0.4963184493457693,0.4963184493457693,0.4963184493457693,0.7037167432197976],\"type\":\"scatter\"},{\"hoverlabel\":{\"namelength\":-1},\"mode\":\"lines+markers\",\"name\":\"FV34_20171016\",\"x\":[\"2017-10-16T09:40:00\",\"2017-10-16T09:50:00\",\"2017-10-16T10:00:00\",\"2017-10-16T10:10:00\",\"2017-10-16T10:20:00\",\"2017-10-16T10:30:00\",\"2017-10-16T10:40:00\",\"2017-10-16T10:50:00\",\"2017-10-16T11:00:00\",\"2017-10-16T11:10:00\",\"2017-10-16T11:20:00\",\"2017-10-16T11:30:00\",\"2017-10-16T11:40:00\",\"2017-10-16T11:50:00\",\"2017-10-16T12:00:00\",\"2017-10-16T12:10:00\",\"2017-10-16T12:20:00\",\"2017-10-16T12:30:00\",\"2017-10-16T12:40:00\",\"2017-10-16T12:50:00\",\"2017-10-16T13:00:00\",\"2017-10-16T13:10:00\",\"2017-10-16T13:20:00\",\"2017-10-16T13:30:00\",\"2017-10-16T13:40:00\",\"2017-10-16T13:50:00\",\"2017-10-16T14:00:00\",\"2017-10-16T14:10:00\",\"2017-10-16T14:20:00\",\"2017-10-16T14:30:00\",\"2017-10-16T14:40:00\",\"2017-10-16T14:50:00\",\"2017-10-16T15:00:00\",\"2017-10-16T15:10:00\",\"2017-10-16T15:20:00\",\"2017-10-16T15:30:00\",\"2017-10-16T15:40:00\",\"2017-10-16T15:50:00\",\"2017-10-16T16:00:00\",\"2017-10-16T16:10:00\",\"2017-10-16T16:20:00\",\"2017-10-16T16:30:00\",\"2017-10-16T16:40:00\",\"2017-10-16T16:50:00\",\"2017-10-16T17:00:00\",\"2017-10-16T17:10:00\",\"2017-10-16T17:20:00\",\"2017-10-16T17:30:00\",\"2017-10-16T17:40:00\",\"2017-10-16T17:50:00\",\"2017-10-16T18:00:00\",\"2017-10-16T18:10:00\",\"2017-10-16T18:20:00\",\"2017-10-16T18:30:00\",\"2017-10-16T18:40:00\",\"2017-10-16T18:50:00\",\"2017-10-16T19:00:00\",\"2017-10-16T19:10:00\",\"2017-10-16T19:20:00\",\"2017-10-16T19:30:00\",\"2017-10-16T19:40:00\",\"2017-10-16T19:50:00\",\"2017-10-16T20:00:00\",\"2017-10-16T20:10:00\",\"2017-10-16T20:20:00\",\"2017-10-16T20:30:00\",\"2017-10-16T20:40:00\",\"2017-10-16T20:50:00\",\"2017-10-16T21:00:00\",\"2017-10-16T21:10:00\",\"2017-10-16T21:20:00\",\"2017-10-16T21:30:00\",\"2017-10-16T21:40:00\",\"2017-10-16T21:50:00\",\"2017-10-16T22:00:00\",\"2017-10-16T22:10:00\",\"2017-10-16T22:20:00\",\"2017-10-16T22:30:00\",\"2017-10-16T22:40:00\",\"2017-10-16T22:50:00\",\"2017-10-16T23:00:00\",\"2017-10-16T23:10:00\",\"2017-10-16T23:20:00\",\"2017-10-16T23:30:00\",\"2017-10-16T23:40:00\",\"2017-10-16T23:50:00\",\"2017-10-17T00:00:00\",\"2017-10-17T00:10:00\",\"2017-10-17T00:20:00\",\"2017-10-17T00:30:00\",\"2017-10-17T00:40:00\",\"2017-10-17T00:50:00\",\"2017-10-17T01:00:00\",\"2017-10-17T01:10:00\",\"2017-10-17T01:20:00\",\"2017-10-17T01:30:00\",\"2017-10-17T01:40:00\",\"2017-10-17T01:50:00\",\"2017-10-17T02:00:00\",\"2017-10-17T02:10:00\",\"2017-10-17T02:20:00\",\"2017-10-17T02:30:00\",\"2017-10-17T02:40:00\",\"2017-10-17T02:50:00\",\"2017-10-17T03:00:00\",\"2017-10-17T03:10:00\",\"2017-10-17T03:20:00\",\"2017-10-17T03:30:00\",\"2017-10-17T03:40:00\",\"2017-10-17T03:50:00\",\"2017-10-17T04:00:00\",\"2017-10-17T04:10:00\",\"2017-10-17T04:20:00\",\"2017-10-17T04:30:00\",\"2017-10-17T04:40:00\",\"2017-10-17T04:50:00\",\"2017-10-17T05:00:00\",\"2017-10-17T05:10:00\",\"2017-10-17T05:20:00\",\"2017-10-17T05:30:00\",\"2017-10-17T05:40:00\",\"2017-10-17T05:50:00\",\"2017-10-17T06:00:00\",\"2017-10-17T06:10:00\",\"2017-10-17T06:20:00\",\"2017-10-17T06:30:00\",\"2017-10-17T06:40:00\",\"2017-10-17T06:50:00\",\"2017-10-17T07:00:00\",\"2017-10-17T07:10:00\",\"2017-10-17T07:20:00\",\"2017-10-17T07:30:00\",\"2017-10-17T07:40:00\",\"2017-10-17T07:50:00\",\"2017-10-17T08:00:00\",\"2017-10-17T08:10:00\",\"2017-10-17T08:20:00\",\"2017-10-17T08:30:00\",\"2017-10-17T08:40:00\",\"2017-10-17T08:50:00\",\"2017-10-17T09:00:00\",\"2017-10-17T09:10:00\",\"2017-10-17T09:20:00\",\"2017-10-17T09:30:00\",\"2017-10-17T09:40:00\",\"2017-10-17T09:50:00\",\"2017-10-17T10:00:00\",\"2017-10-17T10:10:00\",\"2017-10-17T10:20:00\",\"2017-10-17T10:30:00\",\"2017-10-17T10:40:00\",\"2017-10-17T10:50:00\",\"2017-10-17T11:00:00\",\"2017-10-17T11:10:00\",\"2017-10-17T11:20:00\",\"2017-10-17T11:30:00\",\"2017-10-17T11:40:00\",\"2017-10-17T11:50:00\",\"2017-10-17T12:00:00\",\"2017-10-17T12:10:00\",\"2017-10-17T12:20:00\",\"2017-10-17T12:30:00\",\"2017-10-17T12:40:00\",\"2017-10-17T12:50:00\",\"2017-10-17T13:00:00\",\"2017-10-17T13:10:00\",\"2017-10-17T13:20:00\",\"2017-10-17T13:30:00\",\"2017-10-17T13:40:00\",\"2017-10-17T13:50:00\",\"2017-10-17T14:00:00\",\"2017-10-17T14:10:00\",\"2017-10-17T14:20:00\",\"2017-10-17T14:30:00\",\"2017-10-17T14:40:00\",\"2017-10-17T14:50:00\",\"2017-10-17T15:00:00\",\"2017-10-17T15:10:00\",\"2017-10-17T15:20:00\",\"2017-10-17T15:30:00\",\"2017-10-17T15:40:00\",\"2017-10-17T15:50:00\",\"2017-10-17T16:00:00\",\"2017-10-17T16:10:00\",\"2017-10-17T16:20:00\",\"2017-10-17T16:30:00\",\"2017-10-17T16:40:00\",\"2017-10-17T16:50:00\",\"2017-10-17T17:00:00\",\"2017-10-17T17:10:00\",\"2017-10-17T17:20:00\",\"2017-10-17T17:30:00\",\"2017-10-17T17:40:00\",\"2017-10-17T17:50:00\",\"2017-10-17T18:00:00\",\"2017-10-17T18:10:00\",\"2017-10-17T18:20:00\",\"2017-10-17T18:30:00\",\"2017-10-17T18:40:00\",\"2017-10-17T18:50:00\",\"2017-10-17T19:00:00\",\"2017-10-17T19:10:00\",\"2017-10-17T19:20:00\",\"2017-10-17T19:30:00\",\"2017-10-17T19:40:00\",\"2017-10-17T19:50:00\",\"2017-10-17T20:00:00\",\"2017-10-17T20:10:00\",\"2017-10-17T20:20:00\",\"2017-10-17T20:30:00\",\"2017-10-17T20:40:00\",\"2017-10-17T20:50:00\",\"2017-10-17T21:00:00\",\"2017-10-17T21:10:00\",\"2017-10-17T21:20:00\",\"2017-10-17T21:30:00\",\"2017-10-17T21:40:00\",\"2017-10-17T21:50:00\",\"2017-10-17T22:00:00\",\"2017-10-17T22:10:00\",\"2017-10-17T22:20:00\",\"2017-10-17T22:30:00\",\"2017-10-17T22:40:00\",\"2017-10-17T22:50:00\",\"2017-10-17T23:00:00\",\"2017-10-17T23:10:00\",\"2017-10-17T23:20:00\",\"2017-10-17T23:30:00\",\"2017-10-17T23:40:00\",\"2017-10-17T23:50:00\",\"2017-10-18T00:00:00\",\"2017-10-18T00:10:00\",\"2017-10-18T00:20:00\",\"2017-10-18T00:30:00\",\"2017-10-18T00:40:00\",\"2017-10-18T00:50:00\",\"2017-10-18T01:00:00\",\"2017-10-18T01:10:00\",\"2017-10-18T01:20:00\",\"2017-10-18T01:30:00\",\"2017-10-18T01:40:00\",\"2017-10-18T01:50:00\",\"2017-10-18T02:00:00\",\"2017-10-18T02:10:00\",\"2017-10-18T02:20:00\",\"2017-10-18T02:30:00\",\"2017-10-18T02:40:00\",\"2017-10-18T02:50:00\",\"2017-10-18T03:00:00\",\"2017-10-18T03:10:00\",\"2017-10-18T03:20:00\",\"2017-10-18T03:30:00\",\"2017-10-18T03:40:00\",\"2017-10-18T03:50:00\",\"2017-10-18T04:00:00\",\"2017-10-18T04:10:00\",\"2017-10-18T04:20:00\",\"2017-10-18T04:30:00\",\"2017-10-18T04:40:00\",\"2017-10-18T04:50:00\",\"2017-10-18T05:00:00\",\"2017-10-18T05:10:00\",\"2017-10-18T05:20:00\",\"2017-10-18T05:30:00\"],\"y\":[0.0,0.0,0.0,0.0,0.0,0.0,0.0,0.0,0.0,0.0,0.0,0.0,0.0,0.0,0.0,0.0,0.0,0.0,0.0,0.0,0.0,0.0,0.0,0.0,0.0,0.0,0.0,0.0,0.0,0.0,0.0,0.0,0.0599509734161445,0.0599509734161445,0.0599509734161445,0.0599509734161445,0.0599509734161445,0.0599509734161445,0.0599509734161445,0.0599509734161445,0.0599509734161445,0.0599509734161445,0.0599509734161445,0.0599509734161445,0.0599509734161445,0.0599509734161445,0.0599509734161445,0.0599509734161445,0.0599509734161445,0.0599509734161445,0.0599509734161445,0.0599509734161445,0.0599509734161445,0.0599509734161445,0.0599509734161445,0.0599509734161445,0.0599509734161445,0.0599509734161445,0.0599509734161445,0.0599509734161445,0.0599509734161445,0.0599509734161445,0.0599509734161445,0.0599509734161445,0.0599509734161445,0.0599509734161445,0.0599509734161445,0.0599509734161445,0.0599509734161445,0.0599509734161445,0.0599509734161445,0.0599509734161445,0.0599509734161445,0.0599509734161445,0.0599509734161445,0.0599509734161445,0.0599509734161445,0.0599509734161445,0.0599509734161445,0.0599509734161445,0.0599509734161445,0.0599509734161445,0.0599509734161445,0.0599509734161445,0.0599509734161445,0.0599509734161445,0.0599509734161445,0.0599509734161445,0.0599509734161445,0.0599509734161445,0.0599509734161445,0.0599509734161445,0.0599509734161445,0.0599509734161445,0.0599509734161445,0.0599509734161445,0.0599509734161445,0.0599509734161445,0.0599509734161445,0.0599509734161445,0.0599509734161445,0.0599509734161445,0.0599509734161445,0.0599509734161445,0.0599509734161445,0.0599509734161445,0.2375980079897265,0.2375980079897265,0.2375980079897265,0.2375980079897265,0.2375980079897265,0.2375980079897265,0.2375980079897265,0.2375980079897265,0.2375980079897265,0.2375980079897265,0.2375980079897265,0.2375980079897265,0.2375980079897265,0.2375980079897265,0.2375980079897265,0.2375980079897265,0.2375980079897265,0.2375980079897265,0.2375980079897265,0.2375980079897265,0.2375980079897265,0.2375980079897265,0.2375980079897265,0.2375980079897265,0.2375980079897265,0.2375980079897265,0.2375980079897265,0.2375980079897265,0.2375980079897265,0.2375980079897265,0.2375980079897265,0.2375980079897265,0.2375980079897265,0.2375980079897265,0.2375980079897265,0.2375980079897265,0.2375980079897265,0.2375980079897265,0.2375980079897265,0.2375980079897265,0.2375980079897265,0.2375980079897265,0.2375980079897265,0.2375980079897265,0.2375980079897265,0.2375980079897265,0.2375980079897265,0.2375980079897265,0.2375980079897265,0.2375980079897265,0.2375980079897265,0.2375980079897265,0.2375980079897265,0.2375980079897265,0.2375980079897265,0.2375980079897265,0.2375980079897265,0.2375980079897265,0.2375980079897265,0.2375980079897265,0.2375980079897265,0.2375980079897265,0.2375980079897265,0.2375980079897265,0.2375980079897265,0.2375980079897265,0.2375980079897265,0.2375980079897265,0.2375980079897265,0.4670588256886536,0.4670588256886536,0.4670588256886536,0.4670588256886536,0.4670588256886536,0.4670588256886536,0.4670588256886536,0.4670588256886536,0.4670588256886536,0.4670588256886536,0.4670588256886536,0.4670588256886536,0.4670588256886536,0.4670588256886536,0.4670588256886536,0.4670588256886536,0.4670588256886536,0.4670588256886536,0.4670588256886536,0.4670588256886536,0.4670588256886536,0.4670588256886536,0.4670588256886536,0.4670588256886536,0.4670588256886536,0.4670588256886536,0.4670588256886536,0.4670588256886536,0.4670588256886536,0.4670588256886536,0.4670588256886536,0.4670588256886536,0.4670588256886536,0.4670588256886536,0.4670588256886536,0.4670588256886536,0.4670588256886536,0.4670588256886536,0.4670588256886536,0.4670588256886536,0.4670588256886536,0.4670588256886536,0.4670588256886536,0.4670588256886536,0.4670588256886536,0.4670588256886536,0.4670588256886536,0.4670588256886536,0.4670588256886536,0.4670588256886536,0.4670588256886536,0.4670588256886536,0.4670588256886536,0.4670588256886536,0.4670588256886536,0.4670588256886536,0.4670588256886536,0.4670588256886536,0.4670588256886536,0.4670588256886536,0.4670588256886536,0.4670588256886536,0.4670588256886536,0.4670588256886536,0.4670588256886536,0.4670588256886536,0.4670588256886536,0.4670588256886536,0.4670588256886536,0.4670588256886536,0.4670588256886536,0.4670588256886536,0.4670588256886536,0.4670588256886536,0.4670588256886536,0.6669117572315835,0.6669117572315835,0.6669117572315835,0.6669117572315835,0.6669117572315835,0.6669117572315835,0.6669117572315835,0.6669117572315835,0.6669117572315835,0.6669117572315835,0.6669117572315835,0.6669117572315835,0.6669117572315835,0.6669117572315835],\"type\":\"scatter\"},{\"hoverlabel\":{\"namelength\":-1},\"mode\":\"lines+markers\",\"name\":\"FV35_20170205\",\"x\":[\"2017-02-05T03:40:00\",\"2017-02-05T03:50:00\",\"2017-02-05T04:00:00\",\"2017-02-05T04:10:00\",\"2017-02-05T04:20:00\",\"2017-02-05T04:30:00\",\"2017-02-05T04:40:00\",\"2017-02-05T04:50:00\",\"2017-02-05T05:00:00\",\"2017-02-05T05:10:00\",\"2017-02-05T05:20:00\",\"2017-02-05T05:30:00\",\"2017-02-05T05:40:00\",\"2017-02-05T05:50:00\",\"2017-02-05T06:00:00\",\"2017-02-05T06:10:00\",\"2017-02-05T06:20:00\",\"2017-02-05T06:30:00\",\"2017-02-05T06:40:00\",\"2017-02-05T06:50:00\",\"2017-02-05T07:00:00\",\"2017-02-05T07:10:00\",\"2017-02-05T07:20:00\",\"2017-02-05T07:30:00\",\"2017-02-05T07:40:00\",\"2017-02-05T07:50:00\",\"2017-02-05T08:00:00\",\"2017-02-05T08:10:00\",\"2017-02-05T08:20:00\",\"2017-02-05T08:30:00\",\"2017-02-05T08:40:00\",\"2017-02-05T08:50:00\",\"2017-02-05T09:00:00\",\"2017-02-05T09:10:00\",\"2017-02-05T09:20:00\",\"2017-02-05T09:30:00\",\"2017-02-05T09:40:00\",\"2017-02-05T09:50:00\",\"2017-02-05T10:00:00\",\"2017-02-05T10:10:00\",\"2017-02-05T10:20:00\",\"2017-02-05T10:30:00\",\"2017-02-05T10:40:00\",\"2017-02-05T10:50:00\",\"2017-02-05T11:00:00\",\"2017-02-05T11:10:00\",\"2017-02-05T11:20:00\",\"2017-02-05T11:30:00\",\"2017-02-05T11:40:00\",\"2017-02-05T11:50:00\",\"2017-02-05T12:00:00\",\"2017-02-05T12:10:00\",\"2017-02-05T12:20:00\",\"2017-02-05T12:30:00\",\"2017-02-05T12:40:00\",\"2017-02-05T12:50:00\",\"2017-02-05T13:00:00\",\"2017-02-05T13:10:00\",\"2017-02-05T13:20:00\",\"2017-02-05T13:30:00\",\"2017-02-05T13:40:00\",\"2017-02-05T13:50:00\",\"2017-02-05T14:00:00\",\"2017-02-05T14:10:00\",\"2017-02-05T14:20:00\",\"2017-02-05T14:30:00\",\"2017-02-05T14:40:00\",\"2017-02-05T14:50:00\",\"2017-02-05T15:00:00\",\"2017-02-05T15:10:00\",\"2017-02-05T15:20:00\",\"2017-02-05T15:30:00\",\"2017-02-05T15:40:00\",\"2017-02-05T15:50:00\",\"2017-02-05T16:00:00\",\"2017-02-05T16:10:00\",\"2017-02-05T16:20:00\",\"2017-02-05T16:30:00\",\"2017-02-05T16:40:00\",\"2017-02-05T16:50:00\",\"2017-02-05T17:00:00\",\"2017-02-05T17:10:00\",\"2017-02-05T17:20:00\",\"2017-02-05T17:30:00\",\"2017-02-05T17:40:00\",\"2017-02-05T17:50:00\",\"2017-02-05T18:00:00\",\"2017-02-05T18:10:00\",\"2017-02-05T18:20:00\",\"2017-02-05T18:30:00\",\"2017-02-05T18:40:00\",\"2017-02-05T18:50:00\",\"2017-02-05T19:00:00\",\"2017-02-05T19:10:00\",\"2017-02-05T19:20:00\",\"2017-02-05T19:30:00\",\"2017-02-05T19:40:00\",\"2017-02-05T19:50:00\",\"2017-02-05T20:00:00\",\"2017-02-05T20:10:00\",\"2017-02-05T20:20:00\",\"2017-02-05T20:30:00\",\"2017-02-05T20:40:00\",\"2017-02-05T20:50:00\",\"2017-02-05T21:00:00\",\"2017-02-05T21:10:00\",\"2017-02-05T21:20:00\",\"2017-02-05T21:30:00\",\"2017-02-05T21:40:00\",\"2017-02-05T21:50:00\",\"2017-02-05T22:00:00\",\"2017-02-05T22:10:00\",\"2017-02-05T22:20:00\",\"2017-02-05T22:30:00\",\"2017-02-05T22:40:00\",\"2017-02-05T22:50:00\",\"2017-02-05T23:00:00\",\"2017-02-05T23:10:00\",\"2017-02-05T23:20:00\",\"2017-02-05T23:30:00\",\"2017-02-05T23:40:00\",\"2017-02-05T23:50:00\",\"2017-02-06T00:00:00\",\"2017-02-06T00:10:00\",\"2017-02-06T00:20:00\",\"2017-02-06T00:30:00\",\"2017-02-06T00:40:00\",\"2017-02-06T00:50:00\",\"2017-02-06T01:00:00\",\"2017-02-06T01:10:00\",\"2017-02-06T01:20:00\",\"2017-02-06T01:30:00\",\"2017-02-06T01:40:00\",\"2017-02-06T01:50:00\",\"2017-02-06T02:00:00\",\"2017-02-06T02:10:00\",\"2017-02-06T02:20:00\",\"2017-02-06T02:30:00\",\"2017-02-06T02:40:00\",\"2017-02-06T02:50:00\",\"2017-02-06T03:00:00\",\"2017-02-06T03:10:00\",\"2017-02-06T03:20:00\",\"2017-02-06T03:30:00\",\"2017-02-06T03:40:00\",\"2017-02-06T03:50:00\",\"2017-02-06T04:00:00\",\"2017-02-06T04:10:00\",\"2017-02-06T04:20:00\",\"2017-02-06T04:30:00\",\"2017-02-06T04:40:00\",\"2017-02-06T04:50:00\",\"2017-02-06T05:00:00\",\"2017-02-06T05:10:00\",\"2017-02-06T05:20:00\",\"2017-02-06T05:30:00\",\"2017-02-06T05:40:00\",\"2017-02-06T05:50:00\",\"2017-02-06T06:00:00\",\"2017-02-06T06:10:00\",\"2017-02-06T06:20:00\",\"2017-02-06T06:30:00\",\"2017-02-06T06:40:00\",\"2017-02-06T06:50:00\",\"2017-02-06T07:00:00\",\"2017-02-06T07:10:00\",\"2017-02-06T07:20:00\",\"2017-02-06T07:30:00\",\"2017-02-06T07:40:00\",\"2017-02-06T07:50:00\",\"2017-02-06T08:00:00\",\"2017-02-06T08:10:00\",\"2017-02-06T08:20:00\",\"2017-02-06T08:30:00\",\"2017-02-06T08:40:00\",\"2017-02-06T08:50:00\",\"2017-02-06T09:00:00\",\"2017-02-06T09:10:00\",\"2017-02-06T09:20:00\",\"2017-02-06T09:30:00\",\"2017-02-06T09:40:00\",\"2017-02-06T09:50:00\",\"2017-02-06T10:00:00\",\"2017-02-06T10:10:00\",\"2017-02-06T10:20:00\",\"2017-02-06T10:30:00\",\"2017-02-06T10:40:00\",\"2017-02-06T10:50:00\",\"2017-02-06T11:00:00\",\"2017-02-06T11:10:00\",\"2017-02-06T11:20:00\",\"2017-02-06T11:30:00\",\"2017-02-06T11:40:00\",\"2017-02-06T11:50:00\",\"2017-02-06T12:00:00\",\"2017-02-06T12:10:00\",\"2017-02-06T12:20:00\",\"2017-02-06T12:30:00\",\"2017-02-06T12:40:00\",\"2017-02-06T12:50:00\",\"2017-02-06T13:00:00\",\"2017-02-06T13:10:00\",\"2017-02-06T13:20:00\",\"2017-02-06T13:30:00\",\"2017-02-06T13:40:00\",\"2017-02-06T13:50:00\",\"2017-02-06T14:00:00\",\"2017-02-06T14:10:00\",\"2017-02-06T14:20:00\",\"2017-02-06T14:30:00\",\"2017-02-06T14:40:00\",\"2017-02-06T14:50:00\",\"2017-02-06T15:00:00\",\"2017-02-06T15:10:00\",\"2017-02-06T15:20:00\",\"2017-02-06T15:30:00\",\"2017-02-06T15:40:00\",\"2017-02-06T15:50:00\",\"2017-02-06T16:00:00\",\"2017-02-06T16:10:00\",\"2017-02-06T16:20:00\",\"2017-02-06T16:30:00\",\"2017-02-06T16:40:00\",\"2017-02-06T16:50:00\",\"2017-02-06T17:00:00\",\"2017-02-06T17:10:00\",\"2017-02-06T17:20:00\",\"2017-02-06T17:30:00\",\"2017-02-06T17:40:00\",\"2017-02-06T17:50:00\",\"2017-02-06T18:00:00\",\"2017-02-06T18:10:00\",\"2017-02-06T18:20:00\",\"2017-02-06T18:30:00\",\"2017-02-06T18:40:00\",\"2017-02-06T18:50:00\",\"2017-02-06T19:00:00\",\"2017-02-06T19:10:00\",\"2017-02-06T19:20:00\",\"2017-02-06T19:30:00\",\"2017-02-06T19:40:00\",\"2017-02-06T19:50:00\",\"2017-02-06T20:00:00\",\"2017-02-06T20:10:00\",\"2017-02-06T20:20:00\",\"2017-02-06T20:30:00\",\"2017-02-06T20:40:00\",\"2017-02-06T20:50:00\",\"2017-02-06T21:00:00\",\"2017-02-06T21:10:00\",\"2017-02-06T21:20:00\",\"2017-02-06T21:30:00\",\"2017-02-06T21:40:00\",\"2017-02-06T21:50:00\",\"2017-02-06T22:00:00\",\"2017-02-06T22:10:00\",\"2017-02-06T22:20:00\",\"2017-02-06T22:30:00\",\"2017-02-06T22:40:00\",\"2017-02-06T22:50:00\",\"2017-02-06T23:00:00\",\"2017-02-06T23:10:00\",\"2017-02-06T23:20:00\",\"2017-02-06T23:30:00\",\"2017-02-06T23:40:00\",\"2017-02-06T23:50:00\",\"2017-02-07T00:00:00\",\"2017-02-07T00:10:00\",\"2017-02-07T00:20:00\",\"2017-02-07T00:30:00\",\"2017-02-07T00:40:00\",\"2017-02-07T00:50:00\",\"2017-02-07T01:00:00\",\"2017-02-07T01:10:00\",\"2017-02-07T01:20:00\",\"2017-02-07T01:30:00\",\"2017-02-07T01:40:00\",\"2017-02-07T01:50:00\",\"2017-02-07T02:00:00\",\"2017-02-07T02:10:00\"],\"y\":[0.0,0.0,0.0,0.0,0.0,0.0,0.0,0.0,0.0,0.0,0.0,0.0,0.0,0.0,0.0,0.0301938462068515,0.0301938462068515,0.0301938462068515,0.0301938462068515,0.0301938462068515,0.0301938462068515,0.0301938462068515,0.0301938462068515,0.0301938462068515,0.0301938462068515,0.0301938462068515,0.0301938462068515,0.0301938462068515,0.0301938462068515,0.0301938462068515,0.0301938462068515,0.0301938462068515,0.0301938462068515,0.0301938462068515,0.0301938462068515,0.0301938462068515,0.0301938462068515,0.0301938462068515,0.0301938462068515,0.0301938462068515,0.0301938462068515,0.0301938462068515,0.0301938462068515,0.0301938462068515,0.0301938462068515,0.0301938462068515,0.0301938462068515,0.0301938462068515,0.0301938462068515,0.0301938462068515,0.0301938462068515,0.0301938462068515,0.0301938462068515,0.0301938462068515,0.0301938462068515,0.0301938462068515,0.0301938462068515,0.0301938462068515,0.0301938462068515,0.0301938462068515,0.0301938462068515,0.0301938462068515,0.0301938462068515,0.0301938462068515,0.0301938462068515,0.0301938462068515,0.0301938462068515,0.0301938462068515,0.0301938462068515,0.0301938462068515,0.0301938462068515,0.0301938462068515,0.0301938462068515,0.0301938462068515,0.156046606004005,0.156046606004005,0.156046606004005,0.156046606004005,0.156046606004005,0.156046606004005,0.156046606004005,0.156046606004005,0.156046606004005,0.156046606004005,0.156046606004005,0.156046606004005,0.156046606004005,0.156046606004005,0.156046606004005,0.156046606004005,0.156046606004005,0.156046606004005,0.156046606004005,0.156046606004005,0.156046606004005,0.156046606004005,0.156046606004005,0.156046606004005,0.156046606004005,0.156046606004005,0.156046606004005,0.156046606004005,0.156046606004005,0.156046606004005,0.156046606004005,0.156046606004005,0.156046606004005,0.156046606004005,0.156046606004005,0.156046606004005,0.156046606004005,0.156046606004005,0.156046606004005,0.156046606004005,0.156046606004005,0.156046606004005,0.156046606004005,0.156046606004005,0.156046606004005,0.156046606004005,0.156046606004005,0.156046606004005,0.156046606004005,0.156046606004005,0.156046606004005,0.156046606004005,0.156046606004005,0.156046606004005,0.3115116677393382,0.3115116677393382,0.3115116677393382,0.3115116677393382,0.3115116677393382,0.3115116677393382,0.3115116677393382,0.3115116677393382,0.3115116677393382,0.3115116677393382,0.3115116677393382,0.3115116677393382,0.3115116677393382,0.3115116677393382,0.3115116677393382,0.3115116677393382,0.3115116677393382,0.3115116677393382,0.3115116677393382,0.3115116677393382,0.3115116677393382,0.3707364834200931,0.3707364834200931,0.3707364834200931,0.3707364834200931,0.3707364834200931,0.3707364834200931,0.3707364834200931,0.3707364834200931,0.3707364834200931,0.3707364834200931,0.3707364834200931,0.3707364834200931,0.3707364834200931,0.3707364834200931,0.3707364834200931,0.3707364834200931,0.3707364834200931,0.3707364834200931,0.3707364834200931,0.3707364834200931,0.3707364834200931,0.3707364834200931,0.3707364834200931,0.3707364834200931,0.3707364834200931,0.3707364834200931,0.4447674853706704,0.4447674853706704,0.4447674853706704,0.4447674853706704,0.4447674853706704,0.4447674853706704,0.4447674853706704,0.4447674853706704,0.4447674853706704,0.4447674853706704,0.4447674853706704,0.4447674853706704,0.4447674853706704,0.4447674853706704,0.4447674853706704,0.4447674853706704,0.4447674853706704,0.4447674853706704,0.4447674853706704,0.4447674853706704,0.4447674853706704,0.4447674853706704,0.4447674853706704,0.4447674853706704,0.4447674853706704,0.4447674853706704,0.4447674853706704,0.4447674853706704,0.4447674853706704,0.4447674853706704,0.4447674853706704,0.4447674853706704,0.4447674853706704,0.4447674853706704,0.4447674853706704,0.4447674853706704,0.4447674853706704,0.4447674853706704,0.4447674853706704,0.4447674853706704,0.4447674853706704,0.4447674853706704,0.5558139882965363,0.5558139882965363,0.5558139882965363,0.5558139882965363,0.5558139882965363,0.5558139882965363,0.5558139882965363,0.5558139882965363,0.5558139882965363,0.5558139882965363,0.5558139882965363,0.5558139882965363,0.5558139882965363,0.5558139882965363,0.5558139882965363,0.5558139882965363,0.5558139882965363,0.5558139882965363,0.5558139882965363,0.5558139882965363,0.5558139882965363,0.5558139882965363,0.5558139882965363,0.5558139882965363,0.5558139882965363,0.5558139882965363,0.5558139882965363,0.5558139882965363,0.5558139882965363,0.5558139882965363,0.5558139882965363,0.5558139882965363,0.5558139882965363,0.5558139882965363,0.5558139882965363,0.5558139882965363,0.5558139882965363,0.5558139882965363,0.5558139882965363,0.5558139882965363,0.5558139882965363,0.5558139882965363,0.5558139882965363,0.5558139882965363,0.5558139882965363,0.5558139882965363,0.5558139882965363,0.5558139882965363,0.5558139882965363,0.5558139882965363,0.5558139882965363,0.5558139882965363,0.5558139882965363,0.5558139882965363,0.5558139882965363,0.5558139882965363,0.5558139882965363,0.5558139882965363,0.5558139882965363,0.5558139882965363,0.6816666774922246,0.6816666774922246,0.6816666774922246],\"type\":\"scatter\"},{\"hoverlabel\":{\"namelength\":-1},\"mode\":\"lines+markers\",\"name\":\"FV35_20170327\",\"x\":[\"2017-03-27T17:50:00\",\"2017-03-27T18:00:00\",\"2017-03-27T18:10:00\",\"2017-03-27T18:20:00\",\"2017-03-27T18:30:00\",\"2017-03-27T18:40:00\",\"2017-03-27T18:50:00\",\"2017-03-27T19:00:00\",\"2017-03-27T19:10:00\",\"2017-03-27T19:20:00\",\"2017-03-27T19:30:00\",\"2017-03-27T19:40:00\",\"2017-03-27T19:50:00\",\"2017-03-27T20:00:00\",\"2017-03-27T20:10:00\",\"2017-03-27T20:20:00\",\"2017-03-27T20:30:00\",\"2017-03-27T20:40:00\",\"2017-03-27T20:50:00\",\"2017-03-27T21:00:00\",\"2017-03-27T21:10:00\",\"2017-03-27T21:20:00\",\"2017-03-27T21:30:00\",\"2017-03-27T21:40:00\",\"2017-03-27T21:50:00\",\"2017-03-27T22:00:00\",\"2017-03-27T22:10:00\",\"2017-03-27T22:20:00\",\"2017-03-27T22:30:00\",\"2017-03-27T22:40:00\",\"2017-03-27T22:50:00\",\"2017-03-27T23:00:00\",\"2017-03-27T23:10:00\",\"2017-03-27T23:20:00\",\"2017-03-27T23:30:00\",\"2017-03-27T23:40:00\",\"2017-03-27T23:50:00\",\"2017-03-28T00:00:00\",\"2017-03-28T00:10:00\",\"2017-03-28T00:20:00\",\"2017-03-28T00:30:00\",\"2017-03-28T00:40:00\",\"2017-03-28T00:50:00\",\"2017-03-28T01:00:00\",\"2017-03-28T01:10:00\",\"2017-03-28T01:20:00\",\"2017-03-28T01:30:00\",\"2017-03-28T01:40:00\",\"2017-03-28T01:50:00\",\"2017-03-28T02:00:00\",\"2017-03-28T02:10:00\",\"2017-03-28T02:20:00\",\"2017-03-28T02:30:00\",\"2017-03-28T02:40:00\",\"2017-03-28T02:50:00\",\"2017-03-28T03:00:00\",\"2017-03-28T03:10:00\",\"2017-03-28T03:20:00\",\"2017-03-28T03:30:00\",\"2017-03-28T03:40:00\",\"2017-03-28T03:50:00\",\"2017-03-28T04:00:00\",\"2017-03-28T04:10:00\",\"2017-03-28T04:20:00\",\"2017-03-28T04:30:00\",\"2017-03-28T04:40:00\",\"2017-03-28T04:50:00\",\"2017-03-28T05:00:00\",\"2017-03-28T05:10:00\",\"2017-03-28T05:20:00\",\"2017-03-28T05:30:00\",\"2017-03-28T05:40:00\",\"2017-03-28T05:50:00\",\"2017-03-28T06:00:00\",\"2017-03-28T06:10:00\",\"2017-03-28T06:20:00\",\"2017-03-28T06:30:00\",\"2017-03-28T06:40:00\",\"2017-03-28T06:50:00\",\"2017-03-28T07:00:00\",\"2017-03-28T07:10:00\",\"2017-03-28T07:20:00\",\"2017-03-28T07:30:00\",\"2017-03-28T07:40:00\",\"2017-03-28T07:50:00\",\"2017-03-28T08:00:00\",\"2017-03-28T08:10:00\",\"2017-03-28T08:20:00\",\"2017-03-28T08:30:00\",\"2017-03-28T08:40:00\",\"2017-03-28T08:50:00\",\"2017-03-28T09:00:00\",\"2017-03-28T09:10:00\",\"2017-03-28T09:20:00\",\"2017-03-28T09:30:00\",\"2017-03-28T09:40:00\",\"2017-03-28T09:50:00\",\"2017-03-28T10:00:00\",\"2017-03-28T10:10:00\",\"2017-03-28T10:20:00\",\"2017-03-28T10:30:00\",\"2017-03-28T10:40:00\",\"2017-03-28T10:50:00\",\"2017-03-28T11:00:00\",\"2017-03-28T11:10:00\",\"2017-03-28T11:20:00\",\"2017-03-28T11:30:00\",\"2017-03-28T11:40:00\",\"2017-03-28T11:50:00\",\"2017-03-28T12:00:00\",\"2017-03-28T12:10:00\",\"2017-03-28T12:20:00\",\"2017-03-28T12:30:00\",\"2017-03-28T12:40:00\",\"2017-03-28T12:50:00\",\"2017-03-28T13:00:00\",\"2017-03-28T13:10:00\",\"2017-03-28T13:20:00\",\"2017-03-28T13:30:00\",\"2017-03-28T13:40:00\",\"2017-03-28T13:50:00\",\"2017-03-28T14:00:00\",\"2017-03-28T14:10:00\",\"2017-03-28T14:20:00\",\"2017-03-28T14:30:00\",\"2017-03-28T14:40:00\",\"2017-03-28T14:50:00\",\"2017-03-28T15:00:00\",\"2017-03-28T15:10:00\",\"2017-03-28T15:20:00\",\"2017-03-28T15:30:00\",\"2017-03-28T15:40:00\",\"2017-03-28T15:50:00\",\"2017-03-28T16:00:00\",\"2017-03-28T16:10:00\",\"2017-03-28T16:20:00\",\"2017-03-28T16:30:00\",\"2017-03-28T16:40:00\",\"2017-03-28T16:50:00\",\"2017-03-28T17:00:00\",\"2017-03-28T17:10:00\",\"2017-03-28T17:20:00\",\"2017-03-28T17:30:00\",\"2017-03-28T17:40:00\",\"2017-03-28T17:50:00\",\"2017-03-28T18:00:00\",\"2017-03-28T18:10:00\",\"2017-03-28T18:20:00\",\"2017-03-28T18:30:00\",\"2017-03-28T18:40:00\",\"2017-03-28T18:50:00\",\"2017-03-28T19:00:00\",\"2017-03-28T19:10:00\",\"2017-03-28T19:20:00\",\"2017-03-28T19:30:00\",\"2017-03-28T19:40:00\",\"2017-03-28T19:50:00\",\"2017-03-28T20:00:00\",\"2017-03-28T20:10:00\",\"2017-03-28T20:20:00\",\"2017-03-28T20:30:00\",\"2017-03-28T20:40:00\",\"2017-03-28T20:50:00\",\"2017-03-28T21:00:00\",\"2017-03-28T21:10:00\",\"2017-03-28T21:20:00\",\"2017-03-28T21:30:00\",\"2017-03-28T21:40:00\",\"2017-03-28T21:50:00\",\"2017-03-28T22:00:00\",\"2017-03-28T22:10:00\",\"2017-03-28T22:20:00\",\"2017-03-28T22:30:00\",\"2017-03-28T22:40:00\",\"2017-03-28T22:50:00\",\"2017-03-28T23:00:00\",\"2017-03-28T23:10:00\",\"2017-03-28T23:20:00\",\"2017-03-28T23:30:00\",\"2017-03-28T23:40:00\",\"2017-03-28T23:50:00\",\"2017-03-29T00:00:00\",\"2017-03-29T00:10:00\",\"2017-03-29T00:20:00\",\"2017-03-29T00:30:00\",\"2017-03-29T00:40:00\",\"2017-03-29T00:50:00\",\"2017-03-29T01:00:00\",\"2017-03-29T01:10:00\",\"2017-03-29T01:20:00\",\"2017-03-29T01:30:00\",\"2017-03-29T01:40:00\",\"2017-03-29T01:50:00\",\"2017-03-29T02:00:00\",\"2017-03-29T02:10:00\",\"2017-03-29T02:20:00\",\"2017-03-29T02:30:00\",\"2017-03-29T02:40:00\",\"2017-03-29T02:50:00\",\"2017-03-29T03:00:00\",\"2017-03-29T03:10:00\",\"2017-03-29T03:20:00\",\"2017-03-29T03:30:00\",\"2017-03-29T03:40:00\",\"2017-03-29T03:50:00\",\"2017-03-29T04:00:00\",\"2017-03-29T04:10:00\",\"2017-03-29T04:20:00\",\"2017-03-29T04:30:00\",\"2017-03-29T04:40:00\",\"2017-03-29T04:50:00\",\"2017-03-29T05:00:00\",\"2017-03-29T05:10:00\",\"2017-03-29T05:20:00\",\"2017-03-29T05:30:00\",\"2017-03-29T05:40:00\",\"2017-03-29T05:50:00\",\"2017-03-29T06:00:00\",\"2017-03-29T06:10:00\",\"2017-03-29T06:20:00\",\"2017-03-29T06:30:00\",\"2017-03-29T06:40:00\",\"2017-03-29T06:50:00\",\"2017-03-29T07:00:00\",\"2017-03-29T07:10:00\",\"2017-03-29T07:20:00\",\"2017-03-29T07:30:00\",\"2017-03-29T07:40:00\",\"2017-03-29T07:50:00\",\"2017-03-29T08:00:00\",\"2017-03-29T08:10:00\",\"2017-03-29T08:20:00\",\"2017-03-29T08:30:00\",\"2017-03-29T08:40:00\",\"2017-03-29T08:50:00\",\"2017-03-29T09:00:00\",\"2017-03-29T09:10:00\",\"2017-03-29T09:20:00\",\"2017-03-29T09:30:00\",\"2017-03-29T09:40:00\",\"2017-03-29T09:50:00\",\"2017-03-29T10:00:00\",\"2017-03-29T10:10:00\",\"2017-03-29T10:20:00\",\"2017-03-29T10:30:00\",\"2017-03-29T10:40:00\",\"2017-03-29T10:50:00\",\"2017-03-29T11:00:00\",\"2017-03-29T11:10:00\",\"2017-03-29T11:20:00\",\"2017-03-29T11:30:00\",\"2017-03-29T11:40:00\",\"2017-03-29T11:50:00\",\"2017-03-29T12:00:00\",\"2017-03-29T12:10:00\",\"2017-03-29T12:20:00\",\"2017-03-29T12:30:00\",\"2017-03-29T12:40:00\",\"2017-03-29T12:50:00\",\"2017-03-29T13:00:00\",\"2017-03-29T13:10:00\",\"2017-03-29T13:20:00\",\"2017-03-29T13:30:00\",\"2017-03-29T13:40:00\",\"2017-03-29T13:50:00\",\"2017-03-29T14:00:00\",\"2017-03-29T14:10:00\",\"2017-03-29T14:20:00\",\"2017-03-29T14:30:00\",\"2017-03-29T14:40:00\",\"2017-03-29T14:50:00\",\"2017-03-29T15:00:00\",\"2017-03-29T15:10:00\",\"2017-03-29T15:20:00\",\"2017-03-29T15:30:00\",\"2017-03-29T15:40:00\",\"2017-03-29T15:50:00\",\"2017-03-29T16:00:00\",\"2017-03-29T16:10:00\",\"2017-03-29T16:20:00\",\"2017-03-29T16:30:00\",\"2017-03-29T16:40:00\",\"2017-03-29T16:50:00\",\"2017-03-29T17:00:00\",\"2017-03-29T17:10:00\",\"2017-03-29T17:20:00\",\"2017-03-29T17:30:00\",\"2017-03-29T17:40:00\",\"2017-03-29T17:50:00\",\"2017-03-29T18:00:00\",\"2017-03-29T18:10:00\",\"2017-03-29T18:20:00\",\"2017-03-29T18:30:00\",\"2017-03-29T18:40:00\",\"2017-03-29T18:50:00\",\"2017-03-29T19:00:00\",\"2017-03-29T19:10:00\",\"2017-03-29T19:20:00\",\"2017-03-29T19:30:00\",\"2017-03-29T19:40:00\",\"2017-03-29T19:50:00\",\"2017-03-29T20:00:00\",\"2017-03-29T20:10:00\",\"2017-03-29T20:20:00\",\"2017-03-29T20:30:00\",\"2017-03-29T20:40:00\",\"2017-03-29T20:50:00\",\"2017-03-29T21:00:00\",\"2017-03-29T21:10:00\",\"2017-03-29T21:20:00\",\"2017-03-29T21:30:00\",\"2017-03-29T21:40:00\",\"2017-03-29T21:50:00\",\"2017-03-29T22:00:00\",\"2017-03-29T22:10:00\",\"2017-03-29T22:20:00\",\"2017-03-29T22:30:00\",\"2017-03-29T22:40:00\",\"2017-03-29T22:50:00\",\"2017-03-29T23:00:00\",\"2017-03-29T23:10:00\",\"2017-03-29T23:20:00\",\"2017-03-29T23:30:00\",\"2017-03-29T23:40:00\",\"2017-03-29T23:50:00\",\"2017-03-30T00:00:00\",\"2017-03-30T00:10:00\",\"2017-03-30T00:20:00\",\"2017-03-30T00:30:00\",\"2017-03-30T00:40:00\",\"2017-03-30T00:50:00\",\"2017-03-30T01:00:00\",\"2017-03-30T01:10:00\",\"2017-03-30T01:20:00\",\"2017-03-30T01:30:00\",\"2017-03-30T01:40:00\",\"2017-03-30T01:50:00\",\"2017-03-30T02:00:00\",\"2017-03-30T02:10:00\",\"2017-03-30T02:20:00\",\"2017-03-30T02:30:00\",\"2017-03-30T02:40:00\",\"2017-03-30T02:50:00\",\"2017-03-30T03:00:00\",\"2017-03-30T03:10:00\",\"2017-03-30T03:20:00\",\"2017-03-30T03:30:00\",\"2017-03-30T03:40:00\",\"2017-03-30T03:50:00\",\"2017-03-30T04:00:00\"],\"y\":[0.0,0.0,0.0,0.0,0.0,0.0,0.0,0.0,0.0,0.0,0.0,0.0,0.0,0.0,0.0,0.0,0.0,0.0,0.0,0.0,0.0,0.0,0.0,0.0,0.0,0.0,0.0,0.0,0.0,0.0,0.0,0.0,0.0,0.0,0.0,0.0,0.0,0.0,0.0,0.0,0.0,0.0,0.0,0.0,0.0,0.0,0.0,0.0,0.0,0.0,0.0,0.0966849283844374,0.0966849283844374,0.0966849283844374,0.0966849283844374,0.0966849283844374,0.0966849283844374,0.0966849283844374,0.0966849283844374,0.0966849283844374,0.0966849283844374,0.0966849283844374,0.0966849283844374,0.0966849283844374,0.0966849283844374,0.0966849283844374,0.0966849283844374,0.0966849283844374,0.0966849283844374,0.0966849283844374,0.0966849283844374,0.0966849283844374,0.0966849283844374,0.0966849283844374,0.0966849283844374,0.0966849283844374,0.0966849283844374,0.0966849283844374,0.0966849283844374,0.0966849283844374,0.0966849283844374,0.0966849283844374,0.0966849283844374,0.0966849283844374,0.0966849283844374,0.0966849283844374,0.0966849283844374,0.0966849283844374,0.0966849283844374,0.0966849283844374,0.0966849283844374,0.0966849283844374,0.0966849283844374,0.0966849283844374,0.0966849283844374,0.0966849283844374,0.0966849283844374,0.0966849283844374,0.0966849283844374,0.0966849283844374,0.0966849283844374,0.0966849283844374,0.0966849283844374,0.215152438245073,0.215152438245073,0.215152438245073,0.215152438245073,0.215152438245073,0.215152438245073,0.215152438245073,0.215152438245073,0.215152438245073,0.215152438245073,0.215152438245073,0.215152438245073,0.215152438245073,0.215152438245073,0.215152438245073,0.215152438245073,0.215152438245073,0.215152438245073,0.215152438245073,0.215152438245073,0.281790478740584,0.281790478740584,0.281790478740584,0.281790478740584,0.281790478740584,0.281790478740584,0.281790478740584,0.281790478740584,0.281790478740584,0.281790478740584,0.281790478740584,0.281790478740584,0.281790478740584,0.281790478740584,0.281790478740584,0.326215768458761,0.326215768458761,0.326215768458761,0.326215768458761,0.326215768458761,0.326215768458761,0.326215768458761,0.326215768458761,0.326215768458761,0.326215768458761,0.326215768458761,0.326215768458761,0.326215768458761,0.326215768458761,0.326215768458761,0.326215768458761,0.326215768458761,0.326215768458761,0.326215768458761,0.326215768458761,0.326215768458761,0.326215768458761,0.326215768458761,0.326215768458761,0.326215768458761,0.326215768458761,0.326215768458761,0.326215768458761,0.326215768458761,0.326215768458761,0.326215768458761,0.326215768458761,0.326215768458761,0.326215768458761,0.326215768458761,0.326215768458761,0.326215768458761,0.326215768458761,0.326215768458761,0.326215768458761,0.326215768458761,0.326215768458761,0.326215768458761,0.326215768458761,0.326215768458761,0.326215768458761,0.326215768458761,0.326215768458761,0.326215768458761,0.326215768458761,0.326215768458761,0.326215768458761,0.326215768458761,0.326215768458761,0.326215768458761,0.326215768458761,0.326215768458761,0.326215768458761,0.326215768458761,0.326215768458761,0.326215768458761,0.326215768458761,0.326215768458761,0.326215768458761,0.326215768458761,0.326215768458761,0.326215768458761,0.326215768458761,0.326215768458761,0.326215768458761,0.326215768458761,0.326215768458761,0.5335339989800779,0.5335339989800779,0.5335339989800779,0.5335339989800779,0.5335339989800779,0.5335339989800779,0.5335339989800779,0.5335339989800779,0.5335339989800779,0.5335339989800779,0.5335339989800779,0.5335339989800779,0.5335339989800779,0.5335339989800779,0.5335339989800779,0.5335339989800779,0.5335339989800779,0.5335339989800779,0.5335339989800779,0.5335339989800779,0.5335339989800779,0.5335339989800779,0.5335339989800779,0.5335339989800779,0.5335339989800779,0.5335339989800779,0.5335339989800779,0.5335339989800779,0.5335339989800779,0.5335339989800779,0.5335339989800779,0.5335339989800779,0.5335339989800779,0.5335339989800779,0.5335339989800779,0.5335339989800779,0.5335339989800779,0.5335339989800779,0.5335339989800779,0.5335339989800779,0.5335339989800779,0.5335339989800779,0.5335339989800779,0.5335339989800779,0.5335339989800779,0.5335339989800779,0.5335339989800779,0.5335339989800779,0.5335339989800779,0.5335339989800779,0.5335339989800779,0.5335339989800779,0.5335339989800779,0.5335339989800779,0.5335339989800779,0.6445973291937659,0.6445973291937659,0.6445973291937659,0.6445973291937659,0.6445973291937659,0.6445973291937659,0.6445973291937659,0.6445973291937659,0.6445973291937659,0.6445973291937659,0.6445973291937659,0.6445973291937659,0.6445973291937659,0.6445973291937659,0.6445973291937659,0.6445973291937659,0.6445973291937659,0.6445973291937659,0.6445973291937659,0.6445973291937659,0.6445973291937659,0.6445973291937659,0.6445973291937659,0.6445973291937659,0.6445973291937659,0.6445973291937659,0.6445973291937659,0.6445973291937659,0.6445973291937659,0.6445973291937659,0.6445973291937659,0.6445973291937659,0.6445973291937659,0.6445973291937659,0.6445973291937659,0.6445973291937659,0.6445973291937659,0.6445973291937659,0.6445973291937659,0.6445973291937659,0.6445973291937659,0.6445973291937659,0.6445973291937659,0.6445973291937659,0.6445973291937659,0.6445973291937659,0.6445973291937659,0.6445973291937659,0.6445973291937659,0.6445973291937659,0.6445973291937659,0.6445973291937659,0.6445973291937659,0.6445973291937659,0.6445973291937659,0.6445973291937659,0.6445973291937659,0.6445973291937659,0.6445973291937659,0.6445973291937659,0.6445973291937659,0.6445973291937659,0.6445973291937659,0.6445973291937659,0.6445973291937659,0.6445973291937659,0.6445973291937659,0.6445973291937659,0.6445973291937659,0.6445973291937659,0.6445973291937659,0.6445973291937659,0.6445973291937659,0.6445973291937659,0.6445973291937659,0.6445973291937659,0.6445973291937659,0.6445973291937659,0.6445973291937659,0.6445973291937659,0.6445973291937659,0.6445973291937659,0.6445973291937659,0.6445973291937659,0.7186395669892653],\"type\":\"scatter\"},{\"hoverlabel\":{\"namelength\":-1},\"mode\":\"lines+markers\",\"name\":\"FV35_20170804\",\"x\":[\"2017-08-04T21:20:00\",\"2017-08-04T21:30:00\",\"2017-08-04T21:40:00\",\"2017-08-04T21:50:00\",\"2017-08-04T22:00:00\",\"2017-08-04T22:10:00\",\"2017-08-04T22:20:00\",\"2017-08-04T22:30:00\",\"2017-08-04T22:40:00\",\"2017-08-04T22:50:00\",\"2017-08-04T23:00:00\",\"2017-08-04T23:10:00\",\"2017-08-04T23:20:00\",\"2017-08-04T23:30:00\",\"2017-08-04T23:40:00\",\"2017-08-04T23:50:00\",\"2017-08-05T00:00:00\",\"2017-08-05T00:10:00\",\"2017-08-05T00:20:00\",\"2017-08-05T00:30:00\",\"2017-08-05T00:40:00\",\"2017-08-05T00:50:00\",\"2017-08-05T01:00:00\",\"2017-08-05T01:10:00\",\"2017-08-05T01:20:00\",\"2017-08-05T01:30:00\",\"2017-08-05T01:40:00\",\"2017-08-05T01:50:00\",\"2017-08-05T02:00:00\",\"2017-08-05T02:10:00\",\"2017-08-05T02:20:00\",\"2017-08-05T02:30:00\",\"2017-08-05T02:40:00\",\"2017-08-05T02:50:00\",\"2017-08-05T03:00:00\",\"2017-08-05T03:10:00\",\"2017-08-05T03:20:00\",\"2017-08-05T03:30:00\",\"2017-08-05T03:40:00\",\"2017-08-05T03:50:00\",\"2017-08-05T04:00:00\",\"2017-08-05T04:10:00\",\"2017-08-05T04:20:00\",\"2017-08-05T04:30:00\",\"2017-08-05T04:40:00\",\"2017-08-05T04:50:00\",\"2017-08-05T05:00:00\",\"2017-08-05T05:10:00\",\"2017-08-05T05:20:00\",\"2017-08-05T05:30:00\",\"2017-08-05T05:40:00\",\"2017-08-05T05:50:00\",\"2017-08-05T06:00:00\",\"2017-08-05T06:10:00\",\"2017-08-05T06:20:00\",\"2017-08-05T06:30:00\",\"2017-08-05T06:40:00\",\"2017-08-05T06:50:00\",\"2017-08-05T07:00:00\",\"2017-08-05T07:10:00\",\"2017-08-05T07:20:00\",\"2017-08-05T07:30:00\",\"2017-08-05T07:40:00\",\"2017-08-05T07:50:00\",\"2017-08-05T08:00:00\",\"2017-08-05T08:10:00\",\"2017-08-05T08:20:00\",\"2017-08-05T08:30:00\",\"2017-08-05T08:40:00\",\"2017-08-05T08:50:00\",\"2017-08-05T09:00:00\",\"2017-08-05T09:10:00\",\"2017-08-05T09:20:00\",\"2017-08-05T09:30:00\",\"2017-08-05T09:40:00\",\"2017-08-05T09:50:00\",\"2017-08-05T10:00:00\",\"2017-08-05T10:10:00\",\"2017-08-05T10:20:00\",\"2017-08-05T10:30:00\",\"2017-08-05T10:40:00\",\"2017-08-05T10:50:00\",\"2017-08-05T11:00:00\",\"2017-08-05T11:10:00\",\"2017-08-05T11:20:00\",\"2017-08-05T11:30:00\",\"2017-08-05T11:40:00\",\"2017-08-05T11:50:00\",\"2017-08-05T12:00:00\",\"2017-08-05T12:10:00\",\"2017-08-05T12:20:00\",\"2017-08-05T12:30:00\",\"2017-08-05T12:40:00\",\"2017-08-05T12:50:00\",\"2017-08-05T13:00:00\",\"2017-08-05T13:10:00\",\"2017-08-05T13:20:00\",\"2017-08-05T13:30:00\",\"2017-08-05T13:40:00\",\"2017-08-05T13:50:00\",\"2017-08-05T14:00:00\",\"2017-08-05T14:10:00\",\"2017-08-05T14:20:00\",\"2017-08-05T14:30:00\",\"2017-08-05T14:40:00\",\"2017-08-05T14:50:00\",\"2017-08-05T15:00:00\",\"2017-08-05T15:10:00\",\"2017-08-05T15:20:00\",\"2017-08-05T15:30:00\",\"2017-08-05T15:40:00\",\"2017-08-05T15:50:00\",\"2017-08-05T16:00:00\",\"2017-08-05T16:10:00\",\"2017-08-05T16:20:00\",\"2017-08-05T16:30:00\",\"2017-08-05T16:40:00\",\"2017-08-05T16:50:00\",\"2017-08-05T17:00:00\",\"2017-08-05T17:10:00\",\"2017-08-05T17:20:00\",\"2017-08-05T17:30:00\",\"2017-08-05T17:40:00\",\"2017-08-05T17:50:00\",\"2017-08-05T18:00:00\",\"2017-08-05T18:10:00\",\"2017-08-05T18:20:00\",\"2017-08-05T18:30:00\",\"2017-08-05T18:40:00\",\"2017-08-05T18:50:00\",\"2017-08-05T19:00:00\",\"2017-08-05T19:10:00\",\"2017-08-05T19:20:00\",\"2017-08-05T19:30:00\",\"2017-08-05T19:40:00\",\"2017-08-05T19:50:00\",\"2017-08-05T20:00:00\",\"2017-08-05T20:10:00\",\"2017-08-05T20:20:00\",\"2017-08-05T20:30:00\",\"2017-08-05T20:40:00\",\"2017-08-05T20:50:00\",\"2017-08-05T21:00:00\",\"2017-08-05T21:10:00\",\"2017-08-05T21:20:00\",\"2017-08-05T21:30:00\",\"2017-08-05T21:40:00\",\"2017-08-05T21:50:00\",\"2017-08-05T22:00:00\",\"2017-08-05T22:10:00\",\"2017-08-05T22:20:00\",\"2017-08-05T22:30:00\",\"2017-08-05T22:40:00\",\"2017-08-05T22:50:00\",\"2017-08-05T23:00:00\",\"2017-08-05T23:10:00\",\"2017-08-05T23:20:00\",\"2017-08-05T23:30:00\",\"2017-08-05T23:40:00\",\"2017-08-05T23:50:00\",\"2017-08-06T00:00:00\",\"2017-08-06T00:10:00\",\"2017-08-06T00:20:00\",\"2017-08-06T00:30:00\",\"2017-08-06T00:40:00\",\"2017-08-06T00:50:00\",\"2017-08-06T01:00:00\",\"2017-08-06T01:10:00\",\"2017-08-06T01:20:00\",\"2017-08-06T01:30:00\",\"2017-08-06T01:40:00\",\"2017-08-06T01:50:00\",\"2017-08-06T02:00:00\",\"2017-08-06T02:10:00\",\"2017-08-06T02:20:00\",\"2017-08-06T02:30:00\",\"2017-08-06T02:40:00\",\"2017-08-06T02:50:00\",\"2017-08-06T03:00:00\",\"2017-08-06T03:10:00\",\"2017-08-06T03:20:00\",\"2017-08-06T03:30:00\",\"2017-08-06T03:40:00\",\"2017-08-06T03:50:00\",\"2017-08-06T04:00:00\",\"2017-08-06T04:10:00\",\"2017-08-06T04:20:00\",\"2017-08-06T04:30:00\",\"2017-08-06T04:40:00\",\"2017-08-06T04:50:00\",\"2017-08-06T05:00:00\",\"2017-08-06T05:10:00\",\"2017-08-06T05:20:00\",\"2017-08-06T05:30:00\",\"2017-08-06T05:40:00\",\"2017-08-06T05:50:00\",\"2017-08-06T06:00:00\",\"2017-08-06T06:10:00\",\"2017-08-06T06:20:00\",\"2017-08-06T06:30:00\",\"2017-08-06T06:40:00\",\"2017-08-06T06:50:00\",\"2017-08-06T07:00:00\",\"2017-08-06T07:10:00\",\"2017-08-06T07:20:00\",\"2017-08-06T07:30:00\",\"2017-08-06T07:40:00\",\"2017-08-06T07:50:00\",\"2017-08-06T08:00:00\",\"2017-08-06T08:10:00\",\"2017-08-06T08:20:00\",\"2017-08-06T08:30:00\",\"2017-08-06T08:40:00\",\"2017-08-06T08:50:00\",\"2017-08-06T09:00:00\",\"2017-08-06T09:10:00\",\"2017-08-06T09:20:00\",\"2017-08-06T09:30:00\",\"2017-08-06T09:40:00\",\"2017-08-06T09:50:00\",\"2017-08-06T10:00:00\",\"2017-08-06T10:10:00\",\"2017-08-06T10:20:00\",\"2017-08-06T10:30:00\",\"2017-08-06T10:40:00\",\"2017-08-06T10:50:00\",\"2017-08-06T11:00:00\",\"2017-08-06T11:10:00\",\"2017-08-06T11:20:00\",\"2017-08-06T11:30:00\",\"2017-08-06T11:40:00\",\"2017-08-06T11:50:00\",\"2017-08-06T12:00:00\",\"2017-08-06T12:10:00\",\"2017-08-06T12:20:00\",\"2017-08-06T12:30:00\",\"2017-08-06T12:40:00\",\"2017-08-06T12:50:00\",\"2017-08-06T13:00:00\",\"2017-08-06T13:10:00\",\"2017-08-06T13:20:00\",\"2017-08-06T13:30:00\",\"2017-08-06T13:40:00\",\"2017-08-06T13:50:00\",\"2017-08-06T14:00:00\",\"2017-08-06T14:10:00\",\"2017-08-06T14:20:00\",\"2017-08-06T14:30:00\",\"2017-08-06T14:40:00\",\"2017-08-06T14:50:00\",\"2017-08-06T15:00:00\",\"2017-08-06T15:10:00\",\"2017-08-06T15:20:00\",\"2017-08-06T15:30:00\",\"2017-08-06T15:40:00\",\"2017-08-06T15:50:00\",\"2017-08-06T16:00:00\",\"2017-08-06T16:10:00\",\"2017-08-06T16:20:00\",\"2017-08-06T16:30:00\",\"2017-08-06T16:40:00\",\"2017-08-06T16:50:00\",\"2017-08-06T17:00:00\",\"2017-08-06T17:10:00\",\"2017-08-06T17:20:00\",\"2017-08-06T17:30:00\",\"2017-08-06T17:40:00\",\"2017-08-06T17:50:00\",\"2017-08-06T18:00:00\",\"2017-08-06T18:10:00\",\"2017-08-06T18:20:00\",\"2017-08-06T18:30:00\",\"2017-08-06T18:40:00\",\"2017-08-06T18:50:00\",\"2017-08-06T19:00:00\",\"2017-08-06T19:10:00\",\"2017-08-06T19:20:00\",\"2017-08-06T19:30:00\",\"2017-08-06T19:40:00\",\"2017-08-06T19:50:00\",\"2017-08-06T20:00:00\",\"2017-08-06T20:10:00\",\"2017-08-06T20:20:00\",\"2017-08-06T20:30:00\",\"2017-08-06T20:40:00\",\"2017-08-06T20:50:00\",\"2017-08-06T21:00:00\",\"2017-08-06T21:10:00\",\"2017-08-06T21:20:00\",\"2017-08-06T21:30:00\",\"2017-08-06T21:40:00\",\"2017-08-06T21:50:00\",\"2017-08-06T22:00:00\",\"2017-08-06T22:10:00\",\"2017-08-06T22:20:00\",\"2017-08-06T22:30:00\",\"2017-08-06T22:40:00\",\"2017-08-06T22:50:00\",\"2017-08-06T23:00:00\",\"2017-08-06T23:10:00\",\"2017-08-06T23:20:00\",\"2017-08-06T23:30:00\",\"2017-08-06T23:40:00\",\"2017-08-06T23:50:00\",\"2017-08-07T00:00:00\",\"2017-08-07T00:10:00\",\"2017-08-07T00:20:00\",\"2017-08-07T00:30:00\",\"2017-08-07T00:40:00\",\"2017-08-07T00:50:00\",\"2017-08-07T01:00:00\",\"2017-08-07T01:10:00\",\"2017-08-07T01:20:00\",\"2017-08-07T01:30:00\",\"2017-08-07T01:40:00\",\"2017-08-07T01:50:00\",\"2017-08-07T02:00:00\",\"2017-08-07T02:10:00\",\"2017-08-07T02:20:00\",\"2017-08-07T02:30:00\"],\"y\":[0.0,0.0,0.0,0.0,0.0,0.0,0.0,0.0,0.0,0.0,0.0,0.0,0.0,0.0,0.0,0.0,0.0,0.0,0.0,0.0,0.0,0.0,0.0,0.0,0.0,0.0,0.0,0.0,0.0,0.0,0.0,0.0,0.0,0.0,0.0,0.0,0.0,0.0595602241928952,0.0595602241928952,0.0595602241928952,0.0595602241928952,0.0595602241928952,0.0595602241928952,0.0595602241928952,0.0595602241928952,0.0595602241928952,0.0595602241928952,0.0595602241928952,0.0595602241928952,0.0595602241928952,0.0595602241928952,0.0595602241928952,0.0595602241928952,0.0595602241928952,0.0595602241928952,0.0595602241928952,0.0595602241928952,0.0595602241928952,0.0595602241928952,0.0595602241928952,0.0595602241928952,0.0595602241928952,0.0595602241928952,0.0595602241928952,0.0595602241928952,0.0595602241928952,0.0595602241928952,0.0595602241928952,0.0595602241928952,0.0595602241928952,0.0595602241928952,0.0595602241928952,0.0595602241928952,0.0595602241928952,0.0595602241928952,0.0595602241928952,0.0595602241928952,0.0595602241928952,0.0595602241928952,0.0595602241928952,0.0595602241928952,0.0595602241928952,0.0595602241928952,0.0595602241928952,0.0595602241928952,0.0595602241928952,0.0595602241928952,0.0595602241928952,0.0595602241928952,0.0595602241928952,0.0595602241928952,0.0595602241928952,0.0595602241928952,0.0595602241928952,0.0595602241928952,0.0595602241928952,0.0595602241928952,0.0595602241928952,0.0595602241928952,0.0595602241928952,0.0595602241928952,0.0595602241928952,0.0595602241928952,0.0595602241928952,0.0595602241928952,0.0595602241928952,0.0595602241928952,0.0595602241928952,0.0595602241928952,0.0595602241928952,0.0595602241928952,0.0595602241928952,0.0595602241928952,0.0595602241928952,0.0595602241928952,0.0595602241928952,0.0595602241928952,0.0595602241928952,0.0595602241928952,0.2669012943646839,0.2669012943646839,0.2669012943646839,0.2669012943646839,0.2669012943646839,0.2669012943646839,0.2669012943646839,0.2669012943646839,0.2669012943646839,0.2669012943646839,0.2669012943646839,0.2669012943646839,0.2669012943646839,0.2669012943646839,0.2669012943646839,0.2669012943646839,0.2669012943646839,0.2669012943646839,0.2669012943646839,0.2669012943646839,0.2669012943646839,0.2669012943646839,0.2669012943646839,0.2669012943646839,0.2669012943646839,0.2669012943646839,0.2669012943646839,0.2669012943646839,0.2669012943646839,0.2669012943646839,0.2669012943646839,0.2669012943646839,0.2669012943646839,0.2669012943646839,0.2669012943646839,0.2669012943646839,0.2669012943646839,0.2669012943646839,0.2669012943646839,0.2669012943646839,0.2669012943646839,0.2669012943646839,0.2669012943646839,0.2669012943646839,0.2669012943646839,0.2669012943646839,0.2669012943646839,0.2669012943646839,0.2669012943646839,0.392786921412574,0.392786921412574,0.392786921412574,0.392786921412574,0.392786921412574,0.392786921412574,0.392786921412574,0.392786921412574,0.392786921412574,0.392786921412574,0.392786921412574,0.392786921412574,0.392786921412574,0.392786921412574,0.392786921412574,0.392786921412574,0.392786921412574,0.392786921412574,0.392786921412574,0.392786921412574,0.392786921412574,0.392786921412574,0.392786921412574,0.392786921412574,0.392786921412574,0.392786921412574,0.392786921412574,0.392786921412574,0.392786921412574,0.392786921412574,0.392786921412574,0.392786921412574,0.392786921412574,0.392786921412574,0.392786921412574,0.392786921412574,0.392786921412574,0.392786921412574,0.392786921412574,0.392786921412574,0.392786921412574,0.392786921412574,0.392786921412574,0.392786921412574,0.392786921412574,0.392786921412574,0.392786921412574,0.392786921412574,0.392786921412574,0.392786921412574,0.392786921412574,0.392786921412574,0.392786921412574,0.392786921412574,0.392786921412574,0.392786921412574,0.392786921412574,0.392786921412574,0.392786921412574,0.392786921412574,0.392786921412574,0.392786921412574,0.392786921412574,0.392786921412574,0.392786921412574,0.392786921412574,0.392786921412574,0.392786921412574,0.392786921412574,0.392786921412574,0.392786921412574,0.392786921412574,0.392786921412574,0.392786921412574,0.392786921412574,0.392786921412574,0.392786921412574,0.392786921412574,0.392786921412574,0.392786921412574,0.392786921412574,0.392786921412574,0.392786921412574,0.392786921412574,0.392786921412574,0.392786921412574,0.6297481142003569,0.6297481142003569,0.6297481142003569,0.6297481142003569,0.6297481142003569,0.6297481142003569,0.6297481142003569,0.6297481142003569,0.6297481142003569,0.6297481142003569,0.6297481142003569,0.6297481142003569,0.6297481142003569,0.6297481142003569,0.6297481142003569,0.6297481142003569,0.6297481142003569,0.6297481142003569,0.6297481142003569,0.6297481142003569,0.6297481142003569,0.6297481142003569,0.6297481142003569,0.6297481142003569,0.6297481142003569,0.6297481142003569,0.6297481142003569,0.6297481142003569,0.6297481142003569,0.6297481142003569,0.6297481142003569,0.6297481142003569,0.6297481142003569,0.6297481142003569,0.6297481142003569,0.6297481142003569,0.6297481142003569,0.6297481142003569,0.6297481142003569,0.6297481142003569,0.6297481142003569,0.6297481142003569,0.6297481142003569,0.6297481142003569,0.6297481142003569,0.6297481142003569,0.6297481142003569,0.6297481142003569,0.6297481142003569,0.6297481142003569,0.6297481142003569,0.6297481142003569,0.6297481142003569,0.6297481142003569,0.6297481142003569,0.6297481142003569,0.6297481142003569,0.6297481142003569,0.6297481142003569,0.6297481142003569,0.6297481142003569,0.6297481142003569,0.6297481142003569,0.6297481142003569,0.6297481142003569,0.696393460706287],\"type\":\"scatter\"},{\"hoverlabel\":{\"namelength\":-1},\"mode\":\"lines+markers\",\"name\":\"FV35_20171219\",\"x\":[\"2017-12-19T12:00:00\",\"2017-12-19T12:10:00\",\"2017-12-19T12:20:00\",\"2017-12-19T12:30:00\",\"2017-12-19T12:40:00\",\"2017-12-19T12:50:00\",\"2017-12-19T13:00:00\",\"2017-12-19T13:10:00\",\"2017-12-19T13:20:00\",\"2017-12-19T13:30:00\",\"2017-12-19T13:40:00\",\"2017-12-19T13:50:00\",\"2017-12-19T14:00:00\",\"2017-12-19T14:10:00\",\"2017-12-19T14:20:00\",\"2017-12-19T14:30:00\",\"2017-12-19T14:40:00\",\"2017-12-19T14:50:00\",\"2017-12-19T15:00:00\",\"2017-12-19T15:10:00\",\"2017-12-19T15:20:00\",\"2017-12-19T15:30:00\",\"2017-12-19T15:40:00\",\"2017-12-19T15:50:00\",\"2017-12-19T16:00:00\",\"2017-12-19T16:10:00\",\"2017-12-19T16:20:00\",\"2017-12-19T16:30:00\",\"2017-12-19T16:40:00\",\"2017-12-19T16:50:00\",\"2017-12-19T17:00:00\",\"2017-12-19T17:10:00\",\"2017-12-19T17:20:00\",\"2017-12-19T17:30:00\",\"2017-12-19T17:40:00\",\"2017-12-19T17:50:00\",\"2017-12-19T18:00:00\",\"2017-12-19T18:10:00\",\"2017-12-19T18:20:00\",\"2017-12-19T18:30:00\",\"2017-12-19T18:40:00\",\"2017-12-19T18:50:00\",\"2017-12-19T19:00:00\",\"2017-12-19T19:10:00\",\"2017-12-19T19:20:00\",\"2017-12-19T19:30:00\",\"2017-12-19T19:40:00\",\"2017-12-19T19:50:00\",\"2017-12-19T20:00:00\",\"2017-12-19T20:10:00\",\"2017-12-19T20:50:00\",\"2017-12-19T21:00:00\",\"2017-12-19T21:10:00\",\"2017-12-19T21:20:00\",\"2017-12-19T21:30:00\",\"2017-12-19T21:40:00\",\"2017-12-19T21:50:00\",\"2017-12-19T22:00:00\",\"2017-12-19T22:30:00\",\"2017-12-19T22:40:00\",\"2017-12-19T22:50:00\",\"2017-12-19T23:00:00\",\"2017-12-19T23:10:00\",\"2017-12-19T23:20:00\",\"2017-12-19T23:30:00\",\"2017-12-19T23:40:00\",\"2017-12-19T23:50:00\",\"2017-12-20T00:00:00\",\"2017-12-20T00:10:00\",\"2017-12-20T00:20:00\",\"2017-12-20T00:30:00\",\"2017-12-20T00:40:00\",\"2017-12-20T00:50:00\",\"2017-12-20T01:00:00\",\"2017-12-20T01:10:00\",\"2017-12-20T01:20:00\",\"2017-12-20T01:30:00\",\"2017-12-20T01:40:00\",\"2017-12-20T01:50:00\",\"2017-12-20T02:00:00\",\"2017-12-20T02:10:00\",\"2017-12-20T02:20:00\",\"2017-12-20T02:30:00\",\"2017-12-20T02:40:00\",\"2017-12-20T02:50:00\",\"2017-12-20T03:00:00\",\"2017-12-20T03:10:00\",\"2017-12-20T03:20:00\",\"2017-12-20T03:30:00\",\"2017-12-20T03:40:00\",\"2017-12-20T03:50:00\",\"2017-12-20T04:00:00\",\"2017-12-20T04:10:00\",\"2017-12-20T04:20:00\",\"2017-12-20T04:30:00\",\"2017-12-20T04:40:00\",\"2017-12-20T04:50:00\",\"2017-12-20T05:00:00\",\"2017-12-20T05:10:00\",\"2017-12-20T05:20:00\",\"2017-12-20T05:30:00\",\"2017-12-20T05:40:00\",\"2017-12-20T05:50:00\",\"2017-12-20T06:00:00\",\"2017-12-20T06:10:00\",\"2017-12-20T06:20:00\",\"2017-12-20T06:30:00\",\"2017-12-20T06:40:00\",\"2017-12-20T06:50:00\",\"2017-12-20T07:00:00\",\"2017-12-20T07:10:00\",\"2017-12-20T07:20:00\",\"2017-12-20T07:30:00\",\"2017-12-20T07:40:00\",\"2017-12-20T07:50:00\",\"2017-12-20T08:00:00\",\"2017-12-20T08:10:00\",\"2017-12-20T08:20:00\",\"2017-12-20T08:30:00\",\"2017-12-20T08:40:00\",\"2017-12-20T08:50:00\",\"2017-12-20T09:00:00\",\"2017-12-20T09:10:00\",\"2017-12-20T09:20:00\",\"2017-12-20T09:30:00\",\"2017-12-20T09:40:00\",\"2017-12-20T09:50:00\",\"2017-12-20T10:00:00\",\"2017-12-20T10:10:00\",\"2017-12-20T10:20:00\",\"2017-12-20T10:30:00\",\"2017-12-20T10:40:00\",\"2017-12-20T10:50:00\",\"2017-12-20T11:00:00\",\"2017-12-20T11:10:00\",\"2017-12-20T11:20:00\",\"2017-12-20T11:30:00\",\"2017-12-20T11:40:00\",\"2017-12-20T11:50:00\",\"2017-12-20T12:00:00\",\"2017-12-20T12:10:00\",\"2017-12-20T12:20:00\",\"2017-12-20T12:30:00\",\"2017-12-20T12:40:00\",\"2017-12-20T12:50:00\",\"2017-12-20T13:00:00\",\"2017-12-20T13:10:00\",\"2017-12-20T13:20:00\",\"2017-12-20T13:30:00\",\"2017-12-20T13:40:00\",\"2017-12-20T13:50:00\",\"2017-12-20T14:00:00\",\"2017-12-20T14:10:00\",\"2017-12-20T14:20:00\",\"2017-12-20T14:30:00\",\"2017-12-20T14:40:00\",\"2017-12-20T14:50:00\",\"2017-12-20T15:00:00\",\"2017-12-20T15:10:00\",\"2017-12-20T15:20:00\",\"2017-12-20T15:30:00\",\"2017-12-20T15:40:00\",\"2017-12-20T15:50:00\",\"2017-12-20T16:00:00\",\"2017-12-20T16:10:00\",\"2017-12-20T16:20:00\",\"2017-12-20T16:30:00\",\"2017-12-20T16:40:00\",\"2017-12-20T16:50:00\",\"2017-12-20T17:00:00\",\"2017-12-20T17:10:00\",\"2017-12-20T17:20:00\",\"2017-12-20T17:30:00\",\"2017-12-20T17:40:00\",\"2017-12-20T17:50:00\",\"2017-12-20T18:00:00\",\"2017-12-20T18:10:00\",\"2017-12-20T18:20:00\",\"2017-12-20T18:30:00\",\"2017-12-20T18:40:00\",\"2017-12-20T18:50:00\",\"2017-12-20T19:00:00\",\"2017-12-20T19:10:00\",\"2017-12-20T19:20:00\",\"2017-12-20T19:30:00\",\"2017-12-20T19:40:00\",\"2017-12-20T19:50:00\",\"2017-12-20T20:00:00\",\"2017-12-20T20:10:00\",\"2017-12-20T20:20:00\",\"2017-12-20T20:30:00\",\"2017-12-20T20:40:00\",\"2017-12-20T20:50:00\",\"2017-12-20T21:00:00\",\"2017-12-20T21:10:00\",\"2017-12-20T21:20:00\",\"2017-12-20T21:30:00\",\"2017-12-20T21:40:00\",\"2017-12-20T21:50:00\",\"2017-12-20T22:00:00\",\"2017-12-20T22:10:00\",\"2017-12-20T22:20:00\",\"2017-12-20T22:30:00\",\"2017-12-20T22:40:00\",\"2017-12-20T22:50:00\",\"2017-12-20T23:00:00\",\"2017-12-20T23:10:00\",\"2017-12-20T23:20:00\",\"2017-12-20T23:30:00\",\"2017-12-20T23:40:00\",\"2017-12-20T23:50:00\",\"2017-12-21T00:00:00\",\"2017-12-21T00:10:00\",\"2017-12-21T00:20:00\",\"2017-12-21T00:30:00\",\"2017-12-21T00:40:00\",\"2017-12-21T00:50:00\",\"2017-12-21T01:00:00\",\"2017-12-21T01:10:00\",\"2017-12-21T01:20:00\",\"2017-12-21T01:30:00\",\"2017-12-21T01:40:00\",\"2017-12-21T01:50:00\",\"2017-12-21T02:00:00\",\"2017-12-21T02:10:00\",\"2017-12-21T02:20:00\",\"2017-12-21T02:30:00\",\"2017-12-21T02:40:00\",\"2017-12-21T02:50:00\",\"2017-12-21T03:00:00\",\"2017-12-21T03:10:00\",\"2017-12-21T03:20:00\",\"2017-12-21T03:30:00\",\"2017-12-21T03:40:00\",\"2017-12-21T03:50:00\",\"2017-12-21T04:00:00\",\"2017-12-21T04:10:00\",\"2017-12-21T04:20:00\",\"2017-12-21T04:30:00\",\"2017-12-21T04:40:00\",\"2017-12-21T04:50:00\",\"2017-12-21T05:00:00\",\"2017-12-21T05:10:00\",\"2017-12-21T05:20:00\",\"2017-12-21T05:30:00\",\"2017-12-21T05:40:00\",\"2017-12-21T05:50:00\",\"2017-12-21T06:00:00\",\"2017-12-21T06:10:00\",\"2017-12-21T06:20:00\",\"2017-12-21T06:30:00\",\"2017-12-21T06:40:00\",\"2017-12-21T06:50:00\",\"2017-12-21T07:00:00\",\"2017-12-21T07:10:00\",\"2017-12-21T07:20:00\",\"2017-12-21T07:30:00\",\"2017-12-21T07:40:00\",\"2017-12-21T07:50:00\",\"2017-12-21T08:00:00\",\"2017-12-21T08:10:00\",\"2017-12-21T08:20:00\",\"2017-12-21T08:30:00\",\"2017-12-21T08:40:00\",\"2017-12-21T08:50:00\",\"2017-12-21T09:00:00\",\"2017-12-21T09:10:00\",\"2017-12-21T09:20:00\",\"2017-12-21T09:30:00\",\"2017-12-21T09:40:00\",\"2017-12-21T09:50:00\",\"2017-12-21T10:00:00\",\"2017-12-21T10:10:00\",\"2017-12-21T10:20:00\",\"2017-12-21T10:30:00\",\"2017-12-21T10:40:00\",\"2017-12-21T10:50:00\",\"2017-12-21T11:00:00\",\"2017-12-21T11:10:00\",\"2017-12-21T11:20:00\",\"2017-12-21T11:30:00\",\"2017-12-21T11:40:00\",\"2017-12-21T11:50:00\",\"2017-12-21T12:00:00\",\"2017-12-21T12:10:00\",\"2017-12-21T12:20:00\",\"2017-12-21T12:30:00\",\"2017-12-21T12:40:00\",\"2017-12-21T12:50:00\",\"2017-12-21T13:00:00\",\"2017-12-21T13:10:00\",\"2017-12-21T13:20:00\",\"2017-12-21T13:30:00\",\"2017-12-21T13:40:00\",\"2017-12-21T13:50:00\",\"2017-12-21T14:00:00\",\"2017-12-21T14:10:00\",\"2017-12-21T14:20:00\",\"2017-12-21T14:30:00\",\"2017-12-21T14:40:00\",\"2017-12-21T14:50:00\",\"2017-12-21T15:00:00\",\"2017-12-21T15:10:00\",\"2017-12-21T15:20:00\",\"2017-12-21T15:30:00\",\"2017-12-21T15:40:00\",\"2017-12-21T15:50:00\",\"2017-12-21T16:00:00\",\"2017-12-21T16:10:00\",\"2017-12-21T16:20:00\",\"2017-12-21T16:30:00\",\"2017-12-21T16:40:00\",\"2017-12-21T16:50:00\",\"2017-12-21T17:00:00\",\"2017-12-21T17:10:00\",\"2017-12-21T17:20:00\",\"2017-12-21T17:30:00\",\"2017-12-21T17:40:00\",\"2017-12-21T17:50:00\",\"2017-12-21T18:00:00\",\"2017-12-21T18:10:00\"],\"y\":[0.0,0.0,0.0,0.0,0.0,0.0,0.0,0.0,0.0,0.0,0.0,0.0,0.0,0.0,0.0,0.0,0.0,0.0,0.0,0.0148115992605114,0.0148115992605114,0.0148115992605114,0.0148115992605114,0.0148115992605114,0.0148115992605114,0.0148115992605114,0.0148115992605114,0.0148115992605114,0.0148115992605114,0.0148115992605114,0.0148115992605114,0.0148115992605114,0.0148115992605114,0.0148115992605114,0.0148115992605114,0.0148115992605114,0.0148115992605114,0.0148115992605114,0.0148115992605114,0.0148115992605114,0.0148115992605114,0.0148115992605114,0.0148115992605114,0.0148115992605114,0.0148115992605114,0.0148115992605114,0.0148115992605114,0.0148115992605114,0.0148115992605114,0.0148115992605114,0.0,0.0,0.0,0.0,0.0,0.0,0.0,0.0,0.0,0.0,0.0,0.0,0.0,0.0,0.0,0.0,0.0,0.0,0.0,0.0,0.0,0.0,0.0,0.0,0.0,0.0,0.0,0.0,0.0,0.0,0.0,0.0,0.0,0.0,0.0,0.0,0.0,0.0,0.0,0.0,0.0,0.0,0.0,0.0,0.0,0.0,0.0,0.0,0.0,0.0,0.0,0.0,0.0,0.0,0.0,0.0,0.0,0.0,0.0,0.0,0.0,0.0,0.0,0.0,0.0,0.0,0.0,0.0,0.0,0.0,0.0,0.0,0.0,0.0,0.0,0.0,0.0,0.0,0.0,0.0,0.0,0.0,0.0,0.0,0.0,0.0,0.0,0.0,0.0,0.0,0.0,0.0,0.0,0.0,0.0,0.0,0.0,0.0,0.0,0.0,0.0,0.0,0.0,0.0,0.0,0.0,0.0,0.0,0.0,0.0,0.0,0.0,0.0,0.0,0.0,0.0,0.0,0.0,0.0,0.0,0.0,0.0,0.0,0.0,0.0,0.0,0.0,0.0,0.0,0.0,0.0,0.0,0.0,0.0,0.0,0.0,0.0,0.0,0.0,0.0,0.0,0.0,0.0,0.0,0.0,0.0,0.0,0.0,0.0,0.0,0.0,0.0,0.0,0.0,0.0,0.0,0.0,0.0,0.0,0.0,0.0,0.0,0.0,0.0,0.0,0.0,0.0,0.0,0.0,0.0,0.0,0.0,0.0,0.0,0.0,0.0,0.0,0.0,0.0,0.0,0.0,0.0,0.0,0.0,0.0,0.0,0.0,0.0,0.0,0.0,0.0,0.0,0.0,0.0,0.0,0.0,0.0,0.0,0.0,0.0,0.0,0.0,0.0,0.0,0.0,0.0,0.0,0.0,0.0,0.0,0.0,0.0,0.0,0.0,0.0,0.0,0.0,0.0,0.0,0.0,0.0,0.0,0.0,0.0,0.0,0.0,0.0,0.0,0.0,0.0,0.0,0.0,0.0,0.0,0.0,0.0,0.0,0.0,0.0,0.0,0.0,0.0,0.0,0.0,0.0,0.0,0.0,0.0,0.0,0.0,0.0,0.0,0.0,0.0,0.0,0.0,0.0,0.0,0.0,0.0,0.0,0.0,0.0,0.0,0.0,0.0,0.0,0.0,0.0,0.0,0.0],\"type\":\"scatter\"},{\"hoverlabel\":{\"namelength\":-1},\"mode\":\"lines+markers\",\"name\":\"FV36_20170426\",\"x\":[\"2017-04-26T08:30:00\",\"2017-04-26T08:40:00\",\"2017-04-26T08:50:00\",\"2017-04-26T09:00:00\",\"2017-04-26T09:10:00\",\"2017-04-26T09:20:00\",\"2017-04-26T09:30:00\",\"2017-04-26T09:40:00\",\"2017-04-26T09:50:00\",\"2017-04-26T10:00:00\",\"2017-04-26T10:10:00\",\"2017-04-26T10:20:00\",\"2017-04-26T10:30:00\",\"2017-04-26T10:40:00\",\"2017-04-26T10:50:00\",\"2017-04-26T11:00:00\",\"2017-04-26T11:10:00\",\"2017-04-26T11:20:00\",\"2017-04-26T11:30:00\",\"2017-04-26T11:40:00\",\"2017-04-26T11:50:00\",\"2017-04-26T12:00:00\",\"2017-04-26T12:10:00\",\"2017-04-26T12:20:00\",\"2017-04-26T12:30:00\",\"2017-04-26T12:40:00\",\"2017-04-26T12:50:00\",\"2017-04-26T13:00:00\",\"2017-04-26T13:10:00\",\"2017-04-26T13:20:00\",\"2017-04-26T13:30:00\",\"2017-04-26T13:40:00\",\"2017-04-26T13:50:00\",\"2017-04-26T14:00:00\",\"2017-04-26T14:10:00\",\"2017-04-26T14:20:00\",\"2017-04-26T14:30:00\",\"2017-04-26T14:40:00\",\"2017-04-26T14:50:00\",\"2017-04-26T15:00:00\",\"2017-04-26T15:10:00\",\"2017-04-26T15:20:00\",\"2017-04-26T15:30:00\",\"2017-04-26T15:40:00\",\"2017-04-26T15:50:00\",\"2017-04-26T16:00:00\",\"2017-04-26T16:10:00\",\"2017-04-26T16:20:00\",\"2017-04-26T16:30:00\",\"2017-04-26T16:40:00\",\"2017-04-26T16:50:00\",\"2017-04-26T17:00:00\",\"2017-04-26T17:10:00\",\"2017-04-26T17:20:00\",\"2017-04-26T17:30:00\",\"2017-04-26T17:40:00\",\"2017-04-26T17:50:00\",\"2017-04-26T18:00:00\",\"2017-04-26T18:10:00\",\"2017-04-26T18:20:00\",\"2017-04-26T18:30:00\",\"2017-04-26T18:40:00\",\"2017-04-26T18:50:00\",\"2017-04-26T19:00:00\",\"2017-04-26T19:10:00\",\"2017-04-26T19:20:00\",\"2017-04-26T19:30:00\",\"2017-04-26T19:40:00\",\"2017-04-26T19:50:00\",\"2017-04-26T20:00:00\",\"2017-04-26T20:10:00\",\"2017-04-26T20:20:00\",\"2017-04-26T20:30:00\",\"2017-04-26T20:40:00\",\"2017-04-26T20:50:00\",\"2017-04-26T21:00:00\",\"2017-04-26T21:10:00\",\"2017-04-26T21:20:00\",\"2017-04-26T21:30:00\",\"2017-04-26T21:40:00\",\"2017-04-26T21:50:00\",\"2017-04-26T22:00:00\",\"2017-04-26T22:10:00\",\"2017-04-26T22:20:00\",\"2017-04-26T22:30:00\",\"2017-04-26T22:40:00\",\"2017-04-26T22:50:00\",\"2017-04-26T23:00:00\",\"2017-04-26T23:10:00\",\"2017-04-26T23:20:00\",\"2017-04-26T23:30:00\",\"2017-04-26T23:40:00\",\"2017-04-26T23:50:00\",\"2017-04-27T00:00:00\",\"2017-04-27T00:10:00\",\"2017-04-27T00:20:00\",\"2017-04-27T00:30:00\",\"2017-04-27T00:40:00\",\"2017-04-27T00:50:00\",\"2017-04-27T01:00:00\",\"2017-04-27T01:10:00\",\"2017-04-27T01:20:00\",\"2017-04-27T01:30:00\",\"2017-04-27T01:40:00\",\"2017-04-27T01:50:00\",\"2017-04-27T02:00:00\",\"2017-04-27T02:10:00\",\"2017-04-27T02:20:00\",\"2017-04-27T02:30:00\",\"2017-04-27T02:40:00\",\"2017-04-27T02:50:00\",\"2017-04-27T03:00:00\",\"2017-04-27T03:10:00\",\"2017-04-27T03:20:00\",\"2017-04-27T03:30:00\",\"2017-04-27T03:40:00\",\"2017-04-27T03:50:00\",\"2017-04-27T04:00:00\",\"2017-04-27T04:10:00\",\"2017-04-27T04:20:00\",\"2017-04-27T04:30:00\",\"2017-04-27T04:40:00\",\"2017-04-27T04:50:00\",\"2017-04-27T05:00:00\",\"2017-04-27T05:10:00\",\"2017-04-27T05:20:00\",\"2017-04-27T05:30:00\",\"2017-04-27T05:40:00\",\"2017-04-27T05:50:00\",\"2017-04-27T06:00:00\",\"2017-04-27T06:10:00\",\"2017-04-27T06:20:00\",\"2017-04-27T06:30:00\",\"2017-04-27T06:40:00\",\"2017-04-27T06:50:00\",\"2017-04-27T07:00:00\",\"2017-04-27T07:10:00\",\"2017-04-27T07:20:00\",\"2017-04-27T07:30:00\",\"2017-04-27T07:40:00\",\"2017-04-27T07:50:00\",\"2017-04-27T08:00:00\",\"2017-04-27T08:10:00\",\"2017-04-27T08:20:00\",\"2017-04-27T08:30:00\",\"2017-04-27T08:40:00\",\"2017-04-27T08:50:00\",\"2017-04-27T09:00:00\",\"2017-04-27T09:10:00\",\"2017-04-27T09:20:00\",\"2017-04-27T09:30:00\",\"2017-04-27T09:40:00\",\"2017-04-27T09:50:00\",\"2017-04-27T10:00:00\",\"2017-04-27T10:10:00\",\"2017-04-27T10:20:00\",\"2017-04-27T10:30:00\",\"2017-04-27T10:40:00\",\"2017-04-27T10:50:00\",\"2017-04-27T11:00:00\",\"2017-04-27T11:10:00\",\"2017-04-27T11:20:00\",\"2017-04-27T11:30:00\",\"2017-04-27T11:40:00\",\"2017-04-27T11:50:00\",\"2017-04-27T12:00:00\",\"2017-04-27T12:10:00\",\"2017-04-27T12:20:00\",\"2017-04-27T12:30:00\",\"2017-04-27T12:40:00\",\"2017-04-27T12:50:00\",\"2017-04-27T13:00:00\",\"2017-04-27T13:10:00\",\"2017-04-27T13:20:00\",\"2017-04-27T13:30:00\",\"2017-04-27T13:40:00\",\"2017-04-27T13:50:00\",\"2017-04-27T14:00:00\",\"2017-04-27T14:10:00\",\"2017-04-27T14:20:00\",\"2017-04-27T14:30:00\",\"2017-04-27T14:40:00\",\"2017-04-27T14:50:00\",\"2017-04-27T15:00:00\",\"2017-04-27T15:10:00\",\"2017-04-27T15:20:00\",\"2017-04-27T15:30:00\",\"2017-04-27T15:40:00\",\"2017-04-27T15:50:00\",\"2017-04-27T16:00:00\",\"2017-04-27T16:10:00\",\"2017-04-27T16:20:00\",\"2017-04-27T16:30:00\",\"2017-04-27T16:40:00\",\"2017-04-27T16:50:00\",\"2017-04-27T17:00:00\",\"2017-04-27T17:10:00\",\"2017-04-27T17:20:00\",\"2017-04-27T17:30:00\",\"2017-04-27T17:40:00\",\"2017-04-27T17:50:00\",\"2017-04-27T18:00:00\",\"2017-04-27T18:10:00\",\"2017-04-27T18:20:00\",\"2017-04-27T18:30:00\",\"2017-04-27T18:40:00\",\"2017-04-27T18:50:00\",\"2017-04-27T19:00:00\",\"2017-04-27T19:10:00\",\"2017-04-27T19:20:00\",\"2017-04-27T19:30:00\",\"2017-04-27T19:40:00\",\"2017-04-27T19:50:00\",\"2017-04-27T20:00:00\",\"2017-04-27T20:10:00\",\"2017-04-27T20:20:00\",\"2017-04-27T20:30:00\",\"2017-04-27T20:40:00\",\"2017-04-27T20:50:00\",\"2017-04-27T21:00:00\",\"2017-04-27T21:10:00\",\"2017-04-27T21:20:00\",\"2017-04-27T21:30:00\",\"2017-04-27T21:40:00\",\"2017-04-27T21:50:00\",\"2017-04-27T22:00:00\",\"2017-04-27T22:10:00\",\"2017-04-27T22:20:00\",\"2017-04-27T22:30:00\",\"2017-04-27T22:40:00\",\"2017-04-27T22:50:00\",\"2017-04-27T23:00:00\",\"2017-04-27T23:10:00\",\"2017-04-27T23:20:00\",\"2017-04-27T23:30:00\",\"2017-04-27T23:40:00\",\"2017-04-27T23:50:00\",\"2017-04-28T00:00:00\",\"2017-04-28T00:10:00\",\"2017-04-28T00:20:00\",\"2017-04-28T00:30:00\",\"2017-04-28T00:40:00\",\"2017-04-28T00:50:00\",\"2017-04-28T01:00:00\",\"2017-04-28T01:10:00\",\"2017-04-28T01:20:00\",\"2017-04-28T01:30:00\",\"2017-04-28T01:40:00\",\"2017-04-28T01:50:00\",\"2017-04-28T02:00:00\",\"2017-04-28T02:10:00\",\"2017-04-28T02:20:00\",\"2017-04-28T02:30:00\",\"2017-04-28T02:40:00\",\"2017-04-28T02:50:00\",\"2017-04-28T03:00:00\",\"2017-04-28T03:10:00\",\"2017-04-28T03:20:00\",\"2017-04-28T03:30:00\",\"2017-04-28T03:40:00\",\"2017-04-28T03:50:00\",\"2017-04-28T04:00:00\",\"2017-04-28T04:10:00\",\"2017-04-28T04:20:00\",\"2017-04-28T04:30:00\",\"2017-04-28T04:40:00\",\"2017-04-28T04:50:00\",\"2017-04-28T05:00:00\",\"2017-04-28T05:10:00\",\"2017-04-28T05:20:00\",\"2017-04-28T05:30:00\",\"2017-04-28T05:40:00\",\"2017-04-28T05:50:00\",\"2017-04-28T06:00:00\",\"2017-04-28T06:10:00\",\"2017-04-28T06:20:00\",\"2017-04-28T06:30:00\",\"2017-04-28T06:40:00\",\"2017-04-28T06:50:00\",\"2017-04-28T07:00:00\",\"2017-04-28T07:10:00\",\"2017-04-28T07:20:00\",\"2017-04-28T07:30:00\",\"2017-04-28T07:40:00\",\"2017-04-28T07:50:00\",\"2017-04-28T08:00:00\",\"2017-04-28T08:10:00\",\"2017-04-28T08:20:00\",\"2017-04-28T08:30:00\",\"2017-04-28T08:40:00\",\"2017-04-28T08:50:00\",\"2017-04-28T09:00:00\",\"2017-04-28T09:10:00\",\"2017-04-28T09:20:00\",\"2017-04-28T09:30:00\",\"2017-04-28T09:40:00\",\"2017-04-28T09:50:00\",\"2017-04-28T10:00:00\",\"2017-04-28T10:10:00\",\"2017-04-28T10:20:00\",\"2017-04-28T10:30:00\",\"2017-04-28T10:40:00\",\"2017-04-28T10:50:00\",\"2017-04-28T11:00:00\",\"2017-04-28T11:10:00\",\"2017-04-28T11:20:00\",\"2017-04-28T11:30:00\",\"2017-04-28T11:40:00\",\"2017-04-28T11:50:00\",\"2017-04-28T12:00:00\",\"2017-04-28T12:10:00\",\"2017-04-28T12:20:00\",\"2017-04-28T12:30:00\",\"2017-04-28T12:40:00\",\"2017-04-28T12:50:00\",\"2017-04-28T13:00:00\",\"2017-04-28T13:10:00\",\"2017-04-28T13:20:00\",\"2017-04-28T13:30:00\",\"2017-04-28T13:40:00\",\"2017-04-28T13:50:00\",\"2017-04-28T14:00:00\"],\"y\":[0.0,0.0,0.0,0.0,0.0,0.0,0.0,0.0,0.0,0.0,0.0,0.0,0.0,0.0,0.0,0.0,0.0,0.0,0.0,0.0,0.0,0.0,0.0,0.0,0.0,0.0,0.0,0.0,0.0,0.0,0.0,0.0,0.0481531435202943,0.0481531435202943,0.0481531435202943,0.0481531435202943,0.0481531435202943,0.0481531435202943,0.0481531435202943,0.0481531435202943,0.0481531435202943,0.0481531435202943,0.0481531435202943,0.0481531435202943,0.0481531435202943,0.0481531435202943,0.0481531435202943,0.0481531435202943,0.0481531435202943,0.0481531435202943,0.0481531435202943,0.0481531435202943,0.0481531435202943,0.0481531435202943,0.0481531435202943,0.0481531435202943,0.0481531435202943,0.0481531435202943,0.0481531435202943,0.0481531435202943,0.0481531435202943,0.0481531435202943,0.0481531435202943,0.0481531435202943,0.0481531435202943,0.0481531435202943,0.0481531435202943,0.0481531435202943,0.0481531435202943,0.0481531435202943,0.0481531435202943,0.0481531435202943,0.0481531435202943,0.0481531435202943,0.0481531435202943,0.0481531435202943,0.0481531435202943,0.0481531435202943,0.0481531435202943,0.0481531435202943,0.0481531435202943,0.0481531435202943,0.0481531435202943,0.0481531435202943,0.0481531435202943,0.0481531435202943,0.0481531435202943,0.0481531435202943,0.0481531435202943,0.0481531435202943,0.0481531435202943,0.0481531435202943,0.0481531435202943,0.0481531435202943,0.0481531435202943,0.0481531435202943,0.0481531435202943,0.0481531435202943,0.0481531435202943,0.0481531435202943,0.0481531435202943,0.0481531435202943,0.0481531435202943,0.0481531435202943,0.0481531435202943,0.0481531435202943,0.0481531435202943,0.0481531435202943,0.0481531435202943,0.0481531435202943,0.0481531435202943,0.0481531435202943,0.0481531435202943,0.0481531435202943,0.0481531435202943,0.0481531435202943,0.2399982098287578,0.2399982098287578,0.2399982098287578,0.2399982098287578,0.2399982098287578,0.2399982098287578,0.2399982098287578,0.2399982098287578,0.2399982098287578,0.2399982098287578,0.2399982098287578,0.2399982098287578,0.2399982098287578,0.2399982098287578,0.2399982098287578,0.2399982098287578,0.2399982098287578,0.2399982098287578,0.2399982098287578,0.2399982098287578,0.2399982098287578,0.2399982098287578,0.2399982098287578,0.2399982098287578,0.2399982098287578,0.2399982098287578,0.2399982098287578,0.2399982098287578,0.2399982098287578,0.2399982098287578,0.2399982098287578,0.2399982098287578,0.2399982098287578,0.2399982098287578,0.2399982098287578,0.2399982098287578,0.2399982098287578,0.2399982098287578,0.2399982098287578,0.2399982098287578,0.2399982098287578,0.2399982098287578,0.2399982098287578,0.2399982098287578,0.2399982098287578,0.2399982098287578,0.2399982098287578,0.2399982098287578,0.2399982098287578,0.2399982098287578,0.2399982098287578,0.2399982098287578,0.2399982098287578,0.2399982098287578,0.2399982098287578,0.2399982098287578,0.2399982098287578,0.2399982098287578,0.2399982098287578,0.2399982098287578,0.2399982098287578,0.4318433465055878,0.4318433465055878,0.4318433465055878,0.4318433465055878,0.4318433465055878,0.4318433465055878,0.4318433465055878,0.4318433465055878,0.4318433465055878,0.4318433465055878,0.4318433465055878,0.4318433465055878,0.4318433465055878,0.4318433465055878,0.4318433465055878,0.4318433465055878,0.4318433465055878,0.4318433465055878,0.4318433465055878,0.4318433465055878,0.4318433465055878,0.4318433465055878,0.4318433465055878,0.4318433465055878,0.4318433465055878,0.4318433465055878,0.4318433465055878,0.4318433465055878,0.4318433465055878,0.4318433465055878,0.4318433465055878,0.4318433465055878,0.4318433465055878,0.4318433465055878,0.4318433465055878,0.4318433465055878,0.4318433465055878,0.4318433465055878,0.4318433465055878,0.4318433465055878,0.4318433465055878,0.4318433465055878,0.4318433465055878,0.4318433465055878,0.4318433465055878,0.4318433465055878,0.4318433465055878,0.4318433465055878,0.4318433465055878,0.4318433465055878,0.4318433465055878,0.4318433465055878,0.4318433465055878,0.4318433465055878,0.4318433465055878,0.4318433465055878,0.4318433465055878,0.4318433465055878,0.4318433465055878,0.4318433465055878,0.4318433465055878,0.4318433465055878,0.4318433465055878,0.4318433465055878,0.4318433465055878,0.4318433465055878,0.4318433465055878,0.4318433465055878,0.4318433465055878,0.4318433465055878,0.4318433465055878,0.4318433465055878,0.4318433465055878,0.4318433465055878,0.4318433465055878,0.4318433465055878,0.4318433465055878,0.4318433465055878,0.4318433465055878,0.4318433465055878,0.4318433465055878,0.4318433465055878,0.4318433465055878,0.4318433465055878,0.4318433465055878,0.4318433465055878,0.6532030871165302,0.6532030871165302,0.6532030871165302,0.6532030871165302,0.6532030871165302,0.6532030871165302,0.6532030871165302,0.6532030871165302,0.6532030871165302,0.6532030871165302,0.6532030871165302,0.6532030871165302,0.6532030871165302,0.6532030871165302,0.6532030871165302,0.6532030871165302,0.6532030871165302,0.6532030871165302,0.6532030871165302,0.6532030871165302,0.6532030871165302,0.6532030871165302,0.6532030871165302,0.6532030871165302,0.6532030871165302,0.6532030871165302,0.6532030871165302,0.6532030871165302,0.6532030871165302,0.6532030871165302,0.6532030871165302,0.6532030871165302,0.6532030871165302,0.6532030871165302,0.6532030871165302,0.6532030871165302,0.6532030871165302,0.6532030871165302,0.6532030871165302,0.6532030871165302,0.6532030871165302,0.6532030871165302,0.6532030871165302,0.6532030871165302,0.6532030871165302,0.6532030871165302,0.6532030871165302,0.6532030871165302,0.6532030871165302,0.6532030871165302,0.6532030871165302,0.6532030871165302,0.6532030871165302,0.6532030871165302,0.6532030871165302,0.6532030871165302,0.6532030871165302,0.6532030871165302,0.7048536791854102],\"type\":\"scatter\"},{\"hoverlabel\":{\"namelength\":-1},\"mode\":\"lines+markers\",\"name\":\"FV36_20171201\",\"x\":[\"2017-12-01T23:50:00\",\"2017-12-02T00:00:00\",\"2017-12-02T00:10:00\",\"2017-12-02T00:20:00\",\"2017-12-02T00:30:00\",\"2017-12-02T00:40:00\",\"2017-12-02T00:50:00\",\"2017-12-02T01:00:00\",\"2017-12-02T01:10:00\",\"2017-12-02T01:20:00\",\"2017-12-02T01:30:00\",\"2017-12-02T01:40:00\",\"2017-12-02T01:50:00\",\"2017-12-02T02:00:00\",\"2017-12-02T02:10:00\",\"2017-12-02T02:20:00\",\"2017-12-02T02:30:00\",\"2017-12-02T02:40:00\",\"2017-12-02T02:50:00\",\"2017-12-02T03:00:00\",\"2017-12-02T03:10:00\",\"2017-12-02T03:20:00\",\"2017-12-02T03:30:00\",\"2017-12-02T03:40:00\",\"2017-12-02T03:50:00\",\"2017-12-02T04:00:00\",\"2017-12-02T04:10:00\",\"2017-12-02T04:20:00\",\"2017-12-02T04:30:00\",\"2017-12-02T04:40:00\",\"2017-12-02T04:50:00\",\"2017-12-02T05:00:00\",\"2017-12-02T05:10:00\",\"2017-12-02T05:20:00\",\"2017-12-02T05:30:00\",\"2017-12-02T05:40:00\",\"2017-12-02T05:50:00\",\"2017-12-02T06:00:00\",\"2017-12-02T06:10:00\",\"2017-12-02T06:20:00\",\"2017-12-02T06:30:00\",\"2017-12-02T06:40:00\",\"2017-12-02T06:50:00\",\"2017-12-02T07:00:00\",\"2017-12-02T07:10:00\",\"2017-12-02T07:20:00\",\"2017-12-02T07:30:00\",\"2017-12-02T07:40:00\",\"2017-12-02T07:50:00\",\"2017-12-02T08:00:00\",\"2017-12-02T08:10:00\",\"2017-12-02T08:20:00\",\"2017-12-02T08:30:00\",\"2017-12-02T08:40:00\",\"2017-12-02T08:50:00\",\"2017-12-02T09:00:00\",\"2017-12-02T09:10:00\",\"2017-12-02T09:20:00\",\"2017-12-02T09:30:00\",\"2017-12-02T09:40:00\",\"2017-12-02T09:50:00\",\"2017-12-02T10:00:00\",\"2017-12-02T10:10:00\",\"2017-12-02T10:20:00\",\"2017-12-02T10:30:00\",\"2017-12-02T10:40:00\",\"2017-12-02T10:50:00\",\"2017-12-02T11:00:00\",\"2017-12-02T11:10:00\",\"2017-12-02T11:20:00\",\"2017-12-02T11:30:00\",\"2017-12-02T11:40:00\",\"2017-12-02T11:50:00\",\"2017-12-02T12:00:00\",\"2017-12-02T12:10:00\",\"2017-12-02T12:20:00\",\"2017-12-02T12:30:00\",\"2017-12-02T12:40:00\",\"2017-12-02T12:50:00\",\"2017-12-02T13:00:00\",\"2017-12-02T13:10:00\",\"2017-12-02T13:20:00\",\"2017-12-02T13:30:00\",\"2017-12-02T13:40:00\",\"2017-12-02T13:50:00\",\"2017-12-02T14:00:00\",\"2017-12-02T14:10:00\",\"2017-12-02T14:20:00\",\"2017-12-02T14:30:00\",\"2017-12-02T14:40:00\",\"2017-12-02T14:50:00\",\"2017-12-02T15:00:00\",\"2017-12-02T15:10:00\",\"2017-12-02T15:20:00\",\"2017-12-02T15:30:00\",\"2017-12-02T15:40:00\",\"2017-12-02T15:50:00\",\"2017-12-02T16:00:00\",\"2017-12-02T16:10:00\",\"2017-12-02T16:20:00\",\"2017-12-02T16:30:00\",\"2017-12-02T16:40:00\",\"2017-12-02T16:50:00\",\"2017-12-02T17:00:00\",\"2017-12-02T17:10:00\",\"2017-12-02T17:20:00\",\"2017-12-02T17:30:00\",\"2017-12-02T17:40:00\",\"2017-12-02T17:50:00\",\"2017-12-02T18:00:00\",\"2017-12-02T18:10:00\",\"2017-12-02T18:20:00\",\"2017-12-02T18:30:00\",\"2017-12-02T18:40:00\",\"2017-12-02T18:50:00\",\"2017-12-02T19:00:00\",\"2017-12-02T19:10:00\",\"2017-12-02T19:20:00\",\"2017-12-02T19:30:00\",\"2017-12-02T19:40:00\",\"2017-12-02T19:50:00\",\"2017-12-02T20:00:00\",\"2017-12-02T20:10:00\",\"2017-12-02T20:20:00\",\"2017-12-02T20:30:00\",\"2017-12-02T20:40:00\",\"2017-12-02T20:50:00\",\"2017-12-02T21:00:00\",\"2017-12-02T21:10:00\",\"2017-12-02T21:20:00\",\"2017-12-02T21:30:00\",\"2017-12-02T21:40:00\",\"2017-12-02T21:50:00\",\"2017-12-02T22:00:00\",\"2017-12-02T22:10:00\",\"2017-12-02T22:20:00\",\"2017-12-02T22:30:00\",\"2017-12-02T22:40:00\",\"2017-12-02T22:50:00\",\"2017-12-02T23:00:00\",\"2017-12-02T23:10:00\",\"2017-12-02T23:20:00\",\"2017-12-02T23:30:00\",\"2017-12-02T23:40:00\",\"2017-12-02T23:50:00\",\"2017-12-03T00:00:00\",\"2017-12-03T00:10:00\",\"2017-12-03T00:20:00\",\"2017-12-03T00:30:00\",\"2017-12-03T00:40:00\",\"2017-12-03T00:50:00\",\"2017-12-03T01:00:00\",\"2017-12-03T01:10:00\",\"2017-12-03T01:20:00\",\"2017-12-03T01:30:00\",\"2017-12-03T01:40:00\",\"2017-12-03T01:50:00\",\"2017-12-03T02:00:00\",\"2017-12-03T02:10:00\",\"2017-12-03T02:20:00\",\"2017-12-03T02:30:00\",\"2017-12-03T02:40:00\",\"2017-12-03T02:50:00\",\"2017-12-03T03:00:00\",\"2017-12-03T03:10:00\",\"2017-12-03T03:20:00\",\"2017-12-03T03:30:00\",\"2017-12-03T03:40:00\",\"2017-12-03T03:50:00\",\"2017-12-03T04:00:00\",\"2017-12-03T04:10:00\",\"2017-12-03T04:20:00\",\"2017-12-03T04:30:00\",\"2017-12-03T04:40:00\",\"2017-12-03T04:50:00\",\"2017-12-03T05:00:00\",\"2017-12-03T05:10:00\",\"2017-12-03T05:20:00\",\"2017-12-03T05:30:00\",\"2017-12-03T05:40:00\",\"2017-12-03T05:50:00\",\"2017-12-03T06:00:00\",\"2017-12-03T06:10:00\",\"2017-12-03T06:20:00\",\"2017-12-03T06:30:00\",\"2017-12-03T06:40:00\",\"2017-12-03T06:50:00\",\"2017-12-03T07:00:00\",\"2017-12-03T07:10:00\",\"2017-12-03T07:20:00\",\"2017-12-03T07:30:00\",\"2017-12-03T07:40:00\",\"2017-12-03T07:50:00\",\"2017-12-03T08:00:00\",\"2017-12-03T08:10:00\",\"2017-12-03T08:20:00\",\"2017-12-03T08:30:00\",\"2017-12-03T08:40:00\",\"2017-12-03T08:50:00\",\"2017-12-03T09:00:00\",\"2017-12-03T09:10:00\",\"2017-12-03T09:20:00\",\"2017-12-03T09:30:00\",\"2017-12-03T09:40:00\",\"2017-12-03T09:50:00\",\"2017-12-03T10:00:00\",\"2017-12-03T10:10:00\",\"2017-12-03T10:20:00\",\"2017-12-03T10:30:00\",\"2017-12-03T10:40:00\",\"2017-12-03T10:50:00\",\"2017-12-03T11:00:00\",\"2017-12-03T11:10:00\",\"2017-12-03T11:20:00\",\"2017-12-03T11:30:00\",\"2017-12-03T11:40:00\",\"2017-12-03T11:50:00\",\"2017-12-03T12:00:00\",\"2017-12-03T12:10:00\",\"2017-12-03T12:20:00\",\"2017-12-03T12:30:00\",\"2017-12-03T12:40:00\",\"2017-12-03T12:50:00\",\"2017-12-03T13:00:00\",\"2017-12-03T13:10:00\",\"2017-12-03T13:20:00\",\"2017-12-03T13:30:00\",\"2017-12-03T13:40:00\",\"2017-12-03T13:50:00\",\"2017-12-03T14:00:00\",\"2017-12-03T14:10:00\",\"2017-12-03T14:20:00\",\"2017-12-03T14:30:00\",\"2017-12-03T14:40:00\",\"2017-12-03T14:50:00\",\"2017-12-03T15:00:00\",\"2017-12-03T15:10:00\",\"2017-12-03T15:20:00\",\"2017-12-03T15:30:00\",\"2017-12-03T15:40:00\",\"2017-12-03T15:50:00\",\"2017-12-03T16:00:00\",\"2017-12-03T16:10:00\",\"2017-12-03T16:20:00\",\"2017-12-03T16:30:00\",\"2017-12-03T16:40:00\",\"2017-12-03T16:50:00\",\"2017-12-03T17:00:00\",\"2017-12-03T17:10:00\",\"2017-12-03T17:20:00\",\"2017-12-03T17:30:00\",\"2017-12-03T17:40:00\",\"2017-12-03T17:50:00\",\"2017-12-03T18:00:00\",\"2017-12-03T18:10:00\",\"2017-12-03T18:20:00\",\"2017-12-03T18:30:00\",\"2017-12-03T18:40:00\",\"2017-12-03T18:50:00\",\"2017-12-03T19:00:00\",\"2017-12-03T19:10:00\",\"2017-12-03T19:20:00\",\"2017-12-03T19:30:00\",\"2017-12-03T19:40:00\"],\"y\":[0.0,0.0,0.0,0.0,0.0,0.0,0.0,0.0,0.0,0.0,0.0,0.0,0.0,0.0,0.0,0.0,0.0,0.0,0.0,0.0,0.0,0.0,0.0,0.0,0.0,0.0,0.0,0.0,0.0,0.0,0.0,0.0,0.0,0.0,0.0,0.0,0.0,0.0,0.0825717992867786,0.0825717992867786,0.0825717992867786,0.0825717992867786,0.0825717992867786,0.0825717992867786,0.0825717992867786,0.0825717992867786,0.0825717992867786,0.0825717992867786,0.0825717992867786,0.0825717992867786,0.0825717992867786,0.0825717992867786,0.0825717992867786,0.0825717992867786,0.0825717992867786,0.0825717992867786,0.0825717992867786,0.0825717992867786,0.0825717992867786,0.0825717992867786,0.0825717992867786,0.0825717992867786,0.0825717992867786,0.0825717992867786,0.0825717992867786,0.0825717992867786,0.0825717992867786,0.0825717992867786,0.0825717992867786,0.0825717992867786,0.0825717992867786,0.0825717992867786,0.0825717992867786,0.0825717992867786,0.0825717992867786,0.0825717992867786,0.0825717992867786,0.0825717992867786,0.0825717992867786,0.0825717992867786,0.0825717992867786,0.0825717992867786,0.0825717992867786,0.0825717992867786,0.0825717992867786,0.0825717992867786,0.0825717992867786,0.0825717992867786,0.0825717992867786,0.0825717992867786,0.0825717992867786,0.0825717992867786,0.0825717992867786,0.0825717992867786,0.0825717992867786,0.0825717992867786,0.0825717992867786,0.0825717992867786,0.0825717992867786,0.0825717992867786,0.0825717992867786,0.0825717992867786,0.0825717992867786,0.0825717992867786,0.0825717992867786,0.0825717992867786,0.0825717992867786,0.0825717992867786,0.0825717992867786,0.2083482359163622,0.2083482359163622,0.2083482359163622,0.2083482359163622,0.2083482359163622,0.2083482359163622,0.2083482359163622,0.2083482359163622,0.2083482359163622,0.2083482359163622,0.2083482359163622,0.2083482359163622,0.2083482359163622,0.2083482359163622,0.2083482359163622,0.2083482359163622,0.2083482359163622,0.2083482359163622,0.2083482359163622,0.2083482359163622,0.2083482359163622,0.2083482359163622,0.2083482359163622,0.2083482359163622,0.2083482359163622,0.2083482359163622,0.2083482359163622,0.2083482359163622,0.2083482359163622,0.2083482359163622,0.2083482359163622,0.2083482359163622,0.2083482359163622,0.2083482359163622,0.2083482359163622,0.2083482359163622,0.2083482359163622,0.2083482359163622,0.2083482359163622,0.2083482359163622,0.2083482359163622,0.2083482359163622,0.2083482359163622,0.2083482359163622,0.2083482359163622,0.2083482359163622,0.2083482359163622,0.2083482359163622,0.2083482359163622,0.2083482359163622,0.2083482359163622,0.2083482359163622,0.2083482359163622,0.2083482359163622,0.2083482359163622,0.2083482359163622,0.2083482359163622,0.2083482359163622,0.2083482359163622,0.2083482359163622,0.2083482359163622,0.2083482359163622,0.2083482359163622,0.2083482359163622,0.2083482359163622,0.2083482359163622,0.2083482359163622,0.2083482359163622,0.4081108200408407,0.4081108200408407,0.4081108200408407,0.4081108200408407,0.4081108200408407,0.4081108200408407,0.4081108200408407,0.4081108200408407,0.4081108200408407,0.4081108200408407,0.4081108200408407,0.4081108200408407,0.4081108200408407,0.4081108200408407,0.4081108200408407,0.4081108200408407,0.4081108200408407,0.4081108200408407,0.4081108200408407,0.4081108200408407,0.4081108200408407,0.4081108200408407,0.4081108200408407,0.4081108200408407,0.4081108200408407,0.4081108200408407,0.4081108200408407,0.4081108200408407,0.4081108200408407,0.4081108200408407,0.4081108200408407,0.4081108200408407,0.4081108200408407,0.4081108200408407,0.4081108200408407,0.4081108200408407,0.4081108200408407,0.4081108200408407,0.4081108200408407,0.4081108200408407,0.4081108200408407,0.4081108200408407,0.4081108200408407,0.4081108200408407,0.4081108200408407,0.4081108200408407,0.4081108200408407,0.4081108200408407,0.4081108200408407,0.4081108200408407,0.4081108200408407,0.4081108200408407,0.4081108200408407,0.4081108200408407,0.4081108200408407,0.4081108200408407,0.4081108200408407,0.4081108200408407,0.4081108200408407,0.4081108200408407,0.4081108200408407,0.4081108200408407,0.4081108200408407,0.4081108200408407,0.4081108200408407,0.5486845073370099,0.5486845073370099,0.5486845073370099,0.5486845073370099,0.5486845073370099,0.5486845073370099,0.5486845073370099,0.5486845073370099,0.5486845073370099,0.5486845073370099,0.5486845073370099,0.5486845073370099,0.5486845073370099,0.5486845073370099,0.5486845073370099,0.5486845073370099,0.5486845073370099,0.5486845073370099,0.5486845073370099,0.5486845073370099,0.5486845073370099,0.5486845073370099],\"type\":\"scatter\"}],                        {\"title\":{\"text\":\"Preview of ADF during fermentation stage, first 365 days starting on 2017-01-11T00:00<br>(total of 26 fermentation in 365 days)\"},\"width\":1000,\"xaxis\":{\"title\":{\"text\":\"Timestamp (days)\"}},\"yaxis\":{\"title\":{\"text\":\"ADF\"}},\"template\":{\"data\":{\"bar\":[{\"error_x\":{\"color\":\"#2a3f5f\"},\"error_y\":{\"color\":\"#2a3f5f\"},\"marker\":{\"line\":{\"color\":\"#E5ECF6\",\"width\":0.5},\"pattern\":{\"fillmode\":\"overlay\",\"size\":10,\"solidity\":0.2}},\"type\":\"bar\"}],\"barpolar\":[{\"marker\":{\"line\":{\"color\":\"#E5ECF6\",\"width\":0.5},\"pattern\":{\"fillmode\":\"overlay\",\"size\":10,\"solidity\":0.2}},\"type\":\"barpolar\"}],\"carpet\":[{\"aaxis\":{\"endlinecolor\":\"#2a3f5f\",\"gridcolor\":\"white\",\"linecolor\":\"white\",\"minorgridcolor\":\"white\",\"startlinecolor\":\"#2a3f5f\"},\"baxis\":{\"endlinecolor\":\"#2a3f5f\",\"gridcolor\":\"white\",\"linecolor\":\"white\",\"minorgridcolor\":\"white\",\"startlinecolor\":\"#2a3f5f\"},\"type\":\"carpet\"}],\"choropleth\":[{\"colorbar\":{\"outlinewidth\":0,\"ticks\":\"\"},\"type\":\"choropleth\"}],\"contour\":[{\"colorbar\":{\"outlinewidth\":0,\"ticks\":\"\"},\"colorscale\":[[0.0,\"#0d0887\"],[0.1111111111111111,\"#46039f\"],[0.2222222222222222,\"#7201a8\"],[0.3333333333333333,\"#9c179e\"],[0.4444444444444444,\"#bd3786\"],[0.5555555555555556,\"#d8576b\"],[0.6666666666666666,\"#ed7953\"],[0.7777777777777778,\"#fb9f3a\"],[0.8888888888888888,\"#fdca26\"],[1.0,\"#f0f921\"]],\"type\":\"contour\"}],\"contourcarpet\":[{\"colorbar\":{\"outlinewidth\":0,\"ticks\":\"\"},\"type\":\"contourcarpet\"}],\"heatmap\":[{\"colorbar\":{\"outlinewidth\":0,\"ticks\":\"\"},\"colorscale\":[[0.0,\"#0d0887\"],[0.1111111111111111,\"#46039f\"],[0.2222222222222222,\"#7201a8\"],[0.3333333333333333,\"#9c179e\"],[0.4444444444444444,\"#bd3786\"],[0.5555555555555556,\"#d8576b\"],[0.6666666666666666,\"#ed7953\"],[0.7777777777777778,\"#fb9f3a\"],[0.8888888888888888,\"#fdca26\"],[1.0,\"#f0f921\"]],\"type\":\"heatmap\"}],\"heatmapgl\":[{\"colorbar\":{\"outlinewidth\":0,\"ticks\":\"\"},\"colorscale\":[[0.0,\"#0d0887\"],[0.1111111111111111,\"#46039f\"],[0.2222222222222222,\"#7201a8\"],[0.3333333333333333,\"#9c179e\"],[0.4444444444444444,\"#bd3786\"],[0.5555555555555556,\"#d8576b\"],[0.6666666666666666,\"#ed7953\"],[0.7777777777777778,\"#fb9f3a\"],[0.8888888888888888,\"#fdca26\"],[1.0,\"#f0f921\"]],\"type\":\"heatmapgl\"}],\"histogram\":[{\"marker\":{\"pattern\":{\"fillmode\":\"overlay\",\"size\":10,\"solidity\":0.2}},\"type\":\"histogram\"}],\"histogram2d\":[{\"colorbar\":{\"outlinewidth\":0,\"ticks\":\"\"},\"colorscale\":[[0.0,\"#0d0887\"],[0.1111111111111111,\"#46039f\"],[0.2222222222222222,\"#7201a8\"],[0.3333333333333333,\"#9c179e\"],[0.4444444444444444,\"#bd3786\"],[0.5555555555555556,\"#d8576b\"],[0.6666666666666666,\"#ed7953\"],[0.7777777777777778,\"#fb9f3a\"],[0.8888888888888888,\"#fdca26\"],[1.0,\"#f0f921\"]],\"type\":\"histogram2d\"}],\"histogram2dcontour\":[{\"colorbar\":{\"outlinewidth\":0,\"ticks\":\"\"},\"colorscale\":[[0.0,\"#0d0887\"],[0.1111111111111111,\"#46039f\"],[0.2222222222222222,\"#7201a8\"],[0.3333333333333333,\"#9c179e\"],[0.4444444444444444,\"#bd3786\"],[0.5555555555555556,\"#d8576b\"],[0.6666666666666666,\"#ed7953\"],[0.7777777777777778,\"#fb9f3a\"],[0.8888888888888888,\"#fdca26\"],[1.0,\"#f0f921\"]],\"type\":\"histogram2dcontour\"}],\"mesh3d\":[{\"colorbar\":{\"outlinewidth\":0,\"ticks\":\"\"},\"type\":\"mesh3d\"}],\"parcoords\":[{\"line\":{\"colorbar\":{\"outlinewidth\":0,\"ticks\":\"\"}},\"type\":\"parcoords\"}],\"pie\":[{\"automargin\":true,\"type\":\"pie\"}],\"scatter\":[{\"marker\":{\"colorbar\":{\"outlinewidth\":0,\"ticks\":\"\"}},\"type\":\"scatter\"}],\"scatter3d\":[{\"line\":{\"colorbar\":{\"outlinewidth\":0,\"ticks\":\"\"}},\"marker\":{\"colorbar\":{\"outlinewidth\":0,\"ticks\":\"\"}},\"type\":\"scatter3d\"}],\"scattercarpet\":[{\"marker\":{\"colorbar\":{\"outlinewidth\":0,\"ticks\":\"\"}},\"type\":\"scattercarpet\"}],\"scattergeo\":[{\"marker\":{\"colorbar\":{\"outlinewidth\":0,\"ticks\":\"\"}},\"type\":\"scattergeo\"}],\"scattergl\":[{\"marker\":{\"colorbar\":{\"outlinewidth\":0,\"ticks\":\"\"}},\"type\":\"scattergl\"}],\"scattermapbox\":[{\"marker\":{\"colorbar\":{\"outlinewidth\":0,\"ticks\":\"\"}},\"type\":\"scattermapbox\"}],\"scatterpolar\":[{\"marker\":{\"colorbar\":{\"outlinewidth\":0,\"ticks\":\"\"}},\"type\":\"scatterpolar\"}],\"scatterpolargl\":[{\"marker\":{\"colorbar\":{\"outlinewidth\":0,\"ticks\":\"\"}},\"type\":\"scatterpolargl\"}],\"scatterternary\":[{\"marker\":{\"colorbar\":{\"outlinewidth\":0,\"ticks\":\"\"}},\"type\":\"scatterternary\"}],\"surface\":[{\"colorbar\":{\"outlinewidth\":0,\"ticks\":\"\"},\"colorscale\":[[0.0,\"#0d0887\"],[0.1111111111111111,\"#46039f\"],[0.2222222222222222,\"#7201a8\"],[0.3333333333333333,\"#9c179e\"],[0.4444444444444444,\"#bd3786\"],[0.5555555555555556,\"#d8576b\"],[0.6666666666666666,\"#ed7953\"],[0.7777777777777778,\"#fb9f3a\"],[0.8888888888888888,\"#fdca26\"],[1.0,\"#f0f921\"]],\"type\":\"surface\"}],\"table\":[{\"cells\":{\"fill\":{\"color\":\"#EBF0F8\"},\"line\":{\"color\":\"white\"}},\"header\":{\"fill\":{\"color\":\"#C8D4E3\"},\"line\":{\"color\":\"white\"}},\"type\":\"table\"}]},\"layout\":{\"annotationdefaults\":{\"arrowcolor\":\"#2a3f5f\",\"arrowhead\":0,\"arrowwidth\":1},\"autotypenumbers\":\"strict\",\"coloraxis\":{\"colorbar\":{\"outlinewidth\":0,\"ticks\":\"\"}},\"colorscale\":{\"diverging\":[[0,\"#8e0152\"],[0.1,\"#c51b7d\"],[0.2,\"#de77ae\"],[0.3,\"#f1b6da\"],[0.4,\"#fde0ef\"],[0.5,\"#f7f7f7\"],[0.6,\"#e6f5d0\"],[0.7,\"#b8e186\"],[0.8,\"#7fbc41\"],[0.9,\"#4d9221\"],[1,\"#276419\"]],\"sequential\":[[0.0,\"#0d0887\"],[0.1111111111111111,\"#46039f\"],[0.2222222222222222,\"#7201a8\"],[0.3333333333333333,\"#9c179e\"],[0.4444444444444444,\"#bd3786\"],[0.5555555555555556,\"#d8576b\"],[0.6666666666666666,\"#ed7953\"],[0.7777777777777778,\"#fb9f3a\"],[0.8888888888888888,\"#fdca26\"],[1.0,\"#f0f921\"]],\"sequentialminus\":[[0.0,\"#0d0887\"],[0.1111111111111111,\"#46039f\"],[0.2222222222222222,\"#7201a8\"],[0.3333333333333333,\"#9c179e\"],[0.4444444444444444,\"#bd3786\"],[0.5555555555555556,\"#d8576b\"],[0.6666666666666666,\"#ed7953\"],[0.7777777777777778,\"#fb9f3a\"],[0.8888888888888888,\"#fdca26\"],[1.0,\"#f0f921\"]]},\"colorway\":[\"#636efa\",\"#EF553B\",\"#00cc96\",\"#ab63fa\",\"#FFA15A\",\"#19d3f3\",\"#FF6692\",\"#B6E880\",\"#FF97FF\",\"#FECB52\"],\"font\":{\"color\":\"#2a3f5f\"},\"geo\":{\"bgcolor\":\"white\",\"lakecolor\":\"white\",\"landcolor\":\"#E5ECF6\",\"showlakes\":true,\"showland\":true,\"subunitcolor\":\"white\"},\"hoverlabel\":{\"align\":\"left\"},\"hovermode\":\"closest\",\"mapbox\":{\"style\":\"light\"},\"paper_bgcolor\":\"white\",\"plot_bgcolor\":\"#E5ECF6\",\"polar\":{\"angularaxis\":{\"gridcolor\":\"white\",\"linecolor\":\"white\",\"ticks\":\"\"},\"bgcolor\":\"#E5ECF6\",\"radialaxis\":{\"gridcolor\":\"white\",\"linecolor\":\"white\",\"ticks\":\"\"}},\"scene\":{\"xaxis\":{\"backgroundcolor\":\"#E5ECF6\",\"gridcolor\":\"white\",\"gridwidth\":2,\"linecolor\":\"white\",\"showbackground\":true,\"ticks\":\"\",\"zerolinecolor\":\"white\"},\"yaxis\":{\"backgroundcolor\":\"#E5ECF6\",\"gridcolor\":\"white\",\"gridwidth\":2,\"linecolor\":\"white\",\"showbackground\":true,\"ticks\":\"\",\"zerolinecolor\":\"white\"},\"zaxis\":{\"backgroundcolor\":\"#E5ECF6\",\"gridcolor\":\"white\",\"gridwidth\":2,\"linecolor\":\"white\",\"showbackground\":true,\"ticks\":\"\",\"zerolinecolor\":\"white\"}},\"shapedefaults\":{\"line\":{\"color\":\"#2a3f5f\"}},\"ternary\":{\"aaxis\":{\"gridcolor\":\"white\",\"linecolor\":\"white\",\"ticks\":\"\"},\"baxis\":{\"gridcolor\":\"white\",\"linecolor\":\"white\",\"ticks\":\"\"},\"bgcolor\":\"#E5ECF6\",\"caxis\":{\"gridcolor\":\"white\",\"linecolor\":\"white\",\"ticks\":\"\"}},\"title\":{\"x\":0.05},\"xaxis\":{\"automargin\":true,\"gridcolor\":\"white\",\"linecolor\":\"white\",\"ticks\":\"\",\"title\":{\"standoff\":15},\"zerolinecolor\":\"white\",\"zerolinewidth\":2},\"yaxis\":{\"automargin\":true,\"gridcolor\":\"white\",\"linecolor\":\"white\",\"ticks\":\"\",\"title\":{\"standoff\":15},\"zerolinecolor\":\"white\",\"zerolinewidth\":2}}}},                        {\"responsive\": true}                    ).then(function(){\n                            \nvar gd = document.getElementById('e5dfdf22-fabe-40e5-b67c-7a917ba9f120');\nvar x = new MutationObserver(function (mutations, observer) {{\n        var display = window.getComputedStyle(gd).display;\n        if (!display || display === 'none') {{\n            console.log([gd, 'removed!']);\n            Plotly.purge(gd);\n            observer.disconnect();\n        }}\n}});\n\n// Listen for the removal of the full notebook cells\nvar notebookContainer = gd.closest('#notebook-container');\nif (notebookContainer) {{\n    x.observe(notebookContainer, {childList: true});\n}}\n\n// Listen for the clearing of the current output cell\nvar outputEl = gd.closest('.output');\nif (outputEl) {{\n    x.observe(outputEl, {childList: true});\n}}\n\n                        })                };                            </script>        </div>\n</body>\n</html>"
     },
     "metadata": {},
     "output_type": "display_data"
    }
   ],
   "execution_count": null
  },
  {
   "cell_type": "markdown",
   "source": "### Part 4c. Create smoothed ADF profile\n<a id='section_4c'></a>\nIn order to create a predictive model for ADF, the start of fermentation and the fermentation times should be identified. It is known that the total duration of the fermentation phase does not exceed 2.5 days, and that at the start of fermentation, the ADF should approximately equal zero.\n\nFurthermore, since ADF is measured intermittently, keep only events (rows) that correspond to new ADF measurements. This should result in a more continuous (smooth) ADF profile.",
   "metadata": {
    "papermill": {
     "duration": 0.155646,
     "end_time": "2020-08-14T19:30:29.726701",
     "exception": false,
     "start_time": "2020-08-14T19:30:29.571055",
     "status": "completed"
    },
    "tags": [],
    "cell_id": "00038-f91d4d98-861f-4faa-805b-870fde088242",
    "deepnote_cell_type": "markdown"
   }
  },
  {
   "cell_type": "code",
   "metadata": {
    "execution": {
     "iopub.execute_input": "2020-08-14T19:30:30.186712Z",
     "iopub.status.busy": "2020-08-14T19:30:30.185532Z",
     "iopub.status.idle": "2020-08-14T19:30:30.236315Z",
     "shell.execute_reply": "2020-08-14T19:30:30.238025Z"
    },
    "papermill": {
     "duration": 0.345107,
     "end_time": "2020-08-14T19:30:30.238757",
     "exception": false,
     "start_time": "2020-08-14T19:30:29.893650",
     "status": "completed"
    },
    "tags": [],
    "cell_id": "00039-2b949d71-f98a-4dcd-b03e-0c2f7ab5cf4a",
    "deepnote_output_heights": [
     606.1875
    ],
    "deepnote_to_be_reexecuted": false,
    "source_hash": "4593a36b",
    "execution_start": 1642202989530,
    "execution_millis": 92,
    "output_cleared": false,
    "deepnote_cell_type": "code"
   },
   "source": "# keep only entries that correspond to new ADF measurements (i.e. previous ADF does not match current ADF)\n# within the same batch identified by \"Fermentation ID\"\nbrand_df = brand_df[\n    (brand_df[\"ADF\"].shift(1) != brand_df[\"ADF\"])\n    & (brand_df[\"Fermentation ID\"] == brand_df[\"Fermentation ID\"])\n].reset_index()\n\n\n# arrange data into chronological order\nbrand_df.sort_values(by=[\"Fermentation ID\", \"Timestamp\"], inplace=True)\n\n\n# find the start of fermentation (ADF ~= 0.0)\nfermentation_starts = brand_df[abs(brand_df[\"ADF\"]) <= 0.000001].reset_index()\nfermentation_starts",
   "outputs": [
    {
     "output_type": "execute_result",
     "execution_count": 19,
     "data": {
      "application/vnd.deepnote.dataframe.v3+json": {
       "column_count": 9,
       "row_count": 25,
       "columns": [
        {
         "name": "level_0",
         "dtype": "int64",
         "stats": {
          "unique_count": 25,
          "nan_count": 0,
          "min": "0",
          "max": "134",
          "histogram": [
           {
            "bin_start": 0,
            "bin_end": 13.4,
            "count": 3
           },
           {
            "bin_start": 13.4,
            "bin_end": 26.8,
            "count": 3
           },
           {
            "bin_start": 26.8,
            "bin_end": 40.2,
            "count": 2
           },
           {
            "bin_start": 40.2,
            "bin_end": 53.6,
            "count": 3
           },
           {
            "bin_start": 53.6,
            "bin_end": 67,
            "count": 2
           },
           {
            "bin_start": 67,
            "bin_end": 80.4,
            "count": 2
           },
           {
            "bin_start": 80.4,
            "bin_end": 93.8,
            "count": 3
           },
           {
            "bin_start": 93.8,
            "bin_end": 107.2,
            "count": 2
           },
           {
            "bin_start": 107.2,
            "bin_end": 120.60000000000001,
            "count": 2
           },
           {
            "bin_start": 120.60000000000001,
            "bin_end": 134,
            "count": 3
           }
          ]
         }
        },
        {
         "name": "index",
         "dtype": "int64",
         "stats": {
          "unique_count": 25,
          "nan_count": 0,
          "min": "4217",
          "max": "309604",
          "histogram": [
           {
            "bin_start": 4217,
            "bin_end": 34755.7,
            "count": 4
           },
           {
            "bin_start": 34755.7,
            "bin_end": 65294.4,
            "count": 2
           },
           {
            "bin_start": 65294.4,
            "bin_end": 95833.1,
            "count": 6
           },
           {
            "bin_start": 95833.1,
            "bin_end": 126371.8,
            "count": 3
           },
           {
            "bin_start": 126371.8,
            "bin_end": 156910.5,
            "count": 1
           },
           {
            "bin_start": 156910.5,
            "bin_end": 187449.2,
            "count": 2
           },
           {
            "bin_start": 187449.2,
            "bin_end": 217987.9,
            "count": 2
           },
           {
            "bin_start": 217987.9,
            "bin_end": 248526.6,
            "count": 2
           },
           {
            "bin_start": 248526.6,
            "bin_end": 279065.3,
            "count": 2
           },
           {
            "bin_start": 279065.3,
            "bin_end": 309604,
            "count": 1
           }
          ]
         }
        },
        {
         "name": "Timestamp",
         "dtype": "datetime64[ns]",
         "stats": {
          "unique_count": 25,
          "nan_count": 0,
          "min": "2017-01-18 06:00:00",
          "max": "2017-12-19 20:50:00",
          "histogram": [
           {
            "bin_start": 1484719200000000000,
            "bin_end": 1487618940000000000,
            "count": 4
           },
           {
            "bin_start": 1487618940000000000,
            "bin_end": 1490518680000000000,
            "count": 2
           },
           {
            "bin_start": 1490518680000000000,
            "bin_end": 1493418420000000000,
            "count": 5
           },
           {
            "bin_start": 1493418420000000000,
            "bin_end": 1496318160000000000,
            "count": 4
           },
           {
            "bin_start": 1496318160000000000,
            "bin_end": 1499217900000000000,
            "count": 1
           },
           {
            "bin_start": 1499217900000000000,
            "bin_end": 1502117640000000000,
            "count": 1
           },
           {
            "bin_start": 1502117640000000000,
            "bin_end": 1505017380000000000,
            "count": 2
           },
           {
            "bin_start": 1505017380000000000,
            "bin_end": 1507917120000000000,
            "count": 1
           },
           {
            "bin_start": 1507917120000000000,
            "bin_end": 1510816860000000000,
            "count": 2
           },
           {
            "bin_start": 1510816860000000000,
            "bin_end": 1513716600000000000,
            "count": 3
           }
          ]
         }
        },
        {
         "name": "Asset_Id",
         "dtype": "object",
         "stats": {
          "unique_count": 6,
          "nan_count": 0,
          "categories": [
           {
            "name": "FV32",
            "count": 8
           },
           {
            "name": "FV35",
            "count": 5
           },
           {
            "name": "4 others",
            "count": 12
           }
          ]
         }
        },
        {
         "name": "ADF",
         "dtype": "float64",
         "stats": {
          "unique_count": 1,
          "nan_count": 0,
          "min": "0.0",
          "max": "0.0",
          "histogram": [
           {
            "bin_start": -0.5,
            "bin_end": -0.4,
            "count": 0
           },
           {
            "bin_start": -0.4,
            "bin_end": -0.3,
            "count": 0
           },
           {
            "bin_start": -0.3,
            "bin_end": -0.19999999999999996,
            "count": 0
           },
           {
            "bin_start": -0.19999999999999996,
            "bin_end": -0.09999999999999998,
            "count": 0
           },
           {
            "bin_start": -0.09999999999999998,
            "bin_end": 0,
            "count": 0
           },
           {
            "bin_start": 0,
            "bin_end": 0.10000000000000009,
            "count": 25
           },
           {
            "bin_start": 0.10000000000000009,
            "bin_end": 0.20000000000000007,
            "count": 0
           },
           {
            "bin_start": 0.20000000000000007,
            "bin_end": 0.30000000000000004,
            "count": 0
           },
           {
            "bin_start": 0.30000000000000004,
            "bin_end": 0.4,
            "count": 0
           },
           {
            "bin_start": 0.4,
            "bin_end": 0.5,
            "count": 0
           }
          ]
         }
        },
        {
         "name": "Fermentation Start Time",
         "dtype": "datetime64[ns]",
         "stats": {
          "unique_count": 24,
          "nan_count": 0,
          "min": "2017-01-18 05:59:56.618011200",
          "max": "2017-12-19 11:50:08.131011900",
          "histogram": [
           {
            "bin_start": 1484719196618011100,
            "bin_end": 1487615697769311200,
            "count": 4
           },
           {
            "bin_start": 1487615697769311200,
            "bin_end": 1490512198920611300,
            "count": 2
           },
           {
            "bin_start": 1490512198920611300,
            "bin_end": 1493408700071911400,
            "count": 5
           },
           {
            "bin_start": 1493408700071911400,
            "bin_end": 1496305201223211500,
            "count": 4
           },
           {
            "bin_start": 1496305201223211500,
            "bin_end": 1499201702374511600,
            "count": 1
           },
           {
            "bin_start": 1499201702374511600,
            "bin_end": 1502098203525811500,
            "count": 1
           },
           {
            "bin_start": 1502098203525811500,
            "bin_end": 1504994704677111600,
            "count": 2
           },
           {
            "bin_start": 1504994704677111600,
            "bin_end": 1507891205828411600,
            "count": 1
           },
           {
            "bin_start": 1507891205828411600,
            "bin_end": 1510787706979711700,
            "count": 2
           },
           {
            "bin_start": 1510787706979711700,
            "bin_end": 1513684208131011800,
            "count": 3
           }
          ]
         }
        },
        {
         "name": "Brand",
         "dtype": "object",
         "stats": {
          "unique_count": 1,
          "nan_count": 0,
          "categories": [
           {
            "name": "Realtime Hops",
            "count": 25
           }
          ]
         }
        },
        {
         "name": "Status",
         "dtype": "object",
         "stats": {
          "unique_count": 1,
          "nan_count": 0,
          "categories": [
           {
            "name": "Fermentation",
            "count": 25
           }
          ]
         }
        },
        {
         "name": "Fermentation ID",
         "dtype": "object",
         "stats": {
          "unique_count": 24,
          "nan_count": 0,
          "categories": [
           {
            "name": "FV35_20171219",
            "count": 2
           },
           {
            "name": "FV31_20170209",
            "count": 1
           },
           {
            "name": "22 others",
            "count": 22
           }
          ]
         }
        },
        {
         "name": "_deepnote_index_column",
         "dtype": "int64"
        }
       ],
       "rows": [
        {
         "level_0": 0,
         "index": 4217,
         "Timestamp": "2017-02-09T06:50:00.000000",
         "Asset_Id": "FV31",
         "ADF": 0,
         "Fermentation Start Time": "2017-02-09T06:45:49.748000",
         "Brand": "Realtime Hops",
         "Status": "Fermentation",
         "Fermentation ID": "FV31_20170209",
         "_deepnote_index_column": 0
        },
        {
         "level_0": 4,
         "index": 13256,
         "Timestamp": "2017-04-13T01:20:00.000000",
         "Asset_Id": "FV31",
         "ADF": 0,
         "Fermentation Start Time": "2017-04-13T01:18:33.146011",
         "Brand": "Realtime Hops",
         "Status": "Fermentation",
         "Fermentation ID": "FV31_20170413",
         "_deepnote_index_column": 1
        },
        {
         "level_0": 10,
         "index": 19185,
         "Timestamp": "2017-05-24T05:30:00.000000",
         "Asset_Id": "FV31",
         "ADF": 0,
         "Fermentation Start Time": "2017-05-24T05:24:07.676009",
         "Brand": "Realtime Hops",
         "Status": "Fermentation",
         "Fermentation ID": "FV31_20170524",
         "_deepnote_index_column": 2
        },
        {
         "level_0": 15,
         "index": 33418,
         "Timestamp": "2017-08-31T01:40:00.000000",
         "Asset_Id": "FV31",
         "ADF": 0,
         "Fermentation Start Time": "2017-08-31T01:35:01.767013",
         "Brand": "Realtime Hops",
         "Status": "Fermentation",
         "Fermentation ID": "FV31_20170831",
         "_deepnote_index_column": 3
        },
        {
         "level_0": 20,
         "index": 53605,
         "Timestamp": "2017-01-18T06:00:00.000000",
         "Asset_Id": "FV32",
         "ADF": 0,
         "Fermentation Start Time": "2017-01-18T05:59:56.618011",
         "Brand": "Realtime Hops",
         "Status": "Fermentation",
         "Fermentation ID": "FV32_20170118",
         "_deepnote_index_column": 4
        },
        {
         "level_0": 26,
         "index": 64053,
         "Timestamp": "2017-03-31T19:20:00.000000",
         "Asset_Id": "FV32",
         "ADF": 0,
         "Fermentation Start Time": "2017-03-31T19:19:35.476013",
         "Brand": "Realtime Hops",
         "Status": "Fermentation",
         "Fermentation ID": "FV32_20170331",
         "_deepnote_index_column": 5
        },
        {
         "level_0": 31,
         "index": 66044,
         "Timestamp": "2017-04-14T15:10:00.000000",
         "Asset_Id": "FV32",
         "ADF": 0,
         "Fermentation Start Time": "2017-04-14T15:06:36.775009",
         "Brand": "Realtime Hops",
         "Status": "Fermentation",
         "Fermentation ID": "FV32_20170414",
         "_deepnote_index_column": 6
        },
        {
         "level_0": 36,
         "index": 68204,
         "Timestamp": "2017-04-29T15:10:00.000000",
         "Asset_Id": "FV32",
         "ADF": 0,
         "Fermentation Start Time": "2017-04-29T15:06:25.341003",
         "Brand": "Realtime Hops",
         "Status": "Fermentation",
         "Fermentation ID": "FV32_20170429",
         "_deepnote_index_column": 7
        },
        {
         "level_0": 42,
         "index": 72820,
         "Timestamp": "2017-05-31T16:30:00.000000",
         "Asset_Id": "FV32",
         "ADF": 0,
         "Fermentation Start Time": "2017-05-31T16:25:50.503005",
         "Brand": "Realtime Hops",
         "Status": "Fermentation",
         "Fermentation ID": "FV32_20170531",
         "_deepnote_index_column": 8
        },
        {
         "level_0": 47,
         "index": 74649,
         "Timestamp": "2017-06-13T09:20:00.000000",
         "Asset_Id": "FV32",
         "ADF": 0,
         "Fermentation Start Time": "2017-06-13T09:16:27.385009",
         "Brand": "Realtime Hops",
         "Status": "Fermentation",
         "Fermentation ID": "FV32_20170613",
         "_deepnote_index_column": 9
        }
       ]
      },
      "text/plain": "    level_0   index           Timestamp Asset_Id  ADF  \\\n0         0    4217 2017-02-09 06:50:00     FV31  0.0   \n1         4   13256 2017-04-13 01:20:00     FV31  0.0   \n2        10   19185 2017-05-24 05:30:00     FV31  0.0   \n3        15   33418 2017-08-31 01:40:00     FV31  0.0   \n4        20   53605 2017-01-18 06:00:00     FV32  0.0   \n5        26   64053 2017-03-31 19:20:00     FV32  0.0   \n6        31   66044 2017-04-14 15:10:00     FV32  0.0   \n7        36   68204 2017-04-29 15:10:00     FV32  0.0   \n8        42   72820 2017-05-31 16:30:00     FV32  0.0   \n9        47   74649 2017-06-13 09:20:00     FV32  0.0   \n10       52   88987 2017-09-20 23:00:00     FV32  0.0   \n11       57   94585 2017-10-29 20:00:00     FV32  0.0   \n12       62  106638 2017-01-21 12:40:00     FV33  0.0   \n13       69  111389 2017-02-23 12:30:00     FV33  0.0   \n14       75  121228 2017-05-02 20:20:00     FV33  0.0   \n15       81  135771 2017-08-11 20:10:00     FV33  0.0   \n16       86  166147 2017-03-10 18:40:00     FV34  0.0   \n17       91  172554 2017-04-24 06:30:00     FV34  0.0   \n18       99  197773 2017-10-16 09:40:00     FV34  0.0   \n19      104  213866 2017-02-05 03:40:00     FV35  0.0   \n20      112  221151 2017-03-27 17:50:00     FV35  0.0   \n21      120  239892 2017-08-04 21:20:00     FV35  0.0   \n22      126  259564 2017-12-19 12:00:00     FV35  0.0   \n23      128  259617 2017-12-19 20:50:00     FV35  0.0   \n24      134  309604 2017-12-01 23:50:00     FV36  0.0   \n\n         Fermentation Start Time          Brand        Status Fermentation ID  \n0  2017-02-09 06:45:49.748000800  Realtime Hops  Fermentation   FV31_20170209  \n1  2017-04-13 01:18:33.146011100  Realtime Hops  Fermentation   FV31_20170413  \n2  2017-05-24 05:24:07.676009800  Realtime Hops  Fermentation   FV31_20170524  \n3  2017-08-31 01:35:01.767013500  Realtime Hops  Fermentation   FV31_20170831  \n4  2017-01-18 05:59:56.618011200  Realtime Hops  Fermentation   FV32_20170118  \n5  2017-03-31 19:19:35.476013100  Realtime Hops  Fermentation   FV32_20170331  \n6  2017-04-14 15:06:36.775009100  Realtime Hops  Fermentation   FV32_20170414  \n7  2017-04-29 15:06:25.341003400  Realtime Hops  Fermentation   FV32_20170429  \n8  2017-05-31 16:25:50.503005900  Realtime Hops  Fermentation   FV32_20170531  \n9  2017-06-13 09:16:27.385009500  Realtime Hops  Fermentation   FV32_20170613  \n10 2017-09-20 22:57:10.740005200  Realtime Hops  Fermentation   FV32_20170920  \n11 2017-10-29 19:58:36.763000200  Realtime Hops  Fermentation   FV32_20171029  \n12 2017-01-21 12:30:21.851013100  Realtime Hops  Fermentation   FV33_20170121  \n13 2017-02-23 12:24:22.865005200  Realtime Hops  Fermentation   FV33_20170223  \n14 2017-05-02 20:19:37.120010300  Realtime Hops  Fermentation   FV33_20170502  \n15 2017-08-11 20:02:37.106002800  Realtime Hops  Fermentation   FV33_20170811  \n16 2017-03-10 18:33:17.538009600  Realtime Hops  Fermentation   FV34_20170310  \n17 2017-04-24 06:25:18.038009600  Realtime Hops  Fermentation   FV34_20170424  \n18 2017-10-16 09:32:27.397003100  Realtime Hops  Fermentation   FV34_20171016  \n19 2017-02-05 03:36:13.639007500  Realtime Hops  Fermentation   FV35_20170205  \n20 2017-03-27 17:44:33.124007900  Realtime Hops  Fermentation   FV35_20170327  \n21 2017-08-04 21:15:49.351013100  Realtime Hops  Fermentation   FV35_20170804  \n22 2017-12-19 11:50:08.131011900  Realtime Hops  Fermentation   FV35_20171219  \n23 2017-12-19 11:50:08.131011900  Realtime Hops  Fermentation   FV35_20171219  \n24 2017-12-01 23:44:23.843002300  Realtime Hops  Fermentation   FV36_20171201  ",
      "text/html": "<div>\n<style scoped>\n    .dataframe tbody tr th:only-of-type {\n        vertical-align: middle;\n    }\n\n    .dataframe tbody tr th {\n        vertical-align: top;\n    }\n\n    .dataframe thead th {\n        text-align: right;\n    }\n</style>\n<table border=\"1\" class=\"dataframe\">\n  <thead>\n    <tr style=\"text-align: right;\">\n      <th></th>\n      <th>level_0</th>\n      <th>index</th>\n      <th>Timestamp</th>\n      <th>Asset_Id</th>\n      <th>ADF</th>\n      <th>Fermentation Start Time</th>\n      <th>Brand</th>\n      <th>Status</th>\n      <th>Fermentation ID</th>\n    </tr>\n  </thead>\n  <tbody>\n    <tr>\n      <th>0</th>\n      <td>0</td>\n      <td>4217</td>\n      <td>2017-02-09 06:50:00</td>\n      <td>FV31</td>\n      <td>0.0</td>\n      <td>2017-02-09 06:45:49.748000800</td>\n      <td>Realtime Hops</td>\n      <td>Fermentation</td>\n      <td>FV31_20170209</td>\n    </tr>\n    <tr>\n      <th>1</th>\n      <td>4</td>\n      <td>13256</td>\n      <td>2017-04-13 01:20:00</td>\n      <td>FV31</td>\n      <td>0.0</td>\n      <td>2017-04-13 01:18:33.146011100</td>\n      <td>Realtime Hops</td>\n      <td>Fermentation</td>\n      <td>FV31_20170413</td>\n    </tr>\n    <tr>\n      <th>2</th>\n      <td>10</td>\n      <td>19185</td>\n      <td>2017-05-24 05:30:00</td>\n      <td>FV31</td>\n      <td>0.0</td>\n      <td>2017-05-24 05:24:07.676009800</td>\n      <td>Realtime Hops</td>\n      <td>Fermentation</td>\n      <td>FV31_20170524</td>\n    </tr>\n    <tr>\n      <th>3</th>\n      <td>15</td>\n      <td>33418</td>\n      <td>2017-08-31 01:40:00</td>\n      <td>FV31</td>\n      <td>0.0</td>\n      <td>2017-08-31 01:35:01.767013500</td>\n      <td>Realtime Hops</td>\n      <td>Fermentation</td>\n      <td>FV31_20170831</td>\n    </tr>\n    <tr>\n      <th>4</th>\n      <td>20</td>\n      <td>53605</td>\n      <td>2017-01-18 06:00:00</td>\n      <td>FV32</td>\n      <td>0.0</td>\n      <td>2017-01-18 05:59:56.618011200</td>\n      <td>Realtime Hops</td>\n      <td>Fermentation</td>\n      <td>FV32_20170118</td>\n    </tr>\n    <tr>\n      <th>5</th>\n      <td>26</td>\n      <td>64053</td>\n      <td>2017-03-31 19:20:00</td>\n      <td>FV32</td>\n      <td>0.0</td>\n      <td>2017-03-31 19:19:35.476013100</td>\n      <td>Realtime Hops</td>\n      <td>Fermentation</td>\n      <td>FV32_20170331</td>\n    </tr>\n    <tr>\n      <th>6</th>\n      <td>31</td>\n      <td>66044</td>\n      <td>2017-04-14 15:10:00</td>\n      <td>FV32</td>\n      <td>0.0</td>\n      <td>2017-04-14 15:06:36.775009100</td>\n      <td>Realtime Hops</td>\n      <td>Fermentation</td>\n      <td>FV32_20170414</td>\n    </tr>\n    <tr>\n      <th>7</th>\n      <td>36</td>\n      <td>68204</td>\n      <td>2017-04-29 15:10:00</td>\n      <td>FV32</td>\n      <td>0.0</td>\n      <td>2017-04-29 15:06:25.341003400</td>\n      <td>Realtime Hops</td>\n      <td>Fermentation</td>\n      <td>FV32_20170429</td>\n    </tr>\n    <tr>\n      <th>8</th>\n      <td>42</td>\n      <td>72820</td>\n      <td>2017-05-31 16:30:00</td>\n      <td>FV32</td>\n      <td>0.0</td>\n      <td>2017-05-31 16:25:50.503005900</td>\n      <td>Realtime Hops</td>\n      <td>Fermentation</td>\n      <td>FV32_20170531</td>\n    </tr>\n    <tr>\n      <th>9</th>\n      <td>47</td>\n      <td>74649</td>\n      <td>2017-06-13 09:20:00</td>\n      <td>FV32</td>\n      <td>0.0</td>\n      <td>2017-06-13 09:16:27.385009500</td>\n      <td>Realtime Hops</td>\n      <td>Fermentation</td>\n      <td>FV32_20170613</td>\n    </tr>\n    <tr>\n      <th>10</th>\n      <td>52</td>\n      <td>88987</td>\n      <td>2017-09-20 23:00:00</td>\n      <td>FV32</td>\n      <td>0.0</td>\n      <td>2017-09-20 22:57:10.740005200</td>\n      <td>Realtime Hops</td>\n      <td>Fermentation</td>\n      <td>FV32_20170920</td>\n    </tr>\n    <tr>\n      <th>11</th>\n      <td>57</td>\n      <td>94585</td>\n      <td>2017-10-29 20:00:00</td>\n      <td>FV32</td>\n      <td>0.0</td>\n      <td>2017-10-29 19:58:36.763000200</td>\n      <td>Realtime Hops</td>\n      <td>Fermentation</td>\n      <td>FV32_20171029</td>\n    </tr>\n    <tr>\n      <th>12</th>\n      <td>62</td>\n      <td>106638</td>\n      <td>2017-01-21 12:40:00</td>\n      <td>FV33</td>\n      <td>0.0</td>\n      <td>2017-01-21 12:30:21.851013100</td>\n      <td>Realtime Hops</td>\n      <td>Fermentation</td>\n      <td>FV33_20170121</td>\n    </tr>\n    <tr>\n      <th>13</th>\n      <td>69</td>\n      <td>111389</td>\n      <td>2017-02-23 12:30:00</td>\n      <td>FV33</td>\n      <td>0.0</td>\n      <td>2017-02-23 12:24:22.865005200</td>\n      <td>Realtime Hops</td>\n      <td>Fermentation</td>\n      <td>FV33_20170223</td>\n    </tr>\n    <tr>\n      <th>14</th>\n      <td>75</td>\n      <td>121228</td>\n      <td>2017-05-02 20:20:00</td>\n      <td>FV33</td>\n      <td>0.0</td>\n      <td>2017-05-02 20:19:37.120010300</td>\n      <td>Realtime Hops</td>\n      <td>Fermentation</td>\n      <td>FV33_20170502</td>\n    </tr>\n    <tr>\n      <th>15</th>\n      <td>81</td>\n      <td>135771</td>\n      <td>2017-08-11 20:10:00</td>\n      <td>FV33</td>\n      <td>0.0</td>\n      <td>2017-08-11 20:02:37.106002800</td>\n      <td>Realtime Hops</td>\n      <td>Fermentation</td>\n      <td>FV33_20170811</td>\n    </tr>\n    <tr>\n      <th>16</th>\n      <td>86</td>\n      <td>166147</td>\n      <td>2017-03-10 18:40:00</td>\n      <td>FV34</td>\n      <td>0.0</td>\n      <td>2017-03-10 18:33:17.538009600</td>\n      <td>Realtime Hops</td>\n      <td>Fermentation</td>\n      <td>FV34_20170310</td>\n    </tr>\n    <tr>\n      <th>17</th>\n      <td>91</td>\n      <td>172554</td>\n      <td>2017-04-24 06:30:00</td>\n      <td>FV34</td>\n      <td>0.0</td>\n      <td>2017-04-24 06:25:18.038009600</td>\n      <td>Realtime Hops</td>\n      <td>Fermentation</td>\n      <td>FV34_20170424</td>\n    </tr>\n    <tr>\n      <th>18</th>\n      <td>99</td>\n      <td>197773</td>\n      <td>2017-10-16 09:40:00</td>\n      <td>FV34</td>\n      <td>0.0</td>\n      <td>2017-10-16 09:32:27.397003100</td>\n      <td>Realtime Hops</td>\n      <td>Fermentation</td>\n      <td>FV34_20171016</td>\n    </tr>\n    <tr>\n      <th>19</th>\n      <td>104</td>\n      <td>213866</td>\n      <td>2017-02-05 03:40:00</td>\n      <td>FV35</td>\n      <td>0.0</td>\n      <td>2017-02-05 03:36:13.639007500</td>\n      <td>Realtime Hops</td>\n      <td>Fermentation</td>\n      <td>FV35_20170205</td>\n    </tr>\n    <tr>\n      <th>20</th>\n      <td>112</td>\n      <td>221151</td>\n      <td>2017-03-27 17:50:00</td>\n      <td>FV35</td>\n      <td>0.0</td>\n      <td>2017-03-27 17:44:33.124007900</td>\n      <td>Realtime Hops</td>\n      <td>Fermentation</td>\n      <td>FV35_20170327</td>\n    </tr>\n    <tr>\n      <th>21</th>\n      <td>120</td>\n      <td>239892</td>\n      <td>2017-08-04 21:20:00</td>\n      <td>FV35</td>\n      <td>0.0</td>\n      <td>2017-08-04 21:15:49.351013100</td>\n      <td>Realtime Hops</td>\n      <td>Fermentation</td>\n      <td>FV35_20170804</td>\n    </tr>\n    <tr>\n      <th>22</th>\n      <td>126</td>\n      <td>259564</td>\n      <td>2017-12-19 12:00:00</td>\n      <td>FV35</td>\n      <td>0.0</td>\n      <td>2017-12-19 11:50:08.131011900</td>\n      <td>Realtime Hops</td>\n      <td>Fermentation</td>\n      <td>FV35_20171219</td>\n    </tr>\n    <tr>\n      <th>23</th>\n      <td>128</td>\n      <td>259617</td>\n      <td>2017-12-19 20:50:00</td>\n      <td>FV35</td>\n      <td>0.0</td>\n      <td>2017-12-19 11:50:08.131011900</td>\n      <td>Realtime Hops</td>\n      <td>Fermentation</td>\n      <td>FV35_20171219</td>\n    </tr>\n    <tr>\n      <th>24</th>\n      <td>134</td>\n      <td>309604</td>\n      <td>2017-12-01 23:50:00</td>\n      <td>FV36</td>\n      <td>0.0</td>\n      <td>2017-12-01 23:44:23.843002300</td>\n      <td>Realtime Hops</td>\n      <td>Fermentation</td>\n      <td>FV36_20171201</td>\n    </tr>\n  </tbody>\n</table>\n</div>"
     },
     "metadata": {}
    }
   ],
   "execution_count": null
  },
  {
   "cell_type": "code",
   "metadata": {
    "execution": {
     "iopub.execute_input": "2020-08-14T19:30:30.779092Z",
     "iopub.status.busy": "2020-08-14T19:30:30.778252Z",
     "iopub.status.idle": "2020-08-14T19:30:30.847028Z",
     "shell.execute_reply": "2020-08-14T19:30:30.848138Z"
    },
    "papermill": {
     "duration": 0.33567,
     "end_time": "2020-08-14T19:30:30.848493",
     "exception": false,
     "start_time": "2020-08-14T19:30:30.512823",
     "status": "completed"
    },
    "tags": [],
    "cell_id": "00040-474b7fa8-3eec-4128-84a9-caf8b9cd325f",
    "deepnote_to_be_reexecuted": false,
    "source_hash": "e7cecebc",
    "execution_start": 1642202989599,
    "execution_millis": 18,
    "output_cleared": true,
    "deepnote_cell_type": "code"
   },
   "source": "# create new dataframe column for recording the time evolution of fermentation\nbrand_df[\"Elapsed\"] = -1\n\n# compute the time elapsed since the starts of a fermentation\nfor count, fermentation_start_row in fermentation_starts.iterrows():\n\n    # get the timestamp for each start of fermentation\n    fermentation_start_time = fermentation_start_row[\"Timestamp\"]\n    fermentation_id = fermentation_start_row[\"Fermentation ID\"]\n\n    # boolean vector to pick only rows relevant to current fermentation ID\n    batch_row_picker = brand_df[\"Fermentation ID\"] == fermentation_id\n\n    # find time elapsed since the start of fermentation in units of hours\n    brand_df.loc[batch_row_picker, \"Elapsed\"] = brand_df.loc[\n        batch_row_picker, \"Timestamp\"\n    ].apply(lambda t: (t - fermentation_start_time).total_seconds() / 3600.0)",
   "execution_count": null,
   "outputs": []
  },
  {
   "cell_type": "code",
   "metadata": {
    "execution": {
     "iopub.execute_input": "2020-08-14T19:30:31.590490Z",
     "iopub.status.busy": "2020-08-14T19:30:31.588448Z",
     "iopub.status.idle": "2020-08-14T19:30:31.593314Z",
     "shell.execute_reply": "2020-08-14T19:30:31.594856Z"
    },
    "papermill": {
     "duration": 0.281999,
     "end_time": "2020-08-14T19:30:31.595066",
     "exception": false,
     "start_time": "2020-08-14T19:30:31.313067",
     "status": "completed"
    },
    "tags": [],
    "cell_id": "00041-05a52cff-e5f1-4136-a6c1-262ab63e5e5a",
    "deepnote_to_be_reexecuted": false,
    "source_hash": "1fd6fbc",
    "execution_start": 1642202989626,
    "execution_millis": 646748,
    "output_cleared": true,
    "deepnote_cell_type": "code"
   },
   "source": "# Remove all batches with wrong elapsed time \nbrand_df = brand_df[~(brand_df[\"Elapsed\"] < 0.0)]",
   "execution_count": null,
   "outputs": []
  },
  {
   "cell_type": "code",
   "metadata": {
    "execution": {
     "iopub.execute_input": "2020-08-14T19:30:31.995020Z",
     "iopub.status.busy": "2020-08-14T19:30:31.993635Z",
     "iopub.status.idle": "2020-08-14T19:30:31.998178Z",
     "shell.execute_reply": "2020-08-14T19:30:31.998725Z"
    },
    "papermill": {
     "duration": 0.191914,
     "end_time": "2020-08-14T19:30:31.998877",
     "exception": false,
     "start_time": "2020-08-14T19:30:31.806963",
     "status": "completed"
    },
    "tags": [],
    "cell_id": "00042-487f2f2a-e8d1-4967-86cf-44e8835dbe8f",
    "deepnote_output_heights": [
     177
    ],
    "deepnote_to_be_reexecuted": false,
    "source_hash": "396b3e8",
    "execution_start": 1642202989692,
    "execution_millis": 32,
    "output_cleared": false,
    "deepnote_cell_type": "code"
   },
   "source": "# sort data from t=0 to t=tmax\nbrand_df = brand_df.sort_values(by=\"Elapsed\")\n\n# preview dataframe\nbrand_df.head()",
   "outputs": [
    {
     "output_type": "execute_result",
     "execution_count": 22,
     "data": {
      "application/vnd.deepnote.dataframe.v3+json": {
       "column_count": 9,
       "row_count": 5,
       "columns": [
        {
         "name": "index",
         "dtype": "int64",
         "stats": {
          "unique_count": 5,
          "nan_count": 0,
          "min": "4217",
          "max": "166147",
          "histogram": [
           {
            "bin_start": 4217,
            "bin_end": 20410,
            "count": 1
           },
           {
            "bin_start": 20410,
            "bin_end": 36603,
            "count": 0
           },
           {
            "bin_start": 36603,
            "bin_end": 52796,
            "count": 0
           },
           {
            "bin_start": 52796,
            "bin_end": 68989,
            "count": 1
           },
           {
            "bin_start": 68989,
            "bin_end": 85182,
            "count": 1
           },
           {
            "bin_start": 85182,
            "bin_end": 101375,
            "count": 0
           },
           {
            "bin_start": 101375,
            "bin_end": 117568,
            "count": 0
           },
           {
            "bin_start": 117568,
            "bin_end": 133761,
            "count": 0
           },
           {
            "bin_start": 133761,
            "bin_end": 149954,
            "count": 1
           },
           {
            "bin_start": 149954,
            "bin_end": 166147,
            "count": 1
           }
          ]
         }
        },
        {
         "name": "Timestamp",
         "dtype": "datetime64[ns]",
         "stats": {
          "unique_count": 5,
          "nan_count": 0,
          "min": "2017-02-09 06:50:00",
          "max": "2017-08-11 20:10:00",
          "histogram": [
           {
            "bin_start": 1486623000000000000,
            "bin_end": 1488208920000000000,
            "count": 1
           },
           {
            "bin_start": 1488208920000000000,
            "bin_end": 1489794840000000000,
            "count": 1
           },
           {
            "bin_start": 1489794840000000000,
            "bin_end": 1491380760000000000,
            "count": 0
           },
           {
            "bin_start": 1491380760000000000,
            "bin_end": 1492966680000000000,
            "count": 0
           },
           {
            "bin_start": 1492966680000000000,
            "bin_end": 1494552600000000000,
            "count": 1
           },
           {
            "bin_start": 1494552600000000000,
            "bin_end": 1496138520000000000,
            "count": 0
           },
           {
            "bin_start": 1496138520000000000,
            "bin_end": 1497724440000000000,
            "count": 1
           },
           {
            "bin_start": 1497724440000000000,
            "bin_end": 1499310360000000000,
            "count": 0
           },
           {
            "bin_start": 1499310360000000000,
            "bin_end": 1500896280000000000,
            "count": 0
           },
           {
            "bin_start": 1500896280000000000,
            "bin_end": 1502482200000000000,
            "count": 1
           }
          ]
         }
        },
        {
         "name": "Asset_Id",
         "dtype": "object",
         "stats": {
          "unique_count": 4,
          "nan_count": 0,
          "categories": [
           {
            "name": "FV32",
            "count": 2
           },
           {
            "name": "FV31",
            "count": 1
           },
           {
            "name": "2 others",
            "count": 2
           }
          ]
         }
        },
        {
         "name": "ADF",
         "dtype": "float64",
         "stats": {
          "unique_count": 1,
          "nan_count": 0,
          "min": "0.0",
          "max": "0.0",
          "histogram": [
           {
            "bin_start": -0.5,
            "bin_end": -0.4,
            "count": 0
           },
           {
            "bin_start": -0.4,
            "bin_end": -0.3,
            "count": 0
           },
           {
            "bin_start": -0.3,
            "bin_end": -0.19999999999999996,
            "count": 0
           },
           {
            "bin_start": -0.19999999999999996,
            "bin_end": -0.09999999999999998,
            "count": 0
           },
           {
            "bin_start": -0.09999999999999998,
            "bin_end": 0,
            "count": 0
           },
           {
            "bin_start": 0,
            "bin_end": 0.10000000000000009,
            "count": 5
           },
           {
            "bin_start": 0.10000000000000009,
            "bin_end": 0.20000000000000007,
            "count": 0
           },
           {
            "bin_start": 0.20000000000000007,
            "bin_end": 0.30000000000000004,
            "count": 0
           },
           {
            "bin_start": 0.30000000000000004,
            "bin_end": 0.4,
            "count": 0
           },
           {
            "bin_start": 0.4,
            "bin_end": 0.5,
            "count": 0
           }
          ]
         }
        },
        {
         "name": "Fermentation Start Time",
         "dtype": "datetime64[ns]",
         "stats": {
          "unique_count": 5,
          "nan_count": 0,
          "min": "2017-02-09 06:45:49.748000800",
          "max": "2017-08-11 20:02:37.106002800",
          "histogram": [
           {
            "bin_start": 1486622749748000800,
            "bin_end": 1488208650483801000,
            "count": 1
           },
           {
            "bin_start": 1488208650483801000,
            "bin_end": 1489794551219601200,
            "count": 1
           },
           {
            "bin_start": 1489794551219601200,
            "bin_end": 1491380451955401200,
            "count": 0
           },
           {
            "bin_start": 1491380451955401200,
            "bin_end": 1492966352691201500,
            "count": 0
           },
           {
            "bin_start": 1492966352691201500,
            "bin_end": 1494552253427001900,
            "count": 1
           },
           {
            "bin_start": 1494552253427001900,
            "bin_end": 1496138154162802000,
            "count": 0
           },
           {
            "bin_start": 1496138154162802000,
            "bin_end": 1497724054898602000,
            "count": 1
           },
           {
            "bin_start": 1497724054898602000,
            "bin_end": 1499309955634402300,
            "count": 0
           },
           {
            "bin_start": 1499309955634402300,
            "bin_end": 1500895856370202600,
            "count": 0
           },
           {
            "bin_start": 1500895856370202600,
            "bin_end": 1502481757106002700,
            "count": 1
           }
          ]
         }
        },
        {
         "name": "Brand",
         "dtype": "object",
         "stats": {
          "unique_count": 1,
          "nan_count": 0,
          "categories": [
           {
            "name": "Realtime Hops",
            "count": 5
           }
          ]
         }
        },
        {
         "name": "Status",
         "dtype": "object",
         "stats": {
          "unique_count": 1,
          "nan_count": 0,
          "categories": [
           {
            "name": "Fermentation",
            "count": 5
           }
          ]
         }
        },
        {
         "name": "Fermentation ID",
         "dtype": "object",
         "stats": {
          "unique_count": 5,
          "nan_count": 0,
          "categories": [
           {
            "name": "FV31_20170209",
            "count": 1
           },
           {
            "name": "FV32_20170429",
            "count": 1
           },
           {
            "name": "3 others",
            "count": 3
           }
          ]
         }
        },
        {
         "name": "Elapsed",
         "dtype": "float64",
         "stats": {
          "unique_count": 1,
          "nan_count": 0,
          "min": "0.0",
          "max": "0.0",
          "histogram": [
           {
            "bin_start": -0.5,
            "bin_end": -0.4,
            "count": 0
           },
           {
            "bin_start": -0.4,
            "bin_end": -0.3,
            "count": 0
           },
           {
            "bin_start": -0.3,
            "bin_end": -0.19999999999999996,
            "count": 0
           },
           {
            "bin_start": -0.19999999999999996,
            "bin_end": -0.09999999999999998,
            "count": 0
           },
           {
            "bin_start": -0.09999999999999998,
            "bin_end": 0,
            "count": 0
           },
           {
            "bin_start": 0,
            "bin_end": 0.10000000000000009,
            "count": 5
           },
           {
            "bin_start": 0.10000000000000009,
            "bin_end": 0.20000000000000007,
            "count": 0
           },
           {
            "bin_start": 0.20000000000000007,
            "bin_end": 0.30000000000000004,
            "count": 0
           },
           {
            "bin_start": 0.30000000000000004,
            "bin_end": 0.4,
            "count": 0
           },
           {
            "bin_start": 0.4,
            "bin_end": 0.5,
            "count": 0
           }
          ]
         }
        },
        {
         "name": "_deepnote_index_column",
         "dtype": "int64"
        }
       ],
       "rows": [
        {
         "index": 4217,
         "Timestamp": "2017-02-09T06:50:00.000000",
         "Asset_Id": "FV31",
         "ADF": 0,
         "Fermentation Start Time": "2017-02-09T06:45:49.748000",
         "Brand": "Realtime Hops",
         "Status": "Fermentation",
         "Fermentation ID": "FV31_20170209",
         "Elapsed": 0,
         "_deepnote_index_column": 0
        },
        {
         "index": 68204,
         "Timestamp": "2017-04-29T15:10:00.000000",
         "Asset_Id": "FV32",
         "ADF": 0,
         "Fermentation Start Time": "2017-04-29T15:06:25.341003",
         "Brand": "Realtime Hops",
         "Status": "Fermentation",
         "Fermentation ID": "FV32_20170429",
         "Elapsed": 0,
         "_deepnote_index_column": 36
        },
        {
         "index": 166147,
         "Timestamp": "2017-03-10T18:40:00.000000",
         "Asset_Id": "FV34",
         "ADF": 0,
         "Fermentation Start Time": "2017-03-10T18:33:17.538009",
         "Brand": "Realtime Hops",
         "Status": "Fermentation",
         "Fermentation ID": "FV34_20170310",
         "Elapsed": 0,
         "_deepnote_index_column": 86
        },
        {
         "index": 135771,
         "Timestamp": "2017-08-11T20:10:00.000000",
         "Asset_Id": "FV33",
         "ADF": 0,
         "Fermentation Start Time": "2017-08-11T20:02:37.106002",
         "Brand": "Realtime Hops",
         "Status": "Fermentation",
         "Fermentation ID": "FV33_20170811",
         "Elapsed": 0,
         "_deepnote_index_column": 81
        },
        {
         "index": 72820,
         "Timestamp": "2017-05-31T16:30:00.000000",
         "Asset_Id": "FV32",
         "ADF": 0,
         "Fermentation Start Time": "2017-05-31T16:25:50.503005",
         "Brand": "Realtime Hops",
         "Status": "Fermentation",
         "Fermentation ID": "FV32_20170531",
         "Elapsed": 0,
         "_deepnote_index_column": 42
        }
       ]
      },
      "text/plain": "     index           Timestamp Asset_Id  ADF       Fermentation Start Time  \\\n0     4217 2017-02-09 06:50:00     FV31  0.0 2017-02-09 06:45:49.748000800   \n36   68204 2017-04-29 15:10:00     FV32  0.0 2017-04-29 15:06:25.341003400   \n86  166147 2017-03-10 18:40:00     FV34  0.0 2017-03-10 18:33:17.538009600   \n81  135771 2017-08-11 20:10:00     FV33  0.0 2017-08-11 20:02:37.106002800   \n42   72820 2017-05-31 16:30:00     FV32  0.0 2017-05-31 16:25:50.503005900   \n\n            Brand        Status Fermentation ID  Elapsed  \n0   Realtime Hops  Fermentation   FV31_20170209      0.0  \n36  Realtime Hops  Fermentation   FV32_20170429      0.0  \n86  Realtime Hops  Fermentation   FV34_20170310      0.0  \n81  Realtime Hops  Fermentation   FV33_20170811      0.0  \n42  Realtime Hops  Fermentation   FV32_20170531      0.0  ",
      "text/html": "<div>\n<style scoped>\n    .dataframe tbody tr th:only-of-type {\n        vertical-align: middle;\n    }\n\n    .dataframe tbody tr th {\n        vertical-align: top;\n    }\n\n    .dataframe thead th {\n        text-align: right;\n    }\n</style>\n<table border=\"1\" class=\"dataframe\">\n  <thead>\n    <tr style=\"text-align: right;\">\n      <th></th>\n      <th>index</th>\n      <th>Timestamp</th>\n      <th>Asset_Id</th>\n      <th>ADF</th>\n      <th>Fermentation Start Time</th>\n      <th>Brand</th>\n      <th>Status</th>\n      <th>Fermentation ID</th>\n      <th>Elapsed</th>\n    </tr>\n  </thead>\n  <tbody>\n    <tr>\n      <th>0</th>\n      <td>4217</td>\n      <td>2017-02-09 06:50:00</td>\n      <td>FV31</td>\n      <td>0.0</td>\n      <td>2017-02-09 06:45:49.748000800</td>\n      <td>Realtime Hops</td>\n      <td>Fermentation</td>\n      <td>FV31_20170209</td>\n      <td>0.0</td>\n    </tr>\n    <tr>\n      <th>36</th>\n      <td>68204</td>\n      <td>2017-04-29 15:10:00</td>\n      <td>FV32</td>\n      <td>0.0</td>\n      <td>2017-04-29 15:06:25.341003400</td>\n      <td>Realtime Hops</td>\n      <td>Fermentation</td>\n      <td>FV32_20170429</td>\n      <td>0.0</td>\n    </tr>\n    <tr>\n      <th>86</th>\n      <td>166147</td>\n      <td>2017-03-10 18:40:00</td>\n      <td>FV34</td>\n      <td>0.0</td>\n      <td>2017-03-10 18:33:17.538009600</td>\n      <td>Realtime Hops</td>\n      <td>Fermentation</td>\n      <td>FV34_20170310</td>\n      <td>0.0</td>\n    </tr>\n    <tr>\n      <th>81</th>\n      <td>135771</td>\n      <td>2017-08-11 20:10:00</td>\n      <td>FV33</td>\n      <td>0.0</td>\n      <td>2017-08-11 20:02:37.106002800</td>\n      <td>Realtime Hops</td>\n      <td>Fermentation</td>\n      <td>FV33_20170811</td>\n      <td>0.0</td>\n    </tr>\n    <tr>\n      <th>42</th>\n      <td>72820</td>\n      <td>2017-05-31 16:30:00</td>\n      <td>FV32</td>\n      <td>0.0</td>\n      <td>2017-05-31 16:25:50.503005900</td>\n      <td>Realtime Hops</td>\n      <td>Fermentation</td>\n      <td>FV32_20170531</td>\n      <td>0.0</td>\n    </tr>\n  </tbody>\n</table>\n</div>"
     },
     "metadata": {}
    }
   ],
   "execution_count": null
  },
  {
   "cell_type": "markdown",
   "source": "### Part 4d. Preview smooth ADF profile\n<a id='section_4d'></a>\nPreview the smoothed ADF profile. Instead of plotting it with respect to the timestamp, plot it with respect to the elapsed time of fermentation computed in Part 4c. To perform the plotting, we re-use the function `plot_preview_data`. ",
   "metadata": {
    "papermill": {
     "duration": 0.175167,
     "end_time": "2020-08-14T19:30:32.353502",
     "exception": false,
     "start_time": "2020-08-14T19:30:32.178335",
     "status": "completed"
    },
    "tags": [],
    "cell_id": "00043-3eac636a-c9e9-4b7e-9de9-0ea4e6038d72",
    "deepnote_cell_type": "markdown"
   }
  },
  {
   "cell_type": "code",
   "metadata": {
    "execution": {
     "iopub.execute_input": "2020-08-14T19:30:32.689992Z",
     "iopub.status.busy": "2020-08-14T19:30:32.687872Z",
     "iopub.status.idle": "2020-08-14T19:30:32.706637Z",
     "shell.execute_reply": "2020-08-14T19:30:32.706137Z"
    },
    "papermill": {
     "duration": 0.207301,
     "end_time": "2020-08-14T19:30:32.706760",
     "exception": false,
     "start_time": "2020-08-14T19:30:32.499459",
     "status": "completed"
    },
    "tags": [],
    "cell_id": "00044-2f1e1475-09d2-4978-a39a-8857dfdf39cd",
    "deepnote_output_heights": [
     527
    ],
    "deepnote_to_be_reexecuted": false,
    "source_hash": "83ba7764",
    "execution_start": 1642202989726,
    "execution_millis": 37,
    "output_cleared": false,
    "deepnote_cell_type": "code"
   },
   "source": "ferm_ids = sorted(brand_df[\"Fermentation ID\"].unique())\n\n# define layout of plot\nlayout = go.Layout(\n    xaxis=dict(title=\"Fermentation Time (hours)\"),\n    yaxis=dict(title=\"ADF\"),\n    width=1000,\n    title=f\"ADF -- {BRAND_OF_INTEREST} brand, {len(ferm_ids)} fermentations, {START_INDEX} - {END_INDEX}\",\n)\n\n# plot preview of data\nplot_preview_data(brand_df, \"Elapsed\", \"ADF\", ferm_ids, layout, mode=\"markers\")",
   "outputs": [
    {
     "data": {
      "text/html": "<html>\n<head><meta charset=\"utf-8\" /></head>\n<body>\n    <div>            <script src=\"https://cdnjs.cloudflare.com/ajax/libs/mathjax/2.7.5/MathJax.js?config=TeX-AMS-MML_SVG\"></script><script type=\"text/javascript\">if (window.MathJax) {MathJax.Hub.Config({SVG: {font: \"STIX-Web\"}});}</script>                <script type=\"text/javascript\">window.PlotlyConfig = {MathJaxConfig: 'local'};</script>\n        <script src=\"https://cdn.plot.ly/plotly-2.6.3.min.js\"></script>                <div id=\"ea2195b5-a1e5-47b5-9844-04b40d4c02d3\" class=\"plotly-graph-div\" style=\"height:525px; width:1000px;\"></div>            <script type=\"text/javascript\">                                    window.PLOTLYENV=window.PLOTLYENV || {};                                    if (document.getElementById(\"ea2195b5-a1e5-47b5-9844-04b40d4c02d3\")) {                    Plotly.newPlot(                        \"ea2195b5-a1e5-47b5-9844-04b40d4c02d3\",                        [{\"hoverlabel\":{\"namelength\":-1},\"mode\":\"markers\",\"name\":\"FV31_20170209\",\"x\":[0.0,23.5,32.666666666666664,47.166666666666664],\"y\":[0.0,0.3336291001188457,0.4965197504119987,0.6964310415597054],\"type\":\"scatter\"},{\"hoverlabel\":{\"namelength\":-1},\"mode\":\"markers\",\"name\":\"FV31_20170413\",\"x\":[0.0,1.3333333333333333,12.666666666666666,25.833333333333332,36.666666666666664,50.333333333333336],\"y\":[0.0,0.0223582215953176,0.1408602146740176,0.3852706769333676,0.555617367031261,0.7185576693181012],\"type\":\"scatter\"},{\"hoverlabel\":{\"namelength\":-1},\"mode\":\"markers\",\"name\":\"FV31_20170524\",\"x\":[0.0,9.5,23.666666666666668,32.5,47.833333333333336],\"y\":[0.0,0.1261833201906278,0.3483400996020747,0.5186603112751984,0.7111961797029452],\"type\":\"scatter\"},{\"hoverlabel\":{\"namelength\":-1},\"mode\":\"markers\",\"name\":\"FV31_20170831\",\"x\":[0.0,2.8333333333333335,12.5,26.833333333333332,39.5],\"y\":[0.0,0.0459978844510821,0.1421375789504716,0.4231614803651586,0.5932548999472876],\"type\":\"scatter\"},{\"hoverlabel\":{\"namelength\":-1},\"mode\":\"markers\",\"name\":\"FV32_20170118\",\"x\":[0.0,10.333333333333334,23.833333333333332,34.333333333333336,48.333333333333336,57.5],\"y\":[0.0,0.1041079597722495,0.2966137095997476,0.4743113058145634,0.6520089020293791,0.6964332922567483],\"type\":\"scatter\"},{\"hoverlabel\":{\"namelength\":-1},\"mode\":\"markers\",\"name\":\"FV32_20170331\",\"x\":[0.0,9.5,18.666666666666668,34.0,42.833333333333336],\"y\":[0.0,0.1425661846206085,0.2761009344243407,0.5291142221873987,0.6767052843739743],\"type\":\"scatter\"},{\"hoverlabel\":{\"namelength\":-1},\"mode\":\"markers\",\"name\":\"FV32_20170414\",\"x\":[0.0,12.5,23.0,37.0,47.333333333333336],\"y\":[0.0,0.142118943601863,0.3122160581239873,0.5636639527487993,0.6893879176935135],\"type\":\"scatter\"},{\"hoverlabel\":{\"namelength\":-1},\"mode\":\"markers\",\"name\":\"FV32_20170429\",\"x\":[0.0,14.166666666666666,23.0,36.5,44.5,47.333333333333336],\"y\":[0.0,0.1860230381090879,0.334018849361981,0.5708121332526296,0.659609641175336,0.7188079621479982],\"type\":\"scatter\"},{\"hoverlabel\":{\"namelength\":-1},\"mode\":\"markers\",\"name\":\"FV32_20170531\",\"x\":[0.0,12.166666666666666,21.833333333333332,36.166666666666664,45.5],\"y\":[0.0,0.1408764168302725,0.3112198944315063,0.5704382084151363,0.7037504983044229],\"type\":\"scatter\"},{\"hoverlabel\":{\"namelength\":-1},\"mode\":\"markers\",\"name\":\"FV32_20170613\",\"x\":[0.0,4.833333333333333,19.833333333333332,28.5,44.666666666666664],\"y\":[0.0,0.0596779611242106,0.2743971418320714,0.4298834938005924,0.7038355738588946],\"type\":\"scatter\"},{\"hoverlabel\":{\"namelength\":-1},\"mode\":\"markers\",\"name\":\"FV32_20170920\",\"x\":[0.0,5.666666666666667,15.166666666666666,27.5,41.166666666666664],\"y\":[0.0,0.0672140888178861,0.2078723198761035,0.422561105963506,0.6076376700392344],\"type\":\"scatter\"},{\"hoverlabel\":{\"namelength\":-1},\"mode\":\"markers\",\"name\":\"FV32_20171029\",\"x\":[0.0],\"y\":[0.0],\"type\":\"scatter\"},{\"hoverlabel\":{\"namelength\":-1},\"mode\":\"markers\",\"name\":\"FV33_20170121\",\"x\":[0.0,4.5,11.5,17.5,27.666666666666668,39.333333333333336,52.5],\"y\":[0.0,0.0604566857325729,0.1344364753686321,0.2306102160060342,0.422957626728213,0.6079071008183611,0.7336727643654494],\"type\":\"scatter\"},{\"hoverlabel\":{\"namelength\":-1},\"mode\":\"markers\",\"name\":\"FV33_20170223\",\"x\":[0.0,2.6666666666666665,16.833333333333332,26.5,41.5,51.666666666666664],\"y\":[0.0,0.0307731647210882,0.2009427709113395,0.3785110832417591,0.6226674333168836,0.7040528833419251],\"type\":\"scatter\"},{\"hoverlabel\":{\"namelength\":-1},\"mode\":\"markers\",\"name\":\"FV33_20170502\",\"x\":[0.0,8.5,18.333333333333332,31.833333333333332,42.833333333333336,56.666666666666664],\"y\":[0.0,0.0971003605069372,0.237715852099414,0.4967444412495371,0.6521616229714868,0.7187689638802793],\"type\":\"scatter\"},{\"hoverlabel\":{\"namelength\":-1},\"mode\":\"markers\",\"name\":\"FV33_20170811\",\"x\":[0.0,8.833333333333334,18.333333333333332,31.166666666666668,41.666666666666664],\"y\":[0.0,0.0894288836247458,0.2374892254548466,0.4669827835317718,0.6076400800300985],\"type\":\"scatter\"},{\"hoverlabel\":{\"namelength\":-1},\"mode\":\"markers\",\"name\":\"FV34_20170310\",\"x\":[0.0,11.166666666666666,21.5,34.333333333333336,44.166666666666664],\"y\":[0.0,0.1487716665331323,0.3412233179880624,0.5706848263941955,0.7113225581130223],\"type\":\"scatter\"},{\"hoverlabel\":{\"namelength\":-1},\"mode\":\"markers\",\"name\":\"FV34_20170424\",\"x\":[0.0,5.666666666666667,7.166666666666667,13.333333333333334,17.0,19.666666666666668,31.5,45.666666666666664],\"y\":[0.0,0.0667077128865893,0.0741148225618676,0.1629997854680417,0.2148493412766905,0.2741060067606176,0.4963184493457693,0.7037167432197976],\"type\":\"scatter\"},{\"hoverlabel\":{\"namelength\":-1},\"mode\":\"markers\",\"name\":\"FV34_20171016\",\"x\":[0.0,5.333333333333333,17.666666666666668,29.166666666666668,41.666666666666664],\"y\":[0.0,0.0599509734161445,0.2375980079897265,0.4670588256886536,0.6669117572315835],\"type\":\"scatter\"},{\"hoverlabel\":{\"namelength\":-1},\"mode\":\"markers\",\"name\":\"FV35_20170205\",\"x\":[0.0,2.5,12.333333333333334,21.333333333333332,24.833333333333332,29.166666666666668,36.166666666666664,46.166666666666664],\"y\":[0.0,0.0301938462068515,0.156046606004005,0.3115116677393382,0.3707364834200931,0.4447674853706704,0.5558139882965363,0.6816666774922246],\"type\":\"scatter\"},{\"hoverlabel\":{\"namelength\":-1},\"mode\":\"markers\",\"name\":\"FV35_20170327\",\"x\":[0.0,8.5,17.166666666666668,20.5,23.0,35.0,44.166666666666664,58.166666666666664],\"y\":[0.0,0.0966849283844374,0.215152438245073,0.281790478740584,0.326215768458761,0.5335339989800779,0.6445973291937659,0.7186395669892653],\"type\":\"scatter\"},{\"hoverlabel\":{\"namelength\":-1},\"mode\":\"markers\",\"name\":\"FV35_20170804\",\"x\":[0.0,6.166666666666667,19.833333333333332,28.0,42.333333333333336,53.166666666666664],\"y\":[0.0,0.0595602241928952,0.2669012943646839,0.392786921412574,0.6297481142003569,0.696393460706287],\"type\":\"scatter\"},{\"hoverlabel\":{\"namelength\":-1},\"mode\":\"markers\",\"name\":\"FV35_20171219\",\"x\":[0.0],\"y\":[0.0],\"type\":\"scatter\"},{\"hoverlabel\":{\"namelength\":-1},\"mode\":\"markers\",\"name\":\"FV36_20171201\",\"x\":[0.0,6.333333333333333,18.166666666666668,29.5,40.333333333333336],\"y\":[0.0,0.0825717992867786,0.2083482359163622,0.4081108200408407,0.5486845073370099],\"type\":\"scatter\"}],                        {\"title\":{\"text\":\"ADF -- Realtime Hops brand, 24 fermentations, 2017-01-11T00:00 - 2018-01-11T00:00:00\"},\"width\":1000,\"xaxis\":{\"title\":{\"text\":\"Fermentation Time (hours)\"}},\"yaxis\":{\"title\":{\"text\":\"ADF\"}},\"template\":{\"data\":{\"bar\":[{\"error_x\":{\"color\":\"#2a3f5f\"},\"error_y\":{\"color\":\"#2a3f5f\"},\"marker\":{\"line\":{\"color\":\"#E5ECF6\",\"width\":0.5},\"pattern\":{\"fillmode\":\"overlay\",\"size\":10,\"solidity\":0.2}},\"type\":\"bar\"}],\"barpolar\":[{\"marker\":{\"line\":{\"color\":\"#E5ECF6\",\"width\":0.5},\"pattern\":{\"fillmode\":\"overlay\",\"size\":10,\"solidity\":0.2}},\"type\":\"barpolar\"}],\"carpet\":[{\"aaxis\":{\"endlinecolor\":\"#2a3f5f\",\"gridcolor\":\"white\",\"linecolor\":\"white\",\"minorgridcolor\":\"white\",\"startlinecolor\":\"#2a3f5f\"},\"baxis\":{\"endlinecolor\":\"#2a3f5f\",\"gridcolor\":\"white\",\"linecolor\":\"white\",\"minorgridcolor\":\"white\",\"startlinecolor\":\"#2a3f5f\"},\"type\":\"carpet\"}],\"choropleth\":[{\"colorbar\":{\"outlinewidth\":0,\"ticks\":\"\"},\"type\":\"choropleth\"}],\"contour\":[{\"colorbar\":{\"outlinewidth\":0,\"ticks\":\"\"},\"colorscale\":[[0.0,\"#0d0887\"],[0.1111111111111111,\"#46039f\"],[0.2222222222222222,\"#7201a8\"],[0.3333333333333333,\"#9c179e\"],[0.4444444444444444,\"#bd3786\"],[0.5555555555555556,\"#d8576b\"],[0.6666666666666666,\"#ed7953\"],[0.7777777777777778,\"#fb9f3a\"],[0.8888888888888888,\"#fdca26\"],[1.0,\"#f0f921\"]],\"type\":\"contour\"}],\"contourcarpet\":[{\"colorbar\":{\"outlinewidth\":0,\"ticks\":\"\"},\"type\":\"contourcarpet\"}],\"heatmap\":[{\"colorbar\":{\"outlinewidth\":0,\"ticks\":\"\"},\"colorscale\":[[0.0,\"#0d0887\"],[0.1111111111111111,\"#46039f\"],[0.2222222222222222,\"#7201a8\"],[0.3333333333333333,\"#9c179e\"],[0.4444444444444444,\"#bd3786\"],[0.5555555555555556,\"#d8576b\"],[0.6666666666666666,\"#ed7953\"],[0.7777777777777778,\"#fb9f3a\"],[0.8888888888888888,\"#fdca26\"],[1.0,\"#f0f921\"]],\"type\":\"heatmap\"}],\"heatmapgl\":[{\"colorbar\":{\"outlinewidth\":0,\"ticks\":\"\"},\"colorscale\":[[0.0,\"#0d0887\"],[0.1111111111111111,\"#46039f\"],[0.2222222222222222,\"#7201a8\"],[0.3333333333333333,\"#9c179e\"],[0.4444444444444444,\"#bd3786\"],[0.5555555555555556,\"#d8576b\"],[0.6666666666666666,\"#ed7953\"],[0.7777777777777778,\"#fb9f3a\"],[0.8888888888888888,\"#fdca26\"],[1.0,\"#f0f921\"]],\"type\":\"heatmapgl\"}],\"histogram\":[{\"marker\":{\"pattern\":{\"fillmode\":\"overlay\",\"size\":10,\"solidity\":0.2}},\"type\":\"histogram\"}],\"histogram2d\":[{\"colorbar\":{\"outlinewidth\":0,\"ticks\":\"\"},\"colorscale\":[[0.0,\"#0d0887\"],[0.1111111111111111,\"#46039f\"],[0.2222222222222222,\"#7201a8\"],[0.3333333333333333,\"#9c179e\"],[0.4444444444444444,\"#bd3786\"],[0.5555555555555556,\"#d8576b\"],[0.6666666666666666,\"#ed7953\"],[0.7777777777777778,\"#fb9f3a\"],[0.8888888888888888,\"#fdca26\"],[1.0,\"#f0f921\"]],\"type\":\"histogram2d\"}],\"histogram2dcontour\":[{\"colorbar\":{\"outlinewidth\":0,\"ticks\":\"\"},\"colorscale\":[[0.0,\"#0d0887\"],[0.1111111111111111,\"#46039f\"],[0.2222222222222222,\"#7201a8\"],[0.3333333333333333,\"#9c179e\"],[0.4444444444444444,\"#bd3786\"],[0.5555555555555556,\"#d8576b\"],[0.6666666666666666,\"#ed7953\"],[0.7777777777777778,\"#fb9f3a\"],[0.8888888888888888,\"#fdca26\"],[1.0,\"#f0f921\"]],\"type\":\"histogram2dcontour\"}],\"mesh3d\":[{\"colorbar\":{\"outlinewidth\":0,\"ticks\":\"\"},\"type\":\"mesh3d\"}],\"parcoords\":[{\"line\":{\"colorbar\":{\"outlinewidth\":0,\"ticks\":\"\"}},\"type\":\"parcoords\"}],\"pie\":[{\"automargin\":true,\"type\":\"pie\"}],\"scatter\":[{\"marker\":{\"colorbar\":{\"outlinewidth\":0,\"ticks\":\"\"}},\"type\":\"scatter\"}],\"scatter3d\":[{\"line\":{\"colorbar\":{\"outlinewidth\":0,\"ticks\":\"\"}},\"marker\":{\"colorbar\":{\"outlinewidth\":0,\"ticks\":\"\"}},\"type\":\"scatter3d\"}],\"scattercarpet\":[{\"marker\":{\"colorbar\":{\"outlinewidth\":0,\"ticks\":\"\"}},\"type\":\"scattercarpet\"}],\"scattergeo\":[{\"marker\":{\"colorbar\":{\"outlinewidth\":0,\"ticks\":\"\"}},\"type\":\"scattergeo\"}],\"scattergl\":[{\"marker\":{\"colorbar\":{\"outlinewidth\":0,\"ticks\":\"\"}},\"type\":\"scattergl\"}],\"scattermapbox\":[{\"marker\":{\"colorbar\":{\"outlinewidth\":0,\"ticks\":\"\"}},\"type\":\"scattermapbox\"}],\"scatterpolar\":[{\"marker\":{\"colorbar\":{\"outlinewidth\":0,\"ticks\":\"\"}},\"type\":\"scatterpolar\"}],\"scatterpolargl\":[{\"marker\":{\"colorbar\":{\"outlinewidth\":0,\"ticks\":\"\"}},\"type\":\"scatterpolargl\"}],\"scatterternary\":[{\"marker\":{\"colorbar\":{\"outlinewidth\":0,\"ticks\":\"\"}},\"type\":\"scatterternary\"}],\"surface\":[{\"colorbar\":{\"outlinewidth\":0,\"ticks\":\"\"},\"colorscale\":[[0.0,\"#0d0887\"],[0.1111111111111111,\"#46039f\"],[0.2222222222222222,\"#7201a8\"],[0.3333333333333333,\"#9c179e\"],[0.4444444444444444,\"#bd3786\"],[0.5555555555555556,\"#d8576b\"],[0.6666666666666666,\"#ed7953\"],[0.7777777777777778,\"#fb9f3a\"],[0.8888888888888888,\"#fdca26\"],[1.0,\"#f0f921\"]],\"type\":\"surface\"}],\"table\":[{\"cells\":{\"fill\":{\"color\":\"#EBF0F8\"},\"line\":{\"color\":\"white\"}},\"header\":{\"fill\":{\"color\":\"#C8D4E3\"},\"line\":{\"color\":\"white\"}},\"type\":\"table\"}]},\"layout\":{\"annotationdefaults\":{\"arrowcolor\":\"#2a3f5f\",\"arrowhead\":0,\"arrowwidth\":1},\"autotypenumbers\":\"strict\",\"coloraxis\":{\"colorbar\":{\"outlinewidth\":0,\"ticks\":\"\"}},\"colorscale\":{\"diverging\":[[0,\"#8e0152\"],[0.1,\"#c51b7d\"],[0.2,\"#de77ae\"],[0.3,\"#f1b6da\"],[0.4,\"#fde0ef\"],[0.5,\"#f7f7f7\"],[0.6,\"#e6f5d0\"],[0.7,\"#b8e186\"],[0.8,\"#7fbc41\"],[0.9,\"#4d9221\"],[1,\"#276419\"]],\"sequential\":[[0.0,\"#0d0887\"],[0.1111111111111111,\"#46039f\"],[0.2222222222222222,\"#7201a8\"],[0.3333333333333333,\"#9c179e\"],[0.4444444444444444,\"#bd3786\"],[0.5555555555555556,\"#d8576b\"],[0.6666666666666666,\"#ed7953\"],[0.7777777777777778,\"#fb9f3a\"],[0.8888888888888888,\"#fdca26\"],[1.0,\"#f0f921\"]],\"sequentialminus\":[[0.0,\"#0d0887\"],[0.1111111111111111,\"#46039f\"],[0.2222222222222222,\"#7201a8\"],[0.3333333333333333,\"#9c179e\"],[0.4444444444444444,\"#bd3786\"],[0.5555555555555556,\"#d8576b\"],[0.6666666666666666,\"#ed7953\"],[0.7777777777777778,\"#fb9f3a\"],[0.8888888888888888,\"#fdca26\"],[1.0,\"#f0f921\"]]},\"colorway\":[\"#636efa\",\"#EF553B\",\"#00cc96\",\"#ab63fa\",\"#FFA15A\",\"#19d3f3\",\"#FF6692\",\"#B6E880\",\"#FF97FF\",\"#FECB52\"],\"font\":{\"color\":\"#2a3f5f\"},\"geo\":{\"bgcolor\":\"white\",\"lakecolor\":\"white\",\"landcolor\":\"#E5ECF6\",\"showlakes\":true,\"showland\":true,\"subunitcolor\":\"white\"},\"hoverlabel\":{\"align\":\"left\"},\"hovermode\":\"closest\",\"mapbox\":{\"style\":\"light\"},\"paper_bgcolor\":\"white\",\"plot_bgcolor\":\"#E5ECF6\",\"polar\":{\"angularaxis\":{\"gridcolor\":\"white\",\"linecolor\":\"white\",\"ticks\":\"\"},\"bgcolor\":\"#E5ECF6\",\"radialaxis\":{\"gridcolor\":\"white\",\"linecolor\":\"white\",\"ticks\":\"\"}},\"scene\":{\"xaxis\":{\"backgroundcolor\":\"#E5ECF6\",\"gridcolor\":\"white\",\"gridwidth\":2,\"linecolor\":\"white\",\"showbackground\":true,\"ticks\":\"\",\"zerolinecolor\":\"white\"},\"yaxis\":{\"backgroundcolor\":\"#E5ECF6\",\"gridcolor\":\"white\",\"gridwidth\":2,\"linecolor\":\"white\",\"showbackground\":true,\"ticks\":\"\",\"zerolinecolor\":\"white\"},\"zaxis\":{\"backgroundcolor\":\"#E5ECF6\",\"gridcolor\":\"white\",\"gridwidth\":2,\"linecolor\":\"white\",\"showbackground\":true,\"ticks\":\"\",\"zerolinecolor\":\"white\"}},\"shapedefaults\":{\"line\":{\"color\":\"#2a3f5f\"}},\"ternary\":{\"aaxis\":{\"gridcolor\":\"white\",\"linecolor\":\"white\",\"ticks\":\"\"},\"baxis\":{\"gridcolor\":\"white\",\"linecolor\":\"white\",\"ticks\":\"\"},\"bgcolor\":\"#E5ECF6\",\"caxis\":{\"gridcolor\":\"white\",\"linecolor\":\"white\",\"ticks\":\"\"}},\"title\":{\"x\":0.05},\"xaxis\":{\"automargin\":true,\"gridcolor\":\"white\",\"linecolor\":\"white\",\"ticks\":\"\",\"title\":{\"standoff\":15},\"zerolinecolor\":\"white\",\"zerolinewidth\":2},\"yaxis\":{\"automargin\":true,\"gridcolor\":\"white\",\"linecolor\":\"white\",\"ticks\":\"\",\"title\":{\"standoff\":15},\"zerolinecolor\":\"white\",\"zerolinewidth\":2}}}},                        {\"responsive\": true}                    ).then(function(){\n                            \nvar gd = document.getElementById('ea2195b5-a1e5-47b5-9844-04b40d4c02d3');\nvar x = new MutationObserver(function (mutations, observer) {{\n        var display = window.getComputedStyle(gd).display;\n        if (!display || display === 'none') {{\n            console.log([gd, 'removed!']);\n            Plotly.purge(gd);\n            observer.disconnect();\n        }}\n}});\n\n// Listen for the removal of the full notebook cells\nvar notebookContainer = gd.closest('#notebook-container');\nif (notebookContainer) {{\n    x.observe(notebookContainer, {childList: true});\n}}\n\n// Listen for the clearing of the current output cell\nvar outputEl = gd.closest('.output');\nif (outputEl) {{\n    x.observe(outputEl, {childList: true});\n}}\n\n                        })                };                            </script>        </div>\n</body>\n</html>"
     },
     "metadata": {},
     "output_type": "display_data"
    }
   ],
   "execution_count": null
  },
  {
   "cell_type": "markdown",
   "source": "## Part 5. Fitting and analysis\n<a id='section_5e'></a>\nFit the data to a model and then asses the quality of that fit by looking at plots of the residuals (qualitative) and the normal scores (quantitative). We consider two models, linear and piecewise linear.\n\nFor the linear model, we have model parameters $\\alpha$ and $\\beta$. The $\\epsilon$ is the difference between the observed values and the model predictions. If the model is appropriate, the $\\epsilon$ should be uncorrelated with each other.\n\n$Y = \\alpha + \\beta X + \\epsilon$\n\nThe piecewise linear function we are considering has three breaks and 9 model parameters.\n\n$Y = \n    \\begin{cases}\n    \\alpha_1 + \\beta_1 X + \\epsilon, & X \\leq \\gamma_1 \\\\\n    \\alpha_2 + \\beta_2 X + \\epsilon, & \\gamma_1 \\leq X \\leq \\gamma_2 \\\\\n    \\alpha_3 + \\beta_3 X + \\epsilon, & \\gamma_2 \\leq X\n    \\end{cases}$\n\n",
   "metadata": {
    "papermill": {
     "duration": 0.162279,
     "end_time": "2020-08-14T19:30:33.019798",
     "exception": false,
     "start_time": "2020-08-14T19:30:32.857519",
     "status": "completed"
    },
    "tags": [],
    "toc-hr-collapsed": false,
    "cell_id": "00045-12fdbd9e-7155-48b8-aecb-7a55bf70aa30",
    "deepnote_cell_type": "markdown"
   }
  },
  {
   "cell_type": "markdown",
   "source": "### Part 5a. Fitting to a linear model\n<a id='section_5a'></a>\nDefine the training set, apply linear regression on the training set. Compare the model fit with observations, and gauge the quality of the model fit by looking at a plot of the residuals. The residuals should not have a trend (i.e. are normally distributed). One way to test whether a process is normally distributed is through a \"normality test\".",
   "metadata": {
    "papermill": {
     "duration": 0.162079,
     "end_time": "2020-08-14T19:30:33.365782",
     "exception": false,
     "start_time": "2020-08-14T19:30:33.203703",
     "status": "completed"
    },
    "tags": [],
    "cell_id": "00046-1ed5c907-8ff1-467f-82c6-c7c04e82728d",
    "deepnote_cell_type": "markdown"
   }
  },
  {
   "cell_type": "code",
   "metadata": {
    "execution": {
     "iopub.execute_input": "2020-08-14T19:30:33.696274Z",
     "iopub.status.busy": "2020-08-14T19:30:33.695062Z",
     "iopub.status.idle": "2020-08-14T19:30:33.734408Z",
     "shell.execute_reply": "2020-08-14T19:30:33.734939Z"
    },
    "papermill": {
     "duration": 0.203121,
     "end_time": "2020-08-14T19:30:33.735084",
     "exception": false,
     "start_time": "2020-08-14T19:30:33.531963",
     "status": "completed"
    },
    "tags": [],
    "cell_id": "00047-b8f2d98f-3a36-4d3e-a3a4-5fc6dddfeb9c",
    "deepnote_output_heights": [
     611
    ],
    "deepnote_to_be_reexecuted": false,
    "source_hash": "6a56a8c",
    "execution_start": 1642202989770,
    "execution_millis": 262,
    "output_cleared": false,
    "deepnote_cell_type": "code"
   },
   "source": "# before any fitting can be performed, the training set has to be defined\nX_observed = brand_df[\"Elapsed\"].to_frame()\nY_observed = brand_df[\"ADF\"].to_frame()\n\n# create the linear model. use existing libraries\n\n# Create the linear model using X_observed and Y_observed. Use the scikit learn library and follow this example: \n#                 https://scikit-learn.org/stable/auto_examples/linear_model/plot_ols.html\n#\n# =========== STUDENT BEGIN ==========\n# regr = @@@your code here@@@()\n# regr.fit(@@@your code here@@@,@@@your code here)\n# Y_linear = @@@your code here@@@(@@@your code here@@@).transpose()[0] \n# =========== STUDENT END ==========\nregr = linear_model.LinearRegression()\nregr.fit(X_observed, Y_observed)\nY_linear = regr.predict(X_observed).transpose()[0]\n# =========== STUDENT SOLUTION ===========\n\n\n# graphically compare observed data vs linear model\nmodel_analysis_plot(X_observed[\"Elapsed\"], Y_observed[\"ADF\"], Y_linear, \"Linear\")",
   "outputs": [
    {
     "data": {
      "text/html": "<html>\n<head><meta charset=\"utf-8\" /></head>\n<body>\n    <div>            <script src=\"https://cdnjs.cloudflare.com/ajax/libs/mathjax/2.7.5/MathJax.js?config=TeX-AMS-MML_SVG\"></script><script type=\"text/javascript\">if (window.MathJax) {MathJax.Hub.Config({SVG: {font: \"STIX-Web\"}});}</script>                <script type=\"text/javascript\">window.PlotlyConfig = {MathJaxConfig: 'local'};</script>\n        <script src=\"https://cdn.plot.ly/plotly-2.6.3.min.js\"></script>                <div id=\"bef4a089-a9d0-4448-a242-3c4aa4fb8c4e\" class=\"plotly-graph-div\" style=\"height:820px; width:900px;\"></div>            <script type=\"text/javascript\">                                    window.PLOTLYENV=window.PLOTLYENV || {};                                    if (document.getElementById(\"bef4a089-a9d0-4448-a242-3c4aa4fb8c4e\")) {                    Plotly.newPlot(                        \"bef4a089-a9d0-4448-a242-3c4aa4fb8c4e\",                        [{\"marker\":{\"color\":\"black\"},\"mode\":\"markers\",\"name\":\"observed\",\"x\":[0.0,0.0,0.0,0.0,0.0,0.0,0.0,0.0,0.0,0.0,0.0,0.0,0.0,0.0,0.0,0.0,0.0,0.0,0.0,0.0,0.0,0.0,0.0,0.0,1.3333333333333333,2.5,2.6666666666666665,2.8333333333333335,4.5,4.833333333333333,5.333333333333333,5.666666666666667,5.666666666666667,6.166666666666667,6.333333333333333,7.166666666666667,8.5,8.5,8.833333333333334,9.5,9.5,10.333333333333334,11.166666666666666,11.5,12.166666666666666,12.333333333333334,12.5,12.5,12.666666666666666,13.333333333333334,14.166666666666666,15.166666666666666,16.833333333333332,17.0,17.166666666666668,17.5,17.666666666666668,18.166666666666668,18.333333333333332,18.333333333333332,18.666666666666668,19.666666666666668,19.833333333333332,19.833333333333332,20.5,21.333333333333332,21.5,21.833333333333332,23.0,23.0,23.0,23.5,23.666666666666668,23.833333333333332,24.833333333333332,25.833333333333332,26.5,26.833333333333332,27.5,27.666666666666668,28.0,28.5,29.166666666666668,29.166666666666668,29.5,31.166666666666668,31.5,31.833333333333332,32.5,32.666666666666664,34.0,34.333333333333336,34.333333333333336,35.0,36.166666666666664,36.166666666666664,36.5,36.666666666666664,37.0,39.333333333333336,39.5,40.333333333333336,41.166666666666664,41.5,41.666666666666664,41.666666666666664,42.333333333333336,42.833333333333336,42.833333333333336,44.166666666666664,44.166666666666664,44.5,44.666666666666664,45.5,45.666666666666664,46.166666666666664,47.166666666666664,47.333333333333336,47.333333333333336,47.833333333333336,48.333333333333336,50.333333333333336,51.666666666666664,52.5,53.166666666666664,56.666666666666664,57.5,58.166666666666664],\"y\":[0.0,0.0,0.0,0.0,0.0,0.0,0.0,0.0,0.0,0.0,0.0,0.0,0.0,0.0,0.0,0.0,0.0,0.0,0.0,0.0,0.0,0.0,0.0,0.0,0.0223582215953176,0.0301938462068515,0.0307731647210882,0.0459978844510821,0.0604566857325729,0.0596779611242106,0.0599509734161445,0.0667077128865893,0.0672140888178861,0.0595602241928952,0.0825717992867786,0.0741148225618676,0.0966849283844374,0.0971003605069372,0.0894288836247458,0.1261833201906278,0.1425661846206085,0.1041079597722495,0.1487716665331323,0.1344364753686321,0.1408764168302725,0.156046606004005,0.1421375789504716,0.142118943601863,0.1408602146740176,0.1629997854680417,0.1860230381090879,0.2078723198761035,0.2009427709113395,0.2148493412766905,0.215152438245073,0.2306102160060342,0.2375980079897265,0.2083482359163622,0.237715852099414,0.2374892254548466,0.2761009344243407,0.2741060067606176,0.2743971418320714,0.2669012943646839,0.281790478740584,0.3115116677393382,0.3412233179880624,0.3112198944315063,0.3122160581239873,0.334018849361981,0.326215768458761,0.3336291001188457,0.3483400996020747,0.2966137095997476,0.3707364834200931,0.3852706769333676,0.3785110832417591,0.4231614803651586,0.422561105963506,0.422957626728213,0.392786921412574,0.4298834938005924,0.4447674853706704,0.4670588256886536,0.4081108200408407,0.4669827835317718,0.4963184493457693,0.4967444412495371,0.5186603112751984,0.4965197504119987,0.5291142221873987,0.5706848263941955,0.4743113058145634,0.5335339989800779,0.5558139882965363,0.5704382084151363,0.5708121332526296,0.555617367031261,0.5636639527487993,0.6079071008183611,0.5932548999472876,0.5486845073370099,0.6076376700392344,0.6226674333168836,0.6076400800300985,0.6669117572315835,0.6297481142003569,0.6521616229714868,0.6767052843739743,0.7113225581130223,0.6445973291937659,0.659609641175336,0.7038355738588946,0.7037504983044229,0.7037167432197976,0.6816666774922246,0.6964310415597054,0.7188079621479982,0.6893879176935135,0.7111961797029452,0.6520089020293791,0.7185576693181012,0.7040528833419251,0.7336727643654494,0.696393460706287,0.7187689638802793,0.6964332922567483,0.7186395669892653],\"type\":\"scatter\",\"xaxis\":\"x\",\"yaxis\":\"y\"},{\"line\":{\"color\":\"red\"},\"mode\":\"lines\",\"name\":\"Linear model\",\"x\":[0.0,0.0,0.0,0.0,0.0,0.0,0.0,0.0,0.0,0.0,0.0,0.0,0.0,0.0,0.0,0.0,0.0,0.0,0.0,0.0,0.0,0.0,0.0,0.0,1.3333333333333333,2.5,2.6666666666666665,2.8333333333333335,4.5,4.833333333333333,5.333333333333333,5.666666666666667,5.666666666666667,6.166666666666667,6.333333333333333,7.166666666666667,8.5,8.5,8.833333333333334,9.5,9.5,10.333333333333334,11.166666666666666,11.5,12.166666666666666,12.333333333333334,12.5,12.5,12.666666666666666,13.333333333333334,14.166666666666666,15.166666666666666,16.833333333333332,17.0,17.166666666666668,17.5,17.666666666666668,18.166666666666668,18.333333333333332,18.333333333333332,18.666666666666668,19.666666666666668,19.833333333333332,19.833333333333332,20.5,21.333333333333332,21.5,21.833333333333332,23.0,23.0,23.0,23.5,23.666666666666668,23.833333333333332,24.833333333333332,25.833333333333332,26.5,26.833333333333332,27.5,27.666666666666668,28.0,28.5,29.166666666666668,29.166666666666668,29.5,31.166666666666668,31.5,31.833333333333332,32.5,32.666666666666664,34.0,34.333333333333336,34.333333333333336,35.0,36.166666666666664,36.166666666666664,36.5,36.666666666666664,37.0,39.333333333333336,39.5,40.333333333333336,41.166666666666664,41.5,41.666666666666664,41.666666666666664,42.333333333333336,42.833333333333336,42.833333333333336,44.166666666666664,44.166666666666664,44.5,44.666666666666664,45.5,45.666666666666664,46.166666666666664,47.166666666666664,47.333333333333336,47.333333333333336,47.833333333333336,48.333333333333336,50.333333333333336,51.666666666666664,52.5,53.166666666666664,56.666666666666664,57.5,58.166666666666664],\"y\":[-0.006932303716429,-0.006932303716429,-0.006932303716429,-0.006932303716429,-0.006932303716429,-0.006932303716429,-0.006932303716429,-0.006932303716429,-0.006932303716429,-0.006932303716429,-0.006932303716429,-0.006932303716429,-0.006932303716429,-0.006932303716429,-0.006932303716429,-0.006932303716429,-0.006932303716429,-0.006932303716429,-0.006932303716429,-0.006932303716429,-0.006932303716429,-0.006932303716429,-0.006932303716429,-0.006932303716429,0.012635992810599236,0.02975825227174894,0.03220428933762747,0.03465032640350601,0.0591106970622913,0.06400277119404836,0.07134088239168394,0.07623295652344102,0.07623295652344102,0.0835710677210766,0.08601710478695512,0.09824729011634778,0.117815586643376,0.117815586643376,0.12270766077513309,0.13249180903864718,0.13249180903864718,0.14472199436803984,0.15695217969743247,0.16184425382918954,0.17162840209270366,0.1740744391585822,0.1765204762244607,0.1765204762244607,0.17896651329033925,0.18875066155385337,0.20098084688324602,0.2156570692785172,0.24011743993730247,0.242563477003181,0.24500951406905958,0.2499015882008166,0.2523476252666952,0.25968573646433074,0.2621317735302092,0.2621317735302092,0.26702384766196635,0.2817000700572375,0.284146107123116,0.284146107123116,0.29393025538663015,0.3061604407160228,0.3086064777819013,0.3134985519136584,0.3306208113748081,0.3306208113748081,0.3306208113748081,0.3379589225724437,0.34040495963832224,0.3428509967042007,0.3575272190994719,0.3722034414947431,0.3819875897582572,0.38687966389001427,0.3966638121535284,0.39910984921940695,0.40400192335116397,0.4113400345487996,0.42112418281231373,0.42112418281231373,0.42601625694407075,0.45047662760285606,0.4553687017346131,0.46026077586637015,0.4700449241298843,0.4724909611957628,0.492059257722791,0.49695133185454815,0.49695133185454815,0.5067354801180621,0.5238577395792119,0.5238577395792119,0.528749813710969,0.5311958507768475,0.5360879249086046,0.5703324438309041,0.5727784808967826,0.5850086662261753,0.5972388515555678,0.6021309256873248,0.6045769627532034,0.6045769627532034,0.6143611110167175,0.6216992222143531,0.6216992222143531,0.6412675187413812,0.6412675187413812,0.6461595928731385,0.6486056299390168,0.6608358152684095,0.663281852334288,0.6706199635319237,0.6852961859271949,0.6877422229930734,0.6877422229930734,0.695080334190709,0.7024184453883446,0.7317708901788871,0.7513391867059152,0.7635693720353078,0.773353520298822,0.824720298682271,0.8369504840116637,0.8467346322751779],\"type\":\"scatter\",\"xaxis\":\"x\",\"yaxis\":\"y\"},{\"marker\":{\"color\":\"grey\"},\"mode\":\"markers\",\"showlegend\":false,\"x\":[-0.006932303716429,-0.006932303716429,-0.006932303716429,-0.006932303716429,-0.006932303716429,-0.006932303716429,-0.006932303716429,-0.006932303716429,-0.006932303716429,-0.006932303716429,-0.006932303716429,-0.006932303716429,-0.006932303716429,-0.006932303716429,-0.006932303716429,-0.006932303716429,-0.006932303716429,-0.006932303716429,-0.006932303716429,-0.006932303716429,-0.006932303716429,-0.006932303716429,-0.006932303716429,-0.006932303716429,0.012635992810599236,0.02975825227174894,0.03220428933762747,0.03465032640350601,0.0591106970622913,0.06400277119404836,0.07134088239168394,0.07623295652344102,0.07623295652344102,0.0835710677210766,0.08601710478695512,0.09824729011634778,0.117815586643376,0.117815586643376,0.12270766077513309,0.13249180903864718,0.13249180903864718,0.14472199436803984,0.15695217969743247,0.16184425382918954,0.17162840209270366,0.1740744391585822,0.1765204762244607,0.1765204762244607,0.17896651329033925,0.18875066155385337,0.20098084688324602,0.2156570692785172,0.24011743993730247,0.242563477003181,0.24500951406905958,0.2499015882008166,0.2523476252666952,0.25968573646433074,0.2621317735302092,0.2621317735302092,0.26702384766196635,0.2817000700572375,0.284146107123116,0.284146107123116,0.29393025538663015,0.3061604407160228,0.3086064777819013,0.3134985519136584,0.3306208113748081,0.3306208113748081,0.3306208113748081,0.3379589225724437,0.34040495963832224,0.3428509967042007,0.3575272190994719,0.3722034414947431,0.3819875897582572,0.38687966389001427,0.3966638121535284,0.39910984921940695,0.40400192335116397,0.4113400345487996,0.42112418281231373,0.42112418281231373,0.42601625694407075,0.45047662760285606,0.4553687017346131,0.46026077586637015,0.4700449241298843,0.4724909611957628,0.492059257722791,0.49695133185454815,0.49695133185454815,0.5067354801180621,0.5238577395792119,0.5238577395792119,0.528749813710969,0.5311958507768475,0.5360879249086046,0.5703324438309041,0.5727784808967826,0.5850086662261753,0.5972388515555678,0.6021309256873248,0.6045769627532034,0.6045769627532034,0.6143611110167175,0.6216992222143531,0.6216992222143531,0.6412675187413812,0.6412675187413812,0.6461595928731385,0.6486056299390168,0.6608358152684095,0.663281852334288,0.6706199635319237,0.6852961859271949,0.6877422229930734,0.6877422229930734,0.695080334190709,0.7024184453883446,0.7317708901788871,0.7513391867059152,0.7635693720353078,0.773353520298822,0.824720298682271,0.8369504840116637,0.8467346322751779],\"y\":[0.006932303716429,0.006932303716429,0.006932303716429,0.006932303716429,0.006932303716429,0.006932303716429,0.006932303716429,0.006932303716429,0.006932303716429,0.006932303716429,0.006932303716429,0.006932303716429,0.006932303716429,0.006932303716429,0.006932303716429,0.006932303716429,0.006932303716429,0.006932303716429,0.006932303716429,0.006932303716429,0.006932303716429,0.006932303716429,0.006932303716429,0.006932303716429,0.009722228784718363,0.00043559393510255937,-0.00143112461653927,0.01134755804757609,0.0013459886702816004,-0.004324810069837759,-0.011389908975539445,-0.009525243636851713,-0.00901886770555492,-0.0240108435281814,-0.003445305500176521,-0.024132467554480175,-0.021130658258938603,-0.020715226136438808,-0.033278777150387295,-0.006308488848019378,0.010074375581961309,-0.04061403459579034,-0.008180513164300157,-0.027407778460557447,-0.03075198526243117,-0.018027833154577205,-0.034382897273989105,-0.03440153262259771,-0.03810629861632164,-0.02575087608581167,-0.014957808774158116,-0.007784749402413693,-0.03917466902596298,-0.027714135726490507,-0.029857075823986584,-0.019291372194782386,-0.01474961727696869,-0.05133750054796854,-0.024415921430795212,-0.02464254807536262,0.009077086762374342,-0.007594063296619935,-0.009748965291044576,-0.017244812758432093,-0.012139776646046152,0.005351227023315419,0.03261684020616107,-0.0022786574821520578,-0.018404753250820804,0.0033980379871729194,-0.004405042916047097,-0.004329822453597976,0.007935139963752447,-0.04623728710445313,0.013209264320621195,0.01306723543862448,-0.0034765065164981124,0.036281816475144335,0.025897293809977573,0.023847777508806067,-0.011215001938589986,0.018543459251792793,0.02364330255835667,0.04593464287633986,-0.017905436903230043,0.016506155928915744,0.04094974761115622,0.03648366538316694,0.048615387145314104,0.024028789216235913,0.037054964464607654,0.07373349453964734,-0.022640026039984773,0.026798518862015785,0.03195624871732439,0.04658046883592437,0.04206231954166062,0.024421516254413467,0.02757602784019475,0.03757465698745699,0.020476419050505013,-0.0363241588891654,0.010398818483666639,0.02053650762955872,0.003063117276895122,0.062334794478380084,0.015387003183639392,0.03046240075713369,0.055006062159621116,0.07005503937164104,0.003329810452384674,0.013450048302197537,0.05522994391987779,0.042914683036013423,0.040434890885509556,0.011046713960300991,0.011134855632510487,0.031065739154924832,0.0016456947004400702,0.016115845512236215,-0.050409543358965525,-0.013213220860785913,-0.04728630336399009,-0.029896607669858466,-0.07696005959253494,-0.1059513348019917,-0.1405171917549154,-0.12809506528591252],\"type\":\"scatter\",\"xaxis\":\"x2\",\"yaxis\":\"y2\"},{\"marker\":{\"color\":\"grey\"},\"mode\":\"markers\",\"showlegend\":false,\"x\":[-2.5490670540424065,-2.2230220857321084,-2.0355567770394214,-1.9004396113231623,-1.7931057035090485,-1.7031682054582498,-1.6252130727127423,-1.5560435498279273,-1.4936072325176053,-1.436504351619784,-1.3837355302003085,-1.3345611481692694,-1.2884177245769561,-1.2448655851675958,-1.2035547081695963,-1.1642016415911864,-1.1265734347091425,-1.0904761647301136,-1.055746562008621,-1.0222457778061365,-0.9898546666166209,-0.9584701602924772,-0.9280024430710901,-0.8983727233897957,-0.8695114567333805,-0.841356913762317,-0.8138540158774273,-0.7869533801580637,-0.7606105298381131,-0.7347852368544591,-0.7094409706552516,-0.684544433167313,-0.660065164130681,-0.6359752042904782,-0.6122488064595354,-0.5888621864216302,-0.5657933071743327,-0.5430216912146234,-0.5205282565254118,-0.49829517268346757,-0.4763057341217113,-0.45454424807372223,-0.43299593513045675,-0.4116468406676574,-0.39048375567208343,-0.36949414571706707,-0.3486660870220999,-0.32798820868433864,-0.3074496402978143,-0.28703996428326223,-0.26674917234153017,-0.2465676255193965,-0.22648601744073307,-0.20649534031020206,-0.18658685334265526,-0.1667520533104126,-0.14698264693366553,-0.1272705248672694,-0.10760773706084528,-0.08798646928901287,-0.06839902066517786,-0.04883778196600555,-0.029295214604827657,-0.009763830101014495,0.009763830101014215,0.02929521460482738,0.04883778196600541,0.06839902066517772,0.08798646928901273,0.10760773706084528,0.1272705248672694,0.14698264693366525,0.16675205331041232,0.18658685334265512,0.20649534031020192,0.22648601744073293,0.24656762551939637,0.26674917234153017,0.28703996428326223,0.307449640297814,0.3279882086843385,0.3486660870220998,0.3694941457170669,0.3904837556720832,0.4116468406676574,0.43299593513045675,0.45454424807372196,0.47630573412171096,0.49829517268346746,0.5205282565254117,0.5430216912146232,0.5657933071743327,0.5888621864216302,0.612248806459535,0.6359752042904777,0.6600651641306808,0.684544433167313,0.7094409706552516,0.7347852368544591,0.7606105298381131,0.7869533801580637,0.8138540158774272,0.8413569137623167,0.8695114567333805,0.8983727233897957,0.9280024430710901,0.9584701602924772,0.9898546666166209,1.022245777806136,1.055746562008621,1.0904761647301133,1.1265734347091425,1.164201641591186,1.2035547081695963,1.2448655851675958,1.288417724576956,1.3345611481692687,1.3837355302003078,1.436504351619784,1.4936072325176053,1.5560435498279273,1.6252130727127423,1.7031682054582498,1.7931057035090479,1.9004396113231619,2.035556777039421,2.2230220857321075,2.5490670540424065],\"y\":[-0.1405171917549154,-0.12809506528591252,-0.1059513348019917,-0.07696005959253494,-0.05133750054796854,-0.050409543358965525,-0.04728630336399009,-0.04623728710445313,-0.04061403459579034,-0.03917466902596298,-0.03810629861632164,-0.0363241588891654,-0.03440153262259771,-0.034382897273989105,-0.033278777150387295,-0.03075198526243117,-0.029896607669858466,-0.029857075823986584,-0.027714135726490507,-0.027407778460557447,-0.02575087608581167,-0.02464254807536262,-0.024415921430795212,-0.024132467554480175,-0.0240108435281814,-0.022640026039984773,-0.021130658258938603,-0.020715226136438808,-0.019291372194782386,-0.018404753250820804,-0.018027833154577205,-0.017905436903230043,-0.017244812758432093,-0.014957808774158116,-0.01474961727696869,-0.013213220860785913,-0.012139776646046152,-0.011389908975539445,-0.011215001938589986,-0.009748965291044576,-0.009525243636851713,-0.00901886770555492,-0.008180513164300157,-0.007784749402413693,-0.007594063296619935,-0.006308488848019378,-0.004405042916047097,-0.004329822453597976,-0.004324810069837759,-0.0034765065164981124,-0.003445305500176521,-0.0022786574821520578,-0.00143112461653927,0.00043559393510255937,0.0013459886702816004,0.0016456947004400702,0.003063117276895122,0.003329810452384674,0.0033980379871729194,0.005351227023315419,0.006932303716429,0.006932303716429,0.006932303716429,0.006932303716429,0.006932303716429,0.006932303716429,0.006932303716429,0.006932303716429,0.006932303716429,0.006932303716429,0.006932303716429,0.006932303716429,0.006932303716429,0.006932303716429,0.006932303716429,0.006932303716429,0.006932303716429,0.006932303716429,0.006932303716429,0.006932303716429,0.006932303716429,0.006932303716429,0.006932303716429,0.006932303716429,0.007935139963752447,0.009077086762374342,0.009722228784718363,0.010074375581961309,0.010398818483666639,0.011046713960300991,0.011134855632510487,0.01134755804757609,0.01306723543862448,0.013209264320621195,0.013450048302197537,0.015387003183639392,0.016115845512236215,0.016506155928915744,0.018543459251792793,0.020476419050505013,0.02053650762955872,0.02364330255835667,0.023847777508806067,0.024028789216235913,0.024421516254413467,0.025897293809977573,0.026798518862015785,0.02757602784019475,0.03046240075713369,0.031065739154924832,0.03195624871732439,0.03261684020616107,0.036281816475144335,0.03648366538316694,0.037054964464607654,0.03757465698745699,0.040434890885509556,0.04094974761115622,0.04206231954166062,0.042914683036013423,0.04593464287633986,0.04658046883592437,0.048615387145314104,0.055006062159621116,0.05522994391987779,0.062334794478380084,0.07005503937164104,0.07373349453964734],\"type\":\"scatter\",\"xaxis\":\"x3\",\"yaxis\":\"y3\"},{\"line\":{\"color\":\"black\"},\"mode\":\"lines\",\"showlegend\":false,\"x\":[-2.5490670540424065,2.5490670540424065],\"y\":[-0.08080772475233752,0.0808077247523375],\"type\":\"scatter\",\"xaxis\":\"x3\",\"yaxis\":\"y3\"}],                        {\"template\":{\"data\":{\"bar\":[{\"error_x\":{\"color\":\"#2a3f5f\"},\"error_y\":{\"color\":\"#2a3f5f\"},\"marker\":{\"line\":{\"color\":\"#E5ECF6\",\"width\":0.5},\"pattern\":{\"fillmode\":\"overlay\",\"size\":10,\"solidity\":0.2}},\"type\":\"bar\"}],\"barpolar\":[{\"marker\":{\"line\":{\"color\":\"#E5ECF6\",\"width\":0.5},\"pattern\":{\"fillmode\":\"overlay\",\"size\":10,\"solidity\":0.2}},\"type\":\"barpolar\"}],\"carpet\":[{\"aaxis\":{\"endlinecolor\":\"#2a3f5f\",\"gridcolor\":\"white\",\"linecolor\":\"white\",\"minorgridcolor\":\"white\",\"startlinecolor\":\"#2a3f5f\"},\"baxis\":{\"endlinecolor\":\"#2a3f5f\",\"gridcolor\":\"white\",\"linecolor\":\"white\",\"minorgridcolor\":\"white\",\"startlinecolor\":\"#2a3f5f\"},\"type\":\"carpet\"}],\"choropleth\":[{\"colorbar\":{\"outlinewidth\":0,\"ticks\":\"\"},\"type\":\"choropleth\"}],\"contour\":[{\"colorbar\":{\"outlinewidth\":0,\"ticks\":\"\"},\"colorscale\":[[0.0,\"#0d0887\"],[0.1111111111111111,\"#46039f\"],[0.2222222222222222,\"#7201a8\"],[0.3333333333333333,\"#9c179e\"],[0.4444444444444444,\"#bd3786\"],[0.5555555555555556,\"#d8576b\"],[0.6666666666666666,\"#ed7953\"],[0.7777777777777778,\"#fb9f3a\"],[0.8888888888888888,\"#fdca26\"],[1.0,\"#f0f921\"]],\"type\":\"contour\"}],\"contourcarpet\":[{\"colorbar\":{\"outlinewidth\":0,\"ticks\":\"\"},\"type\":\"contourcarpet\"}],\"heatmap\":[{\"colorbar\":{\"outlinewidth\":0,\"ticks\":\"\"},\"colorscale\":[[0.0,\"#0d0887\"],[0.1111111111111111,\"#46039f\"],[0.2222222222222222,\"#7201a8\"],[0.3333333333333333,\"#9c179e\"],[0.4444444444444444,\"#bd3786\"],[0.5555555555555556,\"#d8576b\"],[0.6666666666666666,\"#ed7953\"],[0.7777777777777778,\"#fb9f3a\"],[0.8888888888888888,\"#fdca26\"],[1.0,\"#f0f921\"]],\"type\":\"heatmap\"}],\"heatmapgl\":[{\"colorbar\":{\"outlinewidth\":0,\"ticks\":\"\"},\"colorscale\":[[0.0,\"#0d0887\"],[0.1111111111111111,\"#46039f\"],[0.2222222222222222,\"#7201a8\"],[0.3333333333333333,\"#9c179e\"],[0.4444444444444444,\"#bd3786\"],[0.5555555555555556,\"#d8576b\"],[0.6666666666666666,\"#ed7953\"],[0.7777777777777778,\"#fb9f3a\"],[0.8888888888888888,\"#fdca26\"],[1.0,\"#f0f921\"]],\"type\":\"heatmapgl\"}],\"histogram\":[{\"marker\":{\"pattern\":{\"fillmode\":\"overlay\",\"size\":10,\"solidity\":0.2}},\"type\":\"histogram\"}],\"histogram2d\":[{\"colorbar\":{\"outlinewidth\":0,\"ticks\":\"\"},\"colorscale\":[[0.0,\"#0d0887\"],[0.1111111111111111,\"#46039f\"],[0.2222222222222222,\"#7201a8\"],[0.3333333333333333,\"#9c179e\"],[0.4444444444444444,\"#bd3786\"],[0.5555555555555556,\"#d8576b\"],[0.6666666666666666,\"#ed7953\"],[0.7777777777777778,\"#fb9f3a\"],[0.8888888888888888,\"#fdca26\"],[1.0,\"#f0f921\"]],\"type\":\"histogram2d\"}],\"histogram2dcontour\":[{\"colorbar\":{\"outlinewidth\":0,\"ticks\":\"\"},\"colorscale\":[[0.0,\"#0d0887\"],[0.1111111111111111,\"#46039f\"],[0.2222222222222222,\"#7201a8\"],[0.3333333333333333,\"#9c179e\"],[0.4444444444444444,\"#bd3786\"],[0.5555555555555556,\"#d8576b\"],[0.6666666666666666,\"#ed7953\"],[0.7777777777777778,\"#fb9f3a\"],[0.8888888888888888,\"#fdca26\"],[1.0,\"#f0f921\"]],\"type\":\"histogram2dcontour\"}],\"mesh3d\":[{\"colorbar\":{\"outlinewidth\":0,\"ticks\":\"\"},\"type\":\"mesh3d\"}],\"parcoords\":[{\"line\":{\"colorbar\":{\"outlinewidth\":0,\"ticks\":\"\"}},\"type\":\"parcoords\"}],\"pie\":[{\"automargin\":true,\"type\":\"pie\"}],\"scatter\":[{\"marker\":{\"colorbar\":{\"outlinewidth\":0,\"ticks\":\"\"}},\"type\":\"scatter\"}],\"scatter3d\":[{\"line\":{\"colorbar\":{\"outlinewidth\":0,\"ticks\":\"\"}},\"marker\":{\"colorbar\":{\"outlinewidth\":0,\"ticks\":\"\"}},\"type\":\"scatter3d\"}],\"scattercarpet\":[{\"marker\":{\"colorbar\":{\"outlinewidth\":0,\"ticks\":\"\"}},\"type\":\"scattercarpet\"}],\"scattergeo\":[{\"marker\":{\"colorbar\":{\"outlinewidth\":0,\"ticks\":\"\"}},\"type\":\"scattergeo\"}],\"scattergl\":[{\"marker\":{\"colorbar\":{\"outlinewidth\":0,\"ticks\":\"\"}},\"type\":\"scattergl\"}],\"scattermapbox\":[{\"marker\":{\"colorbar\":{\"outlinewidth\":0,\"ticks\":\"\"}},\"type\":\"scattermapbox\"}],\"scatterpolar\":[{\"marker\":{\"colorbar\":{\"outlinewidth\":0,\"ticks\":\"\"}},\"type\":\"scatterpolar\"}],\"scatterpolargl\":[{\"marker\":{\"colorbar\":{\"outlinewidth\":0,\"ticks\":\"\"}},\"type\":\"scatterpolargl\"}],\"scatterternary\":[{\"marker\":{\"colorbar\":{\"outlinewidth\":0,\"ticks\":\"\"}},\"type\":\"scatterternary\"}],\"surface\":[{\"colorbar\":{\"outlinewidth\":0,\"ticks\":\"\"},\"colorscale\":[[0.0,\"#0d0887\"],[0.1111111111111111,\"#46039f\"],[0.2222222222222222,\"#7201a8\"],[0.3333333333333333,\"#9c179e\"],[0.4444444444444444,\"#bd3786\"],[0.5555555555555556,\"#d8576b\"],[0.6666666666666666,\"#ed7953\"],[0.7777777777777778,\"#fb9f3a\"],[0.8888888888888888,\"#fdca26\"],[1.0,\"#f0f921\"]],\"type\":\"surface\"}],\"table\":[{\"cells\":{\"fill\":{\"color\":\"#EBF0F8\"},\"line\":{\"color\":\"white\"}},\"header\":{\"fill\":{\"color\":\"#C8D4E3\"},\"line\":{\"color\":\"white\"}},\"type\":\"table\"}]},\"layout\":{\"annotationdefaults\":{\"arrowcolor\":\"#2a3f5f\",\"arrowhead\":0,\"arrowwidth\":1},\"autotypenumbers\":\"strict\",\"coloraxis\":{\"colorbar\":{\"outlinewidth\":0,\"ticks\":\"\"}},\"colorscale\":{\"diverging\":[[0,\"#8e0152\"],[0.1,\"#c51b7d\"],[0.2,\"#de77ae\"],[0.3,\"#f1b6da\"],[0.4,\"#fde0ef\"],[0.5,\"#f7f7f7\"],[0.6,\"#e6f5d0\"],[0.7,\"#b8e186\"],[0.8,\"#7fbc41\"],[0.9,\"#4d9221\"],[1,\"#276419\"]],\"sequential\":[[0.0,\"#0d0887\"],[0.1111111111111111,\"#46039f\"],[0.2222222222222222,\"#7201a8\"],[0.3333333333333333,\"#9c179e\"],[0.4444444444444444,\"#bd3786\"],[0.5555555555555556,\"#d8576b\"],[0.6666666666666666,\"#ed7953\"],[0.7777777777777778,\"#fb9f3a\"],[0.8888888888888888,\"#fdca26\"],[1.0,\"#f0f921\"]],\"sequentialminus\":[[0.0,\"#0d0887\"],[0.1111111111111111,\"#46039f\"],[0.2222222222222222,\"#7201a8\"],[0.3333333333333333,\"#9c179e\"],[0.4444444444444444,\"#bd3786\"],[0.5555555555555556,\"#d8576b\"],[0.6666666666666666,\"#ed7953\"],[0.7777777777777778,\"#fb9f3a\"],[0.8888888888888888,\"#fdca26\"],[1.0,\"#f0f921\"]]},\"colorway\":[\"#636efa\",\"#EF553B\",\"#00cc96\",\"#ab63fa\",\"#FFA15A\",\"#19d3f3\",\"#FF6692\",\"#B6E880\",\"#FF97FF\",\"#FECB52\"],\"font\":{\"color\":\"#2a3f5f\"},\"geo\":{\"bgcolor\":\"white\",\"lakecolor\":\"white\",\"landcolor\":\"#E5ECF6\",\"showlakes\":true,\"showland\":true,\"subunitcolor\":\"white\"},\"hoverlabel\":{\"align\":\"left\"},\"hovermode\":\"closest\",\"mapbox\":{\"style\":\"light\"},\"paper_bgcolor\":\"white\",\"plot_bgcolor\":\"#E5ECF6\",\"polar\":{\"angularaxis\":{\"gridcolor\":\"white\",\"linecolor\":\"white\",\"ticks\":\"\"},\"bgcolor\":\"#E5ECF6\",\"radialaxis\":{\"gridcolor\":\"white\",\"linecolor\":\"white\",\"ticks\":\"\"}},\"scene\":{\"xaxis\":{\"backgroundcolor\":\"#E5ECF6\",\"gridcolor\":\"white\",\"gridwidth\":2,\"linecolor\":\"white\",\"showbackground\":true,\"ticks\":\"\",\"zerolinecolor\":\"white\"},\"yaxis\":{\"backgroundcolor\":\"#E5ECF6\",\"gridcolor\":\"white\",\"gridwidth\":2,\"linecolor\":\"white\",\"showbackground\":true,\"ticks\":\"\",\"zerolinecolor\":\"white\"},\"zaxis\":{\"backgroundcolor\":\"#E5ECF6\",\"gridcolor\":\"white\",\"gridwidth\":2,\"linecolor\":\"white\",\"showbackground\":true,\"ticks\":\"\",\"zerolinecolor\":\"white\"}},\"shapedefaults\":{\"line\":{\"color\":\"#2a3f5f\"}},\"ternary\":{\"aaxis\":{\"gridcolor\":\"white\",\"linecolor\":\"white\",\"ticks\":\"\"},\"baxis\":{\"gridcolor\":\"white\",\"linecolor\":\"white\",\"ticks\":\"\"},\"bgcolor\":\"#E5ECF6\",\"caxis\":{\"gridcolor\":\"white\",\"linecolor\":\"white\",\"ticks\":\"\"}},\"title\":{\"x\":0.05},\"xaxis\":{\"automargin\":true,\"gridcolor\":\"white\",\"linecolor\":\"white\",\"ticks\":\"\",\"title\":{\"standoff\":15},\"zerolinecolor\":\"white\",\"zerolinewidth\":2},\"yaxis\":{\"automargin\":true,\"gridcolor\":\"white\",\"linecolor\":\"white\",\"ticks\":\"\",\"title\":{\"standoff\":15},\"zerolinecolor\":\"white\",\"zerolinewidth\":2}}},\"xaxis\":{\"anchor\":\"y\",\"domain\":[0.0,1.0],\"title\":{\"text\":\"Fermentation time (hour)\"}},\"yaxis\":{\"anchor\":\"x\",\"domain\":[0.55,1.0],\"title\":{\"text\":\"ADF\"}},\"xaxis2\":{\"anchor\":\"y2\",\"domain\":[0.0,0.485],\"title\":{\"text\":\"Predicted Values\"}},\"yaxis2\":{\"anchor\":\"x2\",\"domain\":[0.0,0.45],\"title\":{\"text\":\"Residuals\"}},\"xaxis3\":{\"anchor\":\"y3\",\"domain\":[0.515,1.0],\"title\":{\"text\":\"Normal Scores\"}},\"yaxis3\":{\"anchor\":\"x3\",\"domain\":[0.0,0.45],\"matches\":\"y2\",\"showticklabels\":false},\"height\":820,\"width\":900},                        {\"responsive\": true}                    ).then(function(){\n                            \nvar gd = document.getElementById('bef4a089-a9d0-4448-a242-3c4aa4fb8c4e');\nvar x = new MutationObserver(function (mutations, observer) {{\n        var display = window.getComputedStyle(gd).display;\n        if (!display || display === 'none') {{\n            console.log([gd, 'removed!']);\n            Plotly.purge(gd);\n            observer.disconnect();\n        }}\n}});\n\n// Listen for the removal of the full notebook cells\nvar notebookContainer = gd.closest('#notebook-container');\nif (notebookContainer) {{\n    x.observe(notebookContainer, {childList: true});\n}}\n\n// Listen for the clearing of the current output cell\nvar outputEl = gd.closest('.output');\nif (outputEl) {{\n    x.observe(outputEl, {childList: true});\n}}\n\n                        })                };                            </script>        </div>\n</body>\n</html>"
     },
     "metadata": {},
     "output_type": "display_data"
    }
   ],
   "execution_count": null
  },
  {
   "cell_type": "markdown",
   "source": "### Part 5b. Fitting to a piecewise linear model\n<a id='section_5b'></a>\nPerform peicewise linear regression on the training set defined previously. Graphically compare the model fit with the observations; analyze the residuals and the results for the normality test.\n\nOur piecewise linear model has three breaks corresponding to the \"lag phase\", \"growth phase\", and \"fermentation phase\" in a normal brewery fermentation.",
   "metadata": {
    "papermill": {
     "duration": 0.16546,
     "end_time": "2020-08-14T19:30:34.092611",
     "exception": false,
     "start_time": "2020-08-14T19:30:33.927151",
     "status": "completed"
    },
    "tags": [],
    "cell_id": "00048-4b9d0081-160b-4ba6-8f19-5d0f5bc5896c",
    "deepnote_cell_type": "markdown"
   }
  },
  {
   "cell_type": "code",
   "metadata": {
    "execution": {
     "iopub.execute_input": "2020-08-14T19:30:34.467093Z",
     "iopub.status.busy": "2020-08-14T19:30:34.465652Z",
     "iopub.status.idle": "2020-08-14T19:30:35.377823Z",
     "shell.execute_reply": "2020-08-14T19:30:35.379087Z"
    },
    "papermill": {
     "duration": 1.106235,
     "end_time": "2020-08-14T19:30:35.379348",
     "exception": false,
     "start_time": "2020-08-14T19:30:34.273113",
     "status": "completed"
    },
    "tags": [],
    "cell_id": "00049-0ede7465-adfc-4a23-b98b-4d501a66699a",
    "deepnote_output_heights": [
     611
    ],
    "deepnote_to_be_reexecuted": false,
    "source_hash": "f8cf2f2e",
    "execution_start": 1642202990028,
    "execution_millis": 927,
    "output_cleared": false,
    "deepnote_cell_type": "code"
   },
   "source": "# create the piecewise linear model\nmy_pwlf = pwlf.PiecewiseLinFit(X_observed[\"Elapsed\"], Y_observed[\"ADF\"])\nbreaks = my_pwlf.fit(3)\nY_pwlf = my_pwlf.predict(X_observed[\"Elapsed\"])\n\n# graphically compare observed data vs piecewise linear model\nmodel_analysis_plot(X_observed[\"Elapsed\"], Y_observed[\"ADF\"], Y_pwlf, \"Piecewise Linear\")",
   "outputs": [
    {
     "data": {
      "text/html": "<html>\n<head><meta charset=\"utf-8\" /></head>\n<body>\n    <div>            <script src=\"https://cdnjs.cloudflare.com/ajax/libs/mathjax/2.7.5/MathJax.js?config=TeX-AMS-MML_SVG\"></script><script type=\"text/javascript\">if (window.MathJax) {MathJax.Hub.Config({SVG: {font: \"STIX-Web\"}});}</script>                <script type=\"text/javascript\">window.PlotlyConfig = {MathJaxConfig: 'local'};</script>\n        <script src=\"https://cdn.plot.ly/plotly-2.6.3.min.js\"></script>                <div id=\"e26136e2-95f9-48f1-b49f-185137b0ce4a\" class=\"plotly-graph-div\" style=\"height:820px; width:900px;\"></div>            <script type=\"text/javascript\">                                    window.PLOTLYENV=window.PLOTLYENV || {};                                    if (document.getElementById(\"e26136e2-95f9-48f1-b49f-185137b0ce4a\")) {                    Plotly.newPlot(                        \"e26136e2-95f9-48f1-b49f-185137b0ce4a\",                        [{\"marker\":{\"color\":\"black\"},\"mode\":\"markers\",\"name\":\"observed\",\"x\":[0.0,0.0,0.0,0.0,0.0,0.0,0.0,0.0,0.0,0.0,0.0,0.0,0.0,0.0,0.0,0.0,0.0,0.0,0.0,0.0,0.0,0.0,0.0,0.0,1.3333333333333333,2.5,2.6666666666666665,2.8333333333333335,4.5,4.833333333333333,5.333333333333333,5.666666666666667,5.666666666666667,6.166666666666667,6.333333333333333,7.166666666666667,8.5,8.5,8.833333333333334,9.5,9.5,10.333333333333334,11.166666666666666,11.5,12.166666666666666,12.333333333333334,12.5,12.5,12.666666666666666,13.333333333333334,14.166666666666666,15.166666666666666,16.833333333333332,17.0,17.166666666666668,17.5,17.666666666666668,18.166666666666668,18.333333333333332,18.333333333333332,18.666666666666668,19.666666666666668,19.833333333333332,19.833333333333332,20.5,21.333333333333332,21.5,21.833333333333332,23.0,23.0,23.0,23.5,23.666666666666668,23.833333333333332,24.833333333333332,25.833333333333332,26.5,26.833333333333332,27.5,27.666666666666668,28.0,28.5,29.166666666666668,29.166666666666668,29.5,31.166666666666668,31.5,31.833333333333332,32.5,32.666666666666664,34.0,34.333333333333336,34.333333333333336,35.0,36.166666666666664,36.166666666666664,36.5,36.666666666666664,37.0,39.333333333333336,39.5,40.333333333333336,41.166666666666664,41.5,41.666666666666664,41.666666666666664,42.333333333333336,42.833333333333336,42.833333333333336,44.166666666666664,44.166666666666664,44.5,44.666666666666664,45.5,45.666666666666664,46.166666666666664,47.166666666666664,47.333333333333336,47.333333333333336,47.833333333333336,48.333333333333336,50.333333333333336,51.666666666666664,52.5,53.166666666666664,56.666666666666664,57.5,58.166666666666664],\"y\":[0.0,0.0,0.0,0.0,0.0,0.0,0.0,0.0,0.0,0.0,0.0,0.0,0.0,0.0,0.0,0.0,0.0,0.0,0.0,0.0,0.0,0.0,0.0,0.0,0.0223582215953176,0.0301938462068515,0.0307731647210882,0.0459978844510821,0.0604566857325729,0.0596779611242106,0.0599509734161445,0.0667077128865893,0.0672140888178861,0.0595602241928952,0.0825717992867786,0.0741148225618676,0.0966849283844374,0.0971003605069372,0.0894288836247458,0.1261833201906278,0.1425661846206085,0.1041079597722495,0.1487716665331323,0.1344364753686321,0.1408764168302725,0.156046606004005,0.1421375789504716,0.142118943601863,0.1408602146740176,0.1629997854680417,0.1860230381090879,0.2078723198761035,0.2009427709113395,0.2148493412766905,0.215152438245073,0.2306102160060342,0.2375980079897265,0.2083482359163622,0.237715852099414,0.2374892254548466,0.2761009344243407,0.2741060067606176,0.2743971418320714,0.2669012943646839,0.281790478740584,0.3115116677393382,0.3412233179880624,0.3112198944315063,0.3122160581239873,0.334018849361981,0.326215768458761,0.3336291001188457,0.3483400996020747,0.2966137095997476,0.3707364834200931,0.3852706769333676,0.3785110832417591,0.4231614803651586,0.422561105963506,0.422957626728213,0.392786921412574,0.4298834938005924,0.4447674853706704,0.4670588256886536,0.4081108200408407,0.4669827835317718,0.4963184493457693,0.4967444412495371,0.5186603112751984,0.4965197504119987,0.5291142221873987,0.5706848263941955,0.4743113058145634,0.5335339989800779,0.5558139882965363,0.5704382084151363,0.5708121332526296,0.555617367031261,0.5636639527487993,0.6079071008183611,0.5932548999472876,0.5486845073370099,0.6076376700392344,0.6226674333168836,0.6076400800300985,0.6669117572315835,0.6297481142003569,0.6521616229714868,0.6767052843739743,0.7113225581130223,0.6445973291937659,0.659609641175336,0.7038355738588946,0.7037504983044229,0.7037167432197976,0.6816666774922246,0.6964310415597054,0.7188079621479982,0.6893879176935135,0.7111961797029452,0.6520089020293791,0.7185576693181012,0.7040528833419251,0.7336727643654494,0.696393460706287,0.7187689638802793,0.6964332922567483,0.7186395669892653],\"type\":\"scatter\",\"xaxis\":\"x\",\"yaxis\":\"y\"},{\"line\":{\"color\":\"red\"},\"mode\":\"lines\",\"name\":\"Piecewise Linear model\",\"x\":[0.0,0.0,0.0,0.0,0.0,0.0,0.0,0.0,0.0,0.0,0.0,0.0,0.0,0.0,0.0,0.0,0.0,0.0,0.0,0.0,0.0,0.0,0.0,0.0,1.3333333333333333,2.5,2.6666666666666665,2.8333333333333335,4.5,4.833333333333333,5.333333333333333,5.666666666666667,5.666666666666667,6.166666666666667,6.333333333333333,7.166666666666667,8.5,8.5,8.833333333333334,9.5,9.5,10.333333333333334,11.166666666666666,11.5,12.166666666666666,12.333333333333334,12.5,12.5,12.666666666666666,13.333333333333334,14.166666666666666,15.166666666666666,16.833333333333332,17.0,17.166666666666668,17.5,17.666666666666668,18.166666666666668,18.333333333333332,18.333333333333332,18.666666666666668,19.666666666666668,19.833333333333332,19.833333333333332,20.5,21.333333333333332,21.5,21.833333333333332,23.0,23.0,23.0,23.5,23.666666666666668,23.833333333333332,24.833333333333332,25.833333333333332,26.5,26.833333333333332,27.5,27.666666666666668,28.0,28.5,29.166666666666668,29.166666666666668,29.5,31.166666666666668,31.5,31.833333333333332,32.5,32.666666666666664,34.0,34.333333333333336,34.333333333333336,35.0,36.166666666666664,36.166666666666664,36.5,36.666666666666664,37.0,39.333333333333336,39.5,40.333333333333336,41.166666666666664,41.5,41.666666666666664,41.666666666666664,42.333333333333336,42.833333333333336,42.833333333333336,44.166666666666664,44.166666666666664,44.5,44.666666666666664,45.5,45.666666666666664,46.166666666666664,47.166666666666664,47.333333333333336,47.333333333333336,47.833333333333336,48.333333333333336,50.333333333333336,51.666666666666664,52.5,53.166666666666664,56.666666666666664,57.5,58.166666666666664],\"y\":[0.0002548125302466068,0.0002548125302466068,0.0002548125302466068,0.0002548125302466068,0.0002548125302466068,0.0002548125302466068,0.0002548125302466068,0.0002548125302466068,0.0002548125302466068,0.0002548125302466068,0.0002548125302466068,0.0002548125302466068,0.0002548125302466068,0.0002548125302466068,0.0002548125302466068,0.0002548125302466068,0.0002548125302466068,0.0002548125302466068,0.0002548125302466068,0.0002548125302466068,0.0002548125302466068,0.0002548125302466068,0.0002548125302466068,0.0002548125302466068,0.01619134349761866,0.030135808094069207,0.032127874464990706,0.034119940835912216,0.05404060454512728,0.05802473728697029,0.06400093639973481,0.06798506914157783,0.06798506914157783,0.07396126825434235,0.07595333462526385,0.08591366647987139,0.10185019744724344,0.10185019744724344,0.10583433018908646,0.11380259567277248,0.11380259567277248,0.12376292752738002,0.13372325938198756,0.13770739212383057,0.1459468697135387,0.14873979642645446,0.1515327231393702,0.1515327231393702,0.15432564985228592,0.16549735670394888,0.17946199026852752,0.19621955054602194,0.22414881767517927,0.22694174438809506,0.2297346711010108,0.23532052452684224,0.238113451239758,0.2464922313785052,0.2492851580914209,0.2492851580914209,0.25487101151725244,0.2716285717947468,0.2744214985076625,0.2744214985076625,0.2855932053593255,0.29955783892390414,0.3023507656368199,0.30793661906265135,0.3274871060530615,0.3274871060530615,0.3274871060530615,0.33586588619180874,0.3386588129047245,0.3414517396176402,0.35820929989513456,0.37496686017262904,0.38613856702429195,0.3917244204501234,0.40289612730178637,0.40568905401470207,0.4112749074405335,0.4196536875792808,0.43082539443094375,0.43082539443094375,0.43641124785677515,0.46434051498593254,0.469926368411764,0.47551222183759545,0.4866839286892584,0.4894768554021741,0.5118202691055,0.5174061225313316,0.5174061225313316,0.5285778293829945,0.5481283163734045,0.5481283163734045,0.553714169799236,0.5565070965121518,0.5620929499379832,0.6011939239188036,0.6039868506317193,0.617951484196298,0.6319161177608766,0.6375019711867081,0.6402948978996238,0.6402948978996238,0.6514666047512868,0.659845384890034,0.659845384890034,0.6821887985933598,0.6821887985933598,0.6877746520191913,0.6905675787321071,0.6956903760191941,0.6959388370130788,0.6966842199947335,0.6981749859580424,0.6984234469519273,0.6984234469519273,0.6991688299335816,0.6999142129152361,0.7028957448418542,0.7048834327929329,0.706125737762357,0.7071195817378964,0.7123372626094777,0.713579567578902,0.7145734115544412],\"type\":\"scatter\",\"xaxis\":\"x\",\"yaxis\":\"y\"},{\"marker\":{\"color\":\"grey\"},\"mode\":\"markers\",\"showlegend\":false,\"x\":[0.0002548125302466068,0.0002548125302466068,0.0002548125302466068,0.0002548125302466068,0.0002548125302466068,0.0002548125302466068,0.0002548125302466068,0.0002548125302466068,0.0002548125302466068,0.0002548125302466068,0.0002548125302466068,0.0002548125302466068,0.0002548125302466068,0.0002548125302466068,0.0002548125302466068,0.0002548125302466068,0.0002548125302466068,0.0002548125302466068,0.0002548125302466068,0.0002548125302466068,0.0002548125302466068,0.0002548125302466068,0.0002548125302466068,0.0002548125302466068,0.01619134349761866,0.030135808094069207,0.032127874464990706,0.034119940835912216,0.05404060454512728,0.05802473728697029,0.06400093639973481,0.06798506914157783,0.06798506914157783,0.07396126825434235,0.07595333462526385,0.08591366647987139,0.10185019744724344,0.10185019744724344,0.10583433018908646,0.11380259567277248,0.11380259567277248,0.12376292752738002,0.13372325938198756,0.13770739212383057,0.1459468697135387,0.14873979642645446,0.1515327231393702,0.1515327231393702,0.15432564985228592,0.16549735670394888,0.17946199026852752,0.19621955054602194,0.22414881767517927,0.22694174438809506,0.2297346711010108,0.23532052452684224,0.238113451239758,0.2464922313785052,0.2492851580914209,0.2492851580914209,0.25487101151725244,0.2716285717947468,0.2744214985076625,0.2744214985076625,0.2855932053593255,0.29955783892390414,0.3023507656368199,0.30793661906265135,0.3274871060530615,0.3274871060530615,0.3274871060530615,0.33586588619180874,0.3386588129047245,0.3414517396176402,0.35820929989513456,0.37496686017262904,0.38613856702429195,0.3917244204501234,0.40289612730178637,0.40568905401470207,0.4112749074405335,0.4196536875792808,0.43082539443094375,0.43082539443094375,0.43641124785677515,0.46434051498593254,0.469926368411764,0.47551222183759545,0.4866839286892584,0.4894768554021741,0.5118202691055,0.5174061225313316,0.5174061225313316,0.5285778293829945,0.5481283163734045,0.5481283163734045,0.553714169799236,0.5565070965121518,0.5620929499379832,0.6011939239188036,0.6039868506317193,0.617951484196298,0.6319161177608766,0.6375019711867081,0.6402948978996238,0.6402948978996238,0.6514666047512868,0.659845384890034,0.659845384890034,0.6821887985933598,0.6821887985933598,0.6877746520191913,0.6905675787321071,0.6956903760191941,0.6959388370130788,0.6966842199947335,0.6981749859580424,0.6984234469519273,0.6984234469519273,0.6991688299335816,0.6999142129152361,0.7028957448418542,0.7048834327929329,0.706125737762357,0.7071195817378964,0.7123372626094777,0.713579567578902,0.7145734115544412],\"y\":[-0.0002548125302466068,-0.0002548125302466068,-0.0002548125302466068,-0.0002548125302466068,-0.0002548125302466068,-0.0002548125302466068,-0.0002548125302466068,-0.0002548125302466068,-0.0002548125302466068,-0.0002548125302466068,-0.0002548125302466068,-0.0002548125302466068,-0.0002548125302466068,-0.0002548125302466068,-0.0002548125302466068,-0.0002548125302466068,-0.0002548125302466068,-0.0002548125302466068,-0.0002548125302466068,-0.0002548125302466068,-0.0002548125302466068,-0.0002548125302466068,-0.0002548125302466068,-0.0002548125302466068,0.00616687809769894,5.803811278229376e-05,-0.0013547097439025046,0.011877943615169882,0.006416081187445619,0.001653223837240314,-0.004049962983590311,-0.0012773562549885237,-0.0007709803236917306,-0.014401044061447148,0.00661846466151475,-0.011798843918003787,-0.005165269062806038,-0.004749836940306243,-0.01640544656434066,0.012380724517855324,0.02876358894783601,-0.019654967755130523,0.01504840715114475,-0.003270916755198472,-0.005070452883266213,0.007306809577550533,-0.009395144188898585,-0.009413779537507189,-0.013465435178268315,-0.0024975712359071867,0.006561047840560386,0.011652769330081553,-0.023206046763839777,-0.012092403111404554,-0.014582232855937821,-0.004710308520808032,-0.0005154432500314998,-0.038143995462143004,-0.011569305992006895,-0.011795932636574302,0.02122992290708825,0.002477434965870773,-2.435667559108623e-05,-0.007520204142978604,-0.003802726618741481,0.011953828815434053,0.038872552351242484,0.0032832753688549765,-0.015271047929074244,0.00653174330891948,-0.0012713375943005367,-0.002236786072963015,0.009681286697350189,-0.044838030017892605,0.012527183524958518,0.010303816760738549,-0.007627483782532862,0.031437059915035204,0.019664978661719623,0.017268572713510955,-0.018487986027959535,0.010229806221311588,0.013942090939726648,0.036233431257709836,-0.028300427815934448,0.002642268545839266,0.026392080934005302,0.021232219411941644,0.03197638258593999,0.007042895009824579,0.017293953081898628,0.05327870386286393,-0.04309481671676818,0.0049561695970834485,0.007685671923131743,0.022309892041731727,0.01709796345339354,-0.0008897294808908329,0.0015710028108161245,0.006713176899557527,-0.010731950684431668,-0.06926697685928807,-0.024278447721642227,-0.014834537869824582,-0.03265481786952529,0.026616859331959675,-0.021718490550929892,-0.007683761918547138,0.016859899483940288,0.02913375951966246,-0.0375914693995939,-0.028165010843855254,0.013267995126787557,0.008060122285228788,0.00777790620671881,-0.015017542502508863,-0.0017439443983370273,0.020384515196070985,-0.009035529258413777,0.012027349769363593,-0.04790531088585703,0.015661924476246925,-0.0008305494510078004,0.027547026603092384,-0.010726121031609304,0.006431701270801615,-0.017146275322153626,0.004066155434824137],\"type\":\"scatter\",\"xaxis\":\"x2\",\"yaxis\":\"y2\"},{\"marker\":{\"color\":\"grey\"},\"mode\":\"markers\",\"showlegend\":false,\"x\":[-2.5490670540424065,-2.2230220857321084,-2.0355567770394214,-1.9004396113231623,-1.7931057035090485,-1.7031682054582498,-1.6252130727127423,-1.5560435498279273,-1.4936072325176053,-1.436504351619784,-1.3837355302003085,-1.3345611481692694,-1.2884177245769561,-1.2448655851675958,-1.2035547081695963,-1.1642016415911864,-1.1265734347091425,-1.0904761647301136,-1.055746562008621,-1.0222457778061365,-0.9898546666166209,-0.9584701602924772,-0.9280024430710901,-0.8983727233897957,-0.8695114567333805,-0.841356913762317,-0.8138540158774273,-0.7869533801580637,-0.7606105298381131,-0.7347852368544591,-0.7094409706552516,-0.684544433167313,-0.660065164130681,-0.6359752042904782,-0.6122488064595354,-0.5888621864216302,-0.5657933071743327,-0.5430216912146234,-0.5205282565254118,-0.49829517268346757,-0.4763057341217113,-0.45454424807372223,-0.43299593513045675,-0.4116468406676574,-0.39048375567208343,-0.36949414571706707,-0.3486660870220999,-0.32798820868433864,-0.3074496402978143,-0.28703996428326223,-0.26674917234153017,-0.2465676255193965,-0.22648601744073307,-0.20649534031020206,-0.18658685334265526,-0.1667520533104126,-0.14698264693366553,-0.1272705248672694,-0.10760773706084528,-0.08798646928901287,-0.06839902066517786,-0.04883778196600555,-0.029295214604827657,-0.009763830101014495,0.009763830101014215,0.02929521460482738,0.04883778196600541,0.06839902066517772,0.08798646928901273,0.10760773706084528,0.1272705248672694,0.14698264693366525,0.16675205331041232,0.18658685334265512,0.20649534031020192,0.22648601744073293,0.24656762551939637,0.26674917234153017,0.28703996428326223,0.307449640297814,0.3279882086843385,0.3486660870220998,0.3694941457170669,0.3904837556720832,0.4116468406676574,0.43299593513045675,0.45454424807372196,0.47630573412171096,0.49829517268346746,0.5205282565254117,0.5430216912146232,0.5657933071743327,0.5888621864216302,0.612248806459535,0.6359752042904777,0.6600651641306808,0.684544433167313,0.7094409706552516,0.7347852368544591,0.7606105298381131,0.7869533801580637,0.8138540158774272,0.8413569137623167,0.8695114567333805,0.8983727233897957,0.9280024430710901,0.9584701602924772,0.9898546666166209,1.022245777806136,1.055746562008621,1.0904761647301133,1.1265734347091425,1.164201641591186,1.2035547081695963,1.2448655851675958,1.288417724576956,1.3345611481692687,1.3837355302003078,1.436504351619784,1.4936072325176053,1.5560435498279273,1.6252130727127423,1.7031682054582498,1.7931057035090479,1.9004396113231619,2.035556777039421,2.2230220857321075,2.5490670540424065],\"y\":[-0.06926697685928807,-0.04790531088585703,-0.044838030017892605,-0.04309481671676818,-0.038143995462143004,-0.0375914693995939,-0.03265481786952529,-0.028300427815934448,-0.028165010843855254,-0.024278447721642227,-0.023206046763839777,-0.021718490550929892,-0.019654967755130523,-0.018487986027959535,-0.017146275322153626,-0.01640544656434066,-0.015271047929074244,-0.015017542502508863,-0.014834537869824582,-0.014582232855937821,-0.014401044061447148,-0.013465435178268315,-0.012092403111404554,-0.011798843918003787,-0.011795932636574302,-0.011569305992006895,-0.010731950684431668,-0.010726121031609304,-0.009413779537507189,-0.009395144188898585,-0.009035529258413777,-0.007683761918547138,-0.007627483782532862,-0.007520204142978604,-0.005165269062806038,-0.005070452883266213,-0.004749836940306243,-0.004710308520808032,-0.004049962983590311,-0.003802726618741481,-0.003270916755198472,-0.0024975712359071867,-0.002236786072963015,-0.0017439443983370273,-0.0013547097439025046,-0.0012773562549885237,-0.0012713375943005367,-0.0008897294808908329,-0.0008305494510078004,-0.0007709803236917306,-0.0005154432500314998,-0.0002548125302466068,-0.0002548125302466068,-0.0002548125302466068,-0.0002548125302466068,-0.0002548125302466068,-0.0002548125302466068,-0.0002548125302466068,-0.0002548125302466068,-0.0002548125302466068,-0.0002548125302466068,-0.0002548125302466068,-0.0002548125302466068,-0.0002548125302466068,-0.0002548125302466068,-0.0002548125302466068,-0.0002548125302466068,-0.0002548125302466068,-0.0002548125302466068,-0.0002548125302466068,-0.0002548125302466068,-0.0002548125302466068,-0.0002548125302466068,-0.0002548125302466068,-0.0002548125302466068,-2.435667559108623e-05,5.803811278229376e-05,0.0015710028108161245,0.001653223837240314,0.002477434965870773,0.002642268545839266,0.0032832753688549765,0.004066155434824137,0.0049561695970834485,0.00616687809769894,0.006416081187445619,0.006431701270801615,0.00653174330891948,0.006561047840560386,0.00661846466151475,0.006713176899557527,0.007042895009824579,0.007306809577550533,0.007685671923131743,0.00777790620671881,0.008060122285228788,0.009681286697350189,0.010229806221311588,0.010303816760738549,0.011652769330081553,0.011877943615169882,0.011953828815434053,0.012027349769363593,0.012380724517855324,0.012527183524958518,0.013267995126787557,0.013942090939726648,0.01504840715114475,0.015661924476246925,0.016859899483940288,0.01709796345339354,0.017268572713510955,0.017293953081898628,0.019664978661719623,0.020384515196070985,0.02122992290708825,0.021232219411941644,0.022309892041731727,0.026392080934005302,0.026616859331959675,0.027547026603092384,0.02876358894783601,0.02913375951966246,0.031437059915035204,0.03197638258593999,0.036233431257709836,0.038872552351242484,0.05327870386286393],\"type\":\"scatter\",\"xaxis\":\"x3\",\"yaxis\":\"y3\"},{\"line\":{\"color\":\"black\"},\"mode\":\"lines\",\"showlegend\":false,\"x\":[-2.5490670540424065,2.5490670540424065],\"y\":[-0.04428295652974369,0.044282956529743775],\"type\":\"scatter\",\"xaxis\":\"x3\",\"yaxis\":\"y3\"}],                        {\"template\":{\"data\":{\"bar\":[{\"error_x\":{\"color\":\"#2a3f5f\"},\"error_y\":{\"color\":\"#2a3f5f\"},\"marker\":{\"line\":{\"color\":\"#E5ECF6\",\"width\":0.5},\"pattern\":{\"fillmode\":\"overlay\",\"size\":10,\"solidity\":0.2}},\"type\":\"bar\"}],\"barpolar\":[{\"marker\":{\"line\":{\"color\":\"#E5ECF6\",\"width\":0.5},\"pattern\":{\"fillmode\":\"overlay\",\"size\":10,\"solidity\":0.2}},\"type\":\"barpolar\"}],\"carpet\":[{\"aaxis\":{\"endlinecolor\":\"#2a3f5f\",\"gridcolor\":\"white\",\"linecolor\":\"white\",\"minorgridcolor\":\"white\",\"startlinecolor\":\"#2a3f5f\"},\"baxis\":{\"endlinecolor\":\"#2a3f5f\",\"gridcolor\":\"white\",\"linecolor\":\"white\",\"minorgridcolor\":\"white\",\"startlinecolor\":\"#2a3f5f\"},\"type\":\"carpet\"}],\"choropleth\":[{\"colorbar\":{\"outlinewidth\":0,\"ticks\":\"\"},\"type\":\"choropleth\"}],\"contour\":[{\"colorbar\":{\"outlinewidth\":0,\"ticks\":\"\"},\"colorscale\":[[0.0,\"#0d0887\"],[0.1111111111111111,\"#46039f\"],[0.2222222222222222,\"#7201a8\"],[0.3333333333333333,\"#9c179e\"],[0.4444444444444444,\"#bd3786\"],[0.5555555555555556,\"#d8576b\"],[0.6666666666666666,\"#ed7953\"],[0.7777777777777778,\"#fb9f3a\"],[0.8888888888888888,\"#fdca26\"],[1.0,\"#f0f921\"]],\"type\":\"contour\"}],\"contourcarpet\":[{\"colorbar\":{\"outlinewidth\":0,\"ticks\":\"\"},\"type\":\"contourcarpet\"}],\"heatmap\":[{\"colorbar\":{\"outlinewidth\":0,\"ticks\":\"\"},\"colorscale\":[[0.0,\"#0d0887\"],[0.1111111111111111,\"#46039f\"],[0.2222222222222222,\"#7201a8\"],[0.3333333333333333,\"#9c179e\"],[0.4444444444444444,\"#bd3786\"],[0.5555555555555556,\"#d8576b\"],[0.6666666666666666,\"#ed7953\"],[0.7777777777777778,\"#fb9f3a\"],[0.8888888888888888,\"#fdca26\"],[1.0,\"#f0f921\"]],\"type\":\"heatmap\"}],\"heatmapgl\":[{\"colorbar\":{\"outlinewidth\":0,\"ticks\":\"\"},\"colorscale\":[[0.0,\"#0d0887\"],[0.1111111111111111,\"#46039f\"],[0.2222222222222222,\"#7201a8\"],[0.3333333333333333,\"#9c179e\"],[0.4444444444444444,\"#bd3786\"],[0.5555555555555556,\"#d8576b\"],[0.6666666666666666,\"#ed7953\"],[0.7777777777777778,\"#fb9f3a\"],[0.8888888888888888,\"#fdca26\"],[1.0,\"#f0f921\"]],\"type\":\"heatmapgl\"}],\"histogram\":[{\"marker\":{\"pattern\":{\"fillmode\":\"overlay\",\"size\":10,\"solidity\":0.2}},\"type\":\"histogram\"}],\"histogram2d\":[{\"colorbar\":{\"outlinewidth\":0,\"ticks\":\"\"},\"colorscale\":[[0.0,\"#0d0887\"],[0.1111111111111111,\"#46039f\"],[0.2222222222222222,\"#7201a8\"],[0.3333333333333333,\"#9c179e\"],[0.4444444444444444,\"#bd3786\"],[0.5555555555555556,\"#d8576b\"],[0.6666666666666666,\"#ed7953\"],[0.7777777777777778,\"#fb9f3a\"],[0.8888888888888888,\"#fdca26\"],[1.0,\"#f0f921\"]],\"type\":\"histogram2d\"}],\"histogram2dcontour\":[{\"colorbar\":{\"outlinewidth\":0,\"ticks\":\"\"},\"colorscale\":[[0.0,\"#0d0887\"],[0.1111111111111111,\"#46039f\"],[0.2222222222222222,\"#7201a8\"],[0.3333333333333333,\"#9c179e\"],[0.4444444444444444,\"#bd3786\"],[0.5555555555555556,\"#d8576b\"],[0.6666666666666666,\"#ed7953\"],[0.7777777777777778,\"#fb9f3a\"],[0.8888888888888888,\"#fdca26\"],[1.0,\"#f0f921\"]],\"type\":\"histogram2dcontour\"}],\"mesh3d\":[{\"colorbar\":{\"outlinewidth\":0,\"ticks\":\"\"},\"type\":\"mesh3d\"}],\"parcoords\":[{\"line\":{\"colorbar\":{\"outlinewidth\":0,\"ticks\":\"\"}},\"type\":\"parcoords\"}],\"pie\":[{\"automargin\":true,\"type\":\"pie\"}],\"scatter\":[{\"marker\":{\"colorbar\":{\"outlinewidth\":0,\"ticks\":\"\"}},\"type\":\"scatter\"}],\"scatter3d\":[{\"line\":{\"colorbar\":{\"outlinewidth\":0,\"ticks\":\"\"}},\"marker\":{\"colorbar\":{\"outlinewidth\":0,\"ticks\":\"\"}},\"type\":\"scatter3d\"}],\"scattercarpet\":[{\"marker\":{\"colorbar\":{\"outlinewidth\":0,\"ticks\":\"\"}},\"type\":\"scattercarpet\"}],\"scattergeo\":[{\"marker\":{\"colorbar\":{\"outlinewidth\":0,\"ticks\":\"\"}},\"type\":\"scattergeo\"}],\"scattergl\":[{\"marker\":{\"colorbar\":{\"outlinewidth\":0,\"ticks\":\"\"}},\"type\":\"scattergl\"}],\"scattermapbox\":[{\"marker\":{\"colorbar\":{\"outlinewidth\":0,\"ticks\":\"\"}},\"type\":\"scattermapbox\"}],\"scatterpolar\":[{\"marker\":{\"colorbar\":{\"outlinewidth\":0,\"ticks\":\"\"}},\"type\":\"scatterpolar\"}],\"scatterpolargl\":[{\"marker\":{\"colorbar\":{\"outlinewidth\":0,\"ticks\":\"\"}},\"type\":\"scatterpolargl\"}],\"scatterternary\":[{\"marker\":{\"colorbar\":{\"outlinewidth\":0,\"ticks\":\"\"}},\"type\":\"scatterternary\"}],\"surface\":[{\"colorbar\":{\"outlinewidth\":0,\"ticks\":\"\"},\"colorscale\":[[0.0,\"#0d0887\"],[0.1111111111111111,\"#46039f\"],[0.2222222222222222,\"#7201a8\"],[0.3333333333333333,\"#9c179e\"],[0.4444444444444444,\"#bd3786\"],[0.5555555555555556,\"#d8576b\"],[0.6666666666666666,\"#ed7953\"],[0.7777777777777778,\"#fb9f3a\"],[0.8888888888888888,\"#fdca26\"],[1.0,\"#f0f921\"]],\"type\":\"surface\"}],\"table\":[{\"cells\":{\"fill\":{\"color\":\"#EBF0F8\"},\"line\":{\"color\":\"white\"}},\"header\":{\"fill\":{\"color\":\"#C8D4E3\"},\"line\":{\"color\":\"white\"}},\"type\":\"table\"}]},\"layout\":{\"annotationdefaults\":{\"arrowcolor\":\"#2a3f5f\",\"arrowhead\":0,\"arrowwidth\":1},\"autotypenumbers\":\"strict\",\"coloraxis\":{\"colorbar\":{\"outlinewidth\":0,\"ticks\":\"\"}},\"colorscale\":{\"diverging\":[[0,\"#8e0152\"],[0.1,\"#c51b7d\"],[0.2,\"#de77ae\"],[0.3,\"#f1b6da\"],[0.4,\"#fde0ef\"],[0.5,\"#f7f7f7\"],[0.6,\"#e6f5d0\"],[0.7,\"#b8e186\"],[0.8,\"#7fbc41\"],[0.9,\"#4d9221\"],[1,\"#276419\"]],\"sequential\":[[0.0,\"#0d0887\"],[0.1111111111111111,\"#46039f\"],[0.2222222222222222,\"#7201a8\"],[0.3333333333333333,\"#9c179e\"],[0.4444444444444444,\"#bd3786\"],[0.5555555555555556,\"#d8576b\"],[0.6666666666666666,\"#ed7953\"],[0.7777777777777778,\"#fb9f3a\"],[0.8888888888888888,\"#fdca26\"],[1.0,\"#f0f921\"]],\"sequentialminus\":[[0.0,\"#0d0887\"],[0.1111111111111111,\"#46039f\"],[0.2222222222222222,\"#7201a8\"],[0.3333333333333333,\"#9c179e\"],[0.4444444444444444,\"#bd3786\"],[0.5555555555555556,\"#d8576b\"],[0.6666666666666666,\"#ed7953\"],[0.7777777777777778,\"#fb9f3a\"],[0.8888888888888888,\"#fdca26\"],[1.0,\"#f0f921\"]]},\"colorway\":[\"#636efa\",\"#EF553B\",\"#00cc96\",\"#ab63fa\",\"#FFA15A\",\"#19d3f3\",\"#FF6692\",\"#B6E880\",\"#FF97FF\",\"#FECB52\"],\"font\":{\"color\":\"#2a3f5f\"},\"geo\":{\"bgcolor\":\"white\",\"lakecolor\":\"white\",\"landcolor\":\"#E5ECF6\",\"showlakes\":true,\"showland\":true,\"subunitcolor\":\"white\"},\"hoverlabel\":{\"align\":\"left\"},\"hovermode\":\"closest\",\"mapbox\":{\"style\":\"light\"},\"paper_bgcolor\":\"white\",\"plot_bgcolor\":\"#E5ECF6\",\"polar\":{\"angularaxis\":{\"gridcolor\":\"white\",\"linecolor\":\"white\",\"ticks\":\"\"},\"bgcolor\":\"#E5ECF6\",\"radialaxis\":{\"gridcolor\":\"white\",\"linecolor\":\"white\",\"ticks\":\"\"}},\"scene\":{\"xaxis\":{\"backgroundcolor\":\"#E5ECF6\",\"gridcolor\":\"white\",\"gridwidth\":2,\"linecolor\":\"white\",\"showbackground\":true,\"ticks\":\"\",\"zerolinecolor\":\"white\"},\"yaxis\":{\"backgroundcolor\":\"#E5ECF6\",\"gridcolor\":\"white\",\"gridwidth\":2,\"linecolor\":\"white\",\"showbackground\":true,\"ticks\":\"\",\"zerolinecolor\":\"white\"},\"zaxis\":{\"backgroundcolor\":\"#E5ECF6\",\"gridcolor\":\"white\",\"gridwidth\":2,\"linecolor\":\"white\",\"showbackground\":true,\"ticks\":\"\",\"zerolinecolor\":\"white\"}},\"shapedefaults\":{\"line\":{\"color\":\"#2a3f5f\"}},\"ternary\":{\"aaxis\":{\"gridcolor\":\"white\",\"linecolor\":\"white\",\"ticks\":\"\"},\"baxis\":{\"gridcolor\":\"white\",\"linecolor\":\"white\",\"ticks\":\"\"},\"bgcolor\":\"#E5ECF6\",\"caxis\":{\"gridcolor\":\"white\",\"linecolor\":\"white\",\"ticks\":\"\"}},\"title\":{\"x\":0.05},\"xaxis\":{\"automargin\":true,\"gridcolor\":\"white\",\"linecolor\":\"white\",\"ticks\":\"\",\"title\":{\"standoff\":15},\"zerolinecolor\":\"white\",\"zerolinewidth\":2},\"yaxis\":{\"automargin\":true,\"gridcolor\":\"white\",\"linecolor\":\"white\",\"ticks\":\"\",\"title\":{\"standoff\":15},\"zerolinecolor\":\"white\",\"zerolinewidth\":2}}},\"xaxis\":{\"anchor\":\"y\",\"domain\":[0.0,1.0],\"title\":{\"text\":\"Fermentation time (hour)\"}},\"yaxis\":{\"anchor\":\"x\",\"domain\":[0.55,1.0],\"title\":{\"text\":\"ADF\"}},\"xaxis2\":{\"anchor\":\"y2\",\"domain\":[0.0,0.485],\"title\":{\"text\":\"Predicted Values\"}},\"yaxis2\":{\"anchor\":\"x2\",\"domain\":[0.0,0.45],\"title\":{\"text\":\"Residuals\"}},\"xaxis3\":{\"anchor\":\"y3\",\"domain\":[0.515,1.0],\"title\":{\"text\":\"Normal Scores\"}},\"yaxis3\":{\"anchor\":\"x3\",\"domain\":[0.0,0.45],\"matches\":\"y2\",\"showticklabels\":false},\"height\":820,\"width\":900},                        {\"responsive\": true}                    ).then(function(){\n                            \nvar gd = document.getElementById('e26136e2-95f9-48f1-b49f-185137b0ce4a');\nvar x = new MutationObserver(function (mutations, observer) {{\n        var display = window.getComputedStyle(gd).display;\n        if (!display || display === 'none') {{\n            console.log([gd, 'removed!']);\n            Plotly.purge(gd);\n            observer.disconnect();\n        }}\n}});\n\n// Listen for the removal of the full notebook cells\nvar notebookContainer = gd.closest('#notebook-container');\nif (notebookContainer) {{\n    x.observe(notebookContainer, {childList: true});\n}}\n\n// Listen for the clearing of the current output cell\nvar outputEl = gd.closest('.output');\nif (outputEl) {{\n    x.observe(outputEl, {childList: true});\n}}\n\n                        })                };                            </script>        </div>\n</body>\n</html>"
     },
     "metadata": {},
     "output_type": "display_data"
    }
   ],
   "execution_count": null
  },
  {
   "cell_type": "markdown",
   "source": "**QUESTIONS:**\n\n1. Which of the models used in this notebook performed the best and why?\n2. Can you think of a different model that would perform better than either of the models used in this notebook?\n3. Are there any trade-offs to using more complex models? If so, what are they?\n4. Rerun this notebook but with beer brand Kerberos (instead of Realtime Hops). You will need to identify bad fermentation IDs and add them to list BAD_FERM_IDS to perform the regressions if need be. You may need to adjust the time range we originally picked, up at the top of the notebook, in order to find a time period that captures brands other than Realtime Hops.  ",
   "metadata": {
    "papermill": {
     "duration": 0.171459,
     "end_time": "2020-08-14T19:30:35.742602",
     "exception": false,
     "start_time": "2020-08-14T19:30:35.571143",
     "status": "completed"
    },
    "tags": [],
    "cell_id": "00050-e1886421-8570-448f-97cc-cd3417aef388",
    "deepnote_cell_type": "markdown"
   }
  },
  {
   "cell_type": "code",
   "metadata": {
    "papermill": {
     "duration": 0.187415,
     "end_time": "2020-08-14T19:30:36.128617",
     "exception": false,
     "start_time": "2020-08-14T19:30:35.941202",
     "status": "completed"
    },
    "tags": [],
    "cell_id": "00051-2a238809-0754-4357-a4ec-06332d9053e6",
    "deepnote_to_be_reexecuted": false,
    "source_hash": "b623e53d",
    "execution_start": 1642202990662,
    "execution_millis": 7,
    "output_cleared": true,
    "deepnote_cell_type": "code"
   },
   "source": "",
   "execution_count": null,
   "outputs": []
  },
  {
   "cell_type": "markdown",
   "source": "<a style='text-decoration:none;line-height:16px;display:flex;color:#5B5B62;padding:10px;justify-content:end;' href='https://deepnote.com?utm_source=created-in-deepnote-cell&projectId=27d58a9b-9aaa-47c5-b041-7e32d6d185a5' target=\"_blank\">\n<img alt='Created in deepnote.com' style='display:inline;max-height:16px;margin:0px;margin-right:7.5px;' src='data:image/svg+xml;base64,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' > </img>\nCreated in <span style='font-weight:600;margin-left:4px;'>Deepnote</span></a>",
   "metadata": {
    "tags": [],
    "created_in_deepnote_cell": true,
    "deepnote_cell_type": "markdown"
   }
  }
 ],
 "nbformat": 4,
 "nbformat_minor": 4,
 "metadata": {
  "kernelspec": {
   "display_name": "Python 3",
   "language": "python",
   "name": "python3"
  },
  "language_info": {
   "codemirror_mode": {
    "name": "ipython",
    "version": 3
   },
   "file_extension": ".py",
   "mimetype": "text/x-python",
   "name": "python",
   "nbconvert_exporter": "python",
   "pygments_lexer": "ipython3",
   "version": "3.7.6"
  },
  "papermill": {
   "duration": 48.142161,
   "end_time": "2020-08-14T19:30:36.845395",
   "environment_variables": {},
   "exception": null,
   "input_path": "../Learning_Modules/NB1_SOLUTION_ADF_Prediction.ipynb",
   "output_path": "./Release/NB1_SOLUTION_ADF_Prediction.ipynb",
   "parameters": {},
   "start_time": "2020-08-14T19:29:48.703234",
   "version": "2.1.2"
  },
  "toc": {
   "base_numbering": 1,
   "nav_menu": {
    "height": "569px",
    "width": "680px"
   },
   "number_sections": false,
   "sideBar": true,
   "skip_h1_title": false,
   "title_cell": "Table of Contents",
   "title_sidebar": "Contents",
   "toc_cell": true,
   "toc_position": {
    "height": "calc(100% - 180px)",
    "left": "10px",
    "top": "150px",
    "width": "236px"
   },
   "toc_section_display": true,
   "toc_window_display": true
  },
  "toc-autonumbering": false,
  "toc-showcode": false,
  "toc-showmarkdowntxt": false,
  "toc-showtags": false,
  "deepnote_notebook_id": "cd3e9c27-ce3e-4a7a-8916-6b7ca8ab316f",
  "deepnote": {},
  "deepnote_execution_queue": []
 }
}