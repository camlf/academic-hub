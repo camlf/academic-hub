{
 "cells": [
  {
   "cell_type": "markdown",
   "source": "<h1>Table of Contents<span class=\"tocSkip\"></span></h1>\n<div class=\"toc\"><ul class=\"toc-item\"><li><span><a href=\"#Introduction-to-Time-Series-Analysis:-Predicting-the-Apparent-Degree-of-Fermentation-(ADF)\" data-toc-modified-id=\"Introduction-to-Time-Series-Analysis:-Predicting-the-Apparent-Degree-of-Fermentation-(ADF)-1\">Introduction to Time-Series Analysis: Predicting the Apparent Degree of Fermentation (ADF)</a></span><ul class=\"toc-item\"><li><span><a href=\"#The-Goal\" data-toc-modified-id=\"The-Goal-1.1\">The Goal</a></span></li><li><span><a href=\"#This-Notebook\" data-toc-modified-id=\"This-Notebook-1.2\">This Notebook</a></span><ul class=\"toc-item\"><li><span><a href=\"#Part-1.-Define-system-parameters\" data-toc-modified-id=\"Part-1.-Define-system-parameters-1.2.1\">Part 1. Define system parameters</a></span></li><li><span><a href=\"#Part-2.-Acquire-brewery-data\" data-toc-modified-id=\"Part-2.-Acquire-brewery-data-1.2.2\">Part 2. Acquire brewery data</a></span></li><li><span><a href=\"#Part-3.-Create-utility-functions-for-visualizing-data\" data-toc-modified-id=\"Part-3.-Create-utility-functions-for-visualizing-data-1.2.3\">Part 3. Create utility functions for visualizing data</a></span></li><li><span><a href=\"#Part-4.-Pre-process-brewery-data\" data-toc-modified-id=\"Part-4.-Pre-process-brewery-data-1.2.4\">Part 4. Pre-process brewery data</a></span></li><li><span><a href=\"#Part-5.-Fitting-and-analysis\" data-toc-modified-id=\"Part-5.-Fitting-and-analysis-1.2.5\">Part 5. Fitting and analysis</a></span></li></ul></li><li><span><a href=\"#Your-task\" data-toc-modified-id=\"Your-task-1.3\">Your task</a></span></li><li><span><a href=\"#Part-1.-Define-system-parameters\" data-toc-modified-id=\"Part-1.-Define-system-parameters-1.4\">Part 1. Define system parameters</a></span></li><li><span><a href=\"#Part-2.-Acquire-data-from-Deschutes-Brewery\" data-toc-modified-id=\"Part-2.-Acquire-data-from-Deschutes-Brewery-1.5\">Part 2. Acquire data from Deschutes Brewery</a></span><ul class=\"toc-item\"><li><span><a href=\"#Part-2b.-Download-data-with-data-views\" data-toc-modified-id=\"Part-2b.-Download-data-with-data-views-1.5.1\">Part 2b. Download data with data views</a></span><ul class=\"toc-item\"><li><span><a href=\"#Find-assets-and-their-predefined-Data-Views\" data-toc-modified-id=\"Find-assets-and-their-predefined-Data-Views-1.5.1.1\">Find assets and their predefined Data Views</a></span></li><li><span><a href=\"#data-view-Structure-for-Fermenter-Vessels\" data-toc-modified-id=\"data-view-Structure-for-Fermenter-Vessels-1.5.1.2\">data view Structure for Fermenter Vessels</a></span></li><li><span><a href=\"#Get-Interpolated-Data-from-Data-View\" data-toc-modified-id=\"Get-Interpolated-Data-from-Data-View-1.5.1.3\">Get Interpolated Data from Data View</a></span></li><li><span><a href=\"#Verify-Data-Ordering-of-Results\" data-toc-modified-id=\"Verify-Data-Ordering-of-Results-1.5.1.4\">Verify Data Ordering of Results</a></span></li></ul></li></ul></li><li><span><a href=\"#Part-3.-Create-utility-functions-for-visualizing-data\" data-toc-modified-id=\"Part-3.-Create-utility-functions-for-visualizing-data-1.6\">Part 3. Create utility functions for visualizing data</a></span><ul class=\"toc-item\"><li><span><a href=\"#Part-3a.-Function-for-previewing-data\" data-toc-modified-id=\"Part-3a.-Function-for-previewing-data-1.6.1\">Part 3a. Function for previewing data</a></span></li><li><span><a href=\"#Part-3b.-Function-for-plotting-fit-and-normality\" data-toc-modified-id=\"Part-3b.-Function-for-plotting-fit-and-normality-1.6.2\">Part 3b. Function for plotting fit and normality</a></span></li></ul></li><li><span><a href=\"#Part-4.-Pre-process-brewery-data\" data-toc-modified-id=\"Part-4.-Pre-process-brewery-data-1.7\">Part 4. Pre-process brewery data</a></span><ul class=\"toc-item\"><li><span><a href=\"#Part-4a.-Filter-out-data-with-known-bad-values\" data-toc-modified-id=\"Part-4a.-Filter-out-data-with-known-bad-values-1.7.1\">Part 4a. Filter out data with known bad values</a></span></li><li><span><a href=\"#Part-4b.-Preview-raw-ADF-profile\" data-toc-modified-id=\"Part-4b.-Preview-raw-ADF-profile-1.7.2\">Part 4b. Preview raw ADF profile</a></span></li><li><span><a href=\"#Part-4c.-Create-smoothed-ADF-profile\" data-toc-modified-id=\"Part-4c.-Create-smoothed-ADF-profile-1.7.3\">Part 4c. Create smoothed ADF profile</a></span></li><li><span><a href=\"#Part-4d.-Preview-smooth-ADF-profile\" data-toc-modified-id=\"Part-4d.-Preview-smooth-ADF-profile-1.7.4\">Part 4d. Preview smooth ADF profile</a></span></li></ul></li><li><span><a href=\"#Part-5.-Fitting-and-analysis\" data-toc-modified-id=\"Part-5.-Fitting-and-analysis-1.8\">Part 5. Fitting and analysis</a></span><ul class=\"toc-item\"><li><span><a href=\"#Part-5a.-Fitting-to-a-linear-model\" data-toc-modified-id=\"Part-5a.-Fitting-to-a-linear-model-1.8.1\">Part 5a. Fitting to a linear model</a></span></li><li><span><a href=\"#Part-5b.-Fitting-to-a-piecewise-linear-model\" data-toc-modified-id=\"Part-5b.-Fitting-to-a-piecewise-linear-model-1.8.2\">Part 5b. Fitting to a piecewise linear model</a></span></li></ul></li></ul></li></ul></div>",
   "metadata": {
    "papermill": {
     "duration": 0.022603,
     "end_time": "2020-08-14T19:29:49.535741",
     "exception": false,
     "start_time": "2020-08-14T19:29:49.513138",
     "status": "completed"
    },
    "tags": [],
    "toc": true,
    "cell_id": "00000-30da5dc0-5699-44a4-8f32-34f330601aef",
    "deepnote_cell_type": "markdown"
   }
  },
  {
   "cell_type": "markdown",
   "source": "---\n---\n**Professor/TA Section Only**\n\nThe present notebook is a SOLUTION notebook with identified code blocks students should fill in. All student code blocks have the following format:\n\n    # we are only interested in events in status=\"Fermentation\"\n    # TODO: complete the filter expression to keep only data corresponding to the fermentation stages\n    # =========== STUDENT BEGIN ==========\n    # brand_df = brand_df[@@@ Your code here @@@]\n    # =========== STUDENT END ==========\n    brand_df = brand_df[brand_df[\"Status\"] == \"Fermentation\"]\n    # =========== STUDENT SOLUTION ===========\n      \n* A sequence of STUDENT BEGIN / STUDENT END / STUDENT SOLUTION keyword lines\n* All lines between BEGIN / END are commented out with missing pieces clearly identified\n* The SOLUTION part should not be commented out\n\nIf you follow the rules above, executing the cell below produces a fresh exercise notebook using `generate_exercise_notebook` where the exercise notebook has the following changes:\n\n* This cell and the next one are removed\n* The notebook filename is the same as this one except \"SOLUTION\" => \"EXERCISE\"\n* Solution lines are stripped out and lines of code between BEGIN / END have the comment character # removed\n\nThe EXERCISE notebook is executable up to the point of the first student code block where a syntax error will be reported. \n\n**Uncomment line `generate_exercise_notebook` to write/update the exercise notebook.** ",
   "metadata": {
    "papermill": {
     "duration": 0.022769,
     "end_time": "2020-08-14T19:29:49.582215",
     "exception": false,
     "start_time": "2020-08-14T19:29:49.559446",
     "status": "completed"
    },
    "tags": [],
    "toc-hr-collapsed": false,
    "cell_id": "00001-0e6fec5c-7d9b-42f4-8ae4-f2b22f897836",
    "deepnote_cell_type": "markdown"
   }
  },
  {
   "cell_type": "code",
   "metadata": {
    "execution": {
     "iopub.execute_input": "2020-08-14T19:29:49.634245Z",
     "iopub.status.busy": "2020-08-14T19:29:49.633379Z",
     "iopub.status.idle": "2020-08-14T19:29:55.497609Z",
     "shell.execute_reply": "2020-08-14T19:29:55.496748Z"
    },
    "papermill": {
     "duration": 5.891614,
     "end_time": "2020-08-14T19:29:55.497783",
     "exception": false,
     "start_time": "2020-08-14T19:29:49.606169",
     "status": "completed"
    },
    "tags": [],
    "toc-hr-collapsed": false,
    "cell_id": "00002-d25a05ac-2306-442b-acf8-a5c91fc0d822",
    "deepnote_to_be_reexecuted": false,
    "source_hash": "9f98ca6f",
    "execution_start": 1642202295748,
    "execution_millis": 741,
    "output_cleared": true,
    "deepnote_cell_type": "code"
   },
   "source": "#!pip uninstall -y ocs-academic-hub ocs-sample-library-preview\n\nimport os\ntry:\n    import ocs_academic_hub\nexcept ModuleNotFoundError:\n    !pip install ocs-academic-hub==0.99.38\n\nfrom ocs_academic_hub.learning import generate_exercise_notebook\n\ngenerate_exercise_notebook(os.environ.get(\"NB_SOURCE\", \"NB1_SOLUTION_ADF_Prediction.ipynb\"))",
   "execution_count": 1,
   "outputs": []
  },
  {
   "cell_type": "markdown",
   "source": "---\n# Introduction to Time-Series Analysis: Predicting the Apparent Degree of Fermentation (ADF)\n---\nThe Apparent Degree of Fermentation (ADF) is one of the critical parameters monitored during the beer manufacturing processes. Deschutes Brewery previously obtained the ADF values based on the manual sampling of the specific gravity. The specific gravity is the relative density of the solution to the water density. Given the specific gravity, ADF is calculated as follows:\n\n$$\\text{Apparent Degree of Fermentaion} = \\frac{\\text{Starting Specific  Gravity - Current Specific Gravity}} {\\text{Starting Specific Gravity - 1}}$$\n \nThe ADF is a crucial index when determining the transition point from the \"Fermentation\" phase to the \"Free Rise\" phase. The brewery should have the capability to detect the transition point to maintain consistent beer quality and release the product on time.\n\nThe ADF can be measured either manually or with an automated ADF sensor. Using an automated ADF sensor requires a high capital investment. The manual sampling of ADF on the other hand is affordable but laborious. \n\nHowever, the brewery can enhance manual measurements of ADF by using them to create a predictive model. By creating such  predictive models, Deschutes Brewery saved $750k in capital investments by opting out of automated ADF sensors and reducing the operation time by being able to predict transition points.\n\nIn this notebook, students will use real process data from Deschutes Brewery to create and evalutate models for predicting the ADF.\n\nFirst, make sure that all required libraries are installed.",
   "metadata": {
    "papermill": {
     "duration": 0.030333,
     "end_time": "2020-08-14T19:29:55.558713",
     "exception": false,
     "start_time": "2020-08-14T19:29:55.528380",
     "status": "completed"
    },
    "tags": [],
    "toc-hr-collapsed": false,
    "cell_id": "00003-75851853-2693-4c08-ad33-da60c2e9c0dc",
    "deepnote_cell_type": "markdown"
   }
  },
  {
   "cell_type": "code",
   "metadata": {
    "execution": {
     "iopub.execute_input": "2020-08-14T19:29:55.669940Z",
     "iopub.status.busy": "2020-08-14T19:29:55.669109Z",
     "iopub.status.idle": "2020-08-14T19:30:01.197214Z",
     "shell.execute_reply": "2020-08-14T19:30:01.196272Z"
    },
    "papermill": {
     "duration": 5.587341,
     "end_time": "2020-08-14T19:30:01.197364",
     "exception": false,
     "start_time": "2020-08-14T19:29:55.610023",
     "status": "completed"
    },
    "tags": [],
    "cell_id": "00004-d65620c2-6743-405d-985f-1995e499da53",
    "deepnote_to_be_reexecuted": false,
    "source_hash": "b8da7d23",
    "execution_start": 1642202296492,
    "execution_millis": 5056,
    "output_cleared": true,
    "deepnote_cell_type": "code"
   },
   "source": "try:\n    import ocs_academic_hub\nexcept ModuleNotFoundError:\n    !pip install ocs-academic-hub==0.99.38\n    import ocs_academic_hub\n    \n# install piecewise linear functions for fitting        \n!pip install plotly_express pwlf sklearn",
   "execution_count": 2,
   "outputs": []
  },
  {
   "cell_type": "markdown",
   "source": "Then import all the required libraries and packages.",
   "metadata": {
    "papermill": {
     "duration": 0.028122,
     "end_time": "2020-08-14T19:30:01.252802",
     "exception": false,
     "start_time": "2020-08-14T19:30:01.224680",
     "status": "completed"
    },
    "tags": [],
    "cell_id": "00005-87bb7224-52ba-4856-9d1c-2c984894acda",
    "deepnote_cell_type": "markdown"
   }
  },
  {
   "cell_type": "code",
   "metadata": {
    "execution": {
     "iopub.execute_input": "2020-08-14T19:30:01.310761Z",
     "iopub.status.busy": "2020-08-14T19:30:01.309906Z",
     "iopub.status.idle": "2020-08-14T19:30:01.864617Z",
     "shell.execute_reply": "2020-08-14T19:30:01.865235Z"
    },
    "papermill": {
     "duration": 0.584912,
     "end_time": "2020-08-14T19:30:01.865410",
     "exception": false,
     "start_time": "2020-08-14T19:30:01.280498",
     "status": "completed"
    },
    "tags": [],
    "cell_id": "00006-0953098f-71dc-43e0-a8bc-8e4e684042cf",
    "deepnote_to_be_reexecuted": false,
    "source_hash": "748c5e67",
    "execution_start": 1642202301562,
    "execution_millis": 1038,
    "output_cleared": true,
    "deepnote_cell_type": "code"
   },
   "source": "# Academic Hub module\nfrom ocs_academic_hub.datahub import hub_login\n\n# For OCS configuration and data manipulation\nimport configparser\nfrom dateutil import parser\nimport datetime as dt\nfrom datetime import datetime, timedelta\n\n# packages for plotting\nfrom plotly.subplots import make_subplots\nimport plotly.graph_objs as go\n\n# analysis packages\nimport pandas as pd\nfrom scipy import stats\nfrom sklearn import linear_model\nimport numpy as np\nimport pwlf \n\nprint(\"Required libraries and packages imported.\") ",
   "execution_count": 3,
   "outputs": []
  },
  {
   "cell_type": "markdown",
   "source": "---\n## The Goal\nThe Apparent Degree of Fermentation or ADF is an important indicator of the status of the fermentation. It indicates how much sugar has been converted into alcohol and could be used to predict transitions from the \"Fermentation\" phase to the \"Free Rise\" phase.\n\nThe ADF is computed from the specific gravity. However, the specific gravity is measured manually through a laborious process which is also performed intermittently.\n\n**In this notebook, we'll use real process data from Deschutes Brewery to create and evaluate predictive models for ADF.**\n\nSuch models could be used to reduce operation time by predicting transitions in the brewery process, thus augmenting the value of manual ADF measurements and reducing the need for making costly capital investments like automated sensors.",
   "metadata": {
    "papermill": {
     "duration": 0.0528,
     "end_time": "2020-08-14T19:30:02.037641",
     "exception": false,
     "start_time": "2020-08-14T19:30:01.984841",
     "status": "completed"
    },
    "tags": [],
    "cell_id": "00007-a6cad780-97ef-4fc4-8c15-3b1482b6a64e",
    "deepnote_cell_type": "markdown"
   }
  },
  {
   "cell_type": "markdown",
   "source": "---\n## This Notebook\n\n### Part 1. Define system parameters\nUser specifies time period, time granularity, fermentor vessels, brand of interest, and other parameters.\n\n### Part 2. Acquire brewery data\nUse OSIsoft Cloud Services (OCS) to obtain real process data from Deschutes Brewery ([2a](#section_2a)) and store it into a dataframe ([2b](#section_2b)).\n\n### Part 3. Create utility functions for visualizing data\nCreate functions for previewing the ADF profile ([3a](#section_3a)); and plotting the ADF prediction model, residuals, and normality tests ([3b](#section_3b)).\n\n### Part 4. Pre-process brewery data\nPre-process the brewery data before fitting and analysis. Remove obviously bad data points and unnecessary attributes ([4a](#section_4a)); identify fermentation batches and compute the duration of fermentation ([4c](#section_4c)); manually remove emergent outliers ([4e](#section_4e)).\n\n### Part 5. Fitting and analysis\nFit the cleaned up data frame to a linear model ([5a](#section_5a)) and then to a piecewise linear model ([5b](#section_5b)). Evaluate and compare the model fits.",
   "metadata": {
    "papermill": {
     "duration": 0.044587,
     "end_time": "2020-08-14T19:30:02.144342",
     "exception": false,
     "start_time": "2020-08-14T19:30:02.099755",
     "status": "completed"
    },
    "tags": [],
    "cell_id": "00008-5283c825-2af4-4436-81ac-ac9e54fd12e6",
    "deepnote_cell_type": "markdown"
   }
  },
  {
   "cell_type": "markdown",
   "source": "---\n## Your task\nSome cells in [Part 4](#section_4) have missing code and contain `TODO` items in comments. \n\nFill in all the missing code to obtain a working notebook. If the notebook runs as intended, one should obtain the following plot for the analysis of the linear model in [Part 5a](#section_5a) and an analogous plot for the piecewise linear fit in [Part 5b](#section_5b):\n\n![](https://academichub.blob.core.windows.net/images/nb1_linear_reg_v1.png)",
   "metadata": {
    "papermill": {
     "duration": 0.04984,
     "end_time": "2020-08-14T19:30:02.256535",
     "exception": false,
     "start_time": "2020-08-14T19:30:02.206695",
     "status": "completed"
    },
    "tags": [],
    "cell_id": "00009-4c2206a0-030b-4e73-bfaf-62bce6c6b683",
    "deepnote_cell_type": "markdown"
   }
  },
  {
   "cell_type": "markdown",
   "source": "---\n## Part 1. Define system parameters\n<a id='section_1'></a>\nUser specifies time period, time granularity, fermentor vessels and brand of interest.",
   "metadata": {
    "papermill": {
     "duration": 0.14052,
     "end_time": "2020-08-14T19:30:02.456581",
     "exception": false,
     "start_time": "2020-08-14T19:30:02.316061",
     "status": "completed"
    },
    "tags": [],
    "cell_id": "00010-bb6d219b-2c02-4fea-a637-001a46fe51a4",
    "deepnote_cell_type": "markdown"
   }
  },
  {
   "cell_type": "code",
   "metadata": {
    "execution": {
     "iopub.execute_input": "2020-08-14T19:30:02.716854Z",
     "iopub.status.busy": "2020-08-14T19:30:02.710674Z",
     "iopub.status.idle": "2020-08-14T19:30:02.719344Z",
     "shell.execute_reply": "2020-08-14T19:30:02.717642Z"
    },
    "papermill": {
     "duration": 0.135365,
     "end_time": "2020-08-14T19:30:02.719509",
     "exception": false,
     "start_time": "2020-08-14T19:30:02.584144",
     "status": "completed"
    },
    "tags": [],
    "cell_id": "00011-81e86964-d499-43db-bd65-179756f9e802",
    "deepnote_to_be_reexecuted": false,
    "source_hash": "2924b568",
    "execution_start": 1642202302604,
    "execution_millis": 4,
    "output_cleared": true,
    "deepnote_cell_type": "code"
   },
   "source": "# relevant days over which to analyze fermentors\nTRAINING_DAYS = 365\n\n# time period in which to analyze fermentation data\nSTART_INDEX = \"2017-01-11T00:00\"\nEND_INDEX = (parser.parse(START_INDEX) + dt.timedelta(days=TRAINING_DAYS)).isoformat()\nprint(f\"# Date range: from {START_INDEX} to {END_INDEX}\")\n\n# define time granularity for data. in this case, get events at 10 minute intervals\nINDEX_INTERVAL = \"00:10:00\"\n\n# brand of interest\nBRAND_OF_INTEREST = \"Realtime Hops\"  # \"Kerberos\"  \n\n\n# (Optional) List of known bad Fermentation IDs to remove from data\nBAD_FERM_IDS = []  # e.g. [\"FV31_20170209\"]",
   "execution_count": 4,
   "outputs": []
  },
  {
   "cell_type": "markdown",
   "source": "---\n## Part 2. Acquire data from Deschutes Brewery\n<a id='section_2'></a>\n\n---\n**Execute the cell below and ollow the indicated steps to log in (and AVEVA banner would show up)** ",
   "metadata": {
    "papermill": {
     "duration": 0.036198,
     "end_time": "2020-08-14T19:30:02.811132",
     "exception": false,
     "start_time": "2020-08-14T19:30:02.774934",
     "status": "completed"
    },
    "tags": [],
    "toc-hr-collapsed": false,
    "cell_id": "00012-2946fa3b-d77d-4283-9ac3-551e53a84cf6",
    "deepnote_cell_type": "markdown"
   }
  },
  {
   "cell_type": "code",
   "source": "widget, hub_client = hub_login()\nwidget",
   "metadata": {
    "cell_id": "93fd22d0-b0c8-433e-a7df-b3308bbb8732",
    "tags": [],
    "deepnote_to_be_reexecuted": false,
    "source_hash": "4fb18ac1",
    "execution_start": 1642202302611,
    "execution_millis": 1830,
    "deepnote_output_heights": [
     2,
     2
    ],
    "output_cleared": true,
    "deepnote_cell_type": "code"
   },
   "outputs": [],
   "execution_count": 5
  },
  {
   "cell_type": "markdown",
   "source": "Variable `namespace_id` is initialized with the OCS namespace hosting the Deschutes dataset. ",
   "metadata": {
    "cell_id": "fd9e41ab-6a3d-4553-847b-ca3b282dbc4a",
    "tags": [],
    "deepnote_cell_type": "markdown"
   }
  },
  {
   "cell_type": "code",
   "metadata": {
    "execution": {
     "iopub.execute_input": "2020-08-14T19:30:02.932938Z",
     "iopub.status.busy": "2020-08-14T19:30:02.931878Z",
     "iopub.status.idle": "2020-08-14T19:30:03.116519Z",
     "shell.execute_reply": "2020-08-14T19:30:03.120587Z"
    },
    "papermill": {
     "duration": 0.257867,
     "end_time": "2020-08-14T19:30:03.120851",
     "exception": false,
     "start_time": "2020-08-14T19:30:02.862984",
     "status": "completed"
    },
    "tags": [],
    "cell_id": "00013-152843b5-6a8a-444e-939c-687d423cf1b6",
    "deepnote_to_be_reexecuted": false,
    "source_hash": "3af7670e",
    "execution_start": 1642202304445,
    "execution_millis": 11,
    "output_cleared": true,
    "deepnote_cell_type": "code"
   },
   "source": "dataset = hub_client.current_dataset()\nnamespace_id = hub_client.namespace_of(dataset)\nprint(f\"Current dataset is {dataset} in namespace_id: {namespace_id}\")",
   "execution_count": 6,
   "outputs": []
  },
  {
   "cell_type": "markdown",
   "source": "### Part 2b. Download data with data views \n<a id='section_2b'></a>\n\nThe Deschutes dataset is equipped with a set of pre-defined data views to easily extract data related to one asset or more. In this notebook the data of interest is coming from fermenter vessels. The convention for fermenter vessels in this dataset is to have an Asset ID of the format `FV<num>` where `<num>` is a 2 digit number. \nfermenter vessel or more. Each data view is identified by a unique identifier (ID) to be provided when making a requests to get actual data from it. ",
   "metadata": {
    "papermill": {
     "duration": 0.047439,
     "end_time": "2020-08-14T19:30:03.217180",
     "exception": false,
     "start_time": "2020-08-14T19:30:03.169741",
     "status": "completed"
    },
    "tags": [],
    "cell_id": "00014-44179d90-be66-4974-b472-ef88660ad51a",
    "deepnote_cell_type": "markdown"
   }
  },
  {
   "cell_type": "markdown",
   "source": "#### Find assets and their predefined Data Views \n\nFirst to get a list of assets based on a filter, here for fermentation vessel with ID 3x: ",
   "metadata": {
    "papermill": {
     "duration": 0.026625,
     "end_time": "2020-08-14T19:30:03.271967",
     "exception": false,
     "start_time": "2020-08-14T19:30:03.245342",
     "status": "completed"
    },
    "tags": [],
    "cell_id": "00015-041dc604-27f4-4185-b569-cdce4f634eca",
    "deepnote_cell_type": "markdown"
   }
  },
  {
   "cell_type": "code",
   "metadata": {
    "execution": {
     "iopub.execute_input": "2020-08-14T19:30:03.367407Z",
     "iopub.status.busy": "2020-08-14T19:30:03.366415Z",
     "iopub.status.idle": "2020-08-14T19:30:03.375649Z",
     "shell.execute_reply": "2020-08-14T19:30:03.375127Z"
    },
    "papermill": {
     "duration": 0.078515,
     "end_time": "2020-08-14T19:30:03.375760",
     "exception": false,
     "start_time": "2020-08-14T19:30:03.297245",
     "status": "completed"
    },
    "tags": [],
    "cell_id": "00016-88bffefd-a144-48c1-aebe-02854ec2e2cd",
    "deepnote_output_heights": [
     293
    ],
    "deepnote_to_be_reexecuted": false,
    "source_hash": "b382f9e4",
    "execution_start": 1642202304461,
    "execution_millis": 126,
    "output_cleared": true,
    "deepnote_cell_type": "code"
   },
   "source": "hub_client.assets(filter=\"FV3\")",
   "execution_count": 7,
   "outputs": []
  },
  {
   "cell_type": "markdown",
   "source": "To get the list of pre-defined multi-asset (with `multiple_asset=True`) data views for \"ADF\" analysis. We'll see below the actual definition of this data view. ",
   "metadata": {
    "papermill": {
     "duration": 0.031937,
     "end_time": "2020-08-14T19:30:03.437149",
     "exception": false,
     "start_time": "2020-08-14T19:30:03.405212",
     "status": "completed"
    },
    "tags": [],
    "cell_id": "00017-b872e9c4-e228-4d4e-a13a-d303fb12ff0e",
    "deepnote_cell_type": "markdown"
   }
  },
  {
   "cell_type": "code",
   "metadata": {
    "execution": {
     "iopub.execute_input": "2020-08-14T19:30:03.517034Z",
     "iopub.status.busy": "2020-08-14T19:30:03.516387Z",
     "iopub.status.idle": "2020-08-14T19:30:03.522605Z",
     "shell.execute_reply": "2020-08-14T19:30:03.522107Z"
    },
    "papermill": {
     "duration": 0.052241,
     "end_time": "2020-08-14T19:30:03.522731",
     "exception": false,
     "start_time": "2020-08-14T19:30:03.470490",
     "status": "completed"
    },
    "tags": [],
    "cell_id": "00018-65b41dc8-3fa5-4170-a728-1df6a326c590",
    "deepnote_output_heights": [
     21.1875
    ],
    "deepnote_to_be_reexecuted": false,
    "source_hash": "12afaf60",
    "execution_start": 1642202304576,
    "execution_millis": 12,
    "output_cleared": true,
    "deepnote_cell_type": "code"
   },
   "source": "# Get the list of data view IDs\ndv_ids = hub_client.asset_dataviews(asset=\"FV31\", filter=\"adf\", multiple_asset=True)\ndv_ids",
   "execution_count": 8,
   "outputs": []
  },
  {
   "cell_type": "markdown",
   "source": "---\n#### data view Structure for Fermenter Vessels\n\nEach data view has a set of columns which can be one of the follwowing types: \n\n* Float for numerical data\n* Timestamp for date/time data \n* Integer \n* String \n* Category (digital states)  \n\nThe method `dataview_definition` returns a dataframe with a data view structure represented by the following columns:\n\n* `Asset_Id`: asset identification attached to the row\n* `Column_Name`: name of the column in the result dataframe\n* `Stream_Type`: data type of the values in the column\n* `Stream_UOM`: declared unit of measure for the column\n* `OCS_Stream_Name`: actual OCS stream providing data for this column",
   "metadata": {
    "papermill": {
     "duration": 0.02916,
     "end_time": "2020-08-14T19:30:03.583291",
     "exception": false,
     "start_time": "2020-08-14T19:30:03.554131",
     "status": "completed"
    },
    "tags": [],
    "cell_id": "00019-c4e4962e-fa5e-4252-9808-81cecebda393",
    "deepnote_cell_type": "markdown"
   }
  },
  {
   "cell_type": "code",
   "metadata": {
    "execution": {
     "iopub.execute_input": "2020-08-14T19:30:03.675045Z",
     "iopub.status.busy": "2020-08-14T19:30:03.674272Z",
     "iopub.status.idle": "2020-08-14T19:30:04.172863Z",
     "shell.execute_reply": "2020-08-14T19:30:04.172173Z"
    },
    "papermill": {
     "duration": 0.546317,
     "end_time": "2020-08-14T19:30:04.173028",
     "exception": false,
     "start_time": "2020-08-14T19:30:03.626711",
     "status": "completed"
    },
    "tags": [],
    "cell_id": "00020-14474d77-7502-488c-b639-9ebe84f10752",
    "deepnote_to_be_reexecuted": false,
    "source_hash": "58636a98",
    "execution_start": 1642202304577,
    "execution_millis": 556,
    "output_cleared": true,
    "deepnote_cell_type": "code"
   },
   "source": "# The data view here is a multi-asset one\nprint(hub_client.dataview_definition(namespace_id, dv_ids[0]).to_string(index=False))",
   "execution_count": 9,
   "outputs": []
  },
  {
   "cell_type": "markdown",
   "source": "---\n#### Get Interpolated Data from Data View\n\nTo use a data view one needs:\n\n* namespace hosting the data view\n* its ID\n* start time (also called index since OCS supports non-time indexes)\n* end time\n* interval (of interpolation)\n\nData views return data into CSV (Comma Separated Values) format. The Academic Hub module provides utility functions like `dataviews_interpolated_pd` that returns a ready-to-use Panda dataframe built from those CSVs. Each row starts with a timestamp, followed by the Asset ID of the asset to which the remaining data view result row belong to. \n\n**Note: it may take up to 30 seconds to complete depending on the speed of your connection and computer** ",
   "metadata": {
    "papermill": {
     "duration": 0.035404,
     "end_time": "2020-08-14T19:30:04.244057",
     "exception": false,
     "start_time": "2020-08-14T19:30:04.208653",
     "status": "completed"
    },
    "tags": [],
    "cell_id": "00021-fd8b4f75-e14e-4a16-9b9a-a7d8f4e282a3",
    "deepnote_cell_type": "markdown"
   }
  },
  {
   "cell_type": "code",
   "metadata": {
    "execution": {
     "iopub.execute_input": "2020-08-14T19:30:04.324323Z",
     "iopub.status.busy": "2020-08-14T19:30:04.322932Z",
     "iopub.status.idle": "2020-08-14T19:30:16.930406Z",
     "shell.execute_reply": "2020-08-14T19:30:16.930864Z"
    },
    "papermill": {
     "duration": 12.658391,
     "end_time": "2020-08-14T19:30:16.931008",
     "exception": false,
     "start_time": "2020-08-14T19:30:04.272617",
     "status": "completed"
    },
    "tags": [],
    "cell_id": "00022-83448dbd-5167-4969-b59b-d6ee8fa30ea0",
    "deepnote_to_be_reexecuted": false,
    "source_hash": "b37503f3",
    "execution_start": 1642202305135,
    "execution_millis": 24955,
    "output_cleared": true,
    "deepnote_cell_type": "code"
   },
   "source": "all_brands_df = hub_client.dataview_interpolated_pd(\n    namespace_id, dv_ids[0], START_INDEX, END_INDEX, INDEX_INTERVAL\n)",
   "execution_count": 10,
   "outputs": []
  },
  {
   "cell_type": "code",
   "metadata": {
    "execution": {
     "iopub.execute_input": "2020-08-14T19:30:17.017627Z",
     "iopub.status.busy": "2020-08-14T19:30:17.016974Z",
     "iopub.status.idle": "2020-08-14T19:30:17.075951Z",
     "shell.execute_reply": "2020-08-14T19:30:17.076793Z"
    },
    "papermill": {
     "duration": 0.110035,
     "end_time": "2020-08-14T19:30:17.077110",
     "exception": false,
     "start_time": "2020-08-14T19:30:16.967075",
     "status": "completed"
    },
    "tags": [],
    "cell_id": "00023-6f10f230-6ec0-45fb-b910-8ff1fc6780e1",
    "deepnote_to_be_reexecuted": false,
    "source_hash": "c3b98540",
    "execution_start": 1642202330092,
    "execution_millis": 114,
    "output_cleared": true,
    "deepnote_cell_type": "code"
   },
   "source": "# summary information about the dataframe\nall_brands_df.info()",
   "execution_count": 11,
   "outputs": []
  },
  {
   "cell_type": "code",
   "metadata": {
    "execution": {
     "iopub.execute_input": "2020-08-14T19:30:17.170355Z",
     "iopub.status.busy": "2020-08-14T19:30:17.169514Z",
     "iopub.status.idle": "2020-08-14T19:30:17.179483Z",
     "shell.execute_reply": "2020-08-14T19:30:17.179993Z"
    },
    "papermill": {
     "duration": 0.05682,
     "end_time": "2020-08-14T19:30:17.180122",
     "exception": false,
     "start_time": "2020-08-14T19:30:17.123302",
     "status": "completed"
    },
    "tags": [],
    "cell_id": "00024-be97366f-28ac-4fc0-9487-a54133e2a67f",
    "deepnote_output_heights": [
     177
    ],
    "deepnote_to_be_reexecuted": false,
    "source_hash": "7d698cdc",
    "execution_start": 1642202330209,
    "execution_millis": 80,
    "output_cleared": true,
    "deepnote_cell_type": "code"
   },
   "source": "# check the first five rows \nall_brands_df.head()",
   "execution_count": 12,
   "outputs": []
  },
  {
   "cell_type": "code",
   "metadata": {
    "execution": {
     "iopub.execute_input": "2020-08-14T19:30:17.282633Z",
     "iopub.status.busy": "2020-08-14T19:30:17.281707Z",
     "iopub.status.idle": "2020-08-14T19:30:17.293378Z",
     "shell.execute_reply": "2020-08-14T19:30:17.293749Z"
    },
    "papermill": {
     "duration": 0.069554,
     "end_time": "2020-08-14T19:30:17.293878",
     "exception": false,
     "start_time": "2020-08-14T19:30:17.224324",
     "status": "completed"
    },
    "tags": [],
    "cell_id": "00025-8f2affc6-1464-4c47-bb07-2cbedb778efd",
    "deepnote_output_heights": [
     270.71875
    ],
    "deepnote_to_be_reexecuted": false,
    "source_hash": "1a3ff5bc",
    "execution_start": 1642202330292,
    "execution_millis": 58,
    "output_cleared": true,
    "deepnote_cell_type": "code"
   },
   "source": "all_brands_df[all_brands_df[\"Status\"] == \"Fermentation\"][\"Brand\"].value_counts()",
   "execution_count": 13,
   "outputs": []
  },
  {
   "cell_type": "markdown",
   "source": "---\n#### Verify Data Ordering of Results\n\nThe result rows of a multi-asset data view are sorted first on `Asset_Id`, then on `Timestamp`. The Pandas line below shows the first 3 rows of each asset and their index in the dataframe (left hand side integer in bold). Since the request was for 395 days at 10 minutes interval, we expect 365 * 24 * 60 / 10 + 1 = 52561 rows per fermenter vessel",
   "metadata": {
    "papermill": {
     "duration": 0.039003,
     "end_time": "2020-08-14T19:30:17.366684",
     "exception": false,
     "start_time": "2020-08-14T19:30:17.327681",
     "status": "completed"
    },
    "tags": [],
    "cell_id": "00026-7dee29a5-9f17-4242-ac28-6a7534c2b96e",
    "deepnote_cell_type": "markdown"
   }
  },
  {
   "cell_type": "code",
   "metadata": {
    "execution": {
     "iopub.execute_input": "2020-08-14T19:30:17.439385Z",
     "iopub.status.busy": "2020-08-14T19:30:17.438696Z",
     "iopub.status.idle": "2020-08-14T19:30:17.472230Z",
     "shell.execute_reply": "2020-08-14T19:30:17.471709Z"
    },
    "papermill": {
     "duration": 0.07129,
     "end_time": "2020-08-14T19:30:17.472334",
     "exception": false,
     "start_time": "2020-08-14T19:30:17.401044",
     "status": "completed"
    },
    "tags": [],
    "cell_id": "00027-b95d32a8-a8b1-48af-9466-8a075fb5d59a",
    "deepnote_output_heights": [
     554
    ],
    "deepnote_to_be_reexecuted": false,
    "source_hash": "54991129",
    "execution_start": 1642202330356,
    "execution_millis": 137,
    "output_cleared": true,
    "deepnote_cell_type": "code"
   },
   "source": "all_brands_df[all_brands_df[\"Asset_Id\"].shift(3) != all_brands_df[\"Asset_Id\"]]",
   "execution_count": 14,
   "outputs": []
  },
  {
   "cell_type": "markdown",
   "source": "---\n## Part 3. Create utility functions for visualizing data\n<a id='section_3'></a>",
   "metadata": {
    "papermill": {
     "duration": 0.045043,
     "end_time": "2020-08-14T19:30:17.559527",
     "exception": false,
     "start_time": "2020-08-14T19:30:17.514484",
     "status": "completed"
    },
    "tags": [],
    "cell_id": "00028-1a43031d-e7b7-4c52-9c2c-28f2dad25956",
    "deepnote_cell_type": "markdown"
   }
  },
  {
   "cell_type": "markdown",
   "source": "### Part 3a. Function for previewing data\n<a id='section_3a'></a>\n\nThe *known* bad values have been eliminated from our dataset. However, there may still exist bad values which are *unknown*.\n\nA simple way to identify possible bad values is to visualize the data by plotting them. So we create the function `plot_preview_data` to accomplish this. \n\nNOTE: We want `plot_preview_data` to be such that it can be re-used to visualize data at any point in the mutiple data cleansing steps that will be performed.",
   "metadata": {
    "papermill": {
     "duration": 0.035202,
     "end_time": "2020-08-14T19:30:17.629269",
     "exception": false,
     "start_time": "2020-08-14T19:30:17.594067",
     "status": "completed"
    },
    "tags": [],
    "cell_id": "00029-2dd4d253-5485-4e7f-95fe-039e686581d7",
    "deepnote_cell_type": "markdown"
   }
  },
  {
   "cell_type": "code",
   "metadata": {
    "execution": {
     "iopub.execute_input": "2020-08-14T19:30:17.716578Z",
     "iopub.status.busy": "2020-08-14T19:30:17.714897Z",
     "iopub.status.idle": "2020-08-14T19:30:17.724883Z",
     "shell.execute_reply": "2020-08-14T19:30:17.723477Z"
    },
    "papermill": {
     "duration": 0.061886,
     "end_time": "2020-08-14T19:30:17.725130",
     "exception": false,
     "start_time": "2020-08-14T19:30:17.663244",
     "status": "completed"
    },
    "tags": [],
    "cell_id": "00030-4e3c9bf1-67e3-484b-92d8-d25e94a1afd9",
    "deepnote_to_be_reexecuted": false,
    "source_hash": "9b02aeaa",
    "execution_start": 1642202330499,
    "execution_millis": 7,
    "output_cleared": true,
    "deepnote_cell_type": "code"
   },
   "source": "def plot_preview_data(\n    df, X_attribute, Y_attribute, all_group_ids, layout, mode=\"lines+markers\"\n):\n\n    # create list for plotly objects\n    plot_objects = []\n\n    # go through each fermentor vessel\n    for group_id in all_group_ids:\n\n        # create boolean for extracting data for time and vessels of interest\n        group_boolean = df[\"Fermentation ID\"] == group_id\n\n        # labels for plotting\n        name = group_id\n\n        # create plotly object\n        plot_object = go.Scatter(\n            x=df.loc[group_boolean, X_attribute],\n            y=df.loc[group_boolean, Y_attribute],\n            mode=mode,\n            name=name,\n            hoverlabel={\"namelength\": -1},\n        )\n\n        # store plotly objects into list\n        plot_objects.append(plot_object)\n\n    # create and show plot\n    fig = go.Figure(data=plot_objects, layout=layout)\n    fig.show()",
   "execution_count": 15,
   "outputs": []
  },
  {
   "cell_type": "markdown",
   "source": "### Part 3b. Function for plotting fit and normality\n<a id='section_3b'></a>\nCreate a function `model_analysis_plot` which  (1) plots the observed data and the model fit, (2) computes and plots residuals, and (3) computes and plots the normal scores for evaluating the quality of the model.\n\n`model_analysis_plot` should be re-useable, to easily plot and evaluate any model fit.",
   "metadata": {
    "papermill": {
     "duration": 0.038793,
     "end_time": "2020-08-14T19:30:17.826061",
     "exception": false,
     "start_time": "2020-08-14T19:30:17.787268",
     "status": "completed"
    },
    "tags": [],
    "cell_id": "00031-4530a8c5-f877-48fa-bd9a-04e42f4665d8",
    "deepnote_cell_type": "markdown"
   }
  },
  {
   "cell_type": "code",
   "metadata": {
    "execution": {
     "iopub.execute_input": "2020-08-14T19:30:17.959123Z",
     "iopub.status.busy": "2020-08-14T19:30:17.958398Z",
     "iopub.status.idle": "2020-08-14T19:30:17.969877Z",
     "shell.execute_reply": "2020-08-14T19:30:17.969231Z"
    },
    "papermill": {
     "duration": 0.084551,
     "end_time": "2020-08-14T19:30:17.970034",
     "exception": false,
     "start_time": "2020-08-14T19:30:17.885483",
     "status": "completed"
    },
    "tags": [],
    "cell_id": "00032-a25c717a-69c5-45cb-947f-e95d8bea91ec",
    "deepnote_to_be_reexecuted": false,
    "source_hash": "91759d1b",
    "execution_start": 1642202330511,
    "execution_millis": 21,
    "output_cleared": true,
    "deepnote_cell_type": "code"
   },
   "source": "def model_analysis_plot(X, Y_observed, Y_model, model_name):\n\n    # compute residuals\n    residuals = Y_observed - Y_model\n\n    # normal probabilities\n    qq = stats.probplot(residuals)\n    normal_line = np.array([qq[0][0][0], qq[0][0][-1]])\n\n    # initialize subplots\n    fig = make_subplots(\n        rows=2,\n        cols=2,\n        specs=[[{\"colspan\": 2}, None], [{}, {}]],\n        vertical_spacing=0.10,\n        horizontal_spacing=0.03,\n        shared_yaxes=True,\n    )\n\n    # create plot object for observed data\n    obj_observed = go.Scatter(\n        x=X, y=Y_observed, mode=\"markers\", marker=dict(color=\"black\"), name=\"observed\"\n    )\n\n    # create plot object for model data\n    obj_model = go.Scatter(\n        x=X, y=Y_model, mode=\"lines\", line=dict(color=\"red\"), name=f\"{model_name} model\"\n    )\n\n    # create plot object for residuals data\n    obj_residuals = go.Scatter(\n        x=Y_model,\n        y=residuals,\n        mode=\"markers\",\n        marker=dict(color=\"grey\"),\n        showlegend=False,\n    )\n\n    # create plot normal scores of model residuals\n    obj_residual_scores = go.Scatter(\n        x=qq[0][0],\n        y=qq[0][1],\n        mode=\"markers\",\n        marker=dict(color=\"grey\"),\n        showlegend=False,\n    )\n\n    # create plot for normal scores of normally distributed data\n    obj_normal = go.Scatter(\n        x=normal_line,\n        y=qq[1][1] + qq[1][0] * normal_line,\n        mode=\"lines\",\n        line=dict(color=\"black\"),\n        showlegend=False,\n    )\n\n    # add plot objects to figure\n    fig.append_trace(obj_observed, row=1, col=1)\n    fig.append_trace(obj_model, row=1, col=1)\n    fig.append_trace(obj_residuals, row=2, col=1)\n    fig.append_trace(obj_residual_scores, row=2, col=2)\n    fig.append_trace(obj_normal, row=2, col=2)\n\n    # update x axis properties\n    fig.layout.xaxis1.update(title=\"Fermentation time (hour)\")\n    fig.layout.xaxis2.update(title=\"Predicted Values\")\n    fig.layout.xaxis3.update(title=\"Normal Scores\")\n\n    # update y axis properties\n    fig.layout.yaxis1.update(title=\"ADF\")\n    fig.layout.yaxis2.update(title=\"Residuals\")\n\n    # update plot layout\n    fig.layout.update(height=820)\n    fig.layout.update(width=900)\n\n    # show plot\n    fig.show()",
   "execution_count": 16,
   "outputs": []
  },
  {
   "cell_type": "markdown",
   "source": "---\n## Part 4. Pre-process brewery data\n<a id='section_4'></a>\nTo create the ADF prediction curve, we need ADF vs time data for the `BRAND_OF_INTEREST`. The ADF profile for a brand (assuming none are bad batches) should look almost identical regardless of when it was fermented and at which vessel it was fermented.\n\nThus in order to create a model that best predicts the ADF profile for some given brand, outliers and bad batches have to be removed from the training set. And that is the goal for this section.\n\nSome of the bad batches and bad data points are known beforehand, but some have to be identified graphically and manually removed.",
   "metadata": {
    "papermill": {
     "duration": 0.085924,
     "end_time": "2020-08-14T19:30:18.131162",
     "exception": false,
     "start_time": "2020-08-14T19:30:18.045238",
     "status": "completed"
    },
    "tags": [],
    "toc-hr-collapsed": false,
    "cell_id": "00033-0acb56f7-ae52-4fb3-ac4c-1b1f02f3e30e",
    "deepnote_cell_type": "markdown"
   }
  },
  {
   "cell_type": "markdown",
   "source": "### Part 4a. Filter out data with known bad values\n<a id='section_4a'></a>\nSome of the bad batches (`BAD_FERM_IDS`) in this time period is known beforehand. When sensors fail no value will be recorded at one or more timestamps. The reason for missing sensor values are multiple: network error, automation system glitch, hardware failure, etc. A digital code describing the error is recorded at the same timestamp of the missing value, but they are not exposed by the predefined fermenter vessel data views because there is nothing you can knowing this code. What we want to filter out the rows with missing values. \n\nAdditionally, we want to filter out all unwanted values (e.g. data during non-fermentation stages will not add any useful information to the ADF profile). We also do not want to keep any attributes that will not help in creating a model for the ADF profile.",
   "metadata": {
    "papermill": {
     "duration": 0.067802,
     "end_time": "2020-08-14T19:30:18.267971",
     "exception": false,
     "start_time": "2020-08-14T19:30:18.200169",
     "status": "completed"
    },
    "tags": [],
    "cell_id": "00034-cbd9eec9-7034-4cfb-8ce3-fcdb34456c70",
    "deepnote_cell_type": "markdown"
   }
  },
  {
   "cell_type": "code",
   "metadata": {
    "execution": {
     "iopub.execute_input": "2020-08-14T19:30:18.422665Z",
     "iopub.status.busy": "2020-08-14T19:30:18.421939Z",
     "iopub.status.idle": "2020-08-14T19:30:28.721865Z",
     "shell.execute_reply": "2020-08-14T19:30:28.722775Z"
    },
    "papermill": {
     "duration": 10.381858,
     "end_time": "2020-08-14T19:30:28.723050",
     "exception": false,
     "start_time": "2020-08-14T19:30:18.341192",
     "status": "completed"
    },
    "tags": [],
    "cell_id": "00035-4ffe0bfa-a2f6-407a-b411-e7f8e010f145",
    "deepnote_output_heights": [
     177
    ],
    "deepnote_to_be_reexecuted": false,
    "source_hash": "2fd72ca6",
    "execution_start": 1642202330539,
    "execution_millis": 11536,
    "output_cleared": true,
    "deepnote_cell_type": "code"
   },
   "source": "all_brands_df = all_brands_df.astype({\"Fermentation Start Time\": \"datetime64\"})\n\n\ndef fermentation_id(fv_id, t0):\n    tt = str(t0).split(\" \")\n    return f\"{fv_id}_{tt[0].replace('-','')}\"\n\n\nall_brands_df[\"Fermentation ID\"] = all_brands_df.apply(\n    lambda row: fermentation_id(row[\"Asset_Id\"], row[\"Fermentation Start Time\"]), axis=1\n)\n\n# keep only data for the brand of interest\nbrand_df = all_brands_df[all_brands_df[\"Brand\"] == BRAND_OF_INTEREST]\n\n# we are only interested in events where status is \"Fermentation\"\n# TODO: complete the filter expression to keep only data corresponding to the fermentation stages\n# =========== STUDENT BEGIN ==========\n# brand_df = brand_df[@@@ Your code here @@@]\n# =========== STUDENT END ==========\nbrand_df = brand_df[brand_df[\"Status\"] == \"Fermentation\"]\n# =========== STUDENT SOLUTION ==========\n\n\n# Replace missing ADF value at beginning of fermentation by value 0.0\nbrand_df.loc[np.isnan(brand_df[\"ADF\"]), \"ADF\"] = 0.0\n\n# No need for those two columns from which ADF is derived\nbrand_df = brand_df.drop(columns=[\"FV Full Plato\", \"Plato\"])\n\n# remove all rows with missing values\n# TODO: complete expression, hint check PandasGuide.ipynb section \"Selection\"\n# bonus hint: your line of code will end with an empty set of parentheses ()\n# =========== STUDENT BEGIN ==========\n# brand_df = @@@ Your code here @@@\n# =========== STUDENT END ==========\nbrand_df = brand_df.dropna()\n# =========== STUDENT SOLUTION ==========\n\n\n# remove all known bad fermentations\n# brand_df = brand_df[~brand_df[\"Fermentation ID\"].isin(BAD_FERM_IDS)]\n\n# preview first few lines of dataframe\nbrand_df.head()",
   "execution_count": 17,
   "outputs": []
  },
  {
   "cell_type": "markdown",
   "source": "### Part 4b. Preview raw ADF profile\n<a id='section_4b'></a>\nPreview what the data looks like for the first `N_days`. Plot ADF vs the dates. You will observe that the ADF profile for a batch is discontinous. This is because the ADF has been measured manually and therefore intermittently.\n\nWe ultimately want a more continuous ADF profile for fitting.\n",
   "metadata": {
    "papermill": {
     "duration": 0.041592,
     "end_time": "2020-08-14T19:30:28.828197",
     "exception": false,
     "start_time": "2020-08-14T19:30:28.786605",
     "status": "completed"
    },
    "tags": [],
    "cell_id": "00036-cfb21607-3420-4f0a-8528-00748963507b",
    "deepnote_cell_type": "markdown"
   }
  },
  {
   "cell_type": "code",
   "metadata": {
    "execution": {
     "iopub.execute_input": "2020-08-14T19:30:28.933265Z",
     "iopub.status.busy": "2020-08-14T19:30:28.932323Z",
     "iopub.status.idle": "2020-08-14T19:30:29.436824Z",
     "shell.execute_reply": "2020-08-14T19:30:29.437411Z"
    },
    "papermill": {
     "duration": 0.562909,
     "end_time": "2020-08-14T19:30:29.437557",
     "exception": false,
     "start_time": "2020-08-14T19:30:28.874648",
     "status": "completed"
    },
    "tags": [],
    "cell_id": "00037-bfbbd625-17e6-43f6-b9a1-f98d7c3acebf",
    "deepnote_output_heights": [
     527
    ],
    "deepnote_to_be_reexecuted": false,
    "source_hash": "fb82fb4f",
    "execution_start": 1642202342098,
    "execution_millis": 600,
    "output_cleared": true,
    "deepnote_cell_type": "code"
   },
   "source": "# define time period of interest for preview\nN_days = TRAINING_DAYS\n\n# time after Ndays\nend_time = (parser.parse(START_INDEX) + dt.timedelta(days=N_days)).isoformat()\n\n# get all fermentation IDs (corresponds to different batches)\n# TODO: extract all unique Fermentation ID, hint: section \"Selection\" in PandasGuide.ipynb\n# =========== STUDENT BEGIN ==========\n# all_ferm_ids = sorted(@@@ You code here @@@)\n# =========== STUDENT END ==========\nall_ferm_ids = sorted(brand_df[\"Fermentation ID\"].unique())\n# =========== STUDENT SOLUTION ==========\n\n\n# define layout of plot\nlayout = go.Layout(\n    xaxis=dict(title=\"Timestamp (days)\"),\n    yaxis=dict(title=\"ADF\"),\n    width=1000,\n    title=f\"Preview of ADF during fermentation stage, first {N_days} days starting on {START_INDEX}<br>\"\n    f\"(total of {len(all_ferm_ids)} fermentation in {TRAINING_DAYS} days)\",\n)\n\n# plot preview of data\nplot_preview_data(\n    brand_df[brand_df[\"Timestamp\"] <= end_time],\n    \"Timestamp\",\n    \"ADF\",\n    all_ferm_ids,\n    layout,\n)",
   "execution_count": 18,
   "outputs": []
  },
  {
   "cell_type": "markdown",
   "source": "### Part 4c. Create smoothed ADF profile\n<a id='section_4c'></a>\nIn order to create a predictive model for ADF, the start of fermentation and the fermentation times should be identified. It is known that the total duration of the fermentation phase does not exceed 2.5 days, and that at the start of fermentation, the ADF should approximately equal zero.\n\nFurthermore, since ADF is measured intermittently, keep only events (rows) that correspond to new ADF measurements. This should result in a more continuous (smooth) ADF profile.",
   "metadata": {
    "papermill": {
     "duration": 0.155646,
     "end_time": "2020-08-14T19:30:29.726701",
     "exception": false,
     "start_time": "2020-08-14T19:30:29.571055",
     "status": "completed"
    },
    "tags": [],
    "cell_id": "00038-f91d4d98-861f-4faa-805b-870fde088242",
    "deepnote_cell_type": "markdown"
   }
  },
  {
   "cell_type": "code",
   "metadata": {
    "execution": {
     "iopub.execute_input": "2020-08-14T19:30:30.186712Z",
     "iopub.status.busy": "2020-08-14T19:30:30.185532Z",
     "iopub.status.idle": "2020-08-14T19:30:30.236315Z",
     "shell.execute_reply": "2020-08-14T19:30:30.238025Z"
    },
    "papermill": {
     "duration": 0.345107,
     "end_time": "2020-08-14T19:30:30.238757",
     "exception": false,
     "start_time": "2020-08-14T19:30:29.893650",
     "status": "completed"
    },
    "tags": [],
    "cell_id": "00039-2b949d71-f98a-4dcd-b03e-0c2f7ab5cf4a",
    "deepnote_output_heights": [
     606.1875
    ],
    "deepnote_to_be_reexecuted": false,
    "source_hash": "4593a36b",
    "execution_start": 1642202342703,
    "execution_millis": 101,
    "output_cleared": true,
    "deepnote_cell_type": "code"
   },
   "source": "# keep only entries that correspond to new ADF measurements (i.e. previous ADF does not match current ADF)\n# within the same batch identified by \"Fermentation ID\"\nbrand_df = brand_df[\n    (brand_df[\"ADF\"].shift(1) != brand_df[\"ADF\"])\n    & (brand_df[\"Fermentation ID\"] == brand_df[\"Fermentation ID\"])\n].reset_index()\n\n\n# arrange data into chronological order\nbrand_df.sort_values(by=[\"Fermentation ID\", \"Timestamp\"], inplace=True)\n\n\n# find the start of fermentation (ADF ~= 0.0)\nfermentation_starts = brand_df[abs(brand_df[\"ADF\"]) <= 0.000001].reset_index()\nfermentation_starts",
   "execution_count": 19,
   "outputs": []
  },
  {
   "cell_type": "code",
   "metadata": {
    "execution": {
     "iopub.execute_input": "2020-08-14T19:30:30.779092Z",
     "iopub.status.busy": "2020-08-14T19:30:30.778252Z",
     "iopub.status.idle": "2020-08-14T19:30:30.847028Z",
     "shell.execute_reply": "2020-08-14T19:30:30.848138Z"
    },
    "papermill": {
     "duration": 0.33567,
     "end_time": "2020-08-14T19:30:30.848493",
     "exception": false,
     "start_time": "2020-08-14T19:30:30.512823",
     "status": "completed"
    },
    "tags": [],
    "cell_id": "00040-474b7fa8-3eec-4128-84a9-caf8b9cd325f",
    "deepnote_to_be_reexecuted": false,
    "source_hash": "e7cecebc",
    "execution_start": 1642202342810,
    "execution_millis": 62,
    "output_cleared": true,
    "deepnote_cell_type": "code"
   },
   "source": "# create new dataframe column for recording the time evolution of fermentation\nbrand_df[\"Elapsed\"] = -1\n\n# compute the time elapsed since the starts of a fermentation\nfor count, fermentation_start_row in fermentation_starts.iterrows():\n\n    # get the timestamp for each start of fermentation\n    fermentation_start_time = fermentation_start_row[\"Timestamp\"]\n    fermentation_id = fermentation_start_row[\"Fermentation ID\"]\n\n    # boolean vector to pick only rows relevant to current fermentation ID\n    batch_row_picker = brand_df[\"Fermentation ID\"] == fermentation_id\n\n    # find time elapsed since the start of fermentation in units of hours\n    brand_df.loc[batch_row_picker, \"Elapsed\"] = brand_df.loc[\n        batch_row_picker, \"Timestamp\"\n    ].apply(lambda t: (t - fermentation_start_time).total_seconds() / 3600.0)",
   "execution_count": 20,
   "outputs": []
  },
  {
   "cell_type": "code",
   "metadata": {
    "execution": {
     "iopub.execute_input": "2020-08-14T19:30:31.590490Z",
     "iopub.status.busy": "2020-08-14T19:30:31.588448Z",
     "iopub.status.idle": "2020-08-14T19:30:31.593314Z",
     "shell.execute_reply": "2020-08-14T19:30:31.594856Z"
    },
    "papermill": {
     "duration": 0.281999,
     "end_time": "2020-08-14T19:30:31.595066",
     "exception": false,
     "start_time": "2020-08-14T19:30:31.313067",
     "status": "completed"
    },
    "tags": [],
    "cell_id": "00041-05a52cff-e5f1-4136-a6c1-262ab63e5e5a",
    "deepnote_to_be_reexecuted": false,
    "source_hash": "1fd6fbc",
    "execution_start": 1642202342877,
    "execution_millis": 11,
    "output_cleared": true,
    "deepnote_cell_type": "code"
   },
   "source": "# Remove all batches with wrong elapsed time \nbrand_df = brand_df[~(brand_df[\"Elapsed\"] < 0.0)]",
   "execution_count": 21,
   "outputs": []
  },
  {
   "cell_type": "code",
   "metadata": {
    "execution": {
     "iopub.execute_input": "2020-08-14T19:30:31.995020Z",
     "iopub.status.busy": "2020-08-14T19:30:31.993635Z",
     "iopub.status.idle": "2020-08-14T19:30:31.998178Z",
     "shell.execute_reply": "2020-08-14T19:30:31.998725Z"
    },
    "papermill": {
     "duration": 0.191914,
     "end_time": "2020-08-14T19:30:31.998877",
     "exception": false,
     "start_time": "2020-08-14T19:30:31.806963",
     "status": "completed"
    },
    "tags": [],
    "cell_id": "00042-487f2f2a-e8d1-4967-86cf-44e8835dbe8f",
    "deepnote_output_heights": [
     177
    ],
    "deepnote_to_be_reexecuted": false,
    "source_hash": "396b3e8",
    "execution_start": 1642202342891,
    "execution_millis": 88,
    "output_cleared": true,
    "deepnote_cell_type": "code"
   },
   "source": "# sort data from t=0 to t=tmax\nbrand_df = brand_df.sort_values(by=\"Elapsed\")\n\n# preview dataframe\nbrand_df.head()",
   "execution_count": 22,
   "outputs": []
  },
  {
   "cell_type": "markdown",
   "source": "### Part 4d. Preview smooth ADF profile\n<a id='section_4d'></a>\nPreview the smoothed ADF profile. Instead of plotting it with respect to the timestamp, plot it with respect to the elapsed time of fermentation computed in Part 4c. To perform the plotting, we re-use the function `plot_preview_data`. ",
   "metadata": {
    "papermill": {
     "duration": 0.175167,
     "end_time": "2020-08-14T19:30:32.353502",
     "exception": false,
     "start_time": "2020-08-14T19:30:32.178335",
     "status": "completed"
    },
    "tags": [],
    "cell_id": "00043-3eac636a-c9e9-4b7e-9de9-0ea4e6038d72",
    "deepnote_cell_type": "markdown"
   }
  },
  {
   "cell_type": "code",
   "metadata": {
    "execution": {
     "iopub.execute_input": "2020-08-14T19:30:32.689992Z",
     "iopub.status.busy": "2020-08-14T19:30:32.687872Z",
     "iopub.status.idle": "2020-08-14T19:30:32.706637Z",
     "shell.execute_reply": "2020-08-14T19:30:32.706137Z"
    },
    "papermill": {
     "duration": 0.207301,
     "end_time": "2020-08-14T19:30:32.706760",
     "exception": false,
     "start_time": "2020-08-14T19:30:32.499459",
     "status": "completed"
    },
    "tags": [],
    "cell_id": "00044-2f1e1475-09d2-4978-a39a-8857dfdf39cd",
    "deepnote_output_heights": [
     527
    ],
    "deepnote_to_be_reexecuted": false,
    "source_hash": "83ba7764",
    "execution_start": 1642202342988,
    "execution_millis": 53,
    "output_cleared": true,
    "deepnote_cell_type": "code"
   },
   "source": "ferm_ids = sorted(brand_df[\"Fermentation ID\"].unique())\n\n# define layout of plot\nlayout = go.Layout(\n    xaxis=dict(title=\"Fermentation Time (hours)\"),\n    yaxis=dict(title=\"ADF\"),\n    width=1000,\n    title=f\"ADF -- {BRAND_OF_INTEREST} brand, {len(ferm_ids)} fermentations, {START_INDEX} - {END_INDEX}\",\n)\n\n# plot preview of data\nplot_preview_data(brand_df, \"Elapsed\", \"ADF\", ferm_ids, layout, mode=\"markers\")",
   "execution_count": 23,
   "outputs": []
  },
  {
   "cell_type": "markdown",
   "source": "## Part 5. Fitting and analysis\n<a id='section_5e'></a>\nFit the data to a model and then asses the quality of that fit by looking at plots of the residuals (qualitative) and the normal scores (quantitative). We consider two models, linear and piecewise linear.\n\nFor the linear model, we have model parameters $\\alpha$ and $\\beta$. The $\\epsilon$ is the difference between the observed values and the model predictions. If the model is appropriate, the $\\epsilon$ should be uncorrelated with each other.\n\n$Y = \\alpha + \\beta X + \\epsilon$\n\nThe piecewise linear function we are considering has three breaks and 9 model parameters.\n\n$Y = \n    \\begin{cases}\n    \\alpha_1 + \\beta_1 X + \\epsilon, & X \\leq \\gamma_1 \\\\\n    \\alpha_2 + \\beta_2 X + \\epsilon, & \\gamma_1 \\leq X \\leq \\gamma_2 \\\\\n    \\alpha_3 + \\beta_3 X + \\epsilon, & \\gamma_2 \\leq X\n    \\end{cases}$\n\n",
   "metadata": {
    "papermill": {
     "duration": 0.162279,
     "end_time": "2020-08-14T19:30:33.019798",
     "exception": false,
     "start_time": "2020-08-14T19:30:32.857519",
     "status": "completed"
    },
    "tags": [],
    "toc-hr-collapsed": false,
    "cell_id": "00045-12fdbd9e-7155-48b8-aecb-7a55bf70aa30",
    "deepnote_cell_type": "markdown"
   }
  },
  {
   "cell_type": "markdown",
   "source": "### Part 5a. Fitting to a linear model\n<a id='section_5a'></a>\nDefine the training set, apply linear regression on the training set. Compare the model fit with observations, and gauge the quality of the model fit by looking at a plot of the residuals. The residuals should not have a trend (i.e. are normally distributed). One way to test whether a process is normally distributed is through a \"normality test\".",
   "metadata": {
    "papermill": {
     "duration": 0.162079,
     "end_time": "2020-08-14T19:30:33.365782",
     "exception": false,
     "start_time": "2020-08-14T19:30:33.203703",
     "status": "completed"
    },
    "tags": [],
    "cell_id": "00046-1ed5c907-8ff1-467f-82c6-c7c04e82728d",
    "deepnote_cell_type": "markdown"
   }
  },
  {
   "cell_type": "code",
   "metadata": {
    "execution": {
     "iopub.execute_input": "2020-08-14T19:30:33.696274Z",
     "iopub.status.busy": "2020-08-14T19:30:33.695062Z",
     "iopub.status.idle": "2020-08-14T19:30:33.734408Z",
     "shell.execute_reply": "2020-08-14T19:30:33.734939Z"
    },
    "papermill": {
     "duration": 0.203121,
     "end_time": "2020-08-14T19:30:33.735084",
     "exception": false,
     "start_time": "2020-08-14T19:30:33.531963",
     "status": "completed"
    },
    "tags": [],
    "cell_id": "00047-b8f2d98f-3a36-4d3e-a3a4-5fc6dddfeb9c",
    "deepnote_output_heights": [
     611
    ],
    "deepnote_to_be_reexecuted": false,
    "source_hash": "6a56a8c",
    "execution_start": 1642202343044,
    "execution_millis": 366,
    "output_cleared": true,
    "deepnote_cell_type": "code"
   },
   "source": "# before any fitting can be performed, the training set has to be defined\nX_observed = brand_df[\"Elapsed\"].to_frame()\nY_observed = brand_df[\"ADF\"].to_frame()\n\n# create the linear model. use existing libraries\n\n# Create the linear model using X_observed and Y_observed. Use the scikit learn library and follow this example: \n#                 https://scikit-learn.org/stable/auto_examples/linear_model/plot_ols.html\n#\n# =========== STUDENT BEGIN ==========\n# regr = @@@your code here@@@()\n# regr.fit(@@@your code here@@@,@@@your code here)\n# Y_linear = @@@your code here@@@(@@@your code here@@@).transpose()[0] \n# =========== STUDENT END ==========\nregr = linear_model.LinearRegression()\nregr.fit(X_observed, Y_observed)\nY_linear = regr.predict(X_observed).transpose()[0]\n# =========== STUDENT SOLUTION ===========\n\n\n# graphically compare observed data vs linear model\nmodel_analysis_plot(X_observed[\"Elapsed\"], Y_observed[\"ADF\"], Y_linear, \"Linear\")",
   "execution_count": 24,
   "outputs": []
  },
  {
   "cell_type": "markdown",
   "source": "### Part 5b. Fitting to a piecewise linear model\n<a id='section_5b'></a>\nPerform peicewise linear regression on the training set defined previously. Graphically compare the model fit with the observations; analyze the residuals and the results for the normality test.\n\nOur piecewise linear model has three breaks corresponding to the \"lag phase\", \"growth phase\", and \"fermentation phase\" in a normal brewery fermentation.",
   "metadata": {
    "papermill": {
     "duration": 0.16546,
     "end_time": "2020-08-14T19:30:34.092611",
     "exception": false,
     "start_time": "2020-08-14T19:30:33.927151",
     "status": "completed"
    },
    "tags": [],
    "cell_id": "00048-4b9d0081-160b-4ba6-8f19-5d0f5bc5896c",
    "deepnote_cell_type": "markdown"
   }
  },
  {
   "cell_type": "code",
   "metadata": {
    "execution": {
     "iopub.execute_input": "2020-08-14T19:30:34.467093Z",
     "iopub.status.busy": "2020-08-14T19:30:34.465652Z",
     "iopub.status.idle": "2020-08-14T19:30:35.377823Z",
     "shell.execute_reply": "2020-08-14T19:30:35.379087Z"
    },
    "papermill": {
     "duration": 1.106235,
     "end_time": "2020-08-14T19:30:35.379348",
     "exception": false,
     "start_time": "2020-08-14T19:30:34.273113",
     "status": "completed"
    },
    "tags": [],
    "cell_id": "00049-0ede7465-adfc-4a23-b98b-4d501a66699a",
    "deepnote_output_heights": [
     611
    ],
    "deepnote_to_be_reexecuted": false,
    "source_hash": "f8cf2f2e",
    "execution_start": 1642202343417,
    "execution_millis": 752,
    "output_cleared": true,
    "deepnote_cell_type": "code"
   },
   "source": "# create the piecewise linear model\nmy_pwlf = pwlf.PiecewiseLinFit(X_observed[\"Elapsed\"], Y_observed[\"ADF\"])\nbreaks = my_pwlf.fit(3)\nY_pwlf = my_pwlf.predict(X_observed[\"Elapsed\"])\n\n# graphically compare observed data vs piecewise linear model\nmodel_analysis_plot(X_observed[\"Elapsed\"], Y_observed[\"ADF\"], Y_pwlf, \"Piecewise Linear\")",
   "execution_count": 25,
   "outputs": []
  },
  {
   "cell_type": "markdown",
   "source": "**QUESTIONS:**\n\n1. Which of the models used in this notebook performed the best and why?\n2. Can you think of a different model that would perform better than either of the models used in this notebook?\n3. Are there any trade-offs to using more complex models? If so, what are they?\n4. Rerun this notebook but with beer brand Kerberos (instead of Realtime Hops). You will need to identify bad fermentation IDs and add them to list BAD_FERM_IDS to perform the regressions if need be. You may need to adjust the time range we originally picked, up at the top of the notebook, in order to find a time period that captures brands other than Realtime Hops.  ",
   "metadata": {
    "papermill": {
     "duration": 0.171459,
     "end_time": "2020-08-14T19:30:35.742602",
     "exception": false,
     "start_time": "2020-08-14T19:30:35.571143",
     "status": "completed"
    },
    "tags": [],
    "cell_id": "00050-e1886421-8570-448f-97cc-cd3417aef388",
    "deepnote_cell_type": "markdown"
   }
  },
  {
   "cell_type": "code",
   "metadata": {
    "papermill": {
     "duration": 0.187415,
     "end_time": "2020-08-14T19:30:36.128617",
     "exception": false,
     "start_time": "2020-08-14T19:30:35.941202",
     "status": "completed"
    },
    "tags": [],
    "cell_id": "00051-2a238809-0754-4357-a4ec-06332d9053e6",
    "deepnote_to_be_reexecuted": false,
    "source_hash": "b623e53d",
    "execution_start": 1642202344172,
    "execution_millis": 5,
    "output_cleared": true,
    "deepnote_cell_type": "code"
   },
   "source": "",
   "execution_count": 25,
   "outputs": []
  },
  {
   "cell_type": "markdown",
   "source": "<a style='text-decoration:none;line-height:16px;display:flex;color:#5B5B62;padding:10px;justify-content:end;' href='https://deepnote.com?utm_source=created-in-deepnote-cell&projectId=27d58a9b-9aaa-47c5-b041-7e32d6d185a5' target=\"_blank\">\n<img alt='Created in deepnote.com' style='display:inline;max-height:16px;margin:0px;margin-right:7.5px;' src='data:image/svg+xml;base64,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' > </img>\nCreated in <span style='font-weight:600;margin-left:4px;'>Deepnote</span></a>",
   "metadata": {
    "tags": [],
    "created_in_deepnote_cell": true,
    "deepnote_cell_type": "markdown"
   }
  }
 ],
 "nbformat": 4,
 "nbformat_minor": 4,
 "metadata": {
  "kernelspec": {
   "display_name": "Python 3",
   "language": "python",
   "name": "python3"
  },
  "language_info": {
   "codemirror_mode": {
    "name": "ipython",
    "version": 3
   },
   "file_extension": ".py",
   "mimetype": "text/x-python",
   "name": "python",
   "nbconvert_exporter": "python",
   "pygments_lexer": "ipython3",
   "version": "3.7.6"
  },
  "papermill": {
   "duration": 48.142161,
   "end_time": "2020-08-14T19:30:36.845395",
   "environment_variables": {},
   "exception": null,
   "input_path": "../Learning_Modules/NB1_SOLUTION_ADF_Prediction.ipynb",
   "output_path": "./Release/NB1_SOLUTION_ADF_Prediction.ipynb",
   "parameters": {},
   "start_time": "2020-08-14T19:29:48.703234",
   "version": "2.1.2"
  },
  "toc": {
   "base_numbering": 1,
   "nav_menu": {
    "height": "569px",
    "width": "680px"
   },
   "number_sections": false,
   "sideBar": true,
   "skip_h1_title": false,
   "title_cell": "Table of Contents",
   "title_sidebar": "Contents",
   "toc_cell": true,
   "toc_position": {
    "height": "calc(100% - 180px)",
    "left": "10px",
    "top": "150px",
    "width": "236px"
   },
   "toc_section_display": true,
   "toc_window_display": true
  },
  "toc-autonumbering": false,
  "toc-showcode": false,
  "toc-showmarkdowntxt": false,
  "toc-showtags": false,
  "deepnote_notebook_id": "cd3e9c27-ce3e-4a7a-8916-6b7ca8ab316f",
  "deepnote": {},
  "deepnote_execution_queue": []
 }
}