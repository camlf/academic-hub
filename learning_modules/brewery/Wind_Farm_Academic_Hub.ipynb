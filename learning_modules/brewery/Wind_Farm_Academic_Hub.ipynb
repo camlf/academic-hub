{
 "cells": [
  {
   "cell_type": "markdown",
   "source": "## AGL Wind Farm Power Prediction Notebook  \n\n### This version is a modified version of https://github.com/osisoft/sample-ocs-data_views_jupyter-python/blob/main/Wind_Turbine_OCS_Data_OCS_Python_Library.ipynb for the [Academic Hub Wind Farms dataset](https://academic.osisoft.com/datasets)\n\n**Install the Academic Hub library and supporting modules if run outside of Binder**",
   "metadata": {
    "cell_id": "00000-4d01919b-66e0-4210-8aa5-ba0bdfd4da00",
    "deepnote_cell_type": "markdown"
   }
  },
  {
   "cell_type": "code",
   "metadata": {
    "cell_id": "00001-01606b86-406b-4430-8d1b-9e50cfc5b2e7",
    "deepnote_to_be_reexecuted": false,
    "source_hash": "ad52575d",
    "execution_start": 1642370905387,
    "execution_millis": 18361,
    "deepnote_cell_type": "code"
   },
   "source": "import os\n\nif not os.environ.get(\"BINDER_LAUNCH_HOST\"):\n    !pip install ocs_academic_hub plotly matplotlib sklearn",
   "execution_count": 1,
   "outputs": [
    {
     "name": "stdout",
     "text": "Collecting ocs_academic_hub\n  Downloading ocs_academic_hub-0.99.38-py3-none-any.whl (68 kB)\n\u001b[K     |████████████████████████████████| 68 kB 8.3 MB/s \n\u001b[?25hRequirement already satisfied: plotly in /shared-libs/python3.7/py/lib/python3.7/site-packages (5.4.0)\nRequirement already satisfied: matplotlib in /shared-libs/python3.7/py/lib/python3.7/site-packages (3.5.1)\nCollecting sklearn\n  Downloading sklearn-0.0.tar.gz (1.1 kB)\nRequirement already satisfied: markdown in /shared-libs/python3.7/py/lib/python3.7/site-packages (from ocs_academic_hub) (3.3.6)\nCollecting ocs-sample-library-hub>=0.1.19\n  Downloading ocs_sample_library_hub-0.1.20-py3-none-any.whl (41 kB)\n\u001b[K     |████████████████████████████████| 41 kB 994 kB/s \n\u001b[?25hRequirement already satisfied: importlib-metadata in /shared-libs/python3.7/py-core/lib/python3.7/site-packages (from ocs_academic_hub) (4.8.2)\nRequirement already satisfied: pandas>=0.24.2 in /shared-libs/python3.7/py/lib/python3.7/site-packages (from ocs_academic_hub) (1.2.5)\nCollecting backoff\n  Downloading backoff-1.11.1-py2.py3-none-any.whl (13 kB)\nCollecting typeguard>=2.4.1\n  Downloading typeguard-2.13.3-py3-none-any.whl (17 kB)\nCollecting ipywidgets\n  Downloading ipywidgets-7.6.5-py2.py3-none-any.whl (121 kB)\n\u001b[K     |████████████████████████████████| 121 kB 29.3 MB/s \n\u001b[?25hRequirement already satisfied: python-dateutil>=2.8.0 in /shared-libs/python3.7/py-core/lib/python3.7/site-packages (from ocs_academic_hub) (2.8.2)\nRequirement already satisfied: requests>=2.26 in /shared-libs/python3.7/py/lib/python3.7/site-packages (from ocs_academic_hub) (2.26.0)\nCollecting gql\n  Downloading gql-2.0.0-py2.py3-none-any.whl (10 kB)\nRequirement already satisfied: numpy in /shared-libs/python3.7/py/lib/python3.7/site-packages (from ocs_academic_hub) (1.19.5)\nRequirement already satisfied: tenacity>=6.2.0 in /shared-libs/python3.7/py/lib/python3.7/site-packages (from plotly) (8.0.1)\nRequirement already satisfied: six in /shared-libs/python3.7/py-core/lib/python3.7/site-packages (from plotly) (1.16.0)\nRequirement already satisfied: pillow>=6.2.0 in /shared-libs/python3.7/py/lib/python3.7/site-packages (from matplotlib) (8.4.0)\nRequirement already satisfied: pyparsing>=2.2.1 in /shared-libs/python3.7/py-core/lib/python3.7/site-packages (from matplotlib) (3.0.6)\nRequirement already satisfied: fonttools>=4.22.0 in /shared-libs/python3.7/py/lib/python3.7/site-packages (from matplotlib) (4.28.3)\nRequirement already satisfied: cycler>=0.10 in /shared-libs/python3.7/py/lib/python3.7/site-packages (from matplotlib) (0.11.0)\nRequirement already satisfied: kiwisolver>=1.0.1 in /shared-libs/python3.7/py/lib/python3.7/site-packages (from matplotlib) (1.3.2)\nRequirement already satisfied: packaging>=20.0 in /shared-libs/python3.7/py-core/lib/python3.7/site-packages (from matplotlib) (21.3)\nRequirement already satisfied: scikit-learn in /shared-libs/python3.7/py/lib/python3.7/site-packages (from sklearn) (1.0.1)\nRequirement already satisfied: zipp>=0.5 in /shared-libs/python3.7/py-core/lib/python3.7/site-packages (from importlib-metadata->ocs_academic_hub) (3.6.0)\nRequirement already satisfied: typing-extensions>=3.6.4; python_version < \"3.8\" in /shared-libs/python3.7/py-core/lib/python3.7/site-packages (from importlib-metadata->ocs_academic_hub) (4.0.1)\nRequirement already satisfied: pytz>=2017.3 in /shared-libs/python3.7/py/lib/python3.7/site-packages (from pandas>=0.24.2->ocs_academic_hub) (2021.3)\nRequirement already satisfied: nbformat>=4.2.0 in /shared-libs/python3.7/py-core/lib/python3.7/site-packages (from ipywidgets->ocs_academic_hub) (5.1.3)\nRequirement already satisfied: traitlets>=4.3.1 in /shared-libs/python3.7/py-core/lib/python3.7/site-packages (from ipywidgets->ocs_academic_hub) (4.3.3)\nCollecting jupyterlab-widgets>=1.0.0; python_version >= \"3.6\"\n  Downloading jupyterlab_widgets-1.0.2-py3-none-any.whl (243 kB)\n\u001b[K     |████████████████████████████████| 243 kB 7.7 MB/s \n\u001b[?25hRequirement already satisfied: ipython>=4.0.0; python_version >= \"3.3\" in /shared-libs/python3.7/py-core/lib/python3.7/site-packages (from ipywidgets->ocs_academic_hub) (7.30.1)\nCollecting widgetsnbextension~=3.5.0\n  Downloading widgetsnbextension-3.5.2-py2.py3-none-any.whl (1.6 MB)\n\u001b[K     |████████████████████████████████| 1.6 MB 32.6 MB/s \n\u001b[?25hRequirement already satisfied: ipython-genutils~=0.2.0 in /shared-libs/python3.7/py-core/lib/python3.7/site-packages (from ipywidgets->ocs_academic_hub) (0.2.0)\nRequirement already satisfied: ipykernel>=4.5.1 in /shared-libs/python3.7/py-core/lib/python3.7/site-packages (from ipywidgets->ocs_academic_hub) (5.5.5)\nRequirement already satisfied: urllib3<1.27,>=1.21.1 in /shared-libs/python3.7/py/lib/python3.7/site-packages (from requests>=2.26->ocs_academic_hub) (1.26.7)\nRequirement already satisfied: charset-normalizer~=2.0.0; python_version >= \"3\" in /shared-libs/python3.7/py-core/lib/python3.7/site-packages (from requests>=2.26->ocs_academic_hub) (2.0.9)\nRequirement already satisfied: idna<4,>=2.5; python_version >= \"3\" in /shared-libs/python3.7/py-core/lib/python3.7/site-packages (from requests>=2.26->ocs_academic_hub) (3.3)\nRequirement already satisfied: certifi>=2017.4.17 in /shared-libs/python3.7/py/lib/python3.7/site-packages (from requests>=2.26->ocs_academic_hub) (2021.10.8)\nCollecting promise<3,>=2.3\n  Downloading promise-2.3.tar.gz (19 kB)\nCollecting graphql-core<3,>=2.3.2\n  Downloading graphql_core-2.3.2-py2.py3-none-any.whl (252 kB)\n\u001b[K     |████████████████████████████████| 252 kB 28.1 MB/s \n\u001b[?25hRequirement already satisfied: threadpoolctl>=2.0.0 in /shared-libs/python3.7/py/lib/python3.7/site-packages (from scikit-learn->sklearn) (3.0.0)\nRequirement already satisfied: joblib>=0.11 in /shared-libs/python3.7/py/lib/python3.7/site-packages (from scikit-learn->sklearn) (1.1.0)\nRequirement already satisfied: scipy>=1.1.0 in /shared-libs/python3.7/py/lib/python3.7/site-packages (from scikit-learn->sklearn) (1.7.3)\nRequirement already satisfied: jsonschema!=2.5.0,>=2.4 in /shared-libs/python3.7/py-core/lib/python3.7/site-packages (from nbformat>=4.2.0->ipywidgets->ocs_academic_hub) (3.2.0)\nRequirement already satisfied: jupyter-core in /shared-libs/python3.7/py-core/lib/python3.7/site-packages (from nbformat>=4.2.0->ipywidgets->ocs_academic_hub) (4.7.1)\nRequirement already satisfied: decorator in /shared-libs/python3.7/py-core/lib/python3.7/site-packages (from traitlets>=4.3.1->ipywidgets->ocs_academic_hub) (5.1.0)\nRequirement already satisfied: pexpect>4.3; sys_platform != \"win32\" in /shared-libs/python3.7/py-core/lib/python3.7/site-packages (from ipython>=4.0.0; python_version >= \"3.3\"->ipywidgets->ocs_academic_hub) (4.8.0)\nRequirement already satisfied: matplotlib-inline in /shared-libs/python3.7/py-core/lib/python3.7/site-packages (from ipython>=4.0.0; python_version >= \"3.3\"->ipywidgets->ocs_academic_hub) (0.1.3)\nRequirement already satisfied: backcall in /shared-libs/python3.7/py-core/lib/python3.7/site-packages (from ipython>=4.0.0; python_version >= \"3.3\"->ipywidgets->ocs_academic_hub) (0.2.0)\nRequirement already satisfied: prompt-toolkit!=3.0.0,!=3.0.1,<3.1.0,>=2.0.0 in /shared-libs/python3.7/py-core/lib/python3.7/site-packages (from ipython>=4.0.0; python_version >= \"3.3\"->ipywidgets->ocs_academic_hub) (3.0.24)\nRequirement already satisfied: jedi>=0.16 in /shared-libs/python3.7/py-core/lib/python3.7/site-packages (from ipython>=4.0.0; python_version >= \"3.3\"->ipywidgets->ocs_academic_hub) (0.17.2)\nRequirement already satisfied: setuptools>=18.5 in /root/venv/lib/python3.7/site-packages (from ipython>=4.0.0; python_version >= \"3.3\"->ipywidgets->ocs_academic_hub) (47.1.0)\nRequirement already satisfied: pickleshare in /shared-libs/python3.7/py-core/lib/python3.7/site-packages (from ipython>=4.0.0; python_version >= \"3.3\"->ipywidgets->ocs_academic_hub) (0.7.5)\nRequirement already satisfied: pygments in /shared-libs/python3.7/py-core/lib/python3.7/site-packages (from ipython>=4.0.0; python_version >= \"3.3\"->ipywidgets->ocs_academic_hub) (2.10.0)\nRequirement already satisfied: notebook>=4.4.1 in /shared-libs/python3.7/py-core/lib/python3.7/site-packages (from widgetsnbextension~=3.5.0->ipywidgets->ocs_academic_hub) (6.3.0)\nRequirement already satisfied: jupyter-client in /shared-libs/python3.7/py-core/lib/python3.7/site-packages (from ipykernel>=4.5.1->ipywidgets->ocs_academic_hub) (6.1.12)\nRequirement already satisfied: tornado>=4.2 in /shared-libs/python3.7/py-core/lib/python3.7/site-packages (from ipykernel>=4.5.1->ipywidgets->ocs_academic_hub) (6.1)\nCollecting rx<2,>=1.6\n  Downloading Rx-1.6.1-py2.py3-none-any.whl (179 kB)\n\u001b[K     |████████████████████████████████| 179 kB 17.2 MB/s \n\u001b[?25hRequirement already satisfied: pyrsistent>=0.14.0 in /shared-libs/python3.7/py-core/lib/python3.7/site-packages (from jsonschema!=2.5.0,>=2.4->nbformat>=4.2.0->ipywidgets->ocs_academic_hub) (0.18.0)\nRequirement already satisfied: attrs>=17.4.0 in /shared-libs/python3.7/py-core/lib/python3.7/site-packages (from jsonschema!=2.5.0,>=2.4->nbformat>=4.2.0->ipywidgets->ocs_academic_hub) (21.2.0)\nRequirement already satisfied: ptyprocess>=0.5 in /shared-libs/python3.7/py-core/lib/python3.7/site-packages (from pexpect>4.3; sys_platform != \"win32\"->ipython>=4.0.0; python_version >= \"3.3\"->ipywidgets->ocs_academic_hub) (0.7.0)\nRequirement already satisfied: wcwidth in /shared-libs/python3.7/py-core/lib/python3.7/site-packages (from prompt-toolkit!=3.0.0,!=3.0.1,<3.1.0,>=2.0.0->ipython>=4.0.0; python_version >= \"3.3\"->ipywidgets->ocs_academic_hub) (0.2.5)\nRequirement already satisfied: parso<0.8.0,>=0.7.0 in /shared-libs/python3.7/py-core/lib/python3.7/site-packages (from jedi>=0.16->ipython>=4.0.0; python_version >= \"3.3\"->ipywidgets->ocs_academic_hub) (0.7.1)\nRequirement already satisfied: pyzmq>=17 in /shared-libs/python3.7/py-core/lib/python3.7/site-packages (from notebook>=4.4.1->widgetsnbextension~=3.5.0->ipywidgets->ocs_academic_hub) (22.3.0)\nRequirement already satisfied: argon2-cffi in /shared-libs/python3.7/py-core/lib/python3.7/site-packages (from notebook>=4.4.1->widgetsnbextension~=3.5.0->ipywidgets->ocs_academic_hub) (21.3.0)\nRequirement already satisfied: Send2Trash>=1.5.0 in /shared-libs/python3.7/py-core/lib/python3.7/site-packages (from notebook>=4.4.1->widgetsnbextension~=3.5.0->ipywidgets->ocs_academic_hub) (1.8.0)\nRequirement already satisfied: prometheus-client in /shared-libs/python3.7/py-core/lib/python3.7/site-packages (from notebook>=4.4.1->widgetsnbextension~=3.5.0->ipywidgets->ocs_academic_hub) (0.12.0)\nRequirement already satisfied: nbconvert==6.0.7 in /shared-libs/python3.7/py-core/lib/python3.7/site-packages (from notebook>=4.4.1->widgetsnbextension~=3.5.0->ipywidgets->ocs_academic_hub) (6.0.7)\nRequirement already satisfied: terminado>=0.8.3 in /shared-libs/python3.7/py-core/lib/python3.7/site-packages (from notebook>=4.4.1->widgetsnbextension~=3.5.0->ipywidgets->ocs_academic_hub) (0.12.1)\nRequirement already satisfied: jinja2 in /shared-libs/python3.7/py-core/lib/python3.7/site-packages (from notebook>=4.4.1->widgetsnbextension~=3.5.0->ipywidgets->ocs_academic_hub) (3.0.3)\nRequirement already satisfied: argon2-cffi-bindings in /shared-libs/python3.7/py-core/lib/python3.7/site-packages (from argon2-cffi->notebook>=4.4.1->widgetsnbextension~=3.5.0->ipywidgets->ocs_academic_hub) (21.2.0)\nRequirement already satisfied: bleach in /shared-libs/python3.7/py-core/lib/python3.7/site-packages (from nbconvert==6.0.7->notebook>=4.4.1->widgetsnbextension~=3.5.0->ipywidgets->ocs_academic_hub) (4.1.0)\nRequirement already satisfied: testpath in /shared-libs/python3.7/py-core/lib/python3.7/site-packages (from nbconvert==6.0.7->notebook>=4.4.1->widgetsnbextension~=3.5.0->ipywidgets->ocs_academic_hub) (0.5.0)\nRequirement already satisfied: entrypoints>=0.2.2 in /shared-libs/python3.7/py-core/lib/python3.7/site-packages (from nbconvert==6.0.7->notebook>=4.4.1->widgetsnbextension~=3.5.0->ipywidgets->ocs_academic_hub) (0.3)\nRequirement already satisfied: pandocfilters>=1.4.1 in /shared-libs/python3.7/py-core/lib/python3.7/site-packages (from nbconvert==6.0.7->notebook>=4.4.1->widgetsnbextension~=3.5.0->ipywidgets->ocs_academic_hub) (1.5.0)\nRequirement already satisfied: jupyterlab-pygments in /shared-libs/python3.7/py-core/lib/python3.7/site-packages (from nbconvert==6.0.7->notebook>=4.4.1->widgetsnbextension~=3.5.0->ipywidgets->ocs_academic_hub) (0.1.2)\nRequirement already satisfied: mistune<2,>=0.8.1 in /shared-libs/python3.7/py-core/lib/python3.7/site-packages (from nbconvert==6.0.7->notebook>=4.4.1->widgetsnbextension~=3.5.0->ipywidgets->ocs_academic_hub) (0.8.4)\nRequirement already satisfied: nbclient<0.6.0,>=0.5.0 in /shared-libs/python3.7/py-core/lib/python3.7/site-packages (from nbconvert==6.0.7->notebook>=4.4.1->widgetsnbextension~=3.5.0->ipywidgets->ocs_academic_hub) (0.5.9)\nRequirement already satisfied: defusedxml in /shared-libs/python3.7/py-core/lib/python3.7/site-packages (from nbconvert==6.0.7->notebook>=4.4.1->widgetsnbextension~=3.5.0->ipywidgets->ocs_academic_hub) (0.7.1)\nRequirement already satisfied: MarkupSafe>=2.0 in /shared-libs/python3.7/py-core/lib/python3.7/site-packages (from jinja2->notebook>=4.4.1->widgetsnbextension~=3.5.0->ipywidgets->ocs_academic_hub) (2.0.1)\nRequirement already satisfied: cffi>=1.0.1 in /shared-libs/python3.7/py-core/lib/python3.7/site-packages (from argon2-cffi-bindings->argon2-cffi->notebook>=4.4.1->widgetsnbextension~=3.5.0->ipywidgets->ocs_academic_hub) (1.15.0)\nRequirement already satisfied: webencodings in /shared-libs/python3.7/py-core/lib/python3.7/site-packages (from bleach->nbconvert==6.0.7->notebook>=4.4.1->widgetsnbextension~=3.5.0->ipywidgets->ocs_academic_hub) (0.5.1)\nRequirement already satisfied: nest-asyncio in /shared-libs/python3.7/py-core/lib/python3.7/site-packages (from nbclient<0.6.0,>=0.5.0->nbconvert==6.0.7->notebook>=4.4.1->widgetsnbextension~=3.5.0->ipywidgets->ocs_academic_hub) (1.5.4)\nRequirement already satisfied: pycparser in /shared-libs/python3.7/py-core/lib/python3.7/site-packages (from cffi>=1.0.1->argon2-cffi-bindings->argon2-cffi->notebook>=4.4.1->widgetsnbextension~=3.5.0->ipywidgets->ocs_academic_hub) (2.21)\nBuilding wheels for collected packages: sklearn, promise\n  Building wheel for sklearn (setup.py) ... \u001b[?25ldone\n\u001b[?25h  Created wheel for sklearn: filename=sklearn-0.0-py2.py3-none-any.whl size=1317 sha256=5aad60eb65bb4b5dca59a5851329422cd8bce62bf3a5fb164ac4cb1e98b031dd\n  Stored in directory: /root/.cache/pip/wheels/46/ef/c3/157e41f5ee1372d1be90b09f74f82b10e391eaacca8f22d33e\n  Building wheel for promise (setup.py) ... \u001b[?25ldone\n\u001b[?25h  Created wheel for promise: filename=promise-2.3-py3-none-any.whl size=21493 sha256=3b0e23d3e940abf1781aa5139044b6875ddd83f4d2efd9191c2276af8828efa9\n  Stored in directory: /root/.cache/pip/wheels/29/93/c6/762e359f8cb6a5b69c72235d798804cae523bbe41c2aa8333d\nSuccessfully built sklearn promise\nInstalling collected packages: ocs-sample-library-hub, backoff, typeguard, jupyterlab-widgets, widgetsnbextension, ipywidgets, promise, rx, graphql-core, gql, ocs-academic-hub, sklearn\nSuccessfully installed backoff-1.11.1 gql-2.0.0 graphql-core-2.3.2 ipywidgets-7.6.5 jupyterlab-widgets-1.0.2 ocs-academic-hub-0.99.38 ocs-sample-library-hub-0.1.20 promise-2.3 rx-1.6.1 sklearn-0.0 typeguard-2.13.3 widgetsnbextension-3.5.2\n\u001b[33mWARNING: You are using pip version 20.1.1; however, version 21.3.1 is available.\nYou should consider upgrading via the '/root/venv/bin/python -m pip install --upgrade pip' command.\u001b[0m\n",
     "output_type": "stream"
    }
   ]
  },
  {
   "cell_type": "markdown",
   "source": "### Import required modules and hub_login",
   "metadata": {
    "cell_id": "00002-164ae9c0-a5a8-449b-a434-5a88e5ad12c4",
    "deepnote_cell_type": "markdown"
   }
  },
  {
   "cell_type": "code",
   "metadata": {
    "cell_id": "00003-1fdecdc4-bdb8-4da9-b17a-232b83070e36",
    "deepnote_to_be_reexecuted": false,
    "source_hash": "6692f0eb",
    "execution_start": 1642370923765,
    "execution_millis": 4582,
    "deepnote_cell_type": "code"
   },
   "source": "import requests\nimport json\nimport pandas as pd\nfrom datetime import date, timedelta\n\nimport matplotlib.pyplot as plt\nimport numpy as np\n\nfrom ocs_academic_hub.datahub import hub_login",
   "execution_count": 2,
   "outputs": []
  },
  {
   "cell_type": "markdown",
   "source": "### Login to Academic Hub by running the next cell\n\n**Execute the cell below and follow the indicated steps to log in (an AVEVA banner would show up)** ",
   "metadata": {
    "cell_id": "00004-d06e8f53-8e3b-43b3-87a5-e74bea1a49ef",
    "deepnote_cell_type": "markdown"
   }
  },
  {
   "cell_type": "code",
   "metadata": {
    "cell_id": "00005-1561732c-a7f9-4102-b879-75525b399ad9",
    "deepnote_to_be_reexecuted": false,
    "source_hash": "a90597b9",
    "execution_start": 1642370928356,
    "execution_millis": 2033,
    "deepnote_output_heights": [
     2
    ],
    "deepnote_cell_type": "code"
   },
   "source": "widget, hub = hub_login()\nwidget",
   "execution_count": 3,
   "outputs": [
    {
     "data": {
      "text/plain": "<IPython.core.display.Javascript object>",
      "application/javascript": "\n    let t = JSON.stringify(localStorage.getItem(\"hub_jwt\") || '{\"access_token\": \"none\"}', null, 4);\n    const options = {\n        method: 'POST',\n        body: JSON.stringify(t),\n        headers: {\n            'Content-Type': 'application/json',\n            'Authorization': 'Custom 73102dab-39d7-4360-a7cd-0d8deab76522'\n        },\n        // mode: 'no-cors'\n    }; \n    fetch('https://data.academic.osisoft.com/auth/previous_token', options) \n    .then(function (response) {\n        return response.text();\n    })\n    .catch(function (error) {\n        console.log(\"Error: \" + error);\n    });\n    "
     },
     "metadata": {},
     "output_type": "display_data"
    },
    {
     "data": {
      "text/plain": "VBox(children=(HTML(value='<p><img alt=\"AVEVA banner\" src=\"https://academichub.blob.core.windows.net/images/av…",
      "application/vnd.jupyter.widget-view+json": {
       "version_major": 2,
       "version_minor": 0,
       "model_id": "2c94fe122e394de6b4e45b8e6a549b7e"
      }
     },
     "metadata": {},
     "output_type": "display_data"
    }
   ]
  },
  {
   "cell_type": "markdown",
   "source": "### Standard Hub Datasets\n\nNote: Wind Farm dataset is not part of Hub standard datasets. For more info on those: https://academic.osisoft.com/datasets",
   "metadata": {
    "cell_id": "00006-5857cfef-b45b-48dd-9f63-2ccb0d11a3fa",
    "deepnote_cell_type": "markdown"
   }
  },
  {
   "cell_type": "code",
   "metadata": {
    "cell_id": "00007-7854c868-6221-43d9-8469-7326173baf1c",
    "deepnote_output_heights": [
     136.359375
    ],
    "deepnote_to_be_reexecuted": false,
    "source_hash": "83f8b25d",
    "execution_start": 1642370930421,
    "execution_millis": 12365865,
    "deepnote_cell_type": "code"
   },
   "source": "hub.datasets()",
   "execution_count": 4,
   "outputs": [
    {
     "output_type": "execute_result",
     "execution_count": 4,
     "data": {
      "text/plain": "['Brewery',\n 'Campus_Energy',\n 'Classroom_Data',\n 'MIT',\n 'Pilot_Plant',\n 'USC_Well_Data',\n 'Wind_Farms']"
     },
     "metadata": {}
    }
   ]
  },
  {
   "cell_type": "markdown",
   "source": "### Request dataset information for the lab",
   "metadata": {
    "cell_id": "00008-4de243ce-94dc-48f8-9a5d-16e5876cea99",
    "deepnote_cell_type": "markdown"
   }
  },
  {
   "cell_type": "code",
   "metadata": {
    "cell_id": "00009-ec7c7439-2f77-4a07-b920-466e75f343b0",
    "deepnote_to_be_reexecuted": false,
    "source_hash": "336b11b5",
    "execution_start": 1642370930467,
    "execution_millis": 1884,
    "deepnote_cell_type": "code"
   },
   "source": "hub.refresh_datasets(experimental=True)",
   "execution_count": 5,
   "outputs": []
  },
  {
   "cell_type": "markdown",
   "source": "### Check that WindFarm dataset is now available",
   "metadata": {
    "cell_id": "00010-0ec63a7d-ad6a-40ad-b6a7-961884852365",
    "deepnote_cell_type": "markdown"
   }
  },
  {
   "cell_type": "code",
   "metadata": {
    "cell_id": "00011-9582bfa7-b54c-494c-bc9f-307d1f7eccb1",
    "deepnote_output_heights": [
     136.359375
    ],
    "deepnote_to_be_reexecuted": false,
    "source_hash": "83f8b25d",
    "execution_start": 1642370932356,
    "execution_millis": 14,
    "deepnote_cell_type": "code"
   },
   "source": "hub.datasets()",
   "execution_count": 6,
   "outputs": [
    {
     "output_type": "execute_result",
     "execution_count": 6,
     "data": {
      "text/plain": "['Brewery',\n 'Campus_Energy',\n 'Classroom_Data',\n 'MIT',\n 'Pilot_Plant',\n 'USC_Well_Data',\n 'Wind_Farms']"
     },
     "metadata": {}
    }
   ]
  },
  {
   "cell_type": "markdown",
   "source": "### Make it the current dataset",
   "metadata": {
    "cell_id": "00012-13b98561-d12d-4d71-b180-4ff7fccd373f",
    "deepnote_cell_type": "markdown"
   }
  },
  {
   "cell_type": "code",
   "metadata": {
    "cell_id": "00013-be871837-9a4f-47b0-8374-86cd4a0a2da7",
    "deepnote_output_heights": [
     21.1875
    ],
    "deepnote_to_be_reexecuted": false,
    "source_hash": "4a3872dd",
    "execution_start": 1642370932376,
    "execution_millis": 17,
    "deepnote_cell_type": "code"
   },
   "source": "hub.set_dataset(\"Wind_Farms\")\nhub.current_dataset()",
   "execution_count": 7,
   "outputs": [
    {
     "output_type": "execute_result",
     "execution_count": 7,
     "data": {
      "text/plain": "'Wind_Farms'"
     },
     "metadata": {}
    }
   ]
  },
  {
   "cell_type": "markdown",
   "source": "### OCS namespace where data lives",
   "metadata": {
    "cell_id": "00014-8d69761a-866a-4163-b18b-4451bf581cd4",
    "deepnote_cell_type": "markdown"
   }
  },
  {
   "cell_type": "code",
   "metadata": {
    "cell_id": "00015-2cabb311-2094-4d5a-b9f7-68adf19b963f",
    "deepnote_output_heights": [
     21.1875
    ],
    "deepnote_to_be_reexecuted": false,
    "source_hash": "5c7287ba",
    "execution_start": 1642370932400,
    "execution_millis": 63,
    "deepnote_cell_type": "code"
   },
   "source": "namespace_id = hub.namespace_of(\"Wind_Farms\")\nnamespace_id",
   "execution_count": 8,
   "outputs": [
    {
     "output_type": "execute_result",
     "execution_count": 8,
     "data": {
      "text/plain": "'academic_hub_01'"
     },
     "metadata": {}
    }
   ]
  },
  {
   "cell_type": "markdown",
   "source": "### List the assets in dataset\n\nThere are 10 wind turbines times 5 cluster (total of 50)",
   "metadata": {
    "cell_id": "00016-27b13f28-8c16-4c90-a39f-2e0e18441c80",
    "deepnote_cell_type": "markdown"
   }
  },
  {
   "cell_type": "code",
   "metadata": {
    "cell_id": "00017-55616c66-2b5b-4b3a-9d10-cbe615f2315d",
    "deepnote_output_heights": [
     611
    ],
    "deepnote_to_be_reexecuted": false,
    "source_hash": "ad99cb0c",
    "execution_start": 1642370932463,
    "execution_millis": 239,
    "deepnote_cell_type": "code"
   },
   "source": "hub.assets()",
   "execution_count": 9,
   "outputs": [
    {
     "output_type": "execute_result",
     "execution_count": 9,
     "data": {
      "application/vnd.deepnote.dataframe.v3+json": {
       "column_count": 2,
       "row_count": 50,
       "columns": [
        {
         "name": "Asset_Id",
         "dtype": "object",
         "stats": {
          "unique_count": 50,
          "nan_count": 0,
          "categories": [
           {
            "name": "cluster1.turb1",
            "count": 1
           },
           {
            "name": "cluster1.turb10",
            "count": 1
           },
           {
            "name": "48 others",
            "count": 48
           }
          ]
         }
        },
        {
         "name": "Description",
         "dtype": "object",
         "stats": {
          "unique_count": 1,
          "nan_count": 0,
          "categories": [
           {
            "name": "Turbine",
            "count": 50
           }
          ]
         }
        },
        {
         "name": "_deepnote_index_column",
         "dtype": "int64"
        }
       ],
       "rows": [
        {
         "Asset_Id": "cluster1.turb1",
         "Description": "Turbine",
         "_deepnote_index_column": 0
        },
        {
         "Asset_Id": "cluster1.turb10",
         "Description": "Turbine",
         "_deepnote_index_column": 1
        },
        {
         "Asset_Id": "cluster1.turb2",
         "Description": "Turbine",
         "_deepnote_index_column": 2
        },
        {
         "Asset_Id": "cluster1.turb3",
         "Description": "Turbine",
         "_deepnote_index_column": 3
        },
        {
         "Asset_Id": "cluster1.turb4",
         "Description": "Turbine",
         "_deepnote_index_column": 4
        },
        {
         "Asset_Id": "cluster1.turb5",
         "Description": "Turbine",
         "_deepnote_index_column": 5
        },
        {
         "Asset_Id": "cluster1.turb6",
         "Description": "Turbine",
         "_deepnote_index_column": 6
        },
        {
         "Asset_Id": "cluster1.turb7",
         "Description": "Turbine",
         "_deepnote_index_column": 7
        },
        {
         "Asset_Id": "cluster1.turb8",
         "Description": "Turbine",
         "_deepnote_index_column": 8
        },
        {
         "Asset_Id": "cluster1.turb9",
         "Description": "Turbine",
         "_deepnote_index_column": 9
        }
       ]
      },
      "text/plain": "           Asset_Id Description\n0    cluster1.turb1     Turbine\n1   cluster1.turb10     Turbine\n2    cluster1.turb2     Turbine\n3    cluster1.turb3     Turbine\n4    cluster1.turb4     Turbine\n5    cluster1.turb5     Turbine\n6    cluster1.turb6     Turbine\n7    cluster1.turb7     Turbine\n8    cluster1.turb8     Turbine\n9    cluster1.turb9     Turbine\n10   cluster2.turb1     Turbine\n11  cluster2.turb10     Turbine\n12   cluster2.turb2     Turbine\n13   cluster2.turb3     Turbine\n14   cluster2.turb4     Turbine\n15   cluster2.turb5     Turbine\n16   cluster2.turb6     Turbine\n17   cluster2.turb7     Turbine\n18   cluster2.turb8     Turbine\n19   cluster2.turb9     Turbine\n20   cluster3.turb1     Turbine\n21  cluster3.turb10     Turbine\n22   cluster3.turb2     Turbine\n23   cluster3.turb3     Turbine\n24   cluster3.turb4     Turbine\n25   cluster3.turb5     Turbine\n26   cluster3.turb6     Turbine\n27   cluster3.turb7     Turbine\n28   cluster3.turb8     Turbine\n29   cluster3.turb9     Turbine\n30   cluster4.turb1     Turbine\n31  cluster4.turb10     Turbine\n32   cluster4.turb2     Turbine\n33   cluster4.turb3     Turbine\n34   cluster4.turb4     Turbine\n35   cluster4.turb5     Turbine\n36   cluster4.turb6     Turbine\n37   cluster4.turb7     Turbine\n38   cluster4.turb8     Turbine\n39   cluster4.turb9     Turbine\n40   cluster5.turb1     Turbine\n41  cluster5.turb10     Turbine\n42   cluster5.turb2     Turbine\n43   cluster5.turb3     Turbine\n44   cluster5.turb4     Turbine\n45   cluster5.turb5     Turbine\n46   cluster5.turb6     Turbine\n47   cluster5.turb7     Turbine\n48   cluster5.turb8     Turbine\n49   cluster5.turb9     Turbine",
      "text/html": "<div>\n<style scoped>\n    .dataframe tbody tr th:only-of-type {\n        vertical-align: middle;\n    }\n\n    .dataframe tbody tr th {\n        vertical-align: top;\n    }\n\n    .dataframe thead th {\n        text-align: right;\n    }\n</style>\n<table border=\"1\" class=\"dataframe\">\n  <thead>\n    <tr style=\"text-align: right;\">\n      <th></th>\n      <th>Asset_Id</th>\n      <th>Description</th>\n    </tr>\n  </thead>\n  <tbody>\n    <tr>\n      <th>0</th>\n      <td>cluster1.turb1</td>\n      <td>Turbine</td>\n    </tr>\n    <tr>\n      <th>1</th>\n      <td>cluster1.turb10</td>\n      <td>Turbine</td>\n    </tr>\n    <tr>\n      <th>2</th>\n      <td>cluster1.turb2</td>\n      <td>Turbine</td>\n    </tr>\n    <tr>\n      <th>3</th>\n      <td>cluster1.turb3</td>\n      <td>Turbine</td>\n    </tr>\n    <tr>\n      <th>4</th>\n      <td>cluster1.turb4</td>\n      <td>Turbine</td>\n    </tr>\n    <tr>\n      <th>5</th>\n      <td>cluster1.turb5</td>\n      <td>Turbine</td>\n    </tr>\n    <tr>\n      <th>6</th>\n      <td>cluster1.turb6</td>\n      <td>Turbine</td>\n    </tr>\n    <tr>\n      <th>7</th>\n      <td>cluster1.turb7</td>\n      <td>Turbine</td>\n    </tr>\n    <tr>\n      <th>8</th>\n      <td>cluster1.turb8</td>\n      <td>Turbine</td>\n    </tr>\n    <tr>\n      <th>9</th>\n      <td>cluster1.turb9</td>\n      <td>Turbine</td>\n    </tr>\n    <tr>\n      <th>10</th>\n      <td>cluster2.turb1</td>\n      <td>Turbine</td>\n    </tr>\n    <tr>\n      <th>11</th>\n      <td>cluster2.turb10</td>\n      <td>Turbine</td>\n    </tr>\n    <tr>\n      <th>12</th>\n      <td>cluster2.turb2</td>\n      <td>Turbine</td>\n    </tr>\n    <tr>\n      <th>13</th>\n      <td>cluster2.turb3</td>\n      <td>Turbine</td>\n    </tr>\n    <tr>\n      <th>14</th>\n      <td>cluster2.turb4</td>\n      <td>Turbine</td>\n    </tr>\n    <tr>\n      <th>15</th>\n      <td>cluster2.turb5</td>\n      <td>Turbine</td>\n    </tr>\n    <tr>\n      <th>16</th>\n      <td>cluster2.turb6</td>\n      <td>Turbine</td>\n    </tr>\n    <tr>\n      <th>17</th>\n      <td>cluster2.turb7</td>\n      <td>Turbine</td>\n    </tr>\n    <tr>\n      <th>18</th>\n      <td>cluster2.turb8</td>\n      <td>Turbine</td>\n    </tr>\n    <tr>\n      <th>19</th>\n      <td>cluster2.turb9</td>\n      <td>Turbine</td>\n    </tr>\n    <tr>\n      <th>20</th>\n      <td>cluster3.turb1</td>\n      <td>Turbine</td>\n    </tr>\n    <tr>\n      <th>21</th>\n      <td>cluster3.turb10</td>\n      <td>Turbine</td>\n    </tr>\n    <tr>\n      <th>22</th>\n      <td>cluster3.turb2</td>\n      <td>Turbine</td>\n    </tr>\n    <tr>\n      <th>23</th>\n      <td>cluster3.turb3</td>\n      <td>Turbine</td>\n    </tr>\n    <tr>\n      <th>24</th>\n      <td>cluster3.turb4</td>\n      <td>Turbine</td>\n    </tr>\n    <tr>\n      <th>25</th>\n      <td>cluster3.turb5</td>\n      <td>Turbine</td>\n    </tr>\n    <tr>\n      <th>26</th>\n      <td>cluster3.turb6</td>\n      <td>Turbine</td>\n    </tr>\n    <tr>\n      <th>27</th>\n      <td>cluster3.turb7</td>\n      <td>Turbine</td>\n    </tr>\n    <tr>\n      <th>28</th>\n      <td>cluster3.turb8</td>\n      <td>Turbine</td>\n    </tr>\n    <tr>\n      <th>29</th>\n      <td>cluster3.turb9</td>\n      <td>Turbine</td>\n    </tr>\n    <tr>\n      <th>30</th>\n      <td>cluster4.turb1</td>\n      <td>Turbine</td>\n    </tr>\n    <tr>\n      <th>31</th>\n      <td>cluster4.turb10</td>\n      <td>Turbine</td>\n    </tr>\n    <tr>\n      <th>32</th>\n      <td>cluster4.turb2</td>\n      <td>Turbine</td>\n    </tr>\n    <tr>\n      <th>33</th>\n      <td>cluster4.turb3</td>\n      <td>Turbine</td>\n    </tr>\n    <tr>\n      <th>34</th>\n      <td>cluster4.turb4</td>\n      <td>Turbine</td>\n    </tr>\n    <tr>\n      <th>35</th>\n      <td>cluster4.turb5</td>\n      <td>Turbine</td>\n    </tr>\n    <tr>\n      <th>36</th>\n      <td>cluster4.turb6</td>\n      <td>Turbine</td>\n    </tr>\n    <tr>\n      <th>37</th>\n      <td>cluster4.turb7</td>\n      <td>Turbine</td>\n    </tr>\n    <tr>\n      <th>38</th>\n      <td>cluster4.turb8</td>\n      <td>Turbine</td>\n    </tr>\n    <tr>\n      <th>39</th>\n      <td>cluster4.turb9</td>\n      <td>Turbine</td>\n    </tr>\n    <tr>\n      <th>40</th>\n      <td>cluster5.turb1</td>\n      <td>Turbine</td>\n    </tr>\n    <tr>\n      <th>41</th>\n      <td>cluster5.turb10</td>\n      <td>Turbine</td>\n    </tr>\n    <tr>\n      <th>42</th>\n      <td>cluster5.turb2</td>\n      <td>Turbine</td>\n    </tr>\n    <tr>\n      <th>43</th>\n      <td>cluster5.turb3</td>\n      <td>Turbine</td>\n    </tr>\n    <tr>\n      <th>44</th>\n      <td>cluster5.turb4</td>\n      <td>Turbine</td>\n    </tr>\n    <tr>\n      <th>45</th>\n      <td>cluster5.turb5</td>\n      <td>Turbine</td>\n    </tr>\n    <tr>\n      <th>46</th>\n      <td>cluster5.turb6</td>\n      <td>Turbine</td>\n    </tr>\n    <tr>\n      <th>47</th>\n      <td>cluster5.turb7</td>\n      <td>Turbine</td>\n    </tr>\n    <tr>\n      <th>48</th>\n      <td>cluster5.turb8</td>\n      <td>Turbine</td>\n    </tr>\n    <tr>\n      <th>49</th>\n      <td>cluster5.turb9</td>\n      <td>Turbine</td>\n    </tr>\n  </tbody>\n</table>\n</div>"
     },
     "metadata": {}
    }
   ]
  },
  {
   "cell_type": "markdown",
   "source": "### Assets metadata\n\nStore data about cluster no.4 into dataframe `df_meta` for map plot in next section",
   "metadata": {
    "cell_id": "00018-e208f1a6-9c17-47f1-9bb3-31a4b8d02a1b",
    "deepnote_cell_type": "markdown"
   }
  },
  {
   "cell_type": "code",
   "metadata": {
    "cell_id": "00019-4d71c77b-c786-46ec-8079-4ad1b55d236b",
    "deepnote_output_heights": [
     322
    ],
    "deepnote_to_be_reexecuted": false,
    "source_hash": "71e77bf1",
    "execution_start": 1642370932706,
    "execution_millis": 94,
    "deepnote_cell_type": "code"
   },
   "source": "df_metadata = hub.all_assets_metadata()\ndf_meta = df_metadata[df_metadata.Asset_Id.apply(lambda s: s[:8] == \"cluster4\")]\ndf_meta",
   "execution_count": 10,
   "outputs": [
    {
     "output_type": "execute_result",
     "execution_count": 10,
     "data": {
      "application/vnd.deepnote.dataframe.v3+json": {
       "column_count": 7,
       "row_count": 10,
       "columns": [
        {
         "name": "Cluster",
         "dtype": "int64",
         "stats": {
          "unique_count": 1,
          "nan_count": 0,
          "min": "4",
          "max": "4",
          "histogram": [
           {
            "bin_start": 3.5,
            "bin_end": 3.6,
            "count": 0
           },
           {
            "bin_start": 3.6,
            "bin_end": 3.7,
            "count": 0
           },
           {
            "bin_start": 3.7,
            "bin_end": 3.8,
            "count": 0
           },
           {
            "bin_start": 3.8,
            "bin_end": 3.9,
            "count": 0
           },
           {
            "bin_start": 3.9,
            "bin_end": 4,
            "count": 0
           },
           {
            "bin_start": 4,
            "bin_end": 4.1,
            "count": 10
           },
           {
            "bin_start": 4.1,
            "bin_end": 4.2,
            "count": 0
           },
           {
            "bin_start": 4.2,
            "bin_end": 4.3,
            "count": 0
           },
           {
            "bin_start": 4.3,
            "bin_end": 4.4,
            "count": 0
           },
           {
            "bin_start": 4.4,
            "bin_end": 4.5,
            "count": 0
           }
          ]
         }
        },
        {
         "name": "ID",
         "dtype": "object",
         "stats": {
          "unique_count": 10,
          "nan_count": 0,
          "categories": [
           {
            "name": "1",
            "count": 1
           },
           {
            "name": "10",
            "count": 1
           },
           {
            "name": "8 others",
            "count": 8
           }
          ]
         }
        },
        {
         "name": "Latitude",
         "dtype": "float64",
         "stats": {
          "unique_count": 9,
          "nan_count": 0,
          "min": "-33.302959",
          "max": "-33.294081",
          "histogram": [
           {
            "bin_start": -33.302959,
            "bin_end": -33.3020712,
            "count": 1
           },
           {
            "bin_start": -33.3020712,
            "bin_end": -33.3011834,
            "count": 1
           },
           {
            "bin_start": -33.3011834,
            "bin_end": -33.3002956,
            "count": 2
           },
           {
            "bin_start": -33.3002956,
            "bin_end": -33.2994078,
            "count": 0
           },
           {
            "bin_start": -33.2994078,
            "bin_end": -33.298519999999996,
            "count": 1
           },
           {
            "bin_start": -33.298519999999996,
            "bin_end": -33.2976322,
            "count": 0
           },
           {
            "bin_start": -33.2976322,
            "bin_end": -33.2967444,
            "count": 1
           },
           {
            "bin_start": -33.2967444,
            "bin_end": -33.2958566,
            "count": 3
           },
           {
            "bin_start": -33.2958566,
            "bin_end": -33.2949688,
            "count": 0
           },
           {
            "bin_start": -33.2949688,
            "bin_end": -33.294081,
            "count": 1
           }
          ]
         }
        },
        {
         "name": "Longitude",
         "dtype": "float64",
         "stats": {
          "unique_count": 10,
          "nan_count": 0,
          "min": "138.706698",
          "max": "138.731074",
          "histogram": [
           {
            "bin_start": 138.706698,
            "bin_end": 138.7091356,
            "count": 2
           },
           {
            "bin_start": 138.7091356,
            "bin_end": 138.7115732,
            "count": 0
           },
           {
            "bin_start": 138.7115732,
            "bin_end": 138.71401079999998,
            "count": 2
           },
           {
            "bin_start": 138.71401079999998,
            "bin_end": 138.7164484,
            "count": 0
           },
           {
            "bin_start": 138.7164484,
            "bin_end": 138.718886,
            "count": 1
           },
           {
            "bin_start": 138.718886,
            "bin_end": 138.7213236,
            "count": 1
           },
           {
            "bin_start": 138.7213236,
            "bin_end": 138.7237612,
            "count": 1
           },
           {
            "bin_start": 138.7237612,
            "bin_end": 138.7261988,
            "count": 0
           },
           {
            "bin_start": 138.7261988,
            "bin_end": 138.7286364,
            "count": 2
           },
           {
            "bin_start": 138.7286364,
            "bin_end": 138.731074,
            "count": 1
           }
          ]
         }
        },
        {
         "name": "Manufacturer",
         "dtype": "object",
         "stats": {
          "unique_count": 1,
          "nan_count": 0,
          "categories": [
           {
            "name": "",
            "count": 10
           }
          ]
         }
        },
        {
         "name": "Model",
         "dtype": "object",
         "stats": {
          "unique_count": 1,
          "nan_count": 0,
          "categories": [
           {
            "name": "",
            "count": 10
           }
          ]
         }
        },
        {
         "name": "Asset_Id",
         "dtype": "object",
         "stats": {
          "unique_count": 10,
          "nan_count": 0,
          "categories": [
           {
            "name": "cluster4.turb1",
            "count": 1
           },
           {
            "name": "cluster4.turb10",
            "count": 1
           },
           {
            "name": "8 others",
            "count": 8
           }
          ]
         }
        },
        {
         "name": "_deepnote_index_column",
         "dtype": "int64"
        }
       ],
       "rows": [
        {
         "Cluster": 4,
         "ID": "1",
         "Latitude": -33.294081,
         "Longitude": 138.731074,
         "Manufacturer": "",
         "Model": "",
         "Asset_Id": "cluster4.turb1",
         "_deepnote_index_column": 1
        },
        {
         "Cluster": 4,
         "ID": "10",
         "Latitude": -33.302959,
         "Longitude": 138.718843,
         "Manufacturer": "",
         "Model": "",
         "Asset_Id": "cluster4.turb10",
         "_deepnote_index_column": 6
        },
        {
         "Cluster": 4,
         "ID": "2",
         "Latitude": -33.297077,
         "Longitude": 138.728607,
         "Manufacturer": "",
         "Model": "",
         "Asset_Id": "cluster4.turb2",
         "_deepnote_index_column": 11
        },
        {
         "Cluster": 4,
         "ID": "3",
         "Latitude": -33.296198,
         "Longitude": 138.706698,
         "Manufacturer": "",
         "Model": "",
         "Asset_Id": "cluster4.turb3",
         "_deepnote_index_column": 19
        },
        {
         "Cluster": 4,
         "ID": "4",
         "Latitude": -33.295929,
         "Longitude": 138.712857,
         "Manufacturer": "",
         "Model": "",
         "Asset_Id": "cluster4.turb4",
         "_deepnote_index_column": 20
        },
        {
         "Cluster": 4,
         "ID": "5",
         "Latitude": -33.296198,
         "Longitude": 138.719079,
         "Manufacturer": "",
         "Model": "",
         "Asset_Id": "cluster4.turb5",
         "_deepnote_index_column": 25
        },
        {
         "Cluster": 4,
         "ID": "6",
         "Latitude": -33.298906,
         "Longitude": 138.723414,
         "Manufacturer": "",
         "Model": "",
         "Asset_Id": "cluster4.turb6",
         "_deepnote_index_column": 31
        },
        {
         "Cluster": 4,
         "ID": "7",
         "Latitude": -33.30043,
         "Longitude": 138.727212,
         "Manufacturer": "",
         "Model": "",
         "Asset_Id": "cluster4.turb7",
         "_deepnote_index_column": 39
        },
        {
         "Cluster": 4,
         "ID": "8",
         "Latitude": -33.301506,
         "Longitude": 138.707042,
         "Manufacturer": "",
         "Model": "",
         "Asset_Id": "cluster4.turb8",
         "_deepnote_index_column": 40
        },
        {
         "Cluster": 4,
         "ID": "9",
         "Latitude": -33.300915,
         "Longitude": 138.712792,
         "Manufacturer": "",
         "Model": "",
         "Asset_Id": "cluster4.turb9",
         "_deepnote_index_column": 47
        }
       ]
      },
      "text/plain": "    Cluster  ID   Latitude   Longitude Manufacturer Model         Asset_Id\n1         4   1 -33.294081  138.731074                      cluster4.turb1\n6         4  10 -33.302959  138.718843                     cluster4.turb10\n11        4   2 -33.297077  138.728607                      cluster4.turb2\n19        4   3 -33.296198  138.706698                      cluster4.turb3\n20        4   4 -33.295929  138.712857                      cluster4.turb4\n25        4   5 -33.296198  138.719079                      cluster4.turb5\n31        4   6 -33.298906  138.723414                      cluster4.turb6\n39        4   7 -33.300430  138.727212                      cluster4.turb7\n40        4   8 -33.301506  138.707042                      cluster4.turb8\n47        4   9 -33.300915  138.712792                      cluster4.turb9",
      "text/html": "<div>\n<style scoped>\n    .dataframe tbody tr th:only-of-type {\n        vertical-align: middle;\n    }\n\n    .dataframe tbody tr th {\n        vertical-align: top;\n    }\n\n    .dataframe thead th {\n        text-align: right;\n    }\n</style>\n<table border=\"1\" class=\"dataframe\">\n  <thead>\n    <tr style=\"text-align: right;\">\n      <th></th>\n      <th>Cluster</th>\n      <th>ID</th>\n      <th>Latitude</th>\n      <th>Longitude</th>\n      <th>Manufacturer</th>\n      <th>Model</th>\n      <th>Asset_Id</th>\n    </tr>\n  </thead>\n  <tbody>\n    <tr>\n      <th>1</th>\n      <td>4</td>\n      <td>1</td>\n      <td>-33.294081</td>\n      <td>138.731074</td>\n      <td></td>\n      <td></td>\n      <td>cluster4.turb1</td>\n    </tr>\n    <tr>\n      <th>6</th>\n      <td>4</td>\n      <td>10</td>\n      <td>-33.302959</td>\n      <td>138.718843</td>\n      <td></td>\n      <td></td>\n      <td>cluster4.turb10</td>\n    </tr>\n    <tr>\n      <th>11</th>\n      <td>4</td>\n      <td>2</td>\n      <td>-33.297077</td>\n      <td>138.728607</td>\n      <td></td>\n      <td></td>\n      <td>cluster4.turb2</td>\n    </tr>\n    <tr>\n      <th>19</th>\n      <td>4</td>\n      <td>3</td>\n      <td>-33.296198</td>\n      <td>138.706698</td>\n      <td></td>\n      <td></td>\n      <td>cluster4.turb3</td>\n    </tr>\n    <tr>\n      <th>20</th>\n      <td>4</td>\n      <td>4</td>\n      <td>-33.295929</td>\n      <td>138.712857</td>\n      <td></td>\n      <td></td>\n      <td>cluster4.turb4</td>\n    </tr>\n    <tr>\n      <th>25</th>\n      <td>4</td>\n      <td>5</td>\n      <td>-33.296198</td>\n      <td>138.719079</td>\n      <td></td>\n      <td></td>\n      <td>cluster4.turb5</td>\n    </tr>\n    <tr>\n      <th>31</th>\n      <td>4</td>\n      <td>6</td>\n      <td>-33.298906</td>\n      <td>138.723414</td>\n      <td></td>\n      <td></td>\n      <td>cluster4.turb6</td>\n    </tr>\n    <tr>\n      <th>39</th>\n      <td>4</td>\n      <td>7</td>\n      <td>-33.300430</td>\n      <td>138.727212</td>\n      <td></td>\n      <td></td>\n      <td>cluster4.turb7</td>\n    </tr>\n    <tr>\n      <th>40</th>\n      <td>4</td>\n      <td>8</td>\n      <td>-33.301506</td>\n      <td>138.707042</td>\n      <td></td>\n      <td></td>\n      <td>cluster4.turb8</td>\n    </tr>\n    <tr>\n      <th>47</th>\n      <td>4</td>\n      <td>9</td>\n      <td>-33.300915</td>\n      <td>138.712792</td>\n      <td></td>\n      <td></td>\n      <td>cluster4.turb9</td>\n    </tr>\n  </tbody>\n</table>\n</div>"
     },
     "metadata": {}
    }
   ]
  },
  {
   "cell_type": "markdown",
   "source": "### Map of Wind Turbines\n\n**Below is a screenshot of map plot using the metadata of cluster no.4**\n![](https://academichub.blob.core.windows.net/images/agl_cluster4_map.png)",
   "metadata": {
    "cell_id": "00020-c287cc96-dafc-4c4d-b2ce-e954c6ecee30",
    "deepnote_cell_type": "markdown"
   }
  },
  {
   "cell_type": "markdown",
   "source": "#### Code for map generation using Plotly\n\nWith higher zoom to see turbine location and its ID better, including a different style to show terrain.",
   "metadata": {
    "cell_id": "00021-eec81df4-5200-4a5a-9426-26373456ba83",
    "deepnote_cell_type": "markdown"
   }
  },
  {
   "cell_type": "code",
   "metadata": {
    "cell_id": "00022-56dcb998-7757-4265-88d0-f92c49a3b150",
    "deepnote_output_heights": [
     527
    ],
    "deepnote_to_be_reexecuted": false,
    "source_hash": "6a9b27d8",
    "execution_start": 1642370932804,
    "execution_millis": 2058,
    "deepnote_cell_type": "code"
   },
   "source": "import plotly.express as px\n\nfig = px.scatter_mapbox(\n    df_meta,\n    lat=\"Latitude\",\n    lon=\"Longitude\",\n    text=\"Asset_Id\",\n    zoom=12.0,\n    title=\"Locations of Cluster 4 wind turbines (green dots)\",\n)\nfig.update_traces(marker=dict(size=12, color=\"red\"))\n# fig.update_layout(mapbox_style=\"stamen-terrain\")\nfig.update_layout(mapbox_style=\"open-street-map\")\nfig.show()",
   "execution_count": 11,
   "outputs": [
    {
     "data": {
      "text/html": "<html>\n<head><meta charset=\"utf-8\" /></head>\n<body>\n    <div>            <script src=\"https://cdnjs.cloudflare.com/ajax/libs/mathjax/2.7.5/MathJax.js?config=TeX-AMS-MML_SVG\"></script><script type=\"text/javascript\">if (window.MathJax) {MathJax.Hub.Config({SVG: {font: \"STIX-Web\"}});}</script>                <script type=\"text/javascript\">window.PlotlyConfig = {MathJaxConfig: 'local'};</script>\n        <script src=\"https://cdn.plot.ly/plotly-2.6.3.min.js\"></script>                <div id=\"b6a08064-3f6b-4266-8fa6-fde5d867435b\" class=\"plotly-graph-div\" style=\"height:525px; width:100%;\"></div>            <script type=\"text/javascript\">                                    window.PLOTLYENV=window.PLOTLYENV || {};                                    if (document.getElementById(\"b6a08064-3f6b-4266-8fa6-fde5d867435b\")) {                    Plotly.newPlot(                        \"b6a08064-3f6b-4266-8fa6-fde5d867435b\",                        [{\"hovertemplate\":\"Asset_Id=%{text}<br>Latitude=%{lat}<br>Longitude=%{lon}<extra></extra>\",\"lat\":[-33.294081,-33.302959,-33.297077,-33.296198,-33.295929,-33.296198,-33.298906,-33.30043,-33.301506,-33.300915],\"legendgroup\":\"\",\"lon\":[138.731074,138.718843,138.728607,138.706698,138.712857,138.719079,138.723414,138.727212,138.707042,138.712792],\"marker\":{\"color\":\"red\",\"size\":12},\"mode\":\"markers+text\",\"name\":\"\",\"showlegend\":false,\"subplot\":\"mapbox\",\"text\":[\"cluster4.turb1\",\"cluster4.turb10\",\"cluster4.turb2\",\"cluster4.turb3\",\"cluster4.turb4\",\"cluster4.turb5\",\"cluster4.turb6\",\"cluster4.turb7\",\"cluster4.turb8\",\"cluster4.turb9\"],\"type\":\"scattermapbox\"}],                        {\"template\":{\"data\":{\"bar\":[{\"error_x\":{\"color\":\"#2a3f5f\"},\"error_y\":{\"color\":\"#2a3f5f\"},\"marker\":{\"line\":{\"color\":\"#E5ECF6\",\"width\":0.5},\"pattern\":{\"fillmode\":\"overlay\",\"size\":10,\"solidity\":0.2}},\"type\":\"bar\"}],\"barpolar\":[{\"marker\":{\"line\":{\"color\":\"#E5ECF6\",\"width\":0.5},\"pattern\":{\"fillmode\":\"overlay\",\"size\":10,\"solidity\":0.2}},\"type\":\"barpolar\"}],\"carpet\":[{\"aaxis\":{\"endlinecolor\":\"#2a3f5f\",\"gridcolor\":\"white\",\"linecolor\":\"white\",\"minorgridcolor\":\"white\",\"startlinecolor\":\"#2a3f5f\"},\"baxis\":{\"endlinecolor\":\"#2a3f5f\",\"gridcolor\":\"white\",\"linecolor\":\"white\",\"minorgridcolor\":\"white\",\"startlinecolor\":\"#2a3f5f\"},\"type\":\"carpet\"}],\"choropleth\":[{\"colorbar\":{\"outlinewidth\":0,\"ticks\":\"\"},\"type\":\"choropleth\"}],\"contour\":[{\"colorbar\":{\"outlinewidth\":0,\"ticks\":\"\"},\"colorscale\":[[0.0,\"#0d0887\"],[0.1111111111111111,\"#46039f\"],[0.2222222222222222,\"#7201a8\"],[0.3333333333333333,\"#9c179e\"],[0.4444444444444444,\"#bd3786\"],[0.5555555555555556,\"#d8576b\"],[0.6666666666666666,\"#ed7953\"],[0.7777777777777778,\"#fb9f3a\"],[0.8888888888888888,\"#fdca26\"],[1.0,\"#f0f921\"]],\"type\":\"contour\"}],\"contourcarpet\":[{\"colorbar\":{\"outlinewidth\":0,\"ticks\":\"\"},\"type\":\"contourcarpet\"}],\"heatmap\":[{\"colorbar\":{\"outlinewidth\":0,\"ticks\":\"\"},\"colorscale\":[[0.0,\"#0d0887\"],[0.1111111111111111,\"#46039f\"],[0.2222222222222222,\"#7201a8\"],[0.3333333333333333,\"#9c179e\"],[0.4444444444444444,\"#bd3786\"],[0.5555555555555556,\"#d8576b\"],[0.6666666666666666,\"#ed7953\"],[0.7777777777777778,\"#fb9f3a\"],[0.8888888888888888,\"#fdca26\"],[1.0,\"#f0f921\"]],\"type\":\"heatmap\"}],\"heatmapgl\":[{\"colorbar\":{\"outlinewidth\":0,\"ticks\":\"\"},\"colorscale\":[[0.0,\"#0d0887\"],[0.1111111111111111,\"#46039f\"],[0.2222222222222222,\"#7201a8\"],[0.3333333333333333,\"#9c179e\"],[0.4444444444444444,\"#bd3786\"],[0.5555555555555556,\"#d8576b\"],[0.6666666666666666,\"#ed7953\"],[0.7777777777777778,\"#fb9f3a\"],[0.8888888888888888,\"#fdca26\"],[1.0,\"#f0f921\"]],\"type\":\"heatmapgl\"}],\"histogram\":[{\"marker\":{\"pattern\":{\"fillmode\":\"overlay\",\"size\":10,\"solidity\":0.2}},\"type\":\"histogram\"}],\"histogram2d\":[{\"colorbar\":{\"outlinewidth\":0,\"ticks\":\"\"},\"colorscale\":[[0.0,\"#0d0887\"],[0.1111111111111111,\"#46039f\"],[0.2222222222222222,\"#7201a8\"],[0.3333333333333333,\"#9c179e\"],[0.4444444444444444,\"#bd3786\"],[0.5555555555555556,\"#d8576b\"],[0.6666666666666666,\"#ed7953\"],[0.7777777777777778,\"#fb9f3a\"],[0.8888888888888888,\"#fdca26\"],[1.0,\"#f0f921\"]],\"type\":\"histogram2d\"}],\"histogram2dcontour\":[{\"colorbar\":{\"outlinewidth\":0,\"ticks\":\"\"},\"colorscale\":[[0.0,\"#0d0887\"],[0.1111111111111111,\"#46039f\"],[0.2222222222222222,\"#7201a8\"],[0.3333333333333333,\"#9c179e\"],[0.4444444444444444,\"#bd3786\"],[0.5555555555555556,\"#d8576b\"],[0.6666666666666666,\"#ed7953\"],[0.7777777777777778,\"#fb9f3a\"],[0.8888888888888888,\"#fdca26\"],[1.0,\"#f0f921\"]],\"type\":\"histogram2dcontour\"}],\"mesh3d\":[{\"colorbar\":{\"outlinewidth\":0,\"ticks\":\"\"},\"type\":\"mesh3d\"}],\"parcoords\":[{\"line\":{\"colorbar\":{\"outlinewidth\":0,\"ticks\":\"\"}},\"type\":\"parcoords\"}],\"pie\":[{\"automargin\":true,\"type\":\"pie\"}],\"scatter\":[{\"marker\":{\"colorbar\":{\"outlinewidth\":0,\"ticks\":\"\"}},\"type\":\"scatter\"}],\"scatter3d\":[{\"line\":{\"colorbar\":{\"outlinewidth\":0,\"ticks\":\"\"}},\"marker\":{\"colorbar\":{\"outlinewidth\":0,\"ticks\":\"\"}},\"type\":\"scatter3d\"}],\"scattercarpet\":[{\"marker\":{\"colorbar\":{\"outlinewidth\":0,\"ticks\":\"\"}},\"type\":\"scattercarpet\"}],\"scattergeo\":[{\"marker\":{\"colorbar\":{\"outlinewidth\":0,\"ticks\":\"\"}},\"type\":\"scattergeo\"}],\"scattergl\":[{\"marker\":{\"colorbar\":{\"outlinewidth\":0,\"ticks\":\"\"}},\"type\":\"scattergl\"}],\"scattermapbox\":[{\"marker\":{\"colorbar\":{\"outlinewidth\":0,\"ticks\":\"\"}},\"type\":\"scattermapbox\"}],\"scatterpolar\":[{\"marker\":{\"colorbar\":{\"outlinewidth\":0,\"ticks\":\"\"}},\"type\":\"scatterpolar\"}],\"scatterpolargl\":[{\"marker\":{\"colorbar\":{\"outlinewidth\":0,\"ticks\":\"\"}},\"type\":\"scatterpolargl\"}],\"scatterternary\":[{\"marker\":{\"colorbar\":{\"outlinewidth\":0,\"ticks\":\"\"}},\"type\":\"scatterternary\"}],\"surface\":[{\"colorbar\":{\"outlinewidth\":0,\"ticks\":\"\"},\"colorscale\":[[0.0,\"#0d0887\"],[0.1111111111111111,\"#46039f\"],[0.2222222222222222,\"#7201a8\"],[0.3333333333333333,\"#9c179e\"],[0.4444444444444444,\"#bd3786\"],[0.5555555555555556,\"#d8576b\"],[0.6666666666666666,\"#ed7953\"],[0.7777777777777778,\"#fb9f3a\"],[0.8888888888888888,\"#fdca26\"],[1.0,\"#f0f921\"]],\"type\":\"surface\"}],\"table\":[{\"cells\":{\"fill\":{\"color\":\"#EBF0F8\"},\"line\":{\"color\":\"white\"}},\"header\":{\"fill\":{\"color\":\"#C8D4E3\"},\"line\":{\"color\":\"white\"}},\"type\":\"table\"}]},\"layout\":{\"annotationdefaults\":{\"arrowcolor\":\"#2a3f5f\",\"arrowhead\":0,\"arrowwidth\":1},\"autotypenumbers\":\"strict\",\"coloraxis\":{\"colorbar\":{\"outlinewidth\":0,\"ticks\":\"\"}},\"colorscale\":{\"diverging\":[[0,\"#8e0152\"],[0.1,\"#c51b7d\"],[0.2,\"#de77ae\"],[0.3,\"#f1b6da\"],[0.4,\"#fde0ef\"],[0.5,\"#f7f7f7\"],[0.6,\"#e6f5d0\"],[0.7,\"#b8e186\"],[0.8,\"#7fbc41\"],[0.9,\"#4d9221\"],[1,\"#276419\"]],\"sequential\":[[0.0,\"#0d0887\"],[0.1111111111111111,\"#46039f\"],[0.2222222222222222,\"#7201a8\"],[0.3333333333333333,\"#9c179e\"],[0.4444444444444444,\"#bd3786\"],[0.5555555555555556,\"#d8576b\"],[0.6666666666666666,\"#ed7953\"],[0.7777777777777778,\"#fb9f3a\"],[0.8888888888888888,\"#fdca26\"],[1.0,\"#f0f921\"]],\"sequentialminus\":[[0.0,\"#0d0887\"],[0.1111111111111111,\"#46039f\"],[0.2222222222222222,\"#7201a8\"],[0.3333333333333333,\"#9c179e\"],[0.4444444444444444,\"#bd3786\"],[0.5555555555555556,\"#d8576b\"],[0.6666666666666666,\"#ed7953\"],[0.7777777777777778,\"#fb9f3a\"],[0.8888888888888888,\"#fdca26\"],[1.0,\"#f0f921\"]]},\"colorway\":[\"#636efa\",\"#EF553B\",\"#00cc96\",\"#ab63fa\",\"#FFA15A\",\"#19d3f3\",\"#FF6692\",\"#B6E880\",\"#FF97FF\",\"#FECB52\"],\"font\":{\"color\":\"#2a3f5f\"},\"geo\":{\"bgcolor\":\"white\",\"lakecolor\":\"white\",\"landcolor\":\"#E5ECF6\",\"showlakes\":true,\"showland\":true,\"subunitcolor\":\"white\"},\"hoverlabel\":{\"align\":\"left\"},\"hovermode\":\"closest\",\"mapbox\":{\"style\":\"light\"},\"paper_bgcolor\":\"white\",\"plot_bgcolor\":\"#E5ECF6\",\"polar\":{\"angularaxis\":{\"gridcolor\":\"white\",\"linecolor\":\"white\",\"ticks\":\"\"},\"bgcolor\":\"#E5ECF6\",\"radialaxis\":{\"gridcolor\":\"white\",\"linecolor\":\"white\",\"ticks\":\"\"}},\"scene\":{\"xaxis\":{\"backgroundcolor\":\"#E5ECF6\",\"gridcolor\":\"white\",\"gridwidth\":2,\"linecolor\":\"white\",\"showbackground\":true,\"ticks\":\"\",\"zerolinecolor\":\"white\"},\"yaxis\":{\"backgroundcolor\":\"#E5ECF6\",\"gridcolor\":\"white\",\"gridwidth\":2,\"linecolor\":\"white\",\"showbackground\":true,\"ticks\":\"\",\"zerolinecolor\":\"white\"},\"zaxis\":{\"backgroundcolor\":\"#E5ECF6\",\"gridcolor\":\"white\",\"gridwidth\":2,\"linecolor\":\"white\",\"showbackground\":true,\"ticks\":\"\",\"zerolinecolor\":\"white\"}},\"shapedefaults\":{\"line\":{\"color\":\"#2a3f5f\"}},\"ternary\":{\"aaxis\":{\"gridcolor\":\"white\",\"linecolor\":\"white\",\"ticks\":\"\"},\"baxis\":{\"gridcolor\":\"white\",\"linecolor\":\"white\",\"ticks\":\"\"},\"bgcolor\":\"#E5ECF6\",\"caxis\":{\"gridcolor\":\"white\",\"linecolor\":\"white\",\"ticks\":\"\"}},\"title\":{\"x\":0.05},\"xaxis\":{\"automargin\":true,\"gridcolor\":\"white\",\"linecolor\":\"white\",\"ticks\":\"\",\"title\":{\"standoff\":15},\"zerolinecolor\":\"white\",\"zerolinewidth\":2},\"yaxis\":{\"automargin\":true,\"gridcolor\":\"white\",\"linecolor\":\"white\",\"ticks\":\"\",\"title\":{\"standoff\":15},\"zerolinecolor\":\"white\",\"zerolinewidth\":2}}},\"mapbox\":{\"domain\":{\"x\":[0.0,1.0],\"y\":[0.0,1.0]},\"center\":{\"lat\":-33.2984199,\"lon\":138.7187618},\"zoom\":12.0,\"style\":\"open-street-map\"},\"legend\":{\"tracegroupgap\":0},\"title\":{\"text\":\"Locations of Cluster 4 wind turbines (green dots)\"}},                        {\"responsive\": true}                    ).then(function(){\n                            \nvar gd = document.getElementById('b6a08064-3f6b-4266-8fa6-fde5d867435b');\nvar x = new MutationObserver(function (mutations, observer) {{\n        var display = window.getComputedStyle(gd).display;\n        if (!display || display === 'none') {{\n            console.log([gd, 'removed!']);\n            Plotly.purge(gd);\n            observer.disconnect();\n        }}\n}});\n\n// Listen for the removal of the full notebook cells\nvar notebookContainer = gd.closest('#notebook-container');\nif (notebookContainer) {{\n    x.observe(notebookContainer, {childList: true});\n}}\n\n// Listen for the clearing of the current output cell\nvar outputEl = gd.closest('.output');\nif (outputEl) {{\n    x.observe(outputEl, {childList: true});\n}}\n\n                        })                };                            </script>        </div>\n</body>\n</html>"
     },
     "metadata": {},
     "output_type": "display_data"
    }
   ]
  },
  {
   "cell_type": "markdown",
   "source": "<details>\n    <summary><b>NOTE: the graph above doesn't show correctly on Github, click here to see a screenshot</b></summary>\n<a><img alt=\"Qries\" src=\"https://academichub.blob.core.windows.net/images/agl_cluster4_map_statmen.png\"></a>\n</details>",
   "metadata": {
    "cell_id": "00023-e02cf54f-967a-4840-8f74-f6624943b462",
    "deepnote_cell_type": "markdown"
   }
  },
  {
   "cell_type": "markdown",
   "source": "### Get the list of all single-asset data views",
   "metadata": {
    "cell_id": "00024-998065df-9d65-496a-bd89-9b4aee2d015e",
    "deepnote_cell_type": "markdown"
   }
  },
  {
   "cell_type": "code",
   "metadata": {
    "cell_id": "00025-2b00797c-14f2-4456-9cac-99a8d13434f1",
    "deepnote_output_heights": [
     611
    ],
    "deepnote_to_be_reexecuted": false,
    "source_hash": "32433344",
    "execution_start": 1642370934866,
    "execution_millis": 19,
    "deepnote_cell_type": "code"
   },
   "source": "hub.asset_dataviews()",
   "execution_count": 12,
   "outputs": [
    {
     "output_type": "execute_result",
     "execution_count": 12,
     "data": {
      "text/plain": "['wind.farms_cluster1.turb1',\n 'wind.farms_cluster1.turb10',\n 'wind.farms_cluster1.turb2',\n 'wind.farms_cluster1.turb3',\n 'wind.farms_cluster1.turb4',\n 'wind.farms_cluster1.turb5',\n 'wind.farms_cluster1.turb6',\n 'wind.farms_cluster1.turb7',\n 'wind.farms_cluster1.turb8',\n 'wind.farms_cluster1.turb9',\n 'wind.farms_cluster2.turb1',\n 'wind.farms_cluster2.turb10',\n 'wind.farms_cluster2.turb2',\n 'wind.farms_cluster2.turb3',\n 'wind.farms_cluster2.turb4',\n 'wind.farms_cluster2.turb5',\n 'wind.farms_cluster2.turb6',\n 'wind.farms_cluster2.turb7',\n 'wind.farms_cluster2.turb8',\n 'wind.farms_cluster2.turb9',\n 'wind.farms_cluster3.turb1',\n 'wind.farms_cluster3.turb10',\n 'wind.farms_cluster3.turb2',\n 'wind.farms_cluster3.turb3',\n 'wind.farms_cluster3.turb4',\n 'wind.farms_cluster3.turb5',\n 'wind.farms_cluster3.turb6',\n 'wind.farms_cluster3.turb7',\n 'wind.farms_cluster3.turb8',\n 'wind.farms_cluster3.turb9',\n 'wind.farms_cluster4.turb1',\n 'wind.farms_cluster4.turb10',\n 'wind.farms_cluster4.turb2',\n 'wind.farms_cluster4.turb3',\n 'wind.farms_cluster4.turb4',\n 'wind.farms_cluster4.turb5',\n 'wind.farms_cluster4.turb6',\n 'wind.farms_cluster4.turb7',\n 'wind.farms_cluster4.turb8',\n 'wind.farms_cluster4.turb9',\n 'wind.farms_cluster5.turb1',\n 'wind.farms_cluster5.turb10',\n 'wind.farms_cluster5.turb2',\n 'wind.farms_cluster5.turb3',\n 'wind.farms_cluster5.turb4',\n 'wind.farms_cluster5.turb5',\n 'wind.farms_cluster5.turb6',\n 'wind.farms_cluster5.turb7',\n 'wind.farms_cluster5.turb8',\n 'wind.farms_cluster5.turb9']"
     },
     "metadata": {}
    }
   ]
  },
  {
   "cell_type": "markdown",
   "source": "### Get the list of all multiple-asset data views \n\n**NOTE: Only one such data view is defined now, for cluster no.4**",
   "metadata": {
    "cell_id": "00026-be2215cf-aa3b-433e-9659-b838a183004c",
    "deepnote_cell_type": "markdown"
   }
  },
  {
   "cell_type": "code",
   "metadata": {
    "cell_id": "00027-bb16b258-9c8d-4204-be49-26c917427a43",
    "deepnote_output_heights": [
     21.1875
    ],
    "deepnote_to_be_reexecuted": false,
    "source_hash": "56bbcf3",
    "execution_start": 1642370934889,
    "execution_millis": 58,
    "deepnote_cell_type": "code"
   },
   "source": "dataview_id = hub.asset_dataviews(\"\", multiple_asset=True)[0]\ndataview_id",
   "execution_count": 13,
   "outputs": [
    {
     "output_type": "execute_result",
     "execution_count": 13,
     "data": {
      "text/plain": "'wind.farms_cluster1'"
     },
     "metadata": {}
    }
   ]
  },
  {
   "cell_type": "markdown",
   "source": "### Verify the structure of the data view\n\nFor wind turbine `cluster4.turb1` (data view `wind.farms_cluster4` is similar but with all turbines of cluster no.4)",
   "metadata": {
    "cell_id": "00028-eb0a7338-94cb-4f68-8827-d105163fc004",
    "deepnote_cell_type": "markdown"
   }
  },
  {
   "cell_type": "code",
   "metadata": {
    "cell_id": "00029-4dab268e-ddbb-48ca-9743-6fa5a9eb0c7e",
    "deepnote_output_heights": [
     409
    ],
    "deepnote_to_be_reexecuted": false,
    "source_hash": "dcb0240d",
    "execution_start": 1642370934947,
    "execution_millis": 1121,
    "deepnote_cell_type": "code"
   },
   "source": "hub.dataview_definition(namespace_id, \"wind.farms_cluster4.turb1\")",
   "execution_count": 14,
   "outputs": [
    {
     "output_type": "execute_result",
     "execution_count": 14,
     "data": {
      "application/vnd.deepnote.dataframe.v3+json": {
       "column_count": 5,
       "row_count": 13,
       "columns": [
        {
         "name": "Asset_Id",
         "dtype": "object",
         "stats": {
          "unique_count": 1,
          "nan_count": 0,
          "categories": [
           {
            "name": "cluster4.turb1",
            "count": 13
           }
          ]
         }
        },
        {
         "name": "Column_Name",
         "dtype": "object",
         "stats": {
          "unique_count": 13,
          "nan_count": 0,
          "categories": [
           {
            "name": "Ambient Temperature",
            "count": 1
           },
           {
            "name": "Drivetrain Gearbox Temp IMSDE",
            "count": 1
           },
           {
            "name": "11 others",
            "count": 11
           }
          ]
         }
        },
        {
         "name": "Stream_Type",
         "dtype": "object",
         "stats": {
          "unique_count": 2,
          "nan_count": 0,
          "categories": [
           {
            "name": "Float",
            "count": 12
           },
           {
            "name": "Category",
            "count": 1
           }
          ]
         }
        },
        {
         "name": "Stream_UOM",
         "dtype": "object",
         "stats": {
          "unique_count": 7,
          "nan_count": 0,
          "categories": [
           {
            "name": "°C",
            "count": 5
           },
           {
            "name": "degrees",
            "count": 3
           },
           {
            "name": "5 others",
            "count": 5
           }
          ]
         }
        },
        {
         "name": "OCS_Stream_Name",
         "dtype": "object",
         "stats": {
          "unique_count": 13,
          "nan_count": 0,
          "categories": [
           {
            "name": "cluster4.turb1.temp_ambient",
            "count": 1
           },
           {
            "name": "cluster4.turb1.temp_drivetrain_gearbox_IMSDE",
            "count": 1
           },
           {
            "name": "11 others",
            "count": 11
           }
          ]
         }
        },
        {
         "name": "_deepnote_index_column",
         "dtype": "int64"
        }
       ],
       "rows": [
        {
         "Asset_Id": "cluster4.turb1",
         "Column_Name": "Ambient Temperature",
         "Stream_Type": "Float",
         "Stream_UOM": "°C",
         "OCS_Stream_Name": "cluster4.turb1.temp_ambient",
         "_deepnote_index_column": 4
        },
        {
         "Asset_Id": "cluster4.turb1",
         "Column_Name": "Drivetrain Gearbox Temp IMSDE",
         "Stream_Type": "Float",
         "Stream_UOM": "°C",
         "OCS_Stream_Name": "cluster4.turb1.temp_drivetrain_gearbox_IMSDE",
         "_deepnote_index_column": 5
        },
        {
         "Asset_Id": "cluster4.turb1",
         "Column_Name": "Drivetrain Gearbox Temp IMSNDE",
         "Stream_Type": "Float",
         "Stream_UOM": "°C",
         "OCS_Stream_Name": "cluster4.turb1.temp_drivetrain_gearbox_IMSNDE",
         "_deepnote_index_column": 6
        },
        {
         "Asset_Id": "cluster4.turb1",
         "Column_Name": "Drivetrain Mainbearing Temp",
         "Stream_Type": "Float",
         "Stream_UOM": "°C",
         "OCS_Stream_Name": "cluster4.turb1.temp_drivetrain_mainbearing",
         "_deepnote_index_column": 7
        },
        {
         "Asset_Id": "cluster4.turb1",
         "Column_Name": "Drivetrain vibration",
         "Stream_Type": "Float",
         "Stream_UOM": "m/s²",
         "OCS_Stream_Name": "cluster4.turb1.vib_drive_train",
         "_deepnote_index_column": 9
        },
        {
         "Asset_Id": "cluster4.turb1",
         "Column_Name": "Nacelle Temp",
         "Stream_Type": "Float",
         "Stream_UOM": "°C",
         "OCS_Stream_Name": "cluster4.turb1.temp_nacelle",
         "_deepnote_index_column": 8
        },
        {
         "Asset_Id": "cluster4.turb1",
         "Column_Name": "Pitch Angle",
         "Stream_Type": "Float",
         "Stream_UOM": "degrees",
         "OCS_Stream_Name": "cluster4.turb1.pitch_angle",
         "_deepnote_index_column": 1
        },
        {
         "Asset_Id": "cluster4.turb1",
         "Column_Name": "Power To Grid",
         "Stream_Type": "Float",
         "Stream_UOM": "kW",
         "OCS_Stream_Name": "cluster4.turb1.power_to_grid",
         "_deepnote_index_column": 2
        },
        {
         "Asset_Id": "cluster4.turb1",
         "Column_Name": "Relative Wind Direction",
         "Stream_Type": "Float",
         "Stream_UOM": "degrees",
         "OCS_Stream_Name": "cluster4.turb1.wind_direction_relative",
         "_deepnote_index_column": 10
        },
        {
         "Asset_Id": "cluster4.turb1",
         "Column_Name": "Rotor Speed",
         "Stream_Type": "Float",
         "Stream_UOM": "RPM",
         "OCS_Stream_Name": "cluster4.turb1.rotor_rpm",
         "_deepnote_index_column": 3
        }
       ]
      },
      "text/plain": "          Asset_Id                     Column_Name Stream_Type    Stream_UOM  \\\n4   cluster4.turb1             Ambient Temperature       Float            °C   \n5   cluster4.turb1   Drivetrain Gearbox Temp IMSDE       Float            °C   \n6   cluster4.turb1  Drivetrain Gearbox Temp IMSNDE       Float            °C   \n7   cluster4.turb1     Drivetrain Mainbearing Temp       Float            °C   \n9   cluster4.turb1            Drivetrain vibration       Float          m/s²   \n8   cluster4.turb1                    Nacelle Temp       Float            °C   \n1   cluster4.turb1                     Pitch Angle       Float       degrees   \n2   cluster4.turb1                   Power To Grid       Float            kW   \n10  cluster4.turb1         Relative Wind Direction       Float       degrees   \n3   cluster4.turb1                     Rotor Speed       Float           RPM   \n0   cluster4.turb1                           State    Category  OK|TurbError   \n11  cluster4.turb1                      Wind Speed       Float           m/s   \n12  cluster4.turb1                       Yaw Angle       Float       degrees   \n\n                                  OCS_Stream_Name  \n4                     cluster4.turb1.temp_ambient  \n5    cluster4.turb1.temp_drivetrain_gearbox_IMSDE  \n6   cluster4.turb1.temp_drivetrain_gearbox_IMSNDE  \n7      cluster4.turb1.temp_drivetrain_mainbearing  \n9                  cluster4.turb1.vib_drive_train  \n8                     cluster4.turb1.temp_nacelle  \n1                      cluster4.turb1.pitch_angle  \n2                    cluster4.turb1.power_to_grid  \n10         cluster4.turb1.wind_direction_relative  \n3                        cluster4.turb1.rotor_rpm  \n0                      cluster4.turb1.error_state  \n11                      cluster4.turb1.wind_speed  \n12                       cluster4.turb1.yaw_angle  ",
      "text/html": "<div>\n<style scoped>\n    .dataframe tbody tr th:only-of-type {\n        vertical-align: middle;\n    }\n\n    .dataframe tbody tr th {\n        vertical-align: top;\n    }\n\n    .dataframe thead th {\n        text-align: right;\n    }\n</style>\n<table border=\"1\" class=\"dataframe\">\n  <thead>\n    <tr style=\"text-align: right;\">\n      <th></th>\n      <th>Asset_Id</th>\n      <th>Column_Name</th>\n      <th>Stream_Type</th>\n      <th>Stream_UOM</th>\n      <th>OCS_Stream_Name</th>\n    </tr>\n  </thead>\n  <tbody>\n    <tr>\n      <th>4</th>\n      <td>cluster4.turb1</td>\n      <td>Ambient Temperature</td>\n      <td>Float</td>\n      <td>°C</td>\n      <td>cluster4.turb1.temp_ambient</td>\n    </tr>\n    <tr>\n      <th>5</th>\n      <td>cluster4.turb1</td>\n      <td>Drivetrain Gearbox Temp IMSDE</td>\n      <td>Float</td>\n      <td>°C</td>\n      <td>cluster4.turb1.temp_drivetrain_gearbox_IMSDE</td>\n    </tr>\n    <tr>\n      <th>6</th>\n      <td>cluster4.turb1</td>\n      <td>Drivetrain Gearbox Temp IMSNDE</td>\n      <td>Float</td>\n      <td>°C</td>\n      <td>cluster4.turb1.temp_drivetrain_gearbox_IMSNDE</td>\n    </tr>\n    <tr>\n      <th>7</th>\n      <td>cluster4.turb1</td>\n      <td>Drivetrain Mainbearing Temp</td>\n      <td>Float</td>\n      <td>°C</td>\n      <td>cluster4.turb1.temp_drivetrain_mainbearing</td>\n    </tr>\n    <tr>\n      <th>9</th>\n      <td>cluster4.turb1</td>\n      <td>Drivetrain vibration</td>\n      <td>Float</td>\n      <td>m/s²</td>\n      <td>cluster4.turb1.vib_drive_train</td>\n    </tr>\n    <tr>\n      <th>8</th>\n      <td>cluster4.turb1</td>\n      <td>Nacelle Temp</td>\n      <td>Float</td>\n      <td>°C</td>\n      <td>cluster4.turb1.temp_nacelle</td>\n    </tr>\n    <tr>\n      <th>1</th>\n      <td>cluster4.turb1</td>\n      <td>Pitch Angle</td>\n      <td>Float</td>\n      <td>degrees</td>\n      <td>cluster4.turb1.pitch_angle</td>\n    </tr>\n    <tr>\n      <th>2</th>\n      <td>cluster4.turb1</td>\n      <td>Power To Grid</td>\n      <td>Float</td>\n      <td>kW</td>\n      <td>cluster4.turb1.power_to_grid</td>\n    </tr>\n    <tr>\n      <th>10</th>\n      <td>cluster4.turb1</td>\n      <td>Relative Wind Direction</td>\n      <td>Float</td>\n      <td>degrees</td>\n      <td>cluster4.turb1.wind_direction_relative</td>\n    </tr>\n    <tr>\n      <th>3</th>\n      <td>cluster4.turb1</td>\n      <td>Rotor Speed</td>\n      <td>Float</td>\n      <td>RPM</td>\n      <td>cluster4.turb1.rotor_rpm</td>\n    </tr>\n    <tr>\n      <th>0</th>\n      <td>cluster4.turb1</td>\n      <td>State</td>\n      <td>Category</td>\n      <td>OK|TurbError</td>\n      <td>cluster4.turb1.error_state</td>\n    </tr>\n    <tr>\n      <th>11</th>\n      <td>cluster4.turb1</td>\n      <td>Wind Speed</td>\n      <td>Float</td>\n      <td>m/s</td>\n      <td>cluster4.turb1.wind_speed</td>\n    </tr>\n    <tr>\n      <th>12</th>\n      <td>cluster4.turb1</td>\n      <td>Yaw Angle</td>\n      <td>Float</td>\n      <td>degrees</td>\n      <td>cluster4.turb1.yaw_angle</td>\n    </tr>\n  </tbody>\n</table>\n</div>"
     },
     "metadata": {}
    }
   ]
  },
  {
   "cell_type": "markdown",
   "source": "### Request data view result\n\nFor 2 months starting on 2019-01-01, interpolated every hour. Method `dataview_interpolated_pd` takes care of gathering multiple pages of data and returning a single Pandas dataframe.  ",
   "metadata": {
    "cell_id": "00030-523d861c-aa9c-4d5c-962b-2744912e113f",
    "deepnote_cell_type": "markdown"
   }
  },
  {
   "cell_type": "code",
   "metadata": {
    "scrolled": true,
    "cell_id": "00031-3034b25b-b7f0-4086-a1dd-2c48d5d37e76",
    "deepnote_output_heights": [
     null,
     382.1875
    ],
    "deepnote_to_be_reexecuted": false,
    "source_hash": "518a525",
    "execution_start": 1642371006122,
    "execution_millis": 127406,
    "deepnote_cell_type": "code"
   },
   "source": "dateFrom = \"2019-01-01\"\ndateTo = \"2019-03-01\"\ntimeinterval = \"01:00:00\" # format is HH:MM:SS \n\ndf = hub.dataview_interpolated_pd(\n    namespace_id, dataview_id, dateFrom, dateTo, timeinterval, count=1000\n)\ndf",
   "execution_count": 29,
   "outputs": [
    {
     "name": "stdout",
     "text": "++++++++++++++\n  ==> Finished 'dataview_interpolated_pd' in       126.9845 secs [ 112 rows/sec ]\n",
     "output_type": "stream"
    },
    {
     "output_type": "execute_result",
     "execution_count": 29,
     "data": {
      "application/vnd.deepnote.dataframe.v3+json": {
       "column_count": 15,
       "row_count": 14170,
       "columns": [
        {
         "name": "Timestamp",
         "dtype": "datetime64[ns]",
         "stats": {
          "unique_count": 1417,
          "nan_count": 0,
          "min": "2019-01-01 00:00:00",
          "max": "2019-03-01 00:00:00",
          "histogram": [
           {
            "bin_start": 1546300800000000000,
            "bin_end": 1546810560000000000,
            "count": 1420
           },
           {
            "bin_start": 1546810560000000000,
            "bin_end": 1547320320000000000,
            "count": 1420
           },
           {
            "bin_start": 1547320320000000000,
            "bin_end": 1547830080000000000,
            "count": 1410
           },
           {
            "bin_start": 1547830080000000000,
            "bin_end": 1548339840000000000,
            "count": 1420
           },
           {
            "bin_start": 1548339840000000000,
            "bin_end": 1548849600000000000,
            "count": 1410
           },
           {
            "bin_start": 1548849600000000000,
            "bin_end": 1549359360000000000,
            "count": 1420
           },
           {
            "bin_start": 1549359360000000000,
            "bin_end": 1549869120000000000,
            "count": 1420
           },
           {
            "bin_start": 1549869120000000000,
            "bin_end": 1550378880000000000,
            "count": 1410
           },
           {
            "bin_start": 1550378880000000000,
            "bin_end": 1550888640000000000,
            "count": 1420
           },
           {
            "bin_start": 1550888640000000000,
            "bin_end": 1551398400000000000,
            "count": 1420
           }
          ]
         }
        },
        {
         "name": "Asset_Id",
         "dtype": "object",
         "stats": {
          "unique_count": 10,
          "nan_count": 0,
          "categories": [
           {
            "name": "cluster1.turb1",
            "count": 1417
           },
           {
            "name": "cluster1.turb10",
            "count": 1417
           },
           {
            "name": "8 others",
            "count": 11336
           }
          ]
         }
        },
        {
         "name": "Pitch Angle",
         "dtype": "float64",
         "stats": {
          "unique_count": 14106,
          "nan_count": 0,
          "min": "-0.615120587804053",
          "max": "1111.0",
          "histogram": [
           {
            "bin_start": -0.615120587804053,
            "bin_end": 110.54639147097635,
            "count": 14126
           },
           {
            "bin_start": 110.54639147097635,
            "bin_end": 221.70790352975675,
            "count": 3
           },
           {
            "bin_start": 221.70790352975675,
            "bin_end": 332.86941558853715,
            "count": 2
           },
           {
            "bin_start": 332.86941558853715,
            "bin_end": 444.0309276473176,
            "count": 0
           },
           {
            "bin_start": 444.0309276473176,
            "bin_end": 555.192439706098,
            "count": 0
           },
           {
            "bin_start": 555.192439706098,
            "bin_end": 666.3539517648783,
            "count": 0
           },
           {
            "bin_start": 666.3539517648783,
            "bin_end": 777.5154638236587,
            "count": 0
           },
           {
            "bin_start": 777.5154638236587,
            "bin_end": 888.6769758824391,
            "count": 1
           },
           {
            "bin_start": 888.6769758824391,
            "bin_end": 999.8384879412196,
            "count": 2
           },
           {
            "bin_start": 999.8384879412196,
            "bin_end": 1111,
            "count": 36
           }
          ]
         }
        },
        {
         "name": "Power To Grid",
         "dtype": "float64",
         "stats": {
          "unique_count": 14109,
          "nan_count": 0,
          "min": "-1111.0",
          "max": "2234.216886237441",
          "histogram": [
           {
            "bin_start": -1111,
            "bin_end": -776.4783113762559,
            "count": 1
           },
           {
            "bin_start": -776.4783113762559,
            "bin_end": -441.95662275251175,
            "count": 0
           },
           {
            "bin_start": -441.95662275251175,
            "bin_end": -107.43493412876762,
            "count": 1
           },
           {
            "bin_start": -107.43493412876762,
            "bin_end": 227.0867544949765,
            "count": 6814
           },
           {
            "bin_start": 227.0867544949765,
            "bin_end": 561.6084431187205,
            "count": 2176
           },
           {
            "bin_start": 561.6084431187205,
            "bin_end": 896.1301317424648,
            "count": 1580
           },
           {
            "bin_start": 896.1301317424648,
            "bin_end": 1230.651820366209,
            "count": 1158
           },
           {
            "bin_start": 1230.651820366209,
            "bin_end": 1565.173508989953,
            "count": 840
           },
           {
            "bin_start": 1565.173508989953,
            "bin_end": 1899.695197613697,
            "count": 654
           },
           {
            "bin_start": 1899.695197613697,
            "bin_end": 2234.216886237441,
            "count": 946
           }
          ]
         }
        },
        {
         "name": "Rotor Speed",
         "dtype": "float64",
         "stats": {
          "unique_count": 13189,
          "nan_count": 0,
          "min": "0.0",
          "max": "16.37800063196971",
          "histogram": [
           {
            "bin_start": 0,
            "bin_end": 1.637800063196971,
            "count": 1509
           },
           {
            "bin_start": 1.637800063196971,
            "bin_end": 3.275600126393942,
            "count": 1212
           },
           {
            "bin_start": 3.275600126393942,
            "bin_end": 4.913400189590913,
            "count": 1280
           },
           {
            "bin_start": 4.913400189590913,
            "bin_end": 6.551200252787884,
            "count": 574
           },
           {
            "bin_start": 6.551200252787884,
            "bin_end": 8.189000315984854,
            "count": 209
           },
           {
            "bin_start": 8.189000315984854,
            "bin_end": 9.826800379181826,
            "count": 149
           },
           {
            "bin_start": 9.826800379181826,
            "bin_end": 11.464600442378796,
            "count": 130
           },
           {
            "bin_start": 11.464600442378796,
            "bin_end": 13.102400505575767,
            "count": 673
           },
           {
            "bin_start": 13.102400505575767,
            "bin_end": 14.740200568772739,
            "count": 388
           },
           {
            "bin_start": 14.740200568772739,
            "bin_end": 16.37800063196971,
            "count": 8046
           }
          ]
         }
        },
        {
         "name": "Ambient Temperature",
         "dtype": "float64",
         "stats": {
          "unique_count": 5639,
          "nan_count": 0,
          "min": "-273.0",
          "max": "46.78627127574088",
          "histogram": [
           {
            "bin_start": -273,
            "bin_end": -241.0213728724259,
            "count": 31
           },
           {
            "bin_start": -241.0213728724259,
            "bin_end": -209.04274574485183,
            "count": 2
           },
           {
            "bin_start": -209.04274574485183,
            "bin_end": -177.06411861727773,
            "count": 3
           },
           {
            "bin_start": -177.06411861727773,
            "bin_end": -145.08549148970366,
            "count": 1
           },
           {
            "bin_start": -145.08549148970366,
            "bin_end": -113.10686436212956,
            "count": 2
           },
           {
            "bin_start": -113.10686436212956,
            "bin_end": -81.12823723455546,
            "count": 2
           },
           {
            "bin_start": -81.12823723455546,
            "bin_end": -49.149610106981385,
            "count": 2
           },
           {
            "bin_start": -49.149610106981385,
            "bin_end": -17.170982979407285,
            "count": 3
           },
           {
            "bin_start": -17.170982979407285,
            "bin_end": 14.807644148166787,
            "count": 1246
           },
           {
            "bin_start": 14.807644148166787,
            "bin_end": 46.78627127574088,
            "count": 12878
           }
          ]
         }
        },
        {
         "name": "Drivetrain Gearbox Temp IMSDE",
         "dtype": "float64",
         "stats": {
          "unique_count": 7757,
          "nan_count": 0,
          "min": "0.0122642418370657",
          "max": "325.0",
          "histogram": [
           {
            "bin_start": 0.0122642418370657,
            "bin_end": 32.51103781765336,
            "count": 55
           },
           {
            "bin_start": 32.51103781765336,
            "bin_end": 65.00981139346965,
            "count": 14088
           },
           {
            "bin_start": 65.00981139346965,
            "bin_end": 97.50858496928593,
            "count": 1
           },
           {
            "bin_start": 97.50858496928593,
            "bin_end": 130.00735854510225,
            "count": 0
           },
           {
            "bin_start": 130.00735854510225,
            "bin_end": 162.50613212091855,
            "count": 0
           },
           {
            "bin_start": 162.50613212091855,
            "bin_end": 195.00490569673482,
            "count": 0
           },
           {
            "bin_start": 195.00490569673482,
            "bin_end": 227.50367927255112,
            "count": 0
           },
           {
            "bin_start": 227.50367927255112,
            "bin_end": 260.0024528483674,
            "count": 0
           },
           {
            "bin_start": 260.0024528483674,
            "bin_end": 292.5012264241837,
            "count": 0
           },
           {
            "bin_start": 292.5012264241837,
            "bin_end": 325,
            "count": 26
           }
          ]
         }
        },
        {
         "name": "Drivetrain Gearbox Temp IMSNDE",
         "dtype": "float64"
        },
        {
         "name": "Drivetrain Mainbearing Temp",
         "dtype": "float64"
        },
        {
         "name": "Nacelle Temp",
         "dtype": "float64"
        },
        {
         "name": "Drivetrain vibration",
         "dtype": "float64"
        },
        {
         "name": "Relative Wind Direction",
         "dtype": "float64"
        },
        {
         "name": "Wind Speed",
         "dtype": "float64"
        },
        {
         "name": "Yaw Angle",
         "dtype": "float64"
        },
        {
         "name": "State",
         "dtype": "object"
        },
        {
         "name": "_deepnote_index_column",
         "dtype": "int64"
        }
       ],
       "rows": [
        {
         "Timestamp": "2019-01-01T00:00:00.000000",
         "Asset_Id": "cluster1.turb1",
         "Pitch Angle": 19.646259545833544,
         "Power To Grid": -1.5485194568674212,
         "Rotor Speed": 4.378318616749656,
         "Ambient Temperature": 28,
         "Drivetrain Gearbox Temp IMSDE": 48.25563627623552,
         "Drivetrain Gearbox Temp IMSNDE": 49.64615821683631,
         "Drivetrain Mainbearing Temp": 34,
         "Nacelle Temp": 34,
         "Drivetrain vibration": -0.0077675896842374,
         "Relative Wind Direction": 18.72008645288461,
         "Wind Speed": 3.96771506609006,
         "Yaw Angle": 82.76215893191757,
         "State": "OK",
         "_deepnote_index_column": 0
        },
        {
         "Timestamp": "2019-01-01T01:00:00.000000",
         "Asset_Id": "cluster1.turb1",
         "Pitch Angle": 19.73391961245076,
         "Power To Grid": -1.410587596611233,
         "Rotor Speed": 2.118581686791737,
         "Ambient Temperature": 32,
         "Drivetrain Gearbox Temp IMSDE": 48,
         "Drivetrain Gearbox Temp IMSNDE": 48.90917379875605,
         "Drivetrain Mainbearing Temp": 34,
         "Nacelle Temp": 35,
         "Drivetrain vibration": -0.0107134430449359,
         "Relative Wind Direction": 34.10507639890347,
         "Wind Speed": 2.3847517339884434,
         "Yaw Angle": 146.54454742034,
         "State": "OK",
         "_deepnote_index_column": 1
        },
        {
         "Timestamp": "2019-01-01T02:00:00.000000",
         "Asset_Id": "cluster1.turb1",
         "Pitch Angle": 19.904765549761784,
         "Power To Grid": -0.3493236345467436,
         "Rotor Speed": 1.7278164089560433,
         "Ambient Temperature": 34.62023601101404,
         "Drivetrain Gearbox Temp IMSDE": 47,
         "Drivetrain Gearbox Temp IMSNDE": 47,
         "Drivetrain Mainbearing Temp": 34,
         "Nacelle Temp": 35,
         "Drivetrain vibration": 0.0818843960876391,
         "Relative Wind Direction": 12.056201195408162,
         "Wind Speed": 2.0984397224220386,
         "Yaw Angle": 143.12911897068795,
         "State": "OK",
         "_deepnote_index_column": 2
        },
        {
         "Timestamp": "2019-01-01T03:00:00.000000",
         "Asset_Id": "cluster1.turb1",
         "Pitch Angle": 19.70744326276031,
         "Power To Grid": -3.05782614452934,
         "Rotor Speed": 3.280488302189781,
         "Ambient Temperature": 33.13099473211522,
         "Drivetrain Gearbox Temp IMSDE": 47.16852712135214,
         "Drivetrain Gearbox Temp IMSNDE": 49.4916982247985,
         "Drivetrain Mainbearing Temp": 34,
         "Nacelle Temp": 35,
         "Drivetrain vibration": 0.2301238636215018,
         "Relative Wind Direction": 4.647356505510203,
         "Wind Speed": 3.760916128456548,
         "Yaw Angle": 181.54496171339912,
         "State": "OK",
         "_deepnote_index_column": 3
        },
        {
         "Timestamp": "2019-01-01T04:00:00.000000",
         "Asset_Id": "cluster1.turb1",
         "Pitch Angle": 8.265666348285377,
         "Power To Grid": -9.018679741276468,
         "Rotor Speed": 13.4736221686155,
         "Ambient Temperature": 33,
         "Drivetrain Gearbox Temp IMSDE": 50.02357047617748,
         "Drivetrain Gearbox Temp IMSNDE": 53.89566431467255,
         "Drivetrain Mainbearing Temp": 35,
         "Nacelle Temp": 36.85529187396212,
         "Drivetrain vibration": 0.3783633311553646,
         "Relative Wind Direction": -5.866971662770969,
         "Wind Speed": 8.153481444347287,
         "Yaw Angle": 164.83470815714463,
         "State": "OK",
         "_deepnote_index_column": 4
        },
        {
         "Timestamp": "2019-01-01T05:00:00.000000",
         "Asset_Id": "cluster1.turb1",
         "Pitch Angle": 1.316863310308192,
         "Power To Grid": -12.334071293437582,
         "Rotor Speed": 14.88509565735985,
         "Ambient Temperature": 33,
         "Drivetrain Gearbox Temp IMSDE": 53,
         "Drivetrain Gearbox Temp IMSNDE": 56.75999438337411,
         "Drivetrain Mainbearing Temp": 35,
         "Nacelle Temp": 38,
         "Drivetrain vibration": -0.3719995193234248,
         "Relative Wind Direction": 19.82696081747826,
         "Wind Speed": 2.9158987765228503,
         "Yaw Angle": 110.70116227613012,
         "State": "OK",
         "_deepnote_index_column": 5
        },
        {
         "Timestamp": "2019-01-01T06:00:00.000000",
         "Asset_Id": "cluster1.turb1",
         "Pitch Angle": 7.600460451110206,
         "Power To Grid": -3.752271768191163,
         "Rotor Speed": 10.879070578946312,
         "Ambient Temperature": 34.01426120860063,
         "Drivetrain Gearbox Temp IMSDE": 52.65820759559885,
         "Drivetrain Gearbox Temp IMSNDE": 53.63385540042603,
         "Drivetrain Mainbearing Temp": 36,
         "Nacelle Temp": 39.44343974023838,
         "Drivetrain vibration": -0.0101879133927465,
         "Relative Wind Direction": 12.014516844918544,
         "Wind Speed": 5.346074384827076,
         "Yaw Angle": 169.39056829063298,
         "State": "OK",
         "_deepnote_index_column": 6
        },
        {
         "Timestamp": "2019-01-01T07:00:00.000000",
         "Asset_Id": "cluster1.turb1",
         "Pitch Angle": 0.2555725785187477,
         "Power To Grid": 825.3128222622021,
         "Rotor Speed": 15.007162090398332,
         "Ambient Temperature": 33,
         "Drivetrain Gearbox Temp IMSDE": 56.2999583347527,
         "Drivetrain Gearbox Temp IMSNDE": 60.96791850445594,
         "Drivetrain Mainbearing Temp": 37,
         "Nacelle Temp": 39,
         "Drivetrain vibration": -0.0241164945089527,
         "Relative Wind Direction": -24.151337697305145,
         "Wind Speed": 8.777148589175926,
         "Yaw Angle": 131.9792619874449,
         "State": "OK",
         "_deepnote_index_column": 7
        },
        {
         "Timestamp": "2019-01-01T08:00:00.000000",
         "Asset_Id": "cluster1.turb1",
         "Pitch Angle": 0.8391112879433267,
         "Power To Grid": 387.9410050022044,
         "Rotor Speed": 15.27744585278474,
         "Ambient Temperature": 32.74837914631991,
         "Drivetrain Gearbox Temp IMSDE": 60,
         "Drivetrain Gearbox Temp IMSNDE": 64,
         "Drivetrain Mainbearing Temp": 38,
         "Nacelle Temp": 39.175175122128685,
         "Drivetrain vibration": -0.0380450756251588,
         "Relative Wind Direction": 6.172113411791246,
         "Wind Speed": 6.587068466303728,
         "Yaw Angle": 138.738833721049,
         "State": "OK",
         "_deepnote_index_column": 8
        },
        {
         "Timestamp": "2019-01-01T09:00:00.000000",
         "Asset_Id": "cluster1.turb1",
         "Pitch Angle": 0.74993904337311,
         "Power To Grid": 1943.823959175392,
         "Rotor Speed": 15.376954411764842,
         "Ambient Temperature": 30,
         "Drivetrain Gearbox Temp IMSDE": 54.67137470788482,
         "Drivetrain Gearbox Temp IMSNDE": 58,
         "Drivetrain Mainbearing Temp": 39,
         "Nacelle Temp": 37,
         "Drivetrain vibration": -0.0519736567413649,
         "Relative Wind Direction": 11.067595763348256,
         "Wind Speed": 11.88491917688531,
         "Yaw Angle": 146.28458354435818,
         "State": "OK",
         "_deepnote_index_column": 9
        }
       ]
      },
      "text/plain": "                Timestamp        Asset_Id  Pitch Angle  Power To Grid  \\\n0     2019-01-01 00:00:00  cluster1.turb1    19.646260      -1.548519   \n1     2019-01-01 01:00:00  cluster1.turb1    19.733920      -1.410588   \n2     2019-01-01 02:00:00  cluster1.turb1    19.904766      -0.349324   \n3     2019-01-01 03:00:00  cluster1.turb1    19.707443      -3.057826   \n4     2019-01-01 04:00:00  cluster1.turb1     8.265666      -9.018680   \n...                   ...             ...          ...            ...   \n14165 2019-02-28 20:00:00  cluster1.turb9     0.704913     450.181656   \n14166 2019-02-28 21:00:00  cluster1.turb9     0.221421     706.859494   \n14167 2019-02-28 22:00:00  cluster1.turb9     0.707875    2113.420673   \n14168 2019-02-28 23:00:00  cluster1.turb9     0.370103     756.285030   \n14169 2019-03-01 00:00:00  cluster1.turb9     0.562883    1305.146266   \n\n       Rotor Speed  Ambient Temperature  Drivetrain Gearbox Temp IMSDE  \\\n0         4.378319            28.000000                      48.255636   \n1         2.118582            32.000000                      48.000000   \n2         1.727816            34.620236                      47.000000   \n3         3.280488            33.130995                      47.168527   \n4        13.473622            33.000000                      50.023570   \n...            ...                  ...                            ...   \n14165    15.382127            28.000000                      55.221651   \n14166    15.445756            28.000000                      60.420620   \n14167    15.509385            29.000000                      54.000000   \n14168    15.573014            31.000000                      58.423171   \n14169    15.453275            33.000000                      54.000000   \n\n       Drivetrain Gearbox Temp IMSNDE  Drivetrain Mainbearing Temp  \\\n0                           49.646158                         34.0   \n1                           48.909174                         34.0   \n2                           47.000000                         34.0   \n3                           49.491698                         34.0   \n4                           53.895664                         35.0   \n...                               ...                          ...   \n14165                       58.498088                         42.0   \n14166                       64.000000                         42.0   \n14167                       58.000000                         43.0   \n14168                       62.244062                         43.0   \n14169                       58.000000                         43.0   \n\n       Nacelle Temp  Drivetrain vibration  Relative Wind Direction  \\\n0         34.000000             -0.007768                18.720086   \n1         35.000000             -0.010713                34.105076   \n2         35.000000              0.081884                12.056201   \n3         35.000000              0.230124                 4.647357   \n4         36.855292              0.378363                -5.866972   \n...             ...                   ...                      ...   \n14165     35.446638              0.005341                11.729414   \n14166     36.000000              0.005341                 0.200718   \n14167     35.588320              0.005341               -10.695703   \n14168     38.000000              0.005341                -0.897508   \n14169     38.000000              0.005341                 2.525245   \n\n       Wind Speed   Yaw Angle State  \n0        3.967715   82.762159    OK  \n1        2.384752  146.544547    OK  \n2        2.098440  143.129119    OK  \n3        3.760916  181.544962    OK  \n4        8.153481  164.834708    OK  \n...           ...         ...   ...  \n14165    5.895554  357.460886    OK  \n14166    5.793121  343.472022    OK  \n14167   12.826008  346.996009    OK  \n14168    7.560330  349.038549    OK  \n14169    9.574026  348.722054    OK  \n\n[14170 rows x 15 columns]",
      "text/html": "<div>\n<style scoped>\n    .dataframe tbody tr th:only-of-type {\n        vertical-align: middle;\n    }\n\n    .dataframe tbody tr th {\n        vertical-align: top;\n    }\n\n    .dataframe thead th {\n        text-align: right;\n    }\n</style>\n<table border=\"1\" class=\"dataframe\">\n  <thead>\n    <tr style=\"text-align: right;\">\n      <th></th>\n      <th>Timestamp</th>\n      <th>Asset_Id</th>\n      <th>Pitch Angle</th>\n      <th>Power To Grid</th>\n      <th>Rotor Speed</th>\n      <th>Ambient Temperature</th>\n      <th>Drivetrain Gearbox Temp IMSDE</th>\n      <th>Drivetrain Gearbox Temp IMSNDE</th>\n      <th>Drivetrain Mainbearing Temp</th>\n      <th>Nacelle Temp</th>\n      <th>Drivetrain vibration</th>\n      <th>Relative Wind Direction</th>\n      <th>Wind Speed</th>\n      <th>Yaw Angle</th>\n      <th>State</th>\n    </tr>\n  </thead>\n  <tbody>\n    <tr>\n      <th>0</th>\n      <td>2019-01-01 00:00:00</td>\n      <td>cluster1.turb1</td>\n      <td>19.646260</td>\n      <td>-1.548519</td>\n      <td>4.378319</td>\n      <td>28.000000</td>\n      <td>48.255636</td>\n      <td>49.646158</td>\n      <td>34.0</td>\n      <td>34.000000</td>\n      <td>-0.007768</td>\n      <td>18.720086</td>\n      <td>3.967715</td>\n      <td>82.762159</td>\n      <td>OK</td>\n    </tr>\n    <tr>\n      <th>1</th>\n      <td>2019-01-01 01:00:00</td>\n      <td>cluster1.turb1</td>\n      <td>19.733920</td>\n      <td>-1.410588</td>\n      <td>2.118582</td>\n      <td>32.000000</td>\n      <td>48.000000</td>\n      <td>48.909174</td>\n      <td>34.0</td>\n      <td>35.000000</td>\n      <td>-0.010713</td>\n      <td>34.105076</td>\n      <td>2.384752</td>\n      <td>146.544547</td>\n      <td>OK</td>\n    </tr>\n    <tr>\n      <th>2</th>\n      <td>2019-01-01 02:00:00</td>\n      <td>cluster1.turb1</td>\n      <td>19.904766</td>\n      <td>-0.349324</td>\n      <td>1.727816</td>\n      <td>34.620236</td>\n      <td>47.000000</td>\n      <td>47.000000</td>\n      <td>34.0</td>\n      <td>35.000000</td>\n      <td>0.081884</td>\n      <td>12.056201</td>\n      <td>2.098440</td>\n      <td>143.129119</td>\n      <td>OK</td>\n    </tr>\n    <tr>\n      <th>3</th>\n      <td>2019-01-01 03:00:00</td>\n      <td>cluster1.turb1</td>\n      <td>19.707443</td>\n      <td>-3.057826</td>\n      <td>3.280488</td>\n      <td>33.130995</td>\n      <td>47.168527</td>\n      <td>49.491698</td>\n      <td>34.0</td>\n      <td>35.000000</td>\n      <td>0.230124</td>\n      <td>4.647357</td>\n      <td>3.760916</td>\n      <td>181.544962</td>\n      <td>OK</td>\n    </tr>\n    <tr>\n      <th>4</th>\n      <td>2019-01-01 04:00:00</td>\n      <td>cluster1.turb1</td>\n      <td>8.265666</td>\n      <td>-9.018680</td>\n      <td>13.473622</td>\n      <td>33.000000</td>\n      <td>50.023570</td>\n      <td>53.895664</td>\n      <td>35.0</td>\n      <td>36.855292</td>\n      <td>0.378363</td>\n      <td>-5.866972</td>\n      <td>8.153481</td>\n      <td>164.834708</td>\n      <td>OK</td>\n    </tr>\n    <tr>\n      <th>...</th>\n      <td>...</td>\n      <td>...</td>\n      <td>...</td>\n      <td>...</td>\n      <td>...</td>\n      <td>...</td>\n      <td>...</td>\n      <td>...</td>\n      <td>...</td>\n      <td>...</td>\n      <td>...</td>\n      <td>...</td>\n      <td>...</td>\n      <td>...</td>\n      <td>...</td>\n    </tr>\n    <tr>\n      <th>14165</th>\n      <td>2019-02-28 20:00:00</td>\n      <td>cluster1.turb9</td>\n      <td>0.704913</td>\n      <td>450.181656</td>\n      <td>15.382127</td>\n      <td>28.000000</td>\n      <td>55.221651</td>\n      <td>58.498088</td>\n      <td>42.0</td>\n      <td>35.446638</td>\n      <td>0.005341</td>\n      <td>11.729414</td>\n      <td>5.895554</td>\n      <td>357.460886</td>\n      <td>OK</td>\n    </tr>\n    <tr>\n      <th>14166</th>\n      <td>2019-02-28 21:00:00</td>\n      <td>cluster1.turb9</td>\n      <td>0.221421</td>\n      <td>706.859494</td>\n      <td>15.445756</td>\n      <td>28.000000</td>\n      <td>60.420620</td>\n      <td>64.000000</td>\n      <td>42.0</td>\n      <td>36.000000</td>\n      <td>0.005341</td>\n      <td>0.200718</td>\n      <td>5.793121</td>\n      <td>343.472022</td>\n      <td>OK</td>\n    </tr>\n    <tr>\n      <th>14167</th>\n      <td>2019-02-28 22:00:00</td>\n      <td>cluster1.turb9</td>\n      <td>0.707875</td>\n      <td>2113.420673</td>\n      <td>15.509385</td>\n      <td>29.000000</td>\n      <td>54.000000</td>\n      <td>58.000000</td>\n      <td>43.0</td>\n      <td>35.588320</td>\n      <td>0.005341</td>\n      <td>-10.695703</td>\n      <td>12.826008</td>\n      <td>346.996009</td>\n      <td>OK</td>\n    </tr>\n    <tr>\n      <th>14168</th>\n      <td>2019-02-28 23:00:00</td>\n      <td>cluster1.turb9</td>\n      <td>0.370103</td>\n      <td>756.285030</td>\n      <td>15.573014</td>\n      <td>31.000000</td>\n      <td>58.423171</td>\n      <td>62.244062</td>\n      <td>43.0</td>\n      <td>38.000000</td>\n      <td>0.005341</td>\n      <td>-0.897508</td>\n      <td>7.560330</td>\n      <td>349.038549</td>\n      <td>OK</td>\n    </tr>\n    <tr>\n      <th>14169</th>\n      <td>2019-03-01 00:00:00</td>\n      <td>cluster1.turb9</td>\n      <td>0.562883</td>\n      <td>1305.146266</td>\n      <td>15.453275</td>\n      <td>33.000000</td>\n      <td>54.000000</td>\n      <td>58.000000</td>\n      <td>43.0</td>\n      <td>38.000000</td>\n      <td>0.005341</td>\n      <td>2.525245</td>\n      <td>9.574026</td>\n      <td>348.722054</td>\n      <td>OK</td>\n    </tr>\n  </tbody>\n</table>\n<p>14170 rows × 15 columns</p>\n</div>"
     },
     "metadata": {}
    }
   ]
  },
  {
   "cell_type": "code",
   "metadata": {
    "cell_id": "00032-19180fe7-c44e-4b25-ac04-e2122e63b967",
    "deepnote_to_be_reexecuted": false,
    "source_hash": "6585ffb4",
    "execution_start": 1642371202710,
    "execution_millis": 798,
    "deepnote_cell_type": "code"
   },
   "source": "# Structure of dataframe\ndata_file = \"cluster1_1h.csv\"\ndf.to_csv(data_file)\n# df = pd.read_csv(data_file)\ndf.info()",
   "execution_count": 30,
   "outputs": [
    {
     "name": "stdout",
     "text": "<class 'pandas.core.frame.DataFrame'>\nRangeIndex: 14170 entries, 0 to 14169\nData columns (total 15 columns):\n #   Column                          Non-Null Count  Dtype         \n---  ------                          --------------  -----         \n 0   Timestamp                       14170 non-null  datetime64[ns]\n 1   Asset_Id                        14170 non-null  object        \n 2   Pitch Angle                     14170 non-null  float64       \n 3   Power To Grid                   14170 non-null  float64       \n 4   Rotor Speed                     14170 non-null  float64       \n 5   Ambient Temperature             14170 non-null  float64       \n 6   Drivetrain Gearbox Temp IMSDE   14170 non-null  float64       \n 7   Drivetrain Gearbox Temp IMSNDE  14170 non-null  float64       \n 8   Drivetrain Mainbearing Temp     14170 non-null  float64       \n 9   Nacelle Temp                    14170 non-null  float64       \n 10  Drivetrain vibration            14170 non-null  float64       \n 11  Relative Wind Direction         14170 non-null  float64       \n 12  Wind Speed                      14170 non-null  float64       \n 13  Yaw Angle                       14170 non-null  float64       \n 14  State                           14170 non-null  object        \ndtypes: datetime64[ns](1), float64(12), object(2)\nmemory usage: 1.6+ MB\n",
     "output_type": "stream"
    }
   ]
  },
  {
   "cell_type": "code",
   "metadata": {
    "cell_id": "00033-0fb1bdb3-57de-4e7d-8082-27d728e42737",
    "deepnote_output_heights": [
     382.1875
    ],
    "deepnote_to_be_reexecuted": false,
    "source_hash": "d2ce52ec",
    "execution_start": 1642371206009,
    "execution_millis": 447,
    "deepnote_cell_type": "code"
   },
   "source": "# Renaming DataFrame column names to abbreviations, in order to display these column names clearly in\n# a correlation plot\n\ndf = df.rename(\n    columns={\n        \"Rotor Speed\": \"RS\",\n        \"State\": \"TS\",\n        \"Power To Grid\": \"AP\",  # Active Power\n        \"Pitch Angle\": \"NP\",\n        \"Ambient Temperature\": \"AT\",\n        \"Wind Speed\": \"WS\",\n    }\n)\n# Dropping unneeded columns\n#\ncolumns_to_drop = [\n    c\n    for c in df.columns\n    if any(i in c for i in [\"Drive\", \"Nacelle\", \"Yaw\", \"Relative\"])\n]\ncolumns_to_drop\ndf = df.drop(columns_to_drop, axis=1)\n\n# Turbine should be in a good state for data to be valid\ndf = df[df[\"TS\"] == \"OK\"]\ndf",
   "execution_count": 31,
   "outputs": [
    {
     "output_type": "execute_result",
     "execution_count": 31,
     "data": {
      "application/vnd.deepnote.dataframe.v3+json": {
       "column_count": 8,
       "row_count": 13708,
       "columns": [
        {
         "name": "Timestamp",
         "dtype": "datetime64[ns]",
         "stats": {
          "unique_count": 1412,
          "nan_count": 0,
          "min": "2019-01-01 00:00:00",
          "max": "2019-03-01 00:00:00",
          "histogram": [
           {
            "bin_start": 1546300800000000000,
            "bin_end": 1546810560000000000,
            "count": 1384
           },
           {
            "bin_start": 1546810560000000000,
            "bin_end": 1547320320000000000,
            "count": 1403
           },
           {
            "bin_start": 1547320320000000000,
            "bin_end": 1547830080000000000,
            "count": 1278
           },
           {
            "bin_start": 1547830080000000000,
            "bin_end": 1548339840000000000,
            "count": 1308
           },
           {
            "bin_start": 1548339840000000000,
            "bin_end": 1548849600000000000,
            "count": 1395
           },
           {
            "bin_start": 1548849600000000000,
            "bin_end": 1549359360000000000,
            "count": 1393
           },
           {
            "bin_start": 1549359360000000000,
            "bin_end": 1549869120000000000,
            "count": 1406
           },
           {
            "bin_start": 1549869120000000000,
            "bin_end": 1550378880000000000,
            "count": 1374
           },
           {
            "bin_start": 1550378880000000000,
            "bin_end": 1550888640000000000,
            "count": 1384
           },
           {
            "bin_start": 1550888640000000000,
            "bin_end": 1551398400000000000,
            "count": 1383
           }
          ]
         }
        },
        {
         "name": "Asset_Id",
         "dtype": "object",
         "stats": {
          "unique_count": 10,
          "nan_count": 0,
          "categories": [
           {
            "name": "cluster1.turb8",
            "count": 1401
           },
           {
            "name": "cluster1.turb10",
            "count": 1398
           },
           {
            "name": "8 others",
            "count": 10909
           }
          ]
         }
        },
        {
         "name": "NP",
         "dtype": "float64",
         "stats": {
          "unique_count": 13707,
          "nan_count": 0,
          "min": "-0.615120587804053",
          "max": "89.96613672448042",
          "histogram": [
           {
            "bin_start": -0.615120587804053,
            "bin_end": 8.443005143424394,
            "count": 9084
           },
           {
            "bin_start": 8.443005143424394,
            "bin_end": 17.50113087465284,
            "count": 561
           },
           {
            "bin_start": 17.50113087465284,
            "bin_end": 26.559256605881288,
            "count": 3891
           },
           {
            "bin_start": 26.559256605881288,
            "bin_end": 35.61738233710974,
            "count": 4
           },
           {
            "bin_start": 35.61738233710974,
            "bin_end": 44.67550806833818,
            "count": 5
           },
           {
            "bin_start": 44.67550806833818,
            "bin_end": 53.73363379956663,
            "count": 2
           },
           {
            "bin_start": 53.73363379956663,
            "bin_end": 62.79175953079508,
            "count": 9
           },
           {
            "bin_start": 62.79175953079508,
            "bin_end": 71.84988526202352,
            "count": 4
           },
           {
            "bin_start": 71.84988526202352,
            "bin_end": 80.90801099325196,
            "count": 5
           },
           {
            "bin_start": 80.90801099325196,
            "bin_end": 89.96613672448042,
            "count": 143
           }
          ]
         }
        },
        {
         "name": "AP",
         "dtype": "float64",
         "stats": {
          "unique_count": 13662,
          "nan_count": 0,
          "min": "-48.6166246349132",
          "max": "2234.216886237441",
          "histogram": [
           {
            "bin_start": -48.6166246349132,
            "bin_end": 179.66672645232222,
            "count": 6044
           },
           {
            "bin_start": 179.66672645232222,
            "bin_end": 407.95007753955764,
            "count": 1590
           },
           {
            "bin_start": 407.95007753955764,
            "bin_end": 636.233428626793,
            "count": 1303
           },
           {
            "bin_start": 636.233428626793,
            "bin_end": 864.5167797140284,
            "count": 1064
           },
           {
            "bin_start": 864.5167797140284,
            "bin_end": 1092.8001308012638,
            "count": 817
           },
           {
            "bin_start": 1092.8001308012638,
            "bin_end": 1321.0834818884994,
            "count": 692
           },
           {
            "bin_start": 1321.0834818884994,
            "bin_end": 1549.3668329757347,
            "count": 556
           },
           {
            "bin_start": 1549.3668329757347,
            "bin_end": 1777.65018406297,
            "count": 481
           },
           {
            "bin_start": 1777.65018406297,
            "bin_end": 2005.9335351502057,
            "count": 352
           },
           {
            "bin_start": 2005.9335351502057,
            "bin_end": 2234.216886237441,
            "count": 809
           }
          ]
         }
        },
        {
         "name": "RS",
         "dtype": "float64",
         "stats": {
          "unique_count": 12847,
          "nan_count": 0,
          "min": "0.0",
          "max": "16.37800063196971",
          "histogram": [
           {
            "bin_start": 0,
            "bin_end": 1.637800063196971,
            "count": 1095
           },
           {
            "bin_start": 1.637800063196971,
            "bin_end": 3.275600126393942,
            "count": 1206
           },
           {
            "bin_start": 3.275600126393942,
            "bin_end": 4.913400189590913,
            "count": 1271
           },
           {
            "bin_start": 4.913400189590913,
            "bin_end": 6.551200252787884,
            "count": 571
           },
           {
            "bin_start": 6.551200252787884,
            "bin_end": 8.189000315984854,
            "count": 205
           },
           {
            "bin_start": 8.189000315984854,
            "bin_end": 9.826800379181826,
            "count": 148
           },
           {
            "bin_start": 9.826800379181826,
            "bin_end": 11.464600442378796,
            "count": 129
           },
           {
            "bin_start": 11.464600442378796,
            "bin_end": 13.102400505575767,
            "count": 671
           },
           {
            "bin_start": 13.102400505575767,
            "bin_end": 14.740200568772739,
            "count": 386
           },
           {
            "bin_start": 14.740200568772739,
            "bin_end": 16.37800063196971,
            "count": 8026
           }
          ]
         }
        },
        {
         "name": "AT",
         "dtype": "float64",
         "stats": {
          "unique_count": 5480,
          "nan_count": 0,
          "min": "3.814731232231473",
          "max": "46.78627127574088",
          "histogram": [
           {
            "bin_start": 3.814731232231473,
            "bin_end": 8.111885236582413,
            "count": 12
           },
           {
            "bin_start": 8.111885236582413,
            "bin_end": 12.409039240933355,
            "count": 374
           },
           {
            "bin_start": 12.409039240933355,
            "bin_end": 16.706193245284297,
            "count": 1826
           },
           {
            "bin_start": 16.706193245284297,
            "bin_end": 21.003347249635237,
            "count": 2329
           },
           {
            "bin_start": 21.003347249635237,
            "bin_end": 25.300501253986177,
            "count": 2536
           },
           {
            "bin_start": 25.300501253986177,
            "bin_end": 29.59765525833712,
            "count": 2496
           },
           {
            "bin_start": 29.59765525833712,
            "bin_end": 33.89480926268806,
            "count": 2255
           },
           {
            "bin_start": 33.89480926268806,
            "bin_end": 38.191963267039,
            "count": 1455
           },
           {
            "bin_start": 38.191963267039,
            "bin_end": 42.489117271389944,
            "count": 378
           },
           {
            "bin_start": 42.489117271389944,
            "bin_end": 46.78627127574088,
            "count": 47
           }
          ]
         }
        },
        {
         "name": "WS",
         "dtype": "float64",
         "stats": {
          "unique_count": 13708,
          "nan_count": 0,
          "min": "0.5736089269194606",
          "max": "19.32932689397197",
          "histogram": [
           {
            "bin_start": 0.5736089269194606,
            "bin_end": 2.4491807236247114,
            "count": 1149
           },
           {
            "bin_start": 2.4491807236247114,
            "bin_end": 4.324752520329962,
            "count": 2889
           },
           {
            "bin_start": 4.324752520329962,
            "bin_end": 6.2003243170352125,
            "count": 3212
           },
           {
            "bin_start": 6.2003243170352125,
            "bin_end": 8.075896113740464,
            "count": 2603
           },
           {
            "bin_start": 8.075896113740464,
            "bin_end": 9.951467910445714,
            "count": 1871
           },
           {
            "bin_start": 9.951467910445714,
            "bin_end": 11.827039707150965,
            "count": 1077
           },
           {
            "bin_start": 11.827039707150965,
            "bin_end": 13.702611503856216,
            "count": 565
           },
           {
            "bin_start": 13.702611503856216,
            "bin_end": 15.578183300561466,
            "count": 263
           },
           {
            "bin_start": 15.578183300561466,
            "bin_end": 17.45375509726672,
            "count": 63
           },
           {
            "bin_start": 17.45375509726672,
            "bin_end": 19.32932689397197,
            "count": 16
           }
          ]
         }
        },
        {
         "name": "TS",
         "dtype": "object"
        },
        {
         "name": "_deepnote_index_column",
         "dtype": "int64"
        }
       ],
       "rows": [
        {
         "Timestamp": "2019-01-01T00:00:00.000000",
         "Asset_Id": "cluster1.turb1",
         "NP": 19.646259545833544,
         "AP": -1.5485194568674212,
         "RS": 4.378318616749656,
         "AT": 28,
         "WS": 3.96771506609006,
         "TS": "OK",
         "_deepnote_index_column": 0
        },
        {
         "Timestamp": "2019-01-01T01:00:00.000000",
         "Asset_Id": "cluster1.turb1",
         "NP": 19.73391961245076,
         "AP": -1.410587596611233,
         "RS": 2.118581686791737,
         "AT": 32,
         "WS": 2.3847517339884434,
         "TS": "OK",
         "_deepnote_index_column": 1
        },
        {
         "Timestamp": "2019-01-01T02:00:00.000000",
         "Asset_Id": "cluster1.turb1",
         "NP": 19.904765549761784,
         "AP": -0.3493236345467436,
         "RS": 1.7278164089560433,
         "AT": 34.62023601101404,
         "WS": 2.0984397224220386,
         "TS": "OK",
         "_deepnote_index_column": 2
        },
        {
         "Timestamp": "2019-01-01T03:00:00.000000",
         "Asset_Id": "cluster1.turb1",
         "NP": 19.70744326276031,
         "AP": -3.05782614452934,
         "RS": 3.280488302189781,
         "AT": 33.13099473211522,
         "WS": 3.760916128456548,
         "TS": "OK",
         "_deepnote_index_column": 3
        },
        {
         "Timestamp": "2019-01-01T04:00:00.000000",
         "Asset_Id": "cluster1.turb1",
         "NP": 8.265666348285377,
         "AP": -9.018679741276468,
         "RS": 13.4736221686155,
         "AT": 33,
         "WS": 8.153481444347287,
         "TS": "OK",
         "_deepnote_index_column": 4
        },
        {
         "Timestamp": "2019-01-01T05:00:00.000000",
         "Asset_Id": "cluster1.turb1",
         "NP": 1.316863310308192,
         "AP": -12.334071293437582,
         "RS": 14.88509565735985,
         "AT": 33,
         "WS": 2.9158987765228503,
         "TS": "OK",
         "_deepnote_index_column": 5
        },
        {
         "Timestamp": "2019-01-01T06:00:00.000000",
         "Asset_Id": "cluster1.turb1",
         "NP": 7.600460451110206,
         "AP": -3.752271768191163,
         "RS": 10.879070578946312,
         "AT": 34.01426120860063,
         "WS": 5.346074384827076,
         "TS": "OK",
         "_deepnote_index_column": 6
        },
        {
         "Timestamp": "2019-01-01T07:00:00.000000",
         "Asset_Id": "cluster1.turb1",
         "NP": 0.2555725785187477,
         "AP": 825.3128222622021,
         "RS": 15.007162090398332,
         "AT": 33,
         "WS": 8.777148589175926,
         "TS": "OK",
         "_deepnote_index_column": 7
        },
        {
         "Timestamp": "2019-01-01T08:00:00.000000",
         "Asset_Id": "cluster1.turb1",
         "NP": 0.8391112879433267,
         "AP": 387.9410050022044,
         "RS": 15.27744585278474,
         "AT": 32.74837914631991,
         "WS": 6.587068466303728,
         "TS": "OK",
         "_deepnote_index_column": 8
        },
        {
         "Timestamp": "2019-01-01T09:00:00.000000",
         "Asset_Id": "cluster1.turb1",
         "NP": 0.74993904337311,
         "AP": 1943.823959175392,
         "RS": 15.376954411764842,
         "AT": 30,
         "WS": 11.88491917688531,
         "TS": "OK",
         "_deepnote_index_column": 9
        }
       ]
      },
      "text/plain": "                Timestamp        Asset_Id         NP           AP         RS  \\\n0     2019-01-01 00:00:00  cluster1.turb1  19.646260    -1.548519   4.378319   \n1     2019-01-01 01:00:00  cluster1.turb1  19.733920    -1.410588   2.118582   \n2     2019-01-01 02:00:00  cluster1.turb1  19.904766    -0.349324   1.727816   \n3     2019-01-01 03:00:00  cluster1.turb1  19.707443    -3.057826   3.280488   \n4     2019-01-01 04:00:00  cluster1.turb1   8.265666    -9.018680  13.473622   \n...                   ...             ...        ...          ...        ...   \n14165 2019-02-28 20:00:00  cluster1.turb9   0.704913   450.181656  15.382127   \n14166 2019-02-28 21:00:00  cluster1.turb9   0.221421   706.859494  15.445756   \n14167 2019-02-28 22:00:00  cluster1.turb9   0.707875  2113.420673  15.509385   \n14168 2019-02-28 23:00:00  cluster1.turb9   0.370103   756.285030  15.573014   \n14169 2019-03-01 00:00:00  cluster1.turb9   0.562883  1305.146266  15.453275   \n\n              AT         WS  TS  \n0      28.000000   3.967715  OK  \n1      32.000000   2.384752  OK  \n2      34.620236   2.098440  OK  \n3      33.130995   3.760916  OK  \n4      33.000000   8.153481  OK  \n...          ...        ...  ..  \n14165  28.000000   5.895554  OK  \n14166  28.000000   5.793121  OK  \n14167  29.000000  12.826008  OK  \n14168  31.000000   7.560330  OK  \n14169  33.000000   9.574026  OK  \n\n[13708 rows x 8 columns]",
      "text/html": "<div>\n<style scoped>\n    .dataframe tbody tr th:only-of-type {\n        vertical-align: middle;\n    }\n\n    .dataframe tbody tr th {\n        vertical-align: top;\n    }\n\n    .dataframe thead th {\n        text-align: right;\n    }\n</style>\n<table border=\"1\" class=\"dataframe\">\n  <thead>\n    <tr style=\"text-align: right;\">\n      <th></th>\n      <th>Timestamp</th>\n      <th>Asset_Id</th>\n      <th>NP</th>\n      <th>AP</th>\n      <th>RS</th>\n      <th>AT</th>\n      <th>WS</th>\n      <th>TS</th>\n    </tr>\n  </thead>\n  <tbody>\n    <tr>\n      <th>0</th>\n      <td>2019-01-01 00:00:00</td>\n      <td>cluster1.turb1</td>\n      <td>19.646260</td>\n      <td>-1.548519</td>\n      <td>4.378319</td>\n      <td>28.000000</td>\n      <td>3.967715</td>\n      <td>OK</td>\n    </tr>\n    <tr>\n      <th>1</th>\n      <td>2019-01-01 01:00:00</td>\n      <td>cluster1.turb1</td>\n      <td>19.733920</td>\n      <td>-1.410588</td>\n      <td>2.118582</td>\n      <td>32.000000</td>\n      <td>2.384752</td>\n      <td>OK</td>\n    </tr>\n    <tr>\n      <th>2</th>\n      <td>2019-01-01 02:00:00</td>\n      <td>cluster1.turb1</td>\n      <td>19.904766</td>\n      <td>-0.349324</td>\n      <td>1.727816</td>\n      <td>34.620236</td>\n      <td>2.098440</td>\n      <td>OK</td>\n    </tr>\n    <tr>\n      <th>3</th>\n      <td>2019-01-01 03:00:00</td>\n      <td>cluster1.turb1</td>\n      <td>19.707443</td>\n      <td>-3.057826</td>\n      <td>3.280488</td>\n      <td>33.130995</td>\n      <td>3.760916</td>\n      <td>OK</td>\n    </tr>\n    <tr>\n      <th>4</th>\n      <td>2019-01-01 04:00:00</td>\n      <td>cluster1.turb1</td>\n      <td>8.265666</td>\n      <td>-9.018680</td>\n      <td>13.473622</td>\n      <td>33.000000</td>\n      <td>8.153481</td>\n      <td>OK</td>\n    </tr>\n    <tr>\n      <th>...</th>\n      <td>...</td>\n      <td>...</td>\n      <td>...</td>\n      <td>...</td>\n      <td>...</td>\n      <td>...</td>\n      <td>...</td>\n      <td>...</td>\n    </tr>\n    <tr>\n      <th>14165</th>\n      <td>2019-02-28 20:00:00</td>\n      <td>cluster1.turb9</td>\n      <td>0.704913</td>\n      <td>450.181656</td>\n      <td>15.382127</td>\n      <td>28.000000</td>\n      <td>5.895554</td>\n      <td>OK</td>\n    </tr>\n    <tr>\n      <th>14166</th>\n      <td>2019-02-28 21:00:00</td>\n      <td>cluster1.turb9</td>\n      <td>0.221421</td>\n      <td>706.859494</td>\n      <td>15.445756</td>\n      <td>28.000000</td>\n      <td>5.793121</td>\n      <td>OK</td>\n    </tr>\n    <tr>\n      <th>14167</th>\n      <td>2019-02-28 22:00:00</td>\n      <td>cluster1.turb9</td>\n      <td>0.707875</td>\n      <td>2113.420673</td>\n      <td>15.509385</td>\n      <td>29.000000</td>\n      <td>12.826008</td>\n      <td>OK</td>\n    </tr>\n    <tr>\n      <th>14168</th>\n      <td>2019-02-28 23:00:00</td>\n      <td>cluster1.turb9</td>\n      <td>0.370103</td>\n      <td>756.285030</td>\n      <td>15.573014</td>\n      <td>31.000000</td>\n      <td>7.560330</td>\n      <td>OK</td>\n    </tr>\n    <tr>\n      <th>14169</th>\n      <td>2019-03-01 00:00:00</td>\n      <td>cluster1.turb9</td>\n      <td>0.562883</td>\n      <td>1305.146266</td>\n      <td>15.453275</td>\n      <td>33.000000</td>\n      <td>9.574026</td>\n      <td>OK</td>\n    </tr>\n  </tbody>\n</table>\n<p>13708 rows × 8 columns</p>\n</div>"
     },
     "metadata": {}
    }
   ]
  },
  {
   "cell_type": "code",
   "metadata": {
    "cell_id": "00034-2ce613c7-a5fd-4cc2-99de-8367d46e4c86",
    "deepnote_output_heights": [
     580
    ],
    "deepnote_to_be_reexecuted": false,
    "source_hash": "8662257",
    "execution_start": 1642371215741,
    "execution_millis": 624,
    "deepnote_cell_type": "code"
   },
   "source": "# Check the correlation between Active Power and the rest of the variables\n\n# retrieve the correlation table\ndf_corr = df.corr()\n\n# increase the size of the figure\nfig = plt.figure(figsize=(50, 10))\nax = fig.add_subplot(111)\n\n# set the color pallete (Red, yellow, green)\ncax = ax.matshow(df_corr, cmap=plt.cm.RdYlGn)\nfig.colorbar(cax)\n\n# configure the labels\nlabels = [c for c in df_corr.columns]\n\n# make sure to show all the labels\nax.set_xticks(np.arange(len(labels)))\nax.set_yticks(np.arange(len(labels)))\n\n# Setting labels for the x and y axes of the correlation plot\nax.set_xticklabels(labels)\nax.set_yticklabels(labels)\n\nplt.show(block=False)",
   "execution_count": 32,
   "outputs": [
    {
     "data": {
      "text/plain": "<Figure size 3600x720 with 2 Axes>",
      "image/png": "[encoded data removed]"
     },
     "metadata": {
      "needs_background": "light",
      "image/png": {
       "width": 779,
       "height": 578
      }
     },
     "output_type": "display_data"
    }
   ]
  },
  {
   "cell_type": "code",
   "metadata": {
    "cell_id": "00035-cabe1852-6ef0-4452-8beb-7da32d8f70ab",
    "deepnote_output_heights": [
     382.1875
    ],
    "deepnote_to_be_reexecuted": false,
    "source_hash": "22893447",
    "execution_start": 1642371217982,
    "execution_millis": 389,
    "deepnote_cell_type": "code"
   },
   "source": "# Renaming DataFrame column names from abbreviations back to their original full names\n\ndf= df.rename(\n    columns={\n        \"RS\": \"Rotor Speed\",\n        \"TS\": \"Turbine State\",\n        \"AP\": \"Active Power\",\n        \"NP\": \"Nacelle Position\",\n        \"AT\": \"Air Temperature\",\n        \"WS\": \"Wind Speed\",\n    }\n)\ndf",
   "execution_count": 33,
   "outputs": [
    {
     "output_type": "execute_result",
     "execution_count": 33,
     "data": {
      "application/vnd.deepnote.dataframe.v3+json": {
       "column_count": 8,
       "row_count": 13708,
       "columns": [
        {
         "name": "Timestamp",
         "dtype": "datetime64[ns]",
         "stats": {
          "unique_count": 1412,
          "nan_count": 0,
          "min": "2019-01-01 00:00:00",
          "max": "2019-03-01 00:00:00",
          "histogram": [
           {
            "bin_start": 1546300800000000000,
            "bin_end": 1546810560000000000,
            "count": 1384
           },
           {
            "bin_start": 1546810560000000000,
            "bin_end": 1547320320000000000,
            "count": 1403
           },
           {
            "bin_start": 1547320320000000000,
            "bin_end": 1547830080000000000,
            "count": 1278
           },
           {
            "bin_start": 1547830080000000000,
            "bin_end": 1548339840000000000,
            "count": 1308
           },
           {
            "bin_start": 1548339840000000000,
            "bin_end": 1548849600000000000,
            "count": 1395
           },
           {
            "bin_start": 1548849600000000000,
            "bin_end": 1549359360000000000,
            "count": 1393
           },
           {
            "bin_start": 1549359360000000000,
            "bin_end": 1549869120000000000,
            "count": 1406
           },
           {
            "bin_start": 1549869120000000000,
            "bin_end": 1550378880000000000,
            "count": 1374
           },
           {
            "bin_start": 1550378880000000000,
            "bin_end": 1550888640000000000,
            "count": 1384
           },
           {
            "bin_start": 1550888640000000000,
            "bin_end": 1551398400000000000,
            "count": 1383
           }
          ]
         }
        },
        {
         "name": "Asset_Id",
         "dtype": "object",
         "stats": {
          "unique_count": 10,
          "nan_count": 0,
          "categories": [
           {
            "name": "cluster1.turb8",
            "count": 1401
           },
           {
            "name": "cluster1.turb10",
            "count": 1398
           },
           {
            "name": "8 others",
            "count": 10909
           }
          ]
         }
        },
        {
         "name": "Nacelle Position",
         "dtype": "float64",
         "stats": {
          "unique_count": 13707,
          "nan_count": 0,
          "min": "-0.615120587804053",
          "max": "89.96613672448042",
          "histogram": [
           {
            "bin_start": -0.615120587804053,
            "bin_end": 8.443005143424394,
            "count": 9084
           },
           {
            "bin_start": 8.443005143424394,
            "bin_end": 17.50113087465284,
            "count": 561
           },
           {
            "bin_start": 17.50113087465284,
            "bin_end": 26.559256605881288,
            "count": 3891
           },
           {
            "bin_start": 26.559256605881288,
            "bin_end": 35.61738233710974,
            "count": 4
           },
           {
            "bin_start": 35.61738233710974,
            "bin_end": 44.67550806833818,
            "count": 5
           },
           {
            "bin_start": 44.67550806833818,
            "bin_end": 53.73363379956663,
            "count": 2
           },
           {
            "bin_start": 53.73363379956663,
            "bin_end": 62.79175953079508,
            "count": 9
           },
           {
            "bin_start": 62.79175953079508,
            "bin_end": 71.84988526202352,
            "count": 4
           },
           {
            "bin_start": 71.84988526202352,
            "bin_end": 80.90801099325196,
            "count": 5
           },
           {
            "bin_start": 80.90801099325196,
            "bin_end": 89.96613672448042,
            "count": 143
           }
          ]
         }
        },
        {
         "name": "Active Power",
         "dtype": "float64",
         "stats": {
          "unique_count": 13662,
          "nan_count": 0,
          "min": "-48.6166246349132",
          "max": "2234.216886237441",
          "histogram": [
           {
            "bin_start": -48.6166246349132,
            "bin_end": 179.66672645232222,
            "count": 6044
           },
           {
            "bin_start": 179.66672645232222,
            "bin_end": 407.95007753955764,
            "count": 1590
           },
           {
            "bin_start": 407.95007753955764,
            "bin_end": 636.233428626793,
            "count": 1303
           },
           {
            "bin_start": 636.233428626793,
            "bin_end": 864.5167797140284,
            "count": 1064
           },
           {
            "bin_start": 864.5167797140284,
            "bin_end": 1092.8001308012638,
            "count": 817
           },
           {
            "bin_start": 1092.8001308012638,
            "bin_end": 1321.0834818884994,
            "count": 692
           },
           {
            "bin_start": 1321.0834818884994,
            "bin_end": 1549.3668329757347,
            "count": 556
           },
           {
            "bin_start": 1549.3668329757347,
            "bin_end": 1777.65018406297,
            "count": 481
           },
           {
            "bin_start": 1777.65018406297,
            "bin_end": 2005.9335351502057,
            "count": 352
           },
           {
            "bin_start": 2005.9335351502057,
            "bin_end": 2234.216886237441,
            "count": 809
           }
          ]
         }
        },
        {
         "name": "Rotor Speed",
         "dtype": "float64",
         "stats": {
          "unique_count": 12847,
          "nan_count": 0,
          "min": "0.0",
          "max": "16.37800063196971",
          "histogram": [
           {
            "bin_start": 0,
            "bin_end": 1.637800063196971,
            "count": 1095
           },
           {
            "bin_start": 1.637800063196971,
            "bin_end": 3.275600126393942,
            "count": 1206
           },
           {
            "bin_start": 3.275600126393942,
            "bin_end": 4.913400189590913,
            "count": 1271
           },
           {
            "bin_start": 4.913400189590913,
            "bin_end": 6.551200252787884,
            "count": 571
           },
           {
            "bin_start": 6.551200252787884,
            "bin_end": 8.189000315984854,
            "count": 205
           },
           {
            "bin_start": 8.189000315984854,
            "bin_end": 9.826800379181826,
            "count": 148
           },
           {
            "bin_start": 9.826800379181826,
            "bin_end": 11.464600442378796,
            "count": 129
           },
           {
            "bin_start": 11.464600442378796,
            "bin_end": 13.102400505575767,
            "count": 671
           },
           {
            "bin_start": 13.102400505575767,
            "bin_end": 14.740200568772739,
            "count": 386
           },
           {
            "bin_start": 14.740200568772739,
            "bin_end": 16.37800063196971,
            "count": 8026
           }
          ]
         }
        },
        {
         "name": "Air Temperature",
         "dtype": "float64",
         "stats": {
          "unique_count": 5480,
          "nan_count": 0,
          "min": "3.814731232231473",
          "max": "46.78627127574088",
          "histogram": [
           {
            "bin_start": 3.814731232231473,
            "bin_end": 8.111885236582413,
            "count": 12
           },
           {
            "bin_start": 8.111885236582413,
            "bin_end": 12.409039240933355,
            "count": 374
           },
           {
            "bin_start": 12.409039240933355,
            "bin_end": 16.706193245284297,
            "count": 1826
           },
           {
            "bin_start": 16.706193245284297,
            "bin_end": 21.003347249635237,
            "count": 2329
           },
           {
            "bin_start": 21.003347249635237,
            "bin_end": 25.300501253986177,
            "count": 2536
           },
           {
            "bin_start": 25.300501253986177,
            "bin_end": 29.59765525833712,
            "count": 2496
           },
           {
            "bin_start": 29.59765525833712,
            "bin_end": 33.89480926268806,
            "count": 2255
           },
           {
            "bin_start": 33.89480926268806,
            "bin_end": 38.191963267039,
            "count": 1455
           },
           {
            "bin_start": 38.191963267039,
            "bin_end": 42.489117271389944,
            "count": 378
           },
           {
            "bin_start": 42.489117271389944,
            "bin_end": 46.78627127574088,
            "count": 47
           }
          ]
         }
        },
        {
         "name": "Wind Speed",
         "dtype": "float64",
         "stats": {
          "unique_count": 13708,
          "nan_count": 0,
          "min": "0.5736089269194606",
          "max": "19.32932689397197",
          "histogram": [
           {
            "bin_start": 0.5736089269194606,
            "bin_end": 2.4491807236247114,
            "count": 1149
           },
           {
            "bin_start": 2.4491807236247114,
            "bin_end": 4.324752520329962,
            "count": 2889
           },
           {
            "bin_start": 4.324752520329962,
            "bin_end": 6.2003243170352125,
            "count": 3212
           },
           {
            "bin_start": 6.2003243170352125,
            "bin_end": 8.075896113740464,
            "count": 2603
           },
           {
            "bin_start": 8.075896113740464,
            "bin_end": 9.951467910445714,
            "count": 1871
           },
           {
            "bin_start": 9.951467910445714,
            "bin_end": 11.827039707150965,
            "count": 1077
           },
           {
            "bin_start": 11.827039707150965,
            "bin_end": 13.702611503856216,
            "count": 565
           },
           {
            "bin_start": 13.702611503856216,
            "bin_end": 15.578183300561466,
            "count": 263
           },
           {
            "bin_start": 15.578183300561466,
            "bin_end": 17.45375509726672,
            "count": 63
           },
           {
            "bin_start": 17.45375509726672,
            "bin_end": 19.32932689397197,
            "count": 16
           }
          ]
         }
        },
        {
         "name": "Turbine State",
         "dtype": "object"
        },
        {
         "name": "_deepnote_index_column",
         "dtype": "int64"
        }
       ],
       "rows": [
        {
         "Timestamp": "2019-01-01T00:00:00.000000",
         "Asset_Id": "cluster1.turb1",
         "Nacelle Position": 19.646259545833544,
         "Active Power": -1.5485194568674212,
         "Rotor Speed": 4.378318616749656,
         "Air Temperature": 28,
         "Wind Speed": 3.96771506609006,
         "Turbine State": "OK",
         "_deepnote_index_column": 0
        },
        {
         "Timestamp": "2019-01-01T01:00:00.000000",
         "Asset_Id": "cluster1.turb1",
         "Nacelle Position": 19.73391961245076,
         "Active Power": -1.410587596611233,
         "Rotor Speed": 2.118581686791737,
         "Air Temperature": 32,
         "Wind Speed": 2.3847517339884434,
         "Turbine State": "OK",
         "_deepnote_index_column": 1
        },
        {
         "Timestamp": "2019-01-01T02:00:00.000000",
         "Asset_Id": "cluster1.turb1",
         "Nacelle Position": 19.904765549761784,
         "Active Power": -0.3493236345467436,
         "Rotor Speed": 1.7278164089560433,
         "Air Temperature": 34.62023601101404,
         "Wind Speed": 2.0984397224220386,
         "Turbine State": "OK",
         "_deepnote_index_column": 2
        },
        {
         "Timestamp": "2019-01-01T03:00:00.000000",
         "Asset_Id": "cluster1.turb1",
         "Nacelle Position": 19.70744326276031,
         "Active Power": -3.05782614452934,
         "Rotor Speed": 3.280488302189781,
         "Air Temperature": 33.13099473211522,
         "Wind Speed": 3.760916128456548,
         "Turbine State": "OK",
         "_deepnote_index_column": 3
        },
        {
         "Timestamp": "2019-01-01T04:00:00.000000",
         "Asset_Id": "cluster1.turb1",
         "Nacelle Position": 8.265666348285377,
         "Active Power": -9.018679741276468,
         "Rotor Speed": 13.4736221686155,
         "Air Temperature": 33,
         "Wind Speed": 8.153481444347287,
         "Turbine State": "OK",
         "_deepnote_index_column": 4
        },
        {
         "Timestamp": "2019-01-01T05:00:00.000000",
         "Asset_Id": "cluster1.turb1",
         "Nacelle Position": 1.316863310308192,
         "Active Power": -12.334071293437582,
         "Rotor Speed": 14.88509565735985,
         "Air Temperature": 33,
         "Wind Speed": 2.9158987765228503,
         "Turbine State": "OK",
         "_deepnote_index_column": 5
        },
        {
         "Timestamp": "2019-01-01T06:00:00.000000",
         "Asset_Id": "cluster1.turb1",
         "Nacelle Position": 7.600460451110206,
         "Active Power": -3.752271768191163,
         "Rotor Speed": 10.879070578946312,
         "Air Temperature": 34.01426120860063,
         "Wind Speed": 5.346074384827076,
         "Turbine State": "OK",
         "_deepnote_index_column": 6
        },
        {
         "Timestamp": "2019-01-01T07:00:00.000000",
         "Asset_Id": "cluster1.turb1",
         "Nacelle Position": 0.2555725785187477,
         "Active Power": 825.3128222622021,
         "Rotor Speed": 15.007162090398332,
         "Air Temperature": 33,
         "Wind Speed": 8.777148589175926,
         "Turbine State": "OK",
         "_deepnote_index_column": 7
        },
        {
         "Timestamp": "2019-01-01T08:00:00.000000",
         "Asset_Id": "cluster1.turb1",
         "Nacelle Position": 0.8391112879433267,
         "Active Power": 387.9410050022044,
         "Rotor Speed": 15.27744585278474,
         "Air Temperature": 32.74837914631991,
         "Wind Speed": 6.587068466303728,
         "Turbine State": "OK",
         "_deepnote_index_column": 8
        },
        {
         "Timestamp": "2019-01-01T09:00:00.000000",
         "Asset_Id": "cluster1.turb1",
         "Nacelle Position": 0.74993904337311,
         "Active Power": 1943.823959175392,
         "Rotor Speed": 15.376954411764842,
         "Air Temperature": 30,
         "Wind Speed": 11.88491917688531,
         "Turbine State": "OK",
         "_deepnote_index_column": 9
        }
       ]
      },
      "text/plain": "                Timestamp        Asset_Id  Nacelle Position  Active Power  \\\n0     2019-01-01 00:00:00  cluster1.turb1         19.646260     -1.548519   \n1     2019-01-01 01:00:00  cluster1.turb1         19.733920     -1.410588   \n2     2019-01-01 02:00:00  cluster1.turb1         19.904766     -0.349324   \n3     2019-01-01 03:00:00  cluster1.turb1         19.707443     -3.057826   \n4     2019-01-01 04:00:00  cluster1.turb1          8.265666     -9.018680   \n...                   ...             ...               ...           ...   \n14165 2019-02-28 20:00:00  cluster1.turb9          0.704913    450.181656   \n14166 2019-02-28 21:00:00  cluster1.turb9          0.221421    706.859494   \n14167 2019-02-28 22:00:00  cluster1.turb9          0.707875   2113.420673   \n14168 2019-02-28 23:00:00  cluster1.turb9          0.370103    756.285030   \n14169 2019-03-01 00:00:00  cluster1.turb9          0.562883   1305.146266   \n\n       Rotor Speed  Air Temperature  Wind Speed Turbine State  \n0         4.378319        28.000000    3.967715            OK  \n1         2.118582        32.000000    2.384752            OK  \n2         1.727816        34.620236    2.098440            OK  \n3         3.280488        33.130995    3.760916            OK  \n4        13.473622        33.000000    8.153481            OK  \n...            ...              ...         ...           ...  \n14165    15.382127        28.000000    5.895554            OK  \n14166    15.445756        28.000000    5.793121            OK  \n14167    15.509385        29.000000   12.826008            OK  \n14168    15.573014        31.000000    7.560330            OK  \n14169    15.453275        33.000000    9.574026            OK  \n\n[13708 rows x 8 columns]",
      "text/html": "<div>\n<style scoped>\n    .dataframe tbody tr th:only-of-type {\n        vertical-align: middle;\n    }\n\n    .dataframe tbody tr th {\n        vertical-align: top;\n    }\n\n    .dataframe thead th {\n        text-align: right;\n    }\n</style>\n<table border=\"1\" class=\"dataframe\">\n  <thead>\n    <tr style=\"text-align: right;\">\n      <th></th>\n      <th>Timestamp</th>\n      <th>Asset_Id</th>\n      <th>Nacelle Position</th>\n      <th>Active Power</th>\n      <th>Rotor Speed</th>\n      <th>Air Temperature</th>\n      <th>Wind Speed</th>\n      <th>Turbine State</th>\n    </tr>\n  </thead>\n  <tbody>\n    <tr>\n      <th>0</th>\n      <td>2019-01-01 00:00:00</td>\n      <td>cluster1.turb1</td>\n      <td>19.646260</td>\n      <td>-1.548519</td>\n      <td>4.378319</td>\n      <td>28.000000</td>\n      <td>3.967715</td>\n      <td>OK</td>\n    </tr>\n    <tr>\n      <th>1</th>\n      <td>2019-01-01 01:00:00</td>\n      <td>cluster1.turb1</td>\n      <td>19.733920</td>\n      <td>-1.410588</td>\n      <td>2.118582</td>\n      <td>32.000000</td>\n      <td>2.384752</td>\n      <td>OK</td>\n    </tr>\n    <tr>\n      <th>2</th>\n      <td>2019-01-01 02:00:00</td>\n      <td>cluster1.turb1</td>\n      <td>19.904766</td>\n      <td>-0.349324</td>\n      <td>1.727816</td>\n      <td>34.620236</td>\n      <td>2.098440</td>\n      <td>OK</td>\n    </tr>\n    <tr>\n      <th>3</th>\n      <td>2019-01-01 03:00:00</td>\n      <td>cluster1.turb1</td>\n      <td>19.707443</td>\n      <td>-3.057826</td>\n      <td>3.280488</td>\n      <td>33.130995</td>\n      <td>3.760916</td>\n      <td>OK</td>\n    </tr>\n    <tr>\n      <th>4</th>\n      <td>2019-01-01 04:00:00</td>\n      <td>cluster1.turb1</td>\n      <td>8.265666</td>\n      <td>-9.018680</td>\n      <td>13.473622</td>\n      <td>33.000000</td>\n      <td>8.153481</td>\n      <td>OK</td>\n    </tr>\n    <tr>\n      <th>...</th>\n      <td>...</td>\n      <td>...</td>\n      <td>...</td>\n      <td>...</td>\n      <td>...</td>\n      <td>...</td>\n      <td>...</td>\n      <td>...</td>\n    </tr>\n    <tr>\n      <th>14165</th>\n      <td>2019-02-28 20:00:00</td>\n      <td>cluster1.turb9</td>\n      <td>0.704913</td>\n      <td>450.181656</td>\n      <td>15.382127</td>\n      <td>28.000000</td>\n      <td>5.895554</td>\n      <td>OK</td>\n    </tr>\n    <tr>\n      <th>14166</th>\n      <td>2019-02-28 21:00:00</td>\n      <td>cluster1.turb9</td>\n      <td>0.221421</td>\n      <td>706.859494</td>\n      <td>15.445756</td>\n      <td>28.000000</td>\n      <td>5.793121</td>\n      <td>OK</td>\n    </tr>\n    <tr>\n      <th>14167</th>\n      <td>2019-02-28 22:00:00</td>\n      <td>cluster1.turb9</td>\n      <td>0.707875</td>\n      <td>2113.420673</td>\n      <td>15.509385</td>\n      <td>29.000000</td>\n      <td>12.826008</td>\n      <td>OK</td>\n    </tr>\n    <tr>\n      <th>14168</th>\n      <td>2019-02-28 23:00:00</td>\n      <td>cluster1.turb9</td>\n      <td>0.370103</td>\n      <td>756.285030</td>\n      <td>15.573014</td>\n      <td>31.000000</td>\n      <td>7.560330</td>\n      <td>OK</td>\n    </tr>\n    <tr>\n      <th>14169</th>\n      <td>2019-03-01 00:00:00</td>\n      <td>cluster1.turb9</td>\n      <td>0.562883</td>\n      <td>1305.146266</td>\n      <td>15.453275</td>\n      <td>33.000000</td>\n      <td>9.574026</td>\n      <td>OK</td>\n    </tr>\n  </tbody>\n</table>\n<p>13708 rows × 8 columns</p>\n</div>"
     },
     "metadata": {}
    }
   ]
  },
  {
   "cell_type": "code",
   "metadata": {
    "cell_id": "00036-f0c9dca6-6c86-4ec1-8829-34059b058088",
    "deepnote_output_heights": [
     606
    ],
    "deepnote_to_be_reexecuted": false,
    "source_hash": "817a1a59",
    "execution_start": 1642371221469,
    "execution_millis": 441,
    "deepnote_cell_type": "code"
   },
   "source": "# Plotting Active Power versus Wind Speed\n\nfig = plt.figure(figsize=(10, 10))\nax = fig.add_subplot(111)\nax.scatter(df[\"Wind Speed\"], df[\"Active Power\"])\nax.set_xlabel(\"Wind Speed (m/s)\")\nax.set_ylabel(\"Active Power (kW)\")\nax.set_title(\"Active Power vs Wind Speed\")\nax.set_xlim([0,20])\n\nplt.show(block=False)",
   "execution_count": 34,
   "outputs": [
    {
     "data": {
      "text/plain": "<Figure size 720x720 with 1 Axes>",
      "image/png": "[encoded data removed]"
     },
     "metadata": {
      "needs_background": "light",
      "image/png": {
       "width": 629,
       "height": 604
      }
     },
     "output_type": "display_data"
    }
   ]
  },
  {
   "cell_type": "code",
   "metadata": {
    "cell_id": "00037-573c571e-b748-490f-8f42-4640f95f11fe",
    "deepnote_output_heights": [
     382.1875
    ],
    "deepnote_to_be_reexecuted": false,
    "source_hash": "36c0bf81",
    "execution_start": 1642371223569,
    "execution_millis": 551,
    "deepnote_cell_type": "code"
   },
   "source": "# Filter out rows with missing data (if any)\n#\ndf_Filter = df.dropna()\ndf_Filter",
   "execution_count": 35,
   "outputs": [
    {
     "output_type": "execute_result",
     "execution_count": 35,
     "data": {
      "application/vnd.deepnote.dataframe.v3+json": {
       "column_count": 8,
       "row_count": 13708,
       "columns": [
        {
         "name": "Timestamp",
         "dtype": "datetime64[ns]",
         "stats": {
          "unique_count": 1412,
          "nan_count": 0,
          "min": "2019-01-01 00:00:00",
          "max": "2019-03-01 00:00:00",
          "histogram": [
           {
            "bin_start": 1546300800000000000,
            "bin_end": 1546810560000000000,
            "count": 1384
           },
           {
            "bin_start": 1546810560000000000,
            "bin_end": 1547320320000000000,
            "count": 1403
           },
           {
            "bin_start": 1547320320000000000,
            "bin_end": 1547830080000000000,
            "count": 1278
           },
           {
            "bin_start": 1547830080000000000,
            "bin_end": 1548339840000000000,
            "count": 1308
           },
           {
            "bin_start": 1548339840000000000,
            "bin_end": 1548849600000000000,
            "count": 1395
           },
           {
            "bin_start": 1548849600000000000,
            "bin_end": 1549359360000000000,
            "count": 1393
           },
           {
            "bin_start": 1549359360000000000,
            "bin_end": 1549869120000000000,
            "count": 1406
           },
           {
            "bin_start": 1549869120000000000,
            "bin_end": 1550378880000000000,
            "count": 1374
           },
           {
            "bin_start": 1550378880000000000,
            "bin_end": 1550888640000000000,
            "count": 1384
           },
           {
            "bin_start": 1550888640000000000,
            "bin_end": 1551398400000000000,
            "count": 1383
           }
          ]
         }
        },
        {
         "name": "Asset_Id",
         "dtype": "object",
         "stats": {
          "unique_count": 10,
          "nan_count": 0,
          "categories": [
           {
            "name": "cluster1.turb8",
            "count": 1401
           },
           {
            "name": "cluster1.turb10",
            "count": 1398
           },
           {
            "name": "8 others",
            "count": 10909
           }
          ]
         }
        },
        {
         "name": "Nacelle Position",
         "dtype": "float64",
         "stats": {
          "unique_count": 13707,
          "nan_count": 0,
          "min": "-0.615120587804053",
          "max": "89.96613672448042",
          "histogram": [
           {
            "bin_start": -0.615120587804053,
            "bin_end": 8.443005143424394,
            "count": 9084
           },
           {
            "bin_start": 8.443005143424394,
            "bin_end": 17.50113087465284,
            "count": 561
           },
           {
            "bin_start": 17.50113087465284,
            "bin_end": 26.559256605881288,
            "count": 3891
           },
           {
            "bin_start": 26.559256605881288,
            "bin_end": 35.61738233710974,
            "count": 4
           },
           {
            "bin_start": 35.61738233710974,
            "bin_end": 44.67550806833818,
            "count": 5
           },
           {
            "bin_start": 44.67550806833818,
            "bin_end": 53.73363379956663,
            "count": 2
           },
           {
            "bin_start": 53.73363379956663,
            "bin_end": 62.79175953079508,
            "count": 9
           },
           {
            "bin_start": 62.79175953079508,
            "bin_end": 71.84988526202352,
            "count": 4
           },
           {
            "bin_start": 71.84988526202352,
            "bin_end": 80.90801099325196,
            "count": 5
           },
           {
            "bin_start": 80.90801099325196,
            "bin_end": 89.96613672448042,
            "count": 143
           }
          ]
         }
        },
        {
         "name": "Active Power",
         "dtype": "float64",
         "stats": {
          "unique_count": 13662,
          "nan_count": 0,
          "min": "-48.6166246349132",
          "max": "2234.216886237441",
          "histogram": [
           {
            "bin_start": -48.6166246349132,
            "bin_end": 179.66672645232222,
            "count": 6044
           },
           {
            "bin_start": 179.66672645232222,
            "bin_end": 407.95007753955764,
            "count": 1590
           },
           {
            "bin_start": 407.95007753955764,
            "bin_end": 636.233428626793,
            "count": 1303
           },
           {
            "bin_start": 636.233428626793,
            "bin_end": 864.5167797140284,
            "count": 1064
           },
           {
            "bin_start": 864.5167797140284,
            "bin_end": 1092.8001308012638,
            "count": 817
           },
           {
            "bin_start": 1092.8001308012638,
            "bin_end": 1321.0834818884994,
            "count": 692
           },
           {
            "bin_start": 1321.0834818884994,
            "bin_end": 1549.3668329757347,
            "count": 556
           },
           {
            "bin_start": 1549.3668329757347,
            "bin_end": 1777.65018406297,
            "count": 481
           },
           {
            "bin_start": 1777.65018406297,
            "bin_end": 2005.9335351502057,
            "count": 352
           },
           {
            "bin_start": 2005.9335351502057,
            "bin_end": 2234.216886237441,
            "count": 809
           }
          ]
         }
        },
        {
         "name": "Rotor Speed",
         "dtype": "float64",
         "stats": {
          "unique_count": 12847,
          "nan_count": 0,
          "min": "0.0",
          "max": "16.37800063196971",
          "histogram": [
           {
            "bin_start": 0,
            "bin_end": 1.637800063196971,
            "count": 1095
           },
           {
            "bin_start": 1.637800063196971,
            "bin_end": 3.275600126393942,
            "count": 1206
           },
           {
            "bin_start": 3.275600126393942,
            "bin_end": 4.913400189590913,
            "count": 1271
           },
           {
            "bin_start": 4.913400189590913,
            "bin_end": 6.551200252787884,
            "count": 571
           },
           {
            "bin_start": 6.551200252787884,
            "bin_end": 8.189000315984854,
            "count": 205
           },
           {
            "bin_start": 8.189000315984854,
            "bin_end": 9.826800379181826,
            "count": 148
           },
           {
            "bin_start": 9.826800379181826,
            "bin_end": 11.464600442378796,
            "count": 129
           },
           {
            "bin_start": 11.464600442378796,
            "bin_end": 13.102400505575767,
            "count": 671
           },
           {
            "bin_start": 13.102400505575767,
            "bin_end": 14.740200568772739,
            "count": 386
           },
           {
            "bin_start": 14.740200568772739,
            "bin_end": 16.37800063196971,
            "count": 8026
           }
          ]
         }
        },
        {
         "name": "Air Temperature",
         "dtype": "float64",
         "stats": {
          "unique_count": 5480,
          "nan_count": 0,
          "min": "3.814731232231473",
          "max": "46.78627127574088",
          "histogram": [
           {
            "bin_start": 3.814731232231473,
            "bin_end": 8.111885236582413,
            "count": 12
           },
           {
            "bin_start": 8.111885236582413,
            "bin_end": 12.409039240933355,
            "count": 374
           },
           {
            "bin_start": 12.409039240933355,
            "bin_end": 16.706193245284297,
            "count": 1826
           },
           {
            "bin_start": 16.706193245284297,
            "bin_end": 21.003347249635237,
            "count": 2329
           },
           {
            "bin_start": 21.003347249635237,
            "bin_end": 25.300501253986177,
            "count": 2536
           },
           {
            "bin_start": 25.300501253986177,
            "bin_end": 29.59765525833712,
            "count": 2496
           },
           {
            "bin_start": 29.59765525833712,
            "bin_end": 33.89480926268806,
            "count": 2255
           },
           {
            "bin_start": 33.89480926268806,
            "bin_end": 38.191963267039,
            "count": 1455
           },
           {
            "bin_start": 38.191963267039,
            "bin_end": 42.489117271389944,
            "count": 378
           },
           {
            "bin_start": 42.489117271389944,
            "bin_end": 46.78627127574088,
            "count": 47
           }
          ]
         }
        },
        {
         "name": "Wind Speed",
         "dtype": "float64",
         "stats": {
          "unique_count": 13708,
          "nan_count": 0,
          "min": "0.5736089269194606",
          "max": "19.32932689397197",
          "histogram": [
           {
            "bin_start": 0.5736089269194606,
            "bin_end": 2.4491807236247114,
            "count": 1149
           },
           {
            "bin_start": 2.4491807236247114,
            "bin_end": 4.324752520329962,
            "count": 2889
           },
           {
            "bin_start": 4.324752520329962,
            "bin_end": 6.2003243170352125,
            "count": 3212
           },
           {
            "bin_start": 6.2003243170352125,
            "bin_end": 8.075896113740464,
            "count": 2603
           },
           {
            "bin_start": 8.075896113740464,
            "bin_end": 9.951467910445714,
            "count": 1871
           },
           {
            "bin_start": 9.951467910445714,
            "bin_end": 11.827039707150965,
            "count": 1077
           },
           {
            "bin_start": 11.827039707150965,
            "bin_end": 13.702611503856216,
            "count": 565
           },
           {
            "bin_start": 13.702611503856216,
            "bin_end": 15.578183300561466,
            "count": 263
           },
           {
            "bin_start": 15.578183300561466,
            "bin_end": 17.45375509726672,
            "count": 63
           },
           {
            "bin_start": 17.45375509726672,
            "bin_end": 19.32932689397197,
            "count": 16
           }
          ]
         }
        },
        {
         "name": "Turbine State",
         "dtype": "object"
        },
        {
         "name": "_deepnote_index_column",
         "dtype": "int64"
        }
       ],
       "rows": [
        {
         "Timestamp": "2019-01-01T00:00:00.000000",
         "Asset_Id": "cluster1.turb1",
         "Nacelle Position": 19.646259545833544,
         "Active Power": -1.5485194568674212,
         "Rotor Speed": 4.378318616749656,
         "Air Temperature": 28,
         "Wind Speed": 3.96771506609006,
         "Turbine State": "OK",
         "_deepnote_index_column": 0
        },
        {
         "Timestamp": "2019-01-01T01:00:00.000000",
         "Asset_Id": "cluster1.turb1",
         "Nacelle Position": 19.73391961245076,
         "Active Power": -1.410587596611233,
         "Rotor Speed": 2.118581686791737,
         "Air Temperature": 32,
         "Wind Speed": 2.3847517339884434,
         "Turbine State": "OK",
         "_deepnote_index_column": 1
        },
        {
         "Timestamp": "2019-01-01T02:00:00.000000",
         "Asset_Id": "cluster1.turb1",
         "Nacelle Position": 19.904765549761784,
         "Active Power": -0.3493236345467436,
         "Rotor Speed": 1.7278164089560433,
         "Air Temperature": 34.62023601101404,
         "Wind Speed": 2.0984397224220386,
         "Turbine State": "OK",
         "_deepnote_index_column": 2
        },
        {
         "Timestamp": "2019-01-01T03:00:00.000000",
         "Asset_Id": "cluster1.turb1",
         "Nacelle Position": 19.70744326276031,
         "Active Power": -3.05782614452934,
         "Rotor Speed": 3.280488302189781,
         "Air Temperature": 33.13099473211522,
         "Wind Speed": 3.760916128456548,
         "Turbine State": "OK",
         "_deepnote_index_column": 3
        },
        {
         "Timestamp": "2019-01-01T04:00:00.000000",
         "Asset_Id": "cluster1.turb1",
         "Nacelle Position": 8.265666348285377,
         "Active Power": -9.018679741276468,
         "Rotor Speed": 13.4736221686155,
         "Air Temperature": 33,
         "Wind Speed": 8.153481444347287,
         "Turbine State": "OK",
         "_deepnote_index_column": 4
        },
        {
         "Timestamp": "2019-01-01T05:00:00.000000",
         "Asset_Id": "cluster1.turb1",
         "Nacelle Position": 1.316863310308192,
         "Active Power": -12.334071293437582,
         "Rotor Speed": 14.88509565735985,
         "Air Temperature": 33,
         "Wind Speed": 2.9158987765228503,
         "Turbine State": "OK",
         "_deepnote_index_column": 5
        },
        {
         "Timestamp": "2019-01-01T06:00:00.000000",
         "Asset_Id": "cluster1.turb1",
         "Nacelle Position": 7.600460451110206,
         "Active Power": -3.752271768191163,
         "Rotor Speed": 10.879070578946312,
         "Air Temperature": 34.01426120860063,
         "Wind Speed": 5.346074384827076,
         "Turbine State": "OK",
         "_deepnote_index_column": 6
        },
        {
         "Timestamp": "2019-01-01T07:00:00.000000",
         "Asset_Id": "cluster1.turb1",
         "Nacelle Position": 0.2555725785187477,
         "Active Power": 825.3128222622021,
         "Rotor Speed": 15.007162090398332,
         "Air Temperature": 33,
         "Wind Speed": 8.777148589175926,
         "Turbine State": "OK",
         "_deepnote_index_column": 7
        },
        {
         "Timestamp": "2019-01-01T08:00:00.000000",
         "Asset_Id": "cluster1.turb1",
         "Nacelle Position": 0.8391112879433267,
         "Active Power": 387.9410050022044,
         "Rotor Speed": 15.27744585278474,
         "Air Temperature": 32.74837914631991,
         "Wind Speed": 6.587068466303728,
         "Turbine State": "OK",
         "_deepnote_index_column": 8
        },
        {
         "Timestamp": "2019-01-01T09:00:00.000000",
         "Asset_Id": "cluster1.turb1",
         "Nacelle Position": 0.74993904337311,
         "Active Power": 1943.823959175392,
         "Rotor Speed": 15.376954411764842,
         "Air Temperature": 30,
         "Wind Speed": 11.88491917688531,
         "Turbine State": "OK",
         "_deepnote_index_column": 9
        }
       ]
      },
      "text/plain": "                Timestamp        Asset_Id  Nacelle Position  Active Power  \\\n0     2019-01-01 00:00:00  cluster1.turb1         19.646260     -1.548519   \n1     2019-01-01 01:00:00  cluster1.turb1         19.733920     -1.410588   \n2     2019-01-01 02:00:00  cluster1.turb1         19.904766     -0.349324   \n3     2019-01-01 03:00:00  cluster1.turb1         19.707443     -3.057826   \n4     2019-01-01 04:00:00  cluster1.turb1          8.265666     -9.018680   \n...                   ...             ...               ...           ...   \n14165 2019-02-28 20:00:00  cluster1.turb9          0.704913    450.181656   \n14166 2019-02-28 21:00:00  cluster1.turb9          0.221421    706.859494   \n14167 2019-02-28 22:00:00  cluster1.turb9          0.707875   2113.420673   \n14168 2019-02-28 23:00:00  cluster1.turb9          0.370103    756.285030   \n14169 2019-03-01 00:00:00  cluster1.turb9          0.562883   1305.146266   \n\n       Rotor Speed  Air Temperature  Wind Speed Turbine State  \n0         4.378319        28.000000    3.967715            OK  \n1         2.118582        32.000000    2.384752            OK  \n2         1.727816        34.620236    2.098440            OK  \n3         3.280488        33.130995    3.760916            OK  \n4        13.473622        33.000000    8.153481            OK  \n...            ...              ...         ...           ...  \n14165    15.382127        28.000000    5.895554            OK  \n14166    15.445756        28.000000    5.793121            OK  \n14167    15.509385        29.000000   12.826008            OK  \n14168    15.573014        31.000000    7.560330            OK  \n14169    15.453275        33.000000    9.574026            OK  \n\n[13708 rows x 8 columns]",
      "text/html": "<div>\n<style scoped>\n    .dataframe tbody tr th:only-of-type {\n        vertical-align: middle;\n    }\n\n    .dataframe tbody tr th {\n        vertical-align: top;\n    }\n\n    .dataframe thead th {\n        text-align: right;\n    }\n</style>\n<table border=\"1\" class=\"dataframe\">\n  <thead>\n    <tr style=\"text-align: right;\">\n      <th></th>\n      <th>Timestamp</th>\n      <th>Asset_Id</th>\n      <th>Nacelle Position</th>\n      <th>Active Power</th>\n      <th>Rotor Speed</th>\n      <th>Air Temperature</th>\n      <th>Wind Speed</th>\n      <th>Turbine State</th>\n    </tr>\n  </thead>\n  <tbody>\n    <tr>\n      <th>0</th>\n      <td>2019-01-01 00:00:00</td>\n      <td>cluster1.turb1</td>\n      <td>19.646260</td>\n      <td>-1.548519</td>\n      <td>4.378319</td>\n      <td>28.000000</td>\n      <td>3.967715</td>\n      <td>OK</td>\n    </tr>\n    <tr>\n      <th>1</th>\n      <td>2019-01-01 01:00:00</td>\n      <td>cluster1.turb1</td>\n      <td>19.733920</td>\n      <td>-1.410588</td>\n      <td>2.118582</td>\n      <td>32.000000</td>\n      <td>2.384752</td>\n      <td>OK</td>\n    </tr>\n    <tr>\n      <th>2</th>\n      <td>2019-01-01 02:00:00</td>\n      <td>cluster1.turb1</td>\n      <td>19.904766</td>\n      <td>-0.349324</td>\n      <td>1.727816</td>\n      <td>34.620236</td>\n      <td>2.098440</td>\n      <td>OK</td>\n    </tr>\n    <tr>\n      <th>3</th>\n      <td>2019-01-01 03:00:00</td>\n      <td>cluster1.turb1</td>\n      <td>19.707443</td>\n      <td>-3.057826</td>\n      <td>3.280488</td>\n      <td>33.130995</td>\n      <td>3.760916</td>\n      <td>OK</td>\n    </tr>\n    <tr>\n      <th>4</th>\n      <td>2019-01-01 04:00:00</td>\n      <td>cluster1.turb1</td>\n      <td>8.265666</td>\n      <td>-9.018680</td>\n      <td>13.473622</td>\n      <td>33.000000</td>\n      <td>8.153481</td>\n      <td>OK</td>\n    </tr>\n    <tr>\n      <th>...</th>\n      <td>...</td>\n      <td>...</td>\n      <td>...</td>\n      <td>...</td>\n      <td>...</td>\n      <td>...</td>\n      <td>...</td>\n      <td>...</td>\n    </tr>\n    <tr>\n      <th>14165</th>\n      <td>2019-02-28 20:00:00</td>\n      <td>cluster1.turb9</td>\n      <td>0.704913</td>\n      <td>450.181656</td>\n      <td>15.382127</td>\n      <td>28.000000</td>\n      <td>5.895554</td>\n      <td>OK</td>\n    </tr>\n    <tr>\n      <th>14166</th>\n      <td>2019-02-28 21:00:00</td>\n      <td>cluster1.turb9</td>\n      <td>0.221421</td>\n      <td>706.859494</td>\n      <td>15.445756</td>\n      <td>28.000000</td>\n      <td>5.793121</td>\n      <td>OK</td>\n    </tr>\n    <tr>\n      <th>14167</th>\n      <td>2019-02-28 22:00:00</td>\n      <td>cluster1.turb9</td>\n      <td>0.707875</td>\n      <td>2113.420673</td>\n      <td>15.509385</td>\n      <td>29.000000</td>\n      <td>12.826008</td>\n      <td>OK</td>\n    </tr>\n    <tr>\n      <th>14168</th>\n      <td>2019-02-28 23:00:00</td>\n      <td>cluster1.turb9</td>\n      <td>0.370103</td>\n      <td>756.285030</td>\n      <td>15.573014</td>\n      <td>31.000000</td>\n      <td>7.560330</td>\n      <td>OK</td>\n    </tr>\n    <tr>\n      <th>14169</th>\n      <td>2019-03-01 00:00:00</td>\n      <td>cluster1.turb9</td>\n      <td>0.562883</td>\n      <td>1305.146266</td>\n      <td>15.453275</td>\n      <td>33.000000</td>\n      <td>9.574026</td>\n      <td>OK</td>\n    </tr>\n  </tbody>\n</table>\n<p>13708 rows × 8 columns</p>\n</div>"
     },
     "metadata": {}
    }
   ]
  },
  {
   "cell_type": "code",
   "metadata": {
    "cell_id": "00039-1bc7949b-608d-4d07-937b-7e629baaa616",
    "deepnote_output_heights": [
     382.1875
    ],
    "deepnote_to_be_reexecuted": false,
    "source_hash": "d218c1d",
    "execution_start": 1642371227649,
    "execution_millis": 358,
    "deepnote_cell_type": "code"
   },
   "source": "# Filter out negative & excessive Active Power Values\nfilterNegativeActivePower = df_Filter[\"Active Power\"] >= 0\ndf_Filter = df_Filter[filterNegativeActivePower]\ndf_Filter",
   "execution_count": 36,
   "outputs": [
    {
     "output_type": "execute_result",
     "execution_count": 36,
     "data": {
      "application/vnd.deepnote.dataframe.v3+json": {
       "column_count": 8,
       "row_count": 8733,
       "columns": [
        {
         "name": "Timestamp",
         "dtype": "datetime64[ns]",
         "stats": {
          "unique_count": 1241,
          "nan_count": 0,
          "min": "2019-01-01 00:00:00",
          "max": "2019-03-01 00:00:00",
          "histogram": [
           {
            "bin_start": 1546300800000000000,
            "bin_end": 1546810560000000000,
            "count": 937
           },
           {
            "bin_start": 1546810560000000000,
            "bin_end": 1547320320000000000,
            "count": 914
           },
           {
            "bin_start": 1547320320000000000,
            "bin_end": 1547830080000000000,
            "count": 821
           },
           {
            "bin_start": 1547830080000000000,
            "bin_end": 1548339840000000000,
            "count": 711
           },
           {
            "bin_start": 1548339840000000000,
            "bin_end": 1548849600000000000,
            "count": 806
           },
           {
            "bin_start": 1548849600000000000,
            "bin_end": 1549359360000000000,
            "count": 1037
           },
           {
            "bin_start": 1549359360000000000,
            "bin_end": 1549869120000000000,
            "count": 941
           },
           {
            "bin_start": 1549869120000000000,
            "bin_end": 1550378880000000000,
            "count": 726
           },
           {
            "bin_start": 1550378880000000000,
            "bin_end": 1550888640000000000,
            "count": 914
           },
           {
            "bin_start": 1550888640000000000,
            "bin_end": 1551398400000000000,
            "count": 926
           }
          ]
         }
        },
        {
         "name": "Asset_Id",
         "dtype": "object",
         "stats": {
          "unique_count": 10,
          "nan_count": 0,
          "categories": [
           {
            "name": "cluster1.turb10",
            "count": 1054
           },
           {
            "name": "cluster1.turb1",
            "count": 948
           },
           {
            "name": "8 others",
            "count": 6731
           }
          ]
         }
        },
        {
         "name": "Nacelle Position",
         "dtype": "float64",
         "stats": {
          "unique_count": 8733,
          "nan_count": 0,
          "min": "-0.615120587804053",
          "max": "20.776566773208614",
          "histogram": [
           {
            "bin_start": -0.615120587804053,
            "bin_end": 1.5240481482972137,
            "count": 7445
           },
           {
            "bin_start": 1.5240481482972137,
            "bin_end": 3.6632168843984805,
            "count": 598
           },
           {
            "bin_start": 3.6632168843984805,
            "bin_end": 5.802385620499748,
            "count": 171
           },
           {
            "bin_start": 5.802385620499748,
            "bin_end": 7.9415543566010145,
            "count": 146
           },
           {
            "bin_start": 7.9415543566010145,
            "bin_end": 10.08072309270228,
            "count": 154
           },
           {
            "bin_start": 10.08072309270228,
            "bin_end": 12.219891828803547,
            "count": 120
           },
           {
            "bin_start": 12.219891828803547,
            "bin_end": 14.359060564904814,
            "count": 49
           },
           {
            "bin_start": 14.359060564904814,
            "bin_end": 16.49822930100608,
            "count": 18
           },
           {
            "bin_start": 16.49822930100608,
            "bin_end": 18.63739803710735,
            "count": 7
           },
           {
            "bin_start": 18.63739803710735,
            "bin_end": 20.776566773208614,
            "count": 25
           }
          ]
         }
        },
        {
         "name": "Active Power",
         "dtype": "float64",
         "stats": {
          "unique_count": 8721,
          "nan_count": 0,
          "min": "0.0",
          "max": "2234.216886237441",
          "histogram": [
           {
            "bin_start": 0,
            "bin_end": 223.4216886237441,
            "count": 1376
           },
           {
            "bin_start": 223.4216886237441,
            "bin_end": 446.8433772474882,
            "count": 1540
           },
           {
            "bin_start": 446.8433772474882,
            "bin_end": 670.2650658712323,
            "count": 1227
           },
           {
            "bin_start": 670.2650658712323,
            "bin_end": 893.6867544949764,
            "count": 996
           },
           {
            "bin_start": 893.6867544949764,
            "bin_end": 1117.1084431187205,
            "count": 806
           },
           {
            "bin_start": 1117.1084431187205,
            "bin_end": 1340.5301317424646,
            "count": 639
           },
           {
            "bin_start": 1340.5301317424646,
            "bin_end": 1563.9518203662087,
            "count": 551
           },
           {
            "bin_start": 1563.9518203662087,
            "bin_end": 1787.3735089899528,
            "count": 454
           },
           {
            "bin_start": 1787.3735089899528,
            "bin_end": 2010.795197613697,
            "count": 341
           },
           {
            "bin_start": 2010.795197613697,
            "bin_end": 2234.216886237441,
            "count": 803
           }
          ]
         }
        },
        {
         "name": "Rotor Speed",
         "dtype": "float64",
         "stats": {
          "unique_count": 8059,
          "nan_count": 0,
          "min": "0.0092589916599165",
          "max": "16.37800063196971",
          "histogram": [
           {
            "bin_start": 0.0092589916599165,
            "bin_end": 1.6461331556908956,
            "count": 38
           },
           {
            "bin_start": 1.6461331556908956,
            "bin_end": 3.2830073197218748,
            "count": 8
           },
           {
            "bin_start": 3.2830073197218748,
            "bin_end": 4.919881483752854,
            "count": 7
           },
           {
            "bin_start": 4.919881483752854,
            "bin_end": 6.556755647783834,
            "count": 3
           },
           {
            "bin_start": 6.556755647783834,
            "bin_end": 8.193629811814812,
            "count": 1
           },
           {
            "bin_start": 8.193629811814812,
            "bin_end": 9.83050397584579,
            "count": 3
           },
           {
            "bin_start": 9.83050397584579,
            "bin_end": 11.46737813987677,
            "count": 4
           },
           {
            "bin_start": 11.46737813987677,
            "bin_end": 13.10425230390775,
            "count": 456
           },
           {
            "bin_start": 13.10425230390775,
            "bin_end": 14.741126467938729,
            "count": 297
           },
           {
            "bin_start": 14.741126467938729,
            "bin_end": 16.37800063196971,
            "count": 7916
           }
          ]
         }
        },
        {
         "name": "Air Temperature",
         "dtype": "float64",
         "stats": {
          "unique_count": 3422,
          "nan_count": 0,
          "min": "3.814731232231473",
          "max": "45.0",
          "histogram": [
           {
            "bin_start": 3.814731232231473,
            "bin_end": 7.933258109008326,
            "count": 10
           },
           {
            "bin_start": 7.933258109008326,
            "bin_end": 12.05178498578518,
            "count": 226
           },
           {
            "bin_start": 12.05178498578518,
            "bin_end": 16.17031186256203,
            "count": 1288
           },
           {
            "bin_start": 16.17031186256203,
            "bin_end": 20.288838739338885,
            "count": 1256
           },
           {
            "bin_start": 20.288838739338885,
            "bin_end": 24.40736561611574,
            "count": 1622
           },
           {
            "bin_start": 24.40736561611574,
            "bin_end": 28.52589249289259,
            "count": 1580
           },
           {
            "bin_start": 28.52589249289259,
            "bin_end": 32.64441936966944,
            "count": 1456
           },
           {
            "bin_start": 32.64441936966944,
            "bin_end": 36.7629462464463,
            "count": 892
           },
           {
            "bin_start": 36.7629462464463,
            "bin_end": 40.88147312322315,
            "count": 371
           },
           {
            "bin_start": 40.88147312322315,
            "bin_end": 45,
            "count": 32
           }
          ]
         }
        },
        {
         "name": "Wind Speed",
         "dtype": "float64",
         "stats": {
          "unique_count": 8733,
          "nan_count": 0,
          "min": "0.6382522263451909",
          "max": "19.32932689397197",
          "histogram": [
           {
            "bin_start": 0.6382522263451909,
            "bin_end": 2.507359693107869,
            "count": 36
           },
           {
            "bin_start": 2.507359693107869,
            "bin_end": 4.376467159870547,
            "count": 548
           },
           {
            "bin_start": 4.376467159870547,
            "bin_end": 6.245574626633225,
            "count": 2055
           },
           {
            "bin_start": 6.245574626633225,
            "bin_end": 8.114682093395903,
            "count": 2352
           },
           {
            "bin_start": 8.114682093395903,
            "bin_end": 9.98378956015858,
            "count": 1791
           },
           {
            "bin_start": 9.98378956015858,
            "bin_end": 11.852897026921259,
            "count": 1060
           },
           {
            "bin_start": 11.852897026921259,
            "bin_end": 13.722004493683936,
            "count": 555
           },
           {
            "bin_start": 13.722004493683936,
            "bin_end": 15.591111960446614,
            "count": 258
           },
           {
            "bin_start": 15.591111960446614,
            "bin_end": 17.460219427209292,
            "count": 62
           },
           {
            "bin_start": 17.460219427209292,
            "bin_end": 19.32932689397197,
            "count": 16
           }
          ]
         }
        },
        {
         "name": "Turbine State",
         "dtype": "object",
         "stats": {
          "unique_count": 1,
          "nan_count": 0,
          "categories": [
           {
            "name": "OK",
            "count": 8733
           }
          ]
         }
        },
        {
         "name": "_deepnote_index_column",
         "dtype": "int64"
        }
       ],
       "rows": [
        {
         "Timestamp": "2019-01-01T07:00:00.000000",
         "Asset_Id": "cluster1.turb1",
         "Nacelle Position": 0.2555725785187477,
         "Active Power": 825.3128222622021,
         "Rotor Speed": 15.007162090398332,
         "Air Temperature": 33,
         "Wind Speed": 8.777148589175926,
         "Turbine State": "OK",
         "_deepnote_index_column": 7
        },
        {
         "Timestamp": "2019-01-01T08:00:00.000000",
         "Asset_Id": "cluster1.turb1",
         "Nacelle Position": 0.8391112879433267,
         "Active Power": 387.9410050022044,
         "Rotor Speed": 15.27744585278474,
         "Air Temperature": 32.74837914631991,
         "Wind Speed": 6.587068466303728,
         "Turbine State": "OK",
         "_deepnote_index_column": 8
        },
        {
         "Timestamp": "2019-01-01T09:00:00.000000",
         "Asset_Id": "cluster1.turb1",
         "Nacelle Position": 0.74993904337311,
         "Active Power": 1943.823959175392,
         "Rotor Speed": 15.376954411764842,
         "Air Temperature": 30,
         "Wind Speed": 11.88491917688531,
         "Turbine State": "OK",
         "_deepnote_index_column": 9
        },
        {
         "Timestamp": "2019-01-01T10:00:00.000000",
         "Asset_Id": "cluster1.turb1",
         "Nacelle Position": 6.905895541770006,
         "Active Power": 2089.754023248473,
         "Rotor Speed": 15.476462970744944,
         "Air Temperature": 26,
         "Wind Speed": 13.074597714702852,
         "Turbine State": "OK",
         "_deepnote_index_column": 10
        },
        {
         "Timestamp": "2019-01-01T11:00:00.000000",
         "Asset_Id": "cluster1.turb1",
         "Nacelle Position": 0.5946575762159255,
         "Active Power": 1701.156339024796,
         "Rotor Speed": 15.575971529725049,
         "Air Temperature": 24,
         "Wind Speed": 10.97194704857052,
         "Turbine State": "OK",
         "_deepnote_index_column": 11
        },
        {
         "Timestamp": "2019-01-01T12:00:00.000000",
         "Asset_Id": "cluster1.turb1",
         "Nacelle Position": 0.0732142521330539,
         "Active Power": 553.4916491795238,
         "Rotor Speed": 15.220906669582336,
         "Air Temperature": 21.200665761050736,
         "Wind Speed": 5.952715392232298,
         "Turbine State": "OK",
         "_deepnote_index_column": 12
        },
        {
         "Timestamp": "2019-01-01T13:00:00.000000",
         "Asset_Id": "cluster1.turb1",
         "Nacelle Position": 0.3535515989377221,
         "Active Power": 1960.669243549856,
         "Rotor Speed": 15.42589616517208,
         "Air Temperature": 21.25540916005473,
         "Wind Speed": 11.131640757249263,
         "Turbine State": "OK",
         "_deepnote_index_column": 13
        },
        {
         "Timestamp": "2019-01-01T15:00:00.000000",
         "Asset_Id": "cluster1.turb1",
         "Nacelle Position": 0.5315815387185218,
         "Active Power": 643.3995694216076,
         "Rotor Speed": 15.17843734879846,
         "Air Temperature": 20,
         "Wind Speed": 7.881118777577898,
         "Turbine State": "OK",
         "_deepnote_index_column": 15
        },
        {
         "Timestamp": "2019-01-01T16:00:00.000000",
         "Asset_Id": "cluster1.turb1",
         "Nacelle Position": 0.968543899293201,
         "Active Power": 152.75044130086042,
         "Rotor Speed": 15.123991097838331,
         "Air Temperature": 20,
         "Wind Speed": 4.690802143517897,
         "Turbine State": "OK",
         "_deepnote_index_column": 16
        },
        {
         "Timestamp": "2019-01-01T17:00:00.000000",
         "Asset_Id": "cluster1.turb1",
         "Nacelle Position": 1.049957235215179,
         "Active Power": 79.14911781657403,
         "Rotor Speed": 15.069544846878204,
         "Air Temperature": 19.75278376948916,
         "Wind Speed": 4.016511958722472,
         "Turbine State": "OK",
         "_deepnote_index_column": 17
        }
       ]
      },
      "text/plain": "                Timestamp        Asset_Id  Nacelle Position  Active Power  \\\n7     2019-01-01 07:00:00  cluster1.turb1          0.255573    825.312822   \n8     2019-01-01 08:00:00  cluster1.turb1          0.839111    387.941005   \n9     2019-01-01 09:00:00  cluster1.turb1          0.749939   1943.823959   \n10    2019-01-01 10:00:00  cluster1.turb1          6.905896   2089.754023   \n11    2019-01-01 11:00:00  cluster1.turb1          0.594658   1701.156339   \n...                   ...             ...               ...           ...   \n14165 2019-02-28 20:00:00  cluster1.turb9          0.704913    450.181656   \n14166 2019-02-28 21:00:00  cluster1.turb9          0.221421    706.859494   \n14167 2019-02-28 22:00:00  cluster1.turb9          0.707875   2113.420673   \n14168 2019-02-28 23:00:00  cluster1.turb9          0.370103    756.285030   \n14169 2019-03-01 00:00:00  cluster1.turb9          0.562883   1305.146266   \n\n       Rotor Speed  Air Temperature  Wind Speed Turbine State  \n7        15.007162        33.000000    8.777149            OK  \n8        15.277446        32.748379    6.587068            OK  \n9        15.376954        30.000000   11.884919            OK  \n10       15.476463        26.000000   13.074598            OK  \n11       15.575972        24.000000   10.971947            OK  \n...            ...              ...         ...           ...  \n14165    15.382127        28.000000    5.895554            OK  \n14166    15.445756        28.000000    5.793121            OK  \n14167    15.509385        29.000000   12.826008            OK  \n14168    15.573014        31.000000    7.560330            OK  \n14169    15.453275        33.000000    9.574026            OK  \n\n[8733 rows x 8 columns]",
      "text/html": "<div>\n<style scoped>\n    .dataframe tbody tr th:only-of-type {\n        vertical-align: middle;\n    }\n\n    .dataframe tbody tr th {\n        vertical-align: top;\n    }\n\n    .dataframe thead th {\n        text-align: right;\n    }\n</style>\n<table border=\"1\" class=\"dataframe\">\n  <thead>\n    <tr style=\"text-align: right;\">\n      <th></th>\n      <th>Timestamp</th>\n      <th>Asset_Id</th>\n      <th>Nacelle Position</th>\n      <th>Active Power</th>\n      <th>Rotor Speed</th>\n      <th>Air Temperature</th>\n      <th>Wind Speed</th>\n      <th>Turbine State</th>\n    </tr>\n  </thead>\n  <tbody>\n    <tr>\n      <th>7</th>\n      <td>2019-01-01 07:00:00</td>\n      <td>cluster1.turb1</td>\n      <td>0.255573</td>\n      <td>825.312822</td>\n      <td>15.007162</td>\n      <td>33.000000</td>\n      <td>8.777149</td>\n      <td>OK</td>\n    </tr>\n    <tr>\n      <th>8</th>\n      <td>2019-01-01 08:00:00</td>\n      <td>cluster1.turb1</td>\n      <td>0.839111</td>\n      <td>387.941005</td>\n      <td>15.277446</td>\n      <td>32.748379</td>\n      <td>6.587068</td>\n      <td>OK</td>\n    </tr>\n    <tr>\n      <th>9</th>\n      <td>2019-01-01 09:00:00</td>\n      <td>cluster1.turb1</td>\n      <td>0.749939</td>\n      <td>1943.823959</td>\n      <td>15.376954</td>\n      <td>30.000000</td>\n      <td>11.884919</td>\n      <td>OK</td>\n    </tr>\n    <tr>\n      <th>10</th>\n      <td>2019-01-01 10:00:00</td>\n      <td>cluster1.turb1</td>\n      <td>6.905896</td>\n      <td>2089.754023</td>\n      <td>15.476463</td>\n      <td>26.000000</td>\n      <td>13.074598</td>\n      <td>OK</td>\n    </tr>\n    <tr>\n      <th>11</th>\n      <td>2019-01-01 11:00:00</td>\n      <td>cluster1.turb1</td>\n      <td>0.594658</td>\n      <td>1701.156339</td>\n      <td>15.575972</td>\n      <td>24.000000</td>\n      <td>10.971947</td>\n      <td>OK</td>\n    </tr>\n    <tr>\n      <th>...</th>\n      <td>...</td>\n      <td>...</td>\n      <td>...</td>\n      <td>...</td>\n      <td>...</td>\n      <td>...</td>\n      <td>...</td>\n      <td>...</td>\n    </tr>\n    <tr>\n      <th>14165</th>\n      <td>2019-02-28 20:00:00</td>\n      <td>cluster1.turb9</td>\n      <td>0.704913</td>\n      <td>450.181656</td>\n      <td>15.382127</td>\n      <td>28.000000</td>\n      <td>5.895554</td>\n      <td>OK</td>\n    </tr>\n    <tr>\n      <th>14166</th>\n      <td>2019-02-28 21:00:00</td>\n      <td>cluster1.turb9</td>\n      <td>0.221421</td>\n      <td>706.859494</td>\n      <td>15.445756</td>\n      <td>28.000000</td>\n      <td>5.793121</td>\n      <td>OK</td>\n    </tr>\n    <tr>\n      <th>14167</th>\n      <td>2019-02-28 22:00:00</td>\n      <td>cluster1.turb9</td>\n      <td>0.707875</td>\n      <td>2113.420673</td>\n      <td>15.509385</td>\n      <td>29.000000</td>\n      <td>12.826008</td>\n      <td>OK</td>\n    </tr>\n    <tr>\n      <th>14168</th>\n      <td>2019-02-28 23:00:00</td>\n      <td>cluster1.turb9</td>\n      <td>0.370103</td>\n      <td>756.285030</td>\n      <td>15.573014</td>\n      <td>31.000000</td>\n      <td>7.560330</td>\n      <td>OK</td>\n    </tr>\n    <tr>\n      <th>14169</th>\n      <td>2019-03-01 00:00:00</td>\n      <td>cluster1.turb9</td>\n      <td>0.562883</td>\n      <td>1305.146266</td>\n      <td>15.453275</td>\n      <td>33.000000</td>\n      <td>9.574026</td>\n      <td>OK</td>\n    </tr>\n  </tbody>\n</table>\n<p>8733 rows × 8 columns</p>\n</div>"
     },
     "metadata": {}
    }
   ]
  },
  {
   "cell_type": "code",
   "metadata": {
    "cell_id": "00040-a1996fb6-5928-453b-8658-768b9302d263",
    "deepnote_to_be_reexecuted": false,
    "source_hash": "605b8071",
    "execution_start": 1642371228011,
    "execution_millis": 637,
    "deepnote_cell_type": "code"
   },
   "source": "# Remove the rows where we have a high wind speed and low active power in order to keep only the normal operating conditions\nfilterOutLowPowerHighWindSpeedData = ~(\n    (df_Filter[\"Wind Speed\"] > 10) & (df_Filter[\"Active Power\"] < 600)\n)\ndf_Filter = df_Filter[filterOutLowPowerHighWindSpeedData]\ndf_Filter",
   "execution_count": 37,
   "outputs": [
    {
     "output_type": "execute_result",
     "execution_count": 37,
     "data": {
      "application/vnd.deepnote.dataframe.v3+json": {
       "column_count": 8,
       "row_count": 8733,
       "columns": [
        {
         "name": "Timestamp",
         "dtype": "datetime64[ns]",
         "stats": {
          "unique_count": 1241,
          "nan_count": 0,
          "min": "2019-01-01 00:00:00",
          "max": "2019-03-01 00:00:00",
          "histogram": [
           {
            "bin_start": 1546300800000000000,
            "bin_end": 1546810560000000000,
            "count": 937
           },
           {
            "bin_start": 1546810560000000000,
            "bin_end": 1547320320000000000,
            "count": 914
           },
           {
            "bin_start": 1547320320000000000,
            "bin_end": 1547830080000000000,
            "count": 821
           },
           {
            "bin_start": 1547830080000000000,
            "bin_end": 1548339840000000000,
            "count": 711
           },
           {
            "bin_start": 1548339840000000000,
            "bin_end": 1548849600000000000,
            "count": 806
           },
           {
            "bin_start": 1548849600000000000,
            "bin_end": 1549359360000000000,
            "count": 1037
           },
           {
            "bin_start": 1549359360000000000,
            "bin_end": 1549869120000000000,
            "count": 941
           },
           {
            "bin_start": 1549869120000000000,
            "bin_end": 1550378880000000000,
            "count": 726
           },
           {
            "bin_start": 1550378880000000000,
            "bin_end": 1550888640000000000,
            "count": 914
           },
           {
            "bin_start": 1550888640000000000,
            "bin_end": 1551398400000000000,
            "count": 926
           }
          ]
         }
        },
        {
         "name": "Asset_Id",
         "dtype": "object",
         "stats": {
          "unique_count": 10,
          "nan_count": 0,
          "categories": [
           {
            "name": "cluster1.turb10",
            "count": 1054
           },
           {
            "name": "cluster1.turb1",
            "count": 948
           },
           {
            "name": "8 others",
            "count": 6731
           }
          ]
         }
        },
        {
         "name": "Nacelle Position",
         "dtype": "float64",
         "stats": {
          "unique_count": 8733,
          "nan_count": 0,
          "min": "-0.615120587804053",
          "max": "20.776566773208614",
          "histogram": [
           {
            "bin_start": -0.615120587804053,
            "bin_end": 1.5240481482972137,
            "count": 7445
           },
           {
            "bin_start": 1.5240481482972137,
            "bin_end": 3.6632168843984805,
            "count": 598
           },
           {
            "bin_start": 3.6632168843984805,
            "bin_end": 5.802385620499748,
            "count": 171
           },
           {
            "bin_start": 5.802385620499748,
            "bin_end": 7.9415543566010145,
            "count": 146
           },
           {
            "bin_start": 7.9415543566010145,
            "bin_end": 10.08072309270228,
            "count": 154
           },
           {
            "bin_start": 10.08072309270228,
            "bin_end": 12.219891828803547,
            "count": 120
           },
           {
            "bin_start": 12.219891828803547,
            "bin_end": 14.359060564904814,
            "count": 49
           },
           {
            "bin_start": 14.359060564904814,
            "bin_end": 16.49822930100608,
            "count": 18
           },
           {
            "bin_start": 16.49822930100608,
            "bin_end": 18.63739803710735,
            "count": 7
           },
           {
            "bin_start": 18.63739803710735,
            "bin_end": 20.776566773208614,
            "count": 25
           }
          ]
         }
        },
        {
         "name": "Active Power",
         "dtype": "float64",
         "stats": {
          "unique_count": 8721,
          "nan_count": 0,
          "min": "0.0",
          "max": "2234.216886237441",
          "histogram": [
           {
            "bin_start": 0,
            "bin_end": 223.4216886237441,
            "count": 1376
           },
           {
            "bin_start": 223.4216886237441,
            "bin_end": 446.8433772474882,
            "count": 1540
           },
           {
            "bin_start": 446.8433772474882,
            "bin_end": 670.2650658712323,
            "count": 1227
           },
           {
            "bin_start": 670.2650658712323,
            "bin_end": 893.6867544949764,
            "count": 996
           },
           {
            "bin_start": 893.6867544949764,
            "bin_end": 1117.1084431187205,
            "count": 806
           },
           {
            "bin_start": 1117.1084431187205,
            "bin_end": 1340.5301317424646,
            "count": 639
           },
           {
            "bin_start": 1340.5301317424646,
            "bin_end": 1563.9518203662087,
            "count": 551
           },
           {
            "bin_start": 1563.9518203662087,
            "bin_end": 1787.3735089899528,
            "count": 454
           },
           {
            "bin_start": 1787.3735089899528,
            "bin_end": 2010.795197613697,
            "count": 341
           },
           {
            "bin_start": 2010.795197613697,
            "bin_end": 2234.216886237441,
            "count": 803
           }
          ]
         }
        },
        {
         "name": "Rotor Speed",
         "dtype": "float64",
         "stats": {
          "unique_count": 8059,
          "nan_count": 0,
          "min": "0.0092589916599165",
          "max": "16.37800063196971",
          "histogram": [
           {
            "bin_start": 0.0092589916599165,
            "bin_end": 1.6461331556908956,
            "count": 38
           },
           {
            "bin_start": 1.6461331556908956,
            "bin_end": 3.2830073197218748,
            "count": 8
           },
           {
            "bin_start": 3.2830073197218748,
            "bin_end": 4.919881483752854,
            "count": 7
           },
           {
            "bin_start": 4.919881483752854,
            "bin_end": 6.556755647783834,
            "count": 3
           },
           {
            "bin_start": 6.556755647783834,
            "bin_end": 8.193629811814812,
            "count": 1
           },
           {
            "bin_start": 8.193629811814812,
            "bin_end": 9.83050397584579,
            "count": 3
           },
           {
            "bin_start": 9.83050397584579,
            "bin_end": 11.46737813987677,
            "count": 4
           },
           {
            "bin_start": 11.46737813987677,
            "bin_end": 13.10425230390775,
            "count": 456
           },
           {
            "bin_start": 13.10425230390775,
            "bin_end": 14.741126467938729,
            "count": 297
           },
           {
            "bin_start": 14.741126467938729,
            "bin_end": 16.37800063196971,
            "count": 7916
           }
          ]
         }
        },
        {
         "name": "Air Temperature",
         "dtype": "float64",
         "stats": {
          "unique_count": 3422,
          "nan_count": 0,
          "min": "3.814731232231473",
          "max": "45.0",
          "histogram": [
           {
            "bin_start": 3.814731232231473,
            "bin_end": 7.933258109008326,
            "count": 10
           },
           {
            "bin_start": 7.933258109008326,
            "bin_end": 12.05178498578518,
            "count": 226
           },
           {
            "bin_start": 12.05178498578518,
            "bin_end": 16.17031186256203,
            "count": 1288
           },
           {
            "bin_start": 16.17031186256203,
            "bin_end": 20.288838739338885,
            "count": 1256
           },
           {
            "bin_start": 20.288838739338885,
            "bin_end": 24.40736561611574,
            "count": 1622
           },
           {
            "bin_start": 24.40736561611574,
            "bin_end": 28.52589249289259,
            "count": 1580
           },
           {
            "bin_start": 28.52589249289259,
            "bin_end": 32.64441936966944,
            "count": 1456
           },
           {
            "bin_start": 32.64441936966944,
            "bin_end": 36.7629462464463,
            "count": 892
           },
           {
            "bin_start": 36.7629462464463,
            "bin_end": 40.88147312322315,
            "count": 371
           },
           {
            "bin_start": 40.88147312322315,
            "bin_end": 45,
            "count": 32
           }
          ]
         }
        },
        {
         "name": "Wind Speed",
         "dtype": "float64",
         "stats": {
          "unique_count": 8733,
          "nan_count": 0,
          "min": "0.6382522263451909",
          "max": "19.32932689397197",
          "histogram": [
           {
            "bin_start": 0.6382522263451909,
            "bin_end": 2.507359693107869,
            "count": 36
           },
           {
            "bin_start": 2.507359693107869,
            "bin_end": 4.376467159870547,
            "count": 548
           },
           {
            "bin_start": 4.376467159870547,
            "bin_end": 6.245574626633225,
            "count": 2055
           },
           {
            "bin_start": 6.245574626633225,
            "bin_end": 8.114682093395903,
            "count": 2352
           },
           {
            "bin_start": 8.114682093395903,
            "bin_end": 9.98378956015858,
            "count": 1791
           },
           {
            "bin_start": 9.98378956015858,
            "bin_end": 11.852897026921259,
            "count": 1060
           },
           {
            "bin_start": 11.852897026921259,
            "bin_end": 13.722004493683936,
            "count": 555
           },
           {
            "bin_start": 13.722004493683936,
            "bin_end": 15.591111960446614,
            "count": 258
           },
           {
            "bin_start": 15.591111960446614,
            "bin_end": 17.460219427209292,
            "count": 62
           },
           {
            "bin_start": 17.460219427209292,
            "bin_end": 19.32932689397197,
            "count": 16
           }
          ]
         }
        },
        {
         "name": "Turbine State",
         "dtype": "object",
         "stats": {
          "unique_count": 1,
          "nan_count": 0,
          "categories": [
           {
            "name": "OK",
            "count": 8733
           }
          ]
         }
        },
        {
         "name": "_deepnote_index_column",
         "dtype": "int64"
        }
       ],
       "rows": [
        {
         "Timestamp": "2019-01-01T07:00:00.000000",
         "Asset_Id": "cluster1.turb1",
         "Nacelle Position": 0.2555725785187477,
         "Active Power": 825.3128222622021,
         "Rotor Speed": 15.007162090398332,
         "Air Temperature": 33,
         "Wind Speed": 8.777148589175926,
         "Turbine State": "OK",
         "_deepnote_index_column": 7
        },
        {
         "Timestamp": "2019-01-01T08:00:00.000000",
         "Asset_Id": "cluster1.turb1",
         "Nacelle Position": 0.8391112879433267,
         "Active Power": 387.9410050022044,
         "Rotor Speed": 15.27744585278474,
         "Air Temperature": 32.74837914631991,
         "Wind Speed": 6.587068466303728,
         "Turbine State": "OK",
         "_deepnote_index_column": 8
        },
        {
         "Timestamp": "2019-01-01T09:00:00.000000",
         "Asset_Id": "cluster1.turb1",
         "Nacelle Position": 0.74993904337311,
         "Active Power": 1943.823959175392,
         "Rotor Speed": 15.376954411764842,
         "Air Temperature": 30,
         "Wind Speed": 11.88491917688531,
         "Turbine State": "OK",
         "_deepnote_index_column": 9
        },
        {
         "Timestamp": "2019-01-01T10:00:00.000000",
         "Asset_Id": "cluster1.turb1",
         "Nacelle Position": 6.905895541770006,
         "Active Power": 2089.754023248473,
         "Rotor Speed": 15.476462970744944,
         "Air Temperature": 26,
         "Wind Speed": 13.074597714702852,
         "Turbine State": "OK",
         "_deepnote_index_column": 10
        },
        {
         "Timestamp": "2019-01-01T11:00:00.000000",
         "Asset_Id": "cluster1.turb1",
         "Nacelle Position": 0.5946575762159255,
         "Active Power": 1701.156339024796,
         "Rotor Speed": 15.575971529725049,
         "Air Temperature": 24,
         "Wind Speed": 10.97194704857052,
         "Turbine State": "OK",
         "_deepnote_index_column": 11
        },
        {
         "Timestamp": "2019-01-01T12:00:00.000000",
         "Asset_Id": "cluster1.turb1",
         "Nacelle Position": 0.0732142521330539,
         "Active Power": 553.4916491795238,
         "Rotor Speed": 15.220906669582336,
         "Air Temperature": 21.200665761050736,
         "Wind Speed": 5.952715392232298,
         "Turbine State": "OK",
         "_deepnote_index_column": 12
        },
        {
         "Timestamp": "2019-01-01T13:00:00.000000",
         "Asset_Id": "cluster1.turb1",
         "Nacelle Position": 0.3535515989377221,
         "Active Power": 1960.669243549856,
         "Rotor Speed": 15.42589616517208,
         "Air Temperature": 21.25540916005473,
         "Wind Speed": 11.131640757249263,
         "Turbine State": "OK",
         "_deepnote_index_column": 13
        },
        {
         "Timestamp": "2019-01-01T15:00:00.000000",
         "Asset_Id": "cluster1.turb1",
         "Nacelle Position": 0.5315815387185218,
         "Active Power": 643.3995694216076,
         "Rotor Speed": 15.17843734879846,
         "Air Temperature": 20,
         "Wind Speed": 7.881118777577898,
         "Turbine State": "OK",
         "_deepnote_index_column": 15
        },
        {
         "Timestamp": "2019-01-01T16:00:00.000000",
         "Asset_Id": "cluster1.turb1",
         "Nacelle Position": 0.968543899293201,
         "Active Power": 152.75044130086042,
         "Rotor Speed": 15.123991097838331,
         "Air Temperature": 20,
         "Wind Speed": 4.690802143517897,
         "Turbine State": "OK",
         "_deepnote_index_column": 16
        },
        {
         "Timestamp": "2019-01-01T17:00:00.000000",
         "Asset_Id": "cluster1.turb1",
         "Nacelle Position": 1.049957235215179,
         "Active Power": 79.14911781657403,
         "Rotor Speed": 15.069544846878204,
         "Air Temperature": 19.75278376948916,
         "Wind Speed": 4.016511958722472,
         "Turbine State": "OK",
         "_deepnote_index_column": 17
        }
       ]
      },
      "text/plain": "                Timestamp        Asset_Id  Nacelle Position  Active Power  \\\n7     2019-01-01 07:00:00  cluster1.turb1          0.255573    825.312822   \n8     2019-01-01 08:00:00  cluster1.turb1          0.839111    387.941005   \n9     2019-01-01 09:00:00  cluster1.turb1          0.749939   1943.823959   \n10    2019-01-01 10:00:00  cluster1.turb1          6.905896   2089.754023   \n11    2019-01-01 11:00:00  cluster1.turb1          0.594658   1701.156339   \n...                   ...             ...               ...           ...   \n14165 2019-02-28 20:00:00  cluster1.turb9          0.704913    450.181656   \n14166 2019-02-28 21:00:00  cluster1.turb9          0.221421    706.859494   \n14167 2019-02-28 22:00:00  cluster1.turb9          0.707875   2113.420673   \n14168 2019-02-28 23:00:00  cluster1.turb9          0.370103    756.285030   \n14169 2019-03-01 00:00:00  cluster1.turb9          0.562883   1305.146266   \n\n       Rotor Speed  Air Temperature  Wind Speed Turbine State  \n7        15.007162        33.000000    8.777149            OK  \n8        15.277446        32.748379    6.587068            OK  \n9        15.376954        30.000000   11.884919            OK  \n10       15.476463        26.000000   13.074598            OK  \n11       15.575972        24.000000   10.971947            OK  \n...            ...              ...         ...           ...  \n14165    15.382127        28.000000    5.895554            OK  \n14166    15.445756        28.000000    5.793121            OK  \n14167    15.509385        29.000000   12.826008            OK  \n14168    15.573014        31.000000    7.560330            OK  \n14169    15.453275        33.000000    9.574026            OK  \n\n[8733 rows x 8 columns]",
      "text/html": "<div>\n<style scoped>\n    .dataframe tbody tr th:only-of-type {\n        vertical-align: middle;\n    }\n\n    .dataframe tbody tr th {\n        vertical-align: top;\n    }\n\n    .dataframe thead th {\n        text-align: right;\n    }\n</style>\n<table border=\"1\" class=\"dataframe\">\n  <thead>\n    <tr style=\"text-align: right;\">\n      <th></th>\n      <th>Timestamp</th>\n      <th>Asset_Id</th>\n      <th>Nacelle Position</th>\n      <th>Active Power</th>\n      <th>Rotor Speed</th>\n      <th>Air Temperature</th>\n      <th>Wind Speed</th>\n      <th>Turbine State</th>\n    </tr>\n  </thead>\n  <tbody>\n    <tr>\n      <th>7</th>\n      <td>2019-01-01 07:00:00</td>\n      <td>cluster1.turb1</td>\n      <td>0.255573</td>\n      <td>825.312822</td>\n      <td>15.007162</td>\n      <td>33.000000</td>\n      <td>8.777149</td>\n      <td>OK</td>\n    </tr>\n    <tr>\n      <th>8</th>\n      <td>2019-01-01 08:00:00</td>\n      <td>cluster1.turb1</td>\n      <td>0.839111</td>\n      <td>387.941005</td>\n      <td>15.277446</td>\n      <td>32.748379</td>\n      <td>6.587068</td>\n      <td>OK</td>\n    </tr>\n    <tr>\n      <th>9</th>\n      <td>2019-01-01 09:00:00</td>\n      <td>cluster1.turb1</td>\n      <td>0.749939</td>\n      <td>1943.823959</td>\n      <td>15.376954</td>\n      <td>30.000000</td>\n      <td>11.884919</td>\n      <td>OK</td>\n    </tr>\n    <tr>\n      <th>10</th>\n      <td>2019-01-01 10:00:00</td>\n      <td>cluster1.turb1</td>\n      <td>6.905896</td>\n      <td>2089.754023</td>\n      <td>15.476463</td>\n      <td>26.000000</td>\n      <td>13.074598</td>\n      <td>OK</td>\n    </tr>\n    <tr>\n      <th>11</th>\n      <td>2019-01-01 11:00:00</td>\n      <td>cluster1.turb1</td>\n      <td>0.594658</td>\n      <td>1701.156339</td>\n      <td>15.575972</td>\n      <td>24.000000</td>\n      <td>10.971947</td>\n      <td>OK</td>\n    </tr>\n    <tr>\n      <th>...</th>\n      <td>...</td>\n      <td>...</td>\n      <td>...</td>\n      <td>...</td>\n      <td>...</td>\n      <td>...</td>\n      <td>...</td>\n      <td>...</td>\n    </tr>\n    <tr>\n      <th>14165</th>\n      <td>2019-02-28 20:00:00</td>\n      <td>cluster1.turb9</td>\n      <td>0.704913</td>\n      <td>450.181656</td>\n      <td>15.382127</td>\n      <td>28.000000</td>\n      <td>5.895554</td>\n      <td>OK</td>\n    </tr>\n    <tr>\n      <th>14166</th>\n      <td>2019-02-28 21:00:00</td>\n      <td>cluster1.turb9</td>\n      <td>0.221421</td>\n      <td>706.859494</td>\n      <td>15.445756</td>\n      <td>28.000000</td>\n      <td>5.793121</td>\n      <td>OK</td>\n    </tr>\n    <tr>\n      <th>14167</th>\n      <td>2019-02-28 22:00:00</td>\n      <td>cluster1.turb9</td>\n      <td>0.707875</td>\n      <td>2113.420673</td>\n      <td>15.509385</td>\n      <td>29.000000</td>\n      <td>12.826008</td>\n      <td>OK</td>\n    </tr>\n    <tr>\n      <th>14168</th>\n      <td>2019-02-28 23:00:00</td>\n      <td>cluster1.turb9</td>\n      <td>0.370103</td>\n      <td>756.285030</td>\n      <td>15.573014</td>\n      <td>31.000000</td>\n      <td>7.560330</td>\n      <td>OK</td>\n    </tr>\n    <tr>\n      <th>14169</th>\n      <td>2019-03-01 00:00:00</td>\n      <td>cluster1.turb9</td>\n      <td>0.562883</td>\n      <td>1305.146266</td>\n      <td>15.453275</td>\n      <td>33.000000</td>\n      <td>9.574026</td>\n      <td>OK</td>\n    </tr>\n  </tbody>\n</table>\n<p>8733 rows × 8 columns</p>\n</div>"
     },
     "metadata": {}
    }
   ]
  },
  {
   "cell_type": "code",
   "metadata": {
    "cell_id": "00044-7f277038-a680-424d-9648-98e085888cd2",
    "deepnote_to_be_reexecuted": false,
    "source_hash": "a6482ff1",
    "execution_start": 1642371229066,
    "execution_millis": 282,
    "deepnote_cell_type": "code"
   },
   "source": "# Filter out high Wind Speeds (> 13 m/s) that do not change the Active Power results\nfilterOutHighWind = df_Filter[\"Wind Speed\"] < 13\ndf_Filter = df_Filter[filterOutHighWind]\ndf_Filter",
   "execution_count": 38,
   "outputs": [
    {
     "output_type": "execute_result",
     "execution_count": 38,
     "data": {
      "application/vnd.deepnote.dataframe.v3+json": {
       "column_count": 8,
       "row_count": 8214,
       "columns": [
        {
         "name": "Timestamp",
         "dtype": "datetime64[ns]",
         "stats": {
          "unique_count": 1234,
          "nan_count": 0,
          "min": "2019-01-01 00:00:00",
          "max": "2019-03-01 00:00:00",
          "histogram": [
           {
            "bin_start": 1546300800000000000,
            "bin_end": 1546810560000000000,
            "count": 865
           },
           {
            "bin_start": 1546810560000000000,
            "bin_end": 1547320320000000000,
            "count": 852
           },
           {
            "bin_start": 1547320320000000000,
            "bin_end": 1547830080000000000,
            "count": 783
           },
           {
            "bin_start": 1547830080000000000,
            "bin_end": 1548339840000000000,
            "count": 686
           },
           {
            "bin_start": 1548339840000000000,
            "bin_end": 1548849600000000000,
            "count": 765
           },
           {
            "bin_start": 1548849600000000000,
            "bin_end": 1549359360000000000,
            "count": 953
           },
           {
            "bin_start": 1549359360000000000,
            "bin_end": 1549869120000000000,
            "count": 909
           },
           {
            "bin_start": 1549869120000000000,
            "bin_end": 1550378880000000000,
            "count": 634
           },
           {
            "bin_start": 1550378880000000000,
            "bin_end": 1550888640000000000,
            "count": 888
           },
           {
            "bin_start": 1550888640000000000,
            "bin_end": 1551398400000000000,
            "count": 879
           }
          ]
         }
        },
        {
         "name": "Asset_Id",
         "dtype": "object",
         "stats": {
          "unique_count": 10,
          "nan_count": 0,
          "categories": [
           {
            "name": "cluster1.turb10",
            "count": 1007
           },
           {
            "name": "cluster1.turb1",
            "count": 887
           },
           {
            "name": "8 others",
            "count": 6320
           }
          ]
         }
        },
        {
         "name": "Nacelle Position",
         "dtype": "float64",
         "stats": {
          "unique_count": 8214,
          "nan_count": 0,
          "min": "-0.615120587804053",
          "max": "20.776566773208614",
          "histogram": [
           {
            "bin_start": -0.615120587804053,
            "bin_end": 1.5240481482972137,
            "count": 7435
           },
           {
            "bin_start": 1.5240481482972137,
            "bin_end": 3.6632168843984805,
            "count": 575
           },
           {
            "bin_start": 3.6632168843984805,
            "bin_end": 5.802385620499748,
            "count": 102
           },
           {
            "bin_start": 5.802385620499748,
            "bin_end": 7.9415543566010145,
            "count": 54
           },
           {
            "bin_start": 7.9415543566010145,
            "bin_end": 10.08072309270228,
            "count": 19
           },
           {
            "bin_start": 10.08072309270228,
            "bin_end": 12.219891828803547,
            "count": 7
           },
           {
            "bin_start": 12.219891828803547,
            "bin_end": 14.359060564904814,
            "count": 0
           },
           {
            "bin_start": 14.359060564904814,
            "bin_end": 16.49822930100608,
            "count": 0
           },
           {
            "bin_start": 16.49822930100608,
            "bin_end": 18.63739803710735,
            "count": 0
           },
           {
            "bin_start": 18.63739803710735,
            "bin_end": 20.776566773208614,
            "count": 22
           }
          ]
         }
        },
        {
         "name": "Active Power",
         "dtype": "float64",
         "stats": {
          "unique_count": 8202,
          "nan_count": 0,
          "min": "0.0",
          "max": "2234.216886237441",
          "histogram": [
           {
            "bin_start": 0,
            "bin_end": 223.4216886237441,
            "count": 1376
           },
           {
            "bin_start": 223.4216886237441,
            "bin_end": 446.8433772474882,
            "count": 1540
           },
           {
            "bin_start": 446.8433772474882,
            "bin_end": 670.2650658712323,
            "count": 1227
           },
           {
            "bin_start": 670.2650658712323,
            "bin_end": 893.6867544949764,
            "count": 996
           },
           {
            "bin_start": 893.6867544949764,
            "bin_end": 1117.1084431187205,
            "count": 806
           },
           {
            "bin_start": 1117.1084431187205,
            "bin_end": 1340.5301317424646,
            "count": 629
           },
           {
            "bin_start": 1340.5301317424646,
            "bin_end": 1563.9518203662087,
            "count": 537
           },
           {
            "bin_start": 1563.9518203662087,
            "bin_end": 1787.3735089899528,
            "count": 418
           },
           {
            "bin_start": 1787.3735089899528,
            "bin_end": 2010.795197613697,
            "count": 305
           },
           {
            "bin_start": 2010.795197613697,
            "bin_end": 2234.216886237441,
            "count": 380
           }
          ]
         }
        },
        {
         "name": "Rotor Speed",
         "dtype": "float64",
         "stats": {
          "unique_count": 7603,
          "nan_count": 0,
          "min": "0.0092589916599165",
          "max": "16.37800063196971",
          "histogram": [
           {
            "bin_start": 0.0092589916599165,
            "bin_end": 1.6461331556908956,
            "count": 38
           },
           {
            "bin_start": 1.6461331556908956,
            "bin_end": 3.2830073197218748,
            "count": 8
           },
           {
            "bin_start": 3.2830073197218748,
            "bin_end": 4.919881483752854,
            "count": 7
           },
           {
            "bin_start": 4.919881483752854,
            "bin_end": 6.556755647783834,
            "count": 3
           },
           {
            "bin_start": 6.556755647783834,
            "bin_end": 8.193629811814812,
            "count": 1
           },
           {
            "bin_start": 8.193629811814812,
            "bin_end": 9.83050397584579,
            "count": 3
           },
           {
            "bin_start": 9.83050397584579,
            "bin_end": 11.46737813987677,
            "count": 4
           },
           {
            "bin_start": 11.46737813987677,
            "bin_end": 13.10425230390775,
            "count": 456
           },
           {
            "bin_start": 13.10425230390775,
            "bin_end": 14.741126467938729,
            "count": 297
           },
           {
            "bin_start": 14.741126467938729,
            "bin_end": 16.37800063196971,
            "count": 7397
           }
          ]
         }
        },
        {
         "name": "Air Temperature",
         "dtype": "float64",
         "stats": {
          "unique_count": 3230,
          "nan_count": 0,
          "min": "3.814731232231473",
          "max": "45.0",
          "histogram": [
           {
            "bin_start": 3.814731232231473,
            "bin_end": 7.933258109008326,
            "count": 10
           },
           {
            "bin_start": 7.933258109008326,
            "bin_end": 12.05178498578518,
            "count": 222
           },
           {
            "bin_start": 12.05178498578518,
            "bin_end": 16.17031186256203,
            "count": 1153
           },
           {
            "bin_start": 16.17031186256203,
            "bin_end": 20.288838739338885,
            "count": 1153
           },
           {
            "bin_start": 20.288838739338885,
            "bin_end": 24.40736561611574,
            "count": 1570
           },
           {
            "bin_start": 24.40736561611574,
            "bin_end": 28.52589249289259,
            "count": 1486
           },
           {
            "bin_start": 28.52589249289259,
            "bin_end": 32.64441936966944,
            "count": 1400
           },
           {
            "bin_start": 32.64441936966944,
            "bin_end": 36.7629462464463,
            "count": 827
           },
           {
            "bin_start": 36.7629462464463,
            "bin_end": 40.88147312322315,
            "count": 361
           },
           {
            "bin_start": 40.88147312322315,
            "bin_end": 45,
            "count": 32
           }
          ]
         }
        },
        {
         "name": "Wind Speed",
         "dtype": "float64",
         "stats": {
          "unique_count": 8214,
          "nan_count": 0,
          "min": "0.6382522263451909",
          "max": "12.99417240181085",
          "histogram": [
           {
            "bin_start": 0.6382522263451909,
            "bin_end": 1.8738442438917569,
            "count": 24
           },
           {
            "bin_start": 1.8738442438917569,
            "bin_end": 3.109436261438323,
            "count": 33
           },
           {
            "bin_start": 3.109436261438323,
            "bin_end": 4.345028278984889,
            "count": 501
           },
           {
            "bin_start": 4.345028278984889,
            "bin_end": 5.580620296531455,
            "count": 1253
           },
           {
            "bin_start": 5.580620296531455,
            "bin_end": 6.816212314078021,
            "count": 1566
           },
           {
            "bin_start": 6.816212314078021,
            "bin_end": 8.051804331624586,
            "count": 1525
           },
           {
            "bin_start": 8.051804331624586,
            "bin_end": 9.287396349171154,
            "count": 1318
           },
           {
            "bin_start": 9.287396349171154,
            "bin_end": 10.522988366717719,
            "count": 916
           },
           {
            "bin_start": 10.522988366717719,
            "bin_end": 11.758580384264285,
            "count": 670
           },
           {
            "bin_start": 11.758580384264285,
            "bin_end": 12.99417240181085,
            "count": 408
           }
          ]
         }
        },
        {
         "name": "Turbine State",
         "dtype": "object",
         "stats": {
          "unique_count": 1,
          "nan_count": 0,
          "categories": [
           {
            "name": "OK",
            "count": 8214
           }
          ]
         }
        },
        {
         "name": "_deepnote_index_column",
         "dtype": "int64"
        }
       ],
       "rows": [
        {
         "Timestamp": "2019-01-01T07:00:00.000000",
         "Asset_Id": "cluster1.turb1",
         "Nacelle Position": 0.2555725785187477,
         "Active Power": 825.3128222622021,
         "Rotor Speed": 15.007162090398332,
         "Air Temperature": 33,
         "Wind Speed": 8.777148589175926,
         "Turbine State": "OK",
         "_deepnote_index_column": 7
        },
        {
         "Timestamp": "2019-01-01T08:00:00.000000",
         "Asset_Id": "cluster1.turb1",
         "Nacelle Position": 0.8391112879433267,
         "Active Power": 387.9410050022044,
         "Rotor Speed": 15.27744585278474,
         "Air Temperature": 32.74837914631991,
         "Wind Speed": 6.587068466303728,
         "Turbine State": "OK",
         "_deepnote_index_column": 8
        },
        {
         "Timestamp": "2019-01-01T09:00:00.000000",
         "Asset_Id": "cluster1.turb1",
         "Nacelle Position": 0.74993904337311,
         "Active Power": 1943.823959175392,
         "Rotor Speed": 15.376954411764842,
         "Air Temperature": 30,
         "Wind Speed": 11.88491917688531,
         "Turbine State": "OK",
         "_deepnote_index_column": 9
        },
        {
         "Timestamp": "2019-01-01T11:00:00.000000",
         "Asset_Id": "cluster1.turb1",
         "Nacelle Position": 0.5946575762159255,
         "Active Power": 1701.156339024796,
         "Rotor Speed": 15.575971529725049,
         "Air Temperature": 24,
         "Wind Speed": 10.97194704857052,
         "Turbine State": "OK",
         "_deepnote_index_column": 11
        },
        {
         "Timestamp": "2019-01-01T12:00:00.000000",
         "Asset_Id": "cluster1.turb1",
         "Nacelle Position": 0.0732142521330539,
         "Active Power": 553.4916491795238,
         "Rotor Speed": 15.220906669582336,
         "Air Temperature": 21.200665761050736,
         "Wind Speed": 5.952715392232298,
         "Turbine State": "OK",
         "_deepnote_index_column": 12
        },
        {
         "Timestamp": "2019-01-01T13:00:00.000000",
         "Asset_Id": "cluster1.turb1",
         "Nacelle Position": 0.3535515989377221,
         "Active Power": 1960.669243549856,
         "Rotor Speed": 15.42589616517208,
         "Air Temperature": 21.25540916005473,
         "Wind Speed": 11.131640757249263,
         "Turbine State": "OK",
         "_deepnote_index_column": 13
        },
        {
         "Timestamp": "2019-01-01T15:00:00.000000",
         "Asset_Id": "cluster1.turb1",
         "Nacelle Position": 0.5315815387185218,
         "Active Power": 643.3995694216076,
         "Rotor Speed": 15.17843734879846,
         "Air Temperature": 20,
         "Wind Speed": 7.881118777577898,
         "Turbine State": "OK",
         "_deepnote_index_column": 15
        },
        {
         "Timestamp": "2019-01-01T16:00:00.000000",
         "Asset_Id": "cluster1.turb1",
         "Nacelle Position": 0.968543899293201,
         "Active Power": 152.75044130086042,
         "Rotor Speed": 15.123991097838331,
         "Air Temperature": 20,
         "Wind Speed": 4.690802143517897,
         "Turbine State": "OK",
         "_deepnote_index_column": 16
        },
        {
         "Timestamp": "2019-01-01T17:00:00.000000",
         "Asset_Id": "cluster1.turb1",
         "Nacelle Position": 1.049957235215179,
         "Active Power": 79.14911781657403,
         "Rotor Speed": 15.069544846878204,
         "Air Temperature": 19.75278376948916,
         "Wind Speed": 4.016511958722472,
         "Turbine State": "OK",
         "_deepnote_index_column": 17
        },
        {
         "Timestamp": "2019-01-01T18:00:00.000000",
         "Asset_Id": "cluster1.turb1",
         "Nacelle Position": 0.3874950006639499,
         "Active Power": 594.034039614289,
         "Rotor Speed": 15.015098595918076,
         "Air Temperature": 19,
         "Wind Speed": 6.998535974596701,
         "Turbine State": "OK",
         "_deepnote_index_column": 18
        }
       ]
      },
      "text/plain": "                Timestamp        Asset_Id  Nacelle Position  Active Power  \\\n7     2019-01-01 07:00:00  cluster1.turb1          0.255573    825.312822   \n8     2019-01-01 08:00:00  cluster1.turb1          0.839111    387.941005   \n9     2019-01-01 09:00:00  cluster1.turb1          0.749939   1943.823959   \n11    2019-01-01 11:00:00  cluster1.turb1          0.594658   1701.156339   \n12    2019-01-01 12:00:00  cluster1.turb1          0.073214    553.491649   \n...                   ...             ...               ...           ...   \n14165 2019-02-28 20:00:00  cluster1.turb9          0.704913    450.181656   \n14166 2019-02-28 21:00:00  cluster1.turb9          0.221421    706.859494   \n14167 2019-02-28 22:00:00  cluster1.turb9          0.707875   2113.420673   \n14168 2019-02-28 23:00:00  cluster1.turb9          0.370103    756.285030   \n14169 2019-03-01 00:00:00  cluster1.turb9          0.562883   1305.146266   \n\n       Rotor Speed  Air Temperature  Wind Speed Turbine State  \n7        15.007162        33.000000    8.777149            OK  \n8        15.277446        32.748379    6.587068            OK  \n9        15.376954        30.000000   11.884919            OK  \n11       15.575972        24.000000   10.971947            OK  \n12       15.220907        21.200666    5.952715            OK  \n...            ...              ...         ...           ...  \n14165    15.382127        28.000000    5.895554            OK  \n14166    15.445756        28.000000    5.793121            OK  \n14167    15.509385        29.000000   12.826008            OK  \n14168    15.573014        31.000000    7.560330            OK  \n14169    15.453275        33.000000    9.574026            OK  \n\n[8214 rows x 8 columns]",
      "text/html": "<div>\n<style scoped>\n    .dataframe tbody tr th:only-of-type {\n        vertical-align: middle;\n    }\n\n    .dataframe tbody tr th {\n        vertical-align: top;\n    }\n\n    .dataframe thead th {\n        text-align: right;\n    }\n</style>\n<table border=\"1\" class=\"dataframe\">\n  <thead>\n    <tr style=\"text-align: right;\">\n      <th></th>\n      <th>Timestamp</th>\n      <th>Asset_Id</th>\n      <th>Nacelle Position</th>\n      <th>Active Power</th>\n      <th>Rotor Speed</th>\n      <th>Air Temperature</th>\n      <th>Wind Speed</th>\n      <th>Turbine State</th>\n    </tr>\n  </thead>\n  <tbody>\n    <tr>\n      <th>7</th>\n      <td>2019-01-01 07:00:00</td>\n      <td>cluster1.turb1</td>\n      <td>0.255573</td>\n      <td>825.312822</td>\n      <td>15.007162</td>\n      <td>33.000000</td>\n      <td>8.777149</td>\n      <td>OK</td>\n    </tr>\n    <tr>\n      <th>8</th>\n      <td>2019-01-01 08:00:00</td>\n      <td>cluster1.turb1</td>\n      <td>0.839111</td>\n      <td>387.941005</td>\n      <td>15.277446</td>\n      <td>32.748379</td>\n      <td>6.587068</td>\n      <td>OK</td>\n    </tr>\n    <tr>\n      <th>9</th>\n      <td>2019-01-01 09:00:00</td>\n      <td>cluster1.turb1</td>\n      <td>0.749939</td>\n      <td>1943.823959</td>\n      <td>15.376954</td>\n      <td>30.000000</td>\n      <td>11.884919</td>\n      <td>OK</td>\n    </tr>\n    <tr>\n      <th>11</th>\n      <td>2019-01-01 11:00:00</td>\n      <td>cluster1.turb1</td>\n      <td>0.594658</td>\n      <td>1701.156339</td>\n      <td>15.575972</td>\n      <td>24.000000</td>\n      <td>10.971947</td>\n      <td>OK</td>\n    </tr>\n    <tr>\n      <th>12</th>\n      <td>2019-01-01 12:00:00</td>\n      <td>cluster1.turb1</td>\n      <td>0.073214</td>\n      <td>553.491649</td>\n      <td>15.220907</td>\n      <td>21.200666</td>\n      <td>5.952715</td>\n      <td>OK</td>\n    </tr>\n    <tr>\n      <th>...</th>\n      <td>...</td>\n      <td>...</td>\n      <td>...</td>\n      <td>...</td>\n      <td>...</td>\n      <td>...</td>\n      <td>...</td>\n      <td>...</td>\n    </tr>\n    <tr>\n      <th>14165</th>\n      <td>2019-02-28 20:00:00</td>\n      <td>cluster1.turb9</td>\n      <td>0.704913</td>\n      <td>450.181656</td>\n      <td>15.382127</td>\n      <td>28.000000</td>\n      <td>5.895554</td>\n      <td>OK</td>\n    </tr>\n    <tr>\n      <th>14166</th>\n      <td>2019-02-28 21:00:00</td>\n      <td>cluster1.turb9</td>\n      <td>0.221421</td>\n      <td>706.859494</td>\n      <td>15.445756</td>\n      <td>28.000000</td>\n      <td>5.793121</td>\n      <td>OK</td>\n    </tr>\n    <tr>\n      <th>14167</th>\n      <td>2019-02-28 22:00:00</td>\n      <td>cluster1.turb9</td>\n      <td>0.707875</td>\n      <td>2113.420673</td>\n      <td>15.509385</td>\n      <td>29.000000</td>\n      <td>12.826008</td>\n      <td>OK</td>\n    </tr>\n    <tr>\n      <th>14168</th>\n      <td>2019-02-28 23:00:00</td>\n      <td>cluster1.turb9</td>\n      <td>0.370103</td>\n      <td>756.285030</td>\n      <td>15.573014</td>\n      <td>31.000000</td>\n      <td>7.560330</td>\n      <td>OK</td>\n    </tr>\n    <tr>\n      <th>14169</th>\n      <td>2019-03-01 00:00:00</td>\n      <td>cluster1.turb9</td>\n      <td>0.562883</td>\n      <td>1305.146266</td>\n      <td>15.453275</td>\n      <td>33.000000</td>\n      <td>9.574026</td>\n      <td>OK</td>\n    </tr>\n  </tbody>\n</table>\n<p>8214 rows × 8 columns</p>\n</div>"
     },
     "metadata": {}
    }
   ]
  },
  {
   "cell_type": "code",
   "metadata": {
    "cell_id": "00045-740ac0af-91da-431c-bb22-070a5facb39d",
    "deepnote_output_heights": [
     382.1875
    ],
    "deepnote_to_be_reexecuted": false,
    "source_hash": "2bcb90da",
    "execution_start": 1642371233598,
    "execution_millis": 326,
    "deepnote_cell_type": "code"
   },
   "source": "# Also remove low active power rows, cutoff at 100kW\n#\ndf_Filter = df_Filter[df_Filter[\"Active Power\"] > 100]\ndf_Filter",
   "execution_count": 39,
   "outputs": [
    {
     "output_type": "execute_result",
     "execution_count": 39,
     "data": {
      "application/vnd.deepnote.dataframe.v3+json": {
       "column_count": 8,
       "row_count": 7728,
       "columns": [
        {
         "name": "Timestamp",
         "dtype": "datetime64[ns]",
         "stats": {
          "unique_count": 1168,
          "nan_count": 0,
          "min": "2019-01-01 03:00:00",
          "max": "2019-03-01 00:00:00",
          "histogram": [
           {
            "bin_start": 1546311600000000000,
            "bin_end": 1546820280000000000,
            "count": 832
           },
           {
            "bin_start": 1546820280000000000,
            "bin_end": 1547328960000000000,
            "count": 808
           },
           {
            "bin_start": 1547328960000000000,
            "bin_end": 1547837640000000000,
            "count": 749
           },
           {
            "bin_start": 1547837640000000000,
            "bin_end": 1548346320000000000,
            "count": 643
           },
           {
            "bin_start": 1548346320000000000,
            "bin_end": 1548855000000000000,
            "count": 726
           },
           {
            "bin_start": 1548855000000000000,
            "bin_end": 1549363680000000000,
            "count": 887
           },
           {
            "bin_start": 1549363680000000000,
            "bin_end": 1549872360000000000,
            "count": 833
           },
           {
            "bin_start": 1549872360000000000,
            "bin_end": 1550381040000000000,
            "count": 578
           },
           {
            "bin_start": 1550381040000000000,
            "bin_end": 1550889720000000000,
            "count": 836
           },
           {
            "bin_start": 1550889720000000000,
            "bin_end": 1551398400000000000,
            "count": 836
           }
          ]
         }
        },
        {
         "name": "Asset_Id",
         "dtype": "object",
         "stats": {
          "unique_count": 10,
          "nan_count": 0,
          "categories": [
           {
            "name": "cluster1.turb10",
            "count": 885
           },
           {
            "name": "cluster1.turb1",
            "count": 851
           },
           {
            "name": "8 others",
            "count": 5992
           }
          ]
         }
        },
        {
         "name": "Nacelle Position",
         "dtype": "float64",
         "stats": {
          "unique_count": 7728,
          "nan_count": 0,
          "min": "-0.615120587804053",
          "max": "11.581045579154091",
          "histogram": [
           {
            "bin_start": -0.615120587804053,
            "bin_end": 0.6044960288917615,
            "count": 5337
           },
           {
            "bin_start": 0.6044960288917615,
            "bin_end": 1.8241126455875758,
            "count": 2029
           },
           {
            "bin_start": 1.8241126455875758,
            "bin_end": 3.04372926228339,
            "count": 150
           },
           {
            "bin_start": 3.04372926228339,
            "bin_end": 4.263345878979205,
            "count": 58
           },
           {
            "bin_start": 4.263345878979205,
            "bin_end": 5.48296249567502,
            "count": 57
           },
           {
            "bin_start": 5.48296249567502,
            "bin_end": 6.702579112370834,
            "count": 48
           },
           {
            "bin_start": 6.702579112370834,
            "bin_end": 7.922195729066648,
            "count": 23
           },
           {
            "bin_start": 7.922195729066648,
            "bin_end": 9.141812345762462,
            "count": 9
           },
           {
            "bin_start": 9.141812345762462,
            "bin_end": 10.361428962458277,
            "count": 12
           },
           {
            "bin_start": 10.361428962458277,
            "bin_end": 11.581045579154091,
            "count": 5
           }
          ]
         }
        },
        {
         "name": "Active Power",
         "dtype": "float64",
         "stats": {
          "unique_count": 7728,
          "nan_count": 0,
          "min": "100.02914202494875",
          "max": "2234.216886237441",
          "histogram": [
           {
            "bin_start": 100.02914202494875,
            "bin_end": 313.44791644619795,
            "count": 1521
           },
           {
            "bin_start": 313.44791644619795,
            "bin_end": 526.8666908674472,
            "count": 1373
           },
           {
            "bin_start": 526.8666908674472,
            "bin_end": 740.2854652886964,
            "count": 1091
           },
           {
            "bin_start": 740.2854652886964,
            "bin_end": 953.7042397099457,
            "count": 901
           },
           {
            "bin_start": 953.7042397099457,
            "bin_end": 1167.1230141311949,
            "count": 712
           },
           {
            "bin_start": 1167.1230141311949,
            "bin_end": 1380.541788552444,
            "count": 589
           },
           {
            "bin_start": 1380.541788552444,
            "bin_end": 1593.9605629736932,
            "count": 491
           },
           {
            "bin_start": 1593.9605629736932,
            "bin_end": 1807.3793373949425,
            "count": 405
           },
           {
            "bin_start": 1807.3793373949425,
            "bin_end": 2020.7981118161917,
            "count": 280
           },
           {
            "bin_start": 2020.7981118161917,
            "bin_end": 2234.216886237441,
            "count": 365
           }
          ]
         }
        },
        {
         "name": "Rotor Speed",
         "dtype": "float64",
         "stats": {
          "unique_count": 7139,
          "nan_count": 0,
          "min": "3.387391156726327",
          "max": "16.37800063196971",
          "histogram": [
           {
            "bin_start": 3.387391156726327,
            "bin_end": 4.686452104250665,
            "count": 7
           },
           {
            "bin_start": 4.686452104250665,
            "bin_end": 5.985513051775003,
            "count": 1
           },
           {
            "bin_start": 5.985513051775003,
            "bin_end": 7.284573999299342,
            "count": 2
           },
           {
            "bin_start": 7.284573999299342,
            "bin_end": 8.583634946823679,
            "count": 1
           },
           {
            "bin_start": 8.583634946823679,
            "bin_end": 9.882695894348018,
            "count": 4
           },
           {
            "bin_start": 9.882695894348018,
            "bin_end": 11.181756841872357,
            "count": 2
           },
           {
            "bin_start": 11.181756841872357,
            "bin_end": 12.480817789396694,
            "count": 70
           },
           {
            "bin_start": 12.480817789396694,
            "bin_end": 13.779878736921033,
            "count": 392
           },
           {
            "bin_start": 13.779878736921033,
            "bin_end": 15.078939684445372,
            "count": 1667
           },
           {
            "bin_start": 15.078939684445372,
            "bin_end": 16.37800063196971,
            "count": 5582
           }
          ]
         }
        },
        {
         "name": "Air Temperature",
         "dtype": "float64",
         "stats": {
          "unique_count": 2994,
          "nan_count": 0,
          "min": "3.814731232231473",
          "max": "44.0",
          "histogram": [
           {
            "bin_start": 3.814731232231473,
            "bin_end": 7.833258109008325,
            "count": 10
           },
           {
            "bin_start": 7.833258109008325,
            "bin_end": 11.851784985785178,
            "count": 97
           },
           {
            "bin_start": 11.851784985785178,
            "bin_end": 15.87031186256203,
            "count": 986
           },
           {
            "bin_start": 15.87031186256203,
            "bin_end": 19.888838739338883,
            "count": 1049
           },
           {
            "bin_start": 19.888838739338883,
            "bin_end": 23.907365616115737,
            "count": 1386
           },
           {
            "bin_start": 23.907365616115737,
            "bin_end": 27.925892492892586,
            "count": 1432
           },
           {
            "bin_start": 27.925892492892586,
            "bin_end": 31.94441936966944,
            "count": 1344
           },
           {
            "bin_start": 31.94441936966944,
            "bin_end": 35.96294624644629,
            "count": 917
           },
           {
            "bin_start": 35.96294624644629,
            "bin_end": 39.98147312322315,
            "count": 439
           },
           {
            "bin_start": 39.98147312322315,
            "bin_end": 44,
            "count": 68
           }
          ]
         }
        },
        {
         "name": "Wind Speed",
         "dtype": "float64",
         "stats": {
          "unique_count": 7728,
          "nan_count": 0,
          "min": "3.068345426534068",
          "max": "12.99417240181085",
          "histogram": [
           {
            "bin_start": 3.068345426534068,
            "bin_end": 4.060928124061746,
            "count": 76
           },
           {
            "bin_start": 4.060928124061746,
            "bin_end": 5.053510821589424,
            "count": 665
           },
           {
            "bin_start": 5.053510821589424,
            "bin_end": 6.046093519117102,
            "count": 1169
           },
           {
            "bin_start": 6.046093519117102,
            "bin_end": 7.038676216644781,
            "count": 1270
           },
           {
            "bin_start": 7.038676216644781,
            "bin_end": 8.03125891417246,
            "count": 1216
           },
           {
            "bin_start": 8.03125891417246,
            "bin_end": 9.023841611700137,
            "count": 1103
           },
           {
            "bin_start": 9.023841611700137,
            "bin_end": 10.016424309227816,
            "count": 823
           },
           {
            "bin_start": 10.016424309227816,
            "bin_end": 11.009007006755494,
            "count": 634
           },
           {
            "bin_start": 11.009007006755494,
            "bin_end": 12.001589704283171,
            "count": 457
           },
           {
            "bin_start": 12.001589704283171,
            "bin_end": 12.99417240181085,
            "count": 315
           }
          ]
         }
        },
        {
         "name": "Turbine State",
         "dtype": "object",
         "stats": {
          "unique_count": 1,
          "nan_count": 0,
          "categories": [
           {
            "name": "OK",
            "count": 7728
           }
          ]
         }
        },
        {
         "name": "_deepnote_index_column",
         "dtype": "int64"
        }
       ],
       "rows": [
        {
         "Timestamp": "2019-01-01T07:00:00.000000",
         "Asset_Id": "cluster1.turb1",
         "Nacelle Position": 0.2555725785187477,
         "Active Power": 825.3128222622021,
         "Rotor Speed": 15.007162090398332,
         "Air Temperature": 33,
         "Wind Speed": 8.777148589175926,
         "Turbine State": "OK",
         "_deepnote_index_column": 7
        },
        {
         "Timestamp": "2019-01-01T08:00:00.000000",
         "Asset_Id": "cluster1.turb1",
         "Nacelle Position": 0.8391112879433267,
         "Active Power": 387.9410050022044,
         "Rotor Speed": 15.27744585278474,
         "Air Temperature": 32.74837914631991,
         "Wind Speed": 6.587068466303728,
         "Turbine State": "OK",
         "_deepnote_index_column": 8
        },
        {
         "Timestamp": "2019-01-01T09:00:00.000000",
         "Asset_Id": "cluster1.turb1",
         "Nacelle Position": 0.74993904337311,
         "Active Power": 1943.823959175392,
         "Rotor Speed": 15.376954411764842,
         "Air Temperature": 30,
         "Wind Speed": 11.88491917688531,
         "Turbine State": "OK",
         "_deepnote_index_column": 9
        },
        {
         "Timestamp": "2019-01-01T11:00:00.000000",
         "Asset_Id": "cluster1.turb1",
         "Nacelle Position": 0.5946575762159255,
         "Active Power": 1701.156339024796,
         "Rotor Speed": 15.575971529725049,
         "Air Temperature": 24,
         "Wind Speed": 10.97194704857052,
         "Turbine State": "OK",
         "_deepnote_index_column": 11
        },
        {
         "Timestamp": "2019-01-01T12:00:00.000000",
         "Asset_Id": "cluster1.turb1",
         "Nacelle Position": 0.0732142521330539,
         "Active Power": 553.4916491795238,
         "Rotor Speed": 15.220906669582336,
         "Air Temperature": 21.200665761050736,
         "Wind Speed": 5.952715392232298,
         "Turbine State": "OK",
         "_deepnote_index_column": 12
        },
        {
         "Timestamp": "2019-01-01T13:00:00.000000",
         "Asset_Id": "cluster1.turb1",
         "Nacelle Position": 0.3535515989377221,
         "Active Power": 1960.669243549856,
         "Rotor Speed": 15.42589616517208,
         "Air Temperature": 21.25540916005473,
         "Wind Speed": 11.131640757249263,
         "Turbine State": "OK",
         "_deepnote_index_column": 13
        },
        {
         "Timestamp": "2019-01-01T15:00:00.000000",
         "Asset_Id": "cluster1.turb1",
         "Nacelle Position": 0.5315815387185218,
         "Active Power": 643.3995694216076,
         "Rotor Speed": 15.17843734879846,
         "Air Temperature": 20,
         "Wind Speed": 7.881118777577898,
         "Turbine State": "OK",
         "_deepnote_index_column": 15
        },
        {
         "Timestamp": "2019-01-01T16:00:00.000000",
         "Asset_Id": "cluster1.turb1",
         "Nacelle Position": 0.968543899293201,
         "Active Power": 152.75044130086042,
         "Rotor Speed": 15.123991097838331,
         "Air Temperature": 20,
         "Wind Speed": 4.690802143517897,
         "Turbine State": "OK",
         "_deepnote_index_column": 16
        },
        {
         "Timestamp": "2019-01-01T18:00:00.000000",
         "Asset_Id": "cluster1.turb1",
         "Nacelle Position": 0.3874950006639499,
         "Active Power": 594.034039614289,
         "Rotor Speed": 15.015098595918076,
         "Air Temperature": 19,
         "Wind Speed": 6.998535974596701,
         "Turbine State": "OK",
         "_deepnote_index_column": 18
        },
        {
         "Timestamp": "2019-01-01T19:00:00.000000",
         "Asset_Id": "cluster1.turb1",
         "Nacelle Position": 1.1978246255224083,
         "Active Power": 257.4622483723036,
         "Rotor Speed": 14.987312755395552,
         "Air Temperature": 19,
         "Wind Speed": 5.29650883546518,
         "Turbine State": "OK",
         "_deepnote_index_column": 19
        }
       ]
      },
      "text/plain": "                Timestamp        Asset_Id  Nacelle Position  Active Power  \\\n7     2019-01-01 07:00:00  cluster1.turb1          0.255573    825.312822   \n8     2019-01-01 08:00:00  cluster1.turb1          0.839111    387.941005   \n9     2019-01-01 09:00:00  cluster1.turb1          0.749939   1943.823959   \n11    2019-01-01 11:00:00  cluster1.turb1          0.594658   1701.156339   \n12    2019-01-01 12:00:00  cluster1.turb1          0.073214    553.491649   \n...                   ...             ...               ...           ...   \n14165 2019-02-28 20:00:00  cluster1.turb9          0.704913    450.181656   \n14166 2019-02-28 21:00:00  cluster1.turb9          0.221421    706.859494   \n14167 2019-02-28 22:00:00  cluster1.turb9          0.707875   2113.420673   \n14168 2019-02-28 23:00:00  cluster1.turb9          0.370103    756.285030   \n14169 2019-03-01 00:00:00  cluster1.turb9          0.562883   1305.146266   \n\n       Rotor Speed  Air Temperature  Wind Speed Turbine State  \n7        15.007162        33.000000    8.777149            OK  \n8        15.277446        32.748379    6.587068            OK  \n9        15.376954        30.000000   11.884919            OK  \n11       15.575972        24.000000   10.971947            OK  \n12       15.220907        21.200666    5.952715            OK  \n...            ...              ...         ...           ...  \n14165    15.382127        28.000000    5.895554            OK  \n14166    15.445756        28.000000    5.793121            OK  \n14167    15.509385        29.000000   12.826008            OK  \n14168    15.573014        31.000000    7.560330            OK  \n14169    15.453275        33.000000    9.574026            OK  \n\n[7728 rows x 8 columns]",
      "text/html": "<div>\n<style scoped>\n    .dataframe tbody tr th:only-of-type {\n        vertical-align: middle;\n    }\n\n    .dataframe tbody tr th {\n        vertical-align: top;\n    }\n\n    .dataframe thead th {\n        text-align: right;\n    }\n</style>\n<table border=\"1\" class=\"dataframe\">\n  <thead>\n    <tr style=\"text-align: right;\">\n      <th></th>\n      <th>Timestamp</th>\n      <th>Asset_Id</th>\n      <th>Nacelle Position</th>\n      <th>Active Power</th>\n      <th>Rotor Speed</th>\n      <th>Air Temperature</th>\n      <th>Wind Speed</th>\n      <th>Turbine State</th>\n    </tr>\n  </thead>\n  <tbody>\n    <tr>\n      <th>7</th>\n      <td>2019-01-01 07:00:00</td>\n      <td>cluster1.turb1</td>\n      <td>0.255573</td>\n      <td>825.312822</td>\n      <td>15.007162</td>\n      <td>33.000000</td>\n      <td>8.777149</td>\n      <td>OK</td>\n    </tr>\n    <tr>\n      <th>8</th>\n      <td>2019-01-01 08:00:00</td>\n      <td>cluster1.turb1</td>\n      <td>0.839111</td>\n      <td>387.941005</td>\n      <td>15.277446</td>\n      <td>32.748379</td>\n      <td>6.587068</td>\n      <td>OK</td>\n    </tr>\n    <tr>\n      <th>9</th>\n      <td>2019-01-01 09:00:00</td>\n      <td>cluster1.turb1</td>\n      <td>0.749939</td>\n      <td>1943.823959</td>\n      <td>15.376954</td>\n      <td>30.000000</td>\n      <td>11.884919</td>\n      <td>OK</td>\n    </tr>\n    <tr>\n      <th>11</th>\n      <td>2019-01-01 11:00:00</td>\n      <td>cluster1.turb1</td>\n      <td>0.594658</td>\n      <td>1701.156339</td>\n      <td>15.575972</td>\n      <td>24.000000</td>\n      <td>10.971947</td>\n      <td>OK</td>\n    </tr>\n    <tr>\n      <th>12</th>\n      <td>2019-01-01 12:00:00</td>\n      <td>cluster1.turb1</td>\n      <td>0.073214</td>\n      <td>553.491649</td>\n      <td>15.220907</td>\n      <td>21.200666</td>\n      <td>5.952715</td>\n      <td>OK</td>\n    </tr>\n    <tr>\n      <th>...</th>\n      <td>...</td>\n      <td>...</td>\n      <td>...</td>\n      <td>...</td>\n      <td>...</td>\n      <td>...</td>\n      <td>...</td>\n      <td>...</td>\n    </tr>\n    <tr>\n      <th>14165</th>\n      <td>2019-02-28 20:00:00</td>\n      <td>cluster1.turb9</td>\n      <td>0.704913</td>\n      <td>450.181656</td>\n      <td>15.382127</td>\n      <td>28.000000</td>\n      <td>5.895554</td>\n      <td>OK</td>\n    </tr>\n    <tr>\n      <th>14166</th>\n      <td>2019-02-28 21:00:00</td>\n      <td>cluster1.turb9</td>\n      <td>0.221421</td>\n      <td>706.859494</td>\n      <td>15.445756</td>\n      <td>28.000000</td>\n      <td>5.793121</td>\n      <td>OK</td>\n    </tr>\n    <tr>\n      <th>14167</th>\n      <td>2019-02-28 22:00:00</td>\n      <td>cluster1.turb9</td>\n      <td>0.707875</td>\n      <td>2113.420673</td>\n      <td>15.509385</td>\n      <td>29.000000</td>\n      <td>12.826008</td>\n      <td>OK</td>\n    </tr>\n    <tr>\n      <th>14168</th>\n      <td>2019-02-28 23:00:00</td>\n      <td>cluster1.turb9</td>\n      <td>0.370103</td>\n      <td>756.285030</td>\n      <td>15.573014</td>\n      <td>31.000000</td>\n      <td>7.560330</td>\n      <td>OK</td>\n    </tr>\n    <tr>\n      <th>14169</th>\n      <td>2019-03-01 00:00:00</td>\n      <td>cluster1.turb9</td>\n      <td>0.562883</td>\n      <td>1305.146266</td>\n      <td>15.453275</td>\n      <td>33.000000</td>\n      <td>9.574026</td>\n      <td>OK</td>\n    </tr>\n  </tbody>\n</table>\n<p>7728 rows × 8 columns</p>\n</div>"
     },
     "metadata": {}
    }
   ]
  },
  {
   "cell_type": "code",
   "metadata": {
    "cell_id": "00046-05be950f-cfb0-4a89-bac6-128b125df3b1",
    "deepnote_output_heights": [
     606
    ],
    "deepnote_to_be_reexecuted": false,
    "source_hash": "b4dbf75d",
    "execution_start": 1642371235596,
    "execution_millis": 357,
    "deepnote_cell_type": "code"
   },
   "source": "# Plotting Active Power versus Wind Speed - filtered data frame representing Normal Operating Conditions\n\nfig = plt.figure(figsize=(10, 10))\nax = fig.add_subplot(111)\nax.scatter(df_Filter[\"Wind Speed\"], df_Filter[\"Active Power\"])\nax.set_xlabel(\"Wind Speed (m/s)\")\nax.set_ylabel(\"Active Power (kW)\")\nax.set_title(\"Active Power vs Wind Speed\")\n\nplt.show(block=False)",
   "execution_count": 40,
   "outputs": [
    {
     "data": {
      "text/plain": "<Figure size 720x720 with 1 Axes>",
      "image/png": "[encoded data removed]"
     },
     "metadata": {
      "needs_background": "light",
      "image/png": {
       "width": 618,
       "height": 604
      }
     },
     "output_type": "display_data"
    }
   ]
  },
  {
   "cell_type": "code",
   "metadata": {
    "cell_id": "00047-7d1a9941-1cea-4aa2-9668-63e26f4696f5",
    "deepnote_to_be_reexecuted": false,
    "source_hash": "7178b660",
    "execution_start": 1642371237244,
    "execution_millis": 15,
    "deepnote_cell_type": "code"
   },
   "source": "# Prepare the training & testing/scoring data sets, and split them randomly\nfrom sklearn.model_selection import train_test_split\n\n# define the target variable to be predicted\ny = df_Filter[\"Active Power\"].values\n# split the dataset randomly into test and train sets\nX_train, X_test, y_train, y_test = train_test_split(\n    df_Filter[[\"Air Temperature\", \"Wind Speed\"]].values,\n    y,\n    test_size=0.25,\n    random_state=42,\n)\nprint(\"-- training and testing set prepared --\")",
   "execution_count": 41,
   "outputs": [
    {
     "name": "stdout",
     "text": "-- training and testing set prepared --\n",
     "output_type": "stream"
    }
   ]
  },
  {
   "cell_type": "code",
   "metadata": {
    "cell_id": "00048-cd70fc7b-5f45-4111-b588-ce2271bb8804",
    "deepnote_to_be_reexecuted": false,
    "source_hash": "e9ea956a",
    "execution_start": 1642371239029,
    "execution_millis": 102,
    "deepnote_cell_type": "code"
   },
   "source": "# Use the Decision Tree Regression Machine Learning model from scikit-learn\nfrom sklearn.tree import DecisionTreeRegressor\n\nregr_1 = DecisionTreeRegressor(max_depth=2)\nregr_2 = DecisionTreeRegressor(max_depth=5)\nregr_1.fit(X_train, y_train)\nregr_2.fit(X_train, y_train)\n\n# Predict\ny_1 = regr_1.predict(X_test)\ny_2 = regr_2.predict(X_test)\nprint(\"-- regression and prediction completed --\")",
   "execution_count": 42,
   "outputs": [
    {
     "name": "stdout",
     "text": "-- regression and prediction completed --\n",
     "output_type": "stream"
    }
   ]
  },
  {
   "cell_type": "code",
   "metadata": {
    "cell_id": "00049-9aed790a-cb71-467c-b718-7b679e260ff4",
    "deepnote_output_heights": [
     606
    ],
    "deepnote_to_be_reexecuted": false,
    "source_hash": "3b90fa66",
    "execution_start": 1642371244649,
    "execution_millis": 931,
    "deepnote_cell_type": "code"
   },
   "source": "# Plot the results\nplt.figure(figsize=(10, 10))\nplt.scatter(\n    X_train[:, 1], y_train, s=20, edgecolor=\"black\", c=\"darkorange\", label=\"data\"\n)\nplt.plot(X_test[:, 1], y_1, color=\"cornflowerblue\", label=\"max_depth=2\", linewidth=2)\nplt.plot(X_test[:, 1], y_2, color=\"yellowgreen\", label=\"max_depth=5\", linewidth=2)\nplt.xlabel(\"Wind Speed\")\nplt.ylabel(\"Active Power\")\nplt.title(\"Decision Tree Regression\")\nplt.legend()\nplt.show(block=False)",
   "execution_count": 43,
   "outputs": [
    {
     "data": {
      "text/plain": "<Figure size 720x720 with 1 Axes>",
      "image/png": "[encoded data removed]"
     },
     "metadata": {
      "needs_background": "light",
      "image/png": {
       "width": 618,
       "height": 604
      }
     },
     "output_type": "display_data"
    }
   ]
  },
  {
   "cell_type": "code",
   "metadata": {
    "cell_id": "00050-637a131d-98a7-4dda-b3c9-27af1cd2046a",
    "deepnote_to_be_reexecuted": false,
    "source_hash": "2e18abde",
    "execution_start": 1642371249847,
    "execution_millis": 247,
    "deepnote_cell_type": "code"
   },
   "source": "# save the machine learning model to disk\nimport pickle\n\nfilename = \"WT_ActivePower_model.sav\"\npickle.dump(regr_2, open(filename, \"wb\"))",
   "execution_count": 44,
   "outputs": []
  },
  {
   "cell_type": "code",
   "metadata": {
    "cell_id": "00051-55f67451-da94-4f50-ba6f-44d789c18fe2",
    "deepnote_to_be_reexecuted": false,
    "source_hash": "c4e209ff",
    "execution_start": 1642371252697,
    "execution_millis": 7,
    "deepnote_cell_type": "code"
   },
   "source": "# Test the model with the scoring/testing data set\nloaded_model = pickle.load(open(filename, \"rb\"))\nresult = loaded_model.score(X_test, y_test)\n# print the model score\nprint(result)",
   "execution_count": 45,
   "outputs": [
    {
     "name": "stdout",
     "text": "0.9206642691565691\n",
     "output_type": "stream"
    }
   ]
  },
  {
   "cell_type": "code",
   "metadata": {
    "cell_id": "00052-f5475a38-c0ff-4783-9030-a48cb6f8c55e",
    "deepnote_to_be_reexecuted": false,
    "source_hash": "544246cc",
    "execution_start": 1642371254945,
    "execution_millis": 2,
    "deepnote_cell_type": "code"
   },
   "source": "# Sample prediction\n# define input\nnew_input = [[20, 9.6]]  # Temp= 20C, Wind Speed = 9.6 m/s\n# get prediction for new input\nnew_output = regr_2.predict(new_input)\nprint(new_output)",
   "execution_count": 46,
   "outputs": [
    {
     "name": "stdout",
     "text": "[1289.13725133]\n",
     "output_type": "stream"
    }
   ]
  },
  {
   "cell_type": "code",
   "metadata": {
    "cell_id": "00053-f7977bfb-bbf5-4bb3-a0e1-4a0823a073b6",
    "deepnote_to_be_reexecuted": false,
    "source_hash": "fdd725d4",
    "execution_start": 1642371257127,
    "execution_millis": 333,
    "deepnote_cell_type": "code"
   },
   "source": "# Call the OpenWeather API to retrieve the forecasted air temperature and wind speed\n# for Jamestown, Australia for the next 5 days\n# City code information: http://bulk.openweathermap.org/sample/\n#\nurl = \"https://api.openweathermap.org/data/2.5/forecast?q=Jamestown,AU,2069194&units=metric&APPID=5dac981ce33f41f61d8d1ea06ee89798\"\nresponseWeatherForecast = requests.get(url)",
   "execution_count": 47,
   "outputs": []
  },
  {
   "cell_type": "code",
   "metadata": {
    "cell_id": "00054-b8ae4d9f-7c4c-4652-82cb-3e8adfd7d296",
    "deepnote_to_be_reexecuted": false,
    "source_hash": "17bcd005",
    "execution_start": 1642371258735,
    "execution_millis": 16,
    "deepnote_output_heights": [
     611
    ],
    "deepnote_cell_type": "code"
   },
   "source": "# Display first 3 results \nresponseWeatherForecast.json()[\"list\"][:3]",
   "execution_count": 48,
   "outputs": [
    {
     "output_type": "execute_result",
     "execution_count": 48,
     "data": {
      "text/plain": "[{'dt': 1642377600,\n  'main': {'temp': 18.71,\n   'feels_like': 18.05,\n   'temp_min': 18.71,\n   'temp_max': 19.38,\n   'pressure': 1012,\n   'sea_level': 1012,\n   'grnd_level': 961,\n   'humidity': 54,\n   'temp_kf': -0.67},\n  'weather': [{'id': 804,\n    'main': 'Clouds',\n    'description': 'overcast clouds',\n    'icon': '04d'}],\n  'clouds': {'all': 100},\n  'wind': {'speed': 3.67, 'deg': 183, 'gust': 4.16},\n  'visibility': 10000,\n  'pop': 0.08,\n  'sys': {'pod': 'd'},\n  'dt_txt': '2022-01-17 00:00:00'},\n {'dt': 1642388400,\n  'main': {'temp': 20.34,\n   'feels_like': 19.63,\n   'temp_min': 20.34,\n   'temp_max': 21.32,\n   'pressure': 1012,\n   'sea_level': 1012,\n   'grnd_level': 961,\n   'humidity': 46,\n   'temp_kf': -0.98},\n  'weather': [{'id': 804,\n    'main': 'Clouds',\n    'description': 'overcast clouds',\n    'icon': '04d'}],\n  'clouds': {'all': 100},\n  'wind': {'speed': 3.08, 'deg': 175, 'gust': 3.87},\n  'visibility': 10000,\n  'pop': 0.02,\n  'sys': {'pod': 'd'},\n  'dt_txt': '2022-01-17 03:00:00'},\n {'dt': 1642399200,\n  'main': {'temp': 21.85,\n   'feels_like': 21.13,\n   'temp_min': 21.85,\n   'temp_max': 21.85,\n   'pressure': 1011,\n   'sea_level': 1011,\n   'grnd_level': 960,\n   'humidity': 40,\n   'temp_kf': 0},\n  'weather': [{'id': 500,\n    'main': 'Rain',\n    'description': 'light rain',\n    'icon': '10d'}],\n  'clouds': {'all': 100},\n  'wind': {'speed': 1.01, 'deg': 206, 'gust': 2.52},\n  'visibility': 10000,\n  'pop': 0.22,\n  'rain': {'3h': 0.15},\n  'sys': {'pod': 'd'},\n  'dt_txt': '2022-01-17 06:00:00'}]"
     },
     "metadata": {}
    }
   ]
  },
  {
   "cell_type": "code",
   "metadata": {
    "cell_id": "00055-fe13a043-ef19-4ff0-bd8e-54e6d3ed1ad1",
    "deepnote_output_heights": [
     611
    ],
    "deepnote_to_be_reexecuted": false,
    "source_hash": "f22670ea",
    "execution_start": 1642371260656,
    "execution_millis": 96,
    "deepnote_cell_type": "code"
   },
   "source": "# Store the forecasted air temperature, wind speed and timestamp from the API json response in a pandas DataFrame\n\nimport datetime\n\nTempArray = []\nWindSpeedArray = []\nTimestampArray = []\n\nfor val in responseWeatherForecast.json()[\"list\"]:\n    tempC = val[\"main\"][\"temp\"]\n    windSpeedMeterPerSec = round(val[\"wind\"][\"speed\"], 2)\n    np.array(TempArray.append(tempC))\n    np.array(WindSpeedArray.append(windSpeedMeterPerSec))\n    np.array(\n        TimestampArray.append(\n            datetime.datetime.strptime(val[\"dt_txt\"], \"%Y-%m-%d %H:%M:%S\")\n        )\n    )\n\ndfWeatherForecast = pd.DataFrame(\n    {\n        \"Timestamp\": TimestampArray,\n        \"Temp (C)\": TempArray,\n        \"Wind Speed (m/s)\": WindSpeedArray,\n    }\n)\n\ndfWeatherForecast",
   "execution_count": 49,
   "outputs": [
    {
     "output_type": "execute_result",
     "execution_count": 49,
     "data": {
      "application/vnd.deepnote.dataframe.v3+json": {
       "column_count": 3,
       "row_count": 40,
       "columns": [
        {
         "name": "Timestamp",
         "dtype": "datetime64[ns]",
         "stats": {
          "unique_count": 40,
          "nan_count": 0,
          "min": "2022-01-17 00:00:00",
          "max": "2022-01-21 21:00:00",
          "histogram": [
           {
            "bin_start": 1642377600000000000,
            "bin_end": 1642419720000000000,
            "count": 4
           },
           {
            "bin_start": 1642419720000000000,
            "bin_end": 1642461840000000000,
            "count": 4
           },
           {
            "bin_start": 1642461840000000000,
            "bin_end": 1642503960000000000,
            "count": 4
           },
           {
            "bin_start": 1642503960000000000,
            "bin_end": 1642546080000000000,
            "count": 4
           },
           {
            "bin_start": 1642546080000000000,
            "bin_end": 1642588200000000000,
            "count": 4
           },
           {
            "bin_start": 1642588200000000000,
            "bin_end": 1642630320000000000,
            "count": 4
           },
           {
            "bin_start": 1642630320000000000,
            "bin_end": 1642672440000000000,
            "count": 4
           },
           {
            "bin_start": 1642672440000000000,
            "bin_end": 1642714560000000000,
            "count": 4
           },
           {
            "bin_start": 1642714560000000000,
            "bin_end": 1642756680000000000,
            "count": 4
           },
           {
            "bin_start": 1642756680000000000,
            "bin_end": 1642798800000000000,
            "count": 4
           }
          ]
         }
        },
        {
         "name": "Temp (C)",
         "dtype": "float64",
         "stats": {
          "unique_count": 39,
          "nan_count": 0,
          "min": "14.43",
          "max": "30.76",
          "histogram": [
           {
            "bin_start": 14.43,
            "bin_end": 16.063,
            "count": 4
           },
           {
            "bin_start": 16.063,
            "bin_end": 17.696,
            "count": 3
           },
           {
            "bin_start": 17.696,
            "bin_end": 19.329,
            "count": 5
           },
           {
            "bin_start": 19.329,
            "bin_end": 20.962,
            "count": 2
           },
           {
            "bin_start": 20.962,
            "bin_end": 22.595,
            "count": 7
           },
           {
            "bin_start": 22.595,
            "bin_end": 24.228,
            "count": 6
           },
           {
            "bin_start": 24.228,
            "bin_end": 25.861,
            "count": 3
           },
           {
            "bin_start": 25.861,
            "bin_end": 27.494,
            "count": 1
           },
           {
            "bin_start": 27.494,
            "bin_end": 29.127000000000002,
            "count": 6
           },
           {
            "bin_start": 29.127000000000002,
            "bin_end": 30.76,
            "count": 3
           }
          ]
         }
        },
        {
         "name": "Wind Speed (m/s)",
         "dtype": "float64",
         "stats": {
          "unique_count": 39,
          "nan_count": 0,
          "min": "0.17",
          "max": "10.82",
          "histogram": [
           {
            "bin_start": 0.17,
            "bin_end": 1.2349999999999999,
            "count": 3
           },
           {
            "bin_start": 1.2349999999999999,
            "bin_end": 2.3,
            "count": 4
           },
           {
            "bin_start": 2.3,
            "bin_end": 3.3649999999999998,
            "count": 3
           },
           {
            "bin_start": 3.3649999999999998,
            "bin_end": 4.43,
            "count": 3
           },
           {
            "bin_start": 4.43,
            "bin_end": 5.494999999999999,
            "count": 3
           },
           {
            "bin_start": 5.494999999999999,
            "bin_end": 6.56,
            "count": 7
           },
           {
            "bin_start": 6.56,
            "bin_end": 7.625,
            "count": 6
           },
           {
            "bin_start": 7.625,
            "bin_end": 8.69,
            "count": 5
           },
           {
            "bin_start": 8.69,
            "bin_end": 9.754999999999999,
            "count": 2
           },
           {
            "bin_start": 9.754999999999999,
            "bin_end": 10.82,
            "count": 4
           }
          ]
         }
        },
        {
         "name": "_deepnote_index_column",
         "dtype": "int64"
        }
       ],
       "rows": [
        {
         "Timestamp": "2022-01-17T00:00:00.000000",
         "Temp (C)": 18.71,
         "Wind Speed (m/s)": 3.67,
         "_deepnote_index_column": 0
        },
        {
         "Timestamp": "2022-01-17T03:00:00.000000",
         "Temp (C)": 20.34,
         "Wind Speed (m/s)": 3.08,
         "_deepnote_index_column": 1
        },
        {
         "Timestamp": "2022-01-17T06:00:00.000000",
         "Temp (C)": 21.85,
         "Wind Speed (m/s)": 1.01,
         "_deepnote_index_column": 2
        },
        {
         "Timestamp": "2022-01-17T09:00:00.000000",
         "Temp (C)": 21.36,
         "Wind Speed (m/s)": 0.17,
         "_deepnote_index_column": 3
        },
        {
         "Timestamp": "2022-01-17T12:00:00.000000",
         "Temp (C)": 18.97,
         "Wind Speed (m/s)": 0.25,
         "_deepnote_index_column": 4
        },
        {
         "Timestamp": "2022-01-17T15:00:00.000000",
         "Temp (C)": 17.89,
         "Wind Speed (m/s)": 1.82,
         "_deepnote_index_column": 5
        },
        {
         "Timestamp": "2022-01-17T18:00:00.000000",
         "Temp (C)": 16.21,
         "Wind Speed (m/s)": 3.03,
         "_deepnote_index_column": 6
        },
        {
         "Timestamp": "2022-01-17T21:00:00.000000",
         "Temp (C)": 14.54,
         "Wind Speed (m/s)": 5.06,
         "_deepnote_index_column": 7
        },
        {
         "Timestamp": "2022-01-18T00:00:00.000000",
         "Temp (C)": 16.64,
         "Wind Speed (m/s)": 4.7,
         "_deepnote_index_column": 8
        },
        {
         "Timestamp": "2022-01-18T03:00:00.000000",
         "Temp (C)": 21.2,
         "Wind Speed (m/s)": 3.89,
         "_deepnote_index_column": 9
        }
       ]
      },
      "text/plain": "             Timestamp  Temp (C)  Wind Speed (m/s)\n0  2022-01-17 00:00:00     18.71              3.67\n1  2022-01-17 03:00:00     20.34              3.08\n2  2022-01-17 06:00:00     21.85              1.01\n3  2022-01-17 09:00:00     21.36              0.17\n4  2022-01-17 12:00:00     18.97              0.25\n5  2022-01-17 15:00:00     17.89              1.82\n6  2022-01-17 18:00:00     16.21              3.03\n7  2022-01-17 21:00:00     14.54              5.06\n8  2022-01-18 00:00:00     16.64              4.70\n9  2022-01-18 03:00:00     21.20              3.89\n10 2022-01-18 06:00:00     23.78              2.15\n11 2022-01-18 09:00:00     23.25              3.02\n12 2022-01-18 12:00:00     16.42              1.54\n13 2022-01-18 15:00:00     15.35              2.10\n14 2022-01-18 18:00:00     14.43              4.96\n15 2022-01-18 21:00:00     14.66              7.45\n16 2022-01-19 00:00:00     22.14              7.48\n17 2022-01-19 03:00:00     27.52              6.41\n18 2022-01-19 06:00:00     29.29              6.13\n19 2022-01-19 09:00:00     27.73              6.10\n20 2022-01-19 12:00:00     22.41              3.75\n21 2022-01-19 15:00:00     20.12              5.90\n22 2022-01-19 18:00:00     18.71              6.43\n23 2022-01-19 21:00:00     18.32              8.55\n24 2022-01-20 00:00:00     24.20             10.27\n25 2022-01-20 03:00:00     29.50             10.06\n26 2022-01-20 06:00:00     30.76              9.17\n27 2022-01-20 09:00:00     28.99              7.95\n28 2022-01-20 12:00:00     25.70              7.65\n29 2022-01-20 15:00:00     23.33              7.04\n30 2022-01-20 18:00:00     21.87              6.41\n31 2022-01-20 21:00:00     21.45              8.19\n32 2022-01-21 00:00:00     25.11             10.82\n33 2022-01-21 03:00:00     28.54             10.73\n34 2022-01-21 06:00:00     28.56              9.13\n35 2022-01-21 09:00:00     27.86              6.74\n36 2022-01-21 12:00:00     26.59              7.32\n37 2022-01-21 15:00:00     24.74              8.65\n38 2022-01-21 18:00:00     23.47              7.62\n39 2022-01-21 21:00:00     23.06              6.06",
      "text/html": "<div>\n<style scoped>\n    .dataframe tbody tr th:only-of-type {\n        vertical-align: middle;\n    }\n\n    .dataframe tbody tr th {\n        vertical-align: top;\n    }\n\n    .dataframe thead th {\n        text-align: right;\n    }\n</style>\n<table border=\"1\" class=\"dataframe\">\n  <thead>\n    <tr style=\"text-align: right;\">\n      <th></th>\n      <th>Timestamp</th>\n      <th>Temp (C)</th>\n      <th>Wind Speed (m/s)</th>\n    </tr>\n  </thead>\n  <tbody>\n    <tr>\n      <th>0</th>\n      <td>2022-01-17 00:00:00</td>\n      <td>18.71</td>\n      <td>3.67</td>\n    </tr>\n    <tr>\n      <th>1</th>\n      <td>2022-01-17 03:00:00</td>\n      <td>20.34</td>\n      <td>3.08</td>\n    </tr>\n    <tr>\n      <th>2</th>\n      <td>2022-01-17 06:00:00</td>\n      <td>21.85</td>\n      <td>1.01</td>\n    </tr>\n    <tr>\n      <th>3</th>\n      <td>2022-01-17 09:00:00</td>\n      <td>21.36</td>\n      <td>0.17</td>\n    </tr>\n    <tr>\n      <th>4</th>\n      <td>2022-01-17 12:00:00</td>\n      <td>18.97</td>\n      <td>0.25</td>\n    </tr>\n    <tr>\n      <th>5</th>\n      <td>2022-01-17 15:00:00</td>\n      <td>17.89</td>\n      <td>1.82</td>\n    </tr>\n    <tr>\n      <th>6</th>\n      <td>2022-01-17 18:00:00</td>\n      <td>16.21</td>\n      <td>3.03</td>\n    </tr>\n    <tr>\n      <th>7</th>\n      <td>2022-01-17 21:00:00</td>\n      <td>14.54</td>\n      <td>5.06</td>\n    </tr>\n    <tr>\n      <th>8</th>\n      <td>2022-01-18 00:00:00</td>\n      <td>16.64</td>\n      <td>4.70</td>\n    </tr>\n    <tr>\n      <th>9</th>\n      <td>2022-01-18 03:00:00</td>\n      <td>21.20</td>\n      <td>3.89</td>\n    </tr>\n    <tr>\n      <th>10</th>\n      <td>2022-01-18 06:00:00</td>\n      <td>23.78</td>\n      <td>2.15</td>\n    </tr>\n    <tr>\n      <th>11</th>\n      <td>2022-01-18 09:00:00</td>\n      <td>23.25</td>\n      <td>3.02</td>\n    </tr>\n    <tr>\n      <th>12</th>\n      <td>2022-01-18 12:00:00</td>\n      <td>16.42</td>\n      <td>1.54</td>\n    </tr>\n    <tr>\n      <th>13</th>\n      <td>2022-01-18 15:00:00</td>\n      <td>15.35</td>\n      <td>2.10</td>\n    </tr>\n    <tr>\n      <th>14</th>\n      <td>2022-01-18 18:00:00</td>\n      <td>14.43</td>\n      <td>4.96</td>\n    </tr>\n    <tr>\n      <th>15</th>\n      <td>2022-01-18 21:00:00</td>\n      <td>14.66</td>\n      <td>7.45</td>\n    </tr>\n    <tr>\n      <th>16</th>\n      <td>2022-01-19 00:00:00</td>\n      <td>22.14</td>\n      <td>7.48</td>\n    </tr>\n    <tr>\n      <th>17</th>\n      <td>2022-01-19 03:00:00</td>\n      <td>27.52</td>\n      <td>6.41</td>\n    </tr>\n    <tr>\n      <th>18</th>\n      <td>2022-01-19 06:00:00</td>\n      <td>29.29</td>\n      <td>6.13</td>\n    </tr>\n    <tr>\n      <th>19</th>\n      <td>2022-01-19 09:00:00</td>\n      <td>27.73</td>\n      <td>6.10</td>\n    </tr>\n    <tr>\n      <th>20</th>\n      <td>2022-01-19 12:00:00</td>\n      <td>22.41</td>\n      <td>3.75</td>\n    </tr>\n    <tr>\n      <th>21</th>\n      <td>2022-01-19 15:00:00</td>\n      <td>20.12</td>\n      <td>5.90</td>\n    </tr>\n    <tr>\n      <th>22</th>\n      <td>2022-01-19 18:00:00</td>\n      <td>18.71</td>\n      <td>6.43</td>\n    </tr>\n    <tr>\n      <th>23</th>\n      <td>2022-01-19 21:00:00</td>\n      <td>18.32</td>\n      <td>8.55</td>\n    </tr>\n    <tr>\n      <th>24</th>\n      <td>2022-01-20 00:00:00</td>\n      <td>24.20</td>\n      <td>10.27</td>\n    </tr>\n    <tr>\n      <th>25</th>\n      <td>2022-01-20 03:00:00</td>\n      <td>29.50</td>\n      <td>10.06</td>\n    </tr>\n    <tr>\n      <th>26</th>\n      <td>2022-01-20 06:00:00</td>\n      <td>30.76</td>\n      <td>9.17</td>\n    </tr>\n    <tr>\n      <th>27</th>\n      <td>2022-01-20 09:00:00</td>\n      <td>28.99</td>\n      <td>7.95</td>\n    </tr>\n    <tr>\n      <th>28</th>\n      <td>2022-01-20 12:00:00</td>\n      <td>25.70</td>\n      <td>7.65</td>\n    </tr>\n    <tr>\n      <th>29</th>\n      <td>2022-01-20 15:00:00</td>\n      <td>23.33</td>\n      <td>7.04</td>\n    </tr>\n    <tr>\n      <th>30</th>\n      <td>2022-01-20 18:00:00</td>\n      <td>21.87</td>\n      <td>6.41</td>\n    </tr>\n    <tr>\n      <th>31</th>\n      <td>2022-01-20 21:00:00</td>\n      <td>21.45</td>\n      <td>8.19</td>\n    </tr>\n    <tr>\n      <th>32</th>\n      <td>2022-01-21 00:00:00</td>\n      <td>25.11</td>\n      <td>10.82</td>\n    </tr>\n    <tr>\n      <th>33</th>\n      <td>2022-01-21 03:00:00</td>\n      <td>28.54</td>\n      <td>10.73</td>\n    </tr>\n    <tr>\n      <th>34</th>\n      <td>2022-01-21 06:00:00</td>\n      <td>28.56</td>\n      <td>9.13</td>\n    </tr>\n    <tr>\n      <th>35</th>\n      <td>2022-01-21 09:00:00</td>\n      <td>27.86</td>\n      <td>6.74</td>\n    </tr>\n    <tr>\n      <th>36</th>\n      <td>2022-01-21 12:00:00</td>\n      <td>26.59</td>\n      <td>7.32</td>\n    </tr>\n    <tr>\n      <th>37</th>\n      <td>2022-01-21 15:00:00</td>\n      <td>24.74</td>\n      <td>8.65</td>\n    </tr>\n    <tr>\n      <th>38</th>\n      <td>2022-01-21 18:00:00</td>\n      <td>23.47</td>\n      <td>7.62</td>\n    </tr>\n    <tr>\n      <th>39</th>\n      <td>2022-01-21 21:00:00</td>\n      <td>23.06</td>\n      <td>6.06</td>\n    </tr>\n  </tbody>\n</table>\n</div>"
     },
     "metadata": {}
    }
   ]
  },
  {
   "cell_type": "code",
   "metadata": {
    "cell_id": "00056-2a6e1f61-1892-48df-aa49-34cbed6f50fb",
    "deepnote_output_heights": [
     611
    ],
    "deepnote_to_be_reexecuted": false,
    "source_hash": "d38abaf5",
    "execution_start": 1642371262998,
    "execution_millis": 127,
    "deepnote_cell_type": "code"
   },
   "source": "# Use the machine learning model developed previously to predict the Active Power\n# and add the values to the existing Data Frame\n\nimport pickle\n\nfilename = \"WT_ActivePower_model.sav\"\nloaded_model = pickle.load(open(filename, \"rb\"))\n\nPredictedPowerArray = []\n\nfor index, row in dfWeatherForecast.iterrows():\n    new_input = [[row[\"Temp (C)\"], row[\"Wind Speed (m/s)\"]]]\n    result = loaded_model.predict(new_input)\n    np.array(PredictedPowerArray.append(result))\n\ndfWeatherForecast[\"Predicted Active Power (kW)\"] = pd.DataFrame(PredictedPowerArray)\n\ndfWeatherForecast",
   "execution_count": 50,
   "outputs": [
    {
     "output_type": "execute_result",
     "execution_count": 50,
     "data": {
      "application/vnd.deepnote.dataframe.v3+json": {
       "column_count": 4,
       "row_count": 40,
       "columns": [
        {
         "name": "Timestamp",
         "dtype": "datetime64[ns]",
         "stats": {
          "unique_count": 40,
          "nan_count": 0,
          "min": "2022-01-17 00:00:00",
          "max": "2022-01-21 21:00:00",
          "histogram": [
           {
            "bin_start": 1642377600000000000,
            "bin_end": 1642419720000000000,
            "count": 4
           },
           {
            "bin_start": 1642419720000000000,
            "bin_end": 1642461840000000000,
            "count": 4
           },
           {
            "bin_start": 1642461840000000000,
            "bin_end": 1642503960000000000,
            "count": 4
           },
           {
            "bin_start": 1642503960000000000,
            "bin_end": 1642546080000000000,
            "count": 4
           },
           {
            "bin_start": 1642546080000000000,
            "bin_end": 1642588200000000000,
            "count": 4
           },
           {
            "bin_start": 1642588200000000000,
            "bin_end": 1642630320000000000,
            "count": 4
           },
           {
            "bin_start": 1642630320000000000,
            "bin_end": 1642672440000000000,
            "count": 4
           },
           {
            "bin_start": 1642672440000000000,
            "bin_end": 1642714560000000000,
            "count": 4
           },
           {
            "bin_start": 1642714560000000000,
            "bin_end": 1642756680000000000,
            "count": 4
           },
           {
            "bin_start": 1642756680000000000,
            "bin_end": 1642798800000000000,
            "count": 4
           }
          ]
         }
        },
        {
         "name": "Temp (C)",
         "dtype": "float64",
         "stats": {
          "unique_count": 39,
          "nan_count": 0,
          "min": "14.43",
          "max": "30.76",
          "histogram": [
           {
            "bin_start": 14.43,
            "bin_end": 16.063,
            "count": 4
           },
           {
            "bin_start": 16.063,
            "bin_end": 17.696,
            "count": 3
           },
           {
            "bin_start": 17.696,
            "bin_end": 19.329,
            "count": 5
           },
           {
            "bin_start": 19.329,
            "bin_end": 20.962,
            "count": 2
           },
           {
            "bin_start": 20.962,
            "bin_end": 22.595,
            "count": 7
           },
           {
            "bin_start": 22.595,
            "bin_end": 24.228,
            "count": 6
           },
           {
            "bin_start": 24.228,
            "bin_end": 25.861,
            "count": 3
           },
           {
            "bin_start": 25.861,
            "bin_end": 27.494,
            "count": 1
           },
           {
            "bin_start": 27.494,
            "bin_end": 29.127000000000002,
            "count": 6
           },
           {
            "bin_start": 29.127000000000002,
            "bin_end": 30.76,
            "count": 3
           }
          ]
         }
        },
        {
         "name": "Wind Speed (m/s)",
         "dtype": "float64",
         "stats": {
          "unique_count": 39,
          "nan_count": 0,
          "min": "0.17",
          "max": "10.82",
          "histogram": [
           {
            "bin_start": 0.17,
            "bin_end": 1.2349999999999999,
            "count": 3
           },
           {
            "bin_start": 1.2349999999999999,
            "bin_end": 2.3,
            "count": 4
           },
           {
            "bin_start": 2.3,
            "bin_end": 3.3649999999999998,
            "count": 3
           },
           {
            "bin_start": 3.3649999999999998,
            "bin_end": 4.43,
            "count": 3
           },
           {
            "bin_start": 4.43,
            "bin_end": 5.494999999999999,
            "count": 3
           },
           {
            "bin_start": 5.494999999999999,
            "bin_end": 6.56,
            "count": 7
           },
           {
            "bin_start": 6.56,
            "bin_end": 7.625,
            "count": 6
           },
           {
            "bin_start": 7.625,
            "bin_end": 8.69,
            "count": 5
           },
           {
            "bin_start": 8.69,
            "bin_end": 9.754999999999999,
            "count": 2
           },
           {
            "bin_start": 9.754999999999999,
            "bin_end": 10.82,
            "count": 4
           }
          ]
         }
        },
        {
         "name": "Predicted Active Power (kW)",
         "dtype": "float64",
         "stats": {
          "unique_count": 20,
          "nan_count": 0,
          "min": "146.93201678617464",
          "max": "1705.8972544702676",
          "histogram": [
           {
            "bin_start": 146.93201678617464,
            "bin_end": 302.8285405545839,
            "count": 16
           },
           {
            "bin_start": 302.8285405545839,
            "bin_end": 458.7250643229932,
            "count": 5
           },
           {
            "bin_start": 458.7250643229932,
            "bin_end": 614.6215880914025,
            "count": 4
           },
           {
            "bin_start": 614.6215880914025,
            "bin_end": 770.5181118598118,
            "count": 5
           },
           {
            "bin_start": 770.5181118598118,
            "bin_end": 926.414635628221,
            "count": 1
           },
           {
            "bin_start": 926.414635628221,
            "bin_end": 1082.3111593966303,
            "count": 2
           },
           {
            "bin_start": 1082.3111593966303,
            "bin_end": 1238.2076831650397,
            "count": 3
           },
           {
            "bin_start": 1238.2076831650397,
            "bin_end": 1394.104206933449,
            "count": 0
           },
           {
            "bin_start": 1394.104206933449,
            "bin_end": 1550.0007307018582,
            "count": 2
           },
           {
            "bin_start": 1550.0007307018582,
            "bin_end": 1705.8972544702676,
            "count": 2
           }
          ]
         }
        },
        {
         "name": "_deepnote_index_column",
         "dtype": "int64"
        }
       ],
       "rows": [
        {
         "Timestamp": "2022-01-17T00:00:00.000000",
         "Temp (C)": 18.71,
         "Wind Speed (m/s)": 3.67,
         "Predicted Active Power (kW)": 146.93201678617464,
         "_deepnote_index_column": 0
        },
        {
         "Timestamp": "2022-01-17T03:00:00.000000",
         "Temp (C)": 20.34,
         "Wind Speed (m/s)": 3.08,
         "Predicted Active Power (kW)": 146.93201678617464,
         "_deepnote_index_column": 1
        },
        {
         "Timestamp": "2022-01-17T06:00:00.000000",
         "Temp (C)": 21.85,
         "Wind Speed (m/s)": 1.01,
         "Predicted Active Power (kW)": 146.93201678617464,
         "_deepnote_index_column": 2
        },
        {
         "Timestamp": "2022-01-17T09:00:00.000000",
         "Temp (C)": 21.36,
         "Wind Speed (m/s)": 0.17,
         "Predicted Active Power (kW)": 146.93201678617464,
         "_deepnote_index_column": 3
        },
        {
         "Timestamp": "2022-01-17T12:00:00.000000",
         "Temp (C)": 18.97,
         "Wind Speed (m/s)": 0.25,
         "Predicted Active Power (kW)": 146.93201678617464,
         "_deepnote_index_column": 4
        },
        {
         "Timestamp": "2022-01-17T15:00:00.000000",
         "Temp (C)": 17.89,
         "Wind Speed (m/s)": 1.82,
         "Predicted Active Power (kW)": 146.93201678617464,
         "_deepnote_index_column": 5
        },
        {
         "Timestamp": "2022-01-17T18:00:00.000000",
         "Temp (C)": 16.21,
         "Wind Speed (m/s)": 3.03,
         "Predicted Active Power (kW)": 146.93201678617464,
         "_deepnote_index_column": 6
        },
        {
         "Timestamp": "2022-01-17T21:00:00.000000",
         "Temp (C)": 14.54,
         "Wind Speed (m/s)": 5.06,
         "Predicted Active Power (kW)": 226.02036901608184,
         "_deepnote_index_column": 7
        },
        {
         "Timestamp": "2022-01-18T00:00:00.000000",
         "Temp (C)": 16.64,
         "Wind Speed (m/s)": 4.7,
         "Predicted Active Power (kW)": 180.24845770620058,
         "_deepnote_index_column": 8
        },
        {
         "Timestamp": "2022-01-18T03:00:00.000000",
         "Temp (C)": 21.2,
         "Wind Speed (m/s)": 3.89,
         "Predicted Active Power (kW)": 146.93201678617464,
         "_deepnote_index_column": 9
        }
       ]
      },
      "text/plain": "             Timestamp  Temp (C)  Wind Speed (m/s)  \\\n0  2022-01-17 00:00:00     18.71              3.67   \n1  2022-01-17 03:00:00     20.34              3.08   \n2  2022-01-17 06:00:00     21.85              1.01   \n3  2022-01-17 09:00:00     21.36              0.17   \n4  2022-01-17 12:00:00     18.97              0.25   \n5  2022-01-17 15:00:00     17.89              1.82   \n6  2022-01-17 18:00:00     16.21              3.03   \n7  2022-01-17 21:00:00     14.54              5.06   \n8  2022-01-18 00:00:00     16.64              4.70   \n9  2022-01-18 03:00:00     21.20              3.89   \n10 2022-01-18 06:00:00     23.78              2.15   \n11 2022-01-18 09:00:00     23.25              3.02   \n12 2022-01-18 12:00:00     16.42              1.54   \n13 2022-01-18 15:00:00     15.35              2.10   \n14 2022-01-18 18:00:00     14.43              4.96   \n15 2022-01-18 21:00:00     14.66              7.45   \n16 2022-01-19 00:00:00     22.14              7.48   \n17 2022-01-19 03:00:00     27.52              6.41   \n18 2022-01-19 06:00:00     29.29              6.13   \n19 2022-01-19 09:00:00     27.73              6.10   \n20 2022-01-19 12:00:00     22.41              3.75   \n21 2022-01-19 15:00:00     20.12              5.90   \n22 2022-01-19 18:00:00     18.71              6.43   \n23 2022-01-19 21:00:00     18.32              8.55   \n24 2022-01-20 00:00:00     24.20             10.27   \n25 2022-01-20 03:00:00     29.50             10.06   \n26 2022-01-20 06:00:00     30.76              9.17   \n27 2022-01-20 09:00:00     28.99              7.95   \n28 2022-01-20 12:00:00     25.70              7.65   \n29 2022-01-20 15:00:00     23.33              7.04   \n30 2022-01-20 18:00:00     21.87              6.41   \n31 2022-01-20 21:00:00     21.45              8.19   \n32 2022-01-21 00:00:00     25.11             10.82   \n33 2022-01-21 03:00:00     28.54             10.73   \n34 2022-01-21 06:00:00     28.56              9.13   \n35 2022-01-21 09:00:00     27.86              6.74   \n36 2022-01-21 12:00:00     26.59              7.32   \n37 2022-01-21 15:00:00     24.74              8.65   \n38 2022-01-21 18:00:00     23.47              7.62   \n39 2022-01-21 21:00:00     23.06              6.06   \n\n    Predicted Active Power (kW)  \n0                    146.932017  \n1                    146.932017  \n2                    146.932017  \n3                    146.932017  \n4                    146.932017  \n5                    146.932017  \n6                    146.932017  \n7                    226.020369  \n8                    180.248458  \n9                    146.932017  \n10                   146.932017  \n11                   146.932017  \n12                   146.932017  \n13                   146.932017  \n14                   226.020369  \n15                   693.891629  \n16                   693.891629  \n17                   428.224762  \n18                   399.381731  \n19                   399.381731  \n20                   146.932017  \n21                   345.005479  \n22                   492.784737  \n23                   995.037923  \n24                  1550.078253  \n25                  1423.301837  \n26                  1139.230964  \n27                   827.686178  \n28                   751.609100  \n29                   588.309433  \n30                   492.784737  \n31                   995.037923  \n32                  1705.897254  \n33                  1530.803703  \n34                  1139.230964  \n35                   525.580660  \n36                   625.568552  \n37                  1106.397085  \n38                   751.609100  \n39                   345.005479  ",
      "text/html": "<div>\n<style scoped>\n    .dataframe tbody tr th:only-of-type {\n        vertical-align: middle;\n    }\n\n    .dataframe tbody tr th {\n        vertical-align: top;\n    }\n\n    .dataframe thead th {\n        text-align: right;\n    }\n</style>\n<table border=\"1\" class=\"dataframe\">\n  <thead>\n    <tr style=\"text-align: right;\">\n      <th></th>\n      <th>Timestamp</th>\n      <th>Temp (C)</th>\n      <th>Wind Speed (m/s)</th>\n      <th>Predicted Active Power (kW)</th>\n    </tr>\n  </thead>\n  <tbody>\n    <tr>\n      <th>0</th>\n      <td>2022-01-17 00:00:00</td>\n      <td>18.71</td>\n      <td>3.67</td>\n      <td>146.932017</td>\n    </tr>\n    <tr>\n      <th>1</th>\n      <td>2022-01-17 03:00:00</td>\n      <td>20.34</td>\n      <td>3.08</td>\n      <td>146.932017</td>\n    </tr>\n    <tr>\n      <th>2</th>\n      <td>2022-01-17 06:00:00</td>\n      <td>21.85</td>\n      <td>1.01</td>\n      <td>146.932017</td>\n    </tr>\n    <tr>\n      <th>3</th>\n      <td>2022-01-17 09:00:00</td>\n      <td>21.36</td>\n      <td>0.17</td>\n      <td>146.932017</td>\n    </tr>\n    <tr>\n      <th>4</th>\n      <td>2022-01-17 12:00:00</td>\n      <td>18.97</td>\n      <td>0.25</td>\n      <td>146.932017</td>\n    </tr>\n    <tr>\n      <th>5</th>\n      <td>2022-01-17 15:00:00</td>\n      <td>17.89</td>\n      <td>1.82</td>\n      <td>146.932017</td>\n    </tr>\n    <tr>\n      <th>6</th>\n      <td>2022-01-17 18:00:00</td>\n      <td>16.21</td>\n      <td>3.03</td>\n      <td>146.932017</td>\n    </tr>\n    <tr>\n      <th>7</th>\n      <td>2022-01-17 21:00:00</td>\n      <td>14.54</td>\n      <td>5.06</td>\n      <td>226.020369</td>\n    </tr>\n    <tr>\n      <th>8</th>\n      <td>2022-01-18 00:00:00</td>\n      <td>16.64</td>\n      <td>4.70</td>\n      <td>180.248458</td>\n    </tr>\n    <tr>\n      <th>9</th>\n      <td>2022-01-18 03:00:00</td>\n      <td>21.20</td>\n      <td>3.89</td>\n      <td>146.932017</td>\n    </tr>\n    <tr>\n      <th>10</th>\n      <td>2022-01-18 06:00:00</td>\n      <td>23.78</td>\n      <td>2.15</td>\n      <td>146.932017</td>\n    </tr>\n    <tr>\n      <th>11</th>\n      <td>2022-01-18 09:00:00</td>\n      <td>23.25</td>\n      <td>3.02</td>\n      <td>146.932017</td>\n    </tr>\n    <tr>\n      <th>12</th>\n      <td>2022-01-18 12:00:00</td>\n      <td>16.42</td>\n      <td>1.54</td>\n      <td>146.932017</td>\n    </tr>\n    <tr>\n      <th>13</th>\n      <td>2022-01-18 15:00:00</td>\n      <td>15.35</td>\n      <td>2.10</td>\n      <td>146.932017</td>\n    </tr>\n    <tr>\n      <th>14</th>\n      <td>2022-01-18 18:00:00</td>\n      <td>14.43</td>\n      <td>4.96</td>\n      <td>226.020369</td>\n    </tr>\n    <tr>\n      <th>15</th>\n      <td>2022-01-18 21:00:00</td>\n      <td>14.66</td>\n      <td>7.45</td>\n      <td>693.891629</td>\n    </tr>\n    <tr>\n      <th>16</th>\n      <td>2022-01-19 00:00:00</td>\n      <td>22.14</td>\n      <td>7.48</td>\n      <td>693.891629</td>\n    </tr>\n    <tr>\n      <th>17</th>\n      <td>2022-01-19 03:00:00</td>\n      <td>27.52</td>\n      <td>6.41</td>\n      <td>428.224762</td>\n    </tr>\n    <tr>\n      <th>18</th>\n      <td>2022-01-19 06:00:00</td>\n      <td>29.29</td>\n      <td>6.13</td>\n      <td>399.381731</td>\n    </tr>\n    <tr>\n      <th>19</th>\n      <td>2022-01-19 09:00:00</td>\n      <td>27.73</td>\n      <td>6.10</td>\n      <td>399.381731</td>\n    </tr>\n    <tr>\n      <th>20</th>\n      <td>2022-01-19 12:00:00</td>\n      <td>22.41</td>\n      <td>3.75</td>\n      <td>146.932017</td>\n    </tr>\n    <tr>\n      <th>21</th>\n      <td>2022-01-19 15:00:00</td>\n      <td>20.12</td>\n      <td>5.90</td>\n      <td>345.005479</td>\n    </tr>\n    <tr>\n      <th>22</th>\n      <td>2022-01-19 18:00:00</td>\n      <td>18.71</td>\n      <td>6.43</td>\n      <td>492.784737</td>\n    </tr>\n    <tr>\n      <th>23</th>\n      <td>2022-01-19 21:00:00</td>\n      <td>18.32</td>\n      <td>8.55</td>\n      <td>995.037923</td>\n    </tr>\n    <tr>\n      <th>24</th>\n      <td>2022-01-20 00:00:00</td>\n      <td>24.20</td>\n      <td>10.27</td>\n      <td>1550.078253</td>\n    </tr>\n    <tr>\n      <th>25</th>\n      <td>2022-01-20 03:00:00</td>\n      <td>29.50</td>\n      <td>10.06</td>\n      <td>1423.301837</td>\n    </tr>\n    <tr>\n      <th>26</th>\n      <td>2022-01-20 06:00:00</td>\n      <td>30.76</td>\n      <td>9.17</td>\n      <td>1139.230964</td>\n    </tr>\n    <tr>\n      <th>27</th>\n      <td>2022-01-20 09:00:00</td>\n      <td>28.99</td>\n      <td>7.95</td>\n      <td>827.686178</td>\n    </tr>\n    <tr>\n      <th>28</th>\n      <td>2022-01-20 12:00:00</td>\n      <td>25.70</td>\n      <td>7.65</td>\n      <td>751.609100</td>\n    </tr>\n    <tr>\n      <th>29</th>\n      <td>2022-01-20 15:00:00</td>\n      <td>23.33</td>\n      <td>7.04</td>\n      <td>588.309433</td>\n    </tr>\n    <tr>\n      <th>30</th>\n      <td>2022-01-20 18:00:00</td>\n      <td>21.87</td>\n      <td>6.41</td>\n      <td>492.784737</td>\n    </tr>\n    <tr>\n      <th>31</th>\n      <td>2022-01-20 21:00:00</td>\n      <td>21.45</td>\n      <td>8.19</td>\n      <td>995.037923</td>\n    </tr>\n    <tr>\n      <th>32</th>\n      <td>2022-01-21 00:00:00</td>\n      <td>25.11</td>\n      <td>10.82</td>\n      <td>1705.897254</td>\n    </tr>\n    <tr>\n      <th>33</th>\n      <td>2022-01-21 03:00:00</td>\n      <td>28.54</td>\n      <td>10.73</td>\n      <td>1530.803703</td>\n    </tr>\n    <tr>\n      <th>34</th>\n      <td>2022-01-21 06:00:00</td>\n      <td>28.56</td>\n      <td>9.13</td>\n      <td>1139.230964</td>\n    </tr>\n    <tr>\n      <th>35</th>\n      <td>2022-01-21 09:00:00</td>\n      <td>27.86</td>\n      <td>6.74</td>\n      <td>525.580660</td>\n    </tr>\n    <tr>\n      <th>36</th>\n      <td>2022-01-21 12:00:00</td>\n      <td>26.59</td>\n      <td>7.32</td>\n      <td>625.568552</td>\n    </tr>\n    <tr>\n      <th>37</th>\n      <td>2022-01-21 15:00:00</td>\n      <td>24.74</td>\n      <td>8.65</td>\n      <td>1106.397085</td>\n    </tr>\n    <tr>\n      <th>38</th>\n      <td>2022-01-21 18:00:00</td>\n      <td>23.47</td>\n      <td>7.62</td>\n      <td>751.609100</td>\n    </tr>\n    <tr>\n      <th>39</th>\n      <td>2022-01-21 21:00:00</td>\n      <td>23.06</td>\n      <td>6.06</td>\n      <td>345.005479</td>\n    </tr>\n  </tbody>\n</table>\n</div>"
     },
     "metadata": {}
    }
   ]
  },
  {
   "cell_type": "code",
   "metadata": {
    "cell_id": "00057-cbf66527-bce0-41c1-961d-29498c83e5f7",
    "deepnote_output_heights": [
     602
    ],
    "deepnote_to_be_reexecuted": false,
    "source_hash": "e889866d",
    "execution_start": 1642371265746,
    "execution_millis": 302,
    "deepnote_cell_type": "code"
   },
   "source": "import plotly.express as px\n\npx.scatter_3d(\n    dfWeatherForecast,\n    x=\"Temp (C)\",\n    y=\"Wind Speed (m/s)\",\n    z=\"Predicted Active Power (kW)\",\n    size=\"Predicted Active Power (kW)\",\n    color=\"Predicted Active Power (kW)\",\n    log_x=False,\n    size_max=100,\n    range_x=[0, 90],\n    range_y=[0, 12],\n    height=600,\n)",
   "execution_count": 51,
   "outputs": [
    {
     "data": {
      "text/html": "<html>\n<head><meta charset=\"utf-8\" /></head>\n<body>\n    <div>            <script src=\"https://cdnjs.cloudflare.com/ajax/libs/mathjax/2.7.5/MathJax.js?config=TeX-AMS-MML_SVG\"></script><script type=\"text/javascript\">if (window.MathJax) {MathJax.Hub.Config({SVG: {font: \"STIX-Web\"}});}</script>                <script type=\"text/javascript\">window.PlotlyConfig = {MathJaxConfig: 'local'};</script>\n        <script src=\"https://cdn.plot.ly/plotly-2.6.3.min.js\"></script>                <div id=\"ce910d81-8735-42d1-b534-d89ced690c05\" class=\"plotly-graph-div\" style=\"height:600px; width:100%;\"></div>            <script type=\"text/javascript\">                                    window.PLOTLYENV=window.PLOTLYENV || {};                                    if (document.getElementById(\"ce910d81-8735-42d1-b534-d89ced690c05\")) {                    Plotly.newPlot(                        \"ce910d81-8735-42d1-b534-d89ced690c05\",                        [{\"hovertemplate\":\"Temp (C)=%{x}<br>Wind Speed (m/s)=%{y}<br>Predicted Active Power (kW)=%{marker.color}<extra></extra>\",\"legendgroup\":\"\",\"marker\":{\"color\":[146.93201678617464,146.93201678617464,146.93201678617464,146.93201678617464,146.93201678617464,146.93201678617464,146.93201678617464,226.02036901608184,180.24845770620058,146.93201678617464,146.93201678617464,146.93201678617464,146.93201678617464,146.93201678617464,226.02036901608184,693.8916291358045,693.8916291358045,428.2247617872021,399.3817313309835,399.3817313309835,146.93201678617464,345.0054794467932,492.78473704656784,995.0379227872573,1550.0782526060982,1423.301837317848,1139.2309640784417,827.6861776605754,751.6090995172348,588.3094332795984,492.78473704656784,995.0379227872573,1705.8972544702676,1530.8037028853134,1139.2309640784417,525.580660385027,625.5685515626764,1106.3970850006692,751.6090995172348,345.0054794467932],\"coloraxis\":\"coloraxis\",\"size\":[146.93201678617464,146.93201678617464,146.93201678617464,146.93201678617464,146.93201678617464,146.93201678617464,146.93201678617464,226.02036901608184,180.24845770620058,146.93201678617464,146.93201678617464,146.93201678617464,146.93201678617464,146.93201678617464,226.02036901608184,693.8916291358045,693.8916291358045,428.2247617872021,399.3817313309835,399.3817313309835,146.93201678617464,345.0054794467932,492.78473704656784,995.0379227872573,1550.0782526060982,1423.301837317848,1139.2309640784417,827.6861776605754,751.6090995172348,588.3094332795984,492.78473704656784,995.0379227872573,1705.8972544702676,1530.8037028853134,1139.2309640784417,525.580660385027,625.5685515626764,1106.3970850006692,751.6090995172348,345.0054794467932],\"sizemode\":\"area\",\"sizeref\":0.17058972544702677,\"symbol\":\"circle\"},\"mode\":\"markers\",\"name\":\"\",\"scene\":\"scene\",\"showlegend\":false,\"x\":[18.71,20.34,21.85,21.36,18.97,17.89,16.21,14.54,16.64,21.2,23.78,23.25,16.42,15.35,14.43,14.66,22.14,27.52,29.29,27.73,22.41,20.12,18.71,18.32,24.2,29.5,30.76,28.99,25.7,23.33,21.87,21.45,25.11,28.54,28.56,27.86,26.59,24.74,23.47,23.06],\"y\":[3.67,3.08,1.01,0.17,0.25,1.82,3.03,5.06,4.7,3.89,2.15,3.02,1.54,2.1,4.96,7.45,7.48,6.41,6.13,6.1,3.75,5.9,6.43,8.55,10.27,10.06,9.17,7.95,7.65,7.04,6.41,8.19,10.82,10.73,9.13,6.74,7.32,8.65,7.62,6.06],\"z\":[146.93201678617464,146.93201678617464,146.93201678617464,146.93201678617464,146.93201678617464,146.93201678617464,146.93201678617464,226.02036901608184,180.24845770620058,146.93201678617464,146.93201678617464,146.93201678617464,146.93201678617464,146.93201678617464,226.02036901608184,693.8916291358045,693.8916291358045,428.2247617872021,399.3817313309835,399.3817313309835,146.93201678617464,345.0054794467932,492.78473704656784,995.0379227872573,1550.0782526060982,1423.301837317848,1139.2309640784417,827.6861776605754,751.6090995172348,588.3094332795984,492.78473704656784,995.0379227872573,1705.8972544702676,1530.8037028853134,1139.2309640784417,525.580660385027,625.5685515626764,1106.3970850006692,751.6090995172348,345.0054794467932],\"type\":\"scatter3d\"}],                        {\"template\":{\"data\":{\"bar\":[{\"error_x\":{\"color\":\"#2a3f5f\"},\"error_y\":{\"color\":\"#2a3f5f\"},\"marker\":{\"line\":{\"color\":\"#E5ECF6\",\"width\":0.5},\"pattern\":{\"fillmode\":\"overlay\",\"size\":10,\"solidity\":0.2}},\"type\":\"bar\"}],\"barpolar\":[{\"marker\":{\"line\":{\"color\":\"#E5ECF6\",\"width\":0.5},\"pattern\":{\"fillmode\":\"overlay\",\"size\":10,\"solidity\":0.2}},\"type\":\"barpolar\"}],\"carpet\":[{\"aaxis\":{\"endlinecolor\":\"#2a3f5f\",\"gridcolor\":\"white\",\"linecolor\":\"white\",\"minorgridcolor\":\"white\",\"startlinecolor\":\"#2a3f5f\"},\"baxis\":{\"endlinecolor\":\"#2a3f5f\",\"gridcolor\":\"white\",\"linecolor\":\"white\",\"minorgridcolor\":\"white\",\"startlinecolor\":\"#2a3f5f\"},\"type\":\"carpet\"}],\"choropleth\":[{\"colorbar\":{\"outlinewidth\":0,\"ticks\":\"\"},\"type\":\"choropleth\"}],\"contour\":[{\"colorbar\":{\"outlinewidth\":0,\"ticks\":\"\"},\"colorscale\":[[0.0,\"#0d0887\"],[0.1111111111111111,\"#46039f\"],[0.2222222222222222,\"#7201a8\"],[0.3333333333333333,\"#9c179e\"],[0.4444444444444444,\"#bd3786\"],[0.5555555555555556,\"#d8576b\"],[0.6666666666666666,\"#ed7953\"],[0.7777777777777778,\"#fb9f3a\"],[0.8888888888888888,\"#fdca26\"],[1.0,\"#f0f921\"]],\"type\":\"contour\"}],\"contourcarpet\":[{\"colorbar\":{\"outlinewidth\":0,\"ticks\":\"\"},\"type\":\"contourcarpet\"}],\"heatmap\":[{\"colorbar\":{\"outlinewidth\":0,\"ticks\":\"\"},\"colorscale\":[[0.0,\"#0d0887\"],[0.1111111111111111,\"#46039f\"],[0.2222222222222222,\"#7201a8\"],[0.3333333333333333,\"#9c179e\"],[0.4444444444444444,\"#bd3786\"],[0.5555555555555556,\"#d8576b\"],[0.6666666666666666,\"#ed7953\"],[0.7777777777777778,\"#fb9f3a\"],[0.8888888888888888,\"#fdca26\"],[1.0,\"#f0f921\"]],\"type\":\"heatmap\"}],\"heatmapgl\":[{\"colorbar\":{\"outlinewidth\":0,\"ticks\":\"\"},\"colorscale\":[[0.0,\"#0d0887\"],[0.1111111111111111,\"#46039f\"],[0.2222222222222222,\"#7201a8\"],[0.3333333333333333,\"#9c179e\"],[0.4444444444444444,\"#bd3786\"],[0.5555555555555556,\"#d8576b\"],[0.6666666666666666,\"#ed7953\"],[0.7777777777777778,\"#fb9f3a\"],[0.8888888888888888,\"#fdca26\"],[1.0,\"#f0f921\"]],\"type\":\"heatmapgl\"}],\"histogram\":[{\"marker\":{\"pattern\":{\"fillmode\":\"overlay\",\"size\":10,\"solidity\":0.2}},\"type\":\"histogram\"}],\"histogram2d\":[{\"colorbar\":{\"outlinewidth\":0,\"ticks\":\"\"},\"colorscale\":[[0.0,\"#0d0887\"],[0.1111111111111111,\"#46039f\"],[0.2222222222222222,\"#7201a8\"],[0.3333333333333333,\"#9c179e\"],[0.4444444444444444,\"#bd3786\"],[0.5555555555555556,\"#d8576b\"],[0.6666666666666666,\"#ed7953\"],[0.7777777777777778,\"#fb9f3a\"],[0.8888888888888888,\"#fdca26\"],[1.0,\"#f0f921\"]],\"type\":\"histogram2d\"}],\"histogram2dcontour\":[{\"colorbar\":{\"outlinewidth\":0,\"ticks\":\"\"},\"colorscale\":[[0.0,\"#0d0887\"],[0.1111111111111111,\"#46039f\"],[0.2222222222222222,\"#7201a8\"],[0.3333333333333333,\"#9c179e\"],[0.4444444444444444,\"#bd3786\"],[0.5555555555555556,\"#d8576b\"],[0.6666666666666666,\"#ed7953\"],[0.7777777777777778,\"#fb9f3a\"],[0.8888888888888888,\"#fdca26\"],[1.0,\"#f0f921\"]],\"type\":\"histogram2dcontour\"}],\"mesh3d\":[{\"colorbar\":{\"outlinewidth\":0,\"ticks\":\"\"},\"type\":\"mesh3d\"}],\"parcoords\":[{\"line\":{\"colorbar\":{\"outlinewidth\":0,\"ticks\":\"\"}},\"type\":\"parcoords\"}],\"pie\":[{\"automargin\":true,\"type\":\"pie\"}],\"scatter\":[{\"marker\":{\"colorbar\":{\"outlinewidth\":0,\"ticks\":\"\"}},\"type\":\"scatter\"}],\"scatter3d\":[{\"line\":{\"colorbar\":{\"outlinewidth\":0,\"ticks\":\"\"}},\"marker\":{\"colorbar\":{\"outlinewidth\":0,\"ticks\":\"\"}},\"type\":\"scatter3d\"}],\"scattercarpet\":[{\"marker\":{\"colorbar\":{\"outlinewidth\":0,\"ticks\":\"\"}},\"type\":\"scattercarpet\"}],\"scattergeo\":[{\"marker\":{\"colorbar\":{\"outlinewidth\":0,\"ticks\":\"\"}},\"type\":\"scattergeo\"}],\"scattergl\":[{\"marker\":{\"colorbar\":{\"outlinewidth\":0,\"ticks\":\"\"}},\"type\":\"scattergl\"}],\"scattermapbox\":[{\"marker\":{\"colorbar\":{\"outlinewidth\":0,\"ticks\":\"\"}},\"type\":\"scattermapbox\"}],\"scatterpolar\":[{\"marker\":{\"colorbar\":{\"outlinewidth\":0,\"ticks\":\"\"}},\"type\":\"scatterpolar\"}],\"scatterpolargl\":[{\"marker\":{\"colorbar\":{\"outlinewidth\":0,\"ticks\":\"\"}},\"type\":\"scatterpolargl\"}],\"scatterternary\":[{\"marker\":{\"colorbar\":{\"outlinewidth\":0,\"ticks\":\"\"}},\"type\":\"scatterternary\"}],\"surface\":[{\"colorbar\":{\"outlinewidth\":0,\"ticks\":\"\"},\"colorscale\":[[0.0,\"#0d0887\"],[0.1111111111111111,\"#46039f\"],[0.2222222222222222,\"#7201a8\"],[0.3333333333333333,\"#9c179e\"],[0.4444444444444444,\"#bd3786\"],[0.5555555555555556,\"#d8576b\"],[0.6666666666666666,\"#ed7953\"],[0.7777777777777778,\"#fb9f3a\"],[0.8888888888888888,\"#fdca26\"],[1.0,\"#f0f921\"]],\"type\":\"surface\"}],\"table\":[{\"cells\":{\"fill\":{\"color\":\"#EBF0F8\"},\"line\":{\"color\":\"white\"}},\"header\":{\"fill\":{\"color\":\"#C8D4E3\"},\"line\":{\"color\":\"white\"}},\"type\":\"table\"}]},\"layout\":{\"annotationdefaults\":{\"arrowcolor\":\"#2a3f5f\",\"arrowhead\":0,\"arrowwidth\":1},\"autotypenumbers\":\"strict\",\"coloraxis\":{\"colorbar\":{\"outlinewidth\":0,\"ticks\":\"\"}},\"colorscale\":{\"diverging\":[[0,\"#8e0152\"],[0.1,\"#c51b7d\"],[0.2,\"#de77ae\"],[0.3,\"#f1b6da\"],[0.4,\"#fde0ef\"],[0.5,\"#f7f7f7\"],[0.6,\"#e6f5d0\"],[0.7,\"#b8e186\"],[0.8,\"#7fbc41\"],[0.9,\"#4d9221\"],[1,\"#276419\"]],\"sequential\":[[0.0,\"#0d0887\"],[0.1111111111111111,\"#46039f\"],[0.2222222222222222,\"#7201a8\"],[0.3333333333333333,\"#9c179e\"],[0.4444444444444444,\"#bd3786\"],[0.5555555555555556,\"#d8576b\"],[0.6666666666666666,\"#ed7953\"],[0.7777777777777778,\"#fb9f3a\"],[0.8888888888888888,\"#fdca26\"],[1.0,\"#f0f921\"]],\"sequentialminus\":[[0.0,\"#0d0887\"],[0.1111111111111111,\"#46039f\"],[0.2222222222222222,\"#7201a8\"],[0.3333333333333333,\"#9c179e\"],[0.4444444444444444,\"#bd3786\"],[0.5555555555555556,\"#d8576b\"],[0.6666666666666666,\"#ed7953\"],[0.7777777777777778,\"#fb9f3a\"],[0.8888888888888888,\"#fdca26\"],[1.0,\"#f0f921\"]]},\"colorway\":[\"#636efa\",\"#EF553B\",\"#00cc96\",\"#ab63fa\",\"#FFA15A\",\"#19d3f3\",\"#FF6692\",\"#B6E880\",\"#FF97FF\",\"#FECB52\"],\"font\":{\"color\":\"#2a3f5f\"},\"geo\":{\"bgcolor\":\"white\",\"lakecolor\":\"white\",\"landcolor\":\"#E5ECF6\",\"showlakes\":true,\"showland\":true,\"subunitcolor\":\"white\"},\"hoverlabel\":{\"align\":\"left\"},\"hovermode\":\"closest\",\"mapbox\":{\"style\":\"light\"},\"paper_bgcolor\":\"white\",\"plot_bgcolor\":\"#E5ECF6\",\"polar\":{\"angularaxis\":{\"gridcolor\":\"white\",\"linecolor\":\"white\",\"ticks\":\"\"},\"bgcolor\":\"#E5ECF6\",\"radialaxis\":{\"gridcolor\":\"white\",\"linecolor\":\"white\",\"ticks\":\"\"}},\"scene\":{\"xaxis\":{\"backgroundcolor\":\"#E5ECF6\",\"gridcolor\":\"white\",\"gridwidth\":2,\"linecolor\":\"white\",\"showbackground\":true,\"ticks\":\"\",\"zerolinecolor\":\"white\"},\"yaxis\":{\"backgroundcolor\":\"#E5ECF6\",\"gridcolor\":\"white\",\"gridwidth\":2,\"linecolor\":\"white\",\"showbackground\":true,\"ticks\":\"\",\"zerolinecolor\":\"white\"},\"zaxis\":{\"backgroundcolor\":\"#E5ECF6\",\"gridcolor\":\"white\",\"gridwidth\":2,\"linecolor\":\"white\",\"showbackground\":true,\"ticks\":\"\",\"zerolinecolor\":\"white\"}},\"shapedefaults\":{\"line\":{\"color\":\"#2a3f5f\"}},\"ternary\":{\"aaxis\":{\"gridcolor\":\"white\",\"linecolor\":\"white\",\"ticks\":\"\"},\"baxis\":{\"gridcolor\":\"white\",\"linecolor\":\"white\",\"ticks\":\"\"},\"bgcolor\":\"#E5ECF6\",\"caxis\":{\"gridcolor\":\"white\",\"linecolor\":\"white\",\"ticks\":\"\"}},\"title\":{\"x\":0.05},\"xaxis\":{\"automargin\":true,\"gridcolor\":\"white\",\"linecolor\":\"white\",\"ticks\":\"\",\"title\":{\"standoff\":15},\"zerolinecolor\":\"white\",\"zerolinewidth\":2},\"yaxis\":{\"automargin\":true,\"gridcolor\":\"white\",\"linecolor\":\"white\",\"ticks\":\"\",\"title\":{\"standoff\":15},\"zerolinecolor\":\"white\",\"zerolinewidth\":2}}},\"scene\":{\"domain\":{\"x\":[0.0,1.0],\"y\":[0.0,1.0]},\"xaxis\":{\"title\":{\"text\":\"Temp (C)\"},\"range\":[0,90]},\"yaxis\":{\"title\":{\"text\":\"Wind Speed (m/s)\"},\"range\":[0,12]},\"zaxis\":{\"title\":{\"text\":\"Predicted Active Power (kW)\"}}},\"coloraxis\":{\"colorbar\":{\"title\":{\"text\":\"Predicted Active Power (kW)\"}},\"colorscale\":[[0.0,\"#0d0887\"],[0.1111111111111111,\"#46039f\"],[0.2222222222222222,\"#7201a8\"],[0.3333333333333333,\"#9c179e\"],[0.4444444444444444,\"#bd3786\"],[0.5555555555555556,\"#d8576b\"],[0.6666666666666666,\"#ed7953\"],[0.7777777777777778,\"#fb9f3a\"],[0.8888888888888888,\"#fdca26\"],[1.0,\"#f0f921\"]]},\"legend\":{\"tracegroupgap\":0,\"itemsizing\":\"constant\"},\"margin\":{\"t\":60},\"height\":600},                        {\"responsive\": true}                    ).then(function(){\n                            \nvar gd = document.getElementById('ce910d81-8735-42d1-b534-d89ced690c05');\nvar x = new MutationObserver(function (mutations, observer) {{\n        var display = window.getComputedStyle(gd).display;\n        if (!display || display === 'none') {{\n            console.log([gd, 'removed!']);\n            Plotly.purge(gd);\n            observer.disconnect();\n        }}\n}});\n\n// Listen for the removal of the full notebook cells\nvar notebookContainer = gd.closest('#notebook-container');\nif (notebookContainer) {{\n    x.observe(notebookContainer, {childList: true});\n}}\n\n// Listen for the clearing of the current output cell\nvar outputEl = gd.closest('.output');\nif (outputEl) {{\n    x.observe(outputEl, {childList: true});\n}}\n\n                        })                };                            </script>        </div>\n</body>\n</html>"
     },
     "metadata": {},
     "output_type": "display_data"
    }
   ]
  },
  {
   "cell_type": "code",
   "source": "",
   "metadata": {
    "cell_id": "a44c5d9d-d49a-47cb-8cff-fd5438bca76e",
    "tags": [],
    "deepnote_to_be_reexecuted": true,
    "source_hash": "b623e53d",
    "execution_start": 1642358622254,
    "execution_millis": 4,
    "deepnote_cell_type": "code"
   },
   "outputs": [],
   "execution_count": null
  },
  {
   "cell_type": "markdown",
   "source": "<a style='text-decoration:none;line-height:16px;display:flex;color:#5B5B62;padding:10px;justify-content:end;' href='https://deepnote.com?utm_source=created-in-deepnote-cell&projectId=27d58a9b-9aaa-47c5-b041-7e32d6d185a5' target=\"_blank\">\n<img alt='Created in deepnote.com' style='display:inline;max-height:16px;margin:0px;margin-right:7.5px;' src='data:image/svg+xml;base64,PD94bWwgdmVyc2lvbj0iMS4wIiBlbmNvZGluZz0iVVRGLTgiPz4KPHN2ZyB3aWR0aD0iODBweCIgaGVpZ2h0PSI4MHB4IiB2aWV3Qm94PSIwIDAgODAgODAiIHZlcnNpb249IjEuMSIgeG1sbnM9Imh0dHA6Ly93d3cudzMub3JnLzIwMDAvc3ZnIiB4bWxuczp4bGluaz0iaHR0cDovL3d3dy53My5vcmcvMTk5OS94bGluayI+CiAgICA8IS0tIEdlbmVyYXRvcjogU2tldGNoIDU0LjEgKDc2NDkwKSAtIGh0dHBzOi8vc2tldGNoYXBwLmNvbSAtLT4KICAgIDx0aXRsZT5Hcm91cCAzPC90aXRsZT4KICAgIDxkZXNjPkNyZWF0ZWQgd2l0aCBTa2V0Y2guPC9kZXNjPgogICAgPGcgaWQ9IkxhbmRpbmciIHN0cm9rZT0ibm9uZSIgc3Ryb2tlLXdpZHRoPSIxIiBmaWxsPSJub25lIiBmaWxsLXJ1bGU9ImV2ZW5vZGQiPgogICAgICAgIDxnIGlkPSJBcnRib2FyZCIgdHJhbnNmb3JtPSJ0cmFuc2xhdGUoLTEyMzUuMDAwMDAwLCAtNzkuMDAwMDAwKSI+CiAgICAgICAgICAgIDxnIGlkPSJHcm91cC0zIiB0cmFuc2Zvcm09InRyYW5zbGF0ZSgxMjM1LjAwMDAwMCwgNzkuMDAwMDAwKSI+CiAgICAgICAgICAgICAgICA8cG9seWdvbiBpZD0iUGF0aC0yMCIgZmlsbD0iIzAyNjVCNCIgcG9pbnRzPSIyLjM3NjIzNzYyIDgwIDM4LjA0NzY2NjcgODAgNTcuODIxNzgyMiA3My44MDU3NTkyIDU3LjgyMTc4MjIgMzIuNzU5MjczOSAzOS4xNDAyMjc4IDMxLjY4MzE2ODMiPjwvcG9seWdvbj4KICAgICAgICAgICAgICAgIDxwYXRoIGQ9Ik0zNS4wMDc3MTgsODAgQzQyLjkwNjIwMDcsNzYuNDU0OTM1OCA0Ny41NjQ5MTY3LDcxLjU0MjI2NzEgNDguOTgzODY2LDY1LjI2MTk5MzkgQzUxLjExMjI4OTksNTUuODQxNTg0MiA0MS42NzcxNzk1LDQ5LjIxMjIyODQgMjUuNjIzOTg0Niw0OS4yMTIyMjg0IEMyNS40ODQ5Mjg5LDQ5LjEyNjg0NDggMjkuODI2MTI5Niw0My4yODM4MjQ4IDM4LjY0NzU4NjksMzEuNjgzMTY4MyBMNzIuODcxMjg3MSwzMi41NTQ0MjUgTDY1LjI4MDk3Myw2Ny42NzYzNDIxIEw1MS4xMTIyODk5LDc3LjM3NjE0NCBMMzUuMDA3NzE4LDgwIFoiIGlkPSJQYXRoLTIyIiBmaWxsPSIjMDAyODY4Ij48L3BhdGg+CiAgICAgICAgICAgICAgICA8cGF0aCBkPSJNMCwzNy43MzA0NDA1IEwyNy4xMTQ1MzcsMC4yNTcxMTE0MzYgQzYyLjM3MTUxMjMsLTEuOTkwNzE3MDEgODAsMTAuNTAwMzkyNyA4MCwzNy43MzA0NDA1IEM4MCw2NC45NjA0ODgyIDY0Ljc3NjUwMzgsNzkuMDUwMzQxNCAzNC4zMjk1MTEzLDgwIEM0Ny4wNTUzNDg5LDc3LjU2NzA4MDggNTMuNDE4MjY3Nyw3MC4zMTM2MTAzIDUzLjQxODI2NzcsNTguMjM5NTg4NSBDNTMuNDE4MjY3Nyw0MC4xMjg1NTU3IDM2LjMwMzk1NDQsMzcuNzMwNDQwNSAyNS4yMjc0MTcsMzcuNzMwNDQwNSBDMTcuODQzMDU4NiwzNy43MzA0NDA1IDkuNDMzOTE5NjYsMzcuNzMwNDQwNSAwLDM3LjczMDQ0MDUgWiIgaWQ9IlBhdGgtMTkiIGZpbGw9IiMzNzkzRUYiPjwvcGF0aD4KICAgICAgICAgICAgPC9nPgogICAgICAgIDwvZz4KICAgIDwvZz4KPC9zdmc+' > </img>\nCreated in <span style='font-weight:600;margin-left:4px;'>Deepnote</span></a>",
   "metadata": {
    "tags": [],
    "created_in_deepnote_cell": true,
    "deepnote_cell_type": "markdown"
   }
  }
 ],
 "nbformat": 4,
 "nbformat_minor": 4,
 "metadata": {
  "kernelspec": {
   "display_name": "Python 3",
   "language": "python",
   "name": "python3"
  },
  "language_info": {
   "codemirror_mode": {
    "name": "ipython",
    "version": 3
   },
   "file_extension": ".py",
   "mimetype": "text/x-python",
   "name": "python",
   "nbconvert_exporter": "python",
   "pygments_lexer": "ipython3",
   "version": "3.7.10"
  },
  "toc": {
   "base_numbering": 1,
   "nav_menu": {},
   "number_sections": true,
   "sideBar": true,
   "skip_h1_title": false,
   "title_cell": "Table of Contents",
   "title_sidebar": "Contents",
   "toc_cell": false,
   "toc_position": {},
   "toc_section_display": true,
   "toc_window_display": false
  },
  "deepnote_notebook_id": "ea61670d-9881-4633-a586-7025676275db",
  "deepnote": {},
  "deepnote_execution_queue": []
 }
}