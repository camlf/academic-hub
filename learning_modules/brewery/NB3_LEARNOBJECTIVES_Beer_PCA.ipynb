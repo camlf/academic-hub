{
 "cells": [
  {
   "cell_type": "markdown",
   "metadata": {
    "cell_id": "3f0a8870-387e-4932-828d-174990470584",
    "deepnote_cell_type": "markdown",
    "papermill": {
     "duration": 0.005183,
     "end_time": "2020-08-14T19:33:48.837807",
     "exception": false,
     "start_time": "2020-08-14T19:33:48.832624",
     "status": "completed"
    },
    "tags": [],
    "toc": true
   },
   "source": [
    "<h1>Table of Contents<span class=\"tocSkip\"></span></h1>\n",
    "<div class=\"toc\"><ul class=\"toc-item\"><li><span><a href=\"#Overall-Learning-Objectives-:\" data-toc-modified-id=\"Overall-Learning-Objectives-:-1\"><span class=\"toc-item-num\">1&nbsp;&nbsp;</span>Overall Learning Objectives :</a></span><ul class=\"toc-item\"><li><span><a href=\"#Introduction-to-the-OSIsoft-Academic-Hub,-Operational-Data,-and-OSIsoft-\" data-toc-modified-id=\"Introduction-to-the-OSIsoft-Academic-Hub,-Operational-Data,-and-OSIsoft--1.1\"><span class=\"toc-item-num\">1.1&nbsp;&nbsp;</span>Introduction to the OSIsoft Academic Hub, Operational Data, and OSIsoft </a></span></li></ul></li><li><span><a href=\"#Exercise-3-Learning-Objectives:\" data-toc-modified-id=\"Exercise-3-Learning-Objectives:-2\"><span class=\"toc-item-num\">2&nbsp;&nbsp;</span>Exercise 3 Learning Objectives:</a></span><ul class=\"toc-item\"><li><span><a href=\"#Beer-Principal-Component-Analysis-(PCA)\" data-toc-modified-id=\"Beer-Principal-Component-Analysis-(PCA)-2.1\"><span class=\"toc-item-num\">2.1&nbsp;&nbsp;</span>Beer Principal Component Analysis (PCA)</a></span></li><li><span><a href=\"#Exercise-Overview\" data-toc-modified-id=\"Exercise-Overview-2.2\"><span class=\"toc-item-num\">2.2&nbsp;&nbsp;</span>Exercise Overview</a></span></li><li><span><a href=\"#In-More-Detail\" data-toc-modified-id=\"In-More-Detail-2.3\"><span class=\"toc-item-num\">2.3&nbsp;&nbsp;</span>In More Detail</a></span></li></ul></li></ul></div>"
   ]
  },
  {
   "cell_type": "markdown",
   "metadata": {
    "cell_id": "00001-eaab4e64-14a7-47fd-a7a4-29485eba1cad",
    "deepnote_cell_type": "markdown",
    "papermill": {
     "duration": 0.009112,
     "end_time": "2020-08-14T19:33:48.854907",
     "exception": false,
     "start_time": "2020-08-14T19:33:48.845795",
     "status": "completed"
    },
    "tags": []
   },
   "source": [
    "---\n",
    "# Overall Learning Objectives : \n",
    "Introduction to the OSIsoft Academic Hub, Operational Data, and OSIsoft \n",
    "---\n",
    "Introduction to the OSIsoft Academic Hub, Operational Data, and OSIsoft \n",
    "The OSIsoft Academic Hub is a cloud-based platform that enables experiential learning with industrial process datasets. Students use the Academic Hub to gain experience in solving real-world problems with real-world data. Students gain experience in several areas that help to prepare them for careers in today’s workplace:\n",
    "\n",
    "•\tNavigating broader, less defined problem statements\n",
    "\n",
    "•\tEvaluating multiple data sources and types to determine appropriateness for given context\n",
    "\n",
    "•\tDetermining which data is extraneous, erroneous, or inaccurate\n",
    "\n",
    "•\tIntegrating timeseries data with other types of data\n",
    "\n",
    "•\tAnalyzing large datasets to improve business decisions\n",
    "\n",
    "•\tWorking seamlessly in teams in person and remotely\n",
    "\n",
    "•\tUsing industry current AI/ML platforms, visualization tools, and programming languages\n",
    "\n",
    "OSIsoft’s technology provides customers with the tools for real-time data management of their operational data. Operational data is data that reflects the physical state of an industrial asset (or “thing”). There are many sources and types of data in operations; real-time process control data, sensor and device data; machine-generated data, asset data, web data, weather data, heat map data, and many more. One of the unique types of operational data is time-series data, where time is the index. For over forty years OSIsoft has been at the forefront of time series data collection and aggregation, along with other types of operational data, allowing people to contextualize and federate large volumes of industrial, operational data. With 65% of industrial Fortune 500 customers using OSIsoft products to monitor over two billion data streams globally, it is likely engineers will work with an OSIsoft product during their career. Data analysis and specifically time series data analysis skills are quickly becoming a standard requirement for engineers and managers alike. OSIsoft data is ready to integrate into sophisticated visualization tools, industry applications and AI/ML platforms in use today globally.\n",
    "\n",
    "---\n",
    "# Exercise 3 Learning Objectives:\n",
    "Beer Principal Component Analysis (PCA)\n",
    "---\n",
    "At the end of the [Beer PCA Exercise](./NB3_EXERCISE_Beer_PCA.ipynb) students will be able to:\n",
    "1. Retrieve process data from multiple assets using a cloud-based platform (OSIsoft Cloud Services or OCS) which stores real industrial sensor data.\n",
    "2. Perform basic operations using Pandas, a software library widely used in data science applications,\n",
    "3. Identify problems with data quality.\n",
    "4. Perform data cleansing operations to ensure that the quality of the data fits the analysis goals.\n",
    "5. Perform Principal Component Analysis (PCA) to visualize high-dimensional datasets and enhance process analytics.\n",
    "6. Discuss how PCA works.\n",
    "7. Apply the k-means clustering algorithm to classify data (BONUS).\n"
   ]
  },
  {
   "cell_type": "markdown",
   "metadata": {
    "cell_id": "00002-25d20373-0adb-45ed-bd51-3620be27b632",
    "deepnote_cell_type": "markdown",
    "papermill": {
     "duration": 0.005737,
     "end_time": "2020-08-14T19:33:48.865957",
     "exception": false,
     "start_time": "2020-08-14T19:33:48.860220",
     "status": "completed"
    },
    "tags": []
   },
   "source": [
    "---\n",
    "## Exercise Overview\n",
    "It is often useful to be able to quickly determine whether and which of the production batches are out-of-spec. The ability to determine the origin or the cause of a process failure or a bad batch is valuable to industry. In the [Beer PCA Exercise](./NB3_EXERCISE_Beer_PCA.ipynb), students will use Principal Component Analysis (PCA) to determine which batches are out-of-spec without having to analyze the time series data for every attribute of each beer batch, of which there are dozens. Students will then use the properties of PCA to identify what may have caused a batch to be out-of-spec.\n",
    "\n",
    "The exercise notebook also has blocks of missing code which students will have to complete in order for the notebook to run properly and produce results; this ensures that students will interact with the notebook and pay attention to the algorithm and how the code is written.\n",
    "\n",
    " \n",
    "**The [Beer PCA Exercise](./NB3_EXERCISE_Beer_PCA.ipynb) has six total sections, including a [bonus section](././NB3_EXERCISE_Beer_PCA.ipynb#section_6).** \n",
    "\n",
    "In [Part 1](./NB3_EXERCISE_Beer_PCA.ipynb#section_1), specify parameters of interest like brands, fermentors, time period to analyze, time granularity, attributes.\n",
    "\n",
    "In [Part 2](./NB3_EXERCISE_Beer_PCA.ipynb#section_2), use OSIsoft Cloud Services (OCS) to obtain process data from Deschutes Brewery.\n",
    "\n",
    "In [Part 3](./NB3_EXERCISE_Beer_PCA.ipynb#section_3), create utility functions for calculating the elapsed time per batch, identifying fermentation stages without relying on the \"Status\" labels, removing the bad batches, and summarizing the data.\n",
    "\n",
    "In [Part 4](./NB3_EXERCISE_Beer_PCA.ipynb#section_4), execute the functions created in Part 3 for each brand in each fermenter vessel. Collect the summary of the data into the dataframe `FeatureDF`.\n",
    "\n",
    "In [Part 5](./NB3_EXERCISE_Beer_PCA.ipynb#section_5), `FeatureDF` is a high-dimensional dataset that is not easily human-processable. Use Principal Components Analysis (PCA) to obtain new components composed of linear combinations of the most \"relevant\" input features in `FeatureDF`( [5a](./NB3_EXERCISE_Beer_PCA.ipynb#section_5a)-[5c](./NB3_EXERCISE_Beer_PCA.ipynb#section_5c)); use those components to graphically visualize `FeatureDF` and identify the bad batches [5d](./NB3_EXERCISE_Beer_PCA.ipynb#section_5d); then identify the input features which contributed to the out-of-spec characteristics of the outlier batches ([5e](./NB3_EXERCISE_Beer_PCA.ipynb#section_5e)).\n",
    "\n",
    "In [Part 6 (BONUS)](./NB3_EXERCISE_Beer_PCA.ipynb#section_6), use the k-means clustering algorithm to classify data.\n",
    "\n",
    "**Furthermore at the end of the exercise, students will be asked to think about the following questions:** \n",
    "1. Why do you think there are bad batches?\n",
    "2. Does it seem like there is equipment failure? Process failure?\n",
    "3. What would you do to determine the root cause of a process or equipment failure?"
   ]
  },
  {
   "cell_type": "markdown",
   "metadata": {
    "cell_id": "00003-635bbee0-ad1d-4b71-9ff3-d18e32cd57c7",
    "deepnote_cell_type": "markdown",
    "papermill": {
     "duration": 0.006191,
     "end_time": "2020-08-14T19:33:48.877605",
     "exception": false,
     "start_time": "2020-08-14T19:33:48.871414",
     "status": "completed"
    },
    "tags": []
   },
   "source": [
    "---\n",
    "## In More Detail\n",
    "\n",
    "**Students will learn how to initialize OSIsoft Cloud Services (OCS) by authenticating their purpose and directing calls to the right namespace:**\n",
    "\n",
    "```python\n",
    "widget, hub_client = hub_login()\n",
    "\n",
    "namespace_id = hub_client.namespace_of(\"Deschutes\") \n",
    "print (f\"namespace_id: '{namespace_id}'\")\n",
    "```\n",
    "\n",
    "**Students will then use OCS to retrieve process data from multiple assets in Deschutes Brewery:**\n",
    "```python\n",
    "# Filtered to get the one related to \"PCA\"\n",
    "dv_ids = hub_client.fermenter_dataview_ids(\n",
    "    namespace_id,\n",
    "    \"PCA\",\n",
    "    first_fv=int(FERMENTORS_OF_INTEREST[0]),\n",
    "    last_fv=int(FERMENTORS_OF_INTEREST[-1]),\n",
    ")\n",
    "\n",
    "all_brands_df = hub_client.dataviews_interpolated_pd(\n",
    "namespace_id, dv_ids, START_INDEX, END_INDEX, INDEX_INTERVAL, chunks=1\n",
    ")\n",
    "```\n",
    "\n",
    "**The filtering expressions students will have to utilize are also more complex. For example, students will have to complete filtering expressions of this type:**\n",
    "```python\n",
    "# we wonly want batches in `valid_batches`\n",
    "# TODO: Complete the filter expression\n",
    "# =========== STUDENT BEGIN ==========\n",
    "offset_df = offset_df[offset_df[\"batch\"].isin(valid_batches)]\n",
    "# =========== STUDENT END ==========\n",
    "```\n",
    "\n",
    "**where in previous notebooks, similar filtering would be accomplished by using loops of more basic filter expressions. Students will also work with more advanced Pandas commands and different strategies for dealing with mislabeled but valid data.**\n",
    "\n",
    "```python\n",
    "    # relabel batch statuses as either 'pre-cooling' or 'cooling'\n",
    "    for __, row in cooling_starts.iterrows():\n",
    "\n",
    "        # label for current batch\n",
    "        current_batch = row[\"batch\"]\n",
    "\n",
    "        # when cooling starts for current batch\n",
    "        cooling_start_time = row[\"tsf\"]\n",
    "\n",
    "        # get booleans for current batch\n",
    "        boolean = offset_df[\"batch\"] == current_batch\n",
    "\n",
    "        # Add a new \"Cooling_Stage\" column which is False or True for \"Precooling\" or \"Cooling\" respectively\n",
    "        # TODO: Complete the expression\n",
    "        # HINT: \"Cooling_Stage \" should be False if tsf < cooling start time, True otherwise\n",
    "        # =========== STUDENT BEGIN ==========\n",
    "        #  offset_df.loc[boolean, \"Cooling_Stage\"] = offset_df.loc[boolean, \"tsf\"].apply(\n",
    "        #     lambda t: @@@ Your code here @@@ if @@@ Your code here @@@  else True\n",
    "        # )\n",
    "        # =========== STUDENT END ==========\n",
    "        offset_df.loc[boolean, \"Cooling_Stage\"] = offset_df.loc[boolean, \"tsf\"].apply(\n",
    "            lambda t: False if t < cooling_start_time else True\n",
    "        )\n",
    "        # =========== STUDENT SOLUTION ==========\n",
    "```\n",
    "**Students will perform principal component analysis using the sci-kit learn library in Python, which is widely used in machine learning applications:**\n",
    "\n",
    "![](https://academicpi.blob.core.windows.net/images/NB3_PCA_Visualization.png)\n",
    "\n",
    "**Besides going through how to use scikit-learn to perform PCA, the notebook also contains high-level discussions of PCA, with visual supplements, to ensure that students get a good grasp of what PCA accomplishes.**\n",
    "\n",
    "![](https://academicpi.blob.core.windows.net/images/NB3_Coefficient_Schematic.png)\n",
    "\n",
    "**There are also graphical representations of operations that many not be intuitive:**\n",
    "\n",
    "![](https://academicpi.blob.core.windows.net/images/NB3_Scaling_Schematic.png)\n",
    "\n",
    "**Finally, students will apply some of their knowledge of PCA to determine which of the input features were responsible for the out-of-spec qualities of bad batches**\n",
    "\n",
    "![](https://academicpi.blob.core.windows.net/images/NB3_ContributionPlot.PNG)\n",
    "\n",
    "**Also included in the notebook are some cells describing how to perform k-means clustering using Python. This is a bonus feature.**"
   ]
  },
  {
   "cell_type": "code",
   "execution_count": null,
   "metadata": {
    "cell_id": "00004-b34caa17-7e52-4510-b79b-fa4129a30916",
    "deepnote_cell_type": "code",
    "deepnote_to_be_reexecuted": false,
    "execution_millis": 44,
    "execution_start": 1642207666710,
    "papermill": {
     "duration": 0.038528,
     "end_time": "2020-08-14T19:33:48.937841",
     "exception": false,
     "start_time": "2020-08-14T19:33:48.899313",
     "status": "completed"
    },
    "source_hash": "b623e53d",
    "tags": []
   },
   "outputs": [],
   "source": []
  },
  {
   "cell_type": "markdown",
   "metadata": {
    "created_in_deepnote_cell": true,
    "deepnote_cell_type": "markdown",
    "tags": []
   },
   "source": [
    "<a style='text-decoration:none;line-height:16px;display:flex;color:#5B5B62;padding:10px;justify-content:end;' href='https://deepnote.com?utm_source=created-in-deepnote-cell&projectId=27d58a9b-9aaa-47c5-b041-7e32d6d185a5' target=\"_blank\">\n",
    "<img alt='Created in deepnote.com' style='display:inline;max-height:16px;margin:0px;margin-right:7.5px;' src='data:image/svg+xml;base64,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' > </img>\n",
    "Created in <span style='font-weight:600;margin-left:4px;'>Deepnote</span></a>"
   ]
  }
 ],
 "metadata": {
  "deepnote": {},
  "deepnote_execution_queue": [],
  "deepnote_notebook_id": "3cb14610-127b-41c6-8dcb-fa086650facb",
  "kernelspec": {
   "display_name": "Python 3 (ipykernel)",
   "language": "python",
   "name": "python3"
  },
  "language_info": {
   "codemirror_mode": {
    "name": "ipython",
    "version": 3
   },
   "file_extension": ".py",
   "mimetype": "text/x-python",
   "name": "python",
   "nbconvert_exporter": "python",
   "pygments_lexer": "ipython3",
   "version": "3.8.12"
  },
  "papermill": {
   "duration": 1.030066,
   "end_time": "2020-08-14T19:33:49.179731",
   "environment_variables": {},
   "exception": null,
   "input_path": "../Learning_Modules/NB3_LEARNOBJECTIVES_Beer_PCA.ipynb",
   "output_path": "./Release/NB3_LEARNOBJECTIVES_Beer_PCA.ipynb",
   "parameters": {},
   "start_time": "2020-08-14T19:33:48.149665",
   "version": "2.1.2"
  },
  "toc": {
   "base_numbering": 1,
   "nav_menu": {},
   "number_sections": true,
   "sideBar": true,
   "skip_h1_title": false,
   "title_cell": "Table of Contents",
   "title_sidebar": "Contents",
   "toc_cell": true,
   "toc_position": {},
   "toc_section_display": true,
   "toc_window_display": true
  }
 },
 "nbformat": 4,
 "nbformat_minor": 4
}
