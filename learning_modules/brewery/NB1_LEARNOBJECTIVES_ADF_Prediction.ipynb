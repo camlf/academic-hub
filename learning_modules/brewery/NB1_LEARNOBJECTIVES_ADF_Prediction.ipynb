{
 "cells": [
  {
   "cell_type": "markdown",
   "metadata": {
    "cell_id": "27d58e87-39fa-4d65-a916-ac3fe6494b0d",
    "deepnote_cell_type": "markdown",
    "papermill": {
     "duration": 0.00407,
     "end_time": "2020-08-14T19:33:44.331174",
     "exception": false,
     "start_time": "2020-08-14T19:33:44.327104",
     "status": "completed"
    },
    "tags": [],
    "toc": true
   },
   "source": [
    "<h1>Table of Contents<span class=\"tocSkip\"></span></h1>\n",
    "<div class=\"toc\"><ul class=\"toc-item\"><li><span><a href=\"#Overall-Learning-Objectives-:\" data-toc-modified-id=\"Overall-Learning-Objectives-:-1\"><span class=\"toc-item-num\">1&nbsp;&nbsp;</span>Overall Learning Objectives :</a></span><ul class=\"toc-item\"><li><span><a href=\"#Introduction-to-the-OSIsoft-Academic-Hub,-Operational-Data,-and-OSIsoft-\" data-toc-modified-id=\"Introduction-to-the-OSIsoft-Academic-Hub,-Operational-Data,-and-OSIsoft--1.1\"><span class=\"toc-item-num\">1.1&nbsp;&nbsp;</span>Introduction to the OSIsoft Academic Hub, Operational Data, and OSIsoft </a></span></li></ul></li><li><span><a href=\"#Exercise-1-Learning-Objectives-:\" data-toc-modified-id=\"Exercise-1-Learning-Objectives-:-2\"><span class=\"toc-item-num\">2&nbsp;&nbsp;</span>Exercise 1 Learning Objectives :</a></span><ul class=\"toc-item\"><li><span><a href=\"#Predicting-the-Apparent-Degree-of-Fermentation-(ADF)\" data-toc-modified-id=\"Predicting-the-Apparent-Degree-of-Fermentation-(ADF)-2.1\"><span class=\"toc-item-num\">2.1&nbsp;&nbsp;</span>Predicting the Apparent Degree of Fermentation (ADF)</a></span></li><li><span><a href=\"#ADF-Predictive-Exercise-Overview\" data-toc-modified-id=\"ADF-Predictive-Exercise-Overview-2.2\"><span class=\"toc-item-num\">2.2&nbsp;&nbsp;</span>ADF Predictive Exercise Overview</a></span></li><li><span><a href=\"#ADF-Predictive-Exercise---In-More-Detail\" data-toc-modified-id=\"ADF-Predictive-Exercise---In-More-Detail-2.3\"><span class=\"toc-item-num\">2.3&nbsp;&nbsp;</span>ADF Predictive Exercise - In More Detail</a></span></li></ul></li></ul></div>"
   ]
  },
  {
   "cell_type": "markdown",
   "metadata": {
    "cell_id": "00001-c3ce6386-99d4-4c03-b893-d7ab24032a96",
    "deepnote_cell_type": "markdown",
    "papermill": {
     "duration": 0.003097,
     "end_time": "2020-08-14T19:33:44.341513",
     "exception": false,
     "start_time": "2020-08-14T19:33:44.338416",
     "status": "completed"
    },
    "tags": []
   },
   "source": [
    "---\n",
    "# Overall Learning Objectives : \n",
    "Introduction to the OSIsoft Academic Hub, Operational Data, and OSIsoft \n",
    "---\n",
    "Introduction to the OSIsoft Academic Hub, Operational Data, and OSIsoft \n",
    "The OSIsoft Academic Hub is a cloud-based platform that enables experiential learning with industrial process datasets. Students use the Academic Hub to gain experience in solving real-world problems with real-world data. Students gain experience in several areas that help to prepare them for careers in today’s workplace:\n",
    "\n",
    "•\tNavigating broader, less defined problem statements\n",
    "\n",
    "•\tEvaluating multiple data sources and types to determine appropriateness for given context\n",
    "\n",
    "•\tDetermining which data is extraneous, erroneous, or inaccurate\n",
    "\n",
    "•\tIntegrating timeseries data with other types of data\n",
    "\n",
    "•\tAnalyzing large datasets to improve business decisions\n",
    "\n",
    "•\tWorking seamlessly in teams in person and remotely\n",
    "\n",
    "•\tUsing industry current AI/ML platforms, visualization tools, and programming languages\n",
    "\n",
    "OSIsoft’s technology provides customers with the tools for real-time data management of their operational data. Operational data is data that reflects the physical state of an industrial asset (or “thing”). There are many sources and types of data in operations; real-time process control data, sensor and device data; machine-generated data, asset data, web data, weather data, heat map data, and many more. One of the unique types of operational data is time-series data, where time is the index. For over forty years OSIsoft has been at the forefront of time series data collection and aggregation, along with other types of operational data, allowing people to contextualize and federate large volumes of industrial, operational data. With 65% of industrial Fortune 500 customers using OSIsoft products to monitor over two billion data streams globally, it is likely engineers will work with an OSIsoft product during their career. Data analysis and specifically time series data analysis skills are quickly becoming a standard requirement for engineers and managers alike. OSIsoft data is ready to integrate into sophisticated visualization tools, industry applications and AI/ML platforms in use today globally.\n",
    "\n",
    "\n",
    "---\n",
    "# Exercise 1 Learning Objectives : \n",
    "Predicting the Apparent Degree of Fermentation (ADF)\n",
    "---\n",
    "At the end of this [ADF Prediction Exercise](./NB1_EXERCISE_ADF_Prediction.ipynb) students will be able to:\n",
    "1. Retrieve process data using a cloud-based platform (OSIsoft Cloud Services or OCS) which stores real industrial sensor data\n",
    "2. Perform basic operations using Pandas, a software library widely-used in data science applications\n",
    "3. Perform basic data-cleansing operations to ensure that the quality of the data fits the analysis goals\n",
    "4. Perform linear and piecewise linear regression using Python\n",
    "5. Evaluate the quality of a model fit\n",
    "6. Formulate strategies for creating predictive models of real (i.e. dirty, intermittent) process data\n"
   ]
  },
  {
   "cell_type": "markdown",
   "metadata": {
    "cell_id": "00002-5e4cfe84-0140-46c8-a753-f9f8a5261980",
    "deepnote_cell_type": "markdown",
    "papermill": {
     "duration": 0.006396,
     "end_time": "2020-08-14T19:33:44.351964",
     "exception": false,
     "start_time": "2020-08-14T19:33:44.345568",
     "status": "completed"
    },
    "tags": []
   },
   "source": [
    "---\n",
    "## ADF Predictive Exercise Overview\n",
    "\n",
    "Students will be given an overview into why creating predictive models could be valuable to industry. In this case, the ADF prediction model saved Deschutes Brewery \\$750,000 in capital investments). Because real process data is \"dirty\", students will experience the importance of domain knowledge in being able to organize and clean the data to fit analysis goals. Furthermore, Part 4 of the exercise notebook has missing pieces of code students will have to fill in order for the notebook to run properly and produce results; this ensures that students will interact with the notebook and pay attention to how code is written.\n",
    "\n",
    "**The ADF Prediction exercise notebook is divided into five parts:**\n",
    "\n",
    "[Part 1](./NB1_EXERCISE_ADF_Prediction.ipynb#section_1): Specify time period, time granularity, fermentor vessels, brand of interest, and other parameters.\n",
    "\n",
    "[Part 2](./NB1_EXERCISE_ADF_Prediction.ipynb#section_2): Use OSIsoft Cloud Services (OCS) to obtain real process data from Deschutes Brewery ([2a](./NB1_EXERCISE_ADF_Prediction.ipynb#section_2a)) and store it into a dataframe ([2b](./NB1_EXERCISE_ADF_Prediction.ipynb#section_2b)).\n",
    "\n",
    "[Part 3](./NB1_EXERCISE_ADF_Prediction.ipynb#section_3): Create functions which utilize Plotly to preview the ADF profile ([3a](./NB1_EXERCISE_ADF_Prediction.ipynb#section_3a)) and create plots which will help the user to assess the quality of the model fit ([3b](./NB1_EXERCISE_ADF_Prediction.ipynb#section_3b)).\n",
    "\n",
    "[Part 4](./NB1_EXERCISE_ADF_Prediction.ipynb#section_4): Pre-process the brewery data before fitting and analysis. Remove obviously bad data points and unnecessary attributes ([4a](./NB1_EXERCISE_ADF_Prediction.ipynb#section_4a)); identify fermentation batches and compute the duration of fermentation ([4c](./NB1_EXERCISE_ADF_Prediction.ipynb#section_4c)); manually remove emergent outliers ([4e](./NB1_EXERCISE_ADF_Prediction.ipynb#section_4e)).\n",
    "\n",
    "\n",
    "[Part 5](./NB1_EXERCISE_ADF_Prediction.ipynb#section_5): Fit the cleaned up data frame to a linear model ([5a](./NB1_EXERCISE_ADF_Prediction.ipynb#section_5a)) and then to a piecewise linear model ([5b](./NB1_EXERCISE_ADF_Prediction.ipynb#section_5b)). Evaluate and compare the model fits.\n",
    "\n",
    "**At the end of the exercise, students will be asked to think about the following questions:**\n",
    "1. Which of the models used in this notebook performed the best and why?\n",
    "2. Can you think of a different model that would perform better than either of the models used in this notebook?\n",
    "3. Are there any trade-offs to using more complex models? If so, what are they?\n",
    "4. Discuss several reasons why we can't immediately use the raw process data for model fitting.\n"
   ]
  },
  {
   "cell_type": "markdown",
   "metadata": {
    "cell_id": "00003-584ac859-7446-458c-b626-2b2706d8c1c1",
    "deepnote_cell_type": "markdown",
    "papermill": {
     "duration": 0.005536,
     "end_time": "2020-08-14T19:33:44.362394",
     "exception": false,
     "start_time": "2020-08-14T19:33:44.356858",
     "status": "completed"
    },
    "tags": []
   },
   "source": [
    "---\n",
    "## ADF Predictive Exercise - In More Detail\n",
    "**In the notebook, students will learn how to initialize OCS by authenticating their purpose and directing calls to the right namespace:**\n",
    "```python\n",
    "widget, hub_client = hub_login()\n",
    "\n",
    "namespace_id = hub_client.namespace_of(\"Deschutes\") \n",
    "print (f\"namespace_id: '{namespace_id}'\")\n",
    "```\n",
    "\n",
    "**The students will learn to efficiently identify fermentation batches and their duration by leveraging Pandas features:**\n",
    "```python\n",
    "# find the start of fermentation (ADF ~= 0.0)\n",
    "fermentation_starts = brand_df[abs(brand_df[\"ADF\"]) <= 0.000001].reset_index()\n",
    "\n",
    "# create new dataframe column for recording the time evolution of fermentation\n",
    "brand_df[\"Elapsed\"] = -1\n",
    "\n",
    "# compute the time elapsed since the starts of a fermentation\n",
    "for count, fermentation_start_row in fermentation_starts.iterrows():\n",
    "\n",
    "    # get the timestamp for each start of fermentation\n",
    "    fermentation_start_time = fermentation_start_row[\"Timestamp\"]\n",
    "    fermentation_id = fermentation_start_row[\"Fermentation ID\"]\n",
    "\n",
    "    # boolean vector to pick only rows relevant to current fermentation ID\n",
    "    batch_row_picker = brand_df[\"Fermentation ID\"] == fermentation_id\n",
    "\n",
    "    # find time elapsed since the start of fermentation in units of hours\n",
    "    brand_df.loc[batch_row_picker, \"Elapsed\"] = brand_df.loc[\n",
    "        batch_row_picker, \"Timestamp\"\n",
    "    ].apply(lambda t: (t - fermentation_start_time).total_seconds() / 3600.0)\n",
    "```\n",
    "\n",
    "**Students should also complete missing pieces to filter out rows with missing/incomplete data like the following:**\n",
    "```python\n",
    "# remove all rows with missing values\n",
    "# TODO: complete expression, hint check PandasGuide.ipynb section \"Selection\"\n",
    "# =========== STUDENT BEGIN ==========\n",
    "# brand_df = @@@ Your code here @@@\n",
    "# =========== STUDENT END ==========\n",
    "```\n",
    "**Ultimately, the goal is for the students to fit the data to a linear model and a piecewise model and then assess the model fits:**\n",
    "![](https://academicpi.blob.core.windows.net/images/NB1_Analyze_Fit.png)"
   ]
  },
  {
   "cell_type": "code",
   "execution_count": null,
   "metadata": {
    "cell_id": "00004-038d355c-9965-443b-9b13-7fe06b10160e",
    "deepnote_cell_type": "code",
    "papermill": {
     "duration": 0.004403,
     "end_time": "2020-08-14T19:33:44.371607",
     "exception": false,
     "start_time": "2020-08-14T19:33:44.367204",
     "status": "completed"
    },
    "tags": []
   },
   "outputs": [],
   "source": []
  },
  {
   "cell_type": "markdown",
   "metadata": {
    "created_in_deepnote_cell": true,
    "deepnote_cell_type": "markdown",
    "tags": []
   },
   "source": [
    "<a style='text-decoration:none;line-height:16px;display:flex;color:#5B5B62;padding:10px;justify-content:end;' href='https://deepnote.com?utm_source=created-in-deepnote-cell&projectId=27d58a9b-9aaa-47c5-b041-7e32d6d185a5' target=\"_blank\">\n",
    "<img alt='Created in deepnote.com' style='display:inline;max-height:16px;margin:0px;margin-right:7.5px;' src='data:image/svg+xml;base64,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' > </img>\n",
    "Created in <span style='font-weight:600;margin-left:4px;'>Deepnote</span></a>"
   ]
  }
 ],
 "metadata": {
  "deepnote": {},
  "deepnote_execution_queue": [],
  "deepnote_notebook_id": "b66a8486-7375-4627-aa10-2aa37847e2d5",
  "kernelspec": {
   "display_name": "Python 3 (ipykernel)",
   "language": "python",
   "name": "python3"
  },
  "language_info": {
   "codemirror_mode": {
    "name": "ipython",
    "version": 3
   },
   "file_extension": ".py",
   "mimetype": "text/x-python",
   "name": "python",
   "nbconvert_exporter": "python",
   "pygments_lexer": "ipython3",
   "version": "3.8.12"
  },
  "papermill": {
   "duration": 0.932985,
   "end_time": "2020-08-14T19:33:44.588197",
   "environment_variables": {},
   "exception": null,
   "input_path": "../Learning_Modules/NB1_LEARNOBJECTIVES_ADF_Prediction.ipynb",
   "output_path": "./Release/NB1_LEARNOBJECTIVES_ADF_Prediction.ipynb",
   "parameters": {},
   "start_time": "2020-08-14T19:33:43.655212",
   "version": "2.1.2"
  },
  "toc": {
   "base_numbering": 1,
   "nav_menu": {},
   "number_sections": true,
   "sideBar": true,
   "skip_h1_title": false,
   "title_cell": "Table of Contents",
   "title_sidebar": "Contents",
   "toc_cell": true,
   "toc_position": {},
   "toc_section_display": true,
   "toc_window_display": true
  }
 },
 "nbformat": 4,
 "nbformat_minor": 4
}
