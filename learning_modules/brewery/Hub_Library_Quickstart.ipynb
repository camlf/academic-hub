{
 "cells": [
  {
   "cell_type": "markdown",
   "source": "# OSIsoft Academic Hub Library Quick Start\n\nVersion 0.97\n\nAcademic Hub datasets are hosted by the OSIsoft Cloud Service (OCS, https://www.osisoft.com/solutions/cloud/vision/), a cloud-native realtime data infrastructure to perform enterprise-wide analytics using tools and languages of their choice. \n\n**Raw operational data has specific characteristics making it difficult to deal with directly**, among them:\n\n* variable data collection frequencies\n* bad values (system error codes)\n* data gaps \n\n\n**But data science projects against operational data needs to be:**\n\n* **Time-aligned** to deal with the characteritics above in consistent way according to the data type (e.g. interpolation for float values, repeat last good value for categorical data, etc)\n* **Context aware** so that the data can be understandable, across as many real-world assets that you need it for\n* **Shaped and filtered** to ensure you have the data you need, in the form you need it\n\n**OCS solution for application-ready data are Data Views:**\n\n![](https://academichub.blob.core.windows.net/images/piworld-dse-dataview-p2.png)\n\n**Each Academic Hub datasets comes endowed with a set of asset-centric data views.** The goal of Academic Hub Python library is to allow in a very generic and consistent way to access:\n\n* the list of existing datasets\n* for a given dataset: \n  * get the list of its assets\n  * get the OCS namespace where the dataset is hosted\n* for a given asset, get the list data views it belongs to\n\nThe rest of this notebook is a working example of the functionality listed above. ",
   "metadata": {
    "cell_id": "00000-e09271ef-e409-46c0-a30c-d8ce5dabd508",
    "deepnote_cell_type": "markdown"
   }
  },
  {
   "cell_type": "markdown",
   "source": "## Install Academic Hub Python library ",
   "metadata": {
    "cell_id": "00001-e9b15a17-bfa4-413b-8f34-759dba1c4a4e",
    "deepnote_cell_type": "markdown"
   }
  },
  {
   "cell_type": "code",
   "metadata": {
    "tags": [],
    "cell_id": "00002-10cebe31-bd04-4d28-b220-2840523c3216",
    "deepnote_cell_type": "code"
   },
   "source": "!pip install ocs-academic-hub==0.99.13",
   "outputs": [
    {
     "name": "stdout",
     "output_type": "stream",
     "text": "Requirement already satisfied: ocs-academic-hub in c:\\users\\cfoisy\\anaconda3\\lib\\site-packages (0.84.0)\nRequirement already satisfied: pandas>=0.24.2 in c:\\users\\cfoisy\\anaconda3\\lib\\site-packages (from ocs-academic-hub) (1.0.1)\nRequirement already satisfied: python-dateutil>=2.8.0 in c:\\users\\cfoisy\\anaconda3\\lib\\site-packages (from ocs-academic-hub) (2.8.1)\nRequirement already satisfied: gql in c:\\users\\cfoisy\\anaconda3\\lib\\site-packages (from ocs-academic-hub) (2.0.0)\nRequirement already satisfied: ocs-sample-library-preview>=0.1.12rc0 in c:\\users\\cfoisy\\anaconda3\\lib\\site-packages (from ocs-academic-hub) (0.1.12rc0)\nRequirement already satisfied: numpy in c:\\users\\cfoisy\\anaconda3\\lib\\site-packages (from ocs-academic-hub) (1.18.1)\nRequirement already satisfied: backoff in c:\\users\\cfoisy\\anaconda3\\lib\\site-packages (from ocs-academic-hub) (1.10.0)\nRequirement already satisfied: typeguard>=2.4.1 in c:\\users\\cfoisy\\anaconda3\\lib\\site-packages (from ocs-academic-hub) (2.9.1)\nRequirement already satisfied: pytz>=2017.2 in c:\\users\\cfoisy\\anaconda3\\lib\\site-packages (from pandas>=0.24.2->ocs-academic-hub) (2019.3)\nRequirement already satisfied: six>=1.5 in c:\\users\\cfoisy\\anaconda3\\lib\\site-packages (from python-dateutil>=2.8.0->ocs-academic-hub) (1.14.0)\nRequirement already satisfied: requests<3,>=2.12 in c:\\users\\cfoisy\\anaconda3\\lib\\site-packages (from gql->ocs-academic-hub) (2.24.0)\nRequirement already satisfied: graphql-core<3,>=2.3.2 in c:\\users\\cfoisy\\anaconda3\\lib\\site-packages (from gql->ocs-academic-hub) (2.3.2)\nRequirement already satisfied: promise<3,>=2.3 in c:\\users\\cfoisy\\anaconda3\\lib\\site-packages (from gql->ocs-academic-hub) (2.3)\nRequirement already satisfied: idna<3,>=2.5 in c:\\users\\cfoisy\\anaconda3\\lib\\site-packages (from requests<3,>=2.12->gql->ocs-academic-hub) (2.8)\nRequirement already satisfied: certifi>=2017.4.17 in c:\\users\\cfoisy\\anaconda3\\lib\\site-packages (from requests<3,>=2.12->gql->ocs-academic-hub) (2019.11.28)\nRequirement already satisfied: urllib3!=1.25.0,!=1.25.1,<1.26,>=1.21.1 in c:\\users\\cfoisy\\anaconda3\\lib\\site-packages (from requests<3,>=2.12->gql->ocs-academic-hub) (1.25.8)\nRequirement already satisfied: chardet<4,>=3.0.2 in c:\\users\\cfoisy\\anaconda3\\lib\\site-packages (from requests<3,>=2.12->gql->ocs-academic-hub) (3.0.4)\nRequirement already satisfied: rx<2,>=1.6 in c:\\users\\cfoisy\\anaconda3\\lib\\site-packages (from graphql-core<3,>=2.3.2->gql->ocs-academic-hub) (1.6.1)\n"
    }
   ],
   "execution_count": null
  },
  {
   "cell_type": "markdown",
   "source": "## Use the `pip uninstall` only in case of library issues",
   "metadata": {
    "cell_id": "00003-433bfa49-c98d-4386-a9f4-1668ae5d5548",
    "deepnote_cell_type": "markdown"
   }
  },
  {
   "cell_type": "code",
   "metadata": {
    "tags": [],
    "cell_id": "00004-cc849c6a-42bc-4dda-9b93-7abeb04cd29f",
    "deepnote_cell_type": "code"
   },
   "source": "# It's sometimes necessary to uninstall previous versions, uncomment and run the following line. Then restart kernel and reinstall with previous cell\n# !pip uninstall -y ocs-academic-hub ocs-sample-library-preview",
   "outputs": [],
   "execution_count": null
  },
  {
   "cell_type": "markdown",
   "source": "## Import HubClient, necessary to connect and interact with OCS",
   "metadata": {
    "cell_id": "00005-07a5badd-b80a-45be-a156-e791c6170e86",
    "deepnote_cell_type": "markdown"
   }
  },
  {
   "cell_type": "code",
   "metadata": {
    "cell_id": "00006-0c9e8785-a53d-4ad5-8dec-59945983d1d8",
    "deepnote_cell_type": "code"
   },
   "source": "from ocs_academic_hub import HubClient",
   "outputs": [],
   "execution_count": null
  },
  {
   "cell_type": "markdown",
   "source": "## Running the following cell initiate the login sequence\n\n**Warning:** a new brower tab will open offering the choice of identifying with Microsoft or Google. You should always pick Google:\n<img src=\"https://academichub.blob.core.windows.net/images/ocs-login-page-google.png\" alt=\"Login screen\" width=\"600\"/>\n\nReturn to this web page when done",
   "metadata": {
    "cell_id": "00007-2b1f3868-149a-45b0-ae6f-73812be3c1c6",
    "deepnote_cell_type": "markdown"
   }
  },
  {
   "cell_type": "code",
   "metadata": {
    "tags": [],
    "cell_id": "00008-44b8e8d6-f0e9-48fd-984a-e63d061c4316",
    "deepnote_cell_type": "code"
   },
   "source": "hub = HubClient()",
   "outputs": [
    {
     "name": "stdout",
     "output_type": "stream",
     "text": "Step 1: Get OAuth endpoint configuration...\nStep 2: Set up server to process authorization response...\nStep 3: Authorize the user...\nStep 4: Set server to handle one request...\n127.0.0.1 - - [29/Sep/2020 19:41:48] \"GET /callback.html?code=2BN9HrXVgHomQuIgZhdVLWIQMfbYPWagJvIjOLR__go&scope=openid%20ocsapi&session_state=p1W8d9fkC02ZMhKBdgY7G1zajIfjgo5_lJQVQ725_uo._C2aXC2KOehZJXQSX8VUpQ HTTP/1.1\" 200 -\nStep 5: Get a token using the authorization code...\nStep 6: Access token read ok\nComplete!\n@ Hub data file: hub_datasets.json\n"
    }
   ],
   "execution_count": null
  },
  {
   "cell_type": "markdown",
   "source": "## Refresh datasets information\n\nOver time existing datasets are updated and new ones are added. The cell below makes sure you have the latest version of the production datasets. \n\nNote: after execution of this method, a file named `hub_datasets.json` will be created in the same directory as this notebook. The data in this file supersedes the one built-in with the `ocs_academic_hub` module. To get back to the built-in datasets information, move/rename/delete `hub_datasets.json`. ",
   "metadata": {
    "cell_id": "00009-8f375927-94e0-4405-8513-4b5260219f19",
    "deepnote_cell_type": "markdown"
   }
  },
  {
   "cell_type": "code",
   "metadata": {
    "tags": [],
    "cell_id": "00010-73f00f2a-adb4-4bb4-8a78-484e1e54d958",
    "deepnote_cell_type": "code"
   },
   "source": "hub.refresh_datasets()",
   "outputs": [
    {
     "name": "stdout",
     "output_type": "stream",
     "text": "@ Hub data file: hub_datasets.json\n@ Current dataset: Brewery\n"
    }
   ],
   "execution_count": null
  },
  {
   "cell_type": "markdown",
   "source": "## Get list of published hub datasets\n",
   "metadata": {
    "cell_id": "00011-bb131f41-7e00-4234-a96d-c252533cc500",
    "deepnote_cell_type": "markdown"
   }
  },
  {
   "cell_type": "code",
   "metadata": {
    "cell_id": "00012-64bf244d-a208-4bb4-a889-18eaae14d541",
    "deepnote_output_heights": [
     21.1875
    ],
    "deepnote_cell_type": "code"
   },
   "source": "hub.datasets()",
   "outputs": [
    {
     "data": {
      "text/plain": "['Brewery', 'Campus_Energy']"
     },
     "execution_count": 6,
     "metadata": {},
     "output_type": "execute_result"
    }
   ],
   "execution_count": null
  },
  {
   "cell_type": "markdown",
   "source": "## Display current active dataset\n\nNOTE: it will be possible to switch it once other datasets support the new asset interface. ",
   "metadata": {
    "cell_id": "00013-7595aa03-60b4-47ac-b6df-87267ba2f741",
    "deepnote_cell_type": "markdown"
   }
  },
  {
   "cell_type": "code",
   "metadata": {
    "cell_id": "00014-22778512-e9ef-4571-adea-fe2673d9147d",
    "deepnote_output_heights": [
     21.1875
    ],
    "deepnote_cell_type": "code"
   },
   "source": "hub.current_dataset()",
   "outputs": [
    {
     "data": {
      "text/plain": "'Brewery'"
     },
     "execution_count": 7,
     "metadata": {},
     "output_type": "execute_result"
    }
   ],
   "execution_count": null
  },
  {
   "cell_type": "markdown",
   "source": "## Get list of assets with Data Views\n\nReturned into the form of a pandas dataframe, with column `Asset_Id` and `Description`. The cell above with `print` and `.to_string()` allows to see the whole dataframe content. ",
   "metadata": {
    "cell_id": "00015-0e694f94-e886-41ac-90da-b3385a334f74",
    "deepnote_cell_type": "markdown"
   }
  },
  {
   "cell_type": "code",
   "metadata": {
    "tags": [],
    "cell_id": "00016-626eb9fa-c657-40a4-984a-22171f1a5000",
    "deepnote_cell_type": "code"
   },
   "source": "print(hub.assets().to_string())",
   "outputs": [
    {
     "name": "stdout",
     "output_type": "stream",
     "text": "          Asset_Id            Description\n0        Acid Tank                    AT1\n1              BA1                       \n2              BA2                       \n3             BB02            Bright Tank\n4        BB02 Line                       \n5             BB03            Bright Tank\n6             BB04            Bright Tank\n7             BB05            Bright Tank\n8             BB06            Bright Tank\n9             BB07            Bright Tank\n10            BB08            Bright Tank\n11            BB09            Bright Tank\n12            BB11            Bright Tank\n13            BB12            Bright Tank\n14            BB13            Bright Tank\n15            BB14            Bright Tank\n16            BB15            Bright Tank\n17   Beer Transfer  Beer TransferTemplate\n18         C1_BBL1            Bright Tank\n19          C1_BL1     Cellar 1 Beer Line\n20          C1_PS1                    PS1\n21          C1_PS2                    PS2\n22          C1_YL1    Cellar 1 Yeast Line\n23         C2_BBL1            Bright Tank\n24          C2_FT1     Cellar 2 Foam Tank\n25          C2_PS1                 C2_PS1\n26          C2_PS2                 C2_PS2\n27          C3_BL1     Cellar 3 Beer Line\n28          C3_FT1     Cellar 3 Foam Trap\n29          C3_YL1    Cellar 3 Yeast Line\n30            CNT1             Centrifuge\n31            CNT2             Centrifuge\n32            CST1                       \n33    Caustic Tank                    CT1\n34  Clean In Place                   CIP1\n35            FV01       Fermenter Vessel\n36            FV02       Fermenter Vessel\n37            FV08       Fermenter Vessel\n38            FV09       Fermenter Vessel\n39    FV1/FV2 Line            Supply Line\n40            FV10       Fermenter Vessel\n41            FV11       Fermenter Vessel\n42            FV12       Fermenter Vessel\n43            FV13       Fermenter Vessel\n44            FV14       Fermenter Vessel\n45            FV15       Fermenter Vessel\n46            FV16       Fermenter Vessel\n47            FV17       Fermenter Vessel\n48            FV18       Fermenter Vessel\n49            FV19       Fermenter Vessel\n50            FV20       Fermenter Vessel\n51            FV21       Fermenter Vessel\n52            FV22       Fermenter Vessel\n53            FV23       Fermenter Vessel\n54            FV24       Fermenter Vessel\n55            FV25       Fermenter Vessel\n56            FV26       Fermenter Vessel\n57            FV27       Fermenter Vessel\n58            FV28       Fermenter Vessel\n59            FV31       Fermenter Vessel\n60            FV32       Fermenter Vessel\n61            FV33       Fermenter Vessel\n62            FV34       Fermenter Vessel\n63            FV35       Fermenter Vessel\n64            FV36       Fermenter Vessel\n65            FV37       Fermenter Vessel\n66            FV38       Fermenter Vessel\n67            FV39       Fermenter Vessel\n68            FV40       Fermenter Vessel\n69            FV41       Fermenter Vessel\n70            FV42       Fermenter Vessel\n71            FV43       Fermenter Vessel\n72            FV44       Fermenter Vessel\n73            FV45       Fermenter Vessel\n74            FV46       Fermenter Vessel\n75          Loop 1                       \n76          Loop 2                       \n77             PZ1                       \n"
    }
   ],
   "execution_count": null
  },
  {
   "cell_type": "markdown",
   "source": "## List of all Data Views\n\nThose are all single-asset default (with all data available for the asset) Data Views",
   "metadata": {
    "cell_id": "00017-8cf85a17-439c-4f50-a040-b2d84b433018",
    "deepnote_cell_type": "markdown"
   }
  },
  {
   "cell_type": "code",
   "metadata": {
    "cell_id": "00018-b73bf6d1-e872-4723-91f0-5f8fec20e896",
    "deepnote_output_heights": [
     611
    ],
    "deepnote_cell_type": "code"
   },
   "source": "hub.asset_dataviews()",
   "outputs": [
    {
     "data": {
      "text/plain": "['brewery-acid.tank',\n 'brewery-ba1',\n 'brewery-ba2',\n 'brewery-bb02',\n 'brewery-bb02.line',\n 'brewery-bb03',\n 'brewery-bb04',\n 'brewery-bb05',\n 'brewery-bb06',\n 'brewery-bb07',\n 'brewery-bb08',\n 'brewery-bb09',\n 'brewery-bb11',\n 'brewery-bb12',\n 'brewery-bb13',\n 'brewery-bb14',\n 'brewery-bb15',\n 'brewery-beer.transfer',\n 'brewery-c1_bbl1',\n 'brewery-c1_bl1',\n 'brewery-c1_ps1',\n 'brewery-c1_ps2',\n 'brewery-c1_yl1',\n 'brewery-c2_bbl1',\n 'brewery-c2_ft1',\n 'brewery-c2_ps1',\n 'brewery-c2_ps2',\n 'brewery-c3_bl1',\n 'brewery-c3_ft1',\n 'brewery-c3_yl1',\n 'brewery-caustic.tank',\n 'brewery-clean.in.place',\n 'brewery-cnt1',\n 'brewery-cnt2',\n 'brewery-cst1',\n 'brewery-fv01',\n 'brewery-fv02',\n 'brewery-fv08',\n 'brewery-fv09',\n 'brewery-fv10',\n 'brewery-fv11',\n 'brewery-fv12',\n 'brewery-fv13',\n 'brewery-fv14',\n 'brewery-fv15',\n 'brewery-fv16',\n 'brewery-fv17',\n 'brewery-fv18',\n 'brewery-fv19',\n 'brewery-fv1__fv2.line',\n 'brewery-fv20',\n 'brewery-fv21',\n 'brewery-fv22',\n 'brewery-fv23',\n 'brewery-fv24',\n 'brewery-fv25',\n 'brewery-fv26',\n 'brewery-fv27',\n 'brewery-fv28',\n 'brewery-fv31',\n 'brewery-fv32',\n 'brewery-fv33',\n 'brewery-fv34',\n 'brewery-fv35',\n 'brewery-fv36',\n 'brewery-fv37',\n 'brewery-fv38',\n 'brewery-fv39',\n 'brewery-fv40',\n 'brewery-fv41',\n 'brewery-fv42',\n 'brewery-fv43',\n 'brewery-fv44',\n 'brewery-fv45',\n 'brewery-fv46',\n 'brewery-loop.1',\n 'brewery-loop.2',\n 'brewery-pz1']"
     },
     "execution_count": 9,
     "metadata": {},
     "output_type": "execute_result"
    }
   ],
   "execution_count": null
  },
  {
   "cell_type": "markdown",
   "source": "## List of Data Views exclusive to Fermenter Vessel #32 (FV32)\n\nEmpty filter (`filter=\"\"`) allows to see all dataviews for the asset instead of simply the default one",
   "metadata": {
    "cell_id": "00019-cf5cb9c6-1828-4342-878b-6f51bc064bdb",
    "deepnote_cell_type": "markdown"
   }
  },
  {
   "cell_type": "code",
   "metadata": {
    "cell_id": "00020-7464acfd-b3cd-4a64-9c7f-14c5a2dc7ec3",
    "deepnote_output_heights": [
     78.765625
    ],
    "deepnote_cell_type": "code"
   },
   "source": "dvs_fv32 = hub.asset_dataviews(asset=\"FV32\", filter=\"\")\ndvs_fv32",
   "outputs": [
    {
     "data": {
      "text/plain": "['brewery-fv32',\n 'brewery-fv32-adf_prediction',\n 'brewery-fv32-cooling_prediction',\n 'brewery-fv32-pca']"
     },
     "execution_count": 10,
     "metadata": {},
     "output_type": "execute_result"
    }
   ],
   "execution_count": null
  },
  {
   "cell_type": "markdown",
   "source": "## List Multi-Asset Data Views Containing FV32\n\nThe column `Asset_Id` in data view results indicates which asset the row of data belongs to ",
   "metadata": {
    "cell_id": "00021-a3d3f7dc-8229-4f28-ba11-c857e0aa1ff8",
    "deepnote_cell_type": "markdown"
   }
  },
  {
   "cell_type": "code",
   "metadata": {
    "cell_id": "00022-c8c00949-cf17-4dde-81c0-54a19ccd5ded",
    "deepnote_output_heights": [
     78.765625
    ],
    "deepnote_cell_type": "code"
   },
   "source": "hub.asset_dataviews(asset=\"FV32\", multiple_asset=True, filter=\"\")",
   "outputs": [
    {
     "data": {
      "text/plain": "['brewery-fv31--36',\n 'brewery-fv31--36-adf_prediction',\n 'brewery-fv31--36-cooling_prediction',\n 'brewery-fv31--36-pca']"
     },
     "execution_count": 11,
     "metadata": {},
     "output_type": "execute_result"
    }
   ],
   "execution_count": null
  },
  {
   "cell_type": "markdown",
   "source": "## Get the OCS namespace associated to the dataset\n\nEach data set belongs to a namespace within the Academic Hub OCS account. Since dataset may move over time, the function below always return the active namespace for the given dataset. ",
   "metadata": {
    "cell_id": "00023-d038fdb3-7180-4329-b5db-3fb7a01e2100",
    "deepnote_cell_type": "markdown"
   }
  },
  {
   "cell_type": "code",
   "metadata": {
    "cell_id": "00024-e9022c0c-6bc5-4a85-a830-71d5ef6230de",
    "deepnote_output_heights": [
     21.1875
    ],
    "deepnote_cell_type": "code"
   },
   "source": "dataset = hub.current_dataset()\nnamespace_id = hub.namespace_of(dataset)\nnamespace_id",
   "outputs": [
    {
     "data": {
      "text/plain": "'academic_hub_01'"
     },
     "execution_count": 12,
     "metadata": {},
     "output_type": "execute_result"
    }
   ],
   "execution_count": null
  },
  {
   "cell_type": "markdown",
   "source": "## Get Data View structure\n\nWith Stream Name, the column name under which stream data appears, its value type and engineering units if available. We display below the structure of the default data view. ",
   "metadata": {
    "cell_id": "00025-e4232ee9-ec20-4dfe-b42b-a67f7ed5735f",
    "deepnote_cell_type": "markdown"
   }
  },
  {
   "cell_type": "code",
   "metadata": {
    "tags": [],
    "cell_id": "00026-f96e7f44-c24f-4a96-8ee8-60d27f97541c",
    "deepnote_cell_type": "code"
   },
   "source": "dataview_id = hub.asset_dataviews(asset=\"FV32\", filter=\"default\")[0]\nprint(dataview_id)\nprint(hub.dataview_definition(namespace_id, dataview_id).to_string(index=False))",
   "outputs": [
    {
     "name": "stdout",
     "output_type": "stream",
     "text": "brewery-fv32\nAsset_Id              Column_Name Stream_Type Stream_UOM                        OCS_Stream_Name\n    FV32                      ADF       Float                                 B2_CL_C2_FV32/ADF\n    FV32           Bottom TIC OUT       Float          %          B2_CL_C2_FV32_TIC1380A/OUT.CV\n    FV32            Bottom TIC PV       Float        Â°F           B2_CL_C2_FV32_TIC1380A/PV.CV\n    FV32            Bottom TIC SP       Float        Â°F           B2_CL_C2_FV32_TIC1380A/SP.CV\n    FV32                    Brand    Category                            B2_CL_C2_FV32/BRAND.CV\n    FV32                Deviation       Float                B2_CL_C2_FV32/Prediction.Deviation\n    FV32                 Diacetyl     Integer        ppb                 B2_CL_C2_FV32/Diacetyl\n    FV32           End Phase Time       Float          m          B2_CL_C2_FV32/EndPhaseTime.CV\n    FV32            FV Full Plato       Float      Plato          B2_CL_C2_FV32/DcrsFvFullPlato\n    FV32  Fermentation Start Time   Timestamp             B2_CL_C2_FV32/Fermentation_Start_Time\n    FV32           Integrator Key       Float                      B2_CL_C2_FV32/Integrator Key\n    FV32           Middle TIC OUT       Float          %          B2_CL_C2_FV32_TIC1380B/OUT.CV\n    FV32            Middle TIC PV       Float        Â°F           B2_CL_C2_FV32_TIC1380B/PV.CV\n    FV32            Middle TIC SP       Float        Â°F           B2_CL_C2_FV32_TIC1380B/SP.CV\n    FV32                  PIC OUT       Float          %           B2_CL_C2_FV32_PIC1382/OUT.CV\n    FV32                   PIC PV       Float        psi            B2_CL_C2_FV32_PIC1382/PV.CV\n    FV32                   PIC SP       Float        psi            B2_CL_C2_FV32_PIC1382/SP.CV\n    FV32           Phase Duration     Integer                      B2_CL_C2_FV32/Phase Duration\n    FV32                    Plato       Float      Plato                    B2_CL_C2_FV32/Plato\n    FV32     Predicted Transition      String                B2_CL_C2_FV32/Predicted Transition\n    FV32                   Status    Category                           B2_CL_C2_FV32/STATUS.CV\n    FV32              Top TIC OUT       Float          %          B2_CL_C2_FV32_TIC1380C/OUT.CV\n    FV32               Top TIC PV       Float        Â°F           B2_CL_C2_FV32_TIC1380C/PV.CV\n    FV32               Top TIC SP       Float        Â°F           B2_CL_C2_FV32_TIC1380C/SP.CV\n    FV32         Vessel Procedure      String                     B2_CL_C2_FV32/VesselProcedure\n    FV32                 VesselID     Integer                            B2_CL_C2_FV32/VesselID\n    FV32                   Volume       Float        bbl             B2_CL_C2_FV32_LT1380/PV.CV\n    FV32                Volume In       Float        bbl        B2_CL_C2_FV32_FQ1380_A/TOTAL.CV\n    FV32               Volume Out       Float        bbl        B2_CL_C2_FV32_FQ1380_B/TOTAL.CV\n    FV32         Yeast Generation     Integer                         B2_CL_C2_FV32/YEASTGEN.CV\n    FV32      Yeast Out Totalizer       Float                   B2_CL_C2_FV32/YeastOutTotalizer\n    FV32             Yeast Strain    Category                            B2_CL_C2_FV32/YEAST.CV\n"
    }
   ],
   "execution_count": null
  },
  {
   "cell_type": "markdown",
   "source": "## Getting data from a Data View\n\nReturn interpolated data between a start and end date, with the requested interpolation interval (format is HH:MM:SS)",
   "metadata": {
    "cell_id": "00027-1bf95c00-3ded-4784-9e7a-c7ad46981f40",
    "deepnote_cell_type": "markdown"
   }
  },
  {
   "cell_type": "code",
   "metadata": {
    "tags": [],
    "cell_id": "00028-52bb5116-325d-4262-93ae-4feaffcc73d7",
    "deepnote_output_heights": [
     null,
     382.1875
    ],
    "deepnote_cell_type": "code"
   },
   "source": "# Use the first commented out line to access a full 3-year worth of data\n# df_fv32= hub.dataview_interpolated_pd(namespace_id, dataview_id, \"2017-01-19\", \"2020-01-19\", \"00:30:00\")\n# \n# This next line is for a single month of data\ndf_fv32= hub.dataview_interpolated_pd(namespace_id, dataview_id, \"2017-01-19\", \"2017-02-19\", \"00:30:00\")\ndf_fv32",
   "outputs": [
    {
     "name": "stdout",
     "output_type": "stream",
     "text": "\n  ==> Finished 'dataview_interpolated_pd' in       2.5120 secs [ 593 rows/sec ]\n"
    },
    {
     "data": {
      "text/html": "<div>\n<style scoped>\n    .dataframe tbody tr th:only-of-type {\n        vertical-align: middle;\n    }\n\n    .dataframe tbody tr th {\n        vertical-align: top;\n    }\n\n    .dataframe thead th {\n        text-align: right;\n    }\n</style>\n<table border=\"1\" class=\"dataframe\">\n  <thead>\n    <tr style=\"text-align: right;\">\n      <th></th>\n      <th>Timestamp</th>\n      <th>Asset_Id</th>\n      <th>ADF</th>\n      <th>FV Full Plato</th>\n      <th>Diacetyl</th>\n      <th>End Phase Time</th>\n      <th>Fermentation Start Time</th>\n      <th>Integrator Key</th>\n      <th>Phase Duration</th>\n      <th>Plato</th>\n      <th>...</th>\n      <th>Bottom TIC SP</th>\n      <th>Middle TIC OUT</th>\n      <th>Middle TIC PV</th>\n      <th>Middle TIC SP</th>\n      <th>Top TIC OUT</th>\n      <th>Top TIC PV</th>\n      <th>Top TIC SP</th>\n      <th>Brand</th>\n      <th>Status</th>\n      <th>Yeast Strain</th>\n    </tr>\n  </thead>\n  <tbody>\n    <tr>\n      <th>0</th>\n      <td>2017-01-19 00:00:00</td>\n      <td>FV32</td>\n      <td>0.104108</td>\n      <td>13.506092</td>\n      <td>NaN</td>\n      <td>NaN</td>\n      <td>2017-01-18T05:59:56.6180112Z</td>\n      <td>12.1</td>\n      <td>NaN</td>\n      <td>12.1</td>\n      <td>...</td>\n      <td>63.0</td>\n      <td>17.355146</td>\n      <td>63.032608</td>\n      <td>63.0</td>\n      <td>8.699567</td>\n      <td>63.067005</td>\n      <td>63.0</td>\n      <td>Realtime Hops</td>\n      <td>Fermentation</td>\n      <td>NCYC1187</td>\n    </tr>\n    <tr>\n      <th>1</th>\n      <td>2017-01-19 00:30:00</td>\n      <td>FV32</td>\n      <td>0.104108</td>\n      <td>13.506092</td>\n      <td>NaN</td>\n      <td>NaN</td>\n      <td>2017-01-18T05:59:56.6180112Z</td>\n      <td>12.1</td>\n      <td>NaN</td>\n      <td>12.1</td>\n      <td>...</td>\n      <td>63.0</td>\n      <td>7.568751</td>\n      <td>63.035385</td>\n      <td>63.0</td>\n      <td>20.299335</td>\n      <td>63.055607</td>\n      <td>63.0</td>\n      <td>Realtime Hops</td>\n      <td>Fermentation</td>\n      <td>NCYC1187</td>\n    </tr>\n    <tr>\n      <th>2</th>\n      <td>2017-01-19 01:00:00</td>\n      <td>FV32</td>\n      <td>0.104108</td>\n      <td>13.506092</td>\n      <td>NaN</td>\n      <td>NaN</td>\n      <td>2017-01-18T05:59:56.6180112Z</td>\n      <td>12.1</td>\n      <td>NaN</td>\n      <td>12.1</td>\n      <td>...</td>\n      <td>63.0</td>\n      <td>4.256329</td>\n      <td>63.019897</td>\n      <td>63.0</td>\n      <td>46.984615</td>\n      <td>63.241917</td>\n      <td>63.0</td>\n      <td>Realtime Hops</td>\n      <td>Fermentation</td>\n      <td>NCYC1187</td>\n    </tr>\n    <tr>\n      <th>3</th>\n      <td>2017-01-19 01:30:00</td>\n      <td>FV32</td>\n      <td>0.104108</td>\n      <td>13.506092</td>\n      <td>NaN</td>\n      <td>NaN</td>\n      <td>2017-01-18T05:59:56.6180112Z</td>\n      <td>12.1</td>\n      <td>NaN</td>\n      <td>12.1</td>\n      <td>...</td>\n      <td>63.0</td>\n      <td>17.092400</td>\n      <td>63.079906</td>\n      <td>63.0</td>\n      <td>74.284065</td>\n      <td>63.305080</td>\n      <td>63.0</td>\n      <td>Realtime Hops</td>\n      <td>Fermentation</td>\n      <td>NCYC1187</td>\n    </tr>\n    <tr>\n      <th>4</th>\n      <td>2017-01-19 02:00:00</td>\n      <td>FV32</td>\n      <td>0.104108</td>\n      <td>13.506092</td>\n      <td>NaN</td>\n      <td>NaN</td>\n      <td>2017-01-18T05:59:56.6180112Z</td>\n      <td>12.1</td>\n      <td>NaN</td>\n      <td>12.1</td>\n      <td>...</td>\n      <td>63.0</td>\n      <td>46.463210</td>\n      <td>63.176716</td>\n      <td>63.0</td>\n      <td>42.702755</td>\n      <td>63.150780</td>\n      <td>63.0</td>\n      <td>Realtime Hops</td>\n      <td>Fermentation</td>\n      <td>NCYC1187</td>\n    </tr>\n    <tr>\n      <th>...</th>\n      <td>...</td>\n      <td>...</td>\n      <td>...</td>\n      <td>...</td>\n      <td>...</td>\n      <td>...</td>\n      <td>...</td>\n      <td>...</td>\n      <td>...</td>\n      <td>...</td>\n      <td>...</td>\n      <td>...</td>\n      <td>...</td>\n      <td>...</td>\n      <td>...</td>\n      <td>...</td>\n      <td>...</td>\n      <td>...</td>\n      <td>...</td>\n      <td>...</td>\n      <td>...</td>\n    </tr>\n    <tr>\n      <th>1484</th>\n      <td>2017-02-18 22:00:00</td>\n      <td>FV32</td>\n      <td>0.653248</td>\n      <td>14.707904</td>\n      <td>337.0</td>\n      <td>NaN</td>\n      <td>2017-02-16T09:54:05.2240140Z</td>\n      <td>337.0</td>\n      <td>NaN</td>\n      <td>5.1</td>\n      <td>...</td>\n      <td>60.0</td>\n      <td>0.000000</td>\n      <td>63.299995</td>\n      <td>68.0</td>\n      <td>0.000000</td>\n      <td>63.400000</td>\n      <td>68.0</td>\n      <td>Kerberos</td>\n      <td>Diacetyl Rest</td>\n      <td>NCYC1187</td>\n    </tr>\n    <tr>\n      <th>1485</th>\n      <td>2017-02-18 22:30:00</td>\n      <td>FV32</td>\n      <td>0.653248</td>\n      <td>14.707904</td>\n      <td>337.0</td>\n      <td>NaN</td>\n      <td>2017-02-16T09:54:05.2240140Z</td>\n      <td>337.0</td>\n      <td>NaN</td>\n      <td>5.1</td>\n      <td>...</td>\n      <td>60.0</td>\n      <td>0.000000</td>\n      <td>63.440205</td>\n      <td>68.0</td>\n      <td>0.000000</td>\n      <td>63.350674</td>\n      <td>68.0</td>\n      <td>Kerberos</td>\n      <td>Diacetyl Rest</td>\n      <td>NCYC1187</td>\n    </tr>\n    <tr>\n      <th>1486</th>\n      <td>2017-02-18 23:00:00</td>\n      <td>FV32</td>\n      <td>0.653248</td>\n      <td>14.707904</td>\n      <td>337.0</td>\n      <td>NaN</td>\n      <td>2017-02-16T09:54:05.2240140Z</td>\n      <td>337.0</td>\n      <td>NaN</td>\n      <td>5.1</td>\n      <td>...</td>\n      <td>60.0</td>\n      <td>0.000000</td>\n      <td>63.199997</td>\n      <td>68.0</td>\n      <td>0.000000</td>\n      <td>63.199997</td>\n      <td>68.0</td>\n      <td>Kerberos</td>\n      <td>Diacetyl Rest</td>\n      <td>NCYC1187</td>\n    </tr>\n    <tr>\n      <th>1487</th>\n      <td>2017-02-18 23:30:00</td>\n      <td>FV32</td>\n      <td>0.653248</td>\n      <td>14.707904</td>\n      <td>337.0</td>\n      <td>NaN</td>\n      <td>2017-02-16T09:54:05.2240140Z</td>\n      <td>337.0</td>\n      <td>NaN</td>\n      <td>5.1</td>\n      <td>...</td>\n      <td>60.0</td>\n      <td>0.000000</td>\n      <td>63.199997</td>\n      <td>68.0</td>\n      <td>0.000000</td>\n      <td>63.199997</td>\n      <td>68.0</td>\n      <td>Kerberos</td>\n      <td>Diacetyl Rest</td>\n      <td>NCYC1187</td>\n    </tr>\n    <tr>\n      <th>1488</th>\n      <td>2017-02-19 00:00:00</td>\n      <td>FV32</td>\n      <td>0.653248</td>\n      <td>14.707904</td>\n      <td>337.0</td>\n      <td>NaN</td>\n      <td>2017-02-16T09:54:05.2240140Z</td>\n      <td>337.0</td>\n      <td>NaN</td>\n      <td>5.1</td>\n      <td>...</td>\n      <td>60.0</td>\n      <td>0.000000</td>\n      <td>63.151184</td>\n      <td>68.0</td>\n      <td>0.000000</td>\n      <td>63.400000</td>\n      <td>68.0</td>\n      <td>Kerberos</td>\n      <td>Diacetyl Rest</td>\n      <td>NCYC1187</td>\n    </tr>\n  </tbody>\n</table>\n<p>1489 rows × 34 columns</p>\n</div>",
      "text/plain": "               Timestamp Asset_Id       ADF  FV Full Plato  Diacetyl  \\\n0    2017-01-19 00:00:00     FV32  0.104108      13.506092       NaN   \n1    2017-01-19 00:30:00     FV32  0.104108      13.506092       NaN   \n2    2017-01-19 01:00:00     FV32  0.104108      13.506092       NaN   \n3    2017-01-19 01:30:00     FV32  0.104108      13.506092       NaN   \n4    2017-01-19 02:00:00     FV32  0.104108      13.506092       NaN   \n...                  ...      ...       ...            ...       ...   \n1484 2017-02-18 22:00:00     FV32  0.653248      14.707904     337.0   \n1485 2017-02-18 22:30:00     FV32  0.653248      14.707904     337.0   \n1486 2017-02-18 23:00:00     FV32  0.653248      14.707904     337.0   \n1487 2017-02-18 23:30:00     FV32  0.653248      14.707904     337.0   \n1488 2017-02-19 00:00:00     FV32  0.653248      14.707904     337.0   \n\n      End Phase Time       Fermentation Start Time  Integrator Key  \\\n0                NaN  2017-01-18T05:59:56.6180112Z            12.1   \n1                NaN  2017-01-18T05:59:56.6180112Z            12.1   \n2                NaN  2017-01-18T05:59:56.6180112Z            12.1   \n3                NaN  2017-01-18T05:59:56.6180112Z            12.1   \n4                NaN  2017-01-18T05:59:56.6180112Z            12.1   \n...              ...                           ...             ...   \n1484             NaN  2017-02-16T09:54:05.2240140Z           337.0   \n1485             NaN  2017-02-16T09:54:05.2240140Z           337.0   \n1486             NaN  2017-02-16T09:54:05.2240140Z           337.0   \n1487             NaN  2017-02-16T09:54:05.2240140Z           337.0   \n1488             NaN  2017-02-16T09:54:05.2240140Z           337.0   \n\n      Phase Duration  Plato  ...  Bottom TIC SP  Middle TIC OUT  \\\n0                NaN   12.1  ...           63.0       17.355146   \n1                NaN   12.1  ...           63.0        7.568751   \n2                NaN   12.1  ...           63.0        4.256329   \n3                NaN   12.1  ...           63.0       17.092400   \n4                NaN   12.1  ...           63.0       46.463210   \n...              ...    ...  ...            ...             ...   \n1484             NaN    5.1  ...           60.0        0.000000   \n1485             NaN    5.1  ...           60.0        0.000000   \n1486             NaN    5.1  ...           60.0        0.000000   \n1487             NaN    5.1  ...           60.0        0.000000   \n1488             NaN    5.1  ...           60.0        0.000000   \n\n      Middle TIC PV  Middle TIC SP  Top TIC OUT  Top TIC PV  Top TIC SP  \\\n0         63.032608           63.0     8.699567   63.067005        63.0   \n1         63.035385           63.0    20.299335   63.055607        63.0   \n2         63.019897           63.0    46.984615   63.241917        63.0   \n3         63.079906           63.0    74.284065   63.305080        63.0   \n4         63.176716           63.0    42.702755   63.150780        63.0   \n...             ...            ...          ...         ...         ...   \n1484      63.299995           68.0     0.000000   63.400000        68.0   \n1485      63.440205           68.0     0.000000   63.350674        68.0   \n1486      63.199997           68.0     0.000000   63.199997        68.0   \n1487      63.199997           68.0     0.000000   63.199997        68.0   \n1488      63.151184           68.0     0.000000   63.400000        68.0   \n\n              Brand         Status  Yeast Strain  \n0     Realtime Hops   Fermentation      NCYC1187  \n1     Realtime Hops   Fermentation      NCYC1187  \n2     Realtime Hops   Fermentation      NCYC1187  \n3     Realtime Hops   Fermentation      NCYC1187  \n4     Realtime Hops   Fermentation      NCYC1187  \n...             ...            ...           ...  \n1484       Kerberos  Diacetyl Rest      NCYC1187  \n1485       Kerberos  Diacetyl Rest      NCYC1187  \n1486       Kerberos  Diacetyl Rest      NCYC1187  \n1487       Kerberos  Diacetyl Rest      NCYC1187  \n1488       Kerberos  Diacetyl Rest      NCYC1187  \n\n[1489 rows x 34 columns]"
     },
     "execution_count": 14,
     "metadata": {},
     "output_type": "execute_result"
    }
   ],
   "execution_count": null
  },
  {
   "cell_type": "code",
   "metadata": {
    "tags": [],
    "cell_id": "00029-99f86c3d-9e1a-43c1-80d3-d5024a44cb1d",
    "deepnote_cell_type": "code"
   },
   "source": "# Information about the dataframe - this is a Pandas operation \ndf_fv32.info()",
   "outputs": [
    {
     "name": "stdout",
     "output_type": "stream",
     "text": "<class 'pandas.core.frame.DataFrame'>\nRangeIndex: 1489 entries, 0 to 1488\nData columns (total 34 columns):\n #   Column                   Non-Null Count  Dtype         \n---  ------                   --------------  -----         \n 0   Timestamp                1489 non-null   datetime64[ns]\n 1   Asset_Id                 1489 non-null   object        \n 2   ADF                      753 non-null    float64       \n 3   FV Full Plato            1347 non-null   float64       \n 4   Diacetyl                 932 non-null    float64       \n 5   End Phase Time           0 non-null      float64       \n 6   Fermentation Start Time  1303 non-null   object        \n 7   Integrator Key           1489 non-null   float64       \n 8   Phase Duration           0 non-null      float64       \n 9   Plato                    753 non-null    float64       \n 10  Predicted Transition     0 non-null      float64       \n 11  Deviation                0 non-null      float64       \n 12  VesselID                 1489 non-null   int64         \n 13  Vessel Procedure         0 non-null      float64       \n 14  Yeast Generation         1486 non-null   float64       \n 15  Yeast Out Totalizer      0 non-null      float64       \n 16  Volume In                1486 non-null   float64       \n 17  Volume Out               1486 non-null   float64       \n 18  Volume                   1486 non-null   float64       \n 19  PIC OUT                  1486 non-null   float64       \n 20  PIC PV                   1486 non-null   float64       \n 21  PIC SP                   1486 non-null   float64       \n 22  Bottom TIC OUT           1486 non-null   float64       \n 23  Bottom TIC PV            1486 non-null   float64       \n 24  Bottom TIC SP            1486 non-null   float64       \n 25  Middle TIC OUT           1486 non-null   float64       \n 26  Middle TIC PV            1486 non-null   float64       \n 27  Middle TIC SP            1486 non-null   float64       \n 28  Top TIC OUT              1486 non-null   float64       \n 29  Top TIC PV               1486 non-null   float64       \n 30  Top TIC SP               1486 non-null   float64       \n 31  Brand                    1489 non-null   object        \n 32  Status                   1489 non-null   object        \n 33  Yeast Strain             1489 non-null   object        \ndtypes: datetime64[ns](1), float64(27), int64(1), object(5)\nmemory usage: 395.6+ KB\n"
    }
   ],
   "execution_count": null
  },
  {
   "cell_type": "markdown",
   "source": "## Data Views with multiple assets\n\nSome Data Views return data for fermenter vessels 31 up to 36. Cell below is how to get their names. ",
   "metadata": {
    "cell_id": "00030-8519f95e-0e20-4b09-98cc-7bf2bb8f0a15",
    "deepnote_cell_type": "markdown"
   }
  },
  {
   "cell_type": "code",
   "metadata": {
    "cell_id": "00031-12b17f91-0789-46cc-95f7-d343e647dc78",
    "deepnote_output_heights": [
     21.1875
    ],
    "deepnote_cell_type": "code"
   },
   "source": "multi_asset_dvs = hub.asset_dataviews(multiple_asset=True)\nmulti_asset_dvs",
   "outputs": [
    {
     "data": {
      "text/plain": "['brewery-fv01--28', 'brewery-fv31--36', 'brewery-fv37--46']"
     },
     "execution_count": 16,
     "metadata": {},
     "output_type": "execute_result"
    }
   ],
   "execution_count": null
  },
  {
   "cell_type": "markdown",
   "source": "## Get result\n\nThe column \"Asset_Id\" indicates which asset the data row belongs to. The data order is all data for FV31 in increasing time, followed by FV32 and so on up to FV36. \n",
   "metadata": {
    "cell_id": "00032-9249df41-5f5a-4254-b774-b97bbacc1a70",
    "deepnote_cell_type": "markdown"
   }
  },
  {
   "cell_type": "code",
   "metadata": {
    "tags": [],
    "cell_id": "00033-9cc9643c-d122-451b-a14c-9c60a6b89f37",
    "deepnote_output_heights": [
     null,
     382.1875
    ],
    "deepnote_cell_type": "code"
   },
   "source": "df_fv31_36 = hub.dataview_interpolated_pd(namespace_id, multi_asset_dvs[1], \"2017-02-01\", \"2017-03-01\", \"00:30:00\")\ndf_fv31_36",
   "outputs": [
    {
     "name": "stdout",
     "output_type": "stream",
     "text": "++\n  ==> Finished 'dataview_interpolated_pd' in       8.0085 secs [ 1.01K rows/sec ]\n"
    },
    {
     "data": {
      "text/html": "<div>\n<style scoped>\n    .dataframe tbody tr th:only-of-type {\n        vertical-align: middle;\n    }\n\n    .dataframe tbody tr th {\n        vertical-align: top;\n    }\n\n    .dataframe thead th {\n        text-align: right;\n    }\n</style>\n<table border=\"1\" class=\"dataframe\">\n  <thead>\n    <tr style=\"text-align: right;\">\n      <th></th>\n      <th>Timestamp</th>\n      <th>Asset_Id</th>\n      <th>ADF</th>\n      <th>FV Full Plato</th>\n      <th>Diacetyl</th>\n      <th>End Phase Time</th>\n      <th>Fermentation Start Time</th>\n      <th>Integrator Key</th>\n      <th>Phase Duration</th>\n      <th>Plato</th>\n      <th>...</th>\n      <th>Bottom TIC SP</th>\n      <th>Middle TIC OUT</th>\n      <th>Middle TIC PV</th>\n      <th>Middle TIC SP</th>\n      <th>Top TIC OUT</th>\n      <th>Top TIC PV</th>\n      <th>Top TIC SP</th>\n      <th>Brand</th>\n      <th>Status</th>\n      <th>Yeast Strain</th>\n    </tr>\n  </thead>\n  <tbody>\n    <tr>\n      <th>0</th>\n      <td>2017-02-01 00:00:00</td>\n      <td>FV31</td>\n      <td>0.719046</td>\n      <td>17.084625</td>\n      <td>70.0</td>\n      <td>NaN</td>\n      <td>2017-01-26T07:30:03.2369995Z</td>\n      <td>-1.0</td>\n      <td>NaN</td>\n      <td>4.8</td>\n      <td>...</td>\n      <td>30.0</td>\n      <td>100.000000</td>\n      <td>53.798340</td>\n      <td>30.0</td>\n      <td>100.0</td>\n      <td>53.674717</td>\n      <td>30.0</td>\n      <td>Grey Horse</td>\n      <td>Cooling</td>\n      <td>NCYC1187</td>\n    </tr>\n    <tr>\n      <th>1</th>\n      <td>2017-02-01 00:30:00</td>\n      <td>FV31</td>\n      <td>0.719046</td>\n      <td>17.084625</td>\n      <td>70.0</td>\n      <td>NaN</td>\n      <td>2017-01-26T07:30:03.2369995Z</td>\n      <td>-1.0</td>\n      <td>NaN</td>\n      <td>4.8</td>\n      <td>...</td>\n      <td>30.0</td>\n      <td>100.000000</td>\n      <td>53.009580</td>\n      <td>30.0</td>\n      <td>100.0</td>\n      <td>52.928270</td>\n      <td>30.0</td>\n      <td>Grey Horse</td>\n      <td>Cooling</td>\n      <td>NCYC1187</td>\n    </tr>\n    <tr>\n      <th>2</th>\n      <td>2017-02-01 01:00:00</td>\n      <td>FV31</td>\n      <td>0.719046</td>\n      <td>17.084625</td>\n      <td>70.0</td>\n      <td>NaN</td>\n      <td>2017-01-26T07:30:03.2369995Z</td>\n      <td>-1.0</td>\n      <td>NaN</td>\n      <td>4.8</td>\n      <td>...</td>\n      <td>30.0</td>\n      <td>100.000000</td>\n      <td>52.355940</td>\n      <td>30.0</td>\n      <td>100.0</td>\n      <td>52.507034</td>\n      <td>30.0</td>\n      <td>Grey Horse</td>\n      <td>Cooling</td>\n      <td>NCYC1187</td>\n    </tr>\n    <tr>\n      <th>3</th>\n      <td>2017-02-01 01:30:00</td>\n      <td>FV31</td>\n      <td>0.719046</td>\n      <td>17.084625</td>\n      <td>70.0</td>\n      <td>NaN</td>\n      <td>2017-01-26T07:30:03.2369995Z</td>\n      <td>-1.0</td>\n      <td>NaN</td>\n      <td>4.8</td>\n      <td>...</td>\n      <td>30.0</td>\n      <td>100.000000</td>\n      <td>52.200005</td>\n      <td>30.0</td>\n      <td>100.0</td>\n      <td>51.933790</td>\n      <td>30.0</td>\n      <td>Grey Horse</td>\n      <td>Cooling</td>\n      <td>NCYC1187</td>\n    </tr>\n    <tr>\n      <th>4</th>\n      <td>2017-02-01 02:00:00</td>\n      <td>FV31</td>\n      <td>0.719046</td>\n      <td>17.084625</td>\n      <td>70.0</td>\n      <td>NaN</td>\n      <td>2017-01-26T07:30:03.2369995Z</td>\n      <td>-1.0</td>\n      <td>NaN</td>\n      <td>4.8</td>\n      <td>...</td>\n      <td>30.0</td>\n      <td>100.000000</td>\n      <td>51.791878</td>\n      <td>30.0</td>\n      <td>100.0</td>\n      <td>51.517723</td>\n      <td>30.0</td>\n      <td>Grey Horse</td>\n      <td>Cooling</td>\n      <td>NCYC1187</td>\n    </tr>\n    <tr>\n      <th>...</th>\n      <td>...</td>\n      <td>...</td>\n      <td>...</td>\n      <td>...</td>\n      <td>...</td>\n      <td>...</td>\n      <td>...</td>\n      <td>...</td>\n      <td>...</td>\n      <td>...</td>\n      <td>...</td>\n      <td>...</td>\n      <td>...</td>\n      <td>...</td>\n      <td>...</td>\n      <td>...</td>\n      <td>...</td>\n      <td>...</td>\n      <td>...</td>\n      <td>...</td>\n      <td>...</td>\n    </tr>\n    <tr>\n      <th>8065</th>\n      <td>2017-02-28 22:00:00</td>\n      <td>FV36</td>\n      <td>0.328751</td>\n      <td>12.513988</td>\n      <td>NaN</td>\n      <td>NaN</td>\n      <td>2017-02-27T21:14:03.2750091Z</td>\n      <td>8.4</td>\n      <td>NaN</td>\n      <td>8.4</td>\n      <td>...</td>\n      <td>65.0</td>\n      <td>25.075735</td>\n      <td>65.117226</td>\n      <td>65.0</td>\n      <td>0.0</td>\n      <td>64.711590</td>\n      <td>65.0</td>\n      <td>Adele</td>\n      <td>Fermentation</td>\n      <td>NCYC1187</td>\n    </tr>\n    <tr>\n      <th>8066</th>\n      <td>2017-02-28 22:30:00</td>\n      <td>FV36</td>\n      <td>0.328751</td>\n      <td>12.513988</td>\n      <td>NaN</td>\n      <td>NaN</td>\n      <td>2017-02-27T21:14:03.2750091Z</td>\n      <td>8.4</td>\n      <td>NaN</td>\n      <td>8.4</td>\n      <td>...</td>\n      <td>65.0</td>\n      <td>60.707240</td>\n      <td>65.267770</td>\n      <td>65.0</td>\n      <td>0.0</td>\n      <td>64.600006</td>\n      <td>65.0</td>\n      <td>Adele</td>\n      <td>Fermentation</td>\n      <td>NCYC1187</td>\n    </tr>\n    <tr>\n      <th>8067</th>\n      <td>2017-02-28 23:00:00</td>\n      <td>FV36</td>\n      <td>0.328751</td>\n      <td>12.513988</td>\n      <td>NaN</td>\n      <td>NaN</td>\n      <td>2017-02-27T21:14:03.2750091Z</td>\n      <td>8.4</td>\n      <td>NaN</td>\n      <td>8.4</td>\n      <td>...</td>\n      <td>65.0</td>\n      <td>36.788890</td>\n      <td>65.171990</td>\n      <td>65.0</td>\n      <td>0.0</td>\n      <td>64.600006</td>\n      <td>65.0</td>\n      <td>Adele</td>\n      <td>Fermentation</td>\n      <td>NCYC1187</td>\n    </tr>\n    <tr>\n      <th>8068</th>\n      <td>2017-02-28 23:30:00</td>\n      <td>FV36</td>\n      <td>0.328751</td>\n      <td>12.513988</td>\n      <td>NaN</td>\n      <td>NaN</td>\n      <td>2017-02-27T21:14:03.2750091Z</td>\n      <td>8.4</td>\n      <td>NaN</td>\n      <td>8.4</td>\n      <td>...</td>\n      <td>65.0</td>\n      <td>39.635340</td>\n      <td>65.185295</td>\n      <td>65.0</td>\n      <td>0.0</td>\n      <td>64.412796</td>\n      <td>65.0</td>\n      <td>Adele</td>\n      <td>Fermentation</td>\n      <td>NCYC1187</td>\n    </tr>\n    <tr>\n      <th>8069</th>\n      <td>2017-03-01 00:00:00</td>\n      <td>FV36</td>\n      <td>0.328751</td>\n      <td>12.513988</td>\n      <td>NaN</td>\n      <td>NaN</td>\n      <td>2017-02-27T21:14:03.2750091Z</td>\n      <td>8.4</td>\n      <td>NaN</td>\n      <td>8.4</td>\n      <td>...</td>\n      <td>65.0</td>\n      <td>38.640602</td>\n      <td>65.180640</td>\n      <td>65.0</td>\n      <td>0.0</td>\n      <td>64.600006</td>\n      <td>65.0</td>\n      <td>Adele</td>\n      <td>Fermentation</td>\n      <td>NCYC1187</td>\n    </tr>\n  </tbody>\n</table>\n<p>8070 rows × 34 columns</p>\n</div>",
      "text/plain": "               Timestamp Asset_Id       ADF  FV Full Plato  Diacetyl  \\\n0    2017-02-01 00:00:00     FV31  0.719046      17.084625      70.0   \n1    2017-02-01 00:30:00     FV31  0.719046      17.084625      70.0   \n2    2017-02-01 01:00:00     FV31  0.719046      17.084625      70.0   \n3    2017-02-01 01:30:00     FV31  0.719046      17.084625      70.0   \n4    2017-02-01 02:00:00     FV31  0.719046      17.084625      70.0   \n...                  ...      ...       ...            ...       ...   \n8065 2017-02-28 22:00:00     FV36  0.328751      12.513988       NaN   \n8066 2017-02-28 22:30:00     FV36  0.328751      12.513988       NaN   \n8067 2017-02-28 23:00:00     FV36  0.328751      12.513988       NaN   \n8068 2017-02-28 23:30:00     FV36  0.328751      12.513988       NaN   \n8069 2017-03-01 00:00:00     FV36  0.328751      12.513988       NaN   \n\n      End Phase Time       Fermentation Start Time  Integrator Key  \\\n0                NaN  2017-01-26T07:30:03.2369995Z            -1.0   \n1                NaN  2017-01-26T07:30:03.2369995Z            -1.0   \n2                NaN  2017-01-26T07:30:03.2369995Z            -1.0   \n3                NaN  2017-01-26T07:30:03.2369995Z            -1.0   \n4                NaN  2017-01-26T07:30:03.2369995Z            -1.0   \n...              ...                           ...             ...   \n8065             NaN  2017-02-27T21:14:03.2750091Z             8.4   \n8066             NaN  2017-02-27T21:14:03.2750091Z             8.4   \n8067             NaN  2017-02-27T21:14:03.2750091Z             8.4   \n8068             NaN  2017-02-27T21:14:03.2750091Z             8.4   \n8069             NaN  2017-02-27T21:14:03.2750091Z             8.4   \n\n      Phase Duration  Plato  ...  Bottom TIC SP  Middle TIC OUT  \\\n0                NaN    4.8  ...           30.0      100.000000   \n1                NaN    4.8  ...           30.0      100.000000   \n2                NaN    4.8  ...           30.0      100.000000   \n3                NaN    4.8  ...           30.0      100.000000   \n4                NaN    4.8  ...           30.0      100.000000   \n...              ...    ...  ...            ...             ...   \n8065             NaN    8.4  ...           65.0       25.075735   \n8066             NaN    8.4  ...           65.0       60.707240   \n8067             NaN    8.4  ...           65.0       36.788890   \n8068             NaN    8.4  ...           65.0       39.635340   \n8069             NaN    8.4  ...           65.0       38.640602   \n\n      Middle TIC PV  Middle TIC SP  Top TIC OUT  Top TIC PV  Top TIC SP  \\\n0         53.798340           30.0        100.0   53.674717        30.0   \n1         53.009580           30.0        100.0   52.928270        30.0   \n2         52.355940           30.0        100.0   52.507034        30.0   \n3         52.200005           30.0        100.0   51.933790        30.0   \n4         51.791878           30.0        100.0   51.517723        30.0   \n...             ...            ...          ...         ...         ...   \n8065      65.117226           65.0          0.0   64.711590        65.0   \n8066      65.267770           65.0          0.0   64.600006        65.0   \n8067      65.171990           65.0          0.0   64.600006        65.0   \n8068      65.185295           65.0          0.0   64.412796        65.0   \n8069      65.180640           65.0          0.0   64.600006        65.0   \n\n           Brand        Status  Yeast Strain  \n0     Grey Horse       Cooling      NCYC1187  \n1     Grey Horse       Cooling      NCYC1187  \n2     Grey Horse       Cooling      NCYC1187  \n3     Grey Horse       Cooling      NCYC1187  \n4     Grey Horse       Cooling      NCYC1187  \n...          ...           ...           ...  \n8065       Adele  Fermentation      NCYC1187  \n8066       Adele  Fermentation      NCYC1187  \n8067       Adele  Fermentation      NCYC1187  \n8068       Adele  Fermentation      NCYC1187  \n8069       Adele  Fermentation      NCYC1187  \n\n[8070 rows x 34 columns]"
     },
     "execution_count": 17,
     "metadata": {},
     "output_type": "execute_result"
    }
   ],
   "execution_count": null
  },
  {
   "cell_type": "code",
   "metadata": {
    "tags": [],
    "cell_id": "00034-1c62ca9b-cfcd-47de-8e98-92fca75527fc",
    "deepnote_cell_type": "code"
   },
   "source": "df_fv31_36.info()",
   "outputs": [
    {
     "name": "stdout",
     "output_type": "stream",
     "text": "<class 'pandas.core.frame.DataFrame'>\nRangeIndex: 8070 entries, 0 to 8069\nData columns (total 34 columns):\n #   Column                   Non-Null Count  Dtype         \n---  ------                   --------------  -----         \n 0   Timestamp                8070 non-null   datetime64[ns]\n 1   Asset_Id                 8070 non-null   object        \n 2   ADF                      4051 non-null   float64       \n 3   FV Full Plato            7350 non-null   float64       \n 4   Diacetyl                 5652 non-null   float64       \n 5   End Phase Time           0 non-null      float64       \n 6   Fermentation Start Time  7083 non-null   object        \n 7   Integrator Key           8070 non-null   float64       \n 8   Phase Duration           0 non-null      float64       \n 9   Plato                    4051 non-null   float64       \n 10  Predicted Transition     0 non-null      float64       \n 11  Deviation                0 non-null      float64       \n 12  VesselID                 8070 non-null   int64         \n 13  Vessel Procedure         0 non-null      float64       \n 14  Yeast Generation         8070 non-null   int64         \n 15  Yeast Out Totalizer      0 non-null      float64       \n 16  Volume In                8070 non-null   float64       \n 17  Volume Out               8070 non-null   float64       \n 18  Volume                   8070 non-null   float64       \n 19  PIC OUT                  8070 non-null   float64       \n 20  PIC PV                   8070 non-null   float64       \n 21  PIC SP                   8070 non-null   float64       \n 22  Bottom TIC OUT           8070 non-null   float64       \n 23  Bottom TIC PV            8070 non-null   float64       \n 24  Bottom TIC SP            8070 non-null   float64       \n 25  Middle TIC OUT           8070 non-null   float64       \n 26  Middle TIC PV            8070 non-null   float64       \n 27  Middle TIC SP            8070 non-null   float64       \n 28  Top TIC OUT              8070 non-null   float64       \n 29  Top TIC PV               8070 non-null   float64       \n 30  Top TIC SP               8070 non-null   float64       \n 31  Brand                    8070 non-null   object        \n 32  Status                   8070 non-null   object        \n 33  Yeast Strain             8070 non-null   object        \ndtypes: datetime64[ns](1), float64(26), int64(2), object(5)\nmemory usage: 2.1+ MB\n"
    }
   ],
   "execution_count": null
  },
  {
   "cell_type": "markdown",
   "source": "## Change datasets\n\nAs seen above, the other available dataset is `Campus_Energy`. ",
   "metadata": {
    "cell_id": "00035-d873af4d-4923-4535-81f5-0609a7425beb",
    "deepnote_cell_type": "markdown"
   }
  },
  {
   "cell_type": "code",
   "metadata": {
    "cell_id": "00036-b451a9bf-ccbc-4b03-985a-10c9d51550b4",
    "deepnote_cell_type": "code"
   },
   "source": "hub.set_dataset(\"Campus_Energy\")",
   "outputs": [],
   "execution_count": null
  },
  {
   "cell_type": "markdown",
   "source": "## Verify that it's now the current dataset",
   "metadata": {
    "cell_id": "00037-4e82edd3-7e29-49ab-a739-cb9024d79db4",
    "deepnote_cell_type": "markdown"
   }
  },
  {
   "cell_type": "code",
   "metadata": {
    "cell_id": "00038-bf6c98f5-4d3c-4715-9df5-0824b31dab49",
    "deepnote_output_heights": [
     21.1875
    ],
    "deepnote_cell_type": "code"
   },
   "source": "hub.current_dataset()",
   "outputs": [
    {
     "data": {
      "text/plain": "'Campus_Energy'"
     },
     "execution_count": 20,
     "metadata": {},
     "output_type": "execute_result"
    }
   ],
   "execution_count": null
  },
  {
   "cell_type": "markdown",
   "source": "## Update the namespace Id \n\nIt can be different from dataset to dataset ",
   "metadata": {
    "cell_id": "00039-6af72ec9-06b8-44cb-b050-48549d397dd2",
    "deepnote_cell_type": "markdown"
   }
  },
  {
   "cell_type": "code",
   "metadata": {
    "cell_id": "00040-53ea2abc-0a5c-46a8-8df1-f4ecccee3894",
    "deepnote_output_heights": [
     21.1875
    ],
    "deepnote_cell_type": "code"
   },
   "source": "namespace_id = hub.namespace_of(hub.current_dataset())\nnamespace_id",
   "outputs": [
    {
     "data": {
      "text/plain": "'UC__Davis'"
     },
     "execution_count": 21,
     "metadata": {},
     "output_type": "execute_result"
    }
   ],
   "execution_count": null
  },
  {
   "cell_type": "markdown",
   "source": "## Assets of new dataset ",
   "metadata": {
    "cell_id": "00041-832f0d13-4109-47c5-a3b3-0b2ecaf7bb32",
    "deepnote_cell_type": "markdown"
   }
  },
  {
   "cell_type": "code",
   "metadata": {
    "tags": [],
    "cell_id": "00042-4adde925-be36-449c-b592-9e8e7398eb1f",
    "deepnote_cell_type": "code"
   },
   "source": "print(hub.assets().to_string(index=False))",
   "outputs": [
    {
     "name": "stdout",
     "output_type": "stream",
     "text": "                                                   Asset_Id                             Description\n                                               ARC Pavilion                                Building\n                                    Academic Surge Building                                Building\n                           Activities and Recreation Center                                Building\n                     Advanced Materials Research Laboratory                                Building\n     Advanced Transportation Infrastructure Research Center                                Building\n                                  Agronomy Field Laboratory                                Building\n                                            Animal Building                                Building\n                                 Animal Resource Service J1                                Building\n                                 Animal Resource Service M3                                Building\n                                 Animal Resource Service N1                                Building\n                                       Ann E. Pitzer Center                            Recital Hall\n                                  Antique Mechanics Trailer                                Building\n               Aquatic Biology & Environmental Science Bldg                                Building\n                                         Art Building Annex                                Building\n                                   Art, Music, Wright Halls                                Building\n                                            Asmundson Annex                                Building\n                                             Asmundson Hall                                Building\n                                                Bainer Hall                                Building\n                                          Bowley Head House                                Building\n                                                Briggs Hall                                Building\n                                CFA Administration Building                                Building\n                                            California Hall                                Building\n                                         Campus Data Center                                Building\n                                Cellular Biology Laboratory                                Building\n                         Center for Companion Animal Health                                Building\n                            Center for Comparative Medicine                                Building\n          Center for Health & Environment Clinical Medicine                                Building\n        Center for Health & Environment Office & Laboratory                                Building\n Center for Health & Environment Toxic Pollutant Laboratory                                Building\n                                 Central Cage Wash Facility                                Building\n                                                  Chemistry                                Building\n                                            Chemistry Annex                                Building\n                                                     Cole A                                Building\n                                                     Cole B                                Building\n                                          Conference Center                                Building\n                                Contained Research Facility                                Building\n                                                Cruess Hall                                Building\n                                          Dairy Cattle Feed                                Building\n                                          Dairy Cattle Shed                                Building\n                                                Dairy Tower                                Building\n                                                Dutton Hall                                Building\n                       Earth and Physical Sciences Building                                Building\n               Environmental Services Facility Headquarters                                Building\n                        Equestrian Center Caretaker Trailer                                Building\n                            Equestrian Center Covered Arena                                Building\n                                               Everson Hall                                Building\n                                     FPS Trinchero Building                                Building\n                                Facilities Electrical Annex                                Building\n                                              Freeborn Hall                                Building\n                                             Gallagher Hall                                 Complex\n                                  Gateway Parking Structure                                Building\n                      Genome & Biomedical Sciences Facility                                Building\n                             Geotechnical Modeling Facility                                Building\n                                                Ghausi Hall                                Building\n                                                 Giedt Hall                                Building\n                           Gourley Clinical Teaching Center                                Building\n                                 Growth Chamber Building T1                                Building\n                                 Growth Chamber Building T2                                Building\n                                                Haring Hall                                Building\n                                                  Hart Hall                                Building\n                              Heitman Staff Learning Center                                Building\n                                                 Hickey Gym                                Building\n                                           Hickey Gym, Pool                                 Complex\n                                                Hickey Pool                                Building\n                                              Hoagland Hall                                Building\n               Hopkins Services Complex Auxiliary Receiving                                Building\n                                       Hopkins Svcs Complex                                 Complex\n                                     Housing Administration                                Building\n                                              Hunt, Parsons                                 Complex\n                         Hutchison Child Development Center                                Building\n                                             Hutchison Hall                                Building\n                          Hutchison Recreation Field Lights                                Building\n                               IET Communications Resources                                Building\n                                       International Center                                Building\n                                 Jackson Sustainable Winery                                Building\n                                             Jungerman Hall                                Building\n                                                Kemper Hall                                Building\n                                                  Kerr Hall                                Building\n                                                  King Hall                                Building\n                                              Leukemia Barn                                Building\n                                               Leukemia Lab                                Building\n                                              Life Sciences                                Building\n                                                  Maddy Lab                                   EqACL\n                                            Mann Laboratory                                Building\n                             Mathematical Sciences Building                                Building\n                                       Medical Sciences I B                                Building\n                                       Medical Sciences I D                                Building\n                                             Memorial Union                                Building\n                                                 Meyer Hall                                Building\n                                                  Mrak Hall                                Building\n              Office of Research (1850 Research Park Drive)                                Building\n                                                 Olson Hall                                Building\n                                          PES Tennis Courts                                Building\n                          Parsons Seed Certification Center                                Building\n                                 Pavilion Parking Structure   Formerly West Entry Parking Structure\n                    Physical Sciences & Engineering Library                                Building\n                                           Physics Building                                Building\n                             Plant & Environmental Sciences                                Building\n                        Plant Reproductive Biology Facility                                Building\n                Primate Childhood Health & Disease Facility                                Building\n              Primate Controlled Environment Facility (CEF)                                Building\n                                         Primate Quarantine                                Building\n                         Primate Respiratory Disease Center                                Building\n                                      Primate Shop Facility                                Building\n                   Primate Virology & Immunology Laboratory                                Building\n                                             Pritchard VMTH                                 Complex\n                                     Quad Parking Structure  formerly North Entry Parking Structure\n               RMI Brewery, Winery, and Food Pilot Facility                                Building\n                                  RMI North, South, Sensory           RMI North, Sount, and Sensory\n                                                Rifle Range                                Building\n                                               Robbins Hall                                        \n                                              Roessler Hall                                Building\n                                      Schaal Aquatic Center                                Building\n                               School of Education Building                                Building\n                                      Sciences Lab Building                Tag includes Sci Lec 123\n                                     Segundo Dining Commons                                Building\n                                         Segundo High Rises                                 Complex\n                                              Segundo North                                 Complex\n                                              Segundo Regan                                 Complex\n                            Segundo Services Center, Market                                 Complex\n                                            Shields Library                                Building\n                                        Shrem Museum of Art                                Building\n                                             Silo Bike Barn                                Building\n                               Social Sciences & Humanities                                Building\n                                          Sprocket Building                                Building\n                                                Sproul Hall                                Building\n                                                Storer Hall                                Building\n                                      Student Affairs Annex                                Building\n                                   Student Community Center                                Building\n                           Student Health & Wellness Center                                Building\n                                                    Surge 2                                Building\n                       Swine Teaching and Research Facility                                Building\n                                                   TAPS C&E                                Building\n                                     Temporary Building 144                                Building\n                                     Temporary Building 178                                Building\n                                     Temporary Building 184                                Building\n                                                  Tercero 1                                 Complex\n                                                  Tercero 2                                 Complex\n                                                  Tercero 3                                 Complex\n                                                  Tercero 4                                 Complex\n                                  Tercero Community, Market                                 Complex\n                                                   The Barn                                Building\n                                         Thurman Laboratory                         CAHFS Container\n                     Translational Shared Research Facility                                Building\n                        Transportation and Parking Services                                Building\n                                                Tupper Hall                                Building\n                                    UC Davis Health Stadium                                 Complex\n                              University Extension Building                                Building\n                               University Services Building                                Building\n                                              VMTH Surgical                                Building\n                                                  VMTH Ward                                Building\n                                                Valley Hall                             Valley Hall\n                                             Veihmeyer Hall                                Building\n                                         Vet Med 3A, 3A-MPT                                 Complex\n                                                 Vet Med 3B                                Building\n                    Vet Med Equine Athletic Performance Lab                                Building\n                             Vet Med Lab Animal A Beach Lab                                Building\n                              Vet Med Large Animal Facility                                Building\n         Vet Med Student Services and Administration Center                                Building\n                                      Veterinary Medicine 2                                Building\n                                              Voorhies Hall                                Building\n                                                Walker Hall                                Building\n                   Water Science & Engineering Hydraulic L2                                Building\n                                 Watershed Science Facility              Watershed Science Facility\n                                               Wellman Hall                                Building\n            Western Human Nutrition Research Center (WHNRC)                                Building\n                                               Wickson Hall                                Building\n                                                 Young Hall                                Building\n"
    }
   ],
   "execution_count": null
  },
  {
   "cell_type": "markdown",
   "source": "## Data view discovery and interpolation data methods are the same\n\nThe difference is that for `Campus_Energy` dataset, the default data view is the same as the `-electricity` data view. The reason is that the `electricity` data view is the only one which is common to all buildings. The `chilled_water` and `steam` data views are optional. Please consult the `Campus_Energy` dataset documentation for details. ",
   "metadata": {
    "cell_id": "00043-1b248c7a-a13c-4921-b08e-b6514e727f47",
    "deepnote_cell_type": "markdown"
   }
  },
  {
   "cell_type": "markdown",
   "source": "## Asset metadata\n\nIn some datasets like `Campus_Energy`, assets have metadata (static information) attached to them. This metadata comes in the form of a Python dictionary, i.e. a set of keys, each key with an associated value. The example below is representative of building metadata available with `Campus_Energy`. ",
   "metadata": {
    "cell_id": "00044-ac8a9b3b-4c1f-4f57-bf16-92e7561f90b7",
    "deepnote_cell_type": "markdown"
   }
  },
  {
   "cell_type": "code",
   "metadata": {
    "tags": [],
    "cell_id": "00045-8bfd6ee8-582c-47bb-bae9-8b30f5743967",
    "deepnote_output_heights": [
     213.125
    ],
    "deepnote_cell_type": "code"
   },
   "source": "hub.asset_metadata(\"Art Building Annex\")",
   "outputs": [
    {
     "data": {
      "text/plain": "{'BuildingName': 'ArtAnnex',\n 'CAAN': 3400,\n 'Construction Date': 19380501,\n 'Display Name': 'Art Building Annex',\n 'Latitude': 38.5383918377,\n 'Longitude': -121.748655997,\n 'Primary Usage (Type)': 'CLS - Classroom',\n 'Total Maintained Gross Sq. Ft.': 9972,\n 'electricity.Annual Cost': 12780,\n 'electricity.kWh Rate': 0.0687,\n 'Asset_Id': 'Art Building Annex'}"
     },
     "execution_count": 23,
     "metadata": {},
     "output_type": "execute_result"
    }
   ],
   "execution_count": null
  },
  {
   "cell_type": "markdown",
   "source": "## Metadata for all assets\n\nIt sometimes useful to get metadata of all assets into a single Pandas dataframe to select assets according to some criteria, for example Primary Usage.  ",
   "metadata": {
    "cell_id": "00046-14179e2a-fb5c-41b2-b2f1-690e29b732c6",
    "deepnote_cell_type": "markdown"
   }
  },
  {
   "cell_type": "code",
   "metadata": {
    "cell_id": "00047-4dd142df-f562-4da4-8b0a-2a623fb0c922",
    "deepnote_output_heights": [
     382.1875
    ],
    "deepnote_cell_type": "code"
   },
   "source": "hub.all_assets_metadata()",
   "outputs": [
    {
     "data": {
      "text/html": "<div>\n<style scoped>\n    .dataframe tbody tr th:only-of-type {\n        vertical-align: middle;\n    }\n\n    .dataframe tbody tr th {\n        vertical-align: top;\n    }\n\n    .dataframe thead th {\n        text-align: right;\n    }\n</style>\n<table border=\"1\" class=\"dataframe\">\n  <thead>\n    <tr style=\"text-align: right;\">\n      <th></th>\n      <th>BuildingName</th>\n      <th>CAAN</th>\n      <th>Construction Date</th>\n      <th>Display Name</th>\n      <th>Latitude</th>\n      <th>Longitude</th>\n      <th>Primary Usage (Type)</th>\n      <th>Total Maintained Gross Sq. Ft.</th>\n      <th>chilledwater.Annual Cost</th>\n      <th>chilledwater.tonh Rate</th>\n      <th>electricity.Annual Cost</th>\n      <th>electricity.kWh Rate</th>\n      <th>steam.Annual Cost</th>\n      <th>steam.klb Rate</th>\n      <th>Asset_Id</th>\n      <th>Primary Usage (SF % of Total)</th>\n      <th>Building Name</th>\n      <th>Sq Ft.</th>\n    </tr>\n  </thead>\n  <tbody>\n    <tr>\n      <th>0</th>\n      <td>ARCPavilion</td>\n      <td>4444</td>\n      <td>19770301.0</td>\n      <td>ARC Pavilion</td>\n      <td>38.541812</td>\n      <td>-121.759624</td>\n      <td>REC - Athletics &amp; Recreation</td>\n      <td>171940.0</td>\n      <td>557.0</td>\n      <td>0.1493</td>\n      <td>51155.0</td>\n      <td>0.0687</td>\n      <td>1500.0</td>\n      <td>7.2552</td>\n      <td>ARC Pavilion</td>\n      <td>NaN</td>\n      <td>NaN</td>\n      <td>NaN</td>\n    </tr>\n    <tr>\n      <th>1</th>\n      <td>AcademicSurge</td>\n      <td>4632</td>\n      <td>19920501.0</td>\n      <td>Academic Surge Building</td>\n      <td>38.535302</td>\n      <td>-121.752910</td>\n      <td>OFF - Academic / Administrative Office</td>\n      <td>127426.0</td>\n      <td>712.0</td>\n      <td>0.1493</td>\n      <td>143910.0</td>\n      <td>0.0687</td>\n      <td>13562.0</td>\n      <td>7.2552</td>\n      <td>Academic Surge Building</td>\n      <td>NaN</td>\n      <td>NaN</td>\n      <td>NaN</td>\n    </tr>\n    <tr>\n      <th>2</th>\n      <td>ARC</td>\n      <td>4799</td>\n      <td>20020415.0</td>\n      <td>Activities and Recreation Center</td>\n      <td>38.542897</td>\n      <td>-121.759644</td>\n      <td>REC - Athletics &amp; Recreation</td>\n      <td>158120.0</td>\n      <td>55977.0</td>\n      <td>0.1493</td>\n      <td>97822.0</td>\n      <td>0.0687</td>\n      <td>25234.0</td>\n      <td>7.2552</td>\n      <td>Activities and Recreation Center</td>\n      <td>NaN</td>\n      <td>NaN</td>\n      <td>NaN</td>\n    </tr>\n    <tr>\n      <th>3</th>\n      <td>AMRL</td>\n      <td>4853</td>\n      <td>20080731.0</td>\n      <td>Advanced Materials Research Laboratory</td>\n      <td>38.532286</td>\n      <td>-121.758484</td>\n      <td>LAB - Lab / Research</td>\n      <td>7560.0</td>\n      <td>NaN</td>\n      <td>NaN</td>\n      <td>9567.0</td>\n      <td>0.0687</td>\n      <td>NaN</td>\n      <td>NaN</td>\n      <td>Advanced Materials Research Laboratory</td>\n      <td>NaN</td>\n      <td>NaN</td>\n      <td>NaN</td>\n    </tr>\n    <tr>\n      <th>4</th>\n      <td>ATIRC</td>\n      <td>4879</td>\n      <td>20080801.0</td>\n      <td>Advanced Transportation Infrastructure Researc...</td>\n      <td>38.534596</td>\n      <td>-121.794319</td>\n      <td>LAB - Lab / Research</td>\n      <td>18955.0</td>\n      <td>NaN</td>\n      <td>NaN</td>\n      <td>29061.0</td>\n      <td>0.0687</td>\n      <td>NaN</td>\n      <td>NaN</td>\n      <td>Advanced Transportation Infrastructure Researc...</td>\n      <td>NaN</td>\n      <td>NaN</td>\n      <td>NaN</td>\n    </tr>\n    <tr>\n      <th>...</th>\n      <td>...</td>\n      <td>...</td>\n      <td>...</td>\n      <td>...</td>\n      <td>...</td>\n      <td>...</td>\n      <td>...</td>\n      <td>...</td>\n      <td>...</td>\n      <td>...</td>\n      <td>...</td>\n      <td>...</td>\n      <td>...</td>\n      <td>...</td>\n      <td>...</td>\n      <td>...</td>\n      <td>...</td>\n      <td>...</td>\n    </tr>\n    <tr>\n      <th>163</th>\n      <td>WatershedResearch</td>\n      <td>4833</td>\n      <td>20051024.0</td>\n      <td>Watershed Science Facility</td>\n      <td>38.534788</td>\n      <td>-121.752625</td>\n      <td>LAB - Lab / Research</td>\n      <td>18391.0</td>\n      <td>6847.0</td>\n      <td>0.1493</td>\n      <td>41650.0</td>\n      <td>0.0687</td>\n      <td>3452.0</td>\n      <td>7.2552</td>\n      <td>Watershed Science Facility</td>\n      <td>NaN</td>\n      <td>NaN</td>\n      <td>NaN</td>\n    </tr>\n    <tr>\n      <th>164</th>\n      <td>Wellman</td>\n      <td>4050</td>\n      <td>0.0</td>\n      <td>0</td>\n      <td>38.541337</td>\n      <td>-121.751393</td>\n      <td>0</td>\n      <td>0.0</td>\n      <td>32992.0</td>\n      <td>0.1493</td>\n      <td>11147.0</td>\n      <td>0.0687</td>\n      <td>159444.0</td>\n      <td>7.2552</td>\n      <td>Wellman Hall</td>\n      <td>NaN</td>\n      <td>NaN</td>\n      <td>NaN</td>\n    </tr>\n    <tr>\n      <th>165</th>\n      <td>WHNRC</td>\n      <td>4843</td>\n      <td>0.0</td>\n      <td>Western Human Nutrition Research Center (WHNRC)</td>\n      <td>38.535025</td>\n      <td>-121.766218</td>\n      <td>LAB - Lab / Research</td>\n      <td>49941.0</td>\n      <td>52087.0</td>\n      <td>0.1493</td>\n      <td>80918.0</td>\n      <td>0.0687</td>\n      <td>23547.0</td>\n      <td>7.2552</td>\n      <td>Western Human Nutrition Research Center (WHNRC)</td>\n      <td>NaN</td>\n      <td>NaN</td>\n      <td>NaN</td>\n    </tr>\n    <tr>\n      <th>166</th>\n      <td>Wickson</td>\n      <td>3351</td>\n      <td>19590501.0</td>\n      <td>Wickson Hall</td>\n      <td>38.542042</td>\n      <td>-121.751590</td>\n      <td>CLS - Classroom</td>\n      <td>112937.0</td>\n      <td>62342.0</td>\n      <td>0.1493</td>\n      <td>167646.0</td>\n      <td>0.0687</td>\n      <td>67190.0</td>\n      <td>7.2552</td>\n      <td>Wickson Hall</td>\n      <td>NaN</td>\n      <td>NaN</td>\n      <td>NaN</td>\n    </tr>\n    <tr>\n      <th>167</th>\n      <td>Young</td>\n      <td>3266</td>\n      <td>19400501.0</td>\n      <td>Young Hall</td>\n      <td>38.542394</td>\n      <td>-121.747732</td>\n      <td>CLS - Classroom</td>\n      <td>90567.0</td>\n      <td>35053.0</td>\n      <td>0.1493</td>\n      <td>58592.0</td>\n      <td>0.0687</td>\n      <td>57209.0</td>\n      <td>7.2552</td>\n      <td>Young Hall</td>\n      <td>NaN</td>\n      <td>NaN</td>\n      <td>NaN</td>\n    </tr>\n  </tbody>\n</table>\n<p>168 rows × 18 columns</p>\n</div>",
      "text/plain": "          BuildingName  CAAN  Construction Date  \\\n0          ARCPavilion  4444         19770301.0   \n1        AcademicSurge  4632         19920501.0   \n2                  ARC  4799         20020415.0   \n3                 AMRL  4853         20080731.0   \n4                ATIRC  4879         20080801.0   \n..                 ...   ...                ...   \n163  WatershedResearch  4833         20051024.0   \n164            Wellman  4050                0.0   \n165              WHNRC  4843                0.0   \n166            Wickson  3351         19590501.0   \n167              Young  3266         19400501.0   \n\n                                          Display Name   Latitude   Longitude  \\\n0                                         ARC Pavilion  38.541812 -121.759624   \n1                              Academic Surge Building  38.535302 -121.752910   \n2                     Activities and Recreation Center  38.542897 -121.759644   \n3               Advanced Materials Research Laboratory  38.532286 -121.758484   \n4    Advanced Transportation Infrastructure Researc...  38.534596 -121.794319   \n..                                                 ...        ...         ...   \n163                         Watershed Science Facility  38.534788 -121.752625   \n164                                                  0  38.541337 -121.751393   \n165    Western Human Nutrition Research Center (WHNRC)  38.535025 -121.766218   \n166                                       Wickson Hall  38.542042 -121.751590   \n167                                         Young Hall  38.542394 -121.747732   \n\n                       Primary Usage (Type)  Total Maintained Gross Sq. Ft.  \\\n0              REC - Athletics & Recreation                        171940.0   \n1    OFF - Academic / Administrative Office                        127426.0   \n2              REC - Athletics & Recreation                        158120.0   \n3                      LAB - Lab / Research                          7560.0   \n4                      LAB - Lab / Research                         18955.0   \n..                                      ...                             ...   \n163                    LAB - Lab / Research                         18391.0   \n164                                       0                             0.0   \n165                    LAB - Lab / Research                         49941.0   \n166                         CLS - Classroom                        112937.0   \n167                         CLS - Classroom                         90567.0   \n\n     chilledwater.Annual Cost  chilledwater.tonh Rate  \\\n0                       557.0                  0.1493   \n1                       712.0                  0.1493   \n2                     55977.0                  0.1493   \n3                         NaN                     NaN   \n4                         NaN                     NaN   \n..                        ...                     ...   \n163                    6847.0                  0.1493   \n164                   32992.0                  0.1493   \n165                   52087.0                  0.1493   \n166                   62342.0                  0.1493   \n167                   35053.0                  0.1493   \n\n     electricity.Annual Cost  electricity.kWh Rate  steam.Annual Cost  \\\n0                    51155.0                0.0687             1500.0   \n1                   143910.0                0.0687            13562.0   \n2                    97822.0                0.0687            25234.0   \n3                     9567.0                0.0687                NaN   \n4                    29061.0                0.0687                NaN   \n..                       ...                   ...                ...   \n163                  41650.0                0.0687             3452.0   \n164                  11147.0                0.0687           159444.0   \n165                  80918.0                0.0687            23547.0   \n166                 167646.0                0.0687            67190.0   \n167                  58592.0                0.0687            57209.0   \n\n     steam.klb Rate                                           Asset_Id  \\\n0            7.2552                                       ARC Pavilion   \n1            7.2552                            Academic Surge Building   \n2            7.2552                   Activities and Recreation Center   \n3               NaN             Advanced Materials Research Laboratory   \n4               NaN  Advanced Transportation Infrastructure Researc...   \n..              ...                                                ...   \n163          7.2552                         Watershed Science Facility   \n164          7.2552                                       Wellman Hall   \n165          7.2552    Western Human Nutrition Research Center (WHNRC)   \n166          7.2552                                       Wickson Hall   \n167          7.2552                                         Young Hall   \n\n     Primary Usage (SF % of Total) Building Name Sq Ft.  \n0                              NaN           NaN    NaN  \n1                              NaN           NaN    NaN  \n2                              NaN           NaN    NaN  \n3                              NaN           NaN    NaN  \n4                              NaN           NaN    NaN  \n..                             ...           ...    ...  \n163                            NaN           NaN    NaN  \n164                            NaN           NaN    NaN  \n165                            NaN           NaN    NaN  \n166                            NaN           NaN    NaN  \n167                            NaN           NaN    NaN  \n\n[168 rows x 18 columns]"
     },
     "execution_count": 24,
     "metadata": {},
     "output_type": "execute_result"
    }
   ],
   "execution_count": null
  },
  {
   "cell_type": "code",
   "metadata": {
    "cell_id": "00048-9acd878d-060a-4a3a-8446-0a358bb4b9ec",
    "deepnote_cell_type": "code"
   },
   "source": "",
   "execution_count": null,
   "outputs": []
  },
  {
   "cell_type": "markdown",
   "source": "<a style='text-decoration:none;line-height:16px;display:flex;color:#5B5B62;padding:10px;justify-content:end;' href='https://deepnote.com?utm_source=created-in-deepnote-cell&projectId=e0a25126-dd93-4fb8-80f3-e53704183a6c' target=\"_blank\">\n<img alt='Created in deepnote.com' style='display:inline;max-height:16px;margin:0px;margin-right:7.5px;' src='data:image/svg+xml;base64,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' > </img>\nCreated in <span style='font-weight:600;margin-left:4px;'>Deepnote</span></a>",
   "metadata": {
    "tags": [],
    "created_in_deepnote_cell": true,
    "deepnote_cell_type": "markdown"
   }
  }
 ],
 "nbformat": 4,
 "nbformat_minor": 4,
 "metadata": {
  "kernelspec": {
   "display_name": "Python 3",
   "language": "python",
   "name": "python3"
  },
  "language_info": {
   "codemirror_mode": {
    "name": "ipython",
    "version": 3
   },
   "file_extension": ".py",
   "mimetype": "text/x-python",
   "name": "python",
   "nbconvert_exporter": "python",
   "pygments_lexer": "ipython3",
   "version": "3.7.6"
  },
  "toc": {
   "base_numbering": 1,
   "nav_menu": {},
   "number_sections": true,
   "sideBar": true,
   "skip_h1_title": false,
   "title_cell": "Table of Contents",
   "title_sidebar": "Contents",
   "toc_cell": false,
   "toc_position": {},
   "toc_section_display": true,
   "toc_window_display": false
  },
  "deepnote_notebook_id": "e81e91cd-9304-4f52-8cd6-22b3cb8c9416",
  "deepnote": {},
  "deepnote_execution_queue": []
 }
}