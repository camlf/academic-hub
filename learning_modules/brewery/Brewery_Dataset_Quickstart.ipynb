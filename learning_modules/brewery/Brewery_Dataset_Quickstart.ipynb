{
 "cells": [
  {
   "cell_type": "markdown",
   "source": "# Brewery Dataset Quick Start\n\nVersion 2.0\n\nThe Brewery dataset of the Academic Hub dataset is hosted by the OSIsoft Cloud Service (OCS, https://www.osisoft.com/solutions/cloud/vision/), a cloud-native realtime data infrastructure to perform enterprise-wide analytics using tools and languages of their choice. \n\n<div class=\"alert alert-info\">\n<b>For documentation about the Brewery dataset itself, please go to <a href=\"https://data.academic.osisoft.com/nbviewer/github/academic-hub/datasets/blob/master/Brewery_Dataset_Doc.ipynb\">https://data.academic.osisoft.com/nbviewer/github/academic-hub/datasets/blob/master/Brewery_Dataset_Doc.ipynb</a></b>\n</div>\n\n\n**Raw operational data has specific characteristics making it difficult to deal with directly**, among them:\n\n* variable data collection frequencies\n* bad values (system error codes)\n* data gaps \n\n\n**But data science projects against operational data needs to be:**\n\n* **Time-aligned** to deal with the characteritics above in consistent way according to the data type (e.g. interpolation for float values, repeat last good value for categorical data, etc)\n* **Context aware** so that the data can be understandable, across as many real-world assets that you need it for\n* **Shaped and filtered** to ensure you have the data you need, in the form you need it\n\n**OCS solution for application-ready data are Data Views:**\n\n![](https://academichub.blob.core.windows.net/images/piworld-dse-dataview-p2.png)\n\n**Each Academic Hub datasets comes endowed with a set of asset-centric data views.** The goal of Academic Hub Python library is to allow in a very generic and consistent way to access:\n\n* the list of existing datasets\n* for a given dataset: \n  * get the list of its assets\n  * get the OCS namespace where the dataset is hosted\n* for a given asset, get the list data views it belongs to\n\nThe rest of this notebook is a working example of the functionality listed above. \n\n<div class=\"alert alert-info\">\n<b>The rest of this notebook is a working example of the functionality listed above for the Brewery dataset</b>\n</div>",
   "metadata": {
    "cell_id": "d41b957b-f1eb-4d9b-9413-f1b2e82d001f",
    "deepnote_cell_type": "markdown"
   }
  },
  {
   "cell_type": "markdown",
   "source": "## Install Academic Hub Python library ",
   "metadata": {
    "cell_id": "00001-dfd0c55d-53ba-4de3-848f-691e83172152",
    "deepnote_cell_type": "markdown"
   }
  },
  {
   "cell_type": "code",
   "metadata": {
    "tags": [],
    "cell_id": "00002-d095c536-7e17-4059-9f02-ae972e6d4381",
    "deepnote_to_be_reexecuted": false,
    "source_hash": "92b9a0",
    "execution_start": 1642204158360,
    "execution_millis": 5071,
    "deepnote_cell_type": "code"
   },
   "source": "!pip install ocs-academic-hub==0.99.38",
   "outputs": [
    {
     "name": "stdout",
     "text": "Requirement already satisfied: ocs-academic-hub==0.99.38 in /root/venv/lib/python3.7/site-packages (0.99.38)\nRequirement already satisfied: pandas>=0.24.2 in /shared-libs/python3.7/py/lib/python3.7/site-packages (from ocs-academic-hub==0.99.38) (1.2.5)\nRequirement already satisfied: ocs-sample-library-hub>=0.1.19 in /root/venv/lib/python3.7/site-packages (from ocs-academic-hub==0.99.38) (0.1.19)\nRequirement already satisfied: backoff in /root/venv/lib/python3.7/site-packages (from ocs-academic-hub==0.99.38) (1.11.1)\nRequirement already satisfied: typeguard>=2.4.1 in /root/venv/lib/python3.7/site-packages (from ocs-academic-hub==0.99.38) (2.13.3)\nRequirement already satisfied: python-dateutil>=2.8.0 in /shared-libs/python3.7/py-core/lib/python3.7/site-packages (from ocs-academic-hub==0.99.38) (2.8.2)\nRequirement already satisfied: markdown in /shared-libs/python3.7/py/lib/python3.7/site-packages (from ocs-academic-hub==0.99.38) (3.3.6)\nRequirement already satisfied: ipywidgets in /root/venv/lib/python3.7/site-packages (from ocs-academic-hub==0.99.38) (7.6.5)\nRequirement already satisfied: gql in /root/venv/lib/python3.7/site-packages (from ocs-academic-hub==0.99.38) (2.0.0)\nRequirement already satisfied: numpy in /shared-libs/python3.7/py/lib/python3.7/site-packages (from ocs-academic-hub==0.99.38) (1.19.5)\nRequirement already satisfied: importlib-metadata in /shared-libs/python3.7/py-core/lib/python3.7/site-packages (from ocs-academic-hub==0.99.38) (4.8.2)\nRequirement already satisfied: requests>=2.26 in /shared-libs/python3.7/py/lib/python3.7/site-packages (from ocs-academic-hub==0.99.38) (2.26.0)\nRequirement already satisfied: pytz>=2017.3 in /shared-libs/python3.7/py/lib/python3.7/site-packages (from pandas>=0.24.2->ocs-academic-hub==0.99.38) (2021.3)\nRequirement already satisfied: six>=1.5 in /shared-libs/python3.7/py-core/lib/python3.7/site-packages (from python-dateutil>=2.8.0->ocs-academic-hub==0.99.38) (1.16.0)\nRequirement already satisfied: widgetsnbextension~=3.5.0 in /root/venv/lib/python3.7/site-packages (from ipywidgets->ocs-academic-hub==0.99.38) (3.5.2)\nRequirement already satisfied: traitlets>=4.3.1 in /shared-libs/python3.7/py-core/lib/python3.7/site-packages (from ipywidgets->ocs-academic-hub==0.99.38) (4.3.3)\nRequirement already satisfied: ipython>=4.0.0; python_version >= \"3.3\" in /shared-libs/python3.7/py-core/lib/python3.7/site-packages (from ipywidgets->ocs-academic-hub==0.99.38) (7.30.1)\nRequirement already satisfied: ipykernel>=4.5.1 in /shared-libs/python3.7/py-core/lib/python3.7/site-packages (from ipywidgets->ocs-academic-hub==0.99.38) (5.5.5)\nRequirement already satisfied: nbformat>=4.2.0 in /shared-libs/python3.7/py-core/lib/python3.7/site-packages (from ipywidgets->ocs-academic-hub==0.99.38) (5.1.3)\nRequirement already satisfied: ipython-genutils~=0.2.0 in /shared-libs/python3.7/py-core/lib/python3.7/site-packages (from ipywidgets->ocs-academic-hub==0.99.38) (0.2.0)\nRequirement already satisfied: jupyterlab-widgets>=1.0.0; python_version >= \"3.6\" in /root/venv/lib/python3.7/site-packages (from ipywidgets->ocs-academic-hub==0.99.38) (1.0.2)\nRequirement already satisfied: promise<3,>=2.3 in /root/venv/lib/python3.7/site-packages (from gql->ocs-academic-hub==0.99.38) (2.3)\nRequirement already satisfied: graphql-core<3,>=2.3.2 in /root/venv/lib/python3.7/site-packages (from gql->ocs-academic-hub==0.99.38) (2.3.2)\nRequirement already satisfied: typing-extensions>=3.6.4; python_version < \"3.8\" in /shared-libs/python3.7/py-core/lib/python3.7/site-packages (from importlib-metadata->ocs-academic-hub==0.99.38) (4.0.1)\nRequirement already satisfied: zipp>=0.5 in /shared-libs/python3.7/py-core/lib/python3.7/site-packages (from importlib-metadata->ocs-academic-hub==0.99.38) (3.6.0)\nRequirement already satisfied: urllib3<1.27,>=1.21.1 in /shared-libs/python3.7/py/lib/python3.7/site-packages (from requests>=2.26->ocs-academic-hub==0.99.38) (1.26.7)\nRequirement already satisfied: idna<4,>=2.5; python_version >= \"3\" in /shared-libs/python3.7/py-core/lib/python3.7/site-packages (from requests>=2.26->ocs-academic-hub==0.99.38) (3.3)\nRequirement already satisfied: certifi>=2017.4.17 in /shared-libs/python3.7/py/lib/python3.7/site-packages (from requests>=2.26->ocs-academic-hub==0.99.38) (2021.10.8)\nRequirement already satisfied: charset-normalizer~=2.0.0; python_version >= \"3\" in /shared-libs/python3.7/py-core/lib/python3.7/site-packages (from requests>=2.26->ocs-academic-hub==0.99.38) (2.0.9)\nRequirement already satisfied: notebook>=4.4.1 in /shared-libs/python3.7/py-core/lib/python3.7/site-packages (from widgetsnbextension~=3.5.0->ipywidgets->ocs-academic-hub==0.99.38) (6.3.0)\nRequirement already satisfied: decorator in /shared-libs/python3.7/py-core/lib/python3.7/site-packages (from traitlets>=4.3.1->ipywidgets->ocs-academic-hub==0.99.38) (5.1.0)\nRequirement already satisfied: prompt-toolkit!=3.0.0,!=3.0.1,<3.1.0,>=2.0.0 in /shared-libs/python3.7/py-core/lib/python3.7/site-packages (from ipython>=4.0.0; python_version >= \"3.3\"->ipywidgets->ocs-academic-hub==0.99.38) (3.0.24)\nRequirement already satisfied: backcall in /shared-libs/python3.7/py-core/lib/python3.7/site-packages (from ipython>=4.0.0; python_version >= \"3.3\"->ipywidgets->ocs-academic-hub==0.99.38) (0.2.0)\nRequirement already satisfied: matplotlib-inline in /shared-libs/python3.7/py-core/lib/python3.7/site-packages (from ipython>=4.0.0; python_version >= \"3.3\"->ipywidgets->ocs-academic-hub==0.99.38) (0.1.3)\nRequirement already satisfied: pexpect>4.3; sys_platform != \"win32\" in /shared-libs/python3.7/py-core/lib/python3.7/site-packages (from ipython>=4.0.0; python_version >= \"3.3\"->ipywidgets->ocs-academic-hub==0.99.38) (4.8.0)\nRequirement already satisfied: setuptools>=18.5 in /root/venv/lib/python3.7/site-packages (from ipython>=4.0.0; python_version >= \"3.3\"->ipywidgets->ocs-academic-hub==0.99.38) (47.1.0)\nRequirement already satisfied: pickleshare in /shared-libs/python3.7/py-core/lib/python3.7/site-packages (from ipython>=4.0.0; python_version >= \"3.3\"->ipywidgets->ocs-academic-hub==0.99.38) (0.7.5)\nRequirement already satisfied: pygments in /shared-libs/python3.7/py-core/lib/python3.7/site-packages (from ipython>=4.0.0; python_version >= \"3.3\"->ipywidgets->ocs-academic-hub==0.99.38) (2.10.0)\nRequirement already satisfied: jedi>=0.16 in /shared-libs/python3.7/py-core/lib/python3.7/site-packages (from ipython>=4.0.0; python_version >= \"3.3\"->ipywidgets->ocs-academic-hub==0.99.38) (0.17.2)\nRequirement already satisfied: tornado>=4.2 in /shared-libs/python3.7/py-core/lib/python3.7/site-packages (from ipykernel>=4.5.1->ipywidgets->ocs-academic-hub==0.99.38) (6.1)\nRequirement already satisfied: jupyter-client in /shared-libs/python3.7/py-core/lib/python3.7/site-packages (from ipykernel>=4.5.1->ipywidgets->ocs-academic-hub==0.99.38) (6.1.12)\nRequirement already satisfied: jsonschema!=2.5.0,>=2.4 in /shared-libs/python3.7/py-core/lib/python3.7/site-packages (from nbformat>=4.2.0->ipywidgets->ocs-academic-hub==0.99.38) (3.2.0)\nRequirement already satisfied: jupyter-core in /shared-libs/python3.7/py-core/lib/python3.7/site-packages (from nbformat>=4.2.0->ipywidgets->ocs-academic-hub==0.99.38) (4.7.1)\nRequirement already satisfied: rx<2,>=1.6 in /root/venv/lib/python3.7/site-packages (from graphql-core<3,>=2.3.2->gql->ocs-academic-hub==0.99.38) (1.6.1)\nRequirement already satisfied: jinja2 in /shared-libs/python3.7/py-core/lib/python3.7/site-packages (from notebook>=4.4.1->widgetsnbextension~=3.5.0->ipywidgets->ocs-academic-hub==0.99.38) (3.0.3)\nRequirement already satisfied: Send2Trash>=1.5.0 in /shared-libs/python3.7/py-core/lib/python3.7/site-packages (from notebook>=4.4.1->widgetsnbextension~=3.5.0->ipywidgets->ocs-academic-hub==0.99.38) (1.8.0)\nRequirement already satisfied: pyzmq>=17 in /shared-libs/python3.7/py-core/lib/python3.7/site-packages (from notebook>=4.4.1->widgetsnbextension~=3.5.0->ipywidgets->ocs-academic-hub==0.99.38) (22.3.0)\nRequirement already satisfied: argon2-cffi in /shared-libs/python3.7/py-core/lib/python3.7/site-packages (from notebook>=4.4.1->widgetsnbextension~=3.5.0->ipywidgets->ocs-academic-hub==0.99.38) (21.3.0)\nRequirement already satisfied: nbconvert==6.0.7 in /shared-libs/python3.7/py-core/lib/python3.7/site-packages (from notebook>=4.4.1->widgetsnbextension~=3.5.0->ipywidgets->ocs-academic-hub==0.99.38) (6.0.7)\nRequirement already satisfied: terminado>=0.8.3 in /shared-libs/python3.7/py-core/lib/python3.7/site-packages (from notebook>=4.4.1->widgetsnbextension~=3.5.0->ipywidgets->ocs-academic-hub==0.99.38) (0.12.1)\nRequirement already satisfied: prometheus-client in /shared-libs/python3.7/py-core/lib/python3.7/site-packages (from notebook>=4.4.1->widgetsnbextension~=3.5.0->ipywidgets->ocs-academic-hub==0.99.38) (0.12.0)\nRequirement already satisfied: wcwidth in /shared-libs/python3.7/py-core/lib/python3.7/site-packages (from prompt-toolkit!=3.0.0,!=3.0.1,<3.1.0,>=2.0.0->ipython>=4.0.0; python_version >= \"3.3\"->ipywidgets->ocs-academic-hub==0.99.38) (0.2.5)\nRequirement already satisfied: ptyprocess>=0.5 in /shared-libs/python3.7/py-core/lib/python3.7/site-packages (from pexpect>4.3; sys_platform != \"win32\"->ipython>=4.0.0; python_version >= \"3.3\"->ipywidgets->ocs-academic-hub==0.99.38) (0.7.0)\nRequirement already satisfied: parso<0.8.0,>=0.7.0 in /shared-libs/python3.7/py-core/lib/python3.7/site-packages (from jedi>=0.16->ipython>=4.0.0; python_version >= \"3.3\"->ipywidgets->ocs-academic-hub==0.99.38) (0.7.1)\nRequirement already satisfied: pyrsistent>=0.14.0 in /shared-libs/python3.7/py-core/lib/python3.7/site-packages (from jsonschema!=2.5.0,>=2.4->nbformat>=4.2.0->ipywidgets->ocs-academic-hub==0.99.38) (0.18.0)\nRequirement already satisfied: attrs>=17.4.0 in /shared-libs/python3.7/py-core/lib/python3.7/site-packages (from jsonschema!=2.5.0,>=2.4->nbformat>=4.2.0->ipywidgets->ocs-academic-hub==0.99.38) (21.2.0)\nRequirement already satisfied: MarkupSafe>=2.0 in /shared-libs/python3.7/py-core/lib/python3.7/site-packages (from jinja2->notebook>=4.4.1->widgetsnbextension~=3.5.0->ipywidgets->ocs-academic-hub==0.99.38) (2.0.1)\nRequirement already satisfied: argon2-cffi-bindings in /shared-libs/python3.7/py-core/lib/python3.7/site-packages (from argon2-cffi->notebook>=4.4.1->widgetsnbextension~=3.5.0->ipywidgets->ocs-academic-hub==0.99.38) (21.2.0)\nRequirement already satisfied: pandocfilters>=1.4.1 in /shared-libs/python3.7/py-core/lib/python3.7/site-packages (from nbconvert==6.0.7->notebook>=4.4.1->widgetsnbextension~=3.5.0->ipywidgets->ocs-academic-hub==0.99.38) (1.5.0)\nRequirement already satisfied: bleach in /shared-libs/python3.7/py-core/lib/python3.7/site-packages (from nbconvert==6.0.7->notebook>=4.4.1->widgetsnbextension~=3.5.0->ipywidgets->ocs-academic-hub==0.99.38) (4.1.0)\nRequirement already satisfied: mistune<2,>=0.8.1 in /shared-libs/python3.7/py-core/lib/python3.7/site-packages (from nbconvert==6.0.7->notebook>=4.4.1->widgetsnbextension~=3.5.0->ipywidgets->ocs-academic-hub==0.99.38) (0.8.4)\nRequirement already satisfied: entrypoints>=0.2.2 in /shared-libs/python3.7/py-core/lib/python3.7/site-packages (from nbconvert==6.0.7->notebook>=4.4.1->widgetsnbextension~=3.5.0->ipywidgets->ocs-academic-hub==0.99.38) (0.3)\nRequirement already satisfied: defusedxml in /shared-libs/python3.7/py-core/lib/python3.7/site-packages (from nbconvert==6.0.7->notebook>=4.4.1->widgetsnbextension~=3.5.0->ipywidgets->ocs-academic-hub==0.99.38) (0.7.1)\nRequirement already satisfied: jupyterlab-pygments in /shared-libs/python3.7/py-core/lib/python3.7/site-packages (from nbconvert==6.0.7->notebook>=4.4.1->widgetsnbextension~=3.5.0->ipywidgets->ocs-academic-hub==0.99.38) (0.1.2)\nRequirement already satisfied: testpath in /shared-libs/python3.7/py-core/lib/python3.7/site-packages (from nbconvert==6.0.7->notebook>=4.4.1->widgetsnbextension~=3.5.0->ipywidgets->ocs-academic-hub==0.99.38) (0.5.0)\nRequirement already satisfied: nbclient<0.6.0,>=0.5.0 in /shared-libs/python3.7/py-core/lib/python3.7/site-packages (from nbconvert==6.0.7->notebook>=4.4.1->widgetsnbextension~=3.5.0->ipywidgets->ocs-academic-hub==0.99.38) (0.5.9)\nRequirement already satisfied: cffi>=1.0.1 in /shared-libs/python3.7/py-core/lib/python3.7/site-packages (from argon2-cffi-bindings->argon2-cffi->notebook>=4.4.1->widgetsnbextension~=3.5.0->ipywidgets->ocs-academic-hub==0.99.38) (1.15.0)\nRequirement already satisfied: packaging in /shared-libs/python3.7/py-core/lib/python3.7/site-packages (from bleach->nbconvert==6.0.7->notebook>=4.4.1->widgetsnbextension~=3.5.0->ipywidgets->ocs-academic-hub==0.99.38) (21.3)\nRequirement already satisfied: webencodings in /shared-libs/python3.7/py-core/lib/python3.7/site-packages (from bleach->nbconvert==6.0.7->notebook>=4.4.1->widgetsnbextension~=3.5.0->ipywidgets->ocs-academic-hub==0.99.38) (0.5.1)\nRequirement already satisfied: nest-asyncio in /shared-libs/python3.7/py-core/lib/python3.7/site-packages (from nbclient<0.6.0,>=0.5.0->nbconvert==6.0.7->notebook>=4.4.1->widgetsnbextension~=3.5.0->ipywidgets->ocs-academic-hub==0.99.38) (1.5.4)\nRequirement already satisfied: pycparser in /shared-libs/python3.7/py-core/lib/python3.7/site-packages (from cffi>=1.0.1->argon2-cffi-bindings->argon2-cffi->notebook>=4.4.1->widgetsnbextension~=3.5.0->ipywidgets->ocs-academic-hub==0.99.38) (2.21)\nRequirement already satisfied: pyparsing!=3.0.5,>=2.0.2 in /shared-libs/python3.7/py-core/lib/python3.7/site-packages (from packaging->bleach->nbconvert==6.0.7->notebook>=4.4.1->widgetsnbextension~=3.5.0->ipywidgets->ocs-academic-hub==0.99.38) (3.0.6)\n\u001b[33mWARNING: You are using pip version 20.1.1; however, version 21.3.1 is available.\nYou should consider upgrading via the '/root/venv/bin/python -m pip install --upgrade pip' command.\u001b[0m\n",
     "output_type": "stream"
    }
   ],
   "execution_count": null
  },
  {
   "cell_type": "markdown",
   "source": "## Use the `pip uninstall` only in case of library issues",
   "metadata": {
    "cell_id": "00003-31d475fa-878f-4dc4-bbfd-c97fdd501f89",
    "deepnote_cell_type": "markdown"
   }
  },
  {
   "cell_type": "code",
   "metadata": {
    "tags": [],
    "cell_id": "00004-ff33f22d-fed4-40df-8d5a-c1fcda9c5f7d",
    "deepnote_to_be_reexecuted": false,
    "source_hash": "443928a3",
    "execution_start": 1642204163439,
    "execution_millis": 7,
    "deepnote_cell_type": "code"
   },
   "source": "# It's sometimes necessary to uninstall previous versions, uncomment and run the following line. Then restart kernel and reinstall with previous cell\n# !pip uninstall -y ocs-academic-hub ocs-sample-library-preview",
   "outputs": [],
   "execution_count": null
  },
  {
   "cell_type": "markdown",
   "source": "## Import hub_login, necessary to connect and interact with OCS",
   "metadata": {
    "cell_id": "00005-a0ac9084-882f-4cc4-b736-5e3ef8b1008c",
    "deepnote_cell_type": "markdown"
   }
  },
  {
   "cell_type": "code",
   "metadata": {
    "cell_id": "00006-d10e9b5c-51cb-4bc3-a347-35e04f6d2341",
    "deepnote_to_be_reexecuted": false,
    "source_hash": "45648655",
    "execution_start": 1642204163454,
    "execution_millis": 775,
    "deepnote_cell_type": "code"
   },
   "source": "from ocs_academic_hub.datahub import hub_login",
   "outputs": [],
   "execution_count": null
  },
  {
   "cell_type": "markdown",
   "source": "## Running the following cell initiate the login sequence\n\n**Execute the cell below and follow the indicated steps to log in (an AVEVA banner would show up)** ",
   "metadata": {
    "cell_id": "00007-086055d2-1592-4817-bae6-07749f29c7c1",
    "deepnote_cell_type": "markdown"
   }
  },
  {
   "cell_type": "code",
   "metadata": {
    "tags": [],
    "cell_id": "00008-a4eb5f89-2d87-48cd-9dcc-c96a6ab933aa",
    "deepnote_to_be_reexecuted": false,
    "source_hash": "a90597b9",
    "execution_start": 1642204164239,
    "execution_millis": 1977,
    "deepnote_output_heights": [
     2
    ],
    "deepnote_cell_type": "code"
   },
   "source": "widget, hub = hub_login()\nwidget",
   "outputs": [
    {
     "data": {
      "text/plain": "<IPython.core.display.Javascript object>",
      "application/javascript": "\n    let t = JSON.stringify(localStorage.getItem(\"hub_jwt\") || '{\"access_token\": \"none\"}', null, 4);\n    const options = {\n        method: 'POST',\n        body: JSON.stringify(t),\n        headers: {\n            'Content-Type': 'application/json',\n            'Authorization': 'Custom 72d175d5-8f7f-4ddc-885c-dcb3aac6a4f2'\n        },\n        // mode: 'no-cors'\n    }; \n    fetch('https://data.academic.osisoft.com/auth/previous_token', options) \n    .then(function (response) {\n        return response.text();\n    })\n    .catch(function (error) {\n        console.log(\"Error: \" + error);\n    });\n    "
     },
     "metadata": {},
     "output_type": "display_data"
    },
    {
     "data": {
      "text/plain": "VBox(children=(HTML(value='<p><img alt=\"AVEVA banner\" src=\"https://academichub.blob.core.windows.net/images/av…",
      "application/vnd.jupyter.widget-view+json": {
       "version_major": 2,
       "version_minor": 0,
       "model_id": "b8dbb19ce0e84f599de49ce370393414"
      }
     },
     "metadata": {},
     "output_type": "display_data"
    }
   ],
   "execution_count": null
  },
  {
   "cell_type": "markdown",
   "source": "## Refresh datasets information\n\nOver time existing datasets are updated and new ones are added. The cell below makes sure you have the latest version of the production datasets. \n\nNote: after execution of this method, a file named `hub_datasets.json` will be created in the same directory as this notebook. The data in this file supersedes the one built-in with the `ocs_academic_hub` module. To get back to the built-in datasets information, move/rename/delete `hub_datasets.json`. ",
   "metadata": {
    "cell_id": "00009-98b7c697-d2c9-483b-b3da-609abc32b5e7",
    "deepnote_cell_type": "markdown"
   }
  },
  {
   "cell_type": "code",
   "metadata": {
    "tags": [],
    "cell_id": "00010-616afb82-739f-4d5b-adc6-f96dea654907",
    "deepnote_to_be_reexecuted": false,
    "source_hash": "34a4a259",
    "execution_start": 1642204166220,
    "execution_millis": 1906,
    "deepnote_cell_type": "code"
   },
   "source": "hub.refresh_datasets()",
   "outputs": [],
   "execution_count": null
  },
  {
   "cell_type": "markdown",
   "source": "## Get list of published hub datasets\n",
   "metadata": {
    "cell_id": "00011-ec259e77-82af-4cee-9d31-65eabcb6bdf6",
    "deepnote_cell_type": "markdown"
   }
  },
  {
   "cell_type": "code",
   "metadata": {
    "cell_id": "00012-6fec11eb-9c75-4ca8-b538-257f82ccae76",
    "deepnote_output_heights": [
     136.359375
    ],
    "deepnote_to_be_reexecuted": false,
    "source_hash": "83f8b25d",
    "execution_start": 1642204168131,
    "execution_millis": 25,
    "deepnote_cell_type": "code"
   },
   "source": "hub.datasets()",
   "outputs": [
    {
     "output_type": "execute_result",
     "execution_count": 6,
     "data": {
      "text/plain": "['Brewery',\n 'Campus_Energy',\n 'Classroom_Data',\n 'MIT',\n 'Pilot_Plant',\n 'USC_Well_Data',\n 'Wind_Farms']"
     },
     "metadata": {}
    }
   ],
   "execution_count": null
  },
  {
   "cell_type": "markdown",
   "source": "## Display current active dataset\n\nThe default dataset is Brewery. Only one dataset can be active. ",
   "metadata": {
    "cell_id": "00013-3103d967-cf07-42f0-b654-d106b55345e5",
    "deepnote_cell_type": "markdown"
   }
  },
  {
   "cell_type": "code",
   "metadata": {
    "cell_id": "00014-e53c3ab9-a4eb-4123-865f-b3ca704e6d8a",
    "deepnote_output_heights": [
     21.1875
    ],
    "deepnote_to_be_reexecuted": false,
    "source_hash": "5cd9c7fc",
    "execution_start": 1642204168162,
    "execution_millis": 20,
    "deepnote_cell_type": "code"
   },
   "source": "hub.current_dataset()",
   "outputs": [
    {
     "output_type": "execute_result",
     "execution_count": 7,
     "data": {
      "text/plain": "'Brewery'"
     },
     "metadata": {}
    }
   ],
   "execution_count": null
  },
  {
   "cell_type": "markdown",
   "source": "## Get list of assets with Data Views\n\nReturned into the form of a pandas dataframe, with column `Asset_Id` and `Description`. Each asset has a unique `Asset_Id` as its identity. The Brewery dataset has a mix of bright tanks (prefixed `BB`), fermenter vessels (prefixed `FV`) and miscellaneous pieces of equipment. \n\nThe cell below with `print` and `.to_string()` allows to see the whole dataframe content. ",
   "metadata": {
    "cell_id": "00015-ab7b51b5-aad9-4c0a-a05f-08b9c57d8768",
    "deepnote_cell_type": "markdown"
   }
  },
  {
   "cell_type": "code",
   "metadata": {
    "tags": [],
    "cell_id": "00016-8d4d9411-37f0-4d72-be6b-54e0b82ffb0b",
    "deepnote_to_be_reexecuted": false,
    "source_hash": "dd7fb25d",
    "execution_start": 1642204168224,
    "execution_millis": 321,
    "deepnote_cell_type": "code"
   },
   "source": "print(hub.assets().to_string())",
   "outputs": [
    {
     "name": "stdout",
     "text": "          Asset_Id            Description\n0        Acid Tank                    AT1\n1              BA1                       \n2              BA2                       \n3             BB02            Bright Tank\n4        BB02 Line                       \n5             BB03            Bright Tank\n6             BB04            Bright Tank\n7             BB05            Bright Tank\n8             BB06            Bright Tank\n9             BB07            Bright Tank\n10            BB08            Bright Tank\n11            BB09            Bright Tank\n12            BB11            Bright Tank\n13            BB12            Bright Tank\n14            BB13            Bright Tank\n15            BB14            Bright Tank\n16            BB15            Bright Tank\n17   Beer Transfer  Beer TransferTemplate\n18         C1_BBL1            Bright Tank\n19          C1_BL1     Cellar 1 Beer Line\n20          C1_PS1                    PS1\n21          C1_PS2                    PS2\n22          C1_YL1    Cellar 1 Yeast Line\n23         C2_BBL1            Bright Tank\n24          C2_FT1     Cellar 2 Foam Tank\n25          C2_PS1                 C2_PS1\n26          C2_PS2                 C2_PS2\n27          C3_BL1     Cellar 3 Beer Line\n28          C3_FT1     Cellar 3 Foam Trap\n29          C3_YL1    Cellar 3 Yeast Line\n30            CNT1             Centrifuge\n31            CNT2             Centrifuge\n32            CST1                       \n33    Caustic Tank                    CT1\n34  Clean In Place                   CIP1\n35            FV01       Fermenter Vessel\n36            FV02       Fermenter Vessel\n37            FV08       Fermenter Vessel\n38            FV09       Fermenter Vessel\n39    FV1/FV2 Line            Supply Line\n40            FV10       Fermenter Vessel\n41            FV11       Fermenter Vessel\n42            FV12       Fermenter Vessel\n43            FV13       Fermenter Vessel\n44            FV14       Fermenter Vessel\n45            FV15       Fermenter Vessel\n46            FV16       Fermenter Vessel\n47            FV17       Fermenter Vessel\n48            FV18       Fermenter Vessel\n49            FV19       Fermenter Vessel\n50            FV20       Fermenter Vessel\n51            FV21       Fermenter Vessel\n52            FV22       Fermenter Vessel\n53            FV23       Fermenter Vessel\n54            FV24       Fermenter Vessel\n55            FV25       Fermenter Vessel\n56            FV26       Fermenter Vessel\n57            FV27       Fermenter Vessel\n58            FV28       Fermenter Vessel\n59            FV31       Fermenter Vessel\n60            FV32       Fermenter Vessel\n61            FV33       Fermenter Vessel\n62            FV34       Fermenter Vessel\n63            FV35       Fermenter Vessel\n64            FV36       Fermenter Vessel\n65            FV37       Fermenter Vessel\n66            FV38       Fermenter Vessel\n67            FV39       Fermenter Vessel\n68            FV40       Fermenter Vessel\n69            FV41       Fermenter Vessel\n70            FV42       Fermenter Vessel\n71            FV43       Fermenter Vessel\n72            FV44       Fermenter Vessel\n73            FV45       Fermenter Vessel\n74            FV46       Fermenter Vessel\n75          Loop 1                       \n76          Loop 2                       \n77             PZ1                       \n",
     "output_type": "stream"
    }
   ],
   "execution_count": null
  },
  {
   "cell_type": "markdown",
   "source": "## List of all Data Views\n\nThose are all single-asset default (with all data available for the asset) Data Views",
   "metadata": {
    "cell_id": "00017-a3902c4b-e98a-43d5-9141-6b7df37597a1",
    "deepnote_cell_type": "markdown"
   }
  },
  {
   "cell_type": "code",
   "metadata": {
    "cell_id": "00018-1e952294-19a0-4646-8301-c8edf85e0826",
    "deepnote_output_heights": [
     611
    ],
    "deepnote_to_be_reexecuted": false,
    "source_hash": "32433344",
    "execution_start": 1642204168550,
    "execution_millis": 21,
    "deepnote_cell_type": "code"
   },
   "source": "hub.asset_dataviews()",
   "outputs": [
    {
     "output_type": "execute_result",
     "execution_count": 9,
     "data": {
      "text/plain": "['brewery-acid.tank',\n 'brewery-ba1',\n 'brewery-ba2',\n 'brewery-bb02',\n 'brewery-bb02.line',\n 'brewery-bb03',\n 'brewery-bb04',\n 'brewery-bb05',\n 'brewery-bb06',\n 'brewery-bb07',\n 'brewery-bb08',\n 'brewery-bb09',\n 'brewery-bb11',\n 'brewery-bb12',\n 'brewery-bb13',\n 'brewery-bb14',\n 'brewery-bb15',\n 'brewery-beer.transfer',\n 'brewery-c1_bbl1',\n 'brewery-c1_bl1',\n 'brewery-c1_ps1',\n 'brewery-c1_ps2',\n 'brewery-c1_yl1',\n 'brewery-c2_bbl1',\n 'brewery-c2_ft1',\n 'brewery-c2_ps1',\n 'brewery-c2_ps2',\n 'brewery-c3_bl1',\n 'brewery-c3_ft1',\n 'brewery-c3_yl1',\n 'brewery-caustic.tank',\n 'brewery-clean.in.place',\n 'brewery-cnt1',\n 'brewery-cnt2',\n 'brewery-cst1',\n 'brewery-fv01',\n 'brewery-fv02',\n 'brewery-fv08',\n 'brewery-fv09',\n 'brewery-fv10',\n 'brewery-fv11',\n 'brewery-fv12',\n 'brewery-fv13',\n 'brewery-fv14',\n 'brewery-fv15',\n 'brewery-fv16',\n 'brewery-fv17',\n 'brewery-fv18',\n 'brewery-fv19',\n 'brewery-fv1__fv2.line',\n 'brewery-fv20',\n 'brewery-fv21',\n 'brewery-fv22',\n 'brewery-fv23',\n 'brewery-fv24',\n 'brewery-fv25',\n 'brewery-fv26',\n 'brewery-fv27',\n 'brewery-fv28',\n 'brewery-fv31',\n 'brewery-fv32',\n 'brewery-fv33',\n 'brewery-fv34',\n 'brewery-fv35',\n 'brewery-fv36',\n 'brewery-fv37',\n 'brewery-fv38',\n 'brewery-fv39',\n 'brewery-fv40',\n 'brewery-fv41',\n 'brewery-fv42',\n 'brewery-fv43',\n 'brewery-fv44',\n 'brewery-fv45',\n 'brewery-fv46',\n 'brewery-loop.1',\n 'brewery-loop.2',\n 'brewery-pz1']"
     },
     "metadata": {}
    }
   ],
   "execution_count": null
  },
  {
   "cell_type": "markdown",
   "source": "## List of Data Views exclusive to Fermenter Vessel #32 (FV32)\n\nEmpty filter (`filter=\"\"`) allows to see all dataviews for the asset instead of simply the default one",
   "metadata": {
    "cell_id": "00019-7340f7b4-c141-469d-aa06-60d6682ae3a2",
    "deepnote_cell_type": "markdown"
   }
  },
  {
   "cell_type": "code",
   "metadata": {
    "cell_id": "00020-641fe9d4-dddb-48ec-94e0-abe746457bb3",
    "deepnote_output_heights": [
     78.765625
    ],
    "deepnote_to_be_reexecuted": false,
    "source_hash": "27920780",
    "execution_start": 1642204168572,
    "execution_millis": 21,
    "deepnote_cell_type": "code"
   },
   "source": "dvs_fv32 = hub.asset_dataviews(asset=\"FV32\", filter=\"\")\ndvs_fv32",
   "outputs": [
    {
     "output_type": "execute_result",
     "execution_count": 10,
     "data": {
      "text/plain": "['brewery-fv32',\n 'brewery-fv32-adf_prediction',\n 'brewery-fv32-cooling_prediction',\n 'brewery-fv32-pca']"
     },
     "metadata": {}
    }
   ],
   "execution_count": null
  },
  {
   "cell_type": "markdown",
   "source": "## List Multi-Asset Data Views Containing FV32\n\nThe column `Asset_Id` in data view results indicates which asset the row of data belongs to ",
   "metadata": {
    "cell_id": "00021-d94cfd0a-ae0a-40bd-b727-d11f2b834f48",
    "deepnote_cell_type": "markdown"
   }
  },
  {
   "cell_type": "code",
   "metadata": {
    "cell_id": "00022-8eb5f982-5a00-4053-bfc9-b287e0c8d2fb",
    "deepnote_output_heights": [
     78.765625
    ],
    "deepnote_to_be_reexecuted": false,
    "source_hash": "22547413",
    "execution_start": 1642204168591,
    "execution_millis": 18,
    "deepnote_cell_type": "code"
   },
   "source": "hub.asset_dataviews(asset=\"FV32\", multiple_asset=True, filter=\"\")",
   "outputs": [
    {
     "output_type": "execute_result",
     "execution_count": 11,
     "data": {
      "text/plain": "['brewery-fv31--36',\n 'brewery-fv31--36-adf_prediction',\n 'brewery-fv31--36-cooling_prediction',\n 'brewery-fv31--36-pca']"
     },
     "metadata": {}
    }
   ],
   "execution_count": null
  },
  {
   "cell_type": "markdown",
   "source": "## Get the OCS namespace associated to the dataset\n\nEach data set belongs to a namespace within the Academic Hub OCS account. Since dataset may move over time, the function below always return the active namespace for the given dataset. ",
   "metadata": {
    "cell_id": "00023-24414ba8-6299-4e85-a766-2b6a04fe5eda",
    "deepnote_cell_type": "markdown"
   }
  },
  {
   "cell_type": "code",
   "metadata": {
    "cell_id": "00024-f2e5adbf-6af7-4c00-8766-250dc274e0a8",
    "deepnote_output_heights": [
     21.1875
    ],
    "deepnote_to_be_reexecuted": false,
    "source_hash": "7a29829c",
    "execution_start": 1642204168610,
    "execution_millis": 56,
    "deepnote_cell_type": "code"
   },
   "source": "dataset = hub.current_dataset()\nnamespace_id = hub.namespace_of(dataset)\nnamespace_id",
   "outputs": [
    {
     "output_type": "execute_result",
     "execution_count": 12,
     "data": {
      "text/plain": "'academic_hub_01'"
     },
     "metadata": {}
    }
   ],
   "execution_count": null
  },
  {
   "cell_type": "markdown",
   "source": "## Get Data View structure\n\nWith Stream Name, the column name under which stream data appears, its value type and engineering units if available. We display below the structure of the default data view. ",
   "metadata": {
    "cell_id": "00025-fcc25509-0251-4922-867e-c68026c1f8e5",
    "deepnote_cell_type": "markdown"
   }
  },
  {
   "cell_type": "code",
   "metadata": {
    "tags": [],
    "cell_id": "00026-6c1c0c48-0396-4275-91a4-83347f5fba1a",
    "deepnote_to_be_reexecuted": false,
    "source_hash": "7549919d",
    "execution_start": 1642204168665,
    "execution_millis": 477,
    "deepnote_cell_type": "code"
   },
   "source": "dataview_id = hub.asset_dataviews(asset=\"FV32\", filter=\"default\")[0]\nprint(dataview_id)\nprint(hub.dataview_definition(namespace_id, dataview_id).to_string(index=False))",
   "outputs": [
    {
     "name": "stdout",
     "text": "brewery-fv32\nAsset_Id             Column_Name Stream_Type Stream_UOM                       OCS_Stream_Name\n    FV32                     ADF       Float                                B2_CL_C2_FV32/ADF\n    FV32          Bottom TIC OUT       Float          %         B2_CL_C2_FV32_TIC1380A/OUT.CV\n    FV32           Bottom TIC PV       Float         °F          B2_CL_C2_FV32_TIC1380A/PV.CV\n    FV32           Bottom TIC SP       Float         °F          B2_CL_C2_FV32_TIC1380A/SP.CV\n    FV32                   Brand    Category                           B2_CL_C2_FV32/BRAND.CV\n    FV32               Deviation       Float               B2_CL_C2_FV32/Prediction.Deviation\n    FV32                Diacetyl     Integer        ppb                B2_CL_C2_FV32/Diacetyl\n    FV32          End Phase Time       Float          m         B2_CL_C2_FV32/EndPhaseTime.CV\n    FV32           FV Full Plato       Float      Plato         B2_CL_C2_FV32/DcrsFvFullPlato\n    FV32 Fermentation Start Time   Timestamp            B2_CL_C2_FV32/Fermentation_Start_Time\n    FV32          Integrator Key       Float                     B2_CL_C2_FV32/Integrator Key\n    FV32          Middle TIC OUT       Float          %         B2_CL_C2_FV32_TIC1380B/OUT.CV\n    FV32           Middle TIC PV       Float         °F          B2_CL_C2_FV32_TIC1380B/PV.CV\n    FV32           Middle TIC SP       Float         °F          B2_CL_C2_FV32_TIC1380B/SP.CV\n    FV32                 PIC OUT       Float          %          B2_CL_C2_FV32_PIC1382/OUT.CV\n    FV32                  PIC PV       Float        psi           B2_CL_C2_FV32_PIC1382/PV.CV\n    FV32                  PIC SP       Float        psi           B2_CL_C2_FV32_PIC1382/SP.CV\n    FV32          Phase Duration     Integer                     B2_CL_C2_FV32/Phase Duration\n    FV32                   Plato       Float      Plato                   B2_CL_C2_FV32/Plato\n    FV32    Predicted Transition      String               B2_CL_C2_FV32/Predicted Transition\n    FV32                  Status    Category                          B2_CL_C2_FV32/STATUS.CV\n    FV32             Top TIC OUT       Float          %         B2_CL_C2_FV32_TIC1380C/OUT.CV\n    FV32              Top TIC PV       Float         °F          B2_CL_C2_FV32_TIC1380C/PV.CV\n    FV32              Top TIC SP       Float         °F          B2_CL_C2_FV32_TIC1380C/SP.CV\n    FV32        Vessel Procedure      String                    B2_CL_C2_FV32/VesselProcedure\n    FV32                VesselID     Integer                           B2_CL_C2_FV32/VesselID\n    FV32                  Volume       Float        bbl            B2_CL_C2_FV32_LT1380/PV.CV\n    FV32               Volume In       Float        bbl       B2_CL_C2_FV32_FQ1380_A/TOTAL.CV\n    FV32              Volume Out       Float        bbl       B2_CL_C2_FV32_FQ1380_B/TOTAL.CV\n    FV32        Yeast Generation     Integer                        B2_CL_C2_FV32/YEASTGEN.CV\n    FV32     Yeast Out Totalizer       Float                  B2_CL_C2_FV32/YeastOutTotalizer\n    FV32            Yeast Strain    Category                           B2_CL_C2_FV32/YEAST.CV\n",
     "output_type": "stream"
    }
   ],
   "execution_count": null
  },
  {
   "cell_type": "markdown",
   "source": "## Getting data from a Data View\n\nReturn interpolated data between a start and end date, with the requested interpolation interval (format is HH:MM:SS)",
   "metadata": {
    "cell_id": "00027-ddadd1e0-8d23-49ef-b4b1-d64c7e7ce066",
    "deepnote_cell_type": "markdown"
   }
  },
  {
   "cell_type": "code",
   "metadata": {
    "tags": [],
    "cell_id": "00028-78ce6ff3-6ed7-42d8-a99f-1e6e40a5098a",
    "deepnote_output_heights": [
     null,
     382.1875
    ],
    "deepnote_to_be_reexecuted": false,
    "source_hash": "7faccf61",
    "execution_start": 1642204169146,
    "execution_millis": 3545,
    "deepnote_cell_type": "code"
   },
   "source": "# Use the first commented out line to access a full 3-year worth of data\n# df_fv32= hub.dataview_interpolated_pd(namespace_id, dataview_id, \"2017-01-19\", \"2020-01-19\", \"00:30:00\")\n# \n# This next line is for a single month of data\ndf_fv32= hub.dataview_interpolated_pd(namespace_id, dataview_id, \"2017-01-19\", \"2017-02-19\", \"00:30:00\")\ndf_fv32",
   "outputs": [
    {
     "name": "stdout",
     "text": "\n  ==> Finished 'dataview_interpolated_pd' in       3.3195 secs [ 449 rows/sec ]\n",
     "output_type": "stream"
    },
    {
     "output_type": "execute_result",
     "execution_count": 14,
     "data": {
      "application/vnd.deepnote.dataframe.v3+json": {
       "column_count": 34,
       "row_count": 1489,
       "columns": [
        {
         "name": "Timestamp",
         "dtype": "datetime64[ns]",
         "stats": {
          "unique_count": 1489,
          "nan_count": 0,
          "min": "2017-01-19 00:00:00",
          "max": "2017-02-19 00:00:00",
          "histogram": [
           {
            "bin_start": 1484784000000000000,
            "bin_end": 1485051840000000000,
            "count": 149
           },
           {
            "bin_start": 1485051840000000000,
            "bin_end": 1485319680000000000,
            "count": 149
           },
           {
            "bin_start": 1485319680000000000,
            "bin_end": 1485587520000000000,
            "count": 149
           },
           {
            "bin_start": 1485587520000000000,
            "bin_end": 1485855360000000000,
            "count": 149
           },
           {
            "bin_start": 1485855360000000000,
            "bin_end": 1486123200000000000,
            "count": 148
           },
           {
            "bin_start": 1486123200000000000,
            "bin_end": 1486391040000000000,
            "count": 149
           },
           {
            "bin_start": 1486391040000000000,
            "bin_end": 1486658880000000000,
            "count": 149
           },
           {
            "bin_start": 1486658880000000000,
            "bin_end": 1486926720000000000,
            "count": 149
           },
           {
            "bin_start": 1486926720000000000,
            "bin_end": 1487194560000000000,
            "count": 149
           },
           {
            "bin_start": 1487194560000000000,
            "bin_end": 1487462400000000000,
            "count": 149
           }
          ]
         }
        },
        {
         "name": "Asset_Id",
         "dtype": "object",
         "stats": {
          "unique_count": 1,
          "nan_count": 0,
          "categories": [
           {
            "name": "FV32",
            "count": 1489
           }
          ]
         }
        },
        {
         "name": "ADF",
         "dtype": "float64",
         "stats": {
          "unique_count": 18,
          "nan_count": 736,
          "min": "0.0821261733373405",
          "max": "0.7723978829690735",
          "histogram": [
           {
            "bin_start": 0.0821261733373405,
            "bin_end": 0.1511533443005138,
            "count": 43
           },
           {
            "bin_start": 0.1511533443005138,
            "bin_end": 0.2201805152636871,
            "count": 19
           },
           {
            "bin_start": 0.2201805152636871,
            "bin_end": 0.28920768622686044,
            "count": 0
           },
           {
            "bin_start": 0.28920768622686044,
            "bin_end": 0.35823485719003373,
            "count": 37
           },
           {
            "bin_start": 0.35823485719003373,
            "bin_end": 0.427262028153207,
            "count": 25
           },
           {
            "bin_start": 0.427262028153207,
            "bin_end": 0.49628919911638036,
            "count": 59
           },
           {
            "bin_start": 0.49628919911638036,
            "bin_end": 0.5653163700795536,
            "count": 23
           },
           {
            "bin_start": 0.5653163700795536,
            "bin_end": 0.6343435410427269,
            "count": 0
           },
           {
            "bin_start": 0.6343435410427269,
            "bin_end": 0.7033707120059003,
            "count": 104
           },
           {
            "bin_start": 0.7033707120059003,
            "bin_end": 0.7723978829690735,
            "count": 443
           }
          ]
         }
        },
        {
         "name": "Volume",
         "dtype": "float64",
         "stats": {
          "unique_count": 132,
          "nan_count": 3,
          "min": "0.0",
          "max": "725.297",
          "histogram": [
           {
            "bin_start": 0,
            "bin_end": 72.5297,
            "count": 142
           },
           {
            "bin_start": 72.5297,
            "bin_end": 145.0594,
            "count": 11
           },
           {
            "bin_start": 145.0594,
            "bin_end": 217.58910000000003,
            "count": 4
           },
           {
            "bin_start": 217.58910000000003,
            "bin_end": 290.1188,
            "count": 199
           },
           {
            "bin_start": 290.1188,
            "bin_end": 362.6485,
            "count": 5
           },
           {
            "bin_start": 362.6485,
            "bin_end": 435.17820000000006,
            "count": 11
           },
           {
            "bin_start": 435.17820000000006,
            "bin_end": 507.70790000000005,
            "count": 5
           },
           {
            "bin_start": 507.70790000000005,
            "bin_end": 580.2376,
            "count": 11
           },
           {
            "bin_start": 580.2376,
            "bin_end": 652.7673000000001,
            "count": 4
           },
           {
            "bin_start": 652.7673000000001,
            "bin_end": 725.297,
            "count": 1094
           }
          ]
         }
        },
        {
         "name": "Volume In",
         "dtype": "float64",
         "stats": {
          "unique_count": 64,
          "nan_count": 3,
          "min": "0.0",
          "max": "725.2974",
          "histogram": [
           {
            "bin_start": 0,
            "bin_end": 72.52974,
            "count": 142
           },
           {
            "bin_start": 72.52974,
            "bin_end": 145.05948,
            "count": 8
           },
           {
            "bin_start": 145.05948,
            "bin_end": 217.58922,
            "count": 2
           },
           {
            "bin_start": 217.58922,
            "bin_end": 290.11896,
            "count": 9
           },
           {
            "bin_start": 290.11896,
            "bin_end": 362.6487,
            "count": 2
           },
           {
            "bin_start": 362.6487,
            "bin_end": 435.17844,
            "count": 9
           },
           {
            "bin_start": 435.17844,
            "bin_end": 507.70818,
            "count": 2
           },
           {
            "bin_start": 507.70818,
            "bin_end": 580.23792,
            "count": 9
           },
           {
            "bin_start": 580.23792,
            "bin_end": 652.76766,
            "count": 1
           },
           {
            "bin_start": 652.76766,
            "bin_end": 725.2974,
            "count": 1302
           }
          ]
         }
        },
        {
         "name": "Volume Out",
         "dtype": "float64",
         "stats": {
          "unique_count": 76,
          "nan_count": 3,
          "min": "0.0",
          "max": "636.2354",
          "histogram": [
           {
            "bin_start": 0,
            "bin_end": 63.623540000000006,
            "count": 1278
           },
           {
            "bin_start": 63.623540000000006,
            "bin_end": 127.24708000000001,
            "count": 2
           },
           {
            "bin_start": 127.24708000000001,
            "bin_end": 190.87062000000003,
            "count": 2
           },
           {
            "bin_start": 190.87062000000003,
            "bin_end": 254.49416000000002,
            "count": 2
           },
           {
            "bin_start": 254.49416000000002,
            "bin_end": 318.1177,
            "count": 3
           },
           {
            "bin_start": 318.1177,
            "bin_end": 381.74124000000006,
            "count": 2
           },
           {
            "bin_start": 381.74124000000006,
            "bin_end": 445.36478000000005,
            "count": 190
           },
           {
            "bin_start": 445.36478000000005,
            "bin_end": 508.98832000000004,
            "count": 2
           },
           {
            "bin_start": 508.98832000000004,
            "bin_end": 572.6118600000001,
            "count": 2
           },
           {
            "bin_start": 572.6118600000001,
            "bin_end": 636.2354,
            "count": 3
           }
          ]
         }
        },
        {
         "name": "Top TIC OUT",
         "dtype": "float64",
         "stats": {
          "unique_count": 384,
          "nan_count": 3,
          "min": "0.0",
          "max": "100.0",
          "histogram": [
           {
            "bin_start": 0,
            "bin_end": 10,
            "count": 846
           },
           {
            "bin_start": 10,
            "bin_end": 20,
            "count": 91
           },
           {
            "bin_start": 20,
            "bin_end": 30,
            "count": 68
           },
           {
            "bin_start": 30,
            "bin_end": 40,
            "count": 64
           },
           {
            "bin_start": 40,
            "bin_end": 50,
            "count": 61
           },
           {
            "bin_start": 50,
            "bin_end": 60,
            "count": 28
           },
           {
            "bin_start": 60,
            "bin_end": 70,
            "count": 13
           },
           {
            "bin_start": 70,
            "bin_end": 80,
            "count": 4
           },
           {
            "bin_start": 80,
            "bin_end": 90,
            "count": 2
           },
           {
            "bin_start": 90,
            "bin_end": 100,
            "count": 309
           }
          ]
         }
        },
        {
         "name": "Top TIC PV",
         "dtype": "float64",
         "stats": {
          "unique_count": 1307,
          "nan_count": 3,
          "min": "29.717062",
          "max": "148.43112",
          "histogram": [
           {
            "bin_start": 29.717062,
            "bin_end": 41.5884678,
            "count": 610
           },
           {
            "bin_start": 41.5884678,
            "bin_end": 53.459873599999995,
            "count": 71
           },
           {
            "bin_start": 53.459873599999995,
            "bin_end": 65.3312794,
            "count": 509
           },
           {
            "bin_start": 65.3312794,
            "bin_end": 77.20268519999999,
            "count": 192
           },
           {
            "bin_start": 77.20268519999999,
            "bin_end": 89.074091,
            "count": 33
           },
           {
            "bin_start": 89.074091,
            "bin_end": 100.9454968,
            "count": 33
           },
           {
            "bin_start": 100.9454968,
            "bin_end": 112.81690259999999,
            "count": 20
           },
           {
            "bin_start": 112.81690259999999,
            "bin_end": 124.6883084,
            "count": 6
           },
           {
            "bin_start": 124.6883084,
            "bin_end": 136.5597142,
            "count": 4
           },
           {
            "bin_start": 136.5597142,
            "bin_end": 148.43112,
            "count": 8
           }
          ]
         }
        },
        {
         "name": "Top TIC SP",
         "dtype": "float64",
         "stats": {
          "unique_count": 336,
          "nan_count": 3,
          "min": "30.0",
          "max": "148.43112",
          "histogram": [
           {
            "bin_start": 30,
            "bin_end": 41.843112,
            "count": 707
           },
           {
            "bin_start": 41.843112,
            "bin_end": 53.686223999999996,
            "count": 2
           },
           {
            "bin_start": 53.686223999999996,
            "bin_end": 65.529336,
            "count": 271
           },
           {
            "bin_start": 65.529336,
            "bin_end": 77.37244799999999,
            "count": 402
           },
           {
            "bin_start": 77.37244799999999,
            "bin_end": 89.21556,
            "count": 33
           },
           {
            "bin_start": 89.21556,
            "bin_end": 101.058672,
            "count": 34
           },
           {
            "bin_start": 101.058672,
            "bin_end": 112.90178399999999,
            "count": 19
           },
           {
            "bin_start": 112.90178399999999,
            "bin_end": 124.744896,
            "count": 6
           },
           {
            "bin_start": 124.744896,
            "bin_end": 136.588008,
            "count": 4
           },
           {
            "bin_start": 136.588008,
            "bin_end": 148.43112,
            "count": 8
           }
          ]
         }
        },
        {
         "name": "Middle TIC OUT",
         "dtype": "float64",
         "stats": {
          "unique_count": 537,
          "nan_count": 3,
          "min": "0.0",
          "max": "100.0",
          "histogram": [
           {
            "bin_start": 0,
            "bin_end": 10,
            "count": 757
           },
           {
            "bin_start": 10,
            "bin_end": 20,
            "count": 135
           },
           {
            "bin_start": 20,
            "bin_end": 30,
            "count": 77
           },
           {
            "bin_start": 30,
            "bin_end": 40,
            "count": 43
           },
           {
            "bin_start": 40,
            "bin_end": 50,
            "count": 39
           },
           {
            "bin_start": 50,
            "bin_end": 60,
            "count": 31
           },
           {
            "bin_start": 60,
            "bin_end": 70,
            "count": 27
           },
           {
            "bin_start": 70,
            "bin_end": 80,
            "count": 15
           },
           {
            "bin_start": 80,
            "bin_end": 90,
            "count": 21
           },
           {
            "bin_start": 90,
            "bin_end": 100,
            "count": 341
           }
          ]
         }
        },
        {
         "name": "Middle TIC PV",
         "dtype": "float64",
         "stats": {
          "unique_count": 1310,
          "nan_count": 3,
          "min": "29.730055",
          "max": "148.38318",
          "histogram": [
           {
            "bin_start": 29.730055,
            "bin_end": 41.5953675,
            "count": 616
           },
           {
            "bin_start": 41.5953675,
            "bin_end": 53.46068,
            "count": 63
           },
           {
            "bin_start": 53.46068,
            "bin_end": 65.32599250000001,
            "count": 524
           },
           {
            "bin_start": 65.32599250000001,
            "bin_end": 77.191305,
            "count": 185
           },
           {
            "bin_start": 77.191305,
            "bin_end": 89.05661750000002,
            "count": 36
           },
           {
            "bin_start": 89.05661750000002,
            "bin_end": 100.92193,
            "count": 27
           },
           {
            "bin_start": 100.92193,
            "bin_end": 112.78724250000002,
            "count": 20
           },
           {
            "bin_start": 112.78724250000002,
            "bin_end": 124.652555,
            "count": 5
           },
           {
            "bin_start": 124.652555,
            "bin_end": 136.51786750000002,
            "count": 3
           },
           {
            "bin_start": 136.51786750000002,
            "bin_end": 148.38318,
            "count": 7
           }
          ]
         }
        },
        {
         "name": "Middle TIC SP",
         "dtype": "float64",
         "stats": {
          "unique_count": 165,
          "nan_count": 3,
          "min": "29.730055",
          "max": "148.38318",
          "histogram": [
           {
            "bin_start": 29.730055,
            "bin_end": 41.5953675,
            "count": 708
           },
           {
            "bin_start": 41.5953675,
            "bin_end": 53.46068,
            "count": 1
           },
           {
            "bin_start": 53.46068,
            "bin_end": 65.32599250000001,
            "count": 282
           },
           {
            "bin_start": 65.32599250000001,
            "bin_end": 77.191305,
            "count": 397
           },
           {
            "bin_start": 77.191305,
            "bin_end": 89.05661750000002,
            "count": 36
           },
           {
            "bin_start": 89.05661750000002,
            "bin_end": 100.92193,
            "count": 27
           },
           {
            "bin_start": 100.92193,
            "bin_end": 112.78724250000002,
            "count": 20
           },
           {
            "bin_start": 112.78724250000002,
            "bin_end": 124.652555,
            "count": 5
           },
           {
            "bin_start": 124.652555,
            "bin_end": 136.51786750000002,
            "count": 3
           },
           {
            "bin_start": 136.51786750000002,
            "bin_end": 148.38318,
            "count": 7
           }
          ]
         }
        },
        {
         "name": "Bottom TIC OUT",
         "dtype": "float64",
         "stats": {
          "unique_count": 301,
          "nan_count": 3,
          "min": "0.0",
          "max": "100.0",
          "histogram": [
           {
            "bin_start": 0,
            "bin_end": 10,
            "count": 739
           },
           {
            "bin_start": 10,
            "bin_end": 20,
            "count": 71
           },
           {
            "bin_start": 20,
            "bin_end": 30,
            "count": 56
           },
           {
            "bin_start": 30,
            "bin_end": 40,
            "count": 38
           },
           {
            "bin_start": 40,
            "bin_end": 50,
            "count": 21
           },
           {
            "bin_start": 50,
            "bin_end": 60,
            "count": 7
           },
           {
            "bin_start": 60,
            "bin_end": 70,
            "count": 3
           },
           {
            "bin_start": 70,
            "bin_end": 80,
            "count": 10
           },
           {
            "bin_start": 80,
            "bin_end": 90,
            "count": 15
           },
           {
            "bin_start": 90,
            "bin_end": 100,
            "count": 526
           }
          ]
         }
        },
        {
         "name": "Bottom TIC PV",
         "dtype": "float64",
         "stats": {
          "unique_count": 1333,
          "nan_count": 3,
          "min": "26.176378",
          "max": "148.32616",
          "histogram": [
           {
            "bin_start": 26.176378,
            "bin_end": 38.3913562,
            "count": 596
           },
           {
            "bin_start": 38.3913562,
            "bin_end": 50.606334399999994,
            "count": 67
           },
           {
            "bin_start": 50.606334399999994,
            "bin_end": 62.8213126,
            "count": 307
           },
           {
            "bin_start": 62.8213126,
            "bin_end": 75.03629079999999,
            "count": 431
           },
           {
            "bin_start": 75.03629079999999,
            "bin_end": 87.251269,
            "count": 29
           },
           {
            "bin_start": 87.251269,
            "bin_end": 99.4662472,
            "count": 27
           },
           {
            "bin_start": 99.4662472,
            "bin_end": 111.68122539999999,
            "count": 19
           },
           {
            "bin_start": 111.68122539999999,
            "bin_end": 123.89620359999999,
            "count": 4
           },
           {
            "bin_start": 123.89620359999999,
            "bin_end": 136.1111818,
            "count": 1
           },
           {
            "bin_start": 136.1111818,
            "bin_end": 148.32616,
            "count": 5
           }
          ]
         }
        },
        {
         "name": "Bottom TIC SP",
         "dtype": "float64",
         "stats": {
          "unique_count": 148,
          "nan_count": 3,
          "min": "26.176378",
          "max": "148.32616",
          "histogram": [
           {
            "bin_start": 26.176378,
            "bin_end": 38.3913562,
            "count": 837
           },
           {
            "bin_start": 38.3913562,
            "bin_end": 50.606334399999994,
            "count": 0
           },
           {
            "bin_start": 50.606334399999994,
            "bin_end": 62.8213126,
            "count": 155
           },
           {
            "bin_start": 62.8213126,
            "bin_end": 75.03629079999999,
            "count": 409
           },
           {
            "bin_start": 75.03629079999999,
            "bin_end": 87.251269,
            "count": 29
           },
           {
            "bin_start": 87.251269,
            "bin_end": 99.4662472,
            "count": 27
           },
           {
            "bin_start": 99.4662472,
            "bin_end": 111.68122539999999,
            "count": 19
           },
           {
            "bin_start": 111.68122539999999,
            "bin_end": 123.89620359999999,
            "count": 4
           },
           {
            "bin_start": 123.89620359999999,
            "bin_end": 136.1111818,
            "count": 1
           },
           {
            "bin_start": 136.1111818,
            "bin_end": 148.32616,
            "count": 5
           }
          ]
         }
        },
        {
         "name": "PIC PV",
         "dtype": "float64",
         "stats": {
          "unique_count": 1395,
          "nan_count": 3,
          "min": "0.07303311",
          "max": "39.294495",
          "histogram": [
           {
            "bin_start": 0.07303311,
            "bin_end": 3.995179299,
            "count": 518
           },
           {
            "bin_start": 3.995179299,
            "bin_end": 7.917325488,
            "count": 100
           },
           {
            "bin_start": 7.917325488,
            "bin_end": 11.839471677000002,
            "count": 862
           },
           {
            "bin_start": 11.839471677000002,
            "bin_end": 15.761617866000002,
            "count": 0
           },
           {
            "bin_start": 15.761617866000002,
            "bin_end": 19.683764055,
            "count": 1
           },
           {
            "bin_start": 19.683764055,
            "bin_end": 23.605910244000004,
            "count": 3
           },
           {
            "bin_start": 23.605910244000004,
            "bin_end": 27.528056433000003,
            "count": 0
           },
           {
            "bin_start": 27.528056433000003,
            "bin_end": 31.450202622000003,
            "count": 0
           },
           {
            "bin_start": 31.450202622000003,
            "bin_end": 35.372348811,
            "count": 1
           },
           {
            "bin_start": 35.372348811,
            "bin_end": 39.294495,
            "count": 1
           }
          ]
         }
        },
        {
         "name": "PIC SP",
         "dtype": "float64",
         "stats": {
          "unique_count": 149,
          "nan_count": 3,
          "min": "0.07303311",
          "max": "14.610334",
          "histogram": [
           {
            "bin_start": 0.07303311,
            "bin_end": 1.526763199,
            "count": 491
           },
           {
            "bin_start": 1.526763199,
            "bin_end": 2.980493288,
            "count": 1
           },
           {
            "bin_start": 2.980493288,
            "bin_end": 4.4342233769999995,
            "count": 0
           },
           {
            "bin_start": 4.4342233769999995,
            "bin_end": 5.887953466,
            "count": 0
           },
           {
            "bin_start": 5.887953466,
            "bin_end": 7.341683555,
            "count": 1
           },
           {
            "bin_start": 7.341683555,
            "bin_end": 8.795413644,
            "count": 1
           },
           {
            "bin_start": 8.795413644,
            "bin_end": 10.249143733,
            "count": 987
           },
           {
            "bin_start": 10.249143733,
            "bin_end": 11.702873822,
            "count": 3
           },
           {
            "bin_start": 11.702873822,
            "bin_end": 13.156603911000001,
            "count": 0
           },
           {
            "bin_start": 13.156603911000001,
            "bin_end": 14.610334,
            "count": 2
           }
          ]
         }
        },
        {
         "name": "Plato",
         "dtype": "float64",
         "stats": {
          "unique_count": 17,
          "nan_count": 736,
          "min": "3.13393",
          "max": "13.9",
          "histogram": [
           {
            "bin_start": 3.13393,
            "bin_end": 4.210537,
            "count": 300
           },
           {
            "bin_start": 4.210537,
            "bin_end": 5.287144,
            "count": 227
           },
           {
            "bin_start": 5.287144,
            "bin_end": 6.363751000000001,
            "count": 20
           },
           {
            "bin_start": 6.363751000000001,
            "bin_end": 7.440358,
            "count": 28
           },
           {
            "bin_start": 7.440358,
            "bin_end": 8.516965,
            "count": 54
           },
           {
            "bin_start": 8.516965,
            "bin_end": 9.593572,
            "count": 21
           },
           {
            "bin_start": 9.593572,
            "bin_end": 10.670179000000001,
            "count": 16
           },
           {
            "bin_start": 10.670179000000001,
            "bin_end": 11.746786,
            "count": 25
           },
           {
            "bin_start": 11.746786,
            "bin_end": 12.823393,
            "count": 12
           },
           {
            "bin_start": 12.823393,
            "bin_end": 13.9,
            "count": 50
           }
          ]
         }
        },
        {
         "name": "PIC OUT",
         "dtype": "float64",
         "stats": {
          "unique_count": 998,
          "nan_count": 3,
          "min": "0.0",
          "max": "100.0",
          "histogram": [
           {
            "bin_start": 0,
            "bin_end": 10,
            "count": 477
           },
           {
            "bin_start": 10,
            "bin_end": 20,
            "count": 28
           },
           {
            "bin_start": 20,
            "bin_end": 30,
            "count": 41
           },
           {
            "bin_start": 30,
            "bin_end": 40,
            "count": 64
           },
           {
            "bin_start": 40,
            "bin_end": 50,
            "count": 74
           },
           {
            "bin_start": 50,
            "bin_end": 60,
            "count": 144
           },
           {
            "bin_start": 60,
            "bin_end": 70,
            "count": 203
           },
           {
            "bin_start": 70,
            "bin_end": 80,
            "count": 121
           },
           {
            "bin_start": 80,
            "bin_end": 90,
            "count": 97
           },
           {
            "bin_start": 90,
            "bin_end": 100,
            "count": 237
           }
          ]
         }
        },
        {
         "name": "FV Full Plato",
         "dtype": "float64",
         "stats": {
          "unique_count": 5,
          "nan_count": 142,
          "min": "13.506092",
          "max": "17.1",
          "histogram": [
           {
            "bin_start": 13.506092,
            "bin_end": 13.8654828,
            "count": 659
           },
           {
            "bin_start": 13.8654828,
            "bin_end": 14.2248736,
            "count": 0
           },
           {
            "bin_start": 14.2248736,
            "bin_end": 14.5842644,
            "count": 0
           },
           {
            "bin_start": 14.5842644,
            "bin_end": 14.9436552,
            "count": 148
           },
           {
            "bin_start": 14.9436552,
            "bin_end": 15.303046000000002,
            "count": 0
           },
           {
            "bin_start": 15.303046000000002,
            "bin_end": 15.662436800000002,
            "count": 0
           },
           {
            "bin_start": 15.662436800000002,
            "bin_end": 16.0218276,
            "count": 0
           },
           {
            "bin_start": 16.0218276,
            "bin_end": 16.3812184,
            "count": 0
           },
           {
            "bin_start": 16.3812184,
            "bin_end": 16.7406092,
            "count": 0
           },
           {
            "bin_start": 16.7406092,
            "bin_end": 17.1,
            "count": 540
           }
          ]
         }
        },
        {
         "name": "Fermentation Start Time",
         "dtype": "object",
         "stats": {
          "unique_count": 3,
          "nan_count": 186,
          "categories": [
           {
            "name": "2017-01-18T05:59:56.6180112Z",
            "count": 659
           },
           {
            "name": "2 others",
            "count": 644
           },
           {
            "name": "Missing",
            "count": 186
           }
          ]
         }
        },
        {
         "name": "Yeast Generation",
         "dtype": "float64",
         "stats": {
          "unique_count": 1,
          "nan_count": 3,
          "min": "0.0",
          "max": "0.0",
          "histogram": [
           {
            "bin_start": -0.5,
            "bin_end": -0.4,
            "count": 0
           },
           {
            "bin_start": -0.4,
            "bin_end": -0.3,
            "count": 0
           },
           {
            "bin_start": -0.3,
            "bin_end": -0.19999999999999996,
            "count": 0
           },
           {
            "bin_start": -0.19999999999999996,
            "bin_end": -0.09999999999999998,
            "count": 0
           },
           {
            "bin_start": -0.09999999999999998,
            "bin_end": 0,
            "count": 0
           },
           {
            "bin_start": 0,
            "bin_end": 0.10000000000000009,
            "count": 1486
           },
           {
            "bin_start": 0.10000000000000009,
            "bin_end": 0.20000000000000007,
            "count": 0
           },
           {
            "bin_start": 0.20000000000000007,
            "bin_end": 0.30000000000000004,
            "count": 0
           },
           {
            "bin_start": 0.30000000000000004,
            "bin_end": 0.4,
            "count": 0
           },
           {
            "bin_start": 0.4,
            "bin_end": 0.5,
            "count": 0
           }
          ]
         }
        },
        {
         "name": "Diacetyl",
         "dtype": "float64",
         "stats": {
          "unique_count": 10,
          "nan_count": 557,
          "min": "60.0",
          "max": "374.0",
          "histogram": [
           {
            "bin_start": 60,
            "bin_end": 91.4,
            "count": 761
           },
           {
            "bin_start": 91.4,
            "bin_end": 122.8,
            "count": 14
           },
           {
            "bin_start": 122.8,
            "bin_end": 154.2,
            "count": 81
           },
           {
            "bin_start": 154.2,
            "bin_end": 185.6,
            "count": 0
           },
           {
            "bin_start": 185.6,
            "bin_end": 217,
            "count": 9
           },
           {
            "bin_start": 217,
            "bin_end": 248.39999999999998,
            "count": 0
           },
           {
            "bin_start": 248.39999999999998,
            "bin_end": 279.79999999999995,
            "count": 39
           },
           {
            "bin_start": 279.79999999999995,
            "bin_end": 311.2,
            "count": 0
           },
           {
            "bin_start": 311.2,
            "bin_end": 342.59999999999997,
            "count": 11
           },
           {
            "bin_start": 342.59999999999997,
            "bin_end": 374,
            "count": 17
           }
          ]
         }
        },
        {
         "name": "VesselID",
         "dtype": "int64",
         "stats": {
          "unique_count": 4,
          "nan_count": 0,
          "min": "24245",
          "max": "24601",
          "histogram": [
           {
            "bin_start": 24245,
            "bin_end": 24280.6,
            "count": 659
           },
           {
            "bin_start": 24280.6,
            "bin_end": 24316.2,
            "count": 0
           },
           {
            "bin_start": 24316.2,
            "bin_end": 24351.8,
            "count": 0
           },
           {
            "bin_start": 24351.8,
            "bin_end": 24387.4,
            "count": 0
           },
           {
            "bin_start": 24387.4,
            "bin_end": 24423,
            "count": 0
           },
           {
            "bin_start": 24423,
            "bin_end": 24458.6,
            "count": 0
           },
           {
            "bin_start": 24458.6,
            "bin_end": 24494.2,
            "count": 669
           },
           {
            "bin_start": 24494.2,
            "bin_end": 24529.8,
            "count": 0
           },
           {
            "bin_start": 24529.8,
            "bin_end": 24565.4,
            "count": 0
           },
           {
            "bin_start": 24565.4,
            "bin_end": 24601,
            "count": 161
           }
          ]
         }
        },
        {
         "name": "Deviation",
         "dtype": "float64",
         "stats": {
          "unique_count": 0,
          "nan_count": 1489,
          "min": null,
          "max": null,
          "histogram": [
           {
            "bin_start": 0,
            "bin_end": 0.1,
            "count": 0
           },
           {
            "bin_start": 0.1,
            "bin_end": 0.2,
            "count": 0
           },
           {
            "bin_start": 0.2,
            "bin_end": 0.30000000000000004,
            "count": 0
           },
           {
            "bin_start": 0.30000000000000004,
            "bin_end": 0.4,
            "count": 0
           },
           {
            "bin_start": 0.4,
            "bin_end": 0.5,
            "count": 0
           },
           {
            "bin_start": 0.5,
            "bin_end": 0.6000000000000001,
            "count": 0
           },
           {
            "bin_start": 0.6000000000000001,
            "bin_end": 0.7000000000000001,
            "count": 0
           },
           {
            "bin_start": 0.7000000000000001,
            "bin_end": 0.8,
            "count": 0
           },
           {
            "bin_start": 0.8,
            "bin_end": 0.9,
            "count": 0
           },
           {
            "bin_start": 0.9,
            "bin_end": 1,
            "count": 0
           }
          ]
         }
        },
        {
         "name": "Yeast Out Totalizer",
         "dtype": "float64",
         "stats": {
          "unique_count": 0,
          "nan_count": 1489,
          "min": null,
          "max": null,
          "histogram": [
           {
            "bin_start": 0,
            "bin_end": 0.1,
            "count": 0
           },
           {
            "bin_start": 0.1,
            "bin_end": 0.2,
            "count": 0
           },
           {
            "bin_start": 0.2,
            "bin_end": 0.30000000000000004,
            "count": 0
           },
           {
            "bin_start": 0.30000000000000004,
            "bin_end": 0.4,
            "count": 0
           },
           {
            "bin_start": 0.4,
            "bin_end": 0.5,
            "count": 0
           },
           {
            "bin_start": 0.5,
            "bin_end": 0.6000000000000001,
            "count": 0
           },
           {
            "bin_start": 0.6000000000000001,
            "bin_end": 0.7000000000000001,
            "count": 0
           },
           {
            "bin_start": 0.7000000000000001,
            "bin_end": 0.8,
            "count": 0
           },
           {
            "bin_start": 0.8,
            "bin_end": 0.9,
            "count": 0
           },
           {
            "bin_start": 0.9,
            "bin_end": 1,
            "count": 0
           }
          ]
         }
        },
        {
         "name": "End Phase Time",
         "dtype": "float64",
         "stats": {
          "unique_count": 0,
          "nan_count": 1489,
          "min": null,
          "max": null,
          "histogram": [
           {
            "bin_start": 0,
            "bin_end": 0.1,
            "count": 0
           },
           {
            "bin_start": 0.1,
            "bin_end": 0.2,
            "count": 0
           },
           {
            "bin_start": 0.2,
            "bin_end": 0.30000000000000004,
            "count": 0
           },
           {
            "bin_start": 0.30000000000000004,
            "bin_end": 0.4,
            "count": 0
           },
           {
            "bin_start": 0.4,
            "bin_end": 0.5,
            "count": 0
           },
           {
            "bin_start": 0.5,
            "bin_end": 0.6000000000000001,
            "count": 0
           },
           {
            "bin_start": 0.6000000000000001,
            "bin_end": 0.7000000000000001,
            "count": 0
           },
           {
            "bin_start": 0.7000000000000001,
            "bin_end": 0.8,
            "count": 0
           },
           {
            "bin_start": 0.8,
            "bin_end": 0.9,
            "count": 0
           },
           {
            "bin_start": 0.9,
            "bin_end": 1,
            "count": 0
           }
          ]
         }
        },
        {
         "name": "Vessel Procedure",
         "dtype": "float64",
         "stats": {
          "unique_count": 0,
          "nan_count": 1489,
          "min": null,
          "max": null,
          "histogram": [
           {
            "bin_start": 0,
            "bin_end": 0.1,
            "count": 0
           },
           {
            "bin_start": 0.1,
            "bin_end": 0.2,
            "count": 0
           },
           {
            "bin_start": 0.2,
            "bin_end": 0.30000000000000004,
            "count": 0
           },
           {
            "bin_start": 0.30000000000000004,
            "bin_end": 0.4,
            "count": 0
           },
           {
            "bin_start": 0.4,
            "bin_end": 0.5,
            "count": 0
           },
           {
            "bin_start": 0.5,
            "bin_end": 0.6000000000000001,
            "count": 0
           },
           {
            "bin_start": 0.6000000000000001,
            "bin_end": 0.7000000000000001,
            "count": 0
           },
           {
            "bin_start": 0.7000000000000001,
            "bin_end": 0.8,
            "count": 0
           },
           {
            "bin_start": 0.8,
            "bin_end": 0.9,
            "count": 0
           },
           {
            "bin_start": 0.9,
            "bin_end": 1,
            "count": 0
           }
          ]
         }
        },
        {
         "name": "Predicted Transition",
         "dtype": "float64",
         "stats": {
          "unique_count": 0,
          "nan_count": 1489,
          "min": null,
          "max": null,
          "histogram": [
           {
            "bin_start": 0,
            "bin_end": 0.1,
            "count": 0
           },
           {
            "bin_start": 0.1,
            "bin_end": 0.2,
            "count": 0
           },
           {
            "bin_start": 0.2,
            "bin_end": 0.30000000000000004,
            "count": 0
           },
           {
            "bin_start": 0.30000000000000004,
            "bin_end": 0.4,
            "count": 0
           },
           {
            "bin_start": 0.4,
            "bin_end": 0.5,
            "count": 0
           },
           {
            "bin_start": 0.5,
            "bin_end": 0.6000000000000001,
            "count": 0
           },
           {
            "bin_start": 0.6000000000000001,
            "bin_end": 0.7000000000000001,
            "count": 0
           },
           {
            "bin_start": 0.7000000000000001,
            "bin_end": 0.8,
            "count": 0
           },
           {
            "bin_start": 0.8,
            "bin_end": 0.9,
            "count": 0
           },
           {
            "bin_start": 0.9,
            "bin_end": 1,
            "count": 0
           }
          ]
         }
        },
        {
         "name": "Integrator Key",
         "dtype": "float64",
         "stats": {
          "unique_count": 31,
          "nan_count": 0,
          "min": "-1.0",
          "max": "374.0",
          "histogram": [
           {
            "bin_start": -1,
            "bin_end": 36.5,
            "count": 1265
           },
           {
            "bin_start": 36.5,
            "bin_end": 74,
            "count": 3
           },
           {
            "bin_start": 74,
            "bin_end": 111.5,
            "count": 64
           },
           {
            "bin_start": 111.5,
            "bin_end": 149,
            "count": 46
           },
           {
            "bin_start": 149,
            "bin_end": 186.5,
            "count": 35
           },
           {
            "bin_start": 186.5,
            "bin_end": 224,
            "count": 9
           },
           {
            "bin_start": 224,
            "bin_end": 261.5,
            "count": 0
           },
           {
            "bin_start": 261.5,
            "bin_end": 299,
            "count": 39
           },
           {
            "bin_start": 299,
            "bin_end": 336.5,
            "count": 0
           },
           {
            "bin_start": 336.5,
            "bin_end": 374,
            "count": 28
           }
          ]
         }
        },
        {
         "name": "Phase Duration",
         "dtype": "float64",
         "stats": {
          "unique_count": 0,
          "nan_count": 1489,
          "min": null,
          "max": null,
          "histogram": [
           {
            "bin_start": 0,
            "bin_end": 0.1,
            "count": 0
           },
           {
            "bin_start": 0.1,
            "bin_end": 0.2,
            "count": 0
           },
           {
            "bin_start": 0.2,
            "bin_end": 0.30000000000000004,
            "count": 0
           },
           {
            "bin_start": 0.30000000000000004,
            "bin_end": 0.4,
            "count": 0
           },
           {
            "bin_start": 0.4,
            "bin_end": 0.5,
            "count": 0
           },
           {
            "bin_start": 0.5,
            "bin_end": 0.6000000000000001,
            "count": 0
           },
           {
            "bin_start": 0.6000000000000001,
            "bin_end": 0.7000000000000001,
            "count": 0
           },
           {
            "bin_start": 0.7000000000000001,
            "bin_end": 0.8,
            "count": 0
           },
           {
            "bin_start": 0.8,
            "bin_end": 0.9,
            "count": 0
           },
           {
            "bin_start": 0.9,
            "bin_end": 1,
            "count": 0
           }
          ]
         }
        },
        {
         "name": "Yeast Strain",
         "dtype": "object",
         "stats": {
          "unique_count": 3,
          "nan_count": 0,
          "categories": [
           {
            "name": "NCYC1187",
            "count": 1369
           },
           {
            "name": "None",
            "count": 117
           },
           {
            "name": "",
            "count": 3
           }
          ]
         }
        },
        {
         "name": "Brand",
         "dtype": "object",
         "stats": {
          "unique_count": 5,
          "nan_count": 0,
          "categories": [
           {
            "name": "Realtime Hops",
            "count": 657
           },
           {
            "name": "Grey Horse",
            "count": 546
           },
           {
            "name": "3 others",
            "count": 286
           }
          ]
         }
        },
        {
         "name": "Status",
         "dtype": "object",
         "stats": {
          "unique_count": 16,
          "nan_count": 0,
          "categories": [
           {
            "name": "Diacetyl Rest",
            "count": 281
           },
           {
            "name": "Fermentation",
            "count": 249
           },
           {
            "name": "14 others",
            "count": 959
           }
          ]
         }
        },
        {
         "name": "_deepnote_index_column",
         "dtype": "int64"
        }
       ],
       "rows": [
        {
         "Timestamp": "2017-01-19T00:00:00.000000",
         "Asset_Id": "FV32",
         "ADF": 0.1041079597722495,
         "Volume": 719.617,
         "Volume In": 719.61707,
         "Volume Out": 0,
         "Top TIC OUT": 8.699567,
         "Top TIC PV": 63.067005,
         "Top TIC SP": 63,
         "Middle TIC OUT": 17.355146,
         "Middle TIC PV": 63.032608,
         "Middle TIC SP": 63,
         "Bottom TIC OUT": 23.224054,
         "Bottom TIC PV": 63.199997,
         "Bottom TIC SP": 63,
         "PIC PV": 1.22,
         "PIC SP": 0.5,
         "Plato": 12.1,
         "PIC OUT": 100,
         "FV Full Plato": 13.506092,
         "Fermentation Start Time": "2017-01-18T05:59:56.6180112Z",
         "Yeast Generation": 0,
         "Diacetyl": "nan",
         "VesselID": 24245,
         "Deviation": "nan",
         "Yeast Out Totalizer": "nan",
         "End Phase Time": "nan",
         "Vessel Procedure": "nan",
         "Predicted Transition": "nan",
         "Integrator Key": 12.1,
         "Phase Duration": "nan",
         "Yeast Strain": "NCYC1187",
         "Brand": "Realtime Hops",
         "Status": "Fermentation",
         "_deepnote_index_column": 0
        },
        {
         "Timestamp": "2017-01-19T00:30:00.000000",
         "Asset_Id": "FV32",
         "ADF": 0.1041079597722495,
         "Volume": 719.617,
         "Volume In": 719.61707,
         "Volume Out": 0,
         "Top TIC OUT": 20.299335,
         "Top TIC PV": 63.055607,
         "Top TIC SP": 63,
         "Middle TIC OUT": 7.568751,
         "Middle TIC PV": 63.035385,
         "Middle TIC SP": 63,
         "Bottom TIC OUT": 28.083807,
         "Bottom TIC PV": 63.106808,
         "Bottom TIC SP": 63,
         "PIC PV": 1.4896504,
         "PIC SP": 0.5,
         "Plato": 12.1,
         "PIC OUT": 100,
         "FV Full Plato": 13.506092,
         "Fermentation Start Time": "2017-01-18T05:59:56.6180112Z",
         "Yeast Generation": 0,
         "Diacetyl": "nan",
         "VesselID": 24245,
         "Deviation": "nan",
         "Yeast Out Totalizer": "nan",
         "End Phase Time": "nan",
         "Vessel Procedure": "nan",
         "Predicted Transition": "nan",
         "Integrator Key": 12.1,
         "Phase Duration": "nan",
         "Yeast Strain": "NCYC1187",
         "Brand": "Realtime Hops",
         "Status": "Fermentation",
         "_deepnote_index_column": 1
        },
        {
         "Timestamp": "2017-01-19T01:00:00.000000",
         "Asset_Id": "FV32",
         "ADF": 0.1041079597722495,
         "Volume": 719.617,
         "Volume In": 719.61707,
         "Volume Out": 0,
         "Top TIC OUT": 46.984615,
         "Top TIC PV": 63.241917,
         "Top TIC SP": 63,
         "Middle TIC OUT": 4.2563286,
         "Middle TIC PV": 63.019897,
         "Middle TIC SP": 63,
         "Bottom TIC OUT": 7.8109393,
         "Bottom TIC PV": 62.916916,
         "Bottom TIC SP": 63,
         "PIC PV": 1.586662,
         "PIC SP": 0.5,
         "Plato": 12.1,
         "PIC OUT": 100,
         "FV Full Plato": 13.506092,
         "Fermentation Start Time": "2017-01-18T05:59:56.6180112Z",
         "Yeast Generation": 0,
         "Diacetyl": "nan",
         "VesselID": 24245,
         "Deviation": "nan",
         "Yeast Out Totalizer": "nan",
         "End Phase Time": "nan",
         "Vessel Procedure": "nan",
         "Predicted Transition": "nan",
         "Integrator Key": 12.1,
         "Phase Duration": "nan",
         "Yeast Strain": "NCYC1187",
         "Brand": "Realtime Hops",
         "Status": "Fermentation",
         "_deepnote_index_column": 2
        },
        {
         "Timestamp": "2017-01-19T01:30:00.000000",
         "Asset_Id": "FV32",
         "ADF": 0.1041079597722495,
         "Volume": 719.617,
         "Volume In": 719.61707,
         "Volume Out": 0,
         "Top TIC OUT": 74.284065,
         "Top TIC PV": 63.30508,
         "Top TIC SP": 63,
         "Middle TIC OUT": 17.0924,
         "Middle TIC PV": 63.079906,
         "Middle TIC SP": 63,
         "Bottom TIC OUT": 37.12926,
         "Bottom TIC PV": 63.199997,
         "Bottom TIC SP": 63,
         "PIC PV": 1.5533118,
         "PIC SP": 0.5,
         "Plato": 12.1,
         "PIC OUT": 100,
         "FV Full Plato": 13.506092,
         "Fermentation Start Time": "2017-01-18T05:59:56.6180112Z",
         "Yeast Generation": 0,
         "Diacetyl": "nan",
         "VesselID": 24245,
         "Deviation": "nan",
         "Yeast Out Totalizer": "nan",
         "End Phase Time": "nan",
         "Vessel Procedure": "nan",
         "Predicted Transition": "nan",
         "Integrator Key": 12.1,
         "Phase Duration": "nan",
         "Yeast Strain": "NCYC1187",
         "Brand": "Realtime Hops",
         "Status": "Fermentation",
         "_deepnote_index_column": 3
        },
        {
         "Timestamp": "2017-01-19T02:00:00.000000",
         "Asset_Id": "FV32",
         "ADF": 0.1041079597722495,
         "Volume": 719.617,
         "Volume In": 719.61707,
         "Volume Out": 0,
         "Top TIC OUT": 42.702755,
         "Top TIC PV": 63.15078,
         "Top TIC SP": 63,
         "Middle TIC OUT": 46.46321,
         "Middle TIC PV": 63.176716,
         "Middle TIC SP": 63,
         "Bottom TIC OUT": 29.04165,
         "Bottom TIC PV": 63.054047,
         "Bottom TIC SP": 63,
         "PIC PV": 1.8161999,
         "PIC SP": 0.5,
         "Plato": 12.1,
         "PIC OUT": 100,
         "FV Full Plato": 13.506092,
         "Fermentation Start Time": "2017-01-18T05:59:56.6180112Z",
         "Yeast Generation": 0,
         "Diacetyl": "nan",
         "VesselID": 24245,
         "Deviation": "nan",
         "Yeast Out Totalizer": "nan",
         "End Phase Time": "nan",
         "Vessel Procedure": "nan",
         "Predicted Transition": "nan",
         "Integrator Key": 12.1,
         "Phase Duration": "nan",
         "Yeast Strain": "NCYC1187",
         "Brand": "Realtime Hops",
         "Status": "Fermentation",
         "_deepnote_index_column": 4
        },
        {
         "Timestamp": "2017-01-19T02:30:00.000000",
         "Asset_Id": "FV32",
         "ADF": 0.1041079597722495,
         "Volume": 719.617,
         "Volume In": 719.61707,
         "Volume Out": 0,
         "Top TIC OUT": 13.092922,
         "Top TIC PV": 63.007164,
         "Top TIC SP": 63,
         "Middle TIC OUT": 7.8960876,
         "Middle TIC PV": 62.9029,
         "Middle TIC SP": 63,
         "Bottom TIC OUT": 8.955426,
         "Bottom TIC PV": 62.835625,
         "Bottom TIC SP": 63,
         "PIC PV": 1.8243121,
         "PIC SP": 0.5,
         "Plato": 12.1,
         "PIC OUT": 100,
         "FV Full Plato": 13.506092,
         "Fermentation Start Time": "2017-01-18T05:59:56.6180112Z",
         "Yeast Generation": 0,
         "Diacetyl": "nan",
         "VesselID": 24245,
         "Deviation": "nan",
         "Yeast Out Totalizer": "nan",
         "End Phase Time": "nan",
         "Vessel Procedure": "nan",
         "Predicted Transition": "nan",
         "Integrator Key": 12.1,
         "Phase Duration": "nan",
         "Yeast Strain": "NCYC1187",
         "Brand": "Realtime Hops",
         "Status": "Fermentation",
         "_deepnote_index_column": 5
        },
        {
         "Timestamp": "2017-01-19T03:00:00.000000",
         "Asset_Id": "FV32",
         "ADF": 0.1041079597722495,
         "Volume": 719.617,
         "Volume In": 719.61707,
         "Volume Out": 0,
         "Top TIC OUT": 14.370804,
         "Top TIC PV": 63.067184,
         "Top TIC SP": 63,
         "Middle TIC OUT": 42.406643,
         "Middle TIC PV": 63.2952,
         "Middle TIC SP": 63,
         "Bottom TIC OUT": 2.638767,
         "Bottom TIC PV": 63.012337,
         "Bottom TIC SP": 63,
         "PIC PV": 2.0099144,
         "PIC SP": 0.5,
         "Plato": 12.1,
         "PIC OUT": 100,
         "FV Full Plato": 13.506092,
         "Fermentation Start Time": "2017-01-18T05:59:56.6180112Z",
         "Yeast Generation": 0,
         "Diacetyl": "nan",
         "VesselID": 24245,
         "Deviation": "nan",
         "Yeast Out Totalizer": "nan",
         "End Phase Time": "nan",
         "Vessel Procedure": "nan",
         "Predicted Transition": "nan",
         "Integrator Key": 12.1,
         "Phase Duration": "nan",
         "Yeast Strain": "NCYC1187",
         "Brand": "Realtime Hops",
         "Status": "Fermentation",
         "_deepnote_index_column": 6
        },
        {
         "Timestamp": "2017-01-19T03:30:00.000000",
         "Asset_Id": "FV32",
         "ADF": 0.1041079597722495,
         "Volume": 719.617,
         "Volume In": 719.61707,
         "Volume Out": 0,
         "Top TIC OUT": 23.292688,
         "Top TIC PV": 63.18317,
         "Top TIC SP": 63,
         "Middle TIC OUT": 1.7772745,
         "Middle TIC PV": 63.00831,
         "Middle TIC SP": 63,
         "Bottom TIC OUT": 21.482569,
         "Bottom TIC PV": 63.199997,
         "Bottom TIC SP": 63,
         "PIC PV": 2.167501,
         "PIC SP": 0.5,
         "Plato": 12.1,
         "PIC OUT": 100,
         "FV Full Plato": 13.506092,
         "Fermentation Start Time": "2017-01-18T05:59:56.6180112Z",
         "Yeast Generation": 0,
         "Diacetyl": "nan",
         "VesselID": 24245,
         "Deviation": "nan",
         "Yeast Out Totalizer": "nan",
         "End Phase Time": "nan",
         "Vessel Procedure": "nan",
         "Predicted Transition": "nan",
         "Integrator Key": 12.1,
         "Phase Duration": "nan",
         "Yeast Strain": "NCYC1187",
         "Brand": "Realtime Hops",
         "Status": "Fermentation",
         "_deepnote_index_column": 7
        },
        {
         "Timestamp": "2017-01-19T04:00:00.000000",
         "Asset_Id": "FV32",
         "ADF": 0.1041079597722495,
         "Volume": 719.617,
         "Volume In": 719.61707,
         "Volume Out": 0,
         "Top TIC OUT": 37.853535,
         "Top TIC PV": 63.125225,
         "Top TIC SP": 63,
         "Middle TIC OUT": 4.218304,
         "Middle TIC PV": 63.019722,
         "Middle TIC SP": 63,
         "Bottom TIC OUT": 0,
         "Bottom TIC PV": 62.9,
         "Bottom TIC SP": 63,
         "PIC PV": 2.1368818,
         "PIC SP": 0.5,
         "Plato": 12.1,
         "PIC OUT": 100,
         "FV Full Plato": 13.506092,
         "Fermentation Start Time": "2017-01-18T05:59:56.6180112Z",
         "Yeast Generation": 0,
         "Diacetyl": "nan",
         "VesselID": 24245,
         "Deviation": "nan",
         "Yeast Out Totalizer": "nan",
         "End Phase Time": "nan",
         "Vessel Procedure": "nan",
         "Predicted Transition": "nan",
         "Integrator Key": 12.1,
         "Phase Duration": "nan",
         "Yeast Strain": "NCYC1187",
         "Brand": "Realtime Hops",
         "Status": "Fermentation",
         "_deepnote_index_column": 8
        },
        {
         "Timestamp": "2017-01-19T04:30:00.000000",
         "Asset_Id": "FV32",
         "ADF": 0.1041079597722495,
         "Volume": 719.617,
         "Volume In": 719.61707,
         "Volume Out": 0,
         "Top TIC OUT": 43.284634,
         "Top TIC PV": 63.222065,
         "Top TIC SP": 63,
         "Middle TIC OUT": 16.58134,
         "Middle TIC PV": 63.07752,
         "Middle TIC SP": 63,
         "Bottom TIC OUT": 7.945714,
         "Bottom TIC PV": 62.965096,
         "Bottom TIC SP": 63,
         "PIC PV": 2.0771916,
         "PIC SP": 0.5,
         "Plato": 12.1,
         "PIC OUT": 100,
         "FV Full Plato": 13.506092,
         "Fermentation Start Time": "2017-01-18T05:59:56.6180112Z",
         "Yeast Generation": 0,
         "Diacetyl": "nan",
         "VesselID": 24245,
         "Deviation": "nan",
         "Yeast Out Totalizer": "nan",
         "End Phase Time": "nan",
         "Vessel Procedure": "nan",
         "Predicted Transition": "nan",
         "Integrator Key": 12.1,
         "Phase Duration": "nan",
         "Yeast Strain": "NCYC1187",
         "Brand": "Realtime Hops",
         "Status": "Fermentation",
         "_deepnote_index_column": 9
        }
       ]
      },
      "text/plain": "               Timestamp Asset_Id       ADF   Volume  Volume In  Volume Out  \\\n0    2017-01-19 00:00:00     FV32  0.104108  719.617  719.61707         0.0   \n1    2017-01-19 00:30:00     FV32  0.104108  719.617  719.61707         0.0   \n2    2017-01-19 01:00:00     FV32  0.104108  719.617  719.61707         0.0   \n3    2017-01-19 01:30:00     FV32  0.104108  719.617  719.61707         0.0   \n4    2017-01-19 02:00:00     FV32  0.104108  719.617  719.61707         0.0   \n...                  ...      ...       ...      ...        ...         ...   \n1484 2017-02-18 22:00:00     FV32  0.653248  725.297  725.29740         0.0   \n1485 2017-02-18 22:30:00     FV32  0.653248  725.297  725.29740         0.0   \n1486 2017-02-18 23:00:00     FV32  0.653248  725.297  725.29740         0.0   \n1487 2017-02-18 23:30:00     FV32  0.653248  725.297  725.29740         0.0   \n1488 2017-02-19 00:00:00     FV32  0.653248  725.297  725.29740         0.0   \n\n      Top TIC OUT  Top TIC PV  Top TIC SP  Middle TIC OUT  ...  Deviation  \\\n0        8.699567   63.067005        63.0       17.355146  ...        NaN   \n1       20.299335   63.055607        63.0        7.568751  ...        NaN   \n2       46.984615   63.241917        63.0        4.256329  ...        NaN   \n3       74.284065   63.305080        63.0       17.092400  ...        NaN   \n4       42.702755   63.150780        63.0       46.463210  ...        NaN   \n...           ...         ...         ...             ...  ...        ...   \n1484     0.000000   63.400000        68.0        0.000000  ...        NaN   \n1485     0.000000   63.350674        68.0        0.000000  ...        NaN   \n1486     0.000000   63.199997        68.0        0.000000  ...        NaN   \n1487     0.000000   63.199997        68.0        0.000000  ...        NaN   \n1488     0.000000   63.400000        68.0        0.000000  ...        NaN   \n\n      Yeast Out Totalizer  End Phase Time  Vessel Procedure  \\\n0                     NaN             NaN               NaN   \n1                     NaN             NaN               NaN   \n2                     NaN             NaN               NaN   \n3                     NaN             NaN               NaN   \n4                     NaN             NaN               NaN   \n...                   ...             ...               ...   \n1484                  NaN             NaN               NaN   \n1485                  NaN             NaN               NaN   \n1486                  NaN             NaN               NaN   \n1487                  NaN             NaN               NaN   \n1488                  NaN             NaN               NaN   \n\n      Predicted Transition  Integrator Key  Phase Duration  Yeast Strain  \\\n0                      NaN            12.1             NaN      NCYC1187   \n1                      NaN            12.1             NaN      NCYC1187   \n2                      NaN            12.1             NaN      NCYC1187   \n3                      NaN            12.1             NaN      NCYC1187   \n4                      NaN            12.1             NaN      NCYC1187   \n...                    ...             ...             ...           ...   \n1484                   NaN           337.0             NaN      NCYC1187   \n1485                   NaN           337.0             NaN      NCYC1187   \n1486                   NaN           337.0             NaN      NCYC1187   \n1487                   NaN           337.0             NaN      NCYC1187   \n1488                   NaN           337.0             NaN      NCYC1187   \n\n              Brand         Status  \n0     Realtime Hops   Fermentation  \n1     Realtime Hops   Fermentation  \n2     Realtime Hops   Fermentation  \n3     Realtime Hops   Fermentation  \n4     Realtime Hops   Fermentation  \n...             ...            ...  \n1484       Kerberos  Diacetyl Rest  \n1485       Kerberos  Diacetyl Rest  \n1486       Kerberos  Diacetyl Rest  \n1487       Kerberos  Diacetyl Rest  \n1488       Kerberos  Diacetyl Rest  \n\n[1489 rows x 34 columns]",
      "text/html": "<div>\n<style scoped>\n    .dataframe tbody tr th:only-of-type {\n        vertical-align: middle;\n    }\n\n    .dataframe tbody tr th {\n        vertical-align: top;\n    }\n\n    .dataframe thead th {\n        text-align: right;\n    }\n</style>\n<table border=\"1\" class=\"dataframe\">\n  <thead>\n    <tr style=\"text-align: right;\">\n      <th></th>\n      <th>Timestamp</th>\n      <th>Asset_Id</th>\n      <th>ADF</th>\n      <th>Volume</th>\n      <th>Volume In</th>\n      <th>Volume Out</th>\n      <th>Top TIC OUT</th>\n      <th>Top TIC PV</th>\n      <th>Top TIC SP</th>\n      <th>Middle TIC OUT</th>\n      <th>...</th>\n      <th>Deviation</th>\n      <th>Yeast Out Totalizer</th>\n      <th>End Phase Time</th>\n      <th>Vessel Procedure</th>\n      <th>Predicted Transition</th>\n      <th>Integrator Key</th>\n      <th>Phase Duration</th>\n      <th>Yeast Strain</th>\n      <th>Brand</th>\n      <th>Status</th>\n    </tr>\n  </thead>\n  <tbody>\n    <tr>\n      <th>0</th>\n      <td>2017-01-19 00:00:00</td>\n      <td>FV32</td>\n      <td>0.104108</td>\n      <td>719.617</td>\n      <td>719.61707</td>\n      <td>0.0</td>\n      <td>8.699567</td>\n      <td>63.067005</td>\n      <td>63.0</td>\n      <td>17.355146</td>\n      <td>...</td>\n      <td>NaN</td>\n      <td>NaN</td>\n      <td>NaN</td>\n      <td>NaN</td>\n      <td>NaN</td>\n      <td>12.1</td>\n      <td>NaN</td>\n      <td>NCYC1187</td>\n      <td>Realtime Hops</td>\n      <td>Fermentation</td>\n    </tr>\n    <tr>\n      <th>1</th>\n      <td>2017-01-19 00:30:00</td>\n      <td>FV32</td>\n      <td>0.104108</td>\n      <td>719.617</td>\n      <td>719.61707</td>\n      <td>0.0</td>\n      <td>20.299335</td>\n      <td>63.055607</td>\n      <td>63.0</td>\n      <td>7.568751</td>\n      <td>...</td>\n      <td>NaN</td>\n      <td>NaN</td>\n      <td>NaN</td>\n      <td>NaN</td>\n      <td>NaN</td>\n      <td>12.1</td>\n      <td>NaN</td>\n      <td>NCYC1187</td>\n      <td>Realtime Hops</td>\n      <td>Fermentation</td>\n    </tr>\n    <tr>\n      <th>2</th>\n      <td>2017-01-19 01:00:00</td>\n      <td>FV32</td>\n      <td>0.104108</td>\n      <td>719.617</td>\n      <td>719.61707</td>\n      <td>0.0</td>\n      <td>46.984615</td>\n      <td>63.241917</td>\n      <td>63.0</td>\n      <td>4.256329</td>\n      <td>...</td>\n      <td>NaN</td>\n      <td>NaN</td>\n      <td>NaN</td>\n      <td>NaN</td>\n      <td>NaN</td>\n      <td>12.1</td>\n      <td>NaN</td>\n      <td>NCYC1187</td>\n      <td>Realtime Hops</td>\n      <td>Fermentation</td>\n    </tr>\n    <tr>\n      <th>3</th>\n      <td>2017-01-19 01:30:00</td>\n      <td>FV32</td>\n      <td>0.104108</td>\n      <td>719.617</td>\n      <td>719.61707</td>\n      <td>0.0</td>\n      <td>74.284065</td>\n      <td>63.305080</td>\n      <td>63.0</td>\n      <td>17.092400</td>\n      <td>...</td>\n      <td>NaN</td>\n      <td>NaN</td>\n      <td>NaN</td>\n      <td>NaN</td>\n      <td>NaN</td>\n      <td>12.1</td>\n      <td>NaN</td>\n      <td>NCYC1187</td>\n      <td>Realtime Hops</td>\n      <td>Fermentation</td>\n    </tr>\n    <tr>\n      <th>4</th>\n      <td>2017-01-19 02:00:00</td>\n      <td>FV32</td>\n      <td>0.104108</td>\n      <td>719.617</td>\n      <td>719.61707</td>\n      <td>0.0</td>\n      <td>42.702755</td>\n      <td>63.150780</td>\n      <td>63.0</td>\n      <td>46.463210</td>\n      <td>...</td>\n      <td>NaN</td>\n      <td>NaN</td>\n      <td>NaN</td>\n      <td>NaN</td>\n      <td>NaN</td>\n      <td>12.1</td>\n      <td>NaN</td>\n      <td>NCYC1187</td>\n      <td>Realtime Hops</td>\n      <td>Fermentation</td>\n    </tr>\n    <tr>\n      <th>...</th>\n      <td>...</td>\n      <td>...</td>\n      <td>...</td>\n      <td>...</td>\n      <td>...</td>\n      <td>...</td>\n      <td>...</td>\n      <td>...</td>\n      <td>...</td>\n      <td>...</td>\n      <td>...</td>\n      <td>...</td>\n      <td>...</td>\n      <td>...</td>\n      <td>...</td>\n      <td>...</td>\n      <td>...</td>\n      <td>...</td>\n      <td>...</td>\n      <td>...</td>\n      <td>...</td>\n    </tr>\n    <tr>\n      <th>1484</th>\n      <td>2017-02-18 22:00:00</td>\n      <td>FV32</td>\n      <td>0.653248</td>\n      <td>725.297</td>\n      <td>725.29740</td>\n      <td>0.0</td>\n      <td>0.000000</td>\n      <td>63.400000</td>\n      <td>68.0</td>\n      <td>0.000000</td>\n      <td>...</td>\n      <td>NaN</td>\n      <td>NaN</td>\n      <td>NaN</td>\n      <td>NaN</td>\n      <td>NaN</td>\n      <td>337.0</td>\n      <td>NaN</td>\n      <td>NCYC1187</td>\n      <td>Kerberos</td>\n      <td>Diacetyl Rest</td>\n    </tr>\n    <tr>\n      <th>1485</th>\n      <td>2017-02-18 22:30:00</td>\n      <td>FV32</td>\n      <td>0.653248</td>\n      <td>725.297</td>\n      <td>725.29740</td>\n      <td>0.0</td>\n      <td>0.000000</td>\n      <td>63.350674</td>\n      <td>68.0</td>\n      <td>0.000000</td>\n      <td>...</td>\n      <td>NaN</td>\n      <td>NaN</td>\n      <td>NaN</td>\n      <td>NaN</td>\n      <td>NaN</td>\n      <td>337.0</td>\n      <td>NaN</td>\n      <td>NCYC1187</td>\n      <td>Kerberos</td>\n      <td>Diacetyl Rest</td>\n    </tr>\n    <tr>\n      <th>1486</th>\n      <td>2017-02-18 23:00:00</td>\n      <td>FV32</td>\n      <td>0.653248</td>\n      <td>725.297</td>\n      <td>725.29740</td>\n      <td>0.0</td>\n      <td>0.000000</td>\n      <td>63.199997</td>\n      <td>68.0</td>\n      <td>0.000000</td>\n      <td>...</td>\n      <td>NaN</td>\n      <td>NaN</td>\n      <td>NaN</td>\n      <td>NaN</td>\n      <td>NaN</td>\n      <td>337.0</td>\n      <td>NaN</td>\n      <td>NCYC1187</td>\n      <td>Kerberos</td>\n      <td>Diacetyl Rest</td>\n    </tr>\n    <tr>\n      <th>1487</th>\n      <td>2017-02-18 23:30:00</td>\n      <td>FV32</td>\n      <td>0.653248</td>\n      <td>725.297</td>\n      <td>725.29740</td>\n      <td>0.0</td>\n      <td>0.000000</td>\n      <td>63.199997</td>\n      <td>68.0</td>\n      <td>0.000000</td>\n      <td>...</td>\n      <td>NaN</td>\n      <td>NaN</td>\n      <td>NaN</td>\n      <td>NaN</td>\n      <td>NaN</td>\n      <td>337.0</td>\n      <td>NaN</td>\n      <td>NCYC1187</td>\n      <td>Kerberos</td>\n      <td>Diacetyl Rest</td>\n    </tr>\n    <tr>\n      <th>1488</th>\n      <td>2017-02-19 00:00:00</td>\n      <td>FV32</td>\n      <td>0.653248</td>\n      <td>725.297</td>\n      <td>725.29740</td>\n      <td>0.0</td>\n      <td>0.000000</td>\n      <td>63.400000</td>\n      <td>68.0</td>\n      <td>0.000000</td>\n      <td>...</td>\n      <td>NaN</td>\n      <td>NaN</td>\n      <td>NaN</td>\n      <td>NaN</td>\n      <td>NaN</td>\n      <td>337.0</td>\n      <td>NaN</td>\n      <td>NCYC1187</td>\n      <td>Kerberos</td>\n      <td>Diacetyl Rest</td>\n    </tr>\n  </tbody>\n</table>\n<p>1489 rows × 34 columns</p>\n</div>"
     },
     "metadata": {}
    }
   ],
   "execution_count": null
  },
  {
   "cell_type": "code",
   "metadata": {
    "tags": [],
    "cell_id": "00029-ca079ea9-e951-44fe-8d6c-53f559ca5e93",
    "deepnote_to_be_reexecuted": false,
    "source_hash": "1d95f2d9",
    "execution_start": 1642204172687,
    "execution_millis": 6,
    "deepnote_cell_type": "code"
   },
   "source": "# Information about the dataframe - this is a Pandas operation \ndf_fv32.info()",
   "outputs": [
    {
     "name": "stdout",
     "text": "<class 'pandas.core.frame.DataFrame'>\nRangeIndex: 1489 entries, 0 to 1488\nData columns (total 34 columns):\n #   Column                   Non-Null Count  Dtype         \n---  ------                   --------------  -----         \n 0   Timestamp                1489 non-null   datetime64[ns]\n 1   Asset_Id                 1489 non-null   object        \n 2   ADF                      753 non-null    float64       \n 3   Volume                   1486 non-null   float64       \n 4   Volume In                1486 non-null   float64       \n 5   Volume Out               1486 non-null   float64       \n 6   Top TIC OUT              1486 non-null   float64       \n 7   Top TIC PV               1486 non-null   float64       \n 8   Top TIC SP               1486 non-null   float64       \n 9   Middle TIC OUT           1486 non-null   float64       \n 10  Middle TIC PV            1486 non-null   float64       \n 11  Middle TIC SP            1486 non-null   float64       \n 12  Bottom TIC OUT           1486 non-null   float64       \n 13  Bottom TIC PV            1486 non-null   float64       \n 14  Bottom TIC SP            1486 non-null   float64       \n 15  PIC PV                   1486 non-null   float64       \n 16  PIC SP                   1486 non-null   float64       \n 17  Plato                    753 non-null    float64       \n 18  PIC OUT                  1486 non-null   float64       \n 19  FV Full Plato            1347 non-null   float64       \n 20  Fermentation Start Time  1303 non-null   object        \n 21  Yeast Generation         1486 non-null   float64       \n 22  Diacetyl                 932 non-null    float64       \n 23  VesselID                 1489 non-null   int64         \n 24  Deviation                0 non-null      float64       \n 25  Yeast Out Totalizer      0 non-null      float64       \n 26  End Phase Time           0 non-null      float64       \n 27  Vessel Procedure         0 non-null      float64       \n 28  Predicted Transition     0 non-null      float64       \n 29  Integrator Key           1489 non-null   float64       \n 30  Phase Duration           0 non-null      float64       \n 31  Yeast Strain             1489 non-null   object        \n 32  Brand                    1489 non-null   object        \n 33  Status                   1489 non-null   object        \ndtypes: datetime64[ns](1), float64(27), int64(1), object(5)\nmemory usage: 395.6+ KB\n",
     "output_type": "stream"
    }
   ],
   "execution_count": null
  },
  {
   "cell_type": "markdown",
   "source": "## Data Views with multiple assets\n\nSome Data Views return data for fermenter vessels 31 up to 36. Cell below is how to get their names. ",
   "metadata": {
    "cell_id": "00030-e8a01c84-4ea6-497a-b240-2d7e24ae81ba",
    "deepnote_cell_type": "markdown"
   }
  },
  {
   "cell_type": "code",
   "metadata": {
    "cell_id": "00031-5a0e6876-a7ea-41a6-85ee-1f98ac8b14bf",
    "deepnote_output_heights": [
     21.1875
    ],
    "deepnote_to_be_reexecuted": false,
    "source_hash": "33130518",
    "execution_start": 1642204172695,
    "execution_millis": 3,
    "deepnote_cell_type": "code"
   },
   "source": "multi_asset_dvs = hub.asset_dataviews(multiple_asset=True)\nmulti_asset_dvs",
   "outputs": [
    {
     "output_type": "execute_result",
     "execution_count": 16,
     "data": {
      "text/plain": "['brewery-fv01--28', 'brewery-fv31--36', 'brewery-fv37--46']"
     },
     "metadata": {}
    }
   ],
   "execution_count": null
  },
  {
   "cell_type": "markdown",
   "source": "## Get result\n\nThe column \"Asset_Id\" indicates which asset the data row belongs to. The data order is all data for FV31 in increasing time, followed by FV32 and so on up to FV36. \n",
   "metadata": {
    "cell_id": "00032-03574a68-2019-4495-8390-5835fd27937e",
    "deepnote_cell_type": "markdown"
   }
  },
  {
   "cell_type": "code",
   "metadata": {
    "tags": [],
    "cell_id": "00033-2644c795-88dd-4b40-acdd-9e2d42a16e71",
    "deepnote_output_heights": [
     null,
     382.1875
    ],
    "deepnote_to_be_reexecuted": false,
    "source_hash": "5e394d4c",
    "execution_start": 1642204172704,
    "execution_millis": 14020,
    "deepnote_cell_type": "code"
   },
   "source": "df_fv31_36 = hub.dataview_interpolated_pd(namespace_id, multi_asset_dvs[1], \"2017-02-01\", \"2017-03-01\", \"00:30:00\")\ndf_fv31_36",
   "outputs": [
    {
     "name": "stdout",
     "text": "++\n  ==> Finished 'dataview_interpolated_pd' in       13.5946 secs [ 594 rows/sec ]\n",
     "output_type": "stream"
    },
    {
     "output_type": "execute_result",
     "execution_count": 17,
     "data": {
      "application/vnd.deepnote.dataframe.v3+json": {
       "column_count": 34,
       "row_count": 8070,
       "columns": [
        {
         "name": "Timestamp",
         "dtype": "datetime64[ns]",
         "stats": {
          "unique_count": 1345,
          "nan_count": 0,
          "min": "2017-02-01 00:00:00",
          "max": "2017-03-01 00:00:00",
          "histogram": [
           {
            "bin_start": 1485907200000000000,
            "bin_end": 1486149120000000000,
            "count": 810
           },
           {
            "bin_start": 1486149120000000000,
            "bin_end": 1486391040000000000,
            "count": 804
           },
           {
            "bin_start": 1486391040000000000,
            "bin_end": 1486632960000000000,
            "count": 810
           },
           {
            "bin_start": 1486632960000000000,
            "bin_end": 1486874880000000000,
            "count": 804
           },
           {
            "bin_start": 1486874880000000000,
            "bin_end": 1487116800000000000,
            "count": 804
           },
           {
            "bin_start": 1487116800000000000,
            "bin_end": 1487358720000000000,
            "count": 810
           },
           {
            "bin_start": 1487358720000000000,
            "bin_end": 1487600640000000000,
            "count": 804
           },
           {
            "bin_start": 1487600640000000000,
            "bin_end": 1487842560000000000,
            "count": 810
           },
           {
            "bin_start": 1487842560000000000,
            "bin_end": 1488084480000000000,
            "count": 804
           },
           {
            "bin_start": 1488084480000000000,
            "bin_end": 1488326400000000000,
            "count": 810
           }
          ]
         }
        },
        {
         "name": "Asset_Id",
         "dtype": "object",
         "stats": {
          "unique_count": 6,
          "nan_count": 0,
          "categories": [
           {
            "name": "FV31",
            "count": 1345
           },
           {
            "name": "FV32",
            "count": 1345
           },
           {
            "name": "4 others",
            "count": 5380
           }
          ]
         }
        },
        {
         "name": "ADF",
         "dtype": "float64",
         "stats": {
          "unique_count": 71,
          "nan_count": 4019,
          "min": "0.0301938462068515",
          "max": "0.7898406942546815",
          "histogram": [
           {
            "bin_start": 0.0301938462068515,
            "bin_end": 0.1061585310116345,
            "count": 154
           },
           {
            "bin_start": 0.1061585310116345,
            "bin_end": 0.1821232158164175,
            "count": 77
           },
           {
            "bin_start": 0.1821232158164175,
            "bin_end": 0.25808790062120046,
            "count": 56
           },
           {
            "bin_start": 0.25808790062120046,
            "bin_end": 0.3340525854259835,
            "count": 153
           },
           {
            "bin_start": 0.3340525854259835,
            "bin_end": 0.4100172702307665,
            "count": 124
           },
           {
            "bin_start": 0.4100172702307665,
            "bin_end": 0.4859819550355495,
            "count": 75
           },
           {
            "bin_start": 0.4859819550355495,
            "bin_end": 0.5619466398403324,
            "count": 126
           },
           {
            "bin_start": 0.5619466398403324,
            "bin_end": 0.6379113246451155,
            "count": 117
           },
           {
            "bin_start": 0.6379113246451155,
            "bin_end": 0.7138760094498985,
            "count": 1688
           },
           {
            "bin_start": 0.7138760094498985,
            "bin_end": 0.7898406942546815,
            "count": 1481
           }
          ]
         }
        },
        {
         "name": "Volume",
         "dtype": "float64",
         "stats": {
          "unique_count": 783,
          "nan_count": 0,
          "min": "0.0",
          "max": "743.10034",
          "histogram": [
           {
            "bin_start": 0,
            "bin_end": 74.310034,
            "count": 717
           },
           {
            "bin_start": 74.310034,
            "bin_end": 148.620068,
            "count": 69
           },
           {
            "bin_start": 148.620068,
            "bin_end": 222.930102,
            "count": 50
           },
           {
            "bin_start": 222.930102,
            "bin_end": 297.240136,
            "count": 100
           },
           {
            "bin_start": 297.240136,
            "bin_end": 371.55017,
            "count": 32
           },
           {
            "bin_start": 371.55017,
            "bin_end": 445.860204,
            "count": 84
           },
           {
            "bin_start": 445.860204,
            "bin_end": 520.170238,
            "count": 28
           },
           {
            "bin_start": 520.170238,
            "bin_end": 594.480272,
            "count": 91
           },
           {
            "bin_start": 594.480272,
            "bin_end": 668.790306,
            "count": 195
           },
           {
            "bin_start": 668.790306,
            "bin_end": 743.10034,
            "count": 6704
           }
          ]
         }
        },
        {
         "name": "Volume In",
         "dtype": "float64",
         "stats": {
          "unique_count": 390,
          "nan_count": 0,
          "min": "0.0",
          "max": "743.10034",
          "histogram": [
           {
            "bin_start": 0,
            "bin_end": 74.310034,
            "count": 708
           },
           {
            "bin_start": 74.310034,
            "bin_end": 148.620068,
            "count": 51
           },
           {
            "bin_start": 148.620068,
            "bin_end": 222.930102,
            "count": 12
           },
           {
            "bin_start": 222.930102,
            "bin_end": 297.240136,
            "count": 52
           },
           {
            "bin_start": 297.240136,
            "bin_end": 371.55017,
            "count": 15
           },
           {
            "bin_start": 371.55017,
            "bin_end": 445.860204,
            "count": 55
           },
           {
            "bin_start": 445.860204,
            "bin_end": 520.170238,
            "count": 13
           },
           {
            "bin_start": 520.170238,
            "bin_end": 594.480272,
            "count": 56
           },
           {
            "bin_start": 594.480272,
            "bin_end": 668.790306,
            "count": 15
           },
           {
            "bin_start": 668.790306,
            "bin_end": 743.10034,
            "count": 7093
           }
          ]
         }
        },
        {
         "name": "Volume Out",
         "dtype": "float64",
         "stats": {
          "unique_count": 358,
          "nan_count": 0,
          "min": "0.0",
          "max": "693.1075",
          "histogram": [
           {
            "bin_start": 0,
            "bin_end": 69.31075,
            "count": 7688
           },
           {
            "bin_start": 69.31075,
            "bin_end": 138.6215,
            "count": 174
           },
           {
            "bin_start": 138.6215,
            "bin_end": 207.93225,
            "count": 35
           },
           {
            "bin_start": 207.93225,
            "bin_end": 277.243,
            "count": 14
           },
           {
            "bin_start": 277.243,
            "bin_end": 346.55375,
            "count": 26
           },
           {
            "bin_start": 346.55375,
            "bin_end": 415.8645,
            "count": 17
           },
           {
            "bin_start": 415.8645,
            "bin_end": 485.17525,
            "count": 48
           },
           {
            "bin_start": 485.17525,
            "bin_end": 554.486,
            "count": 36
           },
           {
            "bin_start": 554.486,
            "bin_end": 623.79675,
            "count": 18
           },
           {
            "bin_start": 623.79675,
            "bin_end": 693.1075,
            "count": 14
           }
          ]
         }
        },
        {
         "name": "Top TIC OUT",
         "dtype": "float64",
         "stats": {
          "unique_count": 1997,
          "nan_count": 0,
          "min": "0.0",
          "max": "100.0",
          "histogram": [
           {
            "bin_start": 0,
            "bin_end": 10,
            "count": 4196
           },
           {
            "bin_start": 10,
            "bin_end": 20,
            "count": 305
           },
           {
            "bin_start": 20,
            "bin_end": 30,
            "count": 432
           },
           {
            "bin_start": 30,
            "bin_end": 40,
            "count": 293
           },
           {
            "bin_start": 40,
            "bin_end": 50,
            "count": 336
           },
           {
            "bin_start": 50,
            "bin_end": 60,
            "count": 192
           },
           {
            "bin_start": 60,
            "bin_end": 70,
            "count": 177
           },
           {
            "bin_start": 70,
            "bin_end": 80,
            "count": 80
           },
           {
            "bin_start": 80,
            "bin_end": 90,
            "count": 113
           },
           {
            "bin_start": 90,
            "bin_end": 100,
            "count": 1946
           }
          ]
         }
        },
        {
         "name": "Top TIC PV",
         "dtype": "float64",
         "stats": {
          "unique_count": 6544,
          "nan_count": 0,
          "min": "24.293877",
          "max": "150.39424",
          "histogram": [
           {
            "bin_start": 24.293877,
            "bin_end": 36.9039133,
            "count": 3981
           },
           {
            "bin_start": 36.9039133,
            "bin_end": 49.513949600000004,
            "count": 597
           },
           {
            "bin_start": 49.513949600000004,
            "bin_end": 62.123985899999994,
            "count": 444
           },
           {
            "bin_start": 62.123985899999994,
            "bin_end": 74.7340222,
            "count": 2374
           },
           {
            "bin_start": 74.7340222,
            "bin_end": 87.3440585,
            "count": 221
           },
           {
            "bin_start": 87.3440585,
            "bin_end": 99.9540948,
            "count": 220
           },
           {
            "bin_start": 99.9540948,
            "bin_end": 112.5641311,
            "count": 127
           },
           {
            "bin_start": 112.5641311,
            "bin_end": 125.1741674,
            "count": 57
           },
           {
            "bin_start": 125.1741674,
            "bin_end": 137.7842037,
            "count": 22
           },
           {
            "bin_start": 137.7842037,
            "bin_end": 150.39424,
            "count": 27
           }
          ]
         }
        },
        {
         "name": "Top TIC SP",
         "dtype": "float64",
         "stats": {
          "unique_count": 916,
          "nan_count": 0,
          "min": "25.165972",
          "max": "150.39424",
          "histogram": [
           {
            "bin_start": 25.165972,
            "bin_end": 37.6887988,
            "count": 4732
           },
           {
            "bin_start": 37.6887988,
            "bin_end": 50.211625600000005,
            "count": 88
           },
           {
            "bin_start": 50.211625600000005,
            "bin_end": 62.734452399999995,
            "count": 14
           },
           {
            "bin_start": 62.734452399999995,
            "bin_end": 75.2572792,
            "count": 2570
           },
           {
            "bin_start": 75.2572792,
            "bin_end": 87.780106,
            "count": 221
           },
           {
            "bin_start": 87.780106,
            "bin_end": 100.3029328,
            "count": 214
           },
           {
            "bin_start": 100.3029328,
            "bin_end": 112.8257596,
            "count": 127
           },
           {
            "bin_start": 112.8257596,
            "bin_end": 125.3485864,
            "count": 56
           },
           {
            "bin_start": 125.3485864,
            "bin_end": 137.8714132,
            "count": 22
           },
           {
            "bin_start": 137.8714132,
            "bin_end": 150.39424,
            "count": 26
           }
          ]
         }
        },
        {
         "name": "Middle TIC OUT",
         "dtype": "float64",
         "stats": {
          "unique_count": 1703,
          "nan_count": 0,
          "min": "0.0",
          "max": "100.0",
          "histogram": [
           {
            "bin_start": 0,
            "bin_end": 10,
            "count": 5204
           },
           {
            "bin_start": 10,
            "bin_end": 20,
            "count": 482
           },
           {
            "bin_start": 20,
            "bin_end": 30,
            "count": 334
           },
           {
            "bin_start": 30,
            "bin_end": 40,
            "count": 165
           },
           {
            "bin_start": 40,
            "bin_end": 50,
            "count": 126
           },
           {
            "bin_start": 50,
            "bin_end": 60,
            "count": 110
           },
           {
            "bin_start": 60,
            "bin_end": 70,
            "count": 63
           },
           {
            "bin_start": 70,
            "bin_end": 80,
            "count": 35
           },
           {
            "bin_start": 80,
            "bin_end": 90,
            "count": 28
           },
           {
            "bin_start": 90,
            "bin_end": 100,
            "count": 1523
           }
          ]
         }
        },
        {
         "name": "Middle TIC PV",
         "dtype": "float64",
         "stats": {
          "unique_count": 6781,
          "nan_count": 0,
          "min": "23.51569",
          "max": "149.10545",
          "histogram": [
           {
            "bin_start": 23.51569,
            "bin_end": 36.07466599999999,
            "count": 4000
           },
           {
            "bin_start": 36.07466599999999,
            "bin_end": 48.633641999999995,
            "count": 567
           },
           {
            "bin_start": 48.633641999999995,
            "bin_end": 61.19261799999999,
            "count": 373
           },
           {
            "bin_start": 61.19261799999999,
            "bin_end": 73.75159399999998,
            "count": 2480
           },
           {
            "bin_start": 73.75159399999998,
            "bin_end": 86.31056999999998,
            "count": 214
           },
           {
            "bin_start": 86.31056999999998,
            "bin_end": 98.86954599999999,
            "count": 207
           },
           {
            "bin_start": 98.86954599999999,
            "bin_end": 111.42852199999999,
            "count": 126
           },
           {
            "bin_start": 111.42852199999999,
            "bin_end": 123.98749799999999,
            "count": 58
           },
           {
            "bin_start": 123.98749799999999,
            "bin_end": 136.546474,
            "count": 17
           },
           {
            "bin_start": 136.546474,
            "bin_end": 149.10545,
            "count": 28
           }
          ]
         }
        },
        {
         "name": "Middle TIC SP",
         "dtype": "float64",
         "stats": {
          "unique_count": 875,
          "nan_count": 0,
          "min": "25.083014",
          "max": "149.10545",
          "histogram": [
           {
            "bin_start": 25.083014,
            "bin_end": 37.4852576,
            "count": 4779
           },
           {
            "bin_start": 37.4852576,
            "bin_end": 49.8875012,
            "count": 45
           },
           {
            "bin_start": 49.8875012,
            "bin_end": 62.2897448,
            "count": 10
           },
           {
            "bin_start": 62.2897448,
            "bin_end": 74.6919884,
            "count": 2600
           },
           {
            "bin_start": 74.6919884,
            "bin_end": 87.094232,
            "count": 215
           },
           {
            "bin_start": 87.094232,
            "bin_end": 99.4964756,
            "count": 199
           },
           {
            "bin_start": 99.4964756,
            "bin_end": 111.89871919999999,
            "count": 122
           },
           {
            "bin_start": 111.89871919999999,
            "bin_end": 124.30096280000001,
            "count": 55
           },
           {
            "bin_start": 124.30096280000001,
            "bin_end": 136.7032064,
            "count": 18
           },
           {
            "bin_start": 136.7032064,
            "bin_end": 149.10545,
            "count": 27
           }
          ]
         }
        },
        {
         "name": "Bottom TIC OUT",
         "dtype": "float64"
        },
        {
         "name": "Bottom TIC PV",
         "dtype": "float64"
        },
        {
         "name": "Bottom TIC SP",
         "dtype": "float64"
        },
        {
         "name": "PIC PV",
         "dtype": "float64"
        },
        {
         "name": "PIC SP",
         "dtype": "float64"
        },
        {
         "name": "Plato",
         "dtype": "float64"
        },
        {
         "name": "PIC OUT",
         "dtype": "float64"
        },
        {
         "name": "FV Full Plato",
         "dtype": "float64"
        },
        {
         "name": "Fermentation Start Time",
         "dtype": "object"
        },
        {
         "name": "Yeast Generation",
         "dtype": "int64"
        },
        {
         "name": "Diacetyl",
         "dtype": "float64"
        },
        {
         "name": "VesselID",
         "dtype": "int64"
        },
        {
         "name": "Deviation",
         "dtype": "float64"
        },
        {
         "name": "Yeast Out Totalizer",
         "dtype": "float64"
        },
        {
         "name": "End Phase Time",
         "dtype": "float64"
        },
        {
         "name": "Vessel Procedure",
         "dtype": "float64"
        },
        {
         "name": "Predicted Transition",
         "dtype": "float64"
        },
        {
         "name": "Integrator Key",
         "dtype": "float64"
        },
        {
         "name": "Phase Duration",
         "dtype": "float64"
        },
        {
         "name": "Yeast Strain",
         "dtype": "object"
        },
        {
         "name": "Brand",
         "dtype": "object"
        },
        {
         "name": "Status",
         "dtype": "object"
        },
        {
         "name": "_deepnote_index_column",
         "dtype": "int64"
        }
       ],
       "rows": [
        {
         "Timestamp": "2017-02-01T00:00:00.000000",
         "Asset_Id": "FV31",
         "ADF": 0.7190456259857921,
         "Volume": 698.337,
         "Volume In": 698.3373,
         "Volume Out": 0,
         "Top TIC OUT": 100,
         "Top TIC PV": 53.674717,
         "Top TIC SP": 30,
         "Middle TIC OUT": 100,
         "Middle TIC PV": 53.79834,
         "Middle TIC SP": 30,
         "Bottom TIC OUT": 100,
         "Bottom TIC PV": 52.903126,
         "Bottom TIC SP": 30,
         "PIC PV": 10.66496,
         "PIC SP": 10,
         "Plato": 4.8,
         "PIC OUT": 0,
         "FV Full Plato": 17.084625,
         "Fermentation Start Time": "2017-01-26T07:30:03.2369995Z",
         "Yeast Generation": 0,
         "Diacetyl": 70,
         "VesselID": 24402,
         "Deviation": "nan",
         "Yeast Out Totalizer": "nan",
         "End Phase Time": "nan",
         "Vessel Procedure": "nan",
         "Predicted Transition": "nan",
         "Integrator Key": -1,
         "Phase Duration": "nan",
         "Yeast Strain": "NCYC1187",
         "Brand": "Grey Horse",
         "Status": "Cooling",
         "_deepnote_index_column": 0
        },
        {
         "Timestamp": "2017-02-01T00:30:00.000000",
         "Asset_Id": "FV31",
         "ADF": 0.7190456259857921,
         "Volume": 698.337,
         "Volume In": 698.3373,
         "Volume Out": 0,
         "Top TIC OUT": 100,
         "Top TIC PV": 52.92827,
         "Top TIC SP": 30,
         "Middle TIC OUT": 100,
         "Middle TIC PV": 53.00958,
         "Middle TIC SP": 30,
         "Bottom TIC OUT": 100,
         "Bottom TIC PV": 52.3531,
         "Bottom TIC SP": 30,
         "PIC PV": 10.666594,
         "PIC SP": 10,
         "Plato": 4.8,
         "PIC OUT": 0,
         "FV Full Plato": 17.084625,
         "Fermentation Start Time": "2017-01-26T07:30:03.2369995Z",
         "Yeast Generation": 0,
         "Diacetyl": 70,
         "VesselID": 24402,
         "Deviation": "nan",
         "Yeast Out Totalizer": "nan",
         "End Phase Time": "nan",
         "Vessel Procedure": "nan",
         "Predicted Transition": "nan",
         "Integrator Key": -1,
         "Phase Duration": "nan",
         "Yeast Strain": "NCYC1187",
         "Brand": "Grey Horse",
         "Status": "Cooling",
         "_deepnote_index_column": 1
        },
        {
         "Timestamp": "2017-02-01T01:00:00.000000",
         "Asset_Id": "FV31",
         "ADF": 0.7190456259857921,
         "Volume": 698.337,
         "Volume In": 698.3373,
         "Volume Out": 0,
         "Top TIC OUT": 100,
         "Top TIC PV": 52.507034,
         "Top TIC SP": 30,
         "Middle TIC OUT": 100,
         "Middle TIC PV": 52.35594,
         "Middle TIC SP": 30,
         "Bottom TIC OUT": 100,
         "Bottom TIC PV": 51.888386,
         "Bottom TIC SP": 30,
         "PIC PV": 10.661509,
         "PIC SP": 10,
         "Plato": 4.8,
         "PIC OUT": 0,
         "FV Full Plato": 17.084625,
         "Fermentation Start Time": "2017-01-26T07:30:03.2369995Z",
         "Yeast Generation": 0,
         "Diacetyl": 70,
         "VesselID": 24402,
         "Deviation": "nan",
         "Yeast Out Totalizer": "nan",
         "End Phase Time": "nan",
         "Vessel Procedure": "nan",
         "Predicted Transition": "nan",
         "Integrator Key": -1,
         "Phase Duration": "nan",
         "Yeast Strain": "NCYC1187",
         "Brand": "Grey Horse",
         "Status": "Cooling",
         "_deepnote_index_column": 2
        },
        {
         "Timestamp": "2017-02-01T01:30:00.000000",
         "Asset_Id": "FV31",
         "ADF": 0.7190456259857921,
         "Volume": 698.337,
         "Volume In": 698.3373,
         "Volume Out": 0,
         "Top TIC OUT": 100,
         "Top TIC PV": 51.93379,
         "Top TIC SP": 30,
         "Middle TIC OUT": 100,
         "Middle TIC PV": 52.200005,
         "Middle TIC SP": 30,
         "Bottom TIC OUT": 100,
         "Bottom TIC PV": 50.630993,
         "Bottom TIC SP": 30,
         "PIC PV": 10.656423,
         "PIC SP": 10,
         "Plato": 4.8,
         "PIC OUT": 0,
         "FV Full Plato": 17.084625,
         "Fermentation Start Time": "2017-01-26T07:30:03.2369995Z",
         "Yeast Generation": 0,
         "Diacetyl": 70,
         "VesselID": 24402,
         "Deviation": "nan",
         "Yeast Out Totalizer": "nan",
         "End Phase Time": "nan",
         "Vessel Procedure": "nan",
         "Predicted Transition": "nan",
         "Integrator Key": -1,
         "Phase Duration": "nan",
         "Yeast Strain": "NCYC1187",
         "Brand": "Grey Horse",
         "Status": "Cooling",
         "_deepnote_index_column": 3
        },
        {
         "Timestamp": "2017-02-01T02:00:00.000000",
         "Asset_Id": "FV31",
         "ADF": 0.7190456259857921,
         "Volume": 698.337,
         "Volume In": 698.3373,
         "Volume Out": 0,
         "Top TIC OUT": 100,
         "Top TIC PV": 51.517723,
         "Top TIC SP": 30,
         "Middle TIC OUT": 100,
         "Middle TIC PV": 51.791878,
         "Middle TIC SP": 30,
         "Bottom TIC OUT": 100,
         "Bottom TIC PV": 49.70326,
         "Bottom TIC SP": 30,
         "PIC PV": 10.651338,
         "PIC SP": 10,
         "Plato": 4.8,
         "PIC OUT": 0,
         "FV Full Plato": 17.084625,
         "Fermentation Start Time": "2017-01-26T07:30:03.2369995Z",
         "Yeast Generation": 0,
         "Diacetyl": 70,
         "VesselID": 24402,
         "Deviation": "nan",
         "Yeast Out Totalizer": "nan",
         "End Phase Time": "nan",
         "Vessel Procedure": "nan",
         "Predicted Transition": "nan",
         "Integrator Key": -1,
         "Phase Duration": "nan",
         "Yeast Strain": "NCYC1187",
         "Brand": "Grey Horse",
         "Status": "Cooling",
         "_deepnote_index_column": 4
        },
        {
         "Timestamp": "2017-02-01T02:30:00.000000",
         "Asset_Id": "FV31",
         "ADF": 0.7190456259857921,
         "Volume": 698.337,
         "Volume In": 698.3373,
         "Volume Out": 0,
         "Top TIC OUT": 100,
         "Top TIC PV": 51,
         "Top TIC SP": 30,
         "Middle TIC OUT": 100,
         "Middle TIC PV": 51,
         "Middle TIC SP": 30,
         "Bottom TIC OUT": 100,
         "Bottom TIC PV": 49.799824,
         "Bottom TIC SP": 30,
         "PIC PV": 10.646252,
         "PIC SP": 10,
         "Plato": 4.8,
         "PIC OUT": 0,
         "FV Full Plato": 17.084625,
         "Fermentation Start Time": "2017-01-26T07:30:03.2369995Z",
         "Yeast Generation": 0,
         "Diacetyl": 70,
         "VesselID": 24402,
         "Deviation": "nan",
         "Yeast Out Totalizer": "nan",
         "End Phase Time": "nan",
         "Vessel Procedure": "nan",
         "Predicted Transition": "nan",
         "Integrator Key": -1,
         "Phase Duration": "nan",
         "Yeast Strain": "NCYC1187",
         "Brand": "Grey Horse",
         "Status": "Cooling",
         "_deepnote_index_column": 5
        },
        {
         "Timestamp": "2017-02-01T03:00:00.000000",
         "Asset_Id": "FV31",
         "ADF": 0.7190456259857921,
         "Volume": 698.337,
         "Volume In": 698.3373,
         "Volume Out": 0,
         "Top TIC OUT": 100,
         "Top TIC PV": 50.571487,
         "Top TIC SP": 30,
         "Middle TIC OUT": 100,
         "Middle TIC PV": 50.77149,
         "Middle TIC SP": 30,
         "Bottom TIC OUT": 100,
         "Bottom TIC PV": 50.21919,
         "Bottom TIC SP": 30,
         "PIC PV": 10.641166,
         "PIC SP": 10,
         "Plato": 4.8,
         "PIC OUT": 0,
         "FV Full Plato": 17.084625,
         "Fermentation Start Time": "2017-01-26T07:30:03.2369995Z",
         "Yeast Generation": 0,
         "Diacetyl": 70,
         "VesselID": 24402,
         "Deviation": "nan",
         "Yeast Out Totalizer": "nan",
         "End Phase Time": "nan",
         "Vessel Procedure": "nan",
         "Predicted Transition": "nan",
         "Integrator Key": -1,
         "Phase Duration": "nan",
         "Yeast Strain": "NCYC1187",
         "Brand": "Grey Horse",
         "Status": "Cooling",
         "_deepnote_index_column": 6
        },
        {
         "Timestamp": "2017-02-01T03:30:00.000000",
         "Asset_Id": "FV31",
         "ADF": 0.7190456259857921,
         "Volume": 698.337,
         "Volume In": 698.3373,
         "Volume Out": 0,
         "Top TIC OUT": 100,
         "Top TIC PV": 50,
         "Top TIC SP": 30,
         "Middle TIC OUT": 100,
         "Middle TIC PV": 50.190834,
         "Middle TIC SP": 30,
         "Bottom TIC OUT": 100,
         "Bottom TIC PV": 48.993,
         "Bottom TIC SP": 30,
         "PIC PV": 10.636081,
         "PIC SP": 10,
         "Plato": 4.8,
         "PIC OUT": 0,
         "FV Full Plato": 17.084625,
         "Fermentation Start Time": "2017-01-26T07:30:03.2369995Z",
         "Yeast Generation": 0,
         "Diacetyl": 70,
         "VesselID": 24402,
         "Deviation": "nan",
         "Yeast Out Totalizer": "nan",
         "End Phase Time": "nan",
         "Vessel Procedure": "nan",
         "Predicted Transition": "nan",
         "Integrator Key": -1,
         "Phase Duration": "nan",
         "Yeast Strain": "NCYC1187",
         "Brand": "Grey Horse",
         "Status": "Cooling",
         "_deepnote_index_column": 7
        },
        {
         "Timestamp": "2017-02-01T04:00:00.000000",
         "Asset_Id": "FV31",
         "ADF": 0.7190456259857921,
         "Volume": 698.337,
         "Volume In": 698.3373,
         "Volume Out": 0,
         "Top TIC OUT": 100,
         "Top TIC PV": 49.69258,
         "Top TIC SP": 30,
         "Middle TIC OUT": 100,
         "Middle TIC PV": 49.792168,
         "Middle TIC SP": 30,
         "Bottom TIC OUT": 100,
         "Bottom TIC PV": 48.60585,
         "Bottom TIC SP": 30,
         "PIC PV": 10.630995,
         "PIC SP": 10,
         "Plato": 4.8,
         "PIC OUT": 0,
         "FV Full Plato": 17.084625,
         "Fermentation Start Time": "2017-01-26T07:30:03.2369995Z",
         "Yeast Generation": 0,
         "Diacetyl": 70,
         "VesselID": 24402,
         "Deviation": "nan",
         "Yeast Out Totalizer": "nan",
         "End Phase Time": "nan",
         "Vessel Procedure": "nan",
         "Predicted Transition": "nan",
         "Integrator Key": -1,
         "Phase Duration": "nan",
         "Yeast Strain": "NCYC1187",
         "Brand": "Grey Horse",
         "Status": "Cooling",
         "_deepnote_index_column": 8
        },
        {
         "Timestamp": "2017-02-01T04:30:00.000000",
         "Asset_Id": "FV31",
         "ADF": 0.7190456259857921,
         "Volume": 698.337,
         "Volume In": 698.3373,
         "Volume Out": 0,
         "Top TIC OUT": 100,
         "Top TIC PV": 49.174805,
         "Top TIC SP": 30,
         "Middle TIC OUT": 100,
         "Middle TIC PV": 49.307587,
         "Middle TIC SP": 30,
         "Bottom TIC OUT": 100,
         "Bottom TIC PV": 48.58092,
         "Bottom TIC SP": 30,
         "PIC PV": 10.62591,
         "PIC SP": 10,
         "Plato": 4.8,
         "PIC OUT": 0,
         "FV Full Plato": 17.084625,
         "Fermentation Start Time": "2017-01-26T07:30:03.2369995Z",
         "Yeast Generation": 0,
         "Diacetyl": 70,
         "VesselID": 24402,
         "Deviation": "nan",
         "Yeast Out Totalizer": "nan",
         "End Phase Time": "nan",
         "Vessel Procedure": "nan",
         "Predicted Transition": "nan",
         "Integrator Key": -1,
         "Phase Duration": "nan",
         "Yeast Strain": "NCYC1187",
         "Brand": "Grey Horse",
         "Status": "Cooling",
         "_deepnote_index_column": 9
        }
       ]
      },
      "text/plain": "               Timestamp Asset_Id       ADF     Volume  Volume In  Volume Out  \\\n0    2017-02-01 00:00:00     FV31  0.719046  698.33700  698.33730         0.0   \n1    2017-02-01 00:30:00     FV31  0.719046  698.33700  698.33730         0.0   \n2    2017-02-01 01:00:00     FV31  0.719046  698.33700  698.33730         0.0   \n3    2017-02-01 01:30:00     FV31  0.719046  698.33700  698.33730         0.0   \n4    2017-02-01 02:00:00     FV31  0.719046  698.33700  698.33730         0.0   \n...                  ...      ...       ...        ...        ...         ...   \n8065 2017-02-28 22:00:00     FV36  0.328751  743.10034  743.10034         0.0   \n8066 2017-02-28 22:30:00     FV36  0.328751  743.10034  743.10034         0.0   \n8067 2017-02-28 23:00:00     FV36  0.328751  743.10034  743.10034         0.0   \n8068 2017-02-28 23:30:00     FV36  0.328751  743.10034  743.10034         0.0   \n8069 2017-03-01 00:00:00     FV36  0.328751  743.10034  743.10034         0.0   \n\n      Top TIC OUT  Top TIC PV  Top TIC SP  Middle TIC OUT  ...  Deviation  \\\n0           100.0   53.674717        30.0      100.000000  ...        NaN   \n1           100.0   52.928270        30.0      100.000000  ...        NaN   \n2           100.0   52.507034        30.0      100.000000  ...        NaN   \n3           100.0   51.933790        30.0      100.000000  ...        NaN   \n4           100.0   51.517723        30.0      100.000000  ...        NaN   \n...           ...         ...         ...             ...  ...        ...   \n8065          0.0   64.711590        65.0       25.075735  ...        NaN   \n8066          0.0   64.600006        65.0       60.707240  ...        NaN   \n8067          0.0   64.600006        65.0       36.788890  ...        NaN   \n8068          0.0   64.412796        65.0       39.635340  ...        NaN   \n8069          0.0   64.600006        65.0       38.640602  ...        NaN   \n\n      Yeast Out Totalizer  End Phase Time  Vessel Procedure  \\\n0                     NaN             NaN               NaN   \n1                     NaN             NaN               NaN   \n2                     NaN             NaN               NaN   \n3                     NaN             NaN               NaN   \n4                     NaN             NaN               NaN   \n...                   ...             ...               ...   \n8065                  NaN             NaN               NaN   \n8066                  NaN             NaN               NaN   \n8067                  NaN             NaN               NaN   \n8068                  NaN             NaN               NaN   \n8069                  NaN             NaN               NaN   \n\n      Predicted Transition  Integrator Key  Phase Duration  Yeast Strain  \\\n0                      NaN            -1.0             NaN      NCYC1187   \n1                      NaN            -1.0             NaN      NCYC1187   \n2                      NaN            -1.0             NaN      NCYC1187   \n3                      NaN            -1.0             NaN      NCYC1187   \n4                      NaN            -1.0             NaN      NCYC1187   \n...                    ...             ...             ...           ...   \n8065                   NaN             8.4             NaN      NCYC1187   \n8066                   NaN             8.4             NaN      NCYC1187   \n8067                   NaN             8.4             NaN      NCYC1187   \n8068                   NaN             8.4             NaN      NCYC1187   \n8069                   NaN             8.4             NaN      NCYC1187   \n\n           Brand        Status  \n0     Grey Horse       Cooling  \n1     Grey Horse       Cooling  \n2     Grey Horse       Cooling  \n3     Grey Horse       Cooling  \n4     Grey Horse       Cooling  \n...          ...           ...  \n8065       Adele  Fermentation  \n8066       Adele  Fermentation  \n8067       Adele  Fermentation  \n8068       Adele  Fermentation  \n8069       Adele  Fermentation  \n\n[8070 rows x 34 columns]",
      "text/html": "<div>\n<style scoped>\n    .dataframe tbody tr th:only-of-type {\n        vertical-align: middle;\n    }\n\n    .dataframe tbody tr th {\n        vertical-align: top;\n    }\n\n    .dataframe thead th {\n        text-align: right;\n    }\n</style>\n<table border=\"1\" class=\"dataframe\">\n  <thead>\n    <tr style=\"text-align: right;\">\n      <th></th>\n      <th>Timestamp</th>\n      <th>Asset_Id</th>\n      <th>ADF</th>\n      <th>Volume</th>\n      <th>Volume In</th>\n      <th>Volume Out</th>\n      <th>Top TIC OUT</th>\n      <th>Top TIC PV</th>\n      <th>Top TIC SP</th>\n      <th>Middle TIC OUT</th>\n      <th>...</th>\n      <th>Deviation</th>\n      <th>Yeast Out Totalizer</th>\n      <th>End Phase Time</th>\n      <th>Vessel Procedure</th>\n      <th>Predicted Transition</th>\n      <th>Integrator Key</th>\n      <th>Phase Duration</th>\n      <th>Yeast Strain</th>\n      <th>Brand</th>\n      <th>Status</th>\n    </tr>\n  </thead>\n  <tbody>\n    <tr>\n      <th>0</th>\n      <td>2017-02-01 00:00:00</td>\n      <td>FV31</td>\n      <td>0.719046</td>\n      <td>698.33700</td>\n      <td>698.33730</td>\n      <td>0.0</td>\n      <td>100.0</td>\n      <td>53.674717</td>\n      <td>30.0</td>\n      <td>100.000000</td>\n      <td>...</td>\n      <td>NaN</td>\n      <td>NaN</td>\n      <td>NaN</td>\n      <td>NaN</td>\n      <td>NaN</td>\n      <td>-1.0</td>\n      <td>NaN</td>\n      <td>NCYC1187</td>\n      <td>Grey Horse</td>\n      <td>Cooling</td>\n    </tr>\n    <tr>\n      <th>1</th>\n      <td>2017-02-01 00:30:00</td>\n      <td>FV31</td>\n      <td>0.719046</td>\n      <td>698.33700</td>\n      <td>698.33730</td>\n      <td>0.0</td>\n      <td>100.0</td>\n      <td>52.928270</td>\n      <td>30.0</td>\n      <td>100.000000</td>\n      <td>...</td>\n      <td>NaN</td>\n      <td>NaN</td>\n      <td>NaN</td>\n      <td>NaN</td>\n      <td>NaN</td>\n      <td>-1.0</td>\n      <td>NaN</td>\n      <td>NCYC1187</td>\n      <td>Grey Horse</td>\n      <td>Cooling</td>\n    </tr>\n    <tr>\n      <th>2</th>\n      <td>2017-02-01 01:00:00</td>\n      <td>FV31</td>\n      <td>0.719046</td>\n      <td>698.33700</td>\n      <td>698.33730</td>\n      <td>0.0</td>\n      <td>100.0</td>\n      <td>52.507034</td>\n      <td>30.0</td>\n      <td>100.000000</td>\n      <td>...</td>\n      <td>NaN</td>\n      <td>NaN</td>\n      <td>NaN</td>\n      <td>NaN</td>\n      <td>NaN</td>\n      <td>-1.0</td>\n      <td>NaN</td>\n      <td>NCYC1187</td>\n      <td>Grey Horse</td>\n      <td>Cooling</td>\n    </tr>\n    <tr>\n      <th>3</th>\n      <td>2017-02-01 01:30:00</td>\n      <td>FV31</td>\n      <td>0.719046</td>\n      <td>698.33700</td>\n      <td>698.33730</td>\n      <td>0.0</td>\n      <td>100.0</td>\n      <td>51.933790</td>\n      <td>30.0</td>\n      <td>100.000000</td>\n      <td>...</td>\n      <td>NaN</td>\n      <td>NaN</td>\n      <td>NaN</td>\n      <td>NaN</td>\n      <td>NaN</td>\n      <td>-1.0</td>\n      <td>NaN</td>\n      <td>NCYC1187</td>\n      <td>Grey Horse</td>\n      <td>Cooling</td>\n    </tr>\n    <tr>\n      <th>4</th>\n      <td>2017-02-01 02:00:00</td>\n      <td>FV31</td>\n      <td>0.719046</td>\n      <td>698.33700</td>\n      <td>698.33730</td>\n      <td>0.0</td>\n      <td>100.0</td>\n      <td>51.517723</td>\n      <td>30.0</td>\n      <td>100.000000</td>\n      <td>...</td>\n      <td>NaN</td>\n      <td>NaN</td>\n      <td>NaN</td>\n      <td>NaN</td>\n      <td>NaN</td>\n      <td>-1.0</td>\n      <td>NaN</td>\n      <td>NCYC1187</td>\n      <td>Grey Horse</td>\n      <td>Cooling</td>\n    </tr>\n    <tr>\n      <th>...</th>\n      <td>...</td>\n      <td>...</td>\n      <td>...</td>\n      <td>...</td>\n      <td>...</td>\n      <td>...</td>\n      <td>...</td>\n      <td>...</td>\n      <td>...</td>\n      <td>...</td>\n      <td>...</td>\n      <td>...</td>\n      <td>...</td>\n      <td>...</td>\n      <td>...</td>\n      <td>...</td>\n      <td>...</td>\n      <td>...</td>\n      <td>...</td>\n      <td>...</td>\n      <td>...</td>\n    </tr>\n    <tr>\n      <th>8065</th>\n      <td>2017-02-28 22:00:00</td>\n      <td>FV36</td>\n      <td>0.328751</td>\n      <td>743.10034</td>\n      <td>743.10034</td>\n      <td>0.0</td>\n      <td>0.0</td>\n      <td>64.711590</td>\n      <td>65.0</td>\n      <td>25.075735</td>\n      <td>...</td>\n      <td>NaN</td>\n      <td>NaN</td>\n      <td>NaN</td>\n      <td>NaN</td>\n      <td>NaN</td>\n      <td>8.4</td>\n      <td>NaN</td>\n      <td>NCYC1187</td>\n      <td>Adele</td>\n      <td>Fermentation</td>\n    </tr>\n    <tr>\n      <th>8066</th>\n      <td>2017-02-28 22:30:00</td>\n      <td>FV36</td>\n      <td>0.328751</td>\n      <td>743.10034</td>\n      <td>743.10034</td>\n      <td>0.0</td>\n      <td>0.0</td>\n      <td>64.600006</td>\n      <td>65.0</td>\n      <td>60.707240</td>\n      <td>...</td>\n      <td>NaN</td>\n      <td>NaN</td>\n      <td>NaN</td>\n      <td>NaN</td>\n      <td>NaN</td>\n      <td>8.4</td>\n      <td>NaN</td>\n      <td>NCYC1187</td>\n      <td>Adele</td>\n      <td>Fermentation</td>\n    </tr>\n    <tr>\n      <th>8067</th>\n      <td>2017-02-28 23:00:00</td>\n      <td>FV36</td>\n      <td>0.328751</td>\n      <td>743.10034</td>\n      <td>743.10034</td>\n      <td>0.0</td>\n      <td>0.0</td>\n      <td>64.600006</td>\n      <td>65.0</td>\n      <td>36.788890</td>\n      <td>...</td>\n      <td>NaN</td>\n      <td>NaN</td>\n      <td>NaN</td>\n      <td>NaN</td>\n      <td>NaN</td>\n      <td>8.4</td>\n      <td>NaN</td>\n      <td>NCYC1187</td>\n      <td>Adele</td>\n      <td>Fermentation</td>\n    </tr>\n    <tr>\n      <th>8068</th>\n      <td>2017-02-28 23:30:00</td>\n      <td>FV36</td>\n      <td>0.328751</td>\n      <td>743.10034</td>\n      <td>743.10034</td>\n      <td>0.0</td>\n      <td>0.0</td>\n      <td>64.412796</td>\n      <td>65.0</td>\n      <td>39.635340</td>\n      <td>...</td>\n      <td>NaN</td>\n      <td>NaN</td>\n      <td>NaN</td>\n      <td>NaN</td>\n      <td>NaN</td>\n      <td>8.4</td>\n      <td>NaN</td>\n      <td>NCYC1187</td>\n      <td>Adele</td>\n      <td>Fermentation</td>\n    </tr>\n    <tr>\n      <th>8069</th>\n      <td>2017-03-01 00:00:00</td>\n      <td>FV36</td>\n      <td>0.328751</td>\n      <td>743.10034</td>\n      <td>743.10034</td>\n      <td>0.0</td>\n      <td>0.0</td>\n      <td>64.600006</td>\n      <td>65.0</td>\n      <td>38.640602</td>\n      <td>...</td>\n      <td>NaN</td>\n      <td>NaN</td>\n      <td>NaN</td>\n      <td>NaN</td>\n      <td>NaN</td>\n      <td>8.4</td>\n      <td>NaN</td>\n      <td>NCYC1187</td>\n      <td>Adele</td>\n      <td>Fermentation</td>\n    </tr>\n  </tbody>\n</table>\n<p>8070 rows × 34 columns</p>\n</div>"
     },
     "metadata": {}
    }
   ],
   "execution_count": null
  },
  {
   "cell_type": "code",
   "metadata": {
    "tags": [],
    "cell_id": "00034-366f2925-c3dc-4354-a3f0-1100580ca85a",
    "deepnote_to_be_reexecuted": false,
    "source_hash": "8dd0dc66",
    "execution_start": 1642204186728,
    "execution_millis": 1,
    "deepnote_cell_type": "code"
   },
   "source": "df_fv31_36.info()",
   "outputs": [
    {
     "name": "stdout",
     "text": "<class 'pandas.core.frame.DataFrame'>\nRangeIndex: 8070 entries, 0 to 8069\nData columns (total 34 columns):\n #   Column                   Non-Null Count  Dtype         \n---  ------                   --------------  -----         \n 0   Timestamp                8070 non-null   datetime64[ns]\n 1   Asset_Id                 8070 non-null   object        \n 2   ADF                      4051 non-null   float64       \n 3   Volume                   8070 non-null   float64       \n 4   Volume In                8070 non-null   float64       \n 5   Volume Out               8070 non-null   float64       \n 6   Top TIC OUT              8070 non-null   float64       \n 7   Top TIC PV               8070 non-null   float64       \n 8   Top TIC SP               8070 non-null   float64       \n 9   Middle TIC OUT           8070 non-null   float64       \n 10  Middle TIC PV            8070 non-null   float64       \n 11  Middle TIC SP            8070 non-null   float64       \n 12  Bottom TIC OUT           8070 non-null   float64       \n 13  Bottom TIC PV            8070 non-null   float64       \n 14  Bottom TIC SP            8070 non-null   float64       \n 15  PIC PV                   8070 non-null   float64       \n 16  PIC SP                   8070 non-null   float64       \n 17  Plato                    4051 non-null   float64       \n 18  PIC OUT                  8070 non-null   float64       \n 19  FV Full Plato            7350 non-null   float64       \n 20  Fermentation Start Time  7083 non-null   object        \n 21  Yeast Generation         8070 non-null   int64         \n 22  Diacetyl                 5652 non-null   float64       \n 23  VesselID                 8070 non-null   int64         \n 24  Deviation                0 non-null      float64       \n 25  Yeast Out Totalizer      0 non-null      float64       \n 26  End Phase Time           0 non-null      float64       \n 27  Vessel Procedure         0 non-null      float64       \n 28  Predicted Transition     0 non-null      float64       \n 29  Integrator Key           8070 non-null   float64       \n 30  Phase Duration           0 non-null      float64       \n 31  Yeast Strain             8070 non-null   object        \n 32  Brand                    8070 non-null   object        \n 33  Status                   8070 non-null   object        \ndtypes: datetime64[ns](1), float64(26), int64(2), object(5)\nmemory usage: 2.1+ MB\n",
     "output_type": "stream"
    }
   ],
   "execution_count": null
  },
  {
   "cell_type": "code",
   "metadata": {
    "cell_id": "00035-58163a8b-bcb2-4a64-ab54-6d24f80451d8",
    "deepnote_to_be_reexecuted": false,
    "source_hash": "b623e53d",
    "execution_start": 1642204186736,
    "execution_millis": 42814,
    "deepnote_cell_type": "code"
   },
   "source": "",
   "outputs": [],
   "execution_count": null
  },
  {
   "cell_type": "markdown",
   "source": "<a style='text-decoration:none;line-height:16px;display:flex;color:#5B5B62;padding:10px;justify-content:end;' href='https://deepnote.com?utm_source=created-in-deepnote-cell&projectId=27d58a9b-9aaa-47c5-b041-7e32d6d185a5' target=\"_blank\">\n<img alt='Created in deepnote.com' style='display:inline;max-height:16px;margin:0px;margin-right:7.5px;' src='data:image/svg+xml;base64,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' > </img>\nCreated in <span style='font-weight:600;margin-left:4px;'>Deepnote</span></a>",
   "metadata": {
    "tags": [],
    "created_in_deepnote_cell": true,
    "deepnote_cell_type": "markdown"
   }
  }
 ],
 "nbformat": 4,
 "nbformat_minor": 4,
 "metadata": {
  "kernelspec": {
   "display_name": "Python 3",
   "language": "python",
   "name": "python3"
  },
  "language_info": {
   "codemirror_mode": {
    "name": "ipython",
    "version": 3
   },
   "file_extension": ".py",
   "mimetype": "text/x-python",
   "name": "python",
   "nbconvert_exporter": "python",
   "pygments_lexer": "ipython3",
   "version": "3.7.6"
  },
  "toc": {
   "base_numbering": 1,
   "nav_menu": {},
   "number_sections": true,
   "sideBar": true,
   "skip_h1_title": false,
   "title_cell": "Table of Contents",
   "title_sidebar": "Contents",
   "toc_cell": false,
   "toc_position": {},
   "toc_section_display": true,
   "toc_window_display": false
  },
  "deepnote_notebook_id": "f67ecb82-2522-4c13-b7be-ff72948132dd",
  "deepnote": {},
  "deepnote_execution_queue": []
 }
}