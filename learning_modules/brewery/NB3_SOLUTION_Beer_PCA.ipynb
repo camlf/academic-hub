{
 "cells": [
  {
   "cell_type": "markdown",
   "source": "<h1>Table of Contents<span class=\"tocSkip\"></span></h1>\n<div class=\"toc\"><ul class=\"toc-item\"><li><span><a href=\"#Using-Principal-Component-Analysis-(PCA)-on-Deschutes-Fermentation-Data\" data-toc-modified-id=\"Using-Principal-Component-Analysis-(PCA)-on-Deschutes-Fermentation-Data-1\">Using Principal Component Analysis (PCA) on Deschutes Fermentation Data</a></span><ul class=\"toc-item\"><li><span><a href=\"#The-Goal\" data-toc-modified-id=\"The-Goal-1.1\">The Goal</a></span><ul class=\"toc-item\"><li><span><a href=\"#Issues-to-consider\" data-toc-modified-id=\"Issues-to-consider-1.1.1\">Issues to consider</a></span></li></ul></li><li><span><a href=\"#This-Notebook\" data-toc-modified-id=\"This-Notebook-1.2\">This Notebook</a></span><ul class=\"toc-item\"><li><span><a href=\"#Part-1:-Define-System-Parameters\" data-toc-modified-id=\"Part-1:-Define-System-Parameters-1.2.1\">Part 1: Define System Parameters</a></span></li><li><span><a href=\"#Part-2:-Load-&amp;-Clean-Data\" data-toc-modified-id=\"Part-2:-Load-&amp;-Clean-Data-1.2.2\">Part 2: Load &amp; Clean Data</a></span></li><li><span><a href=\"#Part-3:-Define-Utility-Functions\" data-toc-modified-id=\"Part-3:-Define-Utility-Functions-1.2.3\">Part 3: Define Utility Functions</a></span></li><li><span><a href=\"#Part-4:-Process-and-Summarize-Data\" data-toc-modified-id=\"Part-4:-Process-and-Summarize-Data-1.2.4\">Part 4: Process and Summarize Data</a></span></li><li><span><a href=\"#Part-5:-Apply-PCA-to-FeatureDF\" data-toc-modified-id=\"Part-5:-Apply-PCA-to-FeatureDF-1.2.5\">Part 5: Apply PCA to <code>FeatureDF</code></a></span></li><li><span><a href=\"#Part-6-(BONUS):-Apply-clustering-to-Principal-Components:\" data-toc-modified-id=\"Part-6-(BONUS):-Apply-clustering-to-Principal-Components:-1.2.6\">Part 6 (BONUS): Apply clustering to Principal Components:</a></span></li></ul></li><li><span><a href=\"#Your-Task\" data-toc-modified-id=\"Your-Task-1.3\">Your Task</a></span></li><li><span><a href=\"#Part-1.-Define-System-Parameters\" data-toc-modified-id=\"Part-1.-Define-System-Parameters-1.4\">Part 1. Define System Parameters</a></span><ul class=\"toc-item\"><li><span><a href=\"#1a.-Define-relevant-main-variables\" data-toc-modified-id=\"1a.-Define-relevant-main-variables-1.4.1\">1a. Define relevant main variables</a></span></li><li><span><a href=\"#1b.-Define-auxiliary-variables\" data-toc-modified-id=\"1b.-Define-auxiliary-variables-1.4.2\">1b. Define auxiliary variables</a></span></li><li><span><a href=\"#1c.-PCA-coordinates-selection\" data-toc-modified-id=\"1c.-PCA-coordinates-selection-1.4.3\">1c. PCA coordinates selection</a></span></li></ul></li><li><span><a href=\"#Part-2.-Load-&amp;-Clean-Data\" data-toc-modified-id=\"Part-2.-Load-&amp;-Clean-Data-1.5\">Part 2. Load &amp; Clean Data</a></span><ul class=\"toc-item\"><li><span><a href=\"#2a.-Initialize-Hub/OCS-client\" data-toc-modified-id=\"2a.-Initialize-Hub/OCS-client-1.5.1\">2a. Initialize Hub/OCS client</a></span></li><li><span><a href=\"#2b.-Download-data-from-OCS-with-Data-Views\" data-toc-modified-id=\"2b.-Download-data-from-OCS-with-Data-Views-1.5.2\">2b. Download data from OCS with Data Views</a></span></li><li><span><a href=\"#Find-predefined-multi-asset-Data-View-for-Fermenters-31-36-and-PCA\" data-toc-modified-id=\"Find-predefined-multi-asset-Data-View-for-Fermenters-31-36-and-PCA-1.5.3\">Find predefined multi-asset Data View for Fermenters 31-36 and PCA</a></span></li><li><span><a href=\"#Data-View-Structure\" data-toc-modified-id=\"Data-View-Structure-1.5.4\">Data View Structure</a></span></li><li><span><a href=\"#Get-Interpolated-Data-from-Data-Views\" data-toc-modified-id=\"Get-Interpolated-Data-from-Data-Views-1.5.5\">Get Interpolated Data from Data Views</a></span></li><li><span><a href=\"#2c.-Clean-all_brands_df\" data-toc-modified-id=\"2c.-Clean-all_brands_df-1.5.6\">2c. Clean <code>all_brands_df</code></a></span></li></ul></li><li><span><a href=\"#Part-3.-Define-Utility-Functions\" data-toc-modified-id=\"Part-3.-Define-Utility-Functions-1.6\">Part 3. Define Utility Functions</a></span></li><li><span><a href=\"#Part-4.-Process-and-Summarize-Data\" data-toc-modified-id=\"Part-4.-Process-and-Summarize-Data-1.7\">Part 4. Process and Summarize Data</a></span></li><li><span><a href=\"#Part-5.-Apply-PCA-to-FeatureDF\" data-toc-modified-id=\"Part-5.-Apply-PCA-to-FeatureDF-1.8\">Part 5. Apply PCA to <code>FeatureDF</code></a></span><ul class=\"toc-item\"><li><span><a href=\"#5a.-Define-and-scale-the-feature-space\" data-toc-modified-id=\"5a.-Define-and-scale-the-feature-space-1.8.1\">5a. Define and scale the feature space</a></span></li><li><span><a href=\"#5b.-Apply-PCA-to-the-feature-space\" data-toc-modified-id=\"5b.-Apply-PCA-to-the-feature-space-1.8.2\">5b. Apply PCA to the feature space</a></span></li><li><span><a href=\"#5c.-Find-number-of-principal-components-sufficent-to-explain-data\" data-toc-modified-id=\"5c.-Find-number-of-principal-components-sufficent-to-explain-data-1.8.3\">5c. Find number of principal components sufficent to explain data</a></span></li><li><span><a href=\"#5d.-Visualize-Deschutes-data-using-the-principal-components\" data-toc-modified-id=\"5d.-Visualize-Deschutes-data-using-the-principal-components-1.8.4\">5d. Visualize Deschutes data using the principal components</a></span></li><li><span><a href=\"#5e.-What's-in-an-outlier?\" data-toc-modified-id=\"5e.-What's-in-an-outlier?-1.8.5\">5e. What's in an outlier?</a></span></li></ul></li><li><span><a href=\"#Part-6.-Apply-clustering-to-Principal-Components-(BONUS)\" data-toc-modified-id=\"Part-6.-Apply-clustering-to-Principal-Components-(BONUS)-1.9\">Part 6. Apply clustering to Principal Components (BONUS)</a></span><ul class=\"toc-item\"><li><span><a href=\"#6a.-Apply-k-means-clustering-on-the-principal-components\" data-toc-modified-id=\"6a.-Apply-k-means-clustering-on-the-principal-components-1.9.1\">6a. Apply k-means clustering on the principal components</a></span></li><li><span><a href=\"#6b.-Plot-principal-components-and-color-by-kmeans-cluster\" data-toc-modified-id=\"6b.-Plot-principal-components-and-color-by-kmeans-cluster-1.9.2\">6b. Plot principal components and color by kmeans cluster</a></span></li></ul></li></ul></li></ul></div>",
   "metadata": {
    "papermill": {
     "duration": 0.046226,
     "end_time": "2020-08-14T19:31:12.889193",
     "exception": false,
     "start_time": "2020-08-14T19:31:12.842967",
     "status": "completed"
    },
    "tags": [],
    "toc": true,
    "cell_id": "00000-ccdeaf65-9b95-4d9f-b84e-a1bdd65167a9",
    "deepnote_cell_type": "markdown"
   }
  },
  {
   "cell_type": "markdown",
   "source": "---\n---\n**Professor/TA Section Only**\n\nThe present notebook is a SOLUTION notebook with identified code blocks students should fill in. All student code blocks have the following format:\n\n    # we are only interested in events in status=\"Fermentation\"\n    # TODO: complete the filter expression to keep only data corresponding to the fermentation stages\n    # =========== STUDENT BEGIN ==========\n    # all_brands_df = all_brands_df[@@@ Your code here @@@]\n    # =========== STUDENT END ==========\n    all_brands_df = all_brands_df[all_brands_df[\"Status\"] == \"Fermentation\"]\n    # =========== STUDENT SOLUTION ===========\n      \n* A sequence of STUDENT BEGIN / STUDENT END / STUDENT SOLUTION keyword lines\n* All lines between BEGIN / END are commented out with missing pieces clearly identified\n* The SOLUTION part should not be commented out\n\nIf you follow the rules above, executing the cell below produces a fresh exercise notebook using `generate_exercise_notebook` where the exercise notebook has the following changes:\n\n* This cell and the next one are removed\n* The notebook filename is the same as this one except \"SOLUTION\" => \"EXERCISE\"\n* Solution lines are stripped out and lines of code between BEGIN / END have the comment character # removed\n\nThe EXERCISE notebook is executable up to the point of the first student code block where a syntax error will be reported. ",
   "metadata": {
    "papermill": {
     "duration": 0.027902,
     "end_time": "2020-08-14T19:31:12.949630",
     "exception": false,
     "start_time": "2020-08-14T19:31:12.921728",
     "status": "completed"
    },
    "tags": [],
    "toc-hr-collapsed": false,
    "cell_id": "00001-a55920f4-5eff-4d80-a632-9236a2952d6a",
    "deepnote_cell_type": "markdown"
   }
  },
  {
   "cell_type": "code",
   "metadata": {
    "execution": {
     "iopub.execute_input": "2020-08-14T19:31:13.003344Z",
     "iopub.status.busy": "2020-08-14T19:31:13.002420Z",
     "iopub.status.idle": "2020-08-14T19:31:20.123131Z",
     "shell.execute_reply": "2020-08-14T19:31:20.123945Z"
    },
    "papermill": {
     "duration": 7.149791,
     "end_time": "2020-08-14T19:31:20.124149",
     "exception": false,
     "start_time": "2020-08-14T19:31:12.974358",
     "status": "completed"
    },
    "tags": [],
    "toc-hr-collapsed": false,
    "cell_id": "00002-e3ff8f0c-17f3-4b3d-add9-aa70da910673",
    "deepnote_to_be_reexecuted": false,
    "source_hash": "94381ef4",
    "execution_start": 1638837612779,
    "execution_millis": 841,
    "output_cleared": false,
    "deepnote_cell_type": "code"
   },
   "source": "#!pip uninstall -y ocs-academic-hub ocs-sample-library-preview\n\nimport os\ntry:\n    import ocs_academic_hub\nexcept ModuleNotFoundError:\n    !pip install ocs-academic-hub==0.99.13\n    import ocs_academic_hub\n\nfrom ocs_academic_hub.learning import generate_exercise_notebook\n\ngenerate_exercise_notebook(os.environ.get(\"NB_SOURCE\", \"NB3_SOLUTION_Beer_PCA.ipynb\"))",
   "execution_count": null,
   "outputs": [
    {
     "name": "stdout",
     "text": "\n==== HUB EXERCISE NOTEBOOK GENERATION BEGIN =====\nSource NB: NB3_SOLUTION_Beer_PCA.ipynb\n>> No exercise filename specified, replace \"SOLUTION\" with \"EXERCISE\" in NB3_SOLUTION_Beer_PCA.ipynb: NB3_EXERCISE_Beer_PCA.ipynb\nStudent code block(s) in cell 26\n[block processed ok]\nStudent code block(s) in cell 32\n[block processed ok]\nStudent code block(s) in cell 33\n[block processed ok][block processed ok][block processed ok]\nStudent code block(s) in cell 34\n[block processed ok]\nStudent code block(s) in cell 50\n[block processed ok]\nStudent code block(s) in cell 61\n[block processed ok][block processed ok][block processed ok]\nProfessor cells removed: [1, 2]\nExercise NB: NB3_EXERCISE_Beer_PCA.ipynb\n==== HUB EXERCISE NOTEBOOK GENERATION END =====\n",
     "output_type": "stream"
    }
   ]
  },
  {
   "cell_type": "markdown",
   "source": "---\n# Using Principal Component Analysis (PCA) on Deschutes Fermentation Data\n---\nIt is often useful to be able to quickly determine whether and which of the production batches are out-of-spec. The ability to determine the origin or the cause of a process failure or a bad batch is valuable to industry.\n\nIn this notebook, we will use Principal Component Analysis (PCA) to determine which batches are out-of-spec without having to analyze the time series data for every attribute of erach beer batch, of which there are dozens. We will then use the properties of PCA to identify what may have caused a batch to be out-of-spec.\n\nFirst, make sure the latest version library for OCS is installed.",
   "metadata": {
    "papermill": {
     "duration": 0.029669,
     "end_time": "2020-08-14T19:31:20.188787",
     "exception": false,
     "start_time": "2020-08-14T19:31:20.159118",
     "status": "completed"
    },
    "tags": [],
    "cell_id": "00003-1a6ccd60-716e-4db3-97c8-25dadd9eca15",
    "deepnote_cell_type": "markdown"
   }
  },
  {
   "cell_type": "code",
   "metadata": {
    "execution": {
     "iopub.execute_input": "2020-08-14T19:31:20.257320Z",
     "iopub.status.busy": "2020-08-14T19:31:20.256569Z",
     "iopub.status.idle": "2020-08-14T19:31:23.443162Z",
     "shell.execute_reply": "2020-08-14T19:31:23.442351Z"
    },
    "papermill": {
     "duration": 3.222484,
     "end_time": "2020-08-14T19:31:23.443417",
     "exception": false,
     "start_time": "2020-08-14T19:31:20.220933",
     "status": "completed"
    },
    "tags": [],
    "cell_id": "00004-7576354b-f4d1-4c86-b83d-e6ef2d5a41da",
    "deepnote_to_be_reexecuted": false,
    "source_hash": "48348002",
    "execution_start": 1638837613645,
    "execution_millis": 4184,
    "output_cleared": false,
    "deepnote_cell_type": "code"
   },
   "source": "try:\n    import ocs_academic_hub\nexcept ModuleNotFoundError:\n    !pip install ocs-academic-hub==0.99.13\n    import ocs_academic_hub\n\n!pip install plotly_express==0.4.1 sklearn",
   "execution_count": null,
   "outputs": [
    {
     "name": "stdout",
     "text": "Requirement already satisfied: plotly_express==0.4.1 in /root/venv/lib/python3.7/site-packages (0.4.1)\nRequirement already satisfied: sklearn in /root/venv/lib/python3.7/site-packages (0.0)\nRequirement already satisfied: statsmodels>=0.9.0 in /root/venv/lib/python3.7/site-packages (from plotly_express==0.4.1) (0.13.1)\nRequirement already satisfied: plotly>=4.1.0 in /shared-libs/python3.7/py/lib/python3.7/site-packages (from plotly_express==0.4.1) (5.3.1)\nRequirement already satisfied: patsy>=0.5 in /root/venv/lib/python3.7/site-packages (from plotly_express==0.4.1) (0.5.2)\nRequirement already satisfied: scipy>=0.18 in /shared-libs/python3.7/py/lib/python3.7/site-packages (from plotly_express==0.4.1) (1.7.2)\nRequirement already satisfied: numpy>=1.11 in /shared-libs/python3.7/py/lib/python3.7/site-packages (from plotly_express==0.4.1) (1.19.5)\nRequirement already satisfied: pandas>=0.20.0 in /shared-libs/python3.7/py/lib/python3.7/site-packages (from plotly_express==0.4.1) (1.2.5)\nRequirement already satisfied: scikit-learn in /shared-libs/python3.7/py/lib/python3.7/site-packages (from sklearn) (1.0.1)\nRequirement already satisfied: python-dateutil>=2.7.3 in /shared-libs/python3.7/py-core/lib/python3.7/site-packages (from pandas>=0.20.0->plotly_express==0.4.1) (2.8.2)\nRequirement already satisfied: pytz>=2017.3 in /shared-libs/python3.7/py/lib/python3.7/site-packages (from pandas>=0.20.0->plotly_express==0.4.1) (2021.3)\nRequirement already satisfied: six in /shared-libs/python3.7/py-core/lib/python3.7/site-packages (from patsy>=0.5->plotly_express==0.4.1) (1.16.0)\nRequirement already satisfied: tenacity>=6.2.0 in /shared-libs/python3.7/py/lib/python3.7/site-packages (from plotly>=4.1.0->plotly_express==0.4.1) (8.0.1)\nRequirement already satisfied: threadpoolctl>=2.0.0 in /shared-libs/python3.7/py/lib/python3.7/site-packages (from scikit-learn->sklearn) (3.0.0)\nRequirement already satisfied: joblib>=0.11 in /shared-libs/python3.7/py/lib/python3.7/site-packages (from scikit-learn->sklearn) (1.1.0)\n",
     "output_type": "stream"
    }
   ]
  },
  {
   "cell_type": "markdown",
   "source": "Then import all the required packages",
   "metadata": {
    "papermill": {
     "duration": 0.065025,
     "end_time": "2020-08-14T19:31:23.560791",
     "exception": false,
     "start_time": "2020-08-14T19:31:23.495766",
     "status": "completed"
    },
    "tags": [],
    "cell_id": "00005-4998af82-3302-44f8-a17b-b828de8e37a3",
    "deepnote_cell_type": "markdown"
   }
  },
  {
   "cell_type": "code",
   "metadata": {
    "execution": {
     "iopub.execute_input": "2020-08-14T19:31:23.688693Z",
     "iopub.status.busy": "2020-08-14T19:31:23.687573Z",
     "iopub.status.idle": "2020-08-14T19:31:24.137545Z",
     "shell.execute_reply": "2020-08-14T19:31:24.138096Z"
    },
    "papermill": {
     "duration": 0.51988,
     "end_time": "2020-08-14T19:31:24.138291",
     "exception": false,
     "start_time": "2020-08-14T19:31:23.618411",
     "status": "completed"
    },
    "tags": [],
    "cell_id": "00006-5d50bdae-3beb-4587-b2c8-e63535c46b1d",
    "deepnote_to_be_reexecuted": false,
    "source_hash": "5ea939c5",
    "execution_start": 1638837617839,
    "execution_millis": 999,
    "output_cleared": false,
    "deepnote_cell_type": "code"
   },
   "source": "# Academic Hub module \nfrom ocs_academic_hub import HubClient\n\n# For OCS configuration and data manipulation\nimport configparser\nfrom dateutil import parser\nimport datetime as dt\n\n# analysis packages\nimport pandas as pd\nimport numpy as np\n\n# packages for PCA. sklearn is standard Python library for machine learning\nfrom sklearn.preprocessing import StandardScaler\nfrom sklearn.decomposition import PCA\nfrom sklearn.cluster import KMeans\n\n# packages for plotting\nfrom plotly.subplots import make_subplots\nimport plotly.graph_objs as go\nprint(\"--- import completed ---\")",
   "execution_count": null,
   "outputs": [
    {
     "name": "stdout",
     "text": "--- import completed ---\n",
     "output_type": "stream"
    }
   ]
  },
  {
   "cell_type": "markdown",
   "source": "---\n## The Goal\nUse Principal Component Analysis (PCA) to identify the bad beer batches in 300 days worth of process data involving 4 beer brands (Realtime Hops, Trois Lacs, Grey Horse and LIT), brewed across 6 fermentor vessels (31-36). \n\nAlso, use the properties of Principal Components (PCs or \"scores\") to identify what features are most responsible for contributing to the out-of-spec qualities of outlier beer batches.\n\n### Issues to consider\n* Real process data is dirty (sensors can fail)\n* The stages may have been mislabeled (e.g. entries in \"Cooling\" phase may have been mislabled as being in \"Diacetyl Rest\")\n* Different cooling temperatures for each beer batch, and even for each zone in a fermentor vessel for a given beer batch\n* There can be various volumes of beer in the fermentors\n* Data can have abrupt, aphysical jumps in temperature\n\n",
   "metadata": {
    "papermill": {
     "duration": 0.033845,
     "end_time": "2020-08-14T19:31:24.209939",
     "exception": false,
     "start_time": "2020-08-14T19:31:24.176094",
     "status": "completed"
    },
    "tags": [],
    "cell_id": "00007-0898e64c-a613-412d-869c-b66ba251c7c5",
    "deepnote_cell_type": "markdown"
   }
  },
  {
   "cell_type": "markdown",
   "source": "---\n## This Notebook\n\n### Part 1: Define System Parameters\nSpecify parameters of interest like brands, fermentors, time period to analyze, time granularity, attributes.\n\n### Part 2: Load & Clean Data\nuse OSIsoft Cloud Services (OCS) to obtain process data from Deschutes Brewery.\n\n### Part 3: Define Utility Functions\nCreate utility functions for calculating the time elapsed per batch, identifying fermentation stages without relying on the \"Status\" labels, removing the bad batches, and summarizing the data.\n\n### Part 4: Process and Summarize Data\nExecute the functions created in Part 3 for each brand in each fermentor vessel. Collect the summary of the data into the dataframe `FeatureDF`.\n\n### Part 5: Apply PCA to `FeatureDF`\n`FeatureDF` is a high-dimensional dataset that is not easily human-processable. Use Principal Components Analysis (PCA) to obtain new components composed of linear combinations of the most \"relevant\" input features in `FeatureDF`( [5a](#section_5a)-[5c](#section_5c)); use those components to graphically visualize `FeatureDF` and identify the bad batches [5d](#section_5d); then identify the input features which contributed to the out-of-spec characteristics of the outlier batches ([5e](#section_5e)).\n\n### Part 6 (BONUS): Apply clustering to Principal Components:\nUse the k-means clustering algorithm to classify data.",
   "metadata": {
    "papermill": {
     "duration": 0.028773,
     "end_time": "2020-08-14T19:31:24.272461",
     "exception": false,
     "start_time": "2020-08-14T19:31:24.243688",
     "status": "completed"
    },
    "tags": [],
    "cell_id": "00008-743f82b6-5384-4804-9000-c92ab4e3a7d6",
    "deepnote_cell_type": "markdown"
   }
  },
  {
   "cell_type": "markdown",
   "source": "---\n## Your Task\nSome cells have missing pieces of code and are marked with `TODO` items in comments. Complete all the missing code to obtain a working notebook. \n\nIf the notebook runs as inteded, using the default seetings in [Part 1a](#section_1a), one should obtain this plot in [Part 5e](#section_5e):\n\n![](https://academichub.blob.core.windows.net/images/nb3_pca_scatterplot_new_v6.png)\n\n(NOTE: `TODO` items can be found in [Part 3](#section_3) only, but this exercise will be easier if you go through it in sequential order).",
   "metadata": {
    "papermill": {
     "duration": 0.044334,
     "end_time": "2020-08-14T19:31:24.360563",
     "exception": false,
     "start_time": "2020-08-14T19:31:24.316229",
     "status": "completed"
    },
    "tags": [],
    "cell_id": "00009-9208683f-a49a-4111-b0b3-8151ff4caef7",
    "deepnote_cell_type": "markdown"
   }
  },
  {
   "cell_type": "markdown",
   "source": "---\n## Part 1. Define System Parameters\n---\n<a id=’section_1’></a>",
   "metadata": {
    "papermill": {
     "duration": 0.027371,
     "end_time": "2020-08-14T19:31:24.418979",
     "exception": false,
     "start_time": "2020-08-14T19:31:24.391608",
     "status": "completed"
    },
    "tags": [],
    "cell_id": "00010-270ba93f-859a-402e-89a5-032e362fd7ea",
    "deepnote_cell_type": "markdown"
   }
  },
  {
   "cell_type": "markdown",
   "source": "### 1a. Define relevant main variables\n<a id=’section_1a’></a>\n\nWe want 3 years of brewing data from 6 fermentor vessels (31-36), beginning on January 11, 2017.",
   "metadata": {
    "papermill": {
     "duration": 0.03041,
     "end_time": "2020-08-14T19:31:24.476994",
     "exception": false,
     "start_time": "2020-08-14T19:31:24.446584",
     "status": "completed"
    },
    "tags": [],
    "cell_id": "00011-40f99f68-e881-4f70-b2e9-37dee1faf3b8",
    "deepnote_cell_type": "markdown"
   }
  },
  {
   "cell_type": "code",
   "metadata": {
    "execution": {
     "iopub.execute_input": "2020-08-14T19:31:24.549717Z",
     "iopub.status.busy": "2020-08-14T19:31:24.548854Z",
     "iopub.status.idle": "2020-08-14T19:31:24.551164Z",
     "shell.execute_reply": "2020-08-14T19:31:24.551712Z"
    },
    "papermill": {
     "duration": 0.044403,
     "end_time": "2020-08-14T19:31:24.551877",
     "exception": false,
     "start_time": "2020-08-14T19:31:24.507474",
     "status": "completed"
    },
    "tags": [],
    "cell_id": "00012-55359d81-8ce2-4d6e-92b3-c17b3d85b1d5",
    "deepnote_to_be_reexecuted": false,
    "source_hash": "eab244dc",
    "execution_start": 1638837618808,
    "execution_millis": 30,
    "output_cleared": false,
    "deepnote_cell_type": "code"
   },
   "source": "# fermenters to analyze as a list of integers\nFERMENTORS_OF_INTEREST = [str(i) for i in range(31, 37)]\n\n# brands of interest (brand `None` indicates that no beer in actually processing)\nBRANDS_OF_INTEREST = [\"Realtime Hops\", \"Trois Lacs\", \"Grey Horse\", \"LIT\"]\n\n\n# relevant days over which to analyze fermentors - 3 years\nTRAINING_DAYS = 3 * 365\n\n# time period in which to analyze fermentation data\nSTART_INDEX = \"2017-01-11T00:00\"\nEND_INDEX = (parser.parse(START_INDEX) + dt.timedelta(days=TRAINING_DAYS)).isoformat()\n\n# define time grandularity for data. in this case, get events at 15 minute intervals\nINDEX_INTERVAL = \"00:15:00\"\nprint(\"--- main variables defined ---\")",
   "execution_count": null,
   "outputs": [
    {
     "name": "stdout",
     "text": "--- main variables defined ---\n",
     "output_type": "stream"
    }
   ]
  },
  {
   "cell_type": "markdown",
   "source": "### 1b. Define auxiliary variables\n<a id=’section_1b’></a>\nMake code more readable by avoiding to type long strings repeatedly.",
   "metadata": {
    "papermill": {
     "duration": 0.029986,
     "end_time": "2020-08-14T19:31:24.610079",
     "exception": false,
     "start_time": "2020-08-14T19:31:24.580093",
     "status": "completed"
    },
    "tags": [],
    "cell_id": "00013-f83b9dcb-288c-4faa-86ee-1e3fdef7acbd",
    "deepnote_cell_type": "markdown"
   }
  },
  {
   "cell_type": "code",
   "metadata": {
    "execution": {
     "iopub.execute_input": "2020-08-14T19:31:24.683883Z",
     "iopub.status.busy": "2020-08-14T19:31:24.682174Z",
     "iopub.status.idle": "2020-08-14T19:31:24.689351Z",
     "shell.execute_reply": "2020-08-14T19:31:24.690046Z"
    },
    "papermill": {
     "duration": 0.050421,
     "end_time": "2020-08-14T19:31:24.690343",
     "exception": false,
     "start_time": "2020-08-14T19:31:24.639922",
     "status": "completed"
    },
    "tags": [],
    "cell_id": "00014-3ee0f8a7-c358-4600-bf16-fec77d3f834c",
    "deepnote_to_be_reexecuted": false,
    "source_hash": "cb000755",
    "execution_start": 1638837618818,
    "execution_millis": 25,
    "output_cleared": false,
    "deepnote_cell_type": "code"
   },
   "source": "# TIC PV column names (temperatures)\nTIC_PV_COLUMNS = [\"Bottom TIC PV\", \"Middle TIC PV\", \"Top TIC PV\"]\n\n# TIC OUT column names (cooling intensities)\nTIC_OUT_COLUMNS = [\"Bottom TIC OUT\", \"Middle TIC OUT\", \"Top TIC OUT\"]\n\n# list of relevant attributes. these attributes should not have any bad inputs\nATTRIBUTES_OF_INTEREST = (\n    [\"Brand\", \"Status\", \"Volume\", \"ADF\"] + TIC_PV_COLUMNS + TIC_OUT_COLUMNS\n)\n\n\n# define stages involved in overall fermentation process\nALL_BREWING_STAGES = [\n    \"Filling\",\n    \"Fermentation\",\n    \"Free Rise\",\n    \"Diacetyl Rest\",\n    \"Cooling\",\n    \"Maturation\",\n    \"Ready to Transfer\",\n    \"Emptying\",\n    \"Clean\",\n    \"CIP\",\n]\n\n# define stages which can actually affect beer quality\nIMPORTANT_BREWING_STAGES = ALL_BREWING_STAGES[\n    1:6\n]  # Fermentation->Free Rise->Diacetyl Rest->Cooling\n\n\n# Stages to consider as part of the fermentation stage\nFERMENTATION_STAGES = [\"Fermentation\"]  #  \"Free Rise\", \"Diacetyl Rest\"]\n\n# assign an integer value for each brand\nbrand_dictionary = {brand: (i + 1) for i, brand in enumerate(BRANDS_OF_INTEREST)}\nprint(\"--- auxiliary variables defined ---\")",
   "execution_count": null,
   "outputs": [
    {
     "name": "stdout",
     "text": "--- auxiliary variables defined ---\n",
     "output_type": "stream"
    }
   ]
  },
  {
   "cell_type": "markdown",
   "source": "### 1c. PCA coordinates selection",
   "metadata": {
    "execution": {
     "iopub.execute_input": "2020-08-14T19:31:24.683883Z",
     "iopub.status.busy": "2020-08-14T19:31:24.682174Z",
     "iopub.status.idle": "2020-08-14T19:31:24.689351Z",
     "shell.execute_reply": "2020-08-14T19:31:24.690046Z"
    },
    "papermill": {
     "duration": 0.050421,
     "end_time": "2020-08-14T19:31:24.690343",
     "exception": false,
     "start_time": "2020-08-14T19:31:24.639922",
     "status": "completed"
    },
    "tags": [],
    "cell_id": "00015-eea0b677-2d1f-4dd5-83b8-53beea6b7f82",
    "deepnote_cell_type": "markdown"
   }
  },
  {
   "cell_type": "code",
   "metadata": {
    "execution": {
     "iopub.execute_input": "2020-08-14T19:31:24.683883Z",
     "iopub.status.busy": "2020-08-14T19:31:24.682174Z",
     "iopub.status.idle": "2020-08-14T19:31:24.689351Z",
     "shell.execute_reply": "2020-08-14T19:31:24.690046Z"
    },
    "papermill": {
     "duration": 0.050421,
     "end_time": "2020-08-14T19:31:24.690343",
     "exception": false,
     "start_time": "2020-08-14T19:31:24.639922",
     "status": "completed"
    },
    "tags": [],
    "cell_id": "00016-f29d99c1-e952-4ff4-bcea-745e1b44e6c3",
    "deepnote_to_be_reexecuted": false,
    "source_hash": "bc99ac76",
    "execution_start": 1638837618828,
    "execution_millis": 61,
    "output_cleared": false,
    "deepnote_cell_type": "code"
   },
   "source": "# ============================================================\n# PCA COORDINATES SELECTION\n\n# For temperature sensors with multiple positions, the list\n# position_active selects which ones are selected for PCA.\n#\n# NOTE: at least one position should be True otherwise no sensor\n# will be used in PCA even if a 1 is present for the first item in\n# PCList below\n#\n#                  TOP,   MIDDLE, BOTTOM\nposition_active = [False, False, True]\n\n# List of the names of coordinates to be used for PCA.\n# The first item of each indicates if the coordinates is used for PCA (1 for active).\n# For sensors with position, see position_active above.\n#\nPClist = [\n    (1, [\"Brand\"]),  # brand identifier - FIRST COLUMN SHOULD ALWAYS BE 1\n    (1, [\"Batch\"]),  # batch identifier - FIRST COLUMN SHOULD ALWAYS BE 1\n    (1, [\"FERM_ADF\"]),  # variance of ADF during primary fermentation\n    (0, [\"COOL_ADF\"]),  # average adf after primary fermentation\n    (0, [\"Volume\"]),  # average volume after primary fermentation\n    (1, [\"FERM_Duration\"]),  # total time PRIMARY FERMENTATION lasted\n    # average value for cooling intensity during PRIMARY FERMENTATION at different zones\n    (1, [\"FERM_avg_coolint_top\", \"FERM_avg_coolint_middle\", \"FERM_avg_coolint_bottom\"]),\n    # average value for temperature during PRIMARY FERMENTATION at different zones\n    (1, [\"FERM_avg_temp_top\", \"FERM_avg_temp_middle\", \"FERM_avg_temp_bottom\"]),\n    # maximum value for temperature during PRIMARY FERMENTATION at different zones\n    (1, [\"FERM_max_temp_top\", \"FERM_max_temp_middle\", \"FERM_max_temp_bottom\"]),\n    # minimum value for temperature during PRIMARY FERMENTATION at different zones\n    (1, [\"FERM_min_temp_top\", \"FERM_min_temp_middle\", \"FERM_min_temp_bottom\"]),\n    # variance of the temperature during PRIMARY FERMENTATION at different zones\n    (1, [\"FERM_var_temp_top\", \"FERM_var_temp_middle\", \"FERM_var_temp_bottom\"]),\n    # average of the variance between zones per event during PRIMARY FERMENTATION\n    (1, [\"FERM_var_between_zones\"]),\n    (0, [\"COOL_Duration\"]),  # total time COOLING lasted\n    # average value for cooling intensity during COOLING at different zones\n    (0, [\"COOL_avg_coolint_top\", \"COOL_avg_coolint_middle\", \"COOL_avg_coolint_bottom\"]),\n    # average value for temperature during COOLING at different zones\n    (0, [\"COOL_avg_temp_top\", \"COOL_avg_temp_middle\", \"COOL_avg_temp_bottom\"]),\n    # maximum value for temperature during COOLING at different zones\n    (0, [\"COOL_max_temp_top\", \"COOL_max_temp_middle\", \"COOL_max_temp_bottom\"]),\n    # minimum value for temperature during COOLING at different zones\n    (0, [\"COOL_min_temp_top\", \"COOL_min_temp_middle\", \"COOL_min_temp_bottom\"]),\n    # initial value for temperature during COOLING at different zones\n    (0, [\"COOL_init_temp_top\", \"COOL_init_temp_middle\", \"COOL_init_temp_bottom\"]),\n    # variance of the temperature during PRIMARY FERMENTATION at different zones\n    (0, [\"COOL_var_temp_top\", \"COOL_var_temp_middle\", \"COOL_var_temp_bottom\"]),\n    # average of the variance between zones per event during COOLING\n    (0, [\"COOL_var_between_zones\"]),\n]\n\n\n# ==================== END PCA COORDINATES SELECTION ================\nprint(\"--- PCA coordinates selection done ---\")",
   "execution_count": null,
   "outputs": [
    {
     "name": "stdout",
     "text": "--- PCA coordinates selection done ---\n",
     "output_type": "stream"
    }
   ]
  },
  {
   "cell_type": "markdown",
   "source": "---\n## Part 2. Load & Clean Data\n---\n<a id=’section_2’></a>\nThe Deschutes Brewery data needs to be retrieved from OSIsoft Cloud Services (OCS). \n\nWe need to retrieve data for the `FERMENTORS_OF_INTEREST` from time period `START_INDEX` to `END_INDEX` at a resolution of `INDEX_INTERVAL` between each event. \n\nThe data retrieved from OCS is loaded into a dataframe, which is then filtered to ensure it will not contain a missing value for any value in the `ATTRIBUTES_OF_INTEREST` before it is processed.",
   "metadata": {
    "papermill": {
     "duration": 0.06186,
     "end_time": "2020-08-14T19:31:24.815436",
     "exception": false,
     "start_time": "2020-08-14T19:31:24.753576",
     "status": "completed"
    },
    "tags": [],
    "cell_id": "00017-64f2b275-49f3-44c7-bcf2-c3fc813296bb",
    "deepnote_cell_type": "markdown"
   }
  },
  {
   "cell_type": "markdown",
   "source": "### 2a. Initialize Hub/OCS client\n<a id=’section_2a’></a>\n\n---\n**Executing the next starts the authentication process for your Google account, acting as the Identity Provider for OCS. At the end of a successful login or if you're already logged in with Google, you'll see the following message on a new browser tab:**\n\n**You can now return to the application.**\n\nSimply close this tab and return to your notebook tab. \n\n---\n\nAfter a successful login, communication with OCS is done through a HubClient object. Variable `namespace_id` is initialized with the OCS namespace hosting the Deschutes dataset. ",
   "metadata": {
    "papermill": {
     "duration": 0.027527,
     "end_time": "2020-08-14T19:31:24.880304",
     "exception": false,
     "start_time": "2020-08-14T19:31:24.852777",
     "status": "completed"
    },
    "tags": [],
    "cell_id": "00018-da21ee99-548a-44bd-848f-7575307a1e94",
    "deepnote_cell_type": "markdown"
   }
  },
  {
   "cell_type": "code",
   "metadata": {
    "execution": {
     "iopub.execute_input": "2020-08-14T19:31:25.006068Z",
     "iopub.status.busy": "2020-08-14T19:31:25.005118Z",
     "iopub.status.idle": "2020-08-14T19:31:25.114701Z",
     "shell.execute_reply": "2020-08-14T19:31:25.115924Z"
    },
    "papermill": {
     "duration": 0.185083,
     "end_time": "2020-08-14T19:31:25.116214",
     "exception": false,
     "start_time": "2020-08-14T19:31:24.931131",
     "status": "completed"
    },
    "tags": [],
    "cell_id": "00019-e2cea5f8-ea7a-4408-8a6c-cffe571dc9cf",
    "deepnote_to_be_reexecuted": false,
    "source_hash": "10392e4c",
    "execution_start": 1638837618871,
    "execution_millis": 619,
    "output_cleared": false,
    "deepnote_cell_type": "code"
   },
   "source": "hub_client = HubClient()\n\ndataset = hub_client.current_dataset()\nnamespace_id = hub_client.namespace_of(dataset)\nprint(f\"Current dataset is {dataset} in namespace_id: {namespace_id}\")",
   "execution_count": null,
   "outputs": [
    {
     "name": "stdout",
     "text": "@ --- OSIsoft authorization required to run hosted notebook (Collab/Binder/etc) ---\n@ --- authorization granted ---\nCurrent dataset is Brewery in namespace_id: academic_hub_01\n",
     "output_type": "stream"
    }
   ]
  },
  {
   "cell_type": "markdown",
   "source": "### 2b. Download data from OCS with Data Views\n<a id=’section_2b’></a>\n\n**Development tip (WARNING: executing dataview takes up to 3 minutes)** \n\nDevelopment of a notebook involves running code over and over, so you'll want to avoid long running steps when possible. This is why you can run the cell below once, with the resulting dataframe saved in variable `all_brands_df`. If you don't change any of its input parameters, `all_brands_df` is still valid and can be reused. ",
   "metadata": {
    "papermill": {
     "duration": 0.064351,
     "end_time": "2020-08-14T19:31:25.246811",
     "exception": false,
     "start_time": "2020-08-14T19:31:25.182460",
     "status": "completed"
    },
    "tags": [],
    "cell_id": "00020-6a42fe73-e5a7-483a-bf90-547b1bfdda54",
    "deepnote_cell_type": "markdown"
   }
  },
  {
   "cell_type": "markdown",
   "source": "### Find predefined multi-asset Data View for Fermenters 31-36 and PCA",
   "metadata": {
    "papermill": {
     "duration": 0.064135,
     "end_time": "2020-08-14T19:31:25.372821",
     "exception": false,
     "start_time": "2020-08-14T19:31:25.308686",
     "status": "completed"
    },
    "tags": [],
    "cell_id": "00021-e6cf7c2f-925b-4cdc-97cf-ec8f7f35e39c",
    "deepnote_cell_type": "markdown"
   }
  },
  {
   "cell_type": "code",
   "metadata": {
    "execution": {
     "iopub.execute_input": "2020-08-14T19:31:25.499000Z",
     "iopub.status.busy": "2020-08-14T19:31:25.497987Z",
     "iopub.status.idle": "2020-08-14T19:31:25.503349Z",
     "shell.execute_reply": "2020-08-14T19:31:25.504227Z"
    },
    "papermill": {
     "duration": 0.076267,
     "end_time": "2020-08-14T19:31:25.504448",
     "exception": false,
     "start_time": "2020-08-14T19:31:25.428181",
     "status": "completed"
    },
    "tags": [],
    "cell_id": "00022-4edc4176-273b-46a3-bfff-9cf4053166bb",
    "deepnote_to_be_reexecuted": false,
    "source_hash": "424f58b",
    "execution_start": 1638837619495,
    "execution_millis": 26,
    "output_cleared": false,
    "deepnote_cell_type": "code"
   },
   "source": "dv_id = hub_client.asset_dataviews(filter=\"pca\", asset=\"FV31\", multiple_asset=True)[0]\nprint(dv_id)",
   "execution_count": null,
   "outputs": [
    {
     "name": "stdout",
     "text": "brewery-fv31--36-pca\n",
     "output_type": "stream"
    }
   ]
  },
  {
   "cell_type": "markdown",
   "source": "### Data View Structure",
   "metadata": {
    "papermill": {
     "duration": 0.065768,
     "end_time": "2020-08-14T19:31:25.650352",
     "exception": false,
     "start_time": "2020-08-14T19:31:25.584584",
     "status": "completed"
    },
    "tags": [],
    "cell_id": "00023-8d08a0dd-0f0b-41c7-a867-3f6da39c8e64",
    "deepnote_cell_type": "markdown"
   }
  },
  {
   "cell_type": "code",
   "metadata": {
    "execution": {
     "iopub.execute_input": "2020-08-14T19:31:25.775323Z",
     "iopub.status.busy": "2020-08-14T19:31:25.774462Z",
     "iopub.status.idle": "2020-08-14T19:31:26.335820Z",
     "shell.execute_reply": "2020-08-14T19:31:26.335186Z"
    },
    "papermill": {
     "duration": 0.6251,
     "end_time": "2020-08-14T19:31:26.335988",
     "exception": false,
     "start_time": "2020-08-14T19:31:25.710888",
     "status": "completed"
    },
    "tags": [],
    "cell_id": "00024-49cf544c-c4fb-4a9d-b293-b0f61b5f767d",
    "deepnote_to_be_reexecuted": false,
    "source_hash": "958753ab",
    "execution_start": 1638837619573,
    "execution_millis": 1949,
    "output_cleared": false,
    "deepnote_cell_type": "code"
   },
   "source": "print(hub_client.dataview_definition(namespace_id, dv_id).to_string(index=False))",
   "execution_count": null,
   "outputs": [
    {
     "name": "stdout",
     "text": "Asset_Id             Column_Name Stream_Type Stream_UOM                       OCS_Stream_Name\n    FV31                     ADF       Float                                B2_CL_C2_FV31/ADF\n    FV32                     ADF       Float                                B2_CL_C2_FV32/ADF\n    FV33                     ADF       Float                                B2_CL_C2_FV33/ADF\n    FV34                     ADF       Float                                B2_CL_C2_FV34/ADF\n    FV35                     ADF       Float                                B2_CL_C2_FV35/ADF\n    FV36                     ADF       Float                                B2_CL_C2_FV36/ADF\n    FV31          Bottom TIC OUT       Float          %         B2_CL_C2_FV31_TIC1360A/OUT.CV\n    FV32          Bottom TIC OUT       Float          %         B2_CL_C2_FV32_TIC1380A/OUT.CV\n    FV33          Bottom TIC OUT       Float          %         B2_CL_C2_FV33_TIC1400A/OUT.CV\n    FV34          Bottom TIC OUT       Float          %         B2_CL_C2_FV34_TIC1420A/OUT.CV\n    FV35          Bottom TIC OUT       Float          %         B2_CL_C2_FV35_TIC1440A/OUT.CV\n    FV36          Bottom TIC OUT       Float          %         B2_CL_C2_FV36_TIC1460A/OUT.CV\n    FV31           Bottom TIC PV       Float         °F          B2_CL_C2_FV31_TIC1360A/PV.CV\n    FV32           Bottom TIC PV       Float         °F          B2_CL_C2_FV32_TIC1380A/PV.CV\n    FV33           Bottom TIC PV       Float         °F          B2_CL_C2_FV33_TIC1400A/PV.CV\n    FV34           Bottom TIC PV       Float         °F          B2_CL_C2_FV34_TIC1420A/PV.CV\n    FV35           Bottom TIC PV       Float         °F          B2_CL_C2_FV35_TIC1440A/PV.CV\n    FV36           Bottom TIC PV       Float         °F          B2_CL_C2_FV36_TIC1460A/PV.CV\n    FV31           Bottom TIC SP       Float         °F          B2_CL_C2_FV31_TIC1360A/SP.CV\n    FV32           Bottom TIC SP       Float         °F          B2_CL_C2_FV32_TIC1380A/SP.CV\n    FV33           Bottom TIC SP       Float         °F          B2_CL_C2_FV33_TIC1400A/SP.CV\n    FV34           Bottom TIC SP       Float         °F          B2_CL_C2_FV34_TIC1420A/SP.CV\n    FV35           Bottom TIC SP       Float         °F          B2_CL_C2_FV35_TIC1440A/SP.CV\n    FV36           Bottom TIC SP       Float         °F          B2_CL_C2_FV36_TIC1460A/SP.CV\n    FV31                   Brand    Category                           B2_CL_C2_FV31/BRAND.CV\n    FV32                   Brand    Category                           B2_CL_C2_FV32/BRAND.CV\n    FV33                   Brand    Category                           B2_CL_C2_FV33/BRAND.CV\n    FV34                   Brand    Category                           B2_CL_C2_FV34/BRAND.CV\n    FV35                   Brand    Category                           B2_CL_C2_FV35/BRAND.CV\n    FV36                   Brand    Category                           B2_CL_C2_FV36/BRAND.CV\n    FV31 Fermentation Start Time   Timestamp            B2_CL_C2_FV31/Fermentation_Start_Time\n    FV32 Fermentation Start Time   Timestamp            B2_CL_C2_FV32/Fermentation_Start_Time\n    FV33 Fermentation Start Time   Timestamp            B2_CL_C2_FV33/Fermentation_Start_Time\n    FV34 Fermentation Start Time   Timestamp            B2_CL_C2_FV34/Fermentation_Start_Time\n    FV35 Fermentation Start Time   Timestamp            B2_CL_C2_FV35/Fermentation_Start_Time\n    FV36 Fermentation Start Time   Timestamp            B2_CL_C2_FV36/Fermentation_Start_Time\n    FV31          Middle TIC OUT       Float          %         B2_CL_C2_FV31_TIC1360B/OUT.CV\n    FV32          Middle TIC OUT       Float          %         B2_CL_C2_FV32_TIC1380B/OUT.CV\n    FV33          Middle TIC OUT       Float          %         B2_CL_C2_FV33_TIC1400B/OUT.CV\n    FV34          Middle TIC OUT       Float          %         B2_CL_C2_FV34_TIC1420B/OUT.CV\n    FV35          Middle TIC OUT       Float          %         B2_CL_C2_FV35_TIC1440B/OUT.CV\n    FV36          Middle TIC OUT       Float          %         B2_CL_C2_FV36_TIC1460B/OUT.CV\n    FV31           Middle TIC PV       Float         °F          B2_CL_C2_FV31_TIC1360B/PV.CV\n    FV32           Middle TIC PV       Float         °F          B2_CL_C2_FV32_TIC1380B/PV.CV\n    FV33           Middle TIC PV       Float         °F          B2_CL_C2_FV33_TIC1400B/PV.CV\n    FV34           Middle TIC PV       Float         °F          B2_CL_C2_FV34_TIC1420B/PV.CV\n    FV35           Middle TIC PV       Float         °F          B2_CL_C2_FV35_TIC1440B/PV.CV\n    FV36           Middle TIC PV       Float         °F          B2_CL_C2_FV36_TIC1460B/PV.CV\n    FV31           Middle TIC SP       Float         °F          B2_CL_C2_FV31_TIC1360B/SP.CV\n    FV32           Middle TIC SP       Float         °F          B2_CL_C2_FV32_TIC1380B/SP.CV\n    FV33           Middle TIC SP       Float         °F          B2_CL_C2_FV33_TIC1400B/SP.CV\n    FV34           Middle TIC SP       Float         °F          B2_CL_C2_FV34_TIC1420B/SP.CV\n    FV35           Middle TIC SP       Float         °F          B2_CL_C2_FV35_TIC1440B/SP.CV\n    FV36           Middle TIC SP       Float         °F          B2_CL_C2_FV36_TIC1460B/SP.CV\n    FV31                  Status    Category                          B2_CL_C2_FV31/STATUS.CV\n    FV32                  Status    Category                          B2_CL_C2_FV32/STATUS.CV\n    FV33                  Status    Category                          B2_CL_C2_FV33/STATUS.CV\n    FV34                  Status    Category                          B2_CL_C2_FV34/STATUS.CV\n    FV35                  Status    Category                          B2_CL_C2_FV35/STATUS.CV\n    FV36                  Status    Category                          B2_CL_C2_FV36/STATUS.CV\n    FV31             Top TIC OUT       Float          %         B2_CL_C2_FV31_TIC1360C/OUT.CV\n    FV32             Top TIC OUT       Float          %         B2_CL_C2_FV32_TIC1380C/OUT.CV\n    FV33             Top TIC OUT       Float          %         B2_CL_C2_FV33_TIC1400C/OUT.CV\n    FV34             Top TIC OUT       Float          %         B2_CL_C2_FV34_TIC1420C/OUT.CV\n    FV35             Top TIC OUT       Float          %         B2_CL_C2_FV35_TIC1440C/OUT.CV\n    FV36             Top TIC OUT       Float          %         B2_CL_C2_FV36_TIC1460C/OUT.CV\n    FV31              Top TIC PV       Float         °F          B2_CL_C2_FV31_TIC1360C/PV.CV\n    FV32              Top TIC PV       Float         °F          B2_CL_C2_FV32_TIC1380C/PV.CV\n    FV33              Top TIC PV       Float         °F          B2_CL_C2_FV33_TIC1400C/PV.CV\n    FV34              Top TIC PV       Float         °F          B2_CL_C2_FV34_TIC1420C/PV.CV\n    FV35              Top TIC PV       Float         °F          B2_CL_C2_FV35_TIC1440C/PV.CV\n    FV36              Top TIC PV       Float         °F          B2_CL_C2_FV36_TIC1460C/PV.CV\n    FV31              Top TIC SP       Float         °F          B2_CL_C2_FV31_TIC1360C/SP.CV\n    FV32              Top TIC SP       Float         °F          B2_CL_C2_FV32_TIC1380C/SP.CV\n    FV33              Top TIC SP       Float         °F          B2_CL_C2_FV33_TIC1400C/SP.CV\n    FV34              Top TIC SP       Float         °F          B2_CL_C2_FV34_TIC1420C/SP.CV\n    FV35              Top TIC SP       Float         °F          B2_CL_C2_FV35_TIC1440C/SP.CV\n    FV36              Top TIC SP       Float         °F          B2_CL_C2_FV36_TIC1460C/SP.CV\n    FV31                  Volume       Float        bbl            B2_CL_C2_FV31_LT1360/PV.CV\n    FV32                  Volume       Float        bbl            B2_CL_C2_FV32_LT1380/PV.CV\n    FV33                  Volume       Float        bbl            B2_CL_C2_FV33_LT1400/PV.CV\n    FV34                  Volume       Float        bbl            B2_CL_C2_FV34_LT1420/PV.CV\n    FV35                  Volume       Float        bbl            B2_CL_C2_FV35_LT1440/PV.CV\n    FV36                  Volume       Float        bbl            B2_CL_C2_FV36_LT1460/PV.CV\n",
     "output_type": "stream"
    }
   ]
  },
  {
   "cell_type": "markdown",
   "source": "### Get Interpolated Data from Data Views",
   "metadata": {
    "papermill": {
     "duration": 0.034906,
     "end_time": "2020-08-14T19:31:26.409890",
     "exception": false,
     "start_time": "2020-08-14T19:31:26.374984",
     "status": "completed"
    },
    "tags": [],
    "cell_id": "00025-acafe206-36fd-4ff5-a6f2-aceea80cf759",
    "deepnote_cell_type": "markdown"
   }
  },
  {
   "cell_type": "code",
   "metadata": {
    "execution": {
     "iopub.execute_input": "2020-08-14T19:31:26.488081Z",
     "iopub.status.busy": "2020-08-14T19:31:26.486801Z",
     "iopub.status.idle": "2020-08-14T19:32:49.442303Z",
     "shell.execute_reply": "2020-08-14T19:32:49.442901Z"
    },
    "papermill": {
     "duration": 82.999296,
     "end_time": "2020-08-14T19:32:49.443129",
     "exception": false,
     "start_time": "2020-08-14T19:31:26.443833",
     "status": "completed"
    },
    "tags": [],
    "cell_id": "00026-9535762b-48d8-454b-9966-c100f7a80067",
    "deepnote_output_heights": [
     null,
     177
    ],
    "deepnote_to_be_reexecuted": false,
    "source_hash": "d9f852aa",
    "execution_start": 1638837621512,
    "execution_millis": 2725394,
    "output_cleared": false,
    "deepnote_cell_type": "code"
   },
   "source": "# retrieve data from OCS\n# TODO: complete call to multiple data views\n# =========== STUDENT BEGIN ==========\n\n# all_brands_df = @@@ Your code here @@@.@@@ Your code here @@@_pd(...,...,...,...,INDEX_INTERVAL)\n \n# =========== STUDENT END ==========\nall_brands_df = hub_client.dataview_interpolated_pd(\n    namespace_id, dv_id, START_INDEX, END_INDEX, INDEX_INTERVAL\n)\n# =========== STUDENT SOLUTION ==========\n\n# preview `all_brands_df`\nall_brands_df.head()",
   "execution_count": null,
   "outputs": [
    {
     "name": "stdout",
     "text": "+++++++++++++@(515)++++++++++++++++++++++++++++++++++++++++++++++++++++++++++++++++++++++++++++++++++++++++++++++++++++++++++++++++++++++++++++++++++++++++++++++++++++++++++++++++++++++++++++++++++++++++++++++++++++++++++++++++++++++++++++++++++++++++++++++++++++++++++++++++++++++++++++++++++++++++++++++++++++++++++++++++++++++++++++++++++++++++++++++++++++++++++++++++++++++++++++++++++++++++++++++++++++++++++++++++++++++++++++++++++++++++++++++++++++++++++++++++++++++++++++++++++++++++++++++++++++++++++++++++++++++++++++++++++++++++++++++++++++++++++++++++++++++++++++++++++++++++++++++++++++++++++++++++++++++++++++++++++++++++++++++++++++++++++++++++++++++++++++++++++++++++++++++++++++++++++++++++++++++++++++++++++++++++++++++++++++++++++++++++++++++++++++++++++++++++++++++++++++++++++++++++++++++++++++++++++++++++++++++++++++++++++++++++++++++++++++++++++++++++++++++++++++++++++++++++++++++++++++++++++++++++++++++++++++++++++++++++++++++++++++++++++++++++++++++++++++++++++++++++++++++++++++++++++++++++++++++++++++++++++++++++++++++++++++++++++++++++++++++++++++++++++++++++++++++++++++++++++++++++++++++++++++++++++++++++++++++++++++++++++++++++++++++++++++++++++++++++++@(257)++++++++++++++++++++++++++++++++++++++++++++++++++++++++++++++++++++++++++++++++++++++++++++++++++++++++++++++++++++++++++++++++++++++++++++++++++++++++++++++++++++++++++++++++++++++++++++++++++++++++++++++++++++++++++++++++++++++++++++++++++++++++++++++++++++++++++++++++++++++++++++++++++++++++++++++++++++++++++++++++++++++++++++++++++++++++++++++++++++++++++++++++++++++++++++++++++++++++++++++++++++++++++++++++++++++++++++++++++++++++++++++++++++++++++++++++++++++++++++++++++++++++++++++++++++++++++++++++++++++++++++++++++++++++++++++++++++++++++++++++++++++++++++++++++++++++++++++++++++++++++++++++++++++++++++++++++++++++++++++++++++++++++++++++++++++++++++++++++++++++++++++++++++++++++++++++++++++++++++++++++++++++++++++++++++++++++++++++++++++++++++++++++++++++++++++++++++++++++++++++++++++++++++++++++++++++++++++++++++++++++++++++++++++++++++++++++++++++++++++++++++++++++++++++++++++++++++++++++++++++++++++++++++++++++++++++++++++++++++++++++++++++++++++++++++++++++++++++++++++++++++++++++++++++++++++++++++++++++++++++++++++++++++++++++++++++++++++++++++++++++++++++++++++++++++++++++++++++++++++++++++++++++++++++++++++++++++++++++++++++++++++++++++++++++++++++++++++++++++++++++++++++++++++++++++++++++++++++++++++++++++++++++++++++++++++++++++++++++++++++++++++++++++++++++++++++++++++++++++++++++++++++++++++++++++++++++++++++++++++++++++++++++++++++++++++++++++++++++++++++++++++++++++++++++++++++++++++++++++++++++++++++++++++++++++++++++++++++++++++++++++++++++++++++++++++++++++++++++++++++++++++++++++++++++++++++++++++++++++++++++++++++++++++++++++++++++++++++++++++++++++++++++++++++++++++++++++++++++++++++++++++++++++++++++++++++++++++++++++++++++++++++++++++++++++++++++++++++++++++++++++++++++++++++++++++++++++++++++++++++++++++++++++++++++++++++++++++++++++++++++++++++++++++++++++++++++++++++++++++++++++++++++++++++++++++++++++++++++++++++++++++++++++++++++++++++++++++++++++++++++++++++++++++++++++++++++++++++++++++++++++++++++++++++++++++++++++++++++++++++++++++++++++++++++++++++++++++++++++++++++++++++++++++++++++++++++++++++++++++++++++++++++++++++++++++++++++++++++++++++++++++++++++++++++++++++++++++++++++++++++++++++++++++++++++++++++++++++++++++++++++++++++++++++++++++++++++++++++++++++++++++++++++++++++++++++++++++++++++++++++++++++++++++++++++++++++++++++++++++++++++++++++++++++++++++++++++++++++++++++++++++++++++++++++++++++++++++++++++++++++++++++++++++++++++++++++++++++++++++++++++++++++++++\n  ==> Finished 'dataview_interpolated_pd' in       2725.2704 secs [ 231 rows/sec ]\n",
     "output_type": "stream"
    },
    {
     "output_type": "execute_result",
     "execution_count": 10,
     "data": {
      "application/vnd.deepnote.dataframe.v2+json": {
       "row_count": 5,
       "column_count": 16,
       "columns": [
        {
         "name": "Timestamp",
         "dtype": "datetime64[ns]",
         "stats": {
          "unique_count": 5,
          "nan_count": 0,
          "min": "2017-01-11 00:00:00",
          "max": "2017-01-11 01:00:00",
          "histogram": [
           {
            "bin_start": 1484092800000000000,
            "bin_end": 1484093160000000000,
            "count": 1
           },
           {
            "bin_start": 1484093160000000000,
            "bin_end": 1484093520000000000,
            "count": 0
           },
           {
            "bin_start": 1484093520000000000,
            "bin_end": 1484093880000000000,
            "count": 1
           },
           {
            "bin_start": 1484093880000000000,
            "bin_end": 1484094240000000000,
            "count": 0
           },
           {
            "bin_start": 1484094240000000000,
            "bin_end": 1484094600000000000,
            "count": 0
           },
           {
            "bin_start": 1484094600000000000,
            "bin_end": 1484094960000000000,
            "count": 1
           },
           {
            "bin_start": 1484094960000000000,
            "bin_end": 1484095320000000000,
            "count": 0
           },
           {
            "bin_start": 1484095320000000000,
            "bin_end": 1484095680000000000,
            "count": 1
           },
           {
            "bin_start": 1484095680000000000,
            "bin_end": 1484096040000000000,
            "count": 0
           },
           {
            "bin_start": 1484096040000000000,
            "bin_end": 1484096400000000000,
            "count": 1
           }
          ]
         }
        },
        {
         "name": "Asset_Id",
         "dtype": "object",
         "stats": {
          "unique_count": 1,
          "nan_count": 0,
          "categories": [
           {
            "name": "FV31",
            "count": 5
           }
          ]
         }
        },
        {
         "name": "ADF",
         "dtype": "float64",
         "stats": {
          "unique_count": 1,
          "nan_count": 0,
          "min": "0.1234814165026986",
          "max": "0.1234814165026986",
          "histogram": [
           {
            "bin_start": -0.3765185834973014,
            "bin_end": -0.2765185834973014,
            "count": 0
           },
           {
            "bin_start": -0.2765185834973014,
            "bin_end": -0.17651858349730137,
            "count": 0
           },
           {
            "bin_start": -0.17651858349730137,
            "bin_end": -0.07651858349730134,
            "count": 0
           },
           {
            "bin_start": -0.07651858349730134,
            "bin_end": 0.023481416502698638,
            "count": 0
           },
           {
            "bin_start": 0.023481416502698638,
            "bin_end": 0.12348141650269862,
            "count": 5
           },
           {
            "bin_start": 0.12348141650269862,
            "bin_end": 0.2234814165026987,
            "count": 0
           },
           {
            "bin_start": 0.2234814165026987,
            "bin_end": 0.3234814165026987,
            "count": 0
           },
           {
            "bin_start": 0.3234814165026987,
            "bin_end": 0.42348141650269866,
            "count": 0
           },
           {
            "bin_start": 0.42348141650269866,
            "bin_end": 0.5234814165026986,
            "count": 0
           },
           {
            "bin_start": 0.5234814165026986,
            "bin_end": 0.6234814165026986,
            "count": 0
           }
          ]
         }
        },
        {
         "name": "Volume",
         "dtype": "float64",
         "stats": {
          "unique_count": 1,
          "nan_count": 0,
          "min": "745.19183",
          "max": "745.19183",
          "histogram": [
           {
            "bin_start": 744.69183,
            "bin_end": 744.79183,
            "count": 0
           },
           {
            "bin_start": 744.79183,
            "bin_end": 744.89183,
            "count": 0
           },
           {
            "bin_start": 744.89183,
            "bin_end": 744.9918299999999,
            "count": 0
           },
           {
            "bin_start": 744.9918299999999,
            "bin_end": 745.09183,
            "count": 0
           },
           {
            "bin_start": 745.09183,
            "bin_end": 745.19183,
            "count": 0
           },
           {
            "bin_start": 745.19183,
            "bin_end": 745.29183,
            "count": 5
           },
           {
            "bin_start": 745.29183,
            "bin_end": 745.39183,
            "count": 0
           },
           {
            "bin_start": 745.39183,
            "bin_end": 745.4918299999999,
            "count": 0
           },
           {
            "bin_start": 745.4918299999999,
            "bin_end": 745.59183,
            "count": 0
           },
           {
            "bin_start": 745.59183,
            "bin_end": 745.69183,
            "count": 0
           }
          ]
         }
        },
        {
         "name": "Top TIC OUT",
         "dtype": "float64",
         "stats": {
          "unique_count": 2,
          "nan_count": 0,
          "min": "0.0",
          "max": "13.103141",
          "histogram": [
           {
            "bin_start": 0,
            "bin_end": 1.3103141,
            "count": 4
           },
           {
            "bin_start": 1.3103141,
            "bin_end": 2.6206282,
            "count": 0
           },
           {
            "bin_start": 2.6206282,
            "bin_end": 3.9309423,
            "count": 0
           },
           {
            "bin_start": 3.9309423,
            "bin_end": 5.2412564,
            "count": 0
           },
           {
            "bin_start": 5.2412564,
            "bin_end": 6.5515705,
            "count": 0
           },
           {
            "bin_start": 6.5515705,
            "bin_end": 7.8618846,
            "count": 0
           },
           {
            "bin_start": 7.8618846,
            "bin_end": 9.172198700000001,
            "count": 0
           },
           {
            "bin_start": 9.172198700000001,
            "bin_end": 10.4825128,
            "count": 0
           },
           {
            "bin_start": 10.4825128,
            "bin_end": 11.7928269,
            "count": 0
           },
           {
            "bin_start": 11.7928269,
            "bin_end": 13.103141,
            "count": 1
           }
          ]
         }
        },
        {
         "name": "Top TIC PV",
         "dtype": "float64",
         "stats": {
          "unique_count": 5,
          "nan_count": 0,
          "min": "64.87773",
          "max": "65.0",
          "histogram": [
           {
            "bin_start": 64.87773,
            "bin_end": 64.889957,
            "count": 1
           },
           {
            "bin_start": 64.889957,
            "bin_end": 64.902184,
            "count": 0
           },
           {
            "bin_start": 64.902184,
            "bin_end": 64.914411,
            "count": 0
           },
           {
            "bin_start": 64.914411,
            "bin_end": 64.926638,
            "count": 1
           },
           {
            "bin_start": 64.926638,
            "bin_end": 64.93886499999999,
            "count": 0
           },
           {
            "bin_start": 64.93886499999999,
            "bin_end": 64.951092,
            "count": 0
           },
           {
            "bin_start": 64.951092,
            "bin_end": 64.963319,
            "count": 1
           },
           {
            "bin_start": 64.963319,
            "bin_end": 64.975546,
            "count": 0
           },
           {
            "bin_start": 64.975546,
            "bin_end": 64.987773,
            "count": 0
           },
           {
            "bin_start": 64.987773,
            "bin_end": 65,
            "count": 2
           }
          ]
         }
        },
        {
         "name": "Top TIC SP",
         "dtype": "float64",
         "stats": {
          "unique_count": 1,
          "nan_count": 0,
          "min": "65.0",
          "max": "65.0",
          "histogram": [
           {
            "bin_start": 64.5,
            "bin_end": 64.6,
            "count": 0
           },
           {
            "bin_start": 64.6,
            "bin_end": 64.7,
            "count": 0
           },
           {
            "bin_start": 64.7,
            "bin_end": 64.8,
            "count": 0
           },
           {
            "bin_start": 64.8,
            "bin_end": 64.9,
            "count": 0
           },
           {
            "bin_start": 64.9,
            "bin_end": 65,
            "count": 0
           },
           {
            "bin_start": 65,
            "bin_end": 65.1,
            "count": 5
           },
           {
            "bin_start": 65.1,
            "bin_end": 65.2,
            "count": 0
           },
           {
            "bin_start": 65.2,
            "bin_end": 65.3,
            "count": 0
           },
           {
            "bin_start": 65.3,
            "bin_end": 65.4,
            "count": 0
           },
           {
            "bin_start": 65.4,
            "bin_end": 65.5,
            "count": 0
           }
          ]
         }
        },
        {
         "name": "Middle TIC OUT",
         "dtype": "float64",
         "stats": {
          "unique_count": 5,
          "nan_count": 0,
          "min": "2.0938013",
          "max": "85.02888",
          "histogram": [
           {
            "bin_start": 2.0938013,
            "bin_end": 10.387309170000002,
            "count": 1
           },
           {
            "bin_start": 10.387309170000002,
            "bin_end": 18.68081704,
            "count": 0
           },
           {
            "bin_start": 18.68081704,
            "bin_end": 26.974324910000004,
            "count": 1
           },
           {
            "bin_start": 26.974324910000004,
            "bin_end": 35.267832780000006,
            "count": 0
           },
           {
            "bin_start": 35.267832780000006,
            "bin_end": 43.561340650000005,
            "count": 0
           },
           {
            "bin_start": 43.561340650000005,
            "bin_end": 51.85484852000001,
            "count": 1
           },
           {
            "bin_start": 51.85484852000001,
            "bin_end": 60.14835639000001,
            "count": 0
           },
           {
            "bin_start": 60.14835639000001,
            "bin_end": 68.44186426,
            "count": 0
           },
           {
            "bin_start": 68.44186426,
            "bin_end": 76.73537213,
            "count": 0
           },
           {
            "bin_start": 76.73537213,
            "bin_end": 85.02888,
            "count": 2
           }
          ]
         }
        },
        {
         "name": "Middle TIC PV",
         "dtype": "float64",
         "stats": {
          "unique_count": 5,
          "nan_count": 0,
          "min": "65.1",
          "max": "65.39751",
          "histogram": [
           {
            "bin_start": 65.1,
            "bin_end": 65.129751,
            "count": 2
           },
           {
            "bin_start": 65.129751,
            "bin_end": 65.15950199999999,
            "count": 0
           },
           {
            "bin_start": 65.15950199999999,
            "bin_end": 65.189253,
            "count": 0
           },
           {
            "bin_start": 65.189253,
            "bin_end": 65.219004,
            "count": 0
           },
           {
            "bin_start": 65.219004,
            "bin_end": 65.24875499999999,
            "count": 1
           },
           {
            "bin_start": 65.24875499999999,
            "bin_end": 65.278506,
            "count": 0
           },
           {
            "bin_start": 65.278506,
            "bin_end": 65.308257,
            "count": 0
           },
           {
            "bin_start": 65.308257,
            "bin_end": 65.338008,
            "count": 0
           },
           {
            "bin_start": 65.338008,
            "bin_end": 65.36775899999999,
            "count": 1
           },
           {
            "bin_start": 65.36775899999999,
            "bin_end": 65.39751,
            "count": 1
           }
          ]
         }
        },
        {
         "name": "Middle TIC SP",
         "dtype": "float64",
         "stats": {
          "unique_count": 1,
          "nan_count": 0,
          "min": "65.0",
          "max": "65.0",
          "histogram": [
           {
            "bin_start": 64.5,
            "bin_end": 64.6,
            "count": 0
           },
           {
            "bin_start": 64.6,
            "bin_end": 64.7,
            "count": 0
           },
           {
            "bin_start": 64.7,
            "bin_end": 64.8,
            "count": 0
           },
           {
            "bin_start": 64.8,
            "bin_end": 64.9,
            "count": 0
           },
           {
            "bin_start": 64.9,
            "bin_end": 65,
            "count": 0
           },
           {
            "bin_start": 65,
            "bin_end": 65.1,
            "count": 5
           },
           {
            "bin_start": 65.1,
            "bin_end": 65.2,
            "count": 0
           },
           {
            "bin_start": 65.2,
            "bin_end": 65.3,
            "count": 0
           },
           {
            "bin_start": 65.3,
            "bin_end": 65.4,
            "count": 0
           },
           {
            "bin_start": 65.4,
            "bin_end": 65.5,
            "count": 0
           }
          ]
         }
        },
        {
         "name": "Bottom TIC OUT",
         "dtype": "float64",
         "stats": {
          "unique_count": 5,
          "nan_count": 0,
          "min": "10.314481",
          "max": "33.1896",
          "histogram": [
           {
            "bin_start": 10.314481,
            "bin_end": 12.6019929,
            "count": 1
           },
           {
            "bin_start": 12.6019929,
            "bin_end": 14.889504800000001,
            "count": 1
           },
           {
            "bin_start": 14.889504800000001,
            "bin_end": 17.1770167,
            "count": 0
           },
           {
            "bin_start": 17.1770167,
            "bin_end": 19.4645286,
            "count": 0
           },
           {
            "bin_start": 19.4645286,
            "bin_end": 21.7520405,
            "count": 0
           },
           {
            "bin_start": 21.7520405,
            "bin_end": 24.039552399999998,
            "count": 0
           },
           {
            "bin_start": 24.039552399999998,
            "bin_end": 26.3270643,
            "count": 0
           },
           {
            "bin_start": 26.3270643,
            "bin_end": 28.6145762,
            "count": 1
           },
           {
            "bin_start": 28.6145762,
            "bin_end": 30.902088099999997,
            "count": 1
           },
           {
            "bin_start": 30.902088099999997,
            "bin_end": 33.1896,
            "count": 1
           }
          ]
         }
        },
        {
         "name": "Bottom TIC PV",
         "dtype": "float64",
         "stats": {
          "unique_count": 5,
          "nan_count": 0,
          "min": "64.9",
          "max": "65.15516",
          "histogram": [
           {
            "bin_start": 64.9,
            "bin_end": 64.925516,
            "count": 1
           },
           {
            "bin_start": 64.925516,
            "bin_end": 64.951032,
            "count": 0
           },
           {
            "bin_start": 64.951032,
            "bin_end": 64.97654800000001,
            "count": 0
           },
           {
            "bin_start": 64.97654800000001,
            "bin_end": 65.002064,
            "count": 1
           },
           {
            "bin_start": 65.002064,
            "bin_end": 65.02758,
            "count": 0
           },
           {
            "bin_start": 65.02758,
            "bin_end": 65.053096,
            "count": 0
           },
           {
            "bin_start": 65.053096,
            "bin_end": 65.07861199999999,
            "count": 0
           },
           {
            "bin_start": 65.07861199999999,
            "bin_end": 65.104128,
            "count": 0
           },
           {
            "bin_start": 65.104128,
            "bin_end": 65.129644,
            "count": 1
           },
           {
            "bin_start": 65.129644,
            "bin_end": 65.15516,
            "count": 2
           }
          ]
         }
        },
        {
         "name": "Bottom TIC SP",
         "dtype": "float64",
         "stats": {
          "unique_count": 1,
          "nan_count": 0,
          "min": "65.0",
          "max": "65.0",
          "histogram": [
           {
            "bin_start": 64.5,
            "bin_end": 64.6,
            "count": 0
           },
           {
            "bin_start": 64.6,
            "bin_end": 64.7,
            "count": 0
           },
           {
            "bin_start": 64.7,
            "bin_end": 64.8,
            "count": 0
           },
           {
            "bin_start": 64.8,
            "bin_end": 64.9,
            "count": 0
           },
           {
            "bin_start": 64.9,
            "bin_end": 65,
            "count": 0
           },
           {
            "bin_start": 65,
            "bin_end": 65.1,
            "count": 5
           },
           {
            "bin_start": 65.1,
            "bin_end": 65.2,
            "count": 0
           },
           {
            "bin_start": 65.2,
            "bin_end": 65.3,
            "count": 0
           },
           {
            "bin_start": 65.3,
            "bin_end": 65.4,
            "count": 0
           },
           {
            "bin_start": 65.4,
            "bin_end": 65.5,
            "count": 0
           }
          ]
         }
        },
        {
         "name": "Fermentation Start Time",
         "dtype": "object",
         "stats": {
          "unique_count": 1,
          "nan_count": 0,
          "categories": [
           {
            "name": "2017-01-10T07:54:11.0530090Z",
            "count": 5
           }
          ]
         }
        },
        {
         "name": "Brand",
         "dtype": "object",
         "stats": {
          "unique_count": 1,
          "nan_count": 0,
          "categories": [
           {
            "name": "Red Wonder",
            "count": 5
           }
          ]
         }
        },
        {
         "name": "Status",
         "dtype": "object",
         "stats": {
          "unique_count": 1,
          "nan_count": 0,
          "categories": [
           {
            "name": "Fermentation",
            "count": 5
           }
          ]
         }
        },
        {
         "name": "_deepnote_index_column",
         "dtype": "int64"
        }
       ],
       "rows_top": [
        {
         "Timestamp": "2017-01-11T00:00:00.000000",
         "Asset_Id": "FV31",
         "ADF": 0.1234814165026986,
         "Volume": 745.19183,
         "Top TIC OUT": 13.103141,
         "Top TIC PV": 65,
         "Top TIC SP": 65,
         "Middle TIC OUT": 25.548716,
         "Middle TIC PV": 65.11944,
         "Middle TIC SP": 65,
         "Bottom TIC OUT": 33.1896,
         "Bottom TIC PV": 65.15516,
         "Bottom TIC SP": 65,
         "Fermentation Start Time": "2017-01-10T07:54:11.0530090Z",
         "Brand": "Red Wonder",
         "Status": "Fermentation",
         "_deepnote_index_column": 0
        },
        {
         "Timestamp": "2017-01-11T00:15:00.000000",
         "Asset_Id": "FV31",
         "ADF": 0.1234814165026986,
         "Volume": 745.19183,
         "Top TIC OUT": 0,
         "Top TIC PV": 64.99327,
         "Top TIC SP": 65,
         "Middle TIC OUT": 47.296513,
         "Middle TIC PV": 65.21991,
         "Middle TIC SP": 65,
         "Bottom TIC OUT": 10.314481,
         "Bottom TIC PV": 64.9,
         "Bottom TIC SP": 65,
         "Fermentation Start Time": "2017-01-10T07:54:11.0530090Z",
         "Brand": "Red Wonder",
         "Status": "Fermentation",
         "_deepnote_index_column": 1
        },
        {
         "Timestamp": "2017-01-11T00:30:00.000000",
         "Asset_Id": "FV31",
         "ADF": 0.1234814165026986,
         "Volume": 745.19183,
         "Top TIC OUT": 0,
         "Top TIC PV": 64.87773,
         "Top TIC SP": 65,
         "Middle TIC OUT": 78.59482,
         "Middle TIC PV": 65.36743,
         "Middle TIC SP": 65,
         "Bottom TIC OUT": 27.674307,
         "Bottom TIC PV": 65.12938,
         "Bottom TIC SP": 65,
         "Fermentation Start Time": "2017-01-10T07:54:11.0530090Z",
         "Brand": "Red Wonder",
         "Status": "Fermentation",
         "_deepnote_index_column": 2
        },
        {
         "Timestamp": "2017-01-11T00:45:00.000000",
         "Asset_Id": "FV31",
         "ADF": 0.1234814165026986,
         "Volume": 745.19183,
         "Top TIC OUT": 0,
         "Top TIC PV": 64.953224,
         "Top TIC SP": 65,
         "Middle TIC OUT": 85.02888,
         "Middle TIC PV": 65.39751,
         "Middle TIC SP": 65,
         "Bottom TIC OUT": 30.117142,
         "Bottom TIC PV": 65.1408,
         "Bottom TIC SP": 65,
         "Fermentation Start Time": "2017-01-10T07:54:11.0530090Z",
         "Brand": "Red Wonder",
         "Status": "Fermentation",
         "_deepnote_index_column": 3
        },
        {
         "Timestamp": "2017-01-11T01:00:00.000000",
         "Asset_Id": "FV31",
         "ADF": 0.1234814165026986,
         "Volume": 745.19183,
         "Top TIC OUT": 0,
         "Top TIC PV": 64.91685,
         "Top TIC SP": 65,
         "Middle TIC OUT": 2.0938013,
         "Middle TIC PV": 65.1,
         "Middle TIC SP": 65,
         "Bottom TIC OUT": 12.825197,
         "Bottom TIC PV": 65,
         "Bottom TIC SP": 65,
         "Fermentation Start Time": "2017-01-10T07:54:11.0530090Z",
         "Brand": "Red Wonder",
         "Status": "Fermentation",
         "_deepnote_index_column": 4
        }
       ],
       "rows_bottom": null
      },
      "text/plain": "            Timestamp Asset_Id       ADF     Volume  Top TIC OUT  Top TIC PV  \\\n0 2017-01-11 00:00:00     FV31  0.123481  745.19183    13.103141   65.000000   \n1 2017-01-11 00:15:00     FV31  0.123481  745.19183     0.000000   64.993270   \n2 2017-01-11 00:30:00     FV31  0.123481  745.19183     0.000000   64.877730   \n3 2017-01-11 00:45:00     FV31  0.123481  745.19183     0.000000   64.953224   \n4 2017-01-11 01:00:00     FV31  0.123481  745.19183     0.000000   64.916850   \n\n   Top TIC SP  Middle TIC OUT  Middle TIC PV  Middle TIC SP  Bottom TIC OUT  \\\n0        65.0       25.548716       65.11944           65.0       33.189600   \n1        65.0       47.296513       65.21991           65.0       10.314481   \n2        65.0       78.594820       65.36743           65.0       27.674307   \n3        65.0       85.028880       65.39751           65.0       30.117142   \n4        65.0        2.093801       65.10000           65.0       12.825197   \n\n   Bottom TIC PV  Bottom TIC SP       Fermentation Start Time       Brand  \\\n0       65.15516           65.0  2017-01-10T07:54:11.0530090Z  Red Wonder   \n1       64.90000           65.0  2017-01-10T07:54:11.0530090Z  Red Wonder   \n2       65.12938           65.0  2017-01-10T07:54:11.0530090Z  Red Wonder   \n3       65.14080           65.0  2017-01-10T07:54:11.0530090Z  Red Wonder   \n4       65.00000           65.0  2017-01-10T07:54:11.0530090Z  Red Wonder   \n\n         Status  \n0  Fermentation  \n1  Fermentation  \n2  Fermentation  \n3  Fermentation  \n4  Fermentation  ",
      "text/html": "<div>\n<style scoped>\n    .dataframe tbody tr th:only-of-type {\n        vertical-align: middle;\n    }\n\n    .dataframe tbody tr th {\n        vertical-align: top;\n    }\n\n    .dataframe thead th {\n        text-align: right;\n    }\n</style>\n<table border=\"1\" class=\"dataframe\">\n  <thead>\n    <tr style=\"text-align: right;\">\n      <th></th>\n      <th>Timestamp</th>\n      <th>Asset_Id</th>\n      <th>ADF</th>\n      <th>Volume</th>\n      <th>Top TIC OUT</th>\n      <th>Top TIC PV</th>\n      <th>Top TIC SP</th>\n      <th>Middle TIC OUT</th>\n      <th>Middle TIC PV</th>\n      <th>Middle TIC SP</th>\n      <th>Bottom TIC OUT</th>\n      <th>Bottom TIC PV</th>\n      <th>Bottom TIC SP</th>\n      <th>Fermentation Start Time</th>\n      <th>Brand</th>\n      <th>Status</th>\n    </tr>\n  </thead>\n  <tbody>\n    <tr>\n      <th>0</th>\n      <td>2017-01-11 00:00:00</td>\n      <td>FV31</td>\n      <td>0.123481</td>\n      <td>745.19183</td>\n      <td>13.103141</td>\n      <td>65.000000</td>\n      <td>65.0</td>\n      <td>25.548716</td>\n      <td>65.11944</td>\n      <td>65.0</td>\n      <td>33.189600</td>\n      <td>65.15516</td>\n      <td>65.0</td>\n      <td>2017-01-10T07:54:11.0530090Z</td>\n      <td>Red Wonder</td>\n      <td>Fermentation</td>\n    </tr>\n    <tr>\n      <th>1</th>\n      <td>2017-01-11 00:15:00</td>\n      <td>FV31</td>\n      <td>0.123481</td>\n      <td>745.19183</td>\n      <td>0.000000</td>\n      <td>64.993270</td>\n      <td>65.0</td>\n      <td>47.296513</td>\n      <td>65.21991</td>\n      <td>65.0</td>\n      <td>10.314481</td>\n      <td>64.90000</td>\n      <td>65.0</td>\n      <td>2017-01-10T07:54:11.0530090Z</td>\n      <td>Red Wonder</td>\n      <td>Fermentation</td>\n    </tr>\n    <tr>\n      <th>2</th>\n      <td>2017-01-11 00:30:00</td>\n      <td>FV31</td>\n      <td>0.123481</td>\n      <td>745.19183</td>\n      <td>0.000000</td>\n      <td>64.877730</td>\n      <td>65.0</td>\n      <td>78.594820</td>\n      <td>65.36743</td>\n      <td>65.0</td>\n      <td>27.674307</td>\n      <td>65.12938</td>\n      <td>65.0</td>\n      <td>2017-01-10T07:54:11.0530090Z</td>\n      <td>Red Wonder</td>\n      <td>Fermentation</td>\n    </tr>\n    <tr>\n      <th>3</th>\n      <td>2017-01-11 00:45:00</td>\n      <td>FV31</td>\n      <td>0.123481</td>\n      <td>745.19183</td>\n      <td>0.000000</td>\n      <td>64.953224</td>\n      <td>65.0</td>\n      <td>85.028880</td>\n      <td>65.39751</td>\n      <td>65.0</td>\n      <td>30.117142</td>\n      <td>65.14080</td>\n      <td>65.0</td>\n      <td>2017-01-10T07:54:11.0530090Z</td>\n      <td>Red Wonder</td>\n      <td>Fermentation</td>\n    </tr>\n    <tr>\n      <th>4</th>\n      <td>2017-01-11 01:00:00</td>\n      <td>FV31</td>\n      <td>0.123481</td>\n      <td>745.19183</td>\n      <td>0.000000</td>\n      <td>64.916850</td>\n      <td>65.0</td>\n      <td>2.093801</td>\n      <td>65.10000</td>\n      <td>65.0</td>\n      <td>12.825197</td>\n      <td>65.00000</td>\n      <td>65.0</td>\n      <td>2017-01-10T07:54:11.0530090Z</td>\n      <td>Red Wonder</td>\n      <td>Fermentation</td>\n    </tr>\n  </tbody>\n</table>\n</div>"
     },
     "metadata": {}
    }
   ]
  },
  {
   "cell_type": "code",
   "metadata": {
    "execution": {
     "iopub.execute_input": "2020-08-14T19:32:49.565796Z",
     "iopub.status.busy": "2020-08-14T19:32:49.565062Z",
     "iopub.status.idle": "2020-08-14T19:32:49.671817Z",
     "shell.execute_reply": "2020-08-14T19:32:49.671264Z"
    },
    "papermill": {
     "duration": 0.171822,
     "end_time": "2020-08-14T19:32:49.671961",
     "exception": false,
     "start_time": "2020-08-14T19:32:49.500139",
     "status": "completed"
    },
    "tags": [],
    "cell_id": "00027-948af9bb-8feb-4948-a061-b3e804bc3d53",
    "deepnote_to_be_reexecuted": false,
    "source_hash": "1d8d3f89",
    "execution_start": 1638840346907,
    "execution_millis": 161,
    "output_cleared": false,
    "deepnote_cell_type": "code"
   },
   "source": "# dataframe summary\nall_brands_df.info()",
   "execution_count": null,
   "outputs": [
    {
     "name": "stdout",
     "text": "<class 'pandas.core.frame.DataFrame'>\nRangeIndex: 630726 entries, 0 to 630725\nData columns (total 16 columns):\n #   Column                   Non-Null Count   Dtype         \n---  ------                   --------------   -----         \n 0   Timestamp                630726 non-null  datetime64[ns]\n 1   Asset_Id                 630726 non-null  object        \n 2   ADF                      335674 non-null  float64       \n 3   Volume                   630432 non-null  float64       \n 4   Top TIC OUT              630432 non-null  float64       \n 5   Top TIC PV               630432 non-null  float64       \n 6   Top TIC SP               630468 non-null  float64       \n 7   Middle TIC OUT           630432 non-null  float64       \n 8   Middle TIC PV            630432 non-null  float64       \n 9   Middle TIC SP            630468 non-null  float64       \n 10  Bottom TIC OUT           630432 non-null  float64       \n 11  Bottom TIC PV            630432 non-null  float64       \n 12  Bottom TIC SP            630468 non-null  float64       \n 13  Fermentation Start Time  517046 non-null  object        \n 14  Brand                    630726 non-null  object        \n 15  Status                   630726 non-null  object        \ndtypes: datetime64[ns](1), float64(11), object(4)\nmemory usage: 77.0+ MB\n",
     "output_type": "stream"
    }
   ]
  },
  {
   "cell_type": "markdown",
   "source": "### 2c. Clean `all_brands_df`\n<a id=’section_2c’></a>\nDrops all entries which have missing value in any columns in listed in `ATTRIBUTES_OF_INTEREST`.",
   "metadata": {
    "papermill": {
     "duration": 0.059398,
     "end_time": "2020-08-14T19:32:49.791393",
     "exception": false,
     "start_time": "2020-08-14T19:32:49.731995",
     "status": "completed"
    },
    "tags": [],
    "cell_id": "00028-62c21a73-0c1c-49b6-9e5f-cf1398842607",
    "deepnote_cell_type": "markdown"
   }
  },
  {
   "cell_type": "code",
   "metadata": {
    "execution": {
     "iopub.execute_input": "2020-08-14T19:32:49.946720Z",
     "iopub.status.busy": "2020-08-14T19:32:49.945876Z",
     "iopub.status.idle": "2020-08-14T19:32:50.261329Z",
     "shell.execute_reply": "2020-08-14T19:32:50.260826Z"
    },
    "papermill": {
     "duration": 0.394659,
     "end_time": "2020-08-14T19:32:50.261446",
     "exception": false,
     "start_time": "2020-08-14T19:32:49.866787",
     "status": "completed"
    },
    "tags": [],
    "cell_id": "00029-9d29dfec-ba5e-425b-9271-a10064965462",
    "deepnote_to_be_reexecuted": false,
    "source_hash": "2920aebe",
    "execution_start": 1638840347072,
    "execution_millis": 573,
    "output_cleared": false,
    "deepnote_cell_type": "code"
   },
   "source": "# drop rows with NaNs in attributes of interest\nall_brands_df = all_brands_df.dropna(subset=ATTRIBUTES_OF_INTEREST)\n\nall_brands_df[\"Asset_Id\"] = all_brands_df[\"Asset_Id\"].apply(lambda vessel: vessel[-2:])\n\n# all_brands_df.describe(include='all')\nall_brands_df.info()",
   "execution_count": null,
   "outputs": [
    {
     "name": "stdout",
     "text": "<class 'pandas.core.frame.DataFrame'>\nInt64Index: 335520 entries, 0 to 630725\nData columns (total 16 columns):\n #   Column                   Non-Null Count   Dtype         \n---  ------                   --------------   -----         \n 0   Timestamp                335520 non-null  datetime64[ns]\n 1   Asset_Id                 335520 non-null  object        \n 2   ADF                      335520 non-null  float64       \n 3   Volume                   335520 non-null  float64       \n 4   Top TIC OUT              335520 non-null  float64       \n 5   Top TIC PV               335520 non-null  float64       \n 6   Top TIC SP               335520 non-null  float64       \n 7   Middle TIC OUT           335520 non-null  float64       \n 8   Middle TIC PV            335520 non-null  float64       \n 9   Middle TIC SP            335520 non-null  float64       \n 10  Bottom TIC OUT           335520 non-null  float64       \n 11  Bottom TIC PV            335520 non-null  float64       \n 12  Bottom TIC SP            335520 non-null  float64       \n 13  Fermentation Start Time  333765 non-null  object        \n 14  Brand                    335520 non-null  object        \n 15  Status                   335520 non-null  object        \ndtypes: datetime64[ns](1), float64(11), object(4)\nmemory usage: 43.5+ MB\n",
     "output_type": "stream"
    }
   ]
  },
  {
   "cell_type": "code",
   "metadata": {
    "execution": {
     "iopub.execute_input": "2020-08-14T19:32:50.399748Z",
     "iopub.status.busy": "2020-08-14T19:32:50.398883Z",
     "iopub.status.idle": "2020-08-14T19:32:50.487313Z",
     "shell.execute_reply": "2020-08-14T19:32:50.487733Z"
    },
    "papermill": {
     "duration": 0.171538,
     "end_time": "2020-08-14T19:32:50.488065",
     "exception": false,
     "start_time": "2020-08-14T19:32:50.316527",
     "status": "completed"
    },
    "tags": [],
    "cell_id": "00030-cb3e06e8-f3c3-416b-88e3-992b546525eb",
    "deepnote_output_heights": [
     366.796875
    ],
    "deepnote_to_be_reexecuted": false,
    "source_hash": "25b08637",
    "execution_start": 1638840347648,
    "execution_millis": 117,
    "output_cleared": false,
    "deepnote_cell_type": "code"
   },
   "source": "# PCA will be performed on the 4 brands with the most fermentations\n# Note 1: those are upper bounds since a fermentation can be discarded if incomplete or with bad data\nall_brands_df.groupby(by=[\"Fermentation Start Time\"]).first()[\"Brand\"].value_counts()",
   "execution_count": null,
   "outputs": [
    {
     "output_type": "execute_result",
     "execution_count": 13,
     "data": {
      "text/plain": "Realtime Hops    122\nTrois Lacs        54\nGrey Horse        32\nLIT               31\nKerberos          29\nAdele             13\nCoorsight         12\nKennedy           10\nSFO                9\nTall Man           8\nAAA                8\nAFeizen            6\nMontreal           5\nRed Wonder         4\nGuiness            2\nHop-A-Long         1\nBlue Whale         1\nIPAnanas           1\nName: Brand, dtype: int64"
     },
     "metadata": {}
    }
   ]
  },
  {
   "cell_type": "markdown",
   "source": "---\n## Part 3. Define Utility Functions\n---\n<a id=’section_3’></a>\nGiven a dataframe containing the fermentation data for one brand, first find all the different fermentation batches; then for each batch, we need to identify which stage each event belongs to.\n\nHowever, the \"Status\" labels are unreliable, so the stages have to be indetified through other means. Since it can be difficult to identify the transition between different stages, we consider only two rough categories of stages: (1) Pre (not) cooling and (2) Cooling.\n\nThe  general \"Precooling\" stage will contain the literal \"Fermentation\", \"Free Rise\", \"Diacetyl Rest\" stages, while the general \"Cooling\" stage will contain the literal \"Cooling\" and \"Maturation\" stages. To distinguish \"Precooling\" and \"Cooling\" rows, a new boolean column \"Cooling_Stage\" contains a False or True value respectively.   \n\nWe then want to create a summary of each batch, such that we can capture the general property of each batch. The summary for each batch will be collected in the dataframe `FeatureDF`.\n\n| Function | Description |\n|----------|-------------|\n|`fermentation_times`| Identify when fermentation begins; offset timestamps to begin on fermentation starts; add unique label to each fermentation batch|\n|`remove_batches_without_phase` | Certain stages are critical to flavor profile of beer; batches without these stages are just bad|\n|`organize_by_cooling`| finds when cooling starts and then relabels statuses as being either in 'Precooling' or 'Cooling' stages. Necessary because entries may have been mislabelled.|\n|`summarize_by_batch`| summarizes the time evolution of 10 attributes into 41 scalars. the summary is stored in a dataframe `ProcessedData`|\n\nThe utility functions can all be found in the cell below (don't forget to execute):",
   "metadata": {
    "papermill": {
     "duration": 0.079127,
     "end_time": "2020-08-14T19:32:50.624841",
     "exception": false,
     "start_time": "2020-08-14T19:32:50.545714",
     "status": "completed"
    },
    "tags": [],
    "cell_id": "00031-afcc3dbb-26ec-4dbe-ab44-94179f0a43e4",
    "deepnote_cell_type": "markdown"
   }
  },
  {
   "cell_type": "code",
   "metadata": {
    "execution": {
     "iopub.execute_input": "2020-08-14T19:32:50.777609Z",
     "iopub.status.busy": "2020-08-14T19:32:50.765955Z",
     "iopub.status.idle": "2020-08-14T19:32:50.779881Z",
     "shell.execute_reply": "2020-08-14T19:32:50.779485Z"
    },
    "papermill": {
     "duration": 0.099512,
     "end_time": "2020-08-14T19:32:50.780030",
     "exception": false,
     "start_time": "2020-08-14T19:32:50.680518",
     "status": "completed"
    },
    "tags": [],
    "cell_id": "00032-0f05425e-8fd6-4450-bf71-7dc1a2593cfa",
    "deepnote_to_be_reexecuted": false,
    "source_hash": "234f7dfa",
    "execution_start": 1638840347769,
    "execution_millis": 27,
    "output_cleared": false,
    "deepnote_cell_type": "code"
   },
   "source": "class NoCoolingStagesFound(Exception):\n    pass\n\n\ndef fermentation_times(brand_df, fermentation_starts, shift=0):\n    \"\"\"\n    DESCRIPTION: Identify when fermentation begins and &\n        offsets timestamps to start when fermentation begins.\n        Also adds a label to each new fermentation batch\n    RETURNS: the input dataframe with offset timestamps, labels for each batch\n    \"\"\"\n\n    # create new df columns \"tsf\" and \"batch\". NOTE: \"tsf\" --> \"time since fermentation\"\n    # TODO: initialize \"tsf\" with 100000 and \"batch\" with -1\n    # =========== STUDENT BEGIN ==========\n    # brand_df = brand_df.assign(**{\"tsf\": 100000, @@@ Your code here @@@})\n    # =========== STUDENT END ==========\n    brand_df = brand_df.assign(**{\"tsf\": 100000, \"batch\": -1})\n    # =========== STUDENT SOLUTION ==========\n\n    # reset index for fermentation starts, so that position index for .iterrows() is correct\n    fermentation_starts.reset_index(inplace=True)\n\n    # calculate the time elapsed for each fermentation step belonging to a new fermentation stage\n    for count, ferm_begin in fermentation_starts.iterrows():\n\n        # get the timestamp for each start of fermentation\n        fermentation_start_time = pd.Timestamp(ferm_begin[\"Timestamp\"])\n\n        # get booleans for new fermentation steps, where a new fermentation step is any step which exceeds the \n        # new fermentation time\n        new_fermentation_steps = (\n            brand_df[\"Timestamp\"].apply(lambda t: pd.Timestamp(t))\n            >= fermentation_start_time\n        )\n\n        # give each new fermentation step a new integer label\n        brand_df.loc[new_fermentation_steps, \"batch\"] = count + shift\n\n        # find time elapsed since start of fermentation, in units of float days\n        brand_df.loc[new_fermentation_steps, \"tsf\"] = brand_df.loc[\n            new_fermentation_steps, \"Timestamp\"\n        ].apply(\n            lambda t: (pd.Timestamp(t) - fermentation_start_time).total_seconds()\n            / 86400.0\n        )\n\n    # include only steps with non-negative \"batch\" labels and \"tsf\" not exceeding 100000 days\n    offset_df = brand_df[(brand_df[\"tsf\"] <= 100000) & (brand_df[\"batch\"] >= 0)]\n\n    # find the new label shift\n    shift = offset_df[\"batch\"].max()\n\n    return offset_df, shift\nprint(\"--- fermentation_times defined ---\")",
   "execution_count": null,
   "outputs": [
    {
     "name": "stdout",
     "text": "--- fermentation_times defined ---\n",
     "output_type": "stream"
    }
   ]
  },
  {
   "cell_type": "code",
   "metadata": {
    "execution": {
     "iopub.execute_input": "2020-08-14T19:32:50.777609Z",
     "iopub.status.busy": "2020-08-14T19:32:50.765955Z",
     "iopub.status.idle": "2020-08-14T19:32:50.779881Z",
     "shell.execute_reply": "2020-08-14T19:32:50.779485Z"
    },
    "papermill": {
     "duration": 0.099512,
     "end_time": "2020-08-14T19:32:50.780030",
     "exception": false,
     "start_time": "2020-08-14T19:32:50.680518",
     "status": "completed"
    },
    "tags": [],
    "cell_id": "00033-ca04b9c3-3752-40f9-a735-e0a7d8a822f8",
    "deepnote_to_be_reexecuted": false,
    "source_hash": "2531994a",
    "execution_start": 1638840347789,
    "execution_millis": 36,
    "output_cleared": false,
    "deepnote_cell_type": "code"
   },
   "source": "def no_batch_without_phase(offset_df, ref_df):\n\n    # find all batches represented in `ref_df`; these are valid batches\n    valid_batches = ref_df[\"batch\"].unique()\n\n    # we only want batches in `valid_batches`\n    # TODO: Complete the filter expression\n    # =========== STUDENT BEGIN ==========\n    # offset_df = offset_df[@@@ Your code here @@@@.isin(@@@ Your code here @@@)]\n    # =========== STUDENT END ==========\n    offset_df = offset_df[offset_df[\"batch\"].isin(valid_batches)]\n    # =========== STUDENT SOLUTION ==========\n\n    return offset_df\n\n\ndef organize_by_cooling(offset_df, fermentation_starts):\n    \"\"\"\n    DESCRIPTION: finds when cooling starts and then relabels statuses as being either in\n        'Precooling' or 'Cooling' stages. Necessary because entries may have been mislabelled.\n    RETURNS: relabeled offset_df\n    \"\"\"\n\n    # find events which are stictly in cooling stage. When cooling intensity (TIC OUT) exceeds 99.99 in\n    # the three vessel zones, the batch is in the cooling stage.\n    # TODO: Complete the expression\n    # =========== STUDENT BEGIN ==========\n    # boolean = (\n    #     (offset_df[\"Top TIC OUT\"] > 99.99)\n    #     & (@@@ Your code here @@@)\n    #     & (@@@ Your code here @@@)\n    # )\n    # =========== STUDENT END ==========\n    boolean = (\n        (offset_df[\"Top TIC OUT\"] > 99.99)\n        & (offset_df[\"Middle TIC OUT\"] > 99.99)\n        & (offset_df[\"Bottom TIC OUT\"] > 99.99)\n    )\n    # =========== STUDENT SOLUTION ==========\n\n    # filter for events which are strictly for cooling\n    strict_cooling_df = offset_df.loc[boolean, :]\n\n    # the start of cooling is the first instance of a strict cooling event for a batch (given by 'batch')\n    cooling_starts = strict_cooling_df.groupby(\"batch\").first().reset_index()\n\n    # filter out batches with no cooling stages so it won't be used for PCA\n    offset_df = no_batch_without_phase(offset_df, cooling_starts)\n\n    # if there are no batches with cooling stages, don't continue with data processing\n    if offset_df.empty:\n        raise NoCoolingStagesFound\n        return None, None\n    else:\n        print(f\"\\t{len(cooling_starts)} Cooling starts\")\n\n    # relabel batch statuses as either 'pre-cooling' or 'cooling'\n    for __, row in cooling_starts.iterrows():\n\n        # label for current batch\n        current_batch = row[\"batch\"]\n\n        # when cooling starts for current batch\n        cooling_start_time = row[\"tsf\"]\n\n        # get booleans for current batch\n        boolean = offset_df[\"batch\"] == current_batch\n\n        # Add a new \"Cooling_Stage\" column which is False or True for \"Precooling\" or \"Cooling\" respectively\n        # TODO: Complete the expression\n        # HINT: \"Cooling_Stage \" should be False if tsf < cooling start time, True otherwise\n        # =========== STUDENT BEGIN ==========\n        #  offset_df.loc[boolean, \"Cooling_Stage\"] = offset_df.loc[boolean, \"tsf\"].apply(\n        #     lambda t: @@@ Your code here @@@ if @@@ Your code here @@@  else True\n        # )\n        # =========== STUDENT END ==========\n        offset_df.loc[boolean, \"Cooling_Stage\"] = offset_df.loc[boolean, \"tsf\"].apply(\n            lambda t: False if t < cooling_start_time else True\n        )\n        # =========== STUDENT SOLUTION ==========\n\n    return offset_df\nprint(\"--- organize_by_cooling defined ---\")",
   "execution_count": null,
   "outputs": [
    {
     "name": "stdout",
     "text": "--- organize_by_cooling defined ---\n",
     "output_type": "stream"
    }
   ]
  },
  {
   "cell_type": "code",
   "metadata": {
    "execution": {
     "iopub.execute_input": "2020-08-14T19:32:50.777609Z",
     "iopub.status.busy": "2020-08-14T19:32:50.765955Z",
     "iopub.status.idle": "2020-08-14T19:32:50.779881Z",
     "shell.execute_reply": "2020-08-14T19:32:50.779485Z"
    },
    "papermill": {
     "duration": 0.099512,
     "end_time": "2020-08-14T19:32:50.780030",
     "exception": false,
     "start_time": "2020-08-14T19:32:50.680518",
     "status": "completed"
    },
    "tags": [],
    "cell_id": "00034-a17034d8-2176-49d5-990b-aae985452907",
    "deepnote_to_be_reexecuted": false,
    "source_hash": "d090c35c",
    "execution_start": 1638840347826,
    "execution_millis": 62,
    "output_cleared": false,
    "deepnote_cell_type": "code"
   },
   "source": "# Goal of the following definitions is from PCList, which is a list of pairs of the following format:\n#    (boolean, list of principal components)\n# to generate a list of booleans called PCA_df_selected which length is the concatenation of all\n# list of principal components in PCList. If a list in PCList has length > 1, the boolean value is\n# is copied for all element in the list\n#\nflatten = lambda l: [item for sublist in l for item in sublist]\nPClist_unzip = [list(t) for t in zip(*PClist)]\nPC_columns_name = flatten(PClist_unzip[1])\nPCA_df_selected = []\n[PCA_df_selected.extend([x] * len(y)) for x, y in PClist]\n\n\ndef summarize_by_batch(offset_df):\n    \"\"\"\n    DESCRIPTION: summarizes the time evolution of 10 attributes into 41 scalars.\n    RETURNS: dataframe containing summary of processed data for one brand in a\n        fermentor vessel.\n    \"\"\"\n\n    # get all unique batch labels available in offset_df\n    all_batches = offset_df[\"batch\"].unique()\n\n    # get number of batches available in offset_df\n    num_batches = len(all_batches)\n\n    # initialize a pandas dataframe with all elements as NaN (Not a Number)\n    PCA_df = pd.DataFrame(\n        data=np.zeros((num_batches, len(PC_columns_name))), columns=PC_columns_name\n    )\n    PCA_df[:] = np.nan\n\n    # fill PCA_df with summary of time series data per batch\n    for i, batch in enumerate(all_batches):\n\n        # divide offset_df for some given batch into cooling vs primary fermentation stages\n        # ferm_df has rows belonging to fermentation\n        #\n        ferm_df = offset_df[\n            (offset_df[\"batch\"] == batch)\n            & (offset_df[\"Status\"].isin(FERMENTATION_STAGES))\n        ]\n\n        # cool_df has rows belonging to cooling (i.e. \"Cooling_Stage\" is True) \n        # and to the current `batch` for ferm_df above\n        #\n        # TODO: Complete the filter expression\n        # =========== STUDENT BEGIN ==========\n        # cool_df = offset_df[\n        #     (@@@ Your code here @@@ == batch) & (@@@ Your code here @@@ == True)\n        # ]\n        # =========== STUDENT END ==========\n        cool_df = offset_df[\n            (offset_df[\"batch\"] == batch) & (offset_df[\"Cooling_Stage\"] == True)\n        ]\n        # =========== STUDENT SOLUTION ==========\n\n        # store batch, ADF, and column info in PCA_df\n        # select on active components according to PCList\n        #\n        PCA_df.iloc[i, 0] = brand_dictionary[ferm_df[\"Brand\"].iloc[0]]\n        PCA_df.iloc[i, 1] = batch\n        if PCA_df_selected[2]:\n            PCA_df.iloc[i, 2] = ferm_df[\"ADF\"].mean()  # average ADF in precooling stage\n        if PCA_df_selected[3]:\n            PCA_df.iloc[i, 3] = cool_df[\"ADF\"].mean()  # average ADF in cooling stage\n        if PCA_df_selected[4]:\n            # average Volume in cooling stage\n            PCA_df.iloc[i, 4] = cool_df[\"Volume\"].mean()\n\n        if PCA_df_selected[5]:\n            # summaraize data in primary fermentation stages\n            PCA_df.iloc[i, 5] = ferm_df[\"tsf\"].max()  # duration of precooling stages\n        if PCA_df_selected[6]:\n            # average values of temperature and cooling intensity for each zone during precooling\n            PCA_df.iloc[i, 6:9] = [\n                ferm_df[c].mean(axis=0) if position_active[ci] else np.nan\n                for ci, c in enumerate(TIC_OUT_COLUMNS)\n            ]\n        if PCA_df_selected[9]:\n            # average values of temperature and cooling intensity for each zone during precooling\n            PCA_df.iloc[i, 9:12] = [\n                ferm_df[c].mean(axis=0) if position_active[ci] else np.nan\n                for ci, c in enumerate(TIC_PV_COLUMNS)\n            ]\n        if PCA_df_selected[12]:\n            # maximum temperature for each zone during precooling\n            PCA_df.iloc[i, 12:15] = [\n                ferm_df[c].max(axis=0) if position_active[ci] else np.nan\n                for ci, c in enumerate(TIC_PV_COLUMNS)\n            ]\n        if PCA_df_selected[15]:\n            # minimum temperature for each zone during precooling\n            PCA_df.iloc[i, 15:18] = [\n                ferm_df[c].min(axis=0) if position_active[ci] else np.nan\n                for ci, c in enumerate(TIC_PV_COLUMNS)\n            ]\n        if PCA_df_selected[18]:\n            # variance of the temperature of each zone cureing precooling\n            PCA_df.iloc[i, 18:21] = [\n                ferm_df[c].var(axis=0) if position_active[ci] else np.nan\n                for ci, c in enumerate(TIC_PV_COLUMNS)\n            ]\n        if PCA_df_selected[21]:\n            # average of the variance of the temperatures in each zone during precooling\n            PCA_df.iloc[i, 21] = (ferm_df[TIC_PV_COLUMNS].var(axis=1)).mean()\n\n        # summarize data in cooling stages\n        if PCA_df_selected[22]:\n            # duration of cooling stages\n            PCA_df.iloc[i, 22] = cool_df[\"tsf\"].max() - cool_df[\"tsf\"].min()\n        if PCA_df_selected[23]:\n            # average values of temperature and cooling intensity for each zone during cooling\n            PCA_df.iloc[i, 23:26] = [\n                cool_df[c].mean(axis=0) if position_active[ci] else np.nan\n                for ci, c in enumerate(TIC_OUT_COLUMNS)\n            ]\n        if PCA_df_selected[26]:\n            # average values of temperature and cooling intensity for each zone during cooling\n            PCA_df.iloc[i, 26:29] = [\n                cool_df[c].mean(axis=0) if position_active[ci] else np.nan\n                for ci, c in enumerate(TIC_PV_COLUMNS)\n            ]\n        if PCA_df_selected[29]:\n            # maximum temperature for each zone during cooling\n            PCA_df.iloc[i, 29:32] = [  # list(cool_df[TIC_PV_COLUMNS].max(axis=0\n                cool_df[c].max(axis=0) if position_active[ci] else np.nan\n                for ci, c in enumerate(TIC_PV_COLUMNS)\n            ]\n        if PCA_df_selected[32]:\n            # minimum temperature for each zone during cooling\n            PCA_df.iloc[i, 32:35] = [  # list(cool_df[TIC_PV_COLUMNS].min(axis=0))\n                cool_df[c].min(axis=0) if position_active[ci] else np.nan\n                for ci, c in enumerate(TIC_PV_COLUMNS)\n            ]\n        if PCA_df_selected[35]:\n            # variance of the temperature of each zone during cooling\n            PCA_df.iloc[i, 35:38] = [  # list(cool_df[TIC_PV_COLUMNS].var(axis=0))\n                cool_df[c].var(axis=0) if position_active[ci] else np.nan\n                for ci, c in enumerate(TIC_PV_COLUMNS)\n            ]\n        if PCA_df_selected[38]:\n            # average of the variance of the temperatures in each zone during cooling\n            PCA_df.iloc[i, 38] = (cool_df[TIC_PV_COLUMNS].var(axis=1)).mean()\n        if PCA_df_selected[39]:\n            # initial temperature in cooling stage\n            PCA_df.iloc[i, 39:42] = [  # list(cool_df[TIC_PV_COLUMNS].iloc[0])\n                cool_df[c].iloc[0] if position_active[ci] else np.nan\n                for ci, c in enumerate(TIC_PV_COLUMNS)\n            ]\n\n    return PCA_df\nprint(\"--- summarize_by_batch defined ---\")",
   "execution_count": null,
   "outputs": [
    {
     "name": "stdout",
     "text": "--- summarize_by_batch defined ---\n",
     "output_type": "stream"
    }
   ]
  },
  {
   "cell_type": "markdown",
   "source": "---\n## Part 4. Process and Summarize Data \n---\n<a id=’section_4’></a>\n\nRun the cell below to call the previously defined utility functions and  create the dataframe `FeatureDF` which contains a summary of the time series data from `all_brands_df`. \n\nThe columns of `FeatureDF` can be used as input features for Principal Component Analysis (PCA). ",
   "metadata": {
    "papermill": {
     "duration": 0.118854,
     "end_time": "2020-08-14T19:32:50.973351",
     "exception": false,
     "start_time": "2020-08-14T19:32:50.854497",
     "status": "completed"
    },
    "tags": [],
    "cell_id": "00035-3a2e7e8f-1c1e-43ee-8ce0-8facc5c98b76",
    "deepnote_cell_type": "markdown"
   }
  },
  {
   "cell_type": "code",
   "metadata": {
    "execution": {
     "iopub.execute_input": "2020-08-14T19:32:51.258873Z",
     "iopub.status.busy": "2020-08-14T19:32:51.258080Z",
     "iopub.status.idle": "2020-08-14T19:33:29.458746Z",
     "shell.execute_reply": "2020-08-14T19:33:29.459908Z"
    },
    "papermill": {
     "duration": 38.349672,
     "end_time": "2020-08-14T19:33:29.460133",
     "exception": false,
     "start_time": "2020-08-14T19:32:51.110461",
     "status": "completed"
    },
    "tags": [],
    "cell_id": "00036-30120799-2972-45b7-8c37-2b1c232cbaa9",
    "deepnote_output_heights": [
     null,
     177
    ],
    "deepnote_to_be_reexecuted": false,
    "source_hash": "ccd892bd",
    "execution_start": 1638840347877,
    "execution_millis": 47235,
    "output_cleared": false,
    "deepnote_cell_type": "code"
   },
   "source": "# initialize dataframe which will be later saved into .csv format to be analyzed by PCA\nFeatureDF = pd.DataFrame(columns=PC_columns_name)\n\n# initialize batch labels\nlabel_shift = 1\n\ngenerator = ((f, b) for f in FERMENTORS_OF_INTEREST for b in BRANDS_OF_INTEREST)\nfor fermentor, brand in generator:\n    print(f\"\\n===> FV {fermentor}. Brand: {brand}\")\n\n    # create reduced df containing only data from relevant vessel and brand\n    brand_df = all_brands_df[\n        (all_brands_df[\"Asset_Id\"] == fermentor) \n        & (all_brands_df[\"Brand\"] == brand)\n    ]\n    \n    # identify fermentation starts\n    fermentation_starts = brand_df[\n        (brand_df[\"Status\"] == \"Fermentation\")\n        & (brand_df[\"Status\"].shift(1) != \"Fermentation\")\n    ]\n    \n    # dont' consider data not in important brewing stages\n    brand_df = brand_df[brand_df[\"Status\"].isin(IMPORTANT_BREWING_STAGES)]\n    \n    # if fermentation did not occur, there is nothing to analyze\n    N_fermentations = len(fermentation_starts)\n    if N_fermentations == 0:\n        print (\"\\tNo Fermentation data to analyze!\")\n        continue\n    else:\n        print (f\"\\t{N_fermentations} Fermentation starts\")\n        \n    # offset timestamps for brand_df, so t=0 when fermentation starts. \n    offset_df, shift = fermentation_times(brand_df, fermentation_starts, shift=label_shift)\n    \n    # also assign new labels for each brew batch\n    label_shift = shift+1\n    \n    # remove batches with no maturation phases\n    offset_df = no_batch_without_phase(offset_df, offset_df[offset_df[\"Status\"] == \"Maturation\"])\n    \n    # identify cooling starts; relabel relabel all Statuses before \"Cooling\" as \"Pre-cooling\"\n    # if cooling stages do not exist, pca not needed to determine whether batch is bad\n    try:\n        offset_df = organize_by_cooling(offset_df, fermentation_starts)\n    except NoCoolingStagesFound:\n        print (\"\\tNo Cooling data to analyze!\")\n        continue\n        \n    # summarize time series data into compact dataframe\n    FeatureDF = FeatureDF.append(summarize_by_batch(offset_df))\n    \n# clean indices and remove unused columns \nFeatureDF = FeatureDF.reset_index()\nFeatureDF = FeatureDF.drop(columns=\"index\")\nFeatureDF = FeatureDF.dropna(axis=1)\n        \n# write `FeatureDF` to .csv data file\nFeatureDF.to_csv(\"FeatureDF.csv\", sep=\",\", index=False)\n\n# preview processed data\nprint(\"\\n\\nFinished data processing. `FeatureDF` looks like:\")\nFeatureDF.head(5)",
   "execution_count": null,
   "outputs": [
    {
     "name": "stdout",
     "text": "\n===> FV 31. Brand: Realtime Hops\n\t23 Fermentation starts\n\t16 Cooling starts\n\n===> FV 31. Brand: Trois Lacs\n\t8 Fermentation starts\n\t7 Cooling starts\n\n===> FV 31. Brand: Grey Horse\n\t8 Fermentation starts\n\t5 Cooling starts\n\n===> FV 31. Brand: LIT\n\t5 Fermentation starts\n\t3 Cooling starts\n\n===> FV 32. Brand: Realtime Hops\n\t22 Fermentation starts\n\t16 Cooling starts\n\n===> FV 32. Brand: Trois Lacs\n\t9 Fermentation starts\n\t4 Cooling starts\n\n===> FV 32. Brand: Grey Horse\n\t2 Fermentation starts\n\t1 Cooling starts\n\n===> FV 32. Brand: LIT\n\t6 Fermentation starts\n\t3 Cooling starts\n\n===> FV 33. Brand: Realtime Hops\n\t22 Fermentation starts\n\t13 Cooling starts\n\n===> FV 33. Brand: Trois Lacs\n\t8 Fermentation starts\n\t5 Cooling starts\n\n===> FV 33. Brand: Grey Horse\n\t4 Fermentation starts\n\t3 Cooling starts\n\n===> FV 33. Brand: LIT\n\t3 Fermentation starts\n\t1 Cooling starts\n\n===> FV 34. Brand: Realtime Hops\n\t15 Fermentation starts\n\t12 Cooling starts\n\n===> FV 34. Brand: Trois Lacs\n\t9 Fermentation starts\n\t8 Cooling starts\n\n===> FV 34. Brand: Grey Horse\n\t6 Fermentation starts\n\t4 Cooling starts\n\n===> FV 34. Brand: LIT\n\t6 Fermentation starts\n\t4 Cooling starts\n\n===> FV 35. Brand: Realtime Hops\n\t18 Fermentation starts\n\t12 Cooling starts\n\n===> FV 35. Brand: Trois Lacs\n\t7 Fermentation starts\n\t6 Cooling starts\n\n===> FV 35. Brand: Grey Horse\n\t4 Fermentation starts\n\t4 Cooling starts\n\n===> FV 35. Brand: LIT\n\t7 Fermentation starts\n\t2 Cooling starts\n\n===> FV 36. Brand: Realtime Hops\n\t18 Fermentation starts\n\t15 Cooling starts\n\n===> FV 36. Brand: Trois Lacs\n\t11 Fermentation starts\n\t6 Cooling starts\n\n===> FV 36. Brand: Grey Horse\n\t6 Fermentation starts\n\t3 Cooling starts\n\n===> FV 36. Brand: LIT\n\t4 Fermentation starts\n\t3 Cooling starts\n\n\nFinished data processing. `FeatureDF` looks like:\n",
     "output_type": "stream"
    },
    {
     "output_type": "execute_result",
     "execution_count": 17,
     "data": {
      "application/vnd.deepnote.dataframe.v2+json": {
       "row_count": 5,
       "column_count": 10,
       "columns": [
        {
         "name": "Brand",
         "dtype": "float64",
         "stats": {
          "unique_count": 1,
          "nan_count": 0,
          "min": "1.0",
          "max": "1.0",
          "histogram": [
           {
            "bin_start": 0.5,
            "bin_end": 0.6,
            "count": 0
           },
           {
            "bin_start": 0.6,
            "bin_end": 0.7,
            "count": 0
           },
           {
            "bin_start": 0.7,
            "bin_end": 0.8,
            "count": 0
           },
           {
            "bin_start": 0.8,
            "bin_end": 0.9,
            "count": 0
           },
           {
            "bin_start": 0.9,
            "bin_end": 1,
            "count": 0
           },
           {
            "bin_start": 1,
            "bin_end": 1.1,
            "count": 5
           },
           {
            "bin_start": 1.1,
            "bin_end": 1.2000000000000002,
            "count": 0
           },
           {
            "bin_start": 1.2000000000000002,
            "bin_end": 1.3,
            "count": 0
           },
           {
            "bin_start": 1.3,
            "bin_end": 1.4,
            "count": 0
           },
           {
            "bin_start": 1.4,
            "bin_end": 1.5,
            "count": 0
           }
          ]
         }
        },
        {
         "name": "Batch",
         "dtype": "float64",
         "stats": {
          "unique_count": 5,
          "nan_count": 0,
          "min": "2.0",
          "max": "7.0",
          "histogram": [
           {
            "bin_start": 2,
            "bin_end": 2.5,
            "count": 1
           },
           {
            "bin_start": 2.5,
            "bin_end": 3,
            "count": 0
           },
           {
            "bin_start": 3,
            "bin_end": 3.5,
            "count": 1
           },
           {
            "bin_start": 3.5,
            "bin_end": 4,
            "count": 0
           },
           {
            "bin_start": 4,
            "bin_end": 4.5,
            "count": 1
           },
           {
            "bin_start": 4.5,
            "bin_end": 5,
            "count": 0
           },
           {
            "bin_start": 5,
            "bin_end": 5.5,
            "count": 1
           },
           {
            "bin_start": 5.5,
            "bin_end": 6,
            "count": 0
           },
           {
            "bin_start": 6,
            "bin_end": 6.5,
            "count": 0
           },
           {
            "bin_start": 6.5,
            "bin_end": 7,
            "count": 1
           }
          ]
         }
        },
        {
         "name": "FERM_ADF",
         "dtype": "float64",
         "stats": {
          "unique_count": 5,
          "nan_count": 0,
          "min": "0.2554883829784446",
          "max": "0.33468371451948503",
          "histogram": [
           {
            "bin_start": 0.2554883829784446,
            "bin_end": 0.26340791613254866,
            "count": 1
           },
           {
            "bin_start": 0.26340791613254866,
            "bin_end": 0.2713274492866527,
            "count": 0
           },
           {
            "bin_start": 0.2713274492866527,
            "bin_end": 0.27924698244075674,
            "count": 0
           },
           {
            "bin_start": 0.27924698244075674,
            "bin_end": 0.2871665155948608,
            "count": 1
           },
           {
            "bin_start": 0.2871665155948608,
            "bin_end": 0.2950860487489648,
            "count": 1
           },
           {
            "bin_start": 0.2950860487489648,
            "bin_end": 0.30300558190306887,
            "count": 1
           },
           {
            "bin_start": 0.30300558190306887,
            "bin_end": 0.3109251150571729,
            "count": 0
           },
           {
            "bin_start": 0.3109251150571729,
            "bin_end": 0.31884464821127695,
            "count": 0
           },
           {
            "bin_start": 0.31884464821127695,
            "bin_end": 0.326764181365381,
            "count": 0
           },
           {
            "bin_start": 0.326764181365381,
            "bin_end": 0.33468371451948503,
            "count": 1
           }
          ]
         }
        },
        {
         "name": "FERM_Duration",
         "dtype": "float64",
         "stats": {
          "unique_count": 5,
          "nan_count": 0,
          "min": "1.2708333333333333",
          "max": "2.03125",
          "histogram": [
           {
            "bin_start": 1.2708333333333333,
            "bin_end": 1.3468749999999998,
            "count": 2
           },
           {
            "bin_start": 1.3468749999999998,
            "bin_end": 1.4229166666666666,
            "count": 0
           },
           {
            "bin_start": 1.4229166666666666,
            "bin_end": 1.4989583333333334,
            "count": 0
           },
           {
            "bin_start": 1.4989583333333334,
            "bin_end": 1.575,
            "count": 0
           },
           {
            "bin_start": 1.575,
            "bin_end": 1.6510416666666665,
            "count": 1
           },
           {
            "bin_start": 1.6510416666666665,
            "bin_end": 1.7270833333333333,
            "count": 1
           },
           {
            "bin_start": 1.7270833333333333,
            "bin_end": 1.803125,
            "count": 0
           },
           {
            "bin_start": 1.803125,
            "bin_end": 1.8791666666666667,
            "count": 0
           },
           {
            "bin_start": 1.8791666666666667,
            "bin_end": 1.9552083333333332,
            "count": 0
           },
           {
            "bin_start": 1.9552083333333332,
            "bin_end": 2.03125,
            "count": 1
           }
          ]
         }
        },
        {
         "name": "FERM_avg_coolint_bottom",
         "dtype": "float64",
         "stats": {
          "unique_count": 5,
          "nan_count": 0,
          "min": "0.8225207775000001",
          "max": "2.6398309922077923",
          "histogram": [
           {
            "bin_start": 0.8225207775000001,
            "bin_end": 1.0042517989707793,
            "count": 2
           },
           {
            "bin_start": 1.0042517989707793,
            "bin_end": 1.1859828204415586,
            "count": 0
           },
           {
            "bin_start": 1.1859828204415586,
            "bin_end": 1.3677138419123378,
            "count": 0
           },
           {
            "bin_start": 1.3677138419123378,
            "bin_end": 1.5494448633831168,
            "count": 0
           },
           {
            "bin_start": 1.5494448633831168,
            "bin_end": 1.7311758848538963,
            "count": 0
           },
           {
            "bin_start": 1.7311758848538963,
            "bin_end": 1.9129069063246753,
            "count": 0
           },
           {
            "bin_start": 1.9129069063246753,
            "bin_end": 2.0946379277954543,
            "count": 0
           },
           {
            "bin_start": 2.0946379277954543,
            "bin_end": 2.276368949266234,
            "count": 2
           },
           {
            "bin_start": 2.276368949266234,
            "bin_end": 2.4580999707370133,
            "count": 0
           },
           {
            "bin_start": 2.4580999707370133,
            "bin_end": 2.6398309922077923,
            "count": 1
           }
          ]
         }
        },
        {
         "name": "FERM_avg_temp_bottom",
         "dtype": "float64",
         "stats": {
          "unique_count": 5,
          "nan_count": 0,
          "min": "62.8676673622449",
          "max": "62.93818239837398",
          "histogram": [
           {
            "bin_start": 62.8676673622449,
            "bin_end": 62.87471886585781,
            "count": 1
           },
           {
            "bin_start": 62.87471886585781,
            "bin_end": 62.881770369470715,
            "count": 0
           },
           {
            "bin_start": 62.881770369470715,
            "bin_end": 62.88882187308363,
            "count": 0
           },
           {
            "bin_start": 62.88882187308363,
            "bin_end": 62.895873376696535,
            "count": 0
           },
           {
            "bin_start": 62.895873376696535,
            "bin_end": 62.90292488030944,
            "count": 0
           },
           {
            "bin_start": 62.90292488030944,
            "bin_end": 62.90997638392235,
            "count": 1
           },
           {
            "bin_start": 62.90997638392235,
            "bin_end": 62.917027887535255,
            "count": 0
           },
           {
            "bin_start": 62.917027887535255,
            "bin_end": 62.92407939114817,
            "count": 1
           },
           {
            "bin_start": 62.92407939114817,
            "bin_end": 62.931130894761075,
            "count": 1
           },
           {
            "bin_start": 62.931130894761075,
            "bin_end": 62.93818239837398,
            "count": 1
           }
          ]
         }
        },
        {
         "name": "FERM_max_temp_bottom",
         "dtype": "float64",
         "stats": {
          "unique_count": 5,
          "nan_count": 0,
          "min": "63.09661",
          "max": "63.169147",
          "histogram": [
           {
            "bin_start": 63.09661,
            "bin_end": 63.1038637,
            "count": 4
           },
           {
            "bin_start": 63.1038637,
            "bin_end": 63.1111174,
            "count": 0
           },
           {
            "bin_start": 63.1111174,
            "bin_end": 63.1183711,
            "count": 0
           },
           {
            "bin_start": 63.1183711,
            "bin_end": 63.1256248,
            "count": 0
           },
           {
            "bin_start": 63.1256248,
            "bin_end": 63.132878500000004,
            "count": 0
           },
           {
            "bin_start": 63.132878500000004,
            "bin_end": 63.140132200000004,
            "count": 0
           },
           {
            "bin_start": 63.140132200000004,
            "bin_end": 63.1473859,
            "count": 0
           },
           {
            "bin_start": 63.1473859,
            "bin_end": 63.1546396,
            "count": 0
           },
           {
            "bin_start": 63.1546396,
            "bin_end": 63.1618933,
            "count": 0
           },
           {
            "bin_start": 63.1618933,
            "bin_end": 63.169147,
            "count": 1
           }
          ]
         }
        },
        {
         "name": "FERM_min_temp_bottom",
         "dtype": "float64",
         "stats": {
          "unique_count": 5,
          "nan_count": 0,
          "min": "62.600002",
          "max": "62.8",
          "histogram": [
           {
            "bin_start": 62.600002,
            "bin_end": 62.620001800000004,
            "count": 1
           },
           {
            "bin_start": 62.620001800000004,
            "bin_end": 62.640001600000005,
            "count": 0
           },
           {
            "bin_start": 62.640001600000005,
            "bin_end": 62.6600014,
            "count": 0
           },
           {
            "bin_start": 62.6600014,
            "bin_end": 62.6800012,
            "count": 0
           },
           {
            "bin_start": 62.6800012,
            "bin_end": 62.700001,
            "count": 0
           },
           {
            "bin_start": 62.700001,
            "bin_end": 62.7200008,
            "count": 2
           },
           {
            "bin_start": 62.7200008,
            "bin_end": 62.7400006,
            "count": 1
           },
           {
            "bin_start": 62.7400006,
            "bin_end": 62.760000399999996,
            "count": 0
           },
           {
            "bin_start": 62.760000399999996,
            "bin_end": 62.780000199999996,
            "count": 0
           },
           {
            "bin_start": 62.780000199999996,
            "bin_end": 62.8,
            "count": 1
           }
          ]
         }
        },
        {
         "name": "FERM_var_temp_bottom",
         "dtype": "float64",
         "stats": {
          "unique_count": 5,
          "nan_count": 0,
          "min": "0.00754573347592553",
          "max": "0.010177501755698891",
          "histogram": [
           {
            "bin_start": 0.00754573347592553,
            "bin_end": 0.007808910303902866,
            "count": 1
           },
           {
            "bin_start": 0.007808910303902866,
            "bin_end": 0.008072087131880202,
            "count": 2
           },
           {
            "bin_start": 0.008072087131880202,
            "bin_end": 0.008335263959857538,
            "count": 0
           },
           {
            "bin_start": 0.008335263959857538,
            "bin_end": 0.008598440787834874,
            "count": 1
           },
           {
            "bin_start": 0.008598440787834874,
            "bin_end": 0.00886161761581221,
            "count": 0
           },
           {
            "bin_start": 0.00886161761581221,
            "bin_end": 0.009124794443789545,
            "count": 0
           },
           {
            "bin_start": 0.009124794443789545,
            "bin_end": 0.009387971271766882,
            "count": 0
           },
           {
            "bin_start": 0.009387971271766882,
            "bin_end": 0.009651148099744218,
            "count": 0
           },
           {
            "bin_start": 0.009651148099744218,
            "bin_end": 0.009914324927721554,
            "count": 0
           },
           {
            "bin_start": 0.009914324927721554,
            "bin_end": 0.010177501755698891,
            "count": 1
           }
          ]
         }
        },
        {
         "name": "FERM_var_between_zones",
         "dtype": "float64",
         "stats": {
          "unique_count": 5,
          "nan_count": 0,
          "min": "0.019593192380613925",
          "max": "0.030960417448043277",
          "histogram": [
           {
            "bin_start": 0.019593192380613925,
            "bin_end": 0.02072991488735686,
            "count": 1
           },
           {
            "bin_start": 0.02072991488735686,
            "bin_end": 0.021866637394099796,
            "count": 2
           },
           {
            "bin_start": 0.021866637394099796,
            "bin_end": 0.02300335990084273,
            "count": 0
           },
           {
            "bin_start": 0.02300335990084273,
            "bin_end": 0.024140082407585667,
            "count": 0
           },
           {
            "bin_start": 0.024140082407585667,
            "bin_end": 0.0252768049143286,
            "count": 1
           },
           {
            "bin_start": 0.0252768049143286,
            "bin_end": 0.026413527421071534,
            "count": 0
           },
           {
            "bin_start": 0.026413527421071534,
            "bin_end": 0.02755024992781447,
            "count": 0
           },
           {
            "bin_start": 0.02755024992781447,
            "bin_end": 0.028686972434557406,
            "count": 0
           },
           {
            "bin_start": 0.028686972434557406,
            "bin_end": 0.02982369494130034,
            "count": 0
           },
           {
            "bin_start": 0.02982369494130034,
            "bin_end": 0.030960417448043277,
            "count": 1
           }
          ]
         }
        },
        {
         "name": "_deepnote_index_column",
         "dtype": "int64"
        }
       ],
       "rows_top": [
        {
         "Brand": 1,
         "Batch": 2,
         "FERM_ADF": 0.28365972267533873,
         "FERM_Duration": 2.03125,
         "FERM_avg_coolint_bottom": 0.8225207775000001,
         "FERM_avg_temp_bottom": 62.8676673622449,
         "FERM_max_temp_bottom": 63.169147,
         "FERM_min_temp_bottom": 62.600002,
         "FERM_var_temp_bottom": 0.010177501755698891,
         "FERM_var_between_zones": 0.02463866673537762,
         "_deepnote_index_column": 0
        },
        {
         "Brand": 1,
         "Batch": 3,
         "FERM_ADF": 0.33468371451948503,
         "FERM_Duration": 1.59375,
         "FERM_avg_coolint_bottom": 2.6398309922077923,
         "FERM_avg_temp_bottom": 62.92420916233766,
         "FERM_max_temp_bottom": 63.09942,
         "FERM_min_temp_bottom": 62.706245,
         "FERM_var_temp_bottom": 0.008039499991953868,
         "FERM_var_between_zones": 0.030960417448043277,
         "_deepnote_index_column": 1
        },
        {
         "Brand": 1,
         "Batch": 4,
         "FERM_ADF": 0.2554883829784446,
         "FERM_Duration": 1.7083333333333333,
         "FERM_avg_coolint_bottom": 2.1807222275757576,
         "FERM_avg_temp_bottom": 62.90673323636363,
         "FERM_max_temp_bottom": 63.097893,
         "FERM_min_temp_bottom": 62.8,
         "FERM_var_temp_bottom": 0.00754573347592553,
         "FERM_var_between_zones": 0.020850334951361692,
         "_deepnote_index_column": 2
        },
        {
         "Brand": 1,
         "Batch": 5,
         "FERM_ADF": 0.29749393256406376,
         "FERM_Duration": 1.2708333333333333,
         "FERM_avg_coolint_bottom": 2.1788304837398376,
         "FERM_avg_temp_bottom": 62.93818239837398,
         "FERM_max_temp_bottom": 63.09661,
         "FERM_min_temp_bottom": 62.71229,
         "FERM_var_temp_bottom": 0.008588053538258028,
         "FERM_var_between_zones": 0.02080652818961257,
         "_deepnote_index_column": 3
        },
        {
         "Brand": 1,
         "Batch": 7,
         "FERM_ADF": 0.2943380854048896,
         "FERM_Duration": 1.3020833333333333,
         "FERM_avg_coolint_bottom": 0.996787969047619,
         "FERM_avg_temp_bottom": 62.91835613492063,
         "FERM_max_temp_bottom": 63.09723,
         "FERM_min_temp_bottom": 62.73168,
         "FERM_var_temp_bottom": 0.007942029439221636,
         "FERM_var_between_zones": 0.019593192380613925,
         "_deepnote_index_column": 4
        }
       ],
       "rows_bottom": null
      },
      "text/plain": "   Brand  Batch  FERM_ADF  FERM_Duration  FERM_avg_coolint_bottom  \\\n0    1.0    2.0  0.283660       2.031250                 0.822521   \n1    1.0    3.0  0.334684       1.593750                 2.639831   \n2    1.0    4.0  0.255488       1.708333                 2.180722   \n3    1.0    5.0  0.297494       1.270833                 2.178830   \n4    1.0    7.0  0.294338       1.302083                 0.996788   \n\n   FERM_avg_temp_bottom  FERM_max_temp_bottom  FERM_min_temp_bottom  \\\n0             62.867667             63.169147             62.600002   \n1             62.924209             63.099420             62.706245   \n2             62.906733             63.097893             62.800000   \n3             62.938182             63.096610             62.712290   \n4             62.918356             63.097230             62.731680   \n\n   FERM_var_temp_bottom  FERM_var_between_zones  \n0              0.010178                0.024639  \n1              0.008039                0.030960  \n2              0.007546                0.020850  \n3              0.008588                0.020807  \n4              0.007942                0.019593  ",
      "text/html": "<div>\n<style scoped>\n    .dataframe tbody tr th:only-of-type {\n        vertical-align: middle;\n    }\n\n    .dataframe tbody tr th {\n        vertical-align: top;\n    }\n\n    .dataframe thead th {\n        text-align: right;\n    }\n</style>\n<table border=\"1\" class=\"dataframe\">\n  <thead>\n    <tr style=\"text-align: right;\">\n      <th></th>\n      <th>Brand</th>\n      <th>Batch</th>\n      <th>FERM_ADF</th>\n      <th>FERM_Duration</th>\n      <th>FERM_avg_coolint_bottom</th>\n      <th>FERM_avg_temp_bottom</th>\n      <th>FERM_max_temp_bottom</th>\n      <th>FERM_min_temp_bottom</th>\n      <th>FERM_var_temp_bottom</th>\n      <th>FERM_var_between_zones</th>\n    </tr>\n  </thead>\n  <tbody>\n    <tr>\n      <th>0</th>\n      <td>1.0</td>\n      <td>2.0</td>\n      <td>0.283660</td>\n      <td>2.031250</td>\n      <td>0.822521</td>\n      <td>62.867667</td>\n      <td>63.169147</td>\n      <td>62.600002</td>\n      <td>0.010178</td>\n      <td>0.024639</td>\n    </tr>\n    <tr>\n      <th>1</th>\n      <td>1.0</td>\n      <td>3.0</td>\n      <td>0.334684</td>\n      <td>1.593750</td>\n      <td>2.639831</td>\n      <td>62.924209</td>\n      <td>63.099420</td>\n      <td>62.706245</td>\n      <td>0.008039</td>\n      <td>0.030960</td>\n    </tr>\n    <tr>\n      <th>2</th>\n      <td>1.0</td>\n      <td>4.0</td>\n      <td>0.255488</td>\n      <td>1.708333</td>\n      <td>2.180722</td>\n      <td>62.906733</td>\n      <td>63.097893</td>\n      <td>62.800000</td>\n      <td>0.007546</td>\n      <td>0.020850</td>\n    </tr>\n    <tr>\n      <th>3</th>\n      <td>1.0</td>\n      <td>5.0</td>\n      <td>0.297494</td>\n      <td>1.270833</td>\n      <td>2.178830</td>\n      <td>62.938182</td>\n      <td>63.096610</td>\n      <td>62.712290</td>\n      <td>0.008588</td>\n      <td>0.020807</td>\n    </tr>\n    <tr>\n      <th>4</th>\n      <td>1.0</td>\n      <td>7.0</td>\n      <td>0.294338</td>\n      <td>1.302083</td>\n      <td>0.996788</td>\n      <td>62.918356</td>\n      <td>63.097230</td>\n      <td>62.731680</td>\n      <td>0.007942</td>\n      <td>0.019593</td>\n    </tr>\n  </tbody>\n</table>\n</div>"
     },
     "metadata": {}
    }
   ]
  },
  {
   "cell_type": "markdown",
   "source": "---\n## Part 5. Apply PCA to `FeatureDF`\n---\n<a id=’section_5’></a>",
   "metadata": {
    "papermill": {
     "duration": 0.300061,
     "end_time": "2020-08-14T19:33:30.082699",
     "exception": false,
     "start_time": "2020-08-14T19:33:29.782638",
     "status": "completed"
    },
    "tags": [],
    "cell_id": "00037-50dfa781-6711-4929-862e-4ae451e8f1c0",
    "deepnote_cell_type": "markdown"
   }
  },
  {
   "cell_type": "markdown",
   "source": "### 5a. Define and scale the feature space\n<a ia=’section_5a’></a>\nThe feature space `X` contains all the input features (i.e. columns) in `FeatureDF` which can potentially affect the flavor profile of the beers. \n\nWhen PCA is applied on `X`, we obtain new set of coordinates (\"principal components\") which are orthogonal to each other and point in the directions of maximum variance (eigenvectors).\n\nTo prevent any one feature dominating the variance calculations, it is recommended that the feature space `X` be scaled. \n\nIn this case, the feature space `X` is scaled by \"centering\" each feature and normalizing them by their standard deviation. Using sklearn, this can be accomplished using `StandardScaler()`.",
   "metadata": {
    "papermill": {
     "duration": 0.448367,
     "end_time": "2020-08-14T19:33:30.737839",
     "exception": false,
     "start_time": "2020-08-14T19:33:30.289472",
     "status": "completed"
    },
    "tags": [],
    "cell_id": "00038-86ff0800-602a-46d0-90c8-ed93cf95bc1d",
    "deepnote_cell_type": "markdown"
   }
  },
  {
   "cell_type": "code",
   "metadata": {
    "execution": {
     "iopub.execute_input": "2020-08-14T19:33:31.306455Z",
     "iopub.status.busy": "2020-08-14T19:33:31.305016Z",
     "iopub.status.idle": "2020-08-14T19:33:31.309616Z",
     "shell.execute_reply": "2020-08-14T19:33:31.310147Z"
    },
    "papermill": {
     "duration": 0.098679,
     "end_time": "2020-08-14T19:33:31.310287",
     "exception": false,
     "start_time": "2020-08-14T19:33:31.211608",
     "status": "completed"
    },
    "tags": [],
    "cell_id": "00039-8af3827e-a586-4793-be5b-b816f7792250",
    "deepnote_to_be_reexecuted": false,
    "source_hash": "ad913069",
    "execution_start": 1638840395125,
    "execution_millis": 21,
    "output_cleared": false,
    "deepnote_cell_type": "code"
   },
   "source": "# define the feature space (variables which affect beer quality)\nX = FeatureDF.iloc[:, 2:]\n\n# M = number of observations (rows in X),  N = number of components in the feature space (columns in X)\n[M, N] = np.shape(X)\n\n# save unscaled feature space (will only be use for plotting purposes)\nXold = X\n\n# scale the feature space\nX = StandardScaler().fit_transform(X)\nprint(\"--- feature space defined ---\")",
   "execution_count": null,
   "outputs": [
    {
     "name": "stdout",
     "text": "--- feature space defined ---\n",
     "output_type": "stream"
    }
   ]
  },
  {
   "cell_type": "markdown",
   "source": "**>>>>>===================THIS NEXT IMMEDIATE CELL CAN BE IGNORED===================**\n\nRun the cell below to graphically compare the difference between scaled and unscaled features. ",
   "metadata": {
    "papermill": {
     "duration": 0.090908,
     "end_time": "2020-08-14T19:33:31.481152",
     "exception": false,
     "start_time": "2020-08-14T19:33:31.390244",
     "status": "completed"
    },
    "tags": [],
    "cell_id": "00040-18e05df7-031c-4152-bf98-072fcae09983",
    "deepnote_cell_type": "markdown"
   }
  },
  {
   "cell_type": "code",
   "metadata": {
    "execution": {
     "iopub.execute_input": "2020-08-14T19:33:31.654699Z",
     "iopub.status.busy": "2020-08-14T19:33:31.653823Z",
     "iopub.status.idle": "2020-08-14T19:33:31.812709Z",
     "shell.execute_reply": "2020-08-14T19:33:31.813228Z"
    },
    "papermill": {
     "duration": 0.249045,
     "end_time": "2020-08-14T19:33:31.813376",
     "exception": false,
     "start_time": "2020-08-14T19:33:31.564331",
     "status": "completed"
    },
    "tags": [],
    "cell_id": "00041-34e26b86-c632-4d5f-b21f-c396d8601c2d",
    "deepnote_output_heights": [
     527,
     527
    ],
    "deepnote_to_be_reexecuted": false,
    "source_hash": "aa714a8b",
    "execution_start": 1638840395181,
    "execution_millis": 135,
    "output_cleared": false,
    "deepnote_cell_type": "code"
   },
   "source": "# plotting function\ndef create_box_plot_object(feature_matrix, N_features, title, legend):\n    # print(\"cols=\", feature_matrix.columns)\n    plot_objects = []\n    for i in range(N_features):\n        plot_obj = go.Box(y=np.array(feature_matrix)[:, i], name=legend[i])\n        plot_objects.append(plot_obj)\n\n    fig = go.Figure(data=plot_objects, layout=go.Layout(title=title))\n    fig.show()\n    return\n\n# create a plotly object for the unscaled feature space\ncreate_box_plot_object(Xold, N, \"Unscaled Features\", list(Xold.columns))\n\n# create a plotly object for the scaled feature space\ncreate_box_plot_object(X, N, \"Scaled Features\", list(Xold.columns))",
   "execution_count": null,
   "outputs": [
    {
     "data": {
      "text/html": "<html>\n<head><meta charset=\"utf-8\" /></head>\n<body>\n    <div>            <script src=\"https://cdnjs.cloudflare.com/ajax/libs/mathjax/2.7.5/MathJax.js?config=TeX-AMS-MML_SVG\"></script><script type=\"text/javascript\">if (window.MathJax) {MathJax.Hub.Config({SVG: {font: \"STIX-Web\"}});}</script>                <script type=\"text/javascript\">window.PlotlyConfig = {MathJaxConfig: 'local'};</script>\n        <script src=\"https://cdn.plot.ly/plotly-2.4.2.min.js\"></script>                <div id=\"d359310e-c6e9-4161-86b7-5276bb64cba5\" class=\"plotly-graph-div\" style=\"height:525px; width:100%;\"></div>            <script type=\"text/javascript\">                                    window.PLOTLYENV=window.PLOTLYENV || {};                                    if (document.getElementById(\"d359310e-c6e9-4161-86b7-5276bb64cba5\")) {                    Plotly.newPlot(                        \"d359310e-c6e9-4161-86b7-5276bb64cba5\",                        [{\"name\":\"FERM_ADF\",\"type\":\"box\",\"y\":[0.28365972267533873,0.33468371451948503,0.2554883829784446,0.29749393256406376,0.2943380854048896,0.29243200532394237,0.2522832359969228,0.22594595303747117,0.30361034932927383,0.33236920194166103,0.26814497242766705,0.3091312948809635,0.3371848589674344,0.2684851719756425,0.24473850587723822,0.3030855401154477,0.10879994795003373,0.3233662033492129,0.2162540555884962,0.22258843049786,0.26071119725908987,0.15887992104488435,0.32495283895325167,0.2995739844181287,0.26430916030788076,0.3306473235419436,0.4122514356897213,0.2961545213751928,0.2829309578458056,0.29642992838064663,0.3140141626168255,0.3659533741494734,0.40905964952826085,0.3818671163798939,0.33886984405144727,0.2788546029243996,0.23524561895981508,0.22098854768938683,0.308598913823746,0.2370976457322602,0.2821670417679995,0.30574492561936295,0.262601962217399,0.29924571951284845,0.25702404296574877,0.25122444802571575,0.18313033143461369,0.22017524020294016,0.28673675061872445,0.26903139626860567,0.30730051051823026,0.3061503476490903,0.22024177169866632,0.4266061944402116,0.3089772711798292,0.3042298003031857,0.3889532834996405,0.25213603158196357,0.22274274678634745,0.24550481166920504,0.2628837993986156,0.3346897375322503,0.27848516167966203,0.2753046663896708,0.2551226687741415,0.23980737482608008,0.29497463973401983,0.1988712499798239,0.08063144395429292,0.3066284710225773,0.1170383611666077,0.3131565816894454,0.22082508393519037,0.2415663591825419,0.3338926326150562,0.33426398548916647,0.29808435960184015,0.35847645348241514,0.3035042995561879,0.28200979281995764,0.23548902826166962,0.2910634889109993,0.32617960554793457,0.2522964179277026,0.33436592918438507,0.21188428226017259,0.2849534066538884,0.24014104883309403,0.33879458868454654,0.3447221162388857,0.2023250892206133,0.1838504718452389,0.11869628084369788,0.23072411784424823,0.35576720420076485,0.19125738390101787,0.21801124937121308,0.3048449956582725,0.29861891919567257,0.30655759769966384,0.34885638717766515,0.2734895696228015,0.278073741489643,0.31229375190500785,0.4108232302525459,0.4074017769350153,0.3293543488702759,0.2383154504311458,0.23112527136200747,0.24138121848759292,0.23988994166929434,0.25771210971401204,0.24797321677799045,0.258302202839476,0.2334433603704754,0.3982151395791283,0.2483338437344899,0.2315582028796274,0.15960897676575228,0.2070130578694531,0.2981936255993665,0.3008211535681678,0.19029714797757816,0.2747918978391256,0.29676837955055263,0.21917929190660732,0.2686164020994179,0.316361558715982,0.325567399539226,0.32789219857069357,0.2593000291148669,0.2907163413573371,0.2597916621566646,0.28611521301155035,0.16363392035034496,0.26662758189282326,0.26098372415251514,0.2727506818372678,0.23305894068605118,0.1925559399632459,0.27917558908018997,0.22933080888601873,0.3967603216352548,0.2306258553820495,0.17476461047133843,0.28724059677671987,0.2647801898703729,0.3164850016563462,0.23737273761553568,0.4325782255633824,0.2402380862251284,0.2729638170005947,0.2744710044447278,0.3495870981817376,0.32016737530848544,0.3337359788403876]},{\"name\":\"FERM_Duration\",\"type\":\"box\",\"y\":[2.03125,1.59375,1.7083333333333333,1.2708333333333333,1.3020833333333333,1.2708333333333333,1.5208333333333333,1.40625,1.4375,1.3020833333333333,1.8229166666666667,1.0625,1.4791666666666667,2.0625,1.4479166666666667,1.4479166666666667,15.5625,1.0520833333333333,1.25,0.9895833333333334,0.8854166666666666,1.03125,0.96875,1.3958333333333333,1.5625,1.3541666666666667,0.4895833333333333,1.21875,1.7916666666666667,1.4583333333333333,1.7604166666666667,1.9583333333333333,1.8958333333333333,1.375,1.3958333333333333,1.5833333333333333,1.5729166666666667,16.291666666666668,1.3020833333333333,1.5104166666666667,1.4791666666666667,1.3125,1.5104166666666667,1.4375,1.53125,1.4166666666666667,1.8229166666666667,0.9791666666666666,1.0520833333333333,0.96875,0.8958333333333334,1.0520833333333333,1.7916666666666667,0.8541666666666666,1.6041666666666667,2.0833333333333335,2.0,1.4583333333333333,1.5729166666666667,1.1875,1.4895833333333333,1.3020833333333333,1.59375,1.5520833333333333,1.7083333333333333,1.4791666666666667,1.40625,1.6145833333333333,0.96875,1.0520833333333333,0.9375,0.5208333333333334,1.0625,1.4791666666666667,1.25,1.1145833333333333,1.7395833333333333,1.40625,1.6666666666666667,1.6041666666666667,1.6666666666666667,13.739583333333334,1.2083333333333333,1.6041666666666667,1.2708333333333333,1.7916666666666667,1.4270833333333333,1.8229166666666667,1.40625,0.9270833333333334,1.0,1.0104166666666667,1.0,0.96875,0.2708333333333333,1.125,0.9270833333333334,1.3229166666666667,1.1979166666666667,1.1979166666666667,1.0,1.90625,1.8541666666666667,1.6041666666666667,1.0416666666666667,2.0625,1.9583333333333333,1.5833333333333333,1.8229166666666667,1.6666666666666667,1.5729166666666667,1.6145833333333333,1.6770833333333333,1.53125,1.65625,0.8541666666666666,1.2916666666666667,0.96875,1.03125,0.96875,1.0208333333333333,1.03125,1.34375,1.2604166666666667,1.375,110.83333333333333,1.28125,1.7604166666666667,1.6666666666666667,2.0,1.5520833333333333,1.375,1.46875,1.28125,1.7708333333333333,1.4270833333333333,1.3229166666666667,1.4375,1.6354166666666667,1.7291666666666667,1.4895833333333333,1.6979166666666667,0.8333333333333334,13.65625,1.5625,1.4583333333333333,1.2395833333333333,0.9166666666666666,1.1979166666666667,3.125,1.59375,1.3645833333333333,1.1770833333333333,1.2708333333333333,1.4375,1.5]},{\"name\":\"FERM_avg_coolint_bottom\",\"type\":\"box\",\"y\":[0.8225207775000001,2.6398309922077923,2.1807222275757576,2.1788304837398376,0.996787969047619,1.601906295609756,2.7150655081632653,2.8614302622794114,0.371734707913669,3.6200614119047616,13.21802553590909,2.319046630291262,6.0667096523776225,0.8084523969849245,1.4276040542857142,0.34180134500000003,3.45062421464,4.223278597058823,5.677961741818182,21.46761044895833,6.795958282790696,5.068720955599999,7.7455646151702116,2.9434079807407407,5.891675220794702,3.800516036641221,2.502394520833333,2.640623009322034,0.8331301208092486,3.524797321134752,1.8579916761764708,22.250853304444444,22.262507434863387,22.641840071203003,26.809525687999997,24.79663998150327,26.72106772165132,27.12032877511737,26.83147023745238,28.241081545616435,27.360177227811185,30.868957377165355,24.14957662876712,32.89586902302159,65.57891806756757,58.923287156204374,27.77750500965909,74.85210890526317,71.89266920588234,36.20547386989362,36.73019160229886,33.40129947156863,26.2008463116185,24.226857946024094,27.988637832890326,32.50573021467662,51.28514024559586,51.62372877730496,41.70227979796052,55.54170285333043,39.140524028236115,63.080982770634925,40.45520836062987,53.097663346000004,49.80635104775759,70.58715068531468,60.21540476544118,61.77414459935898,65.54165167446807,76.92512016725492,76.23303002087911,79.54801468627451,69.91911575631069,52.33905047342658,72.41980584049587,74.28540359907407,55.76766816928571,55.209220036764705,41.737723315714284,58.34000859896775,36.29578803664596,31.32041007205357,34.17261757333333,40.24369565225806,43.23191358536586,37.412470476069366,44.66065649202898,41.080432099999996,47.792241933823526,37.749073665777786,47.754709305154634,50.20671887244898,52.3216367443299,52.43244996595745,51.37421952962963,53.58567262844038,50.656081541111114,71.81898539140624,39.55548785193966,53.695885537931034,46.92774038659793,29.741092157880438,38.202608731843576,39.13330368064516,41.46022159306931,41.073487802613066,40.050554032804236,36.19753809777778,32.74119812767046,42.06512148571428,43.610268013421056,43.38473848653847,45.50193631604939,61.318624680405414,53.56276663301876,67.39560787951808,47.26746344479999,53.90863040776595,52.566743697300005,78.93660677428723,74.81021744929292,72.60782711196,56.59836330769231,57.64362718983607,62.60097448345865,51.346908571428564,70.37941319435484,52.046570788764704,54.98099630496895,0.0,0.0,0.0,0.0,0.0,0.0,0.0,0.0,0.0,0.0,0.0,0.0,0.0,0.0,0.0,0.0,5.399784555319148,0.0,0.0,0.0,0.12935475083056477,0.0,0.0,0.0,0.0,0.0,0.0]},{\"name\":\"FERM_avg_temp_bottom\",\"type\":\"box\",\"y\":[62.8676673622449,62.92420916233766,62.90673323636363,62.93818239837398,62.91835613492063,62.92307857723577,62.94323070748298,62.936737654411765,62.895459913669065,62.95856983333332,63.00918494318182,62.89223721359223,62.95759125174825,62.951320281407035,62.919425292857134,62.866184464285716,66.06800211599999,67.89843621568627,67.93742979338843,68.04778063541666,67.93957253488372,67.91925936000001,67.95263613829786,62.961737014814815,62.933064953642386,62.90841319847328,62.95151872916667,62.94226353389831,62.90296260693642,62.93751125531914,62.929059870588226,63.07279861904762,63.04992589617486,63.08133118796993,63.10781407407407,63.095722254901965,63.11000561842105,63.11053264788732,63.11479490476191,63.11827010958904,63.15170682517483,63.1414476456693,63.10281266438357,63.14372056834534,63.30248161486486,63.27954457664234,63.11058159659092,68.37206708421051,68.34896179411766,68.14035018085107,68.15682932183908,63.12243053921568,63.10292034682081,63.09450057831324,63.11656214193548,63.13693088557215,63.24923021243523,63.237566106382985,63.19105975,63.25932117391305,63.18015024305555,63.302666746031754,63.188950616883126,63.24606698666666,63.233348296969695,63.345918769230764,63.283352794117654,63.29734348076923,68.0399555638298,68.4074520882353,68.41649436263737,68.42264352941176,68.35909002912622,63.235253405594406,63.39488997520662,63.40015506481481,63.26116626190477,63.27017344852941,63.18235627329193,63.28152194193547,63.16878106832297,63.130916589285725,63.14884403418803,63.18341418709679,63.19150951219513,63.16305847398843,63.19686679710144,63.18468855113636,63.23870522794117,68.17325228888889,68.21590102061856,68.23012234693877,68.24037929896907,68.22879177659576,68.23407796296297,68.2417029174312,68.23168621111111,63.369297546875,63.181928215517246,63.250303905172416,63.21529687628866,63.122842157608694,63.17513053631285,63.17062861935483,63.18540087128713,63.17699879396985,63.165803814814815,63.16326475816994,63.11581126136365,63.18585677018634,63.191127249999994,63.19714432051282,63.20959369753086,63.295257094594604,63.244762775000005,63.30951191566263,63.20707717599999,68.2524740425532,68.25297128,68.49193472340427,68.4524125050505,68.45637518000001,68.2897616923077,63.25171488524591,63.28452102255638,64.37276803401362,63.33687642741936,63.23831356470588,63.2531969068323,62.50417541968911,62.406631346666664,62.392264157894736,62.382511281690135,62.415981233870966,62.34099378362574,62.40286011594203,62.367105960937494,62.37661714388488,62.29421262658229,62.364937047904185,62.34708410416667,62.342777749999996,62.33582439506173,62.323256924812014,66.0672456821192,67.48566397872341,67.34888771666667,67.42421246067416,67.36717181034483,69.31363217275748,62.501263331168815,62.447449863636365,62.41936835964911,62.4029930406504,62.43133109352518,62.35772506206896]},{\"name\":\"FERM_max_temp_bottom\",\"type\":\"box\",\"y\":[63.169147,63.09942,63.097893,63.09661,63.09723,63.199997,63.097305,63.09729,63.09991,63.098236,63.864582,63.09873,63.28919,63.796658,63.173542,63.05978,68.1,68.1,68.17944,69.10098,68.10384,68.1,68.2,63.219883,63.199444,63.199997,63.195137,63.186455,63.120243,63.186214,63.09775,63.30508,63.320126,63.337288,63.372272,63.39981,63.299995,63.299995,63.383205,63.38085,63.646492,63.398464,63.284203,63.378075,63.5,63.5,63.385586,68.68698,68.64805,68.49992,68.47934,63.385345,63.387486,63.390568,63.397343,63.567562,63.830933,63.586803,63.493336,63.56188,63.5,63.590496,63.491566,63.5,63.55626,63.608917,63.589916,63.675644,68.72642,68.69767,68.87965,68.854614,68.73728,63.500988,63.891632,63.82097,63.699997,63.698143,63.436882,63.68922,63.38576,63.398266,63.339546,63.398468,63.39619,63.39223,63.4613,63.5,63.45464,68.46511,68.49256,68.493805,68.498604,68.49525,68.42702,68.492256,68.49445,63.787487,63.492664,63.592754,63.5,63.395058,63.478157,63.398434,63.539776,63.600002,63.398777,63.39564,63.556,63.392433,63.4,63.39755,63.459293,63.588737,63.427452,63.49881,63.396217,68.56378,68.61013,68.88008,68.86572,68.936455,68.833046,63.59688,63.61348,69.08246,63.632725,63.591362,63.59755,62.71566,62.699997,62.678093,62.59799,62.589542,62.792282,62.699997,62.59879,62.542015,62.599308,62.795044,62.681908,62.590992,62.59514,62.776154,67.67516,68.297966,67.670334,67.73612,67.54811,71.42046,62.767307,62.794468,62.672653,62.699997,62.699997,62.57534]},{\"name\":\"FERM_min_temp_bottom\",\"type\":\"box\",\"y\":[62.600002,62.706245,62.8,62.71229,62.73168,62.747646,62.70526,62.71373,62.600002,62.730247,62.600185,62.716473,62.8,62.64694,62.67683,62.70063,61.733437,67.658966,67.62828,67.6,67.700005,67.585594,67.60044,62.728725,62.600002,62.702713,62.787373,62.714912,62.69115,62.70054,62.699997,62.80099,62.704784,62.717735,62.855,62.85659,62.809902,62.835266,62.913654,62.811028,62.88092,62.95608,62.81948,62.80833,63.100006,63.100006,62.883347,68.105316,67.931366,67.68637,67.91495,62.61404,62.722435,62.819466,62.728302,62.74636,62.815582,62.801796,62.813477,62.96305,62.992123,62.921482,62.925957,63.009403,62.817272,63.04193,62.96397,63.005848,65.64988,67.99371,67.89347,68.15534,67.91518,62.825138,62.837303,62.83566,62.821484,62.953594,62.85669,63.001442,62.923923,62.80531,62.906715,62.936207,62.930954,62.89545,62.881523,62.818417,63.019646,67.88804,67.8588,67.938225,67.915,67.706314,67.835304,67.9017,68.0,63.004444,62.97008,63.012253,62.91119,62.718643,62.916405,62.86286,62.915092,62.805523,62.801373,62.92005,62.229652,62.90239,62.861263,62.971497,62.916767,62.98697,62.99922,63.199997,62.906925,67.87037,67.93246,67.975204,67.92627,67.90074,67.16177,62.754288,62.809143,62.872566,62.906364,62.872887,62.736485,62.105778,62.2026,62.103474,62.107403,62.122425,62.1147,62.103363,62.107925,62.10735,62.105946,62.104584,62.101124,62.009502,62.125816,62.090992,61.964195,66.9,66.9,67.100006,67.19566,66.87949,62.201122,62.20431,62.1114,62.21072,62.206398,62.101597]},{\"name\":\"FERM_var_temp_bottom\",\"type\":\"box\",\"y\":[0.010177501755698891,0.008039499991953868,0.00754573347592553,0.008588053538258028,0.007942029439221636,0.00748549175983625,0.008633192812194622,0.008241915819901946,0.007555121011543177,0.009965695398716022,0.06095749129123126,0.007422623176091244,0.010864955082555947,0.04365718229279923,0.008610741014395677,0.007026568550984387,4.34140433119086,0.01489010158813103,0.013470658566715128,0.05689251852036018,0.012641128076886951,0.020827782459444496,0.017684770110206156,0.006004301266387847,0.01148259273003115,0.009490084656083487,0.008388665625010266,0.008652506739276653,0.007663414200088805,0.009488298696248619,0.008445717538681372,0.013699888061162726,0.01968401066079693,0.012319808746729631,0.00807442847486024,0.010684995049033407,0.01001877502507209,0.009126417501172749,0.00996878463827894,0.009729097032319027,0.015496750700497504,0.007999117473183034,0.010123738844004002,0.011821726776913847,0.007093660995285841,0.007131667273157525,0.010710006168962154,0.01754190863233341,0.0185813699048385,0.018533428161612315,0.017186666241918398,0.023985121396825328,0.013838321321507021,0.012082929541125003,0.01209891769186289,0.01756389297633194,0.035919502889043164,0.022875397373867106,0.014741919320970243,0.017449524156934286,0.009686251029877616,0.01336158979807897,0.013817247527623509,0.011067766505261445,0.01875733567247838,0.014011316698727991,0.016894841446120155,0.015622139214767272,0.6887400234054525,0.02470426473647752,0.04194995364225603,0.0211066809579741,0.030379138013793387,0.015815121380017415,0.046449739436757634,0.037685990519874264,0.031700463640218446,0.02061472374454537,0.010581066161649893,0.016725869378678326,0.005924282503339141,0.009819668225890647,0.006575270975412769,0.0077804715539842705,0.006307306696186332,0.007550172935669439,0.010283591738878215,0.01040142005379171,0.007395454914191988,0.015619271982836963,0.013543813726166398,0.01683268138482704,0.022597471604961856,0.017676200506928003,0.020732719562498662,0.021087951037150627,0.015020810548528092,0.02581200594161972,0.00838724761239665,0.012597485716434287,0.012390962180130272,0.009270390767477892,0.008717101366958037,0.009221517556795783,0.016101016147913358,0.03239956584669975,0.019835662148119906,0.012546045722829281,0.04160981081526856,0.007635973800278117,0.009427127643500038,0.011518655709870833,0.0100083560636037,0.018460800588752806,0.010681783257936464,0.007403269293468303,0.014437399002613866,0.02107751273610595,0.024332964059092646,0.05471149427732068,0.059435348220987304,0.07278294681156307,0.11460820334520676,0.022639061006532058,0.020382804811370538,3.214686085743253,0.020246899911384827,0.023348928417170324,0.026783974118497488,0.01321073132195331,0.012072135551704645,0.010942061039937083,0.009676225225806646,0.010600772922701061,0.016484558692288123,0.014711732479315034,0.01008570506931343,0.010674328847399425,0.009298103320515689,0.016015278050877227,0.010305104889884172,0.0144761631969248,0.016833057274166934,0.01803097143021312,3.1950352358219796,0.11088171492007785,0.014476522655616464,0.020206259753955826,0.007640566940346337,3.288931655080323,0.009814804155569425,0.016743780960500464,0.007923403640922599,0.010989960801088619,0.01139808551985358,0.009613414386378031]},{\"name\":\"FERM_var_between_zones\",\"type\":\"box\",\"y\":[0.02463866673537762,0.030960417448043277,0.020850334951361692,0.02080652818961257,0.019593192380613925,0.02061636249361255,0.0253264192939162,0.024836915573649705,0.023378569603503655,0.02116359606060589,0.08973997271558166,0.02500405823106805,0.0302414649926295,0.041473885392010114,0.023135918295385843,0.02680475956491439,0.1379125699152214,0.02731152562503894,0.027406023888952993,0.6886075449148921,0.023559720554054243,0.03082063975560983,0.025657540691031818,0.021349374436049427,0.02490080480333788,0.029174745654969712,0.017049912629889002,0.025176153966339085,0.028206533878662957,0.0304350948120379,0.026065381842488373,0.017450221125091744,0.024525471927133023,0.028427752105461244,0.02988180867436794,0.04539874438898044,0.040507423888918946,0.04346713497288437,0.05029500807666939,0.05969574394928535,0.05339585291150124,0.05390443355139652,0.05796653191892249,0.060322295674352606,0.06315302299511726,0.07037622334102447,0.03948720355414774,0.06035866220350912,0.05039282792755236,0.020704060242868843,0.028699227898869493,0.051608973763748484,0.04425176276457229,0.057435888350188834,0.05955287454550326,0.28104676932107153,0.2807338478723938,0.3255676695791138,0.24554340830777055,0.27305319822864993,0.29066658260434486,0.11684735627916946,0.12094033298658032,0.10505062202963794,0.10910782993267902,0.11653207523887874,0.11520630301464445,0.6025477083801436,0.14295809920249314,0.12095180870985951,0.10079562154841752,2.1687432234804187,2.559069938393104,0.24285062036337338,0.21352171086941055,0.19479350136911114,0.16710924303754573,0.116400968186591,0.06217615627607259,0.0708283518510668,0.07785953413112631,0.07376253113345056,0.07226564842502305,0.07475865348792264,0.0707714160024474,0.07084849763333928,0.05690168439576819,0.06687382009766495,0.08009744287438263,0.10651221788704074,0.0989725600974946,0.10810921180854087,0.11430190618640539,0.08463733875870584,0.11617509234035753,0.10516665954893568,0.10691492441729983,0.08416564494654952,0.06331172030684498,0.07394606211020426,0.06739967465919249,0.08272913967315595,0.08209693395490891,0.07299551422080229,0.07223669663896383,0.5288162230803071,1.0141082793885285,0.5177134319020008,0.053747365746426266,0.05090723409807252,0.05838598394344745,0.06176177280803433,0.06996918002524088,0.16931421699594604,0.06045527568116889,0.07556444327059046,0.3861067162905952,0.04824203703984025,0.05502028758412364,0.25716737004821943,0.1562469053857035,0.28801504044632975,0.3191158320070893,0.38645204472544864,0.9754376699845272,3.272014572351042,0.9212247685165887,0.47722659431961023,0.6041288697426194,0.10378737639024196,0.1448147347442649,0.15712792275220608,0.1573394218014816,0.15056794854666192,0.18074280477678195,0.17936194193207797,0.15430219580752114,0.16480217516328585,0.1724937884495381,0.1830029608542501,0.19246396931850518,0.17423063201461014,0.18106653457960517,0.1886272559949026,0.259842447653061,0.3947219437635544,0.19943824888557696,0.19726998308862884,0.19156838585587013,0.18212550541524555,0.14303850992786393,0.15604782242062923,0.1613978740458342,0.15923805093068613,0.1517182224124083,0.16391347658337976]}],                        {\"template\":{\"data\":{\"bar\":[{\"error_x\":{\"color\":\"#2a3f5f\"},\"error_y\":{\"color\":\"#2a3f5f\"},\"marker\":{\"line\":{\"color\":\"#E5ECF6\",\"width\":0.5},\"pattern\":{\"fillmode\":\"overlay\",\"size\":10,\"solidity\":0.2}},\"type\":\"bar\"}],\"barpolar\":[{\"marker\":{\"line\":{\"color\":\"#E5ECF6\",\"width\":0.5},\"pattern\":{\"fillmode\":\"overlay\",\"size\":10,\"solidity\":0.2}},\"type\":\"barpolar\"}],\"carpet\":[{\"aaxis\":{\"endlinecolor\":\"#2a3f5f\",\"gridcolor\":\"white\",\"linecolor\":\"white\",\"minorgridcolor\":\"white\",\"startlinecolor\":\"#2a3f5f\"},\"baxis\":{\"endlinecolor\":\"#2a3f5f\",\"gridcolor\":\"white\",\"linecolor\":\"white\",\"minorgridcolor\":\"white\",\"startlinecolor\":\"#2a3f5f\"},\"type\":\"carpet\"}],\"choropleth\":[{\"colorbar\":{\"outlinewidth\":0,\"ticks\":\"\"},\"type\":\"choropleth\"}],\"contour\":[{\"colorbar\":{\"outlinewidth\":0,\"ticks\":\"\"},\"colorscale\":[[0.0,\"#0d0887\"],[0.1111111111111111,\"#46039f\"],[0.2222222222222222,\"#7201a8\"],[0.3333333333333333,\"#9c179e\"],[0.4444444444444444,\"#bd3786\"],[0.5555555555555556,\"#d8576b\"],[0.6666666666666666,\"#ed7953\"],[0.7777777777777778,\"#fb9f3a\"],[0.8888888888888888,\"#fdca26\"],[1.0,\"#f0f921\"]],\"type\":\"contour\"}],\"contourcarpet\":[{\"colorbar\":{\"outlinewidth\":0,\"ticks\":\"\"},\"type\":\"contourcarpet\"}],\"heatmap\":[{\"colorbar\":{\"outlinewidth\":0,\"ticks\":\"\"},\"colorscale\":[[0.0,\"#0d0887\"],[0.1111111111111111,\"#46039f\"],[0.2222222222222222,\"#7201a8\"],[0.3333333333333333,\"#9c179e\"],[0.4444444444444444,\"#bd3786\"],[0.5555555555555556,\"#d8576b\"],[0.6666666666666666,\"#ed7953\"],[0.7777777777777778,\"#fb9f3a\"],[0.8888888888888888,\"#fdca26\"],[1.0,\"#f0f921\"]],\"type\":\"heatmap\"}],\"heatmapgl\":[{\"colorbar\":{\"outlinewidth\":0,\"ticks\":\"\"},\"colorscale\":[[0.0,\"#0d0887\"],[0.1111111111111111,\"#46039f\"],[0.2222222222222222,\"#7201a8\"],[0.3333333333333333,\"#9c179e\"],[0.4444444444444444,\"#bd3786\"],[0.5555555555555556,\"#d8576b\"],[0.6666666666666666,\"#ed7953\"],[0.7777777777777778,\"#fb9f3a\"],[0.8888888888888888,\"#fdca26\"],[1.0,\"#f0f921\"]],\"type\":\"heatmapgl\"}],\"histogram\":[{\"marker\":{\"pattern\":{\"fillmode\":\"overlay\",\"size\":10,\"solidity\":0.2}},\"type\":\"histogram\"}],\"histogram2d\":[{\"colorbar\":{\"outlinewidth\":0,\"ticks\":\"\"},\"colorscale\":[[0.0,\"#0d0887\"],[0.1111111111111111,\"#46039f\"],[0.2222222222222222,\"#7201a8\"],[0.3333333333333333,\"#9c179e\"],[0.4444444444444444,\"#bd3786\"],[0.5555555555555556,\"#d8576b\"],[0.6666666666666666,\"#ed7953\"],[0.7777777777777778,\"#fb9f3a\"],[0.8888888888888888,\"#fdca26\"],[1.0,\"#f0f921\"]],\"type\":\"histogram2d\"}],\"histogram2dcontour\":[{\"colorbar\":{\"outlinewidth\":0,\"ticks\":\"\"},\"colorscale\":[[0.0,\"#0d0887\"],[0.1111111111111111,\"#46039f\"],[0.2222222222222222,\"#7201a8\"],[0.3333333333333333,\"#9c179e\"],[0.4444444444444444,\"#bd3786\"],[0.5555555555555556,\"#d8576b\"],[0.6666666666666666,\"#ed7953\"],[0.7777777777777778,\"#fb9f3a\"],[0.8888888888888888,\"#fdca26\"],[1.0,\"#f0f921\"]],\"type\":\"histogram2dcontour\"}],\"mesh3d\":[{\"colorbar\":{\"outlinewidth\":0,\"ticks\":\"\"},\"type\":\"mesh3d\"}],\"parcoords\":[{\"line\":{\"colorbar\":{\"outlinewidth\":0,\"ticks\":\"\"}},\"type\":\"parcoords\"}],\"pie\":[{\"automargin\":true,\"type\":\"pie\"}],\"scatter\":[{\"marker\":{\"colorbar\":{\"outlinewidth\":0,\"ticks\":\"\"}},\"type\":\"scatter\"}],\"scatter3d\":[{\"line\":{\"colorbar\":{\"outlinewidth\":0,\"ticks\":\"\"}},\"marker\":{\"colorbar\":{\"outlinewidth\":0,\"ticks\":\"\"}},\"type\":\"scatter3d\"}],\"scattercarpet\":[{\"marker\":{\"colorbar\":{\"outlinewidth\":0,\"ticks\":\"\"}},\"type\":\"scattercarpet\"}],\"scattergeo\":[{\"marker\":{\"colorbar\":{\"outlinewidth\":0,\"ticks\":\"\"}},\"type\":\"scattergeo\"}],\"scattergl\":[{\"marker\":{\"colorbar\":{\"outlinewidth\":0,\"ticks\":\"\"}},\"type\":\"scattergl\"}],\"scattermapbox\":[{\"marker\":{\"colorbar\":{\"outlinewidth\":0,\"ticks\":\"\"}},\"type\":\"scattermapbox\"}],\"scatterpolar\":[{\"marker\":{\"colorbar\":{\"outlinewidth\":0,\"ticks\":\"\"}},\"type\":\"scatterpolar\"}],\"scatterpolargl\":[{\"marker\":{\"colorbar\":{\"outlinewidth\":0,\"ticks\":\"\"}},\"type\":\"scatterpolargl\"}],\"scatterternary\":[{\"marker\":{\"colorbar\":{\"outlinewidth\":0,\"ticks\":\"\"}},\"type\":\"scatterternary\"}],\"surface\":[{\"colorbar\":{\"outlinewidth\":0,\"ticks\":\"\"},\"colorscale\":[[0.0,\"#0d0887\"],[0.1111111111111111,\"#46039f\"],[0.2222222222222222,\"#7201a8\"],[0.3333333333333333,\"#9c179e\"],[0.4444444444444444,\"#bd3786\"],[0.5555555555555556,\"#d8576b\"],[0.6666666666666666,\"#ed7953\"],[0.7777777777777778,\"#fb9f3a\"],[0.8888888888888888,\"#fdca26\"],[1.0,\"#f0f921\"]],\"type\":\"surface\"}],\"table\":[{\"cells\":{\"fill\":{\"color\":\"#EBF0F8\"},\"line\":{\"color\":\"white\"}},\"header\":{\"fill\":{\"color\":\"#C8D4E3\"},\"line\":{\"color\":\"white\"}},\"type\":\"table\"}]},\"layout\":{\"annotationdefaults\":{\"arrowcolor\":\"#2a3f5f\",\"arrowhead\":0,\"arrowwidth\":1},\"autotypenumbers\":\"strict\",\"coloraxis\":{\"colorbar\":{\"outlinewidth\":0,\"ticks\":\"\"}},\"colorscale\":{\"diverging\":[[0,\"#8e0152\"],[0.1,\"#c51b7d\"],[0.2,\"#de77ae\"],[0.3,\"#f1b6da\"],[0.4,\"#fde0ef\"],[0.5,\"#f7f7f7\"],[0.6,\"#e6f5d0\"],[0.7,\"#b8e186\"],[0.8,\"#7fbc41\"],[0.9,\"#4d9221\"],[1,\"#276419\"]],\"sequential\":[[0.0,\"#0d0887\"],[0.1111111111111111,\"#46039f\"],[0.2222222222222222,\"#7201a8\"],[0.3333333333333333,\"#9c179e\"],[0.4444444444444444,\"#bd3786\"],[0.5555555555555556,\"#d8576b\"],[0.6666666666666666,\"#ed7953\"],[0.7777777777777778,\"#fb9f3a\"],[0.8888888888888888,\"#fdca26\"],[1.0,\"#f0f921\"]],\"sequentialminus\":[[0.0,\"#0d0887\"],[0.1111111111111111,\"#46039f\"],[0.2222222222222222,\"#7201a8\"],[0.3333333333333333,\"#9c179e\"],[0.4444444444444444,\"#bd3786\"],[0.5555555555555556,\"#d8576b\"],[0.6666666666666666,\"#ed7953\"],[0.7777777777777778,\"#fb9f3a\"],[0.8888888888888888,\"#fdca26\"],[1.0,\"#f0f921\"]]},\"colorway\":[\"#636efa\",\"#EF553B\",\"#00cc96\",\"#ab63fa\",\"#FFA15A\",\"#19d3f3\",\"#FF6692\",\"#B6E880\",\"#FF97FF\",\"#FECB52\"],\"font\":{\"color\":\"#2a3f5f\"},\"geo\":{\"bgcolor\":\"white\",\"lakecolor\":\"white\",\"landcolor\":\"#E5ECF6\",\"showlakes\":true,\"showland\":true,\"subunitcolor\":\"white\"},\"hoverlabel\":{\"align\":\"left\"},\"hovermode\":\"closest\",\"mapbox\":{\"style\":\"light\"},\"paper_bgcolor\":\"white\",\"plot_bgcolor\":\"#E5ECF6\",\"polar\":{\"angularaxis\":{\"gridcolor\":\"white\",\"linecolor\":\"white\",\"ticks\":\"\"},\"bgcolor\":\"#E5ECF6\",\"radialaxis\":{\"gridcolor\":\"white\",\"linecolor\":\"white\",\"ticks\":\"\"}},\"scene\":{\"xaxis\":{\"backgroundcolor\":\"#E5ECF6\",\"gridcolor\":\"white\",\"gridwidth\":2,\"linecolor\":\"white\",\"showbackground\":true,\"ticks\":\"\",\"zerolinecolor\":\"white\"},\"yaxis\":{\"backgroundcolor\":\"#E5ECF6\",\"gridcolor\":\"white\",\"gridwidth\":2,\"linecolor\":\"white\",\"showbackground\":true,\"ticks\":\"\",\"zerolinecolor\":\"white\"},\"zaxis\":{\"backgroundcolor\":\"#E5ECF6\",\"gridcolor\":\"white\",\"gridwidth\":2,\"linecolor\":\"white\",\"showbackground\":true,\"ticks\":\"\",\"zerolinecolor\":\"white\"}},\"shapedefaults\":{\"line\":{\"color\":\"#2a3f5f\"}},\"ternary\":{\"aaxis\":{\"gridcolor\":\"white\",\"linecolor\":\"white\",\"ticks\":\"\"},\"baxis\":{\"gridcolor\":\"white\",\"linecolor\":\"white\",\"ticks\":\"\"},\"bgcolor\":\"#E5ECF6\",\"caxis\":{\"gridcolor\":\"white\",\"linecolor\":\"white\",\"ticks\":\"\"}},\"title\":{\"x\":0.05},\"xaxis\":{\"automargin\":true,\"gridcolor\":\"white\",\"linecolor\":\"white\",\"ticks\":\"\",\"title\":{\"standoff\":15},\"zerolinecolor\":\"white\",\"zerolinewidth\":2},\"yaxis\":{\"automargin\":true,\"gridcolor\":\"white\",\"linecolor\":\"white\",\"ticks\":\"\",\"title\":{\"standoff\":15},\"zerolinecolor\":\"white\",\"zerolinewidth\":2}}},\"title\":{\"text\":\"Unscaled Features\"}},                        {\"responsive\": true}                    ).then(function(){\n                            \nvar gd = document.getElementById('d359310e-c6e9-4161-86b7-5276bb64cba5');\nvar x = new MutationObserver(function (mutations, observer) {{\n        var display = window.getComputedStyle(gd).display;\n        if (!display || display === 'none') {{\n            console.log([gd, 'removed!']);\n            Plotly.purge(gd);\n            observer.disconnect();\n        }}\n}});\n\n// Listen for the removal of the full notebook cells\nvar notebookContainer = gd.closest('#notebook-container');\nif (notebookContainer) {{\n    x.observe(notebookContainer, {childList: true});\n}}\n\n// Listen for the clearing of the current output cell\nvar outputEl = gd.closest('.output');\nif (outputEl) {{\n    x.observe(outputEl, {childList: true});\n}}\n\n                        })                };                            </script>        </div>\n</body>\n</html>"
     },
     "metadata": {},
     "output_type": "display_data"
    },
    {
     "data": {
      "text/html": "<html>\n<head><meta charset=\"utf-8\" /></head>\n<body>\n    <div>            <script src=\"https://cdnjs.cloudflare.com/ajax/libs/mathjax/2.7.5/MathJax.js?config=TeX-AMS-MML_SVG\"></script><script type=\"text/javascript\">if (window.MathJax) {MathJax.Hub.Config({SVG: {font: \"STIX-Web\"}});}</script>                <script type=\"text/javascript\">window.PlotlyConfig = {MathJaxConfig: 'local'};</script>\n        <script src=\"https://cdn.plot.ly/plotly-2.4.2.min.js\"></script>                <div id=\"d49b565f-4fec-42f5-889c-215e32c8fd69\" class=\"plotly-graph-div\" style=\"height:525px; width:100%;\"></div>            <script type=\"text/javascript\">                                    window.PLOTLYENV=window.PLOTLYENV || {};                                    if (document.getElementById(\"d49b565f-4fec-42f5-889c-215e32c8fd69\")) {                    Plotly.newPlot(                        \"d49b565f-4fec-42f5-889c-215e32c8fd69\",                        [{\"name\":\"FERM_ADF\",\"type\":\"box\",\"y\":[0.11109459552620474,0.9443093705233715,-0.3489395103629307,0.337005341884636,0.28547079145807197,0.25434476567349346,-0.40127912011355266,-0.831363331519952,0.43688558713044345,0.9065136981923956,-0.1422591439506499,0.5270418692902934,0.9851527156461741,-0.13670373208310502,-0.5244835261562866,0.4283155247889814,-2.744341496162398,0.759495968387567,-0.9896306849820224,-0.8861912131944232,-0.26365167088944835,-1.9265424176123087,0.7854055097629214,0.3709723028166824,-0.2048974287418819,0.8783956605489406,2.2109795977238735,0.3151329412349049,0.09919396600823062,0.3196302997869909,0.6067784284035909,1.4549386151426906,2.1588581683287833,1.7148078388675674,1.012668290514126,0.032627650322416324,-0.6795010649865358,-0.9123170795977344,0.5183481597867875,-0.6492577223016844,0.0867193214365138,0.47174292460990874,-0.23277573895291528,0.3656117820242674,-0.32386239380368265,-0.41856898218262967,-1.5305365484873243,-0.9255982790850874,0.16134203899043567,-0.1277839644422373,0.49714541223686254,0.47836341064146065,-0.9245118289027687,2.445390835460079,0.5245266834170111,0.44700113640824773,1.8305239741379469,-0.40368294798071563,-0.8836712494098724,-0.511969857880724,-0.22817337651427028,0.9444077254941338,0.026594725565197062,-0.025342325450414385,-0.35491157306203186,-0.6050082185759299,0.2958656361762155,-1.2734895117921596,-3.204329295441388,0.4861710996258443,-2.609809340474762,0.5927742497099381,-0.9149864202402506,-0.576284245758013,0.9313911117360865,0.9374552531382617,0.34664693427387483,1.332841528142836,0.43515380890951955,0.08415146772445116,-0.6755262245370383,0.23199708071436193,0.8054384396694046,-0.40106386099540614,0.9391199796718775,-1.060988482930665,0.1322202771153133,-0.5995593678955332,1.0114393807143782,1.1082350911041923,-1.2170887916234794,-1.5187767545449322,-2.582735739982476,-0.7533365568501282,1.2885998596838746,-1.3978228985465464,-0.9609359519872962,0.45704719201545446,0.355376218980923,0.4850137480022198,1.1757471673947821,-0.05498260621920725,0.019876290400361103,0.5786843579018466,2.187657199201612,2.1317853367092097,0.8572815618437409,-0.6293711389220096,-0.7467857750324286,-0.57930756786413,-0.6036599133727398,-0.312626358360035,-0.471661141667364,-0.302990218712971,-0.7089317000805179,1.9817688111334264,-0.4657721530257964,-0.7397160628439997,-1.9146370378788127,-1.1405349078178368,0.34843123299793116,0.39133840364837263,-1.4135034192187996,-0.03371576541515074,0.32515716088092755,-0.9418619778990206,-0.13456076219575527,0.6451110841190073,0.7954411996777523,0.8334048483831432,-0.286695852759096,0.2263282088687604,-0.27866755274772287,0.15119241527820837,-1.8489102622581117,-0.1670379228618445,-0.25920134417099766,-0.06704854221755388,-0.7152092206994528,-1.3766176565005015,0.037869310135921166,-0.776089100666747,1.9580118340339279,-0.754941169354412,-1.6671476221837105,0.16956977751096672,-0.19720558071619845,0.647126890371382,-0.6447655096514656,2.5429132830131453,-0.597974760618682,-0.06356807428988101,-0.03895591044786332,1.1876795776755358,0.7072595460717552,0.9288329771234191]},{\"name\":\"FERM_Duration\",\"type\":\"box\",\"y\":[-0.046135245823651236,-0.09491338534867345,-0.08213815833021526,-0.13091629785523748,-0.1274321450320216,-0.13091629785523748,-0.1030430752695105,-0.11581830228796869,-0.11233414946475281,-0.1274321450320216,-0.06936293131175704,-0.15414398334334328,-0.10768861236713163,-0.04265109300043536,-0.11117276519034751,-0.11117276519034751,1.4625029266288214,-0.15530536761774857,-0.13323906640404803,-0.1622736732641803,-0.17388751600823324,-0.15762813616655916,-0.1645964418129909,-0.11697968656237398,-0.09839753817188931,-0.12162522365999513,-0.2180201184356343,-0.1367232192272639,-0.07284708413497291,-0.11001138091594223,-0.07633123695818879,-0.05426493574448828,-0.061233241390920026,-0.11930245511118455,-0.11697968656237398,-0.09607476962307875,-0.09723615389748402,1.5437998258371919,-0.1274321450320216,-0.10420445954391577,-0.10768861236713163,-0.1262707607576163,-0.10420445954391577,-0.11233414946475281,-0.10188169099510519,-0.11465691801356338,-0.06936293131175704,-0.16343505753858562,-0.15530536761774857,-0.1645964418129909,-0.17272613173382792,-0.15530536761774857,-0.07284708413497291,-0.17737166883144911,-0.09375200107426815,-0.040328324451624764,-0.04961939864686711,-0.11001138091594223,-0.09723615389748402,-0.14020737205047978,-0.10652722809272637,-0.1274321450320216,-0.09491338534867345,-0.09955892244629462,-0.08213815833021526,-0.10768861236713163,-0.11581830228796869,-0.09259061679986287,-0.1645964418129909,-0.15530536761774857,-0.16808059463620675,-0.2145359656124184,-0.15414398334334328,-0.10768861236713163,-0.13323906640404803,-0.14833706197131682,-0.07865400550699939,-0.11581830228796869,-0.0867836954278364,-0.09375200107426815,-0.0867836954278364,1.2592606786078957,-0.13788460350166923,-0.09375200107426815,-0.13091629785523748,-0.07284708413497291,-0.1134955337391581,-0.06936293131175704,-0.11581830228796869,-0.16924197891061205,-0.16111228898977503,-0.1599509047153697,-0.16111228898977503,-0.1645964418129909,-0.24240918819814536,-0.14717567769691153,-0.16924197891061205,-0.125109376483211,-0.1390459877760745,-0.1390459877760745,-0.16111228898977503,-0.06007185711651473,-0.06587877848854116,-0.09375200107426815,-0.15646675189215384,-0.04265109300043536,-0.05426493574448828,-0.09607476962307875,-0.06936293131175704,-0.0867836954278364,-0.09723615389748402,-0.09259061679986287,-0.08562231115343114,-0.10188169099510519,-0.0879450797022417,-0.17737166883144911,-0.12859352930642687,-0.1645964418129909,-0.15762813616655916,-0.1645964418129909,-0.15878952044096445,-0.15762813616655916,-0.12278660793440042,-0.13207768212964274,-0.11930245511118455,12.08452350033961,-0.12975491358083216,-0.07633123695818879,-0.0867836954278364,-0.04961939864686711,-0.09955892244629462,-0.11930245511118455,-0.10884999664153694,-0.12975491358083216,-0.07516985268378351,-0.1134955337391581,-0.125109376483211,-0.11233414946475281,-0.09026784825105227,-0.07981538978140466,-0.10652722809272637,-0.08329954260462054,-0.17969443738025967,1.2499696044126534,-0.09839753817188931,-0.11001138091594223,-0.13440045067845335,-0.17040336318501736,-0.1390459877760745,0.0758101029889043,-0.09491338534867345,-0.12046383938558985,-0.14136875632488508,-0.13091629785523748,-0.11233414946475281,-0.10536584381832106]},{\"name\":\"FERM_avg_coolint_bottom\",\"type\":\"box\",\"y\":[-1.1855424936937777,-1.113741871540941,-1.1318809292921246,-1.1319556707332246,-1.1786573220413648,-1.1547495313011742,-1.1107694098174268,-1.104986643440099,-1.2033527277375757,-1.0750136712492284,-0.6958049979435955,-1.1264158314274269,-0.9783483554251269,-1.1860983253099158,-1.1616360877450953,-1.2045353734207034,-1.0817080132944026,-1.0511809932414682,-0.993707506335568,-0.3698698194221724,-0.949536265478127,-1.0177781724977468,-0.912018000894947,-1.1017477626257193,-0.9852638401806245,-1.0678840385527448,-1.119171887875694,-1.113710579513252,-1.1851233261548115,-1.078777487096822,-1.1446317817281368,-0.3389244563985513,-0.3384640100708092,-0.3234768498866909,-0.158814582651502,-0.23834225210459858,-0.16230949340851383,-0.1465349757679641,-0.15794756925401332,-0.1022548382602974,-0.13705873556063092,0.0015706496055450535,-0.2639072607215925,0.08165247385518659,1.3729362823421147,1.1099770823178263,-0.12057041444966367,1.739313396221699,1.622388057927976,0.21241258578448913,0.23314380675953847,0.1016216680890394,-0.18286306791400264,-0.2608539313478105,-0.11222870815087138,0.06623836957159877,0.8081993803944153,0.8215767702499154,0.4295874425009932,0.9763731137473554,0.3283743108181304,1.2742446517301484,0.38031654513591645,0.8798108670972131,0.7497734806342278,1.5708079582563956,1.1610277216016405,1.2226124136063037,1.3714639138998526,1.8212165832154381,1.7938725983011066,1.9248452629987371,1.5444143777140524,0.8498386170195452,1.6432148479930333,1.716923276344321,0.9853008411871973,0.9632369563146054,0.43098779044677,1.086932165187521,0.21598083368710458,0.01940722153652961,0.13209589265248614,0.37195982984789444,0.49002217549970833,0.26010015533557723,0.5464707822178293,0.40501868630487275,0.6701974752314204,0.27339910575367077,0.6687145880129104,0.7655917260114717,0.8491506130821747,0.8535287639290832,0.811718838967195,0.8990917635627691,0.7833457225064444,1.619476863306848,0.3447692336396176,0.9034461965080414,0.6360416396230963,-0.04299049564847186,0.2913179506751954,0.32808904006743833,0.42002389657045863,0.40474432209959804,0.364328943096608,0.21209904912433653,0.0755415377996529,0.4439230571433695,0.5049706873766483,0.4960601776502676,0.5797091442104222,1.2046151485718721,0.8981867641251433,1.4447123928273244,0.6494638538059921,0.911851593611049,0.8588346128609737,1.9006889752529421,1.7376582948651946,1.6506434334705342,1.018121009848672,1.0594186355618904,1.2552798688445166,0.8106398026119508,1.5626003990985418,0.8382829546148385,0.9542200004859537,-1.2180396992232314,-1.2180396992232314,-1.2180396992232314,-1.2180396992232314,-1.2180396992232314,-1.2180396992232314,-1.2180396992232314,-1.2180396992232314,-1.2180396992232314,-1.2180396992232314,-1.2180396992232314,-1.2180396992232314,-1.2180396992232314,-1.2180396992232314,-1.2180396992232314,-1.2180396992232314,-1.0046980873039184,-1.2180396992232314,-1.2180396992232314,-1.2180396992232314,-1.2129289858662644,-1.2180396992232314,-1.2180396992232314,-1.2180396992232314,-1.2180396992232314,-1.2180396992232314,-1.2180396992232314]},{\"name\":\"FERM_avg_temp_bottom\",\"type\":\"box\",\"y\":[-0.6053625935921768,-0.5791476824851953,-0.5872501809053,-0.5726691632309784,-0.5818613667540461,-0.5796718643806481,-0.5703285767212476,-0.5733390010231912,-0.5924769185017945,-0.5632167794320606,-0.5397497054589689,-0.5939710838078166,-0.5636704867640088,-0.5665779451360399,-0.5813656648093106,-0.6060501210164363,0.8784333050993581,1.727091592096635,1.7451704854379904,1.7963332978989424,1.746163941212871,1.7367459871858777,1.7522207204748805,-0.5617483546408294,-0.5750418036229289,-0.5864712871082249,-0.566485937269829,-0.5707769948739335,-0.5889983869243774,-0.5729803304646703,-0.5768987111863358,-0.5102560060140566,-0.5208606630271021,-0.5062999852392377,-0.49402152038779285,-0.49962774382246283,-0.49300543777017575,-0.4927610870316717,-0.4907849439853027,-0.4891737079533337,-0.4736711854769923,-0.4784277280406652,-0.49634036255820424,-0.4773739153603554,-0.4037663062122059,-0.41440078224718213,-0.4927383925664869,1.9466847266540073,1.9359722427059973,1.8392520306028137,1.846892381907714,-0.4872447758597283,-0.4962904369188476,-0.5001941591669059,-0.48996558617684605,-0.48052186838009897,-0.4284556648588123,-0.4338635843590819,-0.4554256852559308,-0.4237771145174526,-0.46048374414865423,-0.4036804724206516,-0.4564035589189722,-0.42992225563233316,-0.4358191198859702,-0.3836272031313999,-0.41263514899129516,-0.4061485389736628,1.7927052995734818,1.9630905491341588,1.9672828885939238,1.9701338742383185,1.9406680744620535,-0.4349358396726762,-0.36092230499669997,-0.3584812108712446,-0.42292166213340926,-0.41874559069065986,-0.4594609453263469,-0.41348400111710565,-0.46575492236521865,-0.4833103229793686,-0.474998483354202,-0.4589704565851382,-0.45521715853861167,-0.4684081329374899,-0.4527333191956248,-0.4583796133512729,-0.4333354446405231,1.854506688856153,1.8742802494659077,1.8808737927329435,1.8856293025550905,1.8802568901368732,1.8827077655155158,1.886242981996976,1.8815988591474198,-0.37278792003945405,-0.45965940905572206,-0.4279578604094424,-0.4441884393581425,-0.4870539340477375,-0.4628110695225746,-0.4648983280228681,-0.4580493548628367,-0.461944874807817,-0.46713528938450743,-0.4683124918105332,-0.49031372273086726,-0.4578379829380484,-0.4553943897100402,-0.45260464887477514,-0.4468326481367388,-0.40711586629633206,-0.4305269373518753,-0.4005067936008882,-0.44799940243395575,1.891236881857474,1.8914674198920853,2.002259885225417,1.983935894139265,1.98577313970585,1.9085248426599062,-0.42730367682951226,-0.4120935142250923,0.09245884563942694,-0.38781957384467663,-0.4335170344887449,-0.42661655572473456,-0.7738911679667356,-0.8191162792844037,-0.8257774498855417,-0.8302992511426925,-0.8147813189273058,-0.8495483291585468,-0.8208647640876453,-0.8374417388852565,-0.8330319957380824,-0.871237838006228,-0.8384473287722726,-0.8467246268474865,-0.8487212150616802,-0.8519450526703689,-0.8577718058847235,0.8780825938218462,1.5357148145327897,1.4723001806604972,1.5072235730016144,1.480777376109853,2.383229814663271,-0.7752413220398287,-0.8001912752674809,-0.8132109196645193,-0.8208031351793322,-0.8076645450417956,-0.8417910774195585]},{\"name\":\"FERM_max_temp_bottom\",\"type\":\"box\",\"y\":[-0.6011266744378102,-0.6317979656865285,-0.6324696575955003,-0.6330340195596194,-0.6327612959292559,-0.5875564744432173,-0.6327283051675207,-0.632734903319867,-0.6315824260431787,-0.6323187798451549,-0.29522093592113624,-0.6321014806945107,-0.5483225409548019,-0.32509912925768963,-0.599193415800009,-0.649234682956727,1.567841278688166,1.567841278688166,1.602785093520273,2.0081491811383243,1.5695304056891184,1.567841278688166,1.611828961004515,-0.5788090839377891,-0.5877997263264283,-0.5875564744432173,-0.5896942758037921,-0.5935132863824972,-0.6226384105977959,-0.5936192966968808,-0.6325325599812133,-0.5413328982347352,-0.5347145115534155,-0.5271653455142848,-0.5117766947327339,-0.49966336677645884,-0.5435696718805186,-0.5435696718805186,-0.5069675214250904,-0.5080034313436379,-0.3911536722848521,-0.5002554409804392,-0.550516206671918,-0.5092240895279163,-0.4555921078637135,-0.4555921078637135,-0.5059201747091352,1.8260401763486542,1.8089157716228976,1.7437568178076979,1.7347041527869898,-0.5060261850235187,-0.5050844087451251,-0.5037287083761357,-0.5007485428992043,-0.4258731499371433,-0.3100223511437619,-0.4174094799826549,-0.4585234470132751,-0.4283725300463581,-0.4555921078637135,-0.415785014874713,-0.45930202899027456,-0.4555921078637135,-0.4308446377925369,-0.40768204391522056,-0.41604014343214746,-0.37833038313599276,1.8433889182542205,1.8307424595882702,1.9107912438675534,1.8997784877228332,1.848165980553773,-0.45515750956242823,-0.28332226785456366,-0.314404843932939,-0.367618062861491,-0.36843359449163676,-0.48335625318814557,-0.37235861538472553,-0.5058436361419074,-0.5003425365914244,-0.5261721036475827,-0.5002536814731446,-0.5012557208763128,-0.5029976330960397,-0.4726153409201385,-0.4555921078637135,-0.4755449205624087,1.7284447055933747,1.7405193243892123,1.7410669710340496,1.7431779399084135,1.7417025930435226,1.7116897973990803,1.7403856018349706,1.7413506915849926,-0.32913323960292257,-0.4588190442384416,-0.4147917730080109,-0.4555921078637135,-0.5017536614401331,-0.46520033731207144,-0.5002686372851319,-0.43809556734556254,-0.4116035457937204,-0.5001177595347865,-0.5014976531290514,-0.4309590057665613,-0.5029083381009379,-0.4995797901800594,-0.5006574883968081,-0.47349817370422714,-0.4165587582066574,-0.4875042916305746,-0.4561155612832785,-0.5012438442020861,1.771847351734912,1.7922356424885397,1.9109803909015175,1.9046637597208858,1.935778446807352,1.890291224400843,-0.41297684123563877,-0.4056748859711237,2.000002662373333,-0.39720945650934397,-0.4154040815458556,-0.4126821237641195,-0.800605095343736,-0.8074948860249437,-0.8171299479595187,-0.8523654011253781,-0.8560814805274636,-0.7669008533993058,-0.8074948860249437,-0.8520134996668481,-0.876987506301954,-0.8517856434724497,-0.7656859136137296,-0.8154518178791488,-0.8554436591338772,-0.8536190500713949,-0.7739951868032868,1.3809640091354096,1.6549219338625456,1.3788411635868192,1.4077789002754513,1.325077658752488,3.0284346749294886,-0.7778867770578121,-0.7659392826638697,-0.819522877877528,-0.8074948860249437,-0.8074948860249437,-0.8623286111700329]},{\"name\":\"FERM_min_temp_bottom\",\"type\":\"box\",\"y\":[-0.565481915813925,-0.5142487131921915,-0.46903755658139934,-0.511333653283789,-0.5019832791524569,-0.49428404896261935,-0.5147237064113439,-0.5106392469532538,-0.565481915813925,-0.5026743098966647,-0.5653936683427526,-0.5093164993389024,-0.46903755658139934,-0.5428471627981141,-0.5284334091732755,-0.5169564156546722,-0.9833626254127028,1.8740851866592525,1.8592875806461442,1.8456502118769724,1.893875284852952,1.8387032552118896,1.8458623915890868,-0.503408258809914,-0.565481915813925,-0.515951937608482,-0.47512663209229766,-0.5100692550902709,-0.5215279239973757,-0.5169998160503309,-0.5172616651041344,-0.46856015222915404,-0.5149532462817189,-0.5087079293464467,-0.44251509256781396,-0.44174835224451203,-0.46426254860571525,-0.45203135265588834,-0.4142305724904875,-0.46371956143336474,-0.43001577861813567,-0.39377162597702653,-0.4596437820544051,-0.46502060884988683,-0.3243666776930389,-0.3243666776930389,-0.42884541461521025,2.0893270377949578,2.0054437175192605,1.8873001249106713,1.9975274853511367,-0.5587124185444214,-0.5064414642398314,-0.4596505332270632,-0.5036122406695084,-0.494904192393919,-0.46152350141304044,-0.46817147757469835,-0.4625385884448332,-0.3904105064465764,-0.3763907319689966,-0.4104557025214284,-0.40829773840395966,-0.3680578560025467,-0.460708538427894,-0.35237247078491135,-0.38996685795762154,-0.3697721716310605,0.9052504387465476,2.0355076538185854,1.9871692575872801,2.113449942155238,1.9976383974733762,-0.4569153438473329,-0.4510490570341481,-0.45184135536822734,-0.458677399911074,-0.3949704413504394,-0.4417001295826676,-0.3718968621118594,-0.4092785873458414,-0.4664769332375416,-0.4175767429957664,-0.40335491556506115,-0.4058880519916694,-0.42300902585236794,-0.429724995967224,-0.4601563889497959,-0.3631184087499789,1.9845507670492164,1.9704504607263569,2.0087513098950667,1.997551596682059,1.8969176525886204,1.9591200640997488,1.991137982656955,2.0385408592485064,-0.370449217803335,-0.3870204533190216,-0.3666835101400234,-0.41541877887829776,-0.5082700675769121,-0.41290396706319155,-0.43872479134696296,-0.4135371306131867,-0.46637421896781517,-0.46837545943429615,-0.4111462510390156,-0.7440745439490423,-0.41966237312047183,-0.43949490725659224,-0.38633713820070964,-0.41272940102731903,-0.3788756457337603,-0.3729683696580064,-0.2761483558897206,-0.4174754754058951,1.9760298227015745,2.005971273439826,2.0265835680179474,2.0029862906717497,1.9906750451032602,1.634324040882912,-0.49108109976301534,-0.4646285586091038,-0.4340442997884921,-0.4177460045388325,-0.43388950504397666,-0.4996661802509041,-0.8038098840802953,-0.7571197384307813,-0.8049209342091563,-0.8030262658253497,-0.795782257563311,-0.799507458190674,-0.8049744613638005,-0.8027745435305281,-0.803051823836127,-0.8037288700083982,-0.8043856626626984,-0.8060541667624641,-0.8502367339961506,-0.7941470271002186,-0.8109400868603843,-0.872084975397306,1.5080915789767984,1.5080915789767984,1.6045397960222687,1.6506667009814646,1.4982011110328224,-0.7578324693728185,-0.7562951309132666,-0.8010988060314872,-0.7532040582891366,-0.755288241733987,-0.8058260735719475]},{\"name\":\"FERM_var_temp_bottom\",\"type\":\"box\",\"y\":[-0.18084370912637565,-0.1846650969038654,-0.18554763748979047,-0.18368463194228674,-0.1848393122787974,-0.18565531137550112,-0.18360395162076823,-0.18430330610275011,-0.18553085854485304,-0.181222284222755,-0.0900813745751477,-0.18576768043037525,-0.17961497967189446,-0.12100332724818984,-0.18364408116001674,-0.18647557428213268,7.560635997862839,-0.17242057697314878,-0.17495763859061933,-0.09734696131405927,-0.1764403116775357,-0.16180777884873243,-0.16742548655110606,-0.18830273821292481,-0.1785110362622104,-0.18207237382958263,-0.18404101075711501,-0.18356943059925265,-0.18533729917829353,-0.18207556599022523,-0.18393903821000016,-0.17454792200236555,-0.1638521155961134,-0.17701462633983214,-0.18460266698452293,-0.17993663379033406,-0.1811274115997149,-0.18272237947710654,-0.18121676262660497,-0.1816451716688064,-0.17133627407755084,-0.18473727517156938,-0.1809398030291577,-0.1779048802132939,-0.18635565565018244,-0.18628772459035378,-0.17989192981037586,-0.16768083203990525,-0.16582293619094812,-0.16590862554570113,-0.1683157795651123,-0.15616446431583644,-0.17430049135097492,-0.1774380157478247,-0.17740943909983006,-0.1676415380108372,-0.13483337828044614,-0.15814794528841106,-0.17268543265015115,-0.16784595674237585,-0.18172175307899058,-0.17515258420125437,-0.1743381578953798,-0.17925248179887843,-0.16550842128028792,-0.1739912856097615,-0.16883737675307645,-0.171112159138081,1.031994638561837,-0.1548790932675,-0.12405476659178438,-0.1613092856615358,-0.1447360280238343,-0.17076722972779435,-0.11601201062777146,-0.13167602155791455,-0.14237433792398138,-0.16218859236479663,-0.18012239256130896,-0.1691393913744902,-0.1884457608840327,-0.18148328796132948,-0.18728220740496007,-0.18512807505648649,-0.18776115716019606,-0.18553970255844865,-0.18065408769017746,-0.1804434855802597,-0.18581624000863098,-0.17111728392573997,-0.17482688367875357,-0.16894847942029662,-0.1586446998535166,-0.16744080355307508,-0.16197769086594482,-0.1613427628511817,-0.172186952458829,-0.15289915631247275,-0.1840435452620728,-0.17651831646950675,-0.17688744924141508,-0.18246504681748327,-0.18345397647526693,-0.1825524010438054,-0.1702562316593119,-0.14112478767927802,-0.1635810591592473,-0.17661025847169295,-0.12466272569812953,-0.18538634516610522,-0.18218490093899542,-0.17844657858368265,-0.18114603407827626,-0.16603843746818892,-0.17994237443070668,-0.18580227286699358,-0.17322972136043077,-0.16136141989660904,-0.1555427427996907,-0.10124524593013969,-0.09280199858157141,-0.06894497892059571,0.005811986587268557,-0.15857036444672296,-0.1626031159595061,5.546780160678563,-0.16284602751014798,-0.1573015728616778,-0.1511618952052959,-0.17542222323830903,-0.1774573085379153,-0.17947716324531127,-0.18173967284210116,-0.18008716940242675,-0.1695707014525202,-0.1727393875297487,-0.18100778323581557,-0.17995569817711218,-0.18241551439274095,-0.17040947686314425,-0.18061563585458804,-0.17316043562790429,-0.16894780756915342,-0.16680669871132986,5.5116569353474,-0.0008486053552752997,-0.1731597931443132,-0.16291866627196191,-0.18537813555205593,5.679484032119936,-0.18149198182640927,-0.1691073768546655,-0.18487260336357242,-0.17939154892781486,-0.17866208142295742,-0.18185193868685237]},{\"name\":\"FERM_var_between_zones\",\"type\":\"box\",\"y\":[-0.42312890689480204,-0.40694174820721124,-0.43282911978460337,-0.432941289187709,-0.43604809617430024,-0.43342821795760206,-0.4213678820918853,-0.4226212808350919,-0.426355448585944,-0.4320269990562698,-0.2564337588941596,-0.42219330370627595,-0.40878266190557955,-0.38002148802913627,-0.42697676938911727,-0.4175825179343016,-0.13308541589454173,-0.41628491810704393,-0.41604295057886953,1.2769965936536865,-0.4258916025223693,-0.4072996559753667,-0.4205200292037244,-0.4315513042399585,-0.4224576892690216,-0.4115140500887969,-0.4425602910998988,-0.4217526439740425,-0.4139932047373457,-0.40828686307454787,-0.41947573154979595,-0.44153528118882224,-0.42341874785926714,-0.41342676441020704,-0.40970357988563066,-0.36997169038635824,-0.38249616101563044,-0.37491767284627203,-0.3574345624780846,-0.33336350838775386,-0.34949469428517155,-0.34819244813571054,-0.33779124222482126,-0.3317591913780167,-0.32451097258148726,-0.3060156070497201,-0.3851084861777349,-0.3316660730623587,-0.3571840898604493,-0.4332036634871273,-0.41273163707167804,-0.35407008765876197,-0.372908594166643,-0.33914998160637133,-0.33372933263735427,0.2334168561361748,0.23261560512569937,0.3474148465895906,0.14250872565363026,0.21294891780157274,0.25804886888690837,-0.18702394833803213,-0.17654367689443773,-0.21723007603457734,-0.2068413924024477,-0.18783124120077502,-0.19122594724862416,1.0566360805722248,-0.12016608595761102,-0.1765142927313762,-0.22812521744964392,5.066957982055598,6.066409045767895,0.13561370752508264,0.06051556878297781,0.012561052242422486,-0.058325874991749876,-0.18816694736144218,-0.3270122886435271,-0.30485790940046353,-0.2868542157241736,-0.2973447966852423,-0.3011776396806931,-0.29479417560621257,-0.3050036964867478,-0.3048063251179835,-0.340517837533436,-0.31498368561925416,-0.2811239385269315,-0.2134875867849612,-0.23279325741904594,-0.2093984040244565,-0.19354170053290487,-0.2694993081919443,-0.18874531375595213,-0.21693295616636998,-0.21245643658525895,-0.2707071037752202,-0.3241046201824463,-0.2968748564456108,-0.31363720873003015,-0.2743853473303473,-0.27600414167223175,-0.29930878182882414,-0.30125177217603033,0.8678429270508379,2.1104574941754026,0.8394136752743716,-0.34859462810124936,-0.35586692714863866,-0.33671721435004065,-0.3280733382260756,-0.3070578618055287,-0.0526799289573513,-0.33141868942366104,-0.2927309105909138,0.5024281016916745,-0.36269129743405193,-0.3453352481098136,0.1722724607047694,-0.08613943349482185,0.2512594626560307,0.3308945939963206,0.503312332410091,2.0114394658760135,7.891939417002237,1.8726246218774887,0.7357451039414586,1.0606847232739693,-0.2204646796366051,-0.11541207785041566,-0.08388354449092163,-0.08334199060363555,-0.10068068633944456,-0.02341645869541716,-0.02695222703064092,-0.091118959574559,-0.06423323760079216,-0.044538477322013666,-0.017629216086909892,0.00659616898699162,-0.04009120255886707,-0.022587532353904982,-0.0032279272532350573,0.17912213062364735,0.5244878222616556,0.02445416042243844,0.018902207470267187,0.004302982765869223,-0.0198759845974112,-0.11996019027603132,-0.08664919537790222,-0.07295012077338038,-0.07848045581680167,-0.09773535261065318,-0.06650879473555153]}],                        {\"template\":{\"data\":{\"bar\":[{\"error_x\":{\"color\":\"#2a3f5f\"},\"error_y\":{\"color\":\"#2a3f5f\"},\"marker\":{\"line\":{\"color\":\"#E5ECF6\",\"width\":0.5},\"pattern\":{\"fillmode\":\"overlay\",\"size\":10,\"solidity\":0.2}},\"type\":\"bar\"}],\"barpolar\":[{\"marker\":{\"line\":{\"color\":\"#E5ECF6\",\"width\":0.5},\"pattern\":{\"fillmode\":\"overlay\",\"size\":10,\"solidity\":0.2}},\"type\":\"barpolar\"}],\"carpet\":[{\"aaxis\":{\"endlinecolor\":\"#2a3f5f\",\"gridcolor\":\"white\",\"linecolor\":\"white\",\"minorgridcolor\":\"white\",\"startlinecolor\":\"#2a3f5f\"},\"baxis\":{\"endlinecolor\":\"#2a3f5f\",\"gridcolor\":\"white\",\"linecolor\":\"white\",\"minorgridcolor\":\"white\",\"startlinecolor\":\"#2a3f5f\"},\"type\":\"carpet\"}],\"choropleth\":[{\"colorbar\":{\"outlinewidth\":0,\"ticks\":\"\"},\"type\":\"choropleth\"}],\"contour\":[{\"colorbar\":{\"outlinewidth\":0,\"ticks\":\"\"},\"colorscale\":[[0.0,\"#0d0887\"],[0.1111111111111111,\"#46039f\"],[0.2222222222222222,\"#7201a8\"],[0.3333333333333333,\"#9c179e\"],[0.4444444444444444,\"#bd3786\"],[0.5555555555555556,\"#d8576b\"],[0.6666666666666666,\"#ed7953\"],[0.7777777777777778,\"#fb9f3a\"],[0.8888888888888888,\"#fdca26\"],[1.0,\"#f0f921\"]],\"type\":\"contour\"}],\"contourcarpet\":[{\"colorbar\":{\"outlinewidth\":0,\"ticks\":\"\"},\"type\":\"contourcarpet\"}],\"heatmap\":[{\"colorbar\":{\"outlinewidth\":0,\"ticks\":\"\"},\"colorscale\":[[0.0,\"#0d0887\"],[0.1111111111111111,\"#46039f\"],[0.2222222222222222,\"#7201a8\"],[0.3333333333333333,\"#9c179e\"],[0.4444444444444444,\"#bd3786\"],[0.5555555555555556,\"#d8576b\"],[0.6666666666666666,\"#ed7953\"],[0.7777777777777778,\"#fb9f3a\"],[0.8888888888888888,\"#fdca26\"],[1.0,\"#f0f921\"]],\"type\":\"heatmap\"}],\"heatmapgl\":[{\"colorbar\":{\"outlinewidth\":0,\"ticks\":\"\"},\"colorscale\":[[0.0,\"#0d0887\"],[0.1111111111111111,\"#46039f\"],[0.2222222222222222,\"#7201a8\"],[0.3333333333333333,\"#9c179e\"],[0.4444444444444444,\"#bd3786\"],[0.5555555555555556,\"#d8576b\"],[0.6666666666666666,\"#ed7953\"],[0.7777777777777778,\"#fb9f3a\"],[0.8888888888888888,\"#fdca26\"],[1.0,\"#f0f921\"]],\"type\":\"heatmapgl\"}],\"histogram\":[{\"marker\":{\"pattern\":{\"fillmode\":\"overlay\",\"size\":10,\"solidity\":0.2}},\"type\":\"histogram\"}],\"histogram2d\":[{\"colorbar\":{\"outlinewidth\":0,\"ticks\":\"\"},\"colorscale\":[[0.0,\"#0d0887\"],[0.1111111111111111,\"#46039f\"],[0.2222222222222222,\"#7201a8\"],[0.3333333333333333,\"#9c179e\"],[0.4444444444444444,\"#bd3786\"],[0.5555555555555556,\"#d8576b\"],[0.6666666666666666,\"#ed7953\"],[0.7777777777777778,\"#fb9f3a\"],[0.8888888888888888,\"#fdca26\"],[1.0,\"#f0f921\"]],\"type\":\"histogram2d\"}],\"histogram2dcontour\":[{\"colorbar\":{\"outlinewidth\":0,\"ticks\":\"\"},\"colorscale\":[[0.0,\"#0d0887\"],[0.1111111111111111,\"#46039f\"],[0.2222222222222222,\"#7201a8\"],[0.3333333333333333,\"#9c179e\"],[0.4444444444444444,\"#bd3786\"],[0.5555555555555556,\"#d8576b\"],[0.6666666666666666,\"#ed7953\"],[0.7777777777777778,\"#fb9f3a\"],[0.8888888888888888,\"#fdca26\"],[1.0,\"#f0f921\"]],\"type\":\"histogram2dcontour\"}],\"mesh3d\":[{\"colorbar\":{\"outlinewidth\":0,\"ticks\":\"\"},\"type\":\"mesh3d\"}],\"parcoords\":[{\"line\":{\"colorbar\":{\"outlinewidth\":0,\"ticks\":\"\"}},\"type\":\"parcoords\"}],\"pie\":[{\"automargin\":true,\"type\":\"pie\"}],\"scatter\":[{\"marker\":{\"colorbar\":{\"outlinewidth\":0,\"ticks\":\"\"}},\"type\":\"scatter\"}],\"scatter3d\":[{\"line\":{\"colorbar\":{\"outlinewidth\":0,\"ticks\":\"\"}},\"marker\":{\"colorbar\":{\"outlinewidth\":0,\"ticks\":\"\"}},\"type\":\"scatter3d\"}],\"scattercarpet\":[{\"marker\":{\"colorbar\":{\"outlinewidth\":0,\"ticks\":\"\"}},\"type\":\"scattercarpet\"}],\"scattergeo\":[{\"marker\":{\"colorbar\":{\"outlinewidth\":0,\"ticks\":\"\"}},\"type\":\"scattergeo\"}],\"scattergl\":[{\"marker\":{\"colorbar\":{\"outlinewidth\":0,\"ticks\":\"\"}},\"type\":\"scattergl\"}],\"scattermapbox\":[{\"marker\":{\"colorbar\":{\"outlinewidth\":0,\"ticks\":\"\"}},\"type\":\"scattermapbox\"}],\"scatterpolar\":[{\"marker\":{\"colorbar\":{\"outlinewidth\":0,\"ticks\":\"\"}},\"type\":\"scatterpolar\"}],\"scatterpolargl\":[{\"marker\":{\"colorbar\":{\"outlinewidth\":0,\"ticks\":\"\"}},\"type\":\"scatterpolargl\"}],\"scatterternary\":[{\"marker\":{\"colorbar\":{\"outlinewidth\":0,\"ticks\":\"\"}},\"type\":\"scatterternary\"}],\"surface\":[{\"colorbar\":{\"outlinewidth\":0,\"ticks\":\"\"},\"colorscale\":[[0.0,\"#0d0887\"],[0.1111111111111111,\"#46039f\"],[0.2222222222222222,\"#7201a8\"],[0.3333333333333333,\"#9c179e\"],[0.4444444444444444,\"#bd3786\"],[0.5555555555555556,\"#d8576b\"],[0.6666666666666666,\"#ed7953\"],[0.7777777777777778,\"#fb9f3a\"],[0.8888888888888888,\"#fdca26\"],[1.0,\"#f0f921\"]],\"type\":\"surface\"}],\"table\":[{\"cells\":{\"fill\":{\"color\":\"#EBF0F8\"},\"line\":{\"color\":\"white\"}},\"header\":{\"fill\":{\"color\":\"#C8D4E3\"},\"line\":{\"color\":\"white\"}},\"type\":\"table\"}]},\"layout\":{\"annotationdefaults\":{\"arrowcolor\":\"#2a3f5f\",\"arrowhead\":0,\"arrowwidth\":1},\"autotypenumbers\":\"strict\",\"coloraxis\":{\"colorbar\":{\"outlinewidth\":0,\"ticks\":\"\"}},\"colorscale\":{\"diverging\":[[0,\"#8e0152\"],[0.1,\"#c51b7d\"],[0.2,\"#de77ae\"],[0.3,\"#f1b6da\"],[0.4,\"#fde0ef\"],[0.5,\"#f7f7f7\"],[0.6,\"#e6f5d0\"],[0.7,\"#b8e186\"],[0.8,\"#7fbc41\"],[0.9,\"#4d9221\"],[1,\"#276419\"]],\"sequential\":[[0.0,\"#0d0887\"],[0.1111111111111111,\"#46039f\"],[0.2222222222222222,\"#7201a8\"],[0.3333333333333333,\"#9c179e\"],[0.4444444444444444,\"#bd3786\"],[0.5555555555555556,\"#d8576b\"],[0.6666666666666666,\"#ed7953\"],[0.7777777777777778,\"#fb9f3a\"],[0.8888888888888888,\"#fdca26\"],[1.0,\"#f0f921\"]],\"sequentialminus\":[[0.0,\"#0d0887\"],[0.1111111111111111,\"#46039f\"],[0.2222222222222222,\"#7201a8\"],[0.3333333333333333,\"#9c179e\"],[0.4444444444444444,\"#bd3786\"],[0.5555555555555556,\"#d8576b\"],[0.6666666666666666,\"#ed7953\"],[0.7777777777777778,\"#fb9f3a\"],[0.8888888888888888,\"#fdca26\"],[1.0,\"#f0f921\"]]},\"colorway\":[\"#636efa\",\"#EF553B\",\"#00cc96\",\"#ab63fa\",\"#FFA15A\",\"#19d3f3\",\"#FF6692\",\"#B6E880\",\"#FF97FF\",\"#FECB52\"],\"font\":{\"color\":\"#2a3f5f\"},\"geo\":{\"bgcolor\":\"white\",\"lakecolor\":\"white\",\"landcolor\":\"#E5ECF6\",\"showlakes\":true,\"showland\":true,\"subunitcolor\":\"white\"},\"hoverlabel\":{\"align\":\"left\"},\"hovermode\":\"closest\",\"mapbox\":{\"style\":\"light\"},\"paper_bgcolor\":\"white\",\"plot_bgcolor\":\"#E5ECF6\",\"polar\":{\"angularaxis\":{\"gridcolor\":\"white\",\"linecolor\":\"white\",\"ticks\":\"\"},\"bgcolor\":\"#E5ECF6\",\"radialaxis\":{\"gridcolor\":\"white\",\"linecolor\":\"white\",\"ticks\":\"\"}},\"scene\":{\"xaxis\":{\"backgroundcolor\":\"#E5ECF6\",\"gridcolor\":\"white\",\"gridwidth\":2,\"linecolor\":\"white\",\"showbackground\":true,\"ticks\":\"\",\"zerolinecolor\":\"white\"},\"yaxis\":{\"backgroundcolor\":\"#E5ECF6\",\"gridcolor\":\"white\",\"gridwidth\":2,\"linecolor\":\"white\",\"showbackground\":true,\"ticks\":\"\",\"zerolinecolor\":\"white\"},\"zaxis\":{\"backgroundcolor\":\"#E5ECF6\",\"gridcolor\":\"white\",\"gridwidth\":2,\"linecolor\":\"white\",\"showbackground\":true,\"ticks\":\"\",\"zerolinecolor\":\"white\"}},\"shapedefaults\":{\"line\":{\"color\":\"#2a3f5f\"}},\"ternary\":{\"aaxis\":{\"gridcolor\":\"white\",\"linecolor\":\"white\",\"ticks\":\"\"},\"baxis\":{\"gridcolor\":\"white\",\"linecolor\":\"white\",\"ticks\":\"\"},\"bgcolor\":\"#E5ECF6\",\"caxis\":{\"gridcolor\":\"white\",\"linecolor\":\"white\",\"ticks\":\"\"}},\"title\":{\"x\":0.05},\"xaxis\":{\"automargin\":true,\"gridcolor\":\"white\",\"linecolor\":\"white\",\"ticks\":\"\",\"title\":{\"standoff\":15},\"zerolinecolor\":\"white\",\"zerolinewidth\":2},\"yaxis\":{\"automargin\":true,\"gridcolor\":\"white\",\"linecolor\":\"white\",\"ticks\":\"\",\"title\":{\"standoff\":15},\"zerolinecolor\":\"white\",\"zerolinewidth\":2}}},\"title\":{\"text\":\"Scaled Features\"}},                        {\"responsive\": true}                    ).then(function(){\n                            \nvar gd = document.getElementById('d49b565f-4fec-42f5-889c-215e32c8fd69');\nvar x = new MutationObserver(function (mutations, observer) {{\n        var display = window.getComputedStyle(gd).display;\n        if (!display || display === 'none') {{\n            console.log([gd, 'removed!']);\n            Plotly.purge(gd);\n            observer.disconnect();\n        }}\n}});\n\n// Listen for the removal of the full notebook cells\nvar notebookContainer = gd.closest('#notebook-container');\nif (notebookContainer) {{\n    x.observe(notebookContainer, {childList: true});\n}}\n\n// Listen for the clearing of the current output cell\nvar outputEl = gd.closest('.output');\nif (outputEl) {{\n    x.observe(outputEl, {childList: true});\n}}\n\n                        })                };                            </script>        </div>\n</body>\n</html>"
     },
     "metadata": {},
     "output_type": "display_data"
    }
   ]
  },
  {
   "cell_type": "markdown",
   "source": "**===========================END IGNORABLE CELL===========================<<<<<**",
   "metadata": {
    "papermill": {
     "duration": 0.150402,
     "end_time": "2020-08-14T19:33:32.109469",
     "exception": false,
     "start_time": "2020-08-14T19:33:31.959067",
     "status": "completed"
    },
    "tags": [],
    "cell_id": "00042-ad0719d7-6beb-438e-b73b-fdd970d7843d",
    "deepnote_cell_type": "markdown"
   }
  },
  {
   "cell_type": "markdown",
   "source": "### 5b. Apply PCA to the feature space\n<a id=’section_5b’></a>\n\nWhen PCA is applied to the old feature space `X`, we can obtain a covariance (or correlation) matrix and subsequently eigenvectors and eigenvalues.\n\nThe eigenvectors, or \"Principal Axes\", point in the directions of the new feature space, `T`, and in the directions of maximum variance of the old feature space `X`.\n\nThe eigenvalues,`Lambda`, correspond the the magnitude of the Principal Axes. The eigenvalues reflect the amount of variance explained by the Principal Axes.\n\nThe new feature space `T` is a matrix of \"scores\" or \"Principal Components\". Each Principal Component is a linear combination of the input features in `X`.\n\nThe coefficients for these linear combinations are the elements of their corresponding Principal Axes or eigenvectors.",
   "metadata": {
    "papermill": {
     "duration": 0.16644,
     "end_time": "2020-08-14T19:33:32.434408",
     "exception": false,
     "start_time": "2020-08-14T19:33:32.267968",
     "status": "completed"
    },
    "tags": [],
    "cell_id": "00043-fdb37c5f-de7c-4af9-b04f-a6fd76e6af38",
    "deepnote_cell_type": "markdown"
   }
  },
  {
   "cell_type": "code",
   "metadata": {
    "execution": {
     "iopub.execute_input": "2020-08-14T19:33:32.772441Z",
     "iopub.status.busy": "2020-08-14T19:33:32.770723Z",
     "iopub.status.idle": "2020-08-14T19:33:32.773998Z",
     "shell.execute_reply": "2020-08-14T19:33:32.773506Z"
    },
    "papermill": {
     "duration": 0.176071,
     "end_time": "2020-08-14T19:33:32.774106",
     "exception": false,
     "start_time": "2020-08-14T19:33:32.598035",
     "status": "completed"
    },
    "tags": [],
    "cell_id": "00044-5c9b4c49-57ce-4f9a-81ef-aa4fe8967c62",
    "deepnote_to_be_reexecuted": false,
    "source_hash": "b067becd",
    "execution_start": 1638840395350,
    "execution_millis": 14,
    "output_cleared": false,
    "deepnote_cell_type": "code"
   },
   "source": "# obtain maximum number of principal components\nn_comps = min([M, N])\n\n# initialize PCA and get covariance matrix\ncovariance_matrix = PCA(n_components=n_comps)\ncovariance_matrix.fit(X)\n\n# get matrix of principal components (a.k.a PCs or scores)\nT = covariance_matrix.transform(X)\n\n# get eigenvectors\nP = covariance_matrix.components_\n\n# get eigenvalues\nLambda = covariance_matrix.explained_variance_\nprint(\"--- cell ok ---\")",
   "execution_count": null,
   "outputs": [
    {
     "name": "stdout",
     "text": "--- cell ok ---\n",
     "output_type": "stream"
    }
   ]
  },
  {
   "cell_type": "markdown",
   "source": "**>>>>>===================THIS NEXT IMMEDIATE CELL CAN BE IGNORED===================**\n\nVisualize the first $n$ components and how they are related to the input features (columns in `FeatureDF`). A principal component is a linear combination of the input features, and the coefficients are the elements of its eigenvector.",
   "metadata": {
    "papermill": {
     "duration": 0.181698,
     "end_time": "2020-08-14T19:33:33.110015",
     "exception": false,
     "start_time": "2020-08-14T19:33:32.928317",
     "status": "completed"
    },
    "tags": [],
    "cell_id": "00045-6be107bf-21b9-406c-92f4-a91445807825",
    "deepnote_cell_type": "markdown"
   }
  },
  {
   "cell_type": "code",
   "metadata": {
    "execution": {
     "iopub.execute_input": "2020-08-14T19:33:33.404798Z",
     "iopub.status.busy": "2020-08-14T19:33:33.403778Z",
     "iopub.status.idle": "2020-08-14T19:33:33.431395Z",
     "shell.execute_reply": "2020-08-14T19:33:33.431878Z"
    },
    "papermill": {
     "duration": 0.171892,
     "end_time": "2020-08-14T19:33:33.432058",
     "exception": false,
     "start_time": "2020-08-14T19:33:33.260166",
     "status": "completed"
    },
    "tags": [],
    "cell_id": "00046-7f935548-0f89-4241-9a1e-29137b388c33",
    "deepnote_output_heights": [
     611
    ],
    "deepnote_to_be_reexecuted": false,
    "source_hash": "afd5fc15",
    "execution_start": 1638840395351,
    "execution_millis": 287,
    "output_cleared": false,
    "deepnote_cell_type": "code"
   },
   "source": "# appropriate number of princiapl components to use\nfirst_n_components = 3\n\n# initialize plots\nfig = make_subplots(\n    rows=first_n_components, cols=1, shared_xaxes=True, vertical_spacing=0.03\n)\n\nfor i_component in range(first_n_components):\n    plot_object = go.Bar(\n        x=FeatureDF.columns.tolist()[2:],\n        y=P[i_component, :],\n        name=f\"PC{i_component+1}\",\n    )\n\n    fig.append_trace(plot_object, i_component + 1, 1)\n    fig[\"layout\"][f\"yaxis{i_component+1}\"].update(title=\"Coefficients\")\nfig[\"layout\"].update(width=800, height=800, xaxis=dict(tickangle=45))\nfig.show()",
   "execution_count": null,
   "outputs": [
    {
     "data": {
      "text/html": "<html>\n<head><meta charset=\"utf-8\" /></head>\n<body>\n    <div>            <script src=\"https://cdnjs.cloudflare.com/ajax/libs/mathjax/2.7.5/MathJax.js?config=TeX-AMS-MML_SVG\"></script><script type=\"text/javascript\">if (window.MathJax) {MathJax.Hub.Config({SVG: {font: \"STIX-Web\"}});}</script>                <script type=\"text/javascript\">window.PlotlyConfig = {MathJaxConfig: 'local'};</script>\n        <script src=\"https://cdn.plot.ly/plotly-2.4.2.min.js\"></script>                <div id=\"97c44eee-cb63-4445-8ead-a3dd3a142270\" class=\"plotly-graph-div\" style=\"height:800px; width:800px;\"></div>            <script type=\"text/javascript\">                                    window.PLOTLYENV=window.PLOTLYENV || {};                                    if (document.getElementById(\"97c44eee-cb63-4445-8ead-a3dd3a142270\")) {                    Plotly.newPlot(                        \"97c44eee-cb63-4445-8ead-a3dd3a142270\",                        [{\"name\":\"PC1\",\"type\":\"bar\",\"x\":[\"FERM_ADF\",\"FERM_Duration\",\"FERM_avg_coolint_bottom\",\"FERM_avg_temp_bottom\",\"FERM_max_temp_bottom\",\"FERM_min_temp_bottom\",\"FERM_var_temp_bottom\",\"FERM_var_between_zones\"],\"xaxis\":\"x\",\"y\":[-0.21498808580459874,0.11773819890115211,0.24457123574196102,0.5230693435042602,0.5359714203013289,0.4952253792062415,0.175487981431326,0.20782598682221648],\"yaxis\":\"y\"},{\"name\":\"PC2\",\"type\":\"bar\",\"x\":[\"FERM_ADF\",\"FERM_Duration\",\"FERM_avg_coolint_bottom\",\"FERM_avg_temp_bottom\",\"FERM_max_temp_bottom\",\"FERM_min_temp_bottom\",\"FERM_var_temp_bottom\",\"FERM_var_between_zones\"],\"xaxis\":\"x2\",\"y\":[-0.05948321143180798,0.6359467727913826,-0.06028050227320593,-0.18343900454813833,-0.05799572085319127,-0.26957257137485036,0.4866690718099502,0.49180299110393155],\"yaxis\":\"y2\"},{\"name\":\"PC3\",\"type\":\"bar\",\"x\":[\"FERM_ADF\",\"FERM_Duration\",\"FERM_avg_coolint_bottom\",\"FERM_avg_temp_bottom\",\"FERM_max_temp_bottom\",\"FERM_min_temp_bottom\",\"FERM_var_temp_bottom\",\"FERM_var_between_zones\"],\"xaxis\":\"x3\",\"y\":[-0.33438364557059935,-0.059503896728278084,-0.7056484190005962,0.10353027288792183,0.1254563002832016,-0.0024700314119974476,0.42765975344895896,-0.42112991600078575],\"yaxis\":\"y3\"}],                        {\"height\":800,\"template\":{\"data\":{\"bar\":[{\"error_x\":{\"color\":\"#2a3f5f\"},\"error_y\":{\"color\":\"#2a3f5f\"},\"marker\":{\"line\":{\"color\":\"#E5ECF6\",\"width\":0.5},\"pattern\":{\"fillmode\":\"overlay\",\"size\":10,\"solidity\":0.2}},\"type\":\"bar\"}],\"barpolar\":[{\"marker\":{\"line\":{\"color\":\"#E5ECF6\",\"width\":0.5},\"pattern\":{\"fillmode\":\"overlay\",\"size\":10,\"solidity\":0.2}},\"type\":\"barpolar\"}],\"carpet\":[{\"aaxis\":{\"endlinecolor\":\"#2a3f5f\",\"gridcolor\":\"white\",\"linecolor\":\"white\",\"minorgridcolor\":\"white\",\"startlinecolor\":\"#2a3f5f\"},\"baxis\":{\"endlinecolor\":\"#2a3f5f\",\"gridcolor\":\"white\",\"linecolor\":\"white\",\"minorgridcolor\":\"white\",\"startlinecolor\":\"#2a3f5f\"},\"type\":\"carpet\"}],\"choropleth\":[{\"colorbar\":{\"outlinewidth\":0,\"ticks\":\"\"},\"type\":\"choropleth\"}],\"contour\":[{\"colorbar\":{\"outlinewidth\":0,\"ticks\":\"\"},\"colorscale\":[[0.0,\"#0d0887\"],[0.1111111111111111,\"#46039f\"],[0.2222222222222222,\"#7201a8\"],[0.3333333333333333,\"#9c179e\"],[0.4444444444444444,\"#bd3786\"],[0.5555555555555556,\"#d8576b\"],[0.6666666666666666,\"#ed7953\"],[0.7777777777777778,\"#fb9f3a\"],[0.8888888888888888,\"#fdca26\"],[1.0,\"#f0f921\"]],\"type\":\"contour\"}],\"contourcarpet\":[{\"colorbar\":{\"outlinewidth\":0,\"ticks\":\"\"},\"type\":\"contourcarpet\"}],\"heatmap\":[{\"colorbar\":{\"outlinewidth\":0,\"ticks\":\"\"},\"colorscale\":[[0.0,\"#0d0887\"],[0.1111111111111111,\"#46039f\"],[0.2222222222222222,\"#7201a8\"],[0.3333333333333333,\"#9c179e\"],[0.4444444444444444,\"#bd3786\"],[0.5555555555555556,\"#d8576b\"],[0.6666666666666666,\"#ed7953\"],[0.7777777777777778,\"#fb9f3a\"],[0.8888888888888888,\"#fdca26\"],[1.0,\"#f0f921\"]],\"type\":\"heatmap\"}],\"heatmapgl\":[{\"colorbar\":{\"outlinewidth\":0,\"ticks\":\"\"},\"colorscale\":[[0.0,\"#0d0887\"],[0.1111111111111111,\"#46039f\"],[0.2222222222222222,\"#7201a8\"],[0.3333333333333333,\"#9c179e\"],[0.4444444444444444,\"#bd3786\"],[0.5555555555555556,\"#d8576b\"],[0.6666666666666666,\"#ed7953\"],[0.7777777777777778,\"#fb9f3a\"],[0.8888888888888888,\"#fdca26\"],[1.0,\"#f0f921\"]],\"type\":\"heatmapgl\"}],\"histogram\":[{\"marker\":{\"pattern\":{\"fillmode\":\"overlay\",\"size\":10,\"solidity\":0.2}},\"type\":\"histogram\"}],\"histogram2d\":[{\"colorbar\":{\"outlinewidth\":0,\"ticks\":\"\"},\"colorscale\":[[0.0,\"#0d0887\"],[0.1111111111111111,\"#46039f\"],[0.2222222222222222,\"#7201a8\"],[0.3333333333333333,\"#9c179e\"],[0.4444444444444444,\"#bd3786\"],[0.5555555555555556,\"#d8576b\"],[0.6666666666666666,\"#ed7953\"],[0.7777777777777778,\"#fb9f3a\"],[0.8888888888888888,\"#fdca26\"],[1.0,\"#f0f921\"]],\"type\":\"histogram2d\"}],\"histogram2dcontour\":[{\"colorbar\":{\"outlinewidth\":0,\"ticks\":\"\"},\"colorscale\":[[0.0,\"#0d0887\"],[0.1111111111111111,\"#46039f\"],[0.2222222222222222,\"#7201a8\"],[0.3333333333333333,\"#9c179e\"],[0.4444444444444444,\"#bd3786\"],[0.5555555555555556,\"#d8576b\"],[0.6666666666666666,\"#ed7953\"],[0.7777777777777778,\"#fb9f3a\"],[0.8888888888888888,\"#fdca26\"],[1.0,\"#f0f921\"]],\"type\":\"histogram2dcontour\"}],\"mesh3d\":[{\"colorbar\":{\"outlinewidth\":0,\"ticks\":\"\"},\"type\":\"mesh3d\"}],\"parcoords\":[{\"line\":{\"colorbar\":{\"outlinewidth\":0,\"ticks\":\"\"}},\"type\":\"parcoords\"}],\"pie\":[{\"automargin\":true,\"type\":\"pie\"}],\"scatter\":[{\"marker\":{\"colorbar\":{\"outlinewidth\":0,\"ticks\":\"\"}},\"type\":\"scatter\"}],\"scatter3d\":[{\"line\":{\"colorbar\":{\"outlinewidth\":0,\"ticks\":\"\"}},\"marker\":{\"colorbar\":{\"outlinewidth\":0,\"ticks\":\"\"}},\"type\":\"scatter3d\"}],\"scattercarpet\":[{\"marker\":{\"colorbar\":{\"outlinewidth\":0,\"ticks\":\"\"}},\"type\":\"scattercarpet\"}],\"scattergeo\":[{\"marker\":{\"colorbar\":{\"outlinewidth\":0,\"ticks\":\"\"}},\"type\":\"scattergeo\"}],\"scattergl\":[{\"marker\":{\"colorbar\":{\"outlinewidth\":0,\"ticks\":\"\"}},\"type\":\"scattergl\"}],\"scattermapbox\":[{\"marker\":{\"colorbar\":{\"outlinewidth\":0,\"ticks\":\"\"}},\"type\":\"scattermapbox\"}],\"scatterpolar\":[{\"marker\":{\"colorbar\":{\"outlinewidth\":0,\"ticks\":\"\"}},\"type\":\"scatterpolar\"}],\"scatterpolargl\":[{\"marker\":{\"colorbar\":{\"outlinewidth\":0,\"ticks\":\"\"}},\"type\":\"scatterpolargl\"}],\"scatterternary\":[{\"marker\":{\"colorbar\":{\"outlinewidth\":0,\"ticks\":\"\"}},\"type\":\"scatterternary\"}],\"surface\":[{\"colorbar\":{\"outlinewidth\":0,\"ticks\":\"\"},\"colorscale\":[[0.0,\"#0d0887\"],[0.1111111111111111,\"#46039f\"],[0.2222222222222222,\"#7201a8\"],[0.3333333333333333,\"#9c179e\"],[0.4444444444444444,\"#bd3786\"],[0.5555555555555556,\"#d8576b\"],[0.6666666666666666,\"#ed7953\"],[0.7777777777777778,\"#fb9f3a\"],[0.8888888888888888,\"#fdca26\"],[1.0,\"#f0f921\"]],\"type\":\"surface\"}],\"table\":[{\"cells\":{\"fill\":{\"color\":\"#EBF0F8\"},\"line\":{\"color\":\"white\"}},\"header\":{\"fill\":{\"color\":\"#C8D4E3\"},\"line\":{\"color\":\"white\"}},\"type\":\"table\"}]},\"layout\":{\"annotationdefaults\":{\"arrowcolor\":\"#2a3f5f\",\"arrowhead\":0,\"arrowwidth\":1},\"autotypenumbers\":\"strict\",\"coloraxis\":{\"colorbar\":{\"outlinewidth\":0,\"ticks\":\"\"}},\"colorscale\":{\"diverging\":[[0,\"#8e0152\"],[0.1,\"#c51b7d\"],[0.2,\"#de77ae\"],[0.3,\"#f1b6da\"],[0.4,\"#fde0ef\"],[0.5,\"#f7f7f7\"],[0.6,\"#e6f5d0\"],[0.7,\"#b8e186\"],[0.8,\"#7fbc41\"],[0.9,\"#4d9221\"],[1,\"#276419\"]],\"sequential\":[[0.0,\"#0d0887\"],[0.1111111111111111,\"#46039f\"],[0.2222222222222222,\"#7201a8\"],[0.3333333333333333,\"#9c179e\"],[0.4444444444444444,\"#bd3786\"],[0.5555555555555556,\"#d8576b\"],[0.6666666666666666,\"#ed7953\"],[0.7777777777777778,\"#fb9f3a\"],[0.8888888888888888,\"#fdca26\"],[1.0,\"#f0f921\"]],\"sequentialminus\":[[0.0,\"#0d0887\"],[0.1111111111111111,\"#46039f\"],[0.2222222222222222,\"#7201a8\"],[0.3333333333333333,\"#9c179e\"],[0.4444444444444444,\"#bd3786\"],[0.5555555555555556,\"#d8576b\"],[0.6666666666666666,\"#ed7953\"],[0.7777777777777778,\"#fb9f3a\"],[0.8888888888888888,\"#fdca26\"],[1.0,\"#f0f921\"]]},\"colorway\":[\"#636efa\",\"#EF553B\",\"#00cc96\",\"#ab63fa\",\"#FFA15A\",\"#19d3f3\",\"#FF6692\",\"#B6E880\",\"#FF97FF\",\"#FECB52\"],\"font\":{\"color\":\"#2a3f5f\"},\"geo\":{\"bgcolor\":\"white\",\"lakecolor\":\"white\",\"landcolor\":\"#E5ECF6\",\"showlakes\":true,\"showland\":true,\"subunitcolor\":\"white\"},\"hoverlabel\":{\"align\":\"left\"},\"hovermode\":\"closest\",\"mapbox\":{\"style\":\"light\"},\"paper_bgcolor\":\"white\",\"plot_bgcolor\":\"#E5ECF6\",\"polar\":{\"angularaxis\":{\"gridcolor\":\"white\",\"linecolor\":\"white\",\"ticks\":\"\"},\"bgcolor\":\"#E5ECF6\",\"radialaxis\":{\"gridcolor\":\"white\",\"linecolor\":\"white\",\"ticks\":\"\"}},\"scene\":{\"xaxis\":{\"backgroundcolor\":\"#E5ECF6\",\"gridcolor\":\"white\",\"gridwidth\":2,\"linecolor\":\"white\",\"showbackground\":true,\"ticks\":\"\",\"zerolinecolor\":\"white\"},\"yaxis\":{\"backgroundcolor\":\"#E5ECF6\",\"gridcolor\":\"white\",\"gridwidth\":2,\"linecolor\":\"white\",\"showbackground\":true,\"ticks\":\"\",\"zerolinecolor\":\"white\"},\"zaxis\":{\"backgroundcolor\":\"#E5ECF6\",\"gridcolor\":\"white\",\"gridwidth\":2,\"linecolor\":\"white\",\"showbackground\":true,\"ticks\":\"\",\"zerolinecolor\":\"white\"}},\"shapedefaults\":{\"line\":{\"color\":\"#2a3f5f\"}},\"ternary\":{\"aaxis\":{\"gridcolor\":\"white\",\"linecolor\":\"white\",\"ticks\":\"\"},\"baxis\":{\"gridcolor\":\"white\",\"linecolor\":\"white\",\"ticks\":\"\"},\"bgcolor\":\"#E5ECF6\",\"caxis\":{\"gridcolor\":\"white\",\"linecolor\":\"white\",\"ticks\":\"\"}},\"title\":{\"x\":0.05},\"xaxis\":{\"automargin\":true,\"gridcolor\":\"white\",\"linecolor\":\"white\",\"ticks\":\"\",\"title\":{\"standoff\":15},\"zerolinecolor\":\"white\",\"zerolinewidth\":2},\"yaxis\":{\"automargin\":true,\"gridcolor\":\"white\",\"linecolor\":\"white\",\"ticks\":\"\",\"title\":{\"standoff\":15},\"zerolinecolor\":\"white\",\"zerolinewidth\":2}}},\"width\":800,\"xaxis\":{\"anchor\":\"y\",\"domain\":[0.0,1.0],\"matches\":\"x3\",\"showticklabels\":false,\"tickangle\":45},\"xaxis2\":{\"anchor\":\"y2\",\"domain\":[0.0,1.0],\"matches\":\"x3\",\"showticklabels\":false},\"xaxis3\":{\"anchor\":\"y3\",\"domain\":[0.0,1.0]},\"yaxis\":{\"anchor\":\"x\",\"domain\":[0.6866666666666665,0.9999999999999998],\"title\":{\"text\":\"Coefficients\"}},\"yaxis2\":{\"anchor\":\"x2\",\"domain\":[0.34333333333333327,0.6566666666666665],\"title\":{\"text\":\"Coefficients\"}},\"yaxis3\":{\"anchor\":\"x3\",\"domain\":[0.0,0.3133333333333333],\"title\":{\"text\":\"Coefficients\"}}},                        {\"responsive\": true}                    ).then(function(){\n                            \nvar gd = document.getElementById('97c44eee-cb63-4445-8ead-a3dd3a142270');\nvar x = new MutationObserver(function (mutations, observer) {{\n        var display = window.getComputedStyle(gd).display;\n        if (!display || display === 'none') {{\n            console.log([gd, 'removed!']);\n            Plotly.purge(gd);\n            observer.disconnect();\n        }}\n}});\n\n// Listen for the removal of the full notebook cells\nvar notebookContainer = gd.closest('#notebook-container');\nif (notebookContainer) {{\n    x.observe(notebookContainer, {childList: true});\n}}\n\n// Listen for the clearing of the current output cell\nvar outputEl = gd.closest('.output');\nif (outputEl) {{\n    x.observe(outputEl, {childList: true});\n}}\n\n                        })                };                            </script>        </div>\n</body>\n</html>"
     },
     "metadata": {},
     "output_type": "display_data"
    }
   ]
  },
  {
   "cell_type": "markdown",
   "source": "**===========================END IGNORABLE CELL===========================<<<<<**",
   "metadata": {
    "papermill": {
     "duration": 0.14893,
     "end_time": "2020-08-14T19:33:33.717130",
     "exception": false,
     "start_time": "2020-08-14T19:33:33.568200",
     "status": "completed"
    },
    "tags": [],
    "cell_id": "00047-87ea5ce0-f4fc-474a-b061-fd18cf165604",
    "deepnote_cell_type": "markdown"
   }
  },
  {
   "cell_type": "markdown",
   "source": "### 5c. Find number of principal components sufficent to explain data\n<a id=’section_5c’></a>\nThe eigenvalues of the covariance matrix is equivalent to the variance of a component. We want $l$ components which explain most of the variance in the data. A simple and widely used criterion is the cumulative percent variance (CPV).\n\n$ \nCPV(l) = 100 \\left( \n\\frac{\\sum_{j=1}^l \\lambda_j}\n{\\sum_{j=1}^M \\lambda_j} \n\\right) \\%\n$",
   "metadata": {
    "papermill": {
     "duration": 0.166898,
     "end_time": "2020-08-14T19:33:34.023801",
     "exception": false,
     "start_time": "2020-08-14T19:33:33.856903",
     "status": "completed"
    },
    "tags": [],
    "cell_id": "00048-a666febc-7586-4280-8431-d44822057a77",
    "deepnote_cell_type": "markdown"
   }
  },
  {
   "cell_type": "code",
   "metadata": {
    "execution": {
     "iopub.execute_input": "2020-08-14T19:33:34.726456Z",
     "iopub.status.busy": "2020-08-14T19:33:34.725568Z",
     "iopub.status.idle": "2020-08-14T19:33:34.757585Z",
     "shell.execute_reply": "2020-08-14T19:33:34.758525Z"
    },
    "papermill": {
     "duration": 0.436452,
     "end_time": "2020-08-14T19:33:34.758764",
     "exception": false,
     "start_time": "2020-08-14T19:33:34.322312",
     "status": "completed"
    },
    "tags": [],
    "cell_id": "00049-b2f69858-755c-4067-8062-cc19c6258998",
    "deepnote_output_heights": [
     502
    ],
    "deepnote_to_be_reexecuted": false,
    "source_hash": "b9d025de",
    "execution_start": 1638840395633,
    "execution_millis": 55,
    "output_cleared": false,
    "deepnote_cell_type": "code"
   },
   "source": "# compute the variance explained by each component, normalize it, and take the cumulative sum\ncumulative_variance = covariance_matrix.explained_variance_ratio_.cumsum()\n\n# plotly object for cumulative variance data\ndata = go.Scatter(\n    x=[item + 1 for item in range(len(cumulative_variance))],\n    y=[100.0 * item for item in list(cumulative_variance)],\n    mode=\"lines+markers\",\n)\n\n# plotly object for reference CPV\nlines = []\nfor var in [75, 87, 99]:\n    lines.append(\n        go.Scatter(\n            x=[0] + [item + 1 for item in range(len(cumulative_variance))],\n            y=[var] * (len(cumulative_variance) + 1),\n            mode=\"lines\",\n            line=dict(color=\"red\", dash=\"dash\"),\n        )\n    )\n\n# plot layout\nlayout = go.Layout(\n    xaxis=dict(title=\"Number of Principal Components\"),\n    yaxis=dict(title=\"Cumulative Variance (%)\"),\n    height=500,\n    showlegend=False,\n)\n\n# create and show plot\nfig = go.Figure(data=[data] + lines, layout=layout)\nfig.show()",
   "execution_count": null,
   "outputs": [
    {
     "data": {
      "text/html": "<html>\n<head><meta charset=\"utf-8\" /></head>\n<body>\n    <div>            <script src=\"https://cdnjs.cloudflare.com/ajax/libs/mathjax/2.7.5/MathJax.js?config=TeX-AMS-MML_SVG\"></script><script type=\"text/javascript\">if (window.MathJax) {MathJax.Hub.Config({SVG: {font: \"STIX-Web\"}});}</script>                <script type=\"text/javascript\">window.PlotlyConfig = {MathJaxConfig: 'local'};</script>\n        <script src=\"https://cdn.plot.ly/plotly-2.4.2.min.js\"></script>                <div id=\"f7f1fefc-1b6b-490f-a1d5-2805a5536940\" class=\"plotly-graph-div\" style=\"height:500px; width:100%;\"></div>            <script type=\"text/javascript\">                                    window.PLOTLYENV=window.PLOTLYENV || {};                                    if (document.getElementById(\"f7f1fefc-1b6b-490f-a1d5-2805a5536940\")) {                    Plotly.newPlot(                        \"f7f1fefc-1b6b-490f-a1d5-2805a5536940\",                        [{\"mode\":\"lines+markers\",\"type\":\"scatter\",\"x\":[1,2,3,4,5,6,7,8],\"y\":[41.409190875792085,65.11032491044891,78.51874781232135,89.36380156054233,96.07041697491236,99.92008472632851,99.98337843838476,99.99999999999999]},{\"line\":{\"color\":\"red\",\"dash\":\"dash\"},\"mode\":\"lines\",\"type\":\"scatter\",\"x\":[0,1,2,3,4,5,6,7,8],\"y\":[75,75,75,75,75,75,75,75,75]},{\"line\":{\"color\":\"red\",\"dash\":\"dash\"},\"mode\":\"lines\",\"type\":\"scatter\",\"x\":[0,1,2,3,4,5,6,7,8],\"y\":[87,87,87,87,87,87,87,87,87]},{\"line\":{\"color\":\"red\",\"dash\":\"dash\"},\"mode\":\"lines\",\"type\":\"scatter\",\"x\":[0,1,2,3,4,5,6,7,8],\"y\":[99,99,99,99,99,99,99,99,99]}],                        {\"height\":500,\"showlegend\":false,\"template\":{\"data\":{\"bar\":[{\"error_x\":{\"color\":\"#2a3f5f\"},\"error_y\":{\"color\":\"#2a3f5f\"},\"marker\":{\"line\":{\"color\":\"#E5ECF6\",\"width\":0.5},\"pattern\":{\"fillmode\":\"overlay\",\"size\":10,\"solidity\":0.2}},\"type\":\"bar\"}],\"barpolar\":[{\"marker\":{\"line\":{\"color\":\"#E5ECF6\",\"width\":0.5},\"pattern\":{\"fillmode\":\"overlay\",\"size\":10,\"solidity\":0.2}},\"type\":\"barpolar\"}],\"carpet\":[{\"aaxis\":{\"endlinecolor\":\"#2a3f5f\",\"gridcolor\":\"white\",\"linecolor\":\"white\",\"minorgridcolor\":\"white\",\"startlinecolor\":\"#2a3f5f\"},\"baxis\":{\"endlinecolor\":\"#2a3f5f\",\"gridcolor\":\"white\",\"linecolor\":\"white\",\"minorgridcolor\":\"white\",\"startlinecolor\":\"#2a3f5f\"},\"type\":\"carpet\"}],\"choropleth\":[{\"colorbar\":{\"outlinewidth\":0,\"ticks\":\"\"},\"type\":\"choropleth\"}],\"contour\":[{\"colorbar\":{\"outlinewidth\":0,\"ticks\":\"\"},\"colorscale\":[[0.0,\"#0d0887\"],[0.1111111111111111,\"#46039f\"],[0.2222222222222222,\"#7201a8\"],[0.3333333333333333,\"#9c179e\"],[0.4444444444444444,\"#bd3786\"],[0.5555555555555556,\"#d8576b\"],[0.6666666666666666,\"#ed7953\"],[0.7777777777777778,\"#fb9f3a\"],[0.8888888888888888,\"#fdca26\"],[1.0,\"#f0f921\"]],\"type\":\"contour\"}],\"contourcarpet\":[{\"colorbar\":{\"outlinewidth\":0,\"ticks\":\"\"},\"type\":\"contourcarpet\"}],\"heatmap\":[{\"colorbar\":{\"outlinewidth\":0,\"ticks\":\"\"},\"colorscale\":[[0.0,\"#0d0887\"],[0.1111111111111111,\"#46039f\"],[0.2222222222222222,\"#7201a8\"],[0.3333333333333333,\"#9c179e\"],[0.4444444444444444,\"#bd3786\"],[0.5555555555555556,\"#d8576b\"],[0.6666666666666666,\"#ed7953\"],[0.7777777777777778,\"#fb9f3a\"],[0.8888888888888888,\"#fdca26\"],[1.0,\"#f0f921\"]],\"type\":\"heatmap\"}],\"heatmapgl\":[{\"colorbar\":{\"outlinewidth\":0,\"ticks\":\"\"},\"colorscale\":[[0.0,\"#0d0887\"],[0.1111111111111111,\"#46039f\"],[0.2222222222222222,\"#7201a8\"],[0.3333333333333333,\"#9c179e\"],[0.4444444444444444,\"#bd3786\"],[0.5555555555555556,\"#d8576b\"],[0.6666666666666666,\"#ed7953\"],[0.7777777777777778,\"#fb9f3a\"],[0.8888888888888888,\"#fdca26\"],[1.0,\"#f0f921\"]],\"type\":\"heatmapgl\"}],\"histogram\":[{\"marker\":{\"pattern\":{\"fillmode\":\"overlay\",\"size\":10,\"solidity\":0.2}},\"type\":\"histogram\"}],\"histogram2d\":[{\"colorbar\":{\"outlinewidth\":0,\"ticks\":\"\"},\"colorscale\":[[0.0,\"#0d0887\"],[0.1111111111111111,\"#46039f\"],[0.2222222222222222,\"#7201a8\"],[0.3333333333333333,\"#9c179e\"],[0.4444444444444444,\"#bd3786\"],[0.5555555555555556,\"#d8576b\"],[0.6666666666666666,\"#ed7953\"],[0.7777777777777778,\"#fb9f3a\"],[0.8888888888888888,\"#fdca26\"],[1.0,\"#f0f921\"]],\"type\":\"histogram2d\"}],\"histogram2dcontour\":[{\"colorbar\":{\"outlinewidth\":0,\"ticks\":\"\"},\"colorscale\":[[0.0,\"#0d0887\"],[0.1111111111111111,\"#46039f\"],[0.2222222222222222,\"#7201a8\"],[0.3333333333333333,\"#9c179e\"],[0.4444444444444444,\"#bd3786\"],[0.5555555555555556,\"#d8576b\"],[0.6666666666666666,\"#ed7953\"],[0.7777777777777778,\"#fb9f3a\"],[0.8888888888888888,\"#fdca26\"],[1.0,\"#f0f921\"]],\"type\":\"histogram2dcontour\"}],\"mesh3d\":[{\"colorbar\":{\"outlinewidth\":0,\"ticks\":\"\"},\"type\":\"mesh3d\"}],\"parcoords\":[{\"line\":{\"colorbar\":{\"outlinewidth\":0,\"ticks\":\"\"}},\"type\":\"parcoords\"}],\"pie\":[{\"automargin\":true,\"type\":\"pie\"}],\"scatter\":[{\"marker\":{\"colorbar\":{\"outlinewidth\":0,\"ticks\":\"\"}},\"type\":\"scatter\"}],\"scatter3d\":[{\"line\":{\"colorbar\":{\"outlinewidth\":0,\"ticks\":\"\"}},\"marker\":{\"colorbar\":{\"outlinewidth\":0,\"ticks\":\"\"}},\"type\":\"scatter3d\"}],\"scattercarpet\":[{\"marker\":{\"colorbar\":{\"outlinewidth\":0,\"ticks\":\"\"}},\"type\":\"scattercarpet\"}],\"scattergeo\":[{\"marker\":{\"colorbar\":{\"outlinewidth\":0,\"ticks\":\"\"}},\"type\":\"scattergeo\"}],\"scattergl\":[{\"marker\":{\"colorbar\":{\"outlinewidth\":0,\"ticks\":\"\"}},\"type\":\"scattergl\"}],\"scattermapbox\":[{\"marker\":{\"colorbar\":{\"outlinewidth\":0,\"ticks\":\"\"}},\"type\":\"scattermapbox\"}],\"scatterpolar\":[{\"marker\":{\"colorbar\":{\"outlinewidth\":0,\"ticks\":\"\"}},\"type\":\"scatterpolar\"}],\"scatterpolargl\":[{\"marker\":{\"colorbar\":{\"outlinewidth\":0,\"ticks\":\"\"}},\"type\":\"scatterpolargl\"}],\"scatterternary\":[{\"marker\":{\"colorbar\":{\"outlinewidth\":0,\"ticks\":\"\"}},\"type\":\"scatterternary\"}],\"surface\":[{\"colorbar\":{\"outlinewidth\":0,\"ticks\":\"\"},\"colorscale\":[[0.0,\"#0d0887\"],[0.1111111111111111,\"#46039f\"],[0.2222222222222222,\"#7201a8\"],[0.3333333333333333,\"#9c179e\"],[0.4444444444444444,\"#bd3786\"],[0.5555555555555556,\"#d8576b\"],[0.6666666666666666,\"#ed7953\"],[0.7777777777777778,\"#fb9f3a\"],[0.8888888888888888,\"#fdca26\"],[1.0,\"#f0f921\"]],\"type\":\"surface\"}],\"table\":[{\"cells\":{\"fill\":{\"color\":\"#EBF0F8\"},\"line\":{\"color\":\"white\"}},\"header\":{\"fill\":{\"color\":\"#C8D4E3\"},\"line\":{\"color\":\"white\"}},\"type\":\"table\"}]},\"layout\":{\"annotationdefaults\":{\"arrowcolor\":\"#2a3f5f\",\"arrowhead\":0,\"arrowwidth\":1},\"autotypenumbers\":\"strict\",\"coloraxis\":{\"colorbar\":{\"outlinewidth\":0,\"ticks\":\"\"}},\"colorscale\":{\"diverging\":[[0,\"#8e0152\"],[0.1,\"#c51b7d\"],[0.2,\"#de77ae\"],[0.3,\"#f1b6da\"],[0.4,\"#fde0ef\"],[0.5,\"#f7f7f7\"],[0.6,\"#e6f5d0\"],[0.7,\"#b8e186\"],[0.8,\"#7fbc41\"],[0.9,\"#4d9221\"],[1,\"#276419\"]],\"sequential\":[[0.0,\"#0d0887\"],[0.1111111111111111,\"#46039f\"],[0.2222222222222222,\"#7201a8\"],[0.3333333333333333,\"#9c179e\"],[0.4444444444444444,\"#bd3786\"],[0.5555555555555556,\"#d8576b\"],[0.6666666666666666,\"#ed7953\"],[0.7777777777777778,\"#fb9f3a\"],[0.8888888888888888,\"#fdca26\"],[1.0,\"#f0f921\"]],\"sequentialminus\":[[0.0,\"#0d0887\"],[0.1111111111111111,\"#46039f\"],[0.2222222222222222,\"#7201a8\"],[0.3333333333333333,\"#9c179e\"],[0.4444444444444444,\"#bd3786\"],[0.5555555555555556,\"#d8576b\"],[0.6666666666666666,\"#ed7953\"],[0.7777777777777778,\"#fb9f3a\"],[0.8888888888888888,\"#fdca26\"],[1.0,\"#f0f921\"]]},\"colorway\":[\"#636efa\",\"#EF553B\",\"#00cc96\",\"#ab63fa\",\"#FFA15A\",\"#19d3f3\",\"#FF6692\",\"#B6E880\",\"#FF97FF\",\"#FECB52\"],\"font\":{\"color\":\"#2a3f5f\"},\"geo\":{\"bgcolor\":\"white\",\"lakecolor\":\"white\",\"landcolor\":\"#E5ECF6\",\"showlakes\":true,\"showland\":true,\"subunitcolor\":\"white\"},\"hoverlabel\":{\"align\":\"left\"},\"hovermode\":\"closest\",\"mapbox\":{\"style\":\"light\"},\"paper_bgcolor\":\"white\",\"plot_bgcolor\":\"#E5ECF6\",\"polar\":{\"angularaxis\":{\"gridcolor\":\"white\",\"linecolor\":\"white\",\"ticks\":\"\"},\"bgcolor\":\"#E5ECF6\",\"radialaxis\":{\"gridcolor\":\"white\",\"linecolor\":\"white\",\"ticks\":\"\"}},\"scene\":{\"xaxis\":{\"backgroundcolor\":\"#E5ECF6\",\"gridcolor\":\"white\",\"gridwidth\":2,\"linecolor\":\"white\",\"showbackground\":true,\"ticks\":\"\",\"zerolinecolor\":\"white\"},\"yaxis\":{\"backgroundcolor\":\"#E5ECF6\",\"gridcolor\":\"white\",\"gridwidth\":2,\"linecolor\":\"white\",\"showbackground\":true,\"ticks\":\"\",\"zerolinecolor\":\"white\"},\"zaxis\":{\"backgroundcolor\":\"#E5ECF6\",\"gridcolor\":\"white\",\"gridwidth\":2,\"linecolor\":\"white\",\"showbackground\":true,\"ticks\":\"\",\"zerolinecolor\":\"white\"}},\"shapedefaults\":{\"line\":{\"color\":\"#2a3f5f\"}},\"ternary\":{\"aaxis\":{\"gridcolor\":\"white\",\"linecolor\":\"white\",\"ticks\":\"\"},\"baxis\":{\"gridcolor\":\"white\",\"linecolor\":\"white\",\"ticks\":\"\"},\"bgcolor\":\"#E5ECF6\",\"caxis\":{\"gridcolor\":\"white\",\"linecolor\":\"white\",\"ticks\":\"\"}},\"title\":{\"x\":0.05},\"xaxis\":{\"automargin\":true,\"gridcolor\":\"white\",\"linecolor\":\"white\",\"ticks\":\"\",\"title\":{\"standoff\":15},\"zerolinecolor\":\"white\",\"zerolinewidth\":2},\"yaxis\":{\"automargin\":true,\"gridcolor\":\"white\",\"linecolor\":\"white\",\"ticks\":\"\",\"title\":{\"standoff\":15},\"zerolinecolor\":\"white\",\"zerolinewidth\":2}}},\"xaxis\":{\"title\":{\"text\":\"Number of Principal Components\"}},\"yaxis\":{\"title\":{\"text\":\"Cumulative Variance (%)\"}}},                        {\"responsive\": true}                    ).then(function(){\n                            \nvar gd = document.getElementById('f7f1fefc-1b6b-490f-a1d5-2805a5536940');\nvar x = new MutationObserver(function (mutations, observer) {{\n        var display = window.getComputedStyle(gd).display;\n        if (!display || display === 'none') {{\n            console.log([gd, 'removed!']);\n            Plotly.purge(gd);\n            observer.disconnect();\n        }}\n}});\n\n// Listen for the removal of the full notebook cells\nvar notebookContainer = gd.closest('#notebook-container');\nif (notebookContainer) {{\n    x.observe(notebookContainer, {childList: true});\n}}\n\n// Listen for the clearing of the current output cell\nvar outputEl = gd.closest('.output');\nif (outputEl) {{\n    x.observe(outputEl, {childList: true});\n}}\n\n                        })                };                            </script>        </div>\n</body>\n</html>"
     },
     "metadata": {},
     "output_type": "display_data"
    }
   ]
  },
  {
   "cell_type": "code",
   "metadata": {
    "papermill": {
     "duration": 0.314337,
     "end_time": "2020-08-14T19:33:35.311912",
     "exception": false,
     "start_time": "2020-08-14T19:33:34.997575",
     "status": "completed"
    },
    "tags": [],
    "cell_id": "00050-52e27e4f-8383-4732-9b1c-b3a4a5fcb977",
    "deepnote_output_heights": [
     33.1875,
     167.59375
    ],
    "deepnote_to_be_reexecuted": false,
    "source_hash": "af8bed99",
    "execution_start": 1638840395682,
    "execution_millis": 33,
    "output_cleared": false,
    "deepnote_cell_type": "code"
   },
   "source": "from IPython.display import display, Markdown\n\ndisplay(Markdown(\"**Question: How many PCs do you think you should use?**\"))\n# =========== STUDENT BEGIN ==========\n# display(Markdown(\n# \"\"\"\n# @@@ Your answer here @@@\n# \"\"\"))\n# =========== STUDENT END ==========\ndisplay(\n    Markdown(\n        \"\"\"\nWhile there is no hard and fast rule, the minimum number of PC’s based on the cumulative variance is 3 because this \ncovers a substantial amount (78%) of the variance. Whether 4, 5, or even 6 PC’s should be used depends on a wide array \nof information, in a business setting. Pursuing additional analysis on an additional PC takes time, money, and employee \nwork hours. Managers must balance each of these, along with any hard constraints such as rigid budgets, competing project \ntimelines, and Return on Investment (ROI). If the cost of process variability is high, such as offshore drilling, it \nfollows that management is willing to spend more money to study and eliminate all known sources of variability. \nConversely, if a production line only generates a few thousand dollars of profit each day there will not be appetite \nto spend millions of dollars to achieve a small reduction in variability.  \n\"\"\"\n    )\n)\n# =========== STUDENT SOLUTION ===========",
   "execution_count": null,
   "outputs": [
    {
     "data": {
      "text/plain": "<IPython.core.display.Markdown object>",
      "text/markdown": "**Question: How many PCs do you think you should use?**"
     },
     "metadata": {},
     "output_type": "display_data"
    },
    {
     "data": {
      "text/plain": "<IPython.core.display.Markdown object>",
      "text/markdown": "\nWhile there is no hard and fast rule, the minimum number of PC’s based on the cumulative variance is 3 because this \ncovers a substantial amount (78%) of the variance. Whether 4, 5, or even 6 PC’s should be used depends on a wide array \nof information, in a business setting. Pursuing additional analysis on an additional PC takes time, money, and employee \nwork hours. Managers must balance each of these, along with any hard constraints such as rigid budgets, competing project \ntimelines, and Return on Investment (ROI). If the cost of process variability is high, such as offshore drilling, it \nfollows that management is willing to spend more money to study and eliminate all known sources of variability. \nConversely, if a production line only generates a few thousand dollars of profit each day there will not be appetite \nto spend millions of dollars to achieve a small reduction in variability.  \n"
     },
     "metadata": {},
     "output_type": "display_data"
    }
   ]
  },
  {
   "cell_type": "markdown",
   "source": "### 5d. Visualize Deschutes data using the principal components\n<a id='section_5d'></a>\nRegardless of the appropriate number of principal components from CPV, we are limited to visualizing at most three principal components.",
   "metadata": {
    "papermill": {
     "duration": 0.226071,
     "end_time": "2020-08-14T19:33:35.774833",
     "exception": false,
     "start_time": "2020-08-14T19:33:35.548762",
     "status": "completed"
    },
    "tags": [],
    "cell_id": "00051-65378da0-53e6-4d5c-8551-b51c6cdd6e40",
    "deepnote_cell_type": "markdown"
   }
  },
  {
   "cell_type": "code",
   "metadata": {
    "execution": {
     "iopub.execute_input": "2020-08-14T19:33:36.080189Z",
     "iopub.status.busy": "2020-08-14T19:33:36.079304Z",
     "iopub.status.idle": "2020-08-14T19:33:36.123864Z",
     "shell.execute_reply": "2020-08-14T19:33:36.124520Z"
    },
    "papermill": {
     "duration": 0.206687,
     "end_time": "2020-08-14T19:33:36.124686",
     "exception": false,
     "start_time": "2020-08-14T19:33:35.917999",
     "status": "completed"
    },
    "tags": [],
    "cell_id": "00052-657e99a1-a6d8-4c0f-a6af-d8d61ec6ca87",
    "deepnote_to_be_reexecuted": false,
    "source_hash": "ba614fb8",
    "execution_start": 1638840395709,
    "execution_millis": 59,
    "output_cleared": false,
    "deepnote_cell_type": "code"
   },
   "source": "# initialize list for plot objects\nobj_list = []\n\n# create plot objects for each brand\nfor i_brand, brand in enumerate(BRANDS_OF_INTEREST):\n\n    # get which entries in ProcessedData correspond to rband\n    boolean = FeatureDF[\"Brand\"] == brand_dictionary[brand]\n\n    # create plotly object\n    plot_obj = go.Scatter3d(\n        x=T[boolean, 0],\n        y=T[boolean, 1],\n        z=T[boolean, 2],\n        text=list(FeatureDF.loc[boolean, \"Batch\"]),\n        hoverinfo=\"text\",\n        hovertemplate=\"Batch %{text:2.0}\",\n        name=brand + f\" ({boolean.sum()})\",\n        mode=\"markers\",\n        marker=dict(size=7, opacity=0.75),\n    )\n\n    # append to list of plotly objects\n    obj_list.append(plot_obj)\nprint(\"--- cell ok ---\")",
   "execution_count": null,
   "outputs": [
    {
     "name": "stdout",
     "text": "--- cell ok ---\n",
     "output_type": "stream"
    }
   ]
  },
  {
   "cell_type": "code",
   "metadata": {
    "execution": {
     "iopub.execute_input": "2020-08-14T19:33:36.080189Z",
     "iopub.status.busy": "2020-08-14T19:33:36.079304Z",
     "iopub.status.idle": "2020-08-14T19:33:36.123864Z",
     "shell.execute_reply": "2020-08-14T19:33:36.124520Z"
    },
    "papermill": {
     "duration": 0.206687,
     "end_time": "2020-08-14T19:33:36.124686",
     "exception": false,
     "start_time": "2020-08-14T19:33:35.917999",
     "status": "completed"
    },
    "tags": [],
    "cell_id": "00053-2e44b605-a80e-440e-ab77-af9ca294e4c2",
    "deepnote_output_heights": [
     602
    ],
    "deepnote_to_be_reexecuted": false,
    "source_hash": "194c277b",
    "execution_start": 1638840395751,
    "execution_millis": 148,
    "output_cleared": false,
    "deepnote_cell_type": "code"
   },
   "source": "# create layout\nlayout = go.Layout(\n    scene=dict(\n        xaxis=dict(title=\"PC 1\"), yaxis=dict(title=\"PC 2\"), zaxis=dict(title=\"PC 3\")\n    ),\n    margin=dict(l=0, r=0, b=0, t=0),\n    legend=dict(x=1.0, y=0.5),\n    height=600,\n)\n\n# plot!\nfig = go.Figure(data=obj_list, layout=layout)\nfig.update_layout(\n    title_text=f\"<br>PCA scatterplot for the 4 brands {BRANDS_OF_INTEREST}<br> with most data\",\n    title_x=0.5,\n)\nfig.show()",
   "execution_count": null,
   "outputs": [
    {
     "data": {
      "text/html": "<html>\n<head><meta charset=\"utf-8\" /></head>\n<body>\n    <div>            <script src=\"https://cdnjs.cloudflare.com/ajax/libs/mathjax/2.7.5/MathJax.js?config=TeX-AMS-MML_SVG\"></script><script type=\"text/javascript\">if (window.MathJax) {MathJax.Hub.Config({SVG: {font: \"STIX-Web\"}});}</script>                <script type=\"text/javascript\">window.PlotlyConfig = {MathJaxConfig: 'local'};</script>\n        <script src=\"https://cdn.plot.ly/plotly-2.4.2.min.js\"></script>                <div id=\"fa99cd23-467f-4f34-a9a2-78fa43706973\" class=\"plotly-graph-div\" style=\"height:600px; width:100%;\"></div>            <script type=\"text/javascript\">                                    window.PLOTLYENV=window.PLOTLYENV || {};                                    if (document.getElementById(\"fa99cd23-467f-4f34-a9a2-78fa43706973\")) {                    Plotly.newPlot(                        \"fa99cd23-467f-4f34-a9a2-78fa43706973\",                        [{\"hoverinfo\":\"text\",\"hovertemplate\":\"Batch %{text:2.0}\",\"marker\":{\"opacity\":0.75,\"size\":7},\"mode\":\"markers\",\"name\":\"Realtime Hops (84)\",\"text\":[\"2.0\",\"3.0\",\"4.0\",\"5.0\",\"7.0\",\"8.0\",\"12.0\",\"13.0\",\"14.0\",\"17.0\",\"18.0\",\"19.0\",\"20.0\",\"21.0\",\"22.0\",\"23.0\",\"45.0\",\"46.0\",\"48.0\",\"49.0\",\"51.0\",\"52.0\",\"53.0\",\"55.0\",\"57.0\",\"59.0\",\"60.0\",\"61.0\",\"62.0\",\"63.0\",\"64.0\",\"65.0\",\"85.0\",\"86.0\",\"88.0\",\"89.0\",\"90.0\",\"91.0\",\"97.0\",\"98.0\",\"99.0\",\"100.0\",\"102.0\",\"103.0\",\"105.0\",\"121.0\",\"122.0\",\"123.0\",\"124.0\",\"125.0\",\"126.0\",\"127.0\",\"128.0\",\"131.0\",\"132.0\",\"134.0\",\"135.0\",\"158.0\",\"159.0\",\"161.0\",\"164.0\",\"165.0\",\"166.0\",\"167.0\",\"168.0\",\"169.0\",\"170.0\",\"171.0\",\"173.0\",\"193.0\",\"194.0\",\"195.0\",\"196.0\",\"197.0\",\"198.0\",\"199.0\",\"201.0\",\"202.0\",\"205.0\",\"206.0\",\"207.0\",\"208.0\",\"209.0\",\"210.0\"],\"type\":\"scatter3d\",\"x\":[-1.357812896074371,-1.4997880614148291,-1.2124305274229714,-1.3789799037785213,-1.379792005088085,-1.3380754514617053,-1.209665531418784,-1.1172310702119612,-1.4510804967998667,-1.476842769567205,-0.9374121335501835,-1.4289908544371812,-1.4012302207636171,-1.10536558063022,-1.1923372810036381,-1.4402628527336014,-1.3135493802566487,-1.4849241919593077,-1.3781082457333558,-1.1397185726803443,-0.9329945694248398,-0.7954667721357177,-0.5408633688293306,-1.0047294499296449,-0.7566456937907791,-0.837909637464012,-0.9340636748684596,-0.9110321658248466,-0.924945927202745,-0.3227498152849316,-0.36991224557590596,-0.561482257048186,-0.790248301319057,-0.7958719865620643,-0.36329339157956086,-0.4301276142227838,-0.2974476354342337,-0.5328851001887756,-0.613271906902215,-0.678265481142749,-0.5190349627565262,-0.5090663616859126,-0.1616779974146011,-0.49460440029207214,0.15312907120118838,-0.7442716093545925,-0.8160705773124298,-0.4563638836685164,-0.6222756905301752,-0.7424965170378578,-0.9898103697252418,-0.6355438500088985,-0.9015805929356655,-0.5368577438945744,-0.7135385459710689,-0.5891698782815521,-0.8195744314959732,-0.9019439730211153,-0.4360329859946646,-0.3980304248685896,-0.7793995534090642,-0.6004471583239512,-0.583729629478347,-0.6182715320481802,-0.5544028866617748,-0.31617012615230977,-0.40991433189988824,-0.7777615700723514,-0.39187842675278733,-1.79148171743976,-1.5393041288550893,-1.6780455067478945,-1.5888433988797535,-1.6773202558969542,-1.1952243387206714,-1.572071287551879,-1.5998533182996237,-1.6451036377683106,-1.5063094699042348,-1.2922110794133195,-1.6280393110160165,-1.5030668821805084,-2.0707696926383354,-1.2834799126222494],\"y\":[0.03775847136064956,-0.057892255154710685,0.004428727144287612,-0.057777897803350145,-0.052621619216561,-0.058634537825208784,0.008784281644820072,0.02438889348502647,-0.02711133800922797,-0.09533257943955788,0.10488698926134453,-0.0766055100642595,-0.09492335958523834,0.075845631533925,0.01500660904482919,-0.031504438250656505,-0.15141213217391863,-0.1695598964773859,-0.18726280070071277,-0.176796442396759,-0.07848183262175511,-0.04078228960576645,1.0153358773302472,-0.1352356473795425,-0.029633202215477255,-0.09515173220064581,-0.1466799413447758,-0.043815205802895225,-0.10539070521522435,-0.190648005595295,-0.1662076915803415,0.012586404634010383,0.22323841248916393,0.08061193712822333,0.2284215188414258,0.18569934583659412,0.11330139240118607,0.17686080836588455,-0.18243676136253562,-0.03611153298669511,-0.10440800761745563,-0.029466227587883982,-0.11523167082522483,-0.13250777259299698,0.5756761029425631,-0.17781857306598592,-0.12415404434318371,-0.1646951479564667,-0.035708592933687784,0.7947206694961897,-0.15260844671890822,-0.07132432892517263,-0.18804417546339006,-0.009968268278472045,-0.14206929760574488,-0.04103569419842876,-0.19794943319691502,0.4141308737789844,1.0918107625800244,0.516253792653467,0.0791655557212012,-0.08644752062800207,-0.0796452086536004,-0.1021740866997267,-0.07982268857584204,-0.025123189674189934,-0.11067645771798176,-0.3777957186730742,0.29335757157922226,0.20357598463126747,0.28522830833229823,0.27134558204615356,0.30955903291343634,0.25838830370787735,0.4574005883412647,0.3282696739023322,0.2958144162451742,0.3069576244262371,0.3737634762397006,0.4279989826189644,0.33867491461403443,0.3971265889629714,0.16921528741977537,1.2513217599973896],\"z\":[0.7663341373488771,0.43024566923622604,0.8842162909893265,0.6601899982376936,0.7100439417206298,0.7082154146573163,0.8859012758934458,1.0263001496131203,0.6707692937093911,0.4310823277369417,0.5206367209416388,0.586607332929192,0.33670647678833143,0.8954051170890902,0.96891981567809,0.6665621634028137,-0.2524038095572316,-0.4909015083802914,-0.3569365257838694,-0.24025917258290175,0.12852561260225295,0.3130645983137432,0.2782566217326381,-0.09465192062688349,0.24493360078650414,0.050984844624718896,-0.1950276059012674,0.21581939365721206,-0.2217166633063011,-0.8956469468980962,-0.6865225836268228,0.5728172919260751,-0.4657581387516167,-1.4171859583125093,-0.7482818299080102,-0.2392643688026293,-0.7675504987848626,-0.43936897227738586,-1.296467004863139,-0.3756898936359912,-0.6923736871449138,-0.48722117960641614,-0.9850260608547727,-0.9969442060560609,-1.038149046653361,-1.1972137784253978,-0.49090383333967863,-0.8221058025327712,0.00818450564163676,-0.23025009157724577,-0.42174907724974925,-0.18709125443900887,-0.7128833037223964,0.11403401910608203,-0.4620340915195133,-0.12918641328273076,-0.868943891996829,-1.5200430261099898,-1.6092025898691225,-0.4729154459006341,0.1910339953584254,-0.15325126000833258,-0.19354026361745943,-0.2868650127544877,-0.2990624051050896,-0.8849532093865481,-0.4337114279653582,-1.7257632539477215,-0.6888001402862534,0.42302995005610844,0.7497719228426162,0.563478123229025,0.7256295033457978,0.5922663141190789,1.2373771423579443,0.6752913076512622,0.7229799948214711,0.6444186975356349,0.8497019235953805,1.0782445159176428,0.585189592150404,0.8737167696081302,-0.04059914354019976,0.7836876970465633]},{\"hoverinfo\":\"text\",\"hovertemplate\":\"Batch %{text:2.0}\",\"marker\":{\"opacity\":0.75,\"size\":7},\"mode\":\"markers\",\"name\":\"Trois Lacs (36)\",\"text\":[\"24.0\",\"26.0\",\"27.0\",\"28.0\",\"29.0\",\"30.0\",\"31.0\",\"69.0\",\"70.0\",\"72.0\",\"74.0\",\"107.0\",\"108.0\",\"109.0\",\"112.0\",\"113.0\",\"136.0\",\"137.0\",\"138.0\",\"139.0\",\"140.0\",\"141.0\",\"142.0\",\"143.0\",\"175.0\",\"176.0\",\"177.0\",\"178.0\",\"180.0\",\"181.0\",\"212.0\",\"216.0\",\"217.0\",\"219.0\",\"220.0\",\"221.0\"],\"type\":\"scatter3d\",\"x\":[2.6095941818005683,2.116372173319872,2.529530286840667,3.2591953529651536,2.376988383789778,2.6929919920575722,2.1664834663335215,3.5384255033235026,3.215806904337625,2.77219589176323,2.6995206492690804,3.5350789303142314,3.274840316233141,3.948089092094114,4.438178662587377,4.78658924403943,2.6135171415689555,3.2162425972287285,3.3335356191779066,3.5857496084988885,3.1223441854625325,2.697706825408023,3.3351759159207806,3.2309347106367485,3.1764575503292396,3.4474096097859714,3.7838786037037533,3.3477004638792076,3.4031789678829987,3.429012914877063,1.8209667508021867,2.2508464260164547,1.9593498261831046,1.8557736015471669,2.094916088661415,3.769828689142832],\"y\":[4.785618637298919,-1.2821654286850315,-1.1700229420490882,-0.391051316763586,-1.254862093095119,-1.1085310304104623,-1.2972086076262013,-1.424670252852696,-1.4631813700266951,-1.3509567099059774,-1.4162433338122953,-0.23339291346695906,-1.4146535748348898,-1.2397327514312857,1.0844100858356331,1.7746519955659257,-1.3537139423331868,-1.2458823726222619,-1.2302378638448945,-1.157888449438509,-1.282624386116867,-1.4241530158312652,-1.2335570531365507,-1.2816587944115438,-1.3549126542496077,-1.2753258097593283,-1.140387790448458,-1.3283256381707609,-1.146172523486228,-0.7901110386112365,2.87438709615063,-0.5461810546224259,-0.8291462448973804,-0.9340965862716375,-0.8582062934746433,1.7076331811810146],\"z\":[5.173438759868375,0.9694879217796283,1.5176034487486656,0.4209200012668605,1.2454562065678425,1.8460644161475026,0.8752865041751489,-0.4146812940526018,-0.6876212171102507,0.41863882573746486,0.1852596605562782,1.0200742304277832,-1.0024753901192196,0.09833853563099655,-3.309457993721407,-2.963481275360616,-0.1327627865290582,0.3754905734812171,0.4012582052177832,0.6966482166787357,0.10977848557917899,-0.5742151542168832,0.27278852890521643,0.20269008371830521,0.11063764679158011,0.538195726275487,-0.6238621071710395,-0.8972466726357902,-0.9780232647202758,0.055361376734931134,3.970822726089231,0.8004562587899581,1.1707825235793121,0.9043194982818189,1.317757153161389,3.0613109625981223]},{\"hoverinfo\":\"text\",\"hovertemplate\":\"Batch %{text:2.0}\",\"marker\":{\"opacity\":0.75,\"size\":7},\"mode\":\"markers\",\"name\":\"Grey Horse (20)\",\"text\":[\"33.0\",\"35.0\",\"36.0\",\"38.0\",\"39.0\",\"77.0\",\"114.0\",\"115.0\",\"116.0\",\"145.0\",\"148.0\",\"149.0\",\"150.0\",\"182.0\",\"183.0\",\"184.0\",\"185.0\",\"223.0\",\"224.0\",\"226.0\"],\"type\":\"scatter3d\",\"x\":[-1.3390748734920486,-1.2234976545075271,-1.4590042054625196,-1.7466588062735753,-1.3453556816771493,-1.0000309707515098,-0.3804513748952243,-0.38583521149849825,-0.3993794966197639,-0.35486012802079814,-0.7861168233714741,-0.620120554935186,-0.8946584244617468,-0.3604736483981223,-0.05053100662260407,5.342458566909534,0.13379363082000367,-1.435023384909668,-1.5497121912643264,-1.6151017740826492],\"y\":[-0.061604842811249956,0.006376182847152511,-0.0754732500417142,-0.24372418788791686,-0.05869087718834336,-0.11413889414155866,0.12750764073945642,-0.061657463262807556,-0.10570179841070323,-0.224583158896061,-0.1640524471050277,-0.20223803214419422,-0.23118094892594057,0.2592251228195288,0.9635902805267872,14.257052967959616,0.8797933659659217,0.2929247763572824,0.27076693954178416,0.27264708399380216],\"z\":[0.6320401324288035,0.7393061869738377,0.4293467894530383,0.03961221853635309,0.6554629783110122,-0.25264926646107905,-0.6317234261900067,-1.609941098473282,-1.653231300931825,-1.3185235070912187,-0.40025639907830673,-0.8373282791865316,-0.8780689772775062,-1.103054418297346,-1.9964416496702366,-1.6659995123340574,-1.997143251058646,0.8620306206758825,0.675034272591587,0.6475773880562321]},{\"hoverinfo\":\"text\",\"hovertemplate\":\"Batch %{text:2.0}\",\"marker\":{\"opacity\":0.75,\"size\":7},\"mode\":\"markers\",\"name\":\"LIT (16)\",\"text\":[\"42.0\",\"43.0\",\"44.0\",\"80.0\",\"81.0\",\"82.0\",\"120.0\",\"152.0\",\"154.0\",\"155.0\",\"156.0\",\"187.0\",\"192.0\",\"228.0\",\"229.0\",\"231.0\"],\"type\":\"scatter3d\",\"x\":[-1.3383897533341043,-1.3362147378615024,-1.4357768018340398,-0.7437364276675685,-1.4712841340974379,-1.0258183935618452,-0.5253147359353544,-0.870208055022029,-0.7262333157680299,-0.8780185939453569,-1.157694814160077,-0.481633265457129,-0.44572585806029325,-1.851576524874574,-1.7441375151810763,-1.857290288008223],\"y\":[0.010156822638318014,-0.034448727507659156,-0.02950415088214579,0.008319407604704338,-0.25080439991919157,-0.0798452635117553,-0.0054604407331251825,-0.0006241793334424192,-0.06247471850728976,-0.11730212352712732,-0.2650575643713138,0.36842013396115814,0.5249442418792241,0.19406172358832585,0.223493009436089,0.25161336319305366],\"z\":[0.764724981903074,0.6224629249579334,0.5695392628529243,0.41151883634751196,-0.6699759541365493,-0.13825238825428296,-0.9316060796182117,-0.022302651171091783,-0.27577397884762694,-0.481271160057967,-1.065903585234295,-1.275746932720409,-1.5402014318189954,0.24206625734504827,0.41139131546259977,0.3120839957553491]}],                        {\"height\":600,\"legend\":{\"x\":1.0,\"y\":0.5},\"margin\":{\"b\":0,\"l\":0,\"r\":0,\"t\":0},\"scene\":{\"xaxis\":{\"title\":{\"text\":\"PC 1\"}},\"yaxis\":{\"title\":{\"text\":\"PC 2\"}},\"zaxis\":{\"title\":{\"text\":\"PC 3\"}}},\"template\":{\"data\":{\"bar\":[{\"error_x\":{\"color\":\"#2a3f5f\"},\"error_y\":{\"color\":\"#2a3f5f\"},\"marker\":{\"line\":{\"color\":\"#E5ECF6\",\"width\":0.5},\"pattern\":{\"fillmode\":\"overlay\",\"size\":10,\"solidity\":0.2}},\"type\":\"bar\"}],\"barpolar\":[{\"marker\":{\"line\":{\"color\":\"#E5ECF6\",\"width\":0.5},\"pattern\":{\"fillmode\":\"overlay\",\"size\":10,\"solidity\":0.2}},\"type\":\"barpolar\"}],\"carpet\":[{\"aaxis\":{\"endlinecolor\":\"#2a3f5f\",\"gridcolor\":\"white\",\"linecolor\":\"white\",\"minorgridcolor\":\"white\",\"startlinecolor\":\"#2a3f5f\"},\"baxis\":{\"endlinecolor\":\"#2a3f5f\",\"gridcolor\":\"white\",\"linecolor\":\"white\",\"minorgridcolor\":\"white\",\"startlinecolor\":\"#2a3f5f\"},\"type\":\"carpet\"}],\"choropleth\":[{\"colorbar\":{\"outlinewidth\":0,\"ticks\":\"\"},\"type\":\"choropleth\"}],\"contour\":[{\"colorbar\":{\"outlinewidth\":0,\"ticks\":\"\"},\"colorscale\":[[0.0,\"#0d0887\"],[0.1111111111111111,\"#46039f\"],[0.2222222222222222,\"#7201a8\"],[0.3333333333333333,\"#9c179e\"],[0.4444444444444444,\"#bd3786\"],[0.5555555555555556,\"#d8576b\"],[0.6666666666666666,\"#ed7953\"],[0.7777777777777778,\"#fb9f3a\"],[0.8888888888888888,\"#fdca26\"],[1.0,\"#f0f921\"]],\"type\":\"contour\"}],\"contourcarpet\":[{\"colorbar\":{\"outlinewidth\":0,\"ticks\":\"\"},\"type\":\"contourcarpet\"}],\"heatmap\":[{\"colorbar\":{\"outlinewidth\":0,\"ticks\":\"\"},\"colorscale\":[[0.0,\"#0d0887\"],[0.1111111111111111,\"#46039f\"],[0.2222222222222222,\"#7201a8\"],[0.3333333333333333,\"#9c179e\"],[0.4444444444444444,\"#bd3786\"],[0.5555555555555556,\"#d8576b\"],[0.6666666666666666,\"#ed7953\"],[0.7777777777777778,\"#fb9f3a\"],[0.8888888888888888,\"#fdca26\"],[1.0,\"#f0f921\"]],\"type\":\"heatmap\"}],\"heatmapgl\":[{\"colorbar\":{\"outlinewidth\":0,\"ticks\":\"\"},\"colorscale\":[[0.0,\"#0d0887\"],[0.1111111111111111,\"#46039f\"],[0.2222222222222222,\"#7201a8\"],[0.3333333333333333,\"#9c179e\"],[0.4444444444444444,\"#bd3786\"],[0.5555555555555556,\"#d8576b\"],[0.6666666666666666,\"#ed7953\"],[0.7777777777777778,\"#fb9f3a\"],[0.8888888888888888,\"#fdca26\"],[1.0,\"#f0f921\"]],\"type\":\"heatmapgl\"}],\"histogram\":[{\"marker\":{\"pattern\":{\"fillmode\":\"overlay\",\"size\":10,\"solidity\":0.2}},\"type\":\"histogram\"}],\"histogram2d\":[{\"colorbar\":{\"outlinewidth\":0,\"ticks\":\"\"},\"colorscale\":[[0.0,\"#0d0887\"],[0.1111111111111111,\"#46039f\"],[0.2222222222222222,\"#7201a8\"],[0.3333333333333333,\"#9c179e\"],[0.4444444444444444,\"#bd3786\"],[0.5555555555555556,\"#d8576b\"],[0.6666666666666666,\"#ed7953\"],[0.7777777777777778,\"#fb9f3a\"],[0.8888888888888888,\"#fdca26\"],[1.0,\"#f0f921\"]],\"type\":\"histogram2d\"}],\"histogram2dcontour\":[{\"colorbar\":{\"outlinewidth\":0,\"ticks\":\"\"},\"colorscale\":[[0.0,\"#0d0887\"],[0.1111111111111111,\"#46039f\"],[0.2222222222222222,\"#7201a8\"],[0.3333333333333333,\"#9c179e\"],[0.4444444444444444,\"#bd3786\"],[0.5555555555555556,\"#d8576b\"],[0.6666666666666666,\"#ed7953\"],[0.7777777777777778,\"#fb9f3a\"],[0.8888888888888888,\"#fdca26\"],[1.0,\"#f0f921\"]],\"type\":\"histogram2dcontour\"}],\"mesh3d\":[{\"colorbar\":{\"outlinewidth\":0,\"ticks\":\"\"},\"type\":\"mesh3d\"}],\"parcoords\":[{\"line\":{\"colorbar\":{\"outlinewidth\":0,\"ticks\":\"\"}},\"type\":\"parcoords\"}],\"pie\":[{\"automargin\":true,\"type\":\"pie\"}],\"scatter\":[{\"marker\":{\"colorbar\":{\"outlinewidth\":0,\"ticks\":\"\"}},\"type\":\"scatter\"}],\"scatter3d\":[{\"line\":{\"colorbar\":{\"outlinewidth\":0,\"ticks\":\"\"}},\"marker\":{\"colorbar\":{\"outlinewidth\":0,\"ticks\":\"\"}},\"type\":\"scatter3d\"}],\"scattercarpet\":[{\"marker\":{\"colorbar\":{\"outlinewidth\":0,\"ticks\":\"\"}},\"type\":\"scattercarpet\"}],\"scattergeo\":[{\"marker\":{\"colorbar\":{\"outlinewidth\":0,\"ticks\":\"\"}},\"type\":\"scattergeo\"}],\"scattergl\":[{\"marker\":{\"colorbar\":{\"outlinewidth\":0,\"ticks\":\"\"}},\"type\":\"scattergl\"}],\"scattermapbox\":[{\"marker\":{\"colorbar\":{\"outlinewidth\":0,\"ticks\":\"\"}},\"type\":\"scattermapbox\"}],\"scatterpolar\":[{\"marker\":{\"colorbar\":{\"outlinewidth\":0,\"ticks\":\"\"}},\"type\":\"scatterpolar\"}],\"scatterpolargl\":[{\"marker\":{\"colorbar\":{\"outlinewidth\":0,\"ticks\":\"\"}},\"type\":\"scatterpolargl\"}],\"scatterternary\":[{\"marker\":{\"colorbar\":{\"outlinewidth\":0,\"ticks\":\"\"}},\"type\":\"scatterternary\"}],\"surface\":[{\"colorbar\":{\"outlinewidth\":0,\"ticks\":\"\"},\"colorscale\":[[0.0,\"#0d0887\"],[0.1111111111111111,\"#46039f\"],[0.2222222222222222,\"#7201a8\"],[0.3333333333333333,\"#9c179e\"],[0.4444444444444444,\"#bd3786\"],[0.5555555555555556,\"#d8576b\"],[0.6666666666666666,\"#ed7953\"],[0.7777777777777778,\"#fb9f3a\"],[0.8888888888888888,\"#fdca26\"],[1.0,\"#f0f921\"]],\"type\":\"surface\"}],\"table\":[{\"cells\":{\"fill\":{\"color\":\"#EBF0F8\"},\"line\":{\"color\":\"white\"}},\"header\":{\"fill\":{\"color\":\"#C8D4E3\"},\"line\":{\"color\":\"white\"}},\"type\":\"table\"}]},\"layout\":{\"annotationdefaults\":{\"arrowcolor\":\"#2a3f5f\",\"arrowhead\":0,\"arrowwidth\":1},\"autotypenumbers\":\"strict\",\"coloraxis\":{\"colorbar\":{\"outlinewidth\":0,\"ticks\":\"\"}},\"colorscale\":{\"diverging\":[[0,\"#8e0152\"],[0.1,\"#c51b7d\"],[0.2,\"#de77ae\"],[0.3,\"#f1b6da\"],[0.4,\"#fde0ef\"],[0.5,\"#f7f7f7\"],[0.6,\"#e6f5d0\"],[0.7,\"#b8e186\"],[0.8,\"#7fbc41\"],[0.9,\"#4d9221\"],[1,\"#276419\"]],\"sequential\":[[0.0,\"#0d0887\"],[0.1111111111111111,\"#46039f\"],[0.2222222222222222,\"#7201a8\"],[0.3333333333333333,\"#9c179e\"],[0.4444444444444444,\"#bd3786\"],[0.5555555555555556,\"#d8576b\"],[0.6666666666666666,\"#ed7953\"],[0.7777777777777778,\"#fb9f3a\"],[0.8888888888888888,\"#fdca26\"],[1.0,\"#f0f921\"]],\"sequentialminus\":[[0.0,\"#0d0887\"],[0.1111111111111111,\"#46039f\"],[0.2222222222222222,\"#7201a8\"],[0.3333333333333333,\"#9c179e\"],[0.4444444444444444,\"#bd3786\"],[0.5555555555555556,\"#d8576b\"],[0.6666666666666666,\"#ed7953\"],[0.7777777777777778,\"#fb9f3a\"],[0.8888888888888888,\"#fdca26\"],[1.0,\"#f0f921\"]]},\"colorway\":[\"#636efa\",\"#EF553B\",\"#00cc96\",\"#ab63fa\",\"#FFA15A\",\"#19d3f3\",\"#FF6692\",\"#B6E880\",\"#FF97FF\",\"#FECB52\"],\"font\":{\"color\":\"#2a3f5f\"},\"geo\":{\"bgcolor\":\"white\",\"lakecolor\":\"white\",\"landcolor\":\"#E5ECF6\",\"showlakes\":true,\"showland\":true,\"subunitcolor\":\"white\"},\"hoverlabel\":{\"align\":\"left\"},\"hovermode\":\"closest\",\"mapbox\":{\"style\":\"light\"},\"paper_bgcolor\":\"white\",\"plot_bgcolor\":\"#E5ECF6\",\"polar\":{\"angularaxis\":{\"gridcolor\":\"white\",\"linecolor\":\"white\",\"ticks\":\"\"},\"bgcolor\":\"#E5ECF6\",\"radialaxis\":{\"gridcolor\":\"white\",\"linecolor\":\"white\",\"ticks\":\"\"}},\"scene\":{\"xaxis\":{\"backgroundcolor\":\"#E5ECF6\",\"gridcolor\":\"white\",\"gridwidth\":2,\"linecolor\":\"white\",\"showbackground\":true,\"ticks\":\"\",\"zerolinecolor\":\"white\"},\"yaxis\":{\"backgroundcolor\":\"#E5ECF6\",\"gridcolor\":\"white\",\"gridwidth\":2,\"linecolor\":\"white\",\"showbackground\":true,\"ticks\":\"\",\"zerolinecolor\":\"white\"},\"zaxis\":{\"backgroundcolor\":\"#E5ECF6\",\"gridcolor\":\"white\",\"gridwidth\":2,\"linecolor\":\"white\",\"showbackground\":true,\"ticks\":\"\",\"zerolinecolor\":\"white\"}},\"shapedefaults\":{\"line\":{\"color\":\"#2a3f5f\"}},\"ternary\":{\"aaxis\":{\"gridcolor\":\"white\",\"linecolor\":\"white\",\"ticks\":\"\"},\"baxis\":{\"gridcolor\":\"white\",\"linecolor\":\"white\",\"ticks\":\"\"},\"bgcolor\":\"#E5ECF6\",\"caxis\":{\"gridcolor\":\"white\",\"linecolor\":\"white\",\"ticks\":\"\"}},\"title\":{\"x\":0.05},\"xaxis\":{\"automargin\":true,\"gridcolor\":\"white\",\"linecolor\":\"white\",\"ticks\":\"\",\"title\":{\"standoff\":15},\"zerolinecolor\":\"white\",\"zerolinewidth\":2},\"yaxis\":{\"automargin\":true,\"gridcolor\":\"white\",\"linecolor\":\"white\",\"ticks\":\"\",\"title\":{\"standoff\":15},\"zerolinecolor\":\"white\",\"zerolinewidth\":2}}},\"title\":{\"text\":\"<br>PCA scatterplot for the 4 brands ['Realtime Hops', 'Trois Lacs', 'Grey Horse', 'LIT']<br> with most data\",\"x\":0.5}},                        {\"responsive\": true}                    ).then(function(){\n                            \nvar gd = document.getElementById('fa99cd23-467f-4f34-a9a2-78fa43706973');\nvar x = new MutationObserver(function (mutations, observer) {{\n        var display = window.getComputedStyle(gd).display;\n        if (!display || display === 'none') {{\n            console.log([gd, 'removed!']);\n            Plotly.purge(gd);\n            observer.disconnect();\n        }}\n}});\n\n// Listen for the removal of the full notebook cells\nvar notebookContainer = gd.closest('#notebook-container');\nif (notebookContainer) {{\n    x.observe(notebookContainer, {childList: true});\n}}\n\n// Listen for the clearing of the current output cell\nvar outputEl = gd.closest('.output');\nif (outputEl) {{\n    x.observe(outputEl, {childList: true});\n}}\n\n                        })                };                            </script>        </div>\n</body>\n</html>"
     },
     "metadata": {},
     "output_type": "display_data"
    }
   ]
  },
  {
   "cell_type": "markdown",
   "source": "### 5e. What's in an outlier?\n<a id=’section_5e’></a>\nWe can use **contribution plots** to identify which input features are responsible for making an outlier an outlier. One can create a contribution plot for some given PC and some given observation (i.e. a beer batch). \n\nWe want to compare how the contributions from an outlier differ from the contributions of in-spec batches. To do this, we need the batch label(s) for the outlier(s) and in-spec/reference batches.\n\nA contribution of an input feature to a PC for a given observation is the value of the input feature at that observation times its coefficient (element of eignevector for the PC).\n\nTo find the batch labels, hover over the data points in the 3-D scatter plot found in Part 5d.",
   "metadata": {
    "papermill": {
     "duration": 0.180996,
     "end_time": "2020-08-14T19:33:36.663963",
     "exception": false,
     "start_time": "2020-08-14T19:33:36.482967",
     "status": "completed"
    },
    "tags": [],
    "cell_id": "00054-448241ec-d34c-4849-aa42-0d6238ee8e69",
    "deepnote_cell_type": "markdown"
   }
  },
  {
   "cell_type": "code",
   "metadata": {
    "execution": {
     "iopub.execute_input": "2020-08-14T19:33:37.061771Z",
     "iopub.status.busy": "2020-08-14T19:33:37.049090Z",
     "iopub.status.idle": "2020-08-14T19:33:37.096945Z",
     "shell.execute_reply": "2020-08-14T19:33:37.097557Z"
    },
    "papermill": {
     "duration": 0.247015,
     "end_time": "2020-08-14T19:33:37.097730",
     "exception": false,
     "start_time": "2020-08-14T19:33:36.850715",
     "status": "completed"
    },
    "tags": [],
    "cell_id": "00055-a53d9f59-b2c9-49fd-b7a3-26a579405b8a",
    "deepnote_to_be_reexecuted": false,
    "source_hash": "84055be9",
    "execution_start": 1638840395834,
    "execution_millis": 4,
    "output_cleared": false,
    "deepnote_cell_type": "code"
   },
   "source": "# pick a brand to analyze\nbrand = \"Grey Horse\"\n\n# identify the batch label for outlier point(s) - has to be a list!\noutlier_batches = [184]\n\n############### >>>>> DO NOT CHANGE SECTION - START >>>>> #############\n# filter out irrelevant brands\nall_brand_batches = FeatureDF[FeatureDF[\"Brand\"] == brand_dictionary[brand]]\n\n# identify labels for in-spec batches\ninspec_batches = [\n    x for x in all_brand_batches[\"Batch\"].unique() if x not in outlier_batches\n]\n\n\ndef extract_feature_values(ref_lbls, feat_matrix=X, feat_df=FeatureDF):\n    ref_idxs = []\n    for idx, lbl in enumerate(ref_lbls):\n        ref_idxs.append(feat_df.index[feat_df[\"Batch\"] == lbl].tolist()[0])\n    feature_values = list(feat_matrix[ref_idxs, :].mean(axis=0))\n    return feature_values\n\n\nprint(\"--- cell ok ---\")",
   "execution_count": null,
   "outputs": [
    {
     "name": "stdout",
     "text": "--- cell ok ---\n",
     "output_type": "stream"
    }
   ]
  },
  {
   "cell_type": "code",
   "metadata": {
    "execution": {
     "iopub.execute_input": "2020-08-14T19:33:37.061771Z",
     "iopub.status.busy": "2020-08-14T19:33:37.049090Z",
     "iopub.status.idle": "2020-08-14T19:33:37.096945Z",
     "shell.execute_reply": "2020-08-14T19:33:37.097557Z"
    },
    "papermill": {
     "duration": 0.247015,
     "end_time": "2020-08-14T19:33:37.097730",
     "exception": false,
     "start_time": "2020-08-14T19:33:36.850715",
     "status": "completed"
    },
    "tags": [],
    "cell_id": "00056-59967122-6c80-4e96-b928-ab9ef4f84514",
    "deepnote_to_be_reexecuted": false,
    "source_hash": "3f01f15c",
    "execution_start": 1638840395854,
    "execution_millis": 45,
    "output_cleared": false,
    "deepnote_cell_type": "code"
   },
   "source": "def create_plot_object(\n    eigenvector,\n    feature_values,\n    bar_color,\n    feature_name,\n    show_legend=True,\n    feature_df=FeatureDF,\n    N_PCs=3,\n):\n    # compute feature contribution\n    contribution = [p * x for p, x in zip(eigenvector, feature_values)]\n\n    # create plot object for the contribution\n    plot_object = go.Bar(\n        x=feature_df.columns.tolist()[2:],\n        y=contribution,\n        name=feature_name,\n        marker=dict(color=bar_color),\n        showlegend=show_legend,\n    )\n    return plot_object\n\n\nprint(\"--- create_plot_object defined ---\")",
   "execution_count": null,
   "outputs": [
    {
     "name": "stdout",
     "text": "--- create_plot_object defined ---\n",
     "output_type": "stream"
    }
   ]
  },
  {
   "cell_type": "code",
   "metadata": {
    "execution": {
     "iopub.execute_input": "2020-08-14T19:33:37.061771Z",
     "iopub.status.busy": "2020-08-14T19:33:37.049090Z",
     "iopub.status.idle": "2020-08-14T19:33:37.096945Z",
     "shell.execute_reply": "2020-08-14T19:33:37.097557Z"
    },
    "papermill": {
     "duration": 0.247015,
     "end_time": "2020-08-14T19:33:37.097730",
     "exception": false,
     "start_time": "2020-08-14T19:33:36.850715",
     "status": "completed"
    },
    "tags": [],
    "cell_id": "00057-164e07bc-9cfc-443c-aba3-767a42e7b42a",
    "deepnote_to_be_reexecuted": false,
    "source_hash": "14ea36d9",
    "execution_start": 1638840395871,
    "execution_millis": 35,
    "output_cleared": false,
    "deepnote_cell_type": "code"
   },
   "source": "def plot_feature_contributions(\n    outlier_feature_vals, ref_feature_vals, eigenvector_matrix=P\n):\n\n    # initialize contribution plots\n    fig = make_subplots(rows=3, cols=1, shared_xaxes=True, vertical_spacing=0.03)\n\n    # create plot objects for contributions in first 3 PCs\n    for i_component in range(3):\n\n        # flag, whether to show legend\n        show_flag = True if i_component == 0 else False\n\n        # eigenvector for PC\n        eigenvector = eigenvector_matrix[i_component, :]\n\n        # create plot object for outlier batch(es)\n        outlier_obj = create_plot_object(\n            eigenvector,\n            outlier_feature_vals,\n            \"royalblue\",\n            \"Outlier\",\n            show_legend=show_flag,\n        )\n\n        # create plot object for inspec batch(es)\n        ref_obj = create_plot_object(\n            eigenvector,\n            ref_feature_vals,\n            \"lightsteelblue\",\n            \"In-spec\",\n            show_legend=show_flag,\n        )\n\n        # create bar plot for PC contribution\n        fig.append_trace(outlier_obj, i_component + 1, 1)\n        fig.append_trace(ref_obj, i_component + 1, 1)\n\n        # label y axis appropriately\n        fig[\"layout\"][f\"yaxis{i_component+1}\"].update(\n            title=f\"PC{i_component+1} Contribution\"\n        )\n\n    # layout of bar plot\n    fig[\"layout\"].update(width=800, height=900, xaxis=dict(tickangle=45))\n\n    # show bar plot\n    fig.show()\n    return\n\nprint(\"--- plot_feature_contributions defined ---\")",
   "execution_count": null,
   "outputs": [
    {
     "name": "stdout",
     "text": "--- plot_feature_contributions defined ---\n",
     "output_type": "stream"
    }
   ]
  },
  {
   "cell_type": "code",
   "metadata": {
    "execution": {
     "iopub.execute_input": "2020-08-14T19:33:37.061771Z",
     "iopub.status.busy": "2020-08-14T19:33:37.049090Z",
     "iopub.status.idle": "2020-08-14T19:33:37.096945Z",
     "shell.execute_reply": "2020-08-14T19:33:37.097557Z"
    },
    "papermill": {
     "duration": 0.247015,
     "end_time": "2020-08-14T19:33:37.097730",
     "exception": false,
     "start_time": "2020-08-14T19:33:36.850715",
     "status": "completed"
    },
    "tags": [],
    "cell_id": "00058-d15580c9-06f2-43bd-86d1-7cb1ba29a5b5",
    "deepnote_output_heights": [
     611
    ],
    "deepnote_to_be_reexecuted": false,
    "source_hash": "974f7c62",
    "execution_start": 1638840395884,
    "execution_millis": 107,
    "output_cleared": false,
    "deepnote_cell_type": "code"
   },
   "source": "############### <<<<< DO NOT CHANGE SECTION - END <<<<< #############\n\n# call function extract feature values\noutlier_feature_values = extract_feature_values(outlier_batches)\ninspec_feature_values = extract_feature_values(inspec_batches)\n\n# call function to plot contributions\nplot_feature_contributions(outlier_feature_values, inspec_feature_values)",
   "execution_count": null,
   "outputs": [
    {
     "data": {
      "text/html": "<html>\n<head><meta charset=\"utf-8\" /></head>\n<body>\n    <div>            <script src=\"https://cdnjs.cloudflare.com/ajax/libs/mathjax/2.7.5/MathJax.js?config=TeX-AMS-MML_SVG\"></script><script type=\"text/javascript\">if (window.MathJax) {MathJax.Hub.Config({SVG: {font: \"STIX-Web\"}});}</script>                <script type=\"text/javascript\">window.PlotlyConfig = {MathJaxConfig: 'local'};</script>\n        <script src=\"https://cdn.plot.ly/plotly-2.4.2.min.js\"></script>                <div id=\"6198ac46-432b-4408-a4c7-c7fe312c40a7\" class=\"plotly-graph-div\" style=\"height:900px; width:800px;\"></div>            <script type=\"text/javascript\">                                    window.PLOTLYENV=window.PLOTLYENV || {};                                    if (document.getElementById(\"6198ac46-432b-4408-a4c7-c7fe312c40a7\")) {                    Plotly.newPlot(                        \"6198ac46-432b-4408-a4c7-c7fe312c40a7\",                        [{\"marker\":{\"color\":\"royalblue\"},\"name\":\"Outlier\",\"showlegend\":true,\"type\":\"bar\",\"x\":[\"FERM_ADF\",\"FERM_Duration\",\"FERM_avg_coolint_bottom\",\"FERM_avg_temp_bottom\",\"FERM_max_temp_bottom\",\"FERM_min_temp_bottom\",\"FERM_var_temp_bottom\",\"FERM_var_between_zones\"],\"xaxis\":\"x\",\"y\":[0.20248910372064371,1.422810031508632,0.19825917826642417,0.04836238768977678,1.0719442675586746,-0.21494975295506358,0.973393253840807,1.6401500972796377],\"yaxis\":\"y\"},{\"marker\":{\"color\":\"lightsteelblue\"},\"name\":\"In-spec\",\"showlegend\":true,\"type\":\"bar\",\"x\":[\"FERM_ADF\",\"FERM_Duration\",\"FERM_avg_coolint_bottom\",\"FERM_avg_temp_bottom\",\"FERM_max_temp_bottom\",\"FERM_min_temp_bottom\",\"FERM_var_temp_bottom\",\"FERM_var_between_zones\"],\"xaxis\":\"x\",\"y\":[-0.08227339246252696,-0.015730508530957497,0.03412069998373075,-0.2704148040197855,-0.27458182408083426,-0.25326373777590006,-0.029564702711209166,0.006861291680407681],\"yaxis\":\"y\"},{\"marker\":{\"color\":\"royalblue\"},\"name\":\"Outlier\",\"showlegend\":false,\"type\":\"bar\",\"x\":[\"FERM_ADF\",\"FERM_Duration\",\"FERM_avg_coolint_bottom\",\"FERM_avg_temp_bottom\",\"FERM_max_temp_bottom\",\"FERM_min_temp_bottom\",\"FERM_var_temp_bottom\",\"FERM_var_between_zones\"],\"xaxis\":\"x2\",\"y\":[0.056024975170948295,7.6851137207625975,-0.048865774464100904,-0.01696055860576646,-0.11599159611264316,0.11700643798458024,2.699446352331283,3.8812794108927178],\"yaxis\":\"y2\"},{\"marker\":{\"color\":\"lightsteelblue\"},\"name\":\"In-spec\",\"showlegend\":false,\"type\":\"bar\",\"x\":[\"FERM_ADF\",\"FERM_Duration\",\"FERM_avg_coolint_bottom\",\"FERM_avg_temp_bottom\",\"FERM_max_temp_bottom\",\"FERM_min_temp_bottom\",\"FERM_var_temp_bottom\",\"FERM_var_between_zones\"],\"xaxis\":\"x2\",\"y\":[-0.022763520037610962,-0.08496618963084752,-0.008409872594758993,0.09483374065118647,0.02971160442062222,0.13786239537578757,-0.08198981097991519,0.016236678689020886],\"yaxis\":\"y2\"},{\"marker\":{\"color\":\"royalblue\"},\"name\":\"Outlier\",\"showlegend\":false,\"type\":\"bar\",\"x\":[\"FERM_ADF\",\"FERM_Duration\",\"FERM_avg_coolint_bottom\",\"FERM_avg_temp_bottom\",\"FERM_max_temp_bottom\",\"FERM_min_temp_bottom\",\"FERM_var_temp_bottom\",\"FERM_var_between_zones\"],\"xaxis\":\"x3\",\"y\":[0.3149432417942098,-0.7190762383746577,-0.5720266950920784,0.009572289519952112,0.25091293457791153,0.0010721030546760127,2.372134635951371,-3.3235317837654423],\"yaxis\":\"y3\"},{\"marker\":{\"color\":\"lightsteelblue\"},\"name\":\"In-spec\",\"showlegend\":false,\"type\":\"bar\",\"x\":[\"FERM_ADF\",\"FERM_Duration\",\"FERM_avg_coolint_bottom\",\"FERM_avg_temp_bottom\",\"FERM_max_temp_bottom\",\"FERM_min_temp_bottom\",\"FERM_var_temp_bottom\",\"FERM_var_between_zones\"],\"xaxis\":\"x3\",\"y\":[-0.12796465814428848,0.007950066875876365,-0.09844664653907356,-0.053522766724474036,-0.06427212061946759,0.0012632013909081852,-0.07204842957986461,-0.013903435432734302],\"yaxis\":\"y3\"}],                        {\"height\":900,\"template\":{\"data\":{\"bar\":[{\"error_x\":{\"color\":\"#2a3f5f\"},\"error_y\":{\"color\":\"#2a3f5f\"},\"marker\":{\"line\":{\"color\":\"#E5ECF6\",\"width\":0.5},\"pattern\":{\"fillmode\":\"overlay\",\"size\":10,\"solidity\":0.2}},\"type\":\"bar\"}],\"barpolar\":[{\"marker\":{\"line\":{\"color\":\"#E5ECF6\",\"width\":0.5},\"pattern\":{\"fillmode\":\"overlay\",\"size\":10,\"solidity\":0.2}},\"type\":\"barpolar\"}],\"carpet\":[{\"aaxis\":{\"endlinecolor\":\"#2a3f5f\",\"gridcolor\":\"white\",\"linecolor\":\"white\",\"minorgridcolor\":\"white\",\"startlinecolor\":\"#2a3f5f\"},\"baxis\":{\"endlinecolor\":\"#2a3f5f\",\"gridcolor\":\"white\",\"linecolor\":\"white\",\"minorgridcolor\":\"white\",\"startlinecolor\":\"#2a3f5f\"},\"type\":\"carpet\"}],\"choropleth\":[{\"colorbar\":{\"outlinewidth\":0,\"ticks\":\"\"},\"type\":\"choropleth\"}],\"contour\":[{\"colorbar\":{\"outlinewidth\":0,\"ticks\":\"\"},\"colorscale\":[[0.0,\"#0d0887\"],[0.1111111111111111,\"#46039f\"],[0.2222222222222222,\"#7201a8\"],[0.3333333333333333,\"#9c179e\"],[0.4444444444444444,\"#bd3786\"],[0.5555555555555556,\"#d8576b\"],[0.6666666666666666,\"#ed7953\"],[0.7777777777777778,\"#fb9f3a\"],[0.8888888888888888,\"#fdca26\"],[1.0,\"#f0f921\"]],\"type\":\"contour\"}],\"contourcarpet\":[{\"colorbar\":{\"outlinewidth\":0,\"ticks\":\"\"},\"type\":\"contourcarpet\"}],\"heatmap\":[{\"colorbar\":{\"outlinewidth\":0,\"ticks\":\"\"},\"colorscale\":[[0.0,\"#0d0887\"],[0.1111111111111111,\"#46039f\"],[0.2222222222222222,\"#7201a8\"],[0.3333333333333333,\"#9c179e\"],[0.4444444444444444,\"#bd3786\"],[0.5555555555555556,\"#d8576b\"],[0.6666666666666666,\"#ed7953\"],[0.7777777777777778,\"#fb9f3a\"],[0.8888888888888888,\"#fdca26\"],[1.0,\"#f0f921\"]],\"type\":\"heatmap\"}],\"heatmapgl\":[{\"colorbar\":{\"outlinewidth\":0,\"ticks\":\"\"},\"colorscale\":[[0.0,\"#0d0887\"],[0.1111111111111111,\"#46039f\"],[0.2222222222222222,\"#7201a8\"],[0.3333333333333333,\"#9c179e\"],[0.4444444444444444,\"#bd3786\"],[0.5555555555555556,\"#d8576b\"],[0.6666666666666666,\"#ed7953\"],[0.7777777777777778,\"#fb9f3a\"],[0.8888888888888888,\"#fdca26\"],[1.0,\"#f0f921\"]],\"type\":\"heatmapgl\"}],\"histogram\":[{\"marker\":{\"pattern\":{\"fillmode\":\"overlay\",\"size\":10,\"solidity\":0.2}},\"type\":\"histogram\"}],\"histogram2d\":[{\"colorbar\":{\"outlinewidth\":0,\"ticks\":\"\"},\"colorscale\":[[0.0,\"#0d0887\"],[0.1111111111111111,\"#46039f\"],[0.2222222222222222,\"#7201a8\"],[0.3333333333333333,\"#9c179e\"],[0.4444444444444444,\"#bd3786\"],[0.5555555555555556,\"#d8576b\"],[0.6666666666666666,\"#ed7953\"],[0.7777777777777778,\"#fb9f3a\"],[0.8888888888888888,\"#fdca26\"],[1.0,\"#f0f921\"]],\"type\":\"histogram2d\"}],\"histogram2dcontour\":[{\"colorbar\":{\"outlinewidth\":0,\"ticks\":\"\"},\"colorscale\":[[0.0,\"#0d0887\"],[0.1111111111111111,\"#46039f\"],[0.2222222222222222,\"#7201a8\"],[0.3333333333333333,\"#9c179e\"],[0.4444444444444444,\"#bd3786\"],[0.5555555555555556,\"#d8576b\"],[0.6666666666666666,\"#ed7953\"],[0.7777777777777778,\"#fb9f3a\"],[0.8888888888888888,\"#fdca26\"],[1.0,\"#f0f921\"]],\"type\":\"histogram2dcontour\"}],\"mesh3d\":[{\"colorbar\":{\"outlinewidth\":0,\"ticks\":\"\"},\"type\":\"mesh3d\"}],\"parcoords\":[{\"line\":{\"colorbar\":{\"outlinewidth\":0,\"ticks\":\"\"}},\"type\":\"parcoords\"}],\"pie\":[{\"automargin\":true,\"type\":\"pie\"}],\"scatter\":[{\"marker\":{\"colorbar\":{\"outlinewidth\":0,\"ticks\":\"\"}},\"type\":\"scatter\"}],\"scatter3d\":[{\"line\":{\"colorbar\":{\"outlinewidth\":0,\"ticks\":\"\"}},\"marker\":{\"colorbar\":{\"outlinewidth\":0,\"ticks\":\"\"}},\"type\":\"scatter3d\"}],\"scattercarpet\":[{\"marker\":{\"colorbar\":{\"outlinewidth\":0,\"ticks\":\"\"}},\"type\":\"scattercarpet\"}],\"scattergeo\":[{\"marker\":{\"colorbar\":{\"outlinewidth\":0,\"ticks\":\"\"}},\"type\":\"scattergeo\"}],\"scattergl\":[{\"marker\":{\"colorbar\":{\"outlinewidth\":0,\"ticks\":\"\"}},\"type\":\"scattergl\"}],\"scattermapbox\":[{\"marker\":{\"colorbar\":{\"outlinewidth\":0,\"ticks\":\"\"}},\"type\":\"scattermapbox\"}],\"scatterpolar\":[{\"marker\":{\"colorbar\":{\"outlinewidth\":0,\"ticks\":\"\"}},\"type\":\"scatterpolar\"}],\"scatterpolargl\":[{\"marker\":{\"colorbar\":{\"outlinewidth\":0,\"ticks\":\"\"}},\"type\":\"scatterpolargl\"}],\"scatterternary\":[{\"marker\":{\"colorbar\":{\"outlinewidth\":0,\"ticks\":\"\"}},\"type\":\"scatterternary\"}],\"surface\":[{\"colorbar\":{\"outlinewidth\":0,\"ticks\":\"\"},\"colorscale\":[[0.0,\"#0d0887\"],[0.1111111111111111,\"#46039f\"],[0.2222222222222222,\"#7201a8\"],[0.3333333333333333,\"#9c179e\"],[0.4444444444444444,\"#bd3786\"],[0.5555555555555556,\"#d8576b\"],[0.6666666666666666,\"#ed7953\"],[0.7777777777777778,\"#fb9f3a\"],[0.8888888888888888,\"#fdca26\"],[1.0,\"#f0f921\"]],\"type\":\"surface\"}],\"table\":[{\"cells\":{\"fill\":{\"color\":\"#EBF0F8\"},\"line\":{\"color\":\"white\"}},\"header\":{\"fill\":{\"color\":\"#C8D4E3\"},\"line\":{\"color\":\"white\"}},\"type\":\"table\"}]},\"layout\":{\"annotationdefaults\":{\"arrowcolor\":\"#2a3f5f\",\"arrowhead\":0,\"arrowwidth\":1},\"autotypenumbers\":\"strict\",\"coloraxis\":{\"colorbar\":{\"outlinewidth\":0,\"ticks\":\"\"}},\"colorscale\":{\"diverging\":[[0,\"#8e0152\"],[0.1,\"#c51b7d\"],[0.2,\"#de77ae\"],[0.3,\"#f1b6da\"],[0.4,\"#fde0ef\"],[0.5,\"#f7f7f7\"],[0.6,\"#e6f5d0\"],[0.7,\"#b8e186\"],[0.8,\"#7fbc41\"],[0.9,\"#4d9221\"],[1,\"#276419\"]],\"sequential\":[[0.0,\"#0d0887\"],[0.1111111111111111,\"#46039f\"],[0.2222222222222222,\"#7201a8\"],[0.3333333333333333,\"#9c179e\"],[0.4444444444444444,\"#bd3786\"],[0.5555555555555556,\"#d8576b\"],[0.6666666666666666,\"#ed7953\"],[0.7777777777777778,\"#fb9f3a\"],[0.8888888888888888,\"#fdca26\"],[1.0,\"#f0f921\"]],\"sequentialminus\":[[0.0,\"#0d0887\"],[0.1111111111111111,\"#46039f\"],[0.2222222222222222,\"#7201a8\"],[0.3333333333333333,\"#9c179e\"],[0.4444444444444444,\"#bd3786\"],[0.5555555555555556,\"#d8576b\"],[0.6666666666666666,\"#ed7953\"],[0.7777777777777778,\"#fb9f3a\"],[0.8888888888888888,\"#fdca26\"],[1.0,\"#f0f921\"]]},\"colorway\":[\"#636efa\",\"#EF553B\",\"#00cc96\",\"#ab63fa\",\"#FFA15A\",\"#19d3f3\",\"#FF6692\",\"#B6E880\",\"#FF97FF\",\"#FECB52\"],\"font\":{\"color\":\"#2a3f5f\"},\"geo\":{\"bgcolor\":\"white\",\"lakecolor\":\"white\",\"landcolor\":\"#E5ECF6\",\"showlakes\":true,\"showland\":true,\"subunitcolor\":\"white\"},\"hoverlabel\":{\"align\":\"left\"},\"hovermode\":\"closest\",\"mapbox\":{\"style\":\"light\"},\"paper_bgcolor\":\"white\",\"plot_bgcolor\":\"#E5ECF6\",\"polar\":{\"angularaxis\":{\"gridcolor\":\"white\",\"linecolor\":\"white\",\"ticks\":\"\"},\"bgcolor\":\"#E5ECF6\",\"radialaxis\":{\"gridcolor\":\"white\",\"linecolor\":\"white\",\"ticks\":\"\"}},\"scene\":{\"xaxis\":{\"backgroundcolor\":\"#E5ECF6\",\"gridcolor\":\"white\",\"gridwidth\":2,\"linecolor\":\"white\",\"showbackground\":true,\"ticks\":\"\",\"zerolinecolor\":\"white\"},\"yaxis\":{\"backgroundcolor\":\"#E5ECF6\",\"gridcolor\":\"white\",\"gridwidth\":2,\"linecolor\":\"white\",\"showbackground\":true,\"ticks\":\"\",\"zerolinecolor\":\"white\"},\"zaxis\":{\"backgroundcolor\":\"#E5ECF6\",\"gridcolor\":\"white\",\"gridwidth\":2,\"linecolor\":\"white\",\"showbackground\":true,\"ticks\":\"\",\"zerolinecolor\":\"white\"}},\"shapedefaults\":{\"line\":{\"color\":\"#2a3f5f\"}},\"ternary\":{\"aaxis\":{\"gridcolor\":\"white\",\"linecolor\":\"white\",\"ticks\":\"\"},\"baxis\":{\"gridcolor\":\"white\",\"linecolor\":\"white\",\"ticks\":\"\"},\"bgcolor\":\"#E5ECF6\",\"caxis\":{\"gridcolor\":\"white\",\"linecolor\":\"white\",\"ticks\":\"\"}},\"title\":{\"x\":0.05},\"xaxis\":{\"automargin\":true,\"gridcolor\":\"white\",\"linecolor\":\"white\",\"ticks\":\"\",\"title\":{\"standoff\":15},\"zerolinecolor\":\"white\",\"zerolinewidth\":2},\"yaxis\":{\"automargin\":true,\"gridcolor\":\"white\",\"linecolor\":\"white\",\"ticks\":\"\",\"title\":{\"standoff\":15},\"zerolinecolor\":\"white\",\"zerolinewidth\":2}}},\"width\":800,\"xaxis\":{\"anchor\":\"y\",\"domain\":[0.0,1.0],\"matches\":\"x3\",\"showticklabels\":false,\"tickangle\":45},\"xaxis2\":{\"anchor\":\"y2\",\"domain\":[0.0,1.0],\"matches\":\"x3\",\"showticklabels\":false},\"xaxis3\":{\"anchor\":\"y3\",\"domain\":[0.0,1.0]},\"yaxis\":{\"anchor\":\"x\",\"domain\":[0.6866666666666665,0.9999999999999998],\"title\":{\"text\":\"PC1 Contribution\"}},\"yaxis2\":{\"anchor\":\"x2\",\"domain\":[0.34333333333333327,0.6566666666666665],\"title\":{\"text\":\"PC2 Contribution\"}},\"yaxis3\":{\"anchor\":\"x3\",\"domain\":[0.0,0.3133333333333333],\"title\":{\"text\":\"PC3 Contribution\"}}},                        {\"responsive\": true}                    ).then(function(){\n                            \nvar gd = document.getElementById('6198ac46-432b-4408-a4c7-c7fe312c40a7');\nvar x = new MutationObserver(function (mutations, observer) {{\n        var display = window.getComputedStyle(gd).display;\n        if (!display || display === 'none') {{\n            console.log([gd, 'removed!']);\n            Plotly.purge(gd);\n            observer.disconnect();\n        }}\n}});\n\n// Listen for the removal of the full notebook cells\nvar notebookContainer = gd.closest('#notebook-container');\nif (notebookContainer) {{\n    x.observe(notebookContainer, {childList: true});\n}}\n\n// Listen for the clearing of the current output cell\nvar outputEl = gd.closest('.output');\nif (outputEl) {{\n    x.observe(outputEl, {childList: true});\n}}\n\n                        })                };                            </script>        </div>\n</body>\n</html>"
     },
     "metadata": {},
     "output_type": "display_data"
    }
   ]
  },
  {
   "cell_type": "markdown",
   "source": "**Highlight outlier rows in FeatureDF.csv**",
   "metadata": {
    "papermill": {
     "duration": 0.196276,
     "end_time": "2020-08-14T19:33:37.487778",
     "exception": false,
     "start_time": "2020-08-14T19:33:37.291502",
     "status": "completed"
    },
    "tags": [],
    "cell_id": "00059-2aec86e0-d9db-447e-ac4c-26c04f67bdd3",
    "deepnote_cell_type": "markdown"
   }
  },
  {
   "cell_type": "code",
   "metadata": {
    "execution": {
     "iopub.execute_input": "2020-08-14T19:33:37.843564Z",
     "iopub.status.busy": "2020-08-14T19:33:37.842319Z",
     "iopub.status.idle": "2020-08-14T19:33:38.171120Z",
     "shell.execute_reply": "2020-08-14T19:33:38.170525Z"
    },
    "papermill": {
     "duration": 0.503624,
     "end_time": "2020-08-14T19:33:38.171257",
     "exception": false,
     "start_time": "2020-08-14T19:33:37.667633",
     "status": "completed"
    },
    "tags": [],
    "cell_id": "00060-d025dd3b-1ff6-4bc7-a34f-6b9489e2dd72",
    "deepnote_output_heights": [
     606.1875
    ],
    "deepnote_to_be_reexecuted": false,
    "source_hash": "9f9b9c76",
    "execution_start": 1638840395980,
    "execution_millis": 590,
    "output_cleared": false,
    "deepnote_cell_type": "code"
   },
   "source": "# read the save feature dataframe\nfeature_df = pd.read_csv(\"FeatureDF.csv\")\nfeature_df = feature_df.astype({\"Batch\": int})\n\n# Filter on index+1 in BRANDS_OF_INTEREST (because brand in FeatureDF.csv is an integer)\nbrand_df = feature_df[feature_df[\"Brand\"] == BRANDS_OF_INTEREST.index(brand) + 1]\n\n# row turns red for batch flagged as outlier\ndef highlight_outliers(s):\n    if s.Batch in outlier_batches:\n        return [\"background-color: red\"] * 10\n    else:\n        return [\"\"] * 10\n\n\nbrand_df.style.apply(highlight_outliers, axis=1)",
   "execution_count": null,
   "outputs": [
    {
     "output_type": "execute_result",
     "execution_count": 30,
     "data": {
      "text/plain": "<pandas.io.formats.style.Styler at 0x7f7a000d5210>",
      "text/html": "<style  type=\"text/css\" >\n#T_c3fbc_row15_col0,#T_c3fbc_row15_col1,#T_c3fbc_row15_col2,#T_c3fbc_row15_col3,#T_c3fbc_row15_col4,#T_c3fbc_row15_col5,#T_c3fbc_row15_col6,#T_c3fbc_row15_col7,#T_c3fbc_row15_col8,#T_c3fbc_row15_col9{\n            background-color:  red;\n        }</style><table id=\"T_c3fbc_\" ><thead>    <tr>        <th class=\"blank level0\" ></th>        <th class=\"col_heading level0 col0\" >Brand</th>        <th class=\"col_heading level0 col1\" >Batch</th>        <th class=\"col_heading level0 col2\" >FERM_ADF</th>        <th class=\"col_heading level0 col3\" >FERM_Duration</th>        <th class=\"col_heading level0 col4\" >FERM_avg_coolint_bottom</th>        <th class=\"col_heading level0 col5\" >FERM_avg_temp_bottom</th>        <th class=\"col_heading level0 col6\" >FERM_max_temp_bottom</th>        <th class=\"col_heading level0 col7\" >FERM_min_temp_bottom</th>        <th class=\"col_heading level0 col8\" >FERM_var_temp_bottom</th>        <th class=\"col_heading level0 col9\" >FERM_var_between_zones</th>    </tr></thead><tbody>\n                <tr>\n                        <th id=\"T_c3fbc_level0_row0\" class=\"row_heading level0 row0\" >23</th>\n                        <td id=\"T_c3fbc_row0_col0\" class=\"data row0 col0\" >3.000000</td>\n                        <td id=\"T_c3fbc_row0_col1\" class=\"data row0 col1\" >33</td>\n                        <td id=\"T_c3fbc_row0_col2\" class=\"data row0 col2\" >0.299574</td>\n                        <td id=\"T_c3fbc_row0_col3\" class=\"data row0 col3\" >1.395833</td>\n                        <td id=\"T_c3fbc_row0_col4\" class=\"data row0 col4\" >2.943408</td>\n                        <td id=\"T_c3fbc_row0_col5\" class=\"data row0 col5\" >62.961737</td>\n                        <td id=\"T_c3fbc_row0_col6\" class=\"data row0 col6\" >63.219883</td>\n                        <td id=\"T_c3fbc_row0_col7\" class=\"data row0 col7\" >62.728725</td>\n                        <td id=\"T_c3fbc_row0_col8\" class=\"data row0 col8\" >0.006004</td>\n                        <td id=\"T_c3fbc_row0_col9\" class=\"data row0 col9\" >0.021349</td>\n            </tr>\n            <tr>\n                        <th id=\"T_c3fbc_level0_row1\" class=\"row_heading level0 row1\" >24</th>\n                        <td id=\"T_c3fbc_row1_col0\" class=\"data row1 col0\" >3.000000</td>\n                        <td id=\"T_c3fbc_row1_col1\" class=\"data row1 col1\" >35</td>\n                        <td id=\"T_c3fbc_row1_col2\" class=\"data row1 col2\" >0.264309</td>\n                        <td id=\"T_c3fbc_row1_col3\" class=\"data row1 col3\" >1.562500</td>\n                        <td id=\"T_c3fbc_row1_col4\" class=\"data row1 col4\" >5.891675</td>\n                        <td id=\"T_c3fbc_row1_col5\" class=\"data row1 col5\" >62.933065</td>\n                        <td id=\"T_c3fbc_row1_col6\" class=\"data row1 col6\" >63.199444</td>\n                        <td id=\"T_c3fbc_row1_col7\" class=\"data row1 col7\" >62.600002</td>\n                        <td id=\"T_c3fbc_row1_col8\" class=\"data row1 col8\" >0.011483</td>\n                        <td id=\"T_c3fbc_row1_col9\" class=\"data row1 col9\" >0.024901</td>\n            </tr>\n            <tr>\n                        <th id=\"T_c3fbc_level0_row2\" class=\"row_heading level0 row2\" >25</th>\n                        <td id=\"T_c3fbc_row2_col0\" class=\"data row2 col0\" >3.000000</td>\n                        <td id=\"T_c3fbc_row2_col1\" class=\"data row2 col1\" >36</td>\n                        <td id=\"T_c3fbc_row2_col2\" class=\"data row2 col2\" >0.330647</td>\n                        <td id=\"T_c3fbc_row2_col3\" class=\"data row2 col3\" >1.354167</td>\n                        <td id=\"T_c3fbc_row2_col4\" class=\"data row2 col4\" >3.800516</td>\n                        <td id=\"T_c3fbc_row2_col5\" class=\"data row2 col5\" >62.908413</td>\n                        <td id=\"T_c3fbc_row2_col6\" class=\"data row2 col6\" >63.199997</td>\n                        <td id=\"T_c3fbc_row2_col7\" class=\"data row2 col7\" >62.702713</td>\n                        <td id=\"T_c3fbc_row2_col8\" class=\"data row2 col8\" >0.009490</td>\n                        <td id=\"T_c3fbc_row2_col9\" class=\"data row2 col9\" >0.029175</td>\n            </tr>\n            <tr>\n                        <th id=\"T_c3fbc_level0_row3\" class=\"row_heading level0 row3\" >26</th>\n                        <td id=\"T_c3fbc_row3_col0\" class=\"data row3 col0\" >3.000000</td>\n                        <td id=\"T_c3fbc_row3_col1\" class=\"data row3 col1\" >38</td>\n                        <td id=\"T_c3fbc_row3_col2\" class=\"data row3 col2\" >0.412251</td>\n                        <td id=\"T_c3fbc_row3_col3\" class=\"data row3 col3\" >0.489583</td>\n                        <td id=\"T_c3fbc_row3_col4\" class=\"data row3 col4\" >2.502395</td>\n                        <td id=\"T_c3fbc_row3_col5\" class=\"data row3 col5\" >62.951519</td>\n                        <td id=\"T_c3fbc_row3_col6\" class=\"data row3 col6\" >63.195137</td>\n                        <td id=\"T_c3fbc_row3_col7\" class=\"data row3 col7\" >62.787373</td>\n                        <td id=\"T_c3fbc_row3_col8\" class=\"data row3 col8\" >0.008389</td>\n                        <td id=\"T_c3fbc_row3_col9\" class=\"data row3 col9\" >0.017050</td>\n            </tr>\n            <tr>\n                        <th id=\"T_c3fbc_level0_row4\" class=\"row_heading level0 row4\" >27</th>\n                        <td id=\"T_c3fbc_row4_col0\" class=\"data row4 col0\" >3.000000</td>\n                        <td id=\"T_c3fbc_row4_col1\" class=\"data row4 col1\" >39</td>\n                        <td id=\"T_c3fbc_row4_col2\" class=\"data row4 col2\" >0.296155</td>\n                        <td id=\"T_c3fbc_row4_col3\" class=\"data row4 col3\" >1.218750</td>\n                        <td id=\"T_c3fbc_row4_col4\" class=\"data row4 col4\" >2.640623</td>\n                        <td id=\"T_c3fbc_row4_col5\" class=\"data row4 col5\" >62.942264</td>\n                        <td id=\"T_c3fbc_row4_col6\" class=\"data row4 col6\" >63.186455</td>\n                        <td id=\"T_c3fbc_row4_col7\" class=\"data row4 col7\" >62.714912</td>\n                        <td id=\"T_c3fbc_row4_col8\" class=\"data row4 col8\" >0.008653</td>\n                        <td id=\"T_c3fbc_row4_col9\" class=\"data row4 col9\" >0.025176</td>\n            </tr>\n            <tr>\n                        <th id=\"T_c3fbc_level0_row5\" class=\"row_heading level0 row5\" >51</th>\n                        <td id=\"T_c3fbc_row5_col0\" class=\"data row5 col0\" >3.000000</td>\n                        <td id=\"T_c3fbc_row5_col1\" class=\"data row5 col1\" >77</td>\n                        <td id=\"T_c3fbc_row5_col2\" class=\"data row5 col2\" >0.306150</td>\n                        <td id=\"T_c3fbc_row5_col3\" class=\"data row5 col3\" >1.052083</td>\n                        <td id=\"T_c3fbc_row5_col4\" class=\"data row5 col4\" >33.401299</td>\n                        <td id=\"T_c3fbc_row5_col5\" class=\"data row5 col5\" >63.122431</td>\n                        <td id=\"T_c3fbc_row5_col6\" class=\"data row5 col6\" >63.385345</td>\n                        <td id=\"T_c3fbc_row5_col7\" class=\"data row5 col7\" >62.614040</td>\n                        <td id=\"T_c3fbc_row5_col8\" class=\"data row5 col8\" >0.023985</td>\n                        <td id=\"T_c3fbc_row5_col9\" class=\"data row5 col9\" >0.051609</td>\n            </tr>\n            <tr>\n                        <th id=\"T_c3fbc_level0_row6\" class=\"row_heading level0 row6\" >73</th>\n                        <td id=\"T_c3fbc_row6_col0\" class=\"data row6 col0\" >3.000000</td>\n                        <td id=\"T_c3fbc_row6_col1\" class=\"data row6 col1\" >114</td>\n                        <td id=\"T_c3fbc_row6_col2\" class=\"data row6 col2\" >0.241566</td>\n                        <td id=\"T_c3fbc_row6_col3\" class=\"data row6 col3\" >1.479167</td>\n                        <td id=\"T_c3fbc_row6_col4\" class=\"data row6 col4\" >52.339050</td>\n                        <td id=\"T_c3fbc_row6_col5\" class=\"data row6 col5\" >63.235253</td>\n                        <td id=\"T_c3fbc_row6_col6\" class=\"data row6 col6\" >63.500988</td>\n                        <td id=\"T_c3fbc_row6_col7\" class=\"data row6 col7\" >62.825138</td>\n                        <td id=\"T_c3fbc_row6_col8\" class=\"data row6 col8\" >0.015815</td>\n                        <td id=\"T_c3fbc_row6_col9\" class=\"data row6 col9\" >0.242851</td>\n            </tr>\n            <tr>\n                        <th id=\"T_c3fbc_level0_row7\" class=\"row_heading level0 row7\" >74</th>\n                        <td id=\"T_c3fbc_row7_col0\" class=\"data row7 col0\" >3.000000</td>\n                        <td id=\"T_c3fbc_row7_col1\" class=\"data row7 col1\" >115</td>\n                        <td id=\"T_c3fbc_row7_col2\" class=\"data row7 col2\" >0.333893</td>\n                        <td id=\"T_c3fbc_row7_col3\" class=\"data row7 col3\" >1.250000</td>\n                        <td id=\"T_c3fbc_row7_col4\" class=\"data row7 col4\" >72.419806</td>\n                        <td id=\"T_c3fbc_row7_col5\" class=\"data row7 col5\" >63.394890</td>\n                        <td id=\"T_c3fbc_row7_col6\" class=\"data row7 col6\" >63.891632</td>\n                        <td id=\"T_c3fbc_row7_col7\" class=\"data row7 col7\" >62.837303</td>\n                        <td id=\"T_c3fbc_row7_col8\" class=\"data row7 col8\" >0.046450</td>\n                        <td id=\"T_c3fbc_row7_col9\" class=\"data row7 col9\" >0.213522</td>\n            </tr>\n            <tr>\n                        <th id=\"T_c3fbc_level0_row8\" class=\"row_heading level0 row8\" >75</th>\n                        <td id=\"T_c3fbc_row8_col0\" class=\"data row8 col0\" >3.000000</td>\n                        <td id=\"T_c3fbc_row8_col1\" class=\"data row8 col1\" >116</td>\n                        <td id=\"T_c3fbc_row8_col2\" class=\"data row8 col2\" >0.334264</td>\n                        <td id=\"T_c3fbc_row8_col3\" class=\"data row8 col3\" >1.114583</td>\n                        <td id=\"T_c3fbc_row8_col4\" class=\"data row8 col4\" >74.285404</td>\n                        <td id=\"T_c3fbc_row8_col5\" class=\"data row8 col5\" >63.400155</td>\n                        <td id=\"T_c3fbc_row8_col6\" class=\"data row8 col6\" >63.820970</td>\n                        <td id=\"T_c3fbc_row8_col7\" class=\"data row8 col7\" >62.835660</td>\n                        <td id=\"T_c3fbc_row8_col8\" class=\"data row8 col8\" >0.037686</td>\n                        <td id=\"T_c3fbc_row8_col9\" class=\"data row8 col9\" >0.194794</td>\n            </tr>\n            <tr>\n                        <th id=\"T_c3fbc_level0_row9\" class=\"row_heading level0 row9\" >97</th>\n                        <td id=\"T_c3fbc_row9_col0\" class=\"data row9 col0\" >3.000000</td>\n                        <td id=\"T_c3fbc_row9_col1\" class=\"data row9 col1\" >145</td>\n                        <td id=\"T_c3fbc_row9_col2\" class=\"data row9 col2\" >0.304845</td>\n                        <td id=\"T_c3fbc_row9_col3\" class=\"data row9 col3\" >1.322917</td>\n                        <td id=\"T_c3fbc_row9_col4\" class=\"data row9 col4\" >71.818985</td>\n                        <td id=\"T_c3fbc_row9_col5\" class=\"data row9 col5\" >63.369298</td>\n                        <td id=\"T_c3fbc_row9_col6\" class=\"data row9 col6\" >63.787487</td>\n                        <td id=\"T_c3fbc_row9_col7\" class=\"data row9 col7\" >63.004444</td>\n                        <td id=\"T_c3fbc_row9_col8\" class=\"data row9 col8\" >0.025812</td>\n                        <td id=\"T_c3fbc_row9_col9\" class=\"data row9 col9\" >0.084166</td>\n            </tr>\n            <tr>\n                        <th id=\"T_c3fbc_level0_row10\" class=\"row_heading level0 row10\" >98</th>\n                        <td id=\"T_c3fbc_row10_col0\" class=\"data row10 col0\" >3.000000</td>\n                        <td id=\"T_c3fbc_row10_col1\" class=\"data row10 col1\" >148</td>\n                        <td id=\"T_c3fbc_row10_col2\" class=\"data row10 col2\" >0.298619</td>\n                        <td id=\"T_c3fbc_row10_col3\" class=\"data row10 col3\" >1.197917</td>\n                        <td id=\"T_c3fbc_row10_col4\" class=\"data row10 col4\" >39.555488</td>\n                        <td id=\"T_c3fbc_row10_col5\" class=\"data row10 col5\" >63.181928</td>\n                        <td id=\"T_c3fbc_row10_col6\" class=\"data row10 col6\" >63.492664</td>\n                        <td id=\"T_c3fbc_row10_col7\" class=\"data row10 col7\" >62.970080</td>\n                        <td id=\"T_c3fbc_row10_col8\" class=\"data row10 col8\" >0.008387</td>\n                        <td id=\"T_c3fbc_row10_col9\" class=\"data row10 col9\" >0.063312</td>\n            </tr>\n            <tr>\n                        <th id=\"T_c3fbc_level0_row11\" class=\"row_heading level0 row11\" >99</th>\n                        <td id=\"T_c3fbc_row11_col0\" class=\"data row11 col0\" >3.000000</td>\n                        <td id=\"T_c3fbc_row11_col1\" class=\"data row11 col1\" >149</td>\n                        <td id=\"T_c3fbc_row11_col2\" class=\"data row11 col2\" >0.306558</td>\n                        <td id=\"T_c3fbc_row11_col3\" class=\"data row11 col3\" >1.197917</td>\n                        <td id=\"T_c3fbc_row11_col4\" class=\"data row11 col4\" >53.695886</td>\n                        <td id=\"T_c3fbc_row11_col5\" class=\"data row11 col5\" >63.250304</td>\n                        <td id=\"T_c3fbc_row11_col6\" class=\"data row11 col6\" >63.592754</td>\n                        <td id=\"T_c3fbc_row11_col7\" class=\"data row11 col7\" >63.012253</td>\n                        <td id=\"T_c3fbc_row11_col8\" class=\"data row11 col8\" >0.012597</td>\n                        <td id=\"T_c3fbc_row11_col9\" class=\"data row11 col9\" >0.073946</td>\n            </tr>\n            <tr>\n                        <th id=\"T_c3fbc_level0_row12\" class=\"row_heading level0 row12\" >100</th>\n                        <td id=\"T_c3fbc_row12_col0\" class=\"data row12 col0\" >3.000000</td>\n                        <td id=\"T_c3fbc_row12_col1\" class=\"data row12 col1\" >150</td>\n                        <td id=\"T_c3fbc_row12_col2\" class=\"data row12 col2\" >0.348856</td>\n                        <td id=\"T_c3fbc_row12_col3\" class=\"data row12 col3\" >1.000000</td>\n                        <td id=\"T_c3fbc_row12_col4\" class=\"data row12 col4\" >46.927740</td>\n                        <td id=\"T_c3fbc_row12_col5\" class=\"data row12 col5\" >63.215297</td>\n                        <td id=\"T_c3fbc_row12_col6\" class=\"data row12 col6\" >63.500000</td>\n                        <td id=\"T_c3fbc_row12_col7\" class=\"data row12 col7\" >62.911190</td>\n                        <td id=\"T_c3fbc_row12_col8\" class=\"data row12 col8\" >0.012391</td>\n                        <td id=\"T_c3fbc_row12_col9\" class=\"data row12 col9\" >0.067400</td>\n            </tr>\n            <tr>\n                        <th id=\"T_c3fbc_level0_row13\" class=\"row_heading level0 row13\" >123</th>\n                        <td id=\"T_c3fbc_row13_col0\" class=\"data row13 col0\" >3.000000</td>\n                        <td id=\"T_c3fbc_row13_col1\" class=\"data row13 col1\" >182</td>\n                        <td id=\"T_c3fbc_row13_col2\" class=\"data row13 col2\" >0.274792</td>\n                        <td id=\"T_c3fbc_row13_col3\" class=\"data row13 col3\" >1.260417</td>\n                        <td id=\"T_c3fbc_row13_col4\" class=\"data row13 col4\" >57.643627</td>\n                        <td id=\"T_c3fbc_row13_col5\" class=\"data row13 col5\" >63.251715</td>\n                        <td id=\"T_c3fbc_row13_col6\" class=\"data row13 col6\" >63.596880</td>\n                        <td id=\"T_c3fbc_row13_col7\" class=\"data row13 col7\" >62.754288</td>\n                        <td id=\"T_c3fbc_row13_col8\" class=\"data row13 col8\" >0.022639</td>\n                        <td id=\"T_c3fbc_row13_col9\" class=\"data row13 col9\" >0.386452</td>\n            </tr>\n            <tr>\n                        <th id=\"T_c3fbc_level0_row14\" class=\"row_heading level0 row14\" >124</th>\n                        <td id=\"T_c3fbc_row14_col0\" class=\"data row14 col0\" >3.000000</td>\n                        <td id=\"T_c3fbc_row14_col1\" class=\"data row14 col1\" >183</td>\n                        <td id=\"T_c3fbc_row14_col2\" class=\"data row14 col2\" >0.296768</td>\n                        <td id=\"T_c3fbc_row14_col3\" class=\"data row14 col3\" >1.375000</td>\n                        <td id=\"T_c3fbc_row14_col4\" class=\"data row14 col4\" >62.600974</td>\n                        <td id=\"T_c3fbc_row14_col5\" class=\"data row14 col5\" >63.284521</td>\n                        <td id=\"T_c3fbc_row14_col6\" class=\"data row14 col6\" >63.613480</td>\n                        <td id=\"T_c3fbc_row14_col7\" class=\"data row14 col7\" >62.809143</td>\n                        <td id=\"T_c3fbc_row14_col8\" class=\"data row14 col8\" >0.020383</td>\n                        <td id=\"T_c3fbc_row14_col9\" class=\"data row14 col9\" >0.975438</td>\n            </tr>\n            <tr>\n                        <th id=\"T_c3fbc_level0_row15\" class=\"row_heading level0 row15\" >125</th>\n                        <td id=\"T_c3fbc_row15_col0\" class=\"data row15 col0\" >3.000000</td>\n                        <td id=\"T_c3fbc_row15_col1\" class=\"data row15 col1\" >184</td>\n                        <td id=\"T_c3fbc_row15_col2\" class=\"data row15 col2\" >0.219179</td>\n                        <td id=\"T_c3fbc_row15_col3\" class=\"data row15 col3\" >110.833333</td>\n                        <td id=\"T_c3fbc_row15_col4\" class=\"data row15 col4\" >51.346909</td>\n                        <td id=\"T_c3fbc_row15_col5\" class=\"data row15 col5\" >64.372768</td>\n                        <td id=\"T_c3fbc_row15_col6\" class=\"data row15 col6\" >69.082460</td>\n                        <td id=\"T_c3fbc_row15_col7\" class=\"data row15 col7\" >62.872566</td>\n                        <td id=\"T_c3fbc_row15_col8\" class=\"data row15 col8\" >3.214686</td>\n                        <td id=\"T_c3fbc_row15_col9\" class=\"data row15 col9\" >3.272015</td>\n            </tr>\n            <tr>\n                        <th id=\"T_c3fbc_level0_row16\" class=\"row_heading level0 row16\" >126</th>\n                        <td id=\"T_c3fbc_row16_col0\" class=\"data row16 col0\" >3.000000</td>\n                        <td id=\"T_c3fbc_row16_col1\" class=\"data row16 col1\" >185</td>\n                        <td id=\"T_c3fbc_row16_col2\" class=\"data row16 col2\" >0.268616</td>\n                        <td id=\"T_c3fbc_row16_col3\" class=\"data row16 col3\" >1.281250</td>\n                        <td id=\"T_c3fbc_row16_col4\" class=\"data row16 col4\" >70.379413</td>\n                        <td id=\"T_c3fbc_row16_col5\" class=\"data row16 col5\" >63.336876</td>\n                        <td id=\"T_c3fbc_row16_col6\" class=\"data row16 col6\" >63.632725</td>\n                        <td id=\"T_c3fbc_row16_col7\" class=\"data row16 col7\" >62.906364</td>\n                        <td id=\"T_c3fbc_row16_col8\" class=\"data row16 col8\" >0.020247</td>\n                        <td id=\"T_c3fbc_row16_col9\" class=\"data row16 col9\" >0.921225</td>\n            </tr>\n            <tr>\n                        <th id=\"T_c3fbc_level0_row17\" class=\"row_heading level0 row17\" >150</th>\n                        <td id=\"T_c3fbc_row17_col0\" class=\"data row17 col0\" >3.000000</td>\n                        <td id=\"T_c3fbc_row17_col1\" class=\"data row17 col1\" >223</td>\n                        <td id=\"T_c3fbc_row17_col2\" class=\"data row17 col2\" >0.240238</td>\n                        <td id=\"T_c3fbc_row17_col3\" class=\"data row17 col3\" >1.593750</td>\n                        <td id=\"T_c3fbc_row17_col4\" class=\"data row17 col4\" >0.000000</td>\n                        <td id=\"T_c3fbc_row17_col5\" class=\"data row17 col5\" >62.501263</td>\n                        <td id=\"T_c3fbc_row17_col6\" class=\"data row17 col6\" >62.767307</td>\n                        <td id=\"T_c3fbc_row17_col7\" class=\"data row17 col7\" >62.201122</td>\n                        <td id=\"T_c3fbc_row17_col8\" class=\"data row17 col8\" >0.009815</td>\n                        <td id=\"T_c3fbc_row17_col9\" class=\"data row17 col9\" >0.143039</td>\n            </tr>\n            <tr>\n                        <th id=\"T_c3fbc_level0_row18\" class=\"row_heading level0 row18\" >151</th>\n                        <td id=\"T_c3fbc_row18_col0\" class=\"data row18 col0\" >3.000000</td>\n                        <td id=\"T_c3fbc_row18_col1\" class=\"data row18 col1\" >224</td>\n                        <td id=\"T_c3fbc_row18_col2\" class=\"data row18 col2\" >0.272964</td>\n                        <td id=\"T_c3fbc_row18_col3\" class=\"data row18 col3\" >1.364583</td>\n                        <td id=\"T_c3fbc_row18_col4\" class=\"data row18 col4\" >0.000000</td>\n                        <td id=\"T_c3fbc_row18_col5\" class=\"data row18 col5\" >62.447450</td>\n                        <td id=\"T_c3fbc_row18_col6\" class=\"data row18 col6\" >62.794468</td>\n                        <td id=\"T_c3fbc_row18_col7\" class=\"data row18 col7\" >62.204310</td>\n                        <td id=\"T_c3fbc_row18_col8\" class=\"data row18 col8\" >0.016744</td>\n                        <td id=\"T_c3fbc_row18_col9\" class=\"data row18 col9\" >0.156048</td>\n            </tr>\n            <tr>\n                        <th id=\"T_c3fbc_level0_row19\" class=\"row_heading level0 row19\" >152</th>\n                        <td id=\"T_c3fbc_row19_col0\" class=\"data row19 col0\" >3.000000</td>\n                        <td id=\"T_c3fbc_row19_col1\" class=\"data row19 col1\" >226</td>\n                        <td id=\"T_c3fbc_row19_col2\" class=\"data row19 col2\" >0.274471</td>\n                        <td id=\"T_c3fbc_row19_col3\" class=\"data row19 col3\" >1.177083</td>\n                        <td id=\"T_c3fbc_row19_col4\" class=\"data row19 col4\" >0.000000</td>\n                        <td id=\"T_c3fbc_row19_col5\" class=\"data row19 col5\" >62.419368</td>\n                        <td id=\"T_c3fbc_row19_col6\" class=\"data row19 col6\" >62.672653</td>\n                        <td id=\"T_c3fbc_row19_col7\" class=\"data row19 col7\" >62.111400</td>\n                        <td id=\"T_c3fbc_row19_col8\" class=\"data row19 col8\" >0.007923</td>\n                        <td id=\"T_c3fbc_row19_col9\" class=\"data row19 col9\" >0.161398</td>\n            </tr>\n    </tbody></table>"
     },
     "metadata": {}
    }
   ]
  },
  {
   "cell_type": "code",
   "metadata": {
    "papermill": {
     "duration": 0.207119,
     "end_time": "2020-08-14T19:33:38.576050",
     "exception": false,
     "start_time": "2020-08-14T19:33:38.368931",
     "status": "completed"
    },
    "tags": [],
    "cell_id": "00061-08f564a3-a636-483c-959c-f3f6983af5a7",
    "deepnote_output_heights": [
     38.484375,
     33.1875
    ],
    "deepnote_to_be_reexecuted": false,
    "source_hash": "de027138",
    "execution_start": 1638840396531,
    "execution_millis": 39,
    "output_cleared": false,
    "deepnote_cell_type": "code"
   },
   "source": "from IPython.display import display, Markdown\n\ndisplay(Markdown(\"### QUESTIONS:\"))\ndisplay(Markdown(\"**1. Why do you think there are bad batches?**\"))\n# =========== STUDENT BEGIN ==========\n# display(Markdown(\n# \"\"\"\n# @@@ Your answer here @@@\n# \"\"\"))\n# =========== STUDENT END ==========\ndisplay(Markdown(\n\"\"\"\nThere can be many causes of bad batches, from ingredients used to the recipe and steps of the brewing process. \nPoor quality ingredients, especially yeast, can prevent beer from properly fermenting. Operators may accidentally \nuse the wrong amount of an ingredient and not follow the recipe correctly. Temperatures at different points in the \nprocess can cause a bad batch, by being too hot or cold for to short or long of an amount of time. Equipment and \ninstrumentation can fail as well.\n\"\"\"\n))\n# =========== STUDENT SOLUTION ===========\n\ndisplay(Markdown(\"**2. Does it seem like there is equipment failure at some point?**\"))\n# =========== STUDENT BEGIN ==========\n# display(Markdown(\n# \"\"\"\n# @@@ Your answer here @@@\n# \"\"\"))\n# =========== STUDENT END ==========\ndisplay(Markdown(\n\"\"\"\nYes, the batch highlighted in red appears to have been fermenting for over three months compared the average length \nof time of less than two days.\n\"\"\"\n    )\n)\n# =========== STUDENT SOLUTION ===========\n\ndisplay(Markdown(\"**3. What would you do to determine the root cause of a process or equipment failure?**\"))\n# =========== STUDENT BEGIN ==========\n# display(Markdown(\n# \"\"\"\n# @@@ Your answer here @@@\n# \"\"\"))\n# =========== STUDENT END ==========\ndisplay(Markdown(\n\"\"\"\nStart by asking “why”. In the case of the lengthy fermentation batch, you might look at the relevant data and also \nverify what physically happened with the operator or check notes. Did the batch stay in the fermenter for three months? \nOr did the instrumentation malfunction? Did the status indicator not get reset? Maybe the fermenter was taken offline. \nIf the status indicator was not reset, maybe the decision loop needs to be adjusted to account for more situations. \nWhat we want to see articulated here is analysis, followed by questioning, followed by more analysis, followed by \nmore questioning, until the root cause is identified.\n\"\"\"\n))\n# =========== STUDENT SOLUTION ===========",
   "execution_count": null,
   "outputs": [
    {
     "data": {
      "text/plain": "<IPython.core.display.Markdown object>",
      "text/markdown": "### QUESTIONS:"
     },
     "metadata": {},
     "output_type": "display_data"
    },
    {
     "data": {
      "text/plain": "<IPython.core.display.Markdown object>",
      "text/markdown": "**1. Why do you think there are bad batches?**"
     },
     "metadata": {},
     "output_type": "display_data"
    },
    {
     "data": {
      "text/plain": "<IPython.core.display.Markdown object>",
      "text/markdown": "\nThere can be many causes of bad batches, from ingredients used to the recipe and steps of the brewing process. \nPoor quality ingredients, especially yeast, can prevent beer from properly fermenting. Operators may accidentally \nuse the wrong amount of an ingredient and not follow the recipe correctly. Temperatures at different points in the \nprocess can cause a bad batch, by being too hot or cold for to short or long of an amount of time. Equipment and \ninstrumentation can fail as well.\n"
     },
     "metadata": {},
     "output_type": "display_data"
    },
    {
     "data": {
      "text/plain": "<IPython.core.display.Markdown object>",
      "text/markdown": "**2. Does it seem like there is equipment failure at some point?**"
     },
     "metadata": {},
     "output_type": "display_data"
    },
    {
     "data": {
      "text/plain": "<IPython.core.display.Markdown object>",
      "text/markdown": "\nYes, the batch highlighted in red appears to have been fermenting for over three months compared the average length \nof time of less than two days.\n"
     },
     "metadata": {},
     "output_type": "display_data"
    },
    {
     "data": {
      "text/plain": "<IPython.core.display.Markdown object>",
      "text/markdown": "**3. What would you do to determine the root cause of a process or equipment failure?**"
     },
     "metadata": {},
     "output_type": "display_data"
    },
    {
     "data": {
      "text/plain": "<IPython.core.display.Markdown object>",
      "text/markdown": "\nStart by asking “why”. In the case of the lengthy fermentation batch, you might look at the relevant data and also \nverify what physically happened with the operator or check notes. Did the batch stay in the fermenter for three months? \nOr did the instrumentation malfunction? Did the status indicator not get reset? Maybe the fermenter was taken offline. \nIf the status indicator was not reset, maybe the decision loop needs to be adjusted to account for more situations. \nWhat we want to see articulated here is analysis, followed by questioning, followed by more analysis, followed by \nmore questioning, until the root cause is identified.\n"
     },
     "metadata": {},
     "output_type": "display_data"
    }
   ]
  },
  {
   "cell_type": "markdown",
   "source": "---\n## Part 6. Apply clustering to Principal Components (BONUS)\n---\n<a id=’section_6’></a>\nThere are many clustering algorithms which are available. One of the most commonly used is **k-means clustering**.",
   "metadata": {
    "papermill": {
     "duration": 0.318298,
     "end_time": "2020-08-14T19:33:39.240545",
     "exception": false,
     "start_time": "2020-08-14T19:33:38.922247",
     "status": "completed"
    },
    "tags": [],
    "cell_id": "00062-4c8535ab-c527-42cf-a264-d6553e225445",
    "deepnote_cell_type": "markdown"
   }
  },
  {
   "cell_type": "markdown",
   "source": "### 6a. Apply k-means clustering on the principal components\n<a id=’section_6a’></a>\nWe use the cumulative variance plot to decide on an appropriate number (\"most dominant\") of principal components, and we perform k-means clustering only those components.",
   "metadata": {
    "papermill": {
     "duration": 0.160135,
     "end_time": "2020-08-14T19:33:39.635753",
     "exception": false,
     "start_time": "2020-08-14T19:33:39.475618",
     "status": "completed"
    },
    "tags": [],
    "cell_id": "00063-2668ba9f-18dc-4f8a-85c4-cb23d3a26cf9",
    "deepnote_cell_type": "markdown"
   }
  },
  {
   "cell_type": "code",
   "metadata": {
    "execution": {
     "iopub.execute_input": "2020-08-14T19:33:40.170322Z",
     "iopub.status.busy": "2020-08-14T19:33:40.169249Z",
     "iopub.status.idle": "2020-08-14T19:33:40.292786Z",
     "shell.execute_reply": "2020-08-14T19:33:40.293280Z"
    },
    "papermill": {
     "duration": 0.468116,
     "end_time": "2020-08-14T19:33:40.293528",
     "exception": false,
     "start_time": "2020-08-14T19:33:39.825412",
     "status": "completed"
    },
    "tags": [],
    "cell_id": "00064-1046eabd-006b-4828-9bdc-d7e114782e00",
    "deepnote_to_be_reexecuted": false,
    "source_hash": "1d95a1a9",
    "execution_start": 1638840396561,
    "execution_millis": 167,
    "output_cleared": true,
    "deepnote_cell_type": "code"
   },
   "source": "# base this on CPV plot\nn_principal_components = 4\n\n# number of clusters = number of available beer brands\nK = len(FeatureDF[\"Brand\"].unique())\n\n# apply kmeans on principal components\nkmeans = KMeans(n_clusters=K).fit(T[:, :n_principal_components])\n\n# find which cluster each beer batch belongs to\ncluster_id = kmeans.labels_",
   "execution_count": null,
   "outputs": []
  },
  {
   "cell_type": "markdown",
   "source": "### 6b. Plot principal components and color by kmeans cluster\n<a id=’section_6b’></a>",
   "metadata": {
    "papermill": {
     "duration": 0.185724,
     "end_time": "2020-08-14T19:33:40.781563",
     "exception": false,
     "start_time": "2020-08-14T19:33:40.595839",
     "status": "completed"
    },
    "tags": [],
    "cell_id": "00065-4372574b-a854-4d9e-b719-30f95c97ef6b",
    "deepnote_cell_type": "markdown"
   }
  },
  {
   "cell_type": "code",
   "metadata": {
    "execution": {
     "iopub.execute_input": "2020-08-14T19:33:41.167321Z",
     "iopub.status.busy": "2020-08-14T19:33:41.162766Z",
     "iopub.status.idle": "2020-08-14T19:33:41.185982Z",
     "shell.execute_reply": "2020-08-14T19:33:41.186894Z"
    },
    "papermill": {
     "duration": 0.241598,
     "end_time": "2020-08-14T19:33:41.187033",
     "exception": false,
     "start_time": "2020-08-14T19:33:40.945435",
     "status": "completed"
    },
    "tags": [],
    "cell_id": "00066-421f66c2-ef40-4695-a32c-48ec7065ed2f",
    "deepnote_output_heights": [
     527
    ],
    "deepnote_to_be_reexecuted": false,
    "source_hash": "efd8c704",
    "execution_start": 1638840396729,
    "execution_millis": 50,
    "output_cleared": false,
    "deepnote_cell_type": "code"
   },
   "source": "# plot data for all clusters\nobj_list = []\n\nall_clusters = list(set(cluster_id))\nfor i_cluster, cluster in enumerate(all_clusters):\n\n    boolean = cluster_id == cluster\n\n    # create plotly object\n    plot_obj = go.Scatter3d(\n        x=T[boolean, 0],\n        y=T[boolean, 1],\n        z=T[boolean, 2],\n        text=list(FeatureDF.loc[boolean, \"Batch\"]),\n        hoverinfo=\"text\",\n        hovertemplate = 'Batch %{text:2.0}',\n        name=f\"Cluster {i_cluster+1}\",\n        mode=\"markers\",\n        marker=dict(size=7, opacity=0.75),\n    )\n\n    # append object to list\n    obj_list.append(plot_obj)\n\nlayout = go.Layout(\n    title=\"<br>K-Cluster Scatterplot\",\n    title_x=0.5,\n    scene=dict(\n        xaxis=dict(title=\"PC 1\"), yaxis=dict(title=\"PC 2\"), zaxis=dict(title=\"PC 3\")\n    ),\n    showlegend=True,\n    margin=dict(l=0, r=0, b=0, t=0),\n    legend=dict(x=1.0, y=0.5),\n)\n\nfig = go.Figure(data=obj_list, layout=layout)\nfig.show()",
   "execution_count": null,
   "outputs": [
    {
     "data": {
      "text/html": "<html>\n<head><meta charset=\"utf-8\" /></head>\n<body>\n    <div>            <script src=\"https://cdnjs.cloudflare.com/ajax/libs/mathjax/2.7.5/MathJax.js?config=TeX-AMS-MML_SVG\"></script><script type=\"text/javascript\">if (window.MathJax) {MathJax.Hub.Config({SVG: {font: \"STIX-Web\"}});}</script>                <script type=\"text/javascript\">window.PlotlyConfig = {MathJaxConfig: 'local'};</script>\n        <script src=\"https://cdn.plot.ly/plotly-2.4.2.min.js\"></script>                <div id=\"70396177-3b84-42a6-aa8e-50eb6312b6c3\" class=\"plotly-graph-div\" style=\"height:525px; width:100%;\"></div>            <script type=\"text/javascript\">                                    window.PLOTLYENV=window.PLOTLYENV || {};                                    if (document.getElementById(\"70396177-3b84-42a6-aa8e-50eb6312b6c3\")) {                    Plotly.newPlot(                        \"70396177-3b84-42a6-aa8e-50eb6312b6c3\",                        [{\"hoverinfo\":\"text\",\"hovertemplate\":\"Batch %{text:2.0}\",\"marker\":{\"opacity\":0.75,\"size\":7},\"mode\":\"markers\",\"name\":\"Cluster 1\",\"text\":[\"2.0\",\"3.0\",\"4.0\",\"5.0\",\"7.0\",\"8.0\",\"12.0\",\"13.0\",\"14.0\",\"17.0\",\"18.0\",\"19.0\",\"20.0\",\"21.0\",\"22.0\",\"23.0\",\"33.0\",\"35.0\",\"36.0\",\"38.0\",\"39.0\",\"42.0\",\"43.0\",\"44.0\",\"45.0\",\"46.0\",\"48.0\",\"49.0\",\"51.0\",\"52.0\",\"53.0\",\"55.0\",\"57.0\",\"59.0\",\"60.0\",\"61.0\",\"62.0\",\"63.0\",\"64.0\",\"65.0\",\"77.0\",\"80.0\",\"81.0\",\"82.0\",\"85.0\",\"86.0\",\"88.0\",\"89.0\",\"90.0\",\"91.0\",\"97.0\",\"98.0\",\"99.0\",\"100.0\",\"102.0\",\"103.0\",\"105.0\",\"114.0\",\"115.0\",\"116.0\",\"120.0\",\"121.0\",\"122.0\",\"123.0\",\"124.0\",\"125.0\",\"126.0\",\"127.0\",\"128.0\",\"131.0\",\"132.0\",\"134.0\",\"135.0\",\"145.0\",\"148.0\",\"149.0\",\"150.0\",\"152.0\",\"154.0\",\"155.0\",\"156.0\",\"158.0\",\"159.0\",\"161.0\",\"164.0\",\"165.0\",\"166.0\",\"167.0\",\"168.0\",\"169.0\",\"170.0\",\"171.0\",\"173.0\",\"182.0\",\"183.0\",\"185.0\",\"187.0\",\"192.0\",\"193.0\",\"194.0\",\"195.0\",\"196.0\",\"197.0\",\"198.0\",\"199.0\",\"201.0\",\"202.0\",\"205.0\",\"206.0\",\"207.0\",\"208.0\",\"209.0\",\"210.0\",\"223.0\",\"224.0\",\"226.0\",\"228.0\",\"229.0\",\"231.0\"],\"type\":\"scatter3d\",\"x\":[-1.357812896074371,-1.4997880614148291,-1.2124305274229714,-1.3789799037785213,-1.379792005088085,-1.3380754514617053,-1.209665531418784,-1.1172310702119612,-1.4510804967998667,-1.476842769567205,-0.9374121335501835,-1.4289908544371812,-1.4012302207636171,-1.10536558063022,-1.1923372810036381,-1.4402628527336014,-1.3390748734920486,-1.2234976545075271,-1.4590042054625196,-1.7466588062735753,-1.3453556816771493,-1.3383897533341043,-1.3362147378615024,-1.4357768018340398,-1.3135493802566487,-1.4849241919593077,-1.3781082457333558,-1.1397185726803443,-0.9329945694248398,-0.7954667721357177,-0.5408633688293306,-1.0047294499296449,-0.7566456937907791,-0.837909637464012,-0.9340636748684596,-0.9110321658248466,-0.924945927202745,-0.3227498152849316,-0.36991224557590596,-0.561482257048186,-1.0000309707515098,-0.7437364276675685,-1.4712841340974379,-1.0258183935618452,-0.790248301319057,-0.7958719865620643,-0.36329339157956086,-0.4301276142227838,-0.2974476354342337,-0.5328851001887756,-0.613271906902215,-0.678265481142749,-0.5190349627565262,-0.5090663616859126,-0.1616779974146011,-0.49460440029207214,0.15312907120118838,-0.3804513748952243,-0.38583521149849825,-0.3993794966197639,-0.5253147359353544,-0.7442716093545925,-0.8160705773124298,-0.4563638836685164,-0.6222756905301752,-0.7424965170378578,-0.9898103697252418,-0.6355438500088985,-0.9015805929356655,-0.5368577438945744,-0.7135385459710689,-0.5891698782815521,-0.8195744314959732,-0.35486012802079814,-0.7861168233714741,-0.620120554935186,-0.8946584244617468,-0.870208055022029,-0.7262333157680299,-0.8780185939453569,-1.157694814160077,-0.9019439730211153,-0.4360329859946646,-0.3980304248685896,-0.7793995534090642,-0.6004471583239512,-0.583729629478347,-0.6182715320481802,-0.5544028866617748,-0.31617012615230977,-0.40991433189988824,-0.7777615700723514,-0.39187842675278733,-0.3604736483981223,-0.05053100662260407,0.13379363082000367,-0.481633265457129,-0.44572585806029325,-1.79148171743976,-1.5393041288550893,-1.6780455067478945,-1.5888433988797535,-1.6773202558969542,-1.1952243387206714,-1.572071287551879,-1.5998533182996237,-1.6451036377683106,-1.5063094699042348,-1.2922110794133195,-1.6280393110160165,-1.5030668821805084,-2.0707696926383354,-1.2834799126222494,-1.435023384909668,-1.5497121912643264,-1.6151017740826492,-1.851576524874574,-1.7441375151810763,-1.857290288008223],\"y\":[0.03775847136064956,-0.057892255154710685,0.004428727144287612,-0.057777897803350145,-0.052621619216561,-0.058634537825208784,0.008784281644820072,0.02438889348502647,-0.02711133800922797,-0.09533257943955788,0.10488698926134453,-0.0766055100642595,-0.09492335958523834,0.075845631533925,0.01500660904482919,-0.031504438250656505,-0.061604842811249956,0.006376182847152511,-0.0754732500417142,-0.24372418788791686,-0.05869087718834336,0.010156822638318014,-0.034448727507659156,-0.02950415088214579,-0.15141213217391863,-0.1695598964773859,-0.18726280070071277,-0.176796442396759,-0.07848183262175511,-0.04078228960576645,1.0153358773302472,-0.1352356473795425,-0.029633202215477255,-0.09515173220064581,-0.1466799413447758,-0.043815205802895225,-0.10539070521522435,-0.190648005595295,-0.1662076915803415,0.012586404634010383,-0.11413889414155866,0.008319407604704338,-0.25080439991919157,-0.0798452635117553,0.22323841248916393,0.08061193712822333,0.2284215188414258,0.18569934583659412,0.11330139240118607,0.17686080836588455,-0.18243676136253562,-0.03611153298669511,-0.10440800761745563,-0.029466227587883982,-0.11523167082522483,-0.13250777259299698,0.5756761029425631,0.12750764073945642,-0.061657463262807556,-0.10570179841070323,-0.0054604407331251825,-0.17781857306598592,-0.12415404434318371,-0.1646951479564667,-0.035708592933687784,0.7947206694961897,-0.15260844671890822,-0.07132432892517263,-0.18804417546339006,-0.009968268278472045,-0.14206929760574488,-0.04103569419842876,-0.19794943319691502,-0.224583158896061,-0.1640524471050277,-0.20223803214419422,-0.23118094892594057,-0.0006241793334424192,-0.06247471850728976,-0.11730212352712732,-0.2650575643713138,0.4141308737789844,1.0918107625800244,0.516253792653467,0.0791655557212012,-0.08644752062800207,-0.0796452086536004,-0.1021740866997267,-0.07982268857584204,-0.025123189674189934,-0.11067645771798176,-0.3777957186730742,0.29335757157922226,0.2592251228195288,0.9635902805267872,0.8797933659659217,0.36842013396115814,0.5249442418792241,0.20357598463126747,0.28522830833229823,0.27134558204615356,0.30955903291343634,0.25838830370787735,0.4574005883412647,0.3282696739023322,0.2958144162451742,0.3069576244262371,0.3737634762397006,0.4279989826189644,0.33867491461403443,0.3971265889629714,0.16921528741977537,1.2513217599973896,0.2929247763572824,0.27076693954178416,0.27264708399380216,0.19406172358832585,0.223493009436089,0.25161336319305366],\"z\":[0.7663341373488771,0.43024566923622604,0.8842162909893265,0.6601899982376936,0.7100439417206298,0.7082154146573163,0.8859012758934458,1.0263001496131203,0.6707692937093911,0.4310823277369417,0.5206367209416388,0.586607332929192,0.33670647678833143,0.8954051170890902,0.96891981567809,0.6665621634028137,0.6320401324288035,0.7393061869738377,0.4293467894530383,0.03961221853635309,0.6554629783110122,0.764724981903074,0.6224629249579334,0.5695392628529243,-0.2524038095572316,-0.4909015083802914,-0.3569365257838694,-0.24025917258290175,0.12852561260225295,0.3130645983137432,0.2782566217326381,-0.09465192062688349,0.24493360078650414,0.050984844624718896,-0.1950276059012674,0.21581939365721206,-0.2217166633063011,-0.8956469468980962,-0.6865225836268228,0.5728172919260751,-0.25264926646107905,0.41151883634751196,-0.6699759541365493,-0.13825238825428296,-0.4657581387516167,-1.4171859583125093,-0.7482818299080102,-0.2392643688026293,-0.7675504987848626,-0.43936897227738586,-1.296467004863139,-0.3756898936359912,-0.6923736871449138,-0.48722117960641614,-0.9850260608547727,-0.9969442060560609,-1.038149046653361,-0.6317234261900067,-1.609941098473282,-1.653231300931825,-0.9316060796182117,-1.1972137784253978,-0.49090383333967863,-0.8221058025327712,0.00818450564163676,-0.23025009157724577,-0.42174907724974925,-0.18709125443900887,-0.7128833037223964,0.11403401910608203,-0.4620340915195133,-0.12918641328273076,-0.868943891996829,-1.3185235070912187,-0.40025639907830673,-0.8373282791865316,-0.8780689772775062,-0.022302651171091783,-0.27577397884762694,-0.481271160057967,-1.065903585234295,-1.5200430261099898,-1.6092025898691225,-0.4729154459006341,0.1910339953584254,-0.15325126000833258,-0.19354026361745943,-0.2868650127544877,-0.2990624051050896,-0.8849532093865481,-0.4337114279653582,-1.7257632539477215,-0.6888001402862534,-1.103054418297346,-1.9964416496702366,-1.997143251058646,-1.275746932720409,-1.5402014318189954,0.42302995005610844,0.7497719228426162,0.563478123229025,0.7256295033457978,0.5922663141190789,1.2373771423579443,0.6752913076512622,0.7229799948214711,0.6444186975356349,0.8497019235953805,1.0782445159176428,0.585189592150404,0.8737167696081302,-0.04059914354019976,0.7836876970465633,0.8620306206758825,0.675034272591587,0.6475773880562321,0.24206625734504827,0.41139131546259977,0.3120839957553491]},{\"hoverinfo\":\"text\",\"hovertemplate\":\"Batch %{text:2.0}\",\"marker\":{\"opacity\":0.75,\"size\":7},\"mode\":\"markers\",\"name\":\"Cluster 2\",\"text\":[\"26.0\",\"27.0\",\"28.0\",\"29.0\",\"30.0\",\"31.0\",\"69.0\",\"70.0\",\"72.0\",\"74.0\",\"107.0\",\"108.0\",\"109.0\",\"112.0\",\"113.0\",\"136.0\",\"137.0\",\"138.0\",\"139.0\",\"140.0\",\"141.0\",\"142.0\",\"143.0\",\"175.0\",\"176.0\",\"177.0\",\"178.0\",\"180.0\",\"181.0\",\"216.0\",\"217.0\",\"219.0\",\"220.0\"],\"type\":\"scatter3d\",\"x\":[2.116372173319872,2.529530286840667,3.2591953529651536,2.376988383789778,2.6929919920575722,2.1664834663335215,3.5384255033235026,3.215806904337625,2.77219589176323,2.6995206492690804,3.5350789303142314,3.274840316233141,3.948089092094114,4.438178662587377,4.78658924403943,2.6135171415689555,3.2162425972287285,3.3335356191779066,3.5857496084988885,3.1223441854625325,2.697706825408023,3.3351759159207806,3.2309347106367485,3.1764575503292396,3.4474096097859714,3.7838786037037533,3.3477004638792076,3.4031789678829987,3.429012914877063,2.2508464260164547,1.9593498261831046,1.8557736015471669,2.094916088661415],\"y\":[-1.2821654286850315,-1.1700229420490882,-0.391051316763586,-1.254862093095119,-1.1085310304104623,-1.2972086076262013,-1.424670252852696,-1.4631813700266951,-1.3509567099059774,-1.4162433338122953,-0.23339291346695906,-1.4146535748348898,-1.2397327514312857,1.0844100858356331,1.7746519955659257,-1.3537139423331868,-1.2458823726222619,-1.2302378638448945,-1.157888449438509,-1.282624386116867,-1.4241530158312652,-1.2335570531365507,-1.2816587944115438,-1.3549126542496077,-1.2753258097593283,-1.140387790448458,-1.3283256381707609,-1.146172523486228,-0.7901110386112365,-0.5461810546224259,-0.8291462448973804,-0.9340965862716375,-0.8582062934746433],\"z\":[0.9694879217796283,1.5176034487486656,0.4209200012668605,1.2454562065678425,1.8460644161475026,0.8752865041751489,-0.4146812940526018,-0.6876212171102507,0.41863882573746486,0.1852596605562782,1.0200742304277832,-1.0024753901192196,0.09833853563099655,-3.309457993721407,-2.963481275360616,-0.1327627865290582,0.3754905734812171,0.4012582052177832,0.6966482166787357,0.10977848557917899,-0.5742151542168832,0.27278852890521643,0.20269008371830521,0.11063764679158011,0.538195726275487,-0.6238621071710395,-0.8972466726357902,-0.9780232647202758,0.055361376734931134,0.8004562587899581,1.1707825235793121,0.9043194982818189,1.317757153161389]},{\"hoverinfo\":\"text\",\"hovertemplate\":\"Batch %{text:2.0}\",\"marker\":{\"opacity\":0.75,\"size\":7},\"mode\":\"markers\",\"name\":\"Cluster 3\",\"text\":[\"184.0\"],\"type\":\"scatter3d\",\"x\":[5.342458566909534],\"y\":[14.257052967959616],\"z\":[-1.6659995123340574]},{\"hoverinfo\":\"text\",\"hovertemplate\":\"Batch %{text:2.0}\",\"marker\":{\"opacity\":0.75,\"size\":7},\"mode\":\"markers\",\"name\":\"Cluster 4\",\"text\":[\"24.0\",\"212.0\",\"221.0\"],\"type\":\"scatter3d\",\"x\":[2.6095941818005683,1.8209667508021867,3.769828689142832],\"y\":[4.785618637298919,2.87438709615063,1.7076331811810146],\"z\":[5.173438759868375,3.970822726089231,3.0613109625981223]}],                        {\"legend\":{\"x\":1.0,\"y\":0.5},\"margin\":{\"b\":0,\"l\":0,\"r\":0,\"t\":0},\"scene\":{\"xaxis\":{\"title\":{\"text\":\"PC 1\"}},\"yaxis\":{\"title\":{\"text\":\"PC 2\"}},\"zaxis\":{\"title\":{\"text\":\"PC 3\"}}},\"showlegend\":true,\"template\":{\"data\":{\"bar\":[{\"error_x\":{\"color\":\"#2a3f5f\"},\"error_y\":{\"color\":\"#2a3f5f\"},\"marker\":{\"line\":{\"color\":\"#E5ECF6\",\"width\":0.5},\"pattern\":{\"fillmode\":\"overlay\",\"size\":10,\"solidity\":0.2}},\"type\":\"bar\"}],\"barpolar\":[{\"marker\":{\"line\":{\"color\":\"#E5ECF6\",\"width\":0.5},\"pattern\":{\"fillmode\":\"overlay\",\"size\":10,\"solidity\":0.2}},\"type\":\"barpolar\"}],\"carpet\":[{\"aaxis\":{\"endlinecolor\":\"#2a3f5f\",\"gridcolor\":\"white\",\"linecolor\":\"white\",\"minorgridcolor\":\"white\",\"startlinecolor\":\"#2a3f5f\"},\"baxis\":{\"endlinecolor\":\"#2a3f5f\",\"gridcolor\":\"white\",\"linecolor\":\"white\",\"minorgridcolor\":\"white\",\"startlinecolor\":\"#2a3f5f\"},\"type\":\"carpet\"}],\"choropleth\":[{\"colorbar\":{\"outlinewidth\":0,\"ticks\":\"\"},\"type\":\"choropleth\"}],\"contour\":[{\"colorbar\":{\"outlinewidth\":0,\"ticks\":\"\"},\"colorscale\":[[0.0,\"#0d0887\"],[0.1111111111111111,\"#46039f\"],[0.2222222222222222,\"#7201a8\"],[0.3333333333333333,\"#9c179e\"],[0.4444444444444444,\"#bd3786\"],[0.5555555555555556,\"#d8576b\"],[0.6666666666666666,\"#ed7953\"],[0.7777777777777778,\"#fb9f3a\"],[0.8888888888888888,\"#fdca26\"],[1.0,\"#f0f921\"]],\"type\":\"contour\"}],\"contourcarpet\":[{\"colorbar\":{\"outlinewidth\":0,\"ticks\":\"\"},\"type\":\"contourcarpet\"}],\"heatmap\":[{\"colorbar\":{\"outlinewidth\":0,\"ticks\":\"\"},\"colorscale\":[[0.0,\"#0d0887\"],[0.1111111111111111,\"#46039f\"],[0.2222222222222222,\"#7201a8\"],[0.3333333333333333,\"#9c179e\"],[0.4444444444444444,\"#bd3786\"],[0.5555555555555556,\"#d8576b\"],[0.6666666666666666,\"#ed7953\"],[0.7777777777777778,\"#fb9f3a\"],[0.8888888888888888,\"#fdca26\"],[1.0,\"#f0f921\"]],\"type\":\"heatmap\"}],\"heatmapgl\":[{\"colorbar\":{\"outlinewidth\":0,\"ticks\":\"\"},\"colorscale\":[[0.0,\"#0d0887\"],[0.1111111111111111,\"#46039f\"],[0.2222222222222222,\"#7201a8\"],[0.3333333333333333,\"#9c179e\"],[0.4444444444444444,\"#bd3786\"],[0.5555555555555556,\"#d8576b\"],[0.6666666666666666,\"#ed7953\"],[0.7777777777777778,\"#fb9f3a\"],[0.8888888888888888,\"#fdca26\"],[1.0,\"#f0f921\"]],\"type\":\"heatmapgl\"}],\"histogram\":[{\"marker\":{\"pattern\":{\"fillmode\":\"overlay\",\"size\":10,\"solidity\":0.2}},\"type\":\"histogram\"}],\"histogram2d\":[{\"colorbar\":{\"outlinewidth\":0,\"ticks\":\"\"},\"colorscale\":[[0.0,\"#0d0887\"],[0.1111111111111111,\"#46039f\"],[0.2222222222222222,\"#7201a8\"],[0.3333333333333333,\"#9c179e\"],[0.4444444444444444,\"#bd3786\"],[0.5555555555555556,\"#d8576b\"],[0.6666666666666666,\"#ed7953\"],[0.7777777777777778,\"#fb9f3a\"],[0.8888888888888888,\"#fdca26\"],[1.0,\"#f0f921\"]],\"type\":\"histogram2d\"}],\"histogram2dcontour\":[{\"colorbar\":{\"outlinewidth\":0,\"ticks\":\"\"},\"colorscale\":[[0.0,\"#0d0887\"],[0.1111111111111111,\"#46039f\"],[0.2222222222222222,\"#7201a8\"],[0.3333333333333333,\"#9c179e\"],[0.4444444444444444,\"#bd3786\"],[0.5555555555555556,\"#d8576b\"],[0.6666666666666666,\"#ed7953\"],[0.7777777777777778,\"#fb9f3a\"],[0.8888888888888888,\"#fdca26\"],[1.0,\"#f0f921\"]],\"type\":\"histogram2dcontour\"}],\"mesh3d\":[{\"colorbar\":{\"outlinewidth\":0,\"ticks\":\"\"},\"type\":\"mesh3d\"}],\"parcoords\":[{\"line\":{\"colorbar\":{\"outlinewidth\":0,\"ticks\":\"\"}},\"type\":\"parcoords\"}],\"pie\":[{\"automargin\":true,\"type\":\"pie\"}],\"scatter\":[{\"marker\":{\"colorbar\":{\"outlinewidth\":0,\"ticks\":\"\"}},\"type\":\"scatter\"}],\"scatter3d\":[{\"line\":{\"colorbar\":{\"outlinewidth\":0,\"ticks\":\"\"}},\"marker\":{\"colorbar\":{\"outlinewidth\":0,\"ticks\":\"\"}},\"type\":\"scatter3d\"}],\"scattercarpet\":[{\"marker\":{\"colorbar\":{\"outlinewidth\":0,\"ticks\":\"\"}},\"type\":\"scattercarpet\"}],\"scattergeo\":[{\"marker\":{\"colorbar\":{\"outlinewidth\":0,\"ticks\":\"\"}},\"type\":\"scattergeo\"}],\"scattergl\":[{\"marker\":{\"colorbar\":{\"outlinewidth\":0,\"ticks\":\"\"}},\"type\":\"scattergl\"}],\"scattermapbox\":[{\"marker\":{\"colorbar\":{\"outlinewidth\":0,\"ticks\":\"\"}},\"type\":\"scattermapbox\"}],\"scatterpolar\":[{\"marker\":{\"colorbar\":{\"outlinewidth\":0,\"ticks\":\"\"}},\"type\":\"scatterpolar\"}],\"scatterpolargl\":[{\"marker\":{\"colorbar\":{\"outlinewidth\":0,\"ticks\":\"\"}},\"type\":\"scatterpolargl\"}],\"scatterternary\":[{\"marker\":{\"colorbar\":{\"outlinewidth\":0,\"ticks\":\"\"}},\"type\":\"scatterternary\"}],\"surface\":[{\"colorbar\":{\"outlinewidth\":0,\"ticks\":\"\"},\"colorscale\":[[0.0,\"#0d0887\"],[0.1111111111111111,\"#46039f\"],[0.2222222222222222,\"#7201a8\"],[0.3333333333333333,\"#9c179e\"],[0.4444444444444444,\"#bd3786\"],[0.5555555555555556,\"#d8576b\"],[0.6666666666666666,\"#ed7953\"],[0.7777777777777778,\"#fb9f3a\"],[0.8888888888888888,\"#fdca26\"],[1.0,\"#f0f921\"]],\"type\":\"surface\"}],\"table\":[{\"cells\":{\"fill\":{\"color\":\"#EBF0F8\"},\"line\":{\"color\":\"white\"}},\"header\":{\"fill\":{\"color\":\"#C8D4E3\"},\"line\":{\"color\":\"white\"}},\"type\":\"table\"}]},\"layout\":{\"annotationdefaults\":{\"arrowcolor\":\"#2a3f5f\",\"arrowhead\":0,\"arrowwidth\":1},\"autotypenumbers\":\"strict\",\"coloraxis\":{\"colorbar\":{\"outlinewidth\":0,\"ticks\":\"\"}},\"colorscale\":{\"diverging\":[[0,\"#8e0152\"],[0.1,\"#c51b7d\"],[0.2,\"#de77ae\"],[0.3,\"#f1b6da\"],[0.4,\"#fde0ef\"],[0.5,\"#f7f7f7\"],[0.6,\"#e6f5d0\"],[0.7,\"#b8e186\"],[0.8,\"#7fbc41\"],[0.9,\"#4d9221\"],[1,\"#276419\"]],\"sequential\":[[0.0,\"#0d0887\"],[0.1111111111111111,\"#46039f\"],[0.2222222222222222,\"#7201a8\"],[0.3333333333333333,\"#9c179e\"],[0.4444444444444444,\"#bd3786\"],[0.5555555555555556,\"#d8576b\"],[0.6666666666666666,\"#ed7953\"],[0.7777777777777778,\"#fb9f3a\"],[0.8888888888888888,\"#fdca26\"],[1.0,\"#f0f921\"]],\"sequentialminus\":[[0.0,\"#0d0887\"],[0.1111111111111111,\"#46039f\"],[0.2222222222222222,\"#7201a8\"],[0.3333333333333333,\"#9c179e\"],[0.4444444444444444,\"#bd3786\"],[0.5555555555555556,\"#d8576b\"],[0.6666666666666666,\"#ed7953\"],[0.7777777777777778,\"#fb9f3a\"],[0.8888888888888888,\"#fdca26\"],[1.0,\"#f0f921\"]]},\"colorway\":[\"#636efa\",\"#EF553B\",\"#00cc96\",\"#ab63fa\",\"#FFA15A\",\"#19d3f3\",\"#FF6692\",\"#B6E880\",\"#FF97FF\",\"#FECB52\"],\"font\":{\"color\":\"#2a3f5f\"},\"geo\":{\"bgcolor\":\"white\",\"lakecolor\":\"white\",\"landcolor\":\"#E5ECF6\",\"showlakes\":true,\"showland\":true,\"subunitcolor\":\"white\"},\"hoverlabel\":{\"align\":\"left\"},\"hovermode\":\"closest\",\"mapbox\":{\"style\":\"light\"},\"paper_bgcolor\":\"white\",\"plot_bgcolor\":\"#E5ECF6\",\"polar\":{\"angularaxis\":{\"gridcolor\":\"white\",\"linecolor\":\"white\",\"ticks\":\"\"},\"bgcolor\":\"#E5ECF6\",\"radialaxis\":{\"gridcolor\":\"white\",\"linecolor\":\"white\",\"ticks\":\"\"}},\"scene\":{\"xaxis\":{\"backgroundcolor\":\"#E5ECF6\",\"gridcolor\":\"white\",\"gridwidth\":2,\"linecolor\":\"white\",\"showbackground\":true,\"ticks\":\"\",\"zerolinecolor\":\"white\"},\"yaxis\":{\"backgroundcolor\":\"#E5ECF6\",\"gridcolor\":\"white\",\"gridwidth\":2,\"linecolor\":\"white\",\"showbackground\":true,\"ticks\":\"\",\"zerolinecolor\":\"white\"},\"zaxis\":{\"backgroundcolor\":\"#E5ECF6\",\"gridcolor\":\"white\",\"gridwidth\":2,\"linecolor\":\"white\",\"showbackground\":true,\"ticks\":\"\",\"zerolinecolor\":\"white\"}},\"shapedefaults\":{\"line\":{\"color\":\"#2a3f5f\"}},\"ternary\":{\"aaxis\":{\"gridcolor\":\"white\",\"linecolor\":\"white\",\"ticks\":\"\"},\"baxis\":{\"gridcolor\":\"white\",\"linecolor\":\"white\",\"ticks\":\"\"},\"bgcolor\":\"#E5ECF6\",\"caxis\":{\"gridcolor\":\"white\",\"linecolor\":\"white\",\"ticks\":\"\"}},\"title\":{\"x\":0.05},\"xaxis\":{\"automargin\":true,\"gridcolor\":\"white\",\"linecolor\":\"white\",\"ticks\":\"\",\"title\":{\"standoff\":15},\"zerolinecolor\":\"white\",\"zerolinewidth\":2},\"yaxis\":{\"automargin\":true,\"gridcolor\":\"white\",\"linecolor\":\"white\",\"ticks\":\"\",\"title\":{\"standoff\":15},\"zerolinecolor\":\"white\",\"zerolinewidth\":2}}},\"title\":{\"text\":\"<br>K-Cluster Scatterplot\",\"x\":0.5}},                        {\"responsive\": true}                    ).then(function(){\n                            \nvar gd = document.getElementById('70396177-3b84-42a6-aa8e-50eb6312b6c3');\nvar x = new MutationObserver(function (mutations, observer) {{\n        var display = window.getComputedStyle(gd).display;\n        if (!display || display === 'none') {{\n            console.log([gd, 'removed!']);\n            Plotly.purge(gd);\n            observer.disconnect();\n        }}\n}});\n\n// Listen for the removal of the full notebook cells\nvar notebookContainer = gd.closest('#notebook-container');\nif (notebookContainer) {{\n    x.observe(notebookContainer, {childList: true});\n}}\n\n// Listen for the clearing of the current output cell\nvar outputEl = gd.closest('.output');\nif (outputEl) {{\n    x.observe(outputEl, {childList: true});\n}}\n\n                        })                };                            </script>        </div>\n</body>\n</html>"
     },
     "metadata": {},
     "output_type": "display_data"
    }
   ]
  },
  {
   "cell_type": "code",
   "metadata": {
    "papermill": {
     "duration": 0.214656,
     "end_time": "2020-08-14T19:33:41.577597",
     "exception": false,
     "start_time": "2020-08-14T19:33:41.362941",
     "status": "completed"
    },
    "tags": [],
    "cell_id": "00067-201d1d13-7296-4f08-b6e6-097cf53c2227",
    "deepnote_to_be_reexecuted": false,
    "source_hash": "b623e53d",
    "execution_start": 1638840396767,
    "execution_millis": 3,
    "output_cleared": true,
    "deepnote_cell_type": "code"
   },
   "source": "",
   "execution_count": null,
   "outputs": []
  },
  {
   "cell_type": "markdown",
   "source": "<a style='text-decoration:none;line-height:16px;display:flex;color:#5B5B62;padding:10px;justify-content:end;' href='https://deepnote.com?utm_source=created-in-deepnote-cell&projectId=e0a25126-dd93-4fb8-80f3-e53704183a6c' target=\"_blank\">\n<img alt='Created in deepnote.com' style='display:inline;max-height:16px;margin:0px;margin-right:7.5px;' src='data:image/svg+xml;base64,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' > </img>\nCreated in <span style='font-weight:600;margin-left:4px;'>Deepnote</span></a>",
   "metadata": {
    "tags": [],
    "created_in_deepnote_cell": true,
    "deepnote_cell_type": "markdown"
   }
  }
 ],
 "nbformat": 4,
 "nbformat_minor": 4,
 "metadata": {
  "kernelspec": {
   "display_name": "Python 3",
   "language": "python",
   "name": "python3"
  },
  "language_info": {
   "codemirror_mode": {
    "name": "ipython",
    "version": 3
   },
   "file_extension": ".py",
   "mimetype": "text/x-python",
   "name": "python",
   "nbconvert_exporter": "python",
   "pygments_lexer": "ipython3",
   "version": "3.7.6"
  },
  "papermill": {
   "duration": 150.464744,
   "end_time": "2020-08-14T19:33:42.280444",
   "environment_variables": {},
   "exception": null,
   "input_path": "../Learning_Modules/NB3_SOLUTION_Beer_PCA.ipynb",
   "output_path": "./Release/NB3_SOLUTION_Beer_PCA.ipynb",
   "parameters": {},
   "start_time": "2020-08-14T19:31:11.815700",
   "version": "2.1.2"
  },
  "toc": {
   "base_numbering": 1,
   "nav_menu": {},
   "number_sections": false,
   "sideBar": false,
   "skip_h1_title": false,
   "title_cell": "Table of Contents",
   "title_sidebar": "Contents",
   "toc_cell": true,
   "toc_position": {},
   "toc_section_display": true,
   "toc_window_display": false
  },
  "deepnote_notebook_id": "6e9fa5cf-cdce-4afb-a43a-364f5f29de40",
  "deepnote": {},
  "deepnote_execution_queue": []
 }
}