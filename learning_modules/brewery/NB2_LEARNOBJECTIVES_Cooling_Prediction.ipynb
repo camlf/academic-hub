{
 "cells": [
  {
   "cell_type": "markdown",
   "metadata": {
    "cell_id": "25c30646-87e5-463c-a85c-cef4e2eabcf9",
    "deepnote_cell_type": "markdown",
    "papermill": {
     "duration": 0.004682,
     "end_time": "2020-08-14T19:33:46.133021",
     "exception": false,
     "start_time": "2020-08-14T19:33:46.128339",
     "status": "completed"
    },
    "tags": [],
    "toc": true
   },
   "source": [
    "<h1>Table of Contents<span class=\"tocSkip\"></span></h1>\n",
    "<div class=\"toc\"><ul class=\"toc-item\"><li><span><a href=\"#Overall-Learning-Objectives-:\" data-toc-modified-id=\"Overall-Learning-Objectives-:-1\"><span class=\"toc-item-num\">1&nbsp;&nbsp;</span>Overall Learning Objectives :</a></span><ul class=\"toc-item\"><li><span><a href=\"#Introduction-to-the-OSIsoft-Academic-Hub,-Operational-Data,-and-OSIsoft-\" data-toc-modified-id=\"Introduction-to-the-OSIsoft-Academic-Hub,-Operational-Data,-and-OSIsoft--1.1\"><span class=\"toc-item-num\">1.1&nbsp;&nbsp;</span>Introduction to the OSIsoft Academic Hub, Operational Data, and OSIsoft </a></span></li></ul></li><li><span><a href=\"#Exercise-2-Learning-Objectives:\" data-toc-modified-id=\"Exercise-2-Learning-Objectives:-2\"><span class=\"toc-item-num\">2&nbsp;&nbsp;</span>Exercise 2 Learning Objectives:</a></span><ul class=\"toc-item\"><li><span><a href=\"#Beer-Cooling-Prediction\" data-toc-modified-id=\"Beer-Cooling-Prediction-2.1\"><span class=\"toc-item-num\">2.1&nbsp;&nbsp;</span>Beer Cooling Prediction</a></span></li><li><span><a href=\"#Beer-Cooling-Prediction-Exercise-Overview\" data-toc-modified-id=\"Beer-Cooling-Prediction-Exercise-Overview-2.2\"><span class=\"toc-item-num\">2.2&nbsp;&nbsp;</span>Beer Cooling Prediction Exercise Overview</a></span></li><li><span><a href=\"#Beer-Cooling-Prediction-Exercise:-In-More-Detail\" data-toc-modified-id=\"Beer-Cooling-Prediction-Exercise:-In-More-Detail-2.3\"><span class=\"toc-item-num\">2.3&nbsp;&nbsp;</span>Beer Cooling Prediction Exercise: In More Detail</a></span></li></ul></li></ul></div>"
   ]
  },
  {
   "cell_type": "markdown",
   "metadata": {
    "cell_id": "00001-92f9ab08-e4ec-4eac-ab05-94bbfbaa7122",
    "deepnote_cell_type": "markdown",
    "papermill": {
     "duration": 0.008669,
     "end_time": "2020-08-14T19:33:46.151689",
     "exception": false,
     "start_time": "2020-08-14T19:33:46.143020",
     "status": "completed"
    },
    "tags": []
   },
   "source": [
    "---\n",
    "# Overall Learning Objectives : \n",
    "Introduction to the OSIsoft Academic Hub, Operational Data, and OSIsoft \n",
    "---\n",
    "Introduction to the OSIsoft Academic Hub, Operational Data, and OSIsoft \n",
    "The OSIsoft Academic Hub is a cloud-based platform that enables experiential learning with industrial process datasets. Students use the Academic Hub to gain experience in solving real-world problems with real-world data. Students gain experience in several areas that help to prepare them for careers in today’s workplace:\n",
    "\n",
    "•\tNavigating broader, less defined problem statements\n",
    "\n",
    "•\tEvaluating multiple data sources and types to determine appropriateness for given context\n",
    "\n",
    "•\tDetermining which data is extraneous, erroneous, or inaccurate\n",
    "\n",
    "•\tIntegrating timeseries data with other types of data\n",
    "\n",
    "•\tAnalyzing large datasets to improve business decisions\n",
    "\n",
    "•\tWorking seamlessly in teams in person and remotely\n",
    "\n",
    "•\tUsing industry current AI/ML platforms, visualization tools, and programming languages\n",
    "\n",
    "OSIsoft’s technology provides customers with the tools for real-time data management of their operational data. Operational data is data that reflects the physical state of an industrial asset (or “thing”). There are many sources and types of data in operations; real-time process control data, sensor and device data; machine-generated data, asset data, web data, weather data, heat map data, and many more. One of the unique types of operational data is time-series data, where time is the index. For over forty years OSIsoft has been at the forefront of time series data collection and aggregation, along with other types of operational data, allowing people to contextualize and federate large volumes of industrial, operational data. With 65% of industrial Fortune 500 customers using OSIsoft products to monitor over two billion data streams globally, it is likely engineers will work with an OSIsoft product during their career. Data analysis and specifically time series data analysis skills are quickly becoming a standard requirement for engineers and managers alike. OSIsoft data is ready to integrate into sophisticated visualization tools, industry applications and AI/ML platforms in use today globally.\n",
    "\n",
    "---\n",
    "# Exercise 2 Learning Objectives:\n",
    "Beer Cooling Prediction\n",
    "---\n",
    "At the end of the [Beer Cooling Prediction Exercise](./NB2_EXERCISE_Cooling_Prediction.ipynb) students will be able to:\n",
    "1. Retrieve process data using a cloud-based platform (OSIsoft Cloud Services or OCS) which stores real industrial sensor data.\n",
    "2. Perform basic operations using Pandas, a software library widely used in data science applications.\n",
    "3. Identify problems with data quality.\n",
    "4. Perform data cleansing operations to ensure the quality of the data fits the analysis goals.\n",
    "5. Apply regression analysis on real industrial process data.\n",
    "6. Formulate strategies for cleaning and modeling the data using domain knowledge of the process."
   ]
  },
  {
   "cell_type": "markdown",
   "metadata": {
    "cell_id": "00002-b8302c03-1e55-4a53-b0d8-2b5a15613cd5",
    "deepnote_cell_type": "markdown",
    "papermill": {
     "duration": 0.006139,
     "end_time": "2020-08-14T19:33:46.164463",
     "exception": false,
     "start_time": "2020-08-14T19:33:46.158324",
     "status": "completed"
    },
    "tags": []
   },
   "source": [
    "---\n",
    "## Beer Cooling Prediction Exercise Overview\n",
    "Predictive models of the process can be valuable to industry, as students saw with the ADF Prediction model which saved Deschutes Brewery upwards of $750,000 in capital investment. In the [Beer Cooling Prediction Exercise](./NB2_EXERCISE_Cooling_Prediction.ipynb), students will have to use domain knowledge of the brewing process and the physics involved (e.g. heat transfer) to model the temperature profile during the cooling stages.\n",
    "\n",
    "While non-linear regression may be trivial for more advanced engineering students, this exercise will expose them to the realities of modeling real-world industrial data. In the real world, the majority of the time and effort for data analytis is spent wrangling the data first by dealing with missing or mislabeled entries, and then transforming the data into a format where regression analysis can be applied.\n",
    "\n",
    "The exercise notebook also has blocks of missing code which students will have to complete in order for the notebook to run properly and produce results; this ensures that students will interact with the notebook and pay attention to the algorithm and how the code is written.\n",
    "\n",
    "**The exercise notebook is divided into two parts.**\n",
    "\n",
    "In [Part 1](./NB2_EXERCISE_Cooling_Prediction.ipynb#section_1) students will create a function `compute_cooling_prediction` which does the following:\n",
    "* Clean the data by throwing out irrelevant ([1a](./NB2_EXERCISE_Cooling_Prediction.ipynb#section_1a)) and bad ([1c](./NB2_EXERCISE_Cooling_Prediction.ipynb#section_1c)) entries\n",
    "* Identify when a fermentation event starts ([1d](./NB2_EXERCISE_Cooling_Prediction.ipynb#section_1d))  and then compute the time elapsed since the start of fermentation ([1e](./NB2_EXERCISE_Cooling_Prediction.ipynb#section_1e))\n",
    "* Identify the cooling stages ([1e](./NB2_EXERCISE_Cooling_Prediction.ipynb#section_1e)) and identify the elapsed times since the start of cooling ([1e](./NB2_EXERCISE_Cooling_Prediction.ipynb#section_1e))\n",
    "* Fit the cooling data ([1a](./NB2_EXERCISE_Cooling_Prediction.ipynb#section_1a)) to a heat transfer equation ([1f](./NB2_EXERCISE_Cooling_Prediction.ipynb#section_1f)) \n",
    "\n",
    "In [Part 2](./NB2_EXERCISE_Cooling_Prediction.ipynb#section_2) students will execute `compute_cooling_prediction` and plot the results:\n",
    "* Use OSIsoft Cloud Services (OCS) to obtain process data from Deschutes Brewery ([2b](./NB2_EXERCISE_Cooling_Prediction.ipynb#section_2b) and [2c](./NB2_EXERCISE_Cooling_Prediction.ipynb#section_2c))\n",
    "* Execute the `compute_cooling_prediction` function created in Part 1 ([2d](./NB2_EXERCISE_Cooling_Prediction.ipynb#section_2d))\n",
    "* Plot the cooling prediction curve using Plotly ([2e](./NB2_EXERCISE_Cooling_Prediction.ipynb#section_2e))\n",
    "\n",
    "**At the exercise, students will be asked to think about the following questions:**\n",
    " \n",
    "1. If the cooling data had outliers, how would you determine which outliers to remove? How would you remove them?\n",
    "2. How would having an erratic cooling profile affect the prediction curve? \n",
    "3. Can you use the cooling prediction curve to determine whether a given batch is out-of-spec? How would you do this?\n",
    "4. Do you think you can use the cooling rate to predict the beer brand?\n"
   ]
  },
  {
   "cell_type": "markdown",
   "metadata": {
    "cell_id": "00003-17fe87f7-7039-4b77-a401-1acddf1996d7",
    "deepnote_cell_type": "markdown",
    "papermill": {
     "duration": 0.006339,
     "end_time": "2020-08-14T19:33:46.176969",
     "exception": false,
     "start_time": "2020-08-14T19:33:46.170630",
     "status": "completed"
    },
    "tags": []
   },
   "source": [
    "---\n",
    "## Beer Cooling Prediction Exercise: In More Detail\n",
    "**Students will learn how to initialize OSIsoft Cloud Services (OCS) by authenticating their purpose and directing calls to the right namespace:**\n",
    "\n",
    "```python\n",
    "widget, hub_client = hub_login()\n",
    "\n",
    "namespace_id = hub_client.namespace_of(\"Deschutes\") \n",
    "print (f\"namespace_id: '{namespace_id}'\")\n",
    "```\n",
    "\n",
    "**Students will then use OCS to retrieve process data from Deschutes Brewery:**\n",
    "```python\n",
    "all_brands_df = hub_client.dataview_interpolated_pd(\n",
    "    namespace_id, DATAVIEW_ID, START_INDEX, END_INDEX, INTERVAL\n",
    ")\n",
    "```\n",
    "\n",
    "**In several places in the exercise, students will have to fill in missing pieces of the code to learn about Pandas powerful data manipulation features**\n",
    "```python\n",
    "    # TODO [4]: extract first row of each fermentation batch\n",
    "    # HINT: https://pandas.pydata.org/pandas-docs/stable/reference/api/pandas.DataFrame.groupby.html\n",
    "    # =========== STUDENT BEGIN ==========\n",
    "    #  cool_start_time = brand_status_df.@@@ Your code here @@@.first()\n",
    "    # =========== STUDENT END ==========\n",
    "    start_time_df = cool_stage_df.groupby(\"Fermentation ID\").first()\n",
    "```\n",
    "\n",
    "**Students will have to have to use domain knowledge to tackle situations where the data has been mislabled but is still valid and necessary for modeling:**\n",
    "```python\n",
    "def cooling_data_extraction(brand_status_df):\n",
    "    #\n",
    "    # condition for it to be in cooling phase\n",
    "    # TODO [3]: the condition is that 'Top TIC OUT', 'Middle TIC OUT' and 'Bottom TIC OUT' are above 99.99\n",
    "    # =========== STUDENT BEGIN ==========\n",
    "    # cool_stage = brand_status_df[\n",
    "    #     (brand_status_df[\"Top TIC OUT\"] > 99.99)\n",
    "    #     & (@@@ Your code here  @@@)\n",
    "    #     & (@@@ Your code here @@@)\n",
    "    # ]\n",
    "    # =========== STUDENT END ==========\n",
    "```\n",
    "\n",
    "**Part of the code deals with how regression analysis can be accomplished using Python:**\n",
    "```python\n",
    "    # Only the fermentation IDs and specified sensor zones are kept for regression\n",
    "    regression_cool_df = cool_df[\n",
    "        cool_df[\"Ferm_ID\"].isin(ferm_ids) & cool_df[\"Position\"].isin(sensors_to_use)\n",
    "    ]\n",
    "\n",
    "    # sort the temperatures in a descending fashion\n",
    "    regression_cool_df = regression_cool_df.sort_values(\n",
    "        by=[\"Temperature\"], ascending=False\n",
    "    )\n",
    "\n",
    "    # get the y value for the x, this will be used in curve fitting\n",
    "    regression_cool_df[\"Temperature_y\"] = regression_cool_df[\"Temperature\"].shift(-1)\n",
    "\n",
    "    # drop the last row\n",
    "    regression_cool_df = regression_cool_df[:-1]\n",
    "\n",
    "    # training temperature feature\n",
    "    x1_train = regression_cool_df[\"Temperature\"].values\n",
    "\n",
    "    # training Volume feature\n",
    "    x2_train = regression_cool_df[\"Volume\"].values\n",
    "\n",
    "    # [temperature, volume]\n",
    "    x = [x1_train, x2_train]\n",
    "\n",
    "    # Training of non-linear least squares model\n",
    "    # Nonlinear curve-fitting pass a tuple in curve fitting\n",
    "    popt, pcov = curve_fit(\n",
    "        temperature_profile, x, regression_cool_df[\"Temperature_y\"].values\n",
    "    )\n",
    "```"
   ]
  },
  {
   "cell_type": "code",
   "execution_count": null,
   "metadata": {
    "cell_id": "00004-ea3e467e-279e-48aa-9776-36fb34639316",
    "deepnote_cell_type": "code",
    "papermill": {
     "duration": 0.005079,
     "end_time": "2020-08-14T19:33:46.186861",
     "exception": false,
     "start_time": "2020-08-14T19:33:46.181782",
     "status": "completed"
    },
    "tags": []
   },
   "outputs": [],
   "source": []
  },
  {
   "cell_type": "markdown",
   "metadata": {
    "created_in_deepnote_cell": true,
    "deepnote_cell_type": "markdown",
    "tags": []
   },
   "source": [
    "<a style='text-decoration:none;line-height:16px;display:flex;color:#5B5B62;padding:10px;justify-content:end;' href='https://deepnote.com?utm_source=created-in-deepnote-cell&projectId=27d58a9b-9aaa-47c5-b041-7e32d6d185a5' target=\"_blank\">\n",
    "<img alt='Created in deepnote.com' style='display:inline;max-height:16px;margin:0px;margin-right:7.5px;' src='data:image/svg+xml;base64,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' > </img>\n",
    "Created in <span style='font-weight:600;margin-left:4px;'>Deepnote</span></a>"
   ]
  }
 ],
 "metadata": {
  "deepnote": {},
  "deepnote_execution_queue": [],
  "deepnote_notebook_id": "94adb5b0-10e4-4ead-89fa-6f160efea710",
  "kernelspec": {
   "display_name": "Python 3 (ipykernel)",
   "language": "python",
   "name": "python3"
  },
  "language_info": {
   "codemirror_mode": {
    "name": "ipython",
    "version": 3
   },
   "file_extension": ".py",
   "mimetype": "text/x-python",
   "name": "python",
   "nbconvert_exporter": "python",
   "pygments_lexer": "ipython3",
   "version": "3.8.12"
  },
  "papermill": {
   "duration": 2.039891,
   "end_time": "2020-08-14T19:33:47.401695",
   "environment_variables": {},
   "exception": null,
   "input_path": "../Learning_Modules/NB2_LEARNOBJECTIVES_Cooling_Prediction.ipynb",
   "output_path": "./Release/NB2_LEARNOBJECTIVES_Cooling_Prediction.ipynb",
   "parameters": {},
   "start_time": "2020-08-14T19:33:45.361804",
   "version": "2.1.2"
  },
  "toc": {
   "base_numbering": 1,
   "nav_menu": {},
   "number_sections": true,
   "sideBar": true,
   "skip_h1_title": false,
   "title_cell": "Table of Contents",
   "title_sidebar": "Contents",
   "toc_cell": true,
   "toc_position": {},
   "toc_section_display": true,
   "toc_window_display": false
  }
 },
 "nbformat": 4,
 "nbformat_minor": 4
}
