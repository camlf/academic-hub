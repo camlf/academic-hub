{
 "cells": [
  {
   "cell_type": "markdown",
   "source": "<h1>Table of Contents<span class=\"tocSkip\"></span></h1>\n<div class=\"toc\"><ul class=\"toc-item\"><li><span><a href=\"#Brewery-Dataset-Documentation\" data-toc-modified-id=\"Brewery-Dataset-Documentation-1\">Brewery Dataset Documentation</a></span><ul class=\"toc-item\"><li><span><a href=\"#Overview-of-the-Brewery-Dataset-Document\" data-toc-modified-id=\"Overview-of-the-Brewery-Dataset-Document-1.1\">Overview of the Brewery Dataset Document</a></span></li></ul></li><li><span><a href=\"#Part-1.-Description-of-Brewery-Dataset-(Deschutes)\" data-toc-modified-id=\"Part-1.-Description-of-Brewery-Dataset-(Deschutes)-2\">Part 1. Description of Brewery Dataset (Deschutes)</a></span><ul class=\"toc-item\"><li><ul class=\"toc-item\"><li><span><a href=\"#1a.-Presence-of-Three-Temperature-Control-Zones-for-Fermenter-Vessels-and-Bright-Tanks\" data-toc-modified-id=\"1a.-Presence-of-Three-Temperature-Control-Zones-for-Fermenter-Vessels-and-Bright-Tanks-2.0.1\">1a. Presence of Three Temperature Control Zones for Fermenter Vessels and Bright Tanks</a></span></li><li><span><a href=\"#1b.-Deschutes-Beer-Manufacturing-Process\" data-toc-modified-id=\"1b.-Deschutes-Beer-Manufacturing-Process-2.0.2\">1b. Deschutes Beer Manufacturing Process</a></span></li></ul></li></ul></li><li><span><a href=\"#Part-2.-Industry-Challenges\" data-toc-modified-id=\"Part-2.-Industry-Challenges-3\">Part 2. Industry Challenges</a></span></li><li><span><a href=\"#Part-3.-Stream-Data\" data-toc-modified-id=\"Part-3.-Stream-Data-4\">Part 3. Stream Data</a></span></li><li><span><a href=\"#Part-4.-Data-Quality\" data-toc-modified-id=\"Part-4.-Data-Quality-5\">Part 4. Data Quality</a></span></li><li><span><a href=\"#Part-5.-Assets,-Dataviews-and-Metadata\" data-toc-modified-id=\"Part-5.-Assets,-Dataviews-and-Metadata-6\">Part 5. Assets, Dataviews and Metadata</a></span><ul class=\"toc-item\"><li><span><a href=\"#Brewery-Assets\" data-toc-modified-id=\"Brewery-Assets-6.1\">Brewery Assets</a></span></li><li><span><a href=\"#Available-Data-Views\" data-toc-modified-id=\"Available-Data-Views-6.2\">Available Data Views</a></span></li><li><span><a href=\"#Multi-asset-data-views\" data-toc-modified-id=\"Multi-asset-data-views-6.3\">Multi-asset data views</a></span></li><li><span><a href=\"#Asset-Metadata\" data-toc-modified-id=\"Asset-Metadata-6.4\">Asset Metadata</a></span></li></ul></li></ul></div>",
   "metadata": {
    "toc": true,
    "cell_id": "f3ee2c88-8626-4170-ab14-f82009354d39",
    "deepnote_cell_type": "markdown"
   }
  },
  {
   "cell_type": "markdown",
   "source": "# Brewery Dataset Documentation\n___",
   "metadata": {
    "cell_id": "00001-3dbf3811-3e78-427a-bbac-4381a1839654",
    "deepnote_cell_type": "markdown"
   }
  },
  {
   "cell_type": "markdown",
   "source": "\n## Overview of the Brewery Dataset Document\n\n__[Part 1](#section_1). Description of Brewery Dataset (Deschutes)__\n\nDescribes the OSIsoft Academic Hub ([Part 1](#section_1)), the Brewery dataset, the time frame in which the dataset was compiled, data quality ([Part 1a](#section_1a)), and Deschutes Beer brewing process ([Part 1b](#section_1b)).\n\n__[Part 2](#section_2). The Industry Challenges__\n\nThe brewers at the Deschutes brewery have identified two distinct critical parameters that are directly related to their process's throughput and costs. Empowered by data analytics, the brewers explain how they were able to solve the engineering challenge.\n\n__[Part 3](#section_3). Stream Data__\n\nExplains the process parameters and other monitored variables collected during beer manufacturing process.\n\n__[Part 4](#section_4). Data Quality__\n\nFaced with real-world data, students are expected to work with \"dirty\" data: data which contains error and gaps. This section also describes various ways poor quality data arises.\n\n__[Part 5](#section_5). Assets, Data Views and Metadata__\n\nHub Datasets are organized around a set of assets, each of the asset having at least a default data view. A data view is an OCS feature to extract interpolated data from multiple related streams, in a tabular form ready for data-driven applications or any data analysis tool. Specialized data views (subsets of the default data views) can also be defined, as it is the case for this dataset.   ",
   "metadata": {
    "cell_id": "00002-99948144-7613-438a-8302-682aca984b99",
    "deepnote_cell_type": "markdown"
   }
  },
  {
   "cell_type": "markdown",
   "source": "# Part 1. Description of Brewery Dataset (Deschutes)\n---\n<a id=\"section_1\"></a>\n\n    \nOSIsoft Academic Hub is a cloud-based platform that supports data analytics in the university curriculum by providing a data infrastructure to host, aggregate, and analyze data. Students are exposed to real-world industrial data which illustrates some of the same engineering concepts being taught in classrooms and labs. OSIsoft Academic Hub hosts the real-world dataset shared from a beer brewing customer, Deschutes Brewery. The dataset contains the sensor data and the categorical data organizing the brands of the brews in the fermenter and the status of the fermenter. The entire dataset comes from 39 fermenters and 13 bright tanks, with date range from January 8, 2017 to May 18, 2020. Both the fermenter vessels and bright tanks have a mix of different models with different capabilities in term of temperature control zones, additional temperature sensor and pressure control zone.  \n\nThe next section contains summary tables with this information. ",
   "metadata": {
    "cell_id": "00003-47d38a42-a8bc-4b42-8b6a-8d622097b565",
    "deepnote_cell_type": "markdown"
   }
  },
  {
   "cell_type": "markdown",
   "source": "### 1a. Presence of Three Temperature Control Zones for Fermenter Vessels and Bright Tanks  \n<a id=\"section_1a\"></a>\n\nEach fermenter vessels may have up to three control zones (Top, Middle and Bottom TIC) depending on their models. The newer ones (FV37 up to FV46) have also temperature sensors in the cone and bottom. Finally some fermenters (FV31 up to FV46) have also an additional pressure control zone (PIC). \n\nThe table shown below summarizes the data availability of the zones and sensors just mentioned. Students will perform data analysis on fermenters vessels FV31 up to FV36 because those we the most data-complete fermenters that were available in a previous version of the dataset. \n    \n| Asset_Id | Top TIC | Middle TIC | Bottom TIC | Cone Temp | Bottom Temp | PIC | \n|:--------:|:-------:|:----------:|:----------:|:----------:|:----------:|:---:| \n|   FV01   |  &#9679; | &#9679; | &#9679; |        |        |         |\n|   FV02   |  &#9679; | &#9679; | &#9679; |        |        |         |\n|   FV08   |         |        | &#9679; |        |        |         |\n|   FV09   |         |        | &#9679; |        |        |         |\n|   FV10   |         |        | &#9679; |        |        |         |\n|   FV11   |         |        | &#9679; |        |        |         |\n|   FV12   |         |        | &#9679; |        |        |         |\n|   FV13   |         |        | &#9679; |        |        |         |\n|   FV14   |         |        | &#9679; |        |        |         |\n|   FV15   |  &#9679; |        | &#9679; |        |        |         |\n|   FV16   |  &#9679; |        | &#9679; |        |        |         |\n|   FV17   |         |        | &#9679; |        |        |         |\n|   FV18   |         |        | &#9679; |        |        |         |\n|   FV19   |         |        | &#9679; |        |        |         |\n|   FV20   |         |        | &#9679; |        |        |         |\n|   FV21   |         |        | &#9679; |        |        |         |\n|   FV22   |         |        | &#9679; |        |        |         |\n|   FV23   |         |        | &#9679; |        |        |         |\n|   FV24   |         |        | &#9679; |        |        |         |\n|   FV25   |         |        | &#9679; |        |        |         |\n|   FV26   |         |        | &#9679; |        |        |         |\n|   FV27   |  &#9679; |        | &#9679; |        |        |         |\n|   FV28   |  &#9679; |        | &#9679; |        |        |         |\n|   FV31   |  &#9679; | &#9679; | &#9679; |        |        | &#9679;  |\n|   FV32   |  &#9679; | &#9679; | &#9679; |        |        | &#9679;  |\n|   FV33   |  &#9679; | &#9679; | &#9679; |        |        | &#9679;  |\n|   FV34   |  &#9679; | &#9679; | &#9679; |        |        | &#9679;  |\n|   FV35   |  &#9679; | &#9679; | &#9679; |        |        | &#9679;  |\n|   FV36   |  &#9679; | &#9679; | &#9679; |        |        | &#9679;  |\n|   FV37   |  &#9679; | &#9679; | &#9679; | &#9679; | &#9679; | &#9679;  |\n|   FV38   |  &#9679; | &#9679; | &#9679; | &#9679; | &#9679; | &#9679;  |\n|   FV39   |  &#9679; | &#9679; | &#9679; | &#9679; | &#9679; | &#9679;  |\n|   FV40   |  &#9679; | &#9679; | &#9679; | &#9679; | &#9679; | &#9679;  |\n|   FV41   |  &#9679; | &#9679; | &#9679; | &#9679; | &#9679; | &#9679;  |\n|   FV42   |  &#9679; | &#9679; | &#9679; | &#9679; | &#9679; | &#9679;  |\n|   FV43   |  &#9679; | &#9679; | &#9679; | &#9679; | &#9679; | &#9679;  |\n|   FV44   |  &#9679; | &#9679; | &#9679; | &#9679; | &#9679; | &#9679;  |\n|   FV45   |  &#9679; | &#9679; | &#9679; | &#9679; | &#9679; | &#9679;  |\n|   FV46   |  &#9679; | &#9679; | &#9679; | &#9679; | &#9679; | &#9679;  |\n\nDeschutes also uses bright tanks and the data for each tank can sport up to two temperature control zones (Top, Bottom). The table shown below summarizes the data availability of the control control zones by bright tank (labeled BB02 through BB15, though BB10 is not included in the datset). \n\n| Asset_Id | Top TIC | Bottom TIC |\n|:--------:|:-------:|:----------:|\n| BB02 |         | &#9679;  |\n| BB03 |         | &#9679;  |\n| BB04 |         | &#9679;  |\n| BB05 |         | &#9679;  |\n| BB06 |         | &#9679;  |\n| BB07 |         | &#9679;  |\n| BB08 |         | &#9679;  |\n| BB09 |         |  &#9679;  |\n| BB11 |  &#9679; | &#9679;  |\n| BB12 |  &#9679; | &#9679;  |\n| BB13 |  &#9679; | &#9679;  |\n| BB14 |  &#9679; | &#9679;  |\n| BB15 |  &#9679; | &#9679;  |\n",
   "metadata": {
    "cell_id": "00004-6bf52007-a8d0-4a39-a7fa-8bb81cffa08c",
    "deepnote_cell_type": "markdown"
   }
  },
  {
   "cell_type": "markdown",
   "source": "### 1b. Deschutes Beer Manufacturing Process\n<a id=\"section_1b\"></a>\n\nBefore performing analytics on the Deschutes dataset, it is important first to understand the Deschutes beer manufacturing process from filling to emptying. Each step of the process can be explained using the status of the fermenter. The fermenter goes through a total of ten different stages in the following order:     \n\n  \n| # | Stage | Description |\n|:-:|:-----:|:------------|\n| 1 | Filling | Filling multiple brews into the fermenter. | \n| 2 | Fermentation | Yeast metabolically converts glucose in the wort to ethanol and carbon dioxide gas. |\n| 3 | Free Rise | The solution temperature increases approximately from 60° to 70° Fahrenheit to adjust the temperature environment for yeast for diacetyl rest. |\n| 4 | Diacetyl Rest | Yeast reduces metabolic by-product, diacetyl compounds, which above its threshold can create off-putting taste in the beer. |\n| 5 | Cooling | The temperature of the entire volume cools from 70° to below 30° Fahrenheit. |\n| 6 | Maturation | The tank waits for 24 to 48 hours just below 30° Fahrenheit, stabilizing colloidal stability. |\n| 7 | Ready to Transfer | The vessel holding beer is on standby until scheduled for packaging. |\n| 8 | Emptying | Remove any excess solids in the solution using a centrifuge as the solution exits the vessel and continuously do so until it is emptied |\n| 9 | Cleaning | Cleaning the residual solution or solids inside the fermenter. |\n| 10 | CIP (Clean-In-Place) | Cleaning the fermenter without moving or disassembling its parts. |\n\n</br>\n\nStudents should concentrate on the fermentation, free rise, diacetyl rest, and cooling phases wherein the engineering problems arise. The links below are the presentations from Deschutes brewery and professor Dr. Davison, and will help students to understand the physical process and the resulting dataset.\n\n> 1. [Deschutes Brewery: Reducing Beer Production Time with Predictions](https://www.osisoft.com/Presentations/Deschutes-Brewery--Reducing-Beer-Production-Time-with-Predictions/)\n    \nPresentation summary:     \n   - Brian Faivre, a brewmaster, and Tim Alexander, an assistant brewmaster, give a breakdown of the beer manufacturing process by explaining each of the nine different status described above.\n   - They present challenges in analytics due to the eight to nine varieties of the beer brews in the fermenter, and how they benefited by building the predictive model locating the transition point from fermentation to free rise.\n   - They were able to save $750K in capital investment of the alternative option (e.g., ADF measurement with the automated sensors) and to reduce the operational time loss in production capacity due to frequent density measurement.\n\n    \n> 2. [Introduction to Time-Series Analysis with PI System and R](https://www.osisoft.com/Presentations/Introduction-to-Time-Series-Analysis-with-PI-System-and-R/)\n\nPresentation summary:     \n\n   - Dr. Davison discusses simple data analytics on the Deschutes dataset predicting the degree of fermentation measured with a linear-regression model, forecasting the cooling temperature, and performing dimensionality reduction using principal component analysis.\n   - Dr. Davison describes the multiple sensors used for compiling data, which creates complexity due to varying types of sensors and thus different data sampling frequencies and methodologies including manual.\n   - Dr. Davison emphasizes the importance of understanding the fermentation process to create an improved predictive model. The improved model was a three-piecewise linear model because the yeast growth curve is composed of the three different phases: the lag, growth, and fermentation phases.\n",
   "metadata": {
    "cell_id": "00005-9e53b7f3-294f-4a11-9fa5-98ce43b04ecb",
    "deepnote_cell_type": "markdown"
   }
  },
  {
   "cell_type": "markdown",
   "source": "# Part 2. Industry Challenges\n---\n<a id=\"section_2\"></a>\n\nDeschutes Brewery identified the problems that are critical to their organization's performance. Students will take on two sets of problems Deschutes identified: one is to predict Apparent Degree of Fermentation (ADF), and another is to predict the cooling temperature profile.\n\nPredicting the ADF, which describes the fermentation status, is important. There are currently two options - implementing automated instrumentation or performing the task manually. The automated measurement of gravity of wort is costly, and without it, this becomes a manual and time-consuming process. Being able to predict ADF will translate to the significant savings in time devoted to measuring ADF and save the cost of implementing the automated instrumentation.\n\nBuilding a predictive model for the cooling temperature profile is also valuable because students can easily predict the entire cooling temperature profile, given the initial temperature of the solution. This simple model can then be used to examine the data quality by determining whether the cooling phase is indentified and correctly labled as cooling phase and not another phase.\n</font>\n    ",
   "metadata": {
    "cell_id": "00006-78e89d13-8248-45d2-9d61-b2a5fbdedc54",
    "deepnote_cell_type": "markdown"
   }
  },
  {
   "cell_type": "markdown",
   "source": "# Part 3. Stream Data\n---\n<a id=\"section_3\"></a>\n\n    \nStream data is how the data of the process parameters are stored, which associate the data with time. Presented in the table are the winnowed-down process parameters and quality attributes of the fermenter that students will focus on. The process parameters include the volume of the vessel, top, middle, and bottom temperature of the vessel, whereas the quality attributes include Plato and ADF. A portion of the stream names are acronyms such as TIC (temperature indicator controller), PV (process variable), OUT (cooling intensity), and SP (setpoint). \n    \nThe Plato and the ADF are calculated measurementsrelated to the sugar concentration, as shown in the equations. Plato is the concentration of the dissolved solids per volume wort, whereas ADF explains how much of dissolved solids are attenuated over time as they ferment. The stream data attributes also include categorical data, including Status and Brand, that are represented using text fields. The Status describes the current status of the fermenter at a given time, which include Maturation, Ready to Transfer, Emptying, Empty, CIP, Blown Down, Clean, Sanitized, Filling, Fermentation, Free Rise, Diacetyl Rest, Cooling, Addition Maturation Waiting for Addition, and Addition Complete.\nBrand is another categorical data representing the different beer products comprising Kerberos, Realtime Hops, Grey Horse, Adele, 5450, Alistair, Kennedy, Red Wonder, and Hop-Scotch.\n",
   "metadata": {
    "cell_id": "00007-f1cbfee0-6233-49a5-9ca8-72e8144daaa0",
    "deepnote_cell_type": "markdown"
   }
  },
  {
   "cell_type": "markdown",
   "source": "The following table shows all the data streams for Fermenter 40 (Asset ID FV40).\n\n| Column_Name | Stream_Type | Stream_UOM | Description | OCS_Stream_Name | \n|:-----------:|:-----------:|:----------:|:-----------:|----------------:|\n| ADF | Float | Unitless |  $$ Apparent\\; Degree\\; of\\; Fermentaion = \\frac{Starting\\; Specific\\; Gravity - Current\\; Specific\\; Gravity}{Starting\\; Specific\\; Gravity - 1} $$ | B2_CL_C3_FV40/ADF |\n| Bottom TIC OUT | Float | % | Vessel BottomTemperature Indicator Controller Output | B2_CL_C3_FV40_TIC204A/OUT.CV |\n| Bottom TIC PV | Float | °F | Vessel Bottom Temperature Indicator Controller Process Value | B2_CL_C3_FV40_TIC204A/PV.CV |\n| Bottom TIC SP | Float | °F | Vessel Bottom Temperature Indicator Controller Output Setpoint | B2_CL_C3_FV40_TIC204A/SP.CV |\n| Bottom Temperature | Float | °F | Vessel Temperature Bottom Sensor | B2_CL_C3_FV40_TT204D/PV.CV |\n| Brand | Category |  | Beer Brand | B2_CL_C3_FV40/BRAND.CV |\n| Cone Temperature | Float | °F | Vessel Temperature Cone Sensor | B2_CL_C3_FV40_TT204A/PV.CV |\n| Deviation | Float |  |  | B2_CL_C3_FV40/Prediction.Deviation |\n| Diacetyl | Integer | ppb | Diacetyl level in the vessel | B2_CL_C3_FV40/Diacetyl |\n| End Phase Time | Float | m |          | B2_CL_C3_FV40/EndPhaseTime.CV |\n| FV Full Plato | Float | Plato | $$ Plato = \\frac{Weight\\;of \\;Dissolved Solids}{Volume\\;of\\;Wort}$$ | B2_CL_C3_FV40/DcrsFvFullPlato |\n| Fermentation Start Time | Timestamp | Datetime | Captured at fermentation start | B2_CL_C3_FV40/Fermentation_Start_Time |\n| Integrator Key | Float |  |   | B2_CL_C3_FV40/Integrator Key |\n| Middle TIC OUT | Float | % | Vessel Middle Temperature Indicator Controller Output | B2_CL_C3_FV40_TIC204B/OUT.CV |\n| Middle TIC PV | Float | °F | Vessel Middle Temperature Indicator Controller Process Value | B2_CL_C3_FV40_TIC204B/PV.CV |\n| Middle TIC SP | Float | °F | Vessel Middle Temperature Indicator Controller Output Setpoint | B2_CL_C3_FV40_TIC204B/SP.CV |\n| PIC OUT | Float | % |  Vessel Pressure Controller Output  | B2_CL_C3_FV40_PIC204/OUT.CV |\n| PIC PV | Float | psi |  Vessel Pressure Process Value  | B2_CL_C3_FV40_PIC204/PV.CV |\n| PIC SP | Float | psi |  Vessel Pressure Setpoint  | B2_CL_C3_FV40_PIC204/SP.CV |\n| Phase Duration | Integer |  |  ? | B2_CL_C3_FV40/Phase Duration |\n| Plato | Float | Plato |  $$ Plato = \\frac{Weight\\;of \\;Dissolved Solids}{Volume\\;of\\;Wort}$$ | B2_CL_C3_FV40/Plato |\n| Predicted Transition | String |  |          | B2_CL_C3_FV40/Predicted Transition |\n| Status | Category |  | Status describing the current status of the fermenter at a given time | B2_CL_C3_FV40/STATUS.CV |\n| Top TIC OUT | Float | % | Vessel Top Temperature Indicator Controller Output | B2_CL_C3_FV40_TIC204C/OUT.CV |\n| Top TIC PV | Float | °F | Vessel Top Temperature Indicator Controller Process Value | B2_CL_C3_FV40_TIC204C/PV.CV |\n| Top TIC SP | Float | °F | Vessel Top Temperature Indicator Controller Output Setpoint | B2_CL_C3_FV40_TIC204C/SP.CV |\n| Vessel Procedure | String |  | Trigger for Batch Unit Procedure | B2_CL_C3_FV40/VesselProcedure |\n| VesselID | Integer |  | The unique identifier for this vessel instance in DCRS  | B2_CL_C3_FV40/VesselID |\n| Volume | Float | bbl | Vessel Volume | B2_CL_C3_FV40_LA204/PV.CV |\n| Yeast Generation | Integer |  |   Vessel Yeast Generation   | B2_CL_C3_FV40/YEASTGEN.CV |\n| Yeast Out Totalizer | Integer |  |    | B2_CL_C3_FV40/YeastOutTotalizer |\n| Yeast Strain | Category |  |   Vessel Yeast Strain  | B2_CL_C3_FV40/YEAST.CV |\n\n\n\n\nThe following table shows all the data streams for Bright Tank 11 (BB11).\n\n| Column_Name | Stream_Type | Stream_UOM | OCS_Stream_Name | \n|:-----------:|:-----------:|:----------:|----------------:|\n| Bottom TIC OUT | Float | % | B2_CL_C2_BB11_TIC1800A/OUT.CV |\n| Bottom TIC PV | Float | °F | B2_CL_C2_BB11_TIC1800A/PV.CV |\n| Bottom TIC SP | Float | °F | B2_CL_C2_BB11_TIC1800A/SP.CV |\n| Brand | Category |  | B2_CL_C2_BB11/BRAND.CV |\n| Brewing Release | Category |  | B2_CL_C2_BB11/BREWING_RELEASE.CV |\n| Kraeusened | Category |  | B2_CL_C2_BB11/KRAEUSEN.CV |\n| Maturation Start Time | Timestamp |  | B2_CL_C2_BB11/Maturation Start Time |\n| PIC OUT | Float | % | B2_CL_C2_BB11_PIC1802/OUT.CV |\n| PIC PV | Float | psi | B2_CL_C2_BB11_PIC1802/PV.CV |\n| PIC SP | Float | psi | B2_CL_C2_BB11_PIC1802/SP.CV |\n| Phase Duration | Integer |  | B2_CL_C2_BB11/Phase Duration |\n| Quality Release | Category |  | B2_CL_C2_BB11/QUALITY_RELEASE.CV |\n| Status | Category |  | B2_CL_C2_BB11/STATUS.CV |\n| Top TIC OUT | Float | % | B2_CL_C2_BB11_TIC1800B/OUT.CV |\n| Top TIC PV | Float | °F | B2_CL_C2_BB11_TIC1800B/PV.CV |\n| Top TIC SP | Float | °F | B2_CL_C2_BB11_TIC1800B/SP.CV |\n| Vessel Procedure | String |  | B2_CL_C2_BB11/VesselProcedure |\n| VesselID | Integer |  | B2_CL_C2_BB11/VesselID |\n| Volume | Float |  | B2_CL_C2_BB11_LT1800/PV.CV |\n| Volume In | Float |  | B2_CL_C2_BB11_FQ1800_A/TOTAL.CV |\n| Volume Out | Float |  | B2_CL_C2_BB11_FQ1800_B/TOTAL.CV |\n| Yeast Strain | Category |  | B2_CL_C2_BB11/YEAST.CV |\n\n   ",
   "metadata": {
    "cell_id": "00008-410c50c3-04b1-4cba-b5ed-62e9374ffd92",
    "deepnote_cell_type": "markdown"
   }
  },
  {
   "cell_type": "markdown",
   "source": "\n\nThe data streams in the table above are all verified, complete, and relevant to the two goals Deschutes identified: predict Apparent Degree of Fermentation (ADF), and predict the cooling temperature profile. A key component of using data analytics to provide value is determining where there might be opportunity for improvement, what the related data is for that opportunity, and where to find that data. Usually this requires the help of a SME (Subject Matter Expert) familiar with the industry and processes and assets within the industry. The brewmasters at Deschutes Brewery provided SME knowledge here, and narrowed down the data streams from everything available in Deschute's systems to the curated subset listed in the table above. \n\nPerforming data analytics on data streams that are inaccurate or incomplete is usually an exercise in futility, because the results will not be valuable. In early computing days the phrase \"garbage in, garbage out\" was first used to to describe the computer as simply processing what it was given. In the case of data analytics, \"garbage in, garbage out\" is just as applicable. For these reasons, students will not use the full dataset below.   \n",
   "metadata": {
    "cell_id": "00009-2e12ac2e-c1d1-41f9-b866-82d7e8163bbb",
    "deepnote_cell_type": "markdown"
   }
  },
  {
   "cell_type": "markdown",
   "source": "# Part 4. Data Quality\n---\n<a id=\"section_4\"></a>\n\nThough there are 39 fermenters, students will focus on only fermenters 31 to 36 because they were the 6 fermenters with the most complete data in a previous subset of this dataset. Even fermenters 31 to 36 have imperfect data streams, referred to as \"dirty\" data. Dirty data is the result of numerous causes including: an error between the data source and the mechanism sending the data stream to the data store, propogation of poor quality data through its use in calulations, manualy data being miskeyed or mislabeled, and simply missing data. Another potential poor-quality data can come from manually recorded data, the vessel status and ADF; for example, the cooling phase could be mislabeled as the diacetyl rest phase.  \n\nWith the current version of Academic Hub Python library, data views will show all the dirty data value (except mislabeled ones) as missing data (empty string). Data cleansing must be performed before moving forward with data analysis. Data cleansing is the process of removing, editing, or adding incorrect or missing data from a raw data set. In the case of the fermenter data, the only type of data cleansing we need to perform is on missing data. Rows with missing data can be discarded from a Pandas dataframe by calling the `.dropna()` method. Some student exercises require this method for data preparation. \n    ",
   "metadata": {
    "cell_id": "00010-1192b330-1ef8-4eaf-91c3-8258b980a93a",
    "deepnote_cell_type": "markdown"
   }
  },
  {
   "cell_type": "markdown",
   "source": "# Part 5. Assets, Dataviews and Metadata\n---\n<a id=\"section_5\"></a>",
   "metadata": {
    "cell_id": "00011-74802f06-f7a6-4e6d-a87f-579adc0ee9dd",
    "deepnote_cell_type": "markdown"
   }
  },
  {
   "cell_type": "markdown",
   "source": "Academic Hub datasets are structured around assets. Here assets are pieces of equipment found in a brewery: many fermenter vessels, bright tanks, and other related equipment. Each asset has an Asset Identifier (Asset Id) and a description. This information is available through the Hub Python library (`ocs_academic_hub`) and is returned as Pandas dataframe.\n\nEach asset is endowed with a default data view, i.e. a structure which maps all the data streams associated to the asset onto a column in a Pandas dataframe. Each data view has a Data view Id and exists within an OCS namespace, i.e. a named partition with its own Namespace ID. To request data for an asset, the following information should be provided:\n\n* Namespace Id\n* Data view Id\n* Start index (timestamp)\n* End index (timestamp). \n* Interpolation interval\n\nReference for the start/end index and interpolation interval can be found at https://ocs-docs.osisoft.com/Content_Portal/Documentation/DataViews/GetDataViewData/Quick_Start_Get_Data_View_Data.html#index. \n\nFor specific use-cases it is possible to define specialized dataviews having only a subset of the default dataview columns. Specialized dataviews avoid data overfetching and reduce the time to get results back especially with large tables with high number of rows. Most data views are for a single asset, but it's possible to define a data view spanning multiple assets. This avoid requesting multiple single-asset data views and stiching the result into a single Pandas dataframe for analysis. \n\nAsset metadata is static information about the asset, e.g. the equipment manufacturer, installation date, etc. **This dataset has no asset metadata.** ",
   "metadata": {
    "cell_id": "00012-bfe52a2f-a6ff-4275-b7bb-210222564f2a",
    "deepnote_cell_type": "markdown"
   }
  },
  {
   "cell_type": "code",
   "metadata": {
    "cell_id": "00013-43cbfafe-c9a4-4672-9ed5-9fe27a0a9af1",
    "deepnote_to_be_reexecuted": false,
    "source_hash": "1b21c5b6",
    "execution_start": 1642203871268,
    "execution_millis": 5274,
    "deepnote_cell_type": "code"
   },
   "source": "!pip install ocs_academic_hub==0.99.38",
   "outputs": [
    {
     "name": "stdout",
     "text": "Requirement already satisfied: ocs_academic_hub==0.99.38 in /root/venv/lib/python3.7/site-packages (0.99.38)\nRequirement already satisfied: typeguard>=2.4.1 in /root/venv/lib/python3.7/site-packages (from ocs_academic_hub==0.99.38) (2.13.3)\nRequirement already satisfied: pandas>=0.24.2 in /shared-libs/python3.7/py/lib/python3.7/site-packages (from ocs_academic_hub==0.99.38) (1.2.5)\nRequirement already satisfied: backoff in /root/venv/lib/python3.7/site-packages (from ocs_academic_hub==0.99.38) (1.11.1)\nRequirement already satisfied: markdown in /shared-libs/python3.7/py/lib/python3.7/site-packages (from ocs_academic_hub==0.99.38) (3.3.6)\nRequirement already satisfied: numpy in /shared-libs/python3.7/py/lib/python3.7/site-packages (from ocs_academic_hub==0.99.38) (1.19.5)\nRequirement already satisfied: ocs-sample-library-hub>=0.1.19 in /root/venv/lib/python3.7/site-packages (from ocs_academic_hub==0.99.38) (0.1.20)\nRequirement already satisfied: importlib-metadata in /shared-libs/python3.7/py-core/lib/python3.7/site-packages (from ocs_academic_hub==0.99.38) (4.8.2)\nRequirement already satisfied: ipywidgets in /root/venv/lib/python3.7/site-packages (from ocs_academic_hub==0.99.38) (7.6.5)\nRequirement already satisfied: python-dateutil>=2.8.0 in /shared-libs/python3.7/py-core/lib/python3.7/site-packages (from ocs_academic_hub==0.99.38) (2.8.2)\nRequirement already satisfied: gql in /root/venv/lib/python3.7/site-packages (from ocs_academic_hub==0.99.38) (2.0.0)\nRequirement already satisfied: requests>=2.26 in /shared-libs/python3.7/py/lib/python3.7/site-packages (from ocs_academic_hub==0.99.38) (2.26.0)\nRequirement already satisfied: pytz>=2017.3 in /shared-libs/python3.7/py/lib/python3.7/site-packages (from pandas>=0.24.2->ocs_academic_hub==0.99.38) (2021.3)\nRequirement already satisfied: zipp>=0.5 in /shared-libs/python3.7/py-core/lib/python3.7/site-packages (from importlib-metadata->ocs_academic_hub==0.99.38) (3.6.0)\nRequirement already satisfied: typing-extensions>=3.6.4; python_version < \"3.8\" in /shared-libs/python3.7/py-core/lib/python3.7/site-packages (from importlib-metadata->ocs_academic_hub==0.99.38) (4.0.1)\nRequirement already satisfied: ipython-genutils~=0.2.0 in /shared-libs/python3.7/py-core/lib/python3.7/site-packages (from ipywidgets->ocs_academic_hub==0.99.38) (0.2.0)\nRequirement already satisfied: widgetsnbextension~=3.5.0 in /root/venv/lib/python3.7/site-packages (from ipywidgets->ocs_academic_hub==0.99.38) (3.5.2)\nRequirement already satisfied: ipython>=4.0.0; python_version >= \"3.3\" in /shared-libs/python3.7/py-core/lib/python3.7/site-packages (from ipywidgets->ocs_academic_hub==0.99.38) (7.30.1)\nRequirement already satisfied: traitlets>=4.3.1 in /shared-libs/python3.7/py-core/lib/python3.7/site-packages (from ipywidgets->ocs_academic_hub==0.99.38) (4.3.3)\nRequirement already satisfied: nbformat>=4.2.0 in /shared-libs/python3.7/py-core/lib/python3.7/site-packages (from ipywidgets->ocs_academic_hub==0.99.38) (5.1.3)\nRequirement already satisfied: jupyterlab-widgets>=1.0.0; python_version >= \"3.6\" in /root/venv/lib/python3.7/site-packages (from ipywidgets->ocs_academic_hub==0.99.38) (1.0.2)\nRequirement already satisfied: ipykernel>=4.5.1 in /shared-libs/python3.7/py-core/lib/python3.7/site-packages (from ipywidgets->ocs_academic_hub==0.99.38) (5.5.5)\nRequirement already satisfied: six>=1.5 in /shared-libs/python3.7/py-core/lib/python3.7/site-packages (from python-dateutil>=2.8.0->ocs_academic_hub==0.99.38) (1.16.0)\nRequirement already satisfied: graphql-core<3,>=2.3.2 in /root/venv/lib/python3.7/site-packages (from gql->ocs_academic_hub==0.99.38) (2.3.2)\nRequirement already satisfied: promise<3,>=2.3 in /root/venv/lib/python3.7/site-packages (from gql->ocs_academic_hub==0.99.38) (2.3)\nRequirement already satisfied: urllib3<1.27,>=1.21.1 in /shared-libs/python3.7/py/lib/python3.7/site-packages (from requests>=2.26->ocs_academic_hub==0.99.38) (1.26.7)\nRequirement already satisfied: charset-normalizer~=2.0.0; python_version >= \"3\" in /shared-libs/python3.7/py-core/lib/python3.7/site-packages (from requests>=2.26->ocs_academic_hub==0.99.38) (2.0.9)\nRequirement already satisfied: idna<4,>=2.5; python_version >= \"3\" in /shared-libs/python3.7/py-core/lib/python3.7/site-packages (from requests>=2.26->ocs_academic_hub==0.99.38) (3.3)\nRequirement already satisfied: certifi>=2017.4.17 in /shared-libs/python3.7/py/lib/python3.7/site-packages (from requests>=2.26->ocs_academic_hub==0.99.38) (2021.10.8)\nRequirement already satisfied: notebook>=4.4.1 in /shared-libs/python3.7/py-core/lib/python3.7/site-packages (from widgetsnbextension~=3.5.0->ipywidgets->ocs_academic_hub==0.99.38) (6.3.0)\nRequirement already satisfied: pygments in /shared-libs/python3.7/py-core/lib/python3.7/site-packages (from ipython>=4.0.0; python_version >= \"3.3\"->ipywidgets->ocs_academic_hub==0.99.38) (2.10.0)\nRequirement already satisfied: pickleshare in /shared-libs/python3.7/py-core/lib/python3.7/site-packages (from ipython>=4.0.0; python_version >= \"3.3\"->ipywidgets->ocs_academic_hub==0.99.38) (0.7.5)\nRequirement already satisfied: prompt-toolkit!=3.0.0,!=3.0.1,<3.1.0,>=2.0.0 in /shared-libs/python3.7/py-core/lib/python3.7/site-packages (from ipython>=4.0.0; python_version >= \"3.3\"->ipywidgets->ocs_academic_hub==0.99.38) (3.0.24)\nRequirement already satisfied: decorator in /shared-libs/python3.7/py-core/lib/python3.7/site-packages (from ipython>=4.0.0; python_version >= \"3.3\"->ipywidgets->ocs_academic_hub==0.99.38) (5.1.0)\nRequirement already satisfied: jedi>=0.16 in /shared-libs/python3.7/py-core/lib/python3.7/site-packages (from ipython>=4.0.0; python_version >= \"3.3\"->ipywidgets->ocs_academic_hub==0.99.38) (0.17.2)\nRequirement already satisfied: setuptools>=18.5 in /root/venv/lib/python3.7/site-packages (from ipython>=4.0.0; python_version >= \"3.3\"->ipywidgets->ocs_academic_hub==0.99.38) (47.1.0)\nRequirement already satisfied: pexpect>4.3; sys_platform != \"win32\" in /shared-libs/python3.7/py-core/lib/python3.7/site-packages (from ipython>=4.0.0; python_version >= \"3.3\"->ipywidgets->ocs_academic_hub==0.99.38) (4.8.0)\nRequirement already satisfied: matplotlib-inline in /shared-libs/python3.7/py-core/lib/python3.7/site-packages (from ipython>=4.0.0; python_version >= \"3.3\"->ipywidgets->ocs_academic_hub==0.99.38) (0.1.3)\nRequirement already satisfied: backcall in /shared-libs/python3.7/py-core/lib/python3.7/site-packages (from ipython>=4.0.0; python_version >= \"3.3\"->ipywidgets->ocs_academic_hub==0.99.38) (0.2.0)\nRequirement already satisfied: jsonschema!=2.5.0,>=2.4 in /shared-libs/python3.7/py-core/lib/python3.7/site-packages (from nbformat>=4.2.0->ipywidgets->ocs_academic_hub==0.99.38) (3.2.0)\nRequirement already satisfied: jupyter-core in /shared-libs/python3.7/py-core/lib/python3.7/site-packages (from nbformat>=4.2.0->ipywidgets->ocs_academic_hub==0.99.38) (4.7.1)\nRequirement already satisfied: jupyter-client in /shared-libs/python3.7/py-core/lib/python3.7/site-packages (from ipykernel>=4.5.1->ipywidgets->ocs_academic_hub==0.99.38) (6.1.12)\nRequirement already satisfied: tornado>=4.2 in /shared-libs/python3.7/py-core/lib/python3.7/site-packages (from ipykernel>=4.5.1->ipywidgets->ocs_academic_hub==0.99.38) (6.1)\nRequirement already satisfied: rx<2,>=1.6 in /root/venv/lib/python3.7/site-packages (from graphql-core<3,>=2.3.2->gql->ocs_academic_hub==0.99.38) (1.6.1)\nRequirement already satisfied: jinja2 in /shared-libs/python3.7/py-core/lib/python3.7/site-packages (from notebook>=4.4.1->widgetsnbextension~=3.5.0->ipywidgets->ocs_academic_hub==0.99.38) (3.0.3)\nRequirement already satisfied: terminado>=0.8.3 in /shared-libs/python3.7/py-core/lib/python3.7/site-packages (from notebook>=4.4.1->widgetsnbextension~=3.5.0->ipywidgets->ocs_academic_hub==0.99.38) (0.12.1)\nRequirement already satisfied: argon2-cffi in /shared-libs/python3.7/py-core/lib/python3.7/site-packages (from notebook>=4.4.1->widgetsnbextension~=3.5.0->ipywidgets->ocs_academic_hub==0.99.38) (21.3.0)\nRequirement already satisfied: nbconvert==6.0.7 in /shared-libs/python3.7/py-core/lib/python3.7/site-packages (from notebook>=4.4.1->widgetsnbextension~=3.5.0->ipywidgets->ocs_academic_hub==0.99.38) (6.0.7)\nRequirement already satisfied: Send2Trash>=1.5.0 in /shared-libs/python3.7/py-core/lib/python3.7/site-packages (from notebook>=4.4.1->widgetsnbextension~=3.5.0->ipywidgets->ocs_academic_hub==0.99.38) (1.8.0)\nRequirement already satisfied: prometheus-client in /shared-libs/python3.7/py-core/lib/python3.7/site-packages (from notebook>=4.4.1->widgetsnbextension~=3.5.0->ipywidgets->ocs_academic_hub==0.99.38) (0.12.0)\nRequirement already satisfied: pyzmq>=17 in /shared-libs/python3.7/py-core/lib/python3.7/site-packages (from notebook>=4.4.1->widgetsnbextension~=3.5.0->ipywidgets->ocs_academic_hub==0.99.38) (22.3.0)\nRequirement already satisfied: wcwidth in /shared-libs/python3.7/py-core/lib/python3.7/site-packages (from prompt-toolkit!=3.0.0,!=3.0.1,<3.1.0,>=2.0.0->ipython>=4.0.0; python_version >= \"3.3\"->ipywidgets->ocs_academic_hub==0.99.38) (0.2.5)\nRequirement already satisfied: parso<0.8.0,>=0.7.0 in /shared-libs/python3.7/py-core/lib/python3.7/site-packages (from jedi>=0.16->ipython>=4.0.0; python_version >= \"3.3\"->ipywidgets->ocs_academic_hub==0.99.38) (0.7.1)\nRequirement already satisfied: ptyprocess>=0.5 in /shared-libs/python3.7/py-core/lib/python3.7/site-packages (from pexpect>4.3; sys_platform != \"win32\"->ipython>=4.0.0; python_version >= \"3.3\"->ipywidgets->ocs_academic_hub==0.99.38) (0.7.0)\nRequirement already satisfied: pyrsistent>=0.14.0 in /shared-libs/python3.7/py-core/lib/python3.7/site-packages (from jsonschema!=2.5.0,>=2.4->nbformat>=4.2.0->ipywidgets->ocs_academic_hub==0.99.38) (0.18.0)\nRequirement already satisfied: attrs>=17.4.0 in /shared-libs/python3.7/py-core/lib/python3.7/site-packages (from jsonschema!=2.5.0,>=2.4->nbformat>=4.2.0->ipywidgets->ocs_academic_hub==0.99.38) (21.2.0)\nRequirement already satisfied: MarkupSafe>=2.0 in /shared-libs/python3.7/py-core/lib/python3.7/site-packages (from jinja2->notebook>=4.4.1->widgetsnbextension~=3.5.0->ipywidgets->ocs_academic_hub==0.99.38) (2.0.1)\nRequirement already satisfied: argon2-cffi-bindings in /shared-libs/python3.7/py-core/lib/python3.7/site-packages (from argon2-cffi->notebook>=4.4.1->widgetsnbextension~=3.5.0->ipywidgets->ocs_academic_hub==0.99.38) (21.2.0)\nRequirement already satisfied: jupyterlab-pygments in /shared-libs/python3.7/py-core/lib/python3.7/site-packages (from nbconvert==6.0.7->notebook>=4.4.1->widgetsnbextension~=3.5.0->ipywidgets->ocs_academic_hub==0.99.38) (0.1.2)\nRequirement already satisfied: mistune<2,>=0.8.1 in /shared-libs/python3.7/py-core/lib/python3.7/site-packages (from nbconvert==6.0.7->notebook>=4.4.1->widgetsnbextension~=3.5.0->ipywidgets->ocs_academic_hub==0.99.38) (0.8.4)\nRequirement already satisfied: pandocfilters>=1.4.1 in /shared-libs/python3.7/py-core/lib/python3.7/site-packages (from nbconvert==6.0.7->notebook>=4.4.1->widgetsnbextension~=3.5.0->ipywidgets->ocs_academic_hub==0.99.38) (1.5.0)\nRequirement already satisfied: entrypoints>=0.2.2 in /shared-libs/python3.7/py-core/lib/python3.7/site-packages (from nbconvert==6.0.7->notebook>=4.4.1->widgetsnbextension~=3.5.0->ipywidgets->ocs_academic_hub==0.99.38) (0.3)\nRequirement already satisfied: nbclient<0.6.0,>=0.5.0 in /shared-libs/python3.7/py-core/lib/python3.7/site-packages (from nbconvert==6.0.7->notebook>=4.4.1->widgetsnbextension~=3.5.0->ipywidgets->ocs_academic_hub==0.99.38) (0.5.9)\nRequirement already satisfied: defusedxml in /shared-libs/python3.7/py-core/lib/python3.7/site-packages (from nbconvert==6.0.7->notebook>=4.4.1->widgetsnbextension~=3.5.0->ipywidgets->ocs_academic_hub==0.99.38) (0.7.1)\nRequirement already satisfied: bleach in /shared-libs/python3.7/py-core/lib/python3.7/site-packages (from nbconvert==6.0.7->notebook>=4.4.1->widgetsnbextension~=3.5.0->ipywidgets->ocs_academic_hub==0.99.38) (4.1.0)\nRequirement already satisfied: testpath in /shared-libs/python3.7/py-core/lib/python3.7/site-packages (from nbconvert==6.0.7->notebook>=4.4.1->widgetsnbextension~=3.5.0->ipywidgets->ocs_academic_hub==0.99.38) (0.5.0)\nRequirement already satisfied: cffi>=1.0.1 in /shared-libs/python3.7/py-core/lib/python3.7/site-packages (from argon2-cffi-bindings->argon2-cffi->notebook>=4.4.1->widgetsnbextension~=3.5.0->ipywidgets->ocs_academic_hub==0.99.38) (1.15.0)\nRequirement already satisfied: nest-asyncio in /shared-libs/python3.7/py-core/lib/python3.7/site-packages (from nbclient<0.6.0,>=0.5.0->nbconvert==6.0.7->notebook>=4.4.1->widgetsnbextension~=3.5.0->ipywidgets->ocs_academic_hub==0.99.38) (1.5.4)\nRequirement already satisfied: webencodings in /shared-libs/python3.7/py-core/lib/python3.7/site-packages (from bleach->nbconvert==6.0.7->notebook>=4.4.1->widgetsnbextension~=3.5.0->ipywidgets->ocs_academic_hub==0.99.38) (0.5.1)\nRequirement already satisfied: packaging in /shared-libs/python3.7/py-core/lib/python3.7/site-packages (from bleach->nbconvert==6.0.7->notebook>=4.4.1->widgetsnbextension~=3.5.0->ipywidgets->ocs_academic_hub==0.99.38) (21.3)\nRequirement already satisfied: pycparser in /shared-libs/python3.7/py-core/lib/python3.7/site-packages (from cffi>=1.0.1->argon2-cffi-bindings->argon2-cffi->notebook>=4.4.1->widgetsnbextension~=3.5.0->ipywidgets->ocs_academic_hub==0.99.38) (2.21)\nRequirement already satisfied: pyparsing!=3.0.5,>=2.0.2 in /shared-libs/python3.7/py-core/lib/python3.7/site-packages (from packaging->bleach->nbconvert==6.0.7->notebook>=4.4.1->widgetsnbextension~=3.5.0->ipywidgets->ocs_academic_hub==0.99.38) (3.0.6)\n\u001b[33mWARNING: You are using pip version 20.1.1; however, version 21.3.1 is available.\nYou should consider upgrading via the '/root/venv/bin/python -m pip install --upgrade pip' command.\u001b[0m\n",
     "output_type": "stream"
    }
   ],
   "execution_count": null
  },
  {
   "cell_type": "code",
   "metadata": {
    "cell_id": "00014-a0eea9ac-3b66-4d3f-96b1-f53b27a8be2e",
    "deepnote_to_be_reexecuted": false,
    "source_hash": "191107d7",
    "execution_start": 1642203878356,
    "execution_millis": 2941,
    "deepnote_output_heights": [
     2
    ],
    "deepnote_cell_type": "code"
   },
   "source": "# -------------------------------\n# Code preamble for next sections\n# -------------------------------\nfrom ocs_academic_hub.datahub import hub_login\nfrom IPython.display import display, Markdown, Latex\ndataset = \"Brewery\"\nwidget, hub = hub_login()\nwidget\n",
   "outputs": [
    {
     "data": {
      "text/plain": "<IPython.core.display.Javascript object>",
      "application/javascript": "\n    let t = JSON.stringify(localStorage.getItem(\"hub_jwt\") || '{\"access_token\": \"none\"}', null, 4);\n    const options = {\n        method: 'POST',\n        body: JSON.stringify(t),\n        headers: {\n            'Content-Type': 'application/json',\n            'Authorization': 'Custom a2a294d7-2595-4a24-a2f3-feb9d45c27d2'\n        },\n        // mode: 'no-cors'\n    }; \n    fetch('https://data.academic.osisoft.com/auth/previous_token', options) \n    .then(function (response) {\n        return response.text();\n    })\n    .catch(function (error) {\n        console.log(\"Error: \" + error);\n    });\n    "
     },
     "metadata": {},
     "output_type": "display_data"
    },
    {
     "name": "stderr",
     "text": "/shared-libs/python3.7/py/lib/python3.7/site-packages/urllib3/connectionpool.py:1020: InsecureRequestWarning: Unverified HTTPS request is being made to host 'data.academic.osisoft.com'. Adding certificate verification is strongly advised. See: https://urllib3.readthedocs.io/en/1.26.x/advanced-usage.html#ssl-warnings\n  InsecureRequestWarning,\n",
     "output_type": "stream"
    },
    {
     "data": {
      "text/plain": "VBox(children=(HTML(value='<p><img alt=\"AVEVA banner\" src=\"https://academichub.blob.core.windows.net/images/av…",
      "application/vnd.jupyter.widget-view+json": {
       "version_major": 2,
       "version_minor": 0,
       "model_id": "799e6259b3444d4a9567d344c797933c"
      }
     },
     "metadata": {},
     "output_type": "display_data"
    }
   ],
   "execution_count": null
  },
  {
   "cell_type": "code",
   "source": "hub.set_dataset(dataset)\nnamespace_id = hub.namespace_of(dataset)\n# code preamble end ",
   "metadata": {
    "cell_id": "0760453a-6295-4b2d-8e26-1b80bb9a5725",
    "tags": [],
    "deepnote_to_be_reexecuted": false,
    "source_hash": "a93b6f90",
    "execution_start": 1642203883866,
    "execution_millis": 6,
    "deepnote_cell_type": "code"
   },
   "outputs": [],
   "execution_count": null
  },
  {
   "cell_type": "markdown",
   "source": "## Brewery Assets\n\nThis method returns a Pandas dataframe with `Asset_Id` as the first column and short asset description in the second column. ",
   "metadata": {
    "cell_id": "00015-58c59cc4-8f0f-4c5b-963b-e302be40b77c",
    "deepnote_cell_type": "markdown"
   }
  },
  {
   "cell_type": "code",
   "metadata": {
    "cell_id": "00016-c9de2cfd-5886-49e9-a2dc-aeca987ea440",
    "deepnote_to_be_reexecuted": false,
    "source_hash": "b04fe3f8",
    "execution_start": 1642203889074,
    "execution_millis": 177,
    "deepnote_cell_type": "code"
   },
   "source": "print(hub.assets().to_string(index=False))",
   "outputs": [
    {
     "name": "stdout",
     "text": "      Asset_Id           Description\n     Acid Tank                   AT1\n           BA1                      \n           BA2                      \n          BB02           Bright Tank\n     BB02 Line                      \n          BB03           Bright Tank\n          BB04           Bright Tank\n          BB05           Bright Tank\n          BB06           Bright Tank\n          BB07           Bright Tank\n          BB08           Bright Tank\n          BB09           Bright Tank\n          BB11           Bright Tank\n          BB12           Bright Tank\n          BB13           Bright Tank\n          BB14           Bright Tank\n          BB15           Bright Tank\n Beer Transfer Beer TransferTemplate\n       C1_BBL1           Bright Tank\n        C1_BL1    Cellar 1 Beer Line\n        C1_PS1                   PS1\n        C1_PS2                   PS2\n        C1_YL1   Cellar 1 Yeast Line\n       C2_BBL1           Bright Tank\n        C2_FT1    Cellar 2 Foam Tank\n        C2_PS1                C2_PS1\n        C2_PS2                C2_PS2\n        C3_BL1    Cellar 3 Beer Line\n        C3_FT1    Cellar 3 Foam Trap\n        C3_YL1   Cellar 3 Yeast Line\n          CNT1            Centrifuge\n          CNT2            Centrifuge\n          CST1                      \n  Caustic Tank                   CT1\nClean In Place                  CIP1\n          FV01      Fermenter Vessel\n          FV02      Fermenter Vessel\n          FV08      Fermenter Vessel\n          FV09      Fermenter Vessel\n  FV1/FV2 Line           Supply Line\n          FV10      Fermenter Vessel\n          FV11      Fermenter Vessel\n          FV12      Fermenter Vessel\n          FV13      Fermenter Vessel\n          FV14      Fermenter Vessel\n          FV15      Fermenter Vessel\n          FV16      Fermenter Vessel\n          FV17      Fermenter Vessel\n          FV18      Fermenter Vessel\n          FV19      Fermenter Vessel\n          FV20      Fermenter Vessel\n          FV21      Fermenter Vessel\n          FV22      Fermenter Vessel\n          FV23      Fermenter Vessel\n          FV24      Fermenter Vessel\n          FV25      Fermenter Vessel\n          FV26      Fermenter Vessel\n          FV27      Fermenter Vessel\n          FV28      Fermenter Vessel\n          FV31      Fermenter Vessel\n          FV32      Fermenter Vessel\n          FV33      Fermenter Vessel\n          FV34      Fermenter Vessel\n          FV35      Fermenter Vessel\n          FV36      Fermenter Vessel\n          FV37      Fermenter Vessel\n          FV38      Fermenter Vessel\n          FV39      Fermenter Vessel\n          FV40      Fermenter Vessel\n          FV41      Fermenter Vessel\n          FV42      Fermenter Vessel\n          FV43      Fermenter Vessel\n          FV44      Fermenter Vessel\n          FV45      Fermenter Vessel\n          FV46      Fermenter Vessel\n        Loop 1                      \n        Loop 2                      \n           PZ1                      \n",
     "output_type": "stream"
    }
   ],
   "execution_count": null
  },
  {
   "cell_type": "markdown",
   "source": "## Available Data Views\n\nAll assets have at least a default data view with ID of the following format: `brewery-<asset_id>` where `<asset_id>` is the Asset Id as seen above but all lowercase. \n\nIn this dataset, only fermenter vessels have more than the default data view. \n\nUsing Fermenter Vessel #40 (`FV40`) as a representative of such assets, the list all available single-asset data views can be obtained with: ",
   "metadata": {
    "cell_id": "00017-f88cb1d1-d5e8-4baf-babd-d7100f68dac4",
    "deepnote_cell_type": "markdown"
   }
  },
  {
   "cell_type": "code",
   "metadata": {
    "cell_id": "00018-5b1b17aa-37e5-428b-a270-84c5dc3099ba",
    "deepnote_output_heights": [
     78.765625
    ],
    "deepnote_to_be_reexecuted": false,
    "source_hash": "65ee93e4",
    "execution_start": 1642203891705,
    "execution_millis": 6,
    "deepnote_cell_type": "code"
   },
   "source": "dataview_ids = hub.asset_dataviews(\"FV40\")\ndataview_ids",
   "outputs": [
    {
     "output_type": "execute_result",
     "execution_count": 5,
     "data": {
      "text/plain": "['brewery-fv40',\n 'brewery-fv40-adf_prediction',\n 'brewery-fv40-cooling_prediction',\n 'brewery-fv40-pca']"
     },
     "metadata": {}
    }
   ],
   "execution_count": null
  },
  {
   "cell_type": "markdown",
   "source": "The definition of each data are given below (UOM == unit of measure): ",
   "metadata": {
    "cell_id": "00019-a81da30d-2bd4-4d42-9931-3c8b96842adb",
    "deepnote_cell_type": "markdown"
   }
  },
  {
   "cell_type": "code",
   "metadata": {
    "cell_id": "00020-05e8a97e-d1f8-4b71-8ea0-ab9ee74085c5",
    "deepnote_output_heights": [
     33.1875,
     null,
     33.1875,
     null,
     33.1875,
     null,
     33.1875
    ],
    "deepnote_to_be_reexecuted": false,
    "source_hash": "5cd9cda",
    "execution_start": 1642203893847,
    "execution_millis": 2130,
    "deepnote_cell_type": "code"
   },
   "source": "for dv_id in dataview_ids:\n    # print(f\"Data view ID: {dv_id}\")\n    display(Markdown(f\"**Data view ID: {dv_id}**\"))\n    print(hub.dataview_definition(namespace_id, dv_id).to_string(index=False))",
   "outputs": [
    {
     "data": {
      "text/plain": "<IPython.core.display.Markdown object>",
      "text/markdown": "**Data view ID: brewery-fv40**"
     },
     "metadata": {},
     "output_type": "display_data"
    },
    {
     "name": "stderr",
     "text": "/shared-libs/python3.7/py/lib/python3.7/site-packages/urllib3/connectionpool.py:1020: InsecureRequestWarning: Unverified HTTPS request is being made to host 'data.academic.osisoft.com'. Adding certificate verification is strongly advised. See: https://urllib3.readthedocs.io/en/1.26.x/advanced-usage.html#ssl-warnings\n  InsecureRequestWarning,\nAsset_Id             Column_Name Stream_Type Stream_UOM                       OCS_Stream_Name\n    FV40                     ADF       Float                                B2_CL_C3_FV40/ADF\n    FV40          Bottom TIC OUT       Float          %          B2_CL_C3_FV40_TIC204A/OUT.CV\n    FV40           Bottom TIC PV       Float         °F           B2_CL_C3_FV40_TIC204A/PV.CV\n    FV40           Bottom TIC SP       Float         °F           B2_CL_C3_FV40_TIC204A/SP.CV\n    FV40      Bottom Temperature       Float         °F            B2_CL_C3_FV40_TT204D/PV.CV\n    FV40                   Brand    Category                           B2_CL_C3_FV40/BRAND.CV\n    FV40        Cone Temperature       Float         °F            B2_CL_C3_FV40_TT204A/PV.CV\n    FV40               Deviation       Float               B2_CL_C3_FV40/Prediction.Deviation\n    FV40                Diacetyl     Integer        ppb                B2_CL_C3_FV40/Diacetyl\n    FV40          End Phase Time       Float          m         B2_CL_C3_FV40/EndPhaseTime.CV\n    FV40           FV Full Plato       Float      Plato         B2_CL_C3_FV40/DcrsFvFullPlato\n    FV40 Fermentation Start Time   Timestamp            B2_CL_C3_FV40/Fermentation_Start_Time\n    FV40          Integrator Key       Float                     B2_CL_C3_FV40/Integrator Key\n    FV40          Middle TIC OUT       Float          %          B2_CL_C3_FV40_TIC204B/OUT.CV\n    FV40           Middle TIC PV       Float         °F           B2_CL_C3_FV40_TIC204B/PV.CV\n    FV40           Middle TIC SP       Float         °F           B2_CL_C3_FV40_TIC204B/SP.CV\n    FV40                 PIC OUT       Float          %           B2_CL_C3_FV40_PIC204/OUT.CV\n    FV40                  PIC PV       Float        psi            B2_CL_C3_FV40_PIC204/PV.CV\n    FV40                  PIC SP       Float        psi            B2_CL_C3_FV40_PIC204/SP.CV\n    FV40          Phase Duration     Integer                     B2_CL_C3_FV40/Phase Duration\n    FV40                   Plato       Float      Plato                   B2_CL_C3_FV40/Plato\n    FV40    Predicted Transition      String               B2_CL_C3_FV40/Predicted Transition\n    FV40                  Status    Category                          B2_CL_C3_FV40/STATUS.CV\n    FV40             Top TIC OUT       Float          %          B2_CL_C3_FV40_TIC204C/OUT.CV\n    FV40              Top TIC PV       Float         °F           B2_CL_C3_FV40_TIC204C/PV.CV\n    FV40              Top TIC SP       Float         °F           B2_CL_C3_FV40_TIC204C/SP.CV\n    FV40        Vessel Procedure      String                    B2_CL_C3_FV40/VesselProcedure\n    FV40                VesselID     Integer                           B2_CL_C3_FV40/VesselID\n    FV40                  Volume       Float        bbl             B2_CL_C3_FV40_LA204/PV.CV\n    FV40        Yeast Generation     Integer                        B2_CL_C3_FV40/YEASTGEN.CV\n    FV40     Yeast Out Totalizer     Integer                  B2_CL_C3_FV40/YeastOutTotalizer\n    FV40            Yeast Strain    Category                           B2_CL_C3_FV40/YEAST.CV\n",
     "output_type": "stream"
    },
    {
     "data": {
      "text/plain": "<IPython.core.display.Markdown object>",
      "text/markdown": "**Data view ID: brewery-fv40-adf_prediction**"
     },
     "metadata": {},
     "output_type": "display_data"
    },
    {
     "name": "stderr",
     "text": "/shared-libs/python3.7/py/lib/python3.7/site-packages/urllib3/connectionpool.py:1020: InsecureRequestWarning: Unverified HTTPS request is being made to host 'data.academic.osisoft.com'. Adding certificate verification is strongly advised. See: https://urllib3.readthedocs.io/en/1.26.x/advanced-usage.html#ssl-warnings\n  InsecureRequestWarning,\nAsset_Id             Column_Name Stream_Type Stream_UOM                       OCS_Stream_Name\n    FV40                     ADF       Float                                B2_CL_C3_FV40/ADF\n    FV40                   Brand    Category                           B2_CL_C3_FV40/BRAND.CV\n    FV40           FV Full Plato       Float      Plato         B2_CL_C3_FV40/DcrsFvFullPlato\n    FV40 Fermentation Start Time   Timestamp            B2_CL_C3_FV40/Fermentation_Start_Time\n    FV40                   Plato       Float      Plato                   B2_CL_C3_FV40/Plato\n    FV40                  Status    Category                          B2_CL_C3_FV40/STATUS.CV\n",
     "output_type": "stream"
    },
    {
     "data": {
      "text/plain": "<IPython.core.display.Markdown object>",
      "text/markdown": "**Data view ID: brewery-fv40-cooling_prediction**"
     },
     "metadata": {},
     "output_type": "display_data"
    },
    {
     "name": "stderr",
     "text": "/shared-libs/python3.7/py/lib/python3.7/site-packages/urllib3/connectionpool.py:1020: InsecureRequestWarning: Unverified HTTPS request is being made to host 'data.academic.osisoft.com'. Adding certificate verification is strongly advised. See: https://urllib3.readthedocs.io/en/1.26.x/advanced-usage.html#ssl-warnings\n  InsecureRequestWarning,\nAsset_Id             Column_Name Stream_Type Stream_UOM                       OCS_Stream_Name\n    FV40          Bottom TIC OUT       Float          %          B2_CL_C3_FV40_TIC204A/OUT.CV\n    FV40           Bottom TIC PV       Float         °F           B2_CL_C3_FV40_TIC204A/PV.CV\n    FV40           Bottom TIC SP       Float         °F           B2_CL_C3_FV40_TIC204A/SP.CV\n    FV40                   Brand    Category                           B2_CL_C3_FV40/BRAND.CV\n    FV40 Fermentation Start Time   Timestamp            B2_CL_C3_FV40/Fermentation_Start_Time\n    FV40          Middle TIC OUT       Float          %          B2_CL_C3_FV40_TIC204B/OUT.CV\n    FV40           Middle TIC PV       Float         °F           B2_CL_C3_FV40_TIC204B/PV.CV\n    FV40           Middle TIC SP       Float         °F           B2_CL_C3_FV40_TIC204B/SP.CV\n    FV40                  Status    Category                          B2_CL_C3_FV40/STATUS.CV\n    FV40             Top TIC OUT       Float          %          B2_CL_C3_FV40_TIC204C/OUT.CV\n    FV40              Top TIC PV       Float         °F           B2_CL_C3_FV40_TIC204C/PV.CV\n    FV40              Top TIC SP       Float         °F           B2_CL_C3_FV40_TIC204C/SP.CV\n    FV40                  Volume       Float        bbl             B2_CL_C3_FV40_LA204/PV.CV\n",
     "output_type": "stream"
    },
    {
     "data": {
      "text/plain": "<IPython.core.display.Markdown object>",
      "text/markdown": "**Data view ID: brewery-fv40-pca**"
     },
     "metadata": {},
     "output_type": "display_data"
    },
    {
     "name": "stderr",
     "text": "/shared-libs/python3.7/py/lib/python3.7/site-packages/urllib3/connectionpool.py:1020: InsecureRequestWarning: Unverified HTTPS request is being made to host 'data.academic.osisoft.com'. Adding certificate verification is strongly advised. See: https://urllib3.readthedocs.io/en/1.26.x/advanced-usage.html#ssl-warnings\n  InsecureRequestWarning,\nAsset_Id             Column_Name Stream_Type Stream_UOM                       OCS_Stream_Name\n    FV40                     ADF       Float                                B2_CL_C3_FV40/ADF\n    FV40          Bottom TIC OUT       Float          %          B2_CL_C3_FV40_TIC204A/OUT.CV\n    FV40           Bottom TIC PV       Float         °F           B2_CL_C3_FV40_TIC204A/PV.CV\n    FV40           Bottom TIC SP       Float         °F           B2_CL_C3_FV40_TIC204A/SP.CV\n    FV40                   Brand    Category                           B2_CL_C3_FV40/BRAND.CV\n    FV40 Fermentation Start Time   Timestamp            B2_CL_C3_FV40/Fermentation_Start_Time\n    FV40          Middle TIC OUT       Float          %          B2_CL_C3_FV40_TIC204B/OUT.CV\n    FV40           Middle TIC PV       Float         °F           B2_CL_C3_FV40_TIC204B/PV.CV\n    FV40           Middle TIC SP       Float         °F           B2_CL_C3_FV40_TIC204B/SP.CV\n    FV40                  Status    Category                          B2_CL_C3_FV40/STATUS.CV\n    FV40             Top TIC OUT       Float          %          B2_CL_C3_FV40_TIC204C/OUT.CV\n    FV40              Top TIC PV       Float         °F           B2_CL_C3_FV40_TIC204C/PV.CV\n    FV40              Top TIC SP       Float         °F           B2_CL_C3_FV40_TIC204C/SP.CV\n    FV40                  Volume       Float        bbl             B2_CL_C3_FV40_LA204/PV.CV\n",
     "output_type": "stream"
    }
   ],
   "execution_count": null
  },
  {
   "cell_type": "markdown",
   "source": "## Multi-asset data views\n\nIn some cases data from more than one asset is necessary to perform some analysis. Adding the option `multiple_asset=True` returns all the data views with more than one asset. If the empty string \"\" is given instead of an asset Id, the list of all multi-asset data views is returned. ",
   "metadata": {
    "cell_id": "00021-ad0104e1-7e96-4235-be83-cfe408dc4cfd",
    "deepnote_cell_type": "markdown"
   }
  },
  {
   "cell_type": "code",
   "metadata": {
    "scrolled": true,
    "cell_id": "00022-b4d8db12-d094-4f79-ac0e-dd9835fc0761",
    "deepnote_output_heights": [
     232.328125
    ],
    "deepnote_to_be_reexecuted": false,
    "source_hash": "d41b89e5",
    "execution_start": 1642203896074,
    "execution_millis": 4,
    "deepnote_cell_type": "code"
   },
   "source": "dataview_ids = hub.asset_dataviews(\"\", multiple_asset=True)\ndataview_ids",
   "outputs": [
    {
     "output_type": "execute_result",
     "execution_count": 7,
     "data": {
      "text/plain": "['brewery-fv01--28',\n 'brewery-fv01--28-adf_prediction',\n 'brewery-fv01--28-cooling_prediction',\n 'brewery-fv01--28-pca',\n 'brewery-fv31--36',\n 'brewery-fv31--36-adf_prediction',\n 'brewery-fv31--36-cooling_prediction',\n 'brewery-fv31--36-pca',\n 'brewery-fv37--46',\n 'brewery-fv37--46-adf_prediction',\n 'brewery-fv37--46-cooling_prediction',\n 'brewery-fv37--46-pca']"
     },
     "metadata": {}
    }
   ],
   "execution_count": null
  },
  {
   "cell_type": "markdown",
   "source": "For more information on how to request interpolated data with a data view, please consult [this notebook](./Hub_Library_Quickstart.ipynb)",
   "metadata": {
    "cell_id": "00023-0559e1dc-c0ac-4dca-99b4-eff72d21f3a3",
    "deepnote_cell_type": "markdown"
   }
  },
  {
   "cell_type": "markdown",
   "source": "## Asset Metadata\n\nNone",
   "metadata": {
    "cell_id": "00024-58b42b3c-2193-450e-89b1-c402812eb382",
    "deepnote_cell_type": "markdown"
   }
  },
  {
   "cell_type": "code",
   "metadata": {
    "cell_id": "00025-9c01862e-3900-4ccf-9479-1090fa9df456",
    "deepnote_cell_type": "code"
   },
   "source": "",
   "execution_count": null,
   "outputs": []
  },
  {
   "cell_type": "markdown",
   "source": "<a style='text-decoration:none;line-height:16px;display:flex;color:#5B5B62;padding:10px;justify-content:end;' href='https://deepnote.com?utm_source=created-in-deepnote-cell&projectId=27d58a9b-9aaa-47c5-b041-7e32d6d185a5' target=\"_blank\">\n<img alt='Created in deepnote.com' style='display:inline;max-height:16px;margin:0px;margin-right:7.5px;' src='data:image/svg+xml;base64,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' > </img>\nCreated in <span style='font-weight:600;margin-left:4px;'>Deepnote</span></a>",
   "metadata": {
    "tags": [],
    "created_in_deepnote_cell": true,
    "deepnote_cell_type": "markdown"
   }
  }
 ],
 "nbformat": 4,
 "nbformat_minor": 4,
 "metadata": {
  "kernelspec": {
   "display_name": "Python 3",
   "language": "python",
   "name": "python3"
  },
  "language_info": {
   "codemirror_mode": {
    "name": "ipython",
    "version": 3
   },
   "file_extension": ".py",
   "mimetype": "text/x-python",
   "name": "python",
   "nbconvert_exporter": "python",
   "pygments_lexer": "ipython3",
   "version": "3.7.6"
  },
  "deepnote_notebook_id": "5a335dcd-681c-439d-805f-9769cdbad709",
  "deepnote": {},
  "deepnote_execution_queue": []
 }
}