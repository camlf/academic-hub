{
 "cells": [
  {
   "cell_type": "markdown",
   "metadata": {
    "toc": true
   },
   "source": [
    "<h1>Table of Contents<span class=\"tocSkip\"></span></h1>\n",
    "<div class=\"toc\"><ul class=\"toc-item\"><li><span><a href=\"#Brewery-Dataset-Documentation\" data-toc-modified-id=\"Brewery-Dataset-Documentation-1\">Brewery Dataset Documentation</a></span><ul class=\"toc-item\"><li><span><a href=\"#Overview-of-the-Brewery-Dataset-Document\" data-toc-modified-id=\"Overview-of-the-Brewery-Dataset-Document-1.1\">Overview of the Brewery Dataset Document</a></span></li></ul></li><li><span><a href=\"#Part-1.-Description-of-Brewery-Dataset-(Deschutes)\" data-toc-modified-id=\"Part-1.-Description-of-Brewery-Dataset-(Deschutes)-2\">Part 1. Description of Brewery Dataset (Deschutes)</a></span><ul class=\"toc-item\"><li><ul class=\"toc-item\"><li><span><a href=\"#1a.-Presence-of-Three-Temperature-Control-Zones-for-Fermenter-Vessels-and-Bright-Tanks\" data-toc-modified-id=\"1a.-Presence-of-Three-Temperature-Control-Zones-for-Fermenter-Vessels-and-Bright-Tanks-2.0.1\">1a. Presence of Three Temperature Control Zones for Fermenter Vessels and Bright Tanks</a></span></li><li><span><a href=\"#1b.-Deschutes-Beer-Manufacturing-Process\" data-toc-modified-id=\"1b.-Deschutes-Beer-Manufacturing-Process-2.0.2\">1b. Deschutes Beer Manufacturing Process</a></span></li></ul></li></ul></li><li><span><a href=\"#Part-2.-Industry-Challenges\" data-toc-modified-id=\"Part-2.-Industry-Challenges-3\">Part 2. Industry Challenges</a></span></li><li><span><a href=\"#Part-3.-Stream-Data\" data-toc-modified-id=\"Part-3.-Stream-Data-4\">Part 3. Stream Data</a></span></li><li><span><a href=\"#Part-4.-Data-Quality\" data-toc-modified-id=\"Part-4.-Data-Quality-5\">Part 4. Data Quality</a></span></li><li><span><a href=\"#Part-5.-Assets,-Dataviews-and-Metadata\" data-toc-modified-id=\"Part-5.-Assets,-Dataviews-and-Metadata-6\">Part 5. Assets, Dataviews and Metadata</a></span><ul class=\"toc-item\"><li><span><a href=\"#Brewery-Assets\" data-toc-modified-id=\"Brewery-Assets-6.1\">Brewery Assets</a></span></li><li><span><a href=\"#Available-Data-Views\" data-toc-modified-id=\"Available-Data-Views-6.2\">Available Data Views</a></span></li><li><span><a href=\"#Multi-asset-data-views\" data-toc-modified-id=\"Multi-asset-data-views-6.3\">Multi-asset data views</a></span></li><li><span><a href=\"#Asset-Metadata\" data-toc-modified-id=\"Asset-Metadata-6.4\">Asset Metadata</a></span></li></ul></li></ul></div>"
   ]
  },
  {
   "cell_type": "markdown",
   "metadata": {},
   "source": [
    "# Brewery Dataset Documentation\n",
    "___"
   ]
  },
  {
   "cell_type": "markdown",
   "metadata": {},
   "source": [
    "\n",
    "## Overview of the Brewery Dataset Document\n",
    "\n",
    "__[Part 1](#section_1). Description of Brewery Dataset (Deschutes)__\n",
    "\n",
    "Describes the OSIsoft Academic Hub ([Part 1](#section_1)), the Brewery dataset, the time frame in which the dataset was compiled, data quality ([Part 1a](#section_1a)), and Deschutes Beer brewing process ([Part 1b](#section_1b)).\n",
    "\n",
    "__[Part 2](#section_2). The Industry Challenges__\n",
    "\n",
    "The brewers at the Deschutes brewery have identified two distinct critical parameters that are directly related to their process's throughput and costs. Empowered by data analytics, the brewers explain how they were able to solve the engineering challenge.\n",
    "\n",
    "__[Part 3](#section_3). Stream Data__\n",
    "\n",
    "Explains the process parameters and other monitored variables collected during beer manufacturing process.\n",
    "\n",
    "__[Part 4](#section_4). Data Quality__\n",
    "\n",
    "Faced with real-world data, students are expected to work with \"dirty\" data: data which contains error and gaps. This section also describes various ways poor quality data arises.\n",
    "\n",
    "__[Part 5](#section_5). Assets, Data Views and Metadata__\n",
    "\n",
    "Hub Datasets are organized around a set of assets, each of the asset having at least a default data view. A data view is an OCS feature to extract interpolated data from multiple related streams, in a tabular form ready for data-driven applications or any data analysis tool. Specialized data views (subsets of the default data views) can also be defined, as it is the case for this dataset.   "
   ]
  },
  {
   "cell_type": "markdown",
   "metadata": {},
   "source": [
    "# Part 1. Description of Brewery Dataset (Deschutes)\n",
    "---\n",
    "<a id=\"section_1\"></a>\n",
    "\n",
    "    \n",
    "OSIsoft Academic Hub is a cloud-based platform that supports data analytics in the university curriculum by providing a data infrastructure to host, aggregate, and analyze data. Students are exposed to real-world industrial data which illustrates some of the same engineering concepts being taught in classrooms and labs. OSIsoft Academic Hub hosts the real-world dataset shared from a beer brewing customer, Deschutes Brewery. The dataset contains the sensor data and the categorical data organizing the brands of the brews in the fermenter and the status of the fermenter. The entire dataset comes from 39 fermenters and 13 bright tanks, with date range from January 8, 2017 to May 18, 2020. Both the fermenter vessels and bright tanks have a mix of different models with different capabilities in term of temperature control zones, additional temperature sensor and pressure control zone.  \n",
    "\n",
    "The next section contains summary tables with this information. "
   ]
  },
  {
   "cell_type": "markdown",
   "metadata": {},
   "source": [
    "### 1a. Presence of Three Temperature Control Zones for Fermenter Vessels and Bright Tanks  \n",
    "<a id=\"section_1a\"></a>\n",
    "\n",
    "Each fermenter vessels may have up to three control zones (Top, Middle and Bottom TIC) depending on their models. The newer ones (FV37 up to FV46) have also temperature sensors in the cone and bottom. Finally some fermenters (FV31 up to FV46) have also an additional pressure control zone (PIC). \n",
    "\n",
    "The table shown below summarizes the data availability of the zones and sensors just mentioned. Students will perform data analysis on fermenters vessels FV31 up to FV36 because those we the most data-complete fermenters that were available in a previous version of the dataset. \n",
    "    \n",
    "| Asset_Id | Top TIC | Middle TIC | Bottom TIC | Cone Temp | Bottom Temp | PIC | \n",
    "|:--------:|:-------:|:----------:|:----------:|:----------:|:----------:|:---:| \n",
    "|   FV01   |  &#9679; | &#9679; | &#9679; |        |        |         |\n",
    "|   FV02   |  &#9679; | &#9679; | &#9679; |        |        |         |\n",
    "|   FV08   |         |        | &#9679; |        |        |         |\n",
    "|   FV09   |         |        | &#9679; |        |        |         |\n",
    "|   FV10   |         |        | &#9679; |        |        |         |\n",
    "|   FV11   |         |        | &#9679; |        |        |         |\n",
    "|   FV12   |         |        | &#9679; |        |        |         |\n",
    "|   FV13   |         |        | &#9679; |        |        |         |\n",
    "|   FV14   |         |        | &#9679; |        |        |         |\n",
    "|   FV15   |  &#9679; |        | &#9679; |        |        |         |\n",
    "|   FV16   |  &#9679; |        | &#9679; |        |        |         |\n",
    "|   FV17   |         |        | &#9679; |        |        |         |\n",
    "|   FV18   |         |        | &#9679; |        |        |         |\n",
    "|   FV19   |         |        | &#9679; |        |        |         |\n",
    "|   FV20   |         |        | &#9679; |        |        |         |\n",
    "|   FV21   |         |        | &#9679; |        |        |         |\n",
    "|   FV22   |         |        | &#9679; |        |        |         |\n",
    "|   FV23   |         |        | &#9679; |        |        |         |\n",
    "|   FV24   |         |        | &#9679; |        |        |         |\n",
    "|   FV25   |         |        | &#9679; |        |        |         |\n",
    "|   FV26   |         |        | &#9679; |        |        |         |\n",
    "|   FV27   |  &#9679; |        | &#9679; |        |        |         |\n",
    "|   FV28   |  &#9679; |        | &#9679; |        |        |         |\n",
    "|   FV31   |  &#9679; | &#9679; | &#9679; |        |        | &#9679;  |\n",
    "|   FV32   |  &#9679; | &#9679; | &#9679; |        |        | &#9679;  |\n",
    "|   FV33   |  &#9679; | &#9679; | &#9679; |        |        | &#9679;  |\n",
    "|   FV34   |  &#9679; | &#9679; | &#9679; |        |        | &#9679;  |\n",
    "|   FV35   |  &#9679; | &#9679; | &#9679; |        |        | &#9679;  |\n",
    "|   FV36   |  &#9679; | &#9679; | &#9679; |        |        | &#9679;  |\n",
    "|   FV37   |  &#9679; | &#9679; | &#9679; | &#9679; | &#9679; | &#9679;  |\n",
    "|   FV38   |  &#9679; | &#9679; | &#9679; | &#9679; | &#9679; | &#9679;  |\n",
    "|   FV39   |  &#9679; | &#9679; | &#9679; | &#9679; | &#9679; | &#9679;  |\n",
    "|   FV40   |  &#9679; | &#9679; | &#9679; | &#9679; | &#9679; | &#9679;  |\n",
    "|   FV41   |  &#9679; | &#9679; | &#9679; | &#9679; | &#9679; | &#9679;  |\n",
    "|   FV42   |  &#9679; | &#9679; | &#9679; | &#9679; | &#9679; | &#9679;  |\n",
    "|   FV43   |  &#9679; | &#9679; | &#9679; | &#9679; | &#9679; | &#9679;  |\n",
    "|   FV44   |  &#9679; | &#9679; | &#9679; | &#9679; | &#9679; | &#9679;  |\n",
    "|   FV45   |  &#9679; | &#9679; | &#9679; | &#9679; | &#9679; | &#9679;  |\n",
    "|   FV46   |  &#9679; | &#9679; | &#9679; | &#9679; | &#9679; | &#9679;  |\n",
    "\n",
    "Deschutes also uses bright tanks and the data for each tank can sport up to two temperature control zones (Top, Bottom). The table shown below summarizes the data availability of the control control zones by bright tank (labeled BB02 through BB15, though BB10 is not included in the datset). \n",
    "\n",
    "| Asset_Id | Top TIC | Bottom TIC |\n",
    "|:--------:|:-------:|:----------:|\n",
    "| BB02 |         | &#9679;  |\n",
    "| BB03 |         | &#9679;  |\n",
    "| BB04 |         | &#9679;  |\n",
    "| BB05 |         | &#9679;  |\n",
    "| BB06 |         | &#9679;  |\n",
    "| BB07 |         | &#9679;  |\n",
    "| BB08 |         | &#9679;  |\n",
    "| BB09 |         |  &#9679;  |\n",
    "| BB11 |  &#9679; | &#9679;  |\n",
    "| BB12 |  &#9679; | &#9679;  |\n",
    "| BB13 |  &#9679; | &#9679;  |\n",
    "| BB14 |  &#9679; | &#9679;  |\n",
    "| BB15 |  &#9679; | &#9679;  |\n"
   ]
  },
  {
   "cell_type": "markdown",
   "metadata": {},
   "source": [
    "### 1b. Deschutes Beer Manufacturing Process\n",
    "<a id=\"section_1b\"></a>\n",
    "\n",
    "Before performing analytics on the Deschutes dataset, it is important first to understand the Deschutes beer manufacturing process from filling to emptying. Each step of the process can be explained using the status of the fermenter. The fermenter goes through a total of ten different stages in the following order:     \n",
    "\n",
    "  \n",
    "| # | Stage | Description |\n",
    "|:-:|:-----:|:------------|\n",
    "| 1 | Filling | Filling multiple brews into the fermenter. | \n",
    "| 2 | Fermentation | Yeast metabolically converts glucose in the wort to ethanol and carbon dioxide gas. |\n",
    "| 3 | Free Rise | The solution temperature increases approximately from 60° to 70° Fahrenheit to adjust the temperature environment for yeast for diacetyl rest. |\n",
    "| 4 | Diacetyl Rest | Yeast reduces metabolic by-product, diacetyl compounds, which above its threshold can create off-putting taste in the beer. |\n",
    "| 5 | Cooling | The temperature of the entire volume cools from 70° to below 30° Fahrenheit. |\n",
    "| 6 | Maturation | The tank waits for 24 to 48 hours just below 30° Fahrenheit, stabilizing colloidal stability. |\n",
    "| 7 | Ready to Transfer | The vessel holding beer is on standby until scheduled for packaging. |\n",
    "| 8 | Emptying | Remove any excess solids in the solution using a centrifuge as the solution exits the vessel and continuously do so until it is emptied |\n",
    "| 9 | Cleaning | Cleaning the residual solution or solids inside the fermenter. |\n",
    "| 10 | CIP (Clean-In-Place) | Cleaning the fermenter without moving or disassembling its parts. |\n",
    "\n",
    "</br>\n",
    "\n",
    "Students should concentrate on the fermentation, free rise, diacetyl rest, and cooling phases wherein the engineering problems arise. The links below are the presentations from Deschutes brewery and professor Dr. Davison, and will help students to understand the physical process and the resulting dataset.\n",
    "\n",
    "> 1. [Deschutes Brewery: Reducing Beer Production Time with Predictions](https://www.osisoft.com/Presentations/Deschutes-Brewery--Reducing-Beer-Production-Time-with-Predictions/)\n",
    "    \n",
    "Presentation summary:     \n",
    "   - Brian Faivre, a brewmaster, and Tim Alexander, an assistant brewmaster, give a breakdown of the beer manufacturing process by explaining each of the nine different status described above.\n",
    "   - They present challenges in analytics due to the eight to nine varieties of the beer brews in the fermenter, and how they benefited by building the predictive model locating the transition point from fermentation to free rise.\n",
    "   - They were able to save $750K in capital investment of the alternative option (e.g., ADF measurement with the automated sensors) and to reduce the operational time loss in production capacity due to frequent density measurement.\n",
    "\n",
    "    \n",
    "> 2. [Introduction to Time-Series Analysis with PI System and R](https://www.osisoft.com/Presentations/Introduction-to-Time-Series-Analysis-with-PI-System-and-R/)\n",
    "\n",
    "Presentation summary:     \n",
    "\n",
    "   - Dr. Davison discusses simple data analytics on the Deschutes dataset predicting the degree of fermentation measured with a linear-regression model, forecasting the cooling temperature, and performing dimensionality reduction using principal component analysis.\n",
    "   - Dr. Davison describes the multiple sensors used for compiling data, which creates complexity due to varying types of sensors and thus different data sampling frequencies and methodologies including manual.\n",
    "   - Dr. Davison emphasizes the importance of understanding the fermentation process to create an improved predictive model. The improved model was a three-piecewise linear model because the yeast growth curve is composed of the three different phases: the lag, growth, and fermentation phases.\n"
   ]
  },
  {
   "cell_type": "markdown",
   "metadata": {},
   "source": [
    "# Part 2. Industry Challenges\n",
    "---\n",
    "<a id=\"section_2\"></a>\n",
    "\n",
    "Deschutes Brewery identified the problems that are critical to their organization's performance. Students will take on two sets of problems Deschutes identified: one is to predict Apparent Degree of Fermentation (ADF), and another is to predict the cooling temperature profile.\n",
    "\n",
    "Predicting the ADF, which describes the fermentation status, is important. There are currently two options - implementing automated instrumentation or performing the task manually. The automated measurement of gravity of wort is costly, and without it, this becomes a manual and time-consuming process. Being able to predict ADF will translate to the significant savings in time devoted to measuring ADF and save the cost of implementing the automated instrumentation.\n",
    "\n",
    "Building a predictive model for the cooling temperature profile is also valuable because students can easily predict the entire cooling temperature profile, given the initial temperature of the solution. This simple model can then be used to examine the data quality by determining whether the cooling phase is indentified and correctly labled as cooling phase and not another phase.\n",
    "</font>\n",
    "    "
   ]
  },
  {
   "cell_type": "markdown",
   "metadata": {},
   "source": [
    "# Part 3. Stream Data\n",
    "---\n",
    "<a id=\"section_3\"></a>\n",
    "\n",
    "    \n",
    "Stream data is how the data of the process parameters are stored, which associate the data with time. Presented in the table are the winnowed-down process parameters and quality attributes of the fermenter that students will focus on. The process parameters include the volume of the vessel, top, middle, and bottom temperature of the vessel, whereas the quality attributes include Plato and ADF. A portion of the stream names are acronyms such as TIC (temperature indicator controller), PV (process variable), OUT (cooling intensity), and SP (setpoint). \n",
    "    \n",
    "The Plato and the ADF are calculated measurementsrelated to the sugar concentration, as shown in the equations. Plato is the concentration of the dissolved solids per volume wort, whereas ADF explains how much of dissolved solids are attenuated over time as they ferment. The stream data attributes also include categorical data, including Status and Brand, that are represented using text fields. The Status describes the current status of the fermenter at a given time, which include Maturation, Ready to Transfer, Emptying, Empty, CIP, Blown Down, Clean, Sanitized, Filling, Fermentation, Free Rise, Diacetyl Rest, Cooling, Addition Maturation Waiting for Addition, and Addition Complete.\n",
    "Brand is another categorical data representing the different beer products comprising Kerberos, Realtime Hops, Grey Horse, Adele, 5450, Alistair, Kennedy, Red Wonder, and Hop-Scotch.\n"
   ]
  },
  {
   "cell_type": "markdown",
   "metadata": {},
   "source": [
    "The following table shows all the data streams for Fermenter 40 (Asset ID FV40).\n",
    "\n",
    "| Column_Name | Stream_Type | Stream_UOM | Description | OCS_Stream_Name | \n",
    "|:-----------:|:-----------:|:----------:|:-----------:|----------------:|\n",
    "| ADF | Float | Unitless |  $$ Apparent\\; Degree\\; of\\; Fermentaion = \\frac{Starting\\; Specific\\; Gravity - Current\\; Specific\\; Gravity}{Starting\\; Specific\\; Gravity - 1} $$ | B2_CL_C3_FV40/ADF |\n",
    "| Bottom TIC OUT | Float | % | Vessel BottomTemperature Indicator Controller Output | B2_CL_C3_FV40_TIC204A/OUT.CV |\n",
    "| Bottom TIC PV | Float | °F | Vessel Bottom Temperature Indicator Controller Process Value | B2_CL_C3_FV40_TIC204A/PV.CV |\n",
    "| Bottom TIC SP | Float | °F | Vessel Bottom Temperature Indicator Controller Output Setpoint | B2_CL_C3_FV40_TIC204A/SP.CV |\n",
    "| Bottom Temperature | Float | °F | Vessel Temperature Bottom Sensor | B2_CL_C3_FV40_TT204D/PV.CV |\n",
    "| Brand | Category |  | Beer Brand | B2_CL_C3_FV40/BRAND.CV |\n",
    "| Cone Temperature | Float | °F | Vessel Temperature Cone Sensor | B2_CL_C3_FV40_TT204A/PV.CV |\n",
    "| Deviation | Float |  |  | B2_CL_C3_FV40/Prediction.Deviation |\n",
    "| Diacetyl | Integer | ppb | Diacetyl level in the vessel | B2_CL_C3_FV40/Diacetyl |\n",
    "| End Phase Time | Float | m |          | B2_CL_C3_FV40/EndPhaseTime.CV |\n",
    "| FV Full Plato | Float | Plato | $$ Plato = \\frac{Weight\\;of \\;Dissolved Solids}{Volume\\;of\\;Wort}$$ | B2_CL_C3_FV40/DcrsFvFullPlato |\n",
    "| Fermentation Start Time | Timestamp | Datetime | Captured at fermentation start | B2_CL_C3_FV40/Fermentation_Start_Time |\n",
    "| Integrator Key | Float |  |   | B2_CL_C3_FV40/Integrator Key |\n",
    "| Middle TIC OUT | Float | % | Vessel Middle Temperature Indicator Controller Output | B2_CL_C3_FV40_TIC204B/OUT.CV |\n",
    "| Middle TIC PV | Float | °F | Vessel Middle Temperature Indicator Controller Process Value | B2_CL_C3_FV40_TIC204B/PV.CV |\n",
    "| Middle TIC SP | Float | °F | Vessel Middle Temperature Indicator Controller Output Setpoint | B2_CL_C3_FV40_TIC204B/SP.CV |\n",
    "| PIC OUT | Float | % |  Vessel Pressure Controller Output  | B2_CL_C3_FV40_PIC204/OUT.CV |\n",
    "| PIC PV | Float | psi |  Vessel Pressure Process Value  | B2_CL_C3_FV40_PIC204/PV.CV |\n",
    "| PIC SP | Float | psi |  Vessel Pressure Setpoint  | B2_CL_C3_FV40_PIC204/SP.CV |\n",
    "| Phase Duration | Integer |  |  ? | B2_CL_C3_FV40/Phase Duration |\n",
    "| Plato | Float | Plato |  $$ Plato = \\frac{Weight\\;of \\;Dissolved Solids}{Volume\\;of\\;Wort}$$ | B2_CL_C3_FV40/Plato |\n",
    "| Predicted Transition | String |  |          | B2_CL_C3_FV40/Predicted Transition |\n",
    "| Status | Category |  | Status describing the current status of the fermenter at a given time | B2_CL_C3_FV40/STATUS.CV |\n",
    "| Top TIC OUT | Float | % | Vessel Top Temperature Indicator Controller Output | B2_CL_C3_FV40_TIC204C/OUT.CV |\n",
    "| Top TIC PV | Float | °F | Vessel Top Temperature Indicator Controller Process Value | B2_CL_C3_FV40_TIC204C/PV.CV |\n",
    "| Top TIC SP | Float | °F | Vessel Top Temperature Indicator Controller Output Setpoint | B2_CL_C3_FV40_TIC204C/SP.CV |\n",
    "| Vessel Procedure | String |  | Trigger for Batch Unit Procedure | B2_CL_C3_FV40/VesselProcedure |\n",
    "| VesselID | Integer |  | The unique identifier for this vessel instance in DCRS  | B2_CL_C3_FV40/VesselID |\n",
    "| Volume | Float | bbl | Vessel Volume | B2_CL_C3_FV40_LA204/PV.CV |\n",
    "| Yeast Generation | Integer |  |   Vessel Yeast Generation   | B2_CL_C3_FV40/YEASTGEN.CV |\n",
    "| Yeast Out Totalizer | Integer |  |    | B2_CL_C3_FV40/YeastOutTotalizer |\n",
    "| Yeast Strain | Category |  |   Vessel Yeast Strain  | B2_CL_C3_FV40/YEAST.CV |\n",
    "\n",
    "\n",
    "\n",
    "\n",
    "The following table shows all the data streams for Bright Tank 11 (BB11).\n",
    "\n",
    "| Column_Name | Stream_Type | Stream_UOM | OCS_Stream_Name | \n",
    "|:-----------:|:-----------:|:----------:|----------------:|\n",
    "| Bottom TIC OUT | Float | % | B2_CL_C2_BB11_TIC1800A/OUT.CV |\n",
    "| Bottom TIC PV | Float | °F | B2_CL_C2_BB11_TIC1800A/PV.CV |\n",
    "| Bottom TIC SP | Float | °F | B2_CL_C2_BB11_TIC1800A/SP.CV |\n",
    "| Brand | Category |  | B2_CL_C2_BB11/BRAND.CV |\n",
    "| Brewing Release | Category |  | B2_CL_C2_BB11/BREWING_RELEASE.CV |\n",
    "| Kraeusened | Category |  | B2_CL_C2_BB11/KRAEUSEN.CV |\n",
    "| Maturation Start Time | Timestamp |  | B2_CL_C2_BB11/Maturation Start Time |\n",
    "| PIC OUT | Float | % | B2_CL_C2_BB11_PIC1802/OUT.CV |\n",
    "| PIC PV | Float | psi | B2_CL_C2_BB11_PIC1802/PV.CV |\n",
    "| PIC SP | Float | psi | B2_CL_C2_BB11_PIC1802/SP.CV |\n",
    "| Phase Duration | Integer |  | B2_CL_C2_BB11/Phase Duration |\n",
    "| Quality Release | Category |  | B2_CL_C2_BB11/QUALITY_RELEASE.CV |\n",
    "| Status | Category |  | B2_CL_C2_BB11/STATUS.CV |\n",
    "| Top TIC OUT | Float | % | B2_CL_C2_BB11_TIC1800B/OUT.CV |\n",
    "| Top TIC PV | Float | °F | B2_CL_C2_BB11_TIC1800B/PV.CV |\n",
    "| Top TIC SP | Float | °F | B2_CL_C2_BB11_TIC1800B/SP.CV |\n",
    "| Vessel Procedure | String |  | B2_CL_C2_BB11/VesselProcedure |\n",
    "| VesselID | Integer |  | B2_CL_C2_BB11/VesselID |\n",
    "| Volume | Float |  | B2_CL_C2_BB11_LT1800/PV.CV |\n",
    "| Volume In | Float |  | B2_CL_C2_BB11_FQ1800_A/TOTAL.CV |\n",
    "| Volume Out | Float |  | B2_CL_C2_BB11_FQ1800_B/TOTAL.CV |\n",
    "| Yeast Strain | Category |  | B2_CL_C2_BB11/YEAST.CV |\n",
    "\n",
    "   "
   ]
  },
  {
   "cell_type": "markdown",
   "metadata": {},
   "source": [
    "\n",
    "\n",
    "The data streams in the table above are all verified, complete, and relevant to the two goals Deschutes identified: predict Apparent Degree of Fermentation (ADF), and predict the cooling temperature profile. A key component of using data analytics to provide value is determining where there might be opportunity for improvement, what the related data is for that opportunity, and where to find that data. Usually this requires the help of a SME (Subject Matter Expert) familiar with the industry and processes and assets within the industry. The brewmasters at Deschutes Brewery provided SME knowledge here, and narrowed down the data streams from everything available in Deschute's systems to the curated subset listed in the table above. \n",
    "\n",
    "Performing data analytics on data streams that are inaccurate or incomplete is usually an exercise in futility, because the results will not be valuable. In early computing days the phrase \"garbage in, garbage out\" was first used to to describe the computer as simply processing what it was given. In the case of data analytics, \"garbage in, garbage out\" is just as applicable. For these reasons, students will not use the full dataset below.   \n"
   ]
  },
  {
   "cell_type": "markdown",
   "metadata": {},
   "source": [
    "# Part 4. Data Quality\n",
    "---\n",
    "<a id=\"section_4\"></a>\n",
    "\n",
    "Though there are 39 fermenters, students will focus on only fermenters 31 to 36 because they were the 6 fermenters with the most complete data in a previous subset of this dataset. Even fermenters 31 to 36 have imperfect data streams, referred to as \"dirty\" data. Dirty data is the result of numerous causes including: an error between the data source and the mechanism sending the data stream to the data store, propogation of poor quality data through its use in calulations, manualy data being miskeyed or mislabeled, and simply missing data. Another potential poor-quality data can come from manually recorded data, the vessel status and ADF; for example, the cooling phase could be mislabeled as the diacetyl rest phase.  \n",
    "\n",
    "With the current version of Academic Hub Python library, data views will show all the dirty data value (except mislabeled ones) as missing data (empty string). Data cleansing must be performed before moving forward with data analysis. Data cleansing is the process of removing, editing, or adding incorrect or missing data from a raw data set. In the case of the fermenter data, the only type of data cleansing we need to perform is on missing data. Rows with missing data can be discarded from a Pandas dataframe by calling the `.dropna()` method. Some student exercises require this method for data preparation. \n",
    "    "
   ]
  },
  {
   "cell_type": "markdown",
   "metadata": {},
   "source": [
    "# Part 5. Assets, Dataviews and Metadata\n",
    "---\n",
    "<a id=\"section_5\"></a>"
   ]
  },
  {
   "cell_type": "markdown",
   "metadata": {},
   "source": [
    "Academic Hub datasets are structured around assets. Here assets are pieces of equipment found in a brewery: many fermenter vessels, bright tanks, and other related equipment. Each asset has an Asset Identifier (Asset Id) and a description. This information is available through the Hub Python library (`ocs_academic_hub`) and is returned as Pandas dataframe.\n",
    "\n",
    "Each asset is endowed with a default data view, i.e. a structure which maps all the data streams associated to the asset onto a column in a Pandas dataframe. Each data view has a Data view Id and exists within an OCS namespace, i.e. a named partition with its own Namespace ID. To request data for an asset, the following information should be provided:\n",
    "\n",
    "* Namespace Id\n",
    "* Data view Id\n",
    "* Start index (timestamp)\n",
    "* End index (timestamp). \n",
    "* Interpolation interval\n",
    "\n",
    "Reference for the start/end index and interpolation interval can be found at https://ocs-docs.osisoft.com/Content_Portal/Documentation/DataViews/GetDataViewData/Quick_Start_Get_Data_View_Data.html#index. \n",
    "\n",
    "For specific use-cases it is possible to define specialized dataviews having only a subset of the default dataview columns. Specialized dataviews avoid data overfetching and reduce the time to get results back especially with large tables with high number of rows. Most data views are for a single asset, but it's possible to define a data view spanning multiple assets. This avoid requesting multiple single-asset data views and stiching the result into a single Pandas dataframe for analysis. \n",
    "\n",
    "Asset metadata is static information about the asset, e.g. the equipment manufacturer, installation date, etc. **This dataset has no asset metadata.** "
   ]
  },
  {
   "cell_type": "code",
   "execution_count": 1,
   "metadata": {},
   "outputs": [],
   "source": [
    "!pip install ocs_academic_hub==0.98.0"
   ]
  },
  {
   "cell_type": "code",
   "execution_count": 1,
   "metadata": {},
   "outputs": [
    {
     "name": "stdout",
     "output_type": "stream",
     "text": [
      "Step 1: Get OAuth endpoint configuration...\n",
      "Step 2: Set up server to process authorization response...\n",
      "Step 3: Authorize the user...\n",
      "Step 4: Set server to handle one request...\n"
     ]
    },
    {
     "name": "stderr",
     "output_type": "stream",
     "text": [
      "127.0.0.1 - - [09/Sep/2020 20:20:17] \"GET /callback.html?code=oINYgGiSk-wzS16QESnJRNk82EijRSVHy2P7bzoE8QU&scope=openid%20ocsapi&session_state=kbetpoQkhA8vlXovgKyMm5smns8P-Xj6Euhg8bmLLhU.X1eyDETpmNHuCM1wpU7zaA HTTP/1.1\" 200 -\n"
     ]
    },
    {
     "name": "stdout",
     "output_type": "stream",
     "text": [
      "Step 5: Get a token using the authorization code...\n",
      "Step 6: Access token read ok\n",
      "Complete!\n",
      "@ Hub data file: hub_datasets.json\n"
     ]
    }
   ],
   "source": [
    "# -------------------------------\n",
    "# Code preamble for next sections\n",
    "# -------------------------------\n",
    "from ocs_academic_hub import HubClient\n",
    "from IPython.display import display, Markdown, Latex\n",
    "dataset = \"Brewery\"\n",
    "hub = HubClient()\n",
    "hub.set_dataset(dataset)\n",
    "namespace_id = hub.namespace_of(dataset)"
   ]
  },
  {
   "cell_type": "markdown",
   "metadata": {},
   "source": [
    "## Brewery Assets\n",
    "\n",
    "This method returns a Pandas dataframe with `Asset_Id` as the first column and short asset description in the second column. "
   ]
  },
  {
   "cell_type": "code",
   "execution_count": 2,
   "metadata": {},
   "outputs": [
    {
     "name": "stdout",
     "output_type": "stream",
     "text": [
      "       Asset_Id            Description\n",
      "      Acid Tank                    AT1\n",
      "            BA1                       \n",
      "            BA2                       \n",
      "           BB02            Bright Tank\n",
      "      BB02 Line                       \n",
      "           BB03            Bright Tank\n",
      "           BB04            Bright Tank\n",
      "           BB05            Bright Tank\n",
      "           BB06            Bright Tank\n",
      "           BB07            Bright Tank\n",
      "           BB08            Bright Tank\n",
      "           BB09            Bright Tank\n",
      "           BB11            Bright Tank\n",
      "           BB12            Bright Tank\n",
      "           BB13            Bright Tank\n",
      "           BB14            Bright Tank\n",
      "           BB15            Bright Tank\n",
      "  Beer Transfer  Beer TransferTemplate\n",
      "        C1_BBL1            Bright Tank\n",
      "         C1_BL1     Cellar 1 Beer Line\n",
      "         C1_PS1                    PS1\n",
      "         C1_PS2                    PS2\n",
      "         C1_YL1    Cellar 1 Yeast Line\n",
      "        C2_BBL1            Bright Tank\n",
      "         C2_FT1     Cellar 2 Foam Tank\n",
      "         C2_PS1                 C2_PS1\n",
      "         C2_PS2                 C2_PS2\n",
      "         C3_BL1     Cellar 3 Beer Line\n",
      "         C3_FT1     Cellar 3 Foam Trap\n",
      "         C3_YL1    Cellar 3 Yeast Line\n",
      "           CNT1             Centrifuge\n",
      "           CNT2             Centrifuge\n",
      "           CST1                       \n",
      "   Caustic Tank                    CT1\n",
      " Clean In Place                   CIP1\n",
      "           FV01       Fermenter Vessel\n",
      "           FV02       Fermenter Vessel\n",
      "           FV08       Fermenter Vessel\n",
      "           FV09       Fermenter Vessel\n",
      "   FV1/FV2 Line            Supply Line\n",
      "           FV10       Fermenter Vessel\n",
      "           FV11       Fermenter Vessel\n",
      "           FV12       Fermenter Vessel\n",
      "           FV13       Fermenter Vessel\n",
      "           FV14       Fermenter Vessel\n",
      "           FV15       Fermenter Vessel\n",
      "           FV16       Fermenter Vessel\n",
      "           FV17       Fermenter Vessel\n",
      "           FV18       Fermenter Vessel\n",
      "           FV19       Fermenter Vessel\n",
      "           FV20       Fermenter Vessel\n",
      "           FV21       Fermenter Vessel\n",
      "           FV22       Fermenter Vessel\n",
      "           FV23       Fermenter Vessel\n",
      "           FV24       Fermenter Vessel\n",
      "           FV25       Fermenter Vessel\n",
      "           FV26       Fermenter Vessel\n",
      "           FV27       Fermenter Vessel\n",
      "           FV28       Fermenter Vessel\n",
      "           FV31       Fermenter Vessel\n",
      "           FV32       Fermenter Vessel\n",
      "           FV33       Fermenter Vessel\n",
      "           FV34       Fermenter Vessel\n",
      "           FV35       Fermenter Vessel\n",
      "           FV36       Fermenter Vessel\n",
      "           FV37       Fermenter Vessel\n",
      "           FV38       Fermenter Vessel\n",
      "           FV39       Fermenter Vessel\n",
      "           FV40       Fermenter Vessel\n",
      "           FV41       Fermenter Vessel\n",
      "           FV42       Fermenter Vessel\n",
      "           FV43       Fermenter Vessel\n",
      "           FV44       Fermenter Vessel\n",
      "           FV45       Fermenter Vessel\n",
      "           FV46       Fermenter Vessel\n",
      "         Loop 1                       \n",
      "         Loop 2                       \n",
      "            PZ1                       \n"
     ]
    }
   ],
   "source": [
    "print(hub.assets().to_string(index=False))"
   ]
  },
  {
   "cell_type": "markdown",
   "metadata": {},
   "source": [
    "## Available Data Views\n",
    "\n",
    "All assets have at least a default data view with ID of the following format: `brewery-<asset_id>` where `<asset_id>` is the Asset Id as seen above but all lowercase. \n",
    "\n",
    "In this dataset, only fermenter vessels have more than the default data view. \n",
    "\n",
    "Using Fermenter Vessel #40 (`FV40`) as a representative of such assets, the list all available single-asset data views can be obtained with: "
   ]
  },
  {
   "cell_type": "code",
   "execution_count": 3,
   "metadata": {},
   "outputs": [
    {
     "data": {
      "text/plain": [
       "['brewery-fv40',\n",
       " 'brewery-fv40-adf_prediction',\n",
       " 'brewery-fv40-cooling_prediction',\n",
       " 'brewery-fv40-pca']"
      ]
     },
     "execution_count": 3,
     "metadata": {},
     "output_type": "execute_result"
    }
   ],
   "source": [
    "dataview_ids = hub.asset_dataviews(\"FV40\")\n",
    "dataview_ids"
   ]
  },
  {
   "cell_type": "markdown",
   "metadata": {},
   "source": [
    "The definition of each data are given below (UOM == unit of measure): "
   ]
  },
  {
   "cell_type": "code",
   "execution_count": 4,
   "metadata": {},
   "outputs": [
    {
     "data": {
      "text/markdown": [
       "**Data view ID: brewery-fv40**"
      ],
      "text/plain": [
       "<IPython.core.display.Markdown object>"
      ]
     },
     "metadata": {},
     "output_type": "display_data"
    },
    {
     "name": "stdout",
     "output_type": "stream",
     "text": [
      "Asset_Id              Column_Name Stream_Type Stream_UOM                        OCS_Stream_Name\n",
      "    FV40                      ADF       Float                                 B2_CL_C3_FV40/ADF\n",
      "    FV40           Bottom TIC OUT       Float          %           B2_CL_C3_FV40_TIC204A/OUT.CV\n",
      "    FV40            Bottom TIC PV       Float        Â°F            B2_CL_C3_FV40_TIC204A/PV.CV\n",
      "    FV40            Bottom TIC SP       Float        Â°F            B2_CL_C3_FV40_TIC204A/SP.CV\n",
      "    FV40       Bottom Temperature       Float        Â°F             B2_CL_C3_FV40_TT204D/PV.CV\n",
      "    FV40                    Brand    Category                            B2_CL_C3_FV40/BRAND.CV\n",
      "    FV40         Cone Temperature       Float        Â°F             B2_CL_C3_FV40_TT204A/PV.CV\n",
      "    FV40                Deviation       Float                B2_CL_C3_FV40/Prediction.Deviation\n",
      "    FV40                 Diacetyl     Integer        ppb                 B2_CL_C3_FV40/Diacetyl\n",
      "    FV40           End Phase Time       Float          m          B2_CL_C3_FV40/EndPhaseTime.CV\n",
      "    FV40            FV Full Plato       Float      Plato          B2_CL_C3_FV40/DcrsFvFullPlato\n",
      "    FV40  Fermentation Start Time   Timestamp             B2_CL_C3_FV40/Fermentation_Start_Time\n",
      "    FV40           Integrator Key       Float                      B2_CL_C3_FV40/Integrator Key\n",
      "    FV40           Middle TIC OUT       Float          %           B2_CL_C3_FV40_TIC204B/OUT.CV\n",
      "    FV40            Middle TIC PV       Float        Â°F            B2_CL_C3_FV40_TIC204B/PV.CV\n",
      "    FV40            Middle TIC SP       Float        Â°F            B2_CL_C3_FV40_TIC204B/SP.CV\n",
      "    FV40                  PIC OUT       Float          %            B2_CL_C3_FV40_PIC204/OUT.CV\n",
      "    FV40                   PIC PV       Float        psi             B2_CL_C3_FV40_PIC204/PV.CV\n",
      "    FV40                   PIC SP       Float        psi             B2_CL_C3_FV40_PIC204/SP.CV\n",
      "    FV40           Phase Duration     Integer                      B2_CL_C3_FV40/Phase Duration\n",
      "    FV40                    Plato       Float      Plato                    B2_CL_C3_FV40/Plato\n",
      "    FV40     Predicted Transition      String                B2_CL_C3_FV40/Predicted Transition\n",
      "    FV40                   Status    Category                           B2_CL_C3_FV40/STATUS.CV\n",
      "    FV40              Top TIC OUT       Float          %           B2_CL_C3_FV40_TIC204C/OUT.CV\n",
      "    FV40               Top TIC PV       Float        Â°F            B2_CL_C3_FV40_TIC204C/PV.CV\n",
      "    FV40               Top TIC SP       Float        Â°F            B2_CL_C3_FV40_TIC204C/SP.CV\n",
      "    FV40         Vessel Procedure      String                     B2_CL_C3_FV40/VesselProcedure\n",
      "    FV40                 VesselID     Integer                            B2_CL_C3_FV40/VesselID\n",
      "    FV40                   Volume       Float        bbl              B2_CL_C3_FV40_LA204/PV.CV\n",
      "    FV40         Yeast Generation     Integer                         B2_CL_C3_FV40/YEASTGEN.CV\n",
      "    FV40      Yeast Out Totalizer     Integer                   B2_CL_C3_FV40/YeastOutTotalizer\n",
      "    FV40             Yeast Strain    Category                            B2_CL_C3_FV40/YEAST.CV\n"
     ]
    },
    {
     "data": {
      "text/markdown": [
       "**Data view ID: brewery-fv40-adf_prediction**"
      ],
      "text/plain": [
       "<IPython.core.display.Markdown object>"
      ]
     },
     "metadata": {},
     "output_type": "display_data"
    },
    {
     "name": "stdout",
     "output_type": "stream",
     "text": [
      "Asset_Id              Column_Name Stream_Type Stream_UOM                        OCS_Stream_Name\n",
      "    FV40                      ADF       Float                                 B2_CL_C3_FV40/ADF\n",
      "    FV40                    Brand    Category                            B2_CL_C3_FV40/BRAND.CV\n",
      "    FV40            FV Full Plato       Float      Plato          B2_CL_C3_FV40/DcrsFvFullPlato\n",
      "    FV40  Fermentation Start Time   Timestamp             B2_CL_C3_FV40/Fermentation_Start_Time\n",
      "    FV40                    Plato       Float      Plato                    B2_CL_C3_FV40/Plato\n",
      "    FV40                   Status    Category                           B2_CL_C3_FV40/STATUS.CV\n"
     ]
    },
    {
     "data": {
      "text/markdown": [
       "**Data view ID: brewery-fv40-cooling_prediction**"
      ],
      "text/plain": [
       "<IPython.core.display.Markdown object>"
      ]
     },
     "metadata": {},
     "output_type": "display_data"
    },
    {
     "name": "stdout",
     "output_type": "stream",
     "text": [
      "Asset_Id              Column_Name Stream_Type Stream_UOM                        OCS_Stream_Name\n",
      "    FV40           Bottom TIC OUT       Float          %           B2_CL_C3_FV40_TIC204A/OUT.CV\n",
      "    FV40            Bottom TIC PV       Float         °F            B2_CL_C3_FV40_TIC204A/PV.CV\n",
      "    FV40            Bottom TIC SP       Float         °F            B2_CL_C3_FV40_TIC204A/SP.CV\n",
      "    FV40                    Brand    Category                            B2_CL_C3_FV40/BRAND.CV\n",
      "    FV40  Fermentation Start Time   Timestamp             B2_CL_C3_FV40/Fermentation_Start_Time\n",
      "    FV40           Middle TIC OUT       Float          %           B2_CL_C3_FV40_TIC204B/OUT.CV\n",
      "    FV40            Middle TIC PV       Float         °F            B2_CL_C3_FV40_TIC204B/PV.CV\n",
      "    FV40            Middle TIC SP       Float         °F            B2_CL_C3_FV40_TIC204B/SP.CV\n",
      "    FV40                   Status    Category                           B2_CL_C3_FV40/STATUS.CV\n",
      "    FV40              Top TIC OUT       Float          %           B2_CL_C3_FV40_TIC204C/OUT.CV\n",
      "    FV40               Top TIC PV       Float         °F            B2_CL_C3_FV40_TIC204C/PV.CV\n",
      "    FV40               Top TIC SP       Float         °F            B2_CL_C3_FV40_TIC204C/SP.CV\n",
      "    FV40                   Volume       Float        bbl              B2_CL_C3_FV40_LA204/PV.CV\n"
     ]
    },
    {
     "data": {
      "text/markdown": [
       "**Data view ID: brewery-fv40-pca**"
      ],
      "text/plain": [
       "<IPython.core.display.Markdown object>"
      ]
     },
     "metadata": {},
     "output_type": "display_data"
    },
    {
     "name": "stdout",
     "output_type": "stream",
     "text": [
      "Asset_Id              Column_Name Stream_Type Stream_UOM                        OCS_Stream_Name\n",
      "    FV40                      ADF       Float                                 B2_CL_C3_FV40/ADF\n",
      "    FV40           Bottom TIC OUT       Float          %           B2_CL_C3_FV40_TIC204A/OUT.CV\n",
      "    FV40            Bottom TIC PV       Float         °F            B2_CL_C3_FV40_TIC204A/PV.CV\n",
      "    FV40            Bottom TIC SP       Float         °F            B2_CL_C3_FV40_TIC204A/SP.CV\n",
      "    FV40                    Brand    Category                            B2_CL_C3_FV40/BRAND.CV\n",
      "    FV40  Fermentation Start Time   Timestamp             B2_CL_C3_FV40/Fermentation_Start_Time\n",
      "    FV40           Middle TIC OUT       Float          %           B2_CL_C3_FV40_TIC204B/OUT.CV\n",
      "    FV40            Middle TIC PV       Float         °F            B2_CL_C3_FV40_TIC204B/PV.CV\n",
      "    FV40            Middle TIC SP       Float         °F            B2_CL_C3_FV40_TIC204B/SP.CV\n",
      "    FV40                   Status    Category                           B2_CL_C3_FV40/STATUS.CV\n",
      "    FV40              Top TIC OUT       Float          %           B2_CL_C3_FV40_TIC204C/OUT.CV\n",
      "    FV40               Top TIC PV       Float         °F            B2_CL_C3_FV40_TIC204C/PV.CV\n",
      "    FV40               Top TIC SP       Float         °F            B2_CL_C3_FV40_TIC204C/SP.CV\n",
      "    FV40                   Volume       Float        bbl              B2_CL_C3_FV40_LA204/PV.CV\n"
     ]
    }
   ],
   "source": [
    "for dv_id in dataview_ids:\n",
    "    # print(f\"Data view ID: {dv_id}\")\n",
    "    display(Markdown(f\"**Data view ID: {dv_id}**\"))\n",
    "    print(hub.dataview_definition(namespace_id, dv_id).to_string(index=False))"
   ]
  },
  {
   "cell_type": "markdown",
   "metadata": {},
   "source": [
    "## Multi-asset data views\n",
    "\n",
    "In some cases data from more than one asset is necessary to perform some analysis. Adding the option `multiple_asset=True` returns all the data views with more than one asset. If the empty string \"\" is given instead of an asset Id, the list of all multi-asset data views is returned. "
   ]
  },
  {
   "cell_type": "code",
   "execution_count": 5,
   "metadata": {
    "scrolled": true
   },
   "outputs": [
    {
     "data": {
      "text/plain": [
       "['brewery-fv01--28',\n",
       " 'brewery-fv01--28-adf_prediction',\n",
       " 'brewery-fv01--28-cooling_prediction',\n",
       " 'brewery-fv01--28-pca',\n",
       " 'brewery-fv31--36',\n",
       " 'brewery-fv31--36-adf_prediction',\n",
       " 'brewery-fv31--36-cooling_prediction',\n",
       " 'brewery-fv31--36-pca',\n",
       " 'brewery-fv37--46',\n",
       " 'brewery-fv37--46-adf_prediction',\n",
       " 'brewery-fv37--46-cooling_prediction',\n",
       " 'brewery-fv37--46-pca']"
      ]
     },
     "execution_count": 5,
     "metadata": {},
     "output_type": "execute_result"
    }
   ],
   "source": [
    "dataview_ids = hub.asset_dataviews(\"\", multiple_asset=True)\n",
    "dataview_ids"
   ]
  },
  {
   "cell_type": "markdown",
   "metadata": {},
   "source": [
    "For more information on how to request interpolated data with a data view, please consult [this notebook](./Hub_Library_Quickstart.ipynb)"
   ]
  },
  {
   "cell_type": "markdown",
   "metadata": {},
   "source": [
    "## Asset Metadata\n",
    "\n",
    "None"
   ]
  },
  {
   "cell_type": "code",
   "execution_count": null,
   "metadata": {},
   "outputs": [],
   "source": []
  }
 ],
 "metadata": {
  "kernelspec": {
   "display_name": "Python 3",
   "language": "python",
   "name": "python3"
  },
  "language_info": {
   "codemirror_mode": {
    "name": "ipython",
    "version": 3
   },
   "file_extension": ".py",
   "mimetype": "text/x-python",
   "name": "python",
   "nbconvert_exporter": "python",
   "pygments_lexer": "ipython3",
   "version": "3.7.6"
  }
 },
 "nbformat": 4,
 "nbformat_minor": 4
}
