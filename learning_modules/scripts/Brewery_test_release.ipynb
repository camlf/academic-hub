{
 "cells": [
  {
   "cell_type": "code",
   "execution_count": null,
   "metadata": {},
   "outputs": [],
   "source": [
    "import papermill as pm\n",
    "import os"
   ]
  },
  {
   "cell_type": "code",
   "execution_count": null,
   "metadata": {},
   "outputs": [],
   "source": [
    "%env OCS_HUB_CONFIG=config.ini"
   ]
  },
  {
   "cell_type": "code",
   "execution_count": null,
   "metadata": {},
   "outputs": [],
   "source": [
    "def clean_uninstall():\n",
    "    result = os.system(\"pip uninstall -y ocs-academic-hub ocs-sample-library-preview gql > /dev/null\")\n",
    "    # print(f\"@clean={'OK' if result == 0 else 'oops'}\")\n",
    "    return result == 0"
   ]
  },
  {
   "cell_type": "code",
   "execution_count": null,
   "metadata": {},
   "outputs": [],
   "source": [
    "source_dir = \"../brewery\"\n",
    "target_dir = \"Release\"\n",
    "!mkdir -p $target_dir"
   ]
  },
  {
   "cell_type": "code",
   "execution_count": null,
   "metadata": {},
   "outputs": [],
   "source": [
    "nbs = [\n",
    "    \"NB1_SOLUTION_ADF_Prediction.ipynb\",\n",
    "    \"NB2_SOLUTION_Cooling_Prediction.ipynb\",\n",
    "    \"NB3_SOLUTION_Beer_PCA.ipynb\",\n",
    "]\n",
    "\n",
    "all_nbs = (\n",
    "    nbs\n",
    "    + [i.replace(\"SOLUTION\", \"LEARNOBJECTIVES\") for i in nbs]\n",
    "    + [\n",
    "        \"PandasGuide.ipynb\",\n",
    "        \"Brewery_Dataset_Doc.ipynb\",\n",
    "        \"DESCHUTES_GUIDE.ipynb\",\n",
    "        \"Hub_Library_Quickstart.ipynb\",\n",
    "    ]\n",
    ")\n",
    "\n",
    "def execute_nbs():\n",
    "    for nb in all_nbs:\n",
    "        if clean_uninstall():\n",
    "            print(f\">> {nb}...\")\n",
    "            nb_source = f\"{source_dir}/{nb}\"\n",
    "            %env NB_SOURCE=$nb_source\n",
    "            pm.execute_notebook(f\"{source_dir}/{nb}\", f\"./{target_dir}/{nb}\")\n",
    "        else:\n",
    "            print(f\"### Could not clean for {nb}, skipping it\")\n",
    "None"
   ]
  },
  {
   "cell_type": "code",
   "execution_count": null,
   "metadata": {},
   "outputs": [],
   "source": [
    "if True:\n",
    "    execute_nbs()"
   ]
  },
  {
   "cell_type": "code",
   "execution_count": null,
   "metadata": {},
   "outputs": [],
   "source": [
    "result = os.system(f\"cp {source_dir}/*EXER*.ipynb {target_dir}\")\n",
    "print(f\"@copy exercises to {target_dir}={'OK' if result == 0 else 'oops'}\")"
   ]
  },
  {
   "cell_type": "code",
   "execution_count": null,
   "metadata": {},
   "outputs": [],
   "source": []
  }
 ],
 "metadata": {
  "kernelspec": {
   "display_name": "Python 3",
   "language": "python",
   "name": "python3"
  },
  "language_info": {
   "codemirror_mode": {
    "name": "ipython",
    "version": 3
   },
   "file_extension": ".py",
   "mimetype": "text/x-python",
   "name": "python",
   "nbconvert_exporter": "python",
   "pygments_lexer": "ipython3",
   "version": "3.7.6"
  }
 },
 "nbformat": 4,
 "nbformat_minor": 4
}
