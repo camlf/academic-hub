{
 "cells": [
  {
   "cell_type": "code",
   "execution_count": null,
   "metadata": {},
   "outputs": [],
   "source": [
    "import papermill as pm\n",
    "import os\n",
    "import sys"
   ]
  },
  {
   "cell_type": "code",
   "execution_count": null,
   "metadata": {},
   "outputs": [],
   "source": [
    "def clean_uninstall():\n",
    "    result = 0 # os.system(\"pip uninstall -y ocs-academic-hub ocs-sample-library-preview gql > /dev/null\")\n",
    "    # print(f\"@clean={'OK' if result == 0 else 'oops'}\")\n",
    "    return result == 0"
   ]
  },
  {
   "cell_type": "code",
   "execution_count": null,
   "metadata": {},
   "outputs": [],
   "source": [
    "source_dir = \"../brewery\"\n",
    "target_dir = \"Release\"\n",
    "!mkdir -p $target_dir\n",
    "#%env HUB_CLIENT_KEY="
   ]
  },
  {
   "cell_type": "code",
   "execution_count": null,
   "metadata": {},
   "outputs": [],
   "source": [
    "main_nbs = [\n",
    "    \"NB1_SOLUTION_ADF_Prediction.ipynb\",\n",
    "    \"NB2_SOLUTION_Cooling_Prediction.ipynb\",\n",
    "    \"NB3_SOLUTION_Beer_PCA.ipynb\",\n",
    "]\n",
    "\n",
    "other_nbs = (\n",
    "    # [i.replace(\"SOLUTION\", \"LEARNOBJECTIVES\") for i in main_nbs] +\n",
    "    [\n",
    "        \"Wind_Farm_Academic_Hub.ipynb\",\n",
    "        # \"PandasGuide.ipynb\",\n",
    "        # \"Brewery_Dataset_Doc.ipynb\",\n",
    "        # \"DESCHUTES_GUIDE.ipynb\",\n",
    "        # \"Hub_Library_Quickstart.ipynb\",\n",
    "    ]\n",
    ")\n",
    "\n",
    "for_ci = {\n",
    "    \"log_output\": True,\n",
    "    \"stdout_file\": sys.stdout,\n",
    "    \"stderr_file\": sys.stderr,\n",
    "    \"progress_bar\": False,\n",
    "    \"report_mode\": True,\n",
    "}\n",
    "\n",
    "\n",
    "def execute_nbs():\n",
    "    for nb in main_nbs + other_nbs:\n",
    "        if clean_uninstall():\n",
    "            print(f\">> {nb}...\")\n",
    "            nb_source = f\"{source_dir}/{nb}\"\n",
    "            %env NB_SOURCE=$nb_source\n",
    "            pm.execute_notebook(\n",
    "                f\"{source_dir}/{nb}\",\n",
    "                f\"./{target_dir}/{nb}\",\n",
    "                # log_output=True,\n",
    "                # stdout_file=sys.stdout,\n",
    "                # stderr_file=sys.stderr,\n",
    "                # progress_bar=False,\n",
    "                # report_mode=True,\n",
    "                **for_ci,\n",
    "            )\n",
    "        else:\n",
    "            print(f\"### Could not clean for {nb}, skipping it\")\n",
    "\n",
    "\n",
    "None"
   ]
  },
  {
   "cell_type": "code",
   "execution_count": null,
   "metadata": {},
   "outputs": [],
   "source": [
    "if True:\n",
    "    execute_nbs()"
   ]
  },
  {
   "cell_type": "code",
   "execution_count": null,
   "metadata": {},
   "outputs": [],
   "source": [
    "result = os.system(f\"cp {source_dir}/*EXER*.ipynb {target_dir}\")\n",
    "print(f\"@copy exercises to {target_dir}={'OK' if result == 0 else 'oops'}\")"
   ]
  },
  {
   "cell_type": "code",
   "execution_count": null,
   "metadata": {},
   "outputs": [],
   "source": []
  }
 ],
 "metadata": {
  "kernelspec": {
   "display_name": "Python 3",
   "language": "python",
   "name": "python3"
  },
  "language_info": {
   "codemirror_mode": {
    "name": "ipython",
    "version": 3
   },
   "file_extension": ".py",
   "mimetype": "text/x-python",
   "name": "python",
   "nbconvert_exporter": "python",
   "pygments_lexer": "ipython3",
   "version": "3.7.6"
  }
 },
 "nbformat": 4,
 "nbformat_minor": 4
}
