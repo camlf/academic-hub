{
 "cells": [
  {
   "cell_type": "code",
   "execution_count": 1,
   "metadata": {},
   "outputs": [],
   "source": [
    "# For installation / restart kernel just after running this cell\n",
    "#!pip install appmode\n",
    "#!jupyter nbextension     enable --py --sys-prefix appmode\n",
    "#!jupyter serverextension enable --py --sys-prefix appmode"
   ]
  },
  {
   "cell_type": "code",
   "execution_count": 2,
   "metadata": {},
   "outputs": [],
   "source": [
    "%gui asyncio"
   ]
  },
  {
   "cell_type": "code",
   "execution_count": 3,
   "metadata": {},
   "outputs": [],
   "source": [
    "import yaml\n",
    "import asyncio\n",
    "from ocs_academic_hub import HubClient\n",
    "import IPython\n",
    "import pandas as pd\n",
    "import os"
   ]
  },
  {
   "cell_type": "code",
   "execution_count": 4,
   "metadata": {},
   "outputs": [],
   "source": [
    "# %env OCS_HUB_CONFIG=config-dv.ini\n",
    "ask_for_secret = not bool(os.environ.get(\"OCS_HUB_CONFIG\", False))\n",
    "cheat_key = os.environ.get(\"OCS_HUB_CHEAT\", \"hubdemo2020\")\n",
    "# ask_for_secret"
   ]
  },
  {
   "cell_type": "code",
   "execution_count": 5,
   "metadata": {},
   "outputs": [],
   "source": [
    "with open(\"ucdavis-building-ceed-dv.yaml\", \"r\") as stream:\n",
    "    building_ceeds = yaml.safe_load(stream)\n",
    "\n",
    "deschutes_dvid = {f\"Fermenter #{i}\": {} for i in range(31, 37)}\n",
    "for k in deschutes_dvid.keys():\n",
    "    fv_id = k[-2:]\n",
    "    for dv in [\"ADF_Prediction\", \"Cooling_Prediction\", \"PCA\"]:\n",
    "        deschutes_dvid[k][dv] = f\"HubDV_{dv}_fv{fv_id}\"\n",
    "\n",
    "UCDAVIS_DB = \"UCDavis.Facilities\"\n",
    "DESCHUTES_DB = \"Deschutes.Fermenters\"\n",
    "\n",
    "\n",
    "def namespace_of(db):\n",
    "    if db == UCDAVIS_DB:\n",
    "        return \"UC__Davis\"\n",
    "    elif db == DESCHUTES_DB:\n",
    "        return \"fermenter_vessels\"\n",
    "    else:\n",
    "        return None\n",
    "\n",
    "\n",
    "building_ceeds_dvids = {UCDAVIS_DB: building_ceeds, DESCHUTES_DB: deschutes_dvid}"
   ]
  },
  {
   "cell_type": "code",
   "execution_count": 6,
   "metadata": {},
   "outputs": [],
   "source": [
    "from ipywidgets import ToggleButton, DatePicker, Select, interactive, Layout, Output, Text\n",
    "from IPython.display import display\n",
    "import datetime"
   ]
  },
  {
   "cell_type": "markdown",
   "metadata": {},
   "source": [
    "![](https://academichub.blob.core.windows.net/images/plain_blue_banner_v2.png)\n",
    "\n",
    "Version 0.9.7\n",
    "\n",
    "### The Academic Hub rely on [OSISoft OCS](https://www.osisoft.com/solutions/cloud/vision/), a cloud-native data infrastructure platform to collect, store and provide <br>application-ready process data for analysis, sharing and decision making. <br><br>To learn more about, click [OSIsoft Academic Hub](https://academichub.blob.core.windows.net/images/PDF%20for%20CSV%20GUI%20-%20V%201.1.pdf).\n",
    "---\n",
    "### Steps to download a CSV \n",
    "\n",
    "1. Select a Database (available databases, click for info: [UCDavis.Facilities](https://academic.osisoft.com/hackdavis), [Deschutes.Fermenters](https://www.osisoft.com/presentations/introduction-to-time-series-analysis-with-pi-system-data/))\n",
    "1. Select an Asset \n",
    "2. Select a Data View (returns interpolated sensor data in tabular format, for [more info](https://ocs-docs.osisoft.com/Documentation/DataViews/Data_Views_Overview.html))\n",
    "3. Pick Start and End Dates\n",
    "4. Click **Download CSV** to download a result CSV with requested data\n",
    "\n",
    "**NOTE: to download another CSV, reload this web page**"
   ]
  },
  {
   "cell_type": "code",
   "execution_count": 7,
   "metadata": {},
   "outputs": [],
   "source": [
    "def read_df_count():\n",
    "    with open(\"df_count\") as f:\n",
    "        i = int(f.readline())\n",
    "    j = i + 1\n",
    "    # print(f\"i={i}  j={j}\")\n",
    "    with open(\"df_count\", \"w\") as f:\n",
    "        f.write(str(j))\n",
    "    return i"
   ]
  },
  {
   "cell_type": "code",
   "execution_count": 8,
   "metadata": {},
   "outputs": [],
   "source": [
    "def wait_for_change(widget, value):\n",
    "    future = asyncio.Future()\n",
    "\n",
    "    def getvalue(change):\n",
    "        # make the new value available\n",
    "        future.set_result(change.new)\n",
    "        widget.unobserve(getvalue, value)\n",
    "\n",
    "    widget.observe(getvalue, value)\n",
    "    return future\n",
    "\n",
    "\n",
    "def csv_download_link(df, csv_file_name, delete_prompt=True):\n",
    "    \"\"\"Display a download link to load a data frame as csv from within a Jupyter notebook\"\"\"\n",
    "    df.to_csv(csv_file_name, index=False)\n",
    "    from IPython.display import FileLink\n",
    "\n",
    "    i = FileLink(csv_file_name)\n",
    "    # raise Exception(\"here1\")\n",
    "    if delete_prompt:\n",
    "        a = input(\"Press enter to delete the file after you have downloaded it.\")\n",
    "        import os\n",
    "\n",
    "        os.remove(csv_file_name)\n",
    "    return i"
   ]
  },
  {
   "cell_type": "code",
   "execution_count": 9,
   "metadata": {},
   "outputs": [
    {
     "data": {
      "application/vnd.jupyter.widget-view+json": {
       "model_id": "e6a8112a0acd4895b4a40faf94d68fb2",
       "version_major": 2,
       "version_minor": 0
      },
      "text/plain": [
       "interactive(children=(Select(description='database', layout=Layout(height='60px'), options=('UCDavis.Facilitie…"
      ]
     },
     "metadata": {},
     "output_type": "display_data"
    },
    {
     "data": {
      "application/vnd.jupyter.widget-view+json": {
       "model_id": "918bd6fb6f28495991437a7789d97a82",
       "version_major": 2,
       "version_minor": 0
      },
      "text/plain": [
       "interactive(children=(Select(description='asset', layout=Layout(height='180px', width='40%'), options=('ARC Pa…"
      ]
     },
     "metadata": {},
     "output_type": "display_data"
    },
    {
     "data": {
      "application/vnd.jupyter.widget-view+json": {
       "model_id": "f4f3167d146944c7a13032a9a635189e",
       "version_major": 2,
       "version_minor": 0
      },
      "text/plain": [
       "interactive(children=(Select(description='dataview', options=('ChilledWater_MBTU', 'Electricity', 'Steam'), va…"
      ]
     },
     "metadata": {},
     "output_type": "display_data"
    },
    {
     "data": {
      "application/vnd.jupyter.widget-view+json": {
       "model_id": "c04b3ac2adcb4b95970a28399cbcc0e9",
       "version_major": 2,
       "version_minor": 0
      },
      "text/plain": [
       "DatePicker(value=datetime.date(2017, 3, 17), description='Start Date')"
      ]
     },
     "metadata": {},
     "output_type": "display_data"
    },
    {
     "data": {
      "application/vnd.jupyter.widget-view+json": {
       "model_id": "73fd7f5f6fc24dfb8499707c927e10f1",
       "version_major": 2,
       "version_minor": 0
      },
      "text/plain": [
       "DatePicker(value=datetime.date(2017, 9, 17), description='End Date')"
      ]
     },
     "metadata": {},
     "output_type": "display_data"
    },
    {
     "data": {
      "application/vnd.jupyter.widget-view+json": {
       "model_id": "24cd8b76789849e98597f71a1ab7df80",
       "version_major": 2,
       "version_minor": 0
      },
      "text/plain": [
       "ToggleButton(value=False, description='Download CSV', icon='check', tooltip='Description')"
      ]
     },
     "metadata": {},
     "output_type": "display_data"
    },
    {
     "data": {
      "application/vnd.jupyter.widget-view+json": {
       "model_id": "f8147738ecf3449bbdde132d3ba19585",
       "version_major": 2,
       "version_minor": 0
      },
      "text/plain": [
       "Output()"
      ]
     },
     "metadata": {},
     "output_type": "display_data"
    },
    {
     "data": {
      "text/html": [
       "Path (<tt>./dataview-result-3.csv</tt>) doesn't exist. It may still be in the process of being generated, or you may have the incorrect path."
      ],
      "text/plain": [
       "C:\\Users\\cfoisy\\Documents\\Hub\\experimental\\csv-omf\\appmode\\dataview-result-3.csv"
      ]
     },
     "metadata": {},
     "output_type": "display_data"
    }
   ],
   "source": [
    "building_ceeds_dvid = building_ceeds_dvids[UCDAVIS_DB]\n",
    "\n",
    "\n",
    "def select_ceed(asset):\n",
    "    ceedW.options = building_ceeds_dvid[asset].keys()\n",
    "    print(f\"Current asset: {asset}\")\n",
    "\n",
    "\n",
    "k = ToggleButton(\n",
    "    value=False,\n",
    "    description=\"Download CSV\",\n",
    "    disabled=False,\n",
    "    button_style=\"\",  # 'success', 'info', 'warning', 'danger' or ''\n",
    "    tooltip=\"Description\",\n",
    "    icon=\"check\",\n",
    ")\n",
    "\n",
    "init_start = datetime.date(2017, 3, 17)\n",
    "init_end = datetime.date(2017, 9, 17)\n",
    "start = DatePicker(description=\"Start Date\", disabled=False, value=init_start)\n",
    "end = DatePicker(description=\"End Date\", disabled=False, value=init_end)\n",
    "secret = Text(\n",
    "    value=\"\", placeholder=\"hub secret key\", description=\"Secret:\", disabled=False\n",
    ")\n",
    "\n",
    "databaseW = Select(options=[UCDAVIS_DB, DESCHUTES_DB], layout=Layout(height=\"60px\"))\n",
    "db_init = databaseW.value\n",
    "\n",
    "\n",
    "def select_asset(database):\n",
    "    global building_ceeds_dvid\n",
    "    building_ceeds_dvid = building_ceeds_dvids[database]\n",
    "    buildingW.options = building_ceeds_dvid.keys()\n",
    "\n",
    "\n",
    "buildingW = Select(\n",
    "    options=building_ceeds_dvid.keys(), layout=Layout(width=\"40%\", height=\"180px\")\n",
    ")\n",
    "init = buildingW.value\n",
    "ceedW = Select(options=building_ceeds_dvid[init])\n",
    "\n",
    "\n",
    "def print_ceed(dataview):\n",
    "    print(f\"Current dataview: {dataview}\")\n",
    "\n",
    "\n",
    "from IPython.display import FileLink\n",
    "\n",
    "\n",
    "df_count = read_df_count()\n",
    "df_filename = f\"./dataview-result-{df_count}.csv\"\n",
    "os.system(f\"touch {df_filename}\")\n",
    "fl = FileLink(df_filename)\n",
    "\n",
    "\n",
    "def display_df_link():\n",
    "\n",
    "    return\n",
    "\n",
    "\n",
    "j = interactive(print_ceed, dataview=ceedW)\n",
    "i = interactive(select_ceed, asset=buildingW)\n",
    "l = interactive(select_asset, database=databaseW)\n",
    "# fi = display_df_link()  # interactive(display_link, link=df_count)\n",
    "\n",
    "\n",
    "out = Output()\n",
    "\n",
    "\n",
    "def my_append_stdout(message, end=\"\\n\"):\n",
    "    out.append_stdout(message + end)\n",
    "\n",
    "\n",
    "async def f():\n",
    "    out.append_stdout(\n",
    "        \"Click *Download CSV* button to get result CSV data with current parameters\\n\"\n",
    "    )\n",
    "    x = await wait_for_change(k, \"value\")\n",
    "    out.append_stdout(\n",
    "        f\"[ {buildingW.value} | {ceedW.value} | {start.value} | {end.value} | {building_ceeds_dvid[buildingW.value][ceedW.value]} ]\\n\"\n",
    "    )\n",
    "    out.append_stdout(f\"Working on getting data from OCS...\\n\")\n",
    "\n",
    "    with out:\n",
    "        if True: # not ask_for_secret:  # os.environ.get(\"OCS_HUB_CONFIG\", False):\n",
    "            hub_client = HubClient()\n",
    "        else:\n",
    "            if len(secret.value) != 44 and secret.value != cheat_key:\n",
    "                out.append_stdout(\n",
    "                    f\"@@@@ key missing or incorrect length (must be 44, got {len(secret.value)})\\n\"\n",
    "                )\n",
    "                out.append_stdout(f\"@@@@ refresh this page to start over\\n\")\n",
    "                out.append_stdout(\n",
    "                    f\"@@@@ --------------------------------------------------------\\n\"\n",
    "                )\n",
    "                return\n",
    "            secret_key = (\n",
    "                \"eLun6/9tvplOM4wtOV0G4moA7u2T0NNB8N28y0UNesc=\"\n",
    "                if secret.value == cheat_key\n",
    "                else secret.value\n",
    "            )\n",
    "\n",
    "            config = f\"config-{df_count}.ini\"\n",
    "            os.environ[\"OCS_HUB_CONFIG\"] = config\n",
    "            with open(config, \"w\") as f:\n",
    "                f.write(\n",
    "                    f\"\"\"\n",
    "; IMPORTANT: replace these values with those provided by OSIsoft\n",
    "[Access]\n",
    "Resource = https://dat-b.osisoft.com\n",
    "Tenant = 65292b6c-ec16-414a-b583-ce7ae04046d4\n",
    "ApiVersion = v1\n",
    "\n",
    "[Credentials]\n",
    "ClientId = b6cd8dd9-eb08-475e-ac51-fbdc76fdc8f2\n",
    "ClientSecret = {secret_key}\n",
    "\"\"\"\n",
    "                )\n",
    "            hub_client = HubClient()\n",
    "        df = hub_client.dataview_interpolated_pd(\n",
    "            namespace_of(databaseW.value),\n",
    "            building_ceeds_dvid[buildingW.value][ceedW.value],\n",
    "            str(start.value),\n",
    "            str(end.value),\n",
    "            interval=\"00:10:00\",\n",
    "        )\n",
    "    # out.append_stdout(f\"df={df}\\n\")\n",
    "    out.append_stdout(f\"OK to click link below to download CSV \\n\")\n",
    "    try:\n",
    "        fl = display(\n",
    "            csv_download_link(\n",
    "                df,\n",
    "                f\"{os.getcwd()}/dataview-result-{df_count}.csv\",  # {building_ceeds_dvid[buildingW.value][ceedW.value]}\n",
    "                delete_prompt=False,\n",
    "            )\n",
    "        )\n",
    "    except Exception as e:\n",
    "        out.append_stdout(f\"@@@ exc={e}\\n\")\n",
    "\n",
    "    out.append_stdout(f\"Download status OK\\n\")\n",
    "\n",
    "\n",
    "asyncio.ensure_future(f())\n",
    "\n",
    "display(l)\n",
    "display(i)\n",
    "display(j)\n",
    "display(start)\n",
    "display(end)\n",
    "# if ask_for_secret:\n",
    "#    display(secret)\n",
    "display(k)\n",
    "display(out)\n",
    "display(fl)"
   ]
  },
  {
   "cell_type": "code",
   "execution_count": null,
   "metadata": {},
   "outputs": [],
   "source": []
  }
 ],
 "metadata": {
  "kernelspec": {
   "display_name": "Python 3",
   "language": "python",
   "name": "python3"
  },
  "language_info": {
   "codemirror_mode": {
    "name": "ipython",
    "version": 3
   },
   "file_extension": ".py",
   "mimetype": "text/x-python",
   "name": "python",
   "nbconvert_exporter": "python",
   "pygments_lexer": "ipython3",
   "version": "3.7.9"
  },
  "toc": {
   "base_numbering": 1,
   "nav_menu": {},
   "number_sections": true,
   "sideBar": true,
   "skip_h1_title": false,
   "title_cell": "Table of Contents",
   "title_sidebar": "Contents",
   "toc_cell": false,
   "toc_position": {},
   "toc_section_display": true,
   "toc_window_display": false
  }
 },
 "nbformat": 4,
 "nbformat_minor": 4
}
