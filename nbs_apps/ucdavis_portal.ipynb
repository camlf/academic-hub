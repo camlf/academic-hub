{
 "cells": [
  {
   "cell_type": "code",
   "execution_count": 1,
   "metadata": {},
   "outputs": [],
   "source": [
    "%gui asyncio"
   ]
  },
  {
   "cell_type": "code",
   "execution_count": 2,
   "metadata": {},
   "outputs": [],
   "source": [
    "import yaml\n",
    "import asyncio\n",
    "from ocs_academic_hub import HubClient"
   ]
  },
  {
   "cell_type": "code",
   "execution_count": 3,
   "metadata": {},
   "outputs": [
    {
     "name": "stdout",
     "output_type": "stream",
     "text": [
      "env: OCS_HUB_CONFIG=config-dv.ini\n",
      "> configuration file: config-dv.ini\n"
     ]
    }
   ],
   "source": [
    "%env OCS_HUB_CONFIG=config-dv.ini\n",
    "\n",
    "hub_client = HubClient()"
   ]
  },
  {
   "cell_type": "code",
   "execution_count": 4,
   "metadata": {},
   "outputs": [],
   "source": [
    "with open(\"ucdavis-building-ceed-dv.yaml\", \"r\") as stream:\n",
    "    building_ceeds_dvid = yaml.safe_load(stream)\n",
    "# list(building_ceeds_dvid.keys())\n",
    "# with open(\"deschutes-dv.yaml\") as stream:\n",
    "#    deschutes_dvid = yaml.safe_load(stream)\n",
    "deschutes_dvid = {f\"Fermenter #{i}\": {  }  for i in range(31, 37)}\n",
    "for k in deschutes_dvid.keys():\n",
    "    fv_id = k[-2:]\n",
    "    for dv in [\"ADF_Prediction\", \"Cooling_Prediction\", \"PCA\"]:\n",
    "        deschutes_dvid[k][dv] = f\"HubDV_{dv}_fv{fv_id}\"\n",
    "# deschutes_dvid\n",
    "# building_ceeds_dvid = deschutes_dvid\n",
    "namespace_id = \"UC__Davis\"  # \"UC__Davis\""
   ]
  },
  {
   "cell_type": "code",
   "execution_count": 5,
   "metadata": {},
   "outputs": [],
   "source": [
    "from ipywidgets import ToggleButton, DatePicker, Select, interactive, Layout, Output\n",
    "from IPython.display import display\n",
    "import datetime"
   ]
  },
  {
   "cell_type": "markdown",
   "metadata": {},
   "source": [
    "![](https://academichub.blob.core.windows.net/images/plain_blue_banner_v2.png)\n",
    "\n",
    "#### To learn more about OSIsoft Academic Hub, click [here](https://academichub.blob.core.windows.net/images/PDF%20for%20CSV%20GUI%20-%20V%201.1.pdf)\n",
    "\n",
    "## Steps to download a CSV \n",
    "\n",
    "1. Select an Asset \n",
    "2. Select a Data View\n",
    "3. Pick Start and End Dates\n",
    "4. Click **Download CSV** to download a result CSV with requested data\n",
    "\n",
    "NOTE: to download another CSV, reload this web page"
   ]
  },
  {
   "cell_type": "code",
   "execution_count": 6,
   "metadata": {},
   "outputs": [],
   "source": [
    "def wait_for_change(widget, value):\n",
    "    future = asyncio.Future()\n",
    "\n",
    "    def getvalue(change):\n",
    "        # make the new value available\n",
    "        future.set_result(change.new)\n",
    "        widget.unobserve(getvalue, value)\n",
    "\n",
    "    widget.observe(getvalue, value)\n",
    "    return future"
   ]
  },
  {
   "cell_type": "code",
   "execution_count": 10,
   "metadata": {},
   "outputs": [
    {
     "data": {
      "application/vnd.jupyter.widget-view+json": {
       "model_id": "54f30940852f4512b2cd1b0f65d5bf4b",
       "version_major": 2,
       "version_minor": 0
      },
      "text/plain": [
       "interactive(children=(Select(description='asset', layout=Layout(height='120px', width='40%'), options=('Fermen…"
      ]
     },
     "metadata": {},
     "output_type": "display_data"
    },
    {
     "data": {
      "application/vnd.jupyter.widget-view+json": {
       "model_id": "bcfc6c65c5984542b3defe3910e6ba50",
       "version_major": 2,
       "version_minor": 0
      },
      "text/plain": [
       "interactive(children=(Select(description='dataview', options=('ADF_Prediction', 'Cooling_Prediction', 'PCA'), …"
      ]
     },
     "metadata": {},
     "output_type": "display_data"
    },
    {
     "data": {
      "application/vnd.jupyter.widget-view+json": {
       "model_id": "2b76254cb0894520a3ccbf9226b0f023",
       "version_major": 2,
       "version_minor": 0
      },
      "text/plain": [
       "DatePicker(value=datetime.date(2017, 3, 17), description='Start Date')"
      ]
     },
     "metadata": {},
     "output_type": "display_data"
    },
    {
     "data": {
      "application/vnd.jupyter.widget-view+json": {
       "model_id": "89dfd1aacbad4f83ab8310c155871141",
       "version_major": 2,
       "version_minor": 0
      },
      "text/plain": [
       "DatePicker(value=datetime.date(2017, 9, 17), description='End Date')"
      ]
     },
     "metadata": {},
     "output_type": "display_data"
    },
    {
     "data": {
      "application/vnd.jupyter.widget-view+json": {
       "model_id": "24ca1c11c79848e585287e1147e1bc68",
       "version_major": 2,
       "version_minor": 0
      },
      "text/plain": [
       "ToggleButton(value=False, description='Download CSV', icon='check', tooltip='Description')"
      ]
     },
     "metadata": {},
     "output_type": "display_data"
    },
    {
     "data": {
      "application/vnd.jupyter.widget-view+json": {
       "model_id": "049159846a7a443f9cfa92faa7adae55",
       "version_major": 2,
       "version_minor": 0
      },
      "text/plain": [
       "Output()"
      ]
     },
     "metadata": {},
     "output_type": "display_data"
    }
   ],
   "source": [
    "def select_ceed(asset):\n",
    "    ceedW.options = building_ceeds_dvid[asset].keys()\n",
    "\n",
    "\n",
    "k = ToggleButton(\n",
    "    value=False,\n",
    "    description=\"Download CSV\",\n",
    "    disabled=False,\n",
    "    button_style=\"\",  # 'success', 'info', 'warning', 'danger' or ''\n",
    "    tooltip=\"Description\",\n",
    "    icon=\"check\",\n",
    ")\n",
    "\n",
    "init_start = datetime.date(2017, 3, 17)\n",
    "init_end = datetime.date(2017, 9, 17)\n",
    "start = DatePicker(description=\"Start Date\", disabled=False, value=init_start)\n",
    "end = DatePicker(description=\"End Date\", disabled=False, value=init_end)\n",
    "\n",
    "\n",
    "buildingW = Select(\n",
    "    options=building_ceeds_dvid.keys(), layout=Layout(width=\"40%\", height=\"120px\")\n",
    ")\n",
    "init = buildingW.value\n",
    "ceedW = Select(options=building_ceeds_dvid[init])\n",
    "\n",
    "\n",
    "def print_ceed(dataview):\n",
    "    pass\n",
    "    # print(buildingW.value, dataview)\n",
    "\n",
    "\n",
    "j = interactive(print_ceed, dataview=ceedW)\n",
    "i = interactive(select_ceed, asset=buildingW)\n",
    "\n",
    "out = Output()\n",
    "\n",
    "\n",
    "def my_append_stdout(message, end=\"\\n\"):\n",
    "    out.append_stdout(message + end)\n",
    "\n",
    "\n",
    "async def f():\n",
    "    out.append_stdout(\n",
    "        \"Click *Download CSV* button to get result CSV data with current parameters\\n\"\n",
    "    )\n",
    "    x = await wait_for_change(k, \"value\")\n",
    "    out.append_stdout(\"working on getting data from OCS...\\n\")\n",
    "    # status = load_extract_transfer(\n",
    "    #     upload.value, api_key=api_key.value, timestamp_format=timestamp_format.value\n",
    "    # )\n",
    "    out.append_stdout(\n",
    "        f\"[ {buildingW.value} | {ceedW.value} | {start.value} | {end.value} | {building_ceeds_dvid[buildingW.value][ceedW.value]} ]\\n\"\n",
    "    )\n",
    "    with out:\n",
    "        df = hub_client.dataview_interpolated_pd(namespace_id, building_ceeds_dvid[buildingW.value][ceedW.value], str(start.value), str(end.value), interval=\"00:30:00\")\n",
    "    out.append_stdout(f\"df={df}\\n\")\n",
    "    \n",
    "    out.append_stdout(f\"Download status OK\\n\")\n",
    "\n",
    "\n",
    "asyncio.ensure_future(f())\n",
    "\n",
    "\n",
    "display(i)\n",
    "display(j)\n",
    "display(start)\n",
    "display(end)\n",
    "display(k)\n",
    "display(out)"
   ]
  },
  {
   "cell_type": "code",
   "execution_count": null,
   "metadata": {},
   "outputs": [],
   "source": []
  }
 ],
 "metadata": {
  "kernelspec": {
   "display_name": "Python 3",
   "language": "python",
   "name": "python3"
  },
  "language_info": {
   "codemirror_mode": {
    "name": "ipython",
    "version": 3
   },
   "file_extension": ".py",
   "mimetype": "text/x-python",
   "name": "python",
   "nbconvert_exporter": "python",
   "pygments_lexer": "ipython3",
   "version": "3.7.3"
  }
 },
 "nbformat": 4,
 "nbformat_minor": 4
}
