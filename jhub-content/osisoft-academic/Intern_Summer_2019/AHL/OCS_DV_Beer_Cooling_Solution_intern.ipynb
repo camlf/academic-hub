{
 "cells": [
  {
   "cell_type": "markdown",
   "metadata": {
    "pycharm": {
     "metadata": false,
     "name": "#%%\n"
    }
   },
   "source": [
    "# Beer Cooling Modeling - Solution - Bifrost-OCS Interpolation \n",
    "\n",
    "---\n",
    "## NOTE: This notebook has been modified to support the latest version of Dataviews and SDS interpolation. More specifically:\n",
    "\n",
    "## * Digital state error are returned as null (empty string) from Dataviews, they are mapped to 'Bad Input' string before storage into a panda dataframe; \n",
    "\n",
    "## * User-defined digital states are returned as integer value instead of a string. \n",
    "---\n",
    "\n",
    "Using the same dataset as for the ADF Prediction Demo notebook, this time we'll model the cooling phase. Similarly to the ADF Prediction with fermentation stages, this time we should identify cooling stages and compute elapsed times to align the data for regression and comparison. \n",
    "\n",
    "![Beer Cooling](https://academicpi.blob.core.windows.net/software/beer-cooling-setting.png)"
   ]
  },
  {
   "cell_type": "raw",
   "metadata": {
    "pycharm": {
     "metadata": false,
     "name": "#%%\n"
    }
   },
   "source": [
    "# Execute once - once installed, those libraries are always available for all notebooks, even after restarts\n",
    "!pip install -i https://test.pypi.org/simple/ ocs-academic-hub==0.23.0 && pip install ocs-sample_library_preview"
   ]
  },
  {
   "cell_type": "code",
   "execution_count": 1,
   "metadata": {
    "pycharm": {
     "metadata": false,
     "name": "#%%\n"
    }
   },
   "outputs": [
    {
     "name": "stdout",
     "output_type": "stream",
     "text": [
      "Requirement already satisfied: ocs-sample_library_preview in /opt/conda/lib/python3.7/site-packages (0.0.19rc0)\n",
      "Requirement already satisfied: requests==2.21.0 in /opt/conda/lib/python3.7/site-packages (from ocs-sample_library_preview) (2.21.0)\n",
      "Requirement already satisfied: urllib3<1.25,>=1.21.1 in /opt/conda/lib/python3.7/site-packages (from requests==2.21.0->ocs-sample_library_preview) (1.24.2)\n",
      "Requirement already satisfied: chardet<3.1.0,>=3.0.2 in /opt/conda/lib/python3.7/site-packages (from requests==2.21.0->ocs-sample_library_preview) (3.0.4)\n",
      "Requirement already satisfied: idna<2.9,>=2.5 in /opt/conda/lib/python3.7/site-packages (from requests==2.21.0->ocs-sample_library_preview) (2.8)\n",
      "Requirement already satisfied: certifi>=2017.4.17 in /opt/conda/lib/python3.7/site-packages (from requests==2.21.0->ocs-sample_library_preview) (2019.3.9)\n"
     ]
    }
   ],
   "source": [
    "!pip install ocs-sample_library_preview"
   ]
  },
  {
   "cell_type": "code",
   "execution_count": 2,
   "metadata": {
    "pycharm": {
     "metadata": false,
     "name": "#%%\n"
    }
   },
   "outputs": [],
   "source": [
    "# For interaction with OCS\n",
    "from ocs_academic_hub import HubClient, timer\n",
    "\n",
    "import configparser\n",
    "import datetime as dt\n",
    "from dateutil import parser\n",
    "from enum import Enum\n",
    "\n",
    "import plotly.graph_objs as go\n",
    "import plotly.io as po\n",
    "import numpy as np\n",
    "import pandas as pd\n",
    "from scipy.optimize import curve_fit\n",
    "\n",
    "pd.set_option(\"display.expand_frame_repr\", False)\n",
    "pd.options.mode.chained_assignment = None"
   ]
  },
  {
   "cell_type": "markdown",
   "metadata": {
    "pycharm": {
     "metadata": false,
     "name": "#%%\n"
    }
   },
   "source": [
    "The main function is `compute_cooling_predictions` with the following specification: \n",
    "\n",
    "### Input parameters:\n",
    "\n",
    "* Brand of beer\n",
    "* Which set of temperature sensor to use: bottom, middle, top\n",
    "* Training days: how many days (starting at 2017-03-17) to consider for cooling curve regression\n",
    "\n",
    "### Output: \n",
    "\n",
    "* Data used for regression\n",
    "* Data for regression curve \n",
    "* Number of fermentation found (must be at least 1) \n",
    "\n",
    "### Function steps (the number are referred to in the function body)\n",
    "\n",
    "| Step # | Function called | Description |  \n",
    "|-------|-----------------|:-------------:|\n",
    "| 0 | `get_all_brand_data` | get data for all 6 fermenter (this step happens before calling `compute_cooling_predictions`) |\n",
    "| 1 | none | keep only data of the selected brand given in input | \n",
    "| 2 | `brand_df_cleanup` | clean data: remove bad values, keep only right stages | \n",
    "| 3 | `fermentation_starts` | identify all fermentation starts | \n",
    "| 4 | `cooling_data_extraction` | build a dataframe with all cooling data \n",
    " \n",
    "All possible beer brands are:\n",
    "* Realtime Hops (3)\n",
    "* 5450\n",
    "* Alistair\n",
    "* Kerberos\n",
    "* Red Wonder \n",
    "* Grey Horse \n",
    "\n",
    "We'll start with the following input parameters: \n",
    "\n",
    "* Brand: Realtime Hops\n",
    "* Temperature sensor: Middle\n",
    "* Training days: 20 days starting at 2017-03-17T07:00\n",
    "* Interval: 2 minutes (00:02:00)\n",
    "\n",
    "## Your task \n",
    "\n",
    "Function `compute_cooling_predictions` in the next cell contains `TODO` items in comments. Complete each of them to get a working notebook. If your code is correct, you should see the following graph appear at the bottom of this notebook:\n",
    "\n",
    "![Beer Cooling Prediction](https://academicpi.blob.core.windows.net/software/beer-cooling-prediction.png)"
   ]
  },
  {
   "cell_type": "markdown",
   "metadata": {
    "pycharm": {}
   },
   "source": [
    "## Function `compute_cooling_predictions`"
   ]
  },
  {
   "cell_type": "code",
   "execution_count": 3,
   "metadata": {
    "pycharm": {}
   },
   "outputs": [],
   "source": [
    "# %%debug\n",
    "# import pdb\n",
    "# from pdb import set_trace as bp\n",
    "@timer\n",
    "def compute_cooling_predictions(all_brands_df, brand, temp_sensors, training_days, interval='00:01:00'):\n",
    "    \"\"\"\n",
    "    Input parameters:\n",
    "    * brand to consider\n",
    "    * temperature sensor position to use for computation\n",
    "    * number of days to compute prediction parameters\n",
    "    \"\"\"\n",
    "    # All possible brands, start with Realtime Hops \n",
    "    # ['5450' 'Bad Input' 5450 nan 'Alistair' 'Kerberos' 'Realtime Hops'\n",
    "    #  'Red Wonder' 'Grey Horse']\n",
    "    use_temp_position = {\n",
    "        Pos.bottom: temp_sensors['bottom'],\n",
    "        Pos.middle: temp_sensors['middle'],\n",
    "        Pos.top: temp_sensors['top']\n",
    "    }\n",
    "    # STEP 1: Keep only data for input brand\n",
    "    # TODO: write filter expression for all_brands_df, return result in brand_df\n",
    "    # \n",
    "    # =========== STUDENT BEGIN ==========\n",
    "    brand_df = all_brands_df[all_brands_df['Brand'] == brand] \n",
    "    # =========== STUDENT END ==========\n",
    "    # \n",
    "    # STEP 2: clean data: remove bad values, keep only right stages\n",
    "    # TODO: complete code block within function brand_df_cleanup \n",
    "    # \n",
    "    brand_status_df = brand_df_cleanup(brand_df)\n",
    "    # \n",
    "    # STEP 3: identify all fermentation starts\n",
    "    # TODO: complete code of function fermentation_starts \n",
    "    #\n",
    "    fermentation_df = fermentation_starts(brand_status_df)\n",
    "    #\n",
    "    if len(fermentation_df) == 0:  \n",
    "        raise Exception('!!! No fermentation data for brand:', brand)\n",
    "    else:\n",
    "        print(f'  @@@ Number of fermentation for brand {brand}: {len(fermentation_df)}')\n",
    "    # \n",
    "    # STEP 4: build a dataframe with all cooling data \n",
    "    # TODO: complete code of function cooling_data_extraction\n",
    "    #\n",
    "    cooling_data = cooling_data_extraction(fermentation_df, brand_status_df, use_temp_position)\n",
    "    # print(cooling_data)\n",
    "    # \n",
    "    # Verify that it was possible to extract the data for a complete cooling phase \n",
    "    # \n",
    "    if len(cooling_data) == 0:\n",
    "        raise Exception('!!! Error, no cooling data for brand:', brand)\n",
    "    else:       \n",
    "        ############### CURVE FIT REGRESSION BEGIN - DO NOT CHANGE #############\n",
    "        # Get all cooling data in a single dataframe\n",
    "        cool_df = pd.concat(cooling_data)\n",
    "\n",
    "        # sort the temperatures in a descending fashion\n",
    "        cool_df = cool_df.sort_values(by=['temperature'], ascending=False)\n",
    "\n",
    "        # get the y value for the x, this will be used in curve fitting\n",
    "        cool_df['temp_y'] = cool_df['temperature'].shift(-1)\n",
    "        cool_df = cool_df[:-1]  # drop the last row\n",
    "\n",
    "        # Select first label which has cooling data\n",
    "        cool_df_training = pd.DataFrame()\n",
    "        lbl = 0\n",
    "        while cool_df_training.empty:\n",
    "            cool_df_training = cool_df[cool_df.label == lbl]\n",
    "            lbl += 1\n",
    "        print(cool_df_training.Volume.unique())    \n",
    "        x1_train = cool_df_training.temperature.values  # training temperature feature\n",
    "        x2_train = cool_df_training.Volume.values.astype(float)  # training Volume feature\n",
    "        x = [x1_train, x2_train]  # [temperature, volume]\n",
    "\n",
    "        # Training of non-linear least squares model\n",
    "        # Nonlinear curve-fitting pass a tuple in curve fitting\n",
    "        popt, pcov = curve_fit(temperature_profile, x, cool_df_training.temp_y.values) \n",
    "        \n",
    "        a = popt[0]  # get the coefficient a (alpha) in the model\n",
    "        b = popt[1]  # get the coefficient b (beta) in the model\n",
    " \n",
    "        # Get the initial point of all temperature curves\n",
    "        # y_first = [x1_train[0] + i for i in range(-8, 9, 4)]  # plot on either side of the initial temperature\n",
    "        y_first = [x1_train[0]]  # if you want to plot a single data field\n",
    "\n",
    "        # Compute the prediction for each individual start temperature\n",
    "        for y_predicted in y_first:\n",
    "            y_pred = [y_predicted]\n",
    "            cool_df_training = cool_df_training.sort_values(by=['tsc'])\n",
    "            for i in range(1, len(x2_train)):\n",
    "                y_predicted = y_predicted * (1 + (a / x2_train[i])) - (a * b / x2_train[i])\n",
    "                y_pred.append(y_predicted)\n",
    "                \n",
    "        ############### CURVE FIT REGRESSION END - DO NOT CHANGE #############\n",
    "\n",
    "    return cool_df, y_pred, cool_df_training, y_first[0], len(fermentation_df), len(cooling_data)"
   ]
  },
  {
   "cell_type": "markdown",
   "metadata": {
    "pycharm": {}
   },
   "source": [
    "### Standard OCS initialization code"
   ]
  },
  {
   "cell_type": "code",
   "execution_count": 4,
   "metadata": {
    "pycharm": {}
   },
   "outputs": [
    {
     "data": {
      "text/plain": [
       "'fermenter_vessels'"
      ]
     },
     "execution_count": 4,
     "metadata": {},
     "output_type": "execute_result"
    }
   ],
   "source": [
    "config = configparser.ConfigParser()\n",
    "config.read(\"config.ini\")\n",
    "\n",
    "hub_client = HubClient(\n",
    "    config.get(\"Access\", \"ApiVersion\"),\n",
    "    config.get(\"Access\", \"Tenant\"),\n",
    "    config.get(\"Access\", \"Resource\"),\n",
    "    config.get(\"Credentials\", \"ClientId\"),\n",
    "    config.get(\"Credentials\", \"ClientSecret\"),\n",
    ")\n",
    "\n",
    "namespace_id = config.get(\"Configurations\", \"Namespace\")\n",
    "namespace_id"
   ]
  },
  {
   "cell_type": "markdown",
   "metadata": {
    "pycharm": {}
   },
   "source": [
    "### Auxiliary variables to make code more readable "
   ]
  },
  {
   "cell_type": "code",
   "execution_count": 5,
   "metadata": {
    "pycharm": {}
   },
   "outputs": [],
   "source": [
    "# Sensor positions \n",
    "class Pos(Enum):\n",
    "    bottom = 1\n",
    "    middle = 2\n",
    "    top = 3\n",
    "\n",
    "# Legend: \n",
    "# TIC == Temperature Indicator Controller, PV == Process Value\n",
    "\n",
    "# TIC PV column names \n",
    "TIC_PV_COLUMNS = ['Bottom TIC PV', 'Middle TIC PV', 'Top TIC PV']\n",
    "# Dictionary of column names indexed by position \n",
    "process_value = {Pos.bottom: 'Bottom TIC PV', Pos.middle: 'Middle TIC PV', Pos.top: 'Top TIC PV'}\n",
    "\n",
    "# TIC OUT column names \n",
    "TIC_OUT_COLUMNS = ['Bottom TIC OUT', 'Middle TIC OUT', 'Top TIC OUT'] \n",
    "\n",
    "# Digital states - present in Dataview results, indicates a problem\n",
    "BAD_INPUT = 'Bad Input'"
   ]
  },
  {
   "cell_type": "markdown",
   "metadata": {
    "pycharm": {}
   },
   "source": [
    "## NOTE: USING_OCS_DATAVIEWS should be set to True for the modifications described at the top of this notebook to kick in "
   ]
  },
  {
   "cell_type": "code",
   "execution_count": 6,
   "metadata": {
    "pycharm": {}
   },
   "outputs": [],
   "source": [
    "FERMENTATION_STAGE = 'Fermentation'\n",
    "# All stages associated to the full cooling phase \n",
    "POST_FERMENTATION_STAGES = ['Fermentation', 'Free Rise', 'Diacetyl Rest', 'Cooling']\n",
    "\n",
    "USING_OCS_DATAVIEWS = True\n",
    "if not USING_OCS_DATAVIEWS:     \n",
    "    IO_TIMEOUT = 'I/O Timeout'\n",
    "    COMM_FAIL = 'Comm Fail'\n",
    "    # All stages associated to the full cooling phase \n",
    "    #                                 7              9              10           11\n",
    "    POST_FERMENTATION_STAGES = ['Fermentation', 'Free Rise', 'Diacetyl Rest', 'Cooling']\n",
    "else:\n",
    "    # All 'null' values indicating a system digital state are mapped to 'Bad Input' by our code\n",
    "    IO_TIMEOUT = BAD_INPUT\n",
    "    COMM_FAIL = BAD_INPUT"
   ]
  },
  {
   "cell_type": "markdown",
   "metadata": {
    "pycharm": {}
   },
   "source": [
    "### STEP 0 Cell: get fermenter vessels data \n",
    "\n",
    "Complete function `get_all_brand_data` using what you've seen in the ADF Prediction notebook"
   ]
  },
  {
   "cell_type": "code",
   "execution_count": 7,
   "metadata": {
    "pycharm": {}
   },
   "outputs": [],
   "source": [
    "@timer\n",
    "def get_all_brand_data(num_days, start_timestamp, interval):\n",
    "    #\n",
    "    # \n",
    "    # TODO: complete code to return a single dataframe with all the required data \n",
    "    #   \n",
    "    # =========== STUDENT BEGIN ==========\n",
    "    start_time = parser.parse(start_timestamp)\n",
    "    delta_time = dt.timedelta(days=num_days)\n",
    "    end_timestamp = (start_time + delta_time).isoformat()\n",
    "    df = ocs_client.get_all_fermenters_dataviews(start_timestamp, end_timestamp, interval)\n",
    "    # =========== STUDENT END ==========\n",
    "    \n",
    "    return df \n",
    "\n",
    "# Test code \n",
    "# all_brands_df = get_all_brand_data(20, '2017-03-17T07:00', '00:01:00')\n",
    "# all_brands_df"
   ]
  },
  {
   "cell_type": "markdown",
   "metadata": {
    "pycharm": {}
   },
   "source": [
    "### STEP 2 Cell: clean data \n",
    "\n",
    "Complete each `TODO` section in the function `brand_df_cleanup`"
   ]
  },
  {
   "cell_type": "code",
   "execution_count": 8,
   "metadata": {
    "pycharm": {}
   },
   "outputs": [],
   "source": [
    "@timer\n",
    "def brand_df_cleanup(brand_df):\n",
    "    # TODO: Remove all data point with bad input. \n",
    "    # All the following columns can have value BAD_INPUT: \n",
    "    #   Brand, Status, Bottom TIC PV, Middle TIC PV, Top TIC PV, Volume\n",
    "    #     \n",
    "    brand_df = brand_df.drop(brand_df[brand_df['Brand'] == BAD_INPUT].index)\n",
    "    brand_df = brand_df.drop(brand_df[brand_df['Status'] == BAD_INPUT].index)\n",
    "    brand_df = brand_df.drop(brand_df[brand_df['Top TIC PV'] == BAD_INPUT].index)\n",
    "    # =========== STUDENT BEGIN ==========\n",
    "    brand_df = brand_df.drop(brand_df[brand_df['Middle TIC PV'] == BAD_INPUT].index) \n",
    "    brand_df = brand_df.drop(brand_df[brand_df['Bottom TIC PV'] == BAD_INPUT].index)\n",
    "    brand_df = brand_df.drop(brand_df[brand_df['Volume'] == BAD_INPUT].index)\n",
    "    # =========== STUDENT END ==========\n",
    "\n",
    "    # Keep only fermentation or post-fermentation stages\n",
    "    brand_status_df = brand_df[brand_df['Status'].isin(POST_FERMENTATION_STAGES)]\n",
    "\n",
    "    # Remove all data points from brand_status_df dataframe with communication issues\n",
    "    # TODO: for columns in TIC_PV_COLUMNS, remove all rows with communication failures status (COMM_FAIL)\n",
    "    #            and IO timeout (IO_TIMEOUT) \n",
    "    for tic_pv in TIC_PV_COLUMNS:\n",
    "        # =========== STUDENT BEGIN ==========\n",
    "        brand_status_df = brand_status_df.drop(brand_status_df[brand_status_df[tic_pv] == IO_TIMEOUT].index)\n",
    "        brand_status_df = brand_status_df.drop(brand_status_df[brand_status_df[tic_pv] == COMM_FAIL].index)\n",
    "        # =========== STUDENT END ==========\n",
    "        brand_status_df[tic_pv] = brand_status_df[tic_pv].astype(float)\n",
    "\n",
    "    return brand_status_df"
   ]
  },
  {
   "cell_type": "markdown",
   "metadata": {
    "pycharm": {}
   },
   "source": [
    "### STEP 3 Cell: get the list of rows when fermentation starts \n",
    "\n",
    "You need to identify rows where the Status is 'Fermentation' and the previous row is not 'Fermentation'. The syntax to access the status of the previous row is:\n",
    "\n",
    "    brand_df['Status'].shift(1)\n",
    "    \n",
    "Moreover it is possible to combine conditions to select dataframe rows with the syntax:\n",
    "\n",
    "    (condition1) & (condition2)"
   ]
  },
  {
   "cell_type": "code",
   "execution_count": 9,
   "metadata": {
    "pycharm": {}
   },
   "outputs": [],
   "source": [
    "# Return the list of rows when fermentation start for a brand\n",
    "@timer \n",
    "def fermentation_starts(brand_df):\n",
    "    # =========== STUDENT BEGIN ==========\n",
    "    df = brand_df[(brand_df['Status'] == FERMENTATION_STAGE) & (brand_df['Status'].shift(1) != FERMENTATION_STAGE)]\n",
    "    # =========== STUDENT END ==========\n",
    "    fermentation_starts = [row for _, row in df.iterrows()]\n",
    "    return fermentation_starts"
   ]
  },
  {
   "cell_type": "markdown",
   "metadata": {
    "pycharm": {}
   },
   "source": [
    "### STEP 4: Extract all rows related to cooling phase"
   ]
  },
  {
   "cell_type": "code",
   "execution_count": 10,
   "metadata": {
    "pycharm": {}
   },
   "outputs": [],
   "source": [
    "@timer\n",
    "def cooling_data_extraction(fermentation_df, brand_status_df, use_temp_position):\n",
    "    # Provides the corrected time offset post fermentation\n",
    "    brand_status_df = fermentation_times(brand_status_df, fermentation_df, brand)\n",
    "\n",
    "    for tic_out in TIC_OUT_COLUMNS:\n",
    "        brand_status_df[tic_out] = pd.to_numeric(brand_status_df[tic_out], errors='coerce')\n",
    "        \n",
    "    # condition for it to be in cooling phase\n",
    "    # TODO: the condition is that 'Top TIC OUT', 'Middle TIC OUT' and 'Bottom TIC OUT' are above 99.99\n",
    "    #          \n",
    "    # =========== STUDENT BEGIN ==========\n",
    "    cool_stage = brand_status_df[\n",
    "        (brand_status_df['Top TIC OUT'] > 99.99) &\n",
    "        (brand_status_df['Middle TIC OUT'] > 99.99) &\n",
    "        (brand_status_df['Bottom TIC OUT'] > 99.99)\n",
    "    ]\n",
    "    # =========== STUDENT END ==========\n",
    "\n",
    "    # get the first cooling step for each fermentation stage\n",
    "    cooling_start_frame = cool_stage.groupby('label').first().reset_index()\n",
    "\n",
    "    # Collect data only for the selected temperature position \n",
    "    cooling_data = []\n",
    "    for position in use_temp_position:\n",
    "        if use_temp_position[position]:\n",
    "            cooling_data.append(get_cooling_frames(cool_stage, cooling_start_frame, position))\n",
    "\n",
    "    return cooling_data"
   ]
  },
  {
   "cell_type": "markdown",
   "metadata": {
    "pycharm": {}
   },
   "source": [
    "## Legacy code cell --- do not change unless you know what you're doing"
   ]
  },
  {
   "cell_type": "code",
   "execution_count": 11,
   "metadata": {
    "pycharm": {}
   },
   "outputs": [],
   "source": [
    "def get_cooling_frames(cool_stage, cooling_start_frame, position): \n",
    "    start_time = 0\n",
    "    end_time = 3.5  # in days, longest cooling period possible\n",
    "\n",
    "    cooling_column = 'Time since cooling'\n",
    "    cool_stage.loc[:, cooling_column] = -1\n",
    "    cooling_stage = pd.DataFrame()\n",
    "    if len(cooling_start_frame) > 0:\n",
    "        for index, row in cooling_start_frame.iterrows():\n",
    "            label = row['label2']  # get the unique label\n",
    "            cool_start_time = row['tsf3']  # get the unique start of cooling to each label\n",
    "            # Each unique label is associated with a fermentation stage for a brand\n",
    "            mask = (cool_stage['label2'] == label)  # get those rows with that same label\n",
    "            cool_stage_valid = cool_stage[mask]\n",
    "\n",
    "            tic_pv = process_value[position]\n",
    "            # get only frames that have the bottom process variable greater than 50\n",
    "            if float(row[tic_pv]) > 50:  # and keep [CF]\n",
    "                # subtract the start of cooling from each individual cooling step\n",
    "                cool_stage.loc[mask, cooling_column] = cool_stage_valid['tsf3'] - cool_start_time\n",
    "\n",
    "                cool_stage_current = cool_stage[(cool_stage[cooling_column] >= start_time) &\n",
    "                                                (cool_stage[cooling_column] < end_time)]\n",
    "                # make sure the labels are all positive, make sure these are post fermentation stages\n",
    "                cool_stage_current = cool_stage_current[cool_stage_current['label'] >= 0]\n",
    "                # get only the max of the post fermentation stages\n",
    "                cool_stage_current[tic_pv] = cool_stage_current.groupby([cooling_column])[tic_pv].transform(max)\n",
    "                cool_stage_current = cool_stage_current.rename(columns={tic_pv: 'temperature', cooling_column: 'tsc'})\n",
    "                cool_stage_current = cool_stage_current[['temperature', 'tsc', 'Brand', 'label', 'Volume']]\n",
    "                cooling_stage = cool_stage_current\n",
    "    else:\n",
    "        print(\"!!! Sorry no cooling stage found!\")\n",
    "\n",
    "    return cooling_stage\n",
    "\n",
    "# Get the time since fermentation\n",
    "@timer\n",
    "def fermentation_times(brand_frame, fermentation_frames, brand):\n",
    "    brand_frame['tsf2'] = 100000  # initializing the temp variables\n",
    "    brand_frame['tsf3'] = 100000  # init the temp variables\n",
    "    brand_frame['label'] = -1  # label is to label all fermentation processes\n",
    "    count = 0\n",
    "    for index, fermentation_frame in enumerate(fermentation_frames):\n",
    "        fermentation_time = fermentation_frame['Timestamp']\n",
    "        brand_frame['label'] = brand_frame['Timestamp'].apply(\n",
    "            lambda x: count if pd.Timestamp(x) >= pd.Timestamp(fermentation_time) else -1)\n",
    "        brand_frame['tsf2'] = brand_frame['Timestamp'].apply(\n",
    "            lambda x: ((pd.Timestamp(x)) - (pd.Timestamp(fermentation_time))).total_seconds() if pd.Timestamp(\n",
    "                x) >= pd.Timestamp(fermentation_time) else 1000000000)\n",
    "        brand_frame['tsf2'] = brand_frame['tsf2'].apply(lambda x: x / 86400)  # convert time to days\n",
    "        if count > 0:\n",
    "            # the min of the two is the actual time since fermentation start\n",
    "            brand_frame['tsf2'] = brand_frame[['tsf2', 'tsf3']].min(axis=1)\n",
    "            mask = (brand_frame['label'] == -1)\n",
    "            brand_frame_valid = brand_frame[mask]\n",
    "            brand_frame.loc[mask, 'label'] = brand_frame_valid['label2']\n",
    "\n",
    "        brand_frame['tsf3'] = brand_frame['tsf2']\n",
    "        brand_frame['label2'] = brand_frame['label']\n",
    "        count += 1\n",
    "\n",
    "    # if there is any zero just remove that\n",
    "    brand_frame = brand_frame[(brand_frame['tsf3'] <= 100000) & (brand_frame['label2'] >= 0)]\n",
    "\n",
    "    return brand_frame"
   ]
  },
  {
   "cell_type": "markdown",
   "metadata": {
    "pycharm": {}
   },
   "source": [
    "## Temperature equation\n",
    "\n",
    "The cell bellow implementation this equation:\n",
    "\n",
    "![Cooling equation](https://academicpi.blob.core.windows.net/software/cooling-equation.png)\n",
    "\n",
    "The curve fitting algorithm finds the value of `a` (alpha) and `b` (beta)"
   ]
  },
  {
   "cell_type": "code",
   "execution_count": 12,
   "metadata": {
    "pycharm": {}
   },
   "outputs": [],
   "source": [
    "def temperature_profile(x, a, b):\n",
    "    # Unpack x values\n",
    "    temperature = x[0]\n",
    "    volume = x[1]\n",
    "    return np.multiply(1 + np.multiply(a, np.reciprocal(volume)), temperature) - a * b * np.reciprocal(volume)"
   ]
  },
  {
   "cell_type": "markdown",
   "metadata": {
    "pycharm": {},
    "tags": [
     "parameters"
    ]
   },
   "source": [
    "---\n",
    "---\n",
    "# Main section - FOR UXIE \n",
    "---\n",
    "---\n",
    "Once all functions above are fully implemented, below are the cell to:\n",
    "\n",
    "1. Set the input parameters\n",
    "2. Read the input dataframe\n",
    "3. Call `compute_cooling_predictions`\n",
    "4. Plot result data\n",
    "\n",
    "Note that each time you touch the code of a function in a cell, you have to execute that cell for that code to become effective. You can come back here and then rerun the 1-2-3-4 sequence to check the new result. "
   ]
  },
  {
   "cell_type": "code",
   "execution_count": 13,
   "metadata": {
    "pycharm": {},
    "tags": [
     "parameters"
    ]
   },
   "outputs": [],
   "source": [
    "# Selected brand \n",
    "brand = 'Realtime Hops'\n",
    "# Temperature sensor position to consider\n",
    "temp_sensors = {'bottom': False, 'middle': True, 'top': False}\n",
    "training_days = 20\n",
    "interval = '00:05:00'"
   ]
  },
  {
   "cell_type": "markdown",
   "metadata": {
    "pycharm": {},
    "tags": [
     "parameters"
    ]
   },
   "source": [
    "## Fermenter Vessel Dataview Explanation \n",
    "\n",
    "**We build one dataview per fermenter vessels with ID 31 up to 36** \n",
    "\n",
    "### Here are all the stream names of interest, obtained through Bifrost, for Fermenter Vessel ID 31 with their target column in the Dataview (Table 1): \n",
    "\n",
    "| Stream Name | DV Column Name | Description | \n",
    "|-------------|----------------|-------------|\n",
    "| acsbrew.BREWERY.B2_CL_C2_FV31_LT1360/PV.CV | `Volume` | Vessel Volume \n",
    "| acsbrew.BREWERY.B2_CL_C2_FV31_TIC1360C/PV.CV | `Top TIC PV` | Vessel Bottom Temperture Indicator Controller Process Value\n",
    "| acsbrew.BREWERY.B2_CL_C2_FV31_TIC1360C/OUT.CV | `Top TIC OUT` | Vessel Top Temperature Indicator Controller Output\n",
    "| acsbrew.BREWERY.B2_CL_C2_FV31/Plato | `Plato` | The specific gravity of the vessel in plato\n",
    "| acsbrew.BREWERY.B2_CL_C2_FV31_TIC1360B/PV.CV | `Middle TIC PV` | Vessel Middle Temperature Indicator Controller Process \n",
    "| acsbrew.BREWERY.B2_CL_C2_FV31_TIC1360B/OUT.CV | `Middle TIC OUT` | Vessel Middle Temperature Indicator Controller Output\n",
    "| acsbrew.BREWERY.B2_CL_C2_FV31/DcrsFvFullPlato | `FV Full Plato` | The specific gravity of the vessel in plato at the end of filling\n",
    "| acsbrew.BREWERY.FV31.Fermentation ID.194fa814-869f-5f35-3501-0b9198ac52e1 | `Fermentation ID` | Unique ID for fermentation batch \n",
    "| acsbrew.BREWERY.B2_CL_C2_FV31/BRAND.CV | `Brand` | Vessel Brand\n",
    "| acsbrew.BREWERY.B2_CL_C2_FV31_TIC1360A/PV.CV | `Bottom TIC PV` | Vessel Bottom Temperture Indicator Controller Process Value\n",
    "| acsbrew.BREWERY.B2_CL_C2_FV31_TIC1360A/OUT.CV |`Bottom TIC OUT` | Vessel Bottom Temperature Indicator Controller Output\n",
    "| acsbrew.BREWERY.FV31.ADF2 | `ADF` | Apparent Degree of Fermentation \n",
    "| acsbrew.BREWERY.B2_CL_C2_FV31/STATUS.CV | `Status` | * Vessel Status\n",
    "\n",
    "The other 5 fermenter vessels (ID 32 up to 36) streams have a similar structure but yet all somewhat different. For example\n",
    "below are all the stream names for the 'Volume' column: \n",
    "\n",
    "| FVID | Stream Name|\n",
    "|------|            |\n",
    "| 32 | acsbrew.BREWERY.B2_CL_C2_FV32_LT1380/PV.CV\n",
    "| 33 | acsbrew.BREWERY.B2_CL_C2_FV33_LT1400/PV.CV\n",
    "| 34 | acsbrew.BREWERY.B2_CL_C2_FV34_LT1420/PV.CV\n",
    "| 35 | acsbrew.BREWERY.B2_CL_C2_FV35_LT1440/PV.CV\n",
    "| 36 | acsbrew.BREWERY.B2_CL_C2_FV36_LT1460/PV.CV\n",
    "\n",
    "\n",
    "To ease the building of dataview, the streams of interest for fermenter vessels 31 up to 36 have been updated with the following metadata (a set of <key: value> pairs) and tags (a set of strings):\n",
    "\n",
    "**Metadata** \n",
    "\n",
    "* key `asset_id`: value of `fv31` up to `fv36` depending in the vessel ID\n",
    "* key `dv`: value is a string with the following format: `<column_name;path>` where path is \"Value\" if the stream has float values, or \"DigitalStateName\" in case of a digital state \n",
    "\n",
    "**Tags**\n",
    "\n",
    "* `cooling` \n",
    "\n",
    "This way a query for streams matching `asset_id: fv31 and Tags:cooling` will return all the streams seen in Table 1: \n",
    "\n",
    "**This is what method `preview_dataview` of object `hub_client` returns from OCS, in the shape of a Panda dataframe sorted on the Column name:**"
   ]
  },
  {
   "cell_type": "code",
   "execution_count": 15,
   "metadata": {
    "pycharm": {},
    "tags": [
     "parameters"
    ]
   },
   "outputs": [
    {
     "data": {
      "text/html": [
       "<div>\n",
       "<style scoped>\n",
       "    .dataframe tbody tr th:only-of-type {\n",
       "        vertical-align: middle;\n",
       "    }\n",
       "\n",
       "    .dataframe tbody tr th {\n",
       "        vertical-align: top;\n",
       "    }\n",
       "\n",
       "    .dataframe thead th {\n",
       "        text-align: right;\n",
       "    }\n",
       "</style>\n",
       "<table border=\"1\" class=\"dataframe\">\n",
       "  <thead>\n",
       "    <tr style=\"text-align: right;\">\n",
       "      <th></th>\n",
       "      <th>StreamName</th>\n",
       "      <th>Column</th>\n",
       "      <th>Path</th>\n",
       "    </tr>\n",
       "  </thead>\n",
       "  <tbody>\n",
       "    <tr>\n",
       "      <th>2</th>\n",
       "      <td>acsbrew.BREWERY.FV31.ADF2</td>\n",
       "      <td>ADF</td>\n",
       "      <td>Value</td>\n",
       "    </tr>\n",
       "    <tr>\n",
       "      <th>1</th>\n",
       "      <td>acsbrew.BREWERY.B2_CL_C2_FV31_TIC1360A/OUT.CV</td>\n",
       "      <td>Bottom TIC OUT</td>\n",
       "      <td>Value</td>\n",
       "    </tr>\n",
       "    <tr>\n",
       "      <th>11</th>\n",
       "      <td>acsbrew.BREWERY.B2_CL_C2_FV31_TIC1360A/PV.CV</td>\n",
       "      <td>Bottom TIC PV</td>\n",
       "      <td>Value</td>\n",
       "    </tr>\n",
       "    <tr>\n",
       "      <th>8</th>\n",
       "      <td>acsbrew.BREWERY.B2_CL_C2_FV31_TIC1360A/SP.CV</td>\n",
       "      <td>Bottom TIC SP</td>\n",
       "      <td>Value</td>\n",
       "    </tr>\n",
       "    <tr>\n",
       "      <th>0</th>\n",
       "      <td>acsbrew.BREWERY.B2_CL_C2_FV31/BRAND.CV</td>\n",
       "      <td>Brand</td>\n",
       "      <td>DigitalStateName</td>\n",
       "    </tr>\n",
       "    <tr>\n",
       "      <th>9</th>\n",
       "      <td>acsbrew.BREWERY.B2_CL_C2_FV31/DcrsFvFullPlato</td>\n",
       "      <td>FV Full Plato</td>\n",
       "      <td>Value</td>\n",
       "    </tr>\n",
       "    <tr>\n",
       "      <th>10</th>\n",
       "      <td>acsbrew.BREWERY.FV31.Fermentation ID.194fa814-...</td>\n",
       "      <td>Fermentation ID</td>\n",
       "      <td>Value</td>\n",
       "    </tr>\n",
       "    <tr>\n",
       "      <th>7</th>\n",
       "      <td>acsbrew.BREWERY.B2_CL_C2_FV31_TIC1360B/OUT.CV</td>\n",
       "      <td>Middle TIC OUT</td>\n",
       "      <td>Value</td>\n",
       "    </tr>\n",
       "    <tr>\n",
       "      <th>6</th>\n",
       "      <td>acsbrew.BREWERY.B2_CL_C2_FV31_TIC1360B/PV.CV</td>\n",
       "      <td>Middle TIC PV</td>\n",
       "      <td>Value</td>\n",
       "    </tr>\n",
       "    <tr>\n",
       "      <th>5</th>\n",
       "      <td>acsbrew.BREWERY.B2_CL_C2_FV31_TIC1360B/SP.CV</td>\n",
       "      <td>Middle TIC SP</td>\n",
       "      <td>Value</td>\n",
       "    </tr>\n",
       "    <tr>\n",
       "      <th>13</th>\n",
       "      <td>acsbrew.BREWERY.B2_CL_C2_FV31/Plato</td>\n",
       "      <td>Plato</td>\n",
       "      <td>Value</td>\n",
       "    </tr>\n",
       "    <tr>\n",
       "      <th>3</th>\n",
       "      <td>acsbrew.BREWERY.B2_CL_C2_FV31/STATUS.CV</td>\n",
       "      <td>Status</td>\n",
       "      <td>DigitalStateName</td>\n",
       "    </tr>\n",
       "    <tr>\n",
       "      <th>14</th>\n",
       "      <td>acsbrew.BREWERY.B2_CL_C2_FV31_TIC1360C/OUT.CV</td>\n",
       "      <td>Top TIC OUT</td>\n",
       "      <td>Value</td>\n",
       "    </tr>\n",
       "    <tr>\n",
       "      <th>12</th>\n",
       "      <td>acsbrew.BREWERY.B2_CL_C2_FV31_TIC1360C/PV.CV</td>\n",
       "      <td>Top TIC PV</td>\n",
       "      <td>Value</td>\n",
       "    </tr>\n",
       "    <tr>\n",
       "      <th>15</th>\n",
       "      <td>acsbrew.BREWERY.B2_CL_C2_FV31_TIC1360C/SP.CV</td>\n",
       "      <td>Top TIC SP</td>\n",
       "      <td>Value</td>\n",
       "    </tr>\n",
       "    <tr>\n",
       "      <th>4</th>\n",
       "      <td>acsbrew.BREWERY.B2_CL_C2_FV31_LT1360/PV.CV</td>\n",
       "      <td>Volume</td>\n",
       "      <td>Value</td>\n",
       "    </tr>\n",
       "  </tbody>\n",
       "</table>\n",
       "</div>"
      ],
      "text/plain": [
       "                                           StreamName           Column              Path\n",
       "2                           acsbrew.BREWERY.FV31.ADF2              ADF             Value\n",
       "1       acsbrew.BREWERY.B2_CL_C2_FV31_TIC1360A/OUT.CV   Bottom TIC OUT             Value\n",
       "11       acsbrew.BREWERY.B2_CL_C2_FV31_TIC1360A/PV.CV    Bottom TIC PV             Value\n",
       "8        acsbrew.BREWERY.B2_CL_C2_FV31_TIC1360A/SP.CV    Bottom TIC SP             Value\n",
       "0              acsbrew.BREWERY.B2_CL_C2_FV31/BRAND.CV            Brand  DigitalStateName\n",
       "9       acsbrew.BREWERY.B2_CL_C2_FV31/DcrsFvFullPlato    FV Full Plato             Value\n",
       "10  acsbrew.BREWERY.FV31.Fermentation ID.194fa814-...  Fermentation ID             Value\n",
       "7       acsbrew.BREWERY.B2_CL_C2_FV31_TIC1360B/OUT.CV   Middle TIC OUT             Value\n",
       "6        acsbrew.BREWERY.B2_CL_C2_FV31_TIC1360B/PV.CV    Middle TIC PV             Value\n",
       "5        acsbrew.BREWERY.B2_CL_C2_FV31_TIC1360B/SP.CV    Middle TIC SP             Value\n",
       "13                acsbrew.BREWERY.B2_CL_C2_FV31/Plato            Plato             Value\n",
       "3             acsbrew.BREWERY.B2_CL_C2_FV31/STATUS.CV           Status  DigitalStateName\n",
       "14      acsbrew.BREWERY.B2_CL_C2_FV31_TIC1360C/OUT.CV      Top TIC OUT             Value\n",
       "12       acsbrew.BREWERY.B2_CL_C2_FV31_TIC1360C/PV.CV       Top TIC PV             Value\n",
       "15       acsbrew.BREWERY.B2_CL_C2_FV31_TIC1360C/SP.CV       Top TIC SP             Value\n",
       "4          acsbrew.BREWERY.B2_CL_C2_FV31_LT1360/PV.CV           Volume             Value"
      ]
     },
     "execution_count": 15,
     "metadata": {},
     "output_type": "execute_result"
    }
   ],
   "source": [
    "asset_id = \"fv31\"\n",
    "column_tag = \"cooling\"\n",
    "preview_fv31 = hub_client.preview_dataview(namespace_id, asset_id, column_tag)\n",
    "preview_fv31"
   ]
  },
  {
   "cell_type": "markdown",
   "metadata": {
    "pycharm": {},
    "tags": [
     "parameters"
    ]
   },
   "source": [
    "### Creation of an OCS dataview definition - verbose output of raw JSON included"
   ]
  },
  {
   "cell_type": "code",
   "execution_count": 16,
   "metadata": {
    "pycharm": {},
    "tags": [
     "parameters"
    ]
   },
   "outputs": [
    {
     "name": "stdout",
     "output_type": "stream",
     "text": [
      "Dataview ID: Cooling_fv31\n",
      " {\n",
      "    \"Id\": \"Cooling_fv31\",\n",
      "    \"Name\": \"Cooling_fv31\",\n",
      "    \"Description\": \"Cooling for fv31\",\n",
      "    \"Queries\": [\n",
      "        {\n",
      "            \"Id\": \"Asset\",\n",
      "            \"Query\": {\n",
      "                \"Resource\": \"Streams\",\n",
      "                \"Field\": \"Name\",\n",
      "                \"Value\": \"fv31\",\n",
      "                \"Function\": \"Contains\"\n",
      "            }\n",
      "        }\n",
      "    ],\n",
      "    \"GroupRules\": [],\n",
      "    \"Mappings\": {\n",
      "        \"Columns\": [\n",
      "            {\n",
      "                \"Name\": \"Timestamp\",\n",
      "                \"MappingRule\": {\n",
      "                    \"PropertyPaths\": [\n",
      "                        \"Timestamp\"\n",
      "                    ]\n",
      "                },\n",
      "                \"IsKey\": true,\n",
      "                \"DataType\": \"DateTime\"\n",
      "            },\n",
      "            {\n",
      "                \"Name\": \"Brand\",\n",
      "                \"MappingRule\": {\n",
      "                    \"PropertyPaths\": [\n",
      "                        \"DigitalStateName\"\n",
      "                    ],\n",
      "                    \"ItemIdentifier\": {\n",
      "                        \"Resource\": \"Streams\",\n",
      "                        \"Field\": \"Name\",\n",
      "                        \"Value\": \"acsbrew.BREWERY.B2_CL_C2_FV31/BRAND.CV\",\n",
      "                        \"Function\": \"Equals\"\n",
      "                    }\n",
      "                }\n",
      "            },\n",
      "            {\n",
      "                \"Name\": \"Bottom TIC OUT\",\n",
      "                \"MappingRule\": {\n",
      "                    \"PropertyPaths\": [\n",
      "                        \"Value\"\n",
      "                    ],\n",
      "                    \"ItemIdentifier\": {\n",
      "                        \"Resource\": \"Streams\",\n",
      "                        \"Field\": \"Name\",\n",
      "                        \"Value\": \"acsbrew.BREWERY.B2_CL_C2_FV31_TIC1360A/OUT.CV\",\n",
      "                        \"Function\": \"Equals\"\n",
      "                    }\n",
      "                }\n",
      "            },\n",
      "            {\n",
      "                \"Name\": \"ADF\",\n",
      "                \"MappingRule\": {\n",
      "                    \"PropertyPaths\": [\n",
      "                        \"Value\"\n",
      "                    ],\n",
      "                    \"ItemIdentifier\": {\n",
      "                        \"Resource\": \"Streams\",\n",
      "                        \"Field\": \"Name\",\n",
      "                        \"Value\": \"acsbrew.BREWERY.FV31.ADF2\",\n",
      "                        \"Function\": \"Equals\"\n",
      "                    }\n",
      "                }\n",
      "            },\n",
      "            {\n",
      "                \"Name\": \"Status\",\n",
      "                \"MappingRule\": {\n",
      "                    \"PropertyPaths\": [\n",
      "                        \"DigitalStateName\"\n",
      "                    ],\n",
      "                    \"ItemIdentifier\": {\n",
      "                        \"Resource\": \"Streams\",\n",
      "                        \"Field\": \"Name\",\n",
      "                        \"Value\": \"acsbrew.BREWERY.B2_CL_C2_FV31/STATUS.CV\",\n",
      "                        \"Function\": \"Equals\"\n",
      "                    }\n",
      "                }\n",
      "            },\n",
      "            {\n",
      "                \"Name\": \"Volume\",\n",
      "                \"MappingRule\": {\n",
      "                    \"PropertyPaths\": [\n",
      "                        \"Value\"\n",
      "                    ],\n",
      "                    \"ItemIdentifier\": {\n",
      "                        \"Resource\": \"Streams\",\n",
      "                        \"Field\": \"Name\",\n",
      "                        \"Value\": \"acsbrew.BREWERY.B2_CL_C2_FV31_LT1360/PV.CV\",\n",
      "                        \"Function\": \"Equals\"\n",
      "                    }\n",
      "                }\n",
      "            },\n",
      "            {\n",
      "                \"Name\": \"Middle TIC SP\",\n",
      "                \"MappingRule\": {\n",
      "                    \"PropertyPaths\": [\n",
      "                        \"Value\"\n",
      "                    ],\n",
      "                    \"ItemIdentifier\": {\n",
      "                        \"Resource\": \"Streams\",\n",
      "                        \"Field\": \"Name\",\n",
      "                        \"Value\": \"acsbrew.BREWERY.B2_CL_C2_FV31_TIC1360B/SP.CV\",\n",
      "                        \"Function\": \"Equals\"\n",
      "                    }\n",
      "                }\n",
      "            },\n",
      "            {\n",
      "                \"Name\": \"Middle TIC PV\",\n",
      "                \"MappingRule\": {\n",
      "                    \"PropertyPaths\": [\n",
      "                        \"Value\"\n",
      "                    ],\n",
      "                    \"ItemIdentifier\": {\n",
      "                        \"Resource\": \"Streams\",\n",
      "                        \"Field\": \"Name\",\n",
      "                        \"Value\": \"acsbrew.BREWERY.B2_CL_C2_FV31_TIC1360B/PV.CV\",\n",
      "                        \"Function\": \"Equals\"\n",
      "                    }\n",
      "                }\n",
      "            },\n",
      "            {\n",
      "                \"Name\": \"Middle TIC OUT\",\n",
      "                \"MappingRule\": {\n",
      "                    \"PropertyPaths\": [\n",
      "                        \"Value\"\n",
      "                    ],\n",
      "                    \"ItemIdentifier\": {\n",
      "                        \"Resource\": \"Streams\",\n",
      "                        \"Field\": \"Name\",\n",
      "                        \"Value\": \"acsbrew.BREWERY.B2_CL_C2_FV31_TIC1360B/OUT.CV\",\n",
      "                        \"Function\": \"Equals\"\n",
      "                    }\n",
      "                }\n",
      "            },\n",
      "            {\n",
      "                \"Name\": \"Bottom TIC SP\",\n",
      "                \"MappingRule\": {\n",
      "                    \"PropertyPaths\": [\n",
      "                        \"Value\"\n",
      "                    ],\n",
      "                    \"ItemIdentifier\": {\n",
      "                        \"Resource\": \"Streams\",\n",
      "                        \"Field\": \"Name\",\n",
      "                        \"Value\": \"acsbrew.BREWERY.B2_CL_C2_FV31_TIC1360A/SP.CV\",\n",
      "                        \"Function\": \"Equals\"\n",
      "                    }\n",
      "                }\n",
      "            },\n",
      "            {\n",
      "                \"Name\": \"FV Full Plato\",\n",
      "                \"MappingRule\": {\n",
      "                    \"PropertyPaths\": [\n",
      "                        \"Value\"\n",
      "                    ],\n",
      "                    \"ItemIdentifier\": {\n",
      "                        \"Resource\": \"Streams\",\n",
      "                        \"Field\": \"Name\",\n",
      "                        \"Value\": \"acsbrew.BREWERY.B2_CL_C2_FV31/DcrsFvFullPlato\",\n",
      "                        \"Function\": \"Equals\"\n",
      "                    }\n",
      "                }\n",
      "            },\n",
      "            {\n",
      "                \"Name\": \"Fermentation ID\",\n",
      "                \"MappingRule\": {\n",
      "                    \"PropertyPaths\": [\n",
      "                        \"Value\"\n",
      "                    ],\n",
      "                    \"ItemIdentifier\": {\n",
      "                        \"Resource\": \"Streams\",\n",
      "                        \"Field\": \"Name\",\n",
      "                        \"Value\": \"acsbrew.BREWERY.FV31.Fermentation ID.194fa814-869f-5f35-3501-0b9198ac52e1\",\n",
      "                        \"Function\": \"Equals\"\n",
      "                    }\n",
      "                }\n",
      "            },\n",
      "            {\n",
      "                \"Name\": \"Bottom TIC PV\",\n",
      "                \"MappingRule\": {\n",
      "                    \"PropertyPaths\": [\n",
      "                        \"Value\"\n",
      "                    ],\n",
      "                    \"ItemIdentifier\": {\n",
      "                        \"Resource\": \"Streams\",\n",
      "                        \"Field\": \"Name\",\n",
      "                        \"Value\": \"acsbrew.BREWERY.B2_CL_C2_FV31_TIC1360A/PV.CV\",\n",
      "                        \"Function\": \"Equals\"\n",
      "                    }\n",
      "                }\n",
      "            },\n",
      "            {\n",
      "                \"Name\": \"Top TIC PV\",\n",
      "                \"MappingRule\": {\n",
      "                    \"PropertyPaths\": [\n",
      "                        \"Value\"\n",
      "                    ],\n",
      "                    \"ItemIdentifier\": {\n",
      "                        \"Resource\": \"Streams\",\n",
      "                        \"Field\": \"Name\",\n",
      "                        \"Value\": \"acsbrew.BREWERY.B2_CL_C2_FV31_TIC1360C/PV.CV\",\n",
      "                        \"Function\": \"Equals\"\n",
      "                    }\n",
      "                }\n",
      "            },\n",
      "            {\n",
      "                \"Name\": \"Plato\",\n",
      "                \"MappingRule\": {\n",
      "                    \"PropertyPaths\": [\n",
      "                        \"Value\"\n",
      "                    ],\n",
      "                    \"ItemIdentifier\": {\n",
      "                        \"Resource\": \"Streams\",\n",
      "                        \"Field\": \"Name\",\n",
      "                        \"Value\": \"acsbrew.BREWERY.B2_CL_C2_FV31/Plato\",\n",
      "                        \"Function\": \"Equals\"\n",
      "                    }\n",
      "                }\n",
      "            },\n",
      "            {\n",
      "                \"Name\": \"Top TIC OUT\",\n",
      "                \"MappingRule\": {\n",
      "                    \"PropertyPaths\": [\n",
      "                        \"Value\"\n",
      "                    ],\n",
      "                    \"ItemIdentifier\": {\n",
      "                        \"Resource\": \"Streams\",\n",
      "                        \"Field\": \"Name\",\n",
      "                        \"Value\": \"acsbrew.BREWERY.B2_CL_C2_FV31_TIC1360C/OUT.CV\",\n",
      "                        \"Function\": \"Equals\"\n",
      "                    }\n",
      "                }\n",
      "            },\n",
      "            {\n",
      "                \"Name\": \"Top TIC SP\",\n",
      "                \"MappingRule\": {\n",
      "                    \"PropertyPaths\": [\n",
      "                        \"Value\"\n",
      "                    ],\n",
      "                    \"ItemIdentifier\": {\n",
      "                        \"Resource\": \"Streams\",\n",
      "                        \"Field\": \"Name\",\n",
      "                        \"Value\": \"acsbrew.BREWERY.B2_CL_C2_FV31_TIC1360C/SP.CV\",\n",
      "                        \"Function\": \"Equals\"\n",
      "                    }\n",
      "                }\n",
      "            }\n",
      "        ]\n",
      "    },\n",
      "    \"IndexDataType\": \"DateTime\",\n",
      "    \"IndexConfig\": {\n",
      "        \"StartIndex\": \"2017-03-17T07:00:00\",\n",
      "        \"EndIndex\": \"2017-04-06T07:00:00\",\n",
      "        \"Mode\": \"Interpolated\",\n",
      "        \"Interval\": \"00:05:00\"\n",
      "    }\n",
      "}\n"
     ]
    },
    {
     "data": {
      "text/plain": [
       "<ocs_sample_library_preview.Dataview.Dataview.Dataview at 0x7f1e94960d30>"
      ]
     },
     "execution_count": 16,
     "metadata": {},
     "output_type": "execute_result"
    }
   ],
   "source": [
    "# Creating a dataview definition. Note this is a standard OCS dataview\n",
    "dataview_id = f\"Cooling_{asset_id}\"\n",
    "start_index = \"2017-03-17T07:00:00\"  # UTC\n",
    "end_index = \"2017-04-06T07:00:00\"\n",
    "interval = \"00:05:00\"  # 1 minute\n",
    "\n",
    "dataview = hub_client.hub_dataview(\n",
    "    namespace_id,\n",
    "    dataview_id,\n",
    "    asset_id,\n",
    "    column_tag,\n",
    "    start_index,\n",
    "    end_index,\n",
    "    interval,\n",
    "    description=f\"Cooling for {asset_id}\",\n",
    "    verbose=True,\n",
    ")\n",
    "dataview"
   ]
  },
  {
   "cell_type": "markdown",
   "metadata": {
    "pycharm": {},
    "tags": [
     "parameters"
    ]
   },
   "source": [
    "### The dataview definition for Fermenter Vessel 32 is similar yet different"
   ]
  },
  {
   "cell_type": "code",
   "execution_count": 17,
   "metadata": {
    "pycharm": {},
    "tags": [
     "parameters"
    ]
   },
   "outputs": [
    {
     "name": "stdout",
     "output_type": "stream",
     "text": [
      "Dataview ID: Cooling_fv32\n",
      " {\n",
      "    \"Id\": \"Cooling_fv32\",\n",
      "    \"Name\": \"Cooling_fv32\",\n",
      "    \"Description\": \"Cooling for fv32\",\n",
      "    \"Queries\": [\n",
      "        {\n",
      "            \"Id\": \"Asset\",\n",
      "            \"Query\": {\n",
      "                \"Resource\": \"Streams\",\n",
      "                \"Field\": \"Name\",\n",
      "                \"Value\": \"fv32\",\n",
      "                \"Function\": \"Contains\"\n",
      "            }\n",
      "        }\n",
      "    ],\n",
      "    \"GroupRules\": [],\n",
      "    \"Mappings\": {\n",
      "        \"Columns\": [\n",
      "            {\n",
      "                \"Name\": \"Timestamp\",\n",
      "                \"MappingRule\": {\n",
      "                    \"PropertyPaths\": [\n",
      "                        \"Timestamp\"\n",
      "                    ]\n",
      "                },\n",
      "                \"IsKey\": true,\n",
      "                \"DataType\": \"DateTime\"\n",
      "            },\n",
      "            {\n",
      "                \"Name\": \"Top TIC SP\",\n",
      "                \"MappingRule\": {\n",
      "                    \"PropertyPaths\": [\n",
      "                        \"Value\"\n",
      "                    ],\n",
      "                    \"ItemIdentifier\": {\n",
      "                        \"Resource\": \"Streams\",\n",
      "                        \"Field\": \"Name\",\n",
      "                        \"Value\": \"acsbrew.BREWERY.B2_CL_C2_FV32_TIC1380C/SP.CV\",\n",
      "                        \"Function\": \"Equals\"\n",
      "                    }\n",
      "                }\n",
      "            },\n",
      "            {\n",
      "                \"Name\": \"Bottom TIC PV\",\n",
      "                \"MappingRule\": {\n",
      "                    \"PropertyPaths\": [\n",
      "                        \"Value\"\n",
      "                    ],\n",
      "                    \"ItemIdentifier\": {\n",
      "                        \"Resource\": \"Streams\",\n",
      "                        \"Field\": \"Name\",\n",
      "                        \"Value\": \"acsbrew.BREWERY.B2_CL_C2_FV32_TIC1380A/PV.CV\",\n",
      "                        \"Function\": \"Equals\"\n",
      "                    }\n",
      "                }\n",
      "            },\n",
      "            {\n",
      "                \"Name\": \"Middle TIC PV\",\n",
      "                \"MappingRule\": {\n",
      "                    \"PropertyPaths\": [\n",
      "                        \"Value\"\n",
      "                    ],\n",
      "                    \"ItemIdentifier\": {\n",
      "                        \"Resource\": \"Streams\",\n",
      "                        \"Field\": \"Name\",\n",
      "                        \"Value\": \"acsbrew.BREWERY.B2_CL_C2_FV32_TIC1380B/PV.CV\",\n",
      "                        \"Function\": \"Equals\"\n",
      "                    }\n",
      "                }\n",
      "            },\n",
      "            {\n",
      "                \"Name\": \"Plato\",\n",
      "                \"MappingRule\": {\n",
      "                    \"PropertyPaths\": [\n",
      "                        \"Value\"\n",
      "                    ],\n",
      "                    \"ItemIdentifier\": {\n",
      "                        \"Resource\": \"Streams\",\n",
      "                        \"Field\": \"Name\",\n",
      "                        \"Value\": \"acsbrew.BREWERY.B2_CL_C2_FV32/Plato\",\n",
      "                        \"Function\": \"Equals\"\n",
      "                    }\n",
      "                }\n",
      "            },\n",
      "            {\n",
      "                \"Name\": \"ADF\",\n",
      "                \"MappingRule\": {\n",
      "                    \"PropertyPaths\": [\n",
      "                        \"Value\"\n",
      "                    ],\n",
      "                    \"ItemIdentifier\": {\n",
      "                        \"Resource\": \"Streams\",\n",
      "                        \"Field\": \"Name\",\n",
      "                        \"Value\": \"acsbrew.BREWERY.FV32.ADF2\",\n",
      "                        \"Function\": \"Equals\"\n",
      "                    }\n",
      "                }\n",
      "            },\n",
      "            {\n",
      "                \"Name\": \"Bottom TIC SP\",\n",
      "                \"MappingRule\": {\n",
      "                    \"PropertyPaths\": [\n",
      "                        \"Value\"\n",
      "                    ],\n",
      "                    \"ItemIdentifier\": {\n",
      "                        \"Resource\": \"Streams\",\n",
      "                        \"Field\": \"Name\",\n",
      "                        \"Value\": \"acsbrew.BREWERY.B2_CL_C2_FV32_TIC1380A/SP.CV\",\n",
      "                        \"Function\": \"Equals\"\n",
      "                    }\n",
      "                }\n",
      "            },\n",
      "            {\n",
      "                \"Name\": \"Middle TIC OUT\",\n",
      "                \"MappingRule\": {\n",
      "                    \"PropertyPaths\": [\n",
      "                        \"Value\"\n",
      "                    ],\n",
      "                    \"ItemIdentifier\": {\n",
      "                        \"Resource\": \"Streams\",\n",
      "                        \"Field\": \"Name\",\n",
      "                        \"Value\": \"acsbrew.BREWERY.B2_CL_C2_FV32_TIC1380B/OUT.CV\",\n",
      "                        \"Function\": \"Equals\"\n",
      "                    }\n",
      "                }\n",
      "            },\n",
      "            {\n",
      "                \"Name\": \"Top TIC OUT\",\n",
      "                \"MappingRule\": {\n",
      "                    \"PropertyPaths\": [\n",
      "                        \"Value\"\n",
      "                    ],\n",
      "                    \"ItemIdentifier\": {\n",
      "                        \"Resource\": \"Streams\",\n",
      "                        \"Field\": \"Name\",\n",
      "                        \"Value\": \"acsbrew.BREWERY.B2_CL_C2_FV32_TIC1380C/OUT.CV\",\n",
      "                        \"Function\": \"Equals\"\n",
      "                    }\n",
      "                }\n",
      "            },\n",
      "            {\n",
      "                \"Name\": \"Fermentation ID\",\n",
      "                \"MappingRule\": {\n",
      "                    \"PropertyPaths\": [\n",
      "                        \"Value\"\n",
      "                    ],\n",
      "                    \"ItemIdentifier\": {\n",
      "                        \"Resource\": \"Streams\",\n",
      "                        \"Field\": \"Name\",\n",
      "                        \"Value\": \"acsbrew.BREWERY.FV32.Fermentation ID.158e59be-86e9-5f35-3501-0b9198ac52e1\",\n",
      "                        \"Function\": \"Equals\"\n",
      "                    }\n",
      "                }\n",
      "            },\n",
      "            {\n",
      "                \"Name\": \"Brand\",\n",
      "                \"MappingRule\": {\n",
      "                    \"PropertyPaths\": [\n",
      "                        \"DigitalStateName\"\n",
      "                    ],\n",
      "                    \"ItemIdentifier\": {\n",
      "                        \"Resource\": \"Streams\",\n",
      "                        \"Field\": \"Name\",\n",
      "                        \"Value\": \"acsbrew.BREWERY.B2_CL_C2_FV32/BRAND.CV\",\n",
      "                        \"Function\": \"Equals\"\n",
      "                    }\n",
      "                }\n",
      "            },\n",
      "            {\n",
      "                \"Name\": \"Status\",\n",
      "                \"MappingRule\": {\n",
      "                    \"PropertyPaths\": [\n",
      "                        \"DigitalStateName\"\n",
      "                    ],\n",
      "                    \"ItemIdentifier\": {\n",
      "                        \"Resource\": \"Streams\",\n",
      "                        \"Field\": \"Name\",\n",
      "                        \"Value\": \"acsbrew.BREWERY.B2_CL_C2_FV32/STATUS.CV\",\n",
      "                        \"Function\": \"Equals\"\n",
      "                    }\n",
      "                }\n",
      "            },\n",
      "            {\n",
      "                \"Name\": \"Bottom TIC OUT\",\n",
      "                \"MappingRule\": {\n",
      "                    \"PropertyPaths\": [\n",
      "                        \"Value\"\n",
      "                    ],\n",
      "                    \"ItemIdentifier\": {\n",
      "                        \"Resource\": \"Streams\",\n",
      "                        \"Field\": \"Name\",\n",
      "                        \"Value\": \"acsbrew.BREWERY.B2_CL_C2_FV32_TIC1380A/OUT.CV\",\n",
      "                        \"Function\": \"Equals\"\n",
      "                    }\n",
      "                }\n",
      "            },\n",
      "            {\n",
      "                \"Name\": \"Top TIC PV\",\n",
      "                \"MappingRule\": {\n",
      "                    \"PropertyPaths\": [\n",
      "                        \"Value\"\n",
      "                    ],\n",
      "                    \"ItemIdentifier\": {\n",
      "                        \"Resource\": \"Streams\",\n",
      "                        \"Field\": \"Name\",\n",
      "                        \"Value\": \"acsbrew.BREWERY.B2_CL_C2_FV32_TIC1380C/PV.CV\",\n",
      "                        \"Function\": \"Equals\"\n",
      "                    }\n",
      "                }\n",
      "            },\n",
      "            {\n",
      "                \"Name\": \"FV Full Plato\",\n",
      "                \"MappingRule\": {\n",
      "                    \"PropertyPaths\": [\n",
      "                        \"Value\"\n",
      "                    ],\n",
      "                    \"ItemIdentifier\": {\n",
      "                        \"Resource\": \"Streams\",\n",
      "                        \"Field\": \"Name\",\n",
      "                        \"Value\": \"acsbrew.BREWERY.B2_CL_C2_FV32/DcrsFvFullPlato\",\n",
      "                        \"Function\": \"Equals\"\n",
      "                    }\n",
      "                }\n",
      "            },\n",
      "            {\n",
      "                \"Name\": \"Middle TIC SP\",\n",
      "                \"MappingRule\": {\n",
      "                    \"PropertyPaths\": [\n",
      "                        \"Value\"\n",
      "                    ],\n",
      "                    \"ItemIdentifier\": {\n",
      "                        \"Resource\": \"Streams\",\n",
      "                        \"Field\": \"Name\",\n",
      "                        \"Value\": \"acsbrew.BREWERY.B2_CL_C2_FV32_TIC1380B/SP.CV\",\n",
      "                        \"Function\": \"Equals\"\n",
      "                    }\n",
      "                }\n",
      "            },\n",
      "            {\n",
      "                \"Name\": \"Volume\",\n",
      "                \"MappingRule\": {\n",
      "                    \"PropertyPaths\": [\n",
      "                        \"Value\"\n",
      "                    ],\n",
      "                    \"ItemIdentifier\": {\n",
      "                        \"Resource\": \"Streams\",\n",
      "                        \"Field\": \"Name\",\n",
      "                        \"Value\": \"acsbrew.BREWERY.B2_CL_C2_FV32_LT1380/PV.CV\",\n",
      "                        \"Function\": \"Equals\"\n",
      "                    }\n",
      "                }\n",
      "            }\n",
      "        ]\n",
      "    },\n",
      "    \"IndexDataType\": \"DateTime\",\n",
      "    \"IndexConfig\": {\n",
      "        \"StartIndex\": \"2017-03-17T07:00:00\",\n",
      "        \"EndIndex\": \"2017-04-06T07:00:00\",\n",
      "        \"Mode\": \"Interpolated\",\n",
      "        \"Interval\": \"00:05:00\"\n",
      "    }\n",
      "}\n"
     ]
    },
    {
     "data": {
      "text/plain": [
       "<ocs_sample_library_preview.Dataview.Dataview.Dataview at 0x7f1e94960438>"
      ]
     },
     "execution_count": 17,
     "metadata": {},
     "output_type": "execute_result"
    }
   ],
   "source": [
    "asset_id = \"fv32\"\n",
    "dataview_id = f\"Cooling_{asset_id}\"\n",
    "dataview2 = hub_client.hub_dataview(\n",
    "    namespace_id,\n",
    "    dataview_id,\n",
    "    asset_id,\n",
    "    column_tag,\n",
    "    start_index,\n",
    "    end_index,\n",
    "    interval,\n",
    "    description=f\"Cooling for {asset_id}\",\n",
    "    verbose=True,\n",
    ")\n",
    "dataview2"
   ]
  },
  {
   "cell_type": "markdown",
   "metadata": {
    "pycharm": {},
    "tags": [
     "parameters"
    ]
   },
   "source": [
    "---\n",
    "---\n",
    "## Question for Uxie: how could dataview \"grouping\" be used to merge the two dataviews above? \n",
    "---\n",
    "---"
   ]
  },
  {
   "cell_type": "markdown",
   "metadata": {
    "pycharm": {},
    "tags": [
     "parameters"
    ]
   },
   "source": [
    "#### NOTE: Nothing more below for Uxie\n",
    "---\n",
    "---"
   ]
  },
  {
   "cell_type": "markdown",
   "metadata": {
    "pycharm": {},
    "tags": [
     "parameters"
    ]
   },
   "source": [
    "### Installation of the dataview "
   ]
  },
  {
   "cell_type": "code",
   "execution_count": 18,
   "metadata": {
    "pycharm": {},
    "tags": [
     "parameters"
    ]
   },
   "outputs": [],
   "source": [
    "dataview = hub_client.Dataviews.putDataview(namespace_id, dataview)"
   ]
  },
  {
   "cell_type": "markdown",
   "metadata": {
    "pycharm": {},
    "tags": [
     "parameters"
    ]
   },
   "source": [
    "### Now install dataviews for all fermenter vessels"
   ]
  },
  {
   "cell_type": "code",
   "execution_count": 19,
   "metadata": {
    "pycharm": {},
    "tags": [
     "parameters"
    ]
   },
   "outputs": [
    {
     "name": "stdout",
     "output_type": "stream",
     "text": [
      "Dataview with ID Cooling_fv31_v2 for asset fv31 installed\n",
      "Dataview with ID Cooling_fv32_v2 for asset fv32 installed\n",
      "Dataview with ID Cooling_fv33_v2 for asset fv33 installed\n",
      "Dataview with ID Cooling_fv34_v2 for asset fv34 installed\n",
      "Dataview with ID Cooling_fv35_v2 for asset fv35 installed\n",
      "Dataview with ID Cooling_fv36_v2 for asset fv36 installed\n"
     ]
    }
   ],
   "source": [
    "for fv_id in range(31, 37):\n",
    "    asset_id = f\"fv{fv_id}\"\n",
    "    dataview_id = f\"Cooling_{asset_id}_v2\"\n",
    "    dataview = hub_client.hub_dataview(\n",
    "        namespace_id,\n",
    "        dataview_id,\n",
    "        asset_id,\n",
    "        column_tag,\n",
    "        start_index,\n",
    "        end_index,\n",
    "        interval,\n",
    "        description=f\"Cooling for {asset_id}\",\n",
    "    )\n",
    "    dataview = hub_client.Dataviews.putDataview(namespace_id, dataview)\n",
    "    print(f\"Dataview with ID {dataview_id} for asset {asset_id} installed\")"
   ]
  },
  {
   "cell_type": "code",
   "execution_count": 20,
   "metadata": {
    "pycharm": {},
    "tags": [
     "parameters"
    ]
   },
   "outputs": [
    {
     "data": {
      "text/plain": [
       "['Cooling_fv31_v2',\n",
       " 'Cooling_fv32_v2',\n",
       " 'Cooling_fv33_v2',\n",
       " 'Cooling_fv34_v2',\n",
       " 'Cooling_fv35_v2',\n",
       " 'Cooling_fv36_v2']"
      ]
     },
     "execution_count": 20,
     "metadata": {},
     "output_type": "execute_result"
    }
   ],
   "source": [
    "dv_ids = [f\"Cooling_fv{fv_id}_v2\" for fv_id in range(31, 37)]\n",
    "dv_ids"
   ]
  },
  {
   "cell_type": "code",
   "execution_count": 21,
   "metadata": {
    "pycharm": {},
    "tags": [
     "parameters"
    ]
   },
   "outputs": [],
   "source": [
    "from ocs_academic_hub import debug_requests_on, debug_requests_off\n",
    "debug_requests_off()"
   ]
  },
  {
   "cell_type": "code",
   "execution_count": 22,
   "metadata": {
    "pycharm": {},
    "tags": [
     "parameters"
    ]
   },
   "outputs": [
    {
     "name": "stdout",
     "output_type": "stream",
     "text": [
      "  ==> Finished 'dataview_interpolated_pd' in       13.7239 secs\n",
      "  ==> Finished 'dataview_interpolated_pd' in       13.7427 secs\n",
      "  ==> Finished 'dataview_interpolated_pd' in       13.8479 secs\n",
      "  ==> Finished 'dataview_interpolated_pd' in       14.1532 secs\n",
      "  ==> Finished 'dataview_interpolated_pd' in       14.2886 secs\n",
      "  ==> Finished 'dataview_interpolated_pd' in       14.3367 secs\n",
      "  ==> Finished 'dataviews_interpolated_pd' in      14.4298 secs\n"
     ]
    }
   ],
   "source": [
    "df = hub_client.dataviews_interpolated_pd(namespace_id, dv_ids)"
   ]
  },
  {
   "cell_type": "code",
   "execution_count": 26,
   "metadata": {
    "pycharm": {},
    "tags": [
     "parameters"
    ]
   },
   "outputs": [],
   "source": [
    "df_fv31 = hub_client.dataview_interpolated_pd(namespace_id, 'Cooling_fv31_v2')"
   ]
  },
  {
   "cell_type": "code",
   "execution_count": 29,
   "metadata": {
    "pycharm": {},
    "tags": [
     "parameters"
    ]
   },
   "outputs": [],
   "source": [
    "df_fv31.to_csv('df_fv31.csv', index=False)"
   ]
  },
  {
   "cell_type": "code",
   "execution_count": 24,
   "metadata": {
    "pycharm": {},
    "tags": [
     "parameters"
    ]
   },
   "outputs": [],
   "source": [
    "df.to_csv('df_fv31_36.csv', index=False)"
   ]
  },
  {
   "cell_type": "code",
   "execution_count": 25,
   "metadata": {
    "pycharm": {},
    "tags": [
     "parameters"
    ]
   },
   "outputs": [
    {
     "data": {
      "text/plain": [
       "array(['Fermentor 31201731179653', 'Fermentor 31201732314856',\n",
       "       'Fermentor 33201731511870', 'Fermentor 3320173183371',\n",
       "       'FV35201612449149', 'Fermentor 35201732622561',\n",
       "       'Fermentor 35201732670860', 'FV322016113055113',\n",
       "       'FV342016112860676', 'Fermentor 36201731679561',\n",
       "       'Fermentor 36201733077771', 'Fermentor 362017414861',\n",
       "       'Fermentor 362017423070'], dtype=object)"
      ]
     },
     "execution_count": 25,
     "metadata": {},
     "output_type": "execute_result"
    }
   ],
   "source": [
    "df['Fermentation ID'].unique()"
   ]
  },
  {
   "cell_type": "code",
   "execution_count": null,
   "metadata": {
    "pycharm": {},
    "tags": [
     "parameters"
    ]
   },
   "outputs": [],
   "source": [
    "get_all_fermenters_pd(dv_ids, 2)"
   ]
  },
  {
   "cell_type": "code",
   "execution_count": null,
   "metadata": {
    "pycharm": {},
    "tags": [
     "parameters"
    ]
   },
   "outputs": [],
   "source": [
    "get_all_fermenters_pd(dv_ids, 6)"
   ]
  },
  {
   "cell_type": "code",
   "execution_count": null,
   "metadata": {
    "pycharm": {},
    "tags": [
     "parameters"
    ]
   },
   "outputs": [],
   "source": [
    "debug_requests_on()"
   ]
  },
  {
   "cell_type": "code",
   "execution_count": null,
   "metadata": {
    "pycharm": {},
    "tags": [
     "parameters"
    ]
   },
   "outputs": [],
   "source": [
    "get_all_fermenters_pd(dv_ids, 6)"
   ]
  },
  {
   "cell_type": "markdown",
   "metadata": {
    "pycharm": {},
    "tags": [
     "parameters"
    ]
   },
   "source": [
    "### Development tip (WARNING: executing the next cell (dataview) takes up to 30 secs)\n",
    "\n",
    "You've seen that requesting for a Dataview result takes some time. Development of a notebook involves running code over and over, so you'll want to avoid long running steps when possible. This is why you can run the cell below once, with the resulting dataframe saved in variable `all_brands_df`. If you don't change any of its input parameter, `all_brands_df` is still valid and can be reused when you run the main function `compute_cooling_predictions` below. "
   ]
  },
  {
   "cell_type": "code",
   "execution_count": null,
   "metadata": {
    "pycharm": {},
    "tags": [
     "parameters"
    ]
   },
   "outputs": [],
   "source": [
    "all_brands_df = df_no_sort # df  # get_all_brand_data(training_days, '2017-03-17T07:00', interval)\n",
    "all_brands_df.to_csv(\"all_brands_df.csv\", index=False)\n",
    "all_brands_df"
   ]
  },
  {
   "cell_type": "markdown",
   "metadata": {
    "pycharm": {}
   },
   "source": [
    "## Link to see CSV data before analysis \n",
    "\n",
    "**Click this:** [all_brands_df.csv](./all_brands_df.csv)\n",
    "\n",
    "# Main analysis function "
   ]
  },
  {
   "cell_type": "code",
   "execution_count": null,
   "metadata": {
    "pycharm": {}
   },
   "outputs": [],
   "source": [
    "cool_df, predictions, cool_df_training, start_temp, num_fermentations, num_coolings = \\\n",
    "    compute_cooling_predictions(all_brands_df, brand, temp_sensors, training_days, interval)"
   ]
  },
  {
   "cell_type": "markdown",
   "metadata": {
    "pycharm": {}
   },
   "source": [
    "## Plot prediction curve along with actual data \n",
    "\n",
    "Note: you can zoom into the graph to see how the prediction and data actually differ "
   ]
  },
  {
   "cell_type": "code",
   "execution_count": null,
   "metadata": {
    "pycharm": {},
    "scrolled": true
   },
   "outputs": [],
   "source": [
    "# Plotly trace for prediction curve\n",
    "label = f'Prediction curve, start temp: {start_temp:5.2f}F'\n",
    "prediction_trace = go.Scatter(x = cool_df_training.tsc.values, \n",
    "                              y = predictions, \n",
    "                              mode='lines', \n",
    "                              name=label, \n",
    "                              marker=dict(color='blue'))\n",
    "\n",
    "\n",
    "data_trace = go.Scatter(x = cool_df.tsc.values, \n",
    "                        y = cool_df.temperature.values, \n",
    "                        mode='markers', \n",
    "                        name='Actual Data', \n",
    "                        opacity=0.4,\n",
    "                        marker=dict(color='orange'))\n",
    "\n",
    "\n",
    "plot_title = f'OCS/Dataview: Cooling of Realtime Hops ({brand}) beer, {training_days} days, {num_fermentations} fermentation(s),<br>' \\\n",
    "             f'interval={interval} {temp_sensors}'\n",
    "layout =  go.Layout(xaxis=dict(title='Cooling time (days)'), \n",
    "                    yaxis=dict(title='Temperature (F)'), \n",
    "                    width=950,\n",
    "                    title=plot_title)\n",
    "\n",
    "fig = go.FigureWidget(data=[prediction_trace, data_trace], layout=layout)\n",
    "fig"
   ]
  },
  {
   "cell_type": "markdown",
   "metadata": {
    "pycharm": {}
   },
   "source": [
    "## ---------- Your graph will appear above this line if no error occured ----------\n",
    "## ---------- Reference graph below ----------\n",
    "\n",
    "![Beer Cooling Prediction](https://academicpi.blob.core.windows.net/software/beer-cooling-prediction.png)"
   ]
  },
  {
   "cell_type": "markdown",
   "metadata": {
    "pycharm": {}
   },
   "source": [
    "-----\n",
    "-----\n",
    "-----\n",
    "# Extra Credits\n",
    "\n",
    "![Beer Cooling Outlier Extra](https://academicpi.blob.core.windows.net/software/beer-cooling-prediction-extra.png)"
   ]
  },
  {
   "cell_type": "code",
   "execution_count": null,
   "metadata": {},
   "outputs": [],
   "source": []
  },
  {
   "cell_type": "code",
   "execution_count": null,
   "metadata": {},
   "outputs": [],
   "source": []
  }
 ],
 "metadata": {
  "kernelspec": {
   "display_name": "Python 3",
   "language": "python",
   "name": "python3"
  },
  "language_info": {
   "codemirror_mode": {
    "name": "ipython",
    "version": 3
   },
   "file_extension": ".py",
   "mimetype": "text/x-python",
   "name": "python",
   "nbconvert_exporter": "python",
   "pygments_lexer": "ipython3",
   "version": "3.7.3"
  },
  "stem_cell": {
   "cell_type": "raw",
   "metadata": {
    "pycharm": {
     "metadata": false
    }
   },
   "source": ""
  }
 },
 "nbformat": 4,
 "nbformat_minor": 2
}
