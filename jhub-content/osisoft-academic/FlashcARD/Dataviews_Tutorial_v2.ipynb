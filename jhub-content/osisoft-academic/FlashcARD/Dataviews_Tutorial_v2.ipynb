{
 "cells": [
  {
   "cell_type": "markdown",
   "metadata": {},
   "source": [
    "# Dataviews with SDS: Introduction \n",
    "\n",
    "Dataviews allows data scientist to create and use table views which can be vary from simple like the ones in this notebook, to very elaborate. \n",
    "\n",
    "The dataset is from the Deschutes Brewery, with many fermentors which are the assets with the data of interest. \n",
    "\n",
    "This notebook shows the steps involved in creating and using Dataviews. \n",
    "\n",
    "## Imports "
   ]
  },
  {
   "cell_type": "code",
   "execution_count": 1,
   "metadata": {},
   "outputs": [],
   "source": [
    "# To run this notebook outside Academic JupyterHub: pip install requests-futures\n",
    "# \n",
    "# For parallel HTTP requests\n",
    "from concurrent.futures import ThreadPoolExecutor\n",
    "from requests_futures.sessions import FuturesSession\n",
    "import requests\n",
    "# Pandas dataframe\n",
    "import pandas as pd\n",
    "import io, datetime, json\n",
    "from random import randint"
   ]
  },
  {
   "cell_type": "markdown",
   "metadata": {},
   "source": [
    "## Tenant and client credentials\n",
    "\n",
    "### NOTE: this info should be abstracted when we deploy for a course (TBD)"
   ]
  },
  {
   "cell_type": "code",
   "execution_count": 2,
   "metadata": {},
   "outputs": [],
   "source": [
    "# Tenant is OSIsoft Samples, use your own credentials\n",
    "tenant_id = '4fa85df4-9f5a-49f8-954f-dcf0d6e1ff93'\n",
    "client_id = 'ff8220f7-6b7c-4477-b21e-8e2ca20649d4'  # input('client_id:')  # \n",
    "client_secret = 'tRiVPtWc6kgcxEw090Qi/7nwA+JfI4cLlaL34Edgx+M='  # input('client_secret:')  # "
   ]
  },
  {
   "cell_type": "markdown",
   "metadata": {},
   "source": [
    "## Get an the autorization token and define the http for upcoming requests"
   ]
  },
  {
   "cell_type": "code",
   "execution_count": 3,
   "metadata": {},
   "outputs": [],
   "source": [
    "# Request a fresh authorization bearer token \n",
    "authorization = requests.post('https://login.microsoftonline.com/%s/oauth2/token' % tenant_id,\n",
    "                              data={'grant_type': 'client_credentials',\n",
    "                                    'client_id': client_id,\n",
    "                                    'client_secret': client_secret,\n",
    "                                    'resource': 'https://pihomemain.onmicrosoft.com/ocsapi'\n",
    "                                   })"
   ]
  },
  {
   "cell_type": "code",
   "execution_count": 4,
   "metadata": {},
   "outputs": [],
   "source": [
    "# Required headers for SDS endpoint\n",
    "headers = {'Authorization': 'bearer %s' % authorization.json()['access_token'],\n",
    "           'Content-type': 'application/json',\n",
    "           'Accept': 'text/plain', \n",
    "           'Request-Timeout': '60000' }"
   ]
  },
  {
   "cell_type": "markdown",
   "metadata": {},
   "source": [
    "## Endpoint on MAIN cluster, namespace Brewing (data from Deschutes)"
   ]
  },
  {
   "cell_type": "code",
   "execution_count": 5,
   "metadata": {},
   "outputs": [],
   "source": [
    "# Endpoint for dataview access\n",
    "namespace_url = 'https://historianmain.osipi.com/api/Tenants/4fa85df4-9f5a-49f8-954f-dcf0d6e1ff93/Namespaces/Brewing'\n",
    "endpoint = namespace_url + '/dataviews/'"
   ]
  },
  {
   "cell_type": "markdown",
   "metadata": {},
   "source": [
    "## All data streams of a fermentor, here Fermentor 31\n",
    "### (16 in total, listed in alphabetical order)"
   ]
  },
  {
   "cell_type": "code",
   "execution_count": 6,
   "metadata": {},
   "outputs": [
    {
     "ename": "ConnectionError",
     "evalue": "HTTPSConnectionPool(host='historianmain.osipi.com', port=443): Max retries exceeded with url: /api/Tenants/4fa85df4-9f5a-49f8-954f-dcf0d6e1ff93/Namespaces/Brewing/Streams?query=Fermentor%2031* (Caused by NewConnectionError('<urllib3.connection.VerifiedHTTPSConnection object at 0x7f0982b82e80>: Failed to establish a new connection: [Errno 110] Connection timed out',))",
     "output_type": "error",
     "traceback": [
      "\u001b[0;31m---------------------------------------------------------------------------\u001b[0m",
      "\u001b[0;31mTimeoutError\u001b[0m                              Traceback (most recent call last)",
      "\u001b[0;32m/opt/conda/lib/python3.6/site-packages/urllib3/connection.py\u001b[0m in \u001b[0;36m_new_conn\u001b[0;34m(self)\u001b[0m\n\u001b[1;32m    158\u001b[0m             conn = connection.create_connection(\n\u001b[0;32m--> 159\u001b[0;31m                 (self._dns_host, self.port), self.timeout, **extra_kw)\n\u001b[0m\u001b[1;32m    160\u001b[0m \u001b[0;34m\u001b[0m\u001b[0m\n",
      "\u001b[0;32m/opt/conda/lib/python3.6/site-packages/urllib3/util/connection.py\u001b[0m in \u001b[0;36mcreate_connection\u001b[0;34m(address, timeout, source_address, socket_options)\u001b[0m\n\u001b[1;32m     79\u001b[0m     \u001b[0;32mif\u001b[0m \u001b[0merr\u001b[0m \u001b[0;32mis\u001b[0m \u001b[0;32mnot\u001b[0m \u001b[0;32mNone\u001b[0m\u001b[0;34m:\u001b[0m\u001b[0;34m\u001b[0m\u001b[0;34m\u001b[0m\u001b[0m\n\u001b[0;32m---> 80\u001b[0;31m         \u001b[0;32mraise\u001b[0m \u001b[0merr\u001b[0m\u001b[0;34m\u001b[0m\u001b[0;34m\u001b[0m\u001b[0m\n\u001b[0m\u001b[1;32m     81\u001b[0m \u001b[0;34m\u001b[0m\u001b[0m\n",
      "\u001b[0;32m/opt/conda/lib/python3.6/site-packages/urllib3/util/connection.py\u001b[0m in \u001b[0;36mcreate_connection\u001b[0;34m(address, timeout, source_address, socket_options)\u001b[0m\n\u001b[1;32m     69\u001b[0m                 \u001b[0msock\u001b[0m\u001b[0;34m.\u001b[0m\u001b[0mbind\u001b[0m\u001b[0;34m(\u001b[0m\u001b[0msource_address\u001b[0m\u001b[0;34m)\u001b[0m\u001b[0;34m\u001b[0m\u001b[0;34m\u001b[0m\u001b[0m\n\u001b[0;32m---> 70\u001b[0;31m             \u001b[0msock\u001b[0m\u001b[0;34m.\u001b[0m\u001b[0mconnect\u001b[0m\u001b[0;34m(\u001b[0m\u001b[0msa\u001b[0m\u001b[0;34m)\u001b[0m\u001b[0;34m\u001b[0m\u001b[0;34m\u001b[0m\u001b[0m\n\u001b[0m\u001b[1;32m     71\u001b[0m             \u001b[0;32mreturn\u001b[0m \u001b[0msock\u001b[0m\u001b[0;34m\u001b[0m\u001b[0;34m\u001b[0m\u001b[0m\n",
      "\u001b[0;31mTimeoutError\u001b[0m: [Errno 110] Connection timed out",
      "\nDuring handling of the above exception, another exception occurred:\n",
      "\u001b[0;31mNewConnectionError\u001b[0m                        Traceback (most recent call last)",
      "\u001b[0;32m/opt/conda/lib/python3.6/site-packages/urllib3/connectionpool.py\u001b[0m in \u001b[0;36murlopen\u001b[0;34m(self, method, url, body, headers, retries, redirect, assert_same_host, timeout, pool_timeout, release_conn, chunked, body_pos, **response_kw)\u001b[0m\n\u001b[1;32m    599\u001b[0m                                                   \u001b[0mbody\u001b[0m\u001b[0;34m=\u001b[0m\u001b[0mbody\u001b[0m\u001b[0;34m,\u001b[0m \u001b[0mheaders\u001b[0m\u001b[0;34m=\u001b[0m\u001b[0mheaders\u001b[0m\u001b[0;34m,\u001b[0m\u001b[0;34m\u001b[0m\u001b[0;34m\u001b[0m\u001b[0m\n\u001b[0;32m--> 600\u001b[0;31m                                                   chunked=chunked)\n\u001b[0m\u001b[1;32m    601\u001b[0m \u001b[0;34m\u001b[0m\u001b[0m\n",
      "\u001b[0;32m/opt/conda/lib/python3.6/site-packages/urllib3/connectionpool.py\u001b[0m in \u001b[0;36m_make_request\u001b[0;34m(self, conn, method, url, timeout, chunked, **httplib_request_kw)\u001b[0m\n\u001b[1;32m    342\u001b[0m         \u001b[0;32mtry\u001b[0m\u001b[0;34m:\u001b[0m\u001b[0;34m\u001b[0m\u001b[0;34m\u001b[0m\u001b[0m\n\u001b[0;32m--> 343\u001b[0;31m             \u001b[0mself\u001b[0m\u001b[0;34m.\u001b[0m\u001b[0m_validate_conn\u001b[0m\u001b[0;34m(\u001b[0m\u001b[0mconn\u001b[0m\u001b[0;34m)\u001b[0m\u001b[0;34m\u001b[0m\u001b[0;34m\u001b[0m\u001b[0m\n\u001b[0m\u001b[1;32m    344\u001b[0m         \u001b[0;32mexcept\u001b[0m \u001b[0;34m(\u001b[0m\u001b[0mSocketTimeout\u001b[0m\u001b[0;34m,\u001b[0m \u001b[0mBaseSSLError\u001b[0m\u001b[0;34m)\u001b[0m \u001b[0;32mas\u001b[0m \u001b[0me\u001b[0m\u001b[0;34m:\u001b[0m\u001b[0;34m\u001b[0m\u001b[0;34m\u001b[0m\u001b[0m\n",
      "\u001b[0;32m/opt/conda/lib/python3.6/site-packages/urllib3/connectionpool.py\u001b[0m in \u001b[0;36m_validate_conn\u001b[0;34m(self, conn)\u001b[0m\n\u001b[1;32m    838\u001b[0m         \u001b[0;32mif\u001b[0m \u001b[0;32mnot\u001b[0m \u001b[0mgetattr\u001b[0m\u001b[0;34m(\u001b[0m\u001b[0mconn\u001b[0m\u001b[0;34m,\u001b[0m \u001b[0;34m'sock'\u001b[0m\u001b[0;34m,\u001b[0m \u001b[0;32mNone\u001b[0m\u001b[0;34m)\u001b[0m\u001b[0;34m:\u001b[0m  \u001b[0;31m# AppEngine might not have  `.sock`\u001b[0m\u001b[0;34m\u001b[0m\u001b[0;34m\u001b[0m\u001b[0m\n\u001b[0;32m--> 839\u001b[0;31m             \u001b[0mconn\u001b[0m\u001b[0;34m.\u001b[0m\u001b[0mconnect\u001b[0m\u001b[0;34m(\u001b[0m\u001b[0;34m)\u001b[0m\u001b[0;34m\u001b[0m\u001b[0;34m\u001b[0m\u001b[0m\n\u001b[0m\u001b[1;32m    840\u001b[0m \u001b[0;34m\u001b[0m\u001b[0m\n",
      "\u001b[0;32m/opt/conda/lib/python3.6/site-packages/urllib3/connection.py\u001b[0m in \u001b[0;36mconnect\u001b[0;34m(self)\u001b[0m\n\u001b[1;32m    300\u001b[0m         \u001b[0;31m# Add certificate verification\u001b[0m\u001b[0;34m\u001b[0m\u001b[0;34m\u001b[0m\u001b[0;34m\u001b[0m\u001b[0m\n\u001b[0;32m--> 301\u001b[0;31m         \u001b[0mconn\u001b[0m \u001b[0;34m=\u001b[0m \u001b[0mself\u001b[0m\u001b[0;34m.\u001b[0m\u001b[0m_new_conn\u001b[0m\u001b[0;34m(\u001b[0m\u001b[0;34m)\u001b[0m\u001b[0;34m\u001b[0m\u001b[0;34m\u001b[0m\u001b[0m\n\u001b[0m\u001b[1;32m    302\u001b[0m         \u001b[0mhostname\u001b[0m \u001b[0;34m=\u001b[0m \u001b[0mself\u001b[0m\u001b[0;34m.\u001b[0m\u001b[0mhost\u001b[0m\u001b[0;34m\u001b[0m\u001b[0;34m\u001b[0m\u001b[0m\n",
      "\u001b[0;32m/opt/conda/lib/python3.6/site-packages/urllib3/connection.py\u001b[0m in \u001b[0;36m_new_conn\u001b[0;34m(self)\u001b[0m\n\u001b[1;32m    167\u001b[0m             raise NewConnectionError(\n\u001b[0;32m--> 168\u001b[0;31m                 self, \"Failed to establish a new connection: %s\" % e)\n\u001b[0m\u001b[1;32m    169\u001b[0m \u001b[0;34m\u001b[0m\u001b[0m\n",
      "\u001b[0;31mNewConnectionError\u001b[0m: <urllib3.connection.VerifiedHTTPSConnection object at 0x7f0982b82e80>: Failed to establish a new connection: [Errno 110] Connection timed out",
      "\nDuring handling of the above exception, another exception occurred:\n",
      "\u001b[0;31mMaxRetryError\u001b[0m                             Traceback (most recent call last)",
      "\u001b[0;32m/opt/conda/lib/python3.6/site-packages/requests/adapters.py\u001b[0m in \u001b[0;36msend\u001b[0;34m(self, request, stream, timeout, verify, cert, proxies)\u001b[0m\n\u001b[1;32m    448\u001b[0m                     \u001b[0mretries\u001b[0m\u001b[0;34m=\u001b[0m\u001b[0mself\u001b[0m\u001b[0;34m.\u001b[0m\u001b[0mmax_retries\u001b[0m\u001b[0;34m,\u001b[0m\u001b[0;34m\u001b[0m\u001b[0;34m\u001b[0m\u001b[0m\n\u001b[0;32m--> 449\u001b[0;31m                     \u001b[0mtimeout\u001b[0m\u001b[0;34m=\u001b[0m\u001b[0mtimeout\u001b[0m\u001b[0;34m\u001b[0m\u001b[0;34m\u001b[0m\u001b[0m\n\u001b[0m\u001b[1;32m    450\u001b[0m                 )\n",
      "\u001b[0;32m/opt/conda/lib/python3.6/site-packages/urllib3/connectionpool.py\u001b[0m in \u001b[0;36murlopen\u001b[0;34m(self, method, url, body, headers, retries, redirect, assert_same_host, timeout, pool_timeout, release_conn, chunked, body_pos, **response_kw)\u001b[0m\n\u001b[1;32m    637\u001b[0m             retries = retries.increment(method, url, error=e, _pool=self,\n\u001b[0;32m--> 638\u001b[0;31m                                         _stacktrace=sys.exc_info()[2])\n\u001b[0m\u001b[1;32m    639\u001b[0m             \u001b[0mretries\u001b[0m\u001b[0;34m.\u001b[0m\u001b[0msleep\u001b[0m\u001b[0;34m(\u001b[0m\u001b[0;34m)\u001b[0m\u001b[0;34m\u001b[0m\u001b[0;34m\u001b[0m\u001b[0m\n",
      "\u001b[0;32m/opt/conda/lib/python3.6/site-packages/urllib3/util/retry.py\u001b[0m in \u001b[0;36mincrement\u001b[0;34m(self, method, url, response, error, _pool, _stacktrace)\u001b[0m\n\u001b[1;32m    397\u001b[0m         \u001b[0;32mif\u001b[0m \u001b[0mnew_retry\u001b[0m\u001b[0;34m.\u001b[0m\u001b[0mis_exhausted\u001b[0m\u001b[0;34m(\u001b[0m\u001b[0;34m)\u001b[0m\u001b[0;34m:\u001b[0m\u001b[0;34m\u001b[0m\u001b[0;34m\u001b[0m\u001b[0m\n\u001b[0;32m--> 398\u001b[0;31m             \u001b[0;32mraise\u001b[0m \u001b[0mMaxRetryError\u001b[0m\u001b[0;34m(\u001b[0m\u001b[0m_pool\u001b[0m\u001b[0;34m,\u001b[0m \u001b[0murl\u001b[0m\u001b[0;34m,\u001b[0m \u001b[0merror\u001b[0m \u001b[0;32mor\u001b[0m \u001b[0mResponseError\u001b[0m\u001b[0;34m(\u001b[0m\u001b[0mcause\u001b[0m\u001b[0;34m)\u001b[0m\u001b[0;34m)\u001b[0m\u001b[0;34m\u001b[0m\u001b[0;34m\u001b[0m\u001b[0m\n\u001b[0m\u001b[1;32m    399\u001b[0m \u001b[0;34m\u001b[0m\u001b[0m\n",
      "\u001b[0;31mMaxRetryError\u001b[0m: HTTPSConnectionPool(host='historianmain.osipi.com', port=443): Max retries exceeded with url: /api/Tenants/4fa85df4-9f5a-49f8-954f-dcf0d6e1ff93/Namespaces/Brewing/Streams?query=Fermentor%2031* (Caused by NewConnectionError('<urllib3.connection.VerifiedHTTPSConnection object at 0x7f0982b82e80>: Failed to establish a new connection: [Errno 110] Connection timed out',))",
      "\nDuring handling of the above exception, another exception occurred:\n",
      "\u001b[0;31mConnectionError\u001b[0m                           Traceback (most recent call last)",
      "\u001b[0;32m<ipython-input-6-35633c7bd7bc>\u001b[0m in \u001b[0;36m<module>\u001b[0;34m\u001b[0m\n\u001b[0;32m----> 1\u001b[0;31m \u001b[0mr\u001b[0m \u001b[0;34m=\u001b[0m \u001b[0mrequests\u001b[0m\u001b[0;34m.\u001b[0m\u001b[0mget\u001b[0m\u001b[0;34m(\u001b[0m\u001b[0mnamespace_url\u001b[0m \u001b[0;34m+\u001b[0m \u001b[0;34m'/Streams?query=Fermentor 31*'\u001b[0m\u001b[0;34m,\u001b[0m \u001b[0mheaders\u001b[0m\u001b[0;34m=\u001b[0m\u001b[0mheaders\u001b[0m\u001b[0;34m)\u001b[0m\u001b[0;34m\u001b[0m\u001b[0;34m\u001b[0m\u001b[0m\n\u001b[0m\u001b[1;32m      2\u001b[0m \u001b[0;32mif\u001b[0m \u001b[0mr\u001b[0m\u001b[0;34m.\u001b[0m\u001b[0mstatus_code\u001b[0m \u001b[0;34m==\u001b[0m \u001b[0;36m200\u001b[0m\u001b[0;34m:\u001b[0m\u001b[0;34m\u001b[0m\u001b[0;34m\u001b[0m\u001b[0m\n\u001b[1;32m      3\u001b[0m     \u001b[0mstreams\u001b[0m \u001b[0;34m=\u001b[0m \u001b[0;34m[\u001b[0m\u001b[0mstream\u001b[0m \u001b[0;32mfor\u001b[0m \u001b[0mstream\u001b[0m \u001b[0;32min\u001b[0m \u001b[0mr\u001b[0m\u001b[0;34m.\u001b[0m\u001b[0mjson\u001b[0m\u001b[0;34m(\u001b[0m\u001b[0;34m)\u001b[0m \u001b[0;32mif\u001b[0m \u001b[0;34m'31'\u001b[0m \u001b[0;32min\u001b[0m \u001b[0mstream\u001b[0m\u001b[0;34m[\u001b[0m\u001b[0;34m'Id'\u001b[0m\u001b[0;34m]\u001b[0m\u001b[0;34m]\u001b[0m\u001b[0;34m\u001b[0m\u001b[0;34m\u001b[0m\u001b[0m\n\u001b[1;32m      4\u001b[0m     \u001b[0;32mfor\u001b[0m \u001b[0mi\u001b[0m\u001b[0;34m,\u001b[0m \u001b[0mstream\u001b[0m \u001b[0;32min\u001b[0m \u001b[0menumerate\u001b[0m\u001b[0;34m(\u001b[0m\u001b[0msorted\u001b[0m\u001b[0;34m(\u001b[0m\u001b[0mstreams\u001b[0m\u001b[0;34m,\u001b[0m \u001b[0mkey\u001b[0m\u001b[0;34m=\u001b[0m\u001b[0;32mlambda\u001b[0m \u001b[0mx\u001b[0m\u001b[0;34m:\u001b[0m \u001b[0mx\u001b[0m\u001b[0;34m[\u001b[0m\u001b[0;34m'Id'\u001b[0m\u001b[0;34m]\u001b[0m\u001b[0;34m)\u001b[0m\u001b[0;34m,\u001b[0m \u001b[0;36m1\u001b[0m\u001b[0;34m)\u001b[0m\u001b[0;34m:\u001b[0m\u001b[0;34m\u001b[0m\u001b[0;34m\u001b[0m\u001b[0m\n\u001b[1;32m      5\u001b[0m         \u001b[0mprint\u001b[0m\u001b[0;34m(\u001b[0m\u001b[0;34m'%2d'\u001b[0m \u001b[0;34m%\u001b[0m \u001b[0mi\u001b[0m\u001b[0;34m,\u001b[0m \u001b[0;34m':'\u001b[0m\u001b[0;34m,\u001b[0m \u001b[0mstream\u001b[0m\u001b[0;34m[\u001b[0m\u001b[0;34m'Id'\u001b[0m\u001b[0;34m]\u001b[0m\u001b[0;34m,\u001b[0m \u001b[0;34m' ((( type:'\u001b[0m\u001b[0;34m,\u001b[0m \u001b[0mstream\u001b[0m\u001b[0;34m[\u001b[0m\u001b[0;34m'TypeId'\u001b[0m\u001b[0;34m]\u001b[0m\u001b[0;34m,\u001b[0m \u001b[0;34m')))'\u001b[0m\u001b[0;34m,\u001b[0m \u001b[0;34m'\\n     Description:'\u001b[0m\u001b[0;34m,\u001b[0m \u001b[0mstream\u001b[0m\u001b[0;34m[\u001b[0m\u001b[0;34m'Description'\u001b[0m\u001b[0;34m]\u001b[0m\u001b[0;34m,\u001b[0m \u001b[0;34m)\u001b[0m\u001b[0;34m\u001b[0m\u001b[0;34m\u001b[0m\u001b[0m\n",
      "\u001b[0;32m/opt/conda/lib/python3.6/site-packages/requests/api.py\u001b[0m in \u001b[0;36mget\u001b[0;34m(url, params, **kwargs)\u001b[0m\n\u001b[1;32m     73\u001b[0m \u001b[0;34m\u001b[0m\u001b[0m\n\u001b[1;32m     74\u001b[0m     \u001b[0mkwargs\u001b[0m\u001b[0;34m.\u001b[0m\u001b[0msetdefault\u001b[0m\u001b[0;34m(\u001b[0m\u001b[0;34m'allow_redirects'\u001b[0m\u001b[0;34m,\u001b[0m \u001b[0;32mTrue\u001b[0m\u001b[0;34m)\u001b[0m\u001b[0;34m\u001b[0m\u001b[0;34m\u001b[0m\u001b[0m\n\u001b[0;32m---> 75\u001b[0;31m     \u001b[0;32mreturn\u001b[0m \u001b[0mrequest\u001b[0m\u001b[0;34m(\u001b[0m\u001b[0;34m'get'\u001b[0m\u001b[0;34m,\u001b[0m \u001b[0murl\u001b[0m\u001b[0;34m,\u001b[0m \u001b[0mparams\u001b[0m\u001b[0;34m=\u001b[0m\u001b[0mparams\u001b[0m\u001b[0;34m,\u001b[0m \u001b[0;34m**\u001b[0m\u001b[0mkwargs\u001b[0m\u001b[0;34m)\u001b[0m\u001b[0;34m\u001b[0m\u001b[0;34m\u001b[0m\u001b[0m\n\u001b[0m\u001b[1;32m     76\u001b[0m \u001b[0;34m\u001b[0m\u001b[0m\n\u001b[1;32m     77\u001b[0m \u001b[0;34m\u001b[0m\u001b[0m\n",
      "\u001b[0;32m/opt/conda/lib/python3.6/site-packages/requests/api.py\u001b[0m in \u001b[0;36mrequest\u001b[0;34m(method, url, **kwargs)\u001b[0m\n\u001b[1;32m     58\u001b[0m     \u001b[0;31m# cases, and look like a memory leak in others.\u001b[0m\u001b[0;34m\u001b[0m\u001b[0;34m\u001b[0m\u001b[0;34m\u001b[0m\u001b[0m\n\u001b[1;32m     59\u001b[0m     \u001b[0;32mwith\u001b[0m \u001b[0msessions\u001b[0m\u001b[0;34m.\u001b[0m\u001b[0mSession\u001b[0m\u001b[0;34m(\u001b[0m\u001b[0;34m)\u001b[0m \u001b[0;32mas\u001b[0m \u001b[0msession\u001b[0m\u001b[0;34m:\u001b[0m\u001b[0;34m\u001b[0m\u001b[0;34m\u001b[0m\u001b[0m\n\u001b[0;32m---> 60\u001b[0;31m         \u001b[0;32mreturn\u001b[0m \u001b[0msession\u001b[0m\u001b[0;34m.\u001b[0m\u001b[0mrequest\u001b[0m\u001b[0;34m(\u001b[0m\u001b[0mmethod\u001b[0m\u001b[0;34m=\u001b[0m\u001b[0mmethod\u001b[0m\u001b[0;34m,\u001b[0m \u001b[0murl\u001b[0m\u001b[0;34m=\u001b[0m\u001b[0murl\u001b[0m\u001b[0;34m,\u001b[0m \u001b[0;34m**\u001b[0m\u001b[0mkwargs\u001b[0m\u001b[0;34m)\u001b[0m\u001b[0;34m\u001b[0m\u001b[0;34m\u001b[0m\u001b[0m\n\u001b[0m\u001b[1;32m     61\u001b[0m \u001b[0;34m\u001b[0m\u001b[0m\n\u001b[1;32m     62\u001b[0m \u001b[0;34m\u001b[0m\u001b[0m\n",
      "\u001b[0;32m/opt/conda/lib/python3.6/site-packages/requests/sessions.py\u001b[0m in \u001b[0;36mrequest\u001b[0;34m(self, method, url, params, data, headers, cookies, files, auth, timeout, allow_redirects, proxies, hooks, stream, verify, cert, json)\u001b[0m\n\u001b[1;32m    531\u001b[0m         }\n\u001b[1;32m    532\u001b[0m         \u001b[0msend_kwargs\u001b[0m\u001b[0;34m.\u001b[0m\u001b[0mupdate\u001b[0m\u001b[0;34m(\u001b[0m\u001b[0msettings\u001b[0m\u001b[0;34m)\u001b[0m\u001b[0;34m\u001b[0m\u001b[0;34m\u001b[0m\u001b[0m\n\u001b[0;32m--> 533\u001b[0;31m         \u001b[0mresp\u001b[0m \u001b[0;34m=\u001b[0m \u001b[0mself\u001b[0m\u001b[0;34m.\u001b[0m\u001b[0msend\u001b[0m\u001b[0;34m(\u001b[0m\u001b[0mprep\u001b[0m\u001b[0;34m,\u001b[0m \u001b[0;34m**\u001b[0m\u001b[0msend_kwargs\u001b[0m\u001b[0;34m)\u001b[0m\u001b[0;34m\u001b[0m\u001b[0;34m\u001b[0m\u001b[0m\n\u001b[0m\u001b[1;32m    534\u001b[0m \u001b[0;34m\u001b[0m\u001b[0m\n\u001b[1;32m    535\u001b[0m         \u001b[0;32mreturn\u001b[0m \u001b[0mresp\u001b[0m\u001b[0;34m\u001b[0m\u001b[0;34m\u001b[0m\u001b[0m\n",
      "\u001b[0;32m/opt/conda/lib/python3.6/site-packages/requests/sessions.py\u001b[0m in \u001b[0;36msend\u001b[0;34m(self, request, **kwargs)\u001b[0m\n\u001b[1;32m    644\u001b[0m \u001b[0;34m\u001b[0m\u001b[0m\n\u001b[1;32m    645\u001b[0m         \u001b[0;31m# Send the request\u001b[0m\u001b[0;34m\u001b[0m\u001b[0;34m\u001b[0m\u001b[0;34m\u001b[0m\u001b[0m\n\u001b[0;32m--> 646\u001b[0;31m         \u001b[0mr\u001b[0m \u001b[0;34m=\u001b[0m \u001b[0madapter\u001b[0m\u001b[0;34m.\u001b[0m\u001b[0msend\u001b[0m\u001b[0;34m(\u001b[0m\u001b[0mrequest\u001b[0m\u001b[0;34m,\u001b[0m \u001b[0;34m**\u001b[0m\u001b[0mkwargs\u001b[0m\u001b[0;34m)\u001b[0m\u001b[0;34m\u001b[0m\u001b[0;34m\u001b[0m\u001b[0m\n\u001b[0m\u001b[1;32m    647\u001b[0m \u001b[0;34m\u001b[0m\u001b[0m\n\u001b[1;32m    648\u001b[0m         \u001b[0;31m# Total elapsed time of the request (approximately)\u001b[0m\u001b[0;34m\u001b[0m\u001b[0;34m\u001b[0m\u001b[0;34m\u001b[0m\u001b[0m\n",
      "\u001b[0;32m/opt/conda/lib/python3.6/site-packages/requests/adapters.py\u001b[0m in \u001b[0;36msend\u001b[0;34m(self, request, stream, timeout, verify, cert, proxies)\u001b[0m\n\u001b[1;32m    514\u001b[0m                 \u001b[0;32mraise\u001b[0m \u001b[0mSSLError\u001b[0m\u001b[0;34m(\u001b[0m\u001b[0me\u001b[0m\u001b[0;34m,\u001b[0m \u001b[0mrequest\u001b[0m\u001b[0;34m=\u001b[0m\u001b[0mrequest\u001b[0m\u001b[0;34m)\u001b[0m\u001b[0;34m\u001b[0m\u001b[0;34m\u001b[0m\u001b[0m\n\u001b[1;32m    515\u001b[0m \u001b[0;34m\u001b[0m\u001b[0m\n\u001b[0;32m--> 516\u001b[0;31m             \u001b[0;32mraise\u001b[0m \u001b[0mConnectionError\u001b[0m\u001b[0;34m(\u001b[0m\u001b[0me\u001b[0m\u001b[0;34m,\u001b[0m \u001b[0mrequest\u001b[0m\u001b[0;34m=\u001b[0m\u001b[0mrequest\u001b[0m\u001b[0;34m)\u001b[0m\u001b[0;34m\u001b[0m\u001b[0;34m\u001b[0m\u001b[0m\n\u001b[0m\u001b[1;32m    517\u001b[0m \u001b[0;34m\u001b[0m\u001b[0m\n\u001b[1;32m    518\u001b[0m         \u001b[0;32mexcept\u001b[0m \u001b[0mClosedPoolError\u001b[0m \u001b[0;32mas\u001b[0m \u001b[0me\u001b[0m\u001b[0;34m:\u001b[0m\u001b[0;34m\u001b[0m\u001b[0;34m\u001b[0m\u001b[0m\n",
      "\u001b[0;31mConnectionError\u001b[0m: HTTPSConnectionPool(host='historianmain.osipi.com', port=443): Max retries exceeded with url: /api/Tenants/4fa85df4-9f5a-49f8-954f-dcf0d6e1ff93/Namespaces/Brewing/Streams?query=Fermentor%2031* (Caused by NewConnectionError('<urllib3.connection.VerifiedHTTPSConnection object at 0x7f0982b82e80>: Failed to establish a new connection: [Errno 110] Connection timed out',))"
     ]
    }
   ],
   "source": [
    "r = requests.get(namespace_url + '/Streams?query=Fermentor 31*', headers=headers)\n",
    "if r.status_code == 200:\n",
    "    streams = [stream for stream in r.json() if '31' in stream['Id']]\n",
    "    for i, stream in enumerate(sorted(streams, key=lambda x: x['Id']), 1):\n",
    "        print('%2d' % i, ':', stream['Id'], ' ((( type:', stream['TypeId'], ')))', '\\n     Description:', stream['Description'], )\n",
    "    print(r.json()[0])\n",
    "else:\n",
    "    print('Status:', r.status_code)"
   ]
  },
  {
   "cell_type": "markdown",
   "metadata": {},
   "source": [
    "## Generate JSON for a Dataview\n",
    "\n",
    "**TODO**: Documentation for dataview available at: TBD \n",
    "\n",
    "#### Function `generate_dataview_def` returns a pair: Dataview Id and Dataview JSON body definition.\n",
    "\n",
    "#### The Dataview is built to return: \n",
    "* all data of Fermentor #`ferm_id` as rows\n",
    "* each stream of the fermentor becomes a column _without the_ `Fermentor 3x` _prefix_ (important for dataframe concatenation)\n",
    "* with data starting on UTC time `2017-03-18T00:00:00Z` up to 2017-04-08T00:00:00Z (20 days)\n",
    "* with data interpolated at 1 minute (00:01:00) interval"
   ]
  },
  {
   "cell_type": "code",
   "execution_count": 7,
   "metadata": {},
   "outputs": [],
   "source": [
    "# After changes on 11/27/2018\n",
    "# Now mandatory: \"IndexDataType\": \"DateTime\"\n",
    "version = randint(0, 99)\n",
    "def generate_dataview_def(ferm_id):\n",
    "   dataview_id = 'fermenter%d_20days_1min_v%d' % (ferm_id, version)\n",
    "   return dataview_id, {\n",
    "       \"Id\": dataview_id,\n",
    "        \"Name\": dataview_id,\n",
    "        \"Queries\": [\n",
    "            {\n",
    "                \"Id\" : \"Fermentor\",\n",
    "                \"Query\" : {\n",
    "                        \"Type\": \"StreamName\",\n",
    "                        \"Value\": \"Fermentor %d\" % ferm_id,\n",
    "                        \"Operator\": \"Contains\"\n",
    "                }\n",
    "            }\n",
    "        ],\n",
    "        \"IndexDataType\": \"DateTime\",\n",
    "        \"IndexConfig\": {\n",
    "            \"IsDefault\": False,\n",
    "            \"StartIndex\": \"2017-03-18T00:00:00Z\",\n",
    "            \"EndIndex\": \"2017-04-08T00:00:00Z\",\n",
    "            \"Mode\": \"Interpolated\",\n",
    "            \"Interval\": \"00:01:00\"\n",
    "        }\n",
    "   }"
   ]
  },
  {
   "cell_type": "markdown",
   "metadata": {},
   "source": [
    "## Creation of the Dataviews, for fermenters 31 up to 36\n",
    "\n",
    "* Status 201 from POST request indicates success\n",
    "* Status 401 indicates unauthorized (try refreshing authorization header)\n",
    "* Status 409 when a Dataview with same Id already exists (go to last cell of this notebook to perform a clean up)"
   ]
  },
  {
   "cell_type": "code",
   "execution_count": 8,
   "metadata": {},
   "outputs": [
    {
     "name": "stdout",
     "output_type": "stream",
     "text": [
      "Status: 201 fermenter31_20days_1min_v34 {\"Id\":\"fermenter31_20days_1min_v34\",\"Name\":\"fermenter31_20days_1min_v34\",\"Querie...\n",
      "Status: 201 fermenter32_20days_1min_v34 {\"Id\":\"fermenter32_20days_1min_v34\",\"Name\":\"fermenter32_20days_1min_v34\",\"Querie...\n",
      "Status: 201 fermenter33_20days_1min_v34 {\"Id\":\"fermenter33_20days_1min_v34\",\"Name\":\"fermenter33_20days_1min_v34\",\"Querie...\n",
      "Status: 201 fermenter34_20days_1min_v34 {\"Id\":\"fermenter34_20days_1min_v34\",\"Name\":\"fermenter34_20days_1min_v34\",\"Querie...\n",
      "Status: 201 fermenter35_20days_1min_v34 {\"Id\":\"fermenter35_20days_1min_v34\",\"Name\":\"fermenter35_20days_1min_v34\",\"Querie...\n",
      "Status: 201 fermenter36_20days_1min_v34 {\"Id\":\"fermenter36_20days_1min_v34\",\"Name\":\"fermenter36_20days_1min_v34\",\"Querie...\n"
     ]
    }
   ],
   "source": [
    "dataviews = []\n",
    "for ferm_id in range(31, 37):\n",
    "    dataview_name, dataview_def = generate_dataview_def(ferm_id)\n",
    "    dataviews.append(dataview_name)\n",
    "    response = requests.post(endpoint + dataview_name, headers=headers, json=dataview_def)\n",
    "    print('Status:', response.status_code, dataview_name, response.text[:80]+'...', )"
   ]
  },
  {
   "cell_type": "markdown",
   "metadata": {},
   "source": [
    "## List of Dataviews URLs "
   ]
  },
  {
   "cell_type": "code",
   "execution_count": 9,
   "metadata": {},
   "outputs": [
    {
     "data": {
      "text/plain": [
       "['https://historianmain.osipi.com/api/Tenants/4fa85df4-9f5a-49f8-954f-dcf0d6e1ff93/Namespaces/Brewing/dataviews/fermenter31_20days_1min_v34/preview/interpolated?form=csvh',\n",
       " 'https://historianmain.osipi.com/api/Tenants/4fa85df4-9f5a-49f8-954f-dcf0d6e1ff93/Namespaces/Brewing/dataviews/fermenter32_20days_1min_v34/preview/interpolated?form=csvh',\n",
       " 'https://historianmain.osipi.com/api/Tenants/4fa85df4-9f5a-49f8-954f-dcf0d6e1ff93/Namespaces/Brewing/dataviews/fermenter33_20days_1min_v34/preview/interpolated?form=csvh',\n",
       " 'https://historianmain.osipi.com/api/Tenants/4fa85df4-9f5a-49f8-954f-dcf0d6e1ff93/Namespaces/Brewing/dataviews/fermenter34_20days_1min_v34/preview/interpolated?form=csvh',\n",
       " 'https://historianmain.osipi.com/api/Tenants/4fa85df4-9f5a-49f8-954f-dcf0d6e1ff93/Namespaces/Brewing/dataviews/fermenter35_20days_1min_v34/preview/interpolated?form=csvh',\n",
       " 'https://historianmain.osipi.com/api/Tenants/4fa85df4-9f5a-49f8-954f-dcf0d6e1ff93/Namespaces/Brewing/dataviews/fermenter36_20days_1min_v34/preview/interpolated?form=csvh']"
      ]
     },
     "execution_count": 9,
     "metadata": {},
     "output_type": "execute_result"
    }
   ],
   "source": [
    "# We want 20 days of data worth at 1 minute interval, for fermenter 31 up to 36\n",
    "dataviews_url = [endpoint + '%s/preview/interpolated?form=csvh' % d for d in dataviews]\n",
    "dataviews_url"
   ]
  },
  {
   "cell_type": "markdown",
   "metadata": {},
   "source": [
    "## From a list of dataviews, gather them in parallel and return a single dataframe"
   ]
  },
  {
   "cell_type": "code",
   "execution_count": 10,
   "metadata": {},
   "outputs": [],
   "source": [
    "# Request in parallel all the dataviews, return the concatenated dataframe\n",
    "def get_ocs_dataframe(dataviews, headers, workers=8):\n",
    "    ti = datetime.datetime.now()\n",
    "    session = FuturesSession(executor=ThreadPoolExecutor(max_workers=workers))\n",
    "    rs = [session.get(u, headers=headers) for u in dataviews]\n",
    "    resps = [r.result() for r in rs]\n",
    "    print('Requests completed in', datetime.datetime.now() - ti) \n",
    "    print(resps)\n",
    "    dfs = [pd.read_csv(io.StringIO(r.text), parse_dates=['_time']) for r in resps]\n",
    "    return(pd.concat(dfs, sort=True))"
   ]
  },
  {
   "cell_type": "markdown",
   "metadata": {},
   "source": [
    "## Get dataframe and time it (about 20 seconds, be patient)\n",
    "\n",
    "All responses should HTTP code [200] if everything is ok "
   ]
  },
  {
   "cell_type": "code",
   "execution_count": 11,
   "metadata": {},
   "outputs": [
    {
     "name": "stdout",
     "output_type": "stream",
     "text": [
      "Requests completed in 0:00:20.741605\n",
      "[<Response [200]>, <Response [200]>, <Response [200]>, <Response [200]>, <Response [200]>, <Response [200]>]\n",
      "Dataframe obtained in 0:00:21.727244\n"
     ]
    },
    {
     "data": {
      "text/plain": [
       "<bound method DataFrame.info of             ADF  Bottom_TIC_OUT  Bottom_TIC_PV  Bottom_Temperature     Brand  \\\n",
       "0      0.659725       15.586471      30.011260                   0  Kerberos   \n",
       "1      0.659725       15.586471      30.011260                   0  Kerberos   \n",
       "2      0.659725       15.586471      30.011260                   0  Kerberos   \n",
       "3      0.659725       15.586471      30.011260                   0  Kerberos   \n",
       "4      0.659725       15.586471      30.011260                   0  Kerberos   \n",
       "5      0.659725       15.586471      30.011260                   0  Kerberos   \n",
       "6      0.659725       15.586471      30.011260                   0  Kerberos   \n",
       "7      0.659725       15.586471      30.011260                   0  Kerberos   \n",
       "8      0.659725       15.586471      30.011260                   0  Kerberos   \n",
       "9      0.659725       15.586471      30.011260                   0  Kerberos   \n",
       "10     0.659725       15.586471      30.011260                   0  Kerberos   \n",
       "11     0.659725       15.586471      30.011260                   0  Kerberos   \n",
       "12     0.659725       15.586471      30.011260                   0  Kerberos   \n",
       "13     0.659725       15.586471      30.011260                   0  Kerberos   \n",
       "14     0.659725       15.586471      30.011260                   0  Kerberos   \n",
       "15     0.659725       15.586471      30.011260                   0  Kerberos   \n",
       "16     0.659725       15.586471      30.011260                   0  Kerberos   \n",
       "17     0.659725       15.586471      30.011260                   0  Kerberos   \n",
       "18     0.659725       15.586471      30.011260                   0  Kerberos   \n",
       "19     0.659725       15.586471      30.011260                   0  Kerberos   \n",
       "20     0.659725       15.586471      30.011260                   0  Kerberos   \n",
       "21     0.659725       15.586471      30.011260                   0  Kerberos   \n",
       "22     0.659725       15.586471      30.011260                   0  Kerberos   \n",
       "23     0.659725       15.586471      30.011260                   0  Kerberos   \n",
       "24     0.659725       15.586471      30.011260                   0  Kerberos   \n",
       "25     0.659725       15.586471      30.011260                   0  Kerberos   \n",
       "26     0.659725       15.586471      30.011260                   0  Kerberos   \n",
       "27     0.659725       15.586471      30.011260                   0  Kerberos   \n",
       "28     0.659725       15.586471      30.011260                   0  Kerberos   \n",
       "29     0.659725       15.586471      30.011260                   0  Kerberos   \n",
       "...         ...             ...            ...                 ...       ...   \n",
       "30211  0.740820       93.314320      35.134457                   0       NaN   \n",
       "30212  0.740820       93.319885      35.134773                   0       NaN   \n",
       "30213  0.740820       93.325450      35.135094                   0       NaN   \n",
       "30214  0.740820       93.331010      35.135410                   0       NaN   \n",
       "30215  0.740820       93.336570      35.135730                   0       NaN   \n",
       "30216  0.740820       93.342130      35.136047                   0       NaN   \n",
       "30217  0.740820       93.347694      35.136364                   0       NaN   \n",
       "30218  0.740820       93.353260      35.136684                   0       NaN   \n",
       "30219  0.740820       93.358826      35.137000                   0       NaN   \n",
       "30220  0.740820       93.364390      35.137320                   0       NaN   \n",
       "30221  0.740820       93.369950      35.137638                   0       NaN   \n",
       "30222  0.740820       93.375510      35.137955                   0       NaN   \n",
       "30223  0.740820       93.381070      35.138275                   0       NaN   \n",
       "30224  0.740820       93.386635      35.138590                   0       NaN   \n",
       "30225  0.740820       93.392200      35.138912                   0       NaN   \n",
       "30226  0.740820       93.397760      35.139230                   0       NaN   \n",
       "30227  0.740820       93.403320      35.139545                   0       NaN   \n",
       "30228  0.740820       93.408880      35.139866                   0       NaN   \n",
       "30229  0.740820       93.414444      35.140183                   0       NaN   \n",
       "30230  0.740820       93.420006      35.140503                   0       NaN   \n",
       "30231  0.740820       93.425570      35.140820                   0       NaN   \n",
       "30232  0.740820       93.431130      35.141136                   0       NaN   \n",
       "30233  0.740820       93.436690      35.141457                   0       NaN   \n",
       "30234  0.740820       93.442250      35.141773                   0       NaN   \n",
       "30235  0.740820       93.447815      35.142094                   0       NaN   \n",
       "30236  0.740820       93.453380      35.142410                   0       NaN   \n",
       "30237  0.740820       93.458940      35.142730                   0       NaN   \n",
       "30238  0.740820       93.464500      35.143047                   0       NaN   \n",
       "30239  0.740820       93.470060      35.143364                   0       NaN   \n",
       "30240  0.740820       93.475624      35.143684                   0       NaN   \n",
       "\n",
       "      DefaultGroupRule  FV_Full_Plato           Fermentation_ID  \\\n",
       "0         Fermentor 31       14.69401  Fermentor 31201731179653   \n",
       "1         Fermentor 31       14.69401  Fermentor 31201731179653   \n",
       "2         Fermentor 31       14.69401  Fermentor 31201731179653   \n",
       "3         Fermentor 31       14.69401  Fermentor 31201731179653   \n",
       "4         Fermentor 31       14.69401  Fermentor 31201731179653   \n",
       "5         Fermentor 31       14.69401  Fermentor 31201731179653   \n",
       "6         Fermentor 31       14.69401  Fermentor 31201731179653   \n",
       "7         Fermentor 31       14.69401  Fermentor 31201731179653   \n",
       "8         Fermentor 31       14.69401  Fermentor 31201731179653   \n",
       "9         Fermentor 31       14.69401  Fermentor 31201731179653   \n",
       "10        Fermentor 31       14.69401  Fermentor 31201731179653   \n",
       "11        Fermentor 31       14.69401  Fermentor 31201731179653   \n",
       "12        Fermentor 31       14.69401  Fermentor 31201731179653   \n",
       "13        Fermentor 31       14.69401  Fermentor 31201731179653   \n",
       "14        Fermentor 31       14.69401  Fermentor 31201731179653   \n",
       "15        Fermentor 31       14.69401  Fermentor 31201731179653   \n",
       "16        Fermentor 31       14.69401  Fermentor 31201731179653   \n",
       "17        Fermentor 31       14.69401  Fermentor 31201731179653   \n",
       "18        Fermentor 31       14.69401  Fermentor 31201731179653   \n",
       "19        Fermentor 31       14.69401  Fermentor 31201731179653   \n",
       "20        Fermentor 31       14.69401  Fermentor 31201731179653   \n",
       "21        Fermentor 31       14.69401  Fermentor 31201731179653   \n",
       "22        Fermentor 31       14.69401  Fermentor 31201731179653   \n",
       "23        Fermentor 31       14.69401  Fermentor 31201731179653   \n",
       "24        Fermentor 31       14.69401  Fermentor 31201731179653   \n",
       "25        Fermentor 31       14.69401  Fermentor 31201731179653   \n",
       "26        Fermentor 31       14.69401  Fermentor 31201731179653   \n",
       "27        Fermentor 31       14.69401  Fermentor 31201731179653   \n",
       "28        Fermentor 31       14.69401  Fermentor 31201731179653   \n",
       "29        Fermentor 31       14.69401  Fermentor 31201731179653   \n",
       "...                ...            ...                       ...   \n",
       "30211     Fermentor 36       13.50412                       NaN   \n",
       "30212     Fermentor 36       13.50412                       NaN   \n",
       "30213     Fermentor 36       13.50412                       NaN   \n",
       "30214     Fermentor 36       13.50412                       NaN   \n",
       "30215     Fermentor 36       13.50412                       NaN   \n",
       "30216     Fermentor 36       13.50412                       NaN   \n",
       "30217     Fermentor 36       13.50412                       NaN   \n",
       "30218     Fermentor 36       13.50412                       NaN   \n",
       "30219     Fermentor 36       13.50412                       NaN   \n",
       "30220     Fermentor 36       13.50412                       NaN   \n",
       "30221     Fermentor 36       13.50412                       NaN   \n",
       "30222     Fermentor 36       13.50412                       NaN   \n",
       "30223     Fermentor 36       13.50412                       NaN   \n",
       "30224     Fermentor 36       13.50412                       NaN   \n",
       "30225     Fermentor 36       13.50412                       NaN   \n",
       "30226     Fermentor 36       13.50412                       NaN   \n",
       "30227     Fermentor 36       13.50412                       NaN   \n",
       "30228     Fermentor 36       13.50412                       NaN   \n",
       "30229     Fermentor 36       13.50412                       NaN   \n",
       "30230     Fermentor 36       13.50412                       NaN   \n",
       "30231     Fermentor 36       13.50412                       NaN   \n",
       "30232     Fermentor 36       13.50412                       NaN   \n",
       "30233     Fermentor 36       13.50412                       NaN   \n",
       "30234     Fermentor 36       13.50412                       NaN   \n",
       "30235     Fermentor 36       13.50412                       NaN   \n",
       "30236     Fermentor 36       13.50412                       NaN   \n",
       "30237     Fermentor 36       13.50412                       NaN   \n",
       "30238     Fermentor 36       13.50412                       NaN   \n",
       "30239     Fermentor 36       13.50412                       NaN   \n",
       "30240     Fermentor 36       13.50412                       NaN   \n",
       "\n",
       "       Middle_TIC_OUT  Middle_TIC_PV  Plato    Quality      Status  \\\n",
       "0            9.428778      30.017230    5.0  -1.000000  Maturation   \n",
       "1            9.428778      30.017230    5.0  -1.000000  Maturation   \n",
       "2            9.428778      30.017230    5.0  -1.000000  Maturation   \n",
       "3            9.428778      30.017230    5.0  -1.000000  Maturation   \n",
       "4            9.428778      30.017230    5.0  -1.000000  Maturation   \n",
       "5            9.428778      30.017230    5.0  -1.000000  Maturation   \n",
       "6            9.428778      30.017230    5.0  -1.000000  Maturation   \n",
       "7            9.428778      30.017230    5.0  -1.000000  Maturation   \n",
       "8            9.428778      30.017230    5.0  -1.000000  Maturation   \n",
       "9            9.428778      30.017230    5.0  -1.000000  Maturation   \n",
       "10           9.428778      30.017230    5.0  -1.000000  Maturation   \n",
       "11           9.428778      30.017230    5.0  -1.000000  Maturation   \n",
       "12           9.428778      30.017230    5.0  -1.000000  Maturation   \n",
       "13           9.428778      30.017230    5.0  -1.000000  Maturation   \n",
       "14           9.428778      30.017230    5.0  -1.000000  Maturation   \n",
       "15           9.428778      30.017230    5.0  -1.000000  Maturation   \n",
       "16           9.428778      30.017230    5.0  -1.000000  Maturation   \n",
       "17           9.428778      30.017230    5.0  -1.000000  Maturation   \n",
       "18           9.428778      30.017230    5.0  -1.000000  Maturation   \n",
       "19           9.428778      30.017230    5.0  -1.000000  Maturation   \n",
       "20           9.428778      30.017230    5.0  -1.000000  Maturation   \n",
       "21           9.428778      30.017230    5.0  -1.000000  Maturation   \n",
       "22           9.428778      30.017230    5.0  -1.000000  Maturation   \n",
       "23           9.428778      30.017230    5.0  -1.000000  Maturation   \n",
       "24           9.428778      30.017230    5.0  -1.000000  Maturation   \n",
       "25           9.428778      30.017230    5.0  -1.000000  Maturation   \n",
       "26           9.428778      30.017230    5.0  -1.000000  Maturation   \n",
       "27           9.428778      30.017230    5.0  -1.000000  Maturation   \n",
       "28           9.428778      30.017230    5.0  -1.000000  Maturation   \n",
       "29           9.428778      30.017230    5.0  -1.000000  Maturation   \n",
       "...               ...            ...    ...        ...         ...   \n",
       "30211       94.532850      35.504310    3.5  82.519905         NaN   \n",
       "30212       94.537410      35.504642    3.5  82.525100         NaN   \n",
       "30213       94.541954      35.504974    3.5  82.530290         NaN   \n",
       "30214       94.546500      35.505302    3.5  82.535484         NaN   \n",
       "30215       94.551050      35.505634    3.5  82.540680         NaN   \n",
       "30216       94.555595      35.505966    3.5  82.545875         NaN   \n",
       "30217       94.560140      35.506298    3.5  82.551060         NaN   \n",
       "30218       94.564700      35.506626    3.5  82.556260         NaN   \n",
       "30219       94.569244      35.506958    3.5  82.561455         NaN   \n",
       "30220       94.573790      35.507290    3.5  82.566650         NaN   \n",
       "30221       94.578340      35.507620    3.5  82.571840         NaN   \n",
       "30222       94.582886      35.507954    3.5  82.577034         NaN   \n",
       "30223       94.587430      35.508280    3.5  82.582230         NaN   \n",
       "30224       94.591980      35.508614    3.5  82.587425         NaN   \n",
       "30225       94.596535      35.508946    3.5  82.592610         NaN   \n",
       "30226       94.601080      35.509277    3.5  82.597810         NaN   \n",
       "30227       94.605630      35.509605    3.5  82.603004         NaN   \n",
       "30228       94.610176      35.509937    3.5  82.608200         NaN   \n",
       "30229       94.614720      35.510270    3.5  82.613390         NaN   \n",
       "30230       94.619270      35.510600    3.5  82.618580         NaN   \n",
       "30231       94.623825      35.510930    3.5  82.623780         NaN   \n",
       "30232       94.628370      35.511260    3.5  82.628975         NaN   \n",
       "30233       94.632920      35.511593    3.5  82.634160         NaN   \n",
       "30234       94.637470      35.511925    3.5  82.639360         NaN   \n",
       "30235       94.642010      35.512253    3.5  82.644554         NaN   \n",
       "30236       94.646560      35.512585    3.5  82.649750         NaN   \n",
       "30237       94.651115      35.512917    3.5  82.654940         NaN   \n",
       "30238       94.655660      35.513250    3.5  82.660130         NaN   \n",
       "30239       94.660210      35.513576    3.5  82.665330         NaN   \n",
       "30240       94.664760      35.513910    3.5  82.670525         NaN   \n",
       "\n",
       "       Top_TIC_OUT  Top_TIC_PV    Volume               _time  \n",
       "0         0.000000   29.900000  716.5660 2017-03-18 00:00:00  \n",
       "1         0.000000   29.900000  716.5660 2017-03-18 00:01:00  \n",
       "2         0.000000   29.900000  716.5660 2017-03-18 00:02:00  \n",
       "3         0.000000   29.900000  716.5660 2017-03-18 00:03:00  \n",
       "4         0.000000   29.900000  716.5660 2017-03-18 00:04:00  \n",
       "5         0.000000   29.900000  716.5660 2017-03-18 00:05:00  \n",
       "6         0.000000   29.900000  716.5660 2017-03-18 00:06:00  \n",
       "7         0.000000   29.900000  716.5660 2017-03-18 00:07:00  \n",
       "8         0.000000   29.900000  716.5660 2017-03-18 00:08:00  \n",
       "9         0.000000   29.900000  716.5660 2017-03-18 00:09:00  \n",
       "10        0.000000   29.900000  716.5660 2017-03-18 00:10:00  \n",
       "11        0.000000   29.900000  716.5660 2017-03-18 00:11:00  \n",
       "12        0.000000   29.900000  716.5660 2017-03-18 00:12:00  \n",
       "13        0.000000   29.900000  716.5660 2017-03-18 00:13:00  \n",
       "14        0.000000   29.900000  716.5660 2017-03-18 00:14:00  \n",
       "15        0.000000   29.900000  716.5660 2017-03-18 00:15:00  \n",
       "16        0.000000   29.900000  716.5660 2017-03-18 00:16:00  \n",
       "17        0.000000   29.900000  716.5660 2017-03-18 00:17:00  \n",
       "18        0.000000   29.900000  716.5660 2017-03-18 00:18:00  \n",
       "19        0.000000   29.900000  716.5660 2017-03-18 00:19:00  \n",
       "20        0.000000   29.900000  716.5660 2017-03-18 00:20:00  \n",
       "21        0.000000   29.900000  716.5660 2017-03-18 00:21:00  \n",
       "22        0.000000   29.900000  716.5660 2017-03-18 00:22:00  \n",
       "23        0.000000   29.900000  716.5660 2017-03-18 00:23:00  \n",
       "24        0.000000   29.900000  716.5660 2017-03-18 00:24:00  \n",
       "25        0.000000   29.900000  716.5660 2017-03-18 00:25:00  \n",
       "26        0.000000   29.900000  716.5660 2017-03-18 00:26:00  \n",
       "27        0.000000   29.900000  716.5660 2017-03-18 00:27:00  \n",
       "28        0.000000   29.900000  716.5660 2017-03-18 00:28:00  \n",
       "29        0.000000   29.900000  716.5660 2017-03-18 00:29:00  \n",
       "...            ...         ...       ...                 ...  \n",
       "30211    93.045190   36.517952  715.3655 2017-04-07 23:31:00  \n",
       "30212    93.050970   36.518370  715.3655 2017-04-07 23:32:00  \n",
       "30213    93.056760   36.518790  715.3655 2017-04-07 23:33:00  \n",
       "30214    93.062546   36.519215  715.3655 2017-04-07 23:34:00  \n",
       "30215    93.068340   36.519634  715.3655 2017-04-07 23:35:00  \n",
       "30216    93.074120   36.520058  715.3655 2017-04-07 23:36:00  \n",
       "30217    93.079900   36.520477  715.3655 2017-04-07 23:37:00  \n",
       "30218    93.085690   36.520900  715.3655 2017-04-07 23:38:00  \n",
       "30219    93.091480   36.521320  715.3655 2017-04-07 23:39:00  \n",
       "30220    93.097260   36.521744  715.3655 2017-04-07 23:40:00  \n",
       "30221    93.103050   36.522163  715.3655 2017-04-07 23:41:00  \n",
       "30222    93.108830   36.522587  715.3655 2017-04-07 23:42:00  \n",
       "30223    93.114624   36.523006  715.3655 2017-04-07 23:43:00  \n",
       "30224    93.120410   36.523426  715.3655 2017-04-07 23:44:00  \n",
       "30225    93.126190   36.523850  715.3655 2017-04-07 23:45:00  \n",
       "30226    93.131980   36.524270  715.3655 2017-04-07 23:46:00  \n",
       "30227    93.137764   36.524693  715.3655 2017-04-07 23:47:00  \n",
       "30228    93.143555   36.525112  715.3655 2017-04-07 23:48:00  \n",
       "30229    93.149340   36.525536  715.3655 2017-04-07 23:49:00  \n",
       "30230    93.155120   36.525955  715.3655 2017-04-07 23:50:00  \n",
       "30231    93.160910   36.526380  715.3655 2017-04-07 23:51:00  \n",
       "30232    93.166695   36.526800  715.3655 2017-04-07 23:52:00  \n",
       "30233    93.172485   36.527220  715.3655 2017-04-07 23:53:00  \n",
       "30234    93.178270   36.527640  715.3655 2017-04-07 23:54:00  \n",
       "30235    93.184050   36.528060  715.3655 2017-04-07 23:55:00  \n",
       "30236    93.189840   36.528484  715.3655 2017-04-07 23:56:00  \n",
       "30237    93.195625   36.528904  715.3655 2017-04-07 23:57:00  \n",
       "30238    93.201410   36.529327  715.3655 2017-04-07 23:58:00  \n",
       "30239    93.207200   36.529747  715.3655 2017-04-07 23:59:00  \n",
       "30240    93.212980   36.530170  715.3655 2017-04-08 00:00:00  \n",
       "\n",
       "[181446 rows x 17 columns]>"
      ]
     },
     "execution_count": 11,
     "metadata": {},
     "output_type": "execute_result"
    }
   ],
   "source": [
    "t0 = datetime.datetime.now()\n",
    "df = get_ocs_dataframe(dataviews_url, headers)\n",
    "print('Dataframe obtained in', datetime.datetime.now() - t0) \n",
    "df.info"
   ]
  },
  {
   "cell_type": "markdown",
   "metadata": {},
   "source": [
    "### Note the that resulting dataframe has almost 182K rows\n",
    "\n",
    "## Save data into CSV file locally in directory FlashcARD"
   ]
  },
  {
   "cell_type": "code",
   "execution_count": 12,
   "metadata": {},
   "outputs": [],
   "source": [
    "df.to_csv('beer_20_days.csv')"
   ]
  },
  {
   "cell_type": "markdown",
   "metadata": {},
   "source": [
    "---\n",
    "## Clicking this [link](./beer_20_days.csv) opens up a CSV browser with the CSV above\n",
    "---"
   ]
  },
  {
   "cell_type": "markdown",
   "metadata": {},
   "source": [
    "### List of column names with their type\n",
    "\n",
    "Note that the `_time` column (a new column on top of the 16 ones of a Fermentor) has the correct datetime panda data type for timestamps"
   ]
  },
  {
   "cell_type": "code",
   "execution_count": 13,
   "metadata": {},
   "outputs": [
    {
     "name": "stdout",
     "output_type": "stream",
     "text": [
      " 1 ADF ((( type: float64 )))\n",
      " 2 Bottom_TIC_OUT ((( type: float64 )))\n",
      " 3 Bottom_TIC_PV ((( type: float64 )))\n",
      " 4 Bottom_Temperature ((( type: int64 )))\n",
      " 5 Brand ((( type: object )))\n",
      " 6 DefaultGroupRule ((( type: object )))\n",
      " 7 FV_Full_Plato ((( type: float64 )))\n",
      " 8 Fermentation_ID ((( type: object )))\n",
      " 9 Middle_TIC_OUT ((( type: float64 )))\n",
      "10 Middle_TIC_PV ((( type: float64 )))\n",
      "11 Plato ((( type: float64 )))\n",
      "12 Quality ((( type: float64 )))\n",
      "13 Status ((( type: object )))\n",
      "14 Top_TIC_OUT ((( type: float64 )))\n",
      "15 Top_TIC_PV ((( type: float64 )))\n",
      "16 Volume ((( type: float64 )))\n",
      "17 _time ((( type: datetime64[ns] )))\n"
     ]
    }
   ],
   "source": [
    "for i, c in enumerate(df.columns, 1):\n",
    "    print('%2d' % i, c, '((( type:', df[c].dtype, ')))')"
   ]
  },
  {
   "cell_type": "markdown",
   "metadata": {},
   "source": [
    "### List of unique Fermentation ID\n",
    "\n",
    "We want to track the Apparent Degree of Fermentation (ADF) per fermentation batch tracked by ID "
   ]
  },
  {
   "cell_type": "code",
   "execution_count": 14,
   "metadata": {},
   "outputs": [
    {
     "name": "stdout",
     "output_type": "stream",
     "text": [
      "Fermentor 31201731179653 True\n",
      "nan False\n",
      "Fermentor 31201732314856 True\n",
      "FV322016113055113 True\n",
      "Fermentor 33201731511870 True\n",
      "Fermentor 3320173183371 True\n",
      "FV342016112860676 True\n",
      "FV35201612449149 True\n",
      "Fermentor 36201731679561 True\n"
     ]
    }
   ],
   "source": [
    "for f in df.Fermentation_ID.unique():\n",
    "    print(f, isinstance(f, str))"
   ]
  },
  {
   "cell_type": "markdown",
   "metadata": {},
   "source": [
    "### Prepare ADF curve plots over time "
   ]
  },
  {
   "cell_type": "code",
   "execution_count": 15,
   "metadata": {},
   "outputs": [],
   "source": [
    "import plotly.graph_objs as go\n",
    "\n",
    "figs = []\n",
    "data = []\n",
    "for f in df.Fermentation_ID.unique():\n",
    "    trace = go.Scattergl(x = df[df.Fermentation_ID == f]['_time'], y = df[df.Fermentation_ID == f]['ADF'], mode='lines+markers', name=str(f))\n",
    "    figs.append(go.FigureWidget(data=[trace]))\n",
    "    data.append(trace)"
   ]
  },
  {
   "cell_type": "markdown",
   "metadata": {},
   "source": [
    "### Add a range slider \n",
    "\n",
    "With a few time range selectors: 8 hours, 1 day and everything \n",
    "\n",
    "Note: range slider is grey now because of an incompatibility with ScatterGL: https://github.com/plotly/plotly.js/issues/2627"
   ]
  },
  {
   "cell_type": "code",
   "execution_count": 16,
   "metadata": {},
   "outputs": [
    {
     "data": {
      "application/vnd.jupyter.widget-view+json": {
       "model_id": "96657fcbe0dc44c580262eb3130133f1",
       "version_major": 2,
       "version_minor": 0
      },
      "text/plain": [
       "FigureWidget({\n",
       "    'data': [{'mode': 'lines+markers',\n",
       "              'name': 'Fermentor 31201731179653',\n",
       "      …"
      ]
     },
     "metadata": {},
     "output_type": "display_data"
    }
   ],
   "source": [
    "layout = dict(\n",
    "    title='Brewing ADF with time range slider',\n",
    "    xaxis=dict(\n",
    "        rangeselector=dict(\n",
    "            buttons=list([\n",
    "                dict(count=8,\n",
    "                     label='8h',\n",
    "                     step='hour',\n",
    "                     stepmode='backward'),\n",
    "                dict(count=1,\n",
    "                     label='1d',\n",
    "                     step='day',\n",
    "                     stepmode='backward'),\n",
    "                dict(step='all')\n",
    "            ])\n",
    "        ),\n",
    "        rangeslider=dict(\n",
    "            visible = True\n",
    "        ),\n",
    "        type='date'\n",
    "    )\n",
    ")\n",
    "        \n",
    "fig = go.FigureWidget(data=data, layout=layout)\n",
    "fig"
   ]
  },
  {
   "cell_type": "markdown",
   "metadata": {},
   "source": [
    "## Clean up: delete Dataviews  \n",
    "\n",
    "* Code 204 if deletion is successful\n",
    "* Code 404 if requested Dataview Id doesn't exist or already deleted"
   ]
  },
  {
   "cell_type": "code",
   "execution_count": 17,
   "metadata": {},
   "outputs": [
    {
     "name": "stdout",
     "output_type": "stream",
     "text": [
      "204 https://historianmain.osipi.com/api/Tenants/4fa85df4-9f5a-49f8-954f-dcf0d6e1ff93/Namespaces/Brewing/dataviews/fermenter31_20days_1min_v46\n",
      "204 https://historianmain.osipi.com/api/Tenants/4fa85df4-9f5a-49f8-954f-dcf0d6e1ff93/Namespaces/Brewing/dataviews/fermenter32_20days_1min_v46\n",
      "204 https://historianmain.osipi.com/api/Tenants/4fa85df4-9f5a-49f8-954f-dcf0d6e1ff93/Namespaces/Brewing/dataviews/fermenter33_20days_1min_v46\n",
      "204 https://historianmain.osipi.com/api/Tenants/4fa85df4-9f5a-49f8-954f-dcf0d6e1ff93/Namespaces/Brewing/dataviews/fermenter34_20days_1min_v46\n",
      "204 https://historianmain.osipi.com/api/Tenants/4fa85df4-9f5a-49f8-954f-dcf0d6e1ff93/Namespaces/Brewing/dataviews/fermenter35_20days_1min_v46\n",
      "204 https://historianmain.osipi.com/api/Tenants/4fa85df4-9f5a-49f8-954f-dcf0d6e1ff93/Namespaces/Brewing/dataviews/fermenter36_20days_1min_v46\n"
     ]
    }
   ],
   "source": [
    "for dv in dataviews_url:\n",
    "    dv_url = dv[:dv.find('/preview')]\n",
    "    s = requests.delete(dv_url, headers=headers)\n",
    "    print(s.status_code, dv_url)"
   ]
  },
  {
   "cell_type": "code",
   "execution_count": null,
   "metadata": {},
   "outputs": [],
   "source": []
  }
 ],
 "metadata": {
  "kernelspec": {
   "display_name": "Python 3",
   "language": "python",
   "name": "python3"
  },
  "language_info": {
   "codemirror_mode": {
    "name": "ipython",
    "version": 3
   },
   "file_extension": ".py",
   "mimetype": "text/x-python",
   "name": "python",
   "nbconvert_exporter": "python",
   "pygments_lexer": "ipython3",
   "version": "3.7.1"
  }
 },
 "nbformat": 4,
 "nbformat_minor": 2
}
