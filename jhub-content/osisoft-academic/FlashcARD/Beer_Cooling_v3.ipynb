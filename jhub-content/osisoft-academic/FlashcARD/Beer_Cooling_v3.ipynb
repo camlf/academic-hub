{
 "cells": [
  {
   "cell_type": "code",
   "execution_count": 17,
   "metadata": {
    "pycharm": {
     "metadata": false,
     "name": "#%%\n"
    }
   },
   "outputs": [],
   "source": [
    "import datetime as dt\n",
    "import functools\n",
    "import multiprocessing\n",
    "import time\n",
    "from enum import Enum\n",
    "\n",
    "import plotly.graph_objs as go\n",
    "import plotly.io as po\n",
    "import matplotlib.pyplot as plt\n",
    "import numpy as np\n",
    "import pandas as pd\n",
    "from scipy.optimize import curve_fit\n",
    "\n",
    "pd.set_option('display.expand_frame_repr', False)\n",
    "pd.options.mode.chained_assignment = None\n"
   ]
  },
  {
   "cell_type": "code",
   "execution_count": 18,
   "metadata": {
    "pycharm": {}
   },
   "outputs": [],
   "source": [
    "def timer(func):\n",
    "    \"\"\"Print the runtime of the decorated function\"\"\"\n",
    "    @functools.wraps(func)\n",
    "    def wrapper_timer(*args, **kwargs):\n",
    "        start_time = time.perf_counter()\n",
    "        value = func(*args, **kwargs)\n",
    "        end_time = time.perf_counter()\n",
    "        run_time = end_time - start_time\n",
    "        function_info = f\"  ==> Finished {func.__name__!r} in\".ljust(50)\n",
    "        print(f\"{function_info} {run_time:.4f} secs\")\n",
    "        return value\n",
    "    return wrapper_timer\n",
    "allo = 'allo'"
   ]
  },
  {
   "cell_type": "code",
   "execution_count": 19,
   "metadata": {
    "pycharm": {}
   },
   "outputs": [],
   "source": [
    "def get_cached_data_acs(fermenter, days, q):\n",
    "    data_template = 'cache_data/brewery_data_ferm_{fermenter}_day_{day}.csv'\n",
    "    data_files = [data_template.format(fermenter=str(fermenter), day=str(d)) for d in range(days)]\n",
    "    df_list = []\n",
    "    for day, filename in enumerate(data_files):\n",
    "        with open(filename) as f:\n",
    "            df_list.append(pd.read_csv(f))\n",
    "    df = pd.concat(df_list, sort=True)\n",
    "    q.put(df)\n",
    "\n",
    "\n",
    "@timer\n",
    "def all_brand_data_read(num_days):\n",
    "    t0 = dt.datetime.now()\n",
    "    print('Step 1 (start): read data from local cache... ', end='', flush=True)\n",
    "    q = multiprocessing.Queue()\n",
    "    worker = []\n",
    "    for fermenter in range(31, 37):\n",
    "        t = multiprocessing.Process(target=get_cached_data_acs, args=(fermenter, num_days, q))\n",
    "        worker.append(t)\n",
    "        worker[-1].start()\n",
    "\n",
    "    df = pd.DataFrame()\n",
    "    for _ in range(31, 37):\n",
    "        df_temp = q.get()\n",
    "        df = df.append(df_temp, ignore_index=True)\n",
    "\n",
    "    for t in worker:\n",
    "        t.join()\n",
    "\n",
    "    print('done, time:', dt.datetime.now() - t0)\n",
    "    df.to_csv(f'beer_case2_{num_days}.csv')\n",
    "    return df\n",
    "\n",
    "\n",
    "@timer\n",
    "def all_brand_data_csv(num_days):\n",
    "    return pd.read_csv(f'beer_case2_{num_days}.csv')"
   ]
  },
  {
   "cell_type": "code",
   "execution_count": 20,
   "metadata": {
    "pycharm": {}
   },
   "outputs": [],
   "source": [
    "class Pos(Enum):\n",
    "    bottom = 1\n",
    "    middle = 2\n",
    "    top = 3\n",
    "\n",
    "\n",
    "pressure_valve = {p: p.name.capitalize() + ' TIC PV' for p in Pos}\n",
    "BOTTOM_PV = pressure_valve[Pos.bottom]\n",
    "MIDDLE_PV = pressure_valve[Pos.middle]\n",
    "TOP_PV = pressure_valve[Pos.top]\n",
    "TIC_PVS = [BOTTOM_PV, TOP_PV, MIDDLE_PV]\n",
    "\n",
    "BOTTOM_OUT = BOTTOM_PV.replace('PV', 'OUT')\n",
    "MIDDLE_OUT = MIDDLE_PV.replace('PV', 'OUT')\n",
    "TOP_OUT = TOP_PV.replace('PV', 'OUT')\n",
    "TIC_OUTS = [BOTTOM_OUT, TOP_OUT, MIDDLE_OUT]\n",
    "\n",
    "BAD_INPUT = 'Bad Input'\n",
    "COMM_FAILURES = ['I/O Timeout', 'Comm Fail']\n",
    "POST_FERMENTATION_STAGES = ['Fermentation', 'Free Rise', 'Diacetyl Rest', 'Cooling']"
   ]
  },
  {
   "cell_type": "code",
   "execution_count": 21,
   "metadata": {
    "pycharm": {}
   },
   "outputs": [],
   "source": [
    "@timer\n",
    "def brand_df_cleanup(brand_df):\n",
    "    # Remove all data point with bad input\n",
    "    brand_df = brand_df \\\n",
    "        .drop(brand_df[brand_df.Brand == BAD_INPUT].index) \\\n",
    "        .drop(brand_df[brand_df.Status == BAD_INPUT].index) \\\n",
    "        .drop(brand_df[brand_df[TOP_PV] == BAD_INPUT].index |\n",
    "              brand_df[brand_df[MIDDLE_PV] == BAD_INPUT].index |\n",
    "              brand_df[brand_df[TOP_PV] == BAD_INPUT].index,\n",
    "              errors='ignore')\n",
    "\n",
    "    # Keep only fermentation or post-fermentation stages\n",
    "    brand_status_df = brand_df.loc[brand_df['Status'].isin(POST_FERMENTATION_STAGES)]\n",
    "\n",
    "    # Remove all data points with communication issues\n",
    "    for tic_pv in TIC_PVS:\n",
    "        brand_status_df = brand_status_df[~(brand_status_df[tic_pv].isin(COMM_FAILURES))]\n",
    "        brand_status_df[tic_pv] = brand_status_df[tic_pv].astype(float)\n",
    "\n",
    "    return brand_df, brand_status_df"
   ]
  },
  {
   "cell_type": "code",
   "execution_count": 22,
   "metadata": {
    "pycharm": {}
   },
   "outputs": [],
   "source": [
    "@timer\n",
    "def cooling_data_extraction(fermentation_df, brand_status_df, brand, use_temp_position):\n",
    "    # Provides the corrected time offset post fermentation\n",
    "    brand_status_df = fermentation_times(brand_status_df, fermentation_df, brand)\n",
    "\n",
    "    for tic_out in TIC_OUTS:\n",
    "        brand_status_df[tic_out] = pd.to_numeric(brand_status_df[tic_out], errors='coerce')\n",
    "\n",
    "    # condition for it to be in cooling phase\n",
    "    cool_stage = brand_status_df[\n",
    "        (brand_status_df[TOP_OUT] > 99.99) &\n",
    "        (brand_status_df[MIDDLE_OUT] > 99.99) &\n",
    "        (brand_status_df[BOTTOM_OUT] > 99.99)]\n",
    "\n",
    "    # get the first cooling step for each fermentation stage\n",
    "    cooling_start_frame = cool_stage.groupby('label').first().reset_index()\n",
    "\n",
    "    cooling_data = []\n",
    "    for position in use_temp_position:\n",
    "        if position.value:\n",
    "            cooling_data.append(get_cooling_frames(cool_stage, cooling_start_frame, brand, position))\n",
    "\n",
    "    return cooling_data\n",
    "\n",
    "\n",
    "@timer\n",
    "def get_cooling_frames(cool_stage, cooling_start_frame, brand, position):  # bottom=False, middle=True, top=False):\n",
    "    start_time = 0\n",
    "    end_time = 3.5  # in days, longest cooling period possible\n",
    "\n",
    "    cooling_column = 'Time since cooling'\n",
    "    cool_stage.loc[:, 'Time since cooling'] = -1\n",
    "    cooling_stage = pd.DataFrame()\n",
    "    if len(cooling_start_frame) > 0:\n",
    "        for index, row in cooling_start_frame.iterrows():\n",
    "            label = row['label2']  # get the unique label\n",
    "            cool_start_time = row['tsf3']  # get the unique start of cooling to each label\n",
    "            # Each unique label is associated with a fermentation stage for a brand\n",
    "            mask = (cool_stage['label2'] == label)  # get those rows with that same label\n",
    "            cool_stage_valid = cool_stage[mask]\n",
    "\n",
    "            tic_pv = pressure_valve[position]\n",
    "            # get only frames that have the bottom process variable greater than 50\n",
    "            if float(row[tic_pv]) > 50:  # and keep [CF]\n",
    "                # subtract the start of cooling from each individual cooling step\n",
    "                cool_stage.loc[mask, cooling_column] = cool_stage_valid['tsf3'] - cool_start_time\n",
    "\n",
    "                cool_stage_current = cool_stage[(cool_stage[cooling_column] >= start_time) &\n",
    "                                                (cool_stage[cooling_column] < end_time)]\n",
    "                # make sure the labels are all positive, make sure these are post fermentation stages\n",
    "                cool_stage_current = cool_stage_current[cool_stage_current['label'] >= 0]\n",
    "                # get only the max of the post fermentation stages\n",
    "                cool_stage_current[tic_pv] = cool_stage_current.groupby([cooling_column])[tic_pv].transform(max)\n",
    "                cool_stage_current = cool_stage_current.rename(columns={tic_pv: 'temperature', cooling_column: 'tsc'})\n",
    "                cool_stage_current = cool_stage_current[['temperature', 'tsc', 'Brand', 'label', 'Volume']]\n",
    "                cooling_stage = cool_stage_current\n",
    "    else:\n",
    "        print(\"!!! Sorry no cooling stage associated with \" + str(brand) + \" brand\")\n",
    "\n",
    "    return cooling_stage"
   ]
  },
  {
   "cell_type": "code",
   "execution_count": 23,
   "metadata": {
    "pycharm": {}
   },
   "outputs": [],
   "source": [
    "# Return the rows when fermentation start for a brand\n",
    "@timer\n",
    "def fermentation_starts_naive(brand_frame, all_frame):\n",
    "    fermentation_start_list = []\n",
    "    for i, row in brand_frame.iterrows():\n",
    "        if row['Status'] == 'Fermentation' and all_frame.loc[i - 1]['Status'] != 'Fermentation':\n",
    "            fermentation_start_list.append(row)\n",
    "    return fermentation_start_list\n",
    "\n",
    "\n",
    "# Return the rows when fermentation start for a brand\n",
    "@timer\n",
    "def fermentation_starts_optimized(brand_df):\n",
    "    df = brand_df[(brand_df['Status'] == 'Fermentation') & (brand_df['Status'].shift(1) != 'Fermentation')]\n",
    "    fermentation_starts = [row for _, row in df.iterrows()]\n",
    "    return fermentation_starts\n",
    "\n",
    "\n",
    "# Get the time since fermentation\n",
    "@timer\n",
    "def fermentation_times(brand_frame, fermentation_frames, brand):\n",
    "    brand_frame['tsf2'] = 100000  # initializing the temp variables\n",
    "    brand_frame['tsf3'] = 100000  # init the temp variables\n",
    "    brand_frame['label'] = -1  # label is to label all fermentation processes\n",
    "    if brand == 'Realtime Hops':\n",
    "        print(len(fermentation_frames))\n",
    "    count = 0\n",
    "    for index, fermentation_frame in enumerate(fermentation_frames):\n",
    "        fermentation_time = fermentation_frame['Timestamp']\n",
    "        brand_frame['label'] = brand_frame['Timestamp'].apply(\n",
    "            lambda x: count if pd.Timestamp(x) >= pd.Timestamp(fermentation_time) else -1)\n",
    "        brand_frame['tsf2'] = brand_frame['Timestamp'].apply(\n",
    "            lambda x: ((pd.Timestamp(x)) - (pd.Timestamp(fermentation_time))).total_seconds() if pd.Timestamp(\n",
    "                x) >= pd.Timestamp(fermentation_time) else 1000000000)\n",
    "        brand_frame['tsf2'] = brand_frame['tsf2'].apply(lambda x: x / 86400)  # convert time to days\n",
    "        if count > 0:\n",
    "            # the min of the two is the actual time since fermentation start\n",
    "            brand_frame['tsf2'] = brand_frame[['tsf2', 'tsf3']].min(axis=1)\n",
    "            mask = (brand_frame['label'] == -1)\n",
    "            brand_frame_valid = brand_frame[mask]\n",
    "            brand_frame.loc[mask, 'label'] = brand_frame_valid['label2']\n",
    "\n",
    "        brand_frame['tsf3'] = brand_frame['tsf2']\n",
    "        brand_frame['label2'] = brand_frame['label']\n",
    "        count += 1\n",
    "\n",
    "    # if there is any zero just remove that\n",
    "    brand_frame = brand_frame[(brand_frame['tsf3'] <= 100000) & (brand_frame['label2'] >= 0)]\n",
    "\n",
    "    return brand_frame"
   ]
  },
  {
   "cell_type": "code",
   "execution_count": 29,
   "metadata": {
    "pycharm": {}
   },
   "outputs": [],
   "source": [
    "def temperature_profile(x, a, b):\n",
    "    # Unpack x values\n",
    "    temperature = x[0]\n",
    "    volume = x[1]\n",
    "    return temperature + np.multiply(temperature, np.multiply(a, np.reciprocal(volume))) - a * b * np.reciprocal(volume)"
   ]
  },
  {
   "cell_type": "code",
   "execution_count": 38,
   "metadata": {
    "pycharm": {}
   },
   "outputs": [],
   "source": [
    "# %%debug\n",
    "# import pdb\n",
    "# from pdb import set_trace as bp\n",
    "def main(brand, temp_sensors, training_days, testing_days):\n",
    "    \"\"\"\n",
    "    Input parameters:\n",
    "    * brand to consider\n",
    "    * temperature sensor position to use for computation\n",
    "    * number of days to compute prediction parameters\n",
    "    * number of days for testing\n",
    "    \"\"\"\n",
    "    # ['5450' 'Bad Input' 5450 nan 'Alistair' 'Kerberos' 'Realtime Hops'\n",
    "    #  'Red Wonder' 'Grey Horse']\n",
    "    # brand = 'Kerberos'\n",
    "    use_temp_position = {\n",
    "        Pos.bottom: temp_sensors['bottom'],\n",
    "        Pos.middle: temp_sensors['middle'],\n",
    "        Pos.top: temp_sensors['top']\n",
    "    }\n",
    "    # training_days = 20\n",
    "    # testing_days = 200\n",
    "    optimized_fermentation_start = True\n",
    "    num_day = [training_days]  # testing_days]\n",
    "    t00 = dt.datetime.now()\n",
    "    for num_days in num_day:\n",
    "        all_df = all_brand_data_read(num_days)\n",
    "        # all_df = all_brand_data_csv(num_days)\n",
    "        brand_df = all_df[all_df.Brand == brand]\n",
    "        brand_df, brand_status_df = brand_df_cleanup(brand_df)\n",
    "        # Get fermentation starts: each brand has particular rows that signify the start of fermentation\n",
    "        if not optimized_fermentation_start:\n",
    "            fermentation_df = fermentation_starts_naive(brand_df, all_df)\n",
    "        else:\n",
    "            fermentation_df = fermentation_starts_optimized(brand_df)\n",
    "        if len(fermentation_df) == 0:\n",
    "            print('!!! No fermentation data for brand:', brand)\n",
    "            return 1\n",
    "        cooling_data = cooling_data_extraction(fermentation_df, brand_status_df, brand, use_temp_position)\n",
    "\n",
    "        if len(cooling_data) > 0:\n",
    "            # bp()\n",
    "            # Concatenating the cooling_data list into a single dataframe\n",
    "            cool_df = pd.concat(cooling_data)\n",
    "            # sort the temperatures in a descending fashion\n",
    "            cool_df = cool_df.sort_values(by=['temperature'], ascending=False)\n",
    "            cool_df.to_csv(f'cool_df_{training_days}days.csv')\n",
    "\n",
    "            # get the y value for the x, this will be used in curve fitting\n",
    "            cool_df['temp_y'] = cool_df['temperature'].shift(-1)\n",
    "            cool_df = cool_df[:-1]  # drop the last row\n",
    "\n",
    "            if num_days == training_days:\n",
    "\n",
    "                cool_df_training = pd.DataFrame()\n",
    "                lbl = 0\n",
    "\n",
    "                while cool_df_training.empty:\n",
    "                    cool_df_training = cool_df[cool_df.label == lbl]\n",
    "                    lbl += 1\n",
    "                cool_df_training.to_csv(f'cool_df_training{training_days}days.csv')\n",
    "                x1_train = cool_df_training.temperature.values  # training temperature feature\n",
    "                x2_train = cool_df_training.Volume.values.astype(float)  # training Volume feature\n",
    "                x = [x1_train, x2_train]  # [temperature, volume]\n",
    "\n",
    "                # Training of non-linear least squares model\n",
    "                # Nonlinear curve-fitting pass a tuple in curve fitting\n",
    "                popt, pcov = curve_fit(temperature_profile, x, cool_df_training.temp_y.values)\n",
    "                a = popt[0]  # get the coefficient a in the model\n",
    "                b = popt[1]  # get the coefficient b in the model\n",
    "\n",
    "                # Get the initial point of all temperature curves\n",
    "                # y_first = [x1_train[0] + i for i in range(-8, 9, 4)]  # plot on either side of the initial temperature\n",
    "                y_first = [x1_train[0]]  # if you want to plot a single data field\n",
    "\n",
    "                # Compute the prediction for each individual start temperature\n",
    "                for y_predicted in y_first:\n",
    "                    y_pred = [y_predicted]\n",
    "                    label = 'Prediction curve, start temp: {:5.2f}F'.format(y_predicted)\n",
    "                    cool_df_training = cool_df_training.sort_values(by=['tsc'])\n",
    "                    for i in range(1, len(x2_train)):\n",
    "                        y_predicted = y_predicted * (1 + (a / x2_train[i])) - (a * b / x2_train[i])\n",
    "                        y_pred.append(y_predicted)\n",
    "                    data = [go.Scatter(x = cool_df_training.tsc.values, y = y_pred, mode='lines', name=label, marker=dict(color='blue'))]\n",
    "                    # plt.plot(cool_df_training.tsc.values, y_pred, label=label, color='blue')\n",
    "\n",
    "            t01 = dt.datetime.now()\n",
    "            print('Time taken:', t01 - t00)\n",
    "            # Plotting the actual data and other plot configurations\n",
    "            if num_days == training_days:\n",
    "                data.append(go.Scatter(x = cool_df.tsc.values, \n",
    "                                        y = cool_df.temperature.values, \n",
    "                                        mode='markers', \n",
    "                                        name='Actual Data', \n",
    "                                        opacity=0.4,\n",
    "                                        marker=dict(color='orange')))\n",
    "                # plt.scatter(cool_df.tsc.values, cool_df.temperature.values, label='Actual data', color='m')\n",
    "                # plt.xlabel('Time (days)')\n",
    "                # plt.ylabel('Temperature (F)')\n",
    "                # plt.title(str(brand) + ': cooling pred - curve -' + str(num_days) + \" days\")\n",
    "                # plt.legend()\n",
    "\n",
    "            # Save the figure\n",
    "            # output_dir = '.'\n",
    "            # if len(y_first) > 1:\n",
    "            #     location = '{}/' + str(brand) + '_prediction_constant_volume' + '.png'\n",
    "            # else:\n",
    "            #     location = '{}/' + str(brand) + '_prediction_ATT' + '.png'\n",
    "            # plt.savefig(location.format(output_dir))\n",
    "    # plt.show()\n",
    "    # fig = go.FigureWidget(data=trace)\n",
    "    return data, len(fermentation_df)"
   ]
  },
  {
   "cell_type": "code",
   "execution_count": 42,
   "metadata": {
    "pycharm": {},
    "tags": [
     "parameters"
    ]
   },
   "outputs": [],
   "source": [
    "# Tenant is osisoft-academia\n",
    "tenant_id = '4fa85df4-9f5a-49f8-954f-dcf0d6e1ff93'\n",
    "client_id = 'ff8220f7-6b7c-4477-b21e-8e2ca20649d4'  \n",
    "client_secret = 'tRiVPtWc6kgcxEw090Qi/7nwA+JfI4cLlaL34Edgx+M='\n",
    "brand = 'Kerberos'\n",
    "# Temperature sensor position to consider\n",
    "temp_sensors = {'bottom': False, 'middle': True, 'top': False}\n",
    "training_days = 30\n",
    "testing_days = 200"
   ]
  },
  {
   "cell_type": "code",
   "execution_count": 43,
   "metadata": {
    "pycharm": {}
   },
   "outputs": [
    {
     "name": "stdout",
     "output_type": "stream",
     "text": [
      "Step 1 (start): read data from local cache... done, time: 0:00:03.668079\n",
      "  ==> Finished 'all_brand_data_read' in            7.7016 secs\n",
      "  ==> Finished 'brand_df_cleanup' in               0.1023 secs\n",
      "  ==> Finished 'fermentation_starts_optimized' in  0.0097 secs\n",
      "  ==> Finished 'fermentation_times' in             3.4317 secs\n",
      "  ==> Finished 'get_cooling_frames' in             0.0502 secs\n",
      "  ==> Finished 'get_cooling_frames' in             0.0423 secs\n",
      "  ==> Finished 'get_cooling_frames' in             0.0489 secs\n",
      "  ==> Finished 'cooling_data_extraction' in        3.6283 secs\n"
     ]
    },
    {
     "ename": "ValueError",
     "evalue": "operands could not be broadcast together with shapes (20960,) (10481,) ",
     "output_type": "error",
     "traceback": [
      "\u001b[0;31m---------------------------------------------------------------------------\u001b[0m",
      "\u001b[0;31mValueError\u001b[0m                                Traceback (most recent call last)",
      "\u001b[0;32m<ipython-input-43-8c00c768f30d>\u001b[0m in \u001b[0;36m<module>\u001b[0;34m\u001b[0m\n\u001b[0;32m----> 1\u001b[0;31m \u001b[0mdata\u001b[0m\u001b[0;34m,\u001b[0m \u001b[0mnum_fermentation\u001b[0m \u001b[0;34m=\u001b[0m \u001b[0mmain\u001b[0m\u001b[0;34m(\u001b[0m\u001b[0mbrand\u001b[0m\u001b[0;34m,\u001b[0m \u001b[0mtemp_sensors\u001b[0m\u001b[0;34m,\u001b[0m \u001b[0mtraining_days\u001b[0m\u001b[0;34m,\u001b[0m \u001b[0mtesting_days\u001b[0m\u001b[0;34m)\u001b[0m\u001b[0;34m\u001b[0m\u001b[0;34m\u001b[0m\u001b[0m\n\u001b[0m",
      "\u001b[0;32m<ipython-input-38-a463f021f132>\u001b[0m in \u001b[0;36mmain\u001b[0;34m(brand, temp_sensors, training_days, testing_days)\u001b[0m\n\u001b[1;32m     67\u001b[0m                 \u001b[0;31m# Training of non-linear least squares model\u001b[0m\u001b[0;34m\u001b[0m\u001b[0;34m\u001b[0m\u001b[0;34m\u001b[0m\u001b[0m\n\u001b[1;32m     68\u001b[0m                 \u001b[0;31m# Nonlinear curve-fitting pass a tuple in curve fitting\u001b[0m\u001b[0;34m\u001b[0m\u001b[0;34m\u001b[0m\u001b[0;34m\u001b[0m\u001b[0m\n\u001b[0;32m---> 69\u001b[0;31m                 \u001b[0mpopt\u001b[0m\u001b[0;34m,\u001b[0m \u001b[0mpcov\u001b[0m \u001b[0;34m=\u001b[0m \u001b[0mcurve_fit\u001b[0m\u001b[0;34m(\u001b[0m\u001b[0mtemperature_profile\u001b[0m\u001b[0;34m,\u001b[0m \u001b[0mx\u001b[0m\u001b[0;34m,\u001b[0m \u001b[0mcool_df_training\u001b[0m\u001b[0;34m.\u001b[0m\u001b[0mtemp_y\u001b[0m\u001b[0;34m.\u001b[0m\u001b[0mvalues\u001b[0m\u001b[0;34m)\u001b[0m\u001b[0;34m\u001b[0m\u001b[0;34m\u001b[0m\u001b[0m\n\u001b[0m\u001b[1;32m     70\u001b[0m                 \u001b[0ma\u001b[0m \u001b[0;34m=\u001b[0m \u001b[0mpopt\u001b[0m\u001b[0;34m[\u001b[0m\u001b[0;36m0\u001b[0m\u001b[0;34m]\u001b[0m  \u001b[0;31m# get the coefficient a in the model\u001b[0m\u001b[0;34m\u001b[0m\u001b[0;34m\u001b[0m\u001b[0m\n\u001b[1;32m     71\u001b[0m                 \u001b[0mb\u001b[0m \u001b[0;34m=\u001b[0m \u001b[0mpopt\u001b[0m\u001b[0;34m[\u001b[0m\u001b[0;36m1\u001b[0m\u001b[0;34m]\u001b[0m  \u001b[0;31m# get the coefficient b in the model\u001b[0m\u001b[0;34m\u001b[0m\u001b[0;34m\u001b[0m\u001b[0m\n",
      "\u001b[0;32m/opt/conda/lib/python3.6/site-packages/scipy/optimize/minpack.py\u001b[0m in \u001b[0;36mcurve_fit\u001b[0;34m(f, xdata, ydata, p0, sigma, absolute_sigma, check_finite, bounds, method, jac, **kwargs)\u001b[0m\n\u001b[1;32m    749\u001b[0m         \u001b[0;31m# Remove full_output from kwargs, otherwise we're passing it in twice.\u001b[0m\u001b[0;34m\u001b[0m\u001b[0;34m\u001b[0m\u001b[0;34m\u001b[0m\u001b[0m\n\u001b[1;32m    750\u001b[0m         \u001b[0mreturn_full\u001b[0m \u001b[0;34m=\u001b[0m \u001b[0mkwargs\u001b[0m\u001b[0;34m.\u001b[0m\u001b[0mpop\u001b[0m\u001b[0;34m(\u001b[0m\u001b[0;34m'full_output'\u001b[0m\u001b[0;34m,\u001b[0m \u001b[0;32mFalse\u001b[0m\u001b[0;34m)\u001b[0m\u001b[0;34m\u001b[0m\u001b[0;34m\u001b[0m\u001b[0m\n\u001b[0;32m--> 751\u001b[0;31m         \u001b[0mres\u001b[0m \u001b[0;34m=\u001b[0m \u001b[0mleastsq\u001b[0m\u001b[0;34m(\u001b[0m\u001b[0mfunc\u001b[0m\u001b[0;34m,\u001b[0m \u001b[0mp0\u001b[0m\u001b[0;34m,\u001b[0m \u001b[0mDfun\u001b[0m\u001b[0;34m=\u001b[0m\u001b[0mjac\u001b[0m\u001b[0;34m,\u001b[0m \u001b[0mfull_output\u001b[0m\u001b[0;34m=\u001b[0m\u001b[0;36m1\u001b[0m\u001b[0;34m,\u001b[0m \u001b[0;34m**\u001b[0m\u001b[0mkwargs\u001b[0m\u001b[0;34m)\u001b[0m\u001b[0;34m\u001b[0m\u001b[0;34m\u001b[0m\u001b[0m\n\u001b[0m\u001b[1;32m    752\u001b[0m         \u001b[0mpopt\u001b[0m\u001b[0;34m,\u001b[0m \u001b[0mpcov\u001b[0m\u001b[0;34m,\u001b[0m \u001b[0minfodict\u001b[0m\u001b[0;34m,\u001b[0m \u001b[0merrmsg\u001b[0m\u001b[0;34m,\u001b[0m \u001b[0mier\u001b[0m \u001b[0;34m=\u001b[0m \u001b[0mres\u001b[0m\u001b[0;34m\u001b[0m\u001b[0;34m\u001b[0m\u001b[0m\n\u001b[1;32m    753\u001b[0m         \u001b[0mcost\u001b[0m \u001b[0;34m=\u001b[0m \u001b[0mnp\u001b[0m\u001b[0;34m.\u001b[0m\u001b[0msum\u001b[0m\u001b[0;34m(\u001b[0m\u001b[0minfodict\u001b[0m\u001b[0;34m[\u001b[0m\u001b[0;34m'fvec'\u001b[0m\u001b[0;34m]\u001b[0m \u001b[0;34m**\u001b[0m \u001b[0;36m2\u001b[0m\u001b[0;34m)\u001b[0m\u001b[0;34m\u001b[0m\u001b[0;34m\u001b[0m\u001b[0m\n",
      "\u001b[0;32m/opt/conda/lib/python3.6/site-packages/scipy/optimize/minpack.py\u001b[0m in \u001b[0;36mleastsq\u001b[0;34m(func, x0, args, Dfun, full_output, col_deriv, ftol, xtol, gtol, maxfev, epsfcn, factor, diag)\u001b[0m\n\u001b[1;32m    381\u001b[0m     \u001b[0;32mif\u001b[0m \u001b[0;32mnot\u001b[0m \u001b[0misinstance\u001b[0m\u001b[0;34m(\u001b[0m\u001b[0margs\u001b[0m\u001b[0;34m,\u001b[0m \u001b[0mtuple\u001b[0m\u001b[0;34m)\u001b[0m\u001b[0;34m:\u001b[0m\u001b[0;34m\u001b[0m\u001b[0;34m\u001b[0m\u001b[0m\n\u001b[1;32m    382\u001b[0m         \u001b[0margs\u001b[0m \u001b[0;34m=\u001b[0m \u001b[0;34m(\u001b[0m\u001b[0margs\u001b[0m\u001b[0;34m,\u001b[0m\u001b[0;34m)\u001b[0m\u001b[0;34m\u001b[0m\u001b[0;34m\u001b[0m\u001b[0m\n\u001b[0;32m--> 383\u001b[0;31m     \u001b[0mshape\u001b[0m\u001b[0;34m,\u001b[0m \u001b[0mdtype\u001b[0m \u001b[0;34m=\u001b[0m \u001b[0m_check_func\u001b[0m\u001b[0;34m(\u001b[0m\u001b[0;34m'leastsq'\u001b[0m\u001b[0;34m,\u001b[0m \u001b[0;34m'func'\u001b[0m\u001b[0;34m,\u001b[0m \u001b[0mfunc\u001b[0m\u001b[0;34m,\u001b[0m \u001b[0mx0\u001b[0m\u001b[0;34m,\u001b[0m \u001b[0margs\u001b[0m\u001b[0;34m,\u001b[0m \u001b[0mn\u001b[0m\u001b[0;34m)\u001b[0m\u001b[0;34m\u001b[0m\u001b[0;34m\u001b[0m\u001b[0m\n\u001b[0m\u001b[1;32m    384\u001b[0m     \u001b[0mm\u001b[0m \u001b[0;34m=\u001b[0m \u001b[0mshape\u001b[0m\u001b[0;34m[\u001b[0m\u001b[0;36m0\u001b[0m\u001b[0;34m]\u001b[0m\u001b[0;34m\u001b[0m\u001b[0;34m\u001b[0m\u001b[0m\n\u001b[1;32m    385\u001b[0m     \u001b[0;32mif\u001b[0m \u001b[0mn\u001b[0m \u001b[0;34m>\u001b[0m \u001b[0mm\u001b[0m\u001b[0;34m:\u001b[0m\u001b[0;34m\u001b[0m\u001b[0;34m\u001b[0m\u001b[0m\n",
      "\u001b[0;32m/opt/conda/lib/python3.6/site-packages/scipy/optimize/minpack.py\u001b[0m in \u001b[0;36m_check_func\u001b[0;34m(checker, argname, thefunc, x0, args, numinputs, output_shape)\u001b[0m\n\u001b[1;32m     25\u001b[0m def _check_func(checker, argname, thefunc, x0, args, numinputs,\n\u001b[1;32m     26\u001b[0m                 output_shape=None):\n\u001b[0;32m---> 27\u001b[0;31m     \u001b[0mres\u001b[0m \u001b[0;34m=\u001b[0m \u001b[0matleast_1d\u001b[0m\u001b[0;34m(\u001b[0m\u001b[0mthefunc\u001b[0m\u001b[0;34m(\u001b[0m\u001b[0;34m*\u001b[0m\u001b[0;34m(\u001b[0m\u001b[0;34m(\u001b[0m\u001b[0mx0\u001b[0m\u001b[0;34m[\u001b[0m\u001b[0;34m:\u001b[0m\u001b[0mnuminputs\u001b[0m\u001b[0;34m]\u001b[0m\u001b[0;34m,\u001b[0m\u001b[0;34m)\u001b[0m \u001b[0;34m+\u001b[0m \u001b[0margs\u001b[0m\u001b[0;34m)\u001b[0m\u001b[0;34m)\u001b[0m\u001b[0;34m)\u001b[0m\u001b[0;34m\u001b[0m\u001b[0;34m\u001b[0m\u001b[0m\n\u001b[0m\u001b[1;32m     28\u001b[0m     \u001b[0;32mif\u001b[0m \u001b[0;34m(\u001b[0m\u001b[0moutput_shape\u001b[0m \u001b[0;32mis\u001b[0m \u001b[0;32mnot\u001b[0m \u001b[0;32mNone\u001b[0m\u001b[0;34m)\u001b[0m \u001b[0;32mand\u001b[0m \u001b[0;34m(\u001b[0m\u001b[0mshape\u001b[0m\u001b[0;34m(\u001b[0m\u001b[0mres\u001b[0m\u001b[0;34m)\u001b[0m \u001b[0;34m!=\u001b[0m \u001b[0moutput_shape\u001b[0m\u001b[0;34m)\u001b[0m\u001b[0;34m:\u001b[0m\u001b[0;34m\u001b[0m\u001b[0;34m\u001b[0m\u001b[0m\n\u001b[1;32m     29\u001b[0m         \u001b[0;32mif\u001b[0m \u001b[0;34m(\u001b[0m\u001b[0moutput_shape\u001b[0m\u001b[0;34m[\u001b[0m\u001b[0;36m0\u001b[0m\u001b[0;34m]\u001b[0m \u001b[0;34m!=\u001b[0m \u001b[0;36m1\u001b[0m\u001b[0;34m)\u001b[0m\u001b[0;34m:\u001b[0m\u001b[0;34m\u001b[0m\u001b[0;34m\u001b[0m\u001b[0m\n",
      "\u001b[0;32m/opt/conda/lib/python3.6/site-packages/scipy/optimize/minpack.py\u001b[0m in \u001b[0;36mfunc_wrapped\u001b[0;34m(params)\u001b[0m\n\u001b[1;32m    461\u001b[0m     \u001b[0;32mif\u001b[0m \u001b[0mtransform\u001b[0m \u001b[0;32mis\u001b[0m \u001b[0;32mNone\u001b[0m\u001b[0;34m:\u001b[0m\u001b[0;34m\u001b[0m\u001b[0;34m\u001b[0m\u001b[0m\n\u001b[1;32m    462\u001b[0m         \u001b[0;32mdef\u001b[0m \u001b[0mfunc_wrapped\u001b[0m\u001b[0;34m(\u001b[0m\u001b[0mparams\u001b[0m\u001b[0;34m)\u001b[0m\u001b[0;34m:\u001b[0m\u001b[0;34m\u001b[0m\u001b[0;34m\u001b[0m\u001b[0m\n\u001b[0;32m--> 463\u001b[0;31m             \u001b[0;32mreturn\u001b[0m \u001b[0mfunc\u001b[0m\u001b[0;34m(\u001b[0m\u001b[0mxdata\u001b[0m\u001b[0;34m,\u001b[0m \u001b[0;34m*\u001b[0m\u001b[0mparams\u001b[0m\u001b[0;34m)\u001b[0m \u001b[0;34m-\u001b[0m \u001b[0mydata\u001b[0m\u001b[0;34m\u001b[0m\u001b[0;34m\u001b[0m\u001b[0m\n\u001b[0m\u001b[1;32m    464\u001b[0m     \u001b[0;32melif\u001b[0m \u001b[0mtransform\u001b[0m\u001b[0;34m.\u001b[0m\u001b[0mndim\u001b[0m \u001b[0;34m==\u001b[0m \u001b[0;36m1\u001b[0m\u001b[0;34m:\u001b[0m\u001b[0;34m\u001b[0m\u001b[0;34m\u001b[0m\u001b[0m\n\u001b[1;32m    465\u001b[0m         \u001b[0;32mdef\u001b[0m \u001b[0mfunc_wrapped\u001b[0m\u001b[0;34m(\u001b[0m\u001b[0mparams\u001b[0m\u001b[0;34m)\u001b[0m\u001b[0;34m:\u001b[0m\u001b[0;34m\u001b[0m\u001b[0;34m\u001b[0m\u001b[0m\n",
      "\u001b[0;31mValueError\u001b[0m: operands could not be broadcast together with shapes (20960,) (10481,) "
     ]
    }
   ],
   "source": [
    "data, num_fermentation = main(brand, temp_sensors, training_days, testing_days)"
   ]
  },
  {
   "cell_type": "code",
   "execution_count": 41,
   "metadata": {
    "pycharm": {}
   },
   "outputs": [
    {
     "data": {
      "application/vnd.jupyter.widget-view+json": {
       "model_id": "37111bf3b171445a889bb60209aecefa",
       "version_major": 2,
       "version_minor": 0
      },
      "text/plain": [
       "FigureWidget({\n",
       "    'data': [{'marker': {'color': 'blue'},\n",
       "              'mode': 'lines',\n",
       "              'name':…"
      ]
     },
     "metadata": {},
     "output_type": "display_data"
    }
   ],
   "source": [
    "layout = go.Layout(\n",
    "    xaxis=dict(title='Cooling time (days)'), \n",
    "    yaxis=dict(title='Temperature (F)'), \n",
    "    title=f'Cooling of {brand} beer, {training_days} days of data, {num_fermentation} fermentation(s)'\n",
    ")\n",
    "fig = go.FigureWidget(data=data, layout=layout)\n",
    "po.write_image(fig, f'kerberos_{training_days}days_{num_fermentation}ferms_cool_df.png')\n",
    "fig"
   ]
  },
  {
   "cell_type": "code",
   "execution_count": null,
   "metadata": {
    "pycharm": {}
   },
   "outputs": [],
   "source": []
  }
 ],
 "metadata": {
  "kernelspec": {
   "display_name": "Python 3",
   "language": "python",
   "name": "python3"
  },
  "language_info": {
   "codemirror_mode": {
    "name": "ipython",
    "version": 3
   },
   "file_extension": ".py",
   "mimetype": "text/x-python",
   "name": "python",
   "nbconvert_exporter": "python",
   "pygments_lexer": "ipython3",
   "version": "3.6.7"
  },
  "stem_cell": {
   "cell_type": "raw",
   "metadata": {
    "pycharm": {
     "metadata": false
    }
   },
   "source": ""
  }
 },
 "nbformat": 4,
 "nbformat_minor": 2
}
