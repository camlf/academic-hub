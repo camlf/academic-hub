{
 "cells": [
  {
   "cell_type": "code",
   "execution_count": 7,
   "metadata": {},
   "outputs": [],
   "source": [
    "import papermill as pm\n",
    "\n",
    "test_cases = (1, 2, 3, 4, 5) # number of days for view, Deschutes data, 1 min interpolation\n",
    "nb_template = './pm_results/dv_group_days%d_v%d.ipynb'\n",
    "version = 20"
   ]
  },
  {
   "cell_type": "code",
   "execution_count": 8,
   "metadata": {},
   "outputs": [],
   "source": [
    "import plotly.graph_objs as go\n",
    "\n",
    "def generate_trace(df, timeout_x, timeout_y):\n",
    "    num_ferms, dv_time, dv_status = [], [], []\n",
    "    for row in df[df.name.str[:4] == 'ferm'].iterrows():\n",
    "        i, j = row\n",
    "        num_ferms.append(j.value['num_fermentors'])\n",
    "        dv_time.append(j.value['total_time'])\n",
    "        dv_status.append(j.value['status'])\n",
    "        # print(j.value['num_fermentors'], j.value['total_time'], j.value['status'])\n",
    "        if 408 == j.value['status']:\n",
    "            timeout_x.append(j.value['num_fermentors'])\n",
    "            timeout_y.append(j.value['total_time'])\n",
    "    trace = go.Scatter(\n",
    "        x = num_ferms,\n",
    "        y = dv_time,\n",
    "        mode = 'lines+markers',\n",
    "        name = '#days = %d' % days\n",
    "    )\n",
    "    return trace, timeout_x, timeout_y "
   ]
  },
  {
   "cell_type": "code",
   "execution_count": 9,
   "metadata": {},
   "outputs": [
    {
     "data": {
      "application/vnd.jupyter.widget-view+json": {
       "model_id": "824705d0cc504a9cbcbe10556e31815f",
       "version_major": 2,
       "version_minor": 0
      },
      "text/plain": [
       "FigureWidget({\n",
       "    'data': [{'mode': 'lines+markers',\n",
       "              'name': '#days = 1',\n",
       "              'type':…"
      ]
     },
     "metadata": {},
     "output_type": "display_data"
    }
   ],
   "source": [
    "data, timeout_x, timeout_y = [], [], []\n",
    "for days in test_cases: \n",
    "    nb = pm.read_notebook(nb_template % (days, version))  # extract dataframe results from output NB\n",
    "    df = nb.dataframe\n",
    "    trace, timeout_x, timeout_y = generate_trace(df, timeout_x, timeout_y)\n",
    "    data.append(trace)\n",
    "# 408 (timeout) \n",
    "trace_408 = go.Scatter(\n",
    "    name='timeout (408)',\n",
    "    x = timeout_x, \n",
    "    y = timeout_y, \n",
    "    mode='markers', \n",
    "    marker = dict(size=20, color='rgba(152, 0, 0, .5)')\n",
    ")                \n",
    "data.append(trace_408)\n",
    "layout = dict(\n",
    "    title='Dataviews preview time for Brewing (interpolation=1min, 17-column result CSV)',\n",
    "    xaxis=dict(title='Number of Fermentors in view', tickvals=[i for i in range(1, 7)]),\n",
    "    yaxis=dict(title='Time (seconds)'),\n",
    ")\n",
    "fig = go.FigureWidget(data=data, layout=layout)\n",
    "fig"
   ]
  },
  {
   "cell_type": "code",
   "execution_count": null,
   "metadata": {},
   "outputs": [],
   "source": []
  },
  {
   "cell_type": "code",
   "execution_count": null,
   "metadata": {},
   "outputs": [],
   "source": []
  }
 ],
 "metadata": {
  "kernelspec": {
   "display_name": "Python 3",
   "language": "python",
   "name": "python3"
  },
  "language_info": {
   "codemirror_mode": {
    "name": "ipython",
    "version": 3
   },
   "file_extension": ".py",
   "mimetype": "text/x-python",
   "name": "python",
   "nbconvert_exporter": "python",
   "pygments_lexer": "ipython3",
   "version": "3.6.6"
  }
 },
 "nbformat": 4,
 "nbformat_minor": 2
}
