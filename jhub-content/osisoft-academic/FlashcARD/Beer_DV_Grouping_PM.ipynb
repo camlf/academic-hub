{
 "cells": [
  {
   "cell_type": "code",
   "execution_count": 1,
   "metadata": {},
   "outputs": [
    {
     "name": "stdout",
     "output_type": "stream",
     "text": [
      "### Current output NB: ./pm_results/dv_group_days1_v20.ipynb\n"
     ]
    },
    {
     "data": {
      "application/vnd.jupyter.widget-view+json": {
       "model_id": "cad7398fce394cb0acae18af5a621639",
       "version_major": 2,
       "version_minor": 0
      },
      "text/plain": [
       "HBox(children=(IntProgress(value=0, max=22), HTML(value='')))"
      ]
     },
     "metadata": {},
     "output_type": "display_data"
    },
    {
     "name": "stdout",
     "output_type": "stream",
     "text": [
      "\n",
      "### Current output NB: ./pm_results/dv_group_days2_v20.ipynb\n"
     ]
    },
    {
     "data": {
      "application/vnd.jupyter.widget-view+json": {
       "model_id": "46025f0309504d409f86c42283daeae0",
       "version_major": 2,
       "version_minor": 0
      },
      "text/plain": [
       "HBox(children=(IntProgress(value=0, max=22), HTML(value='')))"
      ]
     },
     "metadata": {},
     "output_type": "display_data"
    },
    {
     "name": "stdout",
     "output_type": "stream",
     "text": [
      "\n",
      "### Current output NB: ./pm_results/dv_group_days3_v20.ipynb\n"
     ]
    },
    {
     "data": {
      "application/vnd.jupyter.widget-view+json": {
       "model_id": "1519373752804335979dd449ccba771d",
       "version_major": 2,
       "version_minor": 0
      },
      "text/plain": [
       "HBox(children=(IntProgress(value=0, max=22), HTML(value='')))"
      ]
     },
     "metadata": {},
     "output_type": "display_data"
    },
    {
     "name": "stdout",
     "output_type": "stream",
     "text": [
      "\n",
      "### Current output NB: ./pm_results/dv_group_days4_v20.ipynb\n"
     ]
    },
    {
     "data": {
      "application/vnd.jupyter.widget-view+json": {
       "model_id": "b4387e05aa514d48929a81da6195a67d",
       "version_major": 2,
       "version_minor": 0
      },
      "text/plain": [
       "HBox(children=(IntProgress(value=0, max=22), HTML(value='')))"
      ]
     },
     "metadata": {},
     "output_type": "display_data"
    },
    {
     "name": "stdout",
     "output_type": "stream",
     "text": [
      "\n",
      "### Current output NB: ./pm_results/dv_group_days5_v20.ipynb\n"
     ]
    },
    {
     "data": {
      "application/vnd.jupyter.widget-view+json": {
       "model_id": "e1b777554c884c259cd0f724cc15cdd9",
       "version_major": 2,
       "version_minor": 0
      },
      "text/plain": [
       "HBox(children=(IntProgress(value=0, max=22), HTML(value='')))"
      ]
     },
     "metadata": {},
     "output_type": "display_data"
    },
    {
     "name": "stdout",
     "output_type": "stream",
     "text": [
      "\n"
     ]
    }
   ],
   "source": [
    "import papermill as pm\n",
    "\n",
    "test_cases = (1, 2, 3, 4, 5) # number of days for view, Deschutes data, 1 min interpolation\n",
    "\n",
    "version = 20\n",
    "timeout_mins = 4\n",
    "nb_template = './pm_results/dv_group_days%d_v%d.ipynb'\n",
    "for days in test_cases: \n",
    "    result_nb = nb_template % (days, version)\n",
    "    print('### Current output NB:', result_nb)\n",
    "    pm.execute_notebook('./Dataviews_Grouping-PM.ipynb', # input notebook \n",
    "                        result_nb,                       # output notebook\n",
    "                        parameters=dict(\n",
    "                            dv_days=days,            # number of days for data view \n",
    "                            dv_req_timeout=240000,   # request timeout in milliseconds\n",
    "                            dv_end_num_ferm=6,       # from 1 fermentor up to this number \n",
    "                            version=version))"
   ]
  },
  {
   "cell_type": "code",
   "execution_count": 2,
   "metadata": {},
   "outputs": [],
   "source": [
    "import plotly.graph_objs as go\n",
    "\n",
    "def generate_trace(df, timeout_x, timeout_y):\n",
    "    num_ferms, dv_time, dv_status = [], [], []\n",
    "    for row in df[df.name.str[:4] == 'ferm'].iterrows():\n",
    "        i, j = row\n",
    "        num_ferms.append(j.value['num_fermentors'])\n",
    "        dv_time.append(j.value['total_time'])\n",
    "        dv_status.append(j.value['status'])\n",
    "        # print(j.value['num_fermentors'], j.value['total_time'], j.value['status'])\n",
    "        if 408 == j.value['status']:\n",
    "            timeout_x.append(j.value['num_fermentors'])\n",
    "            timeout_y.append(j.value['total_time'])\n",
    "    trace = go.Scatter(\n",
    "        x = num_ferms,\n",
    "        y = dv_time,\n",
    "        mode = 'lines+markers',\n",
    "        name = '#days = %d' % days\n",
    "    )\n",
    "    return trace, timeout_x, timeout_y "
   ]
  },
  {
   "cell_type": "code",
   "execution_count": 3,
   "metadata": {},
   "outputs": [
    {
     "data": {
      "application/vnd.jupyter.widget-view+json": {
       "model_id": "1c7f64bcf68f414ea0472e8395c82e48",
       "version_major": 2,
       "version_minor": 0
      },
      "text/plain": [
       "FigureWidget({\n",
       "    'data': [{'mode': 'lines+markers',\n",
       "              'name': '#days = 1',\n",
       "              'type':…"
      ]
     },
     "metadata": {},
     "output_type": "display_data"
    }
   ],
   "source": [
    "data, timeout_x, timeout_y = [], [], []\n",
    "for days in test_cases: \n",
    "    nb = pm.read_notebook(nb_template % (days, version))  # extract dataframe results from output NB\n",
    "    df = nb.dataframe\n",
    "    trace, timeout_x, timeout_y = generate_trace(df, timeout_x, timeout_y)\n",
    "    data.append(trace)\n",
    "# 408 (timeout) \n",
    "trace_408 = go.Scatter(\n",
    "    name='timeout (408)',\n",
    "    x = timeout_x, \n",
    "    y = timeout_y, \n",
    "    mode='markers', \n",
    "    marker = dict(size=20, color='rgba(152, 0, 0, .5)')\n",
    ")                \n",
    "data.append(trace_408)\n",
    "layout = dict(\n",
    "    title='Dataviews preview time for Brewing (interpolation=1min, 17-column result CSV)',\n",
    "    xaxis=dict(title='Number of Fermentors in view', tickvals=[i for i in range(1, 7)]),\n",
    "    yaxis=dict(title='Time (seconds)'),\n",
    ")\n",
    "fig = go.FigureWidget(data=data, layout=layout)\n",
    "fig"
   ]
  },
  {
   "cell_type": "code",
   "execution_count": null,
   "metadata": {},
   "outputs": [],
   "source": []
  }
 ],
 "metadata": {
  "kernelspec": {
   "display_name": "Python 3",
   "language": "python",
   "name": "python3"
  },
  "language_info": {
   "codemirror_mode": {
    "name": "ipython",
    "version": 3
   },
   "file_extension": ".py",
   "mimetype": "text/x-python",
   "name": "python",
   "nbconvert_exporter": "python",
   "pygments_lexer": "ipython3",
   "version": "3.7.3"
  }
 },
 "nbformat": 4,
 "nbformat_minor": 2
}
