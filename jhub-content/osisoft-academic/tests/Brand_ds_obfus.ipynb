{
 "cells": [
  {
   "cell_type": "code",
   "execution_count": 12,
   "metadata": {},
   "outputs": [],
   "source": [
    "from ocs_academic_hub import HubClient"
   ]
  },
  {
   "cell_type": "code",
   "execution_count": 1,
   "metadata": {},
   "outputs": [],
   "source": [
    "source_ds = \"None,Twilight,Chasin Freshies,Mirror Pond,Black Butte,Inversion,Obsidian,Green Lakes,Jubelale,Red Chair,Hop Henge,Abyss,Black Butte XX,Stoic,Deschutes River Ale,Fresh Hop Mirror Pond,Hop Trip,Hop in the Dark,ChainBreaker,Armory,Marionberry Lavender,Hand Up IPA,Cinder Cone,Fresh Squeezed,Pacific Wonderland,Mirror Mirror,Dopple Dinkel Bock,Foray,Gluten Free,Oktoberfest,Wowza,Dissident,Super Jubel,Tahitian Lime Sour,IPL,Bend Distillery Porter,Gueze,EHOP,Bachelor,Big Rig,Down N Dirty,Hop Slice,Slightly Exaggerated,Pinot Suave,Cultivatuer 3724,Cultivatuer 3711,Claymores Kiss,Planete Rouge,Collage,Smoked Gose,Hopzeit,Propagation,Abyssky,Foeder Beer,Passionfruit IPA,American Wheat,Imperial IPA,Dark Foeder Beer,Kriek,Pear Sour,Ages,Black Mirror,Grapefruit Rose Sour,Black Raspberry Sour,Fresh Chair,Oh Be Joyful,Session Sour,Hummzinger,Fruit Fight Hazy IPA,Wayfarer Cider,Fresh Haze IPA,Schwarzbier,King Crispy,Da Shootz,Lil Squeezy,Baltic Porter,Hop Henge Gin,Thai Chili and Azacca Sour,Botanic Ale,White Wine Tripel,Home at Port,Rye Maibock,Swivelhead,Fresh Funk,Black Barleywine,Rose Reserve,Pinedrops,Fresh Squeezed Old Fashioned,Sagefight,Zarabanda,Brut IPA,Tangelo Cardamom Sour,Wolfgangs Vintage Vienna Lager,Undefined,Undefined,Undefined,Undefined,Undefined,Undefined,Undefined,Obsidian Nitro,Armory Nitro,Cinder Cone Nitro,Red Chair Nitro,Jubelale Nitro,Abyss Nitro,Cream Ale,Black Butte Nitro,Twilight Nitro,Undefined,Undefined,Undefined,Undefined,Undefined,Undefined,Undefined,Undefined,Undefined,Undefined,Undefined,Undefined,Undefined,Undefined,Undefined,Undefined,Undefined,Undefined,Undefined,Undefined,Undefined,Undefined,Undefined,Undefined,Undefined,Undefined,Undefined,Undefined,Undefined,Undefined,Undefined,Undefined,Undefined,Undefined,Undefined,Undefined,Undefined,Undefined,Undefined,Undefined,Undefined,Undefined,Undefined,Undefined,Undefined,Undefined,Undefined,Undefined,Undefined,Undefined,Undefined,Undefined,Undefined,Undefined,Undefined,Undefined,Undefined,Undefined,Undefined,Undefined,Undefined,Undefined,Undefined,Undefined,Undefined,Undefined,Undefined,Undefined,Undefined,Undefined,Undefined,Undefined,Undefined,Undefined,Undefined,Undefined,Undefined,Undefined,Undefined,Undefined,Undefined,Undefined,Undefined,Undefined,Undefined,Undefined,Undefined,Undefined,Undefined,Undefined,Undefined,Undefined,Undefined,Undefined,Undefined,Undefined,Undefined,Undefined,Undefined,Undefined,Undefined,Undefined,Undefined,Undefined,Undefined,Undefined,Undefined,Undefined,Undefined,Undefined,Undefined,Undefined,Undefined,Undefined,Undefined,Undefined,Undefined,Undefined,Undefined,Undefined,Undefined,Undefined,Undefined,Undefined,Undefined,Undefined,Undefined,Undefined,Undefined,Undefined,Undefined,Undefined,Undefined,Undefined,Undefined,Undefined,Undefined,Undefined,Undefined,Undefined,Undefined,Undefined,Undefined,Undefined,Undefined,Undefined,Undefined\""
   ]
  },
  {
   "cell_type": "code",
   "execution_count": 2,
   "metadata": {},
   "outputs": [],
   "source": [
    "target_ds = \",AAA,AFeizen,Realtime Hops,Kerberos,Grey Horse,The Kiwi,Fortune Teller,Tall Man,LIT,Zimbru,Big Geek,Orion,Chewbaka,Alistair,Stranger,LPA,Bar-Hop,Hop-Scotch,5450,Hop-A-Long,Red Wonder,OLEDBeer,Kennedy,Coorsight,Strange Brew,Brew Master,Eau De Vie,Rut Gut Ale,Mooshine,King of Hop,Brewster,Brewking,Beertopia,LP's Best,La Vache Rouge,Isabelle,YUL,Bachelor,Fabens,1155,Adele,Montreal,Arthur,Angler Fish,ProcessBook,DataLink,ActiveView,ProfileView,ProcessPoint,Manual Logger,OSIsoft,OSIhard,Undefined,Undefined,Undefined,Undefined,Undefined,Undefined,Undefined,Undefined,Undefined,Undefined,Undefined,Undefined,Undefined,Undefined,Undefined,Undefined,Undefined,Undefined,Undefined,Undefined,Undefined,Undefined,Undefined,Undefined,Undefined,Undefined,Undefined,Undefined,Undefined,Undefined,Undefined,Undefined,Undefined,Undefined,Undefined,Undefined,Undefined,Undefined,Undefined,Undefined,Undefined,Undefined,Undefined,Undefined,Undefined,Undefined,Nitro Hop,Nitro 1,Nitro 2,Nitro 3,Nitro 4,Nitro 5,Nitro 6,Nitro 7,Nitro 8,Undefined,Undefined,Undefined,Undefined,Undefined,Undefined,Undefined,Undefined,Undefined,Undefined,Undefined,Undefined,Undefined,Undefined,Undefined,Undefined,Undefined,Undefined,Undefined,Undefined,Undefined,Undefined,Undefined,Undefined,Undefined,Undefined,Undefined,Undefined,Undefined,Undefined,Undefined,Undefined,Undefined,Undefined,Undefined,Undefined,Undefined,Undefined,Undefined,Undefined,Undefined,Undefined,Undefined,Undefined,Undefined,Undefined,Undefined,Undefined,Undefined,Undefined,Undefined,Undefined,Undefined,Undefined,Undefined,Undefined,Undefined,Undefined,Undefined,Undefined,Undefined,Undefined,Undefined,Undefined,Undefined,Undefined,Undefined,Undefined,Undefined,Undefined,Undefined,Undefined,Undefined,Undefined,Undefined,Undefined,Undefined,Undefined,Undefined,Undefined,Undefined,Undefined,Undefined,Undefined,Undefined,Undefined,Undefined,Undefined,Undefined,Undefined,Undefined,Undefined,Undefined,Undefined,Undefined,Undefined,Undefined,Undefined,Undefined,Undefined,Undefined,Undefined,Undefined,Undefined,Undefined,Undefined,Undefined,Undefined,Undefined,Undefined,Undefined,Undefined,Undefined,Undefined,Undefined,Undefined,Undefined,Undefined,Undefined,Undefined,Undefined,Undefined,Undefined,Undefined,Undefined,Undefined,Undefined,Undefined,Undefined,Undefined,Undefined,Undefined,Undefined,Undefined,Undefined,Undefined,Undefined,Undefined,Undefined,Undefined,Undefined,Undefined,Undefined,Undefined,Undefined,Undefined,Undefined,Undefined\""
   ]
  },
  {
   "cell_type": "code",
   "execution_count": 5,
   "metadata": {},
   "outputs": [
    {
     "data": {
      "text/plain": [
       "(256, 256)"
      ]
     },
     "execution_count": 5,
     "metadata": {},
     "output_type": "execute_result"
    }
   ],
   "source": [
    "len(source_ds.split(\",\")), len(target_ds.split(\",\"))"
   ]
  },
  {
   "cell_type": "code",
   "execution_count": 6,
   "metadata": {},
   "outputs": [],
   "source": [
    "source = source_ds.split(\",\")\n",
    "target = target_ds.split(\",\")"
   ]
  },
  {
   "cell_type": "code",
   "execution_count": 10,
   "metadata": {},
   "outputs": [
    {
     "data": {
      "text/plain": [
       "[('None', ''),\n",
       " ('Twilight', 'AAA'),\n",
       " ('Chasin Freshies', 'AFeizen'),\n",
       " ('Mirror Pond', 'Realtime Hops'),\n",
       " ('Black Butte', 'Kerberos'),\n",
       " ('Inversion', 'Grey Horse'),\n",
       " ('Obsidian', 'The Kiwi'),\n",
       " ('Green Lakes', 'Fortune Teller'),\n",
       " ('Jubelale', 'Tall Man'),\n",
       " ('Red Chair', 'LIT'),\n",
       " ('Hop Henge', 'Zimbru'),\n",
       " ('Abyss', 'Big Geek'),\n",
       " ('Black Butte XX', 'Orion'),\n",
       " ('Stoic', 'Chewbaka'),\n",
       " ('Deschutes River Ale', 'Alistair'),\n",
       " ('Fresh Hop Mirror Pond', 'Stranger'),\n",
       " ('Hop Trip', 'LPA'),\n",
       " ('Hop in the Dark', 'Bar-Hop'),\n",
       " ('ChainBreaker', 'Hop-Scotch'),\n",
       " ('Armory', '5450'),\n",
       " ('Marionberry Lavender', 'Hop-A-Long'),\n",
       " ('Hand Up IPA', 'Red Wonder'),\n",
       " ('Cinder Cone', 'OLEDBeer'),\n",
       " ('Fresh Squeezed', 'Kennedy'),\n",
       " ('Pacific Wonderland', 'Coorsight'),\n",
       " ('Mirror Mirror', 'Strange Brew'),\n",
       " ('Dopple Dinkel Bock', 'Brew Master'),\n",
       " ('Foray', 'Eau De Vie'),\n",
       " ('Gluten Free', 'Rut Gut Ale'),\n",
       " ('Oktoberfest', 'Mooshine'),\n",
       " ('Wowza', 'King of Hop'),\n",
       " ('Dissident', 'Brewster'),\n",
       " ('Super Jubel', 'Brewking'),\n",
       " ('Tahitian Lime Sour', 'Beertopia'),\n",
       " ('IPL', \"LP's Best\"),\n",
       " ('Bend Distillery Porter', 'La Vache Rouge'),\n",
       " ('Gueze', 'Isabelle'),\n",
       " ('EHOP', 'YUL'),\n",
       " ('Bachelor', 'Bachelor'),\n",
       " ('Big Rig', 'Fabens'),\n",
       " ('Down N Dirty', '1155'),\n",
       " ('Hop Slice', 'Adele'),\n",
       " ('Slightly Exaggerated', 'Montreal'),\n",
       " ('Pinot Suave', 'Arthur'),\n",
       " ('Cultivatuer 3724', 'Angler Fish'),\n",
       " ('Cultivatuer 3711', 'ProcessBook'),\n",
       " ('Claymores Kiss', 'DataLink'),\n",
       " ('Planete Rouge', 'ActiveView'),\n",
       " ('Collage', 'ProfileView'),\n",
       " ('Smoked Gose', 'ProcessPoint'),\n",
       " ('Hopzeit', 'Manual Logger'),\n",
       " ('Propagation', 'OSIsoft'),\n",
       " ('Abyssky', 'OSIhard'),\n",
       " ('Foeder Beer', 'Undefined'),\n",
       " ('Passionfruit IPA', 'Undefined'),\n",
       " ('American Wheat', 'Undefined'),\n",
       " ('Imperial IPA', 'Undefined'),\n",
       " ('Dark Foeder Beer', 'Undefined'),\n",
       " ('Kriek', 'Undefined'),\n",
       " ('Pear Sour', 'Undefined'),\n",
       " ('Ages', 'Undefined'),\n",
       " ('Black Mirror', 'Undefined'),\n",
       " ('Grapefruit Rose Sour', 'Undefined'),\n",
       " ('Black Raspberry Sour', 'Undefined'),\n",
       " ('Fresh Chair', 'Undefined'),\n",
       " ('Oh Be Joyful', 'Undefined'),\n",
       " ('Session Sour', 'Undefined'),\n",
       " ('Hummzinger', 'Undefined'),\n",
       " ('Fruit Fight Hazy IPA', 'Undefined'),\n",
       " ('Wayfarer Cider', 'Undefined'),\n",
       " ('Fresh Haze IPA', 'Undefined'),\n",
       " ('Schwarzbier', 'Undefined'),\n",
       " ('King Crispy', 'Undefined'),\n",
       " ('Da Shootz', 'Undefined'),\n",
       " ('Lil Squeezy', 'Undefined'),\n",
       " ('Baltic Porter', 'Undefined'),\n",
       " ('Hop Henge Gin', 'Undefined'),\n",
       " ('Thai Chili and Azacca Sour', 'Undefined'),\n",
       " ('Botanic Ale', 'Undefined'),\n",
       " ('White Wine Tripel', 'Undefined'),\n",
       " ('Home at Port', 'Undefined'),\n",
       " ('Rye Maibock', 'Undefined'),\n",
       " ('Swivelhead', 'Undefined'),\n",
       " ('Fresh Funk', 'Undefined'),\n",
       " ('Black Barleywine', 'Undefined'),\n",
       " ('Rose Reserve', 'Undefined'),\n",
       " ('Pinedrops', 'Undefined'),\n",
       " ('Fresh Squeezed Old Fashioned', 'Undefined'),\n",
       " ('Sagefight', 'Undefined'),\n",
       " ('Zarabanda', 'Undefined'),\n",
       " ('Brut IPA', 'Undefined'),\n",
       " ('Tangelo Cardamom Sour', 'Undefined'),\n",
       " ('Wolfgangs Vintage Vienna Lager', 'Undefined'),\n",
       " ('Undefined', 'Undefined'),\n",
       " ('Undefined', 'Undefined'),\n",
       " ('Undefined', 'Undefined'),\n",
       " ('Undefined', 'Undefined'),\n",
       " ('Undefined', 'Undefined'),\n",
       " ('Undefined', 'Undefined'),\n",
       " ('Undefined', 'Nitro Hop'),\n",
       " ('Obsidian Nitro', 'Nitro 1'),\n",
       " ('Armory Nitro', 'Nitro 2'),\n",
       " ('Cinder Cone Nitro', 'Nitro 3'),\n",
       " ('Red Chair Nitro', 'Nitro 4'),\n",
       " ('Jubelale Nitro', 'Nitro 5'),\n",
       " ('Abyss Nitro', 'Nitro 6'),\n",
       " ('Cream Ale', 'Nitro 7'),\n",
       " ('Black Butte Nitro', 'Nitro 8'),\n",
       " ('Twilight Nitro', 'Undefined'),\n",
       " ('Undefined', 'Undefined'),\n",
       " ('Undefined', 'Undefined'),\n",
       " ('Undefined', 'Undefined'),\n",
       " ('Undefined', 'Undefined'),\n",
       " ('Undefined', 'Undefined'),\n",
       " ('Undefined', 'Undefined'),\n",
       " ('Undefined', 'Undefined'),\n",
       " ('Undefined', 'Undefined'),\n",
       " ('Undefined', 'Undefined'),\n",
       " ('Undefined', 'Undefined'),\n",
       " ('Undefined', 'Undefined'),\n",
       " ('Undefined', 'Undefined'),\n",
       " ('Undefined', 'Undefined'),\n",
       " ('Undefined', 'Undefined'),\n",
       " ('Undefined', 'Undefined'),\n",
       " ('Undefined', 'Undefined'),\n",
       " ('Undefined', 'Undefined'),\n",
       " ('Undefined', 'Undefined'),\n",
       " ('Undefined', 'Undefined'),\n",
       " ('Undefined', 'Undefined'),\n",
       " ('Undefined', 'Undefined'),\n",
       " ('Undefined', 'Undefined'),\n",
       " ('Undefined', 'Undefined'),\n",
       " ('Undefined', 'Undefined'),\n",
       " ('Undefined', 'Undefined'),\n",
       " ('Undefined', 'Undefined'),\n",
       " ('Undefined', 'Undefined'),\n",
       " ('Undefined', 'Undefined'),\n",
       " ('Undefined', 'Undefined'),\n",
       " ('Undefined', 'Undefined'),\n",
       " ('Undefined', 'Undefined'),\n",
       " ('Undefined', 'Undefined'),\n",
       " ('Undefined', 'Undefined'),\n",
       " ('Undefined', 'Undefined'),\n",
       " ('Undefined', 'Undefined'),\n",
       " ('Undefined', 'Undefined'),\n",
       " ('Undefined', 'Undefined'),\n",
       " ('Undefined', 'Undefined'),\n",
       " ('Undefined', 'Undefined'),\n",
       " ('Undefined', 'Undefined'),\n",
       " ('Undefined', 'Undefined'),\n",
       " ('Undefined', 'Undefined'),\n",
       " ('Undefined', 'Undefined'),\n",
       " ('Undefined', 'Undefined'),\n",
       " ('Undefined', 'Undefined'),\n",
       " ('Undefined', 'Undefined'),\n",
       " ('Undefined', 'Undefined'),\n",
       " ('Undefined', 'Undefined'),\n",
       " ('Undefined', 'Undefined'),\n",
       " ('Undefined', 'Undefined'),\n",
       " ('Undefined', 'Undefined'),\n",
       " ('Undefined', 'Undefined'),\n",
       " ('Undefined', 'Undefined'),\n",
       " ('Undefined', 'Undefined'),\n",
       " ('Undefined', 'Undefined'),\n",
       " ('Undefined', 'Undefined'),\n",
       " ('Undefined', 'Undefined'),\n",
       " ('Undefined', 'Undefined'),\n",
       " ('Undefined', 'Undefined'),\n",
       " ('Undefined', 'Undefined'),\n",
       " ('Undefined', 'Undefined'),\n",
       " ('Undefined', 'Undefined'),\n",
       " ('Undefined', 'Undefined'),\n",
       " ('Undefined', 'Undefined'),\n",
       " ('Undefined', 'Undefined'),\n",
       " ('Undefined', 'Undefined'),\n",
       " ('Undefined', 'Undefined'),\n",
       " ('Undefined', 'Undefined'),\n",
       " ('Undefined', 'Undefined'),\n",
       " ('Undefined', 'Undefined'),\n",
       " ('Undefined', 'Undefined'),\n",
       " ('Undefined', 'Undefined'),\n",
       " ('Undefined', 'Undefined'),\n",
       " ('Undefined', 'Undefined'),\n",
       " ('Undefined', 'Undefined'),\n",
       " ('Undefined', 'Undefined'),\n",
       " ('Undefined', 'Undefined'),\n",
       " ('Undefined', 'Undefined'),\n",
       " ('Undefined', 'Undefined'),\n",
       " ('Undefined', 'Undefined'),\n",
       " ('Undefined', 'Undefined'),\n",
       " ('Undefined', 'Undefined'),\n",
       " ('Undefined', 'Undefined'),\n",
       " ('Undefined', 'Undefined'),\n",
       " ('Undefined', 'Undefined'),\n",
       " ('Undefined', 'Undefined'),\n",
       " ('Undefined', 'Undefined'),\n",
       " ('Undefined', 'Undefined'),\n",
       " ('Undefined', 'Undefined'),\n",
       " ('Undefined', 'Undefined'),\n",
       " ('Undefined', 'Undefined'),\n",
       " ('Undefined', 'Undefined'),\n",
       " ('Undefined', 'Undefined'),\n",
       " ('Undefined', 'Undefined'),\n",
       " ('Undefined', 'Undefined'),\n",
       " ('Undefined', 'Undefined'),\n",
       " ('Undefined', 'Undefined'),\n",
       " ('Undefined', 'Undefined'),\n",
       " ('Undefined', 'Undefined'),\n",
       " ('Undefined', 'Undefined'),\n",
       " ('Undefined', 'Undefined'),\n",
       " ('Undefined', 'Undefined'),\n",
       " ('Undefined', 'Undefined'),\n",
       " ('Undefined', 'Undefined'),\n",
       " ('Undefined', 'Undefined'),\n",
       " ('Undefined', 'Undefined'),\n",
       " ('Undefined', 'Undefined'),\n",
       " ('Undefined', 'Undefined'),\n",
       " ('Undefined', 'Undefined'),\n",
       " ('Undefined', 'Undefined'),\n",
       " ('Undefined', 'Undefined'),\n",
       " ('Undefined', 'Undefined'),\n",
       " ('Undefined', 'Undefined'),\n",
       " ('Undefined', 'Undefined'),\n",
       " ('Undefined', 'Undefined'),\n",
       " ('Undefined', 'Undefined'),\n",
       " ('Undefined', 'Undefined'),\n",
       " ('Undefined', 'Undefined'),\n",
       " ('Undefined', 'Undefined'),\n",
       " ('Undefined', 'Undefined'),\n",
       " ('Undefined', 'Undefined'),\n",
       " ('Undefined', 'Undefined'),\n",
       " ('Undefined', 'Undefined'),\n",
       " ('Undefined', 'Undefined'),\n",
       " ('Undefined', 'Undefined'),\n",
       " ('Undefined', 'Undefined'),\n",
       " ('Undefined', 'Undefined'),\n",
       " ('Undefined', 'Undefined'),\n",
       " ('Undefined', 'Undefined'),\n",
       " ('Undefined', 'Undefined'),\n",
       " ('Undefined', 'Undefined'),\n",
       " ('Undefined', 'Undefined'),\n",
       " ('Undefined', 'Undefined'),\n",
       " ('Undefined', 'Undefined'),\n",
       " ('Undefined', 'Undefined'),\n",
       " ('Undefined', 'Undefined'),\n",
       " ('Undefined', 'Undefined'),\n",
       " ('Undefined', 'Undefined'),\n",
       " ('Undefined', 'Undefined'),\n",
       " ('Undefined', 'Undefined'),\n",
       " ('Undefined', 'Undefined'),\n",
       " ('Undefined', 'Undefined'),\n",
       " ('Undefined', 'Undefined'),\n",
       " ('Undefined', 'Undefined'),\n",
       " ('Undefined', 'Undefined'),\n",
       " ('Undefined', 'Undefined'),\n",
       " ('Undefined', 'Undefined')]"
      ]
     },
     "execution_count": 10,
     "metadata": {},
     "output_type": "execute_result"
    }
   ],
   "source": [
    "[i for i in zip(source, target)]"
   ]
  },
  {
   "cell_type": "code",
   "execution_count": 14,
   "metadata": {},
   "outputs": [
    {
     "name": "stdout",
     "output_type": "stream",
     "text": [
      "env: OCS_HUB_CONFIG=config.ini\n",
      "> configuration file: config.ini\n"
     ]
    }
   ],
   "source": [
    "%env OCS_HUB_CONFIG=config.ini\n",
    "hub = HubClient()\n",
    "namespace_id = hub.namespace_of(\"Deschutes.Brewery\")"
   ]
  },
  {
   "cell_type": "code",
   "execution_count": 18,
   "metadata": {},
   "outputs": [],
   "source": [
    "st = hub.Streams.getStreams(namespace_id, query=\"name:*BRAND*\")"
   ]
  },
  {
   "cell_type": "code",
   "execution_count": 19,
   "metadata": {},
   "outputs": [
    {
     "data": {
      "text/plain": [
       "17"
      ]
     },
     "execution_count": 19,
     "metadata": {},
     "output_type": "execute_result"
    }
   ],
   "source": [
    "len(st)"
   ]
  },
  {
   "cell_type": "code",
   "execution_count": 21,
   "metadata": {},
   "outputs": [
    {
     "name": "stdout",
     "output_type": "stream",
     "text": [
      "PI_deschutes-vm_2381\n",
      "PI_deschutes-vm_2387\n",
      "PI_deschutes-vm_2383\n",
      "PI_deschutes-vm_2385\n",
      "PI_deschutes-vm_8032\n",
      "PI_deschutes-vm_2341\n",
      "PI_deschutes-vm_2342\n",
      "PI_deschutes-vm_2339\n",
      "PI_deschutes-vm_2343\n",
      "PI_deschutes-vm_5053\n",
      "PI_deschutes-vm_2384\n",
      "PI_deschutes-vm_8034\n",
      "PI_deschutes-vm_2388\n",
      "PI_deschutes-vm_2380\n",
      "PI_deschutes-vm_2382\n",
      "PI_deschutes-vm_2386\n",
      "PI_deschutes-vm_2340\n"
     ]
    }
   ],
   "source": [
    "for s in st:\n",
    "    print(s.Id)"
   ]
  },
  {
   "cell_type": "code",
   "execution_count": 24,
   "metadata": {
    "scrolled": true
   },
   "outputs": [],
   "source": [
    "import pandas as pd"
   ]
  },
  {
   "cell_type": "code",
   "execution_count": 25,
   "metadata": {
    "scrolled": true
   },
   "outputs": [],
   "source": [
    "df = pd.DataFrame()"
   ]
  },
  {
   "cell_type": "code",
   "execution_count": 36,
   "metadata": {},
   "outputs": [
    {
     "name": "stdout",
     "output_type": "stream",
     "text": [
      "<class 'list'>\n",
      "<class 'list'>\n",
      "<class 'list'>\n",
      "<class 'list'>\n",
      "<class 'list'>\n",
      "<class 'list'>\n",
      "<class 'list'>\n",
      "<class 'list'>\n",
      "<class 'list'>\n",
      "<class 'list'>\n",
      "<class 'list'>\n",
      "<class 'list'>\n",
      "<class 'list'>\n",
      "<class 'list'>\n",
      "<class 'list'>\n",
      "<class 'list'>\n",
      "<class 'list'>\n"
     ]
    }
   ],
   "source": [
    "for s in st:\n",
    "    val = hub.Streams.getWindowValues(namespace_id, s.Id, None, \"2016-01-01\", \"2020-08-01\")\n",
    "    print(type(val))  # , str(val))\n",
    "    df = df.append(pd.read_json(str(val).replace(\"'\",'\"'), orient='records'))"
   ]
  },
  {
   "cell_type": "code",
   "execution_count": 37,
   "metadata": {},
   "outputs": [
    {
     "data": {
      "text/html": [
       "<div>\n",
       "<style scoped>\n",
       "    .dataframe tbody tr th:only-of-type {\n",
       "        vertical-align: middle;\n",
       "    }\n",
       "\n",
       "    .dataframe tbody tr th {\n",
       "        vertical-align: top;\n",
       "    }\n",
       "\n",
       "    .dataframe thead th {\n",
       "        text-align: right;\n",
       "    }\n",
       "</style>\n",
       "<table border=\"1\" class=\"dataframe\">\n",
       "  <thead>\n",
       "    <tr style=\"text-align: right;\">\n",
       "      <th></th>\n",
       "      <th>Timestamp</th>\n",
       "      <th>Value</th>\n",
       "      <th>DigitalStateName</th>\n",
       "      <th>SystemStateCode</th>\n",
       "    </tr>\n",
       "  </thead>\n",
       "  <tbody>\n",
       "    <tr>\n",
       "      <th>0</th>\n",
       "      <td>2017-01-08 05:30:57.309005700+00:00</td>\n",
       "      <td>0.0</td>\n",
       "      <td>None</td>\n",
       "      <td>NaN</td>\n",
       "    </tr>\n",
       "    <tr>\n",
       "      <th>1</th>\n",
       "      <td>2017-01-08 13:20:57.560012800+00:00</td>\n",
       "      <td>0.0</td>\n",
       "      <td>None</td>\n",
       "      <td>NaN</td>\n",
       "    </tr>\n",
       "    <tr>\n",
       "      <th>2</th>\n",
       "      <td>2017-01-08 21:10:57.803009+00:00</td>\n",
       "      <td>0.0</td>\n",
       "      <td>None</td>\n",
       "      <td>NaN</td>\n",
       "    </tr>\n",
       "    <tr>\n",
       "      <th>3</th>\n",
       "      <td>2017-01-09 05:00:58.030014+00:00</td>\n",
       "      <td>0.0</td>\n",
       "      <td>None</td>\n",
       "      <td>NaN</td>\n",
       "    </tr>\n",
       "    <tr>\n",
       "      <th>4</th>\n",
       "      <td>2017-01-09 12:50:58.235000600+00:00</td>\n",
       "      <td>0.0</td>\n",
       "      <td>None</td>\n",
       "      <td>NaN</td>\n",
       "    </tr>\n",
       "    <tr>\n",
       "      <th>...</th>\n",
       "      <td>...</td>\n",
       "      <td>...</td>\n",
       "      <td>...</td>\n",
       "      <td>...</td>\n",
       "    </tr>\n",
       "    <tr>\n",
       "      <th>2791</th>\n",
       "      <td>2020-05-15 20:25:23.643005300+00:00</td>\n",
       "      <td>0.0</td>\n",
       "      <td></td>\n",
       "      <td>NaN</td>\n",
       "    </tr>\n",
       "    <tr>\n",
       "      <th>2792</th>\n",
       "      <td>2020-05-17 21:18:18.784011800+00:00</td>\n",
       "      <td>3.0</td>\n",
       "      <td>Realtime Hops</td>\n",
       "      <td>NaN</td>\n",
       "    </tr>\n",
       "    <tr>\n",
       "      <th>2793</th>\n",
       "      <td>2020-05-18 15:30:32.784011800+00:00</td>\n",
       "      <td>3.0</td>\n",
       "      <td>Realtime Hops</td>\n",
       "      <td>NaN</td>\n",
       "    </tr>\n",
       "    <tr>\n",
       "      <th>2794</th>\n",
       "      <td>2020-05-18 23:01:31.230010900+00:00</td>\n",
       "      <td>23.0</td>\n",
       "      <td>Kennedy</td>\n",
       "      <td>NaN</td>\n",
       "    </tr>\n",
       "    <tr>\n",
       "      <th>2795</th>\n",
       "      <td>2020-05-21 05:38:13.230010900+00:00</td>\n",
       "      <td>23.0</td>\n",
       "      <td>Kennedy</td>\n",
       "      <td>NaN</td>\n",
       "    </tr>\n",
       "  </tbody>\n",
       "</table>\n",
       "<p>44072 rows × 4 columns</p>\n",
       "</div>"
      ],
      "text/plain": [
       "                               Timestamp  Value DigitalStateName  \\\n",
       "0    2017-01-08 05:30:57.309005700+00:00    0.0             None   \n",
       "1    2017-01-08 13:20:57.560012800+00:00    0.0             None   \n",
       "2       2017-01-08 21:10:57.803009+00:00    0.0             None   \n",
       "3       2017-01-09 05:00:58.030014+00:00    0.0             None   \n",
       "4    2017-01-09 12:50:58.235000600+00:00    0.0             None   \n",
       "...                                  ...    ...              ...   \n",
       "2791 2020-05-15 20:25:23.643005300+00:00    0.0                    \n",
       "2792 2020-05-17 21:18:18.784011800+00:00    3.0    Realtime Hops   \n",
       "2793 2020-05-18 15:30:32.784011800+00:00    3.0    Realtime Hops   \n",
       "2794 2020-05-18 23:01:31.230010900+00:00   23.0          Kennedy   \n",
       "2795 2020-05-21 05:38:13.230010900+00:00   23.0          Kennedy   \n",
       "\n",
       "      SystemStateCode  \n",
       "0                 NaN  \n",
       "1                 NaN  \n",
       "2                 NaN  \n",
       "3                 NaN  \n",
       "4                 NaN  \n",
       "...               ...  \n",
       "2791              NaN  \n",
       "2792              NaN  \n",
       "2793              NaN  \n",
       "2794              NaN  \n",
       "2795              NaN  \n",
       "\n",
       "[44072 rows x 4 columns]"
      ]
     },
     "execution_count": 37,
     "metadata": {},
     "output_type": "execute_result"
    }
   ],
   "source": [
    "df"
   ]
  },
  {
   "cell_type": "code",
   "execution_count": 65,
   "metadata": {},
   "outputs": [],
   "source": [
    "ibr = sorted([int(i) for i in list(df[\"Value\"].unique())[2:]])\n",
    "ibr"
   ]
  },
  {
   "cell_type": "code",
   "execution_count": 67,
   "metadata": {},
   "outputs": [],
   "source": [
    "ibr.insert(0, 0)"
   ]
  },
  {
   "cell_type": "code",
   "execution_count": 68,
   "metadata": {},
   "outputs": [
    {
     "data": {
      "text/plain": [
       "[0,\n",
       " 1,\n",
       " 2,\n",
       " 3,\n",
       " 4,\n",
       " 5,\n",
       " 6,\n",
       " 7,\n",
       " 8,\n",
       " 9,\n",
       " 10,\n",
       " 11,\n",
       " 12,\n",
       " 13,\n",
       " 16,\n",
       " 17,\n",
       " 20,\n",
       " 21,\n",
       " 23,\n",
       " 24,\n",
       " 26,\n",
       " 30,\n",
       " 33,\n",
       " 41,\n",
       " 42,\n",
       " 45,\n",
       " 50,\n",
       " 55,\n",
       " 70,\n",
       " 71,\n",
       " 73,\n",
       " 74,\n",
       " 103,\n",
       " 107,\n",
       " 108]"
      ]
     },
     "execution_count": 68,
     "metadata": {},
     "output_type": "execute_result"
    }
   ],
   "source": [
    "ibr"
   ]
  },
  {
   "cell_type": "code",
   "execution_count": 69,
   "metadata": {},
   "outputs": [
    {
     "data": {
      "text/plain": [
       "['None',\n",
       " 'Twilight',\n",
       " 'Chasin Freshies',\n",
       " 'Mirror Pond',\n",
       " 'Black Butte',\n",
       " 'Inversion',\n",
       " 'Obsidian',\n",
       " 'Green Lakes',\n",
       " 'Jubelale',\n",
       " 'Red Chair',\n",
       " 'Hop Henge',\n",
       " 'Abyss',\n",
       " 'Black Butte XX',\n",
       " 'Stoic',\n",
       " 'Hop Trip',\n",
       " 'Hop in the Dark',\n",
       " 'Marionberry Lavender',\n",
       " 'Hand Up IPA',\n",
       " 'Fresh Squeezed',\n",
       " 'Pacific Wonderland',\n",
       " 'Dopple Dinkel Bock',\n",
       " 'Wowza',\n",
       " 'Tahitian Lime Sour',\n",
       " 'Hop Slice',\n",
       " 'Slightly Exaggerated',\n",
       " 'Cultivatuer 3711',\n",
       " 'Hopzeit',\n",
       " 'American Wheat',\n",
       " 'Fresh Haze IPA',\n",
       " 'Schwarzbier',\n",
       " 'Da Shootz',\n",
       " 'Lil Squeezy',\n",
       " 'Red Chair Nitro',\n",
       " 'Black Butte Nitro',\n",
       " 'Twilight Nitro']"
      ]
     },
     "execution_count": 69,
     "metadata": {},
     "output_type": "execute_result"
    }
   ],
   "source": [
    "sbr = [source[i] for i in ibr]\n",
    "sbr"
   ]
  },
  {
   "cell_type": "code",
   "execution_count": 70,
   "metadata": {},
   "outputs": [
    {
     "data": {
      "text/plain": [
       "[(0, '', 'None'),\n",
       " (1, 'AAA', 'Twilight'),\n",
       " (2, 'AFeizen', 'Chasin Freshies'),\n",
       " (3, 'Realtime Hops', 'Mirror Pond'),\n",
       " (4, 'Kerberos', 'Black Butte'),\n",
       " (5, 'Grey Horse', 'Inversion'),\n",
       " (6, 'The Kiwi', 'Obsidian'),\n",
       " (7, 'Fortune Teller', 'Green Lakes'),\n",
       " (8, 'Tall Man', 'Jubelale'),\n",
       " (9, 'LIT', 'Red Chair'),\n",
       " (10, 'Zimbru', 'Hop Henge'),\n",
       " (11, 'Big Geek', 'Abyss'),\n",
       " (12, 'Orion', 'Black Butte XX'),\n",
       " (13, 'Chewbaka', 'Stoic'),\n",
       " (16, 'LPA', 'Hop Trip'),\n",
       " (17, 'Bar-Hop', 'Hop in the Dark'),\n",
       " (20, 'Hop-A-Long', 'Marionberry Lavender'),\n",
       " (21, 'Red Wonder', 'Hand Up IPA'),\n",
       " (23, 'Kennedy', 'Fresh Squeezed'),\n",
       " (24, 'Coorsight', 'Pacific Wonderland'),\n",
       " (26, 'Brew Master', 'Dopple Dinkel Bock'),\n",
       " (30, 'King of Hop', 'Wowza'),\n",
       " (33, 'Beertopia', 'Tahitian Lime Sour'),\n",
       " (41, 'Adele', 'Hop Slice'),\n",
       " (42, 'Montreal', 'Slightly Exaggerated'),\n",
       " (45, 'ProcessBook', 'Cultivatuer 3711'),\n",
       " (50, 'Manual Logger', 'Hopzeit'),\n",
       " (55, 'Undefined', 'American Wheat'),\n",
       " (70, 'Undefined', 'Fresh Haze IPA'),\n",
       " (71, 'Undefined', 'Schwarzbier'),\n",
       " (73, 'Undefined', 'Da Shootz'),\n",
       " (74, 'Undefined', 'Lil Squeezy'),\n",
       " (103, 'Nitro 4', 'Red Chair Nitro'),\n",
       " (107, 'Nitro 8', 'Black Butte Nitro'),\n",
       " (108, 'Undefined', 'Twilight Nitro')]"
      ]
     },
     "execution_count": 70,
     "metadata": {},
     "output_type": "execute_result"
    }
   ],
   "source": [
    "tbr = [(i, target[i], source[i]) for i in ibr]\n",
    "tbr"
   ]
  },
  {
   "cell_type": "code",
   "execution_count": 71,
   "metadata": {},
   "outputs": [],
   "source": [
    "target2_ds = \"None,AAA,AFeizen,Realtime Hops,Kerberos,Grey Horse,The Kiwi,Fortune Teller,Tall Man,LIT,Zimbru,Big Geek,Orion,Chewbaka,Alistair,Stranger,LPA,Bar-Hop,Hop-Scotch,5450,Hop-A-Long,Red Wonder,OLEDBeer,Kennedy,Coorsight,Strange Brew,Brew Master,Eau De Vie,Rut Gut Ale,Mooshine,King of Hop,Brewster,Brewking,Beertopia,LP's Best,La Vache Rouge,Isabelle,YUL,Bachelor,Fabens,1155,Adele,Montreal,Arthur,Angler Fish,PHL,DataLink,ActiveView,ProfileView,ProcessPoint,SFO,OSIsoft,OSIhard,Undefined,Undefined,IPAnanas,Undefined,Undefined0,Undefined1,Undefined2,Undefined3,Undefined4,Undefined5,Undefined6,Undefined7,Undefined8,Undefined9,Undefined10,Undefined11,Undefined12,Trois Lacs,Tequilla,Undefined15,Guiness,Blue Whale,Undefined18,Undefined19,Undefined,Undefined,Undefined,Undefined,Undefined,Undefined,Undefined,Undefined,Undefined,Undefined,Undefined,Undefined,Undefined,Undefined,Undefined,Undefined,Undefined,Undefined,Undefined,Undefined,Undefined,Undefined,Nitro Hop,Nitro 1,Nitro 2,Nitro 3,Black Label,Nitro 5,Nitro 6,Nitro 7,Blue,Gotcha,Undefined,Undefined,Undefined,Undefined,Undefined,Undefined,Undefined,Undefined,Undefined,Undefined,Undefined,Undefined,Undefined,Undefined,Undefined,Undefined,Undefined,Undefined,Undefined,Undefined,Undefined,Undefined,Undefined,Undefined,Undefined,Undefined,Undefined,Undefined,Undefined,Undefined,Undefined,Undefined,Undefined,Undefined,Undefined,Undefined,Undefined,Undefined,Undefined,Undefined,Undefined,Undefined,Undefined,Undefined,Undefined,Undefined,Undefined,Undefined,Undefined,Undefined,Undefined,Undefined,Undefined,Undefined,Undefined,Undefined,Undefined,Undefined,Undefined,Undefined,Undefined,Undefined,Undefined,Undefined,Undefined,Undefined,Undefined,Undefined,Undefined,Undefined,Undefined,Undefined,Undefined,Undefined,Undefined,Undefined,Undefined,Undefined,Undefined,Undefined,Undefined,Undefined,Undefined,Undefined,Undefined,Undefined,Undefined,Undefined,Undefined,Undefined,Undefined,Undefined,Undefined,Undefined,Undefined,Undefined,Undefined,Undefined,Undefined,Undefined,Undefined,Undefined,Undefined,Undefined,Undefined,Undefined,Undefined,Undefined,Undefined,Undefined,Undefined,Undefined,Undefined,Undefined,Undefined,Undefined,Undefined,Undefined,Undefined,Undefined,Undefined,Undefined,Undefined,Undefined,Undefined,Undefined,Undefined,Undefined,Undefined,Undefined,Undefined,Undefined,Undefined,Undefined,Undefined,Undefined,Undefined,Undefined,Undefined,Undefined,Undefined,Undefined,Undefined,Undefined,Undefined,Undefined,Undefined\""
   ]
  },
  {
   "cell_type": "code",
   "execution_count": 72,
   "metadata": {},
   "outputs": [],
   "source": [
    "target2 = target2_ds.split(\",\")"
   ]
  },
  {
   "cell_type": "code",
   "execution_count": 73,
   "metadata": {},
   "outputs": [
    {
     "data": {
      "text/plain": [
       "[(0, 'None', 'None'),\n",
       " (1, 'AAA', 'Twilight'),\n",
       " (2, 'AFeizen', 'Chasin Freshies'),\n",
       " (3, 'Realtime Hops', 'Mirror Pond'),\n",
       " (4, 'Kerberos', 'Black Butte'),\n",
       " (5, 'Grey Horse', 'Inversion'),\n",
       " (6, 'The Kiwi', 'Obsidian'),\n",
       " (7, 'Fortune Teller', 'Green Lakes'),\n",
       " (8, 'Tall Man', 'Jubelale'),\n",
       " (9, 'LIT', 'Red Chair'),\n",
       " (10, 'Zimbru', 'Hop Henge'),\n",
       " (11, 'Big Geek', 'Abyss'),\n",
       " (12, 'Orion', 'Black Butte XX'),\n",
       " (13, 'Chewbaka', 'Stoic'),\n",
       " (16, 'LPA', 'Hop Trip'),\n",
       " (17, 'Bar-Hop', 'Hop in the Dark'),\n",
       " (20, 'Hop-A-Long', 'Marionberry Lavender'),\n",
       " (21, 'Red Wonder', 'Hand Up IPA'),\n",
       " (23, 'Kennedy', 'Fresh Squeezed'),\n",
       " (24, 'Coorsight', 'Pacific Wonderland'),\n",
       " (26, 'Brew Master', 'Dopple Dinkel Bock'),\n",
       " (30, 'King of Hop', 'Wowza'),\n",
       " (33, 'Beertopia', 'Tahitian Lime Sour'),\n",
       " (41, 'Adele', 'Hop Slice'),\n",
       " (42, 'Montreal', 'Slightly Exaggerated'),\n",
       " (45, 'PHL', 'Cultivatuer 3711'),\n",
       " (50, 'SFO', 'Hopzeit'),\n",
       " (55, 'IPAnanas', 'American Wheat'),\n",
       " (70, 'Trois Lacs', 'Fresh Haze IPA'),\n",
       " (71, 'Tequilla', 'Schwarzbier'),\n",
       " (73, 'Guiness', 'Da Shootz'),\n",
       " (74, 'Blue Whale', 'Lil Squeezy'),\n",
       " (103, 'Black Label', 'Red Chair Nitro'),\n",
       " (107, 'Blue', 'Black Butte Nitro'),\n",
       " (108, 'Gotcha', 'Twilight Nitro')]"
      ]
     },
     "execution_count": 73,
     "metadata": {},
     "output_type": "execute_result"
    }
   ],
   "source": [
    "t2br = [(i, target2[i], source[i]) for i in ibr]\n",
    "t2br"
   ]
  },
  {
   "cell_type": "code",
   "execution_count": 83,
   "metadata": {
    "scrolled": true
   },
   "outputs": [
    {
     "name": "stdout",
     "output_type": "stream",
     "text": [
      ">> PI_deschutes-vm_2381\n",
      ">> PI_deschutes-vm_2387\n",
      ">> PI_deschutes-vm_2383\n",
      ">> PI_deschutes-vm_2385\n",
      ">> PI_deschutes-vm_8032\n",
      ">> PI_deschutes-vm_2341\n",
      ">> PI_deschutes-vm_2342\n",
      ">> PI_deschutes-vm_2339\n",
      ">> PI_deschutes-vm_2343\n",
      ">> PI_deschutes-vm_5053\n",
      ">> PI_deschutes-vm_2384\n",
      ">> PI_deschutes-vm_8034\n",
      ">> PI_deschutes-vm_2388\n",
      ">> PI_deschutes-vm_2380\n",
      ">> PI_deschutes-vm_2382\n",
      ">> PI_deschutes-vm_2386\n",
      ">> PI_deschutes-vm_2340\n"
     ]
    }
   ],
   "source": [
    "for s in st:\n",
    "    val = hub.Streams.getWindowValues(namespace_id, s.Id, None, \"2016-01-01\", \"2020-08-01\")\n",
    "    print(f\">> {s.Id}\")\n",
    "    #df = df.append(pd.read_json(str(val).replace(\"'\",'\"'), orient='records'))\n",
    "    for i in val:\n",
    "        try:\n",
    "            i[\"DigitalStateName\"] = target2[i[\"Value\"]]\n",
    "        except KeyError:\n",
    "            # print(f\"@@@ {i['SystemStateCode']}\")\n",
    "            pass\n",
    "    # print(val)\n",
    "    hub.Streams.updateValues(namespace_id, s.Id, str(val).replace(\"'\", '\"'))\n",
    "    # break"
   ]
  },
  {
   "cell_type": "code",
   "execution_count": 90,
   "metadata": {},
   "outputs": [
    {
     "name": "stdout",
     "output_type": "stream",
     "text": [
      ">> PI_deschutes-vm_2381 - B2_CL_C2_FV32/BRAND.CV\n",
      ">> PI_deschutes-vm_2387 - B2_CL_C3_FV38/BRAND.CV\n",
      ">> PI_deschutes-vm_2383 - B2_CL_C2_FV34/BRAND.CV\n",
      ">> PI_deschutes-vm_2385 - B2_CL_C2_FV36/BRAND.CV\n",
      ">> PI_deschutes-vm_8032 - B2_CL_C2_PS1/BRAND.CV\n",
      ">> PI_deschutes-vm_2341 - B2_CL_C2_BB13/BRAND.CV\n",
      ">> PI_deschutes-vm_2342 - B2_CL_C2_BB14/BRAND.CV\n",
      ">> PI_deschutes-vm_2339 - B2_CL_C2_BB11/BRAND.CV\n",
      ">> PI_deschutes-vm_2343 - B2_CL_C2_BB15/BRAND.CV\n",
      ">> PI_deschutes-vm_5053 - B2_CL_C2_BBL1/BRAND.CV\n",
      ">> PI_deschutes-vm_2384 - B2_CL_C2_FV35/BRAND.CV\n",
      ">> PI_deschutes-vm_8034 - B2_CL_C2_PS2/BRAND.CV\n",
      ">> PI_deschutes-vm_2388 - B2_CL_C3_FV39/BRAND.CV\n",
      ">> PI_deschutes-vm_2380 - B2_CL_C2_FV31/BRAND.CV\n",
      ">> PI_deschutes-vm_2382 - B2_CL_C2_FV33/BRAND.CV\n",
      ">> PI_deschutes-vm_2386 - B2_CL_C3_FV37/BRAND.CV\n",
      ">> PI_deschutes-vm_2340 - B2_CL_C2_BB12/BRAND.CV\n"
     ]
    }
   ],
   "source": [
    "df = pd.DataFrame()\n",
    "for s in st:\n",
    "    val = hub.Streams.getWindowValues(namespace_id, s.Id, None, \"2016-01-01\", \"2020-08-01\")\n",
    "    print(f\">> {s.Id} - {s.Name}\")\n",
    "    df = df.append(pd.read_json(str(val).replace(\"'\",'\"'), orient='records'))"
   ]
  },
  {
   "cell_type": "code",
   "execution_count": 91,
   "metadata": {},
   "outputs": [
    {
     "data": {
      "text/plain": [
       "array(['None', 'Configure', 'Realtime Hops', 'Not Connect', 'Grey Horse',\n",
       "       'Kerberos', 'Comm Fail', 'Adele', 'Coorsight', 'SFO', 'Tall Man',\n",
       "       'LIT', 'Trois Lacs', 'AFeizen', 'Blue', 'Guiness', 'Kennedy',\n",
       "       'AAA', 'Montreal', 'Red Wonder', 'Scan Off', 'Beertopia',\n",
       "       'Fortune Teller', 'Bad', 'Orion', 'Hop-A-Long', 'PHL', 'IPAnanas',\n",
       "       'Gotcha', 'Zimbru', 'Pt Created', 'The Kiwi', 'Blue Whale',\n",
       "       'Big Geek', 'Brew Master', 'Bar-Hop', 'LPA', 'Tequilla',\n",
       "       'King of Hop', 'Black Label', 'Chewbaka'], dtype=object)"
      ]
     },
     "execution_count": 91,
     "metadata": {},
     "output_type": "execute_result"
    }
   ],
   "source": [
    "df[\"DigitalStateName\"].unique()"
   ]
  },
  {
   "cell_type": "code",
   "execution_count": null,
   "metadata": {},
   "outputs": [],
   "source": []
  }
 ],
 "metadata": {
  "kernelspec": {
   "display_name": "Python 3",
   "language": "python",
   "name": "python3"
  },
  "language_info": {
   "codemirror_mode": {
    "name": "ipython",
    "version": 3
   },
   "file_extension": ".py",
   "mimetype": "text/x-python",
   "name": "python",
   "nbconvert_exporter": "python",
   "pygments_lexer": "ipython3",
   "version": "3.7.6"
  }
 },
 "nbformat": 4,
 "nbformat_minor": 4
}
