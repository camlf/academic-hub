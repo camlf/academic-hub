{
 "cells": [
  {
   "cell_type": "code",
   "execution_count": 1,
   "metadata": {},
   "outputs": [],
   "source": [
    "import papermill as pm\n",
    "import os"
   ]
  },
  {
   "cell_type": "code",
   "execution_count": 2,
   "metadata": {},
   "outputs": [
    {
     "name": "stdout",
     "output_type": "stream",
     "text": [
      "env: OCS_HUB_CONFIG=config.ini\n"
     ]
    }
   ],
   "source": [
    "%env OCS_HUB_CONFIG=config.ini"
   ]
  },
  {
   "cell_type": "code",
   "execution_count": 3,
   "metadata": {},
   "outputs": [],
   "source": [
    "def clean_uninstall():\n",
    "    result = os.system(\"pip uninstall -y ocs-academic-hub ocs-sample-library-preview gql > /dev/null\")\n",
    "    print(f\"@clean={'OK' if result == 0 else 'oops'}\")\n",
    "    return result == 0"
   ]
  },
  {
   "cell_type": "code",
   "execution_count": 4,
   "metadata": {},
   "outputs": [],
   "source": [
    "target_dir = \"Test01\"\n",
    "nbs = [\n",
    "    \"NB1_SOLUTION_ADF_Prediction.ipynb\",\n",
    "    \"NB2_SOLUTION_Cooling_Prediction.ipynb\",\n",
    "    \"NB3_SOLUTION_Beer_PCA.ipynb\",\n",
    "    \"PandasGuide.ipynb\",\n",
    "    \"Deschutes_Dataset_Doc.ipynb\",\n",
    "    \"DESCHUTES_GUIDE.ipynb\",\n",
    "]\n",
    "\n",
    "for nb in nbs:\n",
    "    if clean_uninstall():\n",
    "        print(f\">> {nb}...\")\n",
    "        pm.execute_notebook(f\"../Learning_Modules/{nb}\", f\"./{target_dir}/{nb}\")\n",
    "None"
   ]
  },
  {
   "cell_type": "code",
   "execution_count": 5,
   "metadata": {},
   "outputs": [
    {
     "name": "stdout",
     "output_type": "stream",
     "text": [
      "@move exercises to Test01=OK\n"
     ]
    }
   ],
   "source": [
    "result = os.system(f\"mv *EXER*.ipynb {target_dir}\")\n",
    "print(f\"@move exercises to {target_dir}={'OK' if result == 0 else 'oops'}\")"
   ]
  }
 ],
 "metadata": {
  "kernelspec": {
   "display_name": "Python 3",
   "language": "python",
   "name": "python3"
  },
  "language_info": {
   "codemirror_mode": {
    "name": "ipython",
    "version": 3
   },
   "file_extension": ".py",
   "mimetype": "text/x-python",
   "name": "python",
   "nbconvert_exporter": "python",
   "pygments_lexer": "ipython3",
   "version": "3.7.6"
  }
 },
 "nbformat": 4,
 "nbformat_minor": 4
}
