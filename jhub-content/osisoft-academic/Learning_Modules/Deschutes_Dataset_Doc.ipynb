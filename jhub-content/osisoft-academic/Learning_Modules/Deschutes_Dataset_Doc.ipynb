{
 "cells": [
  {
   "cell_type": "markdown",
   "metadata": {
    "toc": true
   },
   "source": [
    "<h1>Table of Contents<span class=\"tocSkip\"></span></h1>\n",
    "<div class=\"toc\"><ul class=\"toc-item\"><li><span><a href=\"#Deschutes-Dataset-Documentation\" data-toc-modified-id=\"Deschutes-Dataset-Documentation-1\">Deschutes Dataset Documentation</a></span><ul class=\"toc-item\"><li><span><a href=\"#Overview-of-the-Deschutes-Dataset-Document\" data-toc-modified-id=\"Overview-of-the-Deschutes-Dataset-Document-1.1\">Overview of the Deschutes Dataset Document</a></span></li></ul></li><li><span><a href=\"#Part-1.-Description-of-Fermentation-Dataset-(Deschutes-Brewing)\" data-toc-modified-id=\"Part-1.-Description-of-Fermentation-Dataset-(Deschutes-Brewing)-2\">Part 1. Description of Fermentation Dataset (Deschutes Brewing)</a></span><ul class=\"toc-item\"><li><ul class=\"toc-item\"><li><span><a href=\"#1a.-Presence-of-Three-Temperature-Control-Zones-and-Volume-Data-for-Each-Fermenter\" data-toc-modified-id=\"1a.-Presence-of-Three-Temperature-Control-Zones-and-Volume-Data-for-Each-Fermenter-2.0.1\">1a. Presence of Three Temperature Control Zones and Volume Data for Each Fermenter</a></span></li><li><span><a href=\"#1b.-Deschutes-Beer-Manufacturing-Process\" data-toc-modified-id=\"1b.-Deschutes-Beer-Manufacturing-Process-2.0.2\">1b. Deschutes Beer Manufacturing Process</a></span></li></ul></li></ul></li><li><span><a href=\"#Part-2.-Industry-Challenges\" data-toc-modified-id=\"Part-2.-Industry-Challenges-3\">Part 2. Industry Challenges</a></span></li><li><span><a href=\"#Part-3.-Stream-Data\" data-toc-modified-id=\"Part-3.-Stream-Data-4\">Part 3. Stream Data</a></span></li><li><span><a href=\"#Part-4.-Data-Quality\" data-toc-modified-id=\"Part-4.-Data-Quality-5\">Part 4. Data Quality</a></span></li><li><span><a href=\"#Part-5.-OCS-Access\" data-toc-modified-id=\"Part-5.-OCS-Access-6\">Part 5. OCS Access</a></span></li><li><span><a href=\"#Part-6.-Dataview\" data-toc-modified-id=\"Part-6.-Dataview-7\">Part 6. Dataview</a></span></li><li><span><a href=\"#Part-7.-Dataview-Data-Access\" data-toc-modified-id=\"Part-7.-Dataview-Data-Access-8\">Part 7. Dataview Data Access</a></span><ul class=\"toc-item\"><li><span><a href=\"#7a.-For-a-given-Dataview-ID,-find-the-corresponding-stream-data-and-list-of-fermenters\" data-toc-modified-id=\"7a.-For-a-given-Dataview-ID,-find-the-corresponding-stream-data-and-list-of-fermenters-8.1\">7a. For a given Dataview ID, find the corresponding stream data and list of fermenters</a></span></li><li><span><a href=\"#7b.-Read-the-dataview-data\" data-toc-modified-id=\"7b.-Read-the-dataview-data-8.2\">7b. Read the dataview data</a></span></li></ul></li><li><span><a href=\"#Part-8.-Data-Access-Example\" data-toc-modified-id=\"Part-8.-Data-Access-Example-9\">Part 8. Data Access Example</a></span><ul class=\"toc-item\"><li><span><a href=\"#Part-8a.-Find-the-list-of-the-pre-defined-fermenters-tied-with-the-Dataview-&quot;cooling&quot;\" data-toc-modified-id=\"Part-8a.-Find-the-list-of-the-pre-defined-fermenters-tied-with-the-Dataview-&quot;cooling&quot;-9.1\">Part 8a. Find the list of the pre-defined fermenters tied with the Dataview \"cooling\"</a></span></li><li><span><a href=\"#Part-8b.-Find-the-relevant-streams-stored-in-the-Dataview-&quot;cooling&quot;:\" data-toc-modified-id=\"Part-8b.-Find-the-relevant-streams-stored-in-the-Dataview-&quot;cooling&quot;:-9.2\">Part 8b. Find the relevant streams stored in the Dataview \"cooling\":</a></span></li><li><span><a href=\"#Part-8c.-Read-the-single-fermenter-of-the-Dataview-&quot;cooling&quot;:\" data-toc-modified-id=\"Part-8c.-Read-the-single-fermenter-of-the-Dataview-&quot;cooling&quot;:-9.3\">Part 8c. Read the single fermenter of the Dataview \"cooling\":</a></span></li><li><span><a href=\"#Part-8d.-Read-the-multiple-fermenters-of-the-DataView-&quot;DV_Cool_temp&quot;:\" data-toc-modified-id=\"Part-8d.-Read-the-multiple-fermenters-of-the-DataView-&quot;DV_Cool_temp&quot;:-9.4\">Part 8d. Read the multiple fermenters of the DataView \"DV_Cool_temp\":</a></span></li></ul></li></ul></div>"
   ]
  },
  {
   "cell_type": "markdown",
   "metadata": {},
   "source": [
    "# Deschutes Dataset Documentation\n",
    "___"
   ]
  },
  {
   "cell_type": "markdown",
   "metadata": {},
   "source": [
    "\n",
    "## Overview of the Deschutes Dataset Document\n",
    "\n",
    "__[Part 1](#section_1). Description of Fermentation Dataset (Deschutes Brewing)__\n",
    "\n",
    "Describes the OSIsoft Academic Hub ([Part 1](#section_1)), the Deschutes dataset, the time frame in which the dataset was compiled, data quality ([Part 1a](#section_1a)), and Deschutes Beer brewing process ([Part 1b](#section_1b)).\n",
    "\n",
    "__[Part 2](#section_2). The Industry Challenges__\n",
    "\n",
    "The brewers at the Deschutes brewery have identified two distinct critical parameters that are directly related to their process's throughput and costs. Empowered by data analytics, the brewers explain how they were able to solve the engineering challenge.\n",
    "\n",
    "__[Part 3](#section_3). Stream Data__\n",
    "\n",
    "Explains the process parameters and other monitored variables collected during beer manufacturing process.\n",
    "\n",
    "__[Part 4](#section_4). Data Quality__\n",
    "\n",
    "Faced with real-world data, students are expected to work with \"dirty\" data: data which contains error and gaps. This section also describes various ways poor quality data arises.\n",
    "\n",
    "__[Part 5](#section_5). OCS Access__\n",
    "\n",
    "Explains the user authentication steps to initialize a hub client object necessary to access the OCS data store.\n",
    "\n",
    "__[Part 6](#section_6). Dataview__\n",
    "\n",
    "Explains the definition of Dataview, its functionalities, and how Dataview is used for reading the data pre-installed on OCS.\n",
    "\n",
    "__[Part 7](#section_7). Data Access__\n",
    "\n",
    "Explains how to call the Dataview function to access the data on OCS by providing the general format of the function. Other functions that retrieve the different streams and fermenters of a given Dataview ID are also explained.\n",
    "\n",
    "__[Part 8](#section_8). Data Access Example__\n",
    "\n",
    "Illustrates an example of how the general templates of the Dataview functions addressed in [Part 7](#section_7) are used."
   ]
  },
  {
   "cell_type": "markdown",
   "metadata": {},
   "source": [
    "# Part 1. Description of Fermentation Dataset (Deschutes Brewing)\n",
    "---\n",
    "<a id=\"section_1\"></a>\n",
    "\n",
    "    \n",
    "OSIsoft Academic Hub is a cloud-based platform that supports data analytics in the university curriculum by providing a data infrastructure to host, aggregate, and analyze data. Students are exposed to real-world industrial data which illustrates some of the same engineering concepts being taught in classrooms and labs. OSIsoft Academic Hub hosts the real-world dataset shared from a beer brewing customer, Deschutes Brewery. The dataset contains the sensor data and the categorical data organizing the brands of the brews in the fermenter and the status of the fermenter. The entire dataset come from twenty-nine fermenters compiled from January 2, 2016 to January 1, 2017. These real datasets for each fermenter are not identical, because not all the fermenters are equipped with the three temperature sensors at the three temperature zones (Top, Middle, and the Bottom), and collect data for volume.\n"
   ]
  },
  {
   "cell_type": "markdown",
   "metadata": {},
   "source": [
    "### 1a. Presence of Three Temperature Control Zones and Volume Data for Each Fermenter   \n",
    "<a id=\"section_1a\"></a>\n",
    "\n",
    "Whether the dataset for each fermenter contains three temperature control zones and volume data may vary from fermenter to fermenter. The table shown below summarizes the data availability of the three temperature control zones and volume data by fermenter (labeled fv8 through fv36). Students will perform data analysis on fermenters 31 to 36 because these six fermenters are equipped to measure all the essential parameters.    \n",
    "    \n",
    "| Fermenter | Volume | Top TIC | Middle TIC | Bottom TIC |\n",
    "|:---------:|:---------:|:---------:|:----------:|:----------:|\n",
    "| fv8 | No | No | No | Yes |\n",
    "| fv9 | No | No | No | Yes |\n",
    "| fv10 | Yes | No | No | Yes |\n",
    "| fv11 | Yes | No | No | Yes |\n",
    "| fv12 | Yes | No | No | Yes |\n",
    "| fv13 | Yes | No | No | Yes |\n",
    "| fv14 | Yes | No | No | Yes |\n",
    "| fv15 | Yes | No | Yes | Yes |\n",
    "| fv16 | Yes | No | Yes | Yes |\n",
    "| fv17 | Yes | No | No | Yes |\n",
    "| fv18 | Yes | No | No | Yes |\n",
    "| fv19 | Yes | No | No | Yes |\n",
    "| fv20 | Yes | No | No | Yes |\n",
    "| fv21 | Yes | No | No | Yes |\n",
    "| fv22 | Yes | No | No | Yes |\n",
    "| fv23 | Yes | No | No | Yes |\n",
    "| fv24 | Yes | No | No | Yes |\n",
    "| fv25 | Yes | No | No | Yes |\n",
    "| fv26 | Yes | No | No | Yes |\n",
    "| fv27 | Yes | No | Yes | Yes |\n",
    "| fv28 | Yes | No | Yes | Yes |\n",
    "| fv31 | Yes | Yes | Yes | Yes |\n",
    "| fv32 | Yes | Yes | Yes | Yes |\n",
    "| fv33 | Yes | Yes | Yes | Yes |\n",
    "| fv34 | Yes | Yes | Yes | Yes |\n",
    "| fv35 | Yes | Yes | Yes | Yes |\n",
    "| fv36 | Yes | Yes | Yes | Yes |"
   ]
  },
  {
   "cell_type": "markdown",
   "metadata": {},
   "source": [
    "### 1b. Deschutes Beer Manufacturing Process\n",
    "<a id=\"section_1b\"></a>\n",
    "\n",
    "Before performing analytics on the Deschutes dataset, it is important first to understand the Deschutes beer manufacturing process from filling to emptying. Each step of the process can be explained using the status of the fermenter. The fermenter goes through a total of ten different stages in the following order:     \n",
    "\n",
    "  \n",
    "    1. Filling: Filling multiple brews into the fermenter.\n",
    "    \n",
    "    2. Fermentation: Yeast metabolically converts glucose in the wort to ethanol and carbon dioxide gas.\n",
    "    \n",
    "    3. Free Rise: The solution temperature increases approximately from 60° to 70° Fahrenheit to adjust\n",
    "                  the temperature environment for yeast for diacetyl rest.\n",
    "    \n",
    "    4. Diacetyl Rest: Yeast reduces metabolic by-product, diacetyl compounds, which above its threshold\n",
    "                  can create off-putting taste in the beer.\n",
    "    \n",
    "    5. Cooling: The temperature of the entire volume cools from 70° to below 30° Fahrenheit. \n",
    "    \n",
    "    6. Maturation: The tank waits for 24 to 48 hours just below 30° Fahrenheit, stabilizing colloidal\n",
    "                 stability.\n",
    "    \n",
    "    7. Ready to Transfer: The vessel holding beer is on standby until scheduled for packaging.\n",
    "    \n",
    "    8. Emptying: Remove any excess solids in the solution using a centrifuge as the solution exits the\n",
    "                 vessel and continuously do so until it is emptied.\n",
    "    \n",
    "    9. Cleaning: Cleaning the residual solution or solids inside the fermenter.\n",
    "    \n",
    "    10. CIP (Clean-In-Place): Cleaning the fermenter without moving or disassembling its parts.\n",
    "\n",
    "</br>\n",
    "\n",
    "Students should concentrate on the fermentation, free rise, diacetyl rest, and cooling phases wherein the engineering problems arise. The links below are the presentations from Deschutes brewery and professor Dr. Davison, and will help students to understand the physical process and the resulting dataset.\n",
    "\n",
    "> 1. [Deschutes Brewery: Reducing Beer Production Time with Predictions](https://www.osisoft.com/Presentations/Deschutes-Brewery--Reducing-Beer-Production-Time-with-Predictions/)\n",
    "    \n",
    "Presentation summary:     \n",
    "   - Brian Faivre, a brewmaster, and Tim Alexander, an assistant brewmaster, give a breakdown of the beer manufacturing process by explaining each of the nine different status described above.\n",
    "   - They present challenges in analytics due to the eight to nine varieties of the beer brews in the fermenter, and how they benefited by building the predictive model locating the transition point from fermentation to free rise.\n",
    "   - They were able to save $750K in capital investment of the alternative option (e.g., ADF measurement with the automated sensors) and to reduce the operational time loss in production capacity due to frequent density measurement.\n",
    "\n",
    "    \n",
    "> 2. [Introduction to Time-Series Analysis with PI System and R](https://www.osisoft.com/Presentations/Introduction-to-Time-Series-Analysis-with-PI-System-and-R/)\n",
    "\n",
    "Presentation summary:     \n",
    "\n",
    "   - Dr. Davison discusses simple data analytics on the Deschutes dataset predicting the degree of fermentation measured with a linear-regression model, forecasting the cooling temperature, and performing dimensionality reduction using principal component analysis.\n",
    "   - Dr. Davison describes the multiple sensors used for compiling data, which creates complexity due to varying types of sensors and thus different data sampling frequencies and methodologies including manual.\n",
    "   - Dr. Davison emphasizes the importance of understanding the fermentation process to create an improved predictive model. The improved model was a three-piecewise linear model because the yeast growth curve is composed of the three different phases: the lag, growth, and fermentation phases.\n"
   ]
  },
  {
   "cell_type": "markdown",
   "metadata": {},
   "source": [
    "# Part 2. Industry Challenges\n",
    "---\n",
    "<a id=\"section_2\"></a>\n",
    "\n",
    "Deschutes Brewery identified the problems that are critical to their organization's performance. Students will take on two sets of problems Deschutes identified: one is to predict Apparent Degree of Fermentation (ADF), and another is to predict the cooling temperature profile.\n",
    "\n",
    "Predicting the ADF, which describes the fermentation status, is important. There are currently two options - implementing automated instrumentation or performing the task manually. The automated measurement of gravity of wort is costly, and without it, this becomes a manual and time-consuming process. Being able to predict ADF will translate to the significant savings in time devoted to measuring ADF and save the cost of implementing the automated instrumentation.\n",
    "\n",
    "Building a predictive model for the cooling temperature profile is also valuable because students can easily predict the entire cooling temperature profile, given the initial temperature of the solution. This simple model can then be used to examine the data quality by determining whether the cooling phase is indentified and correctly labled as cooling phase and not another phase.\n",
    "</font>\n",
    "    "
   ]
  },
  {
   "cell_type": "markdown",
   "metadata": {},
   "source": [
    "# Part 3. Stream Data\n",
    "---\n",
    "<a id=\"section_3\"></a>\n",
    "\n",
    "    \n",
    "Stream data is how the data of the process parameters are stored, which associate the data with time. Presented in the table are the winnowed-down process parameters and quality attributes of the fermenter that students will focus on. The process parameters include the volume of the vessel, top, middle, and bottom temperature of the vessel, whereas the quality attributes include Plato and ADF. A portion of the stream names are acronyms such as TIC (temperature indicator controller), PV (process variable), OUT (cooling intensity), and SP (setpoint). \n",
    "    \n",
    "The Plato and the ADF are calculated measurementsrelated to the sugar concentration, as shown in the equations. Plato is the concentration of the dissolved solids per volume wort, whereas ADF explains how much of dissolved solids are attenuated over time as they ferment. The stream data attributes also include categorical data, including Status and Brand, that are represented using text fields. The Status describes the current status of the fermenter at a given time, which include Maturation, Ready to Transfer, Emptying, Empty, CIP, Blown Down, Clean, Sanitized, Filling, Fermentation, Free Rise, Diacetyl Rest, Cooling, Addition Maturation Waiting for Addition, and Addition Complete.\n",
    "Brand is another categorical data representing the different beer products comprising Kerberos, Realtime Hops, Grey Horse, Adele, 5450, Alistair, Kennedy, Red Wonder, and Hop-Scotch.\n"
   ]
  },
  {
   "cell_type": "markdown",
   "metadata": {},
   "source": [
    "| index | Stream Configuration | Stream Names | Unit of Measurement | Description |  |\n",
    "|:-----:|:-------------------------------------------------:|:---------------:|:-------------------:|:---------------------------------------------------------------------------------------------------------------------------------------------------:|:-:|\n",
    "| 0 | acsbrew.BREWERY.B2_CL_C2_FV32_LT1380/PV.CV | Volume | barrel (bbl) | Vessel Volume |  |\n",
    "| 1 | acsbrew.BREWERY.B2_CL_C2_FV32_TIC1380C/PV.CV | Top TIC PV | °F | Vessel Top Temperature Indicator Controller Process Value |  |\n",
    "| 2 | acsbrew.BREWERY.B2_CL_C2_FV32_TIC1380C/OUT.CV | Top TIC OUT | % | Vessel Top Temperature Indicator Controller Output |  |\n",
    "| 3 | acsbrew.BREWERY.B2_CL_C2_FV32_TIC1380C/SP.CV | Top TIC SP | °F | Vessel Top Temperature Indicator Controller Output Setpoint |  |\n",
    "| 4 | acsbrew.BREWERY.B2_CL_C2_FV32/Plato | Plato | °P | $$ Plato = \\frac{Weight\\;of \\;Dissolved Solids}{Volume\\;of\\;Wort}$$ |  |\n",
    "| 5 | acsbrew.BREWERY.B2_CL_C2_FV32_TIC1380B/PV.CV | Middle TIC PV | °F | Vessel Middle Temperature Indicator Controller Process Value |  |\n",
    "| 6 | acsbrew.BREWERY.B2_CL_C2_FV32_TIC1380B/OUT.CV | Middle TIC OUT | % | Vessel Middle Temperature Indicator Controller Output |  |\n",
    "| 7 | acsbrew.BREWERY.B2_CL_C2_FV32_TIC1380B/SP.CV | Middle TIC SP | °F | Vessel Middle Temperature Indicator Controller Output Setpoint |  |\n",
    "| 8 | acsbrew.BREWERY.B2_CL_C2_FV32/DcrsFvFullPlato | FV Full Plato | °P | $$ Plato = \\frac{Weight\\;of \\;Dissolved Solids}{Volume\\;of\\;Wort}$$ |  |\n",
    "| 9 | acsbrew.BREWERY.FV32.Fermentation ID.158e59be-... | Fermentation ID | String | Fermentation ID represents with sequential numbers combining fermenter vessel number and the date of batch number |  |\n",
    "| 10 | acsbrew.BREWERY.B2_CL_C2_FV32/BRAND.CV | Brand | String | The Beer brew contained in the fermenter at a given time |  |\n",
    "| 11 | acsbrew.BREWERY.B2_CL_C2_FV32_TIC1380A/PV.CV | Bottom TIC PV | °F | Vessel Bottom Temperature Indicator Controller Process Value |  |\n",
    "| 12 | acsbrew.BREWERY.B2_CL_C2_FV32_TIC1380A/OUT.CV | Bottom TIC OUT | % | Vessel BottomTemperature Indicator Controller Output |  |\n",
    "| 13 | acsbrew.BREWERY.B2_CL_C2_FV32_TIC1380A/SP.CV | Bottom TIC SP | °F | Vessel Bottom Temperature Indicator Controller Output Setpoint |  |\n",
    "| 14 | acsbrew.BREWERY.FV32.ADF2 | ADF | Unitless | $$ Apparent\\; Degree\\; of\\; Fermentaion = \\frac{Starting\\; Specific\\; Gravity - Current\\; Specific\\; Gravity}{Starting\\; Specific\\; Gravity - 1} $$ |  |\n",
    "| 15 | acsbrew.BREWERY.B2_CL_C2_FV32/STATUS.CV | Status | String | Status describes the current status of the fermenter at a given time |  |\n",
    "   "
   ]
  },
  {
   "cell_type": "markdown",
   "metadata": {},
   "source": [
    "\n",
    "\n",
    "The data streams in the table above are all verified, complete, and relevant to the two goals Deschutes identified: predict Apparent Degree of Fermentation (ADF), and predict the cooling temperature profile. A key component of using data analytics to provide value is determining where there might be opportunity for improvement, what the related data is for that opportunity, and where to find that data. Usually this requires the help of a SME (Subject Matter Expert) familiar with the industry and processes and assets within the industry. The brewmasters at Deschutes Brewery provided SME knowledge here, and narrowed down the data streams from everything available in Deschute's systems to the curated subset listed in the table above. \n",
    "\n",
    "Also available is the full dataset from Deschutes, with all the available data streams listed in the table below. Not all of these data streams have been validated for accuracy, quality, or completeness. Performing data analytics on data streams that are inaccurate or incomplete is usually an exercise in futility, because the results will not be valuable. In early computing days the phrase \"garbage in, garbage out\" was first used to to describe the computer as simply processing what it was given. In the case of data analytics, \"garbage in, garbage out\" is just as applicable. For these reasons, students will not use the full dataset below.   \n",
    "\n",
    "\n",
    "| Name | Unit of Measurement | Description |\n",
    "|:------------------------------------------------------------------------------------:|:------------------------:|:------------------------------------------------------------------------------------------------:|\n",
    "| Active Production (last 24h) | hour |  |\n",
    "| Active Status | Str | The integer value of vessel status |\n",
    "| ADF | Unitless | Apparent Degree of Fermentation |\n",
    "| ADF Prediction | Unitless | I recommend that you disregard this process data |\n",
    "| Batch Active Tag | Unitless |  |\n",
    "| Bottom Temperature | °F | Vessel Bottom Temperature |\n",
    "| Bottom TIC OUT | % | Vessel Bottom Temperature Indicator Controller Output |\n",
    "| Bottom TIC PV | °F | Vessel Bottom Temperture Indicator Controller Process Value |\n",
    "| Bottom TIC SP | °F | Vessel Bottom Temperture Indicator Controller Setpoint |\n",
    "| Brand | Unitless | Vessel Brand |\n",
    "| Brand Check | Unitless | Brand Check |\n",
    "| Brand|BrandNumber | BrandNumber | Unitless |\n",
    "| Brewery Name | Unitless | Brewery Name |\n",
    "| Cone Temperature | °F | Vessel Cone Temperature |\n",
    "| Fermentation ID | Unitless | Unique ID with sequential numbers combining fermenter vessel number and the date of batch number |\n",
    "| Fermentation Start Time | - | Start time of fermentation step to send to Cortana |\n",
    "| FV Full Plato | °P | The specific gravity of the vessel in plato at the end of filling |\n",
    "| Hours To Free Rise | - | Hours To Free Rise |\n",
    "| Middle TIC OUT | % | Vessel Middle Temperature Indicator Controller Output |\n",
    "| Middle TIC PV | °F | Vessel Middle Temperture Indicator Controller Process Value |\n",
    "| Middle TIC SP | °F | Vessel Middle Temperture Indicator Controller Setpoint |\n",
    "| Yeast Status->Yeast Status Calculation->No Yeast Cooling Disposal | Yeast Status Calculation | No Yeast Cooling Disposal |\n",
    "| Yeast Status->Yeast Status   Calculation->No Yeast Harvest | Yeast Status Calculation | No Yeast Harvest |\n",
    "| Yeast Status->Yeast Status Calculation->No Yeast Pre-Centrifuge Drop | Yeast Status Calculation | No Yeast Pre-Centrifuge Drop |\n",
    "| PIC OUT | % | Vessel Pressure Controller Output |\n",
    "| PIC PV | psi | Vessel Pressure Process Value |\n",
    "| PIC SP | psi | Vessel Pressure Setpoint |\n",
    "| Plato | °P | The specific gravity of the vessel in plato |\n",
    "| Plato Prediction | °P | Predicted Plato |\n",
    "| Process Cell |  | The cellar process cell in which the vessel resides |\n",
    "| Production Status | Unitless | The integer value of vessel status |\n",
    "| Status | Unitless | Vessel Status |\n",
    "| Status->Status Integer | Status Integer | Unitless |\n",
    "| Yeast Status->Yeast Status Calculation->T90 Disposal Complete Indicator | Yeast Status Calculation | T90 Disposal Complete Indicator |\n",
    "| Yeast Status->Yeast Status Calculation->T90 Disposal Ready Indicator | Yeast Status Calculation | T90 Disposal Ready Indicator |\n",
    "| Target ADF | % |  |\n",
    "| Target Bung ADF | % | Value from linked table for this brand |\n",
    "| Target Free Rise ADF | % | Value from linked table for this brand |\n",
    "| Top TIC OUT | % | Vessel Top Temperature Indicator Controller Output |\n",
    "| Top TIC PV | °F | Vessel Top Temperture Indicator Controller Process Value |\n",
    "| Top TIC SP | °F | Vessel Top Temperture Indicator Controller Setpoint |\n",
    "| Unit Code | Unitless |  |\n",
    "| Vessel Name | Unitless | Vessel Name |\n",
    "| Vessel Type | Unitless | Type of Vessel |\n",
    "| Volume | bbl | Vessel Volume |\n",
    "| Volume In | bbl | Vessel Volume In |\n",
    "| Volume Out | bbl | Vessel Volume Out |\n",
    "| Yeast Status->Yeast Status Calculation->Yeast Cooling Disposal Complete Indicator | Yeast Status Calculation | Yeast Cooling Disposal Complete Indicator |\n",
    "| Yeast Status->Yeast Status Calculation->Yeast Cooling Disposal Ready Indicator | Yeast Status Calculation | Yeast Cooling Disposal Ready Indicator |\n",
    "| Yeast Generation | Unitless | Vessel Yeast Generation |\n",
    "| Yeast Status->Yeast Status Calculation->Yeast Harvest Complete Indicator | Yeast Status Calculation | Yeast Harvest Complete Indicator |\n",
    "| Yeast Status->Yeast Status Calculation->Yeast Pre-Centrifuge Drop Complete Indicator | Yeast Status Calculation | Yeast Pre-Centrifuge Drop Complete Indicator |\n",
    "| Yeast Status->Yeast Status Calculation->Yeast Pre-Centrifuge Drop Ready Indicator | Yeast Status Calculation | Yeast Pre-Centrifuge Drop Ready Indicator |\n",
    "| Yeast Status | Unitless | Calculated field that tells what yeast action needs to happen with a vessel |\n",
    "| Yeast Status->Yeast Status Calculation | Yeast Status Calculation | Unitless |\n",
    "| Yeast Strain | Unitless | Vessel Yeast Strain |"
   ]
  },
  {
   "cell_type": "markdown",
   "metadata": {},
   "source": [
    "# Part 4. Data Quality\n",
    "---\n",
    "<a id=\"section_4\"></a>\n",
    "\n",
    "Though there are twenty-nine fermenters, students will focus on only fermenters 31 to 36 because they contain the most complete datasets for analysis. Even fermenters 31 to 36 have imperfect data streams, referred to as \"dirty\" data. Dirty data is the result of numerous causes including: an error between the data source and the mechanism sending the data stream to the data store, propogation of poor quality data through its use in calulations, manualy data being miskeyed or mislabeled, and simply missing data. Another potential poor-quality data can come from manually recorded data, the vessel status and ADF; for example, the cooling phase could be mislabeled as the diacetyl rest phase.  \n",
    "\n",
    "With the current version of OSIsoft OCS software, DataViews will show all the dirty data value (except mislabeled ones) as missing data (empty string). Data cleansing must be performed before moving forward with data analysis. Data cleansing is the process of removing, editing, or adding incorrect or missing data from a raw data set. In the case of the fermenter data, the only type of data cleansing we need to perform is on missing data. Rows with missing data can be discarded from a Pandas dataframe by calling the `.dropna()` method. Some exercises require this method for data preparation. \n",
    "    "
   ]
  },
  {
   "cell_type": "markdown",
   "metadata": {},
   "source": [
    "# Part 5. OCS Access\n",
    "---\n",
    "<a id=\"section_5\"></a>"
   ]
  },
  {
   "cell_type": "markdown",
   "metadata": {},
   "source": [
    "Access to OSIsoft Cloud Services (OCS) resources requires user authentication. OCS uses industry standard OAuth 2.0 and OpenID Connect for this part. In the case of the Academic Hub, Google is the only Identity Provider (IdP) supported. Since many schools rely on Google G Suite (https://edu.google.com/), students may have already own a Google account they can reuse with OCS once they register and are invited. \n",
    "\n",
    "Every learning module connects to OCS using the same sequence:\n",
    "\n",
    "* Create a hub client object after successful authentication with a hub-registered active Google account (link for more info: https://data.academic.osisoft.com/register)\n",
    "![](https://academichub.blob.core.windows.net/images/hub-notebook-google-login.png)\n",
    "* For the dataset of interest, here from Deschutes Brewery for those learning modules, get the name of the hosting OCS namespace.  \n",
    "![](https://academichub.blob.core.windows.net/images/hub-hubclient-cell.png)\n",
    "\n",
    "Once initialized, the hub client object gives access to all authorized OCS services, like listing of available datasets, list of predefined dataviews for different usage and finally for actual requests for data from selected dataviews. "
   ]
  },
  {
   "cell_type": "markdown",
   "metadata": {},
   "source": [
    "# Part 6. Dataview\n",
    "---\n",
    "<a id=\"section_6\"></a>\n",
    "\n",
    "A Dataview is a data display tool that maps data into a customizable table format. A Dataview does not store data, but morphs the underlying data into the desired data structure containing the data of the relevant variables. The ability to customize Dataviews helps organize Deschutes data and prepare it for analysis. \n",
    "\n",
    "Dataview has three primary functions:\n",
    "    \n",
    "   1. Dataview organizes all data (such as multiple sensors, calculations, and respective settings) as rows of observations. \n",
    "   2. Dataview presents a consistent data shape.\n",
    "   3. Dataview interpolates and replaces the missing data values based on existing values.    \n",
    "\n",
    "Dataview is used to select the fermenters and the stream data of interest specific to the topic of the student exercise. For all three student exercises, the Dataviews created include only fermenters 31 to 36, not fermenters 8 to 30, due to the reasons addressed in [Part 1a](#section_1a). When the student properly executes the code for reading the stream data (see [Part 7](#section_7)), the student will receive the table of the requested time-series data. The data is indexed with timestamps, which allows the students to manipulate, sort, and analyze the data over desired timeframes.\n",
    "\n",
    "    \n",
    "<left>   \n",
    "   \n",
    "<img src = \"https://academichub.blob.core.windows.net/images/dataframe_fullmap.png\">    \n",
    "\n",
    "</left>"
   ]
  },
  {
   "cell_type": "markdown",
   "metadata": {},
   "source": [
    "# Part 7. Dataview Data Access \n",
    "---\n",
    "<a id=\"section_7\"></a>\n"
   ]
  },
  {
   "cell_type": "markdown",
   "metadata": {},
   "source": [
    "## 7a. For a given Dataview ID, find the corresponding stream data and list of fermenters  \n",
    "<a id=\"section_7a\"></a>\n",
    "\n",
    "The three different learning modules made out of the Deschutes brewery dataset are: 1) ADF Prediction, 2) Beer Cooling Prediction, and 3) Principal Component Analysis (PCA). The Dataview IDs are created and pre-installed on OCS based on the individual learning modules, and contain the fermentation vessels (31 to 36) and the relevant stream data to that learning module. The Dataview IDs related to the learning modules are abbreviations of the titles list above: `adf`, `cooling`, and `pca`. \n",
    "\n",
    "The relevant fermentation vessels (or the assets) stored in a given Dataview ID are fetched by executing the following function:\n",
    "\n",
    "```python\n",
    "\n",
    "hub_client.fermenter_dataview_ids(namespace_id, filter= \"REPLACE_WITH_DATAVIEW_ID\")\n",
    "\n",
    "\n",
    "```\n",
    "Dataview IDs corresponding to each notebook are below:\n",
    "\n",
    "1. Dataview Id for ADF_Prediction notebook = `adf`\n",
    "2. Dataview Id for Beer_Cooling Solution notebook = `cooling`\n",
    "3. Dataview Id for PCA notebook = `pca`\n",
    "\n",
    "\n",
    "To find which stream data are presented in the given Dataview ID, execute the following code:\n",
    "\n",
    "```python\n",
    "    display(hub_client.dataview_definition(namespace_id, REPLACE_TAG_ID_FV_ID))\n",
    "```\n",
    "\n",
    "\n",
    "The general information of the Dataview(s) (such as the list of the relevant stream data of a given fermentation vessel, and the data type of each stream) is retrieved when the Dataview definition function is executed as follows:\n",
    "\n",
    "```python\n",
    "    dv_ids = hub_client.fermenter_dataview_ids(namespace_id, filtr=\"REPLACE_WITH_DATAVIEW_ID\")\n",
    "    dv_fv = dv_ids[0]\n",
    "    print(f\"Definition of dataview {dv_fv}:\")\n",
    "    display(hub_client.dataview_definition(namespace_id, dv_fv))\n",
    "```"
   ]
  },
  {
   "cell_type": "markdown",
   "metadata": {},
   "source": [
    "## 7b. Read the dataview data\n",
    "<a id=\"section_7b\"></a>\n",
    "\n",
    "Students can access the Dataview data pre-installed on OCS and load the data in the data frame in one line of code. Using the hub_client library, the general expression of executing data access for the fermenter(s) is written as follows:\n",
    "\n",
    "__Single Datview ID__\n",
    "\n",
    "```python\n",
    "\n",
    "    dataframe_variable_name =\n",
    "        hub_client.dataview_interpolated_pd(namespace_id,\n",
    "            \"REPLACE_WITH_DATAVIEW_ID\",\n",
    "            start_timstamp_index,\n",
    "            end_timstamp_index,\n",
    "            interval,\n",
    "        ) \n",
    "```  \n",
    "\n",
    "__Multiple Datview IDs__\n",
    "\n",
    "```python\n",
    "\n",
    "    dataframe_variable_name =\n",
    "        hub_client.dataviews_interpolated_pd(namespace_id,\n",
    "            [\"REPLACE_WITH_A_LIST_OF_DATAVIEW_IDs\"],\n",
    "            start_timstamp_index,\n",
    "            end_timstamp_index,\n",
    "            interval,\n",
    "        ) \n",
    "```  \n",
    "where each parameter is a place holder that will be replaced with the values accordingly, except namespace_id. Each parameter is explained as follows:\n",
    "\n",
    "1. variable_name = any variable name you wish to call this line of the code, preferably a descriptive name.\n",
    "    \n",
    "2. namespace_id = it does not change and is predefined.\n",
    "  \n",
    "3. REPLACE_WITH_DATAVIEW_ID = the Dataview identifier that is pre-installed. The single combination of the Dataview ID with the specific asset, or for multiple fermenters data, multiple of these combinations can replace the place holder(e.g., [\"Dataview_Id1_fv31\", \"Dataview_Id2_fv32\"]).\n",
    "\n",
    "4. start_timestamp_index = punch-in time clock that sets the start time of the retrieving data following yyyy-mm-dd-Thour:minute:second (e.g.,\"2017-03-17T07:00:00\"). You can omit the time and type \"2017-03-17,\" and the default time setting is midnight.\n",
    "    \n",
    "5. end_timestamp_index = punch-out time clock that sets the end time of the retrieving data following the same format as the start time stamp.\n",
    "    \n",
    "6. interval = the time distance between two points expressed in hour:minute:second(e.g.,00:10:00 means 10 minutes); the frequency of the output (in this example, every ten minutes).\n",
    "\n",
    "For a single fermenter, the stream data output is in a chronological dataframe format. For multiple fermenters of a given Dataview ID, and additional column \"Dataview_ID\" is included in the dataframe format. The result is data organized by fermenter, and within each fermenter section the stream data is organized chronologically. This structure is illustrated in the example section [Part 8c](#section_8c)"
   ]
  },
  {
   "cell_type": "markdown",
   "metadata": {},
   "source": [
    "# Part 8. Data Access Example\n",
    "---\n",
    "<a id=\"section_8\"></a>"
   ]
  },
  {
   "cell_type": "markdown",
   "metadata": {},
   "source": [
    "## Part 8a. Find the list of the pre-defined fermenters tied with the Dataview \"cooling\"\n",
    "<a id=\"section_8b\"></a>   \n",
    "\n",
    "\n",
    "Executing one line of code provides access to the list of the fermenters stored in the given Dataview:\n",
    "\n",
    "```python\n",
    "hub_client.fermenter_dataview_ids(namespace_id, \"cooling\")\n",
    "\n",
    "```  \n",
    "This line of code retrieves all the fermenters stored in the \"cooling\" Dataview, and the output is provided as follows:\n",
    "\n",
    "<img src = \"https://academichub.blob.core.windows.net/images/fv_id_cooling_dataview.png\" align=\"center\">"
   ]
  },
  {
   "cell_type": "markdown",
   "metadata": {},
   "source": [
    "## Part 8b. Find the relevant streams stored in the Dataview \"cooling\":\n",
    "<a id=\"section_8a\"></a>\n",
    "The example of Dataview definition function illustrated here shows the general information of fermenter 31 of the given Dataview, \"cooling\", including the stream data configuration to the OCS, user-friendly stream data name, and the data type of each stream data. The Dataview definition is executed as follows:\n",
    "\n",
    "```\n",
    "display(hub_client.dataview_definition(namespace_id, \"HubDV_Cooling_Prediction_fv31\"))\n",
    "```"
   ]
  },
  {
   "cell_type": "markdown",
   "metadata": {},
   "source": [
    "<img src = https://academichub.blob.core.windows.net/images/dataview_definition_cooling_ver0.48.png align=\"center\">"
   ]
  },
  {
   "cell_type": "markdown",
   "metadata": {
    "jupyter": {
     "source_hidden": true
    }
   },
   "source": [
    "## Part 8c. Read the single fermenter of the Dataview \"cooling\":\n",
    "\n",
    "<a id=\"section_8c\"></a>   \n",
    "\n",
    "The data of the single fermenter can be accessed in one line of the code. Of the fermenter list of \"cooling\", select the fermenter of the interest and pass it as an argument. The exemplary code shown below passed the fermenter 31 into the function as shown below:\n",
    "\n",
    "```python\n",
    "hub_client.dataview_interpolated_pd(namespace_id, \"HubDV_Cool_temp_Prediction_fv31\", \"2017-03-17T00:00\", \"2017-03-17T02:00\", \"00:10:00\")\n",
    "```\n",
    "The output table of the retrieved data for one fermenter using a one-line code above:\n",
    "\n",
    "<img src = https://academichub.blob.core.windows.net/images/Cool_temp_dataview_result.png  align=\"center\">"
   ]
  },
  {
   "cell_type": "markdown",
   "metadata": {},
   "source": [
    "## Part 8d. Read the multiple fermenters of the DataView \"DV_Cool_temp\":\n",
    "\n",
    "<a id=\"section_8d\"></a>   \n",
    "\n",
    "Similarly, the function can take the list of the fermenters as an argument and execute the argument for reading multiple fermenters. The example shown below reads the fermenter 31 and 32 of \"DV_Cool_temp\":\n",
    "```python\n",
    "hub_client.dataviews_interpolated_pd(namespace_id, [\"HubDV_Cool_temp_Prediction_fv31\", \"HubDV_Cool_temp_Prediction_fv32\"], \"2017-03-17T00:00\", \"2017-03-17T02:00\", \"00:10:00\")\n",
    "```"
   ]
  },
  {
   "cell_type": "markdown",
   "metadata": {},
   "source": [
    "The output of data compiled from the multiple fermenters of \"DV_Cool_temp\":\n",
    "    \n",
    "<img src = https://academichub.blob.core.windows.net/images/Cool_temp_multiple_dataviews_result.png  align=\"center\">"
   ]
  },
  {
   "cell_type": "code",
   "execution_count": null,
   "metadata": {},
   "outputs": [],
   "source": []
  }
 ],
 "metadata": {
  "kernelspec": {
   "display_name": "Python 3",
   "language": "python",
   "name": "python3"
  },
  "language_info": {
   "codemirror_mode": {
    "name": "ipython",
    "version": 3
   },
   "file_extension": ".py",
   "mimetype": "text/x-python",
   "name": "python",
   "nbconvert_exporter": "python",
   "pygments_lexer": "ipython3",
   "version": "3.7.6"
  },
  "toc": {
   "base_numbering": 1,
   "nav_menu": {},
   "number_sections": false,
   "sideBar": true,
   "skip_h1_title": false,
   "title_cell": "Table of Contents",
   "title_sidebar": "Contents",
   "toc_cell": true,
   "toc_position": {},
   "toc_section_display": true,
   "toc_window_display": true
  },
  "toc-autonumbering": false,
  "toc-showtags": false
 },
 "nbformat": 4,
 "nbformat_minor": 4
}
