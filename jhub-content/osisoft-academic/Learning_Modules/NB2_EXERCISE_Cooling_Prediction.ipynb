{
 "cells": [
  {
   "cell_type": "markdown",
   "metadata": {
    "papermill": {
     "duration": 0.060623,
     "end_time": "2020-08-14T19:30:39.806242",
     "exception": false,
     "start_time": "2020-08-14T19:30:39.745619",
     "status": "completed"
    },
    "tags": [],
    "toc": true
   },
   "source": [
    "<h1>Table of Contents<span class=\"tocSkip\"></span></h1>\n",
    "<div class=\"toc\"><ul class=\"toc-item\"><li><span><a href=\"#Beer-Cooling-Prediction\" data-toc-modified-id=\"Beer-Cooling-Prediction-1\">Beer Cooling Prediction</a></span><ul class=\"toc-item\"><li><span><a href=\"#The-Goal\" data-toc-modified-id=\"The-Goal-1.1\">The Goal</a></span><ul class=\"toc-item\"><li><span><a href=\"#Issues-to-consider\" data-toc-modified-id=\"Issues-to-consider-1.1.1\">Issues to consider</a></span></li></ul></li><li><span><a href=\"#This-Notebook\" data-toc-modified-id=\"This-Notebook-1.2\">This Notebook</a></span><ul class=\"toc-item\"><li><span><a href=\"#Part-1:-Complete-the-missing-code\" data-toc-modified-id=\"Part-1:-Complete-the-missing-code-1.2.1\">Part 1: Complete the missing code</a></span></li><li><span><a href=\"#Part-2:-Main-Section\" data-toc-modified-id=\"Part-2:-Main-Section-1.2.2\">Part 2: Main Section</a></span></li></ul></li><li><span><a href=\"#Your-Task\" data-toc-modified-id=\"Your-Task-1.3\">Your Task</a></span></li></ul></li><li><span><a href=\"#Part-1:-Complete-the-code\" data-toc-modified-id=\"Part-1:-Complete-the-code-2\">Part 1: Complete the code</a></span><ul class=\"toc-item\"><li><span><a href=\"#1a.-Complete-prepare_cooling_data\" data-toc-modified-id=\"1a.-Complete-prepare_cooling_data-2.1\">1a. Complete <code>prepare_cooling_data</code></a></span></li><li><span><a href=\"#1b.-Clean-data\" data-toc-modified-id=\"1b.-Clean-data-2.2\">1b. Clean data</a></span></li><li><span><a href=\"#1c.-Extract-all-rows-related-to-cooling-phase,-compute-cooling-elapsed-time\" data-toc-modified-id=\"1c.-Extract-all-rows-related-to-cooling-phase,-compute-cooling-elapsed-time-2.3\">1c. Extract all rows related to cooling phase, compute cooling elapsed time</a></span></li><li><span><a href=\"#1d.-Define-temperature-equation\" data-toc-modified-id=\"1d.-Define-temperature-equation-2.4\">1d. Define temperature equation</a></span></li></ul></li><li><span><a href=\"#Non-linear-regression:-computation-and-prediction\" data-toc-modified-id=\"Non-linear-regression:-computation-and-prediction-3\">Non-linear regression: computation and prediction</a></span><ul class=\"toc-item\"><li><ul class=\"toc-item\"><li><span><a href=\"#NOTE:-there-is-no-code-to-complete-for-those-2-functions\" data-toc-modified-id=\"NOTE:-there-is-no-code-to-complete-for-those-2-functions-3.0.1\">NOTE: there is no code to complete for those 2 functions</a></span></li></ul></li></ul></li><li><span><a href=\"#Part-2:-Main-Section\" data-toc-modified-id=\"Part-2:-Main-Section-4\">Part 2: Main Section</a></span><ul class=\"toc-item\"><li><span><a href=\"#2a.-Set-input-parameters\" data-toc-modified-id=\"2a.-Set-input-parameters-4.1\">2a. Set input parameters</a></span></li><li><span><a href=\"#2b.-Initialize-Hub/OCS-client\" data-toc-modified-id=\"2b.-Initialize-Hub/OCS-client-4.2\">2b. Initialize Hub/OCS client</a></span></li><li><span><a href=\"#2c.-Download-data-from-OCS-with-Data-Views\" data-toc-modified-id=\"2c.-Download-data-from-OCS-with-Data-Views-4.3\">2c. Download data from OCS with Data Views</a></span><ul class=\"toc-item\"><li><span><a href=\"#Find-predefined-data-view-for-Fermenter-#32-and-&quot;Cooling&quot;\" data-toc-modified-id=\"Find-predefined-data-view-for-Fermenter-#32-and-&quot;Cooling&quot;-4.3.1\">Find predefined data view for Fermenter #32 and \"Cooling\"</a></span></li><li><span><a href=\"#Data-View-Structure\" data-toc-modified-id=\"Data-View-Structure-4.3.2\">Data View Structure</a></span></li><li><span><a href=\"#Get-Interpolated-Data-from-Data-View\" data-toc-modified-id=\"Get-Interpolated-Data-from-Data-View-4.3.3\">Get Interpolated Data from Data View</a></span></li></ul></li><li><span><a href=\"#2d.-Main-Analysis\" data-toc-modified-id=\"2d.-Main-Analysis-4.4\">2d. Main Analysis</a></span><ul class=\"toc-item\"><li><span><a href=\"#Analysis-parameters\" data-toc-modified-id=\"Analysis-parameters-4.4.1\">Analysis parameters</a></span></li><li><span><a href=\"#Plot-data-from-data-view-result-for-brand-of-interest,-keep-only-important-brewing-phase\" data-toc-modified-id=\"Plot-data-from-data-view-result-for-brand-of-interest,-keep-only-important-brewing-phase-4.4.2\">Plot data from data view result for brand of interest, keep only important brewing phase</a></span></li><li><span><a href=\"#Compute-cooling-elapsed-time\" data-toc-modified-id=\"Compute-cooling-elapsed-time-4.4.3\">Compute cooling elapsed time</a></span></li><li><span><a href=\"#Rearrange-dataframe-and-plot-batches-data\" data-toc-modified-id=\"Rearrange-dataframe-and-plot-batches-data-4.4.4\">Rearrange dataframe and plot batches data</a></span></li><li><span><a href=\"#Regression-parameters\" data-toc-modified-id=\"Regression-parameters-4.4.5\">Regression parameters</a></span></li></ul></li><li><span><a href=\"#2e.-Plot-prediction-curve-along-with-actual-data\" data-toc-modified-id=\"2e.-Plot-prediction-curve-along-with-actual-data-4.5\">2e. Plot prediction curve along with actual data</a></span></li></ul></li></ul></div>"
   ]
  },
  {
   "cell_type": "markdown",
   "metadata": {
    "papermill": {
     "duration": 0.026701,
     "end_time": "2020-08-14T19:30:39.858503",
     "exception": false,
     "start_time": "2020-08-14T19:30:39.831802",
     "status": "completed"
    },
    "tags": [],
    "toc-hr-collapsed": false
   },
   "source": []
  },
  {
   "cell_type": "markdown",
   "metadata": {
    "papermill": {
     "duration": 0.024546,
     "end_time": "2020-08-14T19:30:39.910088",
     "exception": false,
     "start_time": "2020-08-14T19:30:39.885542",
     "status": "completed"
    },
    "tags": [],
    "toc-hr-collapsed": false
   },
   "source": []
  },
  {
   "cell_type": "code",
   "execution_count": 1,
   "metadata": {
    "execution": {
     "iopub.execute_input": "2020-08-14T19:30:39.964895Z",
     "iopub.status.busy": "2020-08-14T19:30:39.963823Z",
     "iopub.status.idle": "2020-08-14T19:30:46.691715Z",
     "shell.execute_reply": "2020-08-14T19:30:46.692596Z"
    },
    "papermill": {
     "duration": 6.758787,
     "end_time": "2020-08-14T19:30:46.692867",
     "exception": false,
     "start_time": "2020-08-14T19:30:39.934080",
     "status": "completed"
    },
    "tags": [],
    "toc-hr-collapsed": false
   },
   "outputs": [],
   "source": []
  },
  {
   "cell_type": "markdown",
   "metadata": {
    "papermill": {
     "duration": 0.037406,
     "end_time": "2020-08-14T19:30:46.769922",
     "exception": false,
     "start_time": "2020-08-14T19:30:46.732516",
     "status": "completed"
    },
    "tags": []
   },
   "source": [
    "---\n",
    "# Beer Cooling Prediction\n",
    "---\n",
    "\n",
    "This learning module, Beer Cooling Prediction, focuses on the cooling phase wherein the temperature of the solution drops from 70°F to 30°F.  The data was compiled based on the temperature measurements at the top, the middle, and the bottom of the fermenter:\n",
    "\n",
    "![Beer Cooling](https://academichub.blob.core.windows.net/images/NB2_Problem_Statement.png)\n",
    "\n",
    "Attaining a consistent, repeatable cooling profile is critical to the brewing process because the cooling behavior affects the flavor profile of the beers; furthermore, non-ideal cooling behavior can lead to significant process delays. In fact, Deschutes Brewery previously encountered non-ideal cooling behaviors where the temperature spiked when the yeast was harvested. By visualizing the data, Deschutes Brewery was able to identify the source of the issue, correct it, and save 60% of operation time compared to the worst non-ideal cases.  If interested, a more detailed story about the root cause and their corrective action is found in the presentation: [What’s Really Going on with your Beer's Fermentation?](https://www.osisoft.com/Presentations/What-s-Really-Going-on-with-your-Beer-s-Fermentation-/)\n",
    "\n",
    "In this notebook, we will build a predictive model for the cooling temperature profile to predict when the cooling stage should end for some given brand of beer. \n",
    "\n",
    "First, make sure the latest library version for OCS is installed:"
   ]
  },
  {
   "cell_type": "code",
   "execution_count": 2,
   "metadata": {
    "execution": {
     "iopub.execute_input": "2020-08-14T19:30:46.838251Z",
     "iopub.status.busy": "2020-08-14T19:30:46.836173Z",
     "iopub.status.idle": "2020-08-14T19:30:46.839071Z",
     "shell.execute_reply": "2020-08-14T19:30:46.839662Z"
    },
    "papermill": {
     "duration": 0.038651,
     "end_time": "2020-08-14T19:30:46.839812",
     "exception": false,
     "start_time": "2020-08-14T19:30:46.801161",
     "status": "completed"
    },
    "tags": []
   },
   "outputs": [],
   "source": [
    "try:\n",
    "    import ocs_academic_hub\n",
    "except ImportError:\n",
    "    !pip installocs-academic-hub\n",
    "    import ocs_academic_hub"
   ]
  },
  {
   "cell_type": "markdown",
   "metadata": {
    "papermill": {
     "duration": 0.032959,
     "end_time": "2020-08-14T19:30:46.902790",
     "exception": false,
     "start_time": "2020-08-14T19:30:46.869831",
     "status": "completed"
    },
    "tags": []
   },
   "source": [
    "Then make sure to import all the required libraries:"
   ]
  },
  {
   "cell_type": "code",
   "execution_count": 3,
   "metadata": {
    "execution": {
     "iopub.execute_input": "2020-08-14T19:30:46.972261Z",
     "iopub.status.busy": "2020-08-14T19:30:46.971441Z",
     "iopub.status.idle": "2020-08-14T19:30:47.246946Z",
     "shell.execute_reply": "2020-08-14T19:30:47.247807Z"
    },
    "papermill": {
     "duration": 0.310741,
     "end_time": "2020-08-14T19:30:47.248218",
     "exception": false,
     "start_time": "2020-08-14T19:30:46.937477",
     "status": "completed"
    },
    "tags": []
   },
   "outputs": [],
   "source": [
    "# For interaction with OCS\n",
    "from ocs_academic_hub import HubClient, timer\n",
    "\n",
    "import configparser\n",
    "import datetime as dt\n",
    "from dateutil import parser\n",
    "from enum import Enum\n",
    "\n",
    "try:\n",
    "    import plotly.express as px \n",
    "except ImportError:\n",
    "    !pip install plotly\n",
    "    import plotly.express as px \n",
    "import numpy\n",
    "import pandas as pd\n",
    "from scipy.optimize import curve_fit\n",
    "\n",
    "pd.set_option(\"display.expand_frame_repr\", False)\n",
    "pd.options.mode.chained_assignment = None"
   ]
  },
  {
   "cell_type": "markdown",
   "metadata": {
    "papermill": {
     "duration": 0.063765,
     "end_time": "2020-08-14T19:30:47.381217",
     "exception": false,
     "start_time": "2020-08-14T19:30:47.317452",
     "status": "completed"
    },
    "tags": []
   },
   "source": [
    "---\n",
    "## The Goal\n",
    "\n",
    "Using the same dataset as in the ADF Prediction notebook, we want to identify the cooling stages and compute the elapsed times to align the data for non-linear regression and comparison.\n",
    "\n",
    "All possible beer brands are for Fermenter Vessel #32 in the time period specified below: \n",
    "\n",
    "* Mirror Pond\n",
    "* Hop Slice\n",
    "* Pacific Wonderland\n",
    "* Black Butte           \n",
    "* Inversion         \n",
    "\n",
    "We'll start with the following input parameters: \n",
    "\n",
    "* Brand: Mirror Pond \n",
    "* Temperature sensors: Bottom, Middle and Top\n",
    "* Training data: 182 days starting at 2017-01-10T00:00 - pick first 2 batches \n",
    "* Interval: 10 minutes (00:10:00)\n",
    "\n",
    "### Issues to consider\n",
    "\n",
    "* Real process data is dirty (sensors can fail)\n",
    "* The stages may sometimes have been mislabelled (some examples are \"Cooling\" sometimes mislabelled as \"Diacetyl Rest\" or \"Maturation\" sometimes mislabelled as \"Cooling\")\n",
    "* There are different cooling start temperatures for each batch and even for each zone\n",
    "* There can be various volumes of beer in the fermentors\n",
    "* Data can have abrupt, aphysical jumps in temperature"
   ]
  },
  {
   "cell_type": "markdown",
   "metadata": {
    "papermill": {
     "duration": 0.061123,
     "end_time": "2020-08-14T19:30:47.500723",
     "exception": false,
     "start_time": "2020-08-14T19:30:47.439600",
     "status": "completed"
    },
    "tags": []
   },
   "source": [
    "---\n",
    "## This Notebook\n",
    "\n",
    "\n",
    "### Part 1: Complete the missing code \n",
    "Complete TODO sections in the following cells to compute the cooling profile for a vessel zone. The defined functions perform the following tasks\n",
    "    \n",
    "* Clean the data by keeping relevant ([1a](#1a.-Complete-prepare_cooling_data)) and removing bad ([1b](1b.-Clean-data)) entries\n",
    "* Identify the cooling stages ([1c](#1c.-Extract-all-rows-related-to-cooling-phase,-compute-cooling-elapsed-time)) and compute the elapsed times since the start of cooling \n",
    "* Fit the cooling data to a heat transfer equation ([1d](#1d.-Define-temperature-equation)) \n",
    "\n",
    "### Part 2: Main Section\n",
    "This section actually calls the functions created in Part 1 and plots the prediction curves against each batch for a given brand of beer.\n",
    "\n",
    "* Define parameters of interest, like the time granularity for data interpolation, plus the time period over which to do the analysis and the fermenter identifier to analyze data from ([2a](#2a.-Set-input-parameters))\n",
    "* Use OSIsoft Cloud Services (OCS) to obtain process data from Deschutes ([2b](#2b.-Initialize-Hub/OCS-client) and [2c](#2c.-Download-data-from-OCS-with-Data-Views))\n",
    "* Set brand of interest, which sensor zones to use and batches for regression. Call functions created in Part 1 in sequence with intermediate plots to follow progression.  ([2d](#2d.-Main-Analysis))\n",
    "* Plot the cooling prediction curves ([2e](#2e.-Plot-prediction-curve-along-with-actual-data))\n",
    "\n",
    "**Section 2d and 2e can be repeated iteratively with different kind of beer, temperature sensor zones and batches to check the impact on the prediction curves.**"
   ]
  },
  {
   "cell_type": "markdown",
   "metadata": {
    "papermill": {
     "duration": 0.068928,
     "end_time": "2020-08-14T19:30:47.664813",
     "exception": false,
     "start_time": "2020-08-14T19:30:47.595885",
     "status": "completed"
    },
    "tags": []
   },
   "source": [
    "---\n",
    "## Your Task \n",
    "A few functions in Part 1 contain `TODO` sections in comments. Complete each of them to get a working notebook. If your code is correct, you should see the following graph appear at the bottom of this notebook (at the end of Part 2):\n",
    "\n",
    "![Beer Cooling Prediction](https://academichub.blob.core.windows.net/images/nb2_solution_graph_v4.png)"
   ]
  },
  {
   "cell_type": "markdown",
   "metadata": {
    "papermill": {
     "duration": 0.059129,
     "end_time": "2020-08-14T19:30:47.778284",
     "exception": false,
     "start_time": "2020-08-14T19:30:47.719155",
     "status": "completed"
    },
    "tags": []
   },
   "source": [
    "---\n",
    "# Part 1: Complete the code\n",
    "---\n",
    "<a id=’section_1’></a>\n",
    "\n",
    "We want to complete the missing code sections which implement the following specifications:\n",
    "\n",
    "**Input parameters:**\n",
    "\n",
    "* Brand of beer\n",
    "* Which set of temperature sensor to use: bottom, middle, top\n",
    "* Training data: how many days (starting at 2016-02-07) to consider and set of batch identifier(s) for cooling curve regression\n",
    "\n",
    "**Output:** \n",
    "\n",
    "* Plot with all individual batch cooling profiles against their associated prediction curve \n",
    "\n",
    "------------------------------------------------------------------------------------"
   ]
  },
  {
   "cell_type": "markdown",
   "metadata": {
    "papermill": {
     "duration": 0.063161,
     "end_time": "2020-08-14T19:30:47.905058",
     "exception": false,
     "start_time": "2020-08-14T19:30:47.841897",
     "status": "completed"
    },
    "tags": []
   },
   "source": [
    "## 1a. Complete `prepare_cooling_data`\n",
    "<a id=’section_1a’></a>\n",
    "This is the function that will be executed to:\n",
    "\n",
    "* [1] keep only data for brand of interest\n",
    "* [2] remove rows with missing data, also keep only important phases\n",
    "* [3] indentify and keep only cooling phase rows, compute cooling time in days for each row (allows to compare batches and necessary for regression)"
   ]
  },
  {
   "cell_type": "code",
   "execution_count": 4,
   "metadata": {
    "execution": {
     "iopub.execute_input": "2020-08-14T19:30:48.036281Z",
     "iopub.status.busy": "2020-08-14T19:30:48.035282Z",
     "iopub.status.idle": "2020-08-14T19:30:48.039532Z",
     "shell.execute_reply": "2020-08-14T19:30:48.041246Z"
    },
    "papermill": {
     "duration": 0.079019,
     "end_time": "2020-08-14T19:30:48.041539",
     "exception": false,
     "start_time": "2020-08-14T19:30:47.962520",
     "status": "completed"
    },
    "tags": []
   },
   "outputs": [],
   "source": [
    "# Phases important for cooling\n",
    "IMPORTANT_BREWING_PHASES = [\"Fermentation\", \"Free Rise\", \"Diacetyl Rest\", \"Cooling\"]\n",
    "\n",
    "# Sensor positions - for indexing in loops\n",
    "class Position(Enum):\n",
    "    Bottom = 1\n",
    "    Middle = 2\n",
    "    Top = 3\n",
    "\n",
    "    def __repr__(self):\n",
    "        return str(self).replace(\"Position.\", \"\")\n",
    "\n",
    "\n",
    "def prepare_cooling_data(all_brands_df, brand):\n",
    "    \"\"\"\n",
    "    Input parameters:\n",
    "    * brand to consider\n",
    "    * temperature sensor position to use for computation\n",
    "    * number of days to compute prediction parameters\n",
    "    \"\"\"\n",
    "\n",
    "    # TODO [1]: write filter expression for all_brands_df, return only rows for `brand` of interest\n",
    "    # =========== STUDENT BEGIN ==========\n",
    "    brand_df = all_brands_df[@@@ Your code here @@@]\n",
    "    # =========== STUDENT END ==========\n",
    "\n",
    "    # TODO [2]: complete code block within function brand_df_cleanup\n",
    "    brand_status_df = brand_df_cleanup(brand_df)\n",
    "\n",
    "    # TODO [3]: complete code of function cooling_data_extraction\n",
    "    cool_df = cooling_data_extraction(brand_status_df)\n",
    "\n",
    "    # Verify that it was possible to extract the data for a complete cooling phase\n",
    "    if len(cool_df) == 0:\n",
    "        raise Exception(f\"Error! no cooling data for brand: {brand}\")\n",
    "    print(f\"len(cool_df)={len(cool_df)}\")\n",
    "\n",
    "    return cool_df"
   ]
  },
  {
   "cell_type": "markdown",
   "metadata": {
    "papermill": {
     "duration": 0.060422,
     "end_time": "2020-08-14T19:30:48.161707",
     "exception": false,
     "start_time": "2020-08-14T19:30:48.101285",
     "status": "completed"
    },
    "tags": []
   },
   "source": [
    "## 1b. Clean data \n",
    "\n",
    "The function `brand_df_cleanup` removes all rows with invalid (missing data) entries for any of the attributes of interest. To predict the cooling profile for a given brand, one must need the following attributes: Brand, Status, Temperature (Top, Middle, and Bottom zones), and Volume.\n",
    "\n",
    "Complete the `TODO` section in the function `brand_df_cleanup`."
   ]
  },
  {
   "cell_type": "code",
   "execution_count": 5,
   "metadata": {
    "execution": {
     "iopub.execute_input": "2020-08-14T19:30:48.232880Z",
     "iopub.status.busy": "2020-08-14T19:30:48.231665Z",
     "iopub.status.idle": "2020-08-14T19:30:48.235421Z",
     "shell.execute_reply": "2020-08-14T19:30:48.235859Z"
    },
    "papermill": {
     "duration": 0.042627,
     "end_time": "2020-08-14T19:30:48.236063",
     "exception": false,
     "start_time": "2020-08-14T19:30:48.193436",
     "status": "completed"
    },
    "tags": []
   },
   "outputs": [],
   "source": [
    "@timer\n",
    "def brand_df_cleanup(brand_df):\n",
    "\n",
    "    # TODO [2]: Remove all rows with missing data (which indicates a sensor collection problem)\n",
    "    # TIP: Check Notebook #1 ADF Prediction\n",
    "    # =========== STUDENT BEGIN ==========\n",
    "    brand_df = brand_df.@@@ Your code here @@@\n",
    "    # =========== STUDENT END ==========\n",
    "\n",
    "    # Keep only fermentation or post-fermentation stages\n",
    "    brand_status_df = brand_df[brand_df[\"Status\"].isin(IMPORTANT_BREWING_PHASES)]\n",
    "\n",
    "    return brand_status_df"
   ]
  },
  {
   "cell_type": "markdown",
   "metadata": {
    "papermill": {
     "duration": 0.046652,
     "end_time": "2020-08-14T19:30:48.315572",
     "exception": false,
     "start_time": "2020-08-14T19:30:48.268920",
     "status": "completed"
    },
    "tags": []
   },
   "source": [
    "## 1c. Extract all rows related to cooling phase, compute cooling elapsed time\n",
    "\n",
    "The function for extracting all frames in the cooling phase is `cooling_data_extraction`. \n",
    "\n",
    "Overall, `cooling_data_extraction` will extract the temperature information for the cooling stage in a batch in a vessel zone in a fermentor and compute a new column COOLING_TIME with the elapsed time in days since the beginning of cooling. "
   ]
  },
  {
   "cell_type": "code",
   "execution_count": 6,
   "metadata": {
    "execution": {
     "iopub.execute_input": "2020-08-14T19:30:48.486901Z",
     "iopub.status.busy": "2020-08-14T19:30:48.486214Z",
     "iopub.status.idle": "2020-08-14T19:30:48.495616Z",
     "shell.execute_reply": "2020-08-14T19:30:48.496324Z"
    },
    "papermill": {
     "duration": 0.118487,
     "end_time": "2020-08-14T19:30:48.496481",
     "exception": false,
     "start_time": "2020-08-14T19:30:48.377994",
     "status": "completed"
    },
    "tags": []
   },
   "outputs": [],
   "source": [
    "@timer\n",
    "def cooling_data_extraction(brand_status_df):\n",
    "    #\n",
    "    # condition for it to be in cooling phase\n",
    "    # TODO [3]: the condition is that 'Top TIC OUT', 'Middle TIC OUT' and 'Bottom TIC OUT' are above 99.99\n",
    "    # =========== STUDENT BEGIN ==========\n",
    "    cool_stage = brand_status_df[\n",
    "        (brand_status_df[\"Top TIC OUT\"] > 99.99)\n",
    "        & (@@@ Your code here  @@@)\n",
    "        & (@@@ Your code here @@@)\n",
    "    ]\n",
    "    # =========== STUDENT END ==========\n",
    "\n",
    "    # TODO [4]: extract first row of each fermentation batch\n",
    "    # HINT: https://pandas.pydata.org/pandas-docs/stable/reference/api/pandas.DataFrame.groupby.html\n",
    "    # =========== STUDENT BEGIN ==========\n",
    "     cool_start_time = brand_status_df.@@@ Your code here @@@.first()\n",
    "    # =========== STUDENT END ==========\n",
    "\n",
    "    # Dataframe to hold cooling data with new COOLING_TIME column holding cooling time in days\n",
    "    cool_df = pd.DataFrame()\n",
    "    #\n",
    "    # For each fermentation batch, compute COOLING_TIME\n",
    "    for ferm_id in list(start_time_df.index):\n",
    "        start_time = start_time_df.loc[ferm_id].Timestamp\n",
    "        print(f\"  ==> ferm_id={ferm_id} start={start_time}\")\n",
    "        #\n",
    "        # Dataframe with rows associated to the current fermentation batch ID\n",
    "        batch_df = cool_stage_df[cool_stage_df[\"Fermentation ID\"] == ferm_id]\n",
    "        #\n",
    "        # Cooling time in unit of days\n",
    "        batch_df.loc[:, COOLING_TIME] = batch_df[\"Timestamp\"].apply(\n",
    "            lambda t: (t - start_time) / numpy.timedelta64(1, \"D\")\n",
    "        )\n",
    "        #\n",
    "        # Collect batch_df into result dataframe\n",
    "        cool_df = cool_df.append(batch_df)\n",
    "\n",
    "    return cool_df"
   ]
  },
  {
   "cell_type": "markdown",
   "metadata": {
    "papermill": {
     "duration": 0.068902,
     "end_time": "2020-08-14T19:30:48.608535",
     "exception": false,
     "start_time": "2020-08-14T19:30:48.539633",
     "status": "completed"
    },
    "tags": []
   },
   "source": [
    "**Auxiliary function for plotting** \n",
    "\n",
    "Takes a dataframe with {Top|Middle|Bottom} TIC PV columns and returns a dataframe with a single \"Temperature\" column instead and a new \"Position\" column with one of the 3 string {Top|Middle|Bottom} to indicate which sensor the temperature value is associated with. "
   ]
  },
  {
   "cell_type": "code",
   "execution_count": 7,
   "metadata": {
    "execution": {
     "iopub.execute_input": "2020-08-14T19:30:48.740354Z",
     "iopub.status.busy": "2020-08-14T19:30:48.736747Z",
     "iopub.status.idle": "2020-08-14T19:30:48.742169Z",
     "shell.execute_reply": "2020-08-14T19:30:48.743151Z"
    },
    "papermill": {
     "duration": 0.086177,
     "end_time": "2020-08-14T19:30:48.743398",
     "exception": false,
     "start_time": "2020-08-14T19:30:48.657221",
     "status": "completed"
    },
    "tags": []
   },
   "outputs": [],
   "source": [
    "def arrange_by_position(cool_df):\n",
    "    position_dfs = []\n",
    "    for pos in [\"Top\", \"Middle\", \"Bottom\"]:\n",
    "        position_df = cool_df[\n",
    "            [\"Brand\", \"Timestamp\", \"Fermentation ID\", f\"{pos} TIC PV\", \"Volume\"]\n",
    "        ].rename(columns={f\"{pos} TIC PV\": \"Temperature\", \"Fermentation ID\": \"Ferm_ID\"})\n",
    "        position_df.loc[:, \"Position\"] = pos\n",
    "        if COOLING_TIME in cool_df.columns:\n",
    "            position_df.loc[:, COOLING_TIME] = cool_df[COOLING_TIME]\n",
    "        position_dfs += [position_df]\n",
    "\n",
    "    cooling_df = pd.concat(position_dfs)\n",
    "    return cooling_df"
   ]
  },
  {
   "cell_type": "markdown",
   "metadata": {
    "papermill": {
     "duration": 0.108314,
     "end_time": "2020-08-14T19:30:48.918040",
     "exception": false,
     "start_time": "2020-08-14T19:30:48.809726",
     "status": "completed"
    },
    "tags": []
   },
   "source": [
    "## 1d. Define temperature equation\n",
    "\n",
    "![Cooling equation](https://academicpi.blob.core.windows.net/images/NB2_Heat_transfer_eqn.png)\n",
    "\n",
    "The cell below implements this equation for predicting the cooling curve. \n",
    "\n",
    "The [scipy.curve_fit (click for reference)](https://docs.scipy.org/doc/scipy/reference/generated/scipy.optimize.curve_fit.html) function is used find the values for the parameters $\\alpha$ and $\\beta$ (`alpha` and `beta`) using non-linear least square fit. "
   ]
  },
  {
   "cell_type": "markdown",
   "metadata": {
    "papermill": {
     "duration": 0.051052,
     "end_time": "2020-08-14T19:30:49.030899",
     "exception": false,
     "start_time": "2020-08-14T19:30:48.979847",
     "status": "completed"
    },
    "tags": []
   },
   "source": [
    "**IMPORTANT: To implement the function for $T_{t+1}$ (variable `T_t1`) in the exercise below, you'll need (click link for reference documentation):**\n",
    "\n",
    "* **[numpy.multiply](https://docs.scipy.org/doc/numpy/reference/generated/numpy.multiply.html?highlight=multiply#numpy.multiply)**\n",
    "* **[numpy.reciprocal](https://docs.scipy.org/doc/numpy/reference/generated/numpy.reciprocal.html?highlight=reciprocal#numpy.reciprocal)**"
   ]
  },
  {
   "cell_type": "code",
   "execution_count": 8,
   "metadata": {
    "execution": {
     "iopub.execute_input": "2020-08-14T19:30:49.168393Z",
     "iopub.status.busy": "2020-08-14T19:30:49.166204Z",
     "iopub.status.idle": "2020-08-14T19:30:49.169003Z",
     "shell.execute_reply": "2020-08-14T19:30:49.169560Z"
    },
    "papermill": {
     "duration": 0.070224,
     "end_time": "2020-08-14T19:30:49.169708",
     "exception": false,
     "start_time": "2020-08-14T19:30:49.099484",
     "status": "completed"
    },
    "tags": []
   },
   "outputs": [],
   "source": [
    "def temperature_profile(x, alpha, beta):\n",
    "    # Unpack x values\n",
    "    T_t = x[0]  # this is a numpy vector\n",
    "    Vol = x[1]  # another numpy vector\n",
    "\n",
    "    # TODO [5]: Implement the function defined in red above\n",
    "    # TIP: check \"IMPORTANT\" note above, your code should contain variables alpha, beta, T_t and Vol\n",
    "    # =========== STUDENT BEGIN ==========\n",
    "    T_t_1 = @@@ Your code here @@@\n",
    "    # =========== STUDENT END ==========\n",
    "    return T_t1"
   ]
  },
  {
   "cell_type": "markdown",
   "metadata": {
    "papermill": {
     "duration": 0.038796,
     "end_time": "2020-08-14T19:30:49.240871",
     "exception": false,
     "start_time": "2020-08-14T19:30:49.202075",
     "status": "completed"
    },
    "tags": []
   },
   "source": [
    "<h1>Non-linear regression: computation and prediction</h1>\n",
    "\n",
    "Function `compute_cooling_parameters` computes parameter $\\alpha$ (`alpha`) and $\\beta$ (`beta`) for a given set of fermentation (batch) IDs and temperature zones. \n",
    "\n",
    "Function `generate_prediction_df` input are the above regression parameters and a batch dataframe. It returns a new dataframe with the batch data received and additional prediction rows. The \"Position\" column value for the new rows is \"Prediction\". \n",
    "\n",
    "<h3>NOTE: there is no code to complete for those 2 functions</h3>"
   ]
  },
  {
   "cell_type": "code",
   "execution_count": 9,
   "metadata": {
    "execution": {
     "iopub.execute_input": "2020-08-14T19:30:49.320055Z",
     "iopub.status.busy": "2020-08-14T19:30:49.318815Z",
     "iopub.status.idle": "2020-08-14T19:30:49.323024Z",
     "shell.execute_reply": "2020-08-14T19:30:49.323784Z"
    },
    "papermill": {
     "duration": 0.049573,
     "end_time": "2020-08-14T19:30:49.323971",
     "exception": false,
     "start_time": "2020-08-14T19:30:49.274398",
     "status": "completed"
    },
    "tags": []
   },
   "outputs": [],
   "source": [
    "############### CURVE FIT REGRESSION BEGIN - DO NOT CHANGE #############\n",
    "\n",
    "\n",
    "def compute_cooling_parameters(cool_df, brand, temp_sensors, ferm_ids):\n",
    "    \"\"\"\n",
    "    Input parameters:\n",
    "    * brand to consider\n",
    "    * temperature sensor position to use for computation\n",
    "    * number of days to compute prediction parameters\n",
    "    \"\"\"\n",
    "\n",
    "    # vessel zone(s) where cooling profile will be predicted\n",
    "    sensors_to_use = [repr(pos) for pos in Position if temp_sensors[repr(pos)]]\n",
    "    # at least one should be true\n",
    "    if len(sensors_to_use) == 0:\n",
    "        raise Exception(\n",
    "            \"@@@ Error: at least one of Bottom|Middle|Top should be true in TEMP_SENSORS\"\n",
    "        )\n",
    "    print(f\"sensors to use={sensors_to_use} with batch(es) {ferm_ids}\")\n",
    "\n",
    "    # Only the fermentation IDs and specified sensor zones are kept for regression\n",
    "    regression_cool_df = cool_df[\n",
    "        cool_df[\"Ferm_ID\"].isin(ferm_ids) & cool_df[\"Position\"].isin(sensors_to_use)\n",
    "    ]\n",
    "\n",
    "    # sort the temperatures in a descending fashion\n",
    "    regression_cool_df = regression_cool_df.sort_values(\n",
    "        by=[\"Temperature\"], ascending=False\n",
    "    )\n",
    "\n",
    "    # get the y value for the x, this will be used in curve fitting\n",
    "    regression_cool_df[\"Temperature_y\"] = regression_cool_df[\"Temperature\"].shift(-1)\n",
    "\n",
    "    # drop the last row\n",
    "    regression_cool_df = regression_cool_df[:-1]\n",
    "\n",
    "    # training temperature feature\n",
    "    x1_train = regression_cool_df[\"Temperature\"].values\n",
    "\n",
    "    # training Volume feature\n",
    "    x2_train = regression_cool_df[\"Volume\"].values\n",
    "\n",
    "    # [temperature, volume]\n",
    "    x = [x1_train, x2_train]\n",
    "\n",
    "    # Training of non-linear least squares model\n",
    "    # Nonlinear curve-fitting pass a tuple in curve fitting\n",
    "    popt, pcov = curve_fit(\n",
    "        temperature_profile, x, regression_cool_df[\"Temperature_y\"].values\n",
    "    )\n",
    "\n",
    "    # get the coefficients alpha and beta in the model\n",
    "    alpha = popt[0]\n",
    "    beta = popt[1]\n",
    "\n",
    "    # compute mean of maximum elapsed time for all (batch ID, position) pair\n",
    "    regression_cooling_elapsed = (\n",
    "        regression_cool_df.groupby(by=[\"Ferm_ID\", \"Position\"]).max()\n",
    "    )[COOLING_TIME].mean()\n",
    "    return (alpha, beta, regression_cooling_elapsed)\n",
    "\n",
    "\n",
    "############### CURVE FIT REGRESSION END - DO NOT CHANGE #############"
   ]
  },
  {
   "cell_type": "code",
   "execution_count": 10,
   "metadata": {
    "execution": {
     "iopub.execute_input": "2020-08-14T19:30:49.398219Z",
     "iopub.status.busy": "2020-08-14T19:30:49.397094Z",
     "iopub.status.idle": "2020-08-14T19:30:49.399774Z",
     "shell.execute_reply": "2020-08-14T19:30:49.400487Z"
    },
    "papermill": {
     "duration": 0.044129,
     "end_time": "2020-08-14T19:30:49.400707",
     "exception": false,
     "start_time": "2020-08-14T19:30:49.356578",
     "status": "completed"
    },
    "tags": []
   },
   "outputs": [],
   "source": [
    "def generate_prediction_df(\n",
    "    alpha,\n",
    "    beta,\n",
    "    brand,\n",
    "    pos_cool_df,\n",
    "    temp_sensors,\n",
    "    ferm_id,\n",
    "    max_cooling_days,\n",
    "    reg_batch_count=1,\n",
    "):\n",
    "    # vessel zone(s) where cooling profile will be predicted\n",
    "    sensors_to_use = [repr(pos) for pos in Position if temp_sensors[repr(pos)]]\n",
    "\n",
    "    cool_fermid_df = pos_cool_df[pos_cool_df[\"Ferm_ID\"] == ferm_id]\n",
    "\n",
    "    # Get the initial point of all temperature curves\n",
    "    T_0s = (\n",
    "        cool_fermid_df[cool_fermid_df[\"Position\"].isin(sensors_to_use)]\n",
    "        .groupby(by=[\"Position\"])\n",
    "        .first()\n",
    "    )\n",
    "    T_0 = T_0s[\"Temperature\"].mean()\n",
    "\n",
    "    # Volumes - NOTE: all 3 sensors position share the same Volume, so we pick the Top one\n",
    "    Vol = numpy.repeat(\n",
    "        cool_fermid_df[cool_fermid_df[\"Position\"].isin(sensors_to_use)][\n",
    "            \"Volume\"\n",
    "        ].values,\n",
    "        reg_batch_count,\n",
    "    )\n",
    "\n",
    "    # Compute the prediction with the start temperature T_0\n",
    "    T_prediction = [T_0]\n",
    "    T_t = T_0\n",
    "    for i in range(1, len(Vol)):\n",
    "        x = [numpy.atleast_1d(T_t), numpy.atleast_1d(Vol[i])]\n",
    "        # result is T_t1 computed from T_t\n",
    "        T_t = temperature_profile(x, alpha, beta)[0]\n",
    "        T_prediction.append(T_t)\n",
    "\n",
    "    prediction_df = pd.DataFrame(T_prediction, columns=[\"Temperature\"])\n",
    "    prediction_df.loc[:, \"Brand\"] = brand\n",
    "    prediction_df.loc[:, \"Ferm_ID\"] = ferm_id\n",
    "    prediction_df.loc[:, \"Position\"] = \"Prediction\"\n",
    "    prediction_df.loc[:, COOLING_TIME] = numpy.linspace(0.0, max_cooling_days, len(Vol))\n",
    "\n",
    "    cool_fermid_df = cool_fermid_df.append(prediction_df, sort=True)\n",
    "\n",
    "    return (T_0, prediction_df, cool_fermid_df)"
   ]
  },
  {
   "cell_type": "markdown",
   "metadata": {
    "papermill": {
     "duration": 0.029771,
     "end_time": "2020-08-14T19:30:49.458206",
     "exception": false,
     "start_time": "2020-08-14T19:30:49.428435",
     "status": "completed"
    },
    "tags": []
   },
   "source": [
    "---\n",
    "# Part 2: Main Section\n",
    "---\n",
    "<a id=’section_2’></a>\n",
    "Once all functions above are fully implemented and OCS has been initialized, below are the cells to:\n",
    "\n",
    "[2a](#section_2a) - Set the input parameters   \n",
    "[2b](#section_2b) - Initialize OCS client<br>\n",
    "[2c](#section_2c) - Download data from OCS with Data View<br>\n",
    "[2d](#section_2d) - Call functions of Part 1 to build result dataframe. This is the main analysis.   \n",
    "[2e](#section_2e) - Plot result data"
   ]
  },
  {
   "cell_type": "markdown",
   "metadata": {
    "papermill": {
     "duration": 0.033377,
     "end_time": "2020-08-14T19:30:49.525708",
     "exception": false,
     "start_time": "2020-08-14T19:30:49.492331",
     "status": "completed"
    },
    "tags": []
   },
   "source": [
    "## 2a. Set input parameters\n",
    "\n",
    "Specify what fermentor, time period and interpolation interval we want for the data view. "
   ]
  },
  {
   "cell_type": "code",
   "execution_count": 11,
   "metadata": {
    "execution": {
     "iopub.execute_input": "2020-08-14T19:30:49.593617Z",
     "iopub.status.busy": "2020-08-14T19:30:49.592013Z",
     "iopub.status.idle": "2020-08-14T19:30:49.594241Z",
     "shell.execute_reply": "2020-08-14T19:30:49.594714Z"
    },
    "papermill": {
     "duration": 0.038849,
     "end_time": "2020-08-14T19:30:49.594838",
     "exception": false,
     "start_time": "2020-08-14T19:30:49.555989",
     "status": "completed"
    },
    "tags": []
   },
   "outputs": [],
   "source": [
    "# time period over which to analyze data\n",
    "TRAINING_DAYS = 182\n",
    "\n",
    "# we want to pull this data starting from timestamp \"start_index\"\n",
    "START_INDEX = \"2017-01-20T15:30\"\n",
    "END_INDEX = (parser.parse(START_INDEX) + dt.timedelta(days=TRAINING_DAYS)).isoformat()\n",
    "\n",
    "# time granularity\n",
    "INTERVAL = \"00:10:00\"\n",
    "\n",
    "# specify asset \n",
    "ASSET_ID = \"FV32\"\n",
    "\n",
    "# Additional column name for calculated cooling time in indicated unit\n",
    "COOLING_TIME = \"Cooling (days)\""
   ]
  },
  {
   "cell_type": "markdown",
   "metadata": {
    "papermill": {
     "duration": 0.039413,
     "end_time": "2020-08-14T19:30:49.673973",
     "exception": false,
     "start_time": "2020-08-14T19:30:49.634560",
     "status": "completed"
    },
    "tags": []
   },
   "source": [
    "## 2b. Initialize Hub/OCS client\n",
    "\n",
    "---\n",
    "**Executing the next starts the authentication process for your Google account, acting as the Identity Provider for OCS. At the end of a successful login or if you're already logged in with Google, you'll see the following message on a new browser tab:**\n",
    "\n",
    "**You can now return to the application.**\n",
    "\n",
    "Simply close this tab and return to your notebook tab. \n",
    "\n",
    "---\n",
    "\n",
    "After a successful login, communication with OCS is done through a HubClient object. Variable `namespace_id` is initialized with the OCS namespace hosting the Deschutes dataset. "
   ]
  },
  {
   "cell_type": "code",
   "execution_count": 12,
   "metadata": {
    "execution": {
     "iopub.execute_input": "2020-08-14T19:30:49.745807Z",
     "iopub.status.busy": "2020-08-14T19:30:49.744587Z",
     "iopub.status.idle": "2020-08-14T19:30:49.884122Z",
     "shell.execute_reply": "2020-08-14T19:30:49.884668Z"
    },
    "papermill": {
     "duration": 0.176966,
     "end_time": "2020-08-14T19:30:49.884848",
     "exception": false,
     "start_time": "2020-08-14T19:30:49.707882",
     "status": "completed"
    },
    "tags": []
   },
   "outputs": [],
   "source": [
    "hub_client = HubClient()\n",
    "\n",
    "dataset = hub_client.current_dataset()\n",
    "namespace_id = hub_client.namespace_of(dataset)\n",
    "print(f\"Current dataset is {dataset} in namespace_id: {namespace_id}\")"
   ]
  },
  {
   "cell_type": "markdown",
   "metadata": {
    "papermill": {
     "duration": 0.035026,
     "end_time": "2020-08-14T19:30:49.950448",
     "exception": false,
     "start_time": "2020-08-14T19:30:49.915422",
     "status": "completed"
    },
    "tags": []
   },
   "source": [
    "## 2c. Download data from OCS with Data Views\n",
    "\n",
    "**Development tip (WARNING: getting data view results can take up to 30 secs)** \n",
    "\n",
    "Development of a notebook involves running code over and over, so you'll want to avoid long running steps when possible. This is why you can run the cell below once, with the resulting dataframe saved in variable `all_brands_df`. If you don't change any of its input parameters, `all_brands_df` is still valid and can be reused when doing your analysis with different parameters. \n",
    "\n",
    "Also include a statistical description of `all_brands_df`."
   ]
  },
  {
   "cell_type": "markdown",
   "metadata": {
    "papermill": {
     "duration": 0.032573,
     "end_time": "2020-08-14T19:30:50.013958",
     "exception": false,
     "start_time": "2020-08-14T19:30:49.981385",
     "status": "completed"
    },
    "tags": []
   },
   "source": [
    "### Find predefined data view for Fermenter #32 and \"Cooling\""
   ]
  },
  {
   "cell_type": "code",
   "execution_count": 13,
   "metadata": {
    "execution": {
     "iopub.execute_input": "2020-08-14T19:30:50.094162Z",
     "iopub.status.busy": "2020-08-14T19:30:50.093059Z",
     "iopub.status.idle": "2020-08-14T19:30:50.104518Z",
     "shell.execute_reply": "2020-08-14T19:30:50.105118Z"
    },
    "papermill": {
     "duration": 0.058087,
     "end_time": "2020-08-14T19:30:50.105358",
     "exception": false,
     "start_time": "2020-08-14T19:30:50.047271",
     "status": "completed"
    },
    "tags": []
   },
   "outputs": [],
   "source": [
    "# Filtered to get the one related to \"cooling\"\n",
    "# A list with a single element will be returned, so this element is extracted with `[0]`\n",
    "dataview_id = hub_client.asset_dataviews(filter=\"cooling\", asset=ASSET_ID)[0]\n",
    "dataview_id"
   ]
  },
  {
   "cell_type": "markdown",
   "metadata": {
    "papermill": {
     "duration": 0.033371,
     "end_time": "2020-08-14T19:30:50.175356",
     "exception": false,
     "start_time": "2020-08-14T19:30:50.141985",
     "status": "completed"
    },
    "tags": []
   },
   "source": [
    "### Data View Structure "
   ]
  },
  {
   "cell_type": "code",
   "execution_count": 14,
   "metadata": {
    "execution": {
     "iopub.execute_input": "2020-08-14T19:30:50.257552Z",
     "iopub.status.busy": "2020-08-14T19:30:50.256242Z",
     "iopub.status.idle": "2020-08-14T19:30:50.601017Z",
     "shell.execute_reply": "2020-08-14T19:30:50.602285Z"
    },
    "papermill": {
     "duration": 0.392081,
     "end_time": "2020-08-14T19:30:50.602583",
     "exception": false,
     "start_time": "2020-08-14T19:30:50.210502",
     "status": "completed"
    },
    "tags": []
   },
   "outputs": [],
   "source": [
    "hub_client.dataview_definition(namespace_id, dataview_id)"
   ]
  },
  {
   "cell_type": "markdown",
   "metadata": {
    "papermill": {
     "duration": 0.029499,
     "end_time": "2020-08-14T19:30:50.692762",
     "exception": false,
     "start_time": "2020-08-14T19:30:50.663263",
     "status": "completed"
    },
    "tags": []
   },
   "source": [
    "### Get Interpolated Data from Data View"
   ]
  },
  {
   "cell_type": "code",
   "execution_count": 15,
   "metadata": {
    "execution": {
     "iopub.execute_input": "2020-08-14T19:30:50.773477Z",
     "iopub.status.busy": "2020-08-14T19:30:50.772603Z",
     "iopub.status.idle": "2020-08-14T19:30:53.544924Z",
     "shell.execute_reply": "2020-08-14T19:30:53.545733Z"
    },
    "papermill": {
     "duration": 2.819133,
     "end_time": "2020-08-14T19:30:53.545968",
     "exception": false,
     "start_time": "2020-08-14T19:30:50.726835",
     "status": "completed"
    },
    "tags": []
   },
   "outputs": [],
   "source": [
    "# pull data from OCS\n",
    "\n",
    "# TODO: request a Panda dataframe from OCS\n",
    "# =========== STUDENT BEGIN ==========\n",
    "all_brands_df = @@@ Your code here @@@\n",
    "# =========== STUDENT END ==========\n",
    "\n",
    "# statistical description of `all_brands_df`, -n/a- stands for \"not applicable\"\n",
    "all_brands_df.describe(include=\"all\").fillna('-n/a-')"
   ]
  },
  {
   "cell_type": "code",
   "execution_count": 16,
   "metadata": {
    "execution": {
     "iopub.execute_input": "2020-08-14T19:30:53.646348Z",
     "iopub.status.busy": "2020-08-14T19:30:53.645521Z",
     "iopub.status.idle": "2020-08-14T19:30:53.649388Z",
     "shell.execute_reply": "2020-08-14T19:30:53.650143Z"
    },
    "papermill": {
     "duration": 0.065018,
     "end_time": "2020-08-14T19:30:53.650288",
     "exception": false,
     "start_time": "2020-08-14T19:30:53.585270",
     "status": "completed"
    },
    "tags": []
   },
   "outputs": [],
   "source": [
    "# preview of dataframe\"\n",
    "all_brands_df.head()"
   ]
  },
  {
   "cell_type": "code",
   "execution_count": 17,
   "metadata": {
    "execution": {
     "iopub.execute_input": "2020-08-14T19:30:53.755573Z",
     "iopub.status.busy": "2020-08-14T19:30:53.749614Z",
     "iopub.status.idle": "2020-08-14T19:30:53.759623Z",
     "shell.execute_reply": "2020-08-14T19:30:53.760456Z"
    },
    "papermill": {
     "duration": 0.063586,
     "end_time": "2020-08-14T19:30:53.760639",
     "exception": false,
     "start_time": "2020-08-14T19:30:53.697053",
     "status": "completed"
    },
    "tags": []
   },
   "outputs": [],
   "source": [
    "# list brand of beer for cooling with how many rows they appear in\n",
    "all_brands_df[all_brands_df[\"Status\"] == \"Cooling\"][\"Brand\"].value_counts()"
   ]
  },
  {
   "cell_type": "code",
   "execution_count": 18,
   "metadata": {
    "execution": {
     "iopub.execute_input": "2020-08-14T19:30:53.861553Z",
     "iopub.status.busy": "2020-08-14T19:30:53.860225Z",
     "iopub.status.idle": "2020-08-14T19:30:55.005019Z",
     "shell.execute_reply": "2020-08-14T19:30:55.005581Z"
    },
    "papermill": {
     "duration": 1.203578,
     "end_time": "2020-08-14T19:30:55.005786",
     "exception": false,
     "start_time": "2020-08-14T19:30:53.802208",
     "status": "completed"
    },
    "tags": []
   },
   "outputs": [],
   "source": [
    "# just like in NB1_SOLUTION_ADF_Prediction notebook, computer a Fermentation ID column from `Fermentation_Start_Time`\n",
    "all_brands_df = all_brands_df.astype({\"Fermentation Start Time\": \"datetime64\"})\n",
    "\n",
    "\n",
    "def fermentation_id(fv_id, t0):\n",
    "    tt = str(t0).split(\" \")\n",
    "    return f\"{fv_id}_{tt[0].replace('-','')}\"\n",
    "\n",
    "\n",
    "all_brands_df[\"Fermentation ID\"] = all_brands_df.apply(\n",
    "    lambda row: fermentation_id(row[\"Asset_Id\"], row[\"Fermentation Start Time\"]), axis=1\n",
    ")"
   ]
  },
  {
   "cell_type": "markdown",
   "metadata": {
    "papermill": {
     "duration": 0.054794,
     "end_time": "2020-08-14T19:30:55.096416",
     "exception": false,
     "start_time": "2020-08-14T19:30:55.041622",
     "status": "completed"
    },
    "tags": []
   },
   "source": [
    "## 2d. Main Analysis \n",
    "\n",
    "### Analysis parameters\n",
    "\n",
    "Set brand of beer for the analysis "
   ]
  },
  {
   "cell_type": "code",
   "execution_count": 19,
   "metadata": {
    "execution": {
     "iopub.execute_input": "2020-08-14T19:30:55.241887Z",
     "iopub.status.busy": "2020-08-14T19:30:55.240769Z",
     "iopub.status.idle": "2020-08-14T19:30:55.243813Z",
     "shell.execute_reply": "2020-08-14T19:30:55.243173Z"
    },
    "papermill": {
     "duration": 0.053268,
     "end_time": "2020-08-14T19:30:55.243983",
     "exception": false,
     "start_time": "2020-08-14T19:30:55.190715",
     "status": "completed"
    },
    "tags": []
   },
   "outputs": [],
   "source": [
    "# selected brand\n",
    "BRAND = \"Realtime Hops\""
   ]
  },
  {
   "cell_type": "markdown",
   "metadata": {
    "papermill": {
     "duration": 0.077705,
     "end_time": "2020-08-14T19:30:55.396970",
     "exception": false,
     "start_time": "2020-08-14T19:30:55.319265",
     "status": "completed"
    },
    "tags": []
   },
   "source": [
    "### Plot data from data view result for brand of interest, keep only important brewing phase "
   ]
  },
  {
   "cell_type": "code",
   "execution_count": 20,
   "metadata": {
    "execution": {
     "iopub.execute_input": "2020-08-14T19:30:55.569075Z",
     "iopub.status.busy": "2020-08-14T19:30:55.567624Z",
     "iopub.status.idle": "2020-08-14T19:30:57.130914Z",
     "shell.execute_reply": "2020-08-14T19:30:57.131644Z"
    },
    "papermill": {
     "duration": 1.649726,
     "end_time": "2020-08-14T19:30:57.131836",
     "exception": false,
     "start_time": "2020-08-14T19:30:55.482110",
     "status": "completed"
    },
    "tags": []
   },
   "outputs": [],
   "source": [
    "tcbdf = arrange_by_position(\n",
    "    brand_df_cleanup(all_brands_df[all_brands_df[\"Brand\"] == BRAND])\n",
    ")\n",
    "fig = px.scatter(\n",
    "    tcbdf,\n",
    "    x=\"Timestamp\",\n",
    "    y=\"Temperature\",\n",
    "    color=\"Position\",\n",
    "    hover_name=\"Ferm_ID\",\n",
    "    title=f\"Temperature for {BRAND} brand and phases in {IMPORTANT_BREWING_PHASES}\",\n",
    ")\n",
    "fig.update_layout(\n",
    "    xaxis=dict(\n",
    "        rangeselector=dict(\n",
    "            buttons=list(\n",
    "                [\n",
    "                    dict(count=7, label=\"1w\", step=\"day\", stepmode=\"backward\"),\n",
    "                    dict(count=14, label=\"2w\", step=\"day\", stepmode=\"backward\"),\n",
    "                    dict(count=1, label=\"1m\", step=\"month\", stepmode=\"backward\"),\n",
    "                    dict(step=\"all\"),\n",
    "                ]\n",
    "            )\n",
    "        ),\n",
    "        rangeslider=dict(visible=True),\n",
    "        type=\"date\",\n",
    "    ),\n",
    ")\n",
    "fig.update_traces(hovertemplate=None)\n",
    "fig.layout.title.font=dict(size=14)\n",
    "fig.layout.template.layout.hovermode = \"x unified\"\n",
    "fig.show()"
   ]
  },
  {
   "cell_type": "markdown",
   "metadata": {
    "papermill": {
     "duration": 0.22453,
     "end_time": "2020-08-14T19:30:57.585387",
     "exception": false,
     "start_time": "2020-08-14T19:30:57.360857",
     "status": "completed"
    },
    "tags": []
   },
   "source": [
    "### Compute cooling elapsed time\n",
    "\n",
    "As seen in Part 1, `prepare_cooling_data` calls `brand_df_cleanup` and `cooling_data_extraction` to compute a new cooling elapsed time column. "
   ]
  },
  {
   "cell_type": "code",
   "execution_count": 21,
   "metadata": {
    "execution": {
     "iopub.execute_input": "2020-08-14T19:30:58.088958Z",
     "iopub.status.busy": "2020-08-14T19:30:58.087860Z",
     "iopub.status.idle": "2020-08-14T19:30:58.245130Z",
     "shell.execute_reply": "2020-08-14T19:30:58.245697Z"
    },
    "papermill": {
     "duration": 0.40683,
     "end_time": "2020-08-14T19:30:58.245864",
     "exception": false,
     "start_time": "2020-08-14T19:30:57.839034",
     "status": "completed"
    },
    "tags": []
   },
   "outputs": [],
   "source": [
    "cool_df = prepare_cooling_data(all_brands_df, BRAND)\n",
    "cool_df"
   ]
  },
  {
   "cell_type": "markdown",
   "metadata": {
    "papermill": {
     "duration": 0.296803,
     "end_time": "2020-08-14T19:30:58.775408",
     "exception": false,
     "start_time": "2020-08-14T19:30:58.478605",
     "status": "completed"
    },
    "tags": []
   },
   "source": [
    "### Rearrange dataframe and plot batches data"
   ]
  },
  {
   "cell_type": "code",
   "execution_count": 22,
   "metadata": {
    "execution": {
     "iopub.execute_input": "2020-08-14T19:30:59.367823Z",
     "iopub.status.busy": "2020-08-14T19:30:59.366860Z",
     "iopub.status.idle": "2020-08-14T19:30:59.755115Z",
     "shell.execute_reply": "2020-08-14T19:30:59.756133Z"
    },
    "papermill": {
     "duration": 0.683453,
     "end_time": "2020-08-14T19:30:59.756376",
     "exception": false,
     "start_time": "2020-08-14T19:30:59.072923",
     "status": "completed"
    },
    "tags": []
   },
   "outputs": [],
   "source": [
    "pos_cool_df = arrange_by_position(cool_df)\n",
    "fig = px.scatter(\n",
    "    pos_cool_df,\n",
    "    x=COOLING_TIME,\n",
    "    y=\"Temperature\",\n",
    "    color=\"Position\",\n",
    "    facet_col=\"Ferm_ID\",\n",
    "    title=f\"Cooling Temperature Profile per Batch for {BRAND} Brand\",\n",
    ")\n",
    "for i in fig[\"layout\"][\"annotations\"]:\n",
    "    i[\"font\"] = dict(size=11, color=\"#000000\")\n",
    "    i[\"text\"] = i[\"text\"].replace(\"=\", \"=<br>\")\n",
    "fig.layout.template.layout.hovermode = \"x unified\"\n",
    "fig.show()"
   ]
  },
  {
   "cell_type": "markdown",
   "metadata": {
    "papermill": {
     "duration": 0.316934,
     "end_time": "2020-08-14T19:31:00.993641",
     "exception": false,
     "start_time": "2020-08-14T19:31:00.676707",
     "status": "completed"
    },
    "tags": []
   },
   "source": [
    "### Regression parameters\n",
    "\n",
    "The computation of the non-linear regression curve will pick the set data defined by two criteria: \n",
    "\n",
    "* A set of temperature zones with truth value to identify if the zone should contribute (`TEMP_SENSORS`)\n",
    "* A set of index of batches to consider as regression data (`reg_batches`) \n",
    "\n",
    "All data for the regression are from curves matching the two criteria above. "
   ]
  },
  {
   "cell_type": "code",
   "execution_count": 23,
   "metadata": {
    "execution": {
     "iopub.execute_input": "2020-08-14T19:31:01.586551Z",
     "iopub.status.busy": "2020-08-14T19:31:01.584700Z",
     "iopub.status.idle": "2020-08-14T19:31:01.589063Z",
     "shell.execute_reply": "2020-08-14T19:31:01.589639Z"
    },
    "papermill": {
     "duration": 0.307736,
     "end_time": "2020-08-14T19:31:01.589818",
     "exception": false,
     "start_time": "2020-08-14T19:31:01.282082",
     "status": "completed"
    },
    "tags": []
   },
   "outputs": [],
   "source": [
    "TEMP_SENSORS = {\"Bottom\": True, \"Middle\": True, \"Top\": True}  # pick all zones\n",
    "\n",
    "# first and second batches, namely FV32_20170118 and FV32_20170331\n",
    "reg_batches = [0, 1]\n",
    "\n",
    "# list of all possible batch ID\n",
    "batch_ids = list(pos_cool_df[\"Ferm_ID\"].unique())\n",
    "\n",
    "# list of sensor zones (position) which are selected (True)\n",
    "sensors_to_use = [repr(pos) for pos in Position if TEMP_SENSORS[repr(pos)]]\n",
    "\n",
    "# from a list of indices, return associate list of batch ID\n",
    "def batch_select(ids):\n",
    "    return [batch_ids[i] for i, _ in enumerate(batch_ids) if i in ids]\n",
    "\n",
    "\n",
    "print(f\"all batch IDs={batch_ids}\\nselected batch(es)={batch_select(reg_batches)}\")"
   ]
  },
  {
   "cell_type": "code",
   "execution_count": 24,
   "metadata": {
    "execution": {
     "iopub.execute_input": "2020-08-14T19:31:02.516441Z",
     "iopub.status.busy": "2020-08-14T19:31:02.515424Z",
     "iopub.status.idle": "2020-08-14T19:31:02.675360Z",
     "shell.execute_reply": "2020-08-14T19:31:02.675839Z"
    },
    "papermill": {
     "duration": 0.559366,
     "end_time": "2020-08-14T19:31:02.676020",
     "exception": false,
     "start_time": "2020-08-14T19:31:02.116654",
     "status": "completed"
    },
    "tags": []
   },
   "outputs": [],
   "source": [
    "fig = px.scatter(\n",
    "    pos_cool_df[\n",
    "        (\n",
    "            pos_cool_df[\"Ferm_ID\"].isin(batch_select(reg_batches))\n",
    "            & (pos_cool_df[\"Position\"].isin(sensors_to_use))\n",
    "        )\n",
    "    ],\n",
    "    x=COOLING_TIME,\n",
    "    y=\"Temperature\",\n",
    "    color=\"Position\",\n",
    "    facet_col=\"Ferm_ID\",\n",
    "    title=f\"Cooling Temperature Profiles for {BRAND} as Regression Input Data\",\n",
    ")\n",
    "for i in fig[\"layout\"][\"annotations\"]:\n",
    "    i[\"font\"] = dict(size=11, color=\"#000000\")\n",
    "    i[\"text\"] = i[\"text\"].replace(\"=\", \"=<br>\")\n",
    "fig.layout.template.layout.hovermode = \"x unified\"\n",
    "fig.show()"
   ]
  },
  {
   "cell_type": "code",
   "execution_count": 25,
   "metadata": {
    "execution": {
     "iopub.execute_input": "2020-08-14T19:31:03.321052Z",
     "iopub.status.busy": "2020-08-14T19:31:03.320542Z",
     "iopub.status.idle": "2020-08-14T19:31:03.340756Z",
     "shell.execute_reply": "2020-08-14T19:31:03.340293Z"
    },
    "papermill": {
     "duration": 0.357373,
     "end_time": "2020-08-14T19:31:03.340871",
     "exception": false,
     "start_time": "2020-08-14T19:31:02.983498",
     "status": "completed"
    },
    "tags": []
   },
   "outputs": [],
   "source": [
    "alpha, beta, max_cooling_days = compute_cooling_parameters(\n",
    "    pos_cool_df, BRAND, TEMP_SENSORS, batch_select(reg_batches)\n",
    ")\n",
    "alpha, beta, max_cooling_days"
   ]
  },
  {
   "cell_type": "code",
   "execution_count": 26,
   "metadata": {
    "execution": {
     "iopub.execute_input": "2020-08-14T19:31:03.949423Z",
     "iopub.status.busy": "2020-08-14T19:31:03.948453Z",
     "iopub.status.idle": "2020-08-14T19:31:04.608397Z",
     "shell.execute_reply": "2020-08-14T19:31:04.609654Z"
    },
    "papermill": {
     "duration": 1.008383,
     "end_time": "2020-08-14T19:31:04.609916",
     "exception": false,
     "start_time": "2020-08-14T19:31:03.601533",
     "status": "completed"
    },
    "tags": []
   },
   "outputs": [],
   "source": [
    "# build dataframe with all batches and their associated prediction\n",
    "all_df = pd.DataFrame()\n",
    "for batch_id in batch_ids:\n",
    "    _, _, cfdf = generate_prediction_df(\n",
    "        alpha,\n",
    "        beta,\n",
    "        BRAND,\n",
    "        pos_cool_df,\n",
    "        TEMP_SENSORS,\n",
    "        batch_id,\n",
    "        max_cooling_days,\n",
    "        len(batch_select(reg_batches)),\n",
    "    )\n",
    "    all_df = all_df.append(cfdf)"
   ]
  },
  {
   "cell_type": "markdown",
   "metadata": {
    "papermill": {
     "duration": 0.328165,
     "end_time": "2020-08-14T19:31:05.308347",
     "exception": false,
     "start_time": "2020-08-14T19:31:04.980182",
     "status": "completed"
    },
    "tags": []
   },
   "source": [
    "## 2e. Plot prediction curve along with actual data \n",
    "\n",
    "**Note:** You can zoom into the graph to see how the prediction and data actually differ."
   ]
  },
  {
   "cell_type": "code",
   "execution_count": 27,
   "metadata": {
    "execution": {
     "iopub.execute_input": "2020-08-14T19:31:06.140937Z",
     "iopub.status.busy": "2020-08-14T19:31:06.134903Z",
     "iopub.status.idle": "2020-08-14T19:31:06.729339Z",
     "shell.execute_reply": "2020-08-14T19:31:06.729883Z"
    },
    "papermill": {
     "duration": 1.092197,
     "end_time": "2020-08-14T19:31:06.730024",
     "exception": false,
     "start_time": "2020-08-14T19:31:05.637827",
     "status": "completed"
    },
    "tags": []
   },
   "outputs": [],
   "source": [
    "fig = px.scatter(\n",
    "    all_df,\n",
    "    x=COOLING_TIME,\n",
    "    y=\"Temperature\",\n",
    "    color=\"Position\",\n",
    "    facet_col=\"Ferm_ID\",\n",
    "    title=f\"Cooling Temp with Regression from {batch_select(reg_batches)}\"\n",
    "    f\" and {[repr(pos) for pos in Position if TEMP_SENSORS[repr(pos)]]}<br>\"\n",
    "    f\"for brand {BRAND}\"\n",
    ")\n",
    "fig.layout.template.layout.hovermode = \"x unified\"\n",
    "fig.layout.title.font = dict(size=14)\n",
    "for i in fig[\"layout\"][\"annotations\"]:\n",
    "    i[\"font\"] = dict(size=11, color=\"#000000\")\n",
    "    i[\"text\"] = i[\"text\"].replace(\"=\", \"=<br>\")\n",
    "fig.show()"
   ]
  },
  {
   "cell_type": "markdown",
   "metadata": {
    "papermill": {
     "duration": 0.39864,
     "end_time": "2020-08-14T19:31:07.556537",
     "exception": false,
     "start_time": "2020-08-14T19:31:07.157897",
     "status": "completed"
    },
    "tags": []
   },
   "source": [
    "**------------------ Your graph will appear above this line if no error occured ------------------**\n",
    "\n",
    "**------------------------------------- Reference graph below -------------------------------------**\n",
    "![Beer Cooling Prediction](https://academichub.blob.core.windows.net/images/nb2_solution_graph_v4.png)\n",
    "\n",
    "**QUESTIONS:**    \n",
    "\n",
    "1. If the cooling data had outliers, how would you remove them?\n",
    "2. How would having an erratic cooling profile affect the prediction curve? \n",
    "3. Can you use the cooling prediction curve to determine whether a given batch is out-of-spec? How would you do this?\n",
    "4. Do you think you can use the cooling rate to predict the beer brand?\n"
   ]
  },
  {
   "cell_type": "markdown",
   "metadata": {
    "papermill": {
     "duration": 0.674888,
     "end_time": "2020-08-14T19:31:08.637802",
     "exception": false,
     "start_time": "2020-08-14T19:31:07.962914",
     "status": "completed"
    },
    "tags": []
   },
   "source": []
  }
 ],
 "metadata": {
  "kernelspec": {
   "display_name": "Python 3",
   "language": "python",
   "name": "python3"
  },
  "language_info": {
   "codemirror_mode": {
    "name": "ipython",
    "version": 3
   },
   "file_extension": ".py",
   "mimetype": "text/x-python",
   "name": "python",
   "nbconvert_exporter": "python",
   "pygments_lexer": "ipython3",
   "version": "3.7.6"
  },
  "papermill": {
   "duration": 31.220503,
   "end_time": "2020-08-14T19:31:09.822853",
   "environment_variables": {},
   "exception": null,
   "input_path": "../Learning_Modules/NB2_SOLUTION_Cooling_Prediction.ipynb",
   "output_path": "./Release/NB2_SOLUTION_Cooling_Prediction.ipynb",
   "parameters": {},
   "start_time": "2020-08-14T19:30:38.602350",
   "version": "2.1.2"
  },
  "toc": {
   "base_numbering": 1,
   "nav_menu": {},
   "number_sections": false,
   "sideBar": true,
   "skip_h1_title": false,
   "title_cell": "Table of Contents",
   "title_sidebar": "Contents",
   "toc_cell": true,
   "toc_position": {},
   "toc_section_display": true,
   "toc_window_display": true
  }
 },
 "nbformat": 4,
 "nbformat_minor": 4
}
