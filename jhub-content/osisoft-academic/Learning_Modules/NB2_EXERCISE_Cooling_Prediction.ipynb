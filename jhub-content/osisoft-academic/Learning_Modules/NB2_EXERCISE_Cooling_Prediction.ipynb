{
 "cells": [
  {
   "cell_type": "markdown",
   "metadata": {
    "toc": true
   },
   "source": [
    "###### <h1>Table of Contents<span class=\"tocSkip\"></span></h1>\n",
    "<div class=\"toc\"><ul class=\"toc-item\"><li><span><a href=\"#Beer-Cooling-Prediction\" data-toc-modified-id=\"Beer-Cooling-Prediction-1\">Beer Cooling Prediction</a></span><ul class=\"toc-item\"><li><span><a href=\"#The-Goal\" data-toc-modified-id=\"The-Goal-1.1\">The Goal</a></span><ul class=\"toc-item\"><li><span><a href=\"#Issues-to-consider\" data-toc-modified-id=\"Issues-to-consider-1.1.1\">Issues to consider</a></span></li></ul></li><li><span><a href=\"#This-Notebook\" data-toc-modified-id=\"This-Notebook-1.2\">This Notebook</a></span><ul class=\"toc-item\"><li><span><a href=\"#Part-1:-Writing-the-code\" data-toc-modified-id=\"Part-1:-Writing-the-code-1.2.1\">Part 1: Writing the code</a></span></li><li><span><a href=\"#Part-2:-Main-Section\" data-toc-modified-id=\"Part-2:-Main-Section-1.2.2\">Part 2: Main Section</a></span></li></ul></li><li><span><a href=\"#Your-Task\" data-toc-modified-id=\"Your-Task-1.3\">Your Task</a></span></li></ul></li><li><span><a href=\"#Part-1:-Writing-the-code\" data-toc-modified-id=\"Part-1:-Writing-the-code-2\">Part 1: Writing the code</a></span><ul class=\"toc-item\"><li><span><a href=\"#1a)-Define-compute_cooling_predictions\" data-toc-modified-id=\"1a)-Define-compute_cooling_predictions-2.1\">1a) Define <code>compute_cooling_predictions</code></a></span></li><li><span><a href=\"#1b)-Define-auxiliary-variables\" data-toc-modified-id=\"1b)-Define-auxiliary-variables-2.2\">1b) Define auxiliary variables</a></span></li><li><span><a href=\"#1c)-Clean-data\" data-toc-modified-id=\"1c)-Clean-data-2.3\">1c) Clean data</a></span></li><li><span><a href=\"#1d)-Get-the-list-of-rows-when-fermentation-starts\" data-toc-modified-id=\"1d)-Get-the-list-of-rows-when-fermentation-starts-2.4\">1d) Get the list of rows when fermentation starts</a></span></li><li><span><a href=\"#1e)-Extract-all-rows-related-to-cooling-phase\" data-toc-modified-id=\"1e)-Extract-all-rows-related-to-cooling-phase-2.5\">1e) Extract all rows related to cooling phase</a></span></li><li><span><a href=\"#1f)-Define-temperature-equation\" data-toc-modified-id=\"1f)-Define-temperature-equation-2.6\">1f) Define temperature equation</a></span></li></ul></li><li><span><a href=\"#Part-2:-Main-Section!\" data-toc-modified-id=\"Part-2:-Main-Section!-3\">Part 2: Main Section!</a></span><ul class=\"toc-item\"><li><span><a href=\"#2a)-Set-input-parameters\" data-toc-modified-id=\"2a)-Set-input-parameters-3.1\">2a) Set input parameters</a></span></li><li><span><a href=\"#2b)-Initialize-Hub/OCS-client\" data-toc-modified-id=\"2b)-Initialize-Hub/OCS-client-3.2\">2b) Initialize Hub/OCS client</a></span></li><li><span><a href=\"#2c)-Download-data-from-OCS-with-Data-Views\" data-toc-modified-id=\"2c)-Download-data-from-OCS-with-Data-Views-3.3\">2c) Download data from OCS with Data Views</a></span><ul class=\"toc-item\"><li><span><a href=\"#Find-predefined-Data-View-for-Fermenter\" data-toc-modified-id=\"Find-predefined-Data-View-for-Fermenter-3.3.1\">Find predefined Data View for Fermenter</a></span></li><li><span><a href=\"#Data-View-Structure\" data-toc-modified-id=\"Data-View-Structure-3.3.2\">Data View Structure</a></span></li><li><span><a href=\"#Get-Interpolated-Data-from-Data-View\" data-toc-modified-id=\"Get-Interpolated-Data-from-Data-View-3.3.3\">Get Interpolated Data from Data View</a></span></li></ul></li><li><span><a href=\"#2d)-Execute-compute_cooling_predictions\" data-toc-modified-id=\"2d)-Execute-compute_cooling_predictions-3.4\">2d) Execute <code>compute_cooling_predictions</code></a></span></li><li><span><a href=\"#2e)-Plot-prediction-curve-along-with-actual-data\" data-toc-modified-id=\"2e)-Plot-prediction-curve-along-with-actual-data-3.5\">2e) Plot prediction curve along with actual data</a></span></li></ul></li></ul></div>"
   ]
  },
  {
   "cell_type": "markdown",
   "metadata": {
    "toc-hr-collapsed": false
   },
   "source": []
  },
  {
   "cell_type": "markdown",
   "metadata": {
    "toc-hr-collapsed": false
   },
   "source": []
  },
  {
   "cell_type": "code",
   "execution_count": 1,
   "metadata": {
    "toc-hr-collapsed": false
   },
   "outputs": [],
   "source": []
  },
  {
   "cell_type": "markdown",
   "metadata": {},
   "source": [
    "---\n",
    "# Beer Cooling Prediction\n",
    "---\n",
    "\n",
    "This learning module, Beer Cooling Prediction, focuses on the cooling phase wherein the temperature of the solution drops from 70°F to 30°F.  The data was compiled based on the temperature measurements at the top, the middle, and the bottom of the fermenter:\n",
    "\n",
    "![Beer Cooling](https://academichub.blob.core.windows.net/images/NB2_Problem_Statement.png)\n",
    "\n",
    "Attaining a consistent, repeatable cooling profile is critical to the brewing process because the cooling behavior affects the flavor profile of the beers; furthermore, non-ideal cooling behavior can lead to significant process delays. In fact, Deschutes Brewery previously encountered non-ideal cooling behaviors where the temperature spiked when the yeast was harvested. By visualizing the data, Deschutes Brewery was able to identify the source of the issue, correct it, and save 60% of operation time compared to the worst non-ideal cases.  If interested, a more detailed story about the root cause and their corrective action is found in the presentation: [What’s Really Going on with your Beer's Fermentation?](https://www.osisoft.com/Presentations/What-s-Really-Going-on-with-your-Beer-s-Fermentation-/)\n",
    "\n",
    "In this notebook, we will build a predictive model for the cooling temperature profile to predict when the cooling stage should end for some given brand of beer. \n",
    "\n",
    "First, make sure the latest library version for OCS is installed:"
   ]
  },
  {
   "cell_type": "code",
   "execution_count": 2,
   "metadata": {},
   "outputs": [],
   "source": [
    "try:\n",
    "    import ocs_academic_hub\n",
    "except ImportError:\n",
    "    !pip install -i https://test.pypi.org/simple/ --extra-index-url https://pypi.org/simple ocs-academic-hub==0.57.0\n",
    "    import ocs_academic_hub"
   ]
  },
  {
   "cell_type": "markdown",
   "metadata": {},
   "source": [
    "Then make sure to import all the required libraries:"
   ]
  },
  {
   "cell_type": "code",
   "execution_count": 3,
   "metadata": {},
   "outputs": [],
   "source": [
    "# For interaction with OCS\n",
    "from ocs_academic_hub import HubClient, timer\n",
    "\n",
    "import configparser\n",
    "import datetime as dt\n",
    "from dateutil import parser\n",
    "from enum import Enum\n",
    "\n",
    "import plotly.graph_objs as go\n",
    "import numpy\n",
    "import pandas as pd\n",
    "from scipy.optimize import curve_fit\n",
    "\n",
    "pd.set_option(\"display.expand_frame_repr\", False)\n",
    "pd.options.mode.chained_assignment = None"
   ]
  },
  {
   "cell_type": "markdown",
   "metadata": {},
   "source": [
    "---\n",
    "## The Goal\n",
    "\n",
    "Using the same dataset as in the ADF Prediction notebook, we want to identify the cooling stages and compute the elapsed times to align the data for non-linear regression and comparison.\n",
    "\n",
    "All possible beer brands are:\n",
    "s\n",
    "* Realtime Hops\n",
    "* 5450\n",
    "* Alistair\n",
    "* Kerberos\n",
    "* Red Wonder \n",
    "* Grey Horse \n",
    "\n",
    "We'll start with the following input parameters: \n",
    "\n",
    "* Brand: Realtime Hops\n",
    "* Temperature sensor: Middle\n",
    "* Training days: 20 days starting at 2016-02-07T00:00\n",
    "* Interval: 2 minutes (00:02:00)\n",
    "\n",
    "### Issues to consider\n",
    "\n",
    "* Real process data is dirty (sensors can fail)\n",
    "* The stages may sometimes have been mislabelled (some examples are \"Cooling\" sometimes mislabelled as \"Diacetyl Rest\" or \"Maturation\" sometimes mislabelled as \"Cooling\")\n",
    "* There are different cooling start temperatures for each batch and even for each zone\n",
    "* There can be various volumes of beer in the fermentors\n",
    "* Data can have abrupt, aphysical jumps in temperature"
   ]
  },
  {
   "cell_type": "markdown",
   "metadata": {},
   "source": [
    "---\n",
    "## This Notebook\n",
    "\n",
    "<a id=’section_1’></a>\n",
    "\n",
    "### Part 1: Writing the code \n",
    "Create functions for computing the cooling profile for a vessel zone. The main function is `compute_cooling_prediction`, which does the following:    \n",
    "    \n",
    "* Clean the data by throwing out irrelevant ([1a](#section_1a)) and bad ([1c](#section_1c)) entries\n",
    "* Identify when a fermentation event starts ([1d](#section_1d))  and then compute the time elapsed since the start of fermentation ([1e](#section_1e))\n",
    "* Identify the cooling stages ([1e](#section_1e)) and identify the elapsed times since the start of cooling ([1e](#section_1e))\n",
    "* Fit the cooling data ([1a](#section_1a)) to a heat transfer equation ([1f](#section_1f)) \n",
    "\n",
    "### Part 2: Main Section\n",
    "This section actually runs the function `compute_cooling_predictions` created in Part 1 and plots it.\n",
    "* Define parameters of interest, like the brand to analyze, the time granularity, and the time period over which to do the analysis ([2a](#section_2a))\n",
    "* Use OSIsoft Cloud Services (OCS) to obtain process data from Deschutes ([2b](#section_2b) and [2c](#section_2c))\n",
    "* Execute the `compute_cooling_prediction` function created in Part 1 ([2d](#section_2d))\n",
    "* Plot the cooling prediction curve using Plotly ([2e](#section_2e))"
   ]
  },
  {
   "cell_type": "markdown",
   "metadata": {},
   "source": [
    "---\n",
    "## Your Task \n",
    "Function `compute_cooling_predictions` and its utility functions in Part 1 contain `TODO` items in comments. Complete each of them to get a working notebook. If your code is correct, you should see the following graph appear at the bottom of this notebook (at the end of Part 2):\n",
    "\n",
    "![Beer Cooling Prediction](https://academicpi.blob.core.windows.net/images/NB2_Cooling_Prediction.png)"
   ]
  },
  {
   "cell_type": "markdown",
   "metadata": {},
   "source": [
    "---\n",
    "# Part 1: Writing the code\n",
    "---\n",
    "<a id=’section_1’></a>\n",
    "\n",
    "We want to create a main function, `compute_cooling_predictions`, which will have the following specifications:\n",
    "\n",
    "**Input parameters:**\n",
    "\n",
    "* Brand of beer\n",
    "* Which set of temperature sensor to use: bottom, middle, top\n",
    "* Training days: how many days (starting at 2016-02-07) to consider for cooling curve regression\n",
    "\n",
    "**Output:** \n",
    "\n",
    "* Data used for regression\n",
    "* Data for regression curve \n",
    "* Number of fermentation found (must be at least 1) \n",
    "\n",
    "**Required utility functions (the number are referred to in the function body):**\n",
    "\n",
    "|  Part | Function called | Description |  \n",
    "|-------|-----------------|:-------------:|\n",
    "| [1c](#section_1c) | `brand_df_cleanup` | clean data: remove bad values, keep only right stages| \n",
    "| [1d](#section_1d) | `fermentation_starts` | identify all fermentation starts | \n",
    "| [1e](#section_1e) | `cooling_data_extraction` | build a dataframe with all cooling data \n",
    "| [1f](#section_1f) | `temperature_profile` | fitting equation for cooling prediction |"
   ]
  },
  {
   "cell_type": "markdown",
   "metadata": {},
   "source": [
    "## 1a) Define `compute_cooling_predictions`\n",
    "<a id=’section_1a’></a>\n",
    "This is the function that will be executed in order to fit the data to some temperature equation."
   ]
  },
  {
   "cell_type": "code",
   "execution_count": 4,
   "metadata": {},
   "outputs": [],
   "source": [
    "def compute_cooling_predictions(\n",
    "    all_brands_df, brand, temp_sensors, training_days, interval\n",
    "):\n",
    "    \"\"\"\n",
    "    Input parameters:\n",
    "    * brand to consider\n",
    "    * temperature sensor position to use for computation\n",
    "    * number of days to compute prediction parameters\n",
    "    \"\"\"\n",
    "\n",
    "    # vessel zone where cooling profile will be predicted\n",
    "    use_temp_position = {\n",
    "        Pos.bottom: temp_sensors[\"bottom\"],\n",
    "        Pos.middle: temp_sensors[\"middle\"],\n",
    "        Pos.top: temp_sensors[\"top\"],\n",
    "    }\n",
    "\n",
    "    # TODO: write filter expression for all_brands_df, return result in brand_df\n",
    "    # =========== STUDENT BEGIN ==========\n",
    "    brand_df = all_brands_df[@@@ Your code here @@@]\n",
    "    # =========== STUDENT END ==========\n",
    "\n",
    "    # TODO: complete code block within function brand_df_cleanup\n",
    "    brand_status_df = brand_df_cleanup(brand_df)\n",
    "\n",
    "    # TODO: complete code of function fermentation_starts\n",
    "    fermentation_df = fermentation_starts(brand_status_df)\n",
    "\n",
    "    # if no fermentation event exists, analysis can't be continued\n",
    "    if len(fermentation_df) == 0:\n",
    "        raise Exception(f\"Error! No fermentation data for brand: {brand}\")\n",
    "    else:\n",
    "        print(f\"Number of fermentation for brand {brand}: {len(fermentation_df)}\")\n",
    "\n",
    "    # TODO: complete code of function cooling_data_extraction\n",
    "    cooling_data = cooling_data_extraction(\n",
    "        fermentation_df, brand_status_df, use_temp_position\n",
    "    )\n",
    "\n",
    "    # Verify that it was possible to extract the data for a complete cooling phase\n",
    "    if len(cooling_data) == 0:\n",
    "        raise Exception(f\"Error! no cooling data for brand: {brand}\")\n",
    "\n",
    "    ############### CURVE FIT REGRESSION BEGIN - DO NOT CHANGE #############\n",
    "    # Get all cooling data in a single dataframe\n",
    "    cool_df = pd.concat(cooling_data)\n",
    "\n",
    "    # sort the temperatures in a descending fashion\n",
    "    cool_df = cool_df.sort_values(by=[\"Temperature\"], ascending=False)\n",
    "\n",
    "    # get the y value for the x, this will be used in curve fitting\n",
    "    cool_df[\"temp_y\"] = cool_df[\"Temperature\"].shift(-1)\n",
    "\n",
    "    # drop the last row\n",
    "    cool_df = cool_df[:-1]\n",
    "\n",
    "    # Select first label which has cooling data\n",
    "    cool_df_training = pd.DataFrame()\n",
    "    lbl = 0\n",
    "\n",
    "    while cool_df_training.empty:\n",
    "        cool_df_training = cool_df[cool_df[\"batch\"] == lbl]\n",
    "        lbl += 1\n",
    "\n",
    "    print(cool_df_training[\"Volume\"].unique())\n",
    "\n",
    "    # training temperature feature\n",
    "    x1_train = cool_df_training[\"Temperature\"].values\n",
    "\n",
    "    # training Volume feature\n",
    "    x2_train = cool_df_training[\"Volume\"].values.astype(float)\n",
    "\n",
    "    # [temperature, volume]\n",
    "    x = [x1_train, x2_train]\n",
    "\n",
    "    # Training of non-linear least squares model\n",
    "    # Nonlinear curve-fitting pass a tuple in curve fitting\n",
    "    popt, pcov = curve_fit(temperature_profile, x, cool_df_training[\"temp_y\"].values)\n",
    "\n",
    "    # get the coefficients alpha and beta in the model\n",
    "    a = popt[0]\n",
    "    b = popt[1]\n",
    "\n",
    "    # Get the initial point of all temperature curves\n",
    "    y_first = [x1_train[0]]\n",
    "\n",
    "    # Compute the prediction for each individual start temperature\n",
    "    for y_predicted in y_first:\n",
    "        y_pred = [y_predicted]\n",
    "        cool_df_training = cool_df_training.sort_values(by=[\"tsc\"])\n",
    "\n",
    "        for i in range(1, len(x2_train)):\n",
    "            y_predicted = y_predicted * (1. + a / x2_train[i]) - (a * b / x2_train[i])\n",
    "            y_pred.append(y_predicted)\n",
    "\n",
    "    ############### CURVE FIT REGRESSION END - DO NOT CHANGE #############\n",
    "\n",
    "    return (\n",
    "        cool_df,\n",
    "        y_pred,\n",
    "        cool_df_training,\n",
    "        y_first[0],\n",
    "        len(fermentation_df),\n",
    "        len(cooling_data),\n",
    "    )"
   ]
  },
  {
   "cell_type": "markdown",
   "metadata": {},
   "source": [
    "## 1b) Define auxiliary variables \n",
    "<a id=’section_1b’></a>\n",
    "For avoiding long strings and making the code more readable"
   ]
  },
  {
   "cell_type": "code",
   "execution_count": 5,
   "metadata": {},
   "outputs": [],
   "source": [
    "# TIC PV column names. Note: PV == \"Process Value\"\n",
    "TIC_PV_COLUMNS = [\"Bottom TIC PV\", \"Middle TIC PV\", \"Top TIC PV\"]\n",
    "\n",
    "# TIC OUT column names. Note: TIC == \"Temperature Indicator Controller\"\n",
    "TIC_OUT_COLUMNS = [\"Bottom TIC OUT\", \"Middle TIC OUT\", \"Top TIC OUT\"]\n",
    "\n",
    "# brewing phases of interest\n",
    "FERMENTATION_PHASE = \"Fermentation\"\n",
    "IMPORTANT_BREWING_PHASES = [\"Fermentation\", \"Free Rise\", \"Diacetyl Rest\", \"Cooling\"]\n",
    "\n",
    "# Sensor positions\n",
    "class Pos(Enum):\n",
    "    bottom = 1\n",
    "    middle = 2\n",
    "    top = 3\n",
    "\n",
    "\n",
    "# Dictionary of column names indexed by position\n",
    "process_value = {\n",
    "    Pos.bottom: \"Bottom TIC PV\",\n",
    "    Pos.middle: \"Middle TIC PV\",\n",
    "    Pos.top: \"Top TIC PV\",\n",
    "}"
   ]
  },
  {
   "cell_type": "markdown",
   "metadata": {},
   "source": [
    "## 1c) Clean data \n",
    "<a id=’section_1c’></a>\n",
    "The function `brand_df_cleanup`, removes all rows with invalid/irrelevant entries for any of the attributes of interest. To predict the cooling profile for a given brand, one must need the following attributes: Brand, Status, temperature (top, middle, and bottom zones), and Volume. One must also ensure that the entries for the temperatures have the right types.\n",
    "\n",
    "Complete each `TODO` section in the function `brand_df_cleanup`."
   ]
  },
  {
   "cell_type": "code",
   "execution_count": 6,
   "metadata": {},
   "outputs": [],
   "source": [
    "@timer\n",
    "def brand_df_cleanup(brand_df):\n",
    "\n",
    "    # TODO: Remove all rows with missing data (which indicates a sensor collection problem)\n",
    "    # TIP: Check Notebook #1 ADF Prediction\n",
    "    # =========== STUDENT BEGIN ==========\n",
    "    brand_df = brand_df.@@@ Your code here @@@\n",
    "    # =========== STUDENT END ==========\n",
    "\n",
    "    # Keep only fermentation or post-fermentation stages\n",
    "    brand_status_df = brand_df[brand_df[\"Status\"].isin(IMPORTANT_BREWING_PHASES)]\n",
    "\n",
    "    return brand_status_df"
   ]
  },
  {
   "cell_type": "markdown",
   "metadata": {},
   "source": [
    "## 1d) Get the list of rows when fermentation starts \n",
    "<a id=’section_1d’></a>\n",
    "One can identify the fermentation starts by identifying the Status for the current row is \"Fermentation\" and the Status for the previous row is not \"Fermentation\" (use variable `FERMENTATION_PHASE`). \n",
    " \n",
    "The syntax to access the status of the previous row is:\n",
    "\n",
    "    brand_df[\"Status\"].shift(1)\n",
    "    \n",
    "Moreover it is possible to combine conditions to select dataframe rows with the syntax:\n",
    "\n",
    "    (condition1) & (condition2)"
   ]
  },
  {
   "cell_type": "code",
   "execution_count": 7,
   "metadata": {},
   "outputs": [],
   "source": [
    "# Return the list of rows when fermentation start for a brand\n",
    "@timer\n",
    "def fermentation_starts(brand_df):\n",
    "    # =========== STUDENT BEGIN ==========\n",
    "    df = brand_df[\n",
    "        @@@ Your code here @@@@\n",
    "        & @@@ Your code here @@@\n",
    "    ]\n",
    "    # =========== STUDENT END ==========\n",
    "    fermentation_starts = [row for _, row in df.iterrows()]\n",
    "    return fermentation_starts"
   ]
  },
  {
   "cell_type": "markdown",
   "metadata": {},
   "source": [
    "## 1e) Extract all rows related to cooling phase\n",
    "<a id=’section_1e’></a>\n",
    "The function for extracting all frames in the cooling phase is `cooling_data_extraction`, and it calls on other functions `fermentation_times` and `get_cooling_frames`.\n",
    "\n",
    "Overall, `cooling_data_extraction` will extract the temperature information for the cooling stage in a batch in a vessel zone in a fermentor."
   ]
  },
  {
   "cell_type": "code",
   "execution_count": 8,
   "metadata": {},
   "outputs": [],
   "source": [
    "@timer\n",
    "def cooling_data_extraction(fermentation_df, brand_status_df, use_temp_position):\n",
    "    \"\"\"\n",
    "    DESCRIPTION: builds dataframe with all cooling data\n",
    "    INPUT:\n",
    "        fermentation_df - data frame containing fermentation starts for target brand\n",
    "        brand_status_df - data frame containing cleaned up data for target brand\n",
    "        use_temp_position - we want to compute the cooling profile for this vessel zone.\n",
    "    OUTPUT:\n",
    "        cooling_data - dataframe containing data for the cooling stage\n",
    "    \"\"\"\n",
    "\n",
    "    # Provides the corrected time offset post fermentation\n",
    "    brand_status_df = fermentation_times(brand_status_df, fermentation_df)\n",
    "\n",
    "    # columns for cooling intensity should have numerical entries\n",
    "    for tic_out in TIC_OUT_COLUMNS:\n",
    "        brand_status_df[tic_out] = pd.to_numeric(\n",
    "            brand_status_df[tic_out], errors=\"coerce\"\n",
    "        )\n",
    "\n",
    "    # condition for it to be in cooling phase\n",
    "    # TODO: the condition is that 'Top TIC OUT', 'Middle TIC OUT' and 'Bottom TIC OUT' are above 99.99\n",
    "    # =========== STUDENT BEGIN ==========\n",
    "    cool_stage = brand_status_df[\n",
    "        (brand_status_df[\"Top TIC OUT\"] > 99.99)\n",
    "        & (@@@ Your code here  @@@)\n",
    "        & (@@@ Your code here @@@)\n",
    "    ]\n",
    "    # =========== STUDENT END ==========\n",
    "\n",
    "    # get the first cooling step for each fermentation stage\n",
    "    cooling_start_frame = cool_stage.groupby(\"batch\").first().reset_index()\n",
    "\n",
    "    # Collect data only for the selected temperature position\n",
    "    cooling_data = []\n",
    "    for position in use_temp_position:\n",
    "        if use_temp_position[position]:\n",
    "            cool_frames = get_cooling_frames(cool_stage, cooling_start_frame, position)\n",
    "            cooling_data.append(cool_frames)\n",
    "\n",
    "    return cooling_data"
   ]
  },
  {
   "cell_type": "markdown",
   "metadata": {},
   "source": [
    "The cell below contains the utility functions for `cooling_data_extraction`.\n",
    "\n",
    "In `fermentation_times`, two new columns will be added to the dataframe, \"batch\" and \"tsf\". Each row for a full fermentation process is given a batch identifier (integer value). The new column \"tsf\" contains the time elapsed since the start of fermentation for each batch.\n",
    "\n",
    "`get_cooling_frames` computes the time elapsed since the start of cooling for each batch, and the stores it in a column called \"tsc\"."
   ]
  },
  {
   "cell_type": "code",
   "execution_count": 9,
   "metadata": {},
   "outputs": [],
   "source": [
    "@timer\n",
    "def get_cooling_frames(\n",
    "    cool_stage, cooling_start_frame, position, start_time=0, end_time=3.5\n",
    "):\n",
    "    \"\"\"\n",
    "    DESCRIPTION: computes the time elapsed since the start of cooling for each batch, \n",
    "        and then stores it in a column called \"tsc\"\n",
    "    INPUTS:\n",
    "        cool_stage - all rows in brand_df where the cooling intenity for each vessel zone is at least 99.9%\n",
    "        cooling_start_frame - dataframe consisting purely of cooling starts\n",
    "        position - location of the vessel zone we want the temperature profile for\n",
    "        start_time - no negative time; necessry because some entries are mislabelled\n",
    "        end_time - cooling process does not exceed 3.5 days\n",
    "    OUTPUTS:\n",
    "        cooling_stage - dataframe containing cooling profile\n",
    "    \"\"\"\n",
    "\n",
    "    # don't continue if cooling stage does not exist\n",
    "    if len(cooling_start_frame) <= 0:\n",
    "        raise Exception(\"!!! Sorry no cooling stage found!\")\n",
    "\n",
    "    cooling_column = \"Time since cooling\"\n",
    "    cool_stage.loc[:, cooling_column] = -1\n",
    "    cooling_stage = pd.DataFrame()\n",
    "\n",
    "    # get the process value\n",
    "    tic_pv = process_value[position]\n",
    "\n",
    "    # get the corresponding cooling profile for every cooling start\n",
    "    for __, row in cooling_start_frame.iterrows():\n",
    "\n",
    "        # Each unique label is associated with a fermentation stage for a brand\n",
    "        mask = cool_stage[\"batch\"] == row[\"batch\"]\n",
    "\n",
    "        # get the unique start of cooling to each label\n",
    "        cool_start_time = row[\"tsf\"]\n",
    "\n",
    "        # Get those rows with that same label as unique label.\n",
    "        cool_stage_valid = cool_stage[mask]\n",
    "\n",
    "        # subtract the start of cooling from each individual cooling step\n",
    "        cool_stage.loc[mask, cooling_column] = cool_stage_valid[\"tsf\"] - cool_start_time\n",
    "\n",
    "        # make sure these are post fermentation stages\n",
    "        boolean = (cool_stage[cooling_column] >= start_time) & (\n",
    "            cool_stage[cooling_column] < end_time\n",
    "        )\n",
    "        cool_stage_current = cool_stage[boolean]\n",
    "\n",
    "        # take only process value, cooling column, brand, label, and volume columns\n",
    "        cool_stage_current = cool_stage_current[\n",
    "            [tic_pv, cooling_column, \"Brand\", \"batch\", \"Volume\"]\n",
    "        ]\n",
    "\n",
    "        # get only the max of the post fermentation stages\n",
    "        cool_stage_current[tic_pv] = cool_stage_current.groupby([cooling_column])[\n",
    "            tic_pv\n",
    "        ].transform(max)\n",
    "\n",
    "        # rename tic_piv --> \"temperature\"; cooling_column-->\"tsc\"\n",
    "        cooling_stage = cool_stage_current.rename(\n",
    "            columns={tic_pv: \"Temperature\", cooling_column: \"tsc\"}\n",
    "        )\n",
    "\n",
    "    return cooling_stage\n",
    "\n",
    "\n",
    "@timer\n",
    "def fermentation_times(brand_frame, fermentation_start_frames):\n",
    "    \"\"\"\n",
    "    DESCRIPTION: Adds two new columns to brand_frame, \"batch\" and \"tsf\". Each row for a \n",
    "        full fermentation process is given a batch identifier (integer value), and this is\n",
    "        stored in the column \"batch\". The new column \"tsf\" contains the time elapsed since\n",
    "        the start of fermentation for each identified  batch.\n",
    "    INPUT:\n",
    "        brand_frame - data frame containing all the frames in the fermentation stages for a given brand\n",
    "        fermentation_frames - data frame exclusively containing frames of fermentation starts\n",
    "    OUTPUT:\n",
    "        brand_frame - columns \"batch\" and \"tsf\" are added to the input brand_frame\n",
    "    \"\"\"\n",
    "    # create new df columns \"tsf\" and \"label\". initialize them with integer values\n",
    "    brand_frame = brand_frame.assign(**{\"tsf\": 1000000000, \"batch\": -1})\n",
    "\n",
    "    # calculate the time elapsed for each fermentation step belonging to a new fermentation stage\n",
    "    for count, fermentation_start_frame in enumerate(fermentation_start_frames):\n",
    "\n",
    "        # get the timestamp for each start of fermentation\n",
    "        fermentation_start_time = pd.Timestamp(fermentation_start_frame[\"Timestamp\"])\n",
    "\n",
    "        # get the timestamp for all fermentation events\n",
    "        fermentation_times = brand_frame[\"Timestamp\"].apply(\n",
    "            lambda t: pd.Timestamp(t)\n",
    "        )\n",
    "\n",
    "        # get booleans for new fermentation steps\n",
    "        # let  new fermentation step be any step which exceeds the fermentation start time\n",
    "        new_fermentation_steps = fermentation_times >= fermentation_start_time\n",
    "\n",
    "        # give each new fermentation step a new integer label\n",
    "        brand_frame.loc[new_fermentation_steps, \"batch\"] = count\n",
    "\n",
    "        # find the time elapsed since the start of fermentation, in units of float days\n",
    "        elapsed_time = brand_frame.loc[new_fermentation_steps, \"Timestamp\"].apply(\n",
    "            lambda t: (pd.Timestamp(t) - fermentation_start_time).total_seconds()\n",
    "            / 86400.0\n",
    "        )\n",
    "\n",
    "        # store elapsed time into dataframe\n",
    "        brand_frame.loc[new_fermentation_steps, \"tsf\"] = elapsed_time\n",
    "\n",
    "    # filter out bad batches\n",
    "    brand_frame = brand_frame[\n",
    "        (brand_frame[\"tsf\"] <= 100000) & (brand_frame[\"batch\"] >= 0)\n",
    "    ]\n",
    "\n",
    "    return brand_frame"
   ]
  },
  {
   "cell_type": "markdown",
   "metadata": {},
   "source": [
    "## 1f) Define temperature equation\n",
    "<a id=’section_1f’></a>\n",
    "\n",
    "![Cooling equation](https://academicpi.blob.core.windows.net/images/NB2_Heat_transfer_eqn.png)\n",
    "\n",
    "The cell below implements this equation for predicting the cooling curve. \n",
    "\n",
    "The [scipy.curve_fit (click for reference)](https://docs.scipy.org/doc/scipy/reference/generated/scipy.optimize.curve_fit.html) function is used find the values for the parameters $\\alpha$ and $\\beta$ (`alpha` and `beta`) using non-linear least square fit. "
   ]
  },
  {
   "cell_type": "markdown",
   "metadata": {},
   "source": [
    "**IMPORTANT: To implement the function for $T_{t+1}$ (variable `T_t1`) in the exercise below, you'll need (click for reference):**\n",
    "\n",
    "* **[numpy.multiply](https://docs.scipy.org/doc/numpy/reference/generated/numpy.multiply.html?highlight=multiply#numpy.multiply)**\n",
    "* **[numpy.reciprocal](https://docs.scipy.org/doc/numpy/reference/generated/numpy.reciprocal.html?highlight=reciprocal#numpy.reciprocal)**"
   ]
  },
  {
   "cell_type": "code",
   "execution_count": 20,
   "metadata": {},
   "outputs": [],
   "source": [
    "def temperature_profile(x, alpha, beta):\n",
    "    # Unpack x values\n",
    "    T_t = x[0]  # this is a numpy vector\n",
    "    Vol = x[1]  # another numpy vector\n",
    "\n",
    "    # TODO: Implement the function defined in red above\n",
    "    # TIP: check \"IMPORTANT\" note above\n",
    "    # =========== STUDENT BEGIN ==========\n",
    "    T_t_1 = @@@ Your code here @@@\n",
    "    # =========== STUDENT END ==========\n",
    "    return T_t1"
   ]
  },
  {
   "cell_type": "markdown",
   "metadata": {},
   "source": [
    "---\n",
    "# Part 2: Main Section! \n",
    "---\n",
    "<a id=’section_2’></a>\n",
    "Once all functions above are fully implemented and OCS has been initialized, below are the cells to:\n",
    "\n",
    "[2a](#section_2a) - Set the input parameters   \n",
    "[2b](#section_2b) - Initialize OCS   \n",
    "[2c](#section_2c) - Download data from OCS    \n",
    "[2d](#section_2d) - Call `compute_cooling_predictions`. This is the main analysis.   \n",
    "[2e](#section_2e) - Plot result data"
   ]
  },
  {
   "cell_type": "markdown",
   "metadata": {},
   "source": [
    "## 2a) Set input parameters\n",
    "<a id=’section_2a’></a>\n",
    "Specify what brand, fermentor, time period and fermentor zone we want the temperature profile of.\n",
    "\n",
    "---\n",
    "**KNOWN ISSUE: if more than one fermentation is covered by the time period defined by START_INDEX and TRAINING_DAYS, the cooling curve regression code returns a bad curve.**\n",
    "\n",
    "---\n"
   ]
  },
  {
   "cell_type": "code",
   "execution_count": 11,
   "metadata": {},
   "outputs": [],
   "source": [
    "# selected brand\n",
    "BRAND = \"Realtime Hops\"\n",
    "\n",
    "# Temperature sensor position to consider\n",
    "TEMP_SENSORS = {\"bottom\": False, \"middle\": True, \"top\": False}\n",
    "\n",
    "# time period over which to analyze data\n",
    "TRAINING_DAYS = 20\n",
    "\n",
    "# we want to pull this data starting from timestamp \"start_index\"\n",
    "START_INDEX = \"2016-02-07T00:00\"\n",
    "END_INDEX = (parser.parse(START_INDEX) + dt.timedelta(days=TRAINING_DAYS)).isoformat()\n",
    "\n",
    "# time granularity\n",
    "INTERVAL = \"00:01:00\"\n",
    "\n",
    "# specify asset (vessel 31)\n",
    "ASSET_ID = 31"
   ]
  },
  {
   "cell_type": "markdown",
   "metadata": {},
   "source": [
    "## 2b) Initialize Hub/OCS client\n",
    "<a id=’section_2b’></a>\n",
    "\n",
    "---\n",
    "**REQUIRED: a file `config.ini` should have been provided to you and put in the same directory as this notebook. Without this file executing the next cell will fail with `NoSectionError: No section: 'Access'` error message.**\n",
    "\n",
    "---\n",
    "\n",
    "Communication with OCS is done through a HubClient object. To get initialize one, we need to authenticate with the credentials in `config.ini`. The Deschutes dataset sits in a namespace called `fermenter_vessels`. "
   ]
  },
  {
   "cell_type": "code",
   "execution_count": 12,
   "metadata": {},
   "outputs": [],
   "source": [
    "config = configparser.ConfigParser()\n",
    "config.read(\"config.ini\")\n",
    "\n",
    "hub_client = HubClient(\n",
    "    config.get(\"Access\", \"ApiVersion\"),\n",
    "    config.get(\"Access\", \"Tenant\"),\n",
    "    config.get(\"Access\", \"Resource\"),\n",
    "    config.get(\"Credentials\", \"ClientId\"),\n",
    "    config.get(\"Credentials\", \"ClientSecret\"),\n",
    ")\n",
    "\n",
    "namespace_id = config.get(\"Configurations\", \"Namespace\")\n",
    "print (f\"namespace_id: '{namespace_id}'\")"
   ]
  },
  {
   "cell_type": "markdown",
   "metadata": {},
   "source": [
    "## 2c) Download data from OCS with Data Views\n",
    "<a id=’section_2c’></a>\n",
    "\n",
    "**Development tip (WARNING: executing dataview takes up to 30 secs)** \n",
    "\n",
    "Development of a notebook involves running code over and over, so you'll want to avoid long running steps when possible. This is why you can run the cell below once, with the resulting dataframe saved in variable `all_brands_df`. If you don't change any of its input parameters, `all_brands_df` is still valid and can be reused when you run the main function `compute_cooling_predictions` below.\n",
    "\n",
    "Also include a statistical description of `all_brands_df`."
   ]
  },
  {
   "cell_type": "markdown",
   "metadata": {},
   "source": [
    "### Find predefined Data View for Fermenter #31 "
   ]
  },
  {
   "cell_type": "code",
   "execution_count": 13,
   "metadata": {},
   "outputs": [],
   "source": [
    "# Filtered to get the one related to \"cooling\"\n",
    "# A list with a single element will be returned, so this element is extracted with `[0]`\n",
    "dataview_id = hub_client.fermenter_dataview_ids(namespace_id, \"cooling\", fv_id=ASSET_ID)[0]\n",
    "dataview_id"
   ]
  },
  {
   "cell_type": "markdown",
   "metadata": {},
   "source": [
    "### Data View Structure "
   ]
  },
  {
   "cell_type": "code",
   "execution_count": 14,
   "metadata": {},
   "outputs": [],
   "source": [
    "hub_client.dataview_definition(namespace_id, dataview_id)"
   ]
  },
  {
   "cell_type": "markdown",
   "metadata": {},
   "source": [
    "### Get Interpolated Data from Data View"
   ]
  },
  {
   "cell_type": "code",
   "execution_count": 15,
   "metadata": {},
   "outputs": [],
   "source": [
    "# pull data from OCS\n",
    "\n",
    "# TODO: request a Panda dataframe from OCS\n",
    "# =========== STUDENT BEGIN ==========\n",
    "all_brands_df = @@@ Your code here @@@\n",
    "# =========== STUDENT END ==========\n",
    "\n",
    "# statistical description of `all_brands_df`\n",
    "all_brands_df.describe(include=\"all\")"
   ]
  },
  {
   "cell_type": "code",
   "execution_count": 16,
   "metadata": {},
   "outputs": [],
   "source": [
    "# preview of dataframe\n",
    "all_brands_df.head()"
   ]
  },
  {
   "cell_type": "markdown",
   "metadata": {},
   "source": [
    "## 2d) Execute `compute_cooling_predictions` \n",
    "<a id=’section_2d’></a>\n",
    "Call `compute_cooling_predictions`."
   ]
  },
  {
   "cell_type": "code",
   "execution_count": 17,
   "metadata": {},
   "outputs": [],
   "source": [
    "cool_df, predictions, cool_df_training, T_start, N_fermentations, N_coolings = compute_cooling_predictions(\n",
    "    all_brands_df, BRAND, TEMP_SENSORS, TRAINING_DAYS, INTERVAL\n",
    ")"
   ]
  },
  {
   "cell_type": "markdown",
   "metadata": {},
   "source": [
    "## 2e) Plot prediction curve along with actual data \n",
    "<a id=’section_2e’></a>\n",
    "**Note:** You can zoom into the graph to see how the prediction and data actually differ."
   ]
  },
  {
   "cell_type": "code",
   "execution_count": 18,
   "metadata": {},
   "outputs": [],
   "source": [
    "# Plotly object for prediction curve\n",
    "prediction_trace = go.Scatter(\n",
    "    x=cool_df_training[\"tsc\"],\n",
    "    y=predictions,\n",
    "    mode=\"lines\",\n",
    "    name=f\"Prediction curve, start temp: {T_start:5.2f}F\",\n",
    "    marker=dict(color=\"blue\"),\n",
    ")\n",
    "\n",
    "# Plotly object for observed data\n",
    "data_trace = go.Scatter(\n",
    "    x=cool_df[\"tsc\"],\n",
    "    y=cool_df[\"Temperature\"],\n",
    "    mode=\"markers\",\n",
    "    name=\"Actual Data\",\n",
    "    opacity=0.4,\n",
    "    marker=dict(color=\"orange\"),\n",
    ")\n",
    "\n",
    "# Plotly layout\n",
    "layout = go.Layout(\n",
    "    xaxis=dict(title=\"Cooling time (days)\"),\n",
    "    yaxis=dict(title=\"Temperature (F)\"),\n",
    "    width=800,\n",
    "    title=f\"OCS/Dataview: Cooling of {BRAND} beer, {TRAINING_DAYS} days, {N_fermentations} fermentation(s),<br>\"\n",
    "    f\"interval={INTERVAL} {TEMP_SENSORS}\",\n",
    ")\n",
    "\n",
    "fig = go.Figure(data=[prediction_trace, data_trace], layout=layout)\n",
    "fig.show()"
   ]
  },
  {
   "cell_type": "markdown",
   "metadata": {},
   "source": [
    "**------------------ Your graph will appear above this line if no error occured ------------------**\n",
    "\n",
    "**------------------------------------- Reference graph below -------------------------------------**\n",
    "![Beer Cooling Prediction](https://academichub.blob.core.windows.net/images/nb2_solution_cooling_graph.png)\n",
    "\n",
    "**QUESTIONS:**    \n",
    "\n",
    "1. If the cooling data had outliers, how would you remove them?\n",
    "2. How would having an erratic cooling profile affect the prediction curve? \n",
    "3. Can you use the cooling prediction curve to determine whether a given batch is out-of-spec? How would you do this?\n",
    "4. Do you think you can use the cooling rate to predict the beer brand?\n"
   ]
  },
  {
   "cell_type": "code",
   "execution_count": null,
   "metadata": {},
   "outputs": [],
   "source": []
  }
 ],
 "metadata": {
  "kernelspec": {
   "display_name": "Python 3",
   "language": "python",
   "name": "python3"
  },
  "language_info": {
   "codemirror_mode": {
    "name": "ipython",
    "version": 3
   },
   "file_extension": ".py",
   "mimetype": "text/x-python",
   "name": "python",
   "nbconvert_exporter": "python",
   "pygments_lexer": "ipython3",
   "version": "3.7.3"
  },
  "toc": {
   "base_numbering": 1,
   "nav_menu": {},
   "number_sections": false,
   "sideBar": true,
   "skip_h1_title": false,
   "title_cell": "Table of Contents",
   "title_sidebar": "Contents",
   "toc_cell": true,
   "toc_position": {},
   "toc_section_display": true,
   "toc_window_display": true
  }
 },
 "nbformat": 4,
 "nbformat_minor": 4
}
