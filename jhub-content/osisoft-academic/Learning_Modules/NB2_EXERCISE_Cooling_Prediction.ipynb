{
 "cells": [
  {
   "cell_type": "markdown",
   "metadata": {
    "toc": true
   },
   "source": [
    "<h1>Table of Contents<span class=\"tocSkip\"></span></h1>\n",
    "<div class=\"toc\"><ul class=\"toc-item\"><li><span><a href=\"#Beer-Cooling-Prediction\" data-toc-modified-id=\"Beer-Cooling-Prediction-1\">Beer Cooling Prediction</a></span><ul class=\"toc-item\"><li><span><a href=\"#The-Goal\" data-toc-modified-id=\"The-Goal-1.1\">The Goal</a></span><ul class=\"toc-item\"><li><span><a href=\"#Issues-to-consider\" data-toc-modified-id=\"Issues-to-consider-1.1.1\">Issues to consider</a></span></li></ul></li><li><span><a href=\"#This-Notebook\" data-toc-modified-id=\"This-Notebook-1.2\">This Notebook</a></span><ul class=\"toc-item\"><li><span><a href=\"#Part-1:-Complete-the-missing-code\" data-toc-modified-id=\"Part-1:-Complete-the-missing-code-1.2.1\">Part 1: Complete the missing code</a></span></li><li><span><a href=\"#Part-2:-Main-Section\" data-toc-modified-id=\"Part-2:-Main-Section-1.2.2\">Part 2: Main Section</a></span></li></ul></li><li><span><a href=\"#Your-Task\" data-toc-modified-id=\"Your-Task-1.3\">Your Task</a></span></li></ul></li><li><span><a href=\"#Part-1:-Complete-the-code\" data-toc-modified-id=\"Part-1:-Complete-the-code-2\">Part 1: Complete the code</a></span><ul class=\"toc-item\"><li><span><a href=\"#1a.-Complete-prepare_cooling_data\" data-toc-modified-id=\"1a.-Complete-prepare_cooling_data-2.1\">1a. Complete <code>prepare_cooling_data</code></a></span></li><li><span><a href=\"#1b.-Clean-data\" data-toc-modified-id=\"1b.-Clean-data-2.2\">1b. Clean data</a></span></li><li><span><a href=\"#1c.-Extract-all-rows-related-to-cooling-phase,-compute-cooling-elapsed-time\" data-toc-modified-id=\"1c.-Extract-all-rows-related-to-cooling-phase,-compute-cooling-elapsed-time-2.3\">1c. Extract all rows related to cooling phase, compute cooling elapsed time</a></span></li><li><span><a href=\"#1d.-Define-temperature-equation\" data-toc-modified-id=\"1d.-Define-temperature-equation-2.4\">1d. Define temperature equation</a></span></li></ul></li><li><span><a href=\"#Non-linear-regression:-computation-and-prediction\" data-toc-modified-id=\"Non-linear-regression:-computation-and-prediction-3\">Non-linear regression: computation and prediction</a></span><ul class=\"toc-item\"><li><ul class=\"toc-item\"><li><span><a href=\"#NOTE:-there-is-no-code-to-complete-for-those-2-functions\" data-toc-modified-id=\"NOTE:-there-is-no-code-to-complete-for-those-2-functions-3.0.1\">NOTE: there is no code to complete for those 2 functions</a></span></li></ul></li></ul></li><li><span><a href=\"#Part-2:-Main-Section\" data-toc-modified-id=\"Part-2:-Main-Section-4\">Part 2: Main Section</a></span><ul class=\"toc-item\"><li><span><a href=\"#2a.-Set-input-parameters\" data-toc-modified-id=\"2a.-Set-input-parameters-4.1\">2a. Set input parameters</a></span></li><li><span><a href=\"#2b.-Initialize-Hub/OCS-client\" data-toc-modified-id=\"2b.-Initialize-Hub/OCS-client-4.2\">2b. Initialize Hub/OCS client</a></span></li><li><span><a href=\"#2c.-Download-data-from-OCS-with-Data-Views\" data-toc-modified-id=\"2c.-Download-data-from-OCS-with-Data-Views-4.3\">2c. Download data from OCS with Data Views</a></span><ul class=\"toc-item\"><li><span><a href=\"#Find-predefined-Data-View-for-Fermenter-#32-and-&quot;Cooling&quot;\" data-toc-modified-id=\"Find-predefined-Data-View-for-Fermenter-#32-and-&quot;Cooling&quot;-4.3.1\">Find predefined Data View for Fermenter #32 and \"Cooling\"</a></span></li><li><span><a href=\"#Data-View-Structure\" data-toc-modified-id=\"Data-View-Structure-4.3.2\">Data View Structure</a></span></li><li><span><a href=\"#Get-Interpolated-Data-from-Data-View\" data-toc-modified-id=\"Get-Interpolated-Data-from-Data-View-4.3.3\">Get Interpolated Data from Data View</a></span></li></ul></li><li><span><a href=\"#2d.-Main-Analysis\" data-toc-modified-id=\"2d.-Main-Analysis-4.4\">2d. Main Analysis</a></span><ul class=\"toc-item\"><li><span><a href=\"#Analysis-parameters\" data-toc-modified-id=\"Analysis-parameters-4.4.1\">Analysis parameters</a></span></li><li><span><a href=\"#Plot-data-from-Data-View-result-for-brand-of-interest,-keep-only-important-brewing-phase\" data-toc-modified-id=\"Plot-data-from-Data-View-result-for-brand-of-interest,-keep-only-important-brewing-phase-4.4.2\">Plot data from Data View result for brand of interest, keep only important brewing phase</a></span></li><li><span><a href=\"#Compute-cooling-elapsed-time\" data-toc-modified-id=\"Compute-cooling-elapsed-time-4.4.3\">Compute cooling elapsed time</a></span></li><li><span><a href=\"#Rearrange-dataframe-and-plot-batches-data\" data-toc-modified-id=\"Rearrange-dataframe-and-plot-batches-data-4.4.4\">Rearrange dataframe and plot batches data</a></span></li><li><span><a href=\"#Regression-parameters\" data-toc-modified-id=\"Regression-parameters-4.4.5\">Regression parameters</a></span></li></ul></li><li><span><a href=\"#2e.-Plot-prediction-curve-along-with-actual-data\" data-toc-modified-id=\"2e.-Plot-prediction-curve-along-with-actual-data-4.5\">2e. Plot prediction curve along with actual data</a></span></li></ul></li></ul></div>"
   ]
  },
  {
   "cell_type": "markdown",
   "metadata": {
    "toc-hr-collapsed": false
   },
   "source": []
  },
  {
   "cell_type": "markdown",
   "metadata": {
    "toc-hr-collapsed": false
   },
   "source": []
  },
  {
   "cell_type": "code",
   "execution_count": 1,
   "metadata": {
    "toc-hr-collapsed": false
   },
   "outputs": [],
   "source": []
  },
  {
   "cell_type": "markdown",
   "metadata": {},
   "source": [
    "---\n",
    "# Beer Cooling Prediction\n",
    "---\n",
    "\n",
    "This learning module, Beer Cooling Prediction, focuses on the cooling phase wherein the temperature of the solution drops from 70°F to 30°F.  The data was compiled based on the temperature measurements at the top, the middle, and the bottom of the fermenter:\n",
    "\n",
    "![Beer Cooling](https://academichub.blob.core.windows.net/images/NB2_Problem_Statement.png)\n",
    "\n",
    "Attaining a consistent, repeatable cooling profile is critical to the brewing process because the cooling behavior affects the flavor profile of the beers; furthermore, non-ideal cooling behavior can lead to significant process delays. In fact, Deschutes Brewery previously encountered non-ideal cooling behaviors where the temperature spiked when the yeast was harvested. By visualizing the data, Deschutes Brewery was able to identify the source of the issue, correct it, and save 60% of operation time compared to the worst non-ideal cases.  If interested, a more detailed story about the root cause and their corrective action is found in the presentation: [What’s Really Going on with your Beer's Fermentation?](https://www.osisoft.com/Presentations/What-s-Really-Going-on-with-your-Beer-s-Fermentation-/)\n",
    "\n",
    "In this notebook, we will build a predictive model for the cooling temperature profile to predict when the cooling stage should end for some given brand of beer. \n",
    "\n",
    "First, make sure the latest library version for OCS is installed:"
   ]
  },
  {
   "cell_type": "code",
   "execution_count": 2,
   "metadata": {},
   "outputs": [],
   "source": [
    "try:\n",
    "    import ocs_academic_hub\n",
    "except ImportError:\n",
    "    !pip install -i https://test.pypi.org/simple/ --extra-index-url https://pypi.org/simple ocs-academic-hub==0.78.0\n",
    "    import ocs_academic_hub"
   ]
  },
  {
   "cell_type": "markdown",
   "metadata": {},
   "source": [
    "Then make sure to import all the required libraries:"
   ]
  },
  {
   "cell_type": "code",
   "execution_count": 3,
   "metadata": {},
   "outputs": [],
   "source": [
    "# For interaction with OCS\n",
    "from ocs_academic_hub import HubClient, timer\n",
    "\n",
    "import configparser\n",
    "import datetime as dt\n",
    "from dateutil import parser\n",
    "from enum import Enum\n",
    "\n",
    "try:\n",
    "    import plotly.express as px \n",
    "except ImportError:\n",
    "    !pip install plotly\n",
    "    import plotly.express as px \n",
    "import numpy\n",
    "import pandas as pd\n",
    "from scipy.optimize import curve_fit\n",
    "\n",
    "pd.set_option(\"display.expand_frame_repr\", False)\n",
    "pd.options.mode.chained_assignment = None"
   ]
  },
  {
   "cell_type": "markdown",
   "metadata": {},
   "source": [
    "---\n",
    "## The Goal\n",
    "\n",
    "Using the same dataset as in the ADF Prediction notebook, we want to identify the cooling stages and compute the elapsed times to align the data for non-linear regression and comparison.\n",
    "\n",
    "All possible beer brands are for Fermenter Vessel #32 in the time period specified below: \n",
    "\n",
    "* Mirror Pond\n",
    "* Hop Slice\n",
    "* Pacific Wonderland\n",
    "* Black Butte           \n",
    "* Inversion         \n",
    "\n",
    "We'll start with the following input parameters: \n",
    "\n",
    "* Brand: Mirror Pond \n",
    "* Temperature sensors: Bottom, Middle and Top\n",
    "* Training data: 182 days starting at 2017-01-10T00:00 - pick first 2 batches \n",
    "* Interval: 10 minutes (00:10:00)\n",
    "\n",
    "### Issues to consider\n",
    "\n",
    "* Real process data is dirty (sensors can fail)\n",
    "* The stages may sometimes have been mislabelled (some examples are \"Cooling\" sometimes mislabelled as \"Diacetyl Rest\" or \"Maturation\" sometimes mislabelled as \"Cooling\")\n",
    "* There are different cooling start temperatures for each batch and even for each zone\n",
    "* There can be various volumes of beer in the fermentors\n",
    "* Data can have abrupt, aphysical jumps in temperature"
   ]
  },
  {
   "cell_type": "markdown",
   "metadata": {},
   "source": [
    "---\n",
    "## This Notebook\n",
    "\n",
    "\n",
    "### Part 1: Complete the missing code \n",
    "Complete TODO sections in the following cells to compute the cooling profile for a vessel zone. The defined functions perform the following tasks\n",
    "    \n",
    "* Clean the data by keeping relevant ([1a](#1a.-Complete-prepare_cooling_data)) and removing bad ([1b](1b.-Clean-data)) entries\n",
    "* Identify the cooling stages ([1c](#1c.-Extract-all-rows-related-to-cooling-phase,-compute-cooling-elapsed-time)) and compute the elapsed times since the start of cooling \n",
    "* Fit the cooling data to a heat transfer equation ([1d](#1d.-Define-temperature-equation)) \n",
    "\n",
    "### Part 2: Main Section\n",
    "This section actually calls the functions created in Part 1 and plots the prediction curves against each batch for a given brand of beer.\n",
    "\n",
    "* Define parameters of interest, like the time granularity for data interpolation, plus the time period over which to do the analysis and the fermenter identifier to analyze data from ([2a](#2a.-Set-input-parameters))\n",
    "* Use OSIsoft Cloud Services (OCS) to obtain process data from Deschutes ([2b](#2b.-Initialize-Hub/OCS-client) and [2c](#2c.-Download-data-from-OCS-with-Data-Views))\n",
    "* Set brand of interest, which sensor zones to use and batches for regression. Call functions created in Part 1 in sequence with intermediate plots to follow progression.  ([2d](#2d.-Main-Analysis))\n",
    "* Plot the cooling prediction curves ([2e](#2e.-Plot-prediction-curve-along-with-actual-data))\n",
    "\n",
    "**Section 2d and 2e can be repeated iteratively with different kind of beer, temperature sensor zones and batches to check the impact on the prediction curves.**"
   ]
  },
  {
   "cell_type": "markdown",
   "metadata": {},
   "source": [
    "---\n",
    "## Your Task \n",
    "A few functions in Part 1 contain `TODO` sections in comments. Complete each of them to get a working notebook. If your code is correct, you should see the following graph appear at the bottom of this notebook (at the end of Part 2):\n",
    "\n",
    "![Beer Cooling Prediction](https://academichub.blob.core.windows.net/images/nb2_solution_graph_v3.png)"
   ]
  },
  {
   "cell_type": "markdown",
   "metadata": {},
   "source": [
    "---\n",
    "# Part 1: Complete the code\n",
    "---\n",
    "<a id=’section_1’></a>\n",
    "\n",
    "We want to complete the missing code sections which implement the following specifications:\n",
    "\n",
    "**Input parameters:**\n",
    "\n",
    "* Brand of beer\n",
    "* Which set of temperature sensor to use: bottom, middle, top\n",
    "* Training data: how many days (starting at 2016-02-07) to consider and set of batch identifier(s) for cooling curve regression\n",
    "\n",
    "**Output:** \n",
    "\n",
    "* Plot with all individual batch cooling profiles against their associated prediction curve \n",
    "\n",
    "------------------------------------------------------------------------------------"
   ]
  },
  {
   "cell_type": "markdown",
   "metadata": {},
   "source": [
    "## 1a. Complete `prepare_cooling_data`\n",
    "<a id=’section_1a’></a>\n",
    "This is the function that will be executed to:\n",
    "\n",
    "* [1] keep only data for brand of interest\n",
    "* [2] remove rows with missing data, also keep only important phases\n",
    "* [3] indentify and keep only cooling phase rows, compute cooling time in days for each row (allows to compare batches and necessary for regression)"
   ]
  },
  {
   "cell_type": "code",
   "execution_count": 4,
   "metadata": {},
   "outputs": [],
   "source": [
    "# Phases important for cooling\n",
    "IMPORTANT_BREWING_PHASES = [\"Fermentation\", \"Free Rise\", \"Diacetyl Rest\", \"Cooling\"]\n",
    "\n",
    "# Sensor positions - for indexing in loops\n",
    "class Position(Enum):\n",
    "    Bottom = 1\n",
    "    Middle = 2\n",
    "    Top = 3\n",
    "\n",
    "    def __repr__(self):\n",
    "        return str(self).replace(\"Position.\", \"\")\n",
    "\n",
    "\n",
    "def prepare_cooling_data(all_brands_df, brand):\n",
    "    \"\"\"\n",
    "    Input parameters:\n",
    "    * brand to consider\n",
    "    * temperature sensor position to use for computation\n",
    "    * number of days to compute prediction parameters\n",
    "    \"\"\"\n",
    "\n",
    "    # TODO [1]: write filter expression for all_brands_df, return only rows for `brand` of interest\n",
    "    # =========== STUDENT BEGIN ==========\n",
    "    brand_df = all_brands_df[@@@ Your code here @@@]\n",
    "    # =========== STUDENT END ==========\n",
    "\n",
    "    # TODO [2]: complete code block within function brand_df_cleanup\n",
    "    brand_status_df = brand_df_cleanup(brand_df)\n",
    "\n",
    "    # TODO [3]: complete code of function cooling_data_extraction\n",
    "    cool_df = cooling_data_extraction(brand_status_df)\n",
    "\n",
    "    # Verify that it was possible to extract the data for a complete cooling phase\n",
    "    if len(cool_df) == 0:\n",
    "        raise Exception(f\"Error! no cooling data for brand: {brand}\")\n",
    "    print(f\"len(cool_df)={len(cool_df)}\")\n",
    "\n",
    "    return cool_df"
   ]
  },
  {
   "cell_type": "markdown",
   "metadata": {},
   "source": [
    "## 1b. Clean data \n",
    "\n",
    "The function `brand_df_cleanup` removes all rows with invalid (missing data) entries for any of the attributes of interest. To predict the cooling profile for a given brand, one must need the following attributes: Brand, Status, Temperature (Top, Middle, and Bottom zones), and Volume.\n",
    "\n",
    "Complete the `TODO` section in the function `brand_df_cleanup`."
   ]
  },
  {
   "cell_type": "code",
   "execution_count": 5,
   "metadata": {},
   "outputs": [],
   "source": [
    "@timer\n",
    "def brand_df_cleanup(brand_df):\n",
    "\n",
    "    # TODO [2]: Remove all rows with missing data (which indicates a sensor collection problem)\n",
    "    # TIP: Check Notebook #1 ADF Prediction\n",
    "    # =========== STUDENT BEGIN ==========\n",
    "    brand_df = brand_df.@@@ Your code here @@@\n",
    "    # =========== STUDENT END ==========\n",
    "\n",
    "    # Keep only fermentation or post-fermentation stages\n",
    "    brand_status_df = brand_df[brand_df[\"Status\"].isin(IMPORTANT_BREWING_PHASES)]\n",
    "\n",
    "    return brand_status_df"
   ]
  },
  {
   "cell_type": "markdown",
   "metadata": {},
   "source": [
    "## 1c. Extract all rows related to cooling phase, compute cooling elapsed time\n",
    "\n",
    "The function for extracting all frames in the cooling phase is `cooling_data_extraction`. \n",
    "\n",
    "Overall, `cooling_data_extraction` will extract the temperature information for the cooling stage in a batch in a vessel zone in a fermentor and compute a new column COOLING_TIME with the elapsed time in days since the beginning of cooling. "
   ]
  },
  {
   "cell_type": "code",
   "execution_count": 6,
   "metadata": {},
   "outputs": [],
   "source": [
    "@timer\n",
    "def cooling_data_extraction(brand_status_df):\n",
    "    #\n",
    "    # condition for it to be in cooling phase\n",
    "    # TODO [3]: the condition is that 'Top TIC OUT', 'Middle TIC OUT' and 'Bottom TIC OUT' are above 99.99\n",
    "    # =========== STUDENT BEGIN ==========\n",
    "    cool_stage = brand_status_df[\n",
    "        (brand_status_df[\"Top TIC OUT\"] > 99.99)\n",
    "        & (@@@ Your code here  @@@)\n",
    "        & (@@@ Your code here @@@)\n",
    "    ]\n",
    "    # =========== STUDENT END ==========\n",
    "\n",
    "    # TODO [4]: extract first row of each fermentation batch\n",
    "    # HINT: https://pandas.pydata.org/pandas-docs/stable/reference/api/pandas.DataFrame.groupby.html\n",
    "    # =========== STUDENT BEGIN ==========\n",
    "     cool_start_time = brand_status_df.@@@ Your code here @@@.first()\n",
    "    # =========== STUDENT END ==========\n",
    "\n",
    "    # Dataframe to hold cooling data with new COOLING_TIME column holding cooling time in days\n",
    "    cool_df = pd.DataFrame()\n",
    "    #\n",
    "    # For each fermentation batch, compute COOLING_TIME\n",
    "    for ferm_id in list(start_time_df.index):\n",
    "        start_time = start_time_df.loc[ferm_id].Timestamp\n",
    "        print(f\"  ==> ferm_id={ferm_id} start={start_time}\")\n",
    "        #\n",
    "        # Dataframe with rows associated to the current fermentation batch ID\n",
    "        batch_df = cool_stage_df[cool_stage_df[\"Fermentation ID\"] == ferm_id]\n",
    "        #\n",
    "        # Cooling time in unit of days\n",
    "        batch_df.loc[:, COOLING_TIME] = batch_df[\"Timestamp\"].apply(\n",
    "            lambda t: (t - start_time) / numpy.timedelta64(1, \"D\")\n",
    "        )\n",
    "        #\n",
    "        # Collect batch_df into result dataframe\n",
    "        cool_df = cool_df.append(batch_df)\n",
    "\n",
    "    return cool_df"
   ]
  },
  {
   "cell_type": "markdown",
   "metadata": {},
   "source": [
    "**Auxiliary function for plotting** \n",
    "\n",
    "Takes a dataframe with {Top|Middle|Bottom} TIC PV columns and returns a dataframe with a single \"Temperature\" column instead and a new \"Position\" column with one of the 3 string {Top|Middle|Bottom} to indicate which sensor the temperature value is associated with. "
   ]
  },
  {
   "cell_type": "code",
   "execution_count": 7,
   "metadata": {},
   "outputs": [],
   "source": [
    "def arrange_by_position(cool_df):\n",
    "    position_dfs = []\n",
    "    for pos in [\"Top\", \"Middle\", \"Bottom\"]:\n",
    "        position_df = cool_df[\n",
    "            [\"Brand\", \"Timestamp\", \"Fermentation ID\", f\"{pos} TIC PV\", \"Volume\"]\n",
    "        ].rename(columns={f\"{pos} TIC PV\": \"Temperature\", \"Fermentation ID\": \"Ferm_ID\"})\n",
    "        position_df.loc[:, \"Position\"] = pos\n",
    "        if COOLING_TIME in cool_df.columns:\n",
    "            position_df.loc[:, COOLING_TIME] = cool_df[COOLING_TIME]\n",
    "        position_dfs += [position_df]\n",
    "\n",
    "    cooling_df = pd.concat(position_dfs)\n",
    "    return cooling_df"
   ]
  },
  {
   "cell_type": "markdown",
   "metadata": {},
   "source": [
    "## 1d. Define temperature equation\n",
    "\n",
    "![Cooling equation](https://academicpi.blob.core.windows.net/images/NB2_Heat_transfer_eqn.png)\n",
    "\n",
    "The cell below implements this equation for predicting the cooling curve. \n",
    "\n",
    "The [scipy.curve_fit (click for reference)](https://docs.scipy.org/doc/scipy/reference/generated/scipy.optimize.curve_fit.html) function is used find the values for the parameters $\\alpha$ and $\\beta$ (`alpha` and `beta`) using non-linear least square fit. "
   ]
  },
  {
   "cell_type": "markdown",
   "metadata": {},
   "source": [
    "**IMPORTANT: To implement the function for $T_{t+1}$ (variable `T_t1`) in the exercise below, you'll need (click link for reference documentation):**\n",
    "\n",
    "* **[numpy.multiply](https://docs.scipy.org/doc/numpy/reference/generated/numpy.multiply.html?highlight=multiply#numpy.multiply)**\n",
    "* **[numpy.reciprocal](https://docs.scipy.org/doc/numpy/reference/generated/numpy.reciprocal.html?highlight=reciprocal#numpy.reciprocal)**"
   ]
  },
  {
   "cell_type": "code",
   "execution_count": 8,
   "metadata": {},
   "outputs": [],
   "source": [
    "def temperature_profile(x, alpha, beta):\n",
    "    # Unpack x values\n",
    "    T_t = x[0]  # this is a numpy vector\n",
    "    Vol = x[1]  # another numpy vector\n",
    "\n",
    "    # TODO [5]: Implement the function defined in red above\n",
    "    # TIP: check \"IMPORTANT\" note above, your code should contain variables alpha, beta, T_t and Vol\n",
    "    # =========== STUDENT BEGIN ==========\n",
    "    T_t_1 = @@@ Your code here @@@\n",
    "    # =========== STUDENT END ==========\n",
    "    return T_t1"
   ]
  },
  {
   "cell_type": "markdown",
   "metadata": {},
   "source": [
    "<h1>Non-linear regression: computation and prediction</h1>\n",
    "\n",
    "Function `compute_cooling_parameters` computes parameter $\\alpha$ (`alpha`) and $\\beta$ (`beta`) for a given set of fermentation (batch) IDs and temperature zones. \n",
    "\n",
    "Function `generate_prediction_df` input are the above regression parameters and a batch dataframe. It returns a new dataframe with the batch data received and additional prediction rows. The \"Position\" column value for the new rows is \"Prediction\". \n",
    "\n",
    "<h3>NOTE: there is no code to complete for those 2 functions</h3>"
   ]
  },
  {
   "cell_type": "code",
   "execution_count": 9,
   "metadata": {},
   "outputs": [],
   "source": [
    "############### CURVE FIT REGRESSION BEGIN - DO NOT CHANGE #############\n",
    "\n",
    "\n",
    "def compute_cooling_parameters(cool_df, brand, temp_sensors, ferm_ids):\n",
    "    \"\"\"\n",
    "    Input parameters:\n",
    "    * brand to consider\n",
    "    * temperature sensor position to use for computation\n",
    "    * number of days to compute prediction parameters\n",
    "    \"\"\"\n",
    "\n",
    "    # vessel zone(s) where cooling profile will be predicted\n",
    "    sensors_to_use = [repr(pos) for pos in Position if temp_sensors[repr(pos)]]\n",
    "    # at least one should be true\n",
    "    if len(sensors_to_use) == 0:\n",
    "        raise Exception(\n",
    "            \"@@@ Error: at least one of Bottom|Middle|Top should be true in TEMP_SENSORS\"\n",
    "        )\n",
    "    print(f\"sensors to use={sensors_to_use} with batch(es) {ferm_ids}\")\n",
    "\n",
    "    # Only the fermentation IDs and specified sensor zones are kept for regression\n",
    "    regression_cool_df = cool_df[\n",
    "        cool_df[\"Ferm_ID\"].isin(ferm_ids) & cool_df[\"Position\"].isin(sensors_to_use)\n",
    "    ]\n",
    "\n",
    "    # sort the temperatures in a descending fashion\n",
    "    regression_cool_df = regression_cool_df.sort_values(\n",
    "        by=[\"Temperature\"], ascending=False\n",
    "    )\n",
    "\n",
    "    # get the y value for the x, this will be used in curve fitting\n",
    "    regression_cool_df[\"Temperature_y\"] = regression_cool_df[\"Temperature\"].shift(-1)\n",
    "\n",
    "    # drop the last row\n",
    "    regression_cool_df = regression_cool_df[:-1]\n",
    "\n",
    "    # training temperature feature\n",
    "    x1_train = regression_cool_df[\"Temperature\"].values\n",
    "\n",
    "    # training Volume feature\n",
    "    x2_train = regression_cool_df[\"Volume\"].values\n",
    "\n",
    "    # [temperature, volume]\n",
    "    x = [x1_train, x2_train]\n",
    "\n",
    "    # Training of non-linear least squares model\n",
    "    # Nonlinear curve-fitting pass a tuple in curve fitting\n",
    "    popt, pcov = curve_fit(\n",
    "        temperature_profile, x, regression_cool_df[\"Temperature_y\"].values\n",
    "    )\n",
    "\n",
    "    # get the coefficients alpha and beta in the model\n",
    "    alpha = popt[0]\n",
    "    beta = popt[1]\n",
    "\n",
    "    # compute mean of maximum elapsed time for all (batch ID, position) pair\n",
    "    regression_cooling_elapsed = (\n",
    "        regression_cool_df.groupby(by=[\"Ferm_ID\", \"Position\"]).max()\n",
    "    )[COOLING_TIME].mean()\n",
    "    return (alpha, beta, regression_cooling_elapsed)\n",
    "\n",
    "\n",
    "############### CURVE FIT REGRESSION END - DO NOT CHANGE #############"
   ]
  },
  {
   "cell_type": "code",
   "execution_count": 10,
   "metadata": {},
   "outputs": [],
   "source": [
    "def generate_prediction_df(\n",
    "    alpha,\n",
    "    beta,\n",
    "    brand,\n",
    "    pos_cool_df,\n",
    "    temp_sensors,\n",
    "    ferm_id,\n",
    "    max_cooling_days,\n",
    "    reg_batch_count=1,\n",
    "):\n",
    "    # vessel zone(s) where cooling profile will be predicted\n",
    "    sensors_to_use = [repr(pos) for pos in Position if temp_sensors[repr(pos)]]\n",
    "\n",
    "    cool_fermid_df = pos_cool_df[pos_cool_df[\"Ferm_ID\"] == ferm_id]\n",
    "\n",
    "    # Get the initial point of all temperature curves\n",
    "    T_0s = (\n",
    "        cool_fermid_df[cool_fermid_df[\"Position\"].isin(sensors_to_use)]\n",
    "        .groupby(by=[\"Position\"])\n",
    "        .first()\n",
    "    )\n",
    "    T_0 = T_0s[\"Temperature\"].mean()\n",
    "\n",
    "    # Volumes - NOTE: all 3 sensors position share the same Volume, so we pick the Top one\n",
    "    Vol = numpy.repeat(\n",
    "        cool_fermid_df[cool_fermid_df[\"Position\"].isin(sensors_to_use)][\n",
    "            \"Volume\"\n",
    "        ].values,\n",
    "        reg_batch_count,\n",
    "    )\n",
    "\n",
    "    # Compute the prediction with the start temperature T_0\n",
    "    T_prediction = [T_0]\n",
    "    T_t = T_0\n",
    "    for i in range(1, len(Vol)):\n",
    "        x = [numpy.atleast_1d(T_t), numpy.atleast_1d(Vol[i])]\n",
    "        # result is T_t1 computed from T_t\n",
    "        T_t = temperature_profile(x, alpha, beta)[0]\n",
    "        T_prediction.append(T_t)\n",
    "\n",
    "    prediction_df = pd.DataFrame(T_prediction, columns=[\"Temperature\"])\n",
    "    prediction_df.loc[:, \"Brand\"] = brand\n",
    "    prediction_df.loc[:, \"Ferm_ID\"] = ferm_id\n",
    "    prediction_df.loc[:, \"Position\"] = \"Prediction\"\n",
    "    prediction_df.loc[:, COOLING_TIME] = numpy.linspace(0.0, max_cooling_days, len(Vol))\n",
    "\n",
    "    cool_fermid_df = cool_fermid_df.append(prediction_df, sort=True)\n",
    "\n",
    "    return (T_0, prediction_df, cool_fermid_df)"
   ]
  },
  {
   "cell_type": "markdown",
   "metadata": {},
   "source": [
    "---\n",
    "# Part 2: Main Section\n",
    "---\n",
    "<a id=’section_2’></a>\n",
    "Once all functions above are fully implemented and OCS has been initialized, below are the cells to:\n",
    "\n",
    "[2a](#section_2a) - Set the input parameters   \n",
    "[2b](#section_2b) - Initialize OCS client<br>\n",
    "[2c](#section_2c) - Download data from OCS with Data View<br>\n",
    "[2d](#section_2d) - Call functions of Part 1 to build result dataframe. This is the main analysis.   \n",
    "[2e](#section_2e) - Plot result data"
   ]
  },
  {
   "cell_type": "markdown",
   "metadata": {},
   "source": [
    "## 2a. Set input parameters\n",
    "\n",
    "Specify what fermentor, time period and interpolation interval we want for the data view. "
   ]
  },
  {
   "cell_type": "code",
   "execution_count": 11,
   "metadata": {},
   "outputs": [],
   "source": [
    "# time period over which to analyze data\n",
    "TRAINING_DAYS = 182\n",
    "\n",
    "# we want to pull this data starting from timestamp \"start_index\"\n",
    "START_INDEX = \"2017-01-20T15:30\"\n",
    "END_INDEX = (parser.parse(START_INDEX) + dt.timedelta(days=TRAINING_DAYS)).isoformat()\n",
    "\n",
    "# time granularity\n",
    "INTERVAL = \"00:10:00\"\n",
    "\n",
    "# specify asset \n",
    "ASSET_ID = \"FV32\"\n",
    "\n",
    "# Additional column name for calculated cooling time in indicated unit\n",
    "COOLING_TIME = \"Cooling (days)\""
   ]
  },
  {
   "cell_type": "markdown",
   "metadata": {},
   "source": [
    "## 2b. Initialize Hub/OCS client\n",
    "\n",
    "---\n",
    "**Executing the next starts the authentication process for your Google account, acting as the Identity Provider for OCS. At the end of a successful login or if you're already logged in with Google, you'll see the following message on a new browser tab:**\n",
    "\n",
    "**You can now return to the application.**\n",
    "\n",
    "Simply close this tab and return to your notebook tab. \n",
    "\n",
    "---\n",
    "\n",
    "After a successful login, communication with OCS is done through a HubClient object. Variable `namespace_id` is initialized with the OCS namespace hosting the Deschutes dataset. "
   ]
  },
  {
   "cell_type": "code",
   "execution_count": 15,
   "metadata": {},
   "outputs": [],
   "source": [
    "hub_client = HubClient()\n",
    "\n",
    "dataset = hub_client.current_dataset()\n",
    "namespace_id = hub_client.namespace_of(dataset)\n",
    "print(f\"Current dataset is {dataset} in namespace_id: {namespace_id}\")"
   ]
  },
  {
   "cell_type": "markdown",
   "metadata": {},
   "source": [
    "## 2c. Download data from OCS with Data Views\n",
    "\n",
    "**Development tip (WARNING: getting data view results can take up to 30 secs)** \n",
    "\n",
    "Development of a notebook involves running code over and over, so you'll want to avoid long running steps when possible. This is why you can run the cell below once, with the resulting dataframe saved in variable `all_brands_df`. If you don't change any of its input parameters, `all_brands_df` is still valid and can be reused when doing your analysis with different parameters. \n",
    "\n",
    "Also include a statistical description of `all_brands_df`."
   ]
  },
  {
   "cell_type": "markdown",
   "metadata": {},
   "source": [
    "### Find predefined data view for Fermenter #32 and \"Cooling\""
   ]
  },
  {
   "cell_type": "code",
   "execution_count": 16,
   "metadata": {},
   "outputs": [],
   "source": [
    "# Filtered to get the one related to \"cooling\"\n",
    "# A list with a single element will be returned, so this element is extracted with `[0]`\n",
    "dataview_id = hub_client.asset_dataviews(filter=\"cooling\", asset=ASSET_ID)[0]\n",
    "dataview_id"
   ]
  },
  {
   "cell_type": "markdown",
   "metadata": {},
   "source": [
    "### Data View Structure "
   ]
  },
  {
   "cell_type": "code",
   "execution_count": 17,
   "metadata": {},
   "outputs": [],
   "source": [
    "hub_client.dataview_definition(namespace_id, dataview_id)"
   ]
  },
  {
   "cell_type": "markdown",
   "metadata": {},
   "source": [
    "### Get Interpolated Data from Data View"
   ]
  },
  {
   "cell_type": "code",
   "execution_count": null,
   "metadata": {},
   "outputs": [],
   "source": [
    "# pull data from OCS\n",
    "\n",
    "# TODO: request a Panda dataframe from OCS\n",
    "# =========== STUDENT BEGIN ==========\n",
    "all_brands_df = @@@ Your code here @@@\n",
    "# =========== STUDENT END ==========\n",
    "\n",
    "# statistical description of `all_brands_df`, -n/a- stands for \"not applicable\"\n",
    "all_brands_df.describe(include=\"all\").fillna('-n/a-')"
   ]
  },
  {
   "cell_type": "code",
   "execution_count": null,
   "metadata": {},
   "outputs": [],
   "source": [
    "# preview of dataframe\"\n",
    "all_brands_df.head()"
   ]
  },
  {
   "cell_type": "code",
   "execution_count": null,
   "metadata": {},
   "outputs": [],
   "source": [
    "# list brand of beer for cooling with how many rows they appear in\n",
    "all_brands_df[all_brands_df[\"Status\"] == \"Cooling\"][\"Brand\"].value_counts()"
   ]
  },
  {
   "cell_type": "code",
   "execution_count": null,
   "metadata": {},
   "outputs": [],
   "source": [
    "# just like in NB1_SOLUTION_ADF_Prediction notebook, computer a Fermentation ID column from `Fermentation_Start_Time`\n",
    "all_brands_df = all_brands_df.astype({\"Fermentation Start Time\": \"datetime64\"})\n",
    "\n",
    "\n",
    "def fermentation_id(fv_id, t0):\n",
    "    tt = str(t0).split(\" \")\n",
    "    return f\"{fv_id}_{tt[0].replace('-','')}\"\n",
    "\n",
    "\n",
    "all_brands_df[\"Fermentation ID\"] = all_brands_df.apply(\n",
    "    lambda row: fermentation_id(row[\"Asset_Id\"], row[\"Fermentation Start Time\"]), axis=1\n",
    ")"
   ]
  },
  {
   "cell_type": "markdown",
   "metadata": {},
   "source": [
    "## 2d. Main Analysis \n",
    "\n",
    "### Analysis parameters\n",
    "\n",
    "Set brand of beer for the analysis "
   ]
  },
  {
   "cell_type": "code",
   "execution_count": null,
   "metadata": {},
   "outputs": [],
   "source": [
    "# selected brand\n",
    "BRAND = \"Realtime Hops\""
   ]
  },
  {
   "cell_type": "markdown",
   "metadata": {},
   "source": [
    "### Plot data from data view result for brand of interest, keep only important brewing phase "
   ]
  },
  {
   "cell_type": "code",
   "execution_count": null,
   "metadata": {},
   "outputs": [],
   "source": [
    "tcbdf = arrange_by_position(\n",
    "    brand_df_cleanup(all_brands_df[all_brands_df[\"Brand\"] == BRAND])\n",
    ")\n",
    "fig = px.scatter(\n",
    "    tcbdf,\n",
    "    x=\"Timestamp\",\n",
    "    y=\"Temperature\",\n",
    "    color=\"Position\",\n",
    "    hover_name=\"Ferm_ID\",\n",
    "    title=f\"Temperature for {BRAND} brand and phases in {IMPORTANT_BREWING_PHASES}\",\n",
    ")\n",
    "fig.update_layout(\n",
    "    xaxis=dict(\n",
    "        rangeselector=dict(\n",
    "            buttons=list(\n",
    "                [\n",
    "                    dict(count=7, label=\"1w\", step=\"day\", stepmode=\"backward\"),\n",
    "                    dict(count=14, label=\"2w\", step=\"day\", stepmode=\"backward\"),\n",
    "                    dict(count=1, label=\"1m\", step=\"month\", stepmode=\"backward\"),\n",
    "                    dict(step=\"all\"),\n",
    "                ]\n",
    "            )\n",
    "        ),\n",
    "        rangeslider=dict(visible=True),\n",
    "        type=\"date\",\n",
    "    ),\n",
    ")\n",
    "fig.update_traces(hovertemplate=None)\n",
    "fig.layout.title.font=dict(size=14)\n",
    "fig.layout.template.layout.hovermode = \"x unified\"\n",
    "fig.show()"
   ]
  },
  {
   "cell_type": "markdown",
   "metadata": {},
   "source": [
    "### Compute cooling elapsed time\n",
    "\n",
    "As seen in Part 1, `prepare_cooling_data` calls `brand_df_cleanup` and `cooling_data_extraction` to compute a new cooling elapsed time column. "
   ]
  },
  {
   "cell_type": "code",
   "execution_count": null,
   "metadata": {},
   "outputs": [],
   "source": [
    "cool_df = prepare_cooling_data(all_brands_df, BRAND)\n",
    "cool_df"
   ]
  },
  {
   "cell_type": "markdown",
   "metadata": {},
   "source": [
    "### Rearrange dataframe and plot batches data"
   ]
  },
  {
   "cell_type": "code",
   "execution_count": null,
   "metadata": {},
   "outputs": [],
   "source": [
    "pos_cool_df = arrange_by_position(cool_df)\n",
    "fig = px.scatter(\n",
    "    pos_cool_df,\n",
    "    x=COOLING_TIME,\n",
    "    y=\"Temperature\",\n",
    "    color=\"Position\",\n",
    "    facet_col=\"Ferm_ID\",\n",
    "    title=f\"Cooling Temperature Profile per Batch for {BRAND} Brand\",\n",
    ")\n",
    "for i in fig[\"layout\"][\"annotations\"]:\n",
    "    i[\"font\"] = dict(size=11, color=\"#000000\")\n",
    "    i[\"text\"] = i[\"text\"].replace(\"=\", \"=<br>\")\n",
    "fig.layout.template.layout.hovermode = \"x unified\"\n",
    "fig.show()"
   ]
  },
  {
   "cell_type": "markdown",
   "metadata": {},
   "source": [
    "### Regression parameters\n",
    "\n",
    "The computation of the non-linear regression curve will pick the set data defined by two criteria: \n",
    "\n",
    "* A set of temperature zones with truth value to identify if the zone should contribute (`TEMP_SENSORS`)\n",
    "* A set of index of batches to consider as regression data (`reg_batches`) \n",
    "\n",
    "All data for the regression are from curves matching the two criteria above. "
   ]
  },
  {
   "cell_type": "code",
   "execution_count": null,
   "metadata": {},
   "outputs": [],
   "source": [
    "TEMP_SENSORS = {\"Bottom\": True, \"Middle\": True, \"Top\": True}  # pick all zones\n",
    "\n",
    "# first and second batches, namely FV32_20170118 and FV32_20170331\n",
    "reg_batches = [0, 1]\n",
    "\n",
    "# list of all possible batch ID\n",
    "batch_ids = list(pos_cool_df[\"Ferm_ID\"].unique())\n",
    "\n",
    "# list of sensor zones (position) which are selected (True)\n",
    "sensors_to_use = [repr(pos) for pos in Position if TEMP_SENSORS[repr(pos)]]\n",
    "\n",
    "# from a list of indices, return associate list of batch ID\n",
    "def batch_select(ids):\n",
    "    return [batch_ids[i] for i, _ in enumerate(batch_ids) if i in ids]\n",
    "\n",
    "\n",
    "print(f\"all batch IDs={batch_ids}\\nselected batch(es)={batch_select(reg_batches)}\")"
   ]
  },
  {
   "cell_type": "code",
   "execution_count": null,
   "metadata": {},
   "outputs": [],
   "source": [
    "fig = px.scatter(\n",
    "    pos_cool_df[\n",
    "        (\n",
    "            pos_cool_df[\"Ferm_ID\"].isin(batch_select(reg_batches))\n",
    "            & (pos_cool_df[\"Position\"].isin(sensors_to_use))\n",
    "        )\n",
    "    ],\n",
    "    x=COOLING_TIME,\n",
    "    y=\"Temperature\",\n",
    "    color=\"Position\",\n",
    "    facet_col=\"Ferm_ID\",\n",
    "    title=f\"Cooling Temperature Profiles for {BRAND} as Regression Input Data\",\n",
    ")\n",
    "for i in fig[\"layout\"][\"annotations\"]:\n",
    "    i[\"font\"] = dict(size=11, color=\"#000000\")\n",
    "    i[\"text\"] = i[\"text\"].replace(\"=\", \"=<br>\")\n",
    "fig.layout.template.layout.hovermode = \"x unified\"\n",
    "fig.show()"
   ]
  },
  {
   "cell_type": "code",
   "execution_count": null,
   "metadata": {},
   "outputs": [],
   "source": [
    "alpha, beta, max_cooling_days = compute_cooling_parameters(\n",
    "    pos_cool_df, BRAND, TEMP_SENSORS, batch_select(reg_batches)\n",
    ")\n",
    "alpha, beta, max_cooling_days"
   ]
  },
  {
   "cell_type": "code",
   "execution_count": null,
   "metadata": {},
   "outputs": [],
   "source": [
    "# build dataframe with all batches and their associated prediction\n",
    "all_df = pd.DataFrame()\n",
    "for batch_id in batch_ids:\n",
    "    _, _, cfdf = generate_prediction_df(\n",
    "        alpha,\n",
    "        beta,\n",
    "        BRAND,\n",
    "        pos_cool_df,\n",
    "        TEMP_SENSORS,\n",
    "        batch_id,\n",
    "        max_cooling_days,\n",
    "        len(batch_select(reg_batches)),\n",
    "    )\n",
    "    all_df = all_df.append(cfdf)"
   ]
  },
  {
   "cell_type": "markdown",
   "metadata": {},
   "source": [
    "## 2e. Plot prediction curve along with actual data \n",
    "\n",
    "**Note:** You can zoom into the graph to see how the prediction and data actually differ."
   ]
  },
  {
   "cell_type": "code",
   "execution_count": null,
   "metadata": {},
   "outputs": [],
   "source": [
    "fig = px.scatter(\n",
    "    all_df,\n",
    "    x=COOLING_TIME,\n",
    "    y=\"Temperature\",\n",
    "    color=\"Position\",\n",
    "    facet_col=\"Ferm_ID\",\n",
    "    title=f\"Cooling Temp with Regression from {batch_select(reg_batches)}\"\n",
    "    f\" and {[repr(pos) for pos in Position if TEMP_SENSORS[repr(pos)]]}<br>\"\n",
    "    f\"for brand {BRAND}\"\n",
    ")\n",
    "fig.layout.template.layout.hovermode = \"x unified\"\n",
    "fig.layout.title.font = dict(size=14)\n",
    "for i in fig[\"layout\"][\"annotations\"]:\n",
    "    i[\"font\"] = dict(size=11, color=\"#000000\")\n",
    "    i[\"text\"] = i[\"text\"].replace(\"=\", \"=<br>\")\n",
    "fig.show()"
   ]
  },
  {
   "cell_type": "markdown",
   "metadata": {},
   "source": [
    "**------------------ Your graph will appear above this line if no error occured ------------------**\n",
    "\n",
    "**------------------------------------- Reference graph below -------------------------------------**\n",
    "![Beer Cooling Prediction](https://academichub.blob.core.windows.net/images/nb2_solution_graph_v3.png)\n",
    "\n",
    "**QUESTIONS:**    \n",
    "\n",
    "1. If the cooling data had outliers, how would you remove them?\n",
    "2. How would having an erratic cooling profile affect the prediction curve? \n",
    "3. Can you use the cooling prediction curve to determine whether a given batch is out-of-spec? How would you do this?\n",
    "4. Do you think you can use the cooling rate to predict the beer brand?\n"
   ]
  },
  {
   "cell_type": "markdown",
   "metadata": {},
   "source": []
  }
 ],
 "metadata": {
  "kernelspec": {
   "display_name": "Python 3",
   "language": "python",
   "name": "python3"
  },
  "language_info": {
   "codemirror_mode": {
    "name": "ipython",
    "version": 3
   },
   "file_extension": ".py",
   "mimetype": "text/x-python",
   "name": "python",
   "nbconvert_exporter": "python",
   "pygments_lexer": "ipython3",
   "version": "3.7.6"
  },
  "toc": {
   "base_numbering": 1,
   "nav_menu": {},
   "number_sections": false,
   "sideBar": true,
   "skip_h1_title": false,
   "title_cell": "Table of Contents",
   "title_sidebar": "Contents",
   "toc_cell": true,
   "toc_position": {},
   "toc_section_display": true,
   "toc_window_display": true
  }
 },
 "nbformat": 4,
 "nbformat_minor": 4
}
