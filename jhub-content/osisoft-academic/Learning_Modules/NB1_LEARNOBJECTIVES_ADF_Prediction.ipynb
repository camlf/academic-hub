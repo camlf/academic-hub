{
 "cells": [
  {
   "cell_type": "markdown",
   "metadata": {
    "toc": true
   },
   "source": [
    "<h1>Table of Contents<span class=\"tocSkip\"></span></h1>\n",
    "<div class=\"toc\"><ul class=\"toc-item\"><li><span><a href=\"#Overall-Learning-Objectives-:\" data-toc-modified-id=\"Overall-Learning-Objectives-:-1\"><span class=\"toc-item-num\">1&nbsp;&nbsp;</span>Overall Learning Objectives :</a></span><ul class=\"toc-item\"><li><span><a href=\"#Introduction-to-the-OSIsoft-Academic-Hub,-Operational-Data,-and-OSIsoft-\" data-toc-modified-id=\"Introduction-to-the-OSIsoft-Academic-Hub,-Operational-Data,-and-OSIsoft--1.1\"><span class=\"toc-item-num\">1.1&nbsp;&nbsp;</span>Introduction to the OSIsoft Academic Hub, Operational Data, and OSIsoft </a></span></li></ul></li><li><span><a href=\"#Exercise-1-Learning-Objectives-:\" data-toc-modified-id=\"Exercise-1-Learning-Objectives-:-2\"><span class=\"toc-item-num\">2&nbsp;&nbsp;</span>Exercise 1 Learning Objectives :</a></span><ul class=\"toc-item\"><li><span><a href=\"#Predicting-the-Apparent-Degree-of-Fermentation-(ADF)\" data-toc-modified-id=\"Predicting-the-Apparent-Degree-of-Fermentation-(ADF)-2.1\"><span class=\"toc-item-num\">2.1&nbsp;&nbsp;</span>Predicting the Apparent Degree of Fermentation (ADF)</a></span></li><li><span><a href=\"#ADF-Predictive-Exercise-Overview\" data-toc-modified-id=\"ADF-Predictive-Exercise-Overview-2.2\"><span class=\"toc-item-num\">2.2&nbsp;&nbsp;</span>ADF Predictive Exercise Overview</a></span></li><li><span><a href=\"#ADF-Predictive-Exercise---In-More-Detail\" data-toc-modified-id=\"ADF-Predictive-Exercise---In-More-Detail-2.3\"><span class=\"toc-item-num\">2.3&nbsp;&nbsp;</span>ADF Predictive Exercise - In More Detail</a></span></li></ul></li></ul></div>"
   ]
  },
  {
   "cell_type": "markdown",
   "metadata": {},
   "source": [
    "---\n",
    "# Overall Learning Objectives : \n",
    "Introduction to the OSIsoft Academic Hub, Operational Data, and OSIsoft \n",
    "---\n",
    "Introduction to the OSIsoft Academic Hub, Operational Data, and OSIsoft \n",
    "The OSIsoft Academic Hub is a cloud-based platform that enables experiential learning with industrial process datasets. Students use the Academic Hub to gain experience in solving real-world problems with real-world data. Students gain experience in several areas that help to prepare them for careers in today’s workplace:\n",
    "\n",
    "•\tNavigating broader, less defined problem statements\n",
    "\n",
    "•\tEvaluating multiple data sources and types to determine appropriateness for given context\n",
    "\n",
    "•\tDetermining which data is extraneous, erroneous, or inaccurate\n",
    "\n",
    "•\tIntegrating timeseries data with other types of data\n",
    "\n",
    "•\tAnalyzing large datasets to improve business decisions\n",
    "\n",
    "•\tWorking seamlessly in teams in person and remotely\n",
    "\n",
    "•\tUsing industry current AI/ML platforms, visualization tools, and programming languages\n",
    "\n",
    "OSIsoft’s technology provides customers with the tools for real-time data management of their operational data. Operational data is data that reflects the physical state of an industrial asset (or “thing”). There are many sources and types of data in operations; real-time process control data, sensor and device data; machine-generated data, asset data, web data, weather data, heat map data, and many more. One of the unique types of operational data is time-series data, where time is the index. For over forty years OSIsoft has been at the forefront of time series data collection and aggregation, along with other types of operational data, allowing people to contextualize and federate large volumes of industrial, operational data. With 65% of industrial Fortune 500 customers using OSIsoft products to monitor over two billion data streams globally, it is likely engineers will work with an OSIsoft product during their career. Data analysis and specifically time series data analysis skills are quickly becoming a standard requirement for engineers and managers alike. OSIsoft data is ready to integrate into sophisticated visualization tools, industry applications and AI/ML platforms in use today globally.\n",
    "\n",
    "\n",
    "---\n",
    "# Exercise 1 Learning Objectives : \n",
    "Predicting the Apparent Degree of Fermentation (ADF)\n",
    "---\n",
    "At the end of this [ADF Prediction Exercise](./NB1_EXERCISE_ADF_Prediction.ipynb) students will be able to:\n",
    "1. Retrieve process data using a cloud-based platform (OSIsoft Cloud Services or OCS) which stores real industrial sensor data\n",
    "2. Perform basic operations using Pandas, a software library widely-used in data science applications\n",
    "3. Perform basic data-cleansing operations to ensure that the quality of the data fits the analysis goals\n",
    "4. Perform linear and piecewise linear regression using Python\n",
    "5. Evaluate the quality of a model fit\n",
    "6. Formulate strategies for creating predictive models of real (i.e. dirty, intermittent) process data\n"
   ]
  },
  {
   "cell_type": "markdown",
   "metadata": {},
   "source": [
    "---\n",
    "## ADF Predictive Exercise Overview\n",
    "\n",
    "Students will be given an overview into why creating predictive models could be valuable to industry. In this case, the ADF prediction model saved Deschutes Brewery \\$750,000 in capital investments). Because real process data is \"dirty\", students will experience the importance of domain knowledge in being able to organize and clean the data to fit analysis goals. Furthermore, Part 4 of the exercise notebook has missing pieces of code students will have to fill in order for the notebook to run properly and produce results; this ensures that students will interact with the notebook and pay attention to how code is written.\n",
    "\n",
    "**The ADF Prediction exercise notebook is divided into five parts:**\n",
    "\n",
    "[Part 1](./NB1_EXERCISE_ADF_Prediction.ipynb#section_1): Specify time period, time granularity, fermentor vessels, brand of interest, and other parameters.\n",
    "\n",
    "[Part 2](./NB1_EXERCISE_ADF_Prediction.ipynb#section_2): Use OSIsoft Cloud Services (OCS) to obtain real process data from Deschutes Brewery ([2a](./NB1_EXERCISE_ADF_Prediction.ipynb#section_2a)) and store it into a dataframe ([2b](./NB1_EXERCISE_ADF_Prediction.ipynb#section_2b)).\n",
    "\n",
    "[Part 3](./NB1_EXERCISE_ADF_Prediction.ipynb#section_3): Create functions which utilize Plotly to preview the ADF profile ([3a](./NB1_EXERCISE_ADF_Prediction.ipynb#section_3a)) and create plots which will help the user to assess the quality of the model fit ([3b](./NB1_EXERCISE_ADF_Prediction.ipynb#section_3b)).\n",
    "\n",
    "[Part 4](./NB1_EXERCISE_ADF_Prediction.ipynb#section_4): Pre-process the brewery data before fitting and analysis. Remove obviously bad data points and unnecessary attributes ([4a](./NB1_EXERCISE_ADF_Prediction.ipynb#section_4a)); identify fermentation batches and compute the duration of fermentation ([4c](./NB1_EXERCISE_ADF_Prediction.ipynb#section_4c)); manually remove emergent outliers ([4e](./NB1_EXERCISE_ADF_Prediction.ipynb#section_4e)).\n",
    "\n",
    "\n",
    "[Part 5](./NB1_EXERCISE_ADF_Prediction.ipynb#section_5): Fit the cleaned up data frame to a linear model ([5a](./NB1_EXERCISE_ADF_Prediction.ipynb#section_5a)) and then to a piecewise linear model ([5b](./NB1_EXERCISE_ADF_Prediction.ipynb#section_5b)). Evaluate and compare the model fits.\n",
    "\n",
    "**At the end of the exercise, students will be asked to think about the following questions:**\n",
    "1. Which of the models used in this notebook performed the best and why?\n",
    "2. Can you think of a different model that would perform better than either of the models used in this notebook?\n",
    "3. Are there any trade-offs to using more complex models? If so, what are they?\n",
    "4. Discuss several reasons why we can't immediately use the raw process data for model fitting.\n"
   ]
  },
  {
   "cell_type": "markdown",
   "metadata": {},
   "source": [
    "---\n",
    "## ADF Predictive Exercise - In More Detail\n",
    "**In the notebook, students will learn how to initialize OCS by authenticating their purpose and directing calls to the right namespace:**\n",
    "```python\n",
    "hub_client = HubClient()\n",
    "\n",
    "namespace_id = hub_client.namespace_of(\"Deschutes\") \n",
    "print (f\"namespace_id: '{namespace_id}'\")\n",
    "```\n",
    "\n",
    "**The students will learn to efficiently identify fermentation batches and their duration by leveraging Pandas features:**\n",
    "```python\n",
    "# find the start of fermentation (ADF ~= 0.0)\n",
    "fermentation_starts = brand_df[abs(brand_df[\"ADF\"]) <= 0.000001].reset_index()\n",
    "\n",
    "# create new dataframe column for recording the time evolution of fermentation\n",
    "brand_df[\"Elapsed\"] = -1\n",
    "\n",
    "# compute the time elapsed since the starts of a fermentation\n",
    "for count, fermentation_start_row in fermentation_starts.iterrows():\n",
    "\n",
    "    # get the timestamp for each start of fermentation\n",
    "    fermentation_start_time = fermentation_start_row[\"Timestamp\"]\n",
    "    fermentation_id = fermentation_start_row[\"Fermentation ID\"]\n",
    "\n",
    "    # boolean vector to pick only rows relevant to current fermentation ID\n",
    "    batch_row_picker = brand_df[\"Fermentation ID\"] == fermentation_id\n",
    "\n",
    "    # find time elapsed since the start of fermentation in units of hours\n",
    "    brand_df.loc[batch_row_picker, \"Elapsed\"] = brand_df.loc[\n",
    "        batch_row_picker, \"Timestamp\"\n",
    "    ].apply(lambda t: (t - fermentation_start_time).total_seconds() / 3600.0)\n",
    "```\n",
    "\n",
    "**Students should also complete missing pieces to filter out rows with missing/incomplete data like the following:**\n",
    "```python\n",
    "# remove all rows with missing values\n",
    "# TODO: complete expression, hint check PandasGuide.ipynb section \"Selection\"\n",
    "# =========== STUDENT BEGIN ==========\n",
    "# brand_df = @@@ Your code here @@@\n",
    "# =========== STUDENT END ==========\n",
    "```\n",
    "**Ultimately, the goal is for the students to fit the data to a linear model and a piecewise model and then assess the model fits:**\n",
    "![](https://academicpi.blob.core.windows.net/images/NB1_Analyze_Fit.png)"
   ]
  },
  {
   "cell_type": "code",
   "execution_count": null,
   "metadata": {},
   "outputs": [],
   "source": []
  }
 ],
 "metadata": {
  "kernelspec": {
   "display_name": "Python 3",
   "language": "python",
   "name": "python3"
  },
  "language_info": {
   "codemirror_mode": {
    "name": "ipython",
    "version": 3
   },
   "file_extension": ".py",
   "mimetype": "text/x-python",
   "name": "python",
   "nbconvert_exporter": "python",
   "pygments_lexer": "ipython3",
   "version": "3.7.6"
  },
  "toc": {
   "base_numbering": 1,
   "nav_menu": {},
   "number_sections": true,
   "sideBar": true,
   "skip_h1_title": false,
   "title_cell": "Table of Contents",
   "title_sidebar": "Contents",
   "toc_cell": true,
   "toc_position": {},
   "toc_section_display": true,
   "toc_window_display": true
  }
 },
 "nbformat": 4,
 "nbformat_minor": 4
}
