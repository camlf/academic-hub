{
 "cells": [
  {
   "cell_type": "markdown",
   "metadata": {
    "toc": true
   },
   "source": [
    "<h1>Table of Contents<span class=\"tocSkip\"></span></h1>\n",
    "<div class=\"toc\"><ul class=\"toc-item\"><li><span><a href=\"#Overall-Learning-Objectives-:\" data-toc-modified-id=\"Overall-Learning-Objectives-:-1\"><span class=\"toc-item-num\">1&nbsp;&nbsp;</span>Overall Learning Objectives :</a></span><ul class=\"toc-item\"><li><span><a href=\"#Introduction-to-Broader-Problem-Solving,-Industrial-Data,-and-Time-Series-Data-Analysis-\" data-toc-modified-id=\"Introduction-to-Broader-Problem-Solving,-Industrial-Data,-and-Time-Series-Data-Analysis--1.1\"><span class=\"toc-item-num\">1.1&nbsp;&nbsp;</span>Introduction to Broader Problem Solving, Industrial Data, and Time Series Data Analysis </a></span></li></ul></li><li><span><a href=\"#Exercise-1-Learning-Objectives-:\" data-toc-modified-id=\"Exercise-1-Learning-Objectives-:-2\"><span class=\"toc-item-num\">2&nbsp;&nbsp;</span>Exercise 1 Learning Objectives :</a></span><ul class=\"toc-item\"><li><span><a href=\"#Predicting-the-Apparent-Degree-of-Fermentation-(ADF)\" data-toc-modified-id=\"Predicting-the-Apparent-Degree-of-Fermentation-(ADF)-2.1\"><span class=\"toc-item-num\">2.1&nbsp;&nbsp;</span>Predicting the Apparent Degree of Fermentation (ADF)</a></span></li><li><span><a href=\"#ADF-Predictive-Exercise-Overview\" data-toc-modified-id=\"ADF-Predictive-Exercise-Overview-2.2\"><span class=\"toc-item-num\">2.2&nbsp;&nbsp;</span>ADF Predictive Exercise Overview</a></span></li><li><span><a href=\"#ADF-Predictive-Exercise---In-More-Detail\" data-toc-modified-id=\"ADF-Predictive-Exercise---In-More-Detail-2.3\"><span class=\"toc-item-num\">2.3&nbsp;&nbsp;</span>ADF Predictive Exercise - In More Detail</a></span></li></ul></li></ul></div>"
   ]
  },
  {
   "cell_type": "markdown",
   "metadata": {},
   "source": [
    "---\n",
    "# Overall Learning Objectives : \n",
    "Introduction to Broader Problem Solving, Industrial Data, and Time Series Data Analysis \n",
    "---\n",
    "University engineering departments are asked by companies to ensure graduates have abiliities such as technical, problem solving, and teamwork skills so graduates can be successful and valuable to companies from day 1 of employment. At the same time, engineering departments want to increase student engagement and retention. The shift to experiential and student-centered learning is crucial to attracting and retaining more engineering students, as well as better preparing those students for their future workplace. Lecture format courses and narrowly defined problem sets with static data points do not reflect the reality that awaits engineering graduates in the workplace both now, and in the future. In most companies, new engineering employees have access to tens of data sources relaying data in nearly as many formats and types. Gone are clean, succinct problem statements ending with pre-defined answer types, without extraneous data. Instead newly minted engineers are faced with a myriad of data choices, and much more vague directions such as \"improve X\" or \"increase/decrease Y\". Engineering departments have a unique opportunity to bridge the gap between engineering coursework and an engineering career by providing students with practice with broader problem sets using streams of actual industrial data. \n",
    "\n",
    "The OSIsoft Academic Hub has everything professors need to support and enable classroom activities using real, industrial datasets hosted by OSIsoft.  Currently, we offer access to a brewery fermentation vessel dataset and a corresponding time series data analysis curriculum. The curriculum consists of three exercises which provide real world applications of regression modeling, heat transfer, and principal component analysis. The exercise topics are germane to general engineering and math courses such as thermodynamics, statistics, and differential equations. Upper division courses connected to the exercise topics include measurement and control, process dynamics and control, signals and systems, numerical methods, and design and analysis of experiments. OSIsoft is working to add more real, industrial datasets to the Academic Hub. Additionally, the Academic Hub hosts several simulated datasets with tie-ins to industry use cases such as distillation column operation, reactor OEE, turbine efficiency, and others.\n",
    "\n",
    "OSIsoft’s technology provides customers with the tools for real-time data management of their operational data. Operational data is data that reflects the physical state of an industrial asset (or “thing”). There are many sources and types of data in operations; real-time process control data, sensor and device data; machine-generated data, asset data, web data, weather data, heat map data, and many more. One of the unique types of operational data is time-series data, where time is the index. For over forty years OSIsoft has been at the forefront of time series data collection and aggregation, along with other types of operational data, allowing people to contextualize and federate large volumes of industrial, operational data. With 65% of industrial Fortune 500 customers using OSIsoft products to monitor over two billion data streams globally, it is likely engineers will work with an OSIsoft product during their career. Data analysis and specifically time series data analysis skills are quickly becoming a standard requirement for engineers and managers alike. OSIsoft data is ready to integrate into sophisticated visualization tools, industry applications and AI/ML platforms in use today globally.\n",
    "\n",
    "---\n",
    "# Exercise 1 Learning Objectives : \n",
    "Predicting the Apparent Degree of Fermentation (ADF)\n",
    "---\n",
    "At the end of this [ADF Prediction Exercise](.NB1_EXERCISE_ADF_Prediction.ipynb) students will be able to:\n",
    "1. Retrieve process data using a cloud-based platform (OSIsoft Cloud Services or OCS) which stores real industrial sensor data\n",
    "2. Perform basic operations using Pandas, a software library widely-used in data science applications\n",
    "3. Perform basic data-cleansing operations to ensure that the quality of the data fits the analysis goals\n",
    "4. Perform linear and piecewise linear regression using Python\n",
    "5. Evaluate the quality of a model fit\n",
    "6. Formulate strategies for creating predictive models of real (i.e. dirty, intermittent) process data\n"
   ]
  },
  {
   "cell_type": "markdown",
   "metadata": {},
   "source": [
    "---\n",
    "## ADF Predictive Exercise Overview\n",
    "\n",
    "Students will be given an overview into why creating predictive models could be valuable to industry. In this case, the ADF prediction model saved Deschutes Brewery \\$750,000 in capital investments). Because real process data is \"dirty\", students will experience the importance of domain knowledge in being able to organize and clean the data to fit analysis goals. Furthermore, Part 4 of the exercise notebook has missing pieces of code students will have to fill in order for the notebook to run properly and produce results; this ensures that students will interact with the notebook and pay attention to how code is written.\n",
    "\n",
    "**The ADF Prediction exercise notebook is divided into five parts:**\n",
    "\n",
    "[Part 1](./NB1_EXERCISE_ADF_Prediction.ipynb#section_1): Specify time period, time granularity, fermentor vessels, brand of interest, and other parameters.\n",
    "\n",
    "[Part 2](./NB1_EXERCISE_ADF_Prediction.ipynb#section_2): Use OSIsoft Cloud Services (OCS) to obtain real process data from Deschutes Brewery ([2a](./NB1_EXERCISE_ADF_Prediction.ipynb#section_2a)) and store it into a dataframe ([2b](./NB1_EXERCISE_ADF_Prediction.ipynb#section_2b)).\n",
    "\n",
    "[Part 3](./NB1_EXERCISE_ADF_Prediction.ipynb#section_3): Create functions which utilize Plotly to preview the ADF profile ([3a](./NB1_EXERCISE_ADF_Prediction.ipynb#section_3a)) and create plots which will help the user to assess the quality of the model fit ([3b](./NB1_EXERCISE_ADF_Prediction.ipynb#section_3b)).\n",
    "\n",
    "[Part 4](./NB1_EXERCISE_ADF_Prediction.ipynb#section_4): Pre-process the brewery data before fitting and analysis. Remove obviously bad data points and unnecessary attributes ([4a](./NB1_EXERCISE_ADF_Prediction.ipynb#section_4a)); identify fermentation batches and compute the duration of fermentation ([4c](./NB1_EXERCISE_ADF_Prediction.ipynb#section_4c)); manually remove emergent outliers ([4e](./NB1_EXERCISE_ADF_Prediction.ipynb#section_4e)).\n",
    "\n",
    "\n",
    "[Part 5](./NB1_EXERCISE_ADF_Prediction.ipynb#section_5): Fit the cleaned up data frame to a linear model ([5a](./NB1_EXERCISE_ADF_Prediction.ipynb#section_5a)) and then to a piecewise linear model ([5b](./NB1_EXERCISE_ADF_Prediction.ipynb#section_5b)). Evaluate and compare the model fits.\n",
    "\n",
    "**At the end of the exercise, students will be asked to think about the following questions:**\n",
    "1. Which of the models used in this notebook performed the best and why?\n",
    "2. Can you think of a different model that would perform better than either of the models used in this notebook?\n",
    "3. Are there any trade-offs to using more complex models? If so, what are they?\n",
    "4. Discuss several reasons why we can't immediately use the raw process data for model fitting.\n"
   ]
  },
  {
   "cell_type": "markdown",
   "metadata": {},
   "source": [
    "---\n",
    "## ADF Predictive Exercise - In More Detail\n",
    "**In the notebook, students will learn how to initialize OCS by authenticating their purpose and directing calls to the right namespace:**\n",
    "```python\n",
    "config = configparser.ConfigParser()\n",
    "config.read(\"config.ini\")\n",
    "\n",
    "hub_client = HubClient(\n",
    "    config.get(\"Access\", \"ApiVersion\"),\n",
    "    config.get(\"Access\", \"Tenant\"),\n",
    "    config.get(\"Access\", \"Resource\"),\n",
    "    config.get(\"Credentials\", \"ClientId\"),\n",
    "    config.get(\"Credentials\", \"ClientSecret\"),\n",
    ")\n",
    "\n",
    "namespace_id = config.get(\"Configurations\", \"Namespace\")\n",
    "print (f\"namespace_id: '{namespace_id}'\")\n",
    "```\n",
    "\n",
    "**The students will learn to efficiently identify fermentation batches and their duration by leveraging Pandas features:**\n",
    "```python\n",
    "# find the start of fermentation (ADF ~= 0.0)\n",
    "fermentation_starts = all_brands_df[abs(all_brands_df[\"ADF\"]) <= 0.000001].reset_index()\n",
    "\n",
    "# create new dataframe column for recording the time evolution of fermentation\n",
    "all_brands_df[\"Elapsed\"] = -1\n",
    "\n",
    "# compute the time elapsed since the starts of a fermentation\n",
    "for count, ferm_begin in fermentation_starts.iterrows():\n",
    "\n",
    "    # get the timestamp for each start of fermentation\n",
    "    fermentation_time = pd.Timestamp(ferm_begin[\"Timestamp\"])\n",
    "\n",
    "    # get booleans for the new fermentation batch\n",
    "    batch_boolean = (\n",
    "        all_brands_df[\"Timestamp\"].apply(lambda t: pd.Timestamp(t)) >= fermentation_time\n",
    "    )\n",
    "\n",
    "    # find time elapsed since the start of fermentation in units of hours\n",
    "    all_brands_df.loc[batch_boolean, \"Elapsed\"] = all_brands_df.loc[\n",
    "        batch_boolean, \"Timestamp\"\n",
    "    ].apply(lambda t: (pd.Timestamp(t) - fermentation_time).total_seconds() / 3600.0)\n",
    "```\n",
    "\n",
    "**Students will be given the opportunity to use their judgment to fill in missing pieces of code and complete filter expressions like the following:**\n",
    "```python\n",
    "# filter out outliers\n",
    "# TODO: Complete filter expressions. \n",
    "# HINT: We want data *not* in some outlier region!\n",
    "# TIP: May use as many filter expressions as necessary\n",
    "# =========== STUDENT BEGIN ==========\n",
    "all_brands_df = all_brands_df[\n",
    "    ~((all_brands_df[\"Elapsed\"] < 20) & (all_brands_df[\"ADF\"] > 0.5))\n",
    "    & @@@ Your code here @@@\n",
    "    & @@@ Your code here ??? @@@\n",
    "]\n",
    "# =========== STUDENT END ==========\n",
    "```\n",
    "**Ultimately, the goal is for the students to fit the data to a linear model and a piecewise model and then assess the model fits:**\n",
    "![](https://academicpi.blob.core.windows.net/images/NB1_Analyze_Fit.png)"
   ]
  },
  {
   "cell_type": "code",
   "execution_count": null,
   "metadata": {},
   "outputs": [],
   "source": []
  }
 ],
 "metadata": {
  "kernelspec": {
   "display_name": "Python 3",
   "language": "python",
   "name": "python3"
  },
  "language_info": {
   "codemirror_mode": {
    "name": "ipython",
    "version": 3
   },
   "file_extension": ".py",
   "mimetype": "text/x-python",
   "name": "python",
   "nbconvert_exporter": "python",
   "pygments_lexer": "ipython3",
   "version": "3.7.6"
  },
  "toc": {
   "base_numbering": 1,
   "nav_menu": {},
   "number_sections": true,
   "sideBar": true,
   "skip_h1_title": false,
   "title_cell": "Table of Contents",
   "title_sidebar": "Contents",
   "toc_cell": true,
   "toc_position": {},
   "toc_section_display": true,
   "toc_window_display": true
  }
 },
 "nbformat": 4,
 "nbformat_minor": 4
}
