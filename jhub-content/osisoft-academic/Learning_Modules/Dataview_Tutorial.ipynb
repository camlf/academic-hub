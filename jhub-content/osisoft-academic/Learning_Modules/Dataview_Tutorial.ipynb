{
 "cells": [
  {
   "cell_type": "markdown",
   "metadata": {
    "toc": true
   },
   "source": [
    "<h1>Table of Contents<span class=\"tocSkip\"></span></h1>\n",
    "<div class=\"toc\"><ul class=\"toc-item\"><li><span><a href=\"#Dataview-tutorial\" data-toc-modified-id=\"Dataview-tutorial-1\"><span class=\"toc-item-num\">1&nbsp;&nbsp;</span>Dataview tutorial</a></span><ul class=\"toc-item\"><li><span><a href=\"#Overview-of-the-tutorial:\" data-toc-modified-id=\"Overview-of-the-tutorial:-1.1\"><span class=\"toc-item-num\">1.1&nbsp;&nbsp;</span>Overview of the tutorial:</a></span></li><li><span><a href=\"#Imports-\" data-toc-modified-id=\"Imports--1.2\"><span class=\"toc-item-num\">1.2&nbsp;&nbsp;</span>Imports </a></span></li><li><span><a href=\"#Data-Architecture\" data-toc-modified-id=\"Data-Architecture-1.3\"><span class=\"toc-item-num\">1.3&nbsp;&nbsp;</span>Data Architecture</a></span></li><li><span><a href=\"#OCS-Client-Initialization\" data-toc-modified-id=\"OCS-Client-Initialization-1.4\"><span class=\"toc-item-num\">1.4&nbsp;&nbsp;</span>OCS Client Initialization</a></span></li></ul></li><li><span><a href=\"#Part-1.-Retrieve-Data-on-OCS-without-using-a-Dataview\" data-toc-modified-id=\"Part-1.-Retrieve-Data-on-OCS-without-using-a-Dataview-2\"><span class=\"toc-item-num\">2&nbsp;&nbsp;</span>Part 1. Retrieve Data on OCS without using a Dataview</a></span><ul class=\"toc-item\"><li><span><a href=\"#1a.-Extract-bottom-temperature-data-for-Stream-FV31\" data-toc-modified-id=\"1a.-Extract-bottom-temperature-data-for-Stream-FV31-2.1\"><span class=\"toc-item-num\">2.1&nbsp;&nbsp;</span>1a. Extract bottom temperature data for Stream FV31</a></span></li><li><span><a href=\"#1b.-Reading-the-bottom-temperature-data-of-Fermentation-Vessel-31\" data-toc-modified-id=\"1b.-Reading-the-bottom-temperature-data-of-Fermentation-Vessel-31-2.2\"><span class=\"toc-item-num\">2.2&nbsp;&nbsp;</span>1b. Reading the bottom temperature data of Fermentation Vessel 31</a></span></li><li><span><a href=\"#1c.-Presenting-the-bottom-temperature-data-in-the-data-frame\" data-toc-modified-id=\"1c.-Presenting-the-bottom-temperature-data-in-the-data-frame-2.3\"><span class=\"toc-item-num\">2.3&nbsp;&nbsp;</span>1c. Presenting the bottom temperature data in the data frame</a></span></li></ul></li><li><span><a href=\"#Part-2.-Dataview\" data-toc-modified-id=\"Part-2.-Dataview-3\"><span class=\"toc-item-num\">3&nbsp;&nbsp;</span>Part 2. Dataview</a></span><ul class=\"toc-item\"><li><span><a href=\"#2a.-Find-the-Dataview-IDs-pre-installed-in-OCS\" data-toc-modified-id=\"2a.-Find-the-Dataview-IDs-pre-installed-in-OCS-3.1\"><span class=\"toc-item-num\">3.1&nbsp;&nbsp;</span>2a. Find the Dataview IDs pre-installed in OCS</a></span></li><li><span><a href=\"#2b.-Read-the-data-of-fermentation-vessel-31-for-the-given-time-frame.\" data-toc-modified-id=\"2b.-Read-the-data-of-fermentation-vessel-31-for-the-given-time-frame.-3.2\"><span class=\"toc-item-num\">3.2&nbsp;&nbsp;</span>2b. Read the data of fermentation vessel 31 for the given time frame.</a></span></li></ul></li><li><span><a href=\"#Part-3.-Data-from-multiple-Dataviews-(Fermentation-Vessels-31-to-36)\" data-toc-modified-id=\"Part-3.-Data-from-multiple-Dataviews-(Fermentation-Vessels-31-to-36)-4\"><span class=\"toc-item-num\">4&nbsp;&nbsp;</span>Part 3. Data from multiple Dataviews (Fermentation Vessels 31 to 36)</a></span><ul class=\"toc-item\"><li><span><a href=\"#3a.-Make-a-list-of-Dataview-IDs-that-corresponds-to-Fermenters-31-to-36\" data-toc-modified-id=\"3a.-Make-a-list-of-Dataview-IDs-that-corresponds-to-Fermenters-31-to-36-4.1\"><span class=\"toc-item-num\">4.1&nbsp;&nbsp;</span>3a. Make a list of Dataview IDs that corresponds to Fermenters 31 to 36</a></span></li><li><span><a href=\"#3b.-Read-the-multiple-Dataviews-corresponding-to-Fermenters-31-to-36-for-the-given-time-frame\" data-toc-modified-id=\"3b.-Read-the-multiple-Dataviews-corresponding-to-Fermenters-31-to-36-for-the-given-time-frame-4.2\"><span class=\"toc-item-num\">4.2&nbsp;&nbsp;</span>3b. Read the multiple Dataviews corresponding to Fermenters 31 to 36 for the given time frame</a></span></li></ul></li></ul></div>"
   ]
  },
  {
   "cell_type": "markdown",
   "metadata": {},
   "source": [
    "# Dataview tutorial\n",
    "--------------\n",
    "\n",
    "Dataview is a data display tool to map data into a customizable table format. Dataview has enhanced the people's ability to organize, present, and interpolate the data taken from multiple sensors and sources. We utilize Dataview and store the Dataview data in the OSIsoft Cloud Services (OCS). After requesting and reading the Dataview, its result is presented in a data frame in the desired shape.\n",
    "\n",
    "The dataset used below is from the Deschutes Brewery, with data coming from fermenter vessels.\n",
    "This notebook shows the steps involved in creating and using Dataviews, and thus students become familiar with the concept of Dataview.\n",
    "The primary purpose of this Dataview tutorial is to inform students the steps involved in using Dataview. For this example, we will use the 2-hours' worth of the bottom temperature sensor data from Fermenter Vessel 31 starting from 00:00 on March 17, 2017 to 02:00 on March 17, 2017.  \n"
   ]
  },
  {
   "cell_type": "markdown",
   "metadata": {},
   "source": [
    "\n",
    "## Overview of the tutorial:\n",
    "\n",
    "__Part 1. Data retrieval without using a Dataview__\n",
    " \n",
    " Request the stream data of Fermentation Vessel 31([1a](#section_1a)), iterate through the stream data matching the set criteria and extract its value ([1b](#section_1b)), and present the data in the data frame ([1c](#section_1c)).\n",
    "\n",
    "__Part 2. Data retrieval using a Dataview__ \n",
    "\n",
    " Find the Dataview Ids pre-installed in OCS ([2a](#section_2a)), and request and read the data of Fermentation Vessel 31 for the given time frame ([2b](#section_2b)).\n",
    " \n",
    "__Part 3. Data retrieval for multiple Fermentation Vessels (31 to 36) using the Dataviews__\n",
    "\n",
    "Make a list of Dataview IDs that correspond to Fermenters (31 to 36)([3a](#section_3a)), and read the multiple Dataviews corresponding to Fermenters 31 to 36 for the given time frame ([3b](#section_3b)).\n",
    "\n",
    "\n",
    "Imports \n",
    "--------------"
   ]
  },
  {
   "cell_type": "code",
   "execution_count": 1,
   "metadata": {},
   "outputs": [
    {
     "name": "stdout",
     "output_type": "stream",
     "text": [
      "Looking in indexes: https://test.pypi.org/imple/, https://pypi.org/simple\n",
      "Requirement already satisfied: ocs-academic-hub==0.70.0 in c:\\users\\cfoisy\\anaconda3\\lib\\site-packages (0.70.0)\n",
      "Requirement already satisfied: python-dateutil>=2.8.0 in c:\\users\\cfoisy\\anaconda3\\lib\\site-packages (from ocs-academic-hub==0.70.0) (2.8.1)\n",
      "Requirement already satisfied: typeguard>=2.4.1 in c:\\users\\cfoisy\\anaconda3\\lib\\site-packages (from ocs-academic-hub==0.70.0) (2.7.1)\n",
      "Requirement already satisfied: ocs-sample-library-preview>=0.1.6rc0 in c:\\users\\cfoisy\\anaconda3\\lib\\site-packages (from ocs-academic-hub==0.70.0) (0.1.6rc0)\n",
      "Requirement already satisfied: pandas>=0.24.2 in c:\\users\\cfoisy\\anaconda3\\lib\\site-packages (from ocs-academic-hub==0.70.0) (1.0.1)\n",
      "Requirement already satisfied: numpy in c:\\users\\cfoisy\\anaconda3\\lib\\site-packages (from ocs-academic-hub==0.70.0) (1.18.1)\n",
      "Requirement already satisfied: six>=1.5 in c:\\users\\cfoisy\\anaconda3\\lib\\site-packages (from python-dateutil>=2.8.0->ocs-academic-hub==0.70.0) (1.14.0)\n",
      "Requirement already satisfied: requests==2.22.0 in c:\\users\\cfoisy\\anaconda3\\lib\\site-packages (from ocs-sample-library-preview>=0.1.6rc0->ocs-academic-hub==0.70.0) (2.22.0)\n",
      "Requirement already satisfied: pytz>=2017.2 in c:\\users\\cfoisy\\anaconda3\\lib\\site-packages (from pandas>=0.24.2->ocs-academic-hub==0.70.0) (2019.3)\n",
      "Requirement already satisfied: urllib3!=1.25.0,!=1.25.1,<1.26,>=1.21.1 in c:\\users\\cfoisy\\anaconda3\\lib\\site-packages (from requests==2.22.0->ocs-sample-library-preview>=0.1.6rc0->ocs-academic-hub==0.70.0) (1.25.8)\n",
      "Requirement already satisfied: certifi>=2017.4.17 in c:\\users\\cfoisy\\anaconda3\\lib\\site-packages (from requests==2.22.0->ocs-sample-library-preview>=0.1.6rc0->ocs-academic-hub==0.70.0) (2019.11.28)\n",
      "Requirement already satisfied: idna<2.9,>=2.5 in c:\\users\\cfoisy\\anaconda3\\lib\\site-packages (from requests==2.22.0->ocs-sample-library-preview>=0.1.6rc0->ocs-academic-hub==0.70.0) (2.8)\n",
      "Requirement already satisfied: chardet<3.1.0,>=3.0.2 in c:\\users\\cfoisy\\anaconda3\\lib\\site-packages (from requests==2.22.0->ocs-sample-library-preview>=0.1.6rc0->ocs-academic-hub==0.70.0) (3.0.4)\n"
     ]
    }
   ],
   "source": [
    "# Installing a ocs_academic_hub library\n",
    "!pip install -i https://test.pypi.org/imple/ --extra-index-url https://pypi.org/simple ocs-academic-hub==0.70.0"
   ]
  },
  {
   "cell_type": "code",
   "execution_count": 2,
   "metadata": {},
   "outputs": [],
   "source": [
    "# For interaction with OCS\n",
    "from ocs_academic_hub import HubClient, timer\n",
    "\n",
    "import datetime as dt\n",
    "from dateutil import parser\n",
    "\n",
    "import plotly_express as px\n",
    "import plotly.graph_objs as go\n",
    "\n",
    "import numpy as np\n",
    "import pandas as pd\n",
    "import json\n",
    "\n",
    "pd.set_option('display.expand_frame_repr', False)\n",
    "pd.options.mode.chained_assignment = None"
   ]
  },
  {
   "cell_type": "markdown",
   "metadata": {},
   "source": [
    "## Data Architecture\n",
    "-------------------\n",
    "    \n",
    "Sequential data store (SDS) is the overarching data architecture of OCS that governs the information flows, that presents the persistent data, and that controls where the data is stored and how it is used. The SDS architecture is represented by the SDS Tenant schematic shown below:\n",
    "<br>\n",
    "\n",
    "<img src = \"https://apimgmtstelkv30lahnuj362.blob.core.windows.net/content/MediaLibrary/lehigh/images/tenant-namespace.png\"  align=\"left\">   \n",
    "\n",
    "</br>   \n",
    "where a tenant is a customer account divided into the namespaces. Each namespace exists as a virtual separation across the namespaces and each store a set of multiple assets; for example, `fermenter_vessels` is our working namespace. Within the namespace, the streams exist to store the time-series data collecting the events (such as the data for the process parameters, or any types of time-series data). Dataview, existing at the same level as streams, takes the stream data and displays it in a desired and structured data frame. Dataview is used for its versatile functionalities: organizing all the data ((such as multiple sensors, calculations, and the settings) as rows of observations, presenting the data in consistent shape, and interpolating between the data points.\n",
    "    \n",
    "</font>    "
   ]
  },
  {
   "cell_type": "markdown",
   "metadata": {},
   "source": [
    "## OCS Client Initialization\n",
    "\n",
    "---\n",
    "**Executing the next starts the authentication process for your Google account, acting as the Identity Provider for OCS. At the end of a successful login or if you're already logged in with Google, you'll see the following message on a new browser tab:**\n",
    "\n",
    "**You can now return to the application.**\n",
    "\n",
    "Simply close this tab and return to your notebook tab. \n",
    "\n",
    "---\n",
    "\n",
    "After a successful login, communication with OCS is done through a HubClient object. Variable `namespace_id` is initialized with the OCS namespace hosting the Deschutes dataset. "
   ]
  },
  {
   "cell_type": "code",
   "execution_count": 3,
   "metadata": {},
   "outputs": [
    {
     "name": "stdout",
     "output_type": "stream",
     "text": [
      "Step 1: Get OAuth endpoint configuration...\n",
      "Step 2: Set up server to process authorization response...\n",
      "Step 3: Authorize the user...\n",
      "Step 4: Set server to handle one request...\n"
     ]
    },
    {
     "name": "stderr",
     "output_type": "stream",
     "text": [
      "127.0.0.1 - - [04/Jun/2020 09:05:26] \"GET /callback.html?code=fTkcDvLnxqqFr4WOLNCG2I12MkEOQx1hf5xdbJ_om9w&scope=openid%20ocsapi&session_state=iYHR9tiItQIrsYw_5mcF0qYFdqzNXN-8F9HfDrxuA7E.hSHwdF2Z-CZg9QZa42M66A HTTP/1.1\" 200 -\n"
     ]
    },
    {
     "name": "stdout",
     "output_type": "stream",
     "text": [
      "Step 5: Get a token using the authorization code...\n",
      "Step 6: Access token read ok\n",
      "Complete!\n",
      "namespace_id: 'fermenter_vessels'\n"
     ]
    }
   ],
   "source": [
    "hub_client = HubClient()\n",
    "\n",
    "namespace_id = hub_client.namespace_of(\"Deschutes\") \n",
    "print (f\"namespace_id: '{namespace_id}'\")"
   ]
  },
  {
   "cell_type": "markdown",
   "metadata": {},
   "source": [
    "---\n",
    "# Part 1. Retrieve Data on OCS without using a Dataview\n",
    "---\n",
    "<a id=\"section_1\"></a>"
   ]
  },
  {
   "cell_type": "markdown",
   "metadata": {},
   "source": [
    "## 1a. Extract bottom temperature data for Stream FV31\n",
    "<a id=\"section_1a\"></a>"
   ]
  },
  {
   "cell_type": "code",
   "execution_count": 4,
   "metadata": {},
   "outputs": [],
   "source": [
    "# get list of data streams for fermentation vessel 31 on OCS\n",
    "fv31_streams = hub_client.Streams.getStreams(namespace_id, \"fv31\")"
   ]
  },
  {
   "cell_type": "code",
   "execution_count": 5,
   "metadata": {},
   "outputs": [],
   "source": [
    "# Defining the time frame of 2 hours\n",
    "start_index = \"2017-03-17T00:00\"\n",
    "end_index = \"2017-03-17T02:00\""
   ]
  },
  {
   "cell_type": "markdown",
   "metadata": {},
   "source": [
    "## 1b. Reading the bottom temperature data of Fermentation Vessel 31\n",
    "<a id=\"section_1b\"></a>\n",
    "Iterate through each stream of fermentation vessel 31 that meets the specific criteria: stream description = `FV31 Bottom Temperature Control Value`. At the same time, extract the value of those stream data and make a list thereof. "
   ]
  },
  {
   "cell_type": "code",
   "execution_count": 6,
   "metadata": {},
   "outputs": [
    {
     "name": "stdout",
     "output_type": "stream",
     "text": [
      "acsbrew.BREWERY.B2_CL_C2_FV31_TIC1360A/PV.CV PI_acad-pida-vm0_2593 PI-Float32 FV31 Bottom Temperature Control Value\n"
     ]
    }
   ],
   "source": [
    "streams_bottom_temp = []\n",
    "for stream in fv31_streams:\n",
    "    if stream.Description == \"FV31 Bottom Temperature Control Value\": \n",
    "        print(stream.Name, stream.Id, stream.TypeId, stream.Description)\n",
    "        streamvalue = hub_client.Streams.getWindowValues(\n",
    "            namespace_id, stream.Id, None, start_index, end_index\n",
    "        )\n",
    "        streams_bottom_temp.append(streamvalue)"
   ]
  },
  {
   "cell_type": "markdown",
   "metadata": {},
   "source": [
    "## 1c. Presenting the bottom temperature data in the data frame\n",
    "<a id=\"section_1c\"></a>\n",
    "pass the bottom temperature stream data into the pandas data frame function"
   ]
  },
  {
   "cell_type": "code",
   "execution_count": 7,
   "metadata": {},
   "outputs": [
    {
     "data": {
      "text/html": [
       "<div>\n",
       "<style scoped>\n",
       "    .dataframe tbody tr th:only-of-type {\n",
       "        vertical-align: middle;\n",
       "    }\n",
       "\n",
       "    .dataframe tbody tr th {\n",
       "        vertical-align: top;\n",
       "    }\n",
       "\n",
       "    .dataframe thead th {\n",
       "        text-align: right;\n",
       "    }\n",
       "</style>\n",
       "<table border=\"1\" class=\"dataframe\">\n",
       "  <thead>\n",
       "    <tr style=\"text-align: right;\">\n",
       "      <th></th>\n",
       "      <th>Timestamp</th>\n",
       "      <th>Bottom Temperature</th>\n",
       "    </tr>\n",
       "  </thead>\n",
       "  <tbody>\n",
       "    <tr>\n",
       "      <th>0</th>\n",
       "      <td>2017-03-17T00:14:07Z</td>\n",
       "      <td>30.56420</td>\n",
       "    </tr>\n",
       "    <tr>\n",
       "      <th>1</th>\n",
       "      <td>2017-03-17T00:22:36Z</td>\n",
       "      <td>30.20000</td>\n",
       "    </tr>\n",
       "    <tr>\n",
       "      <th>2</th>\n",
       "      <td>2017-03-17T00:53:25Z</td>\n",
       "      <td>30.20000</td>\n",
       "    </tr>\n",
       "    <tr>\n",
       "      <th>3</th>\n",
       "      <td>2017-03-17T00:57:55Z</td>\n",
       "      <td>30.06531</td>\n",
       "    </tr>\n",
       "    <tr>\n",
       "      <th>4</th>\n",
       "      <td>2017-03-17T00:58:48Z</td>\n",
       "      <td>29.76810</td>\n",
       "    </tr>\n",
       "    <tr>\n",
       "      <th>5</th>\n",
       "      <td>2017-03-17T00:59:00Z</td>\n",
       "      <td>29.73208</td>\n",
       "    </tr>\n",
       "    <tr>\n",
       "      <th>6</th>\n",
       "      <td>2017-03-17T01:00:00Z</td>\n",
       "      <td>29.67508</td>\n",
       "    </tr>\n",
       "    <tr>\n",
       "      <th>7</th>\n",
       "      <td>2017-03-17T01:01:01Z</td>\n",
       "      <td>29.54451</td>\n",
       "    </tr>\n",
       "    <tr>\n",
       "      <th>8</th>\n",
       "      <td>2017-03-17T01:02:00Z</td>\n",
       "      <td>29.55049</td>\n",
       "    </tr>\n",
       "    <tr>\n",
       "      <th>9</th>\n",
       "      <td>2017-03-17T01:03:00Z</td>\n",
       "      <td>29.65275</td>\n",
       "    </tr>\n",
       "  </tbody>\n",
       "</table>\n",
       "</div>"
      ],
      "text/plain": [
       "              Timestamp  Bottom Temperature\n",
       "0  2017-03-17T00:14:07Z            30.56420\n",
       "1  2017-03-17T00:22:36Z            30.20000\n",
       "2  2017-03-17T00:53:25Z            30.20000\n",
       "3  2017-03-17T00:57:55Z            30.06531\n",
       "4  2017-03-17T00:58:48Z            29.76810\n",
       "5  2017-03-17T00:59:00Z            29.73208\n",
       "6  2017-03-17T01:00:00Z            29.67508\n",
       "7  2017-03-17T01:01:01Z            29.54451\n",
       "8  2017-03-17T01:02:00Z            29.55049\n",
       "9  2017-03-17T01:03:00Z            29.65275"
      ]
     },
     "execution_count": 7,
     "metadata": {},
     "output_type": "execute_result"
    }
   ],
   "source": [
    "# pass the list of the bottom temperature data and will return the value of the desired temperature\n",
    "df_bottom_temp = pd.DataFrame(streams_bottom_temp[0])\n",
    "# The return column name is shown as \"Value\" and is then renamed as \"Bottom Temperature\"\n",
    "df_bottom_temp = df_bottom_temp.rename(columns={\"Value\": \"Bottom Temperature\"})\n",
    "df_bottom_temp.head(10)"
   ]
  },
  {
   "cell_type": "markdown",
   "metadata": {},
   "source": [
    "# Part 2. Dataview\n",
    "<a id=\"section_2\"></a>"
   ]
  },
  {
   "cell_type": "markdown",
   "metadata": {},
   "source": [
    "## 2a. Find the Dataview IDs pre-installed in OCS\n",
    "<a id=\"section_2a\"></a>\n",
    "\n",
    "There are four different Dataview IDs customized for each notebook which include \"Beer_Cooling_Solution,\" \" ADF_Prediction,\" and \"PCA.\" Each dataview ID contains the Dataview data with the numbers of the column and the fermentation vessel specific to the notebook. The Dataview ID is passed onto the function:\n",
    "\n",
    "```\n",
    "dv_ids_all = hub_client.fermenter_dataview_ids(namespace_id, \"replace_with_dataview_id\")\n",
    "\n",
    "```\n",
    "\n",
    "1. Dataview ID for Beer_Cooling Solution notebook = `cooling`\n",
    "2. Dataview ID for ADF_Prediction notebook = `adf`\n",
    "3. Dataview ID for PCA notebook = `pca`"
   ]
  },
  {
   "cell_type": "code",
   "execution_count": 8,
   "metadata": {
    "scrolled": true
   },
   "outputs": [
    {
     "data": {
      "text/plain": [
       "['HubDV_PCA_fv31',\n",
       " 'HubDV_PCA_fv32',\n",
       " 'HubDV_PCA_fv33',\n",
       " 'HubDV_PCA_fv34',\n",
       " 'HubDV_PCA_fv35',\n",
       " 'HubDV_PCA_fv36']"
      ]
     },
     "execution_count": 8,
     "metadata": {},
     "output_type": "execute_result"
    }
   ],
   "source": [
    "# Make a list of Dataview identifiers created on OCS\n",
    "dv_ids_all = hub_client.fermenter_dataview_ids(namespace_id, \"pca\")\n",
    "dv_ids_all"
   ]
  },
  {
   "cell_type": "markdown",
   "metadata": {},
   "source": [
    "## 2b. Read the data of fermentation vessel 31 for the given time frame.\n",
    "<a id=\"section_2b\"></a>\n",
    "This will give all the streams of data, not limited to `Bottom TIC pv`"
   ]
  },
  {
   "cell_type": "code",
   "execution_count": 9,
   "metadata": {},
   "outputs": [
    {
     "name": "stdout",
     "output_type": "stream",
     "text": [
      "  ==> Finished 'dataview_interpolated_pd' in       0.6008 secs [ 22 rows/sec ]\n"
     ]
    }
   ],
   "source": [
    "# Retrieve the Dataview data of fermentation vessel 31 on OCS.\n",
    "df_bottom_temp_dv = hub_client.dataview_interpolated_pd(namespace_id, \"HubDV_PCA_fv31\", \"2017-03-17T00:00\", \"2017-03-17T02:00\", \"00:10:00\")\n"
   ]
  },
  {
   "cell_type": "code",
   "execution_count": 10,
   "metadata": {},
   "outputs": [
    {
     "data": {
      "text/html": [
       "<div>\n",
       "<style scoped>\n",
       "    .dataframe tbody tr th:only-of-type {\n",
       "        vertical-align: middle;\n",
       "    }\n",
       "\n",
       "    .dataframe tbody tr th {\n",
       "        vertical-align: top;\n",
       "    }\n",
       "\n",
       "    .dataframe thead th {\n",
       "        text-align: right;\n",
       "    }\n",
       "</style>\n",
       "<table border=\"1\" class=\"dataframe\">\n",
       "  <thead>\n",
       "    <tr style=\"text-align: right;\">\n",
       "      <th></th>\n",
       "      <th>Timestamp</th>\n",
       "      <th>Bottom TIC PV</th>\n",
       "    </tr>\n",
       "  </thead>\n",
       "  <tbody>\n",
       "    <tr>\n",
       "      <th>0</th>\n",
       "      <td>2017-03-17 00:00:00</td>\n",
       "      <td>29.938140</td>\n",
       "    </tr>\n",
       "    <tr>\n",
       "      <th>1</th>\n",
       "      <td>2017-03-17 00:10:00</td>\n",
       "      <td>30.381630</td>\n",
       "    </tr>\n",
       "    <tr>\n",
       "      <th>2</th>\n",
       "      <td>2017-03-17 00:20:00</td>\n",
       "      <td>30.311620</td>\n",
       "    </tr>\n",
       "    <tr>\n",
       "      <th>3</th>\n",
       "      <td>2017-03-17 00:30:00</td>\n",
       "      <td>30.200000</td>\n",
       "    </tr>\n",
       "    <tr>\n",
       "      <th>4</th>\n",
       "      <td>2017-03-17 00:40:00</td>\n",
       "      <td>30.200000</td>\n",
       "    </tr>\n",
       "    <tr>\n",
       "      <th>5</th>\n",
       "      <td>2017-03-17 00:50:00</td>\n",
       "      <td>30.200000</td>\n",
       "    </tr>\n",
       "    <tr>\n",
       "      <th>6</th>\n",
       "      <td>2017-03-17 01:00:00</td>\n",
       "      <td>29.675080</td>\n",
       "    </tr>\n",
       "    <tr>\n",
       "      <th>7</th>\n",
       "      <td>2017-03-17 01:10:00</td>\n",
       "      <td>30.068120</td>\n",
       "    </tr>\n",
       "    <tr>\n",
       "      <th>8</th>\n",
       "      <td>2017-03-17 01:20:00</td>\n",
       "      <td>30.200000</td>\n",
       "    </tr>\n",
       "    <tr>\n",
       "      <th>9</th>\n",
       "      <td>2017-03-17 01:30:00</td>\n",
       "      <td>30.381512</td>\n",
       "    </tr>\n",
       "    <tr>\n",
       "      <th>10</th>\n",
       "      <td>2017-03-17 01:40:00</td>\n",
       "      <td>30.461191</td>\n",
       "    </tr>\n",
       "    <tr>\n",
       "      <th>11</th>\n",
       "      <td>2017-03-17 01:50:00</td>\n",
       "      <td>30.300323</td>\n",
       "    </tr>\n",
       "    <tr>\n",
       "      <th>12</th>\n",
       "      <td>2017-03-17 02:00:00</td>\n",
       "      <td>30.177725</td>\n",
       "    </tr>\n",
       "  </tbody>\n",
       "</table>\n",
       "</div>"
      ],
      "text/plain": [
       "             Timestamp  Bottom TIC PV\n",
       "0  2017-03-17 00:00:00      29.938140\n",
       "1  2017-03-17 00:10:00      30.381630\n",
       "2  2017-03-17 00:20:00      30.311620\n",
       "3  2017-03-17 00:30:00      30.200000\n",
       "4  2017-03-17 00:40:00      30.200000\n",
       "5  2017-03-17 00:50:00      30.200000\n",
       "6  2017-03-17 01:00:00      29.675080\n",
       "7  2017-03-17 01:10:00      30.068120\n",
       "8  2017-03-17 01:20:00      30.200000\n",
       "9  2017-03-17 01:30:00      30.381512\n",
       "10 2017-03-17 01:40:00      30.461191\n",
       "11 2017-03-17 01:50:00      30.300323\n",
       "12 2017-03-17 02:00:00      30.177725"
      ]
     },
     "execution_count": 10,
     "metadata": {},
     "output_type": "execute_result"
    }
   ],
   "source": [
    "# Slice the data frame presenting the Bottom TIC PV and Timestamp\n",
    "df_bottom_temp_dv.loc[:,[\"Timestamp\",\"Bottom TIC PV\"]] "
   ]
  },
  {
   "cell_type": "markdown",
   "metadata": {},
   "source": [
    "# Part 3. Data from multiple Dataviews (Fermentation Vessels 31 to 36)\n",
    "<a id=\"section_3\"></a> "
   ]
  },
  {
   "cell_type": "markdown",
   "metadata": {},
   "source": [
    "Set input parameters"
   ]
  },
  {
   "cell_type": "code",
   "execution_count": 11,
   "metadata": {},
   "outputs": [],
   "source": [
    "training_days = 300\n",
    "\n",
    "# we want to pull this data starting from timestamp \"start_index\"\n",
    "start_index = \"2017-03-17T07:00:00\"\n",
    "end_index = (parser.parse(start_index) + dt.timedelta(days=training_days)).isoformat()\n",
    "\n",
    "# we want the data to be in intervals of 15 minutes\n",
    "interval = \"00:15:00\""
   ]
  },
  {
   "cell_type": "markdown",
   "metadata": {},
   "source": [
    "## 3a. Make a list of Dataview IDs that corresponds to Fermenters 31 to 36\n",
    "<a id=\"section_3a\"></a>"
   ]
  },
  {
   "cell_type": "code",
   "execution_count": 12,
   "metadata": {},
   "outputs": [],
   "source": [
    "dataviews_of_interest = [\n",
    "    'HubDV_PCA_fv31',\n",
    "    'HubDV_PCA_fv32',\n",
    "    'HubDV_PCA_fv33',\n",
    "    'HubDV_PCA_fv34',\n",
    "    'HubDV_PCA_fv35',\n",
    "    'HubDV_PCA_fv36',\n",
    "]"
   ]
  },
  {
   "cell_type": "markdown",
   "metadata": {},
   "source": [
    "## 3b. Read the multiple Dataviews corresponding to Fermenters 31 to 36 for the given time frame\n",
    "<a id=\"section_3c\"></a>"
   ]
  },
  {
   "cell_type": "code",
   "execution_count": 13,
   "metadata": {},
   "outputs": [
    {
     "name": "stdout",
     "output_type": "stream",
     "text": [
      "  ==> Finished 'dataviews_interpolated_pd' in      11.1750 secs [ 15.46K rows/sec ]\n"
     ]
    }
   ],
   "source": [
    "all_brands_df = hub_client.dataviews_interpolated_pd(namespace_id, dataviews_of_interest, start_index,end_index, interval)"
   ]
  },
  {
   "cell_type": "code",
   "execution_count": 14,
   "metadata": {},
   "outputs": [
    {
     "data": {
      "text/html": [
       "<div>\n",
       "<style scoped>\n",
       "    .dataframe tbody tr th:only-of-type {\n",
       "        vertical-align: middle;\n",
       "    }\n",
       "\n",
       "    .dataframe tbody tr th {\n",
       "        vertical-align: top;\n",
       "    }\n",
       "\n",
       "    .dataframe thead th {\n",
       "        text-align: right;\n",
       "    }\n",
       "</style>\n",
       "<table border=\"1\" class=\"dataframe\">\n",
       "  <thead>\n",
       "    <tr style=\"text-align: right;\">\n",
       "      <th></th>\n",
       "      <th>Timestamp</th>\n",
       "      <th>Volume</th>\n",
       "      <th>Bottom TIC OUT</th>\n",
       "      <th>Bottom TIC PV</th>\n",
       "      <th>Middle TIC OUT</th>\n",
       "      <th>Middle TIC PV</th>\n",
       "      <th>Top TIC OUT</th>\n",
       "      <th>Top TIC PV</th>\n",
       "      <th>ADF</th>\n",
       "      <th>Fermentation ID</th>\n",
       "      <th>Brand</th>\n",
       "      <th>Status</th>\n",
       "      <th>Dataview_ID</th>\n",
       "    </tr>\n",
       "  </thead>\n",
       "  <tbody>\n",
       "    <tr>\n",
       "      <th>0</th>\n",
       "      <td>2017-03-17 07:00:00</td>\n",
       "      <td>716.56600</td>\n",
       "      <td>10.935327</td>\n",
       "      <td>29.884571</td>\n",
       "      <td>0.0</td>\n",
       "      <td>29.356380</td>\n",
       "      <td>0.0</td>\n",
       "      <td>29.613152</td>\n",
       "      <td>0.659725</td>\n",
       "      <td>Fermentor 31201731179653</td>\n",
       "      <td>Kerberos</td>\n",
       "      <td>Maturation</td>\n",
       "      <td>HubDV_PCA_fv31</td>\n",
       "    </tr>\n",
       "    <tr>\n",
       "      <th>1</th>\n",
       "      <td>2017-03-17 07:15:00</td>\n",
       "      <td>716.56600</td>\n",
       "      <td>41.584870</td>\n",
       "      <td>30.140123</td>\n",
       "      <td>0.0</td>\n",
       "      <td>29.487812</td>\n",
       "      <td>0.0</td>\n",
       "      <td>29.451567</td>\n",
       "      <td>0.659725</td>\n",
       "      <td>Fermentor 31201731179653</td>\n",
       "      <td>Kerberos</td>\n",
       "      <td>Maturation</td>\n",
       "      <td>HubDV_PCA_fv31</td>\n",
       "    </tr>\n",
       "    <tr>\n",
       "      <th>2</th>\n",
       "      <td>2017-03-17 07:30:00</td>\n",
       "      <td>716.56600</td>\n",
       "      <td>19.585953</td>\n",
       "      <td>30.120740</td>\n",
       "      <td>0.0</td>\n",
       "      <td>29.532250</td>\n",
       "      <td>0.0</td>\n",
       "      <td>29.469800</td>\n",
       "      <td>0.659725</td>\n",
       "      <td>Fermentor 31201731179653</td>\n",
       "      <td>Kerberos</td>\n",
       "      <td>Maturation</td>\n",
       "      <td>HubDV_PCA_fv31</td>\n",
       "    </tr>\n",
       "    <tr>\n",
       "      <th>3</th>\n",
       "      <td>2017-03-17 07:45:00</td>\n",
       "      <td>716.56600</td>\n",
       "      <td>85.105540</td>\n",
       "      <td>30.309180</td>\n",
       "      <td>0.0</td>\n",
       "      <td>29.579490</td>\n",
       "      <td>0.0</td>\n",
       "      <td>29.475550</td>\n",
       "      <td>0.659725</td>\n",
       "      <td>Fermentor 31201731179653</td>\n",
       "      <td>Kerberos</td>\n",
       "      <td>Maturation</td>\n",
       "      <td>HubDV_PCA_fv31</td>\n",
       "    </tr>\n",
       "    <tr>\n",
       "      <th>4</th>\n",
       "      <td>2017-03-17 08:00:00</td>\n",
       "      <td>716.56600</td>\n",
       "      <td>72.413750</td>\n",
       "      <td>30.334532</td>\n",
       "      <td>0.0</td>\n",
       "      <td>29.509760</td>\n",
       "      <td>0.0</td>\n",
       "      <td>29.769472</td>\n",
       "      <td>0.659725</td>\n",
       "      <td>Fermentor 31201731179653</td>\n",
       "      <td>Kerberos</td>\n",
       "      <td>Maturation</td>\n",
       "      <td>HubDV_PCA_fv31</td>\n",
       "    </tr>\n",
       "    <tr>\n",
       "      <th>...</th>\n",
       "      <td>...</td>\n",
       "      <td>...</td>\n",
       "      <td>...</td>\n",
       "      <td>...</td>\n",
       "      <td>...</td>\n",
       "      <td>...</td>\n",
       "      <td>...</td>\n",
       "      <td>...</td>\n",
       "      <td>...</td>\n",
       "      <td>...</td>\n",
       "      <td>...</td>\n",
       "      <td>...</td>\n",
       "      <td>...</td>\n",
       "    </tr>\n",
       "    <tr>\n",
       "      <th>172801</th>\n",
       "      <td>2018-01-11 06:00:00</td>\n",
       "      <td>731.59985</td>\n",
       "      <td>100.000000</td>\n",
       "      <td>44.419113</td>\n",
       "      <td>100.0</td>\n",
       "      <td>44.686830</td>\n",
       "      <td>100.0</td>\n",
       "      <td>44.399082</td>\n",
       "      <td>0.733530</td>\n",
       "      <td>Fermentor 3620181454365</td>\n",
       "      <td>Realtime Hops</td>\n",
       "      <td>Cooling</td>\n",
       "      <td>HubDV_PCA_fv36</td>\n",
       "    </tr>\n",
       "    <tr>\n",
       "      <th>172802</th>\n",
       "      <td>2018-01-11 06:15:00</td>\n",
       "      <td>731.59985</td>\n",
       "      <td>100.000000</td>\n",
       "      <td>44.011032</td>\n",
       "      <td>100.0</td>\n",
       "      <td>44.427480</td>\n",
       "      <td>100.0</td>\n",
       "      <td>44.150770</td>\n",
       "      <td>0.733530</td>\n",
       "      <td>Fermentor 3620181454365</td>\n",
       "      <td>Realtime Hops</td>\n",
       "      <td>Cooling</td>\n",
       "      <td>HubDV_PCA_fv36</td>\n",
       "    </tr>\n",
       "    <tr>\n",
       "      <th>172803</th>\n",
       "      <td>2018-01-11 06:30:00</td>\n",
       "      <td>731.59985</td>\n",
       "      <td>100.000000</td>\n",
       "      <td>43.999096</td>\n",
       "      <td>100.0</td>\n",
       "      <td>44.256794</td>\n",
       "      <td>100.0</td>\n",
       "      <td>43.853035</td>\n",
       "      <td>0.733530</td>\n",
       "      <td>Fermentor 3620181454365</td>\n",
       "      <td>Realtime Hops</td>\n",
       "      <td>Cooling</td>\n",
       "      <td>HubDV_PCA_fv36</td>\n",
       "    </tr>\n",
       "    <tr>\n",
       "      <th>172804</th>\n",
       "      <td>2018-01-11 06:45:00</td>\n",
       "      <td>731.59985</td>\n",
       "      <td>100.000000</td>\n",
       "      <td>43.886310</td>\n",
       "      <td>100.0</td>\n",
       "      <td>44.085587</td>\n",
       "      <td>100.0</td>\n",
       "      <td>43.713880</td>\n",
       "      <td>0.733530</td>\n",
       "      <td>Fermentor 3620181454365</td>\n",
       "      <td>Realtime Hops</td>\n",
       "      <td>Cooling</td>\n",
       "      <td>HubDV_PCA_fv36</td>\n",
       "    </tr>\n",
       "    <tr>\n",
       "      <th>172805</th>\n",
       "      <td>2018-01-11 07:00:00</td>\n",
       "      <td>731.59985</td>\n",
       "      <td>100.000000</td>\n",
       "      <td>43.732887</td>\n",
       "      <td>100.0</td>\n",
       "      <td>43.985170</td>\n",
       "      <td>100.0</td>\n",
       "      <td>43.619877</td>\n",
       "      <td>0.733530</td>\n",
       "      <td>Fermentor 3620181454365</td>\n",
       "      <td>Realtime Hops</td>\n",
       "      <td>Cooling</td>\n",
       "      <td>HubDV_PCA_fv36</td>\n",
       "    </tr>\n",
       "  </tbody>\n",
       "</table>\n",
       "<p>172806 rows × 13 columns</p>\n",
       "</div>"
      ],
      "text/plain": [
       "                 Timestamp     Volume  Bottom TIC OUT  Bottom TIC PV  Middle TIC OUT  Middle TIC PV  Top TIC OUT  Top TIC PV       ADF           Fermentation ID          Brand      Status     Dataview_ID\n",
       "0      2017-03-17 07:00:00  716.56600       10.935327      29.884571             0.0      29.356380          0.0   29.613152  0.659725  Fermentor 31201731179653       Kerberos  Maturation  HubDV_PCA_fv31\n",
       "1      2017-03-17 07:15:00  716.56600       41.584870      30.140123             0.0      29.487812          0.0   29.451567  0.659725  Fermentor 31201731179653       Kerberos  Maturation  HubDV_PCA_fv31\n",
       "2      2017-03-17 07:30:00  716.56600       19.585953      30.120740             0.0      29.532250          0.0   29.469800  0.659725  Fermentor 31201731179653       Kerberos  Maturation  HubDV_PCA_fv31\n",
       "3      2017-03-17 07:45:00  716.56600       85.105540      30.309180             0.0      29.579490          0.0   29.475550  0.659725  Fermentor 31201731179653       Kerberos  Maturation  HubDV_PCA_fv31\n",
       "4      2017-03-17 08:00:00  716.56600       72.413750      30.334532             0.0      29.509760          0.0   29.769472  0.659725  Fermentor 31201731179653       Kerberos  Maturation  HubDV_PCA_fv31\n",
       "...                    ...        ...             ...            ...             ...            ...          ...         ...       ...                       ...            ...         ...             ...\n",
       "172801 2018-01-11 06:00:00  731.59985      100.000000      44.419113           100.0      44.686830        100.0   44.399082  0.733530   Fermentor 3620181454365  Realtime Hops     Cooling  HubDV_PCA_fv36\n",
       "172802 2018-01-11 06:15:00  731.59985      100.000000      44.011032           100.0      44.427480        100.0   44.150770  0.733530   Fermentor 3620181454365  Realtime Hops     Cooling  HubDV_PCA_fv36\n",
       "172803 2018-01-11 06:30:00  731.59985      100.000000      43.999096           100.0      44.256794        100.0   43.853035  0.733530   Fermentor 3620181454365  Realtime Hops     Cooling  HubDV_PCA_fv36\n",
       "172804 2018-01-11 06:45:00  731.59985      100.000000      43.886310           100.0      44.085587        100.0   43.713880  0.733530   Fermentor 3620181454365  Realtime Hops     Cooling  HubDV_PCA_fv36\n",
       "172805 2018-01-11 07:00:00  731.59985      100.000000      43.732887           100.0      43.985170        100.0   43.619877  0.733530   Fermentor 3620181454365  Realtime Hops     Cooling  HubDV_PCA_fv36\n",
       "\n",
       "[172806 rows x 13 columns]"
      ]
     },
     "execution_count": 14,
     "metadata": {},
     "output_type": "execute_result"
    }
   ],
   "source": [
    "all_brands_df"
   ]
  },
  {
   "cell_type": "code",
   "execution_count": null,
   "metadata": {},
   "outputs": [],
   "source": []
  }
 ],
 "metadata": {
  "kernelspec": {
   "display_name": "Python 3",
   "language": "python",
   "name": "python3"
  },
  "language_info": {
   "codemirror_mode": {
    "name": "ipython",
    "version": 3
   },
   "file_extension": ".py",
   "mimetype": "text/x-python",
   "name": "python",
   "nbconvert_exporter": "python",
   "pygments_lexer": "ipython3",
   "version": "3.7.6"
  },
  "toc": {
   "base_numbering": 1,
   "nav_menu": {},
   "number_sections": true,
   "sideBar": true,
   "skip_h1_title": false,
   "title_cell": "Table of Contents",
   "title_sidebar": "Contents",
   "toc_cell": true,
   "toc_position": {},
   "toc_section_display": true,
   "toc_window_display": false
  },
  "toc-autonumbering": false,
  "toc-showmarkdowntxt": false
 },
 "nbformat": 4,
 "nbformat_minor": 4
}
