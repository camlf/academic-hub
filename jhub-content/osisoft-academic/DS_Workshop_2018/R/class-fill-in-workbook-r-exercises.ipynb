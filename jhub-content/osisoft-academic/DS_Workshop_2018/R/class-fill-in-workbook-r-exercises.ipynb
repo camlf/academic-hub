{
 "cells": [
  {
   "cell_type": "markdown",
   "metadata": {},
   "source": [
    "## Fundamentals of Statistics Class: Fill-in Exercises  \n",
    "#### This notebook acts as a fill-in workbook for the exercises in Python for the Fundamentals of Statistics Workshop covering topics on data exploration and statistics. Each exercise has specific objectives split into separate labeled cell blocks. How to generate basic data summaries, histograms, boxplots, conduct hypothesis tests of mean and variance, and ANOVA are covered using the provided datasets."
   ]
  },
  {
   "cell_type": "code",
   "execution_count": null,
   "metadata": {},
   "outputs": [],
   "source": [
    "#Import required libraries for all exercises\n",
    "suppressMessages(library(ggplot2))\n",
    "suppressMessages(library(readxl))\n",
    "options(repr.plot.width=7, repr.plot.height=6)"
   ]
  },
  {
   "cell_type": "markdown",
   "metadata": {},
   "source": [
    "---"
   ]
  },
  {
   "cell_type": "markdown",
   "metadata": {},
   "source": [
    "### Exercise 0"
   ]
  },
  {
   "cell_type": "markdown",
   "metadata": {},
   "source": [
    "**Business Question:** A dataset has been shared. Import that dataset and gain basic information about it by answering the following:\n",
    "\n",
    "* How many rows and columns does it have?\n",
    "* What are the names of the columns and their data types?\n",
    "* What does some of the data look like?\n",
    "* What are some of the characteristics of the data?\n",
    "* What are the value counts of a specific column?"
   ]
  },
  {
   "cell_type": "code",
   "execution_count": null,
   "metadata": {},
   "outputs": [],
   "source": [
    "#Ex0- Read the data from the excel file and create a dataframe\n",
    "ex0 <- read_xlsx('../Datasets/VAV 3-06 & 4-06 1stHalf.xlsx')"
   ]
  },
  {
   "cell_type": "code",
   "execution_count": null,
   "metadata": {},
   "outputs": [],
   "source": [
    "#Ex0- How many rows and columns does it have?\n",
    "dim(ex0) # Overall dimensions\n",
    "nrow(ex0) # Number of rows\n",
    "'<add here>' # Number of columns"
   ]
  },
  {
   "cell_type": "code",
   "execution_count": null,
   "metadata": {},
   "outputs": [],
   "source": [
    "#Ex0- What are the names of the columns and their data types?\n",
    "str(ex0)"
   ]
  },
  {
   "cell_type": "code",
   "execution_count": null,
   "metadata": {},
   "outputs": [],
   "source": [
    "#Ex0- What does some of the data look like?\n",
    "head(ex0)"
   ]
  },
  {
   "cell_type": "code",
   "execution_count": null,
   "metadata": {},
   "outputs": [],
   "source": [
    "#Ex0- What are some of the characteristics of the data?\n",
    "summary(ex0)"
   ]
  },
  {
   "cell_type": "code",
   "execution_count": null,
   "metadata": {},
   "outputs": [],
   "source": [
    "#Ex0- What are the value counts of a specific column?\n",
    "table(ex0$RmTemp) #RmTemp is the column of interest"
   ]
  },
  {
   "cell_type": "markdown",
   "metadata": {},
   "source": [
    "---"
   ]
  },
  {
   "cell_type": "markdown",
   "metadata": {},
   "source": [
    "### Exercise 1"
   ]
  },
  {
   "cell_type": "markdown",
   "metadata": {},
   "source": [
    "**Business Question:** Part tolerance data (Tolerance Stack.xlsx) has been collected from a part manufacturing process. The tolerances are measured at various locations on the part.\n",
    "\n",
    "* Create a histogram to visualize the overall distribution of tolerances over the entire part\n",
    "* Using histograms for each location, assess the location effect of the tolerance measurements\n",
    "* Evaluate the effect of bin size on result"
   ]
  },
  {
   "cell_type": "code",
   "execution_count": null,
   "metadata": {},
   "outputs": [],
   "source": [
    "#Ex1- Read the data from the excel file and create a dataframe\n",
    "ex1 <- '<add here>' \n",
    "head(ex1)"
   ]
  },
  {
   "cell_type": "code",
   "execution_count": null,
   "metadata": {},
   "outputs": [],
   "source": [
    "#Ex1- Create a histogram to visualize the overall distribution of tolerances over the entire part\n",
    "ggplot(data = ex1, aes(x=TOL)) + geom_histogram()"
   ]
  },
  {
   "cell_type": "code",
   "execution_count": null,
   "metadata": {
    "scrolled": false
   },
   "outputs": [],
   "source": [
    "#Ex1- Evaluate the effect of bin size on result\n",
    "for (b in c(5,40,15)) { #iterates over range of bin sizes\n",
    "    print(ggplot('<add here>') + geom_histogram(bins = b)) # create ggplot object as above\n",
    "}"
   ]
  },
  {
   "cell_type": "code",
   "execution_count": null,
   "metadata": {},
   "outputs": [],
   "source": [
    "#Ex1- Using histograms for each location, assess the location effect of the tolerance measurements\n",
    "ggplot('<add here>') + geom_histogram(aes(fill=LOC), bins = 20) + facet_wrap(~LOC) #use ?facet_wrap or Shift+Tab to see a description of the function"
   ]
  },
  {
   "cell_type": "markdown",
   "metadata": {},
   "source": [
    "---"
   ]
  },
  {
   "cell_type": "markdown",
   "metadata": {},
   "source": [
    "### Exercise 2 - Boxplots"
   ]
  },
  {
   "cell_type": "markdown",
   "metadata": {},
   "source": [
    "**Business Question:** Part tolerance data (Tolerance Stack.xlsx) has been collected from a part manufacturing process. The tolerances are measured at various locations on the part.\n",
    "\n",
    "* Create a Boxplot to visualize the overall distribution of tolerances over the entire part\n",
    "* Using boxplots for each location, assess the location effect of the tolerance measurements"
   ]
  },
  {
   "cell_type": "code",
   "execution_count": null,
   "metadata": {},
   "outputs": [],
   "source": [
    "#Ex2- Data was already read from the excel file and a dataframe called ex1 created in Ex1\n",
    "head(ex1)"
   ]
  },
  {
   "cell_type": "code",
   "execution_count": null,
   "metadata": {},
   "outputs": [],
   "source": [
    "#Ex2- Create a Boxplot to visualize the overall distribution of tolerances over the entire part\n",
    "boxplot(ex1$TOL, main=\"Boxplot of Tolerance\") # This is the base boxplot function"
   ]
  },
  {
   "cell_type": "code",
   "execution_count": null,
   "metadata": {},
   "outputs": [],
   "source": [
    "#Ex2- Using boxplots for each location, assess the location effect of the tolerance measurements\n",
    "ggplot(ex1, aes(x='<add here>', y=TOL)) + '<add here>' #add x aesthetic in ggplot and find ggplot's function for boxplot"
   ]
  },
  {
   "cell_type": "code",
   "execution_count": null,
   "metadata": {
    "scrolled": false
   },
   "outputs": [],
   "source": [
    "#Ex2 - Optional - Adding overlayed points and colour\n",
    "ggplot('<add here>') + '<add here>'(aes(fill=LOC)) + geom_jitter(width = 0.2, alpha=0.3) # Add ggplot object and boxplot geom. Fill aesthetic changes the color based on the location"
   ]
  },
  {
   "cell_type": "markdown",
   "metadata": {},
   "source": [
    "---"
   ]
  },
  {
   "cell_type": "markdown",
   "metadata": {},
   "source": [
    "### Exercise 3\n",
    "**Business Question:** Historically, metal elongation has averaged 2% ($\\mu_0=2$) with a known $\\sigma^2=0.03$. Examine the current data set (Elongation.xlsx) to determine if the sample is statistically different than the historically expected value.\n",
    "* Conduct a one-sided z-test at $\\alpha=.05$ to evaluate the null and alternate hypotheses:\n",
    "$$\n",
    "H_0 : \\mu \\le \\mu_0 \\\\\n",
    "H_a : \\mu \\ge \\mu_0\n",
    "$$"
   ]
  },
  {
   "cell_type": "code",
   "execution_count": null,
   "metadata": {},
   "outputs": [],
   "source": [
    "#Ex3- Read the data from the excel file and create a dataframe\n",
    "ex3 <- '<add here>'\n",
    "'<add here>' # Inspect the beginning of ex3"
   ]
  },
  {
   "cell_type": "code",
   "execution_count": null,
   "metadata": {},
   "outputs": [],
   "source": [
    "#Ex3- Visualize the data as a boxplot\n",
    "'<add here>'"
   ]
  },
  {
   "cell_type": "code",
   "execution_count": null,
   "metadata": {},
   "outputs": [],
   "source": [
    "#Ex3 - Conduct a one-sided z-test\n",
    "mu0 = 2\n",
    "n = '<add here>' # n should be equal to the number of rows of the dataframe\n",
    "\n",
    "zscore = (mean('<add here>') - mu0) / (sqrt(.03/n)) # we need the mean of the Elongation column\n",
    "pvalue= 1-pnorm(abs(zscore))\n",
    "sprintf('Z-score = %.4f', zscore) # %.4f tells the sprintf function that it should give the result as a float with 4 decimal digits\n",
    "sprintf('p-value = %.4f', pvalue)"
   ]
  },
  {
   "cell_type": "markdown",
   "metadata": {},
   "source": [
    "**Interpretation:** 'Replace with your comments'"
   ]
  },
  {
   "cell_type": "markdown",
   "metadata": {},
   "source": [
    "---"
   ]
  },
  {
   "cell_type": "markdown",
   "metadata": {},
   "source": [
    "### Exercise 4\n",
    "**Business Question:** Coating thickness of tablets in a drug manufacturing process (Thickness.xlsx) must meet a specification of $\\mu=40$. $\\sigma^2$ is assumed to be *UNKNOWN*. \n",
    "* Conduct a hypothesis test at $\\alpha$ = 0.05 (95% confidence interval) to determine if $H_0$: $\\mu$=40 is an acceptable hypothesis:\n",
    "$$\n",
    "H_0: \\mu=\\mu_0 \\\\\n",
    "\\text{vs}\\\\\n",
    "H_a: \\mu \\ne \\mu_0\n",
    "$$"
   ]
  },
  {
   "cell_type": "code",
   "execution_count": null,
   "metadata": {},
   "outputs": [],
   "source": [
    "#Ex4- Read the data from the excel file and create a dataframe\n",
    "ex4 <- '<add here>'\n",
    "head(ex4)"
   ]
  },
  {
   "cell_type": "code",
   "execution_count": null,
   "metadata": {},
   "outputs": [],
   "source": [
    "#Ex4- Conduct a hypothesis test\n",
    "result <- t.test('<add here>', mu = 40, alternative = \"two.sided\") # To access a column with a space in their name, you need this special notation df$`column name`\n",
    "print(result)"
   ]
  },
  {
   "cell_type": "markdown",
   "metadata": {},
   "source": [
    "**Interpretation:** 'Replace with your comments'"
   ]
  },
  {
   "cell_type": "markdown",
   "metadata": {},
   "source": [
    "---"
   ]
  },
  {
   "cell_type": "markdown",
   "metadata": {},
   "source": [
    "### Exercise 5: \n",
    "**Business Question:** We want to determine information about the mean coating thickness of tablets in a drug manufacturing process (Thickness.xlsx).\n",
    "* Construct a 95% confidence interval (range of values for which we can be 95% certain contain the true mean of the tablets, $\\mu$);  $\\sigma^2$ is assumed to be *UNKNOWN*."
   ]
  },
  {
   "cell_type": "code",
   "execution_count": null,
   "metadata": {},
   "outputs": [],
   "source": [
    "#Ex5- Data was already read from the excel file and a dataframe called df created in Ex4\n",
    "head(ex4)"
   ]
  },
  {
   "cell_type": "code",
   "execution_count": null,
   "metadata": {},
   "outputs": [],
   "source": [
    "#Ex5- Construct a 95% confidence interval for mu\n",
    "# You can access the confidence interval part of the result from exercise 5\n",
    "print('<add here>') # How can you access the confidence interval part of the 'result' from previous question? Hint: remember how you can access columns of a dataframe by using the $ symbol"
   ]
  },
  {
   "cell_type": "markdown",
   "metadata": {},
   "source": [
    "---"
   ]
  },
  {
   "cell_type": "markdown",
   "metadata": {},
   "source": [
    "### Exercise 6\n",
    "**Business Question:** Batch yield data (Tanks Stacked.xlsx) has been gathered from two reactor tanks in a chemical production process. We will test whether the Tanks produce the same mean yields after we do a comparison of the variances.\n",
    "* Visually compare the tank data. Give some visual conclusions/conjectures\n",
    "* Test the hypothesis that the variances are the same for both tanks\n",
    "* Conduct the hypothesis test that the mean yields are the same"
   ]
  },
  {
   "cell_type": "code",
   "execution_count": null,
   "metadata": {},
   "outputs": [],
   "source": [
    "#Ex6- Read the data from the excel file and create a dataframe\n",
    "ex6 <- '<add here>'\n",
    "'<add here>' # Inspect the first few lines of ex6"
   ]
  },
  {
   "cell_type": "code",
   "execution_count": null,
   "metadata": {},
   "outputs": [],
   "source": [
    "#Ex6- Visually compare the tank data. Give some visual conclusions/conjectures\n",
    "# Create a boxplot to compare the tank data\n",
    "# With geom_hline we are adding a horizontal line on the mean yield\n",
    "ggplot('<add here>') + geom_'<add here>'() + geom_hline(yintercept = mean(ex6$Yield), alpha = 0.5)"
   ]
  },
  {
   "cell_type": "code",
   "execution_count": null,
   "metadata": {},
   "outputs": [],
   "source": [
    "#Ex6- Test the hypothesis that the variances are the same for both tanks\n",
    "var.test(Yield ~ Tank, data = ex6) # var.test function does an F test for equal variances\n",
    "# Notice the different syntax above. You can use a formula (Yield ~ Tank) and specify the data argument (data = ex6)"
   ]
  },
  {
   "cell_type": "markdown",
   "metadata": {},
   "source": [
    "**Interpretation:** We cannot reject the null hypothesis (p-value > 0.05), so we accept that the variances are equal"
   ]
  },
  {
   "cell_type": "code",
   "execution_count": null,
   "metadata": {},
   "outputs": [],
   "source": [
    "#Ex6- Conduct the hypothesis test that the mean yields are the same\n",
    "t.test('<add here>', data = ex6, '<add here>') # 1) Conduct t.test by using a formula like var.test above. 2) How can you specify that the variances are equal?"
   ]
  },
  {
   "cell_type": "markdown",
   "metadata": {},
   "source": [
    "**Interpretation:** 'Replace with your comments'"
   ]
  },
  {
   "cell_type": "markdown",
   "metadata": {},
   "source": [
    "---"
   ]
  },
  {
   "cell_type": "markdown",
   "metadata": {},
   "source": [
    "### Exercise 7\n",
    "**Business Question:** 20 daily weight measurements are taken from metal production at two plants (Weights.xlsx). Are the mean daily weights from the plants different?\n",
    "\n",
    "* Visually compare the North and South Plant weight data. Give some visual conclusions/conjectures.\n",
    "* Test the hypothesis that the variances are the same for both plants. \n",
    "* Conduct the hypothesis test that the mean weights are the same  Η<sub>0</sub>: μ<sub>A</sub> - μ<sub>B</sub> = 0 vs Η<sub>1</sub>: μ<sub>A</sub> - μ<sub>B</sub> ≠ 0, assuming  unknown σ<sup>2</sup><sub>A</sub> ≠ σ<sup>2</sup><sub>B</sub>)"
   ]
  },
  {
   "cell_type": "code",
   "execution_count": null,
   "metadata": {},
   "outputs": [],
   "source": [
    "#Ex7- Read the data from the excel file and create a dataframe\n",
    "ex7 <- '<add here>'\n",
    "head(ex7)"
   ]
  },
  {
   "cell_type": "code",
   "execution_count": null,
   "metadata": {},
   "outputs": [],
   "source": [
    "#Ex7- Visually compare the North and South Plant weight data. Give some visual conclusions/conjectures.\n",
    "'<add here>' # Create a boxplot to compare the two plants"
   ]
  },
  {
   "cell_type": "code",
   "execution_count": null,
   "metadata": {},
   "outputs": [],
   "source": [
    "#Ex7- Test the hypothesis that the variances are the same for both plants\n",
    "var.test('<add here>', data=ex7) # Add formula for var.test"
   ]
  },
  {
   "cell_type": "markdown",
   "metadata": {},
   "source": [
    "**Interpretation:** 'Replace wit your comments'"
   ]
  },
  {
   "cell_type": "code",
   "execution_count": null,
   "metadata": {},
   "outputs": [],
   "source": [
    "#Ex7- Conduct the hypothesis test that the mean weights are the same\n",
    "t.test('<add here>') # Remember to specify if variances are equal or not"
   ]
  },
  {
   "cell_type": "markdown",
   "metadata": {},
   "source": [
    "**Interpretation:** 'Replace with your comments'"
   ]
  },
  {
   "cell_type": "markdown",
   "metadata": {},
   "source": [
    "---"
   ]
  },
  {
   "cell_type": "markdown",
   "metadata": {},
   "source": [
    "### Exercise 8: \n",
    "**Business Question:** We want to look at the relationship between velocity and strength in our welding data (Welding.xlsx).\n",
    "* Plot welding data as a scatterplot\n",
    "* Fit a regression line to determine if the regression coefficients are statistically significant. Fit \"Strength\" by \"Velocity\"."
   ]
  },
  {
   "cell_type": "code",
   "execution_count": null,
   "metadata": {},
   "outputs": [],
   "source": [
    "#Ex8- Read the data from the excel file and create a dataframe\n",
    "ex8 <- '<add here>'\n",
    "head(ex8)"
   ]
  },
  {
   "cell_type": "code",
   "execution_count": null,
   "metadata": {},
   "outputs": [],
   "source": [
    "#Ex8- Plot welding data as a scatterplot, with fitted line and confidence intervals\n",
    "ggplot('<add here>') + geom_point() + geom_smooth(method = \"lm\") # geom_points just adds the points to the graph.\n",
    "# geom_smooth adds a fitted line with confidence intervals to the data by specifying different methods. Try method='loess' instead and see the difference"
   ]
  },
  {
   "cell_type": "code",
   "execution_count": null,
   "metadata": {},
   "outputs": [],
   "source": [
    "#Ex8- Fit a regression line to determine if the regression coefficients are statistically significant.\n",
    "mod <- lm('<add here>', data = ex8) #Specify the formula in the form of y ~ x. Creates linear model (called mod) by using the lm function. \n",
    "summary(mod) # Summary function used to look at the results of model mod"
   ]
  },
  {
   "cell_type": "markdown",
   "metadata": {},
   "source": [
    "**Interpretation:** 'Replace with your comments'"
   ]
  },
  {
   "cell_type": "markdown",
   "metadata": {},
   "source": [
    "---"
   ]
  },
  {
   "cell_type": "markdown",
   "metadata": {},
   "source": [
    "### Exercise 9\n",
    "**Business Question:** Machine tolerance data (MachineTol.xlsx) was measured on a part at 5 locations: L1-L5. Conduct an analysis of variance of machine tolerance to determine if the population means associated with locations L1-L5 are the same or are different.\n",
    "* Plot machine tolerance by location\n",
    "* Show the results of an ANOVA and provide the conclusion to the hypothesis test\n",
    "* Conduct a multiple comparison test to determine what pairs might be different using the All Pairs Tukey-Kramer HSD method. What means are different or not?\n",
    "* Conduct a multiple comparison test to determine if a location exists that exhibits the best (lowest) mean tolerance using the Compare Best, Hsu MCB method. Are any of the means \"best\"?"
   ]
  },
  {
   "cell_type": "code",
   "execution_count": null,
   "metadata": {},
   "outputs": [],
   "source": [
    "#Ex9- Read the data from the excel file and create a dataframe\n",
    "ex9 <- read_xlsx('../Datasets/MachineTol.xlsx')\n",
    "head(ex9)"
   ]
  },
  {
   "cell_type": "code",
   "execution_count": null,
   "metadata": {},
   "outputs": [],
   "source": [
    "#Ex9- Plot machine tolerance by location\n",
    "#using boxplot\n",
    "'<add here>' # Hint: Remember `` notation for columns that ahve a space in their name"
   ]
  },
  {
   "cell_type": "code",
   "execution_count": null,
   "metadata": {},
   "outputs": [],
   "source": [
    "#Ex9- Plot machine tolerance by location\n",
    "#using violinplot\n",
    "ggplot(ex9, aes(Location, `Mach Tol`)) + geom_violin(aes(fill=Location), trim=F)"
   ]
  },
  {
   "cell_type": "code",
   "execution_count": null,
   "metadata": {},
   "outputs": [],
   "source": [
    "#Ex9- Show the results of an ANOVA and provide the conclusion to the hypothesis test\n",
    "model_aov <- aov('<add here>') # Provide the formula in the form of y ~ x and specify the data argument as well, as we did in hypothesis testing\n",
    "'<add here>' # Look at the summary of the anova model created in previous step"
   ]
  },
  {
   "cell_type": "code",
   "execution_count": null,
   "metadata": {},
   "outputs": [],
   "source": [
    "#Ex9- Conduct a multiple comparison test to determine what pairs might be different using the All Pairs \n",
    "#Tukey-Kramer HSD method. \n",
    "\n",
    "tukey_model <- TukeyHSD(model_aov) # Performs Tukey HSD test. Requires an aov object as input\n",
    "print('<add here>') # Print results of Tukey HSD\n",
    "plot('<add here>') # Plot results of Tukey HSD"
   ]
  },
  {
   "cell_type": "code",
   "execution_count": null,
   "metadata": {},
   "outputs": [],
   "source": [
    "#Ex9- Use jmp to find the best location with Hsu's MCB method"
   ]
  }
 ],
 "metadata": {
  "kernelspec": {
   "display_name": "R",
   "language": "R",
   "name": "ir"
  },
  "language_info": {
   "codemirror_mode": "r",
   "file_extension": ".r",
   "mimetype": "text/x-r-source",
   "name": "R",
   "pygments_lexer": "r",
   "version": "3.5.1"
  }
 },
 "nbformat": 4,
 "nbformat_minor": 2
}
