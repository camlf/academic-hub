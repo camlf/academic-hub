{
 "cells": [
  {
   "cell_type": "code",
   "execution_count": 1,
   "metadata": {},
   "outputs": [],
   "source": [
    "suppressMessages(library(ggplot2))\n",
    "suppressMessages(library(readxl))"
   ]
  },
  {
   "cell_type": "markdown",
   "metadata": {},
   "source": [
    "# Class Lab #3 - ANOVA to determine if lubricant formulations have a significant effect on extrusion friction. \n",
    "\n",
    "Problem description: Low friction can lead to slippage in an extrusion process that produces surface damage. A series of 5 tests were developed to determine if specific lubricant formulations led to a significant change in friction. The data are provided in the data set “Friction.xls”. \n",
    "1.\tPlot the friction results over tests to see if there is any visual evidence of differences in mean friction from one test to another\n",
    "2.\tIs there a particular test that produced a superior result?\n",
    "3.\tConduct an analysis of variance on the data to determine if there is a significant difference in mean frictions\n",
    "4.\tConduct a multiple comparison test to determine if any of the tests produced a statistically superior result ( i.e. significantly higher mean friction)\n"
   ]
  },
  {
   "cell_type": "code",
   "execution_count": 2,
   "metadata": {},
   "outputs": [
    {
     "data": {
      "text/html": [
       "<table>\n",
       "<thead><tr><th scope=col>TEST</th><th scope=col>Friction</th></tr></thead>\n",
       "<tbody>\n",
       "\t<tr><td>TEST 01   </td><td>0.08349650</td></tr>\n",
       "\t<tr><td>TEST 01   </td><td>0.08335664</td></tr>\n",
       "\t<tr><td>TEST 01   </td><td>0.08046875</td></tr>\n",
       "\t<tr><td>TEST 01   </td><td>0.07825521</td></tr>\n",
       "\t<tr><td>TEST 01   </td><td>0.07825521</td></tr>\n",
       "\t<tr><td>TEST 01   </td><td>0.08307292</td></tr>\n",
       "</tbody>\n",
       "</table>\n"
      ],
      "text/latex": [
       "\\begin{tabular}{r|ll}\n",
       " TEST & Friction\\\\\n",
       "\\hline\n",
       "\t TEST 01    & 0.08349650\\\\\n",
       "\t TEST 01    & 0.08335664\\\\\n",
       "\t TEST 01    & 0.08046875\\\\\n",
       "\t TEST 01    & 0.07825521\\\\\n",
       "\t TEST 01    & 0.07825521\\\\\n",
       "\t TEST 01    & 0.08307292\\\\\n",
       "\\end{tabular}\n"
      ],
      "text/markdown": [
       "\n",
       "TEST | Friction | \n",
       "|---|---|---|---|---|---|\n",
       "| TEST 01    | 0.08349650 | \n",
       "| TEST 01    | 0.08335664 | \n",
       "| TEST 01    | 0.08046875 | \n",
       "| TEST 01    | 0.07825521 | \n",
       "| TEST 01    | 0.07825521 | \n",
       "| TEST 01    | 0.08307292 | \n",
       "\n",
       "\n"
      ],
      "text/plain": [
       "  TEST    Friction  \n",
       "1 TEST 01 0.08349650\n",
       "2 TEST 01 0.08335664\n",
       "3 TEST 01 0.08046875\n",
       "4 TEST 01 0.07825521\n",
       "5 TEST 01 0.07825521\n",
       "6 TEST 01 0.08307292"
      ]
     },
     "metadata": {},
     "output_type": "display_data"
    }
   ],
   "source": [
    "lab3 <- read_xlsx('../Datasets/Friction.xlsx')\n",
    "head(lab3)"
   ]
  },
  {
   "cell_type": "code",
   "execution_count": 3,
   "metadata": {},
   "outputs": [
    {
     "data": {
      "image/png": "[encoded data removed]",
      "text/plain": [
       "plot without title"
      ]
     },
     "metadata": {},
     "output_type": "display_data"
    }
   ],
   "source": [
    "# Plot the friction results over tests to see if there is any visual evidence of differences in mean friction from one\n",
    "# test to another. What do you conclude visually?\n",
    "boxplot(Friction ~ TEST, data = lab3)"
   ]
  },
  {
   "cell_type": "code",
   "execution_count": 4,
   "metadata": {},
   "outputs": [
    {
     "data": {
      "text/plain": [
       "             Df   Sum Sq   Mean Sq F value   Pr(>F)    \n",
       "TEST          4 0.003829 0.0009571   17.18 1.47e-11 ***\n",
       "Residuals   145 0.008076 0.0000557                     \n",
       "---\n",
       "Signif. codes:  0 ‘***’ 0.001 ‘**’ 0.01 ‘*’ 0.05 ‘.’ 0.1 ‘ ’ 1"
      ]
     },
     "metadata": {},
     "output_type": "display_data"
    }
   ],
   "source": [
    "# Conduct an analysis of variance on the data to determine if there is a significant difference in mean frictions\n",
    "model_lab3 <- aov(Friction ~ TEST, data = lab3)\n",
    "summary(model_lab3)"
   ]
  },
  {
   "cell_type": "code",
   "execution_count": 5,
   "metadata": {},
   "outputs": [
    {
     "data": {
      "text/plain": [
       "  Tukey multiple comparisons of means\n",
       "    95% family-wise confidence level\n",
       "\n",
       "Fit: aov(formula = Friction ~ TEST, data = lab3)\n",
       "\n",
       "$TEST\n",
       "                        diff           lwr           upr     p adj\n",
       "TEST 02-TEST 01  0.003285455 -0.0020375572  0.0086084679 0.4341213\n",
       "TEST 03-TEST 01 -0.007555311 -0.0128783234 -0.0022322983 0.0012637\n",
       "TEST 04-TEST 01 -0.010715035 -0.0160380476 -0.0053920224 0.0000012\n",
       "TEST 05-TEST 01 -0.004900906 -0.0102239183  0.0004221069 0.0868287\n",
       "TEST 03-TEST 02 -0.010840766 -0.0161637788 -0.0055177536 0.0000009\n",
       "TEST 04-TEST 02 -0.014000490 -0.0193235029 -0.0086774777 0.0000000\n",
       "TEST 05-TEST 02 -0.008186361 -0.0135093736 -0.0028633484 0.0003654\n",
       "TEST 04-TEST 03 -0.003159724 -0.0084827367  0.0021632885 0.4746393\n",
       "TEST 05-TEST 03  0.002654405 -0.0026686074  0.0079774178 0.6430128\n",
       "TEST 05-TEST 04  0.005814129  0.0004911167  0.0111371419 0.0247319\n"
      ]
     },
     "metadata": {},
     "output_type": "display_data"
    }
   ],
   "source": [
    "# Conduct a multiple comparison test using the Tukey-Kramer HSD method to determine which tests are different than \n",
    "# others\n",
    "TukeyHSD(model_lab3)"
   ]
  },
  {
   "cell_type": "code",
   "execution_count": 6,
   "metadata": {},
   "outputs": [],
   "source": [
    "# Conduct a multiple comparison test using the using the Compare Best, Hsu MCB method to determine if any of the tests \n",
    "# produced a statistically superior result ( i.e. significantly higher mean friction). What do you conclude?\n",
    "\n",
    "# CODE HERE"
   ]
  }
 ],
 "metadata": {
  "kernelspec": {
   "display_name": "R",
   "language": "R",
   "name": "ir"
  },
  "language_info": {
   "codemirror_mode": "r",
   "file_extension": ".r",
   "mimetype": "text/x-r-source",
   "name": "R",
   "pygments_lexer": "r",
   "version": "3.4.4"
  }
 },
 "nbformat": 4,
 "nbformat_minor": 2
}
