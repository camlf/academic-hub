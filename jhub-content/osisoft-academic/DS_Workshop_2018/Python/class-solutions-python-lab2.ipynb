{
 "cells": [
  {
   "cell_type": "markdown",
   "metadata": {},
   "source": [
    "### Statistics Class: Lab 2 Solutions  "
   ]
  },
  {
   "cell_type": "code",
   "execution_count": 1,
   "metadata": {},
   "outputs": [],
   "source": [
    "#Import Needed Libraries for the lab\n",
    "import pandas as pd\n",
    "import matplotlib.pyplot as plt\n",
    "from scipy import stats\n",
    "\n",
    "%matplotlib inline  "
   ]
  },
  {
   "cell_type": "markdown",
   "metadata": {},
   "source": [
    "**Business Question:** When cooling begins, is it usually hotter in the space heated by VAVCO 3-06 than the space heated by VAVCO 4-06?\n",
    "\n",
    "Compare temperatures using:\n",
    "- Two-sample t-test\n",
    "- Paired t-test"
   ]
  },
  {
   "cell_type": "code",
   "execution_count": 2,
   "metadata": {},
   "outputs": [
    {
     "data": {
      "text/html": [
       "<div>\n",
       "<style scoped>\n",
       "    .dataframe tbody tr th:only-of-type {\n",
       "        vertical-align: middle;\n",
       "    }\n",
       "\n",
       "    .dataframe tbody tr th {\n",
       "        vertical-align: top;\n",
       "    }\n",
       "\n",
       "    .dataframe thead th {\n",
       "        text-align: right;\n",
       "    }\n",
       "</style>\n",
       "<table border=\"1\" class=\"dataframe\">\n",
       "  <thead>\n",
       "    <tr style=\"text-align: right;\">\n",
       "      <th></th>\n",
       "      <th>Start.time</th>\n",
       "      <th>VAV Unit</th>\n",
       "      <th>RmTemp</th>\n",
       "    </tr>\n",
       "  </thead>\n",
       "  <tbody>\n",
       "    <tr>\n",
       "      <th>0</th>\n",
       "      <td>2017-03-15 07:01:00</td>\n",
       "      <td>VAVCO 3-06</td>\n",
       "      <td>73.5</td>\n",
       "    </tr>\n",
       "    <tr>\n",
       "      <th>1</th>\n",
       "      <td>2017-04-03 07:00:00</td>\n",
       "      <td>VAVCO 3-06</td>\n",
       "      <td>74.0</td>\n",
       "    </tr>\n",
       "    <tr>\n",
       "      <th>2</th>\n",
       "      <td>2017-04-04 07:04:00</td>\n",
       "      <td>VAVCO 3-06</td>\n",
       "      <td>73.0</td>\n",
       "    </tr>\n",
       "    <tr>\n",
       "      <th>3</th>\n",
       "      <td>2017-04-05 07:01:00</td>\n",
       "      <td>VAVCO 3-06</td>\n",
       "      <td>73.0</td>\n",
       "    </tr>\n",
       "    <tr>\n",
       "      <th>4</th>\n",
       "      <td>2017-04-06 07:08:00</td>\n",
       "      <td>VAVCO 3-06</td>\n",
       "      <td>73.0</td>\n",
       "    </tr>\n",
       "  </tbody>\n",
       "</table>\n",
       "</div>"
      ],
      "text/plain": [
       "           Start.time     VAV Unit  RmTemp\n",
       "0 2017-03-15 07:01:00   VAVCO 3-06    73.5\n",
       "1 2017-04-03 07:00:00   VAVCO 3-06    74.0\n",
       "2 2017-04-04 07:04:00   VAVCO 3-06    73.0\n",
       "3 2017-04-05 07:01:00   VAVCO 3-06    73.0\n",
       "4 2017-04-06 07:08:00   VAVCO 3-06    73.0"
      ]
     },
     "execution_count": 2,
     "metadata": {},
     "output_type": "execute_result"
    }
   ],
   "source": [
    "#Load and check the data\n",
    "df = pd.read_excel('../Datasets/VAV 3-06 4-06 1stHalf_stacked.xlsx')\n",
    "df.head()"
   ]
  },
  {
   "cell_type": "code",
   "execution_count": 3,
   "metadata": {},
   "outputs": [
    {
     "name": "stdout",
     "output_type": "stream",
     "text": [
      "<class 'pandas.core.frame.DataFrame'>\n",
      "RangeIndex: 58 entries, 0 to 57\n",
      "Data columns (total 3 columns):\n",
      "Start.time    58 non-null datetime64[ns]\n",
      "VAV Unit      58 non-null object\n",
      "RmTemp        58 non-null float64\n",
      "dtypes: datetime64[ns](1), float64(1), object(1)\n",
      "memory usage: 1.4+ KB\n"
     ]
    }
   ],
   "source": [
    "# check data types and quality\n",
    "df.info()"
   ]
  },
  {
   "cell_type": "markdown",
   "metadata": {},
   "source": [
    "#### Two-sample t-test\n",
    "Here, we'll treat the temperature measurements in each room as independent samples and use a two-sample t-test of means to estimate if the temperatures are the same. Our null and alternate hypotheses are:\n",
    "$$ \n",
    "H_0:\\mu_1=\\mu_2 \\\\\n",
    "H_a: \\mu_1 \\ne \\mu_2\n",
    "$$"
   ]
  },
  {
   "cell_type": "code",
   "execution_count": 4,
   "metadata": {},
   "outputs": [
    {
     "data": {
      "image/png": "[encoded data removed]",
      "text/plain": [
       "<Figure size 576x432 with 1 Axes>"
      ]
     },
     "metadata": {
      "needs_background": "light"
     },
     "output_type": "display_data"
    }
   ],
   "source": [
    "#Compare histograms/boxplots\n",
    "df.boxplot(\n",
    "    by=['VAV Unit'],\n",
    "    grid=False,\n",
    "    showmeans=True,\n",
    "    figsize=(8,6)\n",
    ")\n",
    "plt.show()"
   ]
  },
  {
   "cell_type": "code",
   "execution_count": 5,
   "metadata": {},
   "outputs": [
    {
     "data": {
      "image/png": "[encoded data removed]",
      "text/plain": [
       "<Figure size 864x432 with 2 Axes>"
      ]
     },
     "metadata": {
      "needs_background": "light"
     },
     "output_type": "display_data"
    }
   ],
   "source": [
    "# plot histogram\n",
    "ax = df.hist(\n",
    "    by=['VAV Unit'],\n",
    "    sharey=True,\n",
    "    sharex=True,\n",
    "    figsize=(12,6)\n",
    ")\n",
    "\n",
    "ax[0].set_ylabel('Frequency')\n",
    "ax[0].set_xlabel('Temperature')\n",
    "ax[1].set_xlabel('Temperature')\n",
    "\n",
    "plt.show()"
   ]
  },
  {
   "cell_type": "code",
   "execution_count": 6,
   "metadata": {},
   "outputs": [
    {
     "name": "stdout",
     "output_type": "stream",
     "text": [
      "Ttest_indResult(statistic=1.068506677098121, pvalue=0.28987644367805765)\n"
     ]
    }
   ],
   "source": [
    "#Perform the statistical test\n",
    "result = stats.ttest_ind(\n",
    "    df.loc[df['VAV Unit']==' VAVCO 3-06', 'RmTemp'],\n",
    "    df.loc[df['VAV Unit']==' VAVCO 4-06', 'RmTemp']\n",
    ")\n",
    "print(result)"
   ]
  },
  {
   "cell_type": "markdown",
   "metadata": {},
   "source": [
    "**Interpretation:** Since $p>.05$, we fail to reject the null hypothesis. Based on this test there isn't enough information to determine if the rooms start the day at different temperatures."
   ]
  },
  {
   "cell_type": "code",
   "execution_count": 7,
   "metadata": {},
   "outputs": [
    {
     "data": {
      "text/plain": [
       "Mean(statistic=0.3103448275862069, minmax=(0.12417938352413493, 0.4965102716482789))"
      ]
     },
     "execution_count": 7,
     "metadata": {},
     "output_type": "execute_result"
    }
   ],
   "source": [
    "#Find a confidence intervale for the differences\n",
    "difference = df.loc[df['VAV Unit']==' VAVCO 3-06', 'RmTemp'].values - df.loc[df['VAV Unit']==' VAVCO 4-06', 'RmTemp'].values\n",
    "\n",
    "mean,var,stdev = stats.bayes_mvs(difference, alpha=.95)\n",
    "mean"
   ]
  },
  {
   "cell_type": "markdown",
   "metadata": {},
   "source": [
    "#### Approach 2: Paired t-test\n",
    "\n",
    "This time, we'll treat the temperature difference between the rooms on each day as the test variable. Now, our null and alternate hypotheses are:\n",
    "$$\n",
    "H_0: \\bar{\\delta}=0 \\\\\n",
    "H_a: \\bar{\\delta} \\ne 0\n",
    "$$\n",
    "where\n",
    "$$ \\delta_i=X_i^{(\\text{4-06})} - X_i^{(\\text{3-06})} $$\n",
    "Here,$X_i^{(j)}$ is the temperature in room $j$ on the day $i$."
   ]
  },
  {
   "cell_type": "code",
   "execution_count": 8,
   "metadata": {},
   "outputs": [
    {
     "data": {
      "image/png": "[encoded data removed]",
      "text/plain": [
       "<Figure size 432x288 with 1 Axes>"
      ]
     },
     "metadata": {
      "needs_background": "light"
     },
     "output_type": "display_data"
    },
    {
     "data": {
      "image/png": "[encoded data removed]",
      "text/plain": [
       "<Figure size 432x288 with 1 Axes>"
      ]
     },
     "metadata": {
      "needs_background": "light"
     },
     "output_type": "display_data"
    }
   ],
   "source": [
    "#Compare histograms/boxplots\n",
    "\n",
    "plt.boxplot(difference, showmeans=True)\n",
    "plt.ylabel(\"Temperature difference\")\n",
    "plt.show()\n",
    "\n",
    "plt.hist(difference)\n",
    "plt.ylabel(\"Frequency\")\n",
    "plt.xlabel(\"Temperature difference\")\n",
    "plt.show()"
   ]
  },
  {
   "cell_type": "code",
   "execution_count": 9,
   "metadata": {},
   "outputs": [
    {
     "name": "stdout",
     "output_type": "stream",
     "text": [
      "Ttest_1sampResult(statistic=3.4147720832381663, pvalue=0.0019661248830680567)\n"
     ]
    }
   ],
   "source": [
    "#Perform the statistical test\n",
    "result = stats.ttest_1samp(\n",
    "    difference,\n",
    "    0\n",
    ")\n",
    "print(result)"
   ]
  },
  {
   "cell_type": "markdown",
   "metadata": {},
   "source": [
    "**Interpretation:** Since $p<.05$, we again reject the null hypothesis. Note that the effect is much stronger with the paired test than the two-sample test ($|T|=6.48$ instead of $|T|=2.74$). In some cases, a two-sample test could result in an *Type 2* error that would have been avoided with a paired t-test."
   ]
  },
  {
   "cell_type": "code",
   "execution_count": null,
   "metadata": {},
   "outputs": [],
   "source": []
  }
 ],
 "metadata": {
  "kernelspec": {
   "display_name": "Python 3",
   "language": "python",
   "name": "python3"
  },
  "language_info": {
   "codemirror_mode": {
    "name": "ipython",
    "version": 3
   },
   "file_extension": ".py",
   "mimetype": "text/x-python",
   "name": "python",
   "nbconvert_exporter": "python",
   "pygments_lexer": "ipython3",
   "version": "3.6.6"
  }
 },
 "nbformat": 4,
 "nbformat_minor": 2
}
