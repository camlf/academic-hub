{
 "cells": [
  {
   "cell_type": "markdown",
   "metadata": {},
   "source": [
    "## Fundamentals of Statistics Class: Exercises Solutions  \n",
    "#### This notebook acts as a fill-in workbook for the exercises in Python for the Fundamentals of Statistics Workshop covering topics on data exploration and statistics. Each exercise has specific objectives split into separate labeled cell blocks. How to generate basic data summaries, histograms, boxplots, conduct hypothesis tests of mean and variance, and ANOVA are covered using the provided datasets."
   ]
  },
  {
   "cell_type": "code",
   "execution_count": 2,
   "metadata": {},
   "outputs": [],
   "source": [
    "#Import needed libraries for all exercises\n",
    "import pandas as pd\n",
    "import numpy as np\n",
    "import matplotlib.pyplot as plt\n",
    "\n",
    "import statsmodels.stats.api as sms\n",
    "import statsmodels.api as sm\n",
    "\n",
    "from scipy import stats\n",
    "\n",
    "import seaborn as sns #optional for violin plot\n",
    "\n",
    "%matplotlib inline  "
   ]
  },
  {
   "cell_type": "markdown",
   "metadata": {},
   "source": [
    "---"
   ]
  },
  {
   "cell_type": "markdown",
   "metadata": {},
   "source": [
    "### Exercise 0\n",
    "**Business Question:** A dataset has been shared. Import that dataset and gain basic information about it by answering the following:\n",
    "* How many rows and columns does it have?\n",
    "* What are the names of the columns and their data types?\n",
    "* Can I get the previous information with a single call?\n",
    "* What does some of the data look like?\n",
    "* What are some of the characteristics of the data?\n",
    "* What are the value counts of a specific column?"
   ]
  },
  {
   "cell_type": "code",
   "execution_count": 4,
   "metadata": {},
   "outputs": [],
   "source": [
    "#Ex0- Read the data from the excel file and create a dataframe\n",
    "df = pd.read_excel(\"../Datasets/VAV 3-06 & 4-06 1stHalf.xlsx\") #specify file path"
   ]
  },
  {
   "cell_type": "code",
   "execution_count": 5,
   "metadata": {},
   "outputs": [
    {
     "data": {
      "text/plain": [
       "(58, 3)"
      ]
     },
     "execution_count": 5,
     "metadata": {},
     "output_type": "execute_result"
    }
   ],
   "source": [
    "#Ex0- How many rows and columns does it have?\n",
    "df.shape"
   ]
  },
  {
   "cell_type": "code",
   "execution_count": 6,
   "metadata": {},
   "outputs": [
    {
     "data": {
      "text/plain": [
       "Start.time    datetime64[ns]\n",
       "VAV Unit              object\n",
       "RmTemp               float64\n",
       "dtype: object"
      ]
     },
     "execution_count": 6,
     "metadata": {},
     "output_type": "execute_result"
    }
   ],
   "source": [
    "#Ex0- What are the names of the columns and their data types?\n",
    "df.dtypes"
   ]
  },
  {
   "cell_type": "code",
   "execution_count": 7,
   "metadata": {},
   "outputs": [
    {
     "name": "stdout",
     "output_type": "stream",
     "text": [
      "<class 'pandas.core.frame.DataFrame'>\n",
      "RangeIndex: 58 entries, 0 to 57\n",
      "Data columns (total 3 columns):\n",
      "Start.time    58 non-null datetime64[ns]\n",
      "VAV Unit      58 non-null object\n",
      "RmTemp        58 non-null float64\n",
      "dtypes: datetime64[ns](1), float64(1), object(1)\n",
      "memory usage: 1.4+ KB\n"
     ]
    }
   ],
   "source": [
    "#Ex0- Can I get the previous information in one call?\n",
    "df.info()"
   ]
  },
  {
   "cell_type": "code",
   "execution_count": 8,
   "metadata": {},
   "outputs": [
    {
     "data": {
      "text/html": [
       "<div>\n",
       "<style scoped>\n",
       "    .dataframe tbody tr th:only-of-type {\n",
       "        vertical-align: middle;\n",
       "    }\n",
       "\n",
       "    .dataframe tbody tr th {\n",
       "        vertical-align: top;\n",
       "    }\n",
       "\n",
       "    .dataframe thead th {\n",
       "        text-align: right;\n",
       "    }\n",
       "</style>\n",
       "<table border=\"1\" class=\"dataframe\">\n",
       "  <thead>\n",
       "    <tr style=\"text-align: right;\">\n",
       "      <th></th>\n",
       "      <th>Start.time</th>\n",
       "      <th>VAV Unit</th>\n",
       "      <th>RmTemp</th>\n",
       "    </tr>\n",
       "  </thead>\n",
       "  <tbody>\n",
       "    <tr>\n",
       "      <th>0</th>\n",
       "      <td>2017-03-15 07:01:00</td>\n",
       "      <td>VAVCO 3-06</td>\n",
       "      <td>73.5</td>\n",
       "    </tr>\n",
       "    <tr>\n",
       "      <th>1</th>\n",
       "      <td>2017-04-03 07:00:00</td>\n",
       "      <td>VAVCO 3-06</td>\n",
       "      <td>74.0</td>\n",
       "    </tr>\n",
       "    <tr>\n",
       "      <th>2</th>\n",
       "      <td>2017-04-04 07:04:00</td>\n",
       "      <td>VAVCO 3-06</td>\n",
       "      <td>73.0</td>\n",
       "    </tr>\n",
       "    <tr>\n",
       "      <th>3</th>\n",
       "      <td>2017-04-05 07:01:00</td>\n",
       "      <td>VAVCO 3-06</td>\n",
       "      <td>73.0</td>\n",
       "    </tr>\n",
       "    <tr>\n",
       "      <th>4</th>\n",
       "      <td>2017-04-06 07:08:00</td>\n",
       "      <td>VAVCO 3-06</td>\n",
       "      <td>73.0</td>\n",
       "    </tr>\n",
       "  </tbody>\n",
       "</table>\n",
       "</div>"
      ],
      "text/plain": [
       "           Start.time     VAV Unit  RmTemp\n",
       "0 2017-03-15 07:01:00   VAVCO 3-06    73.5\n",
       "1 2017-04-03 07:00:00   VAVCO 3-06    74.0\n",
       "2 2017-04-04 07:04:00   VAVCO 3-06    73.0\n",
       "3 2017-04-05 07:01:00   VAVCO 3-06    73.0\n",
       "4 2017-04-06 07:08:00   VAVCO 3-06    73.0"
      ]
     },
     "execution_count": 8,
     "metadata": {},
     "output_type": "execute_result"
    }
   ],
   "source": [
    "#Ex0- What does some of the data look like?\n",
    "df.head()"
   ]
  },
  {
   "cell_type": "code",
   "execution_count": 11,
   "metadata": {},
   "outputs": [
    {
     "data": {
      "text/html": [
       "<div>\n",
       "<style scoped>\n",
       "    .dataframe tbody tr th:only-of-type {\n",
       "        vertical-align: middle;\n",
       "    }\n",
       "\n",
       "    .dataframe tbody tr th {\n",
       "        vertical-align: top;\n",
       "    }\n",
       "\n",
       "    .dataframe thead th {\n",
       "        text-align: right;\n",
       "    }\n",
       "</style>\n",
       "<table border=\"1\" class=\"dataframe\">\n",
       "  <thead>\n",
       "    <tr style=\"text-align: right;\">\n",
       "      <th></th>\n",
       "      <th>Start.time</th>\n",
       "      <th>VAV Unit</th>\n",
       "      <th>RmTemp</th>\n",
       "    </tr>\n",
       "  </thead>\n",
       "  <tbody>\n",
       "    <tr>\n",
       "      <th>count</th>\n",
       "      <td>58</td>\n",
       "      <td>58</td>\n",
       "      <td>58.000000</td>\n",
       "    </tr>\n",
       "    <tr>\n",
       "      <th>unique</th>\n",
       "      <td>29</td>\n",
       "      <td>2</td>\n",
       "      <td>NaN</td>\n",
       "    </tr>\n",
       "    <tr>\n",
       "      <th>top</th>\n",
       "      <td>2017-06-07 07:02:00</td>\n",
       "      <td>VAVCO 3-06</td>\n",
       "      <td>NaN</td>\n",
       "    </tr>\n",
       "    <tr>\n",
       "      <th>freq</th>\n",
       "      <td>2</td>\n",
       "      <td>29</td>\n",
       "      <td>NaN</td>\n",
       "    </tr>\n",
       "    <tr>\n",
       "      <th>first</th>\n",
       "      <td>2017-03-15 07:01:00</td>\n",
       "      <td>NaN</td>\n",
       "      <td>NaN</td>\n",
       "    </tr>\n",
       "    <tr>\n",
       "      <th>last</th>\n",
       "      <td>2017-07-03 04:11:00</td>\n",
       "      <td>NaN</td>\n",
       "      <td>NaN</td>\n",
       "    </tr>\n",
       "    <tr>\n",
       "      <th>mean</th>\n",
       "      <td>NaN</td>\n",
       "      <td>NaN</td>\n",
       "      <td>73.862069</td>\n",
       "    </tr>\n",
       "    <tr>\n",
       "      <th>std</th>\n",
       "      <td>NaN</td>\n",
       "      <td>NaN</td>\n",
       "      <td>1.107364</td>\n",
       "    </tr>\n",
       "    <tr>\n",
       "      <th>min</th>\n",
       "      <td>NaN</td>\n",
       "      <td>NaN</td>\n",
       "      <td>73.000000</td>\n",
       "    </tr>\n",
       "    <tr>\n",
       "      <th>25%</th>\n",
       "      <td>NaN</td>\n",
       "      <td>NaN</td>\n",
       "      <td>73.000000</td>\n",
       "    </tr>\n",
       "    <tr>\n",
       "      <th>50%</th>\n",
       "      <td>NaN</td>\n",
       "      <td>NaN</td>\n",
       "      <td>73.500000</td>\n",
       "    </tr>\n",
       "    <tr>\n",
       "      <th>75%</th>\n",
       "      <td>NaN</td>\n",
       "      <td>NaN</td>\n",
       "      <td>74.375000</td>\n",
       "    </tr>\n",
       "    <tr>\n",
       "      <th>max</th>\n",
       "      <td>NaN</td>\n",
       "      <td>NaN</td>\n",
       "      <td>78.000000</td>\n",
       "    </tr>\n",
       "  </tbody>\n",
       "</table>\n",
       "</div>"
      ],
      "text/plain": [
       "                 Start.time     VAV Unit     RmTemp\n",
       "count                    58           58  58.000000\n",
       "unique                   29            2        NaN\n",
       "top     2017-06-07 07:02:00   VAVCO 3-06        NaN\n",
       "freq                      2           29        NaN\n",
       "first   2017-03-15 07:01:00          NaN        NaN\n",
       "last    2017-07-03 04:11:00          NaN        NaN\n",
       "mean                    NaN          NaN  73.862069\n",
       "std                     NaN          NaN   1.107364\n",
       "min                     NaN          NaN  73.000000\n",
       "25%                     NaN          NaN  73.000000\n",
       "50%                     NaN          NaN  73.500000\n",
       "75%                     NaN          NaN  74.375000\n",
       "max                     NaN          NaN  78.000000"
      ]
     },
     "execution_count": 11,
     "metadata": {},
     "output_type": "execute_result"
    }
   ],
   "source": [
    "#Ex0- What are some of the characteristics of the data?\n",
    "df.describe(include='all') #specify all columns"
   ]
  },
  {
   "cell_type": "code",
   "execution_count": 12,
   "metadata": {},
   "outputs": [
    {
     "data": {
      "text/plain": [
       "73.0    24\n",
       "74.0    11\n",
       "73.5     8\n",
       "74.5     5\n",
       "75.0     5\n",
       "75.5     3\n",
       "78.0     2\n",
       "Name: RmTemp, dtype: int64"
      ]
     },
     "execution_count": 12,
     "metadata": {},
     "output_type": "execute_result"
    }
   ],
   "source": [
    "#Ex0- What are the value counts of a specific column?\n",
    "df['RmTemp'].value_counts() #Get value counts for RmTemp"
   ]
  },
  {
   "cell_type": "markdown",
   "metadata": {},
   "source": [
    "---"
   ]
  },
  {
   "cell_type": "markdown",
   "metadata": {},
   "source": [
    "### Exercise 1\n",
    "**Business Question:** Part tolerance data (Tolerance Stack.xlsx) has been collected from a part manufacturing process. The tolerances are measured at various locations on the part.\n",
    "* Create a histogram to visualize the overall distribution of tolerances over the entire part\n",
    "* Evaluate the effect of bin size on result\n",
    "* Using histograms for each location, assess the location effect of the tolerance measurements"
   ]
  },
  {
   "cell_type": "code",
   "execution_count": 13,
   "metadata": {},
   "outputs": [
    {
     "data": {
      "text/html": [
       "<div>\n",
       "<style scoped>\n",
       "    .dataframe tbody tr th:only-of-type {\n",
       "        vertical-align: middle;\n",
       "    }\n",
       "\n",
       "    .dataframe tbody tr th {\n",
       "        vertical-align: top;\n",
       "    }\n",
       "\n",
       "    .dataframe thead th {\n",
       "        text-align: right;\n",
       "    }\n",
       "</style>\n",
       "<table border=\"1\" class=\"dataframe\">\n",
       "  <thead>\n",
       "    <tr style=\"text-align: right;\">\n",
       "      <th></th>\n",
       "      <th>LOC</th>\n",
       "      <th>TOL</th>\n",
       "    </tr>\n",
       "  </thead>\n",
       "  <tbody>\n",
       "    <tr>\n",
       "      <th>0</th>\n",
       "      <td>LOC 01</td>\n",
       "      <td>0.040200</td>\n",
       "    </tr>\n",
       "    <tr>\n",
       "      <th>1</th>\n",
       "      <td>LOC 02</td>\n",
       "      <td>0.037800</td>\n",
       "    </tr>\n",
       "    <tr>\n",
       "      <th>2</th>\n",
       "      <td>LOC 03</td>\n",
       "      <td>0.049933</td>\n",
       "    </tr>\n",
       "    <tr>\n",
       "      <th>3</th>\n",
       "      <td>LOC 04</td>\n",
       "      <td>0.036733</td>\n",
       "    </tr>\n",
       "    <tr>\n",
       "      <th>4</th>\n",
       "      <td>LOC 05</td>\n",
       "      <td>0.030467</td>\n",
       "    </tr>\n",
       "  </tbody>\n",
       "</table>\n",
       "</div>"
      ],
      "text/plain": [
       "      LOC       TOL\n",
       "0  LOC 01  0.040200\n",
       "1  LOC 02  0.037800\n",
       "2  LOC 03  0.049933\n",
       "3  LOC 04  0.036733\n",
       "4  LOC 05  0.030467"
      ]
     },
     "execution_count": 13,
     "metadata": {},
     "output_type": "execute_result"
    }
   ],
   "source": [
    "#Ex1- Read the data from the excel file and create a dataframe\n",
    "df = pd.read_excel('../Datasets/Tolerance Stack.xlsx') #add file path\n",
    "df.head()"
   ]
  },
  {
   "cell_type": "code",
   "execution_count": 14,
   "metadata": {},
   "outputs": [
    {
     "data": {
      "text/plain": [
       "array([[<matplotlib.axes._subplots.AxesSubplot object at 0x7facd9e69438>]],\n",
       "      dtype=object)"
      ]
     },
     "execution_count": 14,
     "metadata": {},
     "output_type": "execute_result"
    },
    {
     "data": {
      "image/png": "[encoded data removed]",
      "text/plain": [
       "<Figure size 432x288 with 1 Axes>"
      ]
     },
     "metadata": {
      "needs_background": "light"
     },
     "output_type": "display_data"
    }
   ],
   "source": [
    "#Ex1- Create a histogram to visualize the overall distribution of tolerances over the entire part\n",
    "df.hist() #plots histogram for numeric columns; tolerance is the only one in this dataframe "
   ]
  },
  {
   "cell_type": "code",
   "execution_count": 17,
   "metadata": {},
   "outputs": [
    {
     "data": {
      "image/png": "[encoded data removed]",
      "text/plain": [
       "<Figure size 432x288 with 1 Axes>"
      ]
     },
     "metadata": {
      "needs_background": "light"
     },
     "output_type": "display_data"
    },
    {
     "data": {
      "image/png": "[encoded data removed]",
      "text/plain": [
       "<Figure size 432x288 with 1 Axes>"
      ]
     },
     "metadata": {
      "needs_background": "light"
     },
     "output_type": "display_data"
    },
    {
     "data": {
      "image/png": "[encoded data removed]",
      "text/plain": [
       "<Figure size 432x288 with 1 Axes>"
      ]
     },
     "metadata": {
      "needs_background": "light"
     },
     "output_type": "display_data"
    }
   ],
   "source": [
    "#Ex1- Evaluate the effect of bin size on result\n",
    "for b in range(5,40,15): #iterates over range of bin sizes\n",
    "    df.hist(bins=b) #specify bin size"
   ]
  },
  {
   "cell_type": "code",
   "execution_count": null,
   "metadata": {},
   "outputs": [],
   "source": [
    "#Ex1- Using histograms for each location, assess the location effect of the tolerance measurements\n",
    "df['TOL'].hist(by=df['<add here>'],'<add here>') #group by location and use same x and y axes\n",
    "plt.show() #added to reduce messages in output"
   ]
  },
  {
   "cell_type": "markdown",
   "metadata": {},
   "source": [
    "---"
   ]
  },
  {
   "cell_type": "markdown",
   "metadata": {},
   "source": [
    "### Exercise 2\n",
    "**Business Question:** Part tolerance data (Tolerance Stack.xlsx) has been collected from a part manufacturing process. The tolerances are measured at various locations on the part.\n",
    "* Create a boxplot to visualize the overall distribution of tolerances over the entire part\n",
    "* Using boxplots for each location, assess the location effect of the tolerance measurements"
   ]
  },
  {
   "cell_type": "code",
   "execution_count": null,
   "metadata": {},
   "outputs": [],
   "source": [
    "#Ex2- Data was already read from the excel file and a dataframe called df created in Ex1\n",
    "df.'<add here>' #inspect beginning of df"
   ]
  },
  {
   "cell_type": "code",
   "execution_count": null,
   "metadata": {},
   "outputs": [],
   "source": [
    "#Ex2- Create a Boxplot to visualize the overall distribution of tolerances over the entire part\n",
    "df.boxplot(showmeans=True,grid=False) #plots boxplot for numeric columns; tolerance is the only one in this dataframe "
   ]
  },
  {
   "cell_type": "code",
   "execution_count": null,
   "metadata": {},
   "outputs": [],
   "source": [
    "#Ex2- Using boxplots for each location, assess the location effect of the tolerance measurements\n",
    "df.boxplot(by='<add here>',figsize=(12,8),showmeans=True,grid=False) #subplots by location"
   ]
  },
  {
   "cell_type": "markdown",
   "metadata": {},
   "source": [
    "---"
   ]
  },
  {
   "cell_type": "markdown",
   "metadata": {},
   "source": [
    "### Exercise 3\n",
    "**Business Question:** Historically, metal elongation has averaged 2% ($\\mu_0=2$) with a known $\\sigma^2=0.03$. Examine the current data set (Elongation.xlsx) to determine if the mean elongation has increased from its historically expected value.\n",
    "* Conduct a one-sided z-test at $\\alpha=.05$ to evaluate the null and alternate hypotheses:\n",
    "$$\n",
    "H_0 : \\mu \\le \\mu_0 \\\\\n",
    "H_a : \\mu > \\mu_0\n",
    "$$"
   ]
  },
  {
   "cell_type": "code",
   "execution_count": null,
   "metadata": {},
   "outputs": [],
   "source": [
    "#Ex3- Read the data from the excel file and create a dataframe\n",
    "df = '<add here>'('../Datasets/Elongation.xlsx') #read Excel file\n",
    "df.head()"
   ]
  },
  {
   "cell_type": "code",
   "execution_count": null,
   "metadata": {},
   "outputs": [],
   "source": [
    "#Ex3- Visualize the data as a boxplot\n",
    "'<add here>' #create boxplot"
   ]
  },
  {
   "cell_type": "code",
   "execution_count": null,
   "metadata": {},
   "outputs": [],
   "source": [
    "#Ex3 - Conduct a one-sided z-test \n",
    "mu0 = 2\n",
    "n = df.shape['<add here>'] #get number of rows\n",
    "\n",
    "zscore = (df['Elongation'].mean() - mu0) / (np.sqrt(.03/n))\n",
    "pvalue = 1-stats.norm.cdf(abs(zscore)) #if this was a 2-sided test, we would multiply this by 2\n",
    "'<add here>'('Z-score: %.4f' %zscore) #display formatted value\n",
    "'<add here>'('p-value: %.4f' %pvalue) #display formatted value\n"
   ]
  },
  {
   "cell_type": "markdown",
   "metadata": {},
   "source": [
    "**Interpretation:** Since $p<.05$, we reject $H_0$ at the $\\alpha=.05$ level. There is sufficient evidence to show that the mean elongation is greater than 2 percent."
   ]
  },
  {
   "cell_type": "markdown",
   "metadata": {},
   "source": [
    "---"
   ]
  },
  {
   "cell_type": "markdown",
   "metadata": {},
   "source": [
    "### Exercise 4\n",
    "**Business Question:** Coating thickness of tablets in a drug manufacturing process (Thickness.xlsx) must meet a specification of $\\mu=40$. $\\sigma^2$ is assumed to be *UNKNOWN*. \n",
    "* Conduct a hypothesis test at $\\alpha$ = 0.05 (95% confidence interval) to determine if $H_0$: $\\mu$=40 is an acceptable hypothesis:\n",
    "$$\n",
    "H_0: \\mu=\\mu_0 \\\\\n",
    "\\text{vs}\\\\\n",
    "H_a: \\mu \\ne \\mu_0\n",
    "$$"
   ]
  },
  {
   "cell_type": "code",
   "execution_count": null,
   "metadata": {},
   "outputs": [],
   "source": [
    "#Ex4- Read the data from the excel file and create a dataframe\n",
    "df = '<add here>' #read file with path: ../Datasets/Thickness.xlsx\n",
    "df.head()"
   ]
  },
  {
   "cell_type": "code",
   "execution_count": null,
   "metadata": {},
   "outputs": [],
   "source": [
    "#Ex4- Conduct a hypothesis test\n",
    "stats.ttest_1samp('<add here>')"
   ]
  },
  {
   "cell_type": "markdown",
   "metadata": {},
   "source": [
    "---"
   ]
  },
  {
   "cell_type": "markdown",
   "metadata": {},
   "source": [
    "### Exercise 5: \n",
    "**Business Question:** We want to determine information about the mean coating thickness of tablets in a drug manufacturing process (Thickness.xlsx).\n",
    "* Construct a 95% confidence interval (range of values for which we can be 95% certain contain the true mean of the tablets, $\\mu$);  $\\sigma^2$ is assumed to be *UNKNOWN*."
   ]
  },
  {
   "cell_type": "code",
   "execution_count": null,
   "metadata": {},
   "outputs": [],
   "source": [
    "#Ex5- Data was already read from the excel file and a dataframe called df created in Ex4\n",
    "df.head()"
   ]
  },
  {
   "cell_type": "code",
   "execution_count": null,
   "metadata": {},
   "outputs": [],
   "source": [
    "#Ex5- Construct a 95% confidence interval\n",
    "mean,var,stdev = stats.bayes_mvs(\n",
    "    data = '<add here>', \n",
    "    alpha= '<add here>'\n",
    ")\n",
    "\n",
    "mean"
   ]
  },
  {
   "cell_type": "markdown",
   "metadata": {},
   "source": [
    "---"
   ]
  },
  {
   "cell_type": "markdown",
   "metadata": {},
   "source": [
    "### Exercise 6\n",
    "**Business Question:** Batch yield data (Tanks Stacked.xlsx) has been gathered from two reactor tanks in a chemical production process. We will test whether the Tanks produce the same mean yields after we do a comparison of the variances.\n",
    "* Visually compare the tank data. Give some visual conclusions/conjectures\n",
    "* Test the hypothesis that the variances are the same for both tanks\n",
    "* Conduct the hypothesis test that the mean yields are the same"
   ]
  },
  {
   "cell_type": "code",
   "execution_count": null,
   "metadata": {},
   "outputs": [],
   "source": [
    "#Ex6- Read the data from the excel file and create a dataframe\n",
    "#File path: '../Datasets/Tanks Stacked.xlsx'\n",
    "df = '<add here>'\n",
    "df.head()"
   ]
  },
  {
   "cell_type": "code",
   "execution_count": null,
   "metadata": {},
   "outputs": [],
   "source": [
    "#Ex6- Visually compare the tank data\n",
    "df.'<add here>'(\n",
    "    column='<add here>',\n",
    "    by='<add here>',\n",
    "    showmeans=True,\n",
    "    grid=False,\n",
    "    figsize=(8,6)\n",
    ")"
   ]
  },
  {
   "cell_type": "code",
   "execution_count": null,
   "metadata": {},
   "outputs": [],
   "source": [
    "#Ex6- Test the hypothesis that the variances are the same for both tanks\n",
    "\n",
    "TankA = df['Tank'] == 'Tank A' #indicies for Tank A observations\n",
    "TankB = df['Tank'] == 'Tank B' #indicies for Tank B observations\n",
    "\n",
    "#Manually calculate the F statistic and degrees of freedom\n",
    "\n",
    "F = np.var(df['<add here>']['Yield'])/np.'<add here>'(df['<add here>']['Yield'])\n",
    "df1 = len(df['<add here>']['<add here>']) - 1\n",
    "df2 = len(df['<add here>']['<add here>']) - 1\n",
    "\n",
    "#Calculate the p-value based on the F distribution\n",
    "pvalue = stats.f.cdf(F, df1, df2)\n",
    "\n",
    "#Does the CDF calculate a one- or two-tailed probability? \n",
    "#pvalue = 2*pvalue   #uncomment if stats.f.cdf returns one-tailed probability\n",
    "\n",
    "#Print results\n",
    "print('p-Value = %.4f' % pvalue)\n",
    "print('F Test = %.4f' % F)"
   ]
  },
  {
   "cell_type": "code",
   "execution_count": null,
   "metadata": {},
   "outputs": [],
   "source": [
    "#Ex6- Conduct the hypothesis test that the mean yields are the same\n",
    "stats.ttest_ind(\n",
    "    a = '<add here>',  #first sample\n",
    "    b = '<add here>',  #second sample\n",
    "    equal_var = '<add here>'\n",
    ")"
   ]
  },
  {
   "cell_type": "markdown",
   "metadata": {},
   "source": [
    "---"
   ]
  },
  {
   "cell_type": "markdown",
   "metadata": {},
   "source": [
    "### Exercise 7\n",
    "**Business Question:** 20 daily weight measurements are taken from metal production at two plants (Weights.xlsx). Are the mean daily weights from the plants different?\n",
    "\n",
    "* Visually compare the North and South Plant weight data. Give some visual conclusions/conjectures.\n",
    "* Test the hypothesis that the variances are the same for both plants. \n",
    "* Conduct the hypothesis test that the mean weights are the same  Η<sub>0</sub>: μ<sub>A</sub> - μ<sub>B</sub> = 0 vs Η<sub>1</sub>: μ<sub>A</sub> - μ<sub>B</sub> ≠ 0, assuming  unknown σ<sup>2</sup><sub>A</sub> ≠ σ<sup>2</sup><sub>B</sub>)\n"
   ]
  },
  {
   "cell_type": "code",
   "execution_count": null,
   "metadata": {},
   "outputs": [],
   "source": [
    "#Ex7- Read the data from the excel file and create a dataframe\n",
    "#File path: '../Datasets/Weights.xlsx'\n",
    "df = '<add here>'\n",
    "df.head()"
   ]
  },
  {
   "cell_type": "code",
   "execution_count": null,
   "metadata": {},
   "outputs": [],
   "source": [
    "#Ex7- Visually compare the North and South Plant weight data\n",
    "'<add here>'"
   ]
  },
  {
   "cell_type": "code",
   "execution_count": null,
   "metadata": {},
   "outputs": [],
   "source": [
    "#Ex7- Test the hypothesis that the variances are the same for both plants\n",
    "North = df['Location'] == 'North'  \n",
    "South = df['Location'] == 'South'\n",
    "\n",
    "#Manually calculate the F statistic and degrees of freedom\n",
    "F = '<add here>'\n",
    "df1 = '<add here>'\n",
    "df2 = '<add here>'\n",
    "\n",
    "#Calculate the p-value based on the F distribution\n",
    "pvalue = '<add here>'\n",
    "\n",
    "#Print results\n",
    "print('p-Value = %.4f' % pvalue)\n",
    "print('F Test = %.4f' % F)"
   ]
  },
  {
   "cell_type": "code",
   "execution_count": null,
   "metadata": {},
   "outputs": [],
   "source": [
    "#Ex7- Conduct the hypothesis test that the mean weights are the same\n",
    "stats.ttest_ind(\n",
    "    a = '<add here>',\n",
    "    b = '<add here>',\n",
    "    equal_var = '<add here>' \n",
    ")"
   ]
  },
  {
   "cell_type": "markdown",
   "metadata": {},
   "source": [
    "---"
   ]
  },
  {
   "cell_type": "markdown",
   "metadata": {},
   "source": [
    "### Exercise 8: \n",
    "**Business Question:** We want to look at the relationship between velocity and strength in our welding data (Welding.xlsx).\n",
    "* Plot welding data as a scatterplot\n",
    "* Fit a regression line to determine if the regression coefficients are statistically significant. Fit \"Strength\" by \"Velocity\"."
   ]
  },
  {
   "cell_type": "code",
   "execution_count": null,
   "metadata": {},
   "outputs": [],
   "source": [
    "#Ex8- Read the data from the excel file and create a dataframe\n",
    "#File path: '../Datasets/Weights.xlsx'\n",
    "df = '<add here>'\n",
    "df.head()"
   ]
  },
  {
   "cell_type": "code",
   "execution_count": null,
   "metadata": {},
   "outputs": [],
   "source": [
    "#Ex8- Plot welding data as a scatterplot\n",
    "plt.scatter(\n",
    "    x = '<add here>',\n",
    "    y = '<add here>'\n",
    ")"
   ]
  },
  {
   "cell_type": "code",
   "execution_count": null,
   "metadata": {},
   "outputs": [],
   "source": [
    "#Ex8- Fit a regression line to determine if the regression coefficients are statistically significant.\n",
    "\n",
    "#Since the raw values don't contain a constant term, create a copy of the dataset with a constant\n",
    "x = df['velocity'].copy()\n",
    "x = sm.add_constant(x)\n",
    "\n",
    "mod = sm.OLS(\n",
    "    endog = '<add here>',   #Endogeneous = dependent variable(s)\n",
    "    exog =  '<add here>'    #Exogeneous = independent variable(s)\n",
    ").fit()          #.fit() needed to actually fit the data in Statsmodels\n",
    "\n",
    "#Print results\n",
    "print(mod.summary())"
   ]
  },
  {
   "cell_type": "code",
   "execution_count": null,
   "metadata": {},
   "outputs": [],
   "source": [
    "#Ex8- Fit a regression line to determine if the regression coefficients are statistically significant.\n",
    "#BONUS: Plot regression line with confidence intervals\n",
    "\n",
    "from statsmodels.sandbox.regression.predstd import wls_prediction_std\n",
    "\n",
    "#Generate prediction and confidence band\n",
    "prstd, iv_l, iv_u = wls_prediction_std(mod)\n",
    "\n",
    "#Make figure\n",
    "fig, ax = plt.subplots(figsize=(8,6))\n",
    "\n",
    "ax.plot(x['velocity'], df['strength'], 'o', label=\"data\")\n",
    "ax.plot(x['velocity'], mod.fittedvalues, 'r--', label=\"OLS\")\n",
    "ax.fill_between(x['velocity'], y1=iv_l, y2=iv_u, color='gray', alpha=.2, label='95%CI')\n",
    "ax.legend(loc='upper left')\n",
    "\n",
    "plt.xlabel('Velocity')\n",
    "plt.ylabel('Strength')\n",
    "plt.show()"
   ]
  },
  {
   "cell_type": "markdown",
   "metadata": {},
   "source": [
    "---"
   ]
  },
  {
   "cell_type": "markdown",
   "metadata": {},
   "source": [
    "### Exercise 9\n",
    "**Business Question:** Machine tolerance data (MachineTol.xlsx) was measured on a part at 5 locations: L1-L5. Conduct an analysis of variance of machine tolerance to determine if the population means associated with locations L1-L5 are the same or are different.\n",
    "* Plot machine tolerance by location\n",
    "* Show the results of an ANOVA and provide the conclusion to the hypothesis test\n",
    "* Conduct a multiple comparison test to determine what pairs might be different using the All Pairs Tukey-Kramer HSD method. What means are different or not?\n",
    "* Conduct a multiple comparison test to determine if a location exists that exhibits the best (lowest) mean tolerance using the Compare Best, Hsu MCB method. Are any of the means \"best\"?"
   ]
  },
  {
   "cell_type": "code",
   "execution_count": null,
   "metadata": {},
   "outputs": [],
   "source": [
    "#Ex9- Read the data from the excel file and create a dataframe\n",
    "#File path: '../Datasets/MachineTol.xlsx'\n",
    "df = '<add here>'\n",
    "df.head()"
   ]
  },
  {
   "cell_type": "code",
   "execution_count": null,
   "metadata": {},
   "outputs": [],
   "source": [
    "#Ex9- Visually compare machine tolerance by location\n",
    "'<add here>'"
   ]
  },
  {
   "cell_type": "code",
   "execution_count": null,
   "metadata": {},
   "outputs": [],
   "source": [
    "#Ex9- Visually compare machine tolerance by location\n",
    "#BONUS: Use a violinplot\n",
    "sns.violinplot(\n",
    "    data=df,\n",
    "    x='Location',\n",
    "    y='Mach Tol'\n",
    ")\n"
   ]
  },
  {
   "cell_type": "code",
   "execution_count": null,
   "metadata": {},
   "outputs": [],
   "source": [
    "#Ex9- Show the results of an ANOVA and provide the conclusion to the hypothesis test\n",
    "\n",
    "#Spaces can be a hassle, so renaming columns can be helpful\n",
    "df.rename(index=str, columns={\"Mach Tol\":\"MachTol\"}, inplace=True)\n",
    "\n",
    "#Statsmodels can use R-style formulas: y ~ x1 + C(x2) + ...\n",
    "#In that formula, [y, x1, x2] are column names and 'C(x2)' means 'treat x2 as categorical'\n",
    "\n",
    "formula = '<add here>'\n",
    "\n",
    "#Generate the fitted model\n",
    "model = sm.formula.ols(\n",
    "    formula = '<add here>',   #Note: this is an argument, not the variable name\n",
    "    data = '<add here>'\n",
    ").fit()\n",
    "\n",
    "#Print the ANOVA table\n",
    "aov_table = sms.anova_lm(model)\n",
    "print(aov_table)"
   ]
  },
  {
   "cell_type": "code",
   "execution_count": null,
   "metadata": {},
   "outputs": [],
   "source": [
    "#Ex9- Conduct a multiple comparison test to determine what pairs might be different using the All Pairs \n",
    "#Tukey-Kramer HSD method\n",
    "\n",
    "res = sms.multicomp.pairwise_tukeyhsd(\n",
    "    endog= '<add here>',\n",
    "    groups='<add here>'\n",
    ")\n",
    "\n",
    "#Print a summary of the pairwise p-values\n",
    "print(res.summary())\n",
    "\n",
    "#Visually inspect confidence intervals\n",
    "res.plot_simultaneous(xlabel='Friction')\n",
    "plt.show()"
   ]
  },
  {
   "cell_type": "code",
   "execution_count": null,
   "metadata": {},
   "outputs": [],
   "source": [
    "#Ex9- To find the best location with Hsu's MCB method use JMP instead"
   ]
  }
 ],
 "metadata": {
  "kernelspec": {
   "display_name": "Python 3",
   "language": "python",
   "name": "python3"
  },
  "language_info": {
   "codemirror_mode": {
    "name": "ipython",
    "version": 3
   },
   "file_extension": ".py",
   "mimetype": "text/x-python",
   "name": "python",
   "nbconvert_exporter": "python",
   "pygments_lexer": "ipython3",
   "version": "3.6.6"
  }
 },
 "nbformat": 4,
 "nbformat_minor": 2
}
