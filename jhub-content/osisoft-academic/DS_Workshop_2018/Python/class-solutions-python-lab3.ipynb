{
 "cells": [
  {
   "cell_type": "markdown",
   "metadata": {},
   "source": [
    "## Statistics Class: Lab 3 Solutions"
   ]
  },
  {
   "cell_type": "code",
   "execution_count": 1,
   "metadata": {},
   "outputs": [],
   "source": [
    "#Import libraries needed for the lab\n",
    "import pandas as pd\n",
    "import matplotlib.pyplot as plt\n",
    "from scipy import stats\n",
    "import statsmodels.api as sm\n",
    "\n",
    "%matplotlib inline"
   ]
  },
  {
   "cell_type": "code",
   "execution_count": 2,
   "metadata": {},
   "outputs": [
    {
     "data": {
      "text/html": [
       "<div>\n",
       "<style scoped>\n",
       "    .dataframe tbody tr th:only-of-type {\n",
       "        vertical-align: middle;\n",
       "    }\n",
       "\n",
       "    .dataframe tbody tr th {\n",
       "        vertical-align: top;\n",
       "    }\n",
       "\n",
       "    .dataframe thead th {\n",
       "        text-align: right;\n",
       "    }\n",
       "</style>\n",
       "<table border=\"1\" class=\"dataframe\">\n",
       "  <thead>\n",
       "    <tr style=\"text-align: right;\">\n",
       "      <th></th>\n",
       "      <th>TEST</th>\n",
       "      <th>Friction</th>\n",
       "    </tr>\n",
       "  </thead>\n",
       "  <tbody>\n",
       "    <tr>\n",
       "      <th>0</th>\n",
       "      <td>TEST 01</td>\n",
       "      <td>0.083497</td>\n",
       "    </tr>\n",
       "    <tr>\n",
       "      <th>1</th>\n",
       "      <td>TEST 01</td>\n",
       "      <td>0.083357</td>\n",
       "    </tr>\n",
       "    <tr>\n",
       "      <th>2</th>\n",
       "      <td>TEST 01</td>\n",
       "      <td>0.080469</td>\n",
       "    </tr>\n",
       "    <tr>\n",
       "      <th>3</th>\n",
       "      <td>TEST 01</td>\n",
       "      <td>0.078255</td>\n",
       "    </tr>\n",
       "    <tr>\n",
       "      <th>4</th>\n",
       "      <td>TEST 01</td>\n",
       "      <td>0.078255</td>\n",
       "    </tr>\n",
       "  </tbody>\n",
       "</table>\n",
       "</div>"
      ],
      "text/plain": [
       "      TEST  Friction\n",
       "0  TEST 01  0.083497\n",
       "1  TEST 01  0.083357\n",
       "2  TEST 01  0.080469\n",
       "3  TEST 01  0.078255\n",
       "4  TEST 01  0.078255"
      ]
     },
     "execution_count": 2,
     "metadata": {},
     "output_type": "execute_result"
    }
   ],
   "source": [
    "df = pd.read_excel('../Datasets/Friction.xlsx')\n",
    "df.head()"
   ]
  },
  {
   "cell_type": "code",
   "execution_count": 3,
   "metadata": {},
   "outputs": [
    {
     "name": "stdout",
     "output_type": "stream",
     "text": [
      "<class 'pandas.core.frame.DataFrame'>\n",
      "RangeIndex: 150 entries, 0 to 149\n",
      "Data columns (total 2 columns):\n",
      "TEST        150 non-null object\n",
      "Friction    150 non-null float64\n",
      "dtypes: float64(1), object(1)\n",
      "memory usage: 2.4+ KB\n"
     ]
    }
   ],
   "source": [
    "df.info()"
   ]
  },
  {
   "cell_type": "markdown",
   "metadata": {},
   "source": [
    "### a. Plot the friction results over tests to see if there is any visual evidence of differences in mean friction from one test to another. What do you conclude visually?"
   ]
  },
  {
   "cell_type": "code",
   "execution_count": 4,
   "metadata": {},
   "outputs": [
    {
     "data": {
      "image/png": "[encoded data removed]",
      "text/plain": [
       "<Figure size 432x288 with 1 Axes>"
      ]
     },
     "metadata": {
      "needs_background": "light"
     },
     "output_type": "display_data"
    }
   ],
   "source": [
    "df.boxplot(\n",
    "    column='Friction',\n",
    "    by='TEST',\n",
    "    grid=False,\n",
    "    showmeans=True\n",
    ")\n",
    "\n",
    "plt.title('')\n",
    "plt.ylabel('Friction')\n",
    "plt.show()"
   ]
  },
  {
   "cell_type": "markdown",
   "metadata": {},
   "source": [
    "**Answer:** Visually, Test 01 and 02 have the highest friction, while the other tests are much lower. Additionally, Test 05 has less variation than the other tests."
   ]
  },
  {
   "cell_type": "markdown",
   "metadata": {},
   "source": [
    "### b. Conduct an analysis of variance on the data to determine if there is a significant difference in mean frictions"
   ]
  },
  {
   "cell_type": "code",
   "execution_count": 5,
   "metadata": {},
   "outputs": [
    {
     "name": "stdout",
     "output_type": "stream",
     "text": [
      "             df    sum_sq   mean_sq          F        PR(>F)\n",
      "C(TEST)     4.0  0.003829  0.000957  17.184808  1.473902e-11\n",
      "Residual  145.0  0.008076  0.000056        NaN           NaN\n"
     ]
    }
   ],
   "source": [
    "# b. One-way ANOVA test to determine significance in means\n",
    "formula = 'Friction ~ C(TEST)'\n",
    "model = sm.formula.ols(formula, df).fit()\n",
    "aov_table = sm.stats.anova_lm(model)\n",
    "print(aov_table)"
   ]
  },
  {
   "cell_type": "markdown",
   "metadata": {},
   "source": [
    "**Answer:** Because $p<.05$, we reject the null hypothesis that all sample means are equal. "
   ]
  },
  {
   "cell_type": "markdown",
   "metadata": {},
   "source": [
    "### c. Conduct a multiple comparison test using the Tukey-Kramer HSD method to determine which tests are different than others"
   ]
  },
  {
   "cell_type": "code",
   "execution_count": 6,
   "metadata": {},
   "outputs": [
    {
     "name": "stdout",
     "output_type": "stream",
     "text": [
      "Multiple Comparison of Means - Tukey HSD,FWER=0.05\n",
      "===============================================\n",
      " group1  group2 meandiff  lower   upper  reject\n",
      "-----------------------------------------------\n",
      "TEST 01 TEST 02  0.0033   -0.002  0.0086 False \n",
      "TEST 01 TEST 03 -0.0076  -0.0129 -0.0022  True \n",
      "TEST 01 TEST 04 -0.0107   -0.016 -0.0054  True \n",
      "TEST 01 TEST 05 -0.0049  -0.0102  0.0004 False \n",
      "TEST 02 TEST 03 -0.0108  -0.0162 -0.0055  True \n",
      "TEST 02 TEST 04  -0.014  -0.0193 -0.0087  True \n",
      "TEST 02 TEST 05 -0.0082  -0.0135 -0.0029  True \n",
      "TEST 03 TEST 04 -0.0032  -0.0085  0.0022 False \n",
      "TEST 03 TEST 05  0.0027  -0.0027  0.008  False \n",
      "TEST 04 TEST 05  0.0058   0.0005  0.0111  True \n",
      "-----------------------------------------------\n"
     ]
    },
    {
     "data": {
      "image/png": "[encoded data removed]",
      "text/plain": [
       "<Figure size 720x432 with 1 Axes>"
      ]
     },
     "metadata": {
      "needs_background": "light"
     },
     "output_type": "display_data"
    }
   ],
   "source": [
    "res = sm.stats.multicomp.pairwise_tukeyhsd(endog=df['Friction'], groups=df['TEST'])\n",
    "\n",
    "print(res.summary())\n",
    "\n",
    "res.plot_simultaneous(xlabel='Friction')\n",
    "plt.show()"
   ]
  },
  {
   "cell_type": "markdown",
   "metadata": {},
   "source": [
    "### d. Conduct a multiple comparison test using the Compare Best, Hsu MCB method to determine if any of the tests produced a stastically superior result (i.e. significantly higher mean friction). What do you conclude?"
   ]
  },
  {
   "cell_type": "code",
   "execution_count": 7,
   "metadata": {},
   "outputs": [],
   "source": [
    "#Use jmp for this exercise"
   ]
  }
 ],
 "metadata": {
  "kernelspec": {
   "display_name": "Python 3",
   "language": "python",
   "name": "python3"
  },
  "language_info": {
   "codemirror_mode": {
    "name": "ipython",
    "version": 3
   },
   "file_extension": ".py",
   "mimetype": "text/x-python",
   "name": "python",
   "nbconvert_exporter": "python",
   "pygments_lexer": "ipython3",
   "version": "3.6.5"
  }
 },
 "nbformat": 4,
 "nbformat_minor": 2
}
