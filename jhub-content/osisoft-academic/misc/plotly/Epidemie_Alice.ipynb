{
 "cells": [
  {
   "cell_type": "code",
   "execution_count": 1,
   "metadata": {},
   "outputs": [],
   "source": [
    "from math import sin, cos, pi\n",
    "import plotly.graph_objs as go\n",
    "from dataclasses import dataclass"
   ]
  },
  {
   "cell_type": "code",
   "execution_count": 140,
   "metadata": {},
   "outputs": [],
   "source": [
    "def student_coord(i):\n",
    "    return {'x': sin((i*pi)/18.0), 'y': cos((i*pi)/18.0), 's' : f'student {i+1}'}"
   ]
  },
  {
   "cell_type": "code",
   "execution_count": 141,
   "metadata": {},
   "outputs": [],
   "source": [
    "x = []\n",
    "y = []\n",
    "s = []\n",
    "for i in range(36):\n",
    "    si = student_coord(i)\n",
    "    x.append(si['x'])\n",
    "    y.append(si['y'])\n",
    "    s.append(si['s'])"
   ]
  },
  {
   "cell_type": "code",
   "execution_count": 142,
   "metadata": {},
   "outputs": [
    {
     "data": {
      "application/vnd.jupyter.widget-view+json": {
       "model_id": "cb75fe63059546bbb00aea2fd3131d3a",
       "version_major": 2,
       "version_minor": 0
      },
      "text/plain": [
       "FigureWidget({\n",
       "    'data': [{'mode': 'markers',\n",
       "              'text': [student 1, student 2, student 3, studen…"
      ]
     },
     "metadata": {},
     "output_type": "display_data"
    }
   ],
   "source": [
    "trace = go.Scatter(\n",
    "    x = x,\n",
    "    y = y, \n",
    "    mode = 'markers',\n",
    "    text = s\n",
    ")\n",
    "data = [trace]\n",
    "\n",
    "fig = go.FigureWidget(data=data)\n",
    "fig"
   ]
  },
  {
   "cell_type": "code",
   "execution_count": 139,
   "metadata": {},
   "outputs": [
    {
     "data": {
      "text/plain": [
       "Scatter({\n",
       "    'marker': {'color': 'green', 'size': 10},\n",
       "    'mode': 'markers',\n",
       "    'uid': 'a812aa06-cab3-488f-81db-932aa5994416',\n",
       "    'x': [1],\n",
       "    'y': [1]\n",
       "})"
      ]
     },
     "execution_count": 139,
     "metadata": {},
     "output_type": "execute_result"
    }
   ],
   "source": [
    "s18 = student_coord(18)\n",
    "s21 = student_coord(21)\n",
    "chla = dict(size=12, color='green')\n",
    "fig.add_scatter(x = [s18['x']], y = [1], mode='markers', marker=dict(size=10, color='green'))"
   ]
  },
  {
   "cell_type": "code",
   "execution_count": 20,
   "metadata": {},
   "outputs": [
    {
     "data": {
      "application/vnd.jupyter.widget-view+json": {
       "model_id": "925638c4979c4846abd021d59c502071",
       "version_major": 2,
       "version_minor": 0
      },
      "text/plain": [
       "FigureWidget({\n",
       "    'data': [{'mode': 'markers',\n",
       "              'text': [student 1, student 2, student 3, studen…"
      ]
     },
     "metadata": {},
     "output_type": "display_data"
    }
   ],
   "source": [
    "echange_x = [x[0], x[27]]\n",
    "echange_y = [y[0], y[27]]\n",
    "trace1 = go.Scatter(x = echange_x, y = echange_y, mode='lines')\n",
    "fig = go.FigureWidget(data=[trace, trace1])\n",
    "fig"
   ]
  },
  {
   "cell_type": "code",
   "execution_count": 66,
   "metadata": {},
   "outputs": [],
   "source": [
    "neg = False\n",
    "pos = True\n",
    "pab = [\n",
    "  #  E1  E2  E3    A    B   \n",
    "    ([0, 0 , 0],   0,   0),  \n",
    "    ([28, 9, 20], neg, neg), \n",
    "    ([9, 13, 32], neg, neg), \n",
    "    ([35, 11, 5], pos, pos),\n",
    "    ([36, 12, 21], pos, pos),\n",
    "    ([18, 35, 3],  pos, pos), \n",
    "    ([25, 31, 29], neg, neg),\n",
    "    ([20, 27, 24], neg, pos),\n",
    "    ([19, 36, 26], neg, neg),\n",
    "    ([2, 1, 33],   neg, neg), # ou pos\n",
    "    ([32, 26, 17], neg, neg),\n",
    "    ([21, 3, 23],  pos, pos),\n",
    "    ([13, 4, 14],  neg, neg),\n",
    "    ([12, 2, 15],  pos, neg),\n",
    "    ([23, 19, 12], neg, neg),\n",
    "    ([22, 18, 13], pos, neg),\n",
    "    ([17, 30, 25], neg, pos),\n",
    "    ([16, 29, 10], neg, neg),\n",
    "    ([5, 15, 22],  pos, pos),\n",
    "    ([8, 14, 35],  pos, neg),\n",
    "    ([7, 23, 1],   neg, neg),\n",
    "    ([11, 22, 4],  pos, pos),\n",
    "    ([15, 21, 18], pos, pos),\n",
    "    ([14, 20, 11], pos, pos),\n",
    "    ([29, 34, 7],  neg, pos),\n",
    "    ([6, 33, 16],  neg, pos),\n",
    "    ([31, 10, 8],  neg, neg),\n",
    "    ([30, 7, 34],  neg, pos),\n",
    "    ([1, 32, 31],  neg, neg),\n",
    "    ([24, 17, 6],  neg, neg),\n",
    "    ([27, 16, 36], neg, neg),\n",
    "    ([26, 6, 28],  neg, neg),\n",
    "    ([10, 28, 2],  neg, neg),\n",
    "    ([34, 25, 9],  neg, pos),\n",
    "    ([33, 24, 27], neg, pos),\n",
    "    ([3, 5, 19],   pos, neg),\n",
    "    ([4, 8, 30],   neg, neg)\n",
    "]"
   ]
  },
  {
   "cell_type": "code",
   "execution_count": 67,
   "metadata": {},
   "outputs": [
    {
     "data": {
      "text/plain": [
       "[[0, 0, 0],\n",
       " [28, 9, 20],\n",
       " [9, 13, 32],\n",
       " [35, 11, 5],\n",
       " [36, 12, 21],\n",
       " [18, 35, 3],\n",
       " [25, 31, 29],\n",
       " [20, 27, 24],\n",
       " [19, 36, 26],\n",
       " [2, 1, 33],\n",
       " [32, 26, 17],\n",
       " [21, 3, 23],\n",
       " [13, 4, 14],\n",
       " [12, 2, 15],\n",
       " [23, 19, 12],\n",
       " [22, 18, 13],\n",
       " [17, 30, 25],\n",
       " [16, 29, 10],\n",
       " [5, 15, 22],\n",
       " [8, 14, 35],\n",
       " [7, 23, 1],\n",
       " [11, 22, 4],\n",
       " [15, 21, 18],\n",
       " [14, 20, 11],\n",
       " [29, 34, 7],\n",
       " [6, 33, 16],\n",
       " [31, 10, 8],\n",
       " [30, 7, 34],\n",
       " [1, 32, 31],\n",
       " [24, 17, 6],\n",
       " [27, 16, 36],\n",
       " [26, 6, 28],\n",
       " [10, 28, 2],\n",
       " [34, 25, 9],\n",
       " [33, 24, 27],\n",
       " [3, 5, 19],\n",
       " [4, 8, 30]]"
      ]
     },
     "execution_count": 67,
     "metadata": {},
     "output_type": "execute_result"
    }
   ],
   "source": [
    "def propagation(pab):\n",
    "    return [p for p, _, _ in pab]\n",
    "\n",
    "propagation(pab)    "
   ]
  },
  {
   "cell_type": "code",
   "execution_count": null,
   "metadata": {},
   "outputs": [],
   "source": []
  },
  {
   "cell_type": "code",
   "execution_count": 69,
   "metadata": {},
   "outputs": [],
   "source": [
    "def propagation_ok(pab):\n",
    "    p = propagation(pab)\n",
    "    for i in range(1, len(p)):\n",
    "        for j in range(3):\n",
    "            if p[p[i][j]][j] != i:\n",
    "                print('%%%%', i, j, p[i][j], p[p[i][j]][j])\n",
    "                return False\n",
    "            # else:\n",
    "            #     print('(ok)', i, j, p[i][j], p[p[i][j]][j])\n",
    "    return True"
   ]
  },
  {
   "cell_type": "code",
   "execution_count": null,
   "metadata": {},
   "outputs": [],
   "source": []
  },
  {
   "cell_type": "code",
   "execution_count": 71,
   "metadata": {},
   "outputs": [
    {
     "data": {
      "text/plain": [
       "True"
      ]
     },
     "execution_count": 71,
     "metadata": {},
     "output_type": "execute_result"
    }
   ],
   "source": [
    "propagation_ok(pab)"
   ]
  },
  {
   "cell_type": "code",
   "execution_count": 58,
   "metadata": {},
   "outputs": [
    {
     "data": {
      "text/plain": [
       "[3, 2, 1]"
      ]
     },
     "execution_count": 58,
     "metadata": {},
     "output_type": "execute_result"
    }
   ],
   "source": [
    "[i for i in range(3, 0, -1)]"
   ]
  },
  {
   "cell_type": "code",
   "execution_count": 72,
   "metadata": {},
   "outputs": [
    {
     "data": {
      "text/plain": [
       "[0,\n",
       " False,\n",
       " False,\n",
       " True,\n",
       " True,\n",
       " True,\n",
       " False,\n",
       " False,\n",
       " False,\n",
       " False,\n",
       " False,\n",
       " True,\n",
       " False,\n",
       " True,\n",
       " False,\n",
       " True,\n",
       " False,\n",
       " False,\n",
       " True,\n",
       " True,\n",
       " False,\n",
       " True,\n",
       " True,\n",
       " True,\n",
       " False,\n",
       " False,\n",
       " False,\n",
       " False,\n",
       " False,\n",
       " False,\n",
       " False,\n",
       " False,\n",
       " False,\n",
       " False,\n",
       " False,\n",
       " True,\n",
       " False]"
      ]
     },
     "execution_count": 72,
     "metadata": {},
     "output_type": "execute_result"
    }
   ],
   "source": [
    "chlamydia = [c for _, c, _ in pab]\n",
    "chlamydia"
   ]
  },
  {
   "cell_type": "code",
   "execution_count": 74,
   "metadata": {},
   "outputs": [
    {
     "data": {
      "text/plain": [
       "[0,\n",
       " False,\n",
       " False,\n",
       " True,\n",
       " True,\n",
       " True,\n",
       " False,\n",
       " True,\n",
       " False,\n",
       " False,\n",
       " False,\n",
       " True,\n",
       " False,\n",
       " False,\n",
       " False,\n",
       " False,\n",
       " True,\n",
       " False,\n",
       " True,\n",
       " False,\n",
       " False,\n",
       " True,\n",
       " True,\n",
       " True,\n",
       " True,\n",
       " True,\n",
       " False,\n",
       " True,\n",
       " False,\n",
       " False,\n",
       " False,\n",
       " False,\n",
       " False,\n",
       " True,\n",
       " True,\n",
       " False,\n",
       " False]"
      ]
     },
     "execution_count": 74,
     "metadata": {},
     "output_type": "execute_result"
    }
   ],
   "source": [
    "vih = [v for _, _, v in pab]\n",
    "vih"
   ]
  },
  {
   "cell_type": "code",
   "execution_count": 83,
   "metadata": {},
   "outputs": [],
   "source": [
    "def a_negative_until(pab):\n",
    "    for i in range(1, len(pab)):\n",
    "        p, a_i, _ = pab[i]\n",
    "        if not a_i: \n",
    "            for j in range(2, -1, -1):\n",
    "                _, a_pi, _ = pab[p[j]]\n",
    "                if a_pi:\n",
    "                    print(f'i:{i}  j:{j}  pj:{p[j]}  p:{pab[p[j]]} a_pi:{a_pi}')\n",
    "\n",
    "                "
   ]
  },
  {
   "cell_type": "code",
   "execution_count": 84,
   "metadata": {},
   "outputs": [
    {
     "name": "stdout",
     "output_type": "stream",
     "text": [
      "i:2  j:1  pj:13  p:([12, 2, 15], True, False) a_pi:True\n",
      "i:8  j:0  pj:19  p:([8, 14, 35], True, False) a_pi:True\n",
      "i:12  j:1  pj:4  p:([36, 12, 21], True, True) a_pi:True\n",
      "i:12  j:0  pj:13  p:([12, 2, 15], True, False) a_pi:True\n",
      "i:14  j:1  pj:19  p:([8, 14, 35], True, False) a_pi:True\n",
      "i:14  j:0  pj:23  p:([14, 20, 11], True, True) a_pi:True\n",
      "i:20  j:1  pj:23  p:([14, 20, 11], True, True) a_pi:True\n",
      "i:36  j:0  pj:4  p:([36, 12, 21], True, True) a_pi:True\n"
     ]
    }
   ],
   "source": [
    "a_negative_until(pab)"
   ]
  },
  {
   "cell_type": "code",
   "execution_count": 122,
   "metadata": {},
   "outputs": [],
   "source": [
    "def contaminated_from(s, pab):\n",
    "    p, _, _ = pab[s]\n",
    "    conta = p.copy()\n",
    "    print(p)\n",
    "    to_process = [(s, i) for (i, s) in enumerate(p, 1)]\n",
    "    print(to_process)\n",
    "    while len(to_process) > 0:\n",
    "        s, j = to_process.pop()\n",
    "        if j == 3: \n",
    "            continue\n",
    "        print(s, j)\n",
    "        p, _, _ = pab[s]\n",
    "        conta.append(p[j:])\n",
    "        to_process.append([(s, i) for (i, s) in enumerate(p[j:], 1)])\n",
    "        print('conta', conta)\n",
    "        print('proc', to_process)\n",
    "    return conta\n"
   ]
  },
  {
   "cell_type": "code",
   "execution_count": 123,
   "metadata": {},
   "outputs": [
    {
     "name": "stdout",
     "output_type": "stream",
     "text": [
      "[35, 11, 5]\n",
      "[(35, 1), (11, 2), (5, 3)]\n",
      "11 2\n",
      "conta [35, 11, 5, [23]]\n",
      "proc [(35, 1), [(23, 1)]]\n"
     ]
    },
    {
     "ename": "ValueError",
     "evalue": "not enough values to unpack (expected 2, got 1)",
     "output_type": "error",
     "traceback": [
      "\u001b[0;31m---------------------------------------------------------------------------\u001b[0m",
      "\u001b[0;31mValueError\u001b[0m                                Traceback (most recent call last)",
      "\u001b[0;32m<ipython-input-123-352d42a19dee>\u001b[0m in \u001b[0;36m<module>\u001b[0;34m\u001b[0m\n\u001b[0;32m----> 1\u001b[0;31m \u001b[0mcontaminated_from\u001b[0m\u001b[0;34m(\u001b[0m\u001b[0;36m3\u001b[0m\u001b[0;34m,\u001b[0m \u001b[0mpab\u001b[0m\u001b[0;34m)\u001b[0m\u001b[0;34m\u001b[0m\u001b[0;34m\u001b[0m\u001b[0m\n\u001b[0m",
      "\u001b[0;32m<ipython-input-122-465cf54322ab>\u001b[0m in \u001b[0;36mcontaminated_from\u001b[0;34m(s, pab)\u001b[0m\n\u001b[1;32m      6\u001b[0m     \u001b[0mprint\u001b[0m\u001b[0;34m(\u001b[0m\u001b[0mto_process\u001b[0m\u001b[0;34m)\u001b[0m\u001b[0;34m\u001b[0m\u001b[0;34m\u001b[0m\u001b[0m\n\u001b[1;32m      7\u001b[0m     \u001b[0;32mwhile\u001b[0m \u001b[0mlen\u001b[0m\u001b[0;34m(\u001b[0m\u001b[0mto_process\u001b[0m\u001b[0;34m)\u001b[0m \u001b[0;34m>\u001b[0m \u001b[0;36m0\u001b[0m\u001b[0;34m:\u001b[0m\u001b[0;34m\u001b[0m\u001b[0;34m\u001b[0m\u001b[0m\n\u001b[0;32m----> 8\u001b[0;31m         \u001b[0ms\u001b[0m\u001b[0;34m,\u001b[0m \u001b[0mj\u001b[0m \u001b[0;34m=\u001b[0m \u001b[0mto_process\u001b[0m\u001b[0;34m.\u001b[0m\u001b[0mpop\u001b[0m\u001b[0;34m(\u001b[0m\u001b[0;34m)\u001b[0m\u001b[0;34m\u001b[0m\u001b[0;34m\u001b[0m\u001b[0m\n\u001b[0m\u001b[1;32m      9\u001b[0m         \u001b[0;32mif\u001b[0m \u001b[0mj\u001b[0m \u001b[0;34m==\u001b[0m \u001b[0;36m3\u001b[0m\u001b[0;34m:\u001b[0m\u001b[0;34m\u001b[0m\u001b[0;34m\u001b[0m\u001b[0m\n\u001b[1;32m     10\u001b[0m             \u001b[0;32mcontinue\u001b[0m\u001b[0;34m\u001b[0m\u001b[0;34m\u001b[0m\u001b[0m\n",
      "\u001b[0;31mValueError\u001b[0m: not enough values to unpack (expected 2, got 1)"
     ]
    }
   ],
   "source": [
    "contaminated_from(3, pab)"
   ]
  },
  {
   "cell_type": "code",
   "execution_count": 105,
   "metadata": {},
   "outputs": [
    {
     "data": {
      "text/plain": [
       "[([0, 0, 0], 0, 0),\n",
       " ([28, 9, 20], False, False),\n",
       " ([9, 13, 32], False, False),\n",
       " ([35, 11, 5], True, True),\n",
       " ([36, 12, 21], True, True),\n",
       " ([18, 35, 3], True, True),\n",
       " ([25, 31, 29], False, False),\n",
       " ([20, 27, 24], False, True),\n",
       " ([19, 36, 26], False, False),\n",
       " ([2, 1, 33], False, False),\n",
       " ([32, 26, 17], False, False),\n",
       " ([21, 3, 23], True, True),\n",
       " ([13, 4, 14], False, False),\n",
       " ([12, 2, 15], True, False),\n",
       " ([23, 19, 12], False, False),\n",
       " ([22, 18, 13], True, False),\n",
       " ([17, 30, 25], False, True),\n",
       " ([16, 29, 10], False, False),\n",
       " ([5, 15, 22], True, True),\n",
       " ([8, 14, 35], True, False),\n",
       " ([7, 23, 1], False, False),\n",
       " ([11, 22, 4], True, True),\n",
       " ([15, 21, 18], True, True),\n",
       " ([14, 20, 11], True, True),\n",
       " ([29, 34, 7], False, True),\n",
       " ([6, 33, 16], False, True),\n",
       " ([31, 10, 8], False, False),\n",
       " ([30, 7, 34], False, True),\n",
       " ([1, 32, 31], False, False),\n",
       " ([24, 17, 6], False, False),\n",
       " ([27, 16, 36], False, False),\n",
       " ([26, 6, 28], False, False),\n",
       " ([10, 28, 2], False, False),\n",
       " ([34, 25, 9], False, True),\n",
       " ([33, 24, 27], False, True),\n",
       " ([3, 5, 19], True, False),\n",
       " ([4, 8, 30], False, False)]"
      ]
     },
     "execution_count": 105,
     "metadata": {},
     "output_type": "execute_result"
    }
   ],
   "source": [
    "pab"
   ]
  },
  {
   "cell_type": "code",
   "execution_count": 99,
   "metadata": {},
   "outputs": [
    {
     "name": "stdout",
     "output_type": "stream",
     "text": [
      "[35, 11, 5, []]\n",
      "[(35, 1), (11, 2), (5, 3), ([], 4)]\n",
      "[] 4\n"
     ]
    },
    {
     "ename": "TypeError",
     "evalue": "list indices must be integers or slices, not list",
     "output_type": "error",
     "traceback": [
      "\u001b[0;31m---------------------------------------------------------------------------\u001b[0m",
      "\u001b[0;31mTypeError\u001b[0m                                 Traceback (most recent call last)",
      "\u001b[0;32m<ipython-input-99-352d42a19dee>\u001b[0m in \u001b[0;36m<module>\u001b[0;34m\u001b[0m\n\u001b[0;32m----> 1\u001b[0;31m \u001b[0mcontaminated_from\u001b[0m\u001b[0;34m(\u001b[0m\u001b[0;36m3\u001b[0m\u001b[0;34m,\u001b[0m \u001b[0mpab\u001b[0m\u001b[0;34m)\u001b[0m\u001b[0;34m\u001b[0m\u001b[0;34m\u001b[0m\u001b[0m\n\u001b[0m",
      "\u001b[0;32m<ipython-input-98-c9f118fa9682>\u001b[0m in \u001b[0;36mcontaminated_from\u001b[0;34m(s, pab)\u001b[0m\n\u001b[1;32m      8\u001b[0m         \u001b[0ms\u001b[0m\u001b[0;34m,\u001b[0m \u001b[0mj\u001b[0m \u001b[0;34m=\u001b[0m \u001b[0mto_process\u001b[0m\u001b[0;34m.\u001b[0m\u001b[0mpop\u001b[0m\u001b[0;34m(\u001b[0m\u001b[0;34m)\u001b[0m\u001b[0;34m\u001b[0m\u001b[0;34m\u001b[0m\u001b[0m\n\u001b[1;32m      9\u001b[0m         \u001b[0mprint\u001b[0m\u001b[0;34m(\u001b[0m\u001b[0ms\u001b[0m\u001b[0;34m,\u001b[0m \u001b[0mj\u001b[0m\u001b[0;34m)\u001b[0m\u001b[0;34m\u001b[0m\u001b[0;34m\u001b[0m\u001b[0m\n\u001b[0;32m---> 10\u001b[0;31m         \u001b[0mp\u001b[0m\u001b[0;34m,\u001b[0m \u001b[0m_\u001b[0m\u001b[0;34m,\u001b[0m \u001b[0m_\u001b[0m \u001b[0;34m=\u001b[0m \u001b[0mpab\u001b[0m\u001b[0;34m[\u001b[0m\u001b[0ms\u001b[0m\u001b[0;34m]\u001b[0m\u001b[0;34m\u001b[0m\u001b[0;34m\u001b[0m\u001b[0m\n\u001b[0m\u001b[1;32m     11\u001b[0m         \u001b[0mconta\u001b[0m\u001b[0;34m.\u001b[0m\u001b[0mappend\u001b[0m\u001b[0;34m(\u001b[0m\u001b[0mp\u001b[0m\u001b[0;34m[\u001b[0m\u001b[0mj\u001b[0m\u001b[0;34m:\u001b[0m\u001b[0;34m]\u001b[0m\u001b[0;34m)\u001b[0m\u001b[0;34m\u001b[0m\u001b[0;34m\u001b[0m\u001b[0m\n\u001b[1;32m     12\u001b[0m         \u001b[0mto_process\u001b[0m\u001b[0;34m.\u001b[0m\u001b[0mappend\u001b[0m\u001b[0;34m(\u001b[0m\u001b[0;34m[\u001b[0m\u001b[0;34m(\u001b[0m\u001b[0ms\u001b[0m\u001b[0;34m,\u001b[0m \u001b[0mi\u001b[0m\u001b[0;34m)\u001b[0m \u001b[0;32mfor\u001b[0m \u001b[0;34m(\u001b[0m\u001b[0mi\u001b[0m\u001b[0;34m,\u001b[0m \u001b[0ms\u001b[0m\u001b[0;34m)\u001b[0m \u001b[0;32min\u001b[0m \u001b[0menumerate\u001b[0m\u001b[0;34m(\u001b[0m\u001b[0mp\u001b[0m\u001b[0;34m[\u001b[0m\u001b[0mj\u001b[0m\u001b[0;34m:\u001b[0m\u001b[0;34m]\u001b[0m\u001b[0;34m,\u001b[0m \u001b[0;36m1\u001b[0m\u001b[0;34m)\u001b[0m\u001b[0;34m]\u001b[0m\u001b[0;34m)\u001b[0m\u001b[0;34m\u001b[0m\u001b[0;34m\u001b[0m\u001b[0m\n",
      "\u001b[0;31mTypeError\u001b[0m: list indices must be integers or slices, not list"
     ]
    }
   ],
   "source": [
    "contaminated_from(3, pab)"
   ]
  },
  {
   "cell_type": "code",
   "execution_count": null,
   "metadata": {},
   "outputs": [],
   "source": []
  }
 ],
 "metadata": {
  "kernelspec": {
   "display_name": "Python 3",
   "language": "python",
   "name": "python3"
  },
  "language_info": {
   "codemirror_mode": {
    "name": "ipython",
    "version": 3
   },
   "file_extension": ".py",
   "mimetype": "text/x-python",
   "name": "python",
   "nbconvert_exporter": "python",
   "pygments_lexer": "ipython3",
   "version": "3.7.1"
  }
 },
 "nbformat": 4,
 "nbformat_minor": 2
}
