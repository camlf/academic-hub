{
 "cells": [
  {
   "cell_type": "markdown",
   "metadata": {},
   "source": [
    "#### New to Plotly?\n",
    "Plotly's Python library is free and open source! [Get started](https://plot.ly/python/getting-started/) by downloading the client and [reading the primer](https://plot.ly/python/getting-started/).\n",
    "<br>You can set up Plotly to work in [online](https://plot.ly/python/getting-started/#initialization-for-online-plotting) or [offline](https://plot.ly/python/getting-started/#initialization-for-offline-plotting) mode, or in [jupyter notebooks](https://plot.ly/python/getting-started/#start-plotting-online).\n",
    "<br>We also have a quick-reference [cheatsheet](https://images.plot.ly/plotly-documentation/images/python_cheat_sheet.pdf) (new!) to help you get started!"
   ]
  },
  {
   "cell_type": "markdown",
   "metadata": {},
   "source": [
    "#### Network reflecting coappearances of characters in <br>Victor Hugo's novel Les Miserables"
   ]
  },
  {
   "cell_type": "markdown",
   "metadata": {},
   "source": [
    "We define our graph as an `igraph.Graph` object. [Python `igraph`](http://igraph.org/python/)\n",
    "is a library for high-performance graph generation  and analysis. Install the Python library with `sudo pip install python-igraph`."
   ]
  },
  {
   "cell_type": "code",
   "execution_count": 1,
   "metadata": {},
   "outputs": [
    {
     "ename": "ModuleNotFoundError",
     "evalue": "No module named 'igraph'",
     "output_type": "error",
     "traceback": [
      "\u001b[0;31m---------------------------------------------------------------------------\u001b[0m",
      "\u001b[0;31mModuleNotFoundError\u001b[0m                       Traceback (most recent call last)",
      "\u001b[0;32m<ipython-input-1-74e9099e501d>\u001b[0m in \u001b[0;36m<module>\u001b[0;34m\u001b[0m\n\u001b[0;32m----> 1\u001b[0;31m \u001b[0;32mimport\u001b[0m \u001b[0migraph\u001b[0m \u001b[0;32mas\u001b[0m \u001b[0mig\u001b[0m\u001b[0;34m\u001b[0m\u001b[0;34m\u001b[0m\u001b[0m\n\u001b[0m",
      "\u001b[0;31mModuleNotFoundError\u001b[0m: No module named 'igraph'"
     ]
    }
   ],
   "source": [
    "import igraph as ig"
   ]
  },
  {
   "cell_type": "markdown",
   "metadata": {},
   "source": [
    "Read graph data from a `json` file:"
   ]
  },
  {
   "cell_type": "code",
   "execution_count": 3,
   "metadata": {},
   "outputs": [
    {
     "name": "stdout",
     "output_type": "stream",
     "text": [
      "200\n",
      "dict_keys(['nodes', 'links'])\n"
     ]
    }
   ],
   "source": [
    "#import json\n",
    "#import urllib2\n",
    "import requests\n",
    "\n",
    "# data = []\n",
    "# req = urllib2.Request(\"https://raw.githubusercontent.com/plotly/datasets/master/miserables.json\")\n",
    "# opener = urllib2.build_opener()\n",
    "# f = opener.open(req)\n",
    "#data = json.loads(f.read())\n",
    "\n",
    "r = requests.get(\"https://raw.githubusercontent.com/plotly/datasets/master/miserables.json\")\n",
    "print(r.status_code)\n",
    "data = r.json()\n",
    "print(data.keys())"
   ]
  },
  {
   "cell_type": "markdown",
   "metadata": {},
   "source": [
    "Get the number of nodes:"
   ]
  },
  {
   "cell_type": "code",
   "execution_count": 4,
   "metadata": {},
   "outputs": [
    {
     "data": {
      "text/plain": [
       "77"
      ]
     },
     "execution_count": 4,
     "metadata": {},
     "output_type": "execute_result"
    }
   ],
   "source": [
    "N=len(data['nodes'])\n",
    "N"
   ]
  },
  {
   "cell_type": "markdown",
   "metadata": {},
   "source": [
    "Define the list of edges and the Graph object from Edges:"
   ]
  },
  {
   "cell_type": "code",
   "execution_count": 5,
   "metadata": {},
   "outputs": [
    {
     "name": "stdout",
     "output_type": "stream",
     "text": [
      "['ADJ_DIRECTED', 'ADJ_LOWER', 'ADJ_MAX', 'ADJ_MIN', 'ADJ_PLUS', 'ADJ_UNDIRECTED', 'ADJ_UPPER', 'ALL', 'ARPACKOptions', 'AdvancedGradientPalette', 'BFSIter', 'BLISS_F', 'BLISS_FL', 'BLISS_FLM', 'BLISS_FM', 'BLISS_FS', 'BLISS_FSM', 'BoundingBox', 'ClusterColoringPalette', 'Clustering', 'CohesiveBlocks', 'Configuration', 'Cover', 'Cut', 'DefaultGraphDrawer', 'Dendrogram', 'DyadCensus', 'Edge', 'EdgeSeq', 'FittedPowerLaw', 'Flow', 'GET_ADJACENCY_BOTH', 'GET_ADJACENCY_LOWER', 'GET_ADJACENCY_UPPER', 'GradientPalette', 'Graph', 'GraphBase', 'GraphSummary', 'Histogram', 'IN', 'InternalError', 'Layout', 'Matching', 'Matrix', 'Nexus', 'NexusConnection', 'OUT', 'Palette', 'Plot', 'Point', 'PrecalculatedPalette', 'REWIRING_SIMPLE', 'REWIRING_SIMPLE_LOOPS', 'RainbowPalette', 'Rectangle', 'RunningMean', 'STAR_IN', 'STAR_MUTUAL', 'STAR_OUT', 'STAR_UNDIRECTED', 'STRONG', 'StringIO', 'TRANSITIVITY_NAN', 'TRANSITIVITY_ZERO', 'TREE_IN', 'TREE_OUT', 'TREE_UNDIRECTED', 'TriadCensus', 'UniqueIdGenerator', 'Vertex', 'VertexClustering', 'VertexCover', 'VertexDendrogram', 'VertexSeq', 'WEAK', '_3d_version_for', '__build_date__', '__builtins__', '__cached__', '__doc__', '__file__', '__license__', '__loader__', '__name__', '__package__', '__path__', '__spec__', '__version__', '_add_proxy_methods', '_graphmethod', '_igraph', '_layout_method_wrapper', 'arpack_options', 'autocurve', 'clustering', 'color_name_to_rgb', 'color_name_to_rgba', 'community_to_membership', 'compare_communities', 'compat', 'config', 'configuration', 'convex_hull', 'copyfileobj', 'cos', 'cut', 'datatypes', 'dbl_epsilon', 'deepcopy', 'defaultdict', 'deprecated', 'drawing', 'formula', 'gzip', 'hsl_to_rgb', 'hsla_to_rgba', 'hsv_to_rgb', 'hsva_to_rgba', 'is_degree_sequence', 'is_graphical_degree_sequence', 'islice', 'known_colors', 'layout', 'load', 'matching', 'math', 'mean', 'median', 'mkstemp', 'multidict', 'name', 'named_temporary_file', 'operator', 'os', 'palettes', 'percentile', 'pi', 'plot', 'power_law_fit', 'property', 'quantile', 'read', 'remote', 'rescale', 'rgb_to_hsl', 'rgb_to_hsv', 'rgba_to_hsla', 'rgba_to_hsva', 'safemax', 'safemin', 'save', 'set_progress_handler', 'set_random_number_generator', 'set_status_handler', 'sin', 'split_join_distance', 'statistics', 'str_to_orientation', 'summary', 'sys', 'utils', 'vendor', 'warn', 'write']\n"
     ]
    }
   ],
   "source": [
    "L=len(data['links'])\n",
    "Edges=[(data['links'][k]['source'], data['links'][k]['target']) for k in range(L)]\n",
    "\n",
    "print(dir(ig))\n",
    "G=ig.Graph(Edges, directed=False)"
   ]
  },
  {
   "cell_type": "markdown",
   "metadata": {},
   "source": [
    "Extract the node attributes, 'group', and 'name':"
   ]
  },
  {
   "cell_type": "code",
   "execution_count": 6,
   "metadata": {},
   "outputs": [
    {
     "data": {
      "text/plain": [
       "{'name': 'Myriel', 'group': 1}"
      ]
     },
     "execution_count": 6,
     "metadata": {},
     "output_type": "execute_result"
    }
   ],
   "source": [
    "data['nodes'][0]"
   ]
  },
  {
   "cell_type": "code",
   "execution_count": 7,
   "metadata": {},
   "outputs": [],
   "source": [
    "labels=[]\n",
    "group=[]\n",
    "for node in data['nodes']:\n",
    "    labels.append(node['name'])\n",
    "    group.append(node['group'])"
   ]
  },
  {
   "cell_type": "markdown",
   "metadata": {},
   "source": [
    "Get the node positions, set by the Kamada-Kawai layout for 3D graphs:"
   ]
  },
  {
   "cell_type": "code",
   "execution_count": 8,
   "metadata": {},
   "outputs": [],
   "source": [
    "layt=G.layout('kk', dim=3) "
   ]
  },
  {
   "cell_type": "markdown",
   "metadata": {},
   "source": [
    "`layt` is a list of three elements lists (the coordinates of nodes):"
   ]
  },
  {
   "cell_type": "code",
   "execution_count": 9,
   "metadata": {},
   "outputs": [
    {
     "data": {
      "text/plain": [
       "[-2.878183799245599, -7.953161721203702, 0.9682673355936177]"
      ]
     },
     "execution_count": 9,
     "metadata": {},
     "output_type": "execute_result"
    }
   ],
   "source": [
    "layt[5]"
   ]
  },
  {
   "cell_type": "markdown",
   "metadata": {},
   "source": [
    "Set data for the Plotly plot of the graph:"
   ]
  },
  {
   "cell_type": "code",
   "execution_count": 10,
   "metadata": {},
   "outputs": [],
   "source": [
    "Xn=[layt[k][0] for k in range(N)]# x-coordinates of nodes\n",
    "Yn=[layt[k][1] for k in range(N)]# y-coordinates\n",
    "Zn=[layt[k][2] for k in range(N)]# z-coordinates\n",
    "Xe=[]\n",
    "Ye=[]\n",
    "Ze=[]\n",
    "for e in Edges:\n",
    "    Xe+=[layt[e[0]][0],layt[e[1]][0], None]# x-coordinates of edge ends\n",
    "    Ye+=[layt[e[0]][1],layt[e[1]][1], None]  \n",
    "    Ze+=[layt[e[0]][2],layt[e[1]][2], None]  "
   ]
  },
  {
   "cell_type": "code",
   "execution_count": 11,
   "metadata": {},
   "outputs": [],
   "source": [
    "import plotly.plotly as py\n",
    "import plotly.graph_objs as go\n",
    "\n",
    "trace1=go.Scatter3d(x=Xe,\n",
    "               y=Ye,\n",
    "               z=Ze,\n",
    "               mode='lines',\n",
    "               line=dict(color='rgb(125,125,125)', width=1),\n",
    "               hoverinfo='none'\n",
    "               )\n",
    "\n",
    "trace2=go.Scatter3d(x=Xn,\n",
    "               y=Yn,\n",
    "               z=Zn,\n",
    "               mode='markers',\n",
    "               name='actors',\n",
    "               marker=dict(symbol='circle',\n",
    "                             size=6,\n",
    "                             color=group,\n",
    "                             colorscale='Viridis',\n",
    "                             line=dict(color='rgb(50,50,50)', width=0.5)\n",
    "                             ),\n",
    "               text=labels,\n",
    "               hoverinfo='text'\n",
    "               )\n",
    "\n",
    "axis=dict(showbackground=False,\n",
    "          showline=False,\n",
    "          zeroline=False,\n",
    "          showgrid=False,\n",
    "          showticklabels=False,\n",
    "          title=''\n",
    "          )\n",
    "\n",
    "layout = go.Layout(\n",
    "         title=\"Network of coappearances of characters in Victor Hugo's novel<br> Les Miserables (3D visualization)\",\n",
    "         width=1000,\n",
    "         height=1000,\n",
    "         showlegend=False,\n",
    "         scene=dict(\n",
    "             xaxis=dict(axis),\n",
    "             yaxis=dict(axis),\n",
    "             zaxis=dict(axis),\n",
    "        ),\n",
    "     margin=dict(\n",
    "        t=100\n",
    "    ),\n",
    "    hovermode='closest',\n",
    "    annotations=[\n",
    "           dict(\n",
    "           showarrow=False,\n",
    "            text=\"Data source: <a href='http://bost.ocks.org/mike/miserables/miserables.json'>[1] miserables.json</a>\",\n",
    "            xref='paper',\n",
    "            yref='paper',\n",
    "            x=0,\n",
    "            y=0.1,\n",
    "            xanchor='left',\n",
    "            yanchor='bottom',\n",
    "            font=dict(\n",
    "            size=14\n",
    "            )\n",
    "            )\n",
    "        ],    )"
   ]
  },
  {
   "cell_type": "code",
   "execution_count": 14,
   "metadata": {},
   "outputs": [
    {
     "data": {
      "application/vnd.jupyter.widget-view+json": {
       "model_id": "34322e09e8ea430280e78fc8ab7d4637",
       "version_major": 2,
       "version_minor": 0
      },
      "text/plain": [
       "FigureWidget({\n",
       "    'data': [{'hoverinfo': 'none',\n",
       "              'line': {'color': 'rgb(125,125,125)', 'width':…"
      ]
     },
     "metadata": {},
     "output_type": "display_data"
    }
   ],
   "source": [
    "data=[trace1, trace2]\n",
    "#fig=go.Figure(data=data, layout=layout)\n",
    "\n",
    "fig = go.FigureWidget(data=data, layout=layout)\n",
    "fig\n",
    "#py.iplot(fig, filename='Les-Miserables')"
   ]
  },
  {
   "cell_type": "markdown",
   "metadata": {},
   "source": [
    "#### Reference\n",
    "See https://plot.ly/python/reference/#scatter3d for more information and chart attribute options!"
   ]
  },
  {
   "cell_type": "code",
   "execution_count": 16,
   "metadata": {},
   "outputs": [
    {
     "data": {
      "text/html": [
       "<link href=\"//fonts.googleapis.com/css?family=Open+Sans:600,400,300,200|Inconsolata|Ubuntu+Mono:400,700\" rel=\"stylesheet\" type=\"text/css\" />"
      ],
      "text/plain": [
       "<IPython.core.display.HTML object>"
      ]
     },
     "metadata": {},
     "output_type": "display_data"
    },
    {
     "data": {
      "text/html": [
       "<link rel=\"stylesheet\" type=\"text/css\" href=\"http://help.plot.ly/documentation/all_static/css/ipython-notebook-custom.css\">"
      ],
      "text/plain": [
       "<IPython.core.display.HTML object>"
      ]
     },
     "metadata": {},
     "output_type": "display_data"
    },
    {
     "name": "stdout",
     "output_type": "stream",
     "text": [
      "Collecting git+https://github.com/plotly/publisher.git\n",
      "  Cloning https://github.com/plotly/publisher.git to /tmp/pip-req-build-5nojxpvr\n",
      "Building wheels for collected packages: publisher\n",
      "  Building wheel for publisher (setup.py) ... \u001b[?25ldone\n",
      "\u001b[?25h  Stored in directory: /tmp/pip-ephem-wheel-cache-we0glnoh/wheels/99/3e/a0/fbd22ba24cca72bdbaba53dbc23c1768755fb17b3af0f33966\n",
      "Successfully built publisher\n",
      "Installing collected packages: publisher\n",
      "  Found existing installation: publisher 0.13\n",
      "    Uninstalling publisher-0.13:\n",
      "      Successfully uninstalled publisher-0.13\n",
      "Successfully installed publisher-0.13\n"
     ]
    }
   ],
   "source": [
    "from IPython.display import display, HTML\n",
    "\n",
    "display(HTML('<link href=\"//fonts.googleapis.com/css?family=Open+Sans:600,400,300,200|Inconsolata|Ubuntu+Mono:400,700\" rel=\"stylesheet\" type=\"text/css\" />'))\n",
    "display(HTML('<link rel=\"stylesheet\" type=\"text/css\" href=\"http://help.plot.ly/documentation/all_static/css/ipython-notebook-custom.css\">'))\n",
    "\n",
    "! pip install git+https://github.com/plotly/publisher.git --upgrade\n",
    "\n",
    "import publisher\n",
    "publisher.publish(\n",
    "    'Les-miserables-network.ipynb', 'python/3d-network-graph/', 'Python 3D Network Graphs',\n",
    "    'How to make 3D Network Graphs in Python. ',\n",
    "    title = '3D Network Graphs in Python | plotly',\n",
    "    name = '3D Network Graphs',\n",
    "    has_thumbnail='true', thumbnail='thumbnail/3dnetwork.jpg', \n",
    "    language='python', page_type='example_index', \n",
    "    display_as='3d_charts', order=13,\n",
    "    ipynb= '~notebook_demo/226')"
   ]
  },
  {
   "cell_type": "code",
   "execution_count": null,
   "metadata": {},
   "outputs": [],
   "source": []
  }
 ],
 "metadata": {
  "anaconda-cloud": {},
  "kernelspec": {
   "display_name": "Python 3",
   "language": "python",
   "name": "python3"
  },
  "language_info": {
   "codemirror_mode": {
    "name": "ipython",
    "version": 3
   },
   "file_extension": ".py",
   "mimetype": "text/x-python",
   "name": "python",
   "nbconvert_exporter": "python",
   "pygments_lexer": "ipython3",
   "version": "3.7.1"
  }
 },
 "nbformat": 4,
 "nbformat_minor": 2
}
