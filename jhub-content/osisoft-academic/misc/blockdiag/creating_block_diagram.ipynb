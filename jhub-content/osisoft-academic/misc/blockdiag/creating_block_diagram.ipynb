{
 "cells": [
  {
   "cell_type": "markdown",
   "metadata": {},
   "source": [
    "# Slides - Hub SL April 2019"
   ]
  },
  {
   "cell_type": "code",
   "execution_count": 1,
   "metadata": {},
   "outputs": [
    {
     "name": "stdout",
     "output_type": "stream",
     "text": [
      "Collecting blockdiag\n",
      "\u001b[?25l  Downloading https://files.pythonhosted.org/packages/e6/37/a3a4d09c8cbe16b303ed75fd07381e5460b37a25fe247645f2251477887a/blockdiag-1.5.4-py2.py3-none-any.whl (2.7MB)\n",
      "\u001b[K    100% |████████████████████████████████| 2.7MB 15.4MB/s \n",
      "\u001b[?25hRequirement already satisfied: Pillow in /opt/conda/lib/python3.7/site-packages (from blockdiag) (5.4.1)\n",
      "Collecting funcparserlib (from blockdiag)\n",
      "  Downloading https://files.pythonhosted.org/packages/cb/f7/b4a59c3ccf67c0082546eaeb454da1a6610e924d2e7a2a21f337ecae7b40/funcparserlib-0.3.6.tar.gz\n",
      "Requirement already satisfied: setuptools in /opt/conda/lib/python3.7/site-packages (from blockdiag) (40.8.0)\n",
      "Collecting webcolors (from blockdiag)\n",
      "  Downloading https://files.pythonhosted.org/packages/1d/44/c4902683be73beba20afd299705e11f0a753a01cc7f9d6a070841848605b/webcolors-1.8.1-py2.py3-none-any.whl\n",
      "Building wheels for collected packages: funcparserlib\n",
      "  Building wheel for funcparserlib (setup.py) ... \u001b[?25ldone\n",
      "\u001b[?25h  Stored in directory: /home/jovyan/.cache/pip/wheels/03/eb/48/ade4df39d3eb30e31518e91e4ee0572ca6c1292a94f782f9da\n",
      "Successfully built funcparserlib\n",
      "Installing collected packages: funcparserlib, webcolors, blockdiag\n",
      "Successfully installed blockdiag-1.5.4 funcparserlib-0.3.6 webcolors-1.8.1\n"
     ]
    }
   ],
   "source": [
    "!pip install blockdiag"
   ]
  },
  {
   "cell_type": "code",
   "execution_count": 2,
   "metadata": {},
   "outputs": [],
   "source": [
    "!mkdir diagrams"
   ]
  },
  {
   "cell_type": "code",
   "execution_count": 3,
   "metadata": {},
   "outputs": [
    {
     "name": "stdout",
     "output_type": "stream",
     "text": [
      "Writing diagrams/block_diagram\n"
     ]
    }
   ],
   "source": [
    "%%file diagrams/block_diagram\n",
    "blockdiag {\n",
    "  // Define class (list of attributes)\n",
    "  class emphasis [color = lightblue, style = dashed];\n",
    "  class redline [color = red, style = dotted];\n",
    "\n",
    "  Extract -> Transform -> Load;\n",
    "\n",
    "  // Set class to node\n",
    "  Transform [class = \"emphasis\"];\n",
    "\n",
    "  // Set class to edge\n",
    "  Transform -> Load [class = \"redline\"];\n",
    "}"
   ]
  },
  {
   "cell_type": "code",
   "execution_count": 4,
   "metadata": {},
   "outputs": [],
   "source": [
    "!blockdiag diagrams/block_diagram"
   ]
  },
  {
   "cell_type": "markdown",
   "metadata": {},
   "source": [
    "![Block diag test](./diagrams/block_diagram.png)"
   ]
  },
  {
   "cell_type": "code",
   "execution_count": 5,
   "metadata": {},
   "outputs": [
    {
     "name": "stdout",
     "output_type": "stream",
     "text": [
      "[NbConvertApp] Converting notebook creating_block_diagram.ipynb to slides\n",
      "[NbConvertApp] Writing 284011 bytes to creating_block_diagram.slides.html\n"
     ]
    }
   ],
   "source": [
    "!jupyter nbconvert creating_block_diagram.ipynb --to slides"
   ]
  },
  {
   "cell_type": "code",
   "execution_count": 6,
   "metadata": {},
   "outputs": [
    {
     "name": "stdout",
     "output_type": "stream",
     "text": [
      "Cloning into 'reveal.js'...\n",
      "remote: Enumerating objects: 11302, done.\u001b[K\n",
      "remote: Total 11302 (delta 0), reused 0 (delta 0), pack-reused 11302\u001b[K\n",
      "Receiving objects: 100% (11302/11302), 8.77 MiB | 23.44 MiB/s, done.\n",
      "Resolving deltas: 100% (6250/6250), done.\n"
     ]
    }
   ],
   "source": [
    "!git clone https://github.com/hakimel/reveal.js.git"
   ]
  },
  {
   "cell_type": "code",
   "execution_count": 8,
   "metadata": {},
   "outputs": [
    {
     "name": "stdout",
     "output_type": "stream",
     "text": [
      "Serving HTTP on 0.0.0.0 port 8000 (http://0.0.0.0:8000/) ...\n",
      "^C\n",
      "\n",
      "Keyboard interrupt received, exiting.\n"
     ]
    }
   ],
   "source": [
    "!python -m http.server 8000"
   ]
  },
  {
   "cell_type": "code",
   "execution_count": 12,
   "metadata": {},
   "outputs": [
    {
     "name": "stdout",
     "output_type": "stream",
     "text": [
      "/bin/sh: 1: Syntax error: word unexpected (expecting \")\")\n"
     ]
    }
   ],
   "source": [
    "![alt](https://interactive.blockdiag.com/image?compression=deflate&encoding=base64&src=eJxLyslPzk7JTExXqOZSUHBU0LVTcAIRziDCBUS4ggg3BaAsWMLFmqsWAGeAC88)"
   ]
  },
  {
   "cell_type": "code",
   "execution_count": 13,
   "metadata": {},
   "outputs": [
    {
     "data": {
      "text/html": [
       "<img src=\"http://interactive.blockdiag.com/image?compression=deflate&encoding=base64&src=eJxLyslPzk7JTExXqOZSUHBU0LVTcAIRziDCBUS4ggg3BaAsWMLFmqsWAGeAC88\"/>"
      ],
      "text/plain": [
       "<IPython.core.display.Image object>"
      ]
     },
     "execution_count": 13,
     "metadata": {},
     "output_type": "execute_result"
    }
   ],
   "source": [
    "from IPython.display import Image\n",
    "Image(url='http://interactive.blockdiag.com/image?compression=deflate&encoding=base64&src=eJxLyslPzk7JTExXqOZSUHBU0LVTcAIRziDCBUS4ggg3BaAsWMLFmqsWAGeAC88') "
   ]
  },
  {
   "cell_type": "code",
   "execution_count": null,
   "metadata": {},
   "outputs": [],
   "source": []
  }
 ],
 "metadata": {
  "kernelspec": {
   "display_name": "Python 3",
   "language": "python",
   "name": "python3"
  },
  "language_info": {
   "codemirror_mode": {
    "name": "ipython",
    "version": 3
   },
   "file_extension": ".py",
   "mimetype": "text/x-python",
   "name": "python",
   "nbconvert_exporter": "python",
   "pygments_lexer": "ipython3",
   "version": "3.7.1"
  }
 },
 "nbformat": 4,
 "nbformat_minor": 2
}
