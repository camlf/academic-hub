{
 "cells": [
  {
   "cell_type": "markdown",
   "metadata": {
    "pycharm": {
     "metadata": false,
     "name": "#%%\n"
    }
   },
   "source": [
    "# Beer Cooling Modeling - Exercise\n",
    "\n",
    "Using the same dataset as for the ADF Prediction Demo notebook, this time we'll model the cooling phase. Similarly to the ADF Prediction with fermentation stages, this time we should identify cooling stages and compute elapsed times to align the data for regression and comparison. \n",
    "\n",
    "![Beer Cooling](https://academicpi.blob.core.windows.net/software/beer-cooling-setting.png)"
   ]
  },
  {
   "cell_type": "code",
   "execution_count": null,
   "metadata": {
    "pycharm": {
     "metadata": false,
     "name": "#%%\n"
    }
   },
   "outputs": [],
   "source": [
    "# For interaction with OCS\n",
    "from ocs_datascience import OCSClient, timer\n",
    "\n",
    "import configparser\n",
    "import datetime as dt\n",
    "from dateutil import parser\n",
    "import functools\n",
    "import time\n",
    "from enum import Enum\n",
    "from pathlib import Path\n",
    "\n",
    "import plotly.graph_objs as go\n",
    "import plotly.io as po\n",
    "import numpy as np\n",
    "import pandas as pd\n",
    "from scipy.optimize import curve_fit\n",
    "\n",
    "pd.set_option('display.expand_frame_repr', False)\n",
    "pd.options.mode.chained_assignment = None"
   ]
  },
  {
   "cell_type": "markdown",
   "metadata": {
    "pycharm": {
     "metadata": false,
     "name": "#%%\n"
    }
   },
   "source": [
    "The main function is `compute_cooling_predictions` with the following specification: \n",
    "\n",
    "### Input parameters:\n",
    "\n",
    "* Brand of beer\n",
    "* Which set of temperature sensor to use: bottom, middle, top\n",
    "* Training days: how many days (starting at 2017-03-17) to consider for cooling curve regression\n",
    "\n",
    "### Output: \n",
    "\n",
    "* Data used for regression\n",
    "* Data for regression curve \n",
    "* Number of fermentation found (must be at least 1) \n",
    "\n",
    "### Function steps (the number are referred to in the function body)\n",
    "\n",
    "| Step # | Function called | Description |  \n",
    "|-------|-----------------|:-------------:|\n",
    "| 0 | `get_all_brand_data` | get data for all 6 fermenter (this step happens before calling `compute_cooling_predictions`) |\n",
    "| 1 | none | keep only data of the selected brand given in input | \n",
    "| 2 | `brand_df_cleanup` | clean data: remove bad values, keep only right stages | \n",
    "| 3 | `fermentation_starts` | identify all fermentation starts | \n",
    "| 4 | `cooling_data_extraction` | build a dataframe with all cooling data \n",
    " \n",
    "All possible beer brands are:\n",
    "* Realtime Hops\n",
    "* 5450\n",
    "* Alistair\n",
    "* Kerberos\n",
    "* Red Wonder \n",
    "* Grey Horse \n",
    "\n",
    "We'll start with the following input parameters: \n",
    "\n",
    "* Brand: Realtime Hops\n",
    "* Temperature sensor: Middle\n",
    "* Training days: 20 days starting at 2017-03-17T07:00\n",
    "* Interval: 2 minutes (00:02:00)\n",
    "\n",
    "## Your task \n",
    "\n",
    "Function `compute_cooling_predictions` in the next cell contains `TODO` items in comments. Complete each of them to get a working notebook. If your code is correct, you should see the following graph appear at the bottom of this notebook:\n",
    "\n",
    "![Beer Cooling Prediction](https://academicpi.blob.core.windows.net/software/beer-cooling-prediction.png)"
   ]
  },
  {
   "cell_type": "markdown",
   "metadata": {
    "pycharm": {}
   },
   "source": [
    "## Function `compute_cooling_predictions`"
   ]
  },
  {
   "cell_type": "code",
   "execution_count": null,
   "metadata": {
    "pycharm": {}
   },
   "outputs": [],
   "source": [
    "# %%debug\n",
    "# import pdb\n",
    "# from pdb import set_trace as bp\n",
    "@timer\n",
    "def compute_cooling_predictions(all_brands_df, brand, temp_sensors, training_days, interval='00:01:00'):\n",
    "    \"\"\"\n",
    "    Input parameters:\n",
    "    * brand to consider\n",
    "    * temperature sensor position to use for computation\n",
    "    * number of days to compute prediction parameters\n",
    "    \"\"\"\n",
    "    # All possible brands, start with Realtime Hops \n",
    "    # ['5450' 'Bad Input' 5450 nan 'Alistair' 'Kerberos' 'Realtime Hops'\n",
    "    #  'Red Wonder' 'Grey Horse']\n",
    "    use_temp_position = {\n",
    "        Pos.bottom: temp_sensors['bottom'],\n",
    "        Pos.middle: temp_sensors['middle'],\n",
    "        Pos.top: temp_sensors['top']\n",
    "    }\n",
    "    # STEP 1: Keep only data for input brand\n",
    "    # TODO: write filter expression for all_brands_df, return result in brand_df\n",
    "    # \n",
    "    # =========== STUDENT BEGIN ==========\n",
    "    brand_df = all_brands_df[@@@ Your code here @@@]  \n",
    "    # =========== STUDENT END ==========\n",
    "    # \n",
    "    # STEP 2: clean data: remove bad values, keep only right stages\n",
    "    # TODO: complete code block within function brand_df_cleanup \n",
    "    # \n",
    "    brand_status_df = brand_df_cleanup(brand_df)\n",
    "    # \n",
    "    # STEP 3: identify all fermentation starts\n",
    "    # TODO: complete code of function fermentation_starts \n",
    "    #\n",
    "    fermentation_df = fermentation_starts(brand_status_df)\n",
    "    #\n",
    "    if len(fermentation_df) == 0:  \n",
    "        raise Exception('!!! No fermentation data for brand:', brand)\n",
    "    else:\n",
    "        print(f'  $$$ Number of fermentation for brand {brand}: {len(fermentation_df)}')\n",
    "    # \n",
    "    # STEP 4: build a datafame with all cooling data\n",
    "    # TODO: complete code of function cooling_data_extraction\n",
    "    #\n",
    "    cooling_data = cooling_data_extraction(fermentation_df, brand_status_df, use_temp_position)\n",
    "    # print(cooling_data)\n",
    "    # \n",
    "    # Verify that it was possible to extract the data for a complete cooling phase \n",
    "    # \n",
    "    if len(cooling_data) == 0:\n",
    "        raise Exception('!!! Error, no cooling data for brand:', brand)\n",
    "    else:       \n",
    "        ############### CURVE FIT REGRESSION BEGIN - DO NOT CHANGE #############\n",
    "        # Get all cooling data in a single dataframe\n",
    "        cool_df = pd.concat(cooling_data)\n",
    "\n",
    "        # sort the temperatures in a descending fashion\n",
    "        cool_df = cool_df.sort_values(by=['temperature'], ascending=False)\n",
    "\n",
    "        # get the y value for the x, this will be used in curve fitting\n",
    "        cool_df['temp_y'] = cool_df['temperature'].shift(-1)\n",
    "        cool_df = cool_df[:-1]  # drop the last row\n",
    "\n",
    "        # Select first label which has cooling data\n",
    "        cool_df_training = pd.DataFrame()\n",
    "        lbl = 0\n",
    "        while cool_df_training.empty:\n",
    "            cool_df_training = cool_df[cool_df.label == lbl]\n",
    "            lbl += 1\n",
    "            \n",
    "        x1_train = cool_df_training.temperature.values  # training temperature feature\n",
    "        x2_train = cool_df_training.Volume.values.astype(float)  # training Volume feature\n",
    "        x = [x1_train, x2_train]  # [temperature, volume]\n",
    "\n",
    "        # Training of non-linear least squares model\n",
    "        # Nonlinear curve-fitting pass a tuple in curve fitting\n",
    "        popt, pcov = curve_fit(temperature_profile, x, cool_df_training.temp_y.values) \n",
    "        \n",
    "        a = popt[0]  # get the coefficient a (alpha) in the model\n",
    "        b = popt[1]  # get the coefficient b (beta) in the model\n",
    " \n",
    "        # Get the initial point of all temperature curves\n",
    "        # y_first = [x1_train[0] + i for i in range(-8, 9, 4)]  # plot on either side of the initial temperature\n",
    "        y_first = [x1_train[0]]  # if you want to plot a single data field\n",
    "\n",
    "        # Compute the prediction for each individual start temperature\n",
    "        for y_predicted in y_first:\n",
    "            y_pred = [y_predicted]\n",
    "            cool_df_training = cool_df_training.sort_values(by=['tsc'])\n",
    "            for i in range(1, len(x2_train)):\n",
    "                y_predicted = y_predicted * (1 + (a / x2_train[i])) - (a * b / x2_train[i])\n",
    "                y_pred.append(y_predicted)\n",
    "                \n",
    "        ############### CURVE FIT REGRESSION END - DO NOT CHANGE #############\n",
    "\n",
    "    return cool_df, y_pred, cool_df_training, y_first[0], len(fermentation_df), len(cooling_data)"
   ]
  },
  {
   "cell_type": "markdown",
   "metadata": {
    "pycharm": {}
   },
   "source": [
    "### Standard OCS initialization code"
   ]
  },
  {
   "cell_type": "code",
   "execution_count": null,
   "metadata": {
    "pycharm": {}
   },
   "outputs": [],
   "source": [
    "config = configparser.ConfigParser()\n",
    "config.read('config.ini')\n",
    "\n",
    "ocs_client = OCSClient(config.get('Access', 'ApiVersion'),config.get('Access', 'Tenant'), config.get('Access', 'Resource'), \n",
    "                     config.get('Credentials', 'ClientId'), config.get('Credentials', 'ClientSecret'))\n",
    "\n",
    "namespace_id = config.get('Configurations', 'Namespace')\n",
    "headers = ocs_client.authorization_headers()\n",
    "headers"
   ]
  },
  {
   "cell_type": "markdown",
   "metadata": {
    "pycharm": {}
   },
   "source": [
    "### Auxiliary variables to make code more readable"
   ]
  },
  {
   "cell_type": "code",
   "execution_count": null,
   "metadata": {
    "pycharm": {}
   },
   "outputs": [],
   "source": [
    "# Sensor positions \n",
    "class Pos(Enum):\n",
    "    bottom = 1\n",
    "    middle = 2\n",
    "    top = 3\n",
    "\n",
    "# Legend: \n",
    "# TIC == Temperature Indicator Controller, PV == Process Value\n",
    "\n",
    "# TIC PV column names \n",
    "TIC_PV_COLUMNS = ['Bottom TIC PV', 'Middle TIC PV', 'Top TIC PV']\n",
    "# Dictionary of column names indexed by position \n",
    "process_value = {Pos.bottom: 'Bottom TIC PV', Pos.middle: 'Middle TIC PV', Pos.top: 'Top TIC PV'}\n",
    "\n",
    "# TIC OUT column names \n",
    "TIC_OUT_COLUMNS = ['Bottom TIC OUT', 'Middle TIC OUT', 'Top TIC OUT'] \n",
    "\n",
    "# Digital states - present in Dataview results, indicate a problem\n",
    "BAD_INPUT = 'Bad Input'\n",
    "IO_TIMEOUT = 'I/O Timeout'\n",
    "COMM_FAIL = 'Comm Fail'\n",
    "\n",
    "# All stages associated to the full cooling phase \n",
    "POST_FERMENTATION_STAGES = ['Fermentation', 'Free Rise', 'Diacetyl Rest', 'Cooling']"
   ]
  },
  {
   "cell_type": "markdown",
   "metadata": {
    "pycharm": {}
   },
   "source": [
    "### STEP 0 Cell: get fermenter vessels data \n",
    "\n",
    "Complete function `get_all_brand_data` using what you've seen in the ADF Prediction notebook"
   ]
  },
  {
   "cell_type": "code",
   "execution_count": null,
   "metadata": {
    "pycharm": {}
   },
   "outputs": [],
   "source": [
    "@timer\n",
    "def get_all_brand_data(num_days, start_timestamp, interval):\n",
    "    #\n",
    "    # \n",
    "    # TODO: complete code to return a single dataframe with all the required data \n",
    "    #   \n",
    "    # =========== STUDENT BEGIN ==========\n",
    "    start_time = parser.parse(@@@ Your code here @@@)\n",
    "    delta_time = @@@ Your code here @@@.(days=num_days)\n",
    "    end_timestamp = (@@@ Your code here @@@).isoformat()\n",
    "    df = ocs_client.get_all_fermenters_dataviews(@@@ Your code here @@@)\n",
    "    # =========== STUDENT END ==========\n",
    "    \n",
    "    return df \n",
    "\n",
    "# Test code \n",
    "# all_brands_df = get_all_brand_data(20, '2017-03-17T07:00', '00:01:00')\n",
    "# all_brands_df"
   ]
  },
  {
   "cell_type": "markdown",
   "metadata": {
    "pycharm": {}
   },
   "source": [
    "### STEP 2 Cell: clean data \n",
    "\n",
    "Complete each `TODO` section in the function `brand_df_cleanup`"
   ]
  },
  {
   "cell_type": "code",
   "execution_count": null,
   "metadata": {
    "pycharm": {}
   },
   "outputs": [],
   "source": [
    "@timer\n",
    "def brand_df_cleanup(brand_df):\n",
    "    # TODO: Remove all data point with bad input. \n",
    "    # All the following columns can have value BAD_INPUT: \n",
    "    #   Brand, Status, Bottom TIC PV, Middle TIC PV, Top TIC PV  \n",
    "    #     \n",
    "    brand_df = brand_df.drop(brand_df[brand_df['Brand'] == BAD_INPUT].index)\n",
    "    brand_df = brand_df.drop(brand_df[brand_df['Status'] == BAD_INPUT].index)\n",
    "    brand_df = brand_df.drop(brand_df[brand_df['Top TIC PV'] == BAD_INPUT].index)\n",
    "    # =========== STUDENT BEGIN ==========\n",
    "    brand_df = brand_df.drop(@@@ Your code here @@@) \n",
    "    brand_df = brand_df.drop(@@@ Your code here @@@)\n",
    "    # =========== STUDENT END ==========\n",
    "\n",
    "    # Keep only fermentation or post-fermentation stages\n",
    "    brand_status_df = brand_df[brand_df['Status'].isin(POST_FERMENTATION_STAGES)]\n",
    "\n",
    "    # Remove all data points from brand_status_df dataframe with communication issues\n",
    "    # TODO: for columns in TIC_PV_COLUMNS, remove all rows with communication failures status (COMM_FAIL)\n",
    "    #            and IO timeout (IO_TIMEOUT) \n",
    "    for tic_pv in TIC_PV_COLUMNS:\n",
    "        # =========== STUDENT BEGIN ==========\n",
    "        @@@ Your code here @@@\n",
    "        @@@ Your code here @@@\n",
    "        # =========== STUDENT END ==========\n",
    "        brand_status_df[tic_pv] = brand_status_df[tic_pv].astype(float)\n",
    "\n",
    "    return brand_status_df"
   ]
  },
  {
   "cell_type": "markdown",
   "metadata": {
    "pycharm": {}
   },
   "source": [
    "### STEP 3 Cell: get the list of rows when fermentation starts \n",
    "\n",
    "You need to identify rows where the Status is 'Fermentation' and the previous row is not 'Fermentation'. The syntax to access the status of the previous row is:\n",
    "\n",
    "    brand_df['Status'].shift(1)\n",
    "    \n",
    "Moreover it is possible to combine conditions to select dataframe rows with the syntax:\n",
    "\n",
    "    (condition1) & (condition2)"
   ]
  },
  {
   "cell_type": "code",
   "execution_count": null,
   "metadata": {
    "pycharm": {}
   },
   "outputs": [],
   "source": [
    "@timer \n",
    "def fermentation_starts(brand_df):\n",
    "    # =========== STUDENT BEGIN ==========\n",
    "    df = brand_df[(@@@ Your code here @@@ == 'Fermentation') & (@@@ Your code here @@@ != 'Fermentation')]\n",
    "    # =========== STUDENT END ==========\n",
    "    fermentation_starts = [row for _, row in df.iterrows()]\n",
    "    return fermentation_starts"
   ]
  },
  {
   "cell_type": "markdown",
   "metadata": {
    "pycharm": {}
   },
   "source": [
    "### STEP 4: Extract all rows related to cooling phase"
   ]
  },
  {
   "cell_type": "code",
   "execution_count": null,
   "metadata": {
    "pycharm": {}
   },
   "outputs": [],
   "source": [
    "@timer\n",
    "def cooling_data_extraction(fermentation_df, brand_status_df, use_temp_position):\n",
    "    # Provides the corrected time offset post fermentation\n",
    "    brand_status_df = fermentation_times(brand_status_df, fermentation_df, brand)\n",
    "\n",
    "    for tic_out in TIC_OUT_COLUMNS:\n",
    "        brand_status_df[tic_out] = pd.to_numeric(brand_status_df[tic_out], errors='coerce')\n",
    "        \n",
    "    # condition for it to be in cooling phase\n",
    "    # TODO: the condition is that 'Top TIC OUT', 'Middle TIC OUT' and 'Bottom TIC OUT' are above 99.99\n",
    "    #          \n",
    "    # =========== STUDENT BEGIN ==========\n",
    "    cool_stage = brand_status_df[\n",
    "       @@@ Your code here @@@ \n",
    "    ]\n",
    "    # =========== STUDENT END ==========\n",
    "\n",
    "    # get the first cooling step for each fermentation stage\n",
    "    cooling_start_frame = cool_stage.groupby('label').first().reset_index()\n",
    "\n",
    "    # Collect data only for the selected temperature position \n",
    "    cooling_data = []\n",
    "    for position in use_temp_position:\n",
    "        if use_temp_position[position]:\n",
    "            cooling_data.append(get_cooling_frames(cool_stage, cooling_start_frame, position))\n",
    "\n",
    "    return cooling_data"
   ]
  },
  {
   "cell_type": "markdown",
   "metadata": {
    "pycharm": {}
   },
   "source": [
    "## Legacy code cell --- do not change unless you know what you're doing"
   ]
  },
  {
   "cell_type": "code",
   "execution_count": null,
   "metadata": {
    "pycharm": {}
   },
   "outputs": [],
   "source": [
    "def get_cooling_frames(cool_stage, cooling_start_frame, position): \n",
    "    start_time = 0\n",
    "    end_time = 3.5  # in days, longest cooling period possible\n",
    "\n",
    "    cooling_column = 'Time since cooling'\n",
    "    cool_stage.loc[:, cooling_column] = -1\n",
    "    cooling_stage = pd.DataFrame()\n",
    "    if len(cooling_start_frame) > 0:\n",
    "        for index, row in cooling_start_frame.iterrows():\n",
    "            label = row['label2']  # get the unique label\n",
    "            cool_start_time = row['tsf3']  # get the unique start of cooling to each label\n",
    "            # Each unique label is associated with a fermentation stage for a brand\n",
    "            mask = (cool_stage['label2'] == label)  # get those rows with that same label\n",
    "            cool_stage_valid = cool_stage[mask]\n",
    "\n",
    "            tic_pv = process_value[position]\n",
    "            # get only frames that have the bottom process variable greater than 50\n",
    "            if float(row[tic_pv]) > 50:  # and keep [CF]\n",
    "                # subtract the start of cooling from each individual cooling step\n",
    "                cool_stage.loc[mask, cooling_column] = cool_stage_valid['tsf3'] - cool_start_time\n",
    "\n",
    "                cool_stage_current = cool_stage[(cool_stage[cooling_column] >= start_time) &\n",
    "                                                (cool_stage[cooling_column] < end_time)]\n",
    "                # make sure the labels are all positive, make sure these are post fermentation stages\n",
    "                cool_stage_current = cool_stage_current[cool_stage_current['label'] >= 0]\n",
    "                # get only the max of the post fermentation stages\n",
    "                cool_stage_current[tic_pv] = cool_stage_current.groupby([cooling_column])[tic_pv].transform(max)\n",
    "                cool_stage_current = cool_stage_current.rename(columns={tic_pv: 'temperature', cooling_column: 'tsc'})\n",
    "                cool_stage_current = cool_stage_current[['temperature', 'tsc', 'Brand', 'label', 'Volume']]\n",
    "                cooling_stage = cool_stage_current\n",
    "    else:\n",
    "        print(\"!!! Sorry no cooling stage found!\")\n",
    "\n",
    "    return cooling_stage\n",
    "\n",
    "# Get the time since fermentation\n",
    "@timer\n",
    "def fermentation_times(brand_frame, fermentation_frames, brand):\n",
    "    brand_frame['tsf2'] = 100000  # initializing the temp variables\n",
    "    brand_frame['tsf3'] = 100000  # init the temp variables\n",
    "    brand_frame['label'] = -1  # label is to label all fermentation processes\n",
    "    count = 0\n",
    "    for index, fermentation_frame in enumerate(fermentation_frames):\n",
    "        fermentation_time = fermentation_frame['Timestamp']\n",
    "        brand_frame['label'] = brand_frame['Timestamp'].apply(\n",
    "            lambda x: count if pd.Timestamp(x) >= pd.Timestamp(fermentation_time) else -1)\n",
    "        brand_frame['tsf2'] = brand_frame['Timestamp'].apply(\n",
    "            lambda x: ((pd.Timestamp(x)) - (pd.Timestamp(fermentation_time))).total_seconds() if pd.Timestamp(\n",
    "                x) >= pd.Timestamp(fermentation_time) else 1000000000)\n",
    "        brand_frame['tsf2'] = brand_frame['tsf2'].apply(lambda x: x / 86400)  # convert time to days\n",
    "        if count > 0:\n",
    "            # the min of the two is the actual time since fermentation start\n",
    "            brand_frame['tsf2'] = brand_frame[['tsf2', 'tsf3']].min(axis=1)\n",
    "            mask = (brand_frame['label'] == -1)\n",
    "            brand_frame_valid = brand_frame[mask]\n",
    "            brand_frame.loc[mask, 'label'] = brand_frame_valid['label2']\n",
    "\n",
    "        brand_frame['tsf3'] = brand_frame['tsf2']\n",
    "        brand_frame['label2'] = brand_frame['label']\n",
    "        count += 1\n",
    "\n",
    "    # if there is any zero just remove that\n",
    "    brand_frame = brand_frame[(brand_frame['tsf3'] <= 100000) & (brand_frame['label2'] >= 0)]\n",
    "\n",
    "    return brand_frame"
   ]
  },
  {
   "cell_type": "markdown",
   "metadata": {
    "pycharm": {}
   },
   "source": [
    "## Temperature equation\n",
    "\n",
    "The cell bellow implementation this equation:\n",
    "\n",
    "![Cooling equation](https://academicpi.blob.core.windows.net/software/cooling-equation.png)\n",
    "\n",
    "The curve fitting algorithm finds the value of `a` (alpha) and `b` (beta)"
   ]
  },
  {
   "cell_type": "code",
   "execution_count": null,
   "metadata": {
    "pycharm": {}
   },
   "outputs": [],
   "source": [
    "def temperature_profile(x, a, b):\n",
    "    # Unpack x values\n",
    "    temperature = x[0]\n",
    "    volume = x[1]\n",
    "    return np.multiply(1 + np.multiply(a, np.reciprocal(volume)), temperature) - a * b * np.reciprocal(volume)"
   ]
  },
  {
   "cell_type": "markdown",
   "metadata": {
    "pycharm": {},
    "tags": [
     "parameters"
    ]
   },
   "source": [
    "---\n",
    "---\n",
    "# Main section \n",
    "---\n",
    "---\n",
    "Once all functions above are fully implemented, below are the cell to:\n",
    "\n",
    "1. Set the input parameters\n",
    "2. Read the input dataframe\n",
    "3. Call `compute_cooling_predictions`\n",
    "4. Plot result data\n",
    "\n",
    "Note that each time you touch the code of a function in a cell, you have to execute that cell for that code to become effective. You can come back here and then rerun the 1-2-3-4 sequence to check the new result. "
   ]
  },
  {
   "cell_type": "code",
   "execution_count": null,
   "metadata": {
    "pycharm": {},
    "tags": [
     "parameters"
    ]
   },
   "outputs": [],
   "source": [
    "# Selected brand\n",
    "brand = 'Realtime Hops'\n",
    "# Temperature sensor position to consider\n",
    "temp_sensors = {'bottom': False, 'middle': True, 'top': False}\n",
    "training_days = 20\n",
    "interval = '00:02:00'"
   ]
  },
  {
   "cell_type": "markdown",
   "metadata": {
    "pycharm": {},
    "tags": [
     "parameters"
    ]
   },
   "source": [
    "### Development tip\n",
    "\n",
    "You've seen that requesting for a Dataview result takes some time. Development of a notebook involves running code over and over, so you'll want to avoid long running steps when possible. This is why you can run the cell below once, with the resulting dataframe saved in variable `all_brands_df`. If you don't change any of its input parameter, `all_brands_df` is still valid and can be reused when you run the main function `compute_cooling_predictions` below. "
   ]
  },
  {
   "cell_type": "code",
   "execution_count": null,
   "metadata": {
    "pycharm": {},
    "tags": [
     "parameters"
    ]
   },
   "outputs": [],
   "source": [
    "all_brands_df = get_all_brand_data(training_days, '2017-03-17T07:00', interval)"
   ]
  },
  {
   "cell_type": "markdown",
   "metadata": {
    "pycharm": {}
   },
   "source": [
    "### Calling the main function `compute_cooling_predictions`"
   ]
  },
  {
   "cell_type": "code",
   "execution_count": null,
   "metadata": {
    "pycharm": {}
   },
   "outputs": [],
   "source": [
    "cool_df, predictions, cool_df_training, start_temp, num_fermentations, num_coolings = \\\n",
    "    compute_cooling_predictions(all_brands_df, brand, temp_sensors, training_days, interval)"
   ]
  },
  {
   "cell_type": "markdown",
   "metadata": {
    "pycharm": {}
   },
   "source": [
    "## Plot prediction curve along with actual data \n",
    "\n",
    "Note: you can zoom into the graph to see how the prediction and data actually differ "
   ]
  },
  {
   "cell_type": "code",
   "execution_count": null,
   "metadata": {
    "pycharm": {}
   },
   "outputs": [],
   "source": [
    "# Plotly trace for prediction curve\n",
    "label = f'Prediction curve, start temp: {start_temp:5.2f}F'\n",
    "prediction_trace = go.Scatter(x = cool_df_training.tsc.values, \n",
    "                              y = predictions, \n",
    "                              mode='lines', \n",
    "                              name=label, \n",
    "                              marker=dict(color='blue'))\n",
    "\n",
    "\n",
    "data_trace = go.Scatter(x = cool_df.tsc.values, \n",
    "                        y = cool_df.temperature.values, \n",
    "                        mode='markers', \n",
    "                        name='Actual Data', \n",
    "                        opacity=0.4,\n",
    "                        marker=dict(color='orange'))\n",
    "\n",
    "\n",
    "plot_title = f'Cooling of {brand} beer, {training_days} days, {num_fermentations} fermentation(s),<br>' \\\n",
    "             f'interval={interval} {temp_sensors}'\n",
    "layout =  go.Layout(xaxis=dict(title='Cooling time (days)'), \n",
    "                    yaxis=dict(title='Temperature (F)'), \n",
    "                    title=plot_title)\n",
    "\n",
    "fig = go.FigureWidget(data=[prediction_trace, data_trace], layout=layout)\n",
    "fig"
   ]
  },
  {
   "cell_type": "markdown",
   "metadata": {
    "pycharm": {}
   },
   "source": [
    "## ---------- Your graph will appear above this line if no error occured ----------"
   ]
  },
  {
   "cell_type": "markdown",
   "metadata": {
    "pycharm": {}
   },
   "source": [
    "-----\n",
    "-----\n",
    "-----\n",
    "# Extra Credits\n",
    "\n",
    "![Beer Cooling Outlier Extra](https://academicpi.blob.core.windows.net/software/beer-cooling-prediction-extra.png)"
   ]
  }
 ],
 "metadata": {
  "kernelspec": {
   "display_name": "Python 3",
   "language": "python",
   "name": "python3"
  },
  "language_info": {
   "codemirror_mode": {
    "name": "ipython",
    "version": 3
   },
   "file_extension": ".py",
   "mimetype": "text/x-python",
   "name": "python",
   "nbconvert_exporter": "python",
   "pygments_lexer": "ipython3",
   "version": "3.7.1"
  },
  "stem_cell": {
   "cell_type": "raw",
   "metadata": {
    "pycharm": {
     "metadata": false
    }
   },
   "source": ""
  }
 },
 "nbformat": 4,
 "nbformat_minor": 2
}
