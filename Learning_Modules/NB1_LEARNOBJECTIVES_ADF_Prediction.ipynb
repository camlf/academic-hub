{
 "cells": [
  {
   "cell_type": "markdown",
   "metadata": {
    "toc": true
   },
   "source": [
    "<h1>Table of Contents<span class=\"tocSkip\"></span></h1>\n",
    "<div class=\"toc\"><ul class=\"toc-item\"><li><span><a href=\"#Learning-Objectives---Introduction-to-Time-Series-Analysis:-Predicting-the-Apparent-Degree-of-Fermentation-(ADF)\" data-toc-modified-id=\"Learning-Objectives---Introduction-to-Time-Series-Analysis:-Predicting-the-Apparent-Degree-of-Fermentation-(ADF)-1\"><span class=\"toc-item-num\">1&nbsp;&nbsp;</span>Learning Objectives - Introduction to Time-Series Analysis: Predicting the Apparent Degree of Fermentation (ADF)</a></span><ul class=\"toc-item\"><li><span><a href=\"#Exercise-Overview\" data-toc-modified-id=\"Exercise-Overview-1.1\"><span class=\"toc-item-num\">1.1&nbsp;&nbsp;</span>Exercise Overview</a></span></li><li><span><a href=\"#In-More-Detail\" data-toc-modified-id=\"In-More-Detail-1.2\"><span class=\"toc-item-num\">1.2&nbsp;&nbsp;</span>In More Detail</a></span></li></ul></li></ul></div>"
   ]
  },
  {
   "cell_type": "markdown",
   "metadata": {},
   "source": [
    "---\n",
    "# Learning Objectives - Introduction to Time-Series Analysis: Predicting the Apparent Degree of Fermentation (ADF)\n",
    "---\n",
    "At the end of this [exercise](.NB1_EXERCISE_ADF_Prediction.ipynb) students will be able to:\n",
    "1. Retrieve process data using a cloud-based platform (OSIsoft Cloud Services or OCS) which stores real industrial sensor data.\n",
    "2. Perform basic operations using Pandas, a software library widely-used in data science applications\n",
    "3. Perform basic data-cleansing operations to ensure that the quality of the data fits the analysis goals\n",
    "4. Perform linear and piecewise linear regression using Python\n",
    "5. Evaluate the quality of a model fit\n",
    "6. Formulate strategies for creating predictive models of real (i.e. dirty, intermittent) process data\n"
   ]
  },
  {
   "cell_type": "markdown",
   "metadata": {},
   "source": [
    "---\n",
    "## Exercise Overview\n",
    "\n",
    "Students will be given an overview into why creating predictive models could be valuable to industry (in this case, the ADF prediction model saved Deschutes Brewery \\$750 k in capital investments). Because real process data is \"dirty\", students will appreciate the importance of domain knowledge in being able to organize and clean the data to fit analysis goals. Furthermore, Part 4 of the exercise notebook has missing pieces of code students will have to fill in order for the notebook to run properly and produce results; this ensures that students will interact with the notebook and pay attention to how code is written.\n",
    "\n",
    "**The ADF Prediction exercise notebook is divided into five parts:**\n",
    "\n",
    "[Part 1](./NB1_EXERCISE_ADF_Prediction.ipynb#section_1): Specify time period, time granularity, fermentor vessels, brand of interest, and other parameters.\n",
    "\n",
    "[Part 2](./NB1_EXERCISE_ADF_Prediction.ipynb#section_2): Use OSIsoft Cloud Services (OCS) to obtain real process data from Deschutes Brewery ([2a](./NB1_EXERCISE_ADF_Prediction.ipynb#section_2a)) and store it into a dataframe ([2b](./NB1_EXERCISE_ADF_Prediction.ipynb#section_2b)).\n",
    "\n",
    "[Part 3](./NB1_EXERCISE_ADF_Prediction.ipynb#section_3): Create functions which utilize Plotly to preview the ADF profile ([3a](./NB1_EXERCISE_ADF_Prediction.ipynb#section_3a)) and create plots which will help the user to assess the quality of the model fit ([3b](./NB1_EXERCISE_ADF_Prediction.ipynb#section_3b)).\n",
    "\n",
    "[Part 4](./NB1_EXERCISE_ADF_Prediction.ipynb#section_4): Pre-process the brewery data before fitting and analysis. Remove obviously bad data points and unnecessary attributes ([4a](./NB1_EXERCISE_ADF_Prediction.ipynb#section_4a)); identify fermentation batches and compute the duration of fermentation ([4c](./NB1_EXERCISE_ADF_Prediction.ipynb#section_4c)); manually remove emergent outliers ([4e](./NB1_EXERCISE_ADF_Prediction.ipynb#section_4e)).\n",
    "\n",
    "\n",
    "[Part 5](./NB1_EXERCISE_ADF_Prediction.ipynb#section_5): Fit the cleaned up data frame to a linear model ([5a](./NB1_EXERCISE_ADF_Prediction.ipynb#section_5a)) and then to a piecewise linear model ([5b](./NB1_EXERCISE_ADF_Prediction.ipynb#section_5b)). Evaluate and compare the model fits.\n",
    "\n",
    "**At the end of the exercise, students will be asked to think about the following questions:**\n",
    "1. Which of the models used in this notebook performed the best and why?\n",
    "2. Can you think of a different model that would perform better than either of the models used in this notebook?\n",
    "3. Are there any trade-offs to using more complex models? If so, what are they\n",
    "4. Enumerate the reasons why we can't immediately use the raw process data for model fitting.\n"
   ]
  },
  {
   "cell_type": "markdown",
   "metadata": {},
   "source": [
    "---\n",
    "## In More Detail\n",
    "**In the notebook, students will learn how to initialize OCS by authenticating their purpose and directing calls to the right namespace:**\n",
    "```python\n",
    "config = configparser.ConfigParser()\n",
    "config.read(\"config.ini\")\n",
    "\n",
    "hub_client = HubClient(\n",
    "    config.get(\"Access\", \"ApiVersion\"),\n",
    "    config.get(\"Access\", \"Tenant\"),\n",
    "    config.get(\"Access\", \"Resource\"),\n",
    "    config.get(\"Credentials\", \"ClientId\"),\n",
    "    config.get(\"Credentials\", \"ClientSecret\"),\n",
    ")\n",
    "\n",
    "namespace_id = config.get(\"Configurations\", \"Namespace\")\n",
    "print (f\"namespace_id: '{namespace_id}'\")\n",
    "```\n",
    "\n",
    "**The students will learn to efficiently identify fermentation batches and their duration by leveraging Pandas features:**\n",
    "```python\n",
    "# find the start of fermentation (ADF ~= 0.0)\n",
    "fermentation_starts = all_brands_df[abs(all_brands_df[\"ADF\"]) <= 0.000001].reset_index()\n",
    "\n",
    "# create new dataframe column for recording the time evolution of fermentation\n",
    "all_brands_df[\"Elapsed\"] = -1\n",
    "\n",
    "# compute the time elapsed since the starts of a fermentation\n",
    "for count, ferm_begin in fermentation_starts.iterrows():\n",
    "\n",
    "    # get the timestamp for each start of fermentation\n",
    "    fermentation_time = pd.Timestamp(ferm_begin[\"Timestamp\"])\n",
    "\n",
    "    # get booleans for the new fermentation batch\n",
    "    batch_boolean = (\n",
    "        all_brands_df[\"Timestamp\"].apply(lambda t: pd.Timestamp(t)) >= fermentation_time\n",
    "    )\n",
    "\n",
    "    # find time elapsed since the start of fermentation in units of hours\n",
    "    all_brands_df.loc[batch_boolean, \"Elapsed\"] = all_brands_df.loc[\n",
    "        batch_boolean, \"Timestamp\"\n",
    "    ].apply(lambda t: (pd.Timestamp(t) - fermentation_time).total_seconds() / 3600.0)\n",
    "```\n",
    "\n",
    "**Students will be given the opportunity to use their judgment to fill in missing pieces of code and complete filter expressions like the following:**\n",
    "```python\n",
    "# filter out outliers\n",
    "# TODO: Complete filter expressions. \n",
    "# HINT: We want data *not* in some outlier region!\n",
    "# TIP: May use as many filter expressions as necessary\n",
    "# =========== STUDENT BEGIN ==========\n",
    "all_brands_df = all_brands_df[\n",
    "    ~((all_brands_df[\"Elapsed\"] < 20) & (all_brands_df[\"ADF\"] > 0.5))\n",
    "    & @@@ Your code here @@@\n",
    "    & @@@ Your code here ??? @@@\n",
    "]\n",
    "# =========== STUDENT END ==========\n",
    "```\n",
    "**Ultimately, the goal is for the students to fit the data to a linear model and a piecewise model and then assess the model fits:**\n",
    "![](https://academicpi.blob.core.windows.net/images/NB1_Analyze_Fit.png)"
   ]
  },
  {
   "cell_type": "code",
   "execution_count": null,
   "metadata": {},
   "outputs": [],
   "source": []
  }
 ],
 "metadata": {
  "kernelspec": {
   "display_name": "Python 3",
   "language": "python",
   "name": "python3"
  },
  "language_info": {
   "codemirror_mode": {
    "name": "ipython",
    "version": 3
   },
   "file_extension": ".py",
   "mimetype": "text/x-python",
   "name": "python",
   "nbconvert_exporter": "python",
   "pygments_lexer": "ipython3",
   "version": "3.7.3"
  },
  "toc": {
   "base_numbering": 1,
   "nav_menu": {},
   "number_sections": true,
   "sideBar": true,
   "skip_h1_title": false,
   "title_cell": "Table of Contents",
   "title_sidebar": "Contents",
   "toc_cell": true,
   "toc_position": {},
   "toc_section_display": true,
   "toc_window_display": true
  }
 },
 "nbformat": 4,
 "nbformat_minor": 4
}
